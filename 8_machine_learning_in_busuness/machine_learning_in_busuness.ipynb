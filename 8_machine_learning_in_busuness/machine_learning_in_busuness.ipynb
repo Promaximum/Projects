{
 "cells": [
  {
   "cell_type": "markdown",
   "id": "2a7e6977",
   "metadata": {},
   "source": [
    "# Выбор локации для скважины"
   ]
  },
  {
   "cell_type": "markdown",
   "id": "f8e44b29",
   "metadata": {},
   "source": [
    "Поступила задача от добывающей компании «X». Нужно решить, где бурить новую скважину.\n",
    "\n",
    "Нам предоставлены пробы нефти в трёх регионах: в каждом 10 000 месторождений, где измерили качество нефти и объём её запасов. Необходимо построить модель машинного обучения, которая поможет определить регион, где добыча принесёт наибольшую прибыль. Также необходимо проанализировать возможную прибыль и риски техникой *Bootstrap.*\n",
    "\n",
    "Шаги для выбора локации:\n",
    "\n",
    "- В избранном регионе ищут месторождения, для каждого определяют значения признаков;\n",
    "- Строят модель и оценивают объём запасов;\n",
    "- Выбирают месторождения с самым высокими оценками значений. Количество месторождений зависит от бюджета компании и стоимости разработки одной скважины;\n",
    "- Прибыль равна суммарной прибыли отобранных месторождений."
   ]
  },
  {
   "cell_type": "markdown",
   "id": "0401d762",
   "metadata": {},
   "source": [
    "**Описание данных**\n",
    "Данные геологоразведки трёх регионов находятся в файлах:\n",
    "* `/datasets/geo_data_0.csv.` \n",
    "* `/datasets/geo_data_1.csv.` \n",
    "* `/datasets/geo_data_2.csv.` \n",
    "* id — уникальный идентификатор скважины;\n",
    "* f0, f1, f2 — три признака точек (неважно, что они означают, но сами признаки значимы);\n",
    "* product — объём запасов в скважине (тыс. баррелей).\n"
   ]
  },
  {
   "cell_type": "markdown",
   "id": "9bad5033",
   "metadata": {},
   "source": [
    "Условия задачи:\n",
    "* Для обучения модели подходит только линейная регрессия (остальные — недостаточно предсказуемые).\n",
    "* При разведке региона исследуют 500 точек, из которых с помощью машинного обучения выбирают 200 лучших для разработки.\n",
    "* Бюджет на разработку скважин в регионе — 10 млрд рублей.\n",
    "* При нынешних ценах один баррель сырья приносит 450 рублей дохода. Доход с каждой единицы продукта составляет 450 тыс. рублей, поскольку объём указан в тысячах баррелей.\n",
    "* После оценки рисков нужно оставить лишь те регионы, в которых вероятность убытков меньше 2.5%. Среди них выбирают регион с наибольшей средней прибылью.\n",
    "\n",
    "Данные синтетические: детали контрактов и характеристики месторождений не разглашаются."
   ]
  },
  {
   "cell_type": "markdown",
   "id": "8cb170e0",
   "metadata": {},
   "source": [
    "## Шаг 1. Загрузка и подготовка данных"
   ]
  },
  {
   "cell_type": "code",
   "execution_count": 91,
   "id": "88ff4760",
   "metadata": {},
   "outputs": [],
   "source": [
    "import pandas as pd\n",
    "import numpy as np\n",
    "import matplotlib.pyplot as plt\n",
    "from sklearn.model_selection import train_test_split\n",
    "from sklearn.linear_model import LinearRegression\n",
    "from sklearn.metrics import mean_squared_error\n",
    "from sklearn.preprocessing import StandardScaler\n",
    "from sklearn.utils import shuffle\n",
    "import warnings\n",
    "warnings.filterwarnings(action='ignore', category=FutureWarning)"
   ]
  },
  {
   "cell_type": "code",
   "execution_count": 92,
   "id": "ec2887c0",
   "metadata": {},
   "outputs": [],
   "source": [
    "try:\n",
    "    geo_data_0 = pd.read_csv('C:\\Data\\geo_data_0.csv') #загру\n",
    "    geo_data_1 = pd.read_csv('C:\\Data\\geo_data_1.csv')\n",
    "    geo_data_2 = pd.read_csv('C:\\Data\\geo_data_2.csv')\n",
    "except:\n",
    "    geo_data_0 = pd.read_csv('/datasets/geo_data_0.csv')\n",
    "    geo_data_1 = pd.read_csv('/datasets/geo_data_1.csv')\n",
    "    geo_data_2 = pd.read_csv('/datasets/geo_data_2.csv')"
   ]
  },
  {
   "cell_type": "code",
   "execution_count": 93,
   "id": "f69d91d8",
   "metadata": {},
   "outputs": [
    {
     "name": "stdout",
     "output_type": "stream",
     "text": [
      "<class 'pandas.core.frame.DataFrame'>\n",
      "RangeIndex: 100000 entries, 0 to 99999\n",
      "Data columns (total 5 columns):\n",
      " #   Column   Non-Null Count   Dtype  \n",
      "---  ------   --------------   -----  \n",
      " 0   id       100000 non-null  object \n",
      " 1   f0       100000 non-null  float64\n",
      " 2   f1       100000 non-null  float64\n",
      " 3   f2       100000 non-null  float64\n",
      " 4   product  100000 non-null  float64\n",
      "dtypes: float64(4), object(1)\n",
      "memory usage: 3.8+ MB\n",
      "\n",
      "<class 'pandas.core.frame.DataFrame'>\n",
      "RangeIndex: 100000 entries, 0 to 99999\n",
      "Data columns (total 5 columns):\n",
      " #   Column   Non-Null Count   Dtype  \n",
      "---  ------   --------------   -----  \n",
      " 0   id       100000 non-null  object \n",
      " 1   f0       100000 non-null  float64\n",
      " 2   f1       100000 non-null  float64\n",
      " 3   f2       100000 non-null  float64\n",
      " 4   product  100000 non-null  float64\n",
      "dtypes: float64(4), object(1)\n",
      "memory usage: 3.8+ MB\n",
      "\n",
      "<class 'pandas.core.frame.DataFrame'>\n",
      "RangeIndex: 100000 entries, 0 to 99999\n",
      "Data columns (total 5 columns):\n",
      " #   Column   Non-Null Count   Dtype  \n",
      "---  ------   --------------   -----  \n",
      " 0   id       100000 non-null  object \n",
      " 1   f0       100000 non-null  float64\n",
      " 2   f1       100000 non-null  float64\n",
      " 3   f2       100000 non-null  float64\n",
      " 4   product  100000 non-null  float64\n",
      "dtypes: float64(4), object(1)\n",
      "memory usage: 3.8+ MB\n"
     ]
    }
   ],
   "source": [
    "geo_data_0.info() #изучим данные\n",
    "print()\n",
    "geo_data_1.info()\n",
    "print()\n",
    "geo_data_2.info()"
   ]
  },
  {
   "cell_type": "code",
   "execution_count": 94,
   "id": "08665bfd",
   "metadata": {},
   "outputs": [],
   "source": [
    "def check_columns(data_frame):\n",
    "    for column in data_frame.columns:\n",
    "        print('Уникальные значения столбца', column)\n",
    "        print(data_frame[column].unique())"
   ]
  },
  {
   "cell_type": "code",
   "execution_count": 95,
   "id": "cef47c3f",
   "metadata": {},
   "outputs": [
    {
     "name": "stdout",
     "output_type": "stream",
     "text": [
      "Уникальные значения столбца id\n",
      "['txEyH' '2acmU' '409Wp' ... '3rnvd' '7kl59' '1CWhH']\n",
      "Уникальные значения столбца f0\n",
      "[0.70574498 1.33471129 1.02273226 ... 1.02958465 0.99816289 1.76475393]\n",
      "Уникальные значения столбца f1\n",
      "[-0.4978225  -0.34016425  0.15199044 ...  0.01878693 -0.52858167\n",
      " -0.26641676]\n",
      "Уникальные значения столбца f2\n",
      "[ 1.22116995  4.36508033  1.41992624 ... -1.34830814  1.58386866\n",
      "  5.72284937]\n",
      "Уникальные значения столбца product\n",
      "[105.28006184  73.03775027  85.26564713 ...  64.37544259  74.04076435\n",
      " 149.63324561]\n",
      "\n",
      "Уникальные значения столбца id\n",
      "['kBEdx' '62mP7' 'vyE1P' ... '09gWa' 'rqwUm' 'relB0']\n",
      "Уникальные значения столбца f0\n",
      "[-15.00134818  14.27208781   6.26318735 ...  -7.37889139   0.66571381\n",
      "  -3.42613898]\n",
      "Уникальные значения столбца f1\n",
      "[-8.27599995 -3.47508322 -5.94838579 ... -3.08410387 -6.15259286\n",
      " -7.7942742 ]\n",
      "Уникальные значения столбца f2\n",
      "[-5.87601369e-03  9.99182737e-01  5.00116016e+00 ...  4.99865060e+00\n",
      "  1.00014635e+00 -3.29851829e-03]\n",
      "Уникальные значения столбца product\n",
      "[  3.17910258  26.95326103 134.76630516 137.94540774  84.03888568\n",
      " 110.99214671  53.90652206   0.         107.81304413  57.08562465\n",
      "  30.13236361  80.85978309]\n",
      "\n",
      "Уникальные значения столбца id\n",
      "['fwXo0' 'WJtFt' 'ovLUW' ... 'tKPY3' 'nmxp2' 'V9kWn']\n",
      "Уникальные значения столбца f0\n",
      "[-1.1469871   0.2627779   0.19458728 ... -1.19993432 -2.41989641\n",
      " -2.55142066]\n",
      "Уникальные значения столбца f1\n",
      "[ 0.96332792  0.26983896  0.289035   ... -2.95763723  2.41722066\n",
      " -2.02562514]\n",
      "Уникальные значения столбца f2\n",
      "[-0.82896492 -2.53018652 -5.58643277 ...  5.219411   -5.54844392\n",
      "  6.09089066]\n",
      "Уникальные значения столбца product\n",
      "[ 27.75867323  56.06969663  62.87191005 ... 157.08007975  51.79525299\n",
      " 102.77576749]\n"
     ]
    }
   ],
   "source": [
    "check_columns(geo_data_0)\n",
    "print()\n",
    "check_columns(geo_data_1)\n",
    "print()\n",
    "check_columns(geo_data_2)"
   ]
  },
  {
   "cell_type": "code",
   "execution_count": 96,
   "id": "5c3e19c5",
   "metadata": {},
   "outputs": [
    {
     "data": {
      "text/plain": [
       "0"
      ]
     },
     "execution_count": 96,
     "metadata": {},
     "output_type": "execute_result"
    }
   ],
   "source": [
    "geo_data_0.duplicated().sum()\n"
   ]
  },
  {
   "cell_type": "code",
   "execution_count": 97,
   "id": "53daf66a",
   "metadata": {},
   "outputs": [
    {
     "data": {
      "text/plain": [
       "0"
      ]
     },
     "execution_count": 97,
     "metadata": {},
     "output_type": "execute_result"
    }
   ],
   "source": [
    "geo_data_1.duplicated().sum()"
   ]
  },
  {
   "cell_type": "code",
   "execution_count": 98,
   "id": "aef55d26",
   "metadata": {
    "scrolled": true
   },
   "outputs": [
    {
     "data": {
      "text/plain": [
       "0"
      ]
     },
     "execution_count": 98,
     "metadata": {},
     "output_type": "execute_result"
    }
   ],
   "source": [
    "geo_data_2.duplicated().sum()"
   ]
  },
  {
   "cell_type": "markdown",
   "id": "e61f4675",
   "metadata": {},
   "source": [
    "**Дубликатов нет.**"
   ]
  },
  {
   "cell_type": "code",
   "execution_count": 99,
   "id": "f3871d20",
   "metadata": {
    "scrolled": false
   },
   "outputs": [
    {
     "data": {
      "text/plain": [
       "id         0\n",
       "f0         0\n",
       "f1         0\n",
       "f2         0\n",
       "product    0\n",
       "dtype: int64"
      ]
     },
     "execution_count": 99,
     "metadata": {},
     "output_type": "execute_result"
    }
   ],
   "source": [
    "geo_data_0.isna().sum()"
   ]
  },
  {
   "cell_type": "code",
   "execution_count": 100,
   "id": "ee77dc48",
   "metadata": {},
   "outputs": [
    {
     "data": {
      "text/plain": [
       "id         0\n",
       "f0         0\n",
       "f1         0\n",
       "f2         0\n",
       "product    0\n",
       "dtype: int64"
      ]
     },
     "execution_count": 100,
     "metadata": {},
     "output_type": "execute_result"
    }
   ],
   "source": [
    "geo_data_1.isna().sum()"
   ]
  },
  {
   "cell_type": "code",
   "execution_count": 101,
   "id": "4bb4b767",
   "metadata": {},
   "outputs": [
    {
     "data": {
      "text/plain": [
       "id         0\n",
       "f0         0\n",
       "f1         0\n",
       "f2         0\n",
       "product    0\n",
       "dtype: int64"
      ]
     },
     "execution_count": 101,
     "metadata": {},
     "output_type": "execute_result"
    }
   ],
   "source": [
    "geo_data_2.isna().sum()"
   ]
  },
  {
   "cell_type": "markdown",
   "id": "c1959f1d",
   "metadata": {},
   "source": [
    "**Пропусков нет нет**"
   ]
  },
  {
   "cell_type": "markdown",
   "id": "49f60a08",
   "metadata": {},
   "source": [
    "**Удалим столбцы id, поскольку они не несут существенной информации для исследования**"
   ]
  },
  {
   "cell_type": "code",
   "execution_count": 102,
   "id": "51a3654d",
   "metadata": {},
   "outputs": [],
   "source": [
    "geo_data_0 = geo_data_0.drop(['id'], axis=1)\n",
    "geo_data_1 = geo_data_1.drop(['id'], axis=1)\n",
    "geo_data_2 = geo_data_2.drop(['id'], axis=1)"
   ]
  },
  {
   "cell_type": "markdown",
   "id": "fa800125",
   "metadata": {},
   "source": [
    "**Проверим число нулевых значений**"
   ]
  },
  {
   "cell_type": "code",
   "execution_count": 103,
   "id": "561dbc4b",
   "metadata": {},
   "outputs": [],
   "source": [
    "def check_zeros(data, target_name):\n",
    "    zeros = data[data[target_name] == 0][target_name].count()\n",
    "    percent = zeros / data.shape[0]\n",
    "    print('Количество нулевых знчений:', zeros)\n",
    "    print('Процент нулевых значений:', percent)\n",
    "        "
   ]
  },
  {
   "cell_type": "code",
   "execution_count": 104,
   "id": "15615c4c",
   "metadata": {},
   "outputs": [
    {
     "name": "stdout",
     "output_type": "stream",
     "text": [
      "Количество нулевых знчений: 1\n",
      "Процент нулевых значений: 1e-05\n",
      "\n",
      "Количество нулевых знчений: 8235\n",
      "Процент нулевых значений: 0.08235\n",
      "\n",
      "Количество нулевых знчений: 1\n",
      "Процент нулевых значений: 1e-05\n"
     ]
    }
   ],
   "source": [
    "check_zeros(geo_data_0, 'product')\n",
    "print()\n",
    "check_zeros(geo_data_1, 'product')\n",
    "print()\n",
    "check_zeros(geo_data_2, 'product')"
   ]
  },
  {
   "cell_type": "code",
   "execution_count": 105,
   "id": "0a0d4541",
   "metadata": {},
   "outputs": [
    {
     "data": {
      "text/html": [
       "<div>\n",
       "<style scoped>\n",
       "    .dataframe tbody tr th:only-of-type {\n",
       "        vertical-align: middle;\n",
       "    }\n",
       "\n",
       "    .dataframe tbody tr th {\n",
       "        vertical-align: top;\n",
       "    }\n",
       "\n",
       "    .dataframe thead th {\n",
       "        text-align: right;\n",
       "    }\n",
       "</style>\n",
       "<table border=\"1\" class=\"dataframe\">\n",
       "  <thead>\n",
       "    <tr style=\"text-align: right;\">\n",
       "      <th></th>\n",
       "      <th>f0</th>\n",
       "      <th>f1</th>\n",
       "      <th>f2</th>\n",
       "      <th>product</th>\n",
       "    </tr>\n",
       "  </thead>\n",
       "  <tbody>\n",
       "    <tr>\n",
       "      <th>57263</th>\n",
       "      <td>-0.702064</td>\n",
       "      <td>0.375992</td>\n",
       "      <td>0.236572</td>\n",
       "      <td>0.0</td>\n",
       "    </tr>\n",
       "  </tbody>\n",
       "</table>\n",
       "</div>"
      ],
      "text/plain": [
       "             f0        f1        f2  product\n",
       "57263 -0.702064  0.375992  0.236572      0.0"
      ]
     },
     "execution_count": 105,
     "metadata": {},
     "output_type": "execute_result"
    }
   ],
   "source": [
    "geo_data_0[geo_data_0['product'] == 0]"
   ]
  },
  {
   "cell_type": "code",
   "execution_count": 106,
   "id": "6017ab76",
   "metadata": {},
   "outputs": [
    {
     "data": {
      "text/html": [
       "<div>\n",
       "<style scoped>\n",
       "    .dataframe tbody tr th:only-of-type {\n",
       "        vertical-align: middle;\n",
       "    }\n",
       "\n",
       "    .dataframe tbody tr th {\n",
       "        vertical-align: top;\n",
       "    }\n",
       "\n",
       "    .dataframe thead th {\n",
       "        text-align: right;\n",
       "    }\n",
       "</style>\n",
       "<table border=\"1\" class=\"dataframe\">\n",
       "  <thead>\n",
       "    <tr style=\"text-align: right;\">\n",
       "      <th></th>\n",
       "      <th>f0</th>\n",
       "      <th>f1</th>\n",
       "      <th>f2</th>\n",
       "      <th>product</th>\n",
       "    </tr>\n",
       "  </thead>\n",
       "  <tbody>\n",
       "    <tr>\n",
       "      <th>11</th>\n",
       "      <td>16.320755</td>\n",
       "      <td>-0.562946</td>\n",
       "      <td>-0.001783</td>\n",
       "      <td>0.0</td>\n",
       "    </tr>\n",
       "    <tr>\n",
       "      <th>13</th>\n",
       "      <td>6.695604</td>\n",
       "      <td>-0.749449</td>\n",
       "      <td>-0.007630</td>\n",
       "      <td>0.0</td>\n",
       "    </tr>\n",
       "    <tr>\n",
       "      <th>62</th>\n",
       "      <td>21.418478</td>\n",
       "      <td>-5.134490</td>\n",
       "      <td>-0.002836</td>\n",
       "      <td>0.0</td>\n",
       "    </tr>\n",
       "    <tr>\n",
       "      <th>63</th>\n",
       "      <td>6.822701</td>\n",
       "      <td>3.104979</td>\n",
       "      <td>-0.000723</td>\n",
       "      <td>0.0</td>\n",
       "    </tr>\n",
       "    <tr>\n",
       "      <th>77</th>\n",
       "      <td>6.750150</td>\n",
       "      <td>-11.893512</td>\n",
       "      <td>-0.001601</td>\n",
       "      <td>0.0</td>\n",
       "    </tr>\n",
       "    <tr>\n",
       "      <th>...</th>\n",
       "      <td>...</td>\n",
       "      <td>...</td>\n",
       "      <td>...</td>\n",
       "      <td>...</td>\n",
       "    </tr>\n",
       "    <tr>\n",
       "      <th>99936</th>\n",
       "      <td>5.085749</td>\n",
       "      <td>-3.980305</td>\n",
       "      <td>0.005063</td>\n",
       "      <td>0.0</td>\n",
       "    </tr>\n",
       "    <tr>\n",
       "      <th>99948</th>\n",
       "      <td>8.277805</td>\n",
       "      <td>-9.178818</td>\n",
       "      <td>0.003275</td>\n",
       "      <td>0.0</td>\n",
       "    </tr>\n",
       "    <tr>\n",
       "      <th>99956</th>\n",
       "      <td>13.343983</td>\n",
       "      <td>-1.290200</td>\n",
       "      <td>0.005980</td>\n",
       "      <td>0.0</td>\n",
       "    </tr>\n",
       "    <tr>\n",
       "      <th>99961</th>\n",
       "      <td>13.854163</td>\n",
       "      <td>-11.528089</td>\n",
       "      <td>-0.005556</td>\n",
       "      <td>0.0</td>\n",
       "    </tr>\n",
       "    <tr>\n",
       "      <th>99973</th>\n",
       "      <td>12.698645</td>\n",
       "      <td>-4.384673</td>\n",
       "      <td>-0.002600</td>\n",
       "      <td>0.0</td>\n",
       "    </tr>\n",
       "  </tbody>\n",
       "</table>\n",
       "<p>8235 rows × 4 columns</p>\n",
       "</div>"
      ],
      "text/plain": [
       "              f0         f1        f2  product\n",
       "11     16.320755  -0.562946 -0.001783      0.0\n",
       "13      6.695604  -0.749449 -0.007630      0.0\n",
       "62     21.418478  -5.134490 -0.002836      0.0\n",
       "63      6.822701   3.104979 -0.000723      0.0\n",
       "77      6.750150 -11.893512 -0.001601      0.0\n",
       "...          ...        ...       ...      ...\n",
       "99936   5.085749  -3.980305  0.005063      0.0\n",
       "99948   8.277805  -9.178818  0.003275      0.0\n",
       "99956  13.343983  -1.290200  0.005980      0.0\n",
       "99961  13.854163 -11.528089 -0.005556      0.0\n",
       "99973  12.698645  -4.384673 -0.002600      0.0\n",
       "\n",
       "[8235 rows x 4 columns]"
      ]
     },
     "execution_count": 106,
     "metadata": {},
     "output_type": "execute_result"
    }
   ],
   "source": [
    "geo_data_1[geo_data_1['product'] == 0]"
   ]
  },
  {
   "cell_type": "code",
   "execution_count": 107,
   "id": "97ed7cbc",
   "metadata": {},
   "outputs": [
    {
     "data": {
      "text/html": [
       "<div>\n",
       "<style scoped>\n",
       "    .dataframe tbody tr th:only-of-type {\n",
       "        vertical-align: middle;\n",
       "    }\n",
       "\n",
       "    .dataframe tbody tr th {\n",
       "        vertical-align: top;\n",
       "    }\n",
       "\n",
       "    .dataframe thead th {\n",
       "        text-align: right;\n",
       "    }\n",
       "</style>\n",
       "<table border=\"1\" class=\"dataframe\">\n",
       "  <thead>\n",
       "    <tr style=\"text-align: right;\">\n",
       "      <th></th>\n",
       "      <th>f0</th>\n",
       "      <th>f1</th>\n",
       "      <th>f2</th>\n",
       "      <th>product</th>\n",
       "    </tr>\n",
       "  </thead>\n",
       "  <tbody>\n",
       "    <tr>\n",
       "      <th>68149</th>\n",
       "      <td>-0.865596</td>\n",
       "      <td>-1.615247</td>\n",
       "      <td>-4.126441</td>\n",
       "      <td>0.0</td>\n",
       "    </tr>\n",
       "  </tbody>\n",
       "</table>\n",
       "</div>"
      ],
      "text/plain": [
       "             f0        f1        f2  product\n",
       "68149 -0.865596 -1.615247 -4.126441      0.0"
      ]
     },
     "execution_count": 107,
     "metadata": {},
     "output_type": "execute_result"
    }
   ],
   "source": [
    "geo_data_2[geo_data_2['product'] == 0]"
   ]
  },
  {
   "cell_type": "markdown",
   "id": "7cd9e38f",
   "metadata": {},
   "source": [
    "**Изучим гистограммы по столбцу `product`.**"
   ]
  },
  {
   "cell_type": "code",
   "execution_count": 108,
   "id": "8e475da5",
   "metadata": {},
   "outputs": [],
   "source": [
    "def oil_hist(series, bins, xlim_max, ylim_max):\n",
    "    plt.figure(figsize=[12, 9])\n",
    "    plt.hist(series, bins=bins)\n",
    "    plt.xlim([0, xlim_max])\n",
    "    plt.ylim([0, ylim_max])\n",
    "    \n",
    "    plt.xlabel('Объём нефти одной скважены тыс. баррелей')\n",
    "    plt.ylabel('Количество скважин')\n",
    "    \n",
    "    plt.title('Гистограмма распределения по объёму скважин')\n",
    "    plt.show()"
   ]
  },
  {
   "cell_type": "code",
   "execution_count": 109,
   "id": "107e9c85",
   "metadata": {},
   "outputs": [
    {
     "data": {
      "image/png": "[encoded data removed]",
      "text/plain": [
       "<Figure size 864x648 with 1 Axes>"
      ]
     },
     "metadata": {
      "needs_background": "light"
     },
     "output_type": "display_data"
    }
   ],
   "source": [
    "oil_hist(geo_data_0['product'], 200, 190, 1000)"
   ]
  },
  {
   "cell_type": "code",
   "execution_count": 110,
   "id": "ee655dcc",
   "metadata": {},
   "outputs": [
    {
     "data": {
      "image/png": "[encoded data removed]",
      "text/plain": [
       "<Figure size 864x648 with 1 Axes>"
      ]
     },
     "metadata": {
      "needs_background": "light"
     },
     "output_type": "display_data"
    }
   ],
   "source": [
    "oil_hist(geo_data_1['product'], 200, 190, 1000)"
   ]
  },
  {
   "cell_type": "code",
   "execution_count": 111,
   "id": "4d341202",
   "metadata": {},
   "outputs": [
    {
     "data": {
      "image/png": "[encoded data removed]",
      "text/plain": [
       "<Figure size 864x648 with 1 Axes>"
      ]
     },
     "metadata": {
      "needs_background": "light"
     },
     "output_type": "display_data"
    }
   ],
   "source": [
    "oil_hist(geo_data_2['product'], 200, 190, 1000)"
   ]
  },
  {
   "cell_type": "markdown",
   "id": "cce72135",
   "metadata": {},
   "source": [
    "**Признаки:**\n",
    "* f0\n",
    "* f1\n",
    "* f2\n",
    "\n",
    "**Целевой признак:**\n",
    "* product\n"
   ]
  },
  {
   "cell_type": "markdown",
   "id": "e9ffb6ea",
   "metadata": {},
   "source": [
    "**Вывод по Шагу 1: Данные готовы к обучению. Вызывают сомнения данные по 2й гистограмме, поскольку при сравнении с остальными гистограммами, можно предположить, что данные были утеряны. Первая и третья гистограмма соответствует закону нормального распределения. Данные же по второй гистограмме намекают на то, что данные были введены либо некорректно, либо специально.**"
   ]
  },
  {
   "cell_type": "markdown",
   "id": "75026967",
   "metadata": {},
   "source": [
    "## Шаг 2. Обучение и проверка модели"
   ]
  },
  {
   "cell_type": "markdown",
   "id": "c0902a90",
   "metadata": {},
   "source": [
    "**Проверим качество линейной регрессии с текущим значением признаков и с масштабируемыми признаками. Проверим на geo_data_0. Выполним разбивку на неподготовленном датафрейме.**"
   ]
  },
  {
   "cell_type": "markdown",
   "id": "2ac29634",
   "metadata": {},
   "source": [
    "* features - данные без масштаба\n",
    "* features_s - данные с масштабом"
   ]
  },
  {
   "cell_type": "code",
   "execution_count": 112,
   "id": "f90619f9",
   "metadata": {},
   "outputs": [],
   "source": [
    "def test_split(data, target):\n",
    "    features = data.drop([target], axis=1)\n",
    "    target = data[target]\n",
    "    \n",
    "    features_train, features_valid, target_train, target_valid = train_test_split(\n",
    "    features, target, test_size=0.25, random_state=5062020) #делим выбокру на обучающую и валидационную\n",
    "    \n",
    "    return features_train, features_valid, target_train, target_valid"
   ]
  },
  {
   "cell_type": "code",
   "execution_count": 113,
   "id": "97761dca",
   "metadata": {},
   "outputs": [
    {
     "data": {
      "text/html": [
       "<div>\n",
       "<style scoped>\n",
       "    .dataframe tbody tr th:only-of-type {\n",
       "        vertical-align: middle;\n",
       "    }\n",
       "\n",
       "    .dataframe tbody tr th {\n",
       "        vertical-align: top;\n",
       "    }\n",
       "\n",
       "    .dataframe thead th {\n",
       "        text-align: right;\n",
       "    }\n",
       "</style>\n",
       "<table border=\"1\" class=\"dataframe\">\n",
       "  <thead>\n",
       "    <tr style=\"text-align: right;\">\n",
       "      <th></th>\n",
       "      <th>f0</th>\n",
       "      <th>f1</th>\n",
       "      <th>f2</th>\n",
       "    </tr>\n",
       "  </thead>\n",
       "  <tbody>\n",
       "    <tr>\n",
       "      <th>78638</th>\n",
       "      <td>0.602333</td>\n",
       "      <td>-0.445623</td>\n",
       "      <td>3.165303</td>\n",
       "    </tr>\n",
       "    <tr>\n",
       "      <th>67323</th>\n",
       "      <td>-0.984306</td>\n",
       "      <td>0.046746</td>\n",
       "      <td>0.400594</td>\n",
       "    </tr>\n",
       "    <tr>\n",
       "      <th>25303</th>\n",
       "      <td>0.085069</td>\n",
       "      <td>0.050226</td>\n",
       "      <td>-0.374703</td>\n",
       "    </tr>\n",
       "    <tr>\n",
       "      <th>80751</th>\n",
       "      <td>0.174317</td>\n",
       "      <td>0.011649</td>\n",
       "      <td>4.180446</td>\n",
       "    </tr>\n",
       "    <tr>\n",
       "      <th>28950</th>\n",
       "      <td>0.372650</td>\n",
       "      <td>1.031981</td>\n",
       "      <td>2.904160</td>\n",
       "    </tr>\n",
       "  </tbody>\n",
       "</table>\n",
       "</div>"
      ],
      "text/plain": [
       "             f0        f1        f2\n",
       "78638  0.602333 -0.445623  3.165303\n",
       "67323 -0.984306  0.046746  0.400594\n",
       "25303  0.085069  0.050226 -0.374703\n",
       "80751  0.174317  0.011649  4.180446\n",
       "28950  0.372650  1.031981  2.904160"
      ]
     },
     "execution_count": 113,
     "metadata": {},
     "output_type": "execute_result"
    }
   ],
   "source": [
    "features_train_0, features_valid_0, target_train_0, target_valid_0 = test_split(geo_data_0, 'product')\n",
    "\n",
    "features_train_0.head()"
   ]
  },
  {
   "cell_type": "code",
   "execution_count": 114,
   "id": "d5e34c8d",
   "metadata": {},
   "outputs": [],
   "source": [
    "def test_split_scaled(data, numeric, target):\n",
    "    geo_data_s = data.copy()\n",
    "    \n",
    "    features_s = geo_data_s.drop([target], axis=1)\n",
    "    target_s = geo_data_s[target]\n",
    "    \n",
    "    features_train_s, features_valid_s, target_train_s, target_valid_s = train_test_split(\n",
    "    features_s, target_s, test_size=0.25, random_state=562020)\n",
    "    \n",
    "    scaler = StandardScaler()\n",
    "    scaler.fit(features_train_s[numeric])\n",
    "    features_train_s[numeric] = scaler.transform(features_train_s[numeric])\n",
    "    features_valid_s[numeric] = scaler.transform(features_valid_s[numeric])\n",
    "    \n",
    "    return features_train_s, features_valid_s, target_train_s, target_valid_s"
   ]
  },
  {
   "cell_type": "markdown",
   "id": "62f81176",
   "metadata": {},
   "source": [
    "**Данные изменились. Првоедём обучение на линейонй регрерссии без изменения данных**"
   ]
  },
  {
   "cell_type": "code",
   "execution_count": 115,
   "id": "55ef8cba",
   "metadata": {},
   "outputs": [
    {
     "name": "stdout",
     "output_type": "stream",
     "text": [
      "RMSE: 37.401957199217094\n"
     ]
    }
   ],
   "source": [
    "model = LinearRegression()\n",
    "\n",
    "model.fit(features_train_0, target_train_0)\n",
    "predicted_target_0 = model.predict(features_valid_0)\n",
    "print('RMSE:', mean_squared_error(target_valid_0, predicted_target_0)**0.5)"
   ]
  },
  {
   "cell_type": "markdown",
   "id": "651a1129",
   "metadata": {},
   "source": [
    "**Теперь проверим RMSE на масштабиремых данных**"
   ]
  },
  {
   "cell_type": "code",
   "execution_count": 116,
   "id": "9d42b8b5",
   "metadata": {
    "scrolled": false
   },
   "outputs": [
    {
     "name": "stdout",
     "output_type": "stream",
     "text": [
      "RMSE: 37.61426830823484\n"
     ]
    },
    {
     "name": "stderr",
     "output_type": "stream",
     "text": [
      "/tmp/ipykernel_734/1513026570.py:12: SettingWithCopyWarning: \n",
      "A value is trying to be set on a copy of a slice from a DataFrame.\n",
      "Try using .loc[row_indexer,col_indexer] = value instead\n",
      "\n",
      "See the caveats in the documentation: https://pandas.pydata.org/pandas-docs/stable/user_guide/indexing.html#returning-a-view-versus-a-copy\n",
      "  features_train_s[numeric] = scaler.transform(features_train_s[numeric])\n",
      "/opt/conda/lib/python3.9/site-packages/pandas/core/indexing.py:1637: SettingWithCopyWarning: \n",
      "A value is trying to be set on a copy of a slice from a DataFrame\n",
      "\n",
      "See the caveats in the documentation: https://pandas.pydata.org/pandas-docs/stable/user_guide/indexing.html#returning-a-view-versus-a-copy\n",
      "  self._setitem_single_block(indexer, value, name)\n",
      "/opt/conda/lib/python3.9/site-packages/pandas/core/indexing.py:692: SettingWithCopyWarning: \n",
      "A value is trying to be set on a copy of a slice from a DataFrame\n",
      "\n",
      "See the caveats in the documentation: https://pandas.pydata.org/pandas-docs/stable/user_guide/indexing.html#returning-a-view-versus-a-copy\n",
      "  iloc._setitem_with_indexer(indexer, value, self.name)\n",
      "/tmp/ipykernel_734/1513026570.py:13: SettingWithCopyWarning: \n",
      "A value is trying to be set on a copy of a slice from a DataFrame.\n",
      "Try using .loc[row_indexer,col_indexer] = value instead\n",
      "\n",
      "See the caveats in the documentation: https://pandas.pydata.org/pandas-docs/stable/user_guide/indexing.html#returning-a-view-versus-a-copy\n",
      "  features_valid_s[numeric] = scaler.transform(features_valid_s[numeric])\n",
      "/opt/conda/lib/python3.9/site-packages/pandas/core/indexing.py:1637: SettingWithCopyWarning: \n",
      "A value is trying to be set on a copy of a slice from a DataFrame\n",
      "\n",
      "See the caveats in the documentation: https://pandas.pydata.org/pandas-docs/stable/user_guide/indexing.html#returning-a-view-versus-a-copy\n",
      "  self._setitem_single_block(indexer, value, name)\n",
      "/opt/conda/lib/python3.9/site-packages/pandas/core/indexing.py:692: SettingWithCopyWarning: \n",
      "A value is trying to be set on a copy of a slice from a DataFrame\n",
      "\n",
      "See the caveats in the documentation: https://pandas.pydata.org/pandas-docs/stable/user_guide/indexing.html#returning-a-view-versus-a-copy\n",
      "  iloc._setitem_with_indexer(indexer, value, self.name)\n"
     ]
    }
   ],
   "source": [
    "features_train_0s, features_valid_0s, target_train_0s, target_valid_0s = test_split_scaled(\n",
    "geo_data_0, ['f0', 'f1', 'f2'], 'product')\n",
    "model.fit(features_train_0s, target_train_0s)\n",
    "predicted_target_0s = model.predict(features_valid_0s)\n",
    "print('RMSE:', mean_squared_error(target_valid_0s, predicted_target_0s)**0.5)\n"
   ]
  },
  {
   "cell_type": "code",
   "execution_count": 117,
   "id": "617331c8",
   "metadata": {},
   "outputs": [
    {
     "name": "stdout",
     "output_type": "stream",
     "text": [
      "RSME: 0.8874258342572864\n",
      "RSME: 0.889459761512849\n"
     ]
    },
    {
     "name": "stderr",
     "output_type": "stream",
     "text": [
      "/tmp/ipykernel_734/1513026570.py:12: SettingWithCopyWarning: \n",
      "A value is trying to be set on a copy of a slice from a DataFrame.\n",
      "Try using .loc[row_indexer,col_indexer] = value instead\n",
      "\n",
      "See the caveats in the documentation: https://pandas.pydata.org/pandas-docs/stable/user_guide/indexing.html#returning-a-view-versus-a-copy\n",
      "  features_train_s[numeric] = scaler.transform(features_train_s[numeric])\n",
      "/opt/conda/lib/python3.9/site-packages/pandas/core/indexing.py:1637: SettingWithCopyWarning: \n",
      "A value is trying to be set on a copy of a slice from a DataFrame\n",
      "\n",
      "See the caveats in the documentation: https://pandas.pydata.org/pandas-docs/stable/user_guide/indexing.html#returning-a-view-versus-a-copy\n",
      "  self._setitem_single_block(indexer, value, name)\n",
      "/opt/conda/lib/python3.9/site-packages/pandas/core/indexing.py:692: SettingWithCopyWarning: \n",
      "A value is trying to be set on a copy of a slice from a DataFrame\n",
      "\n",
      "See the caveats in the documentation: https://pandas.pydata.org/pandas-docs/stable/user_guide/indexing.html#returning-a-view-versus-a-copy\n",
      "  iloc._setitem_with_indexer(indexer, value, self.name)\n",
      "/tmp/ipykernel_734/1513026570.py:13: SettingWithCopyWarning: \n",
      "A value is trying to be set on a copy of a slice from a DataFrame.\n",
      "Try using .loc[row_indexer,col_indexer] = value instead\n",
      "\n",
      "See the caveats in the documentation: https://pandas.pydata.org/pandas-docs/stable/user_guide/indexing.html#returning-a-view-versus-a-copy\n",
      "  features_valid_s[numeric] = scaler.transform(features_valid_s[numeric])\n",
      "/opt/conda/lib/python3.9/site-packages/pandas/core/indexing.py:1637: SettingWithCopyWarning: \n",
      "A value is trying to be set on a copy of a slice from a DataFrame\n",
      "\n",
      "See the caveats in the documentation: https://pandas.pydata.org/pandas-docs/stable/user_guide/indexing.html#returning-a-view-versus-a-copy\n",
      "  self._setitem_single_block(indexer, value, name)\n",
      "/opt/conda/lib/python3.9/site-packages/pandas/core/indexing.py:692: SettingWithCopyWarning: \n",
      "A value is trying to be set on a copy of a slice from a DataFrame\n",
      "\n",
      "See the caveats in the documentation: https://pandas.pydata.org/pandas-docs/stable/user_guide/indexing.html#returning-a-view-versus-a-copy\n",
      "  iloc._setitem_with_indexer(indexer, value, self.name)\n"
     ]
    }
   ],
   "source": [
    "features_train_1, features_valid_1, target_train_1, target_valid_1 = test_split(geo_data_1, 'product')\n",
    "model.fit(features_train_1, target_train_1)\n",
    "predicted_target_1 = model.predict(features_valid_1)\n",
    "print('RSME:', mean_squared_error(target_valid_1, predicted_target_1)**0.5)\n",
    "\n",
    "features_train_1s, features_valid_1s, target_train_1s, target_valid_1s = test_split_scaled(geo_data_1, ['f0', 'f1', 'f2'], 'product')\n",
    "model.fit(features_train_1s, target_train_1s)\n",
    "predicted_target_1s = model.predict(features_valid_1s)\n",
    "print('RSME:', mean_squared_error(target_valid_1s, predicted_target_1s)**0.5)"
   ]
  },
  {
   "cell_type": "code",
   "execution_count": 118,
   "id": "ed9b209f",
   "metadata": {},
   "outputs": [
    {
     "name": "stdout",
     "output_type": "stream",
     "text": [
      "RSME: 40.18553497171235\n",
      "RSME: 40.02667239030251\n"
     ]
    },
    {
     "name": "stderr",
     "output_type": "stream",
     "text": [
      "/tmp/ipykernel_734/1513026570.py:12: SettingWithCopyWarning: \n",
      "A value is trying to be set on a copy of a slice from a DataFrame.\n",
      "Try using .loc[row_indexer,col_indexer] = value instead\n",
      "\n",
      "See the caveats in the documentation: https://pandas.pydata.org/pandas-docs/stable/user_guide/indexing.html#returning-a-view-versus-a-copy\n",
      "  features_train_s[numeric] = scaler.transform(features_train_s[numeric])\n",
      "/opt/conda/lib/python3.9/site-packages/pandas/core/indexing.py:1637: SettingWithCopyWarning: \n",
      "A value is trying to be set on a copy of a slice from a DataFrame\n",
      "\n",
      "See the caveats in the documentation: https://pandas.pydata.org/pandas-docs/stable/user_guide/indexing.html#returning-a-view-versus-a-copy\n",
      "  self._setitem_single_block(indexer, value, name)\n",
      "/opt/conda/lib/python3.9/site-packages/pandas/core/indexing.py:692: SettingWithCopyWarning: \n",
      "A value is trying to be set on a copy of a slice from a DataFrame\n",
      "\n",
      "See the caveats in the documentation: https://pandas.pydata.org/pandas-docs/stable/user_guide/indexing.html#returning-a-view-versus-a-copy\n",
      "  iloc._setitem_with_indexer(indexer, value, self.name)\n",
      "/tmp/ipykernel_734/1513026570.py:13: SettingWithCopyWarning: \n",
      "A value is trying to be set on a copy of a slice from a DataFrame.\n",
      "Try using .loc[row_indexer,col_indexer] = value instead\n",
      "\n",
      "See the caveats in the documentation: https://pandas.pydata.org/pandas-docs/stable/user_guide/indexing.html#returning-a-view-versus-a-copy\n",
      "  features_valid_s[numeric] = scaler.transform(features_valid_s[numeric])\n",
      "/opt/conda/lib/python3.9/site-packages/pandas/core/indexing.py:1637: SettingWithCopyWarning: \n",
      "A value is trying to be set on a copy of a slice from a DataFrame\n",
      "\n",
      "See the caveats in the documentation: https://pandas.pydata.org/pandas-docs/stable/user_guide/indexing.html#returning-a-view-versus-a-copy\n",
      "  self._setitem_single_block(indexer, value, name)\n",
      "/opt/conda/lib/python3.9/site-packages/pandas/core/indexing.py:692: SettingWithCopyWarning: \n",
      "A value is trying to be set on a copy of a slice from a DataFrame\n",
      "\n",
      "See the caveats in the documentation: https://pandas.pydata.org/pandas-docs/stable/user_guide/indexing.html#returning-a-view-versus-a-copy\n",
      "  iloc._setitem_with_indexer(indexer, value, self.name)\n"
     ]
    }
   ],
   "source": [
    "features_train_2, features_valid_2, target_train_2, target_valid_2 = test_split(geo_data_2, 'product')\n",
    "model.fit(features_train_2, target_train_2)\n",
    "predicted_target_2 = model.predict(features_valid_2)\n",
    "print('RSME:', mean_squared_error(target_valid_2, predicted_target_2)**0.5)\n",
    "\n",
    "features_train_2s, features_valid_2s, target_train_2s, target_valid_2s = test_split_scaled(geo_data_2, ['f0', 'f1', 'f2'], 'product')\n",
    "model.fit(features_train_2s, target_train_2s)\n",
    "predicted_target_2s = model.predict(features_valid_2s)\n",
    "print('RSME:', mean_squared_error(target_valid_2s, predicted_target_2s)**0.5)"
   ]
  },
  {
   "cell_type": "markdown",
   "id": "6678efce",
   "metadata": {},
   "source": [
    "**Из данных выше можно сделать вывод, что данные не нуждаются в масштабировании.**"
   ]
  },
  {
   "cell_type": "markdown",
   "id": "304c6e79",
   "metadata": {},
   "source": [
    "**Проверим показатель RMSE на других параметрах модели**"
   ]
  },
  {
   "cell_type": "code",
   "execution_count": 119,
   "id": "769ef8c4",
   "metadata": {},
   "outputs": [
    {
     "name": "stdout",
     "output_type": "stream",
     "text": [
      "RMSE: 37.401957199217094\n"
     ]
    }
   ],
   "source": [
    "model = LinearRegression(normalize=True)\n",
    "model.fit(features_train_0, target_train_0)\n",
    "predicted_target_0 = model.predict(features_valid_0)\n",
    "print('RMSE:', mean_squared_error(target_valid_0, predicted_target_0)**0.5)"
   ]
  },
  {
   "cell_type": "code",
   "execution_count": 120,
   "id": "e0800cf8",
   "metadata": {},
   "outputs": [
    {
     "name": "stdout",
     "output_type": "stream",
     "text": [
      "RMSE: 60.749819777751355\n"
     ]
    }
   ],
   "source": [
    "model = LinearRegression(fit_intercept=False)\n",
    "model.fit(features_train_0, target_train_0)\n",
    "predicted_target_0 = model.predict(features_valid_0)\n",
    "print('RMSE:', mean_squared_error(target_valid_0, predicted_target_0)**0.5)"
   ]
  },
  {
   "cell_type": "markdown",
   "id": "9abc515b",
   "metadata": {},
   "source": [
    "**Изменение стадартных значений не помогло улучшить модель. Сделаем вывод предсказанного запаса с реальным и выведем RMSE.**"
   ]
  },
  {
   "cell_type": "code",
   "execution_count": 121,
   "id": "7d000994",
   "metadata": {},
   "outputs": [],
   "source": [
    "model = LinearRegression()\n",
    "\n",
    "def oil_predict(data, target_name):\n",
    "    features = data.drop([target_name], axis=1)\n",
    "    target = data[target_name]\n",
    "    \n",
    "    features_train, features_valid, target_train, target_valid = train_test_split(\n",
    "    features, target, test_size=0.25, random_state=5062020)\n",
    "    \n",
    "    model.fit(features_train, target_train)\n",
    "    predicted_target = model.predict(features_valid)\n",
    "    data = {'real_product' : target_valid,\n",
    "            'predicted_product' : predicted_target\n",
    "    }\n",
    "    data_frame = pd.DataFrame(data, columns = ['real_priduct', 'predicted_product'])\n",
    "    rmse = mean_squared_error(target_valid, predicted_target)**0.5\n",
    "    mean = data_frame['predicted_product'].mean()\n",
    "    oil_sum = data_frame['predicted_product'].sum()\n",
    "    return data_frame, rmse, mean, oil_sum"
   ]
  },
  {
   "cell_type": "code",
   "execution_count": 122,
   "id": "1025e845",
   "metadata": {},
   "outputs": [],
   "source": [
    "model = LinearRegression()\n",
    "\n",
    "def oil_predict(df, target_name):\n",
    "    features = df.drop([target_name] , axis=1)\n",
    "    target = df[target_name]\n",
    "    \n",
    "    features_train, features_valid, target_train, target_valid = train_test_split(\n",
    "    features, target, test_size=0.25, random_state=5062020)\n",
    "    \n",
    "    model.fit(features_train, target_train)\n",
    "    predicted_target = model.predict(features_valid)\n",
    "    data = {'real_product' : target_valid,\n",
    "            'predicted_product' : predicted_target         \n",
    "    }\n",
    "    data_frame = pd.DataFrame(data, columns = ['real_product', 'predicted_product'])\n",
    "    rmse = mean_squared_error(target_valid, predicted_target)**0.5\n",
    "    mean = data_frame['predicted_product'].mean()\n",
    "    oil_sum = data_frame['predicted_product'].sum()\n",
    "    return data_frame, rmse, mean, oil_sum"
   ]
  },
  {
   "cell_type": "code",
   "execution_count": 123,
   "id": "7c3ed2cd",
   "metadata": {
    "scrolled": true
   },
   "outputs": [
    {
     "name": "stdout",
     "output_type": "stream",
     "text": [
      "       real_product  predicted_product\n",
      "87351    145.407098         110.644337\n",
      "52805    131.589165          76.793446\n",
      "6583     101.596316         103.711077\n",
      "34986      8.123407          53.135348\n",
      "8253     169.834019         151.656408\n",
      "RMSE: 37.401957199217094\n",
      "Средний запас сырья: 92.52620585803338\n"
     ]
    }
   ],
   "source": [
    "geo_data_0_predicted, geo_data_0_rmse, geo_data_0_predicted_mean, geo_data_0_predicted_sum = oil_predict(geo_data_0, 'product')\n",
    "print(geo_data_0_predicted.head())\n",
    "print('RMSE:', geo_data_0_rmse)\n",
    "print('Средний запас сырья:', geo_data_0_predicted_mean)"
   ]
  },
  {
   "cell_type": "code",
   "execution_count": 124,
   "id": "3042eb19",
   "metadata": {},
   "outputs": [
    {
     "name": "stdout",
     "output_type": "stream",
     "text": [
      "       real_product  predicted_product\n",
      "87351     53.906522          54.336477\n",
      "52805      3.179103           3.756436\n",
      "6583      30.132364          31.266991\n",
      "34986     26.953261          26.692436\n",
      "8253      30.132364          31.128898\n",
      "RMSE: 0.8874258342572864\n",
      "Средний запас сырья: 68.27820207556354\n"
     ]
    }
   ],
   "source": [
    "geo_data_1_predicted, geo_data_1_rmse, geo_data_1_predicted_mean, geo_data_1_predicted_sum = oil_predict(geo_data_1, 'product')\n",
    "print(geo_data_1_predicted.head())\n",
    "print('RMSE:', geo_data_1_rmse)\n",
    "print('Средний запас сырья:', geo_data_1_predicted_mean)"
   ]
  },
  {
   "cell_type": "code",
   "execution_count": 125,
   "id": "bd090863",
   "metadata": {},
   "outputs": [
    {
     "name": "stdout",
     "output_type": "stream",
     "text": [
      "       real_product  predicted_product\n",
      "87351    140.971569          62.929196\n",
      "52805    125.190694          98.323840\n",
      "6583      94.544056          79.920918\n",
      "34986    107.208380         104.706020\n",
      "8253     173.924418         114.066050\n",
      "RMSE: 40.18553497171235\n",
      "Средний запас сырья: 94.94294307153748\n"
     ]
    }
   ],
   "source": [
    "geo_data_2_predicted, geo_data_2_rmse, geo_data_2_predicted_mean, geo_data_2_predicted_sum = oil_predict(geo_data_2, 'product')\n",
    "print(geo_data_2_predicted.head())\n",
    "print('RMSE:', geo_data_2_rmse)\n",
    "print('Средний запас сырья:', geo_data_2_predicted_mean)"
   ]
  },
  {
   "cell_type": "markdown",
   "id": "d75a205f",
   "metadata": {},
   "source": [
    "**Оценим общий запас по регионам по предсказанным данным**"
   ]
  },
  {
   "cell_type": "code",
   "execution_count": 126,
   "id": "d59b0b18",
   "metadata": {},
   "outputs": [
    {
     "name": "stdout",
     "output_type": "stream",
     "text": [
      "Общий показатель запасов в позиции 0: 2313155.1464508343\n",
      "Суммарный реальный показатель запасов в позиции 0: 2313395.805667925\n",
      "\n",
      "Общий показатель запасов в позиции 1: 1706955.0518890887\n",
      "Суммарный реальный показатель запасов в позиции 1: 1706710.3444370048\n",
      "\n",
      "Общий показатель запасов в позиции 2: 2373573.576788437\n",
      "Суммарный реальный показатель запасов в позиции 2: 2378821.7815969232\n"
     ]
    }
   ],
   "source": [
    "print('Общий показатель запасов в позиции 0:', geo_data_0_predicted_sum)\n",
    "print('Суммарный реальный показатель запасов в позиции 0:', geo_data_0_predicted['real_product'].sum())\n",
    "print()\n",
    "print('Общий показатель запасов в позиции 1:', geo_data_1_predicted_sum)\n",
    "print('Суммарный реальный показатель запасов в позиции 1:', geo_data_1_predicted['real_product'].sum())\n",
    "print()\n",
    "print('Общий показатель запасов в позиции 2:', geo_data_2_predicted_sum)\n",
    "print('Суммарный реальный показатель запасов в позиции 2:', geo_data_2_predicted['real_product'].sum())"
   ]
  },
  {
   "cell_type": "markdown",
   "id": "9fbecd44",
   "metadata": {},
   "source": [
    "**Вывод по Шагу 2:**\n",
    "* Данные предсказаний примерно совпадают с данными по предсказанным значениям. Лучше всего модель была предсказана во втором регионе (geo_data_1 - 0.88), затем в первом (geo_data_0 - 37.61), потом в третьем (geo_data_2 - 40.18).\n",
    "* Данные по второй модели, скорее всего из-за скошенности переобучились.\n",
    "* Из-за недостака данных, не имеет смысла рассматривать второй регион как прибыльное."
   ]
  },
  {
   "cell_type": "markdown",
   "id": "c712f9b4",
   "metadata": {},
   "source": [
    "## Шаг. 3 Подготовка к расчёту прибыли"
   ]
  },
  {
   "cell_type": "markdown",
   "id": "052161c0",
   "metadata": {},
   "source": [
    "**Изучим все регионы на прибыль и риски. Будем выбирать между первым и третьим регионом, исходя из предыдущих выводов.**"
   ]
  },
  {
   "cell_type": "markdown",
   "id": "e6f7215c",
   "metadata": {},
   "source": [
    "**Создадим переменные об экономической информации**"
   ]
  },
  {
   "cell_type": "code",
   "execution_count": 127,
   "id": "3a1d57e2",
   "metadata": {},
   "outputs": [],
   "source": [
    "budget = budget = 1e+07 #расчёт будет идти в 1 тыс. баррелях нефти, поэтому будем пользоваться такой запиью\n",
    "chosen_points = 500\n",
    "best_points = 200\n",
    "price_per_barrel = 450"
   ]
  },
  {
   "cell_type": "markdown",
   "id": "871de7fd",
   "metadata": {},
   "source": [
    "**Рассчитаем безубыточную стоимость сырья на 200 месторождениях. И найдём среднее количество сырья необходимого для месторождения**"
   ]
  },
  {
   "cell_type": "code",
   "execution_count": 128,
   "id": "e37c717a",
   "metadata": {},
   "outputs": [
    {
     "name": "stdout",
     "output_type": "stream",
     "text": [
      "Средняя прибыль по лучшей точке: 50000.0 тыс. баррелей\n",
      "Средний объём нефти на точку: 111.11111111111111 тыс. баррелей\n",
      "Средний объём нефти на регион: 22222.222222222223 тыс. баррелей\n"
     ]
    }
   ],
   "source": [
    "average_profit_per_point = budget / best_points\n",
    "print('Средняя прибыль по лучшей точке:', average_profit_per_point, 'тыс. баррелей')\n",
    "\n",
    "average_barrels_per_point = average_profit_per_point / price_per_barrel\n",
    "print('Средний объём нефти на точку:', average_barrels_per_point, 'тыс. баррелей')\n",
    "\n",
    "average_barrels = budget / price_per_barrel\n",
    "print('Средний объём нефти на регион:', average_barrels, 'тыс. баррелей')\n"
   ]
  },
  {
   "cell_type": "code",
   "execution_count": 129,
   "id": "f04a0c9c",
   "metadata": {
    "scrolled": true
   },
   "outputs": [
    {
     "name": "stdout",
     "output_type": "stream",
     "text": [
      "Средний запас фактической нефти на скважину в регионе 1 92.50000000000001\n",
      "Средний запас фактической нефти на скважину в регионе 2 68.82500000000002\n",
      "Средний запас фактической нефти на скважину в регионе 3 95.00000000000004\n"
     ]
    }
   ],
   "source": [
    "print('Средний запас фактической нефти на скважину в регионе 1', geo_data_0['product'].mean())\n",
    "print('Средний запас фактической нефти на скважину в регионе 2', geo_data_1['product'].mean())\n",
    "print('Средний запас фактической нефти на скважину в регионе 3', geo_data_2['product'].mean())"
   ]
  },
  {
   "cell_type": "markdown",
   "id": "c5745b04",
   "metadata": {},
   "source": [
    "**Создадим функцию для расчёта прибыли на 500 местородениях.**"
   ]
  },
  {
   "cell_type": "code",
   "execution_count": 130,
   "id": "36cf6987",
   "metadata": {},
   "outputs": [],
   "source": [
    "def oil_profit_calculation(target, probabilities, count):\n",
    "    probs_sorted = probabilities.sort_values(ascending=False)\n",
    "    selected = target[probs_sorted.index][:count]\n",
    "    return price_per_barrel * selected.sum() - budget"
   ]
  },
  {
   "cell_type": "markdown",
   "id": "46da1118",
   "metadata": {},
   "source": [
    "**Выведим на графики предсказанные значения.**"
   ]
  },
  {
   "cell_type": "code",
   "execution_count": 131,
   "id": "9a200d16",
   "metadata": {},
   "outputs": [
    {
     "data": {
      "image/png": "[encoded data removed]",
      "text/plain": [
       "<Figure size 864x648 with 1 Axes>"
      ]
     },
     "metadata": {
      "needs_background": "light"
     },
     "output_type": "display_data"
    },
    {
     "data": {
      "image/png": "[encoded data removed]",
      "text/plain": [
       "<Figure size 864x648 with 1 Axes>"
      ]
     },
     "metadata": {
      "needs_background": "light"
     },
     "output_type": "display_data"
    },
    {
     "data": {
      "image/png": "[encoded data removed]",
      "text/plain": [
       "<Figure size 864x648 with 1 Axes>"
      ]
     },
     "metadata": {
      "needs_background": "light"
     },
     "output_type": "display_data"
    }
   ],
   "source": [
    "oil_hist(geo_data_0_predicted['predicted_product'], 200, 190, 500)\n",
    "oil_hist(geo_data_1_predicted['predicted_product'], 200, 190, 500)\n",
    "oil_hist(geo_data_2_predicted['predicted_product'], 200, 190, 500)"
   ]
  },
  {
   "cell_type": "markdown",
   "id": "f9630248",
   "metadata": {},
   "source": [
    "**Вывод по 3 Шагу.**\n",
    "\n",
    "* Мы подготовили расчёт средней оценки прибыли на каждую скважину и средний объём на скважину. Была создана функция расчёта прибыли.\n",
    "\n",
    "* Были изучены средние фактические запасы. Для первого и третьего региона высокая вероятность окупить затраты. Разброс между 92 и 95 говорит нам о том, что существует много скважин, где запасов больше необходимого среднего.\n",
    "\n",
    "* Во втором регионе 111 тыс. баррелей на точку, что говорит о том, что существуют лучшие скважины в этом районе, однако там наименьшие запасы сырья."
   ]
  },
  {
   "cell_type": "markdown",
   "id": "48a57624",
   "metadata": {},
   "source": [
    "## Шаг 4. Расчёт прибыли и рисков "
   ]
  },
  {
   "cell_type": "code",
   "execution_count": 132,
   "id": "3a239f9f",
   "metadata": {},
   "outputs": [],
   "source": [
    "state = np.random.RandomState(5062020)\n",
    "def bootstrap_1000(target, probs):\n",
    "    values = []\n",
    "    lost = 0\n",
    "    for index in range(1000):\n",
    "        target_sample =target.sample(replace=True, random_state=state, n=chosen_points)\n",
    "        probs_sample = probs[target_sample.index]\n",
    "        profit = oil_profit_calculation(target, probs_sample, best_points)\n",
    "        if profit <  0:\n",
    "            lost +=1\n",
    "        values.append(profit)\n",
    "            \n",
    "    values = pd.Series(values)\n",
    "    lower = values.quantile(0.025)\n",
    "    upper = values.quantile(0.975)\n",
    "    average = values.mean()\n",
    "    risk = lost / 1000\n",
    "    return average, lower, upper, risk"
   ]
  },
  {
   "cell_type": "code",
   "execution_count": 133,
   "id": "ab493806",
   "metadata": {},
   "outputs": [
    {
     "name": "stdout",
     "output_type": "stream",
     "text": [
      "Данные по первому региону\n",
      "Средняя прибыль по региону: 443250.40 тыс. рублей\n",
      "95% доверительный интервал от -44227.32 до 919246.01 тыс. рублей\n",
      "Процент риска 3.60%\n"
     ]
    }
   ],
   "source": [
    "average_0, lower_0, upper_0, risk_0 = bootstrap_1000(geo_data_0_predicted['real_product'], \n",
    "                                                     geo_data_0_predicted['predicted_product'])\n",
    "print('Данные по первому региону')\n",
    "print('Средняя прибыль по региону: {:.2f} тыс. рублей'.format(average_0))\n",
    "print('95% доверительный интервал от {:.2f} до {:.2f} тыс. рублей'.format(lower_0, upper_0))\n",
    "print('Процент риска {:.2%}'.format(risk_0))"
   ]
  },
  {
   "cell_type": "code",
   "execution_count": 134,
   "id": "1189a360",
   "metadata": {},
   "outputs": [
    {
     "name": "stdout",
     "output_type": "stream",
     "text": [
      "Данные по второму региону\n",
      "Средняя прибыль по региону: 402869.66 тыс. рублей\n",
      "95% доверительный интервал от -7525.27 до 825916.72 тыс. рублей\n",
      "Процент риска 3.00%\n"
     ]
    }
   ],
   "source": [
    "average_1, lower_1, upper_1, risk_1 = bootstrap_1000(geo_data_1_predicted['real_product'], \n",
    "                                                     geo_data_1_predicted['predicted_product'])\n",
    "print('Данные по второму региону')\n",
    "print('Средняя прибыль по региону: {:.2f} тыс. рублей'.format(average_1))\n",
    "print('95% доверительный интервал от {:.2f} до {:.2f} тыс. рублей'.format(lower_1, upper_1))\n",
    "print('Процент риска {:.2%}'.format(risk_1))"
   ]
  },
  {
   "cell_type": "code",
   "execution_count": 135,
   "id": "2fd33df4",
   "metadata": {},
   "outputs": [
    {
     "name": "stdout",
     "output_type": "stream",
     "text": [
      "Данные по третьему региону\n",
      "Средняя прибыль по региону: 400201.63 тыс. рублей\n",
      "95% доверительный интервал от -128526.18 до 896828.78 тыс. рублей\n",
      "Процент риска 6.60%\n"
     ]
    }
   ],
   "source": [
    "average_2, lower_2, upper_2, risk_2 = bootstrap_1000(geo_data_2_predicted['real_product'], \n",
    "                                                     geo_data_2_predicted['predicted_product'])\n",
    "print('Данные по третьему региону')\n",
    "print('Средняя прибыль по региону: {:.2f} тыс. рублей'.format(average_2))\n",
    "print('95% доверительный интервал от {:.2f} до {:.2f} тыс. рублей'.format(lower_2, upper_2))\n",
    "print('Процент риска {:.2%}'.format(risk_2))"
   ]
  },
  {
   "cell_type": "markdown",
   "id": "041779e6",
   "metadata": {},
   "source": [
    "**Вывод по Шагу 5.**\n",
    "\n",
    "* Мы посчитали обработали данные и посчитали прибыль и риски.\n",
    "\n",
    "* Мы отсеиваем первый и третий регион, поскольку риски очень высоки. Во втором регионе риск ниже требуемого. Также доверительный интервал показывает, что при неудачном выборе разработка скважин окупится."
   ]
  },
  {
   "cell_type": "markdown",
   "id": "6ccbf743",
   "metadata": {},
   "source": [
    "# Общий вывод\n",
    "\n",
    "В ходе проведения исследования, нами были выполнены следующие шаги:\n",
    "* Шаг 1. Мы изучили данные и подготовили их к обучению.\n",
    "* Шаг 2. Мы заметили, что данные предсказаний примерно совпадают с данными по предсказанным значениям. Лучше всего модель была предсказана во втором регионе (geo_data_1 - 0.88), затем в первом (geo_data_0 - 37.61), потом в третьем (geo_data_2 - 40.18). Данные по второй модели, скорее всего из-за скошенности переобучились. Из-за недостака данных, не имеет смысла рассматривать второй регион как прибыльный.\n",
    "* Шаг 3. Мы составили функцию по расчёту прибыли и посчитали прибыль и риски по регионам.\n",
    "* Шаг 4. Мы посчитали прибыль и риски за каждый регион и выбрали наилучший регион, и обосновали данный выбор. Был выбран второй регион, поскольку у него были наилучшие показатели (самый низкий риск среди других регионов), однако его данные не подчиняются закону нормального распреления.\n"
   ]
  }
 ],
 "metadata": {
  "ExecuteTimeLog": [
   {
    "duration": 4,
    "start_time": "2022-10-06T23:06:22.874Z"
   },
   {
    "duration": 398,
    "start_time": "2022-10-06T23:06:22.880Z"
   },
   {
    "duration": 42,
    "start_time": "2022-10-06T23:06:23.280Z"
   },
   {
    "duration": 4,
    "start_time": "2022-10-06T23:06:23.324Z"
   },
   {
    "duration": 123,
    "start_time": "2022-10-06T23:06:23.331Z"
   },
   {
    "duration": 49,
    "start_time": "2022-10-06T23:06:23.456Z"
   },
   {
    "duration": 42,
    "start_time": "2022-10-06T23:06:23.521Z"
   },
   {
    "duration": 57,
    "start_time": "2022-10-06T23:06:23.564Z"
   },
   {
    "duration": 11,
    "start_time": "2022-10-06T23:06:23.623Z"
   },
   {
    "duration": 11,
    "start_time": "2022-10-06T23:06:23.636Z"
   },
   {
    "duration": 10,
    "start_time": "2022-10-06T23:06:23.648Z"
   },
   {
    "duration": 16,
    "start_time": "2022-10-06T23:06:23.660Z"
   },
   {
    "duration": 7,
    "start_time": "2022-10-06T23:06:23.678Z"
   },
   {
    "duration": 10,
    "start_time": "2022-10-06T23:06:23.723Z"
   },
   {
    "duration": 9,
    "start_time": "2022-10-06T23:06:23.735Z"
   },
   {
    "duration": 14,
    "start_time": "2022-10-06T23:06:23.746Z"
   },
   {
    "duration": 9,
    "start_time": "2022-10-06T23:06:23.762Z"
   },
   {
    "duration": 5,
    "start_time": "2022-10-06T23:06:23.773Z"
   },
   {
    "duration": 455,
    "start_time": "2022-10-06T23:06:23.779Z"
   },
   {
    "duration": 430,
    "start_time": "2022-10-06T23:06:24.236Z"
   },
   {
    "duration": 428,
    "start_time": "2022-10-06T23:06:24.667Z"
   },
   {
    "duration": 4,
    "start_time": "2022-10-06T23:06:25.097Z"
   },
   {
    "duration": 34,
    "start_time": "2022-10-06T23:06:25.102Z"
   },
   {
    "duration": 5,
    "start_time": "2022-10-06T23:06:25.137Z"
   },
   {
    "duration": 21,
    "start_time": "2022-10-06T23:06:25.143Z"
   },
   {
    "duration": 128,
    "start_time": "2022-10-06T23:06:25.224Z"
   },
   {
    "duration": 503,
    "start_time": "2022-10-06T23:06:25.354Z"
   },
   {
    "duration": 312,
    "start_time": "2022-10-06T23:06:25.923Z"
   },
   {
    "duration": 90,
    "start_time": "2022-10-06T23:06:26.237Z"
   },
   {
    "duration": 194,
    "start_time": "2022-10-06T23:06:26.329Z"
   },
   {
    "duration": 10,
    "start_time": "2022-10-06T23:06:26.526Z"
   },
   {
    "duration": 6,
    "start_time": "2022-10-06T23:06:26.621Z"
   },
   {
    "duration": 116,
    "start_time": "2022-10-06T23:06:26.630Z"
   },
   {
    "duration": 181,
    "start_time": "2022-10-06T23:06:26.748Z"
   },
   {
    "duration": 209,
    "start_time": "2022-10-06T23:06:26.931Z"
   },
   {
    "duration": 80,
    "start_time": "2022-10-06T23:06:27.142Z"
   },
   {
    "duration": 101,
    "start_time": "2022-10-06T23:06:27.224Z"
   },
   {
    "duration": 8,
    "start_time": "2022-10-06T23:06:27.326Z"
   },
   {
    "duration": 8,
    "start_time": "2022-10-06T23:06:27.336Z"
   },
   {
    "duration": 5,
    "start_time": "2022-10-06T23:06:27.346Z"
   },
   {
    "duration": 1215,
    "start_time": "2022-10-06T23:06:27.354Z"
   },
   {
    "duration": 6,
    "start_time": "2022-10-06T23:06:28.571Z"
   },
   {
    "duration": 1007,
    "start_time": "2022-10-06T23:06:28.578Z"
   },
   {
    "duration": 954,
    "start_time": "2022-10-06T23:06:29.587Z"
   },
   {
    "duration": 941,
    "start_time": "2022-10-06T23:06:30.543Z"
   },
   {
    "duration": 4,
    "start_time": "2022-10-06T23:06:34.235Z"
   },
   {
    "duration": 437,
    "start_time": "2022-10-06T23:06:34.241Z"
   },
   {
    "duration": 36,
    "start_time": "2022-10-06T23:06:34.679Z"
   },
   {
    "duration": 3,
    "start_time": "2022-10-06T23:06:34.721Z"
   },
   {
    "duration": 108,
    "start_time": "2022-10-06T23:06:34.726Z"
   },
   {
    "duration": 45,
    "start_time": "2022-10-06T23:06:34.836Z"
   },
   {
    "duration": 61,
    "start_time": "2022-10-06T23:06:34.884Z"
   },
   {
    "duration": 44,
    "start_time": "2022-10-06T23:06:34.948Z"
   },
   {
    "duration": 33,
    "start_time": "2022-10-06T23:06:34.994Z"
   },
   {
    "duration": 9,
    "start_time": "2022-10-06T23:06:35.029Z"
   },
   {
    "duration": 33,
    "start_time": "2022-10-06T23:06:35.040Z"
   },
   {
    "duration": 16,
    "start_time": "2022-10-06T23:06:35.075Z"
   },
   {
    "duration": 8,
    "start_time": "2022-10-06T23:06:35.093Z"
   },
   {
    "duration": 16,
    "start_time": "2022-10-06T23:06:35.104Z"
   },
   {
    "duration": 22,
    "start_time": "2022-10-06T23:06:35.121Z"
   },
   {
    "duration": 34,
    "start_time": "2022-10-06T23:06:35.145Z"
   },
   {
    "duration": 30,
    "start_time": "2022-10-06T23:06:35.181Z"
   },
   {
    "duration": 6,
    "start_time": "2022-10-06T23:06:35.213Z"
   },
   {
    "duration": 525,
    "start_time": "2022-10-06T23:06:35.220Z"
   },
   {
    "duration": 419,
    "start_time": "2022-10-06T23:06:35.747Z"
   },
   {
    "duration": 407,
    "start_time": "2022-10-06T23:06:36.168Z"
   },
   {
    "duration": 4,
    "start_time": "2022-10-06T23:06:36.578Z"
   },
   {
    "duration": 19,
    "start_time": "2022-10-06T23:06:36.584Z"
   },
   {
    "duration": 16,
    "start_time": "2022-10-06T23:06:36.606Z"
   },
   {
    "duration": 18,
    "start_time": "2022-10-06T23:06:36.625Z"
   },
   {
    "duration": 200,
    "start_time": "2022-10-06T23:06:36.645Z"
   },
   {
    "duration": 393,
    "start_time": "2022-10-06T23:06:36.847Z"
   },
   {
    "duration": 384,
    "start_time": "2022-10-06T23:06:37.244Z"
   },
   {
    "duration": 191,
    "start_time": "2022-10-06T23:06:37.632Z"
   },
   {
    "duration": 112,
    "start_time": "2022-10-06T23:06:37.826Z"
   },
   {
    "duration": 91,
    "start_time": "2022-10-06T23:06:37.942Z"
   },
   {
    "duration": 96,
    "start_time": "2022-10-06T23:06:38.035Z"
   },
   {
    "duration": 90,
    "start_time": "2022-10-06T23:06:38.132Z"
   },
   {
    "duration": 114,
    "start_time": "2022-10-06T23:06:38.225Z"
   },
   {
    "duration": 192,
    "start_time": "2022-10-06T23:06:38.341Z"
   },
   {
    "duration": 92,
    "start_time": "2022-10-06T23:06:38.535Z"
   },
   {
    "duration": 98,
    "start_time": "2022-10-06T23:06:38.629Z"
   },
   {
    "duration": 6,
    "start_time": "2022-10-06T23:06:38.730Z"
   },
   {
    "duration": 12,
    "start_time": "2022-10-06T23:06:38.738Z"
   },
   {
    "duration": 5,
    "start_time": "2022-10-06T23:06:38.752Z"
   },
   {
    "duration": 1377,
    "start_time": "2022-10-06T23:06:38.760Z"
   },
   {
    "duration": 5,
    "start_time": "2022-10-06T23:06:40.140Z"
   },
   {
    "duration": 963,
    "start_time": "2022-10-06T23:06:40.147Z"
   },
   {
    "duration": 992,
    "start_time": "2022-10-06T23:06:41.112Z"
   },
   {
    "duration": 973,
    "start_time": "2022-10-06T23:06:42.106Z"
   }
  ],
  "kernelspec": {
   "display_name": "Python 3 (ipykernel)",
   "language": "python",
   "name": "python3"
  },
  "language_info": {
   "codemirror_mode": {
    "name": "ipython",
    "version": 3
   },
   "file_extension": ".py",
   "mimetype": "text/x-python",
   "name": "python",
   "nbconvert_exporter": "python",
   "pygments_lexer": "ipython3",
   "version": "3.9.7"
  },
  "toc": {
   "base_numbering": 1,
   "nav_menu": {},
   "number_sections": true,
   "sideBar": true,
   "skip_h1_title": true,
   "title_cell": "Table of Contents",
   "title_sidebar": "Contents",
   "toc_cell": false,
   "toc_position": {},
   "toc_section_display": true,
   "toc_window_display": false
  }
 },
 "nbformat": 4,
 "nbformat_minor": 5
}
