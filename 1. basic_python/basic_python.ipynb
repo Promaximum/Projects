{
 "cells": [
  {
   "cell_type": "markdown",
   "metadata": {
    "id": "E0vqbgi9ay0H"
   },
   "source": [
    "# Яндекс.Музыка"
   ]
  },
  {
   "cell_type": "markdown",
   "metadata": {
    "id": "VUC88oWjTJw2"
   },
   "source": [
    "Сравнение Москвы и Петербурга окружено мифами. Например:\n",
    " * Москва — мегаполис, подчинённый жёсткому ритму рабочей недели;\n",
    " * Петербург — культурная столица, со своими вкусами.\n",
    "\n",
    "На данных Яндекс.Музыки мы сравним поведение пользователей двух столиц.\n",
    "\n",
    "**Цель исследования** — проверим три гипотезы:\n",
    "1. Активность пользователей зависит от дня недели. Причём в Москве и Петербурге это проявляется по-разному.\n",
    "2. В понедельник утром в Москве преобладают одни жанры, а в Петербурге — другие. Так же и вечером пятницы преобладают разные жанры — в зависимости от города. \n",
    "3. Москва и Петербург предпочитают разные жанры музыки. В Москве чаще слушают поп-музыку, в Петербурге — русский рэп.\n",
    "\n",
    "**Ход исследования**\n",
    "\n",
    "Данные о поведении пользователей мы получим из файла `yandex_music_project.csv`. О качестве данных ничего не известно. Поэтому перед проверкой гипотез понадобится обзор данных. \n",
    "\n",
    "Вы проверим данные на ошибки и оценим их влияние на исследование. Затем, на этапе предобработки мы исправим самые критичные ошибки данных.\n",
    " \n",
    "Таким образом, исследование пройдёт в три этапа:\n",
    " 1. Обзор данных.\n",
    " 2. Предобработка данных.\n",
    " 3. Проверка гипотез.\n",
    "\n"
   ]
  },
  {
   "cell_type": "markdown",
   "metadata": {
    "id": "Ml1hmfXC_Zcs"
   },
   "source": [
    "## Обзор данных\n",
    "\n",
    "Составим первое представление о данных Яндекс.Музыки.\n",
    "\n",
    "\n"
   ]
  },
  {
   "cell_type": "markdown",
   "metadata": {
    "id": "57eAOGIz_Zcs"
   },
   "source": [
    "Основной инструмент аналитика — `pandas`. Импортируем эту библиотеку."
   ]
  },
  {
   "cell_type": "code",
   "execution_count": 1,
   "metadata": {
    "id": "AXN7PHPN_Zcs"
   },
   "outputs": [],
   "source": [
    "import pandas as pd # импорт библиотеки pandas"
   ]
  },
  {
   "cell_type": "markdown",
   "metadata": {
    "id": "SG23P8tt_Zcs"
   },
   "source": [
    "Прочитаем файл `yandex_music_project.csv` из папки `/datasets` и сохраним его в переменной `df`:"
   ]
  },
  {
   "cell_type": "code",
   "execution_count": 2,
   "metadata": {
    "id": "fFVu7vqh_Zct"
   },
   "outputs": [],
   "source": [
    "df = pd.read_csv('/datasets/yandex_music_project.csv')# чтение файла с данными и сохранение в df"
   ]
  },
  {
   "cell_type": "markdown",
   "metadata": {
    "id": "rDoOMd3uTqnZ"
   },
   "source": [
    "Выведем на экран первые десять строк таблицы:"
   ]
  },
  {
   "cell_type": "code",
   "execution_count": 3,
   "metadata": {
    "id": "oWTVX3gW_Zct",
    "scrolled": true
   },
   "outputs": [
    {
     "data": {
      "text/html": [
       "<div>\n",
       "<style scoped>\n",
       "    .dataframe tbody tr th:only-of-type {\n",
       "        vertical-align: middle;\n",
       "    }\n",
       "\n",
       "    .dataframe tbody tr th {\n",
       "        vertical-align: top;\n",
       "    }\n",
       "\n",
       "    .dataframe thead th {\n",
       "        text-align: right;\n",
       "    }\n",
       "</style>\n",
       "<table border=\"1\" class=\"dataframe\">\n",
       "  <thead>\n",
       "    <tr style=\"text-align: right;\">\n",
       "      <th></th>\n",
       "      <th>userID</th>\n",
       "      <th>Track</th>\n",
       "      <th>artist</th>\n",
       "      <th>genre</th>\n",
       "      <th>City</th>\n",
       "      <th>time</th>\n",
       "      <th>Day</th>\n",
       "    </tr>\n",
       "  </thead>\n",
       "  <tbody>\n",
       "    <tr>\n",
       "      <th>0</th>\n",
       "      <td>FFB692EC</td>\n",
       "      <td>Kamigata To Boots</td>\n",
       "      <td>The Mass Missile</td>\n",
       "      <td>rock</td>\n",
       "      <td>Saint-Petersburg</td>\n",
       "      <td>20:28:33</td>\n",
       "      <td>Wednesday</td>\n",
       "    </tr>\n",
       "    <tr>\n",
       "      <th>1</th>\n",
       "      <td>55204538</td>\n",
       "      <td>Delayed Because of Accident</td>\n",
       "      <td>Andreas Rönnberg</td>\n",
       "      <td>rock</td>\n",
       "      <td>Moscow</td>\n",
       "      <td>14:07:09</td>\n",
       "      <td>Friday</td>\n",
       "    </tr>\n",
       "    <tr>\n",
       "      <th>2</th>\n",
       "      <td>20EC38</td>\n",
       "      <td>Funiculì funiculà</td>\n",
       "      <td>Mario Lanza</td>\n",
       "      <td>pop</td>\n",
       "      <td>Saint-Petersburg</td>\n",
       "      <td>20:58:07</td>\n",
       "      <td>Wednesday</td>\n",
       "    </tr>\n",
       "    <tr>\n",
       "      <th>3</th>\n",
       "      <td>A3DD03C9</td>\n",
       "      <td>Dragons in the Sunset</td>\n",
       "      <td>Fire + Ice</td>\n",
       "      <td>folk</td>\n",
       "      <td>Saint-Petersburg</td>\n",
       "      <td>08:37:09</td>\n",
       "      <td>Monday</td>\n",
       "    </tr>\n",
       "    <tr>\n",
       "      <th>4</th>\n",
       "      <td>E2DC1FAE</td>\n",
       "      <td>Soul People</td>\n",
       "      <td>Space Echo</td>\n",
       "      <td>dance</td>\n",
       "      <td>Moscow</td>\n",
       "      <td>08:34:34</td>\n",
       "      <td>Monday</td>\n",
       "    </tr>\n",
       "    <tr>\n",
       "      <th>5</th>\n",
       "      <td>842029A1</td>\n",
       "      <td>Преданная</td>\n",
       "      <td>IMPERVTOR</td>\n",
       "      <td>rusrap</td>\n",
       "      <td>Saint-Petersburg</td>\n",
       "      <td>13:09:41</td>\n",
       "      <td>Friday</td>\n",
       "    </tr>\n",
       "    <tr>\n",
       "      <th>6</th>\n",
       "      <td>4CB90AA5</td>\n",
       "      <td>True</td>\n",
       "      <td>Roman Messer</td>\n",
       "      <td>dance</td>\n",
       "      <td>Moscow</td>\n",
       "      <td>13:00:07</td>\n",
       "      <td>Wednesday</td>\n",
       "    </tr>\n",
       "    <tr>\n",
       "      <th>7</th>\n",
       "      <td>F03E1C1F</td>\n",
       "      <td>Feeling This Way</td>\n",
       "      <td>Polina Griffith</td>\n",
       "      <td>dance</td>\n",
       "      <td>Moscow</td>\n",
       "      <td>20:47:49</td>\n",
       "      <td>Wednesday</td>\n",
       "    </tr>\n",
       "    <tr>\n",
       "      <th>8</th>\n",
       "      <td>8FA1D3BE</td>\n",
       "      <td>И вновь продолжается бой</td>\n",
       "      <td>NaN</td>\n",
       "      <td>ruspop</td>\n",
       "      <td>Moscow</td>\n",
       "      <td>09:17:40</td>\n",
       "      <td>Friday</td>\n",
       "    </tr>\n",
       "    <tr>\n",
       "      <th>9</th>\n",
       "      <td>E772D5C0</td>\n",
       "      <td>Pessimist</td>\n",
       "      <td>NaN</td>\n",
       "      <td>dance</td>\n",
       "      <td>Saint-Petersburg</td>\n",
       "      <td>21:20:49</td>\n",
       "      <td>Wednesday</td>\n",
       "    </tr>\n",
       "  </tbody>\n",
       "</table>\n",
       "</div>"
      ],
      "text/plain": [
       "     userID                        Track            artist   genre  \\\n",
       "0  FFB692EC            Kamigata To Boots  The Mass Missile    rock   \n",
       "1  55204538  Delayed Because of Accident  Andreas Rönnberg    rock   \n",
       "2    20EC38            Funiculì funiculà       Mario Lanza     pop   \n",
       "3  A3DD03C9        Dragons in the Sunset        Fire + Ice    folk   \n",
       "4  E2DC1FAE                  Soul People        Space Echo   dance   \n",
       "5  842029A1                    Преданная         IMPERVTOR  rusrap   \n",
       "6  4CB90AA5                         True      Roman Messer   dance   \n",
       "7  F03E1C1F             Feeling This Way   Polina Griffith   dance   \n",
       "8  8FA1D3BE     И вновь продолжается бой               NaN  ruspop   \n",
       "9  E772D5C0                    Pessimist               NaN   dance   \n",
       "\n",
       "             City        time        Day  \n",
       "0  Saint-Petersburg  20:28:33  Wednesday  \n",
       "1            Moscow  14:07:09     Friday  \n",
       "2  Saint-Petersburg  20:58:07  Wednesday  \n",
       "3  Saint-Petersburg  08:37:09     Monday  \n",
       "4            Moscow  08:34:34     Monday  \n",
       "5  Saint-Petersburg  13:09:41     Friday  \n",
       "6            Moscow  13:00:07  Wednesday  \n",
       "7            Moscow  20:47:49  Wednesday  \n",
       "8            Moscow  09:17:40     Friday  \n",
       "9  Saint-Petersburg  21:20:49  Wednesday  "
      ]
     },
     "execution_count": 3,
     "metadata": {},
     "output_type": "execute_result"
    }
   ],
   "source": [
    "df.head(10) # получение первых 10 строк таблицы df"
   ]
  },
  {
   "cell_type": "markdown",
   "metadata": {
    "id": "EO73Kwic_Zct"
   },
   "source": [
    "Одной командой получить общую информацию о таблице:"
   ]
  },
  {
   "cell_type": "code",
   "execution_count": 4,
   "metadata": {
    "id": "DSf2kIb-_Zct"
   },
   "outputs": [
    {
     "name": "stdout",
     "output_type": "stream",
     "text": [
      "<class 'pandas.core.frame.DataFrame'>\n",
      "RangeIndex: 65079 entries, 0 to 65078\n",
      "Data columns (total 7 columns):\n",
      " #   Column    Non-Null Count  Dtype \n",
      "---  ------    --------------  ----- \n",
      " 0     userID  65079 non-null  object\n",
      " 1   Track     63848 non-null  object\n",
      " 2   artist    57876 non-null  object\n",
      " 3   genre     63881 non-null  object\n",
      " 4     City    65079 non-null  object\n",
      " 5   time      65079 non-null  object\n",
      " 6   Day       65079 non-null  object\n",
      "dtypes: object(7)\n",
      "memory usage: 3.5+ MB\n"
     ]
    }
   ],
   "source": [
    "df.info() # получение общей информации о данных в таблице df"
   ]
  },
  {
   "cell_type": "markdown",
   "metadata": {
    "id": "TaQ2Iwbr_Zct"
   },
   "source": [
    "Итак, в таблице семь столбцов. Тип данных во всех столбцах — `object`.\n",
    "\n",
    "Согласно документации к данным:\n",
    "* `userID` — идентификатор пользователя;\n",
    "* `Track` — название трека;  \n",
    "* `artist` — имя исполнителя;\n",
    "* `genre` — название жанра;\n",
    "* `City` — город пользователя;\n",
    "* `time` — время начала прослушивания;\n",
    "* `Day` — день недели.\n",
    "\n",
    "В названиях колонок видны три нарушения стиля:\n",
    "1. Строчные буквы сочетаются с прописными.\n",
    "2. Встречаются пробелы.\n",
    "3. Найдём ещё одну проблему в названии колонок и опишем её в этом пункте.\n",
    "\n",
    "\n",
    "\n",
    "Количество значений в столбцах различается. Значит, в данных есть пропущенные значения.\n"
   ]
  },
  {
   "cell_type": "markdown",
   "metadata": {
    "id": "MCB6-dXG_Zct"
   },
   "source": [
    "**Выводы**\n",
    "\n",
    "В каждой строке таблицы — данные о прослушанном треке. Часть колонок описывает саму композицию: название, исполнителя и жанр. Остальные данные рассказывают о пользователе: из какого он города, когда он слушал музыку. \n",
    "\n",
    "Предварительно можно утверждать, что, данных достаточно для проверки гипотез. Но встречаются пропуски в данных, а в названиях колонок — расхождения с хорошим стилем.\n",
    "\n",
    "Неототорые из столбцов начинаются со строчной буквы.\n",
    "\n",
    "Чтобы двигаться дальше, нужно устранить проблемы в данных."
   ]
  },
  {
   "cell_type": "markdown",
   "metadata": {
    "id": "SjYF6Ub9_Zct"
   },
   "source": [
    "## Предобработка данных\n",
    "Исправим стиль в заголовках столбцов, исключим пропуски. Затем проверим данные на дубликаты."
   ]
  },
  {
   "cell_type": "markdown",
   "metadata": {
    "id": "dIaKXr29_Zct"
   },
   "source": [
    "### Стиль заголовков\n",
    "Выведем на экран названия столбцов:"
   ]
  },
  {
   "cell_type": "code",
   "execution_count": 5,
   "metadata": {
    "id": "oKOTdF_Q_Zct"
   },
   "outputs": [
    {
     "name": "stdout",
     "output_type": "stream",
     "text": [
      "Index(['  userID', 'Track', 'artist', 'genre', '  City  ', 'time', 'Day'], dtype='object')\n"
     ]
    }
   ],
   "source": [
    "print(df.columns) # перечень названий столбцов таблицы df"
   ]
  },
  {
   "cell_type": "markdown",
   "metadata": {
    "id": "FPZA3ki8xe7T"
   },
   "source": []
  },
  {
   "cell_type": "markdown",
   "metadata": {
    "id": "zj5534cv_Zct"
   },
   "source": [
    "Приведём названия в соответствие с хорошим стилем:\n",
    "* несколько слов в названии запишем в «змеином_регистре»,\n",
    "* все символы сделаем строчными,\n",
    "* устраним пробелы.\n",
    "\n",
    "Для этого переименуем колонки так:\n",
    "* `'  userID'` → `'user_id'`;\n",
    "* `'Track'` → `'track'`;\n",
    "* `'  City  '` → `'city'`;\n",
    "* `'Day'` → `'day'`."
   ]
  },
  {
   "cell_type": "code",
   "execution_count": 6,
   "metadata": {
    "id": "ISlFqs5y_Zct"
   },
   "outputs": [],
   "source": [
    "df= df.rename(columns={'  userID': 'user_id', 'Track': 'track', '  City  ': 'city', 'Day': 'day'}) # переименование столбцов"
   ]
  },
  {
   "cell_type": "markdown",
   "metadata": {
    "id": "1dqbh00J_Zct"
   },
   "source": [
    "Проверим результат. Для этого ещё раз выведем на экран названия столбцов:"
   ]
  },
  {
   "cell_type": "code",
   "execution_count": 7,
   "metadata": {
    "id": "d4NOAmTW_Zct"
   },
   "outputs": [
    {
     "name": "stdout",
     "output_type": "stream",
     "text": [
      "Index(['user_id', 'track', 'artist', 'genre', 'city', 'time', 'day'], dtype='object')\n"
     ]
    }
   ],
   "source": [
    "print(df.columns)# проверка результатов - перечень названий столбцов"
   ]
  },
  {
   "cell_type": "markdown",
   "metadata": {
    "id": "5ISfbcfY_Zct"
   },
   "source": [
    "### Пропуски значений\n",
    "Сначала посчитаем, сколько в таблице пропущенных значений. Для этого достаточно двух методов `pandas`:"
   ]
  },
  {
   "cell_type": "code",
   "execution_count": 8,
   "metadata": {
    "id": "RskX29qr_Zct"
   },
   "outputs": [
    {
     "data": {
      "text/plain": [
       "user_id       0\n",
       "track      1231\n",
       "artist     7203\n",
       "genre      1198\n",
       "city          0\n",
       "time          0\n",
       "day           0\n",
       "dtype: int64"
      ]
     },
     "execution_count": 8,
     "metadata": {},
     "output_type": "execute_result"
    }
   ],
   "source": [
    "df.isna().sum() # подсчёт пропусков"
   ]
  },
  {
   "cell_type": "markdown",
   "metadata": {
    "id": "qubhgnlO_Zct"
   },
   "source": [
    "Не все пропущенные значения влияют на исследование. Так в `track` и `artist` пропуски не важны для вашей работы. Достаточно заменить их явными обозначениями.\n",
    "\n",
    "Но пропуски в `genre` могут помешать сравнению музыкальных вкусов в Москве и Санкт-Петербурге. На практике было бы правильно установить причину пропусков и восстановить данные. Такой возможности нет в учебном проекте. Придётся:\n",
    "* заполнить и эти пропуски явными обозначениями,\n",
    "* оценить, насколько они повредят расчётам. "
   ]
  },
  {
   "cell_type": "markdown",
   "metadata": {
    "id": "fSv2laPA_Zct"
   },
   "source": [
    "Заменим пропущенные значения в столбцах `track`, `artist` и `genre` на строку `'unknown'`. Для этого создадим список `columns_to_replace`, переберём его элементы циклом `for` и для каждого столбца выполним замену пропущенных значений:"
   ]
  },
  {
   "cell_type": "code",
   "execution_count": 9,
   "metadata": {
    "id": "KplB5qWs_Zct"
   },
   "outputs": [],
   "source": [
    "columns_to_replace = ['track', 'artist', 'genre']\n",
    "for column in columns_to_replace:\n",
    "    df[column] = df[column].fillna('unknown') # перебор названий столбцов в цикле и замена пропущенных значений на 'unknown'"
   ]
  },
  {
   "cell_type": "markdown",
   "metadata": {
    "id": "Ilsm-MZo_Zct"
   },
   "source": [
    "Убедимся, что в таблице не осталось пропусков. Для этого ещё раз посчитаем пропущенные значения."
   ]
  },
  {
   "cell_type": "code",
   "execution_count": 10,
   "metadata": {
    "id": "Tq4nYRX4_Zct"
   },
   "outputs": [
    {
     "data": {
      "text/plain": [
       "user_id    0\n",
       "track      0\n",
       "artist     0\n",
       "genre      0\n",
       "city       0\n",
       "time       0\n",
       "day        0\n",
       "dtype: int64"
      ]
     },
     "execution_count": 10,
     "metadata": {},
     "output_type": "execute_result"
    }
   ],
   "source": [
    "df.isna().sum()# подсчёт пропусков"
   ]
  },
  {
   "cell_type": "markdown",
   "metadata": {
    "id": "BWKRtBJ3_Zct"
   },
   "source": [
    "### Дубликаты\n",
    "Посчитаем явные дубликаты в таблице одной командой:"
   ]
  },
  {
   "cell_type": "code",
   "execution_count": 11,
   "metadata": {
    "id": "36eES_S0_Zct"
   },
   "outputs": [
    {
     "name": "stdout",
     "output_type": "stream",
     "text": [
      "3826\n"
     ]
    }
   ],
   "source": [
    "print(df.duplicated().sum())# подсчёт явных дубликатов"
   ]
  },
  {
   "cell_type": "markdown",
   "metadata": {
    "id": "Ot25h6XR_Zct"
   },
   "source": [
    "Вызовем специальный метод `pandas`, чтобы удалить явные дубликаты:"
   ]
  },
  {
   "cell_type": "code",
   "execution_count": 12,
   "metadata": {
    "id": "exFHq6tt_Zct"
   },
   "outputs": [],
   "source": [
    "df = df.drop_duplicates().reset_index(drop=True) # удаление явных дубликатов (с удалением старых индексов и формированием новых)"
   ]
  },
  {
   "cell_type": "markdown",
   "metadata": {
    "id": "Im2YwBEG_Zct"
   },
   "source": [
    "Ещё раз посчитаем явные дубликаты в таблице — убедимся, что полностью от них избавились:"
   ]
  },
  {
   "cell_type": "code",
   "execution_count": 13,
   "metadata": {
    "id": "-8PuNWQ0_Zct"
   },
   "outputs": [
    {
     "name": "stdout",
     "output_type": "stream",
     "text": [
      "0\n"
     ]
    }
   ],
   "source": [
    "print(df.duplicated().sum())# проверка на отсутствие дубликатов"
   ]
  },
  {
   "cell_type": "markdown",
   "metadata": {
    "id": "QlFBsxAr_Zct"
   },
   "source": [
    "Теперь избавимся от неявных дубликатов в колонке `genre`. Например, название одного и того же жанра может быть записано немного по-разному. Такие ошибки тоже повлияют на результат исследования."
   ]
  },
  {
   "cell_type": "markdown",
   "metadata": {
    "id": "eSjWwsOh_Zct"
   },
   "source": [
    "Выведем на экран список уникальных названий жанров, отсортированный в алфавитном порядке. Для этого:\n",
    "* извлечём нужный столбец датафрейма, \n",
    "* применим к нему метод сортировки,\n",
    "* для отсортированного столбца вызовем метод, который вернёт уникальные значения из столбца."
   ]
  },
  {
   "cell_type": "code",
   "execution_count": 14,
   "metadata": {
    "id": "JIUcqzZN_Zct",
    "scrolled": true
   },
   "outputs": [
    {
     "data": {
      "text/plain": [
       "array(['acid', 'acoustic', 'action', 'adult', 'africa', 'afrikaans',\n",
       "       'alternative', 'alternativepunk', 'ambient', 'americana',\n",
       "       'animated', 'anime', 'arabesk', 'arabic', 'arena',\n",
       "       'argentinetango', 'art', 'audiobook', 'author', 'avantgarde',\n",
       "       'axé', 'baile', 'balkan', 'beats', 'bigroom', 'black', 'bluegrass',\n",
       "       'blues', 'bollywood', 'bossa', 'brazilian', 'breakbeat', 'breaks',\n",
       "       'broadway', 'cantautori', 'cantopop', 'canzone', 'caribbean',\n",
       "       'caucasian', 'celtic', 'chamber', 'chanson', 'children', 'chill',\n",
       "       'chinese', 'choral', 'christian', 'christmas', 'classical',\n",
       "       'classicmetal', 'club', 'colombian', 'comedy', 'conjazz',\n",
       "       'contemporary', 'country', 'cuban', 'dance', 'dancehall',\n",
       "       'dancepop', 'dark', 'death', 'deep', 'deutschrock', 'deutschspr',\n",
       "       'dirty', 'disco', 'dnb', 'documentary', 'downbeat', 'downtempo',\n",
       "       'drum', 'dub', 'dubstep', 'eastern', 'easy', 'electronic',\n",
       "       'electropop', 'emo', 'entehno', 'epicmetal', 'estrada', 'ethnic',\n",
       "       'eurofolk', 'european', 'experimental', 'extrememetal', 'fado',\n",
       "       'fairytail', 'film', 'fitness', 'flamenco', 'folk', 'folklore',\n",
       "       'folkmetal', 'folkrock', 'folktronica', 'forró', 'frankreich',\n",
       "       'französisch', 'french', 'funk', 'future', 'gangsta', 'garage',\n",
       "       'german', 'ghazal', 'gitarre', 'glitch', 'gospel', 'gothic',\n",
       "       'grime', 'grunge', 'gypsy', 'handsup', \"hard'n'heavy\", 'hardcore',\n",
       "       'hardstyle', 'hardtechno', 'hip', 'hip-hop', 'hiphop',\n",
       "       'historisch', 'holiday', 'hop', 'horror', 'house', 'hymn', 'idm',\n",
       "       'independent', 'indian', 'indie', 'indipop', 'industrial',\n",
       "       'inspirational', 'instrumental', 'international', 'irish', 'jam',\n",
       "       'japanese', 'jazz', 'jewish', 'jpop', 'jungle', 'k-pop',\n",
       "       'karadeniz', 'karaoke', 'kayokyoku', 'korean', 'laiko', 'latin',\n",
       "       'latino', 'leftfield', 'local', 'lounge', 'loungeelectronic',\n",
       "       'lovers', 'malaysian', 'mandopop', 'marschmusik', 'meditative',\n",
       "       'mediterranean', 'melodic', 'metal', 'metalcore', 'mexican',\n",
       "       'middle', 'minimal', 'miscellaneous', 'modern', 'mood', 'mpb',\n",
       "       'muslim', 'native', 'neoklassik', 'neue', 'new', 'newage',\n",
       "       'newwave', 'nu', 'nujazz', 'numetal', 'oceania', 'old', 'opera',\n",
       "       'orchestral', 'other', 'piano', 'podcasts', 'pop', 'popdance',\n",
       "       'popelectronic', 'popeurodance', 'poprussian', 'post',\n",
       "       'posthardcore', 'postrock', 'power', 'progmetal', 'progressive',\n",
       "       'psychedelic', 'punjabi', 'punk', 'quebecois', 'ragga', 'ram',\n",
       "       'rancheras', 'rap', 'rave', 'reggae', 'reggaeton', 'regional',\n",
       "       'relax', 'religious', 'retro', 'rhythm', 'rnb', 'rnr', 'rock',\n",
       "       'rockabilly', 'rockalternative', 'rockindie', 'rockother',\n",
       "       'romance', 'roots', 'ruspop', 'rusrap', 'rusrock', 'russian',\n",
       "       'salsa', 'samba', 'scenic', 'schlager', 'self', 'sertanejo',\n",
       "       'shanson', 'shoegazing', 'showtunes', 'singer', 'ska', 'skarock',\n",
       "       'slow', 'smooth', 'soft', 'soul', 'soulful', 'sound', 'soundtrack',\n",
       "       'southern', 'specialty', 'speech', 'spiritual', 'sport',\n",
       "       'stonerrock', 'surf', 'swing', 'synthpop', 'synthrock',\n",
       "       'sängerportrait', 'tango', 'tanzorchester', 'taraftar', 'tatar',\n",
       "       'tech', 'techno', 'teen', 'thrash', 'top', 'traditional',\n",
       "       'tradjazz', 'trance', 'tribal', 'trip', 'triphop', 'tropical',\n",
       "       'türk', 'türkçe', 'ukrrock', 'unknown', 'urban', 'uzbek',\n",
       "       'variété', 'vi', 'videogame', 'vocal', 'western', 'world',\n",
       "       'worldbeat', 'ïîï', 'электроника'], dtype=object)"
      ]
     },
     "execution_count": 14,
     "metadata": {},
     "output_type": "execute_result"
    }
   ],
   "source": [
    "df['genre'].sort_values().unique() # Просмотр уникальных названий жанров"
   ]
  },
  {
   "cell_type": "markdown",
   "metadata": {
    "id": "qej-Qmuo_Zct"
   },
   "source": [
    "Просмотрим список и найдём неявные дубликаты названия `hiphop`. Это могут быть названия с ошибками или альтернативные названия того же жанра.\n",
    "\n",
    "Существуют следующие неявные дубликаты:\n",
    "* *hip*,\n",
    "* *hop*,\n",
    "* *hip-hop*.\n",
    "\n",
    "Чтобы очистить от них таблицу, напишем функцию `replace_wrong_genres()` с двумя параметрами: \n",
    "* `wrong_genres` — список дубликатов,\n",
    "* `correct_genre` — строка с правильным значением.\n",
    "\n",
    "Функция должна исправить колонку `genre` в таблице `df`: заменить каждое значение из списка `wrong_genres` на значение из `correct_genre`."
   ]
  },
  {
   "cell_type": "code",
   "execution_count": 15,
   "metadata": {
    "id": "ErNDkmns_Zct"
   },
   "outputs": [],
   "source": [
    "def replace_wrong_genres(wrong_genres, correct_genre):\n",
    "    for wrong_genre in wrong_genres:\n",
    "        df['genre'] = df['genre'].replace(wrong_genre, correct_genre) # Функция для замены неявных дубликатов"
   ]
  },
  {
   "cell_type": "markdown",
   "metadata": {
    "id": "aDoBJxbA_Zct"
   },
   "source": [
    "Вызовем `replace_wrong_genres()` и передадим ей такие аргументы, чтобы она устранила неявные дубликаты: вместо `hip`, `hop` и `hip-hop` в таблице должно быть значение `hiphop`:"
   ]
  },
  {
   "cell_type": "code",
   "execution_count": 16,
   "metadata": {
    "id": "YN5i2hpmSo09"
   },
   "outputs": [],
   "source": [
    "df['genre'] = df['genre'].replace('hip', 'hiphop')\n",
    "df['genre'] = df['genre'].replace('hop', 'hiphop')\n",
    "df['genre'] = df['genre'].replace('hip-hop', 'hiphop') # Устранение неявных дубликатов"
   ]
  },
  {
   "cell_type": "markdown",
   "metadata": {
    "id": "zQKF16_RG15m"
   },
   "source": [
    "Проверим, что заменили неправильные названия:\n",
    "\n",
    "*   hip\n",
    "*   hop\n",
    "*   hip-hop\n",
    "\n",
    "Выведем отсортированный список уникальных значений столбца `genre`:"
   ]
  },
  {
   "cell_type": "code",
   "execution_count": 17,
   "metadata": {
    "id": "wvixALnFG15m",
    "scrolled": true
   },
   "outputs": [
    {
     "data": {
      "text/plain": [
       "array(['acid', 'acoustic', 'action', 'adult', 'africa', 'afrikaans',\n",
       "       'alternative', 'alternativepunk', 'ambient', 'americana',\n",
       "       'animated', 'anime', 'arabesk', 'arabic', 'arena',\n",
       "       'argentinetango', 'art', 'audiobook', 'author', 'avantgarde',\n",
       "       'axé', 'baile', 'balkan', 'beats', 'bigroom', 'black', 'bluegrass',\n",
       "       'blues', 'bollywood', 'bossa', 'brazilian', 'breakbeat', 'breaks',\n",
       "       'broadway', 'cantautori', 'cantopop', 'canzone', 'caribbean',\n",
       "       'caucasian', 'celtic', 'chamber', 'chanson', 'children', 'chill',\n",
       "       'chinese', 'choral', 'christian', 'christmas', 'classical',\n",
       "       'classicmetal', 'club', 'colombian', 'comedy', 'conjazz',\n",
       "       'contemporary', 'country', 'cuban', 'dance', 'dancehall',\n",
       "       'dancepop', 'dark', 'death', 'deep', 'deutschrock', 'deutschspr',\n",
       "       'dirty', 'disco', 'dnb', 'documentary', 'downbeat', 'downtempo',\n",
       "       'drum', 'dub', 'dubstep', 'eastern', 'easy', 'electronic',\n",
       "       'electropop', 'emo', 'entehno', 'epicmetal', 'estrada', 'ethnic',\n",
       "       'eurofolk', 'european', 'experimental', 'extrememetal', 'fado',\n",
       "       'fairytail', 'film', 'fitness', 'flamenco', 'folk', 'folklore',\n",
       "       'folkmetal', 'folkrock', 'folktronica', 'forró', 'frankreich',\n",
       "       'französisch', 'french', 'funk', 'future', 'gangsta', 'garage',\n",
       "       'german', 'ghazal', 'gitarre', 'glitch', 'gospel', 'gothic',\n",
       "       'grime', 'grunge', 'gypsy', 'handsup', \"hard'n'heavy\", 'hardcore',\n",
       "       'hardstyle', 'hardtechno', 'hiphop', 'historisch', 'holiday',\n",
       "       'horror', 'house', 'hymn', 'idm', 'independent', 'indian', 'indie',\n",
       "       'indipop', 'industrial', 'inspirational', 'instrumental',\n",
       "       'international', 'irish', 'jam', 'japanese', 'jazz', 'jewish',\n",
       "       'jpop', 'jungle', 'k-pop', 'karadeniz', 'karaoke', 'kayokyoku',\n",
       "       'korean', 'laiko', 'latin', 'latino', 'leftfield', 'local',\n",
       "       'lounge', 'loungeelectronic', 'lovers', 'malaysian', 'mandopop',\n",
       "       'marschmusik', 'meditative', 'mediterranean', 'melodic', 'metal',\n",
       "       'metalcore', 'mexican', 'middle', 'minimal', 'miscellaneous',\n",
       "       'modern', 'mood', 'mpb', 'muslim', 'native', 'neoklassik', 'neue',\n",
       "       'new', 'newage', 'newwave', 'nu', 'nujazz', 'numetal', 'oceania',\n",
       "       'old', 'opera', 'orchestral', 'other', 'piano', 'podcasts', 'pop',\n",
       "       'popdance', 'popelectronic', 'popeurodance', 'poprussian', 'post',\n",
       "       'posthardcore', 'postrock', 'power', 'progmetal', 'progressive',\n",
       "       'psychedelic', 'punjabi', 'punk', 'quebecois', 'ragga', 'ram',\n",
       "       'rancheras', 'rap', 'rave', 'reggae', 'reggaeton', 'regional',\n",
       "       'relax', 'religious', 'retro', 'rhythm', 'rnb', 'rnr', 'rock',\n",
       "       'rockabilly', 'rockalternative', 'rockindie', 'rockother',\n",
       "       'romance', 'roots', 'ruspop', 'rusrap', 'rusrock', 'russian',\n",
       "       'salsa', 'samba', 'scenic', 'schlager', 'self', 'sertanejo',\n",
       "       'shanson', 'shoegazing', 'showtunes', 'singer', 'ska', 'skarock',\n",
       "       'slow', 'smooth', 'soft', 'soul', 'soulful', 'sound', 'soundtrack',\n",
       "       'southern', 'specialty', 'speech', 'spiritual', 'sport',\n",
       "       'stonerrock', 'surf', 'swing', 'synthpop', 'synthrock',\n",
       "       'sängerportrait', 'tango', 'tanzorchester', 'taraftar', 'tatar',\n",
       "       'tech', 'techno', 'teen', 'thrash', 'top', 'traditional',\n",
       "       'tradjazz', 'trance', 'tribal', 'trip', 'triphop', 'tropical',\n",
       "       'türk', 'türkçe', 'ukrrock', 'unknown', 'urban', 'uzbek',\n",
       "       'variété', 'vi', 'videogame', 'vocal', 'western', 'world',\n",
       "       'worldbeat', 'ïîï', 'электроника'], dtype=object)"
      ]
     },
     "execution_count": 17,
     "metadata": {},
     "output_type": "execute_result"
    }
   ],
   "source": [
    "df['genre'].sort_values().unique() # Проверка на неявные дубликаты"
   ]
  },
  {
   "cell_type": "markdown",
   "metadata": {
    "id": "jz6a9-7HQUDd"
   },
   "source": [
    "**Выводы**\n",
    "\n",
    "Предобработка обнаружила три проблемы в данных:\n",
    "\n",
    "- нарушения в стиле заголовков,\n",
    "- пропущенные значения,\n",
    "- дубликаты — явные и неявные.\n",
    "\n",
    "Вы исправили заголовки, чтобы упростить работу с таблицей. Без дубликатов исследование станет более точным.\n",
    "\n",
    "Пропущенные значения вы заменили на `'unknown'`. Ещё предстоит увидеть, не повредят ли исследованию пропуски в колонке `genre`.\n",
    "\n",
    "Теперь можно перейти к проверке гипотез. "
   ]
  },
  {
   "cell_type": "markdown",
   "metadata": {
    "id": "WttZHXH0SqKk"
   },
   "source": [
    "## Проверка гипотез"
   ]
  },
  {
   "cell_type": "markdown",
   "metadata": {
    "id": "Im936VVi_Zcu"
   },
   "source": [
    "### Сравнение поведения пользователей двух столиц"
   ]
  },
  {
   "cell_type": "markdown",
   "metadata": {
    "id": "nwt_MuaL_Zcu"
   },
   "source": [
    "Первая гипотеза утверждает, что пользователи по-разному слушают музыку в Москве и Санкт-Петербурге. Проверим это предположение по данным о трёх днях недели — понедельнике, среде и пятнице. Для этого:\n",
    "\n",
    "* Разделим пользователей Москвы и Санкт-Петербурга\n",
    "* Сравним, сколько треков послушала каждая группа пользователей в понедельник, среду и пятницу.\n"
   ]
  },
  {
   "cell_type": "markdown",
   "metadata": {
    "id": "8Dw_YMmT_Zcu"
   },
   "source": [
    "Для тренировки сначала выполнем каждый из расчётов по отдельности. \n",
    "\n",
    "Оценим активность пользователей в каждом городе. Сгруппируем данные по городу и посчитаем прослушивания в каждой группе.\n",
    "\n"
   ]
  },
  {
   "cell_type": "code",
   "execution_count": 18,
   "metadata": {
    "id": "0_Qs96oh_Zcu",
    "scrolled": true
   },
   "outputs": [
    {
     "data": {
      "text/plain": [
       "city\n",
       "Moscow              42741\n",
       "Saint-Petersburg    18512\n",
       "Name: user_id, dtype: int64"
      ]
     },
     "execution_count": 18,
     "metadata": {},
     "output_type": "execute_result"
    }
   ],
   "source": [
    "df.groupby('city')['user_id'].count()  # Подсчёт прослушиваний в каждом городе"
   ]
  },
  {
   "cell_type": "markdown",
   "metadata": {
    "id": "dzli3w8o_Zcu"
   },
   "source": [
    "В Москве прослушиваний больше, чем в Петербурге. Из этого не следует, что московские пользователи чаще слушают музыку. Просто самих пользователей в Москве больше.\n",
    "\n",
    "Теперь сгруппируем данные по дню недели и подсчитаем прослушивания в понедельник, среду и пятницу. В данных есть информация о прослушиваниях только за эти дни."
   ]
  },
  {
   "cell_type": "code",
   "execution_count": 19,
   "metadata": {
    "id": "uZMKjiJz_Zcu"
   },
   "outputs": [
    {
     "data": {
      "text/html": [
       "<div>\n",
       "<style scoped>\n",
       "    .dataframe tbody tr th:only-of-type {\n",
       "        vertical-align: middle;\n",
       "    }\n",
       "\n",
       "    .dataframe tbody tr th {\n",
       "        vertical-align: top;\n",
       "    }\n",
       "\n",
       "    .dataframe thead th {\n",
       "        text-align: right;\n",
       "    }\n",
       "</style>\n",
       "<table border=\"1\" class=\"dataframe\">\n",
       "  <thead>\n",
       "    <tr style=\"text-align: right;\">\n",
       "      <th></th>\n",
       "      <th>user_id</th>\n",
       "      <th>track</th>\n",
       "      <th>artist</th>\n",
       "      <th>genre</th>\n",
       "      <th>city</th>\n",
       "      <th>time</th>\n",
       "    </tr>\n",
       "    <tr>\n",
       "      <th>day</th>\n",
       "      <th></th>\n",
       "      <th></th>\n",
       "      <th></th>\n",
       "      <th></th>\n",
       "      <th></th>\n",
       "      <th></th>\n",
       "    </tr>\n",
       "  </thead>\n",
       "  <tbody>\n",
       "    <tr>\n",
       "      <th>Friday</th>\n",
       "      <td>21840</td>\n",
       "      <td>21840</td>\n",
       "      <td>21840</td>\n",
       "      <td>21840</td>\n",
       "      <td>21840</td>\n",
       "      <td>21840</td>\n",
       "    </tr>\n",
       "    <tr>\n",
       "      <th>Monday</th>\n",
       "      <td>21354</td>\n",
       "      <td>21354</td>\n",
       "      <td>21354</td>\n",
       "      <td>21354</td>\n",
       "      <td>21354</td>\n",
       "      <td>21354</td>\n",
       "    </tr>\n",
       "    <tr>\n",
       "      <th>Wednesday</th>\n",
       "      <td>18059</td>\n",
       "      <td>18059</td>\n",
       "      <td>18059</td>\n",
       "      <td>18059</td>\n",
       "      <td>18059</td>\n",
       "      <td>18059</td>\n",
       "    </tr>\n",
       "  </tbody>\n",
       "</table>\n",
       "</div>"
      ],
      "text/plain": [
       "           user_id  track  artist  genre   city   time\n",
       "day                                                   \n",
       "Friday       21840  21840   21840  21840  21840  21840\n",
       "Monday       21354  21354   21354  21354  21354  21354\n",
       "Wednesday    18059  18059   18059  18059  18059  18059"
      ]
     },
     "execution_count": 19,
     "metadata": {},
     "output_type": "execute_result"
    }
   ],
   "source": [
    "df.groupby('day').count() # Подсчёт прослушиваний в каждый из трёх дней"
   ]
  },
  {
   "cell_type": "markdown",
   "metadata": {
    "id": "cC2tNrlL_Zcu"
   },
   "source": [
    "В среднем пользователи из двух городов менее активны по средам. Но картина может измениться, если рассмотреть каждый город в отдельности."
   ]
  },
  {
   "cell_type": "markdown",
   "metadata": {
    "id": "POzs8bGa_Zcu"
   },
   "source": [
    "Вы видели, как работает группировка по городу и по дням недели. Теперь напишем функцию, которая объединит два эти расчёта.\n",
    "\n",
    "Создадим функцию `number_tracks()`, которая посчитает прослушивания для заданного дня и города. Ей понадобятся два параметра:\n",
    "* день недели,\n",
    "* название города.\n",
    "\n",
    "В функции сохраним в переменную строки исходной таблицы, у которых значение:\n",
    "  * в колонке `day` равно параметру `day`,\n",
    "  * в колонке `city` равно параметру `city`.\n",
    "\n",
    "Для этого применим последовательную фильтрацию с логической индексацией.\n",
    "\n",
    "Затем посчитайем значения в столбце `user_id` получившейся таблицы. Результат сохраним в новую переменную. Вернём эту переменную из функции."
   ]
  },
  {
   "cell_type": "code",
   "execution_count": 20,
   "metadata": {
    "id": "Nz3GdQB1_Zcu"
   },
   "outputs": [],
   "source": [
    "# <создание функции number_tracks()>\n",
    "def number_tracks(day, city): # Объявляется функция с двумя параметрами: day, city.\n",
    "    track_list = df[df['day'] == day] \n",
    "    track_list = track_list[track_list['city'] == city]# В переменной track_list сохраняются те строки таблицы df, для которых \n",
    "# значение в столбце 'day' равно параметру day и одновременно значение\n",
    "# в столбце 'city' равно параметру city (используем последовательную фильтрацию\n",
    "# с помощью логической индексации).\n",
    "    track_list_count = track_list['user_id'].count()\n",
    "# В переменной track_list_count сохраняется число значений столбца 'user_id',\n",
    "# рассчитанное методом count() для таблицы track_list.\n",
    "    return track_list_count# Функция возвращает число - значение track_list_count.\n",
    "\n",
    "# Функция для подсчёта прослушиваний для конкретного города и дня.\n",
    "# С помощью последовательной фильтрации с логической индексацией она \n",
    "# сначала получит из исходной таблицы строки с нужным днём,\n",
    "# затем из результата отфильтрует строки с нужным городом,\n",
    "# методом count() посчитает количество значений в колонке user_id. \n",
    "# Это количество функция вернёт в качестве результата"
   ]
  },
  {
   "cell_type": "markdown",
   "metadata": {
    "id": "ytf7xFrFJQ2r"
   },
   "source": [
    "Вызовем `number_tracks()` шесть раз, меняя значение параметров — так, чтобы получить данные для каждого города в каждый из трёх дней."
   ]
  },
  {
   "cell_type": "code",
   "execution_count": 21,
   "metadata": {
    "id": "rJcRATNQ_Zcu",
    "scrolled": true
   },
   "outputs": [
    {
     "name": "stdout",
     "output_type": "stream",
     "text": [
      "15740\n"
     ]
    }
   ],
   "source": [
    "print(number_tracks('Monday', 'Moscow')) # количество прослушиваний в Москве по понедельникам"
   ]
  },
  {
   "cell_type": "code",
   "execution_count": 22,
   "metadata": {
    "id": "hq_ncZ5T_Zcu"
   },
   "outputs": [
    {
     "name": "stdout",
     "output_type": "stream",
     "text": [
      "5614\n"
     ]
    }
   ],
   "source": [
    "print(number_tracks('Monday', 'Saint-Petersburg'))# количество прослушиваний в Санкт-Петербурге по понедельникам"
   ]
  },
  {
   "cell_type": "code",
   "execution_count": 23,
   "metadata": {
    "id": "_NTy2VPU_Zcu"
   },
   "outputs": [
    {
     "name": "stdout",
     "output_type": "stream",
     "text": [
      "11056\n"
     ]
    }
   ],
   "source": [
    "print(number_tracks('Wednesday', 'Moscow'))# количество прослушиваний в Москве по средам"
   ]
  },
  {
   "cell_type": "code",
   "execution_count": 24,
   "metadata": {
    "id": "j2y3TAwo_Zcu"
   },
   "outputs": [
    {
     "name": "stdout",
     "output_type": "stream",
     "text": [
      "7003\n"
     ]
    }
   ],
   "source": [
    "print(number_tracks('Wednesday', 'Saint-Petersburg'))# количество прослушиваний в Санкт-Петербурге по средам"
   ]
  },
  {
   "cell_type": "code",
   "execution_count": 25,
   "metadata": {
    "id": "vYDw5u_K_Zcu"
   },
   "outputs": [
    {
     "name": "stdout",
     "output_type": "stream",
     "text": [
      "15945\n"
     ]
    }
   ],
   "source": [
    "print(number_tracks('Friday', 'Moscow'))# количество прослушиваний в Москве по пятницам"
   ]
  },
  {
   "cell_type": "code",
   "execution_count": 26,
   "metadata": {
    "id": "8_yzFtW3_Zcu"
   },
   "outputs": [
    {
     "name": "stdout",
     "output_type": "stream",
     "text": [
      "5895\n"
     ]
    }
   ],
   "source": [
    "print(number_tracks('Friday', 'Saint-Petersburg'))# количество прослушиваний в Санкт-Петербурге по пятницам"
   ]
  },
  {
   "cell_type": "markdown",
   "metadata": {
    "id": "7QXffbO-_Zcu"
   },
   "source": [
    "Создадим c помощью конструктора `pd.DataFrame` таблицу, где\n",
    "* названия колонок — `['city', 'monday', 'wednesday', 'friday']`;\n",
    "* данные — результаты, которые вы получили с помощью `number_tracks`."
   ]
  },
  {
   "cell_type": "code",
   "execution_count": 43,
   "metadata": {
    "id": "APAcLpOr_Zcu"
   },
   "outputs": [
    {
     "data": {
      "text/html": [
       "<div>\n",
       "<style scoped>\n",
       "    .dataframe tbody tr th:only-of-type {\n",
       "        vertical-align: middle;\n",
       "    }\n",
       "\n",
       "    .dataframe tbody tr th {\n",
       "        vertical-align: top;\n",
       "    }\n",
       "\n",
       "    .dataframe thead th {\n",
       "        text-align: right;\n",
       "    }\n",
       "</style>\n",
       "<table border=\"1\" class=\"dataframe\">\n",
       "  <thead>\n",
       "    <tr style=\"text-align: right;\">\n",
       "      <th></th>\n",
       "      <th>city</th>\n",
       "      <th>monday</th>\n",
       "      <th>wednesday</th>\n",
       "      <th>friday</th>\n",
       "    </tr>\n",
       "  </thead>\n",
       "  <tbody>\n",
       "    <tr>\n",
       "      <th>0</th>\n",
       "      <td>Moscow</td>\n",
       "      <td>15740</td>\n",
       "      <td>11056</td>\n",
       "      <td>15945</td>\n",
       "    </tr>\n",
       "    <tr>\n",
       "      <th>1</th>\n",
       "      <td>Saint-Petersburg</td>\n",
       "      <td>5614</td>\n",
       "      <td>7003</td>\n",
       "      <td>5895</td>\n",
       "    </tr>\n",
       "  </tbody>\n",
       "</table>\n",
       "</div>"
      ],
      "text/plain": [
       "               city  monday  wednesday  friday\n",
       "0            Moscow   15740      11056   15945\n",
       "1  Saint-Petersburg    5614       7003    5895"
      ]
     },
     "execution_count": 43,
     "metadata": {},
     "output_type": "execute_result"
    }
   ],
   "source": [
    "data = df = pd.DataFrame(data=[['Moscow', 15740, 11056, 15945], ['Saint-Petersburg', 5614, 7003, 5895]], columns=['city', 'monday', 'wednesday', 'friday'])\n",
    "df.head()# Таблица с результатами"
   ]
  },
  {
   "cell_type": "markdown",
   "metadata": {
    "id": "-EgPIHYu_Zcu"
   },
   "source": [
    "**Выводы**\n",
    "\n",
    "Данные показывают разницу поведения пользователей:\n",
    "\n",
    "- В Москве пик прослушиваний приходится на понедельник и пятницу, а в среду заметен спад.\n",
    "- В Петербурге, наоборот, больше слушают музыку по средам. Активность в понедельник и пятницу здесь почти в равной мере уступает среде.\n",
    "\n",
    "Значит, данные говорят в пользу первой гипотезы."
   ]
  },
  {
   "cell_type": "markdown",
   "metadata": {
    "id": "atZAxtq4_Zcu"
   },
   "source": [
    "### Музыка в начале и в конце недели"
   ]
  },
  {
   "cell_type": "markdown",
   "metadata": {
    "id": "eXrQqXFH_Zcu"
   },
   "source": [
    "Согласно второй гипотезе, утром в понедельник в Москве преобладают одни жанры, а в Петербурге — другие. Так же и вечером пятницы преобладают разные жанры — в зависимости от города."
   ]
  },
  {
   "cell_type": "markdown",
   "metadata": {
    "id": "S8UcW6Hw_Zcu"
   },
   "source": [
    "Сохраним таблицы с данными в две переменные:\n",
    "* по Москве — в `moscow_general`;\n",
    "* по Санкт-Петербургу — в `spb_general`."
   ]
  },
  {
   "cell_type": "code",
   "execution_count": 28,
   "metadata": {
    "id": "qeaFfM_P_Zcu"
   },
   "outputs": [
    {
     "data": {
      "text/html": [
       "<div>\n",
       "<style scoped>\n",
       "    .dataframe tbody tr th:only-of-type {\n",
       "        vertical-align: middle;\n",
       "    }\n",
       "\n",
       "    .dataframe tbody tr th {\n",
       "        vertical-align: top;\n",
       "    }\n",
       "\n",
       "    .dataframe thead th {\n",
       "        text-align: right;\n",
       "    }\n",
       "</style>\n",
       "<table border=\"1\" class=\"dataframe\">\n",
       "  <thead>\n",
       "    <tr style=\"text-align: right;\">\n",
       "      <th></th>\n",
       "      <th>user_id</th>\n",
       "      <th>track</th>\n",
       "      <th>artist</th>\n",
       "      <th>genre</th>\n",
       "      <th>city</th>\n",
       "      <th>time</th>\n",
       "      <th>day</th>\n",
       "    </tr>\n",
       "  </thead>\n",
       "  <tbody>\n",
       "    <tr>\n",
       "      <th>1</th>\n",
       "      <td>55204538</td>\n",
       "      <td>Delayed Because of Accident</td>\n",
       "      <td>Andreas Rönnberg</td>\n",
       "      <td>rock</td>\n",
       "      <td>Moscow</td>\n",
       "      <td>14:07:09</td>\n",
       "      <td>Friday</td>\n",
       "    </tr>\n",
       "    <tr>\n",
       "      <th>4</th>\n",
       "      <td>E2DC1FAE</td>\n",
       "      <td>Soul People</td>\n",
       "      <td>Space Echo</td>\n",
       "      <td>dance</td>\n",
       "      <td>Moscow</td>\n",
       "      <td>08:34:34</td>\n",
       "      <td>Monday</td>\n",
       "    </tr>\n",
       "    <tr>\n",
       "      <th>6</th>\n",
       "      <td>4CB90AA5</td>\n",
       "      <td>True</td>\n",
       "      <td>Roman Messer</td>\n",
       "      <td>dance</td>\n",
       "      <td>Moscow</td>\n",
       "      <td>13:00:07</td>\n",
       "      <td>Wednesday</td>\n",
       "    </tr>\n",
       "    <tr>\n",
       "      <th>7</th>\n",
       "      <td>F03E1C1F</td>\n",
       "      <td>Feeling This Way</td>\n",
       "      <td>Polina Griffith</td>\n",
       "      <td>dance</td>\n",
       "      <td>Moscow</td>\n",
       "      <td>20:47:49</td>\n",
       "      <td>Wednesday</td>\n",
       "    </tr>\n",
       "    <tr>\n",
       "      <th>8</th>\n",
       "      <td>8FA1D3BE</td>\n",
       "      <td>И вновь продолжается бой</td>\n",
       "      <td>unknown</td>\n",
       "      <td>ruspop</td>\n",
       "      <td>Moscow</td>\n",
       "      <td>09:17:40</td>\n",
       "      <td>Friday</td>\n",
       "    </tr>\n",
       "  </tbody>\n",
       "</table>\n",
       "</div>"
      ],
      "text/plain": [
       "    user_id                        track            artist   genre    city  \\\n",
       "1  55204538  Delayed Because of Accident  Andreas Rönnberg    rock  Moscow   \n",
       "4  E2DC1FAE                  Soul People        Space Echo   dance  Moscow   \n",
       "6  4CB90AA5                         True      Roman Messer   dance  Moscow   \n",
       "7  F03E1C1F             Feeling This Way   Polina Griffith   dance  Moscow   \n",
       "8  8FA1D3BE     И вновь продолжается бой           unknown  ruspop  Moscow   \n",
       "\n",
       "       time        day  \n",
       "1  14:07:09     Friday  \n",
       "4  08:34:34     Monday  \n",
       "6  13:00:07  Wednesday  \n",
       "7  20:47:49  Wednesday  \n",
       "8  09:17:40     Friday  "
      ]
     },
     "execution_count": 28,
     "metadata": {},
     "output_type": "execute_result"
    }
   ],
   "source": [
    "moscow_general = df[df['city'] == 'Moscow']# получение таблицы moscow_general из тех строк таблицы df, \n",
    "moscow_general.head()# для которых значение в столбце 'city' равно 'Moscow'\n"
   ]
  },
  {
   "cell_type": "code",
   "execution_count": 29,
   "metadata": {
    "id": "ORaVRKto_Zcu"
   },
   "outputs": [
    {
     "data": {
      "text/html": [
       "<div>\n",
       "<style scoped>\n",
       "    .dataframe tbody tr th:only-of-type {\n",
       "        vertical-align: middle;\n",
       "    }\n",
       "\n",
       "    .dataframe tbody tr th {\n",
       "        vertical-align: top;\n",
       "    }\n",
       "\n",
       "    .dataframe thead th {\n",
       "        text-align: right;\n",
       "    }\n",
       "</style>\n",
       "<table border=\"1\" class=\"dataframe\">\n",
       "  <thead>\n",
       "    <tr style=\"text-align: right;\">\n",
       "      <th></th>\n",
       "      <th>user_id</th>\n",
       "      <th>track</th>\n",
       "      <th>artist</th>\n",
       "      <th>genre</th>\n",
       "      <th>city</th>\n",
       "      <th>time</th>\n",
       "      <th>day</th>\n",
       "    </tr>\n",
       "  </thead>\n",
       "  <tbody>\n",
       "    <tr>\n",
       "      <th>0</th>\n",
       "      <td>FFB692EC</td>\n",
       "      <td>Kamigata To Boots</td>\n",
       "      <td>The Mass Missile</td>\n",
       "      <td>rock</td>\n",
       "      <td>Saint-Petersburg</td>\n",
       "      <td>20:28:33</td>\n",
       "      <td>Wednesday</td>\n",
       "    </tr>\n",
       "    <tr>\n",
       "      <th>2</th>\n",
       "      <td>20EC38</td>\n",
       "      <td>Funiculì funiculà</td>\n",
       "      <td>Mario Lanza</td>\n",
       "      <td>pop</td>\n",
       "      <td>Saint-Petersburg</td>\n",
       "      <td>20:58:07</td>\n",
       "      <td>Wednesday</td>\n",
       "    </tr>\n",
       "    <tr>\n",
       "      <th>3</th>\n",
       "      <td>A3DD03C9</td>\n",
       "      <td>Dragons in the Sunset</td>\n",
       "      <td>Fire + Ice</td>\n",
       "      <td>folk</td>\n",
       "      <td>Saint-Petersburg</td>\n",
       "      <td>08:37:09</td>\n",
       "      <td>Monday</td>\n",
       "    </tr>\n",
       "    <tr>\n",
       "      <th>5</th>\n",
       "      <td>842029A1</td>\n",
       "      <td>Преданная</td>\n",
       "      <td>IMPERVTOR</td>\n",
       "      <td>rusrap</td>\n",
       "      <td>Saint-Petersburg</td>\n",
       "      <td>13:09:41</td>\n",
       "      <td>Friday</td>\n",
       "    </tr>\n",
       "    <tr>\n",
       "      <th>9</th>\n",
       "      <td>E772D5C0</td>\n",
       "      <td>Pessimist</td>\n",
       "      <td>unknown</td>\n",
       "      <td>dance</td>\n",
       "      <td>Saint-Petersburg</td>\n",
       "      <td>21:20:49</td>\n",
       "      <td>Wednesday</td>\n",
       "    </tr>\n",
       "  </tbody>\n",
       "</table>\n",
       "</div>"
      ],
      "text/plain": [
       "    user_id                  track            artist   genre  \\\n",
       "0  FFB692EC      Kamigata To Boots  The Mass Missile    rock   \n",
       "2    20EC38      Funiculì funiculà       Mario Lanza     pop   \n",
       "3  A3DD03C9  Dragons in the Sunset        Fire + Ice    folk   \n",
       "5  842029A1              Преданная         IMPERVTOR  rusrap   \n",
       "9  E772D5C0              Pessimist           unknown   dance   \n",
       "\n",
       "               city      time        day  \n",
       "0  Saint-Petersburg  20:28:33  Wednesday  \n",
       "2  Saint-Petersburg  20:58:07  Wednesday  \n",
       "3  Saint-Petersburg  08:37:09     Monday  \n",
       "5  Saint-Petersburg  13:09:41     Friday  \n",
       "9  Saint-Petersburg  21:20:49  Wednesday  "
      ]
     },
     "execution_count": 29,
     "metadata": {},
     "output_type": "execute_result"
    }
   ],
   "source": [
    "spb_general = df[df['city'] == 'Saint-Petersburg'] # получение таблицы spb_general из тех строк таблицы df,\n",
    "spb_general.head()# для которых значение в столбце 'city' равно 'Saint-Petersburg'\n"
   ]
  },
  {
   "cell_type": "markdown",
   "metadata": {
    "id": "MEJV-CX2_Zcu"
   },
   "source": [
    "Создадим функцию `genre_weekday()` с четырьмя параметрами:\n",
    "* таблица (датафрейм) с данными,\n",
    "* день недели,\n",
    "* начальная временная метка в формате 'hh:mm', \n",
    "* последняя временная метка в формате 'hh:mm'.\n",
    "\n",
    "Функция должна вернуть информацию о топ-10 жанров тех треков, которые прослушивали в указанный день, в промежутке между двумя отметками времени."
   ]
  },
  {
   "cell_type": "code",
   "execution_count": 30,
   "metadata": {
    "id": "laJT9BYl_Zcu"
   },
   "outputs": [],
   "source": [
    "def genre_weekday(table, day, time1, time2): # Объявление функции genre_weekday() с параметрами table, day, time1, time2,\n",
    "# которая возвращает информацию о самых популярных жанрах в указанный день в\n",
    "# заданное время:\n",
    "    genre_df = table[table['day'] == day]# 1) в переменную genre_df сохраняются те строки переданного датафрейма table, для\n",
    "#    которых одновременно:\n",
    "#    - значение в столбце day равно значению аргумента day\n",
    "    genre_df = genre_df[genre_df['time'] > time1] #    - значение в столбце time больше значения аргумента time1\n",
    "    genre_df = genre_df[genre_df['time'] < time2] #    - значение в столбце time меньше значения аргумента time2\n",
    "#    Используем последовательную фильтрацию с помощью логической индексации.\n",
    "    genre_df_count = genre_df.groupby('genre')['genre'].count() # 2) сгруппировать датафрейм genre_df по столбцу genre, взять один из его\n",
    "#    столбцов и посчитать методом count() количество записей для каждого из\n",
    "#    присутствующих жанров, получившийся Series записать в переменную\n",
    "#    genre_df_count\n",
    "    genre_df_sorted = genre_df_count.sort_values(ascending=False)# 3) отсортировать genre_df_count по убыванию встречаемости и сохранить\n",
    "#    в переменную genre_df_sorted\n",
    "    return genre_df_sorted.head(10)\n",
    "    # 4) вернуть Series из 10 первых значений genre_df_sorted, это будут топ-10\n",
    "#    популярных жанров (в указанный день, в заданное время)"
   ]
  },
  {
   "cell_type": "markdown",
   "metadata": {
    "id": "la2s2_PF_Zcu"
   },
   "source": [
    "Cравним результаты функции `genre_weekday()` для Москвы и Санкт-Петербурга в понедельник утром (с 7:00 до 11:00) и в пятницу вечером (с 17:00 до 23:00):"
   ]
  },
  {
   "cell_type": "code",
   "execution_count": 31,
   "metadata": {
    "id": "yz7itPUQ_Zcu"
   },
   "outputs": [
    {
     "data": {
      "text/plain": [
       "genre\n",
       "pop            781\n",
       "dance          549\n",
       "electronic     480\n",
       "rock           474\n",
       "hiphop         286\n",
       "ruspop         186\n",
       "world          181\n",
       "rusrap         175\n",
       "alternative    164\n",
       "unknown        161\n",
       "Name: genre, dtype: int64"
      ]
     },
     "execution_count": 31,
     "metadata": {},
     "output_type": "execute_result"
    }
   ],
   "source": [
    "genre_weekday(moscow_general, 'Monday', '07:00', '11:00')\n",
    "# вызов функции для утра понедельника в Москве (вместо df — таблица moscow_general)\n",
    "# объекты, хранящие время, являются строками и сравниваются как строки\n",
    "# пример вызова: genre_weekday(moscow_general, 'Monday', '07:00', '11:00')"
   ]
  },
  {
   "cell_type": "code",
   "execution_count": 32,
   "metadata": {
    "id": "kwUcHPdy_Zcu"
   },
   "outputs": [
    {
     "data": {
      "text/plain": [
       "genre\n",
       "pop            218\n",
       "dance          182\n",
       "rock           162\n",
       "electronic     147\n",
       "hiphop          80\n",
       "ruspop          64\n",
       "alternative     58\n",
       "rusrap          55\n",
       "jazz            44\n",
       "classical       40\n",
       "Name: genre, dtype: int64"
      ]
     },
     "execution_count": 32,
     "metadata": {},
     "output_type": "execute_result"
    }
   ],
   "source": [
    "genre_weekday(spb_general, 'Monday', '07:00', '11:00')# вызов функции для утра понедельника в Петербурге (вместо df — таблица spb_general)"
   ]
  },
  {
   "cell_type": "code",
   "execution_count": 33,
   "metadata": {
    "id": "EzXVRE1o_Zcu"
   },
   "outputs": [
    {
     "data": {
      "text/plain": [
       "genre\n",
       "pop            713\n",
       "rock           517\n",
       "dance          495\n",
       "electronic     482\n",
       "hiphop         273\n",
       "world          208\n",
       "ruspop         170\n",
       "alternative    163\n",
       "classical      163\n",
       "rusrap         142\n",
       "Name: genre, dtype: int64"
      ]
     },
     "execution_count": 33,
     "metadata": {},
     "output_type": "execute_result"
    }
   ],
   "source": [
    "genre_weekday(moscow_general, 'Friday', '17:00', '23:00')# вызов функции для вечера пятницы в Москве"
   ]
  },
  {
   "cell_type": "code",
   "execution_count": 34,
   "metadata": {
    "id": "JZaEKu5v_Zcu"
   },
   "outputs": [
    {
     "data": {
      "text/plain": [
       "genre\n",
       "pop            256\n",
       "electronic     216\n",
       "rock           216\n",
       "dance          210\n",
       "hiphop          97\n",
       "alternative     63\n",
       "jazz            61\n",
       "classical       60\n",
       "rusrap          59\n",
       "world           54\n",
       "Name: genre, dtype: int64"
      ]
     },
     "execution_count": 34,
     "metadata": {},
     "output_type": "execute_result"
    }
   ],
   "source": [
    "genre_weekday(spb_general, 'Friday', '17:00', '23:00')# вызов функции для вечера пятницы в Петербурге"
   ]
  },
  {
   "cell_type": "markdown",
   "metadata": {
    "id": "wrCe4MNX_Zcu"
   },
   "source": [
    "**Выводы**\n",
    "\n",
    "Если сравнить топ-10 жанров в понедельник утром, можно сделать такие выводы:\n",
    "\n",
    "1. В Москве и Петербурге слушают похожую музыку. Единственное отличие — в московский рейтинг вошёл жанр “world”, а в петербургский — джаз и классика.\n",
    "\n",
    "2. В Москве пропущенных значений оказалось так много, что значение `'unknown'` заняло десятое место среди самых популярных жанров. Значит, пропущенные значения занимают существенную долю в данных и угрожают достоверности исследования.\n",
    "\n",
    "Вечер пятницы не меняет эту картину. Некоторые жанры поднимаются немного выше, другие спускаются, но в целом топ-10 остаётся тем же самым.\n",
    "\n",
    "Таким образом, вторая гипотеза подтвердилась лишь частично:\n",
    "* Пользователи слушают похожую музыку в начале недели и в конце.\n",
    "* Разница между Москвой и Петербургом не слишком выражена. В Москве чаще слушают русскую популярную музыку, в Петербурге — джаз.\n",
    "\n",
    "Однако пропуски в данных ставят под сомнение этот результат. В Москве их так много, что рейтинг топ-10 мог бы выглядеть иначе, если бы не утерянные  данные о жанрах."
   ]
  },
  {
   "cell_type": "markdown",
   "metadata": {
    "id": "JolODAqr_Zcu"
   },
   "source": [
    "### Жанровые предпочтения в Москве и Петербурге\n",
    "\n",
    "Гипотеза: Петербург — столица рэпа, музыку этого жанра там слушают чаще, чем в Москве.  А Москва — город контрастов, в котором, тем не менее, преобладает поп-музыка."
   ]
  },
  {
   "cell_type": "markdown",
   "metadata": {
    "id": "DlegSvaT_Zcu"
   },
   "source": [
    "Сгруппируем таблицу `moscow_general` по жанру и посчитаем прослушивания треков каждого жанра методом `count()`. Затем отсортируем результат в порядке убывания и сохраним его в таблице `moscow_genres`."
   ]
  },
  {
   "cell_type": "code",
   "execution_count": 35,
   "metadata": {
    "id": "r19lIPke_Zcu"
   },
   "outputs": [],
   "source": [
    "moscow_genres = moscow_general.groupby('genre')['genre'].count().sort_values(ascending = False)# одной строкой: группировка таблицы moscow_general по столбцу 'genre', \n",
    "# подсчёт числа значений 'genre' в этой группировке методом count(), \n",
    "# сортировка получившегося Series в порядке убывания и сохранение в moscow_genres"
   ]
  },
  {
   "cell_type": "markdown",
   "metadata": {
    "id": "6kMuomxTiIr8"
   },
   "source": [
    "Выведем на экран первые десять строк `moscow_genres`:"
   ]
  },
  {
   "cell_type": "code",
   "execution_count": 36,
   "metadata": {
    "id": "WhCSooF8_Zcv"
   },
   "outputs": [
    {
     "data": {
      "text/plain": [
       "genre\n",
       "pop            5892\n",
       "dance          4435\n",
       "rock           3965\n",
       "electronic     3786\n",
       "hiphop         2096\n",
       "classical      1616\n",
       "world          1432\n",
       "alternative    1379\n",
       "ruspop         1372\n",
       "rusrap         1161\n",
       "Name: genre, dtype: int64"
      ]
     },
     "execution_count": 36,
     "metadata": {},
     "output_type": "execute_result"
    }
   ],
   "source": [
    "moscow_genres.head(10)# просмотр первых 10 строк moscow_genres"
   ]
  },
  {
   "cell_type": "markdown",
   "metadata": {
    "id": "cnPG2vnN_Zcv"
   },
   "source": [
    "Теперь повторим то же и для Петербурга.\n",
    "\n",
    "Сгруппируем таблицу `spb_general` по жанру. Посчитаем прослушивания треков каждого жанра. Результат отсортируем в порядке убывания и сохраним в таблице `spb_genres`:"
   ]
  },
  {
   "cell_type": "code",
   "execution_count": 37,
   "metadata": {
    "id": "gluLIpE7_Zcv"
   },
   "outputs": [],
   "source": [
    "spb_genres = spb_general.groupby('genre')['genre'].count().sort_values(ascending = False)# одной строкой: группировка таблицы spb_general по столбцу 'genre', \n",
    "# подсчёт числа значений 'genre' в этой группировке методом count(), \n",
    "# сортировка получившегося Series в порядке убывания и сохранение в spb_genres"
   ]
  },
  {
   "cell_type": "markdown",
   "metadata": {
    "id": "5Doha_ODgyQ8"
   },
   "source": [
    "Выведем на экран первые десять строк `spb_genres`:"
   ]
  },
  {
   "cell_type": "code",
   "execution_count": 38,
   "metadata": {
    "id": "uaGJHjVU_Zcv"
   },
   "outputs": [
    {
     "data": {
      "text/plain": [
       "genre\n",
       "pop            2431\n",
       "dance          1932\n",
       "rock           1879\n",
       "electronic     1736\n",
       "hiphop          960\n",
       "alternative     649\n",
       "classical       646\n",
       "rusrap          564\n",
       "ruspop          538\n",
       "world           515\n",
       "Name: genre, dtype: int64"
      ]
     },
     "execution_count": 38,
     "metadata": {},
     "output_type": "execute_result"
    }
   ],
   "source": [
    "spb_genres.head(10)# просмотр первых 10 строк spb_genres"
   ]
  },
  {
   "cell_type": "markdown",
   "metadata": {
    "id": "RY51YJYu_Zcv"
   },
   "source": [
    "**Выводы**"
   ]
  },
  {
   "cell_type": "markdown",
   "metadata": {
    "id": "nVhnJEm__Zcv"
   },
   "source": [
    "Гипотеза частично подтвердилась:\n",
    "* Поп-музыка — самый популярный жанр в Москве, как и предполагала гипотеза. Более того, в топ-10 жанров встречается близкий жанр — русская популярная музыка.\n",
    "* Вопреки ожиданиям, рэп одинаково популярен в Москве и Петербурге. \n"
   ]
  },
  {
   "cell_type": "markdown",
   "metadata": {
    "id": "ykKQ0N65_Zcv"
   },
   "source": [
    "## Итоги исследования"
   ]
  },
  {
   "cell_type": "markdown",
   "metadata": {
    "id": "tjUwbHb3_Zcv"
   },
   "source": [
    "Мы проверили три гипотезы и установили:\n",
    "\n",
    "1. День недели по-разному влияет на активность пользователей в Москве и Петербурге. \n",
    "\n",
    "Первая гипотеза полностью подтвердилась.\n",
    "\n",
    "2. Музыкальные предпочтения не сильно меняются в течение недели — будь то Москва или Петербург. Небольшие различия заметны в начале недели, по понедельникам:\n",
    "* в Москве слушают музыку жанра “world”,\n",
    "* в Петербурге — джаз и классику.\n",
    "\n",
    "Таким образом, вторая гипотеза подтвердилась лишь отчасти. Этот результат мог оказаться иным, если бы не пропуски в данных.\n",
    "\n",
    "3. Во вкусах пользователей Москвы и Петербурга больше общего чем различий. Вопреки ожиданиям, предпочтения жанров в Петербурге напоминают московские.\n",
    "\n",
    "Третья гипотеза не подтвердилась. Если различия в предпочтениях и существуют, на основной массе пользователей они незаметны.\n",
    "\n",
    "**На практике исследования содержат проверки статистических гипотез.**\n",
    "Из данных одного сервиса не всегда можно сделать вывод о всех жителях города.\n",
    "Проверки статистических гипотез покажут, насколько они достоверны, исходя из имеющихся данных. \n",
    "С методами проверок гипотез вы ещё познакомитесь в следующих темах."
   ]
  }
 ],
 "metadata": {
  "ExecuteTimeLog": [
   {
    "duration": 43,
    "start_time": "2022-05-04T19:19:26.332Z"
   },
   {
    "duration": 478,
    "start_time": "2022-05-04T19:19:43.112Z"
   },
   {
    "duration": 158,
    "start_time": "2022-05-04T19:19:45.866Z"
   },
   {
    "duration": 15,
    "start_time": "2022-05-04T19:19:48.431Z"
   },
   {
    "duration": 29,
    "start_time": "2022-05-04T19:19:52.882Z"
   },
   {
    "duration": 4,
    "start_time": "2022-05-04T19:23:53.949Z"
   },
   {
    "duration": 9,
    "start_time": "2022-05-04T19:25:43.777Z"
   },
   {
    "duration": 3,
    "start_time": "2022-05-04T19:25:55.296Z"
   },
   {
    "duration": 27,
    "start_time": "2022-05-04T20:25:01.818Z"
   },
   {
    "duration": 7,
    "start_time": "2022-05-04T20:25:17.838Z"
   },
   {
    "duration": 24,
    "start_time": "2022-05-04T20:25:22.152Z"
   },
   {
    "duration": 25,
    "start_time": "2022-05-04T20:25:34.066Z"
   },
   {
    "duration": 22,
    "start_time": "2022-05-04T20:26:06.034Z"
   },
   {
    "duration": 18,
    "start_time": "2022-05-04T20:32:04.854Z"
   },
   {
    "duration": 23,
    "start_time": "2022-05-04T20:32:12.470Z"
   },
   {
    "duration": 59,
    "start_time": "2022-05-04T20:33:03.939Z"
   },
   {
    "duration": 57,
    "start_time": "2022-05-04T20:34:44.737Z"
   },
   {
    "duration": 56,
    "start_time": "2022-05-04T20:35:06.746Z"
   },
   {
    "duration": 66,
    "start_time": "2022-05-04T20:36:58.171Z"
   },
   {
    "duration": 55,
    "start_time": "2022-05-04T20:37:00.048Z"
   },
   {
    "duration": 6,
    "start_time": "2022-05-04T20:38:45.922Z"
   },
   {
    "duration": 3,
    "start_time": "2022-05-04T20:39:07.360Z"
   },
   {
    "duration": 134,
    "start_time": "2022-05-04T20:39:08.854Z"
   },
   {
    "duration": 3,
    "start_time": "2022-05-04T20:46:20.223Z"
   },
   {
    "duration": 6,
    "start_time": "2022-05-04T20:48:40.715Z"
   },
   {
    "duration": 6,
    "start_time": "2022-05-04T20:49:00.916Z"
   },
   {
    "duration": 3,
    "start_time": "2022-05-04T20:52:35.572Z"
   },
   {
    "duration": 7,
    "start_time": "2022-05-04T20:52:37.073Z"
   },
   {
    "duration": 6,
    "start_time": "2022-05-04T20:52:39.510Z"
   },
   {
    "duration": 2,
    "start_time": "2022-05-04T21:00:15.887Z"
   },
   {
    "duration": 6,
    "start_time": "2022-05-04T21:00:17.721Z"
   },
   {
    "duration": 9,
    "start_time": "2022-05-04T21:00:35.785Z"
   },
   {
    "duration": 6,
    "start_time": "2022-05-04T21:00:42.362Z"
   },
   {
    "duration": 52,
    "start_time": "2022-05-06T18:32:49.950Z"
   },
   {
    "duration": 7,
    "start_time": "2022-05-06T18:32:59.782Z"
   },
   {
    "duration": 437,
    "start_time": "2022-05-06T18:33:25.106Z"
   },
   {
    "duration": 183,
    "start_time": "2022-05-06T18:33:26.220Z"
   },
   {
    "duration": 36,
    "start_time": "2022-05-06T18:33:30.122Z"
   },
   {
    "duration": 13,
    "start_time": "2022-05-06T18:34:57.581Z"
   },
   {
    "duration": 12,
    "start_time": "2022-05-06T18:35:29.619Z"
   },
   {
    "duration": 10,
    "start_time": "2022-05-06T18:38:27.598Z"
   },
   {
    "duration": 9,
    "start_time": "2022-05-06T18:38:47.275Z"
   },
   {
    "duration": 3,
    "start_time": "2022-05-06T18:39:15.396Z"
   },
   {
    "duration": 186,
    "start_time": "2022-05-06T18:39:16.394Z"
   },
   {
    "duration": 18,
    "start_time": "2022-05-06T18:39:17.276Z"
   },
   {
    "duration": 31,
    "start_time": "2022-05-06T18:39:18.761Z"
   },
   {
    "duration": 4,
    "start_time": "2022-05-06T18:39:20.904Z"
   },
   {
    "duration": 18,
    "start_time": "2022-05-06T18:39:22.218Z"
   },
   {
    "duration": 4,
    "start_time": "2022-05-06T18:39:23.043Z"
   },
   {
    "duration": 46,
    "start_time": "2022-05-06T18:39:23.812Z"
   },
   {
    "duration": 22,
    "start_time": "2022-05-06T18:39:24.957Z"
   },
   {
    "duration": 28,
    "start_time": "2022-05-06T18:39:25.672Z"
   },
   {
    "duration": 66,
    "start_time": "2022-05-06T18:39:26.454Z"
   },
   {
    "duration": 88,
    "start_time": "2022-05-06T18:39:27.160Z"
   },
   {
    "duration": 80,
    "start_time": "2022-05-06T18:39:27.855Z"
   },
   {
    "duration": 8,
    "start_time": "2022-05-06T18:39:28.947Z"
   },
   {
    "duration": 3,
    "start_time": "2022-05-06T18:39:29.694Z"
   },
   {
    "duration": 18,
    "start_time": "2022-05-06T18:39:30.363Z"
   },
   {
    "duration": 8,
    "start_time": "2022-05-06T18:39:31.069Z"
   },
   {
    "duration": 38,
    "start_time": "2022-05-06T18:39:33.137Z"
   },
   {
    "duration": 46,
    "start_time": "2022-05-06T18:39:44.622Z"
   },
   {
    "duration": 63,
    "start_time": "2022-05-06T18:39:45.322Z"
   },
   {
    "duration": 11,
    "start_time": "2022-05-06T18:40:58.389Z"
   },
   {
    "duration": 47,
    "start_time": "2022-05-06T18:41:05.086Z"
   },
   {
    "duration": 11,
    "start_time": "2022-05-06T18:41:32.675Z"
   },
   {
    "duration": 38,
    "start_time": "2022-05-06T18:42:17.251Z"
   },
   {
    "duration": 11,
    "start_time": "2022-05-06T18:44:34.194Z"
   },
   {
    "duration": 20,
    "start_time": "2022-05-06T18:44:36.760Z"
   },
   {
    "duration": 6,
    "start_time": "2022-05-06T18:44:41.821Z"
   },
   {
    "duration": 201,
    "start_time": "2022-05-06T18:44:42.558Z"
   },
   {
    "duration": 21,
    "start_time": "2022-05-06T18:44:43.217Z"
   },
   {
    "duration": 58,
    "start_time": "2022-05-06T18:44:43.893Z"
   },
   {
    "duration": 4,
    "start_time": "2022-05-06T18:44:45.462Z"
   },
   {
    "duration": 13,
    "start_time": "2022-05-06T18:44:46.141Z"
   },
   {
    "duration": 4,
    "start_time": "2022-05-06T18:44:46.476Z"
   },
   {
    "duration": 48,
    "start_time": "2022-05-06T18:44:46.830Z"
   },
   {
    "duration": 25,
    "start_time": "2022-05-06T18:44:47.434Z"
   },
   {
    "duration": 32,
    "start_time": "2022-05-06T18:44:47.791Z"
   },
   {
    "duration": 73,
    "start_time": "2022-05-06T18:44:48.333Z"
   },
   {
    "duration": 131,
    "start_time": "2022-05-06T18:44:49.127Z"
   },
   {
    "duration": 92,
    "start_time": "2022-05-06T18:44:49.824Z"
   },
   {
    "duration": 7,
    "start_time": "2022-05-06T18:44:50.768Z"
   },
   {
    "duration": 4,
    "start_time": "2022-05-06T18:44:51.476Z"
   },
   {
    "duration": 16,
    "start_time": "2022-05-06T18:44:52.095Z"
   },
   {
    "duration": 11,
    "start_time": "2022-05-06T18:44:52.775Z"
   },
   {
    "duration": 68,
    "start_time": "2022-05-06T18:44:55.072Z"
   },
   {
    "duration": 15,
    "start_time": "2022-05-06T18:44:56.756Z"
   },
   {
    "duration": 40,
    "start_time": "2022-05-06T18:45:45.931Z"
   },
   {
    "duration": 21,
    "start_time": "2022-05-06T18:55:32.325Z"
   },
   {
    "duration": 10,
    "start_time": "2022-05-06T18:57:05.449Z"
   },
   {
    "duration": 4,
    "start_time": "2022-05-06T18:58:56.978Z"
   },
   {
    "duration": 3,
    "start_time": "2022-05-06T18:58:58.881Z"
   },
   {
    "duration": 34,
    "start_time": "2022-05-06T19:00:19.550Z"
   },
   {
    "duration": 28,
    "start_time": "2022-05-06T19:00:48.173Z"
   },
   {
    "duration": 3,
    "start_time": "2022-05-06T19:00:48.715Z"
   },
   {
    "duration": 60,
    "start_time": "2022-05-06T19:00:51.604Z"
   },
   {
    "duration": 8,
    "start_time": "2022-05-06T19:02:15.009Z"
   },
   {
    "duration": 20,
    "start_time": "2022-05-06T19:02:16.284Z"
   },
   {
    "duration": 60,
    "start_time": "2022-05-06T19:02:48.180Z"
   },
   {
    "duration": 28,
    "start_time": "2022-05-06T19:02:55.046Z"
   },
   {
    "duration": 76,
    "start_time": "2022-05-06T19:03:35.156Z"
   },
   {
    "duration": 23,
    "start_time": "2022-05-06T19:03:39.479Z"
   },
   {
    "duration": 25,
    "start_time": "2022-05-06T19:04:24.276Z"
   },
   {
    "duration": 27,
    "start_time": "2022-05-06T19:04:55.359Z"
   },
   {
    "duration": 20,
    "start_time": "2022-05-06T19:05:21.652Z"
   },
   {
    "duration": 21,
    "start_time": "2022-05-06T19:07:56.073Z"
   },
   {
    "duration": 6,
    "start_time": "2022-05-06T19:10:36.862Z"
   },
   {
    "duration": 17,
    "start_time": "2022-05-06T19:10:52.096Z"
   },
   {
    "duration": 107,
    "start_time": "2022-05-06T22:03:37.541Z"
   },
   {
    "duration": 39,
    "start_time": "2022-05-06T22:04:41.553Z"
   },
   {
    "duration": 6,
    "start_time": "2022-05-06T22:04:48.632Z"
   },
   {
    "duration": 349,
    "start_time": "2022-05-06T22:05:04.000Z"
   },
   {
    "duration": 139,
    "start_time": "2022-05-06T22:05:04.351Z"
   },
   {
    "duration": 17,
    "start_time": "2022-05-06T22:05:04.491Z"
   },
   {
    "duration": 41,
    "start_time": "2022-05-06T22:05:04.509Z"
   },
   {
    "duration": 3,
    "start_time": "2022-05-06T22:05:04.552Z"
   },
   {
    "duration": 12,
    "start_time": "2022-05-06T22:05:04.556Z"
   },
   {
    "duration": 5,
    "start_time": "2022-05-06T22:05:04.569Z"
   },
   {
    "duration": 25,
    "start_time": "2022-05-06T22:05:04.575Z"
   },
   {
    "duration": 18,
    "start_time": "2022-05-06T22:05:04.601Z"
   },
   {
    "duration": 48,
    "start_time": "2022-05-06T22:05:04.620Z"
   },
   {
    "duration": 59,
    "start_time": "2022-05-06T22:05:04.670Z"
   },
   {
    "duration": 71,
    "start_time": "2022-05-06T22:05:04.747Z"
   },
   {
    "duration": 65,
    "start_time": "2022-05-06T22:05:04.820Z"
   },
   {
    "duration": 6,
    "start_time": "2022-05-06T22:05:04.888Z"
   },
   {
    "duration": 3,
    "start_time": "2022-05-06T22:05:04.896Z"
   },
   {
    "duration": 9,
    "start_time": "2022-05-06T22:05:04.900Z"
   },
   {
    "duration": 7,
    "start_time": "2022-05-06T22:05:04.910Z"
   },
   {
    "duration": 55,
    "start_time": "2022-05-06T22:05:04.919Z"
   },
   {
    "duration": 31,
    "start_time": "2022-05-06T22:05:04.975Z"
   },
   {
    "duration": 3,
    "start_time": "2022-05-06T22:05:05.007Z"
   },
   {
    "duration": 37,
    "start_time": "2022-05-06T22:05:05.012Z"
   },
   {
    "duration": 14,
    "start_time": "2022-05-06T22:05:05.051Z"
   },
   {
    "duration": 14,
    "start_time": "2022-05-06T22:05:05.066Z"
   },
   {
    "duration": 15,
    "start_time": "2022-05-06T22:05:05.081Z"
   },
   {
    "duration": 16,
    "start_time": "2022-05-06T22:05:05.098Z"
   },
   {
    "duration": 42,
    "start_time": "2022-05-06T22:05:05.116Z"
   },
   {
    "duration": 10,
    "start_time": "2022-05-06T22:05:05.160Z"
   },
   {
    "duration": 21,
    "start_time": "2022-05-06T22:05:05.171Z"
   },
   {
    "duration": 3,
    "start_time": "2022-05-06T22:05:05.193Z"
   },
   {
    "duration": 7,
    "start_time": "2022-05-06T22:05:05.197Z"
   },
   {
    "duration": 13,
    "start_time": "2022-05-06T22:05:05.206Z"
   },
   {
    "duration": 13,
    "start_time": "2022-05-06T22:05:05.220Z"
   },
   {
    "duration": 21,
    "start_time": "2022-05-06T22:05:05.234Z"
   },
   {
    "duration": 4,
    "start_time": "2022-05-06T22:05:05.257Z"
   },
   {
    "duration": 7,
    "start_time": "2022-05-06T22:05:05.262Z"
   },
   {
    "duration": 7,
    "start_time": "2022-05-06T22:05:05.270Z"
   },
   {
    "duration": 7,
    "start_time": "2022-05-06T22:05:05.278Z"
   },
   {
    "duration": 4,
    "start_time": "2022-05-06T22:05:05.286Z"
   },
   {
    "duration": 16,
    "start_time": "2022-05-06T22:06:09.242Z"
   },
   {
    "duration": 99,
    "start_time": "2022-05-06T22:15:54.536Z"
   },
   {
    "duration": 116,
    "start_time": "2022-05-06T22:16:05.111Z"
   },
   {
    "duration": 107,
    "start_time": "2022-05-06T22:17:57.987Z"
   },
   {
    "duration": 114,
    "start_time": "2022-05-06T22:19:06.164Z"
   },
   {
    "duration": 3,
    "start_time": "2022-05-06T22:19:13.114Z"
   },
   {
    "duration": 147,
    "start_time": "2022-05-06T22:19:13.118Z"
   },
   {
    "duration": 10,
    "start_time": "2022-05-06T22:19:13.267Z"
   },
   {
    "duration": 29,
    "start_time": "2022-05-06T22:19:13.278Z"
   },
   {
    "duration": 3,
    "start_time": "2022-05-06T22:19:13.309Z"
   },
   {
    "duration": 11,
    "start_time": "2022-05-06T22:19:13.314Z"
   },
   {
    "duration": 22,
    "start_time": "2022-05-06T22:19:13.327Z"
   },
   {
    "duration": 26,
    "start_time": "2022-05-06T22:19:13.350Z"
   },
   {
    "duration": 17,
    "start_time": "2022-05-06T22:19:13.377Z"
   },
   {
    "duration": 24,
    "start_time": "2022-05-06T22:19:13.395Z"
   },
   {
    "duration": 80,
    "start_time": "2022-05-06T22:19:13.421Z"
   },
   {
    "duration": 78,
    "start_time": "2022-05-06T22:19:13.502Z"
   },
   {
    "duration": 52,
    "start_time": "2022-05-06T22:19:13.582Z"
   },
   {
    "duration": 6,
    "start_time": "2022-05-06T22:19:13.647Z"
   },
   {
    "duration": 2,
    "start_time": "2022-05-06T22:19:13.655Z"
   },
   {
    "duration": 10,
    "start_time": "2022-05-06T22:19:13.658Z"
   },
   {
    "duration": 7,
    "start_time": "2022-05-06T22:19:13.669Z"
   },
   {
    "duration": 33,
    "start_time": "2022-05-06T22:19:13.677Z"
   },
   {
    "duration": 56,
    "start_time": "2022-05-06T22:19:13.712Z"
   },
   {
    "duration": 4,
    "start_time": "2022-05-06T22:19:13.769Z"
   },
   {
    "duration": 21,
    "start_time": "2022-05-06T22:19:13.774Z"
   },
   {
    "duration": 15,
    "start_time": "2022-05-06T22:19:13.797Z"
   },
   {
    "duration": 39,
    "start_time": "2022-05-06T22:19:13.814Z"
   },
   {
    "duration": 14,
    "start_time": "2022-05-06T22:19:13.855Z"
   },
   {
    "duration": 15,
    "start_time": "2022-05-06T22:19:13.871Z"
   },
   {
    "duration": 14,
    "start_time": "2022-05-06T22:19:13.888Z"
   },
   {
    "duration": 11,
    "start_time": "2022-05-06T22:19:13.904Z"
   },
   {
    "duration": 17,
    "start_time": "2022-05-06T22:19:13.948Z"
   },
   {
    "duration": 14,
    "start_time": "2022-05-06T22:19:13.967Z"
   },
   {
    "duration": 147,
    "start_time": "2022-05-06T22:19:13.982Z"
   },
   {
    "duration": 0,
    "start_time": "2022-05-06T22:19:14.130Z"
   },
   {
    "duration": 0,
    "start_time": "2022-05-06T22:19:14.131Z"
   },
   {
    "duration": 0,
    "start_time": "2022-05-06T22:19:14.132Z"
   },
   {
    "duration": 0,
    "start_time": "2022-05-06T22:19:14.133Z"
   },
   {
    "duration": 0,
    "start_time": "2022-05-06T22:19:14.134Z"
   },
   {
    "duration": 0,
    "start_time": "2022-05-06T22:19:14.135Z"
   },
   {
    "duration": 0,
    "start_time": "2022-05-06T22:19:14.136Z"
   },
   {
    "duration": 0,
    "start_time": "2022-05-06T22:19:14.137Z"
   },
   {
    "duration": 101,
    "start_time": "2022-05-06T22:19:25.090Z"
   },
   {
    "duration": 94,
    "start_time": "2022-05-06T22:21:20.674Z"
   },
   {
    "duration": 96,
    "start_time": "2022-05-06T22:21:27.080Z"
   },
   {
    "duration": 102,
    "start_time": "2022-05-06T22:21:38.006Z"
   },
   {
    "duration": 100,
    "start_time": "2022-05-06T22:23:20.214Z"
   },
   {
    "duration": 98,
    "start_time": "2022-05-06T22:23:25.777Z"
   },
   {
    "duration": 101,
    "start_time": "2022-05-06T22:23:29.518Z"
   },
   {
    "duration": 101,
    "start_time": "2022-05-06T22:23:32.866Z"
   },
   {
    "duration": 96,
    "start_time": "2022-05-06T22:23:35.537Z"
   },
   {
    "duration": 100,
    "start_time": "2022-05-06T22:26:40.440Z"
   },
   {
    "duration": 100,
    "start_time": "2022-05-06T22:26:47.555Z"
   },
   {
    "duration": 4,
    "start_time": "2022-05-06T22:30:09.872Z"
   },
   {
    "duration": 4,
    "start_time": "2022-05-06T22:30:12.259Z"
   },
   {
    "duration": 1580,
    "start_time": "2022-05-06T22:32:18.681Z"
   },
   {
    "duration": 1560,
    "start_time": "2022-05-06T22:33:09.250Z"
   },
   {
    "duration": 1751,
    "start_time": "2022-05-06T22:33:45.893Z"
   },
   {
    "duration": 3,
    "start_time": "2022-05-06T22:36:26.155Z"
   },
   {
    "duration": 163,
    "start_time": "2022-05-06T22:36:26.159Z"
   },
   {
    "duration": 10,
    "start_time": "2022-05-06T22:36:26.324Z"
   },
   {
    "duration": 38,
    "start_time": "2022-05-06T22:36:26.335Z"
   },
   {
    "duration": 3,
    "start_time": "2022-05-06T22:36:26.375Z"
   },
   {
    "duration": 9,
    "start_time": "2022-05-06T22:36:26.379Z"
   },
   {
    "duration": 3,
    "start_time": "2022-05-06T22:36:26.389Z"
   },
   {
    "duration": 25,
    "start_time": "2022-05-06T22:36:26.394Z"
   },
   {
    "duration": 42,
    "start_time": "2022-05-06T22:36:26.421Z"
   },
   {
    "duration": 22,
    "start_time": "2022-05-06T22:36:26.465Z"
   },
   {
    "duration": 71,
    "start_time": "2022-05-06T22:36:26.489Z"
   },
   {
    "duration": 67,
    "start_time": "2022-05-06T22:36:26.562Z"
   },
   {
    "duration": 53,
    "start_time": "2022-05-06T22:36:26.647Z"
   },
   {
    "duration": 6,
    "start_time": "2022-05-06T22:36:26.702Z"
   },
   {
    "duration": 2,
    "start_time": "2022-05-06T22:36:26.710Z"
   },
   {
    "duration": 10,
    "start_time": "2022-05-06T22:36:26.714Z"
   },
   {
    "duration": 7,
    "start_time": "2022-05-06T22:36:26.747Z"
   },
   {
    "duration": 32,
    "start_time": "2022-05-06T22:36:26.755Z"
   },
   {
    "duration": 30,
    "start_time": "2022-05-06T22:36:26.789Z"
   },
   {
    "duration": 3,
    "start_time": "2022-05-06T22:36:26.821Z"
   },
   {
    "duration": 57,
    "start_time": "2022-05-06T22:36:26.847Z"
   },
   {
    "duration": 13,
    "start_time": "2022-05-06T22:36:26.906Z"
   },
   {
    "duration": 13,
    "start_time": "2022-05-06T22:36:26.921Z"
   },
   {
    "duration": 13,
    "start_time": "2022-05-06T22:36:26.935Z"
   },
   {
    "duration": 15,
    "start_time": "2022-05-06T22:36:26.949Z"
   },
   {
    "duration": 12,
    "start_time": "2022-05-06T22:36:26.966Z"
   },
   {
    "duration": 10,
    "start_time": "2022-05-06T22:36:26.980Z"
   },
   {
    "duration": 19,
    "start_time": "2022-05-06T22:36:26.991Z"
   },
   {
    "duration": 45,
    "start_time": "2022-05-06T22:36:27.011Z"
   },
   {
    "duration": 4,
    "start_time": "2022-05-06T22:36:27.057Z"
   },
   {
    "duration": 1609,
    "start_time": "2022-05-06T22:36:27.062Z"
   },
   {
    "duration": 0,
    "start_time": "2022-05-06T22:36:28.672Z"
   },
   {
    "duration": 0,
    "start_time": "2022-05-06T22:36:28.673Z"
   },
   {
    "duration": 0,
    "start_time": "2022-05-06T22:36:28.674Z"
   },
   {
    "duration": 0,
    "start_time": "2022-05-06T22:36:28.675Z"
   },
   {
    "duration": 0,
    "start_time": "2022-05-06T22:36:28.676Z"
   },
   {
    "duration": 0,
    "start_time": "2022-05-06T22:36:28.677Z"
   },
   {
    "duration": 0,
    "start_time": "2022-05-06T22:36:28.678Z"
   },
   {
    "duration": 2,
    "start_time": "2022-05-06T22:37:02.111Z"
   },
   {
    "duration": 146,
    "start_time": "2022-05-06T22:37:02.115Z"
   },
   {
    "duration": 10,
    "start_time": "2022-05-06T22:37:02.263Z"
   },
   {
    "duration": 32,
    "start_time": "2022-05-06T22:37:02.274Z"
   },
   {
    "duration": 3,
    "start_time": "2022-05-06T22:37:02.308Z"
   },
   {
    "duration": 35,
    "start_time": "2022-05-06T22:37:02.313Z"
   },
   {
    "duration": 3,
    "start_time": "2022-05-06T22:37:02.350Z"
   },
   {
    "duration": 26,
    "start_time": "2022-05-06T22:37:02.355Z"
   },
   {
    "duration": 19,
    "start_time": "2022-05-06T22:37:02.383Z"
   },
   {
    "duration": 45,
    "start_time": "2022-05-06T22:37:02.403Z"
   },
   {
    "duration": 61,
    "start_time": "2022-05-06T22:37:02.450Z"
   },
   {
    "duration": 89,
    "start_time": "2022-05-06T22:37:02.513Z"
   },
   {
    "duration": 56,
    "start_time": "2022-05-06T22:37:02.605Z"
   },
   {
    "duration": 7,
    "start_time": "2022-05-06T22:37:02.662Z"
   },
   {
    "duration": 7,
    "start_time": "2022-05-06T22:37:02.670Z"
   },
   {
    "duration": 10,
    "start_time": "2022-05-06T22:37:02.678Z"
   },
   {
    "duration": 6,
    "start_time": "2022-05-06T22:37:02.689Z"
   },
   {
    "duration": 55,
    "start_time": "2022-05-06T22:37:02.697Z"
   },
   {
    "duration": 31,
    "start_time": "2022-05-06T22:37:02.753Z"
   },
   {
    "duration": 3,
    "start_time": "2022-05-06T22:37:02.785Z"
   },
   {
    "duration": 20,
    "start_time": "2022-05-06T22:37:02.790Z"
   },
   {
    "duration": 13,
    "start_time": "2022-05-06T22:37:02.811Z"
   },
   {
    "duration": 14,
    "start_time": "2022-05-06T22:37:02.846Z"
   },
   {
    "duration": 12,
    "start_time": "2022-05-06T22:37:02.862Z"
   },
   {
    "duration": 15,
    "start_time": "2022-05-06T22:37:02.875Z"
   },
   {
    "duration": 12,
    "start_time": "2022-05-06T22:37:02.892Z"
   },
   {
    "duration": 10,
    "start_time": "2022-05-06T22:37:02.906Z"
   },
   {
    "duration": 46,
    "start_time": "2022-05-06T22:37:02.918Z"
   },
   {
    "duration": 16,
    "start_time": "2022-05-06T22:37:02.965Z"
   },
   {
    "duration": 4,
    "start_time": "2022-05-06T22:37:02.982Z"
   },
   {
    "duration": 30,
    "start_time": "2022-05-06T22:37:02.987Z"
   },
   {
    "duration": 0,
    "start_time": "2022-05-06T22:37:03.019Z"
   },
   {
    "duration": 0,
    "start_time": "2022-05-06T22:37:03.048Z"
   },
   {
    "duration": 0,
    "start_time": "2022-05-06T22:37:03.049Z"
   },
   {
    "duration": 0,
    "start_time": "2022-05-06T22:37:03.050Z"
   },
   {
    "duration": 0,
    "start_time": "2022-05-06T22:37:03.051Z"
   },
   {
    "duration": 0,
    "start_time": "2022-05-06T22:37:03.051Z"
   },
   {
    "duration": 0,
    "start_time": "2022-05-06T22:37:03.053Z"
   },
   {
    "duration": 6,
    "start_time": "2022-05-06T22:38:07.339Z"
   },
   {
    "duration": 20,
    "start_time": "2022-05-06T22:38:09.371Z"
   },
   {
    "duration": 22,
    "start_time": "2022-05-06T22:38:13.314Z"
   },
   {
    "duration": 4,
    "start_time": "2022-05-06T22:38:54.926Z"
   },
   {
    "duration": 18,
    "start_time": "2022-05-06T22:38:56.270Z"
   },
   {
    "duration": 12,
    "start_time": "2022-05-06T22:39:29.382Z"
   },
   {
    "duration": 16,
    "start_time": "2022-05-06T22:40:39.406Z"
   },
   {
    "duration": 11,
    "start_time": "2022-05-06T22:40:41.269Z"
   },
   {
    "duration": 8,
    "start_time": "2022-05-06T22:57:18.646Z"
   },
   {
    "duration": 4,
    "start_time": "2022-05-06T22:57:20.303Z"
   },
   {
    "duration": 6,
    "start_time": "2022-05-06T22:58:06.505Z"
   },
   {
    "duration": 4,
    "start_time": "2022-05-06T22:58:07.471Z"
   },
   {
    "duration": 2,
    "start_time": "2022-05-06T22:58:16.892Z"
   },
   {
    "duration": 149,
    "start_time": "2022-05-06T22:58:16.896Z"
   },
   {
    "duration": 9,
    "start_time": "2022-05-06T22:58:17.047Z"
   },
   {
    "duration": 28,
    "start_time": "2022-05-06T22:58:17.058Z"
   },
   {
    "duration": 4,
    "start_time": "2022-05-06T22:58:17.088Z"
   },
   {
    "duration": 12,
    "start_time": "2022-05-06T22:58:17.093Z"
   },
   {
    "duration": 4,
    "start_time": "2022-05-06T22:58:17.107Z"
   },
   {
    "duration": 46,
    "start_time": "2022-05-06T22:58:17.112Z"
   },
   {
    "duration": 17,
    "start_time": "2022-05-06T22:58:17.160Z"
   },
   {
    "duration": 23,
    "start_time": "2022-05-06T22:58:17.178Z"
   },
   {
    "duration": 78,
    "start_time": "2022-05-06T22:58:17.202Z"
   },
   {
    "duration": 72,
    "start_time": "2022-05-06T22:58:17.282Z"
   },
   {
    "duration": 52,
    "start_time": "2022-05-06T22:58:17.356Z"
   },
   {
    "duration": 6,
    "start_time": "2022-05-06T22:58:17.411Z"
   },
   {
    "duration": 3,
    "start_time": "2022-05-06T22:58:17.419Z"
   },
   {
    "duration": 30,
    "start_time": "2022-05-06T22:58:17.423Z"
   },
   {
    "duration": 6,
    "start_time": "2022-05-06T22:58:17.455Z"
   },
   {
    "duration": 33,
    "start_time": "2022-05-06T22:58:17.463Z"
   },
   {
    "duration": 31,
    "start_time": "2022-05-06T22:58:17.498Z"
   },
   {
    "duration": 21,
    "start_time": "2022-05-06T22:58:17.530Z"
   },
   {
    "duration": 20,
    "start_time": "2022-05-06T22:58:17.553Z"
   },
   {
    "duration": 13,
    "start_time": "2022-05-06T22:58:17.574Z"
   },
   {
    "duration": 13,
    "start_time": "2022-05-06T22:58:17.589Z"
   },
   {
    "duration": 12,
    "start_time": "2022-05-06T22:58:17.604Z"
   },
   {
    "duration": 44,
    "start_time": "2022-05-06T22:58:17.618Z"
   },
   {
    "duration": 12,
    "start_time": "2022-05-06T22:58:17.664Z"
   },
   {
    "duration": 10,
    "start_time": "2022-05-06T22:58:17.678Z"
   },
   {
    "duration": 21,
    "start_time": "2022-05-06T22:58:17.689Z"
   },
   {
    "duration": 40,
    "start_time": "2022-05-06T22:58:17.711Z"
   },
   {
    "duration": 4,
    "start_time": "2022-05-06T22:58:17.753Z"
   },
   {
    "duration": 22,
    "start_time": "2022-05-06T22:58:17.758Z"
   },
   {
    "duration": 11,
    "start_time": "2022-05-06T22:58:17.782Z"
   },
   {
    "duration": 16,
    "start_time": "2022-05-06T22:58:17.794Z"
   },
   {
    "duration": 36,
    "start_time": "2022-05-06T22:58:17.812Z"
   },
   {
    "duration": 8,
    "start_time": "2022-05-06T22:58:17.850Z"
   },
   {
    "duration": 4,
    "start_time": "2022-05-06T22:58:17.860Z"
   },
   {
    "duration": 8,
    "start_time": "2022-05-06T22:58:17.865Z"
   },
   {
    "duration": 5,
    "start_time": "2022-05-06T22:58:17.875Z"
   },
   {
    "duration": 382,
    "start_time": "2024-03-14T00:21:12.691Z"
   },
   {
    "duration": 204,
    "start_time": "2024-03-14T00:21:14.512Z"
   },
   {
    "duration": 360,
    "start_time": "2024-03-14T00:21:19.303Z"
   },
   {
    "duration": 142,
    "start_time": "2024-03-14T00:21:19.665Z"
   },
   {
    "duration": 14,
    "start_time": "2024-03-14T00:21:19.808Z"
   },
   {
    "duration": 22,
    "start_time": "2024-03-14T00:21:19.823Z"
   },
   {
    "duration": 3,
    "start_time": "2024-03-14T00:21:19.847Z"
   },
   {
    "duration": 13,
    "start_time": "2024-03-14T00:21:19.851Z"
   },
   {
    "duration": 9,
    "start_time": "2024-03-14T00:21:19.865Z"
   },
   {
    "duration": 39,
    "start_time": "2024-03-14T00:21:19.875Z"
   },
   {
    "duration": 13,
    "start_time": "2024-03-14T00:21:19.916Z"
   },
   {
    "duration": 19,
    "start_time": "2024-03-14T00:21:19.930Z"
   },
   {
    "duration": 73,
    "start_time": "2024-03-14T00:21:19.951Z"
   },
   {
    "duration": 64,
    "start_time": "2024-03-14T00:21:20.026Z"
   },
   {
    "duration": 55,
    "start_time": "2024-03-14T00:21:20.102Z"
   },
   {
    "duration": 10,
    "start_time": "2024-03-14T00:21:20.160Z"
   },
   {
    "duration": 74,
    "start_time": "2024-03-14T00:21:20.171Z"
   },
   {
    "duration": 26,
    "start_time": "2024-03-14T00:21:20.246Z"
   },
   {
    "duration": 16,
    "start_time": "2024-03-14T00:21:20.273Z"
   },
   {
    "duration": 59,
    "start_time": "2024-03-14T00:21:20.291Z"
   },
   {
    "duration": 41,
    "start_time": "2024-03-14T00:21:20.352Z"
   },
   {
    "duration": 4,
    "start_time": "2024-03-14T00:21:20.395Z"
   },
   {
    "duration": 27,
    "start_time": "2024-03-14T00:21:20.401Z"
   },
   {
    "duration": 11,
    "start_time": "2024-03-14T00:21:20.429Z"
   },
   {
    "duration": 14,
    "start_time": "2024-03-14T00:21:20.441Z"
   },
   {
    "duration": 19,
    "start_time": "2024-03-14T00:21:20.456Z"
   },
   {
    "duration": 12,
    "start_time": "2024-03-14T00:21:20.476Z"
   },
   {
    "duration": 24,
    "start_time": "2024-03-14T00:21:20.490Z"
   },
   {
    "duration": 10,
    "start_time": "2024-03-14T00:21:20.515Z"
   },
   {
    "duration": 20,
    "start_time": "2024-03-14T00:21:20.526Z"
   },
   {
    "duration": 12,
    "start_time": "2024-03-14T00:21:20.547Z"
   },
   {
    "duration": 13,
    "start_time": "2024-03-14T00:21:20.560Z"
   },
   {
    "duration": 49,
    "start_time": "2024-03-14T00:21:20.574Z"
   },
   {
    "duration": 32,
    "start_time": "2024-03-14T00:21:20.625Z"
   },
   {
    "duration": 25,
    "start_time": "2024-03-14T00:21:20.658Z"
   },
   {
    "duration": 10,
    "start_time": "2024-03-14T00:21:20.684Z"
   },
   {
    "duration": 24,
    "start_time": "2024-03-14T00:21:20.695Z"
   },
   {
    "duration": 4,
    "start_time": "2024-03-14T00:21:20.721Z"
   },
   {
    "duration": 19,
    "start_time": "2024-03-14T00:21:20.726Z"
   },
   {
    "duration": 8,
    "start_time": "2024-03-14T00:21:20.746Z"
   },
   {
    "duration": 36,
    "start_time": "2024-03-14T00:22:50.865Z"
   },
   {
    "duration": 383,
    "start_time": "2024-03-14T00:30:45.590Z"
   },
   {
    "duration": 143,
    "start_time": "2024-03-14T00:30:45.974Z"
   },
   {
    "duration": 15,
    "start_time": "2024-03-14T00:30:46.118Z"
   },
   {
    "duration": 21,
    "start_time": "2024-03-14T00:30:46.134Z"
   },
   {
    "duration": 3,
    "start_time": "2024-03-14T00:30:46.157Z"
   },
   {
    "duration": 10,
    "start_time": "2024-03-14T00:30:46.161Z"
   },
   {
    "duration": 20,
    "start_time": "2024-03-14T00:30:46.172Z"
   },
   {
    "duration": 29,
    "start_time": "2024-03-14T00:30:46.193Z"
   },
   {
    "duration": 17,
    "start_time": "2024-03-14T00:30:46.224Z"
   },
   {
    "duration": 19,
    "start_time": "2024-03-14T00:30:46.242Z"
   },
   {
    "duration": 65,
    "start_time": "2024-03-14T00:30:46.262Z"
   },
   {
    "duration": 76,
    "start_time": "2024-03-14T00:30:46.329Z"
   },
   {
    "duration": 51,
    "start_time": "2024-03-14T00:30:46.407Z"
   },
   {
    "duration": 43,
    "start_time": "2024-03-14T00:30:46.461Z"
   },
   {
    "duration": 3,
    "start_time": "2024-03-14T00:30:46.505Z"
   },
   {
    "duration": 26,
    "start_time": "2024-03-14T00:30:46.509Z"
   },
   {
    "duration": 40,
    "start_time": "2024-03-14T00:30:46.536Z"
   },
   {
    "duration": 10,
    "start_time": "2024-03-14T00:30:46.577Z"
   },
   {
    "duration": 39,
    "start_time": "2024-03-14T00:30:46.588Z"
   },
   {
    "duration": 3,
    "start_time": "2024-03-14T00:30:46.629Z"
   },
   {
    "duration": 16,
    "start_time": "2024-03-14T00:30:46.634Z"
   },
   {
    "duration": 18,
    "start_time": "2024-03-14T00:30:46.651Z"
   },
   {
    "duration": 14,
    "start_time": "2024-03-14T00:30:46.670Z"
   },
   {
    "duration": 17,
    "start_time": "2024-03-14T00:30:46.685Z"
   },
   {
    "duration": 17,
    "start_time": "2024-03-14T00:30:46.703Z"
   },
   {
    "duration": 10,
    "start_time": "2024-03-14T00:30:46.722Z"
   },
   {
    "duration": 15,
    "start_time": "2024-03-14T00:30:46.734Z"
   },
   {
    "duration": 20,
    "start_time": "2024-03-14T00:30:46.751Z"
   },
   {
    "duration": 30,
    "start_time": "2024-03-14T00:30:46.772Z"
   },
   {
    "duration": 4,
    "start_time": "2024-03-14T00:30:46.803Z"
   },
   {
    "duration": 18,
    "start_time": "2024-03-14T00:30:46.808Z"
   },
   {
    "duration": 9,
    "start_time": "2024-03-14T00:30:46.827Z"
   },
   {
    "duration": 12,
    "start_time": "2024-03-14T00:30:46.837Z"
   },
   {
    "duration": 8,
    "start_time": "2024-03-14T00:30:46.850Z"
   },
   {
    "duration": 14,
    "start_time": "2024-03-14T00:30:46.859Z"
   },
   {
    "duration": 5,
    "start_time": "2024-03-14T00:30:46.874Z"
   },
   {
    "duration": 25,
    "start_time": "2024-03-14T00:30:46.880Z"
   },
   {
    "duration": 7,
    "start_time": "2024-03-14T00:30:46.906Z"
   },
   {
    "duration": 55,
    "start_time": "2024-03-14T00:32:03.321Z"
   },
   {
    "duration": 7,
    "start_time": "2024-03-14T00:32:21.708Z"
   },
   {
    "duration": 7,
    "start_time": "2024-03-14T00:32:35.167Z"
   },
   {
    "duration": 7,
    "start_time": "2024-03-14T00:33:07.901Z"
   },
   {
    "duration": 7,
    "start_time": "2024-03-14T00:33:13.620Z"
   }
  ],
  "colab": {
   "collapsed_sections": [
    "E0vqbgi9ay0H",
    "VUC88oWjTJw2"
   ],
   "name": "yandex_music_project.ipynb",
   "provenance": []
  },
  "kernelspec": {
   "display_name": "Python 3 (ipykernel)",
   "language": "python",
   "name": "python3"
  },
  "language_info": {
   "codemirror_mode": {
    "name": "ipython",
    "version": 3
   },
   "file_extension": ".py",
   "mimetype": "text/x-python",
   "name": "python",
   "nbconvert_exporter": "python",
   "pygments_lexer": "ipython3",
   "version": "3.9.7"
  },
  "toc": {
   "base_numbering": 1,
   "nav_menu": {},
   "number_sections": true,
   "sideBar": true,
   "skip_h1_title": true,
   "title_cell": "Table of Contents",
   "title_sidebar": "Contents",
   "toc_cell": false,
   "toc_position": {},
   "toc_section_display": true,
   "toc_window_display": true
  }
 },
 "nbformat": 4,
 "nbformat_minor": 1
}
