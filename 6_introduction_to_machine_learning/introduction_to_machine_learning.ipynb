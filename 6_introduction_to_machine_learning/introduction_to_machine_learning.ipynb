{
 "cells": [
  {
   "cell_type": "markdown",
   "id": "55409511",
   "metadata": {},
   "source": [
    "# Проект \"Рекомендация тарифов\"\n",
    "\n"
   ]
  },
  {
   "cell_type": "markdown",
   "id": "efb61ce9",
   "metadata": {},
   "source": [
    "В вашем распоряжении данные о поведении клиентов, которые уже перешли на эти тарифы (из проекта курса «Статистический анализ данных»). Нужно построить модель для задачи классификации, которая выберет подходящий тариф. Предобработка данных не понадобится — вы её уже сделали.\n",
    "\n",
    "Постройте модель с максимально большим значением *accuracy*. Чтобы сдать проект успешно, нужно довести долю правильных ответов по крайней мере до 0.75. Проверьте *accuracy* на тестовой выборке самостоятельно."
   ]
  },
  {
   "cell_type": "markdown",
   "id": "85b7f381",
   "metadata": {},
   "source": [
    "**Описание проекта**\n",
    "\n",
    "Оператор мобильной связи «Мегалайн» выяснил: многие клиенты пользуются архивными тарифами. Они хотят построить систему, способную проанализировать поведение клиентов и предложить пользователям новый тариф: «Смарт» или «Ультра».\n",
    "В нашем распоряжении данные о поведении клиентов, которые уже перешли на эти тарифы (из проекта курса «Статистический анализ данных»). Нужно построить модель для задачи классификации, которая выберет подходящий тариф. Предобработка данных не понадобится — мы её уже сделали.\n",
    "Необходимо построить модель с максимально большим значением accuracy. Необходимо довести долю правильных ответов по крайней мере до 0.75. Проверить accuracy на тестовой выборке самостоятельно."
   ]
  },
  {
   "cell_type": "markdown",
   "id": "7a81baa0",
   "metadata": {},
   "source": [
    "Инструкция по выполнению проекта\n",
    "\n",
    "**Шаг 1. Открыть файл с данными и изучите его. Путь к файлу: /datasets/users_behavior.csv.**\n",
    "\n",
    "**Шаг 2. Разделить исходные данные на обучающую, валидационную и тестовую выборки.**\n",
    "\n",
    "**Шаг 3. Исследовать качество разных моделей, меняя гиперпараметры. Кратко написать выводы исследования.**\n",
    "\n",
    "**Шаг 4. Проверить качество модели на тестовой выборке.**\n",
    "\n",
    "**Шаг 5. Дополнительное задание: проверить модели на вменяемость.**\n",
    "\n"
   ]
  },
  {
   "cell_type": "markdown",
   "id": "b3dd35b5",
   "metadata": {},
   "source": [
    "**Описание данных**\n",
    "\n",
    "Каждый объект в наборе данных — это информация о поведении одного пользователя за месяц. Известно:\n",
    "\n",
    "`сalls` — количество звонков,\n",
    "\n",
    "`minutes` — суммарная длительность звонков в минутах,\n",
    "\n",
    "`messages` — количество sms-сообщений,\n",
    "\n",
    "`mb_used` — израсходованный интернет-трафик в Мб,\n",
    "\n",
    "`is_ultra` — каким тарифом пользовался в течение месяца («Ультра» — 1, «Смарт» — 0)."
   ]
  },
  {
   "cell_type": "code",
   "execution_count": 1,
   "id": "65f312ec",
   "metadata": {},
   "outputs": [],
   "source": [
    "import pandas as pd # импорт библиотеки pandas\n",
    "import numpy as np # импорт библиотеки numpy\n",
    "import seaborn as sns # импорт библиотеки seaborn\n",
    "import matplotlib.pyplot as plt #импорт библиотеки matplotlib.pyplot\n",
    "from sklearn.model_selection import train_test_split # из библиотеки sklearn импортируем разделение выборки на тренировочную, тестовую и валидационную\n",
    "from sklearn.linear_model import LogisticRegression # из библиотеки sklearn импортируем модель логистической регрессии\n",
    "from sklearn.ensemble import RandomForestClassifier # из библиотеки sklearn импортируем модель случайного леса\n",
    "from sklearn.tree import DecisionTreeClassifier # из библиотеки sklearn импортируем дерево решений для классификации данных\n",
    "from sklearn.metrics import accuracy_score # из библиотеки sklearn импортируем вычесление доли правильных ответов\n",
    "from sklearn.metrics import precision_score # из библиотеки sklearn импортируем значение точности\n",
    "from sklearn.metrics import recall_score # из библиотеки sklearn импортируем значение полноты\n",
    "from sklearn.metrics import f1_score # из библиотеки sklearn импортируем значение f1-меры\n",
    "import warnings\n",
    "warnings.filterwarnings(action='ignore', category=FutureWarning) #Скрываем лишние предупреждения"
   ]
  },
  {
   "cell_type": "code",
   "execution_count": 2,
   "id": "eff39dd0",
   "metadata": {},
   "outputs": [],
   "source": [
    "try:\n",
    "    data = pd.read_csv('C:\\\\Data\\\\users_behavior.csv') #Добавили две \\\\ потому что кол выдавал ошибку\n",
    "except: \n",
    "    data = pd.read_csv('/datasets/users_behavior.csv')"
   ]
  },
  {
   "cell_type": "markdown",
   "id": "e6232c15",
   "metadata": {},
   "source": [
    "# Шаг 1. Изучение данных"
   ]
  },
  {
   "cell_type": "code",
   "execution_count": 3,
   "id": "153cc113",
   "metadata": {
    "scrolled": false
   },
   "outputs": [
    {
     "name": "stdout",
     "output_type": "stream",
     "text": [
      "<class 'pandas.core.frame.DataFrame'>\n",
      "RangeIndex: 3214 entries, 0 to 3213\n",
      "Data columns (total 5 columns):\n",
      " #   Column    Non-Null Count  Dtype  \n",
      "---  ------    --------------  -----  \n",
      " 0   calls     3214 non-null   float64\n",
      " 1   minutes   3214 non-null   float64\n",
      " 2   messages  3214 non-null   float64\n",
      " 3   mb_used   3214 non-null   float64\n",
      " 4   is_ultra  3214 non-null   int64  \n",
      "dtypes: float64(4), int64(1)\n",
      "memory usage: 125.7 KB\n"
     ]
    }
   ],
   "source": [
    "data.info() #изучим данные"
   ]
  },
  {
   "cell_type": "code",
   "execution_count": 4,
   "id": "de08b7dd",
   "metadata": {},
   "outputs": [
    {
     "data": {
      "text/plain": [
       "(3214, 5)"
      ]
     },
     "execution_count": 4,
     "metadata": {},
     "output_type": "execute_result"
    }
   ],
   "source": [
    "data.shape # изучаем число строк и столбцов датафрейма"
   ]
  },
  {
   "cell_type": "code",
   "execution_count": 5,
   "id": "79d7bee1",
   "metadata": {},
   "outputs": [
    {
     "data": {
      "text/html": [
       "<div>\n",
       "<style scoped>\n",
       "    .dataframe tbody tr th:only-of-type {\n",
       "        vertical-align: middle;\n",
       "    }\n",
       "\n",
       "    .dataframe tbody tr th {\n",
       "        vertical-align: top;\n",
       "    }\n",
       "\n",
       "    .dataframe thead th {\n",
       "        text-align: right;\n",
       "    }\n",
       "</style>\n",
       "<table border=\"1\" class=\"dataframe\">\n",
       "  <thead>\n",
       "    <tr style=\"text-align: right;\">\n",
       "      <th></th>\n",
       "      <th>calls</th>\n",
       "      <th>minutes</th>\n",
       "      <th>messages</th>\n",
       "      <th>mb_used</th>\n",
       "      <th>is_ultra</th>\n",
       "    </tr>\n",
       "  </thead>\n",
       "  <tbody>\n",
       "    <tr>\n",
       "      <th>0</th>\n",
       "      <td>40.0</td>\n",
       "      <td>311.90</td>\n",
       "      <td>83.0</td>\n",
       "      <td>19915.42</td>\n",
       "      <td>0</td>\n",
       "    </tr>\n",
       "    <tr>\n",
       "      <th>1</th>\n",
       "      <td>85.0</td>\n",
       "      <td>516.75</td>\n",
       "      <td>56.0</td>\n",
       "      <td>22696.96</td>\n",
       "      <td>0</td>\n",
       "    </tr>\n",
       "    <tr>\n",
       "      <th>2</th>\n",
       "      <td>77.0</td>\n",
       "      <td>467.66</td>\n",
       "      <td>86.0</td>\n",
       "      <td>21060.45</td>\n",
       "      <td>0</td>\n",
       "    </tr>\n",
       "    <tr>\n",
       "      <th>3</th>\n",
       "      <td>106.0</td>\n",
       "      <td>745.53</td>\n",
       "      <td>81.0</td>\n",
       "      <td>8437.39</td>\n",
       "      <td>1</td>\n",
       "    </tr>\n",
       "    <tr>\n",
       "      <th>4</th>\n",
       "      <td>66.0</td>\n",
       "      <td>418.74</td>\n",
       "      <td>1.0</td>\n",
       "      <td>14502.75</td>\n",
       "      <td>0</td>\n",
       "    </tr>\n",
       "  </tbody>\n",
       "</table>\n",
       "</div>"
      ],
      "text/plain": [
       "   calls  minutes  messages   mb_used  is_ultra\n",
       "0   40.0   311.90      83.0  19915.42         0\n",
       "1   85.0   516.75      56.0  22696.96         0\n",
       "2   77.0   467.66      86.0  21060.45         0\n",
       "3  106.0   745.53      81.0   8437.39         1\n",
       "4   66.0   418.74       1.0  14502.75         0"
      ]
     },
     "execution_count": 5,
     "metadata": {},
     "output_type": "execute_result"
    }
   ],
   "source": [
    "data.head()"
   ]
  },
  {
   "cell_type": "code",
   "execution_count": 6,
   "id": "38cb5d25",
   "metadata": {},
   "outputs": [
    {
     "data": {
      "text/plain": [
       "0"
      ]
     },
     "execution_count": 6,
     "metadata": {},
     "output_type": "execute_result"
    }
   ],
   "source": [
    "data.duplicated().sum() # явных дубликатов в столбцах нет"
   ]
  },
  {
   "cell_type": "code",
   "execution_count": 7,
   "id": "edf15a3d",
   "metadata": {
    "scrolled": true
   },
   "outputs": [
    {
     "data": {
      "text/plain": [
       "calls       0\n",
       "minutes     0\n",
       "messages    0\n",
       "mb_used     0\n",
       "is_ultra    0\n",
       "dtype: int64"
      ]
     },
     "execution_count": 7,
     "metadata": {},
     "output_type": "execute_result"
    }
   ],
   "source": [
    "data.isna().sum() #нулевых значений в выборке нет"
   ]
  },
  {
   "cell_type": "code",
   "execution_count": 8,
   "id": "bfec6ac1",
   "metadata": {},
   "outputs": [],
   "source": [
    "data['messages'] = data['messages'].astype(int) # изменим тип данных у строки messages, поскольку дробных значений у целого числа писем быть не может"
   ]
  },
  {
   "cell_type": "code",
   "execution_count": 9,
   "id": "f3040fa6",
   "metadata": {
    "scrolled": true
   },
   "outputs": [
    {
     "name": "stdout",
     "output_type": "stream",
     "text": [
      "<class 'pandas.core.frame.DataFrame'>\n",
      "RangeIndex: 3214 entries, 0 to 3213\n",
      "Data columns (total 5 columns):\n",
      " #   Column    Non-Null Count  Dtype  \n",
      "---  ------    --------------  -----  \n",
      " 0   calls     3214 non-null   float64\n",
      " 1   minutes   3214 non-null   float64\n",
      " 2   messages  3214 non-null   int64  \n",
      " 3   mb_used   3214 non-null   float64\n",
      " 4   is_ultra  3214 non-null   int64  \n",
      "dtypes: float64(3), int64(2)\n",
      "memory usage: 125.7 KB\n"
     ]
    }
   ],
   "source": [
    "data.info()"
   ]
  },
  {
   "cell_type": "markdown",
   "id": "e78ff8ac",
   "metadata": {},
   "source": [
    "**Вывод по 1 шагу: Данные по столбцам корректны. Мы изменили тип у messages на целочисенный int. Пропусков и дубликатов нет.**"
   ]
  },
  {
   "cell_type": "markdown",
   "id": "a47a8b4a",
   "metadata": {},
   "source": [
    "# Шаг 2. Разделить исходные данные на обучающую, валидационную и тестовую выборки."
   ]
  },
  {
   "cell_type": "markdown",
   "id": "87f5af4f",
   "metadata": {},
   "source": [
    "**Разобъём выборки на обучающую (60%), валидационную (20%) и тестовую (20%)**"
   ]
  },
  {
   "cell_type": "code",
   "execution_count": 10,
   "id": "60d094f7",
   "metadata": {},
   "outputs": [
    {
     "name": "stdout",
     "output_type": "stream",
     "text": [
      "Размер обучающей выборки 1928\n",
      "Размер валидационной выборки 643\n",
      "Размер тестовой выборки 643\n"
     ]
    }
   ],
   "source": [
    "data_train, data_other_sample = train_test_split(data, test_size=0.4, random_state=12345) # отделяем обучающую выборку от остальной\n",
    "data_valid, data_test = train_test_split(data_other_sample, test_size=0.5, random_state=12345) # делим остальную часть выборки на валидационную и тренировочную\n",
    "\n",
    "print('Размер обучающей выборки', data_train.shape[0])\n",
    "print('Размер валидационной выборки', data_valid.shape[0])\n",
    "print('Размер тестовой выборки', data_test.shape[0])"
   ]
  },
  {
   "cell_type": "markdown",
   "id": "03c5b162",
   "metadata": {},
   "source": [
    "**Составим признаки и целевой признак для каждоо датафрейма**"
   ]
  },
  {
   "cell_type": "code",
   "execution_count": 11,
   "id": "c81fff14",
   "metadata": {},
   "outputs": [],
   "source": [
    "features_train = data_train.drop(['is_ultra'], axis=1)\n",
    "target_train = data_train['is_ultra']\n",
    "features_valid = data_valid.drop(['is_ultra'], axis=1)\n",
    "target_valid = data_valid['is_ultra']\n",
    "features_test = data_test.drop(['is_ultra'], axis=1)\n",
    "target_test = data_test['is_ultra']"
   ]
  },
  {
   "cell_type": "markdown",
   "id": "50ea5c36",
   "metadata": {},
   "source": [
    "* features_train, tagret_train - обучающая выборка\n",
    "* features_valid, target_valid - валидационная выборка\n",
    "* features_test, target_test - тестовая выборка"
   ]
  },
  {
   "cell_type": "markdown",
   "id": "62d197f5",
   "metadata": {},
   "source": [
    "**Вывод по 2 шагу: Мы разделили выборку по принципу 60/20/20, где 60% - обучающая выборка (data_train), 20% - валидационная выборка (data_valid), 20% - тестовая выборка (data_test).**"
   ]
  },
  {
   "cell_type": "markdown",
   "id": "8088cf70",
   "metadata": {},
   "source": [
    "# Шаг 3. Исследование качества разных моделей, меняя гиперпараметры и описание кратких выводов исследования."
   ]
  },
  {
   "cell_type": "markdown",
   "id": "bb32430e",
   "metadata": {},
   "source": [
    "**Модель решающего дерева (Decision tree)**"
   ]
  },
  {
   "cell_type": "code",
   "execution_count": 12,
   "id": "620bd312",
   "metadata": {
    "scrolled": false
   },
   "outputs": [
    {
     "name": "stdout",
     "output_type": "stream",
     "text": [
      "Глубина дерева 1 Качество модели 0.7542768273716952\n",
      "Глубина дерева 2 Качество модели 0.7822706065318819\n",
      "Глубина дерева 3 Качество модели 0.7853810264385692\n",
      "Глубина дерева 4 Качество модели 0.7791601866251944\n",
      "Глубина дерева 5 Качество модели 0.7791601866251944\n",
      "Глубина дерева 6 Качество модели 0.7838258164852255\n",
      "Глубина дерева 7 Качество модели 0.7822706065318819\n",
      "Глубина дерева 8 Качество модели 0.7791601866251944\n",
      "Глубина дерева 9 Качество модели 0.7822706065318819\n",
      "Глубина дерева 10 Качество модели 0.7744945567651633\n",
      "Глубина дерева 11 Качество модели 0.7620528771384136\n",
      "Глубина дерева 12 Качество модели 0.7620528771384136\n",
      "Глубина дерева 13 Качество модели 0.7558320373250389\n",
      "Глубина дерева 14 Качество модели 0.7589424572317263\n",
      "Глубина дерева 15 Качество модели 0.7465007776049767\n",
      "Глубина дерева 16 Качество модели 0.7340590979782271\n",
      "Глубина дерева 17 Качество модели 0.7356143079315708\n",
      "Глубина дерева 18 Качество модели 0.7309486780715396\n",
      "Глубина дерева 19 Качество модели 0.7278382581648523\n",
      "Глубина дерева 20 Качество модели 0.7216174183514774\n",
      "Глубина дерева 21 Качество модели 0.7278382581648523\n",
      "Глубина дерева 22 Качество модели 0.7262830482115086\n",
      "Глубина дерева 23 Качество модели 0.7169517884914464\n",
      "Глубина дерева 24 Качество модели 0.713841368584759\n",
      "Глубина дерева 25 Качество модели 0.713841368584759\n",
      "Глубина дерева 26 Качество модели 0.713841368584759\n",
      "Глубина дерева 27 Качество модели 0.713841368584759\n",
      "Глубина дерева 28 Качество модели 0.713841368584759\n",
      "Глубина дерева 29 Качество модели 0.713841368584759\n",
      "Глубина дерева 30 Качество модели 0.713841368584759\n",
      "Глубина дерева 31 Качество модели 0.713841368584759\n",
      "Глубина дерева 32 Качество модели 0.713841368584759\n",
      "Глубина дерева 33 Качество модели 0.713841368584759\n",
      "Глубина дерева 34 Качество модели 0.713841368584759\n",
      "Глубина дерева 35 Качество модели 0.713841368584759\n",
      "Глубина дерева 36 Качество модели 0.713841368584759\n",
      "Глубина дерева 37 Качество модели 0.713841368584759\n",
      "Глубина дерева 38 Качество модели 0.713841368584759\n",
      "Глубина дерева 39 Качество модели 0.713841368584759\n",
      "Глубина дерева 40 Качество модели 0.713841368584759\n",
      "Глубина дерева 41 Качество модели 0.713841368584759\n",
      "Глубина дерева 42 Качество модели 0.713841368584759\n",
      "Глубина дерева 43 Качество модели 0.713841368584759\n",
      "Глубина дерева 44 Качество модели 0.713841368584759\n",
      "Глубина дерева 45 Качество модели 0.713841368584759\n",
      "Глубина дерева 46 Качество модели 0.713841368584759\n",
      "Глубина дерева 47 Качество модели 0.713841368584759\n",
      "Глубина дерева 48 Качество модели 0.713841368584759\n",
      "Глубина дерева 49 Качество модели 0.713841368584759\n",
      "Глубина дерева 50 Качество модели 0.713841368584759\n",
      "Глубина дерева 51 Качество модели 0.713841368584759\n",
      "Глубина дерева 52 Качество модели 0.713841368584759\n",
      "Глубина дерева 53 Качество модели 0.713841368584759\n",
      "Глубина дерева 54 Качество модели 0.713841368584759\n",
      "Глубина дерева 55 Качество модели 0.713841368584759\n",
      "Глубина дерева 56 Качество модели 0.713841368584759\n",
      "Глубина дерева 57 Качество модели 0.713841368584759\n",
      "Глубина дерева 58 Качество модели 0.713841368584759\n",
      "Глубина дерева 59 Качество модели 0.713841368584759\n",
      "Глубина дерева 60 Качество модели 0.713841368584759\n",
      "Глубина дерева 61 Качество модели 0.713841368584759\n",
      "Глубина дерева 62 Качество модели 0.713841368584759\n",
      "Глубина дерева 63 Качество модели 0.713841368584759\n",
      "Глубина дерева 64 Качество модели 0.713841368584759\n",
      "Глубина дерева 65 Качество модели 0.713841368584759\n",
      "Глубина дерева 66 Качество модели 0.713841368584759\n",
      "Глубина дерева 67 Качество модели 0.713841368584759\n",
      "Глубина дерева 68 Качество модели 0.713841368584759\n",
      "Глубина дерева 69 Качество модели 0.713841368584759\n",
      "Глубина дерева 70 Качество модели 0.713841368584759\n",
      "Глубина дерева 71 Качество модели 0.713841368584759\n",
      "Глубина дерева 72 Качество модели 0.713841368584759\n",
      "Глубина дерева 73 Качество модели 0.713841368584759\n",
      "Глубина дерева 74 Качество модели 0.713841368584759\n",
      "Глубина дерева 75 Качество модели 0.713841368584759\n",
      "Глубина дерева 76 Качество модели 0.713841368584759\n",
      "Глубина дерева 77 Качество модели 0.713841368584759\n",
      "Глубина дерева 78 Качество модели 0.713841368584759\n",
      "Глубина дерева 79 Качество модели 0.713841368584759\n",
      "Глубина дерева 80 Качество модели 0.713841368584759\n",
      "Глубина дерева 81 Качество модели 0.713841368584759\n",
      "Глубина дерева 82 Качество модели 0.713841368584759\n",
      "Глубина дерева 83 Качество модели 0.713841368584759\n",
      "Глубина дерева 84 Качество модели 0.713841368584759\n",
      "Глубина дерева 85 Качество модели 0.713841368584759\n",
      "Глубина дерева 86 Качество модели 0.713841368584759\n",
      "Глубина дерева 87 Качество модели 0.713841368584759\n",
      "Глубина дерева 88 Качество модели 0.713841368584759\n",
      "Глубина дерева 89 Качество модели 0.713841368584759\n",
      "Глубина дерева 90 Качество модели 0.713841368584759\n",
      "Глубина дерева 91 Качество модели 0.713841368584759\n",
      "Глубина дерева 92 Качество модели 0.713841368584759\n",
      "Глубина дерева 93 Качество модели 0.713841368584759\n",
      "Глубина дерева 94 Качество модели 0.713841368584759\n",
      "Глубина дерева 95 Качество модели 0.713841368584759\n",
      "Глубина дерева 96 Качество модели 0.713841368584759\n",
      "Глубина дерева 97 Качество модели 0.713841368584759\n",
      "Глубина дерева 98 Качество модели 0.713841368584759\n",
      "Глубина дерева 99 Качество модели 0.713841368584759\n",
      "Глубина дерева 100 Качество модели 0.713841368584759\n",
      "Лучшая глубина 3 Лучшее качество модели: 0.7853810264385692\n",
      "CPU times: user 1.16 s, sys: 28.9 ms, total: 1.19 s\n",
      "Wall time: 1.21 s\n"
     ]
    }
   ],
   "source": [
    "%%time\n",
    "\n",
    "best_depth = 0\n",
    "best_accuracy = 0\n",
    "\n",
    "for depth in range(1,101):\n",
    "    model = DecisionTreeClassifier(random_state=12345, max_depth=depth)\n",
    "    model.fit(features_train, target_train)\n",
    "    predictions = model.predict(features_valid)\n",
    "    accuracy = accuracy_score(target_valid, predictions)\n",
    "    print('Глубина дерева', depth, 'Качество модели', accuracy)\n",
    "    if accuracy > best_accuracy:\n",
    "        best_depth = depth\n",
    "        best_accuracy = accuracy\n",
    "print('Лучшая глубина', best_depth, 'Лучшее качество модели:', best_accuracy)"
   ]
  },
  {
   "cell_type": "markdown",
   "id": "9669d7d4",
   "metadata": {},
   "source": [
    "**Самая лучшая глубина дерева - 3.**"
   ]
  },
  {
   "cell_type": "code",
   "execution_count": 13,
   "id": "1c56acd3",
   "metadata": {
    "scrolled": false
   },
   "outputs": [
    {
     "name": "stdout",
     "output_type": "stream",
     "text": [
      "Глубина дерева 3 Лучшее качество модели 0.713841368584759\n"
     ]
    }
   ],
   "source": [
    "best_tree_model = DecisionTreeClassifier(random_state=12345, max_depth=3)\n",
    "best_tree_model.fit(features_train, target_train)\n",
    "predictions = model.predict(features_valid)\n",
    "accuracy = accuracy_score(target_valid, predictions)\n",
    "print('Глубина дерева', 3, 'Лучшее качество модели', accuracy)"
   ]
  },
  {
   "cell_type": "markdown",
   "id": "ec8bfc29",
   "metadata": {},
   "source": [
    "**Модель случайного леса (Random forest)**"
   ]
  },
  {
   "cell_type": "code",
   "execution_count": 14,
   "id": "e43b0eca",
   "metadata": {
    "scrolled": true
   },
   "outputs": [
    {
     "name": "stdout",
     "output_type": "stream",
     "text": [
      "Количество деревьев 1 Качество модели 0.7107309486780715\n",
      "Количество деревьев 2 Качество модели 0.7636080870917574\n",
      "Количество деревьев 3 Качество модели 0.7387247278382582\n",
      "Количество деревьев 4 Качество модели 0.7713841368584758\n",
      "Количество деревьев 5 Качество модели 0.749611197511664\n",
      "Количество деревьев 6 Качество модели 0.7807153965785381\n",
      "Количество деревьев 7 Качество модели 0.7682737169517885\n",
      "Количество деревьев 8 Качество модели 0.7822706065318819\n",
      "Количество деревьев 9 Качество модели 0.7729393468118196\n",
      "Количество деревьев 10 Качество модели 0.7853810264385692\n",
      "Количество деревьев 11 Качество модели 0.7838258164852255\n",
      "Количество деревьев 12 Качество модели 0.7869362363919129\n",
      "Количество деревьев 13 Качество модели 0.7822706065318819\n",
      "Количество деревьев 14 Качество модели 0.7838258164852255\n",
      "Количество деревьев 15 Качество модели 0.7838258164852255\n",
      "Количество деревьев 16 Качество модели 0.7869362363919129\n",
      "Количество деревьев 17 Качество модели 0.7869362363919129\n",
      "Количество деревьев 18 Качество модели 0.7931570762052877\n",
      "Количество деревьев 19 Качество модели 0.7884914463452566\n",
      "Количество деревьев 20 Качество модели 0.7869362363919129\n",
      "Количество деревьев 21 Качество модели 0.7931570762052877\n",
      "Количество деревьев 22 Качество модели 0.7884914463452566\n",
      "Количество деревьев 23 Качество модели 0.7947122861586314\n",
      "Количество деревьев 24 Качество модели 0.7900466562986003\n",
      "Количество деревьев 25 Качество модели 0.7838258164852255\n",
      "Количество деревьев 26 Качество модели 0.7853810264385692\n",
      "Количество деревьев 27 Качество модели 0.7853810264385692\n",
      "Количество деревьев 28 Качество модели 0.7838258164852255\n",
      "Количество деревьев 29 Качество модели 0.7791601866251944\n",
      "Количество деревьев 30 Качество модели 0.7838258164852255\n",
      "Количество деревьев 31 Качество модели 0.7822706065318819\n",
      "Количество деревьев 32 Качество модели 0.7822706065318819\n",
      "Количество деревьев 33 Качество модели 0.7807153965785381\n",
      "Количество деревьев 34 Качество модели 0.7807153965785381\n",
      "Количество деревьев 35 Качество модели 0.7776049766718507\n",
      "Количество деревьев 36 Качество модели 0.7807153965785381\n",
      "Количество деревьев 37 Качество модели 0.7776049766718507\n",
      "Количество деревьев 38 Качество модели 0.7838258164852255\n",
      "Количество деревьев 39 Качество модели 0.7807153965785381\n",
      "Количество деревьев 40 Качество модели 0.7838258164852255\n",
      "Количество деревьев 41 Качество модели 0.7869362363919129\n",
      "Количество деревьев 42 Качество модели 0.7900466562986003\n",
      "Количество деревьев 43 Качество модели 0.7853810264385692\n",
      "Количество деревьев 44 Качество модели 0.7900466562986003\n",
      "Количество деревьев 45 Качество модели 0.7884914463452566\n",
      "Количество деревьев 46 Качество модели 0.7884914463452566\n",
      "Количество деревьев 47 Качество модели 0.7869362363919129\n",
      "Количество деревьев 48 Качество модели 0.7916018662519441\n",
      "Количество деревьев 49 Качество модели 0.7884914463452566\n",
      "Количество деревьев 50 Качество модели 0.7916018662519441\n",
      "Количество деревьев 51 Качество модели 0.7916018662519441\n",
      "Количество деревьев 52 Качество модели 0.7900466562986003\n",
      "Количество деревьев 53 Качество модели 0.7853810264385692\n",
      "Количество деревьев 54 Качество модели 0.7853810264385692\n",
      "Количество деревьев 55 Качество модели 0.7853810264385692\n",
      "Количество деревьев 56 Качество модели 0.7853810264385692\n",
      "Количество деревьев 57 Качество модели 0.7822706065318819\n",
      "Количество деревьев 58 Качество модели 0.7838258164852255\n",
      "Количество деревьев 59 Качество модели 0.7838258164852255\n",
      "Количество деревьев 60 Качество модели 0.7853810264385692\n",
      "Количество деревьев 61 Качество модели 0.7807153965785381\n",
      "Количество деревьев 62 Качество модели 0.7838258164852255\n",
      "Количество деревьев 63 Качество модели 0.7807153965785381\n",
      "Количество деревьев 64 Качество модели 0.7807153965785381\n",
      "Количество деревьев 65 Качество модели 0.7838258164852255\n",
      "Количество деревьев 66 Качество модели 0.7822706065318819\n",
      "Количество деревьев 67 Качество модели 0.7807153965785381\n",
      "Количество деревьев 68 Качество модели 0.7807153965785381\n",
      "Количество деревьев 69 Качество модели 0.7791601866251944\n",
      "Количество деревьев 70 Качество модели 0.7791601866251944\n",
      "Количество деревьев 71 Качество модели 0.7807153965785381\n",
      "Количество деревьев 72 Качество модели 0.7791601866251944\n",
      "Количество деревьев 73 Качество модели 0.7807153965785381\n",
      "Количество деревьев 74 Качество модели 0.7822706065318819\n",
      "Количество деревьев 75 Качество модели 0.7822706065318819\n",
      "Количество деревьев 76 Качество модели 0.7838258164852255\n",
      "Количество деревьев 77 Качество модели 0.7822706065318819\n",
      "Количество деревьев 78 Качество модели 0.7822706065318819\n",
      "Количество деревьев 79 Качество модели 0.7807153965785381\n",
      "Количество деревьев 80 Качество модели 0.7822706065318819\n",
      "Количество деревьев 81 Качество модели 0.7807153965785381\n",
      "Количество деревьев 82 Качество модели 0.7807153965785381\n",
      "Количество деревьев 83 Качество модели 0.7807153965785381\n",
      "Количество деревьев 84 Качество модели 0.7822706065318819\n",
      "Количество деревьев 85 Качество модели 0.7822706065318819\n",
      "Количество деревьев 86 Качество модели 0.7853810264385692\n",
      "Количество деревьев 87 Качество модели 0.7838258164852255\n",
      "Количество деревьев 88 Качество модели 0.7838258164852255\n",
      "Количество деревьев 89 Качество модели 0.7838258164852255\n",
      "Количество деревьев 90 Качество модели 0.7838258164852255\n",
      "Количество деревьев 91 Качество модели 0.7838258164852255\n",
      "Количество деревьев 92 Качество модели 0.7838258164852255\n",
      "Количество деревьев 93 Качество модели 0.7853810264385692\n",
      "Количество деревьев 94 Качество модели 0.7869362363919129\n",
      "Количество деревьев 95 Качество модели 0.7822706065318819\n",
      "Количество деревьев 96 Качество модели 0.7838258164852255\n",
      "Количество деревьев 97 Качество модели 0.7822706065318819\n",
      "Количество деревьев 98 Качество модели 0.7853810264385692\n",
      "Количество деревьев 99 Качество модели 0.7853810264385692\n",
      "Количество деревьев 100 Качество модели 0.7853810264385692\n",
      "Лучшее число деревьев: 100 Лучшее качество модели 0.7853810264385692\n",
      "CPU times: user 20.7 s, sys: 167 ms, total: 20.8 s\n",
      "Wall time: 21 s\n"
     ]
    }
   ],
   "source": [
    "%%time\n",
    "\n",
    "best_estimation = 0\n",
    "best_result = 0\n",
    "\n",
    "for est in range(1, 101):\n",
    "    model = RandomForestClassifier(random_state=12345, n_estimators=est)\n",
    "    model.fit(features_train, target_train)\n",
    "    predictions = model.predict(features_valid)\n",
    "    accuracy = accuracy_score(target_valid, predictions)\n",
    "    print('Количество деревьев', est, 'Качество модели', accuracy)\n",
    "    if accuracy > best_accuracy:\n",
    "        best_estimation = est\n",
    "        best_accuracy = accuracy\n",
    "        \n",
    "print('Лучшее число деревьев:', est, 'Лучшее качество модели', accuracy)"
   ]
  },
  {
   "cell_type": "code",
   "execution_count": 15,
   "id": "e77e0b48",
   "metadata": {},
   "outputs": [
    {
     "name": "stdout",
     "output_type": "stream",
     "text": [
      "Количество деревьев 100 Лучшее качество модели 0.7853810264385692\n"
     ]
    }
   ],
   "source": [
    "best_forest_model = RandomForestClassifier(random_state=12345, n_estimators=100)\n",
    "best_forest_model.fit(features_train, target_train)\n",
    "predictions = model.predict(features_valid)\n",
    "accuracy = accuracy_score(target_valid, predictions)\n",
    "print('Количество деревьев', 100, 'Лучшее качество модели', accuracy)"
   ]
  },
  {
   "cell_type": "markdown",
   "id": "01cd263e",
   "metadata": {},
   "source": [
    "**Самая лучшее число деревьев - 100.**"
   ]
  },
  {
   "cell_type": "markdown",
   "id": "86f99277",
   "metadata": {},
   "source": [
    "**Модель логистической регрессии (Logistic regression)**"
   ]
  },
  {
   "cell_type": "code",
   "execution_count": 16,
   "id": "31dd0688",
   "metadata": {},
   "outputs": [
    {
     "name": "stdout",
     "output_type": "stream",
     "text": [
      "Количество итераций 1 Качество модели: 0.7060653188180405\n",
      "Количество итераций 2 Качество модели: 0.7060653188180405\n",
      "Количество итераций 3 Качество модели: 0.7060653188180405\n",
      "Количество итераций 4 Качество модели: 0.7060653188180405\n",
      "Количество итераций 5 Качество модели: 0.7060653188180405\n",
      "Количество итераций 6 Качество модели: 0.7060653188180405\n",
      "Количество итераций 7 Качество модели: 0.7060653188180405\n",
      "Количество итераций 8 Качество модели: 0.7060653188180405\n",
      "Количество итераций 9 Качество модели: 0.7060653188180405\n",
      "Количество итераций 10 Качество модели: 0.7060653188180405\n",
      "Количество итераций 11 Качество модели: 0.7060653188180405\n",
      "Количество итераций 12 Качество модели: 0.7060653188180405\n",
      "Количество итераций 13 Качество модели: 0.7060653188180405\n",
      "Количество итераций 14 Качество модели: 0.7060653188180405\n",
      "Количество итераций 15 Качество модели: 0.7060653188180405\n",
      "Количество итераций 16 Качество модели: 0.7060653188180405\n",
      "Количество итераций 17 Качество модели: 0.7060653188180405\n",
      "Количество итераций 18 Качество модели: 0.7045101088646968\n"
     ]
    },
    {
     "name": "stderr",
     "output_type": "stream",
     "text": [
      "/opt/conda/lib/python3.9/site-packages/sklearn/linear_model/_logistic.py:763: ConvergenceWarning: lbfgs failed to converge (status=1):\n",
      "STOP: TOTAL NO. of ITERATIONS REACHED LIMIT.\n",
      "\n",
      "Increase the number of iterations (max_iter) or scale the data as shown in:\n",
      "    https://scikit-learn.org/stable/modules/preprocessing.html\n",
      "Please also refer to the documentation for alternative solver options:\n",
      "    https://scikit-learn.org/stable/modules/linear_model.html#logistic-regression\n",
      "  n_iter_i = _check_optimize_result(\n",
      "/opt/conda/lib/python3.9/site-packages/sklearn/linear_model/_logistic.py:763: ConvergenceWarning: lbfgs failed to converge (status=1):\n",
      "STOP: TOTAL NO. of ITERATIONS REACHED LIMIT.\n",
      "\n",
      "Increase the number of iterations (max_iter) or scale the data as shown in:\n",
      "    https://scikit-learn.org/stable/modules/preprocessing.html\n",
      "Please also refer to the documentation for alternative solver options:\n",
      "    https://scikit-learn.org/stable/modules/linear_model.html#logistic-regression\n",
      "  n_iter_i = _check_optimize_result(\n",
      "/opt/conda/lib/python3.9/site-packages/sklearn/linear_model/_logistic.py:763: ConvergenceWarning: lbfgs failed to converge (status=1):\n",
      "STOP: TOTAL NO. of ITERATIONS REACHED LIMIT.\n",
      "\n",
      "Increase the number of iterations (max_iter) or scale the data as shown in:\n",
      "    https://scikit-learn.org/stable/modules/preprocessing.html\n",
      "Please also refer to the documentation for alternative solver options:\n",
      "    https://scikit-learn.org/stable/modules/linear_model.html#logistic-regression\n",
      "  n_iter_i = _check_optimize_result(\n",
      "/opt/conda/lib/python3.9/site-packages/sklearn/linear_model/_logistic.py:763: ConvergenceWarning: lbfgs failed to converge (status=1):\n",
      "STOP: TOTAL NO. of ITERATIONS REACHED LIMIT.\n",
      "\n",
      "Increase the number of iterations (max_iter) or scale the data as shown in:\n",
      "    https://scikit-learn.org/stable/modules/preprocessing.html\n",
      "Please also refer to the documentation for alternative solver options:\n",
      "    https://scikit-learn.org/stable/modules/linear_model.html#logistic-regression\n",
      "  n_iter_i = _check_optimize_result(\n",
      "/opt/conda/lib/python3.9/site-packages/sklearn/linear_model/_logistic.py:763: ConvergenceWarning: lbfgs failed to converge (status=1):\n",
      "STOP: TOTAL NO. of ITERATIONS REACHED LIMIT.\n",
      "\n",
      "Increase the number of iterations (max_iter) or scale the data as shown in:\n",
      "    https://scikit-learn.org/stable/modules/preprocessing.html\n",
      "Please also refer to the documentation for alternative solver options:\n",
      "    https://scikit-learn.org/stable/modules/linear_model.html#logistic-regression\n",
      "  n_iter_i = _check_optimize_result(\n",
      "/opt/conda/lib/python3.9/site-packages/sklearn/linear_model/_logistic.py:763: ConvergenceWarning: lbfgs failed to converge (status=1):\n",
      "STOP: TOTAL NO. of ITERATIONS REACHED LIMIT.\n",
      "\n",
      "Increase the number of iterations (max_iter) or scale the data as shown in:\n",
      "    https://scikit-learn.org/stable/modules/preprocessing.html\n",
      "Please also refer to the documentation for alternative solver options:\n",
      "    https://scikit-learn.org/stable/modules/linear_model.html#logistic-regression\n",
      "  n_iter_i = _check_optimize_result(\n",
      "/opt/conda/lib/python3.9/site-packages/sklearn/linear_model/_logistic.py:763: ConvergenceWarning: lbfgs failed to converge (status=1):\n",
      "STOP: TOTAL NO. of ITERATIONS REACHED LIMIT.\n",
      "\n",
      "Increase the number of iterations (max_iter) or scale the data as shown in:\n",
      "    https://scikit-learn.org/stable/modules/preprocessing.html\n",
      "Please also refer to the documentation for alternative solver options:\n",
      "    https://scikit-learn.org/stable/modules/linear_model.html#logistic-regression\n",
      "  n_iter_i = _check_optimize_result(\n",
      "/opt/conda/lib/python3.9/site-packages/sklearn/linear_model/_logistic.py:763: ConvergenceWarning: lbfgs failed to converge (status=1):\n",
      "STOP: TOTAL NO. of ITERATIONS REACHED LIMIT.\n",
      "\n",
      "Increase the number of iterations (max_iter) or scale the data as shown in:\n",
      "    https://scikit-learn.org/stable/modules/preprocessing.html\n",
      "Please also refer to the documentation for alternative solver options:\n",
      "    https://scikit-learn.org/stable/modules/linear_model.html#logistic-regression\n",
      "  n_iter_i = _check_optimize_result(\n",
      "/opt/conda/lib/python3.9/site-packages/sklearn/linear_model/_logistic.py:763: ConvergenceWarning: lbfgs failed to converge (status=1):\n",
      "STOP: TOTAL NO. of ITERATIONS REACHED LIMIT.\n",
      "\n",
      "Increase the number of iterations (max_iter) or scale the data as shown in:\n",
      "    https://scikit-learn.org/stable/modules/preprocessing.html\n",
      "Please also refer to the documentation for alternative solver options:\n",
      "    https://scikit-learn.org/stable/modules/linear_model.html#logistic-regression\n",
      "  n_iter_i = _check_optimize_result(\n",
      "/opt/conda/lib/python3.9/site-packages/sklearn/linear_model/_logistic.py:763: ConvergenceWarning: lbfgs failed to converge (status=1):\n",
      "STOP: TOTAL NO. of ITERATIONS REACHED LIMIT.\n",
      "\n",
      "Increase the number of iterations (max_iter) or scale the data as shown in:\n",
      "    https://scikit-learn.org/stable/modules/preprocessing.html\n",
      "Please also refer to the documentation for alternative solver options:\n",
      "    https://scikit-learn.org/stable/modules/linear_model.html#logistic-regression\n",
      "  n_iter_i = _check_optimize_result(\n",
      "/opt/conda/lib/python3.9/site-packages/sklearn/linear_model/_logistic.py:763: ConvergenceWarning: lbfgs failed to converge (status=1):\n",
      "STOP: TOTAL NO. of ITERATIONS REACHED LIMIT.\n",
      "\n",
      "Increase the number of iterations (max_iter) or scale the data as shown in:\n",
      "    https://scikit-learn.org/stable/modules/preprocessing.html\n",
      "Please also refer to the documentation for alternative solver options:\n",
      "    https://scikit-learn.org/stable/modules/linear_model.html#logistic-regression\n",
      "  n_iter_i = _check_optimize_result(\n",
      "/opt/conda/lib/python3.9/site-packages/sklearn/linear_model/_logistic.py:763: ConvergenceWarning: lbfgs failed to converge (status=1):\n",
      "STOP: TOTAL NO. of ITERATIONS REACHED LIMIT.\n",
      "\n",
      "Increase the number of iterations (max_iter) or scale the data as shown in:\n",
      "    https://scikit-learn.org/stable/modules/preprocessing.html\n",
      "Please also refer to the documentation for alternative solver options:\n",
      "    https://scikit-learn.org/stable/modules/linear_model.html#logistic-regression\n",
      "  n_iter_i = _check_optimize_result(\n",
      "/opt/conda/lib/python3.9/site-packages/sklearn/linear_model/_logistic.py:763: ConvergenceWarning: lbfgs failed to converge (status=1):\n",
      "STOP: TOTAL NO. of ITERATIONS REACHED LIMIT.\n",
      "\n",
      "Increase the number of iterations (max_iter) or scale the data as shown in:\n",
      "    https://scikit-learn.org/stable/modules/preprocessing.html\n",
      "Please also refer to the documentation for alternative solver options:\n",
      "    https://scikit-learn.org/stable/modules/linear_model.html#logistic-regression\n",
      "  n_iter_i = _check_optimize_result(\n",
      "/opt/conda/lib/python3.9/site-packages/sklearn/linear_model/_logistic.py:763: ConvergenceWarning: lbfgs failed to converge (status=1):\n",
      "STOP: TOTAL NO. of ITERATIONS REACHED LIMIT.\n",
      "\n",
      "Increase the number of iterations (max_iter) or scale the data as shown in:\n",
      "    https://scikit-learn.org/stable/modules/preprocessing.html\n",
      "Please also refer to the documentation for alternative solver options:\n",
      "    https://scikit-learn.org/stable/modules/linear_model.html#logistic-regression\n",
      "  n_iter_i = _check_optimize_result(\n",
      "/opt/conda/lib/python3.9/site-packages/sklearn/linear_model/_logistic.py:763: ConvergenceWarning: lbfgs failed to converge (status=1):\n",
      "STOP: TOTAL NO. of ITERATIONS REACHED LIMIT.\n",
      "\n",
      "Increase the number of iterations (max_iter) or scale the data as shown in:\n",
      "    https://scikit-learn.org/stable/modules/preprocessing.html\n",
      "Please also refer to the documentation for alternative solver options:\n",
      "    https://scikit-learn.org/stable/modules/linear_model.html#logistic-regression\n",
      "  n_iter_i = _check_optimize_result(\n",
      "/opt/conda/lib/python3.9/site-packages/sklearn/linear_model/_logistic.py:763: ConvergenceWarning: lbfgs failed to converge (status=1):\n",
      "STOP: TOTAL NO. of ITERATIONS REACHED LIMIT.\n",
      "\n",
      "Increase the number of iterations (max_iter) or scale the data as shown in:\n",
      "    https://scikit-learn.org/stable/modules/preprocessing.html\n",
      "Please also refer to the documentation for alternative solver options:\n",
      "    https://scikit-learn.org/stable/modules/linear_model.html#logistic-regression\n",
      "  n_iter_i = _check_optimize_result(\n",
      "/opt/conda/lib/python3.9/site-packages/sklearn/linear_model/_logistic.py:763: ConvergenceWarning: lbfgs failed to converge (status=1):\n",
      "STOP: TOTAL NO. of ITERATIONS REACHED LIMIT.\n",
      "\n",
      "Increase the number of iterations (max_iter) or scale the data as shown in:\n",
      "    https://scikit-learn.org/stable/modules/preprocessing.html\n",
      "Please also refer to the documentation for alternative solver options:\n",
      "    https://scikit-learn.org/stable/modules/linear_model.html#logistic-regression\n",
      "  n_iter_i = _check_optimize_result(\n",
      "/opt/conda/lib/python3.9/site-packages/sklearn/linear_model/_logistic.py:763: ConvergenceWarning: lbfgs failed to converge (status=1):\n",
      "STOP: TOTAL NO. of ITERATIONS REACHED LIMIT.\n",
      "\n",
      "Increase the number of iterations (max_iter) or scale the data as shown in:\n",
      "    https://scikit-learn.org/stable/modules/preprocessing.html\n",
      "Please also refer to the documentation for alternative solver options:\n",
      "    https://scikit-learn.org/stable/modules/linear_model.html#logistic-regression\n",
      "  n_iter_i = _check_optimize_result(\n",
      "/opt/conda/lib/python3.9/site-packages/sklearn/linear_model/_logistic.py:763: ConvergenceWarning: lbfgs failed to converge (status=1):\n",
      "STOP: TOTAL NO. of ITERATIONS REACHED LIMIT.\n",
      "\n",
      "Increase the number of iterations (max_iter) or scale the data as shown in:\n",
      "    https://scikit-learn.org/stable/modules/preprocessing.html\n",
      "Please also refer to the documentation for alternative solver options:\n",
      "    https://scikit-learn.org/stable/modules/linear_model.html#logistic-regression\n",
      "  n_iter_i = _check_optimize_result(\n"
     ]
    },
    {
     "name": "stdout",
     "output_type": "stream",
     "text": [
      "Количество итераций 19 Качество модели: 0.7076205287713841\n",
      "Количество итераций 20 Качество модели: 0.7076205287713841\n",
      "Количество итераций 21 Качество модели: 0.7076205287713841\n",
      "Количество итераций 22 Качество модели: 0.7076205287713841\n",
      "Количество итераций 23 Качество модели: 0.7076205287713841\n",
      "Количество итераций 24 Качество модели: 0.7076205287713841\n",
      "Количество итераций 25 Качество модели: 0.7076205287713841\n",
      "Количество итераций 26 Качество модели: 0.7076205287713841\n",
      "Количество итераций 27 Качество модели: 0.7076205287713841\n",
      "Количество итераций 28 Качество модели: 0.7076205287713841\n",
      "Количество итераций 29 Качество модели: 0.7076205287713841\n",
      "Количество итераций 30 Качество модели: 0.7091757387247278\n"
     ]
    },
    {
     "name": "stderr",
     "output_type": "stream",
     "text": [
      "/opt/conda/lib/python3.9/site-packages/sklearn/linear_model/_logistic.py:763: ConvergenceWarning: lbfgs failed to converge (status=1):\n",
      "STOP: TOTAL NO. of ITERATIONS REACHED LIMIT.\n",
      "\n",
      "Increase the number of iterations (max_iter) or scale the data as shown in:\n",
      "    https://scikit-learn.org/stable/modules/preprocessing.html\n",
      "Please also refer to the documentation for alternative solver options:\n",
      "    https://scikit-learn.org/stable/modules/linear_model.html#logistic-regression\n",
      "  n_iter_i = _check_optimize_result(\n",
      "/opt/conda/lib/python3.9/site-packages/sklearn/linear_model/_logistic.py:763: ConvergenceWarning: lbfgs failed to converge (status=1):\n",
      "STOP: TOTAL NO. of ITERATIONS REACHED LIMIT.\n",
      "\n",
      "Increase the number of iterations (max_iter) or scale the data as shown in:\n",
      "    https://scikit-learn.org/stable/modules/preprocessing.html\n",
      "Please also refer to the documentation for alternative solver options:\n",
      "    https://scikit-learn.org/stable/modules/linear_model.html#logistic-regression\n",
      "  n_iter_i = _check_optimize_result(\n",
      "/opt/conda/lib/python3.9/site-packages/sklearn/linear_model/_logistic.py:763: ConvergenceWarning: lbfgs failed to converge (status=1):\n",
      "STOP: TOTAL NO. of ITERATIONS REACHED LIMIT.\n",
      "\n",
      "Increase the number of iterations (max_iter) or scale the data as shown in:\n",
      "    https://scikit-learn.org/stable/modules/preprocessing.html\n",
      "Please also refer to the documentation for alternative solver options:\n",
      "    https://scikit-learn.org/stable/modules/linear_model.html#logistic-regression\n",
      "  n_iter_i = _check_optimize_result(\n",
      "/opt/conda/lib/python3.9/site-packages/sklearn/linear_model/_logistic.py:763: ConvergenceWarning: lbfgs failed to converge (status=1):\n",
      "STOP: TOTAL NO. of ITERATIONS REACHED LIMIT.\n",
      "\n",
      "Increase the number of iterations (max_iter) or scale the data as shown in:\n",
      "    https://scikit-learn.org/stable/modules/preprocessing.html\n",
      "Please also refer to the documentation for alternative solver options:\n",
      "    https://scikit-learn.org/stable/modules/linear_model.html#logistic-regression\n",
      "  n_iter_i = _check_optimize_result(\n",
      "/opt/conda/lib/python3.9/site-packages/sklearn/linear_model/_logistic.py:763: ConvergenceWarning: lbfgs failed to converge (status=1):\n",
      "STOP: TOTAL NO. of ITERATIONS REACHED LIMIT.\n",
      "\n",
      "Increase the number of iterations (max_iter) or scale the data as shown in:\n",
      "    https://scikit-learn.org/stable/modules/preprocessing.html\n",
      "Please also refer to the documentation for alternative solver options:\n",
      "    https://scikit-learn.org/stable/modules/linear_model.html#logistic-regression\n",
      "  n_iter_i = _check_optimize_result(\n",
      "/opt/conda/lib/python3.9/site-packages/sklearn/linear_model/_logistic.py:763: ConvergenceWarning: lbfgs failed to converge (status=1):\n",
      "STOP: TOTAL NO. of ITERATIONS REACHED LIMIT.\n",
      "\n",
      "Increase the number of iterations (max_iter) or scale the data as shown in:\n",
      "    https://scikit-learn.org/stable/modules/preprocessing.html\n",
      "Please also refer to the documentation for alternative solver options:\n",
      "    https://scikit-learn.org/stable/modules/linear_model.html#logistic-regression\n",
      "  n_iter_i = _check_optimize_result(\n",
      "/opt/conda/lib/python3.9/site-packages/sklearn/linear_model/_logistic.py:763: ConvergenceWarning: lbfgs failed to converge (status=1):\n",
      "STOP: TOTAL NO. of ITERATIONS REACHED LIMIT.\n",
      "\n",
      "Increase the number of iterations (max_iter) or scale the data as shown in:\n",
      "    https://scikit-learn.org/stable/modules/preprocessing.html\n",
      "Please also refer to the documentation for alternative solver options:\n",
      "    https://scikit-learn.org/stable/modules/linear_model.html#logistic-regression\n",
      "  n_iter_i = _check_optimize_result(\n",
      "/opt/conda/lib/python3.9/site-packages/sklearn/linear_model/_logistic.py:763: ConvergenceWarning: lbfgs failed to converge (status=1):\n",
      "STOP: TOTAL NO. of ITERATIONS REACHED LIMIT.\n",
      "\n",
      "Increase the number of iterations (max_iter) or scale the data as shown in:\n",
      "    https://scikit-learn.org/stable/modules/preprocessing.html\n",
      "Please also refer to the documentation for alternative solver options:\n",
      "    https://scikit-learn.org/stable/modules/linear_model.html#logistic-regression\n",
      "  n_iter_i = _check_optimize_result(\n",
      "/opt/conda/lib/python3.9/site-packages/sklearn/linear_model/_logistic.py:763: ConvergenceWarning: lbfgs failed to converge (status=1):\n",
      "STOP: TOTAL NO. of ITERATIONS REACHED LIMIT.\n",
      "\n",
      "Increase the number of iterations (max_iter) or scale the data as shown in:\n",
      "    https://scikit-learn.org/stable/modules/preprocessing.html\n",
      "Please also refer to the documentation for alternative solver options:\n",
      "    https://scikit-learn.org/stable/modules/linear_model.html#logistic-regression\n",
      "  n_iter_i = _check_optimize_result(\n",
      "/opt/conda/lib/python3.9/site-packages/sklearn/linear_model/_logistic.py:763: ConvergenceWarning: lbfgs failed to converge (status=1):\n",
      "STOP: TOTAL NO. of ITERATIONS REACHED LIMIT.\n",
      "\n",
      "Increase the number of iterations (max_iter) or scale the data as shown in:\n",
      "    https://scikit-learn.org/stable/modules/preprocessing.html\n",
      "Please also refer to the documentation for alternative solver options:\n",
      "    https://scikit-learn.org/stable/modules/linear_model.html#logistic-regression\n",
      "  n_iter_i = _check_optimize_result(\n",
      "/opt/conda/lib/python3.9/site-packages/sklearn/linear_model/_logistic.py:763: ConvergenceWarning: lbfgs failed to converge (status=1):\n",
      "STOP: TOTAL NO. of ITERATIONS REACHED LIMIT.\n",
      "\n",
      "Increase the number of iterations (max_iter) or scale the data as shown in:\n",
      "    https://scikit-learn.org/stable/modules/preprocessing.html\n",
      "Please also refer to the documentation for alternative solver options:\n",
      "    https://scikit-learn.org/stable/modules/linear_model.html#logistic-regression\n",
      "  n_iter_i = _check_optimize_result(\n",
      "/opt/conda/lib/python3.9/site-packages/sklearn/linear_model/_logistic.py:763: ConvergenceWarning: lbfgs failed to converge (status=1):\n",
      "STOP: TOTAL NO. of ITERATIONS REACHED LIMIT.\n",
      "\n",
      "Increase the number of iterations (max_iter) or scale the data as shown in:\n",
      "    https://scikit-learn.org/stable/modules/preprocessing.html\n",
      "Please also refer to the documentation for alternative solver options:\n",
      "    https://scikit-learn.org/stable/modules/linear_model.html#logistic-regression\n",
      "  n_iter_i = _check_optimize_result(\n"
     ]
    },
    {
     "name": "stdout",
     "output_type": "stream",
     "text": [
      "Количество итераций 31 Качество модели: 0.7091757387247278\n",
      "Количество итераций 32 Качество модели: 0.7076205287713841\n",
      "Количество итераций 33 Качество модели: 0.7076205287713841\n",
      "Количество итераций 34 Качество модели: 0.7076205287713841\n",
      "Количество итераций 35 Качество модели: 0.7076205287713841\n",
      "Количество итераций 36 Качество модели: 0.7060653188180405\n",
      "Количество итераций 37 Качество модели: 0.7045101088646968\n",
      "Количество итераций 38 Качество модели: 0.7091757387247278\n"
     ]
    },
    {
     "name": "stderr",
     "output_type": "stream",
     "text": [
      "/opt/conda/lib/python3.9/site-packages/sklearn/linear_model/_logistic.py:763: ConvergenceWarning: lbfgs failed to converge (status=1):\n",
      "STOP: TOTAL NO. of ITERATIONS REACHED LIMIT.\n",
      "\n",
      "Increase the number of iterations (max_iter) or scale the data as shown in:\n",
      "    https://scikit-learn.org/stable/modules/preprocessing.html\n",
      "Please also refer to the documentation for alternative solver options:\n",
      "    https://scikit-learn.org/stable/modules/linear_model.html#logistic-regression\n",
      "  n_iter_i = _check_optimize_result(\n",
      "/opt/conda/lib/python3.9/site-packages/sklearn/linear_model/_logistic.py:763: ConvergenceWarning: lbfgs failed to converge (status=1):\n",
      "STOP: TOTAL NO. of ITERATIONS REACHED LIMIT.\n",
      "\n",
      "Increase the number of iterations (max_iter) or scale the data as shown in:\n",
      "    https://scikit-learn.org/stable/modules/preprocessing.html\n",
      "Please also refer to the documentation for alternative solver options:\n",
      "    https://scikit-learn.org/stable/modules/linear_model.html#logistic-regression\n",
      "  n_iter_i = _check_optimize_result(\n",
      "/opt/conda/lib/python3.9/site-packages/sklearn/linear_model/_logistic.py:763: ConvergenceWarning: lbfgs failed to converge (status=1):\n",
      "STOP: TOTAL NO. of ITERATIONS REACHED LIMIT.\n",
      "\n",
      "Increase the number of iterations (max_iter) or scale the data as shown in:\n",
      "    https://scikit-learn.org/stable/modules/preprocessing.html\n",
      "Please also refer to the documentation for alternative solver options:\n",
      "    https://scikit-learn.org/stable/modules/linear_model.html#logistic-regression\n",
      "  n_iter_i = _check_optimize_result(\n",
      "/opt/conda/lib/python3.9/site-packages/sklearn/linear_model/_logistic.py:763: ConvergenceWarning: lbfgs failed to converge (status=1):\n",
      "STOP: TOTAL NO. of ITERATIONS REACHED LIMIT.\n",
      "\n",
      "Increase the number of iterations (max_iter) or scale the data as shown in:\n",
      "    https://scikit-learn.org/stable/modules/preprocessing.html\n",
      "Please also refer to the documentation for alternative solver options:\n",
      "    https://scikit-learn.org/stable/modules/linear_model.html#logistic-regression\n",
      "  n_iter_i = _check_optimize_result(\n",
      "/opt/conda/lib/python3.9/site-packages/sklearn/linear_model/_logistic.py:763: ConvergenceWarning: lbfgs failed to converge (status=1):\n",
      "STOP: TOTAL NO. of ITERATIONS REACHED LIMIT.\n",
      "\n",
      "Increase the number of iterations (max_iter) or scale the data as shown in:\n",
      "    https://scikit-learn.org/stable/modules/preprocessing.html\n",
      "Please also refer to the documentation for alternative solver options:\n",
      "    https://scikit-learn.org/stable/modules/linear_model.html#logistic-regression\n",
      "  n_iter_i = _check_optimize_result(\n",
      "/opt/conda/lib/python3.9/site-packages/sklearn/linear_model/_logistic.py:763: ConvergenceWarning: lbfgs failed to converge (status=1):\n",
      "STOP: TOTAL NO. of ITERATIONS REACHED LIMIT.\n",
      "\n",
      "Increase the number of iterations (max_iter) or scale the data as shown in:\n",
      "    https://scikit-learn.org/stable/modules/preprocessing.html\n",
      "Please also refer to the documentation for alternative solver options:\n",
      "    https://scikit-learn.org/stable/modules/linear_model.html#logistic-regression\n",
      "  n_iter_i = _check_optimize_result(\n",
      "/opt/conda/lib/python3.9/site-packages/sklearn/linear_model/_logistic.py:763: ConvergenceWarning: lbfgs failed to converge (status=1):\n",
      "STOP: TOTAL NO. of ITERATIONS REACHED LIMIT.\n",
      "\n",
      "Increase the number of iterations (max_iter) or scale the data as shown in:\n",
      "    https://scikit-learn.org/stable/modules/preprocessing.html\n",
      "Please also refer to the documentation for alternative solver options:\n",
      "    https://scikit-learn.org/stable/modules/linear_model.html#logistic-regression\n",
      "  n_iter_i = _check_optimize_result(\n",
      "/opt/conda/lib/python3.9/site-packages/sklearn/linear_model/_logistic.py:763: ConvergenceWarning: lbfgs failed to converge (status=1):\n",
      "STOP: TOTAL NO. of ITERATIONS REACHED LIMIT.\n",
      "\n",
      "Increase the number of iterations (max_iter) or scale the data as shown in:\n",
      "    https://scikit-learn.org/stable/modules/preprocessing.html\n",
      "Please also refer to the documentation for alternative solver options:\n",
      "    https://scikit-learn.org/stable/modules/linear_model.html#logistic-regression\n",
      "  n_iter_i = _check_optimize_result(\n"
     ]
    },
    {
     "name": "stdout",
     "output_type": "stream",
     "text": [
      "Количество итераций 39 Качество модели: 0.7107309486780715\n",
      "Количество итераций 40 Качество модели: 0.7107309486780715\n",
      "Количество итераций 41 Качество модели: 0.7107309486780715\n",
      "Количество итераций 42 Качество модели: 0.7107309486780715\n",
      "Количество итераций 43 Качество модели: 0.7107309486780715\n",
      "Количество итераций 44 Качество модели: 0.7107309486780715\n",
      "Количество итераций 45 Качество модели: 0.7107309486780715\n",
      "Количество итераций 46 Качество модели: 0.7107309486780715\n",
      "Количество итераций 47 Качество модели: 0.7107309486780715\n",
      "Количество итераций 48 Качество модели: 0.7107309486780715\n"
     ]
    },
    {
     "name": "stderr",
     "output_type": "stream",
     "text": [
      "/opt/conda/lib/python3.9/site-packages/sklearn/linear_model/_logistic.py:763: ConvergenceWarning: lbfgs failed to converge (status=1):\n",
      "STOP: TOTAL NO. of ITERATIONS REACHED LIMIT.\n",
      "\n",
      "Increase the number of iterations (max_iter) or scale the data as shown in:\n",
      "    https://scikit-learn.org/stable/modules/preprocessing.html\n",
      "Please also refer to the documentation for alternative solver options:\n",
      "    https://scikit-learn.org/stable/modules/linear_model.html#logistic-regression\n",
      "  n_iter_i = _check_optimize_result(\n",
      "/opt/conda/lib/python3.9/site-packages/sklearn/linear_model/_logistic.py:763: ConvergenceWarning: lbfgs failed to converge (status=1):\n",
      "STOP: TOTAL NO. of ITERATIONS REACHED LIMIT.\n",
      "\n",
      "Increase the number of iterations (max_iter) or scale the data as shown in:\n",
      "    https://scikit-learn.org/stable/modules/preprocessing.html\n",
      "Please also refer to the documentation for alternative solver options:\n",
      "    https://scikit-learn.org/stable/modules/linear_model.html#logistic-regression\n",
      "  n_iter_i = _check_optimize_result(\n",
      "/opt/conda/lib/python3.9/site-packages/sklearn/linear_model/_logistic.py:763: ConvergenceWarning: lbfgs failed to converge (status=1):\n",
      "STOP: TOTAL NO. of ITERATIONS REACHED LIMIT.\n",
      "\n",
      "Increase the number of iterations (max_iter) or scale the data as shown in:\n",
      "    https://scikit-learn.org/stable/modules/preprocessing.html\n",
      "Please also refer to the documentation for alternative solver options:\n",
      "    https://scikit-learn.org/stable/modules/linear_model.html#logistic-regression\n",
      "  n_iter_i = _check_optimize_result(\n",
      "/opt/conda/lib/python3.9/site-packages/sklearn/linear_model/_logistic.py:763: ConvergenceWarning: lbfgs failed to converge (status=1):\n",
      "STOP: TOTAL NO. of ITERATIONS REACHED LIMIT.\n",
      "\n",
      "Increase the number of iterations (max_iter) or scale the data as shown in:\n",
      "    https://scikit-learn.org/stable/modules/preprocessing.html\n",
      "Please also refer to the documentation for alternative solver options:\n",
      "    https://scikit-learn.org/stable/modules/linear_model.html#logistic-regression\n",
      "  n_iter_i = _check_optimize_result(\n",
      "/opt/conda/lib/python3.9/site-packages/sklearn/linear_model/_logistic.py:763: ConvergenceWarning: lbfgs failed to converge (status=1):\n",
      "STOP: TOTAL NO. of ITERATIONS REACHED LIMIT.\n",
      "\n",
      "Increase the number of iterations (max_iter) or scale the data as shown in:\n",
      "    https://scikit-learn.org/stable/modules/preprocessing.html\n",
      "Please also refer to the documentation for alternative solver options:\n",
      "    https://scikit-learn.org/stable/modules/linear_model.html#logistic-regression\n",
      "  n_iter_i = _check_optimize_result(\n",
      "/opt/conda/lib/python3.9/site-packages/sklearn/linear_model/_logistic.py:763: ConvergenceWarning: lbfgs failed to converge (status=1):\n",
      "STOP: TOTAL NO. of ITERATIONS REACHED LIMIT.\n",
      "\n",
      "Increase the number of iterations (max_iter) or scale the data as shown in:\n",
      "    https://scikit-learn.org/stable/modules/preprocessing.html\n",
      "Please also refer to the documentation for alternative solver options:\n",
      "    https://scikit-learn.org/stable/modules/linear_model.html#logistic-regression\n",
      "  n_iter_i = _check_optimize_result(\n",
      "/opt/conda/lib/python3.9/site-packages/sklearn/linear_model/_logistic.py:763: ConvergenceWarning: lbfgs failed to converge (status=1):\n",
      "STOP: TOTAL NO. of ITERATIONS REACHED LIMIT.\n",
      "\n",
      "Increase the number of iterations (max_iter) or scale the data as shown in:\n",
      "    https://scikit-learn.org/stable/modules/preprocessing.html\n",
      "Please also refer to the documentation for alternative solver options:\n",
      "    https://scikit-learn.org/stable/modules/linear_model.html#logistic-regression\n",
      "  n_iter_i = _check_optimize_result(\n",
      "/opt/conda/lib/python3.9/site-packages/sklearn/linear_model/_logistic.py:763: ConvergenceWarning: lbfgs failed to converge (status=1):\n",
      "STOP: TOTAL NO. of ITERATIONS REACHED LIMIT.\n",
      "\n",
      "Increase the number of iterations (max_iter) or scale the data as shown in:\n",
      "    https://scikit-learn.org/stable/modules/preprocessing.html\n",
      "Please also refer to the documentation for alternative solver options:\n",
      "    https://scikit-learn.org/stable/modules/linear_model.html#logistic-regression\n",
      "  n_iter_i = _check_optimize_result(\n",
      "/opt/conda/lib/python3.9/site-packages/sklearn/linear_model/_logistic.py:763: ConvergenceWarning: lbfgs failed to converge (status=1):\n",
      "STOP: TOTAL NO. of ITERATIONS REACHED LIMIT.\n",
      "\n",
      "Increase the number of iterations (max_iter) or scale the data as shown in:\n",
      "    https://scikit-learn.org/stable/modules/preprocessing.html\n",
      "Please also refer to the documentation for alternative solver options:\n",
      "    https://scikit-learn.org/stable/modules/linear_model.html#logistic-regression\n",
      "  n_iter_i = _check_optimize_result(\n",
      "/opt/conda/lib/python3.9/site-packages/sklearn/linear_model/_logistic.py:763: ConvergenceWarning: lbfgs failed to converge (status=1):\n",
      "STOP: TOTAL NO. of ITERATIONS REACHED LIMIT.\n",
      "\n",
      "Increase the number of iterations (max_iter) or scale the data as shown in:\n",
      "    https://scikit-learn.org/stable/modules/preprocessing.html\n",
      "Please also refer to the documentation for alternative solver options:\n",
      "    https://scikit-learn.org/stable/modules/linear_model.html#logistic-regression\n",
      "  n_iter_i = _check_optimize_result(\n"
     ]
    },
    {
     "name": "stdout",
     "output_type": "stream",
     "text": [
      "Количество итераций 49 Качество модели: 0.7107309486780715\n",
      "Количество итераций 50 Качество модели: 0.7107309486780715\n",
      "Количество итераций 51 Качество модели: 0.7107309486780715\n",
      "Количество итераций 52 Качество модели: 0.7107309486780715\n",
      "Количество итераций 53 Качество модели: 0.7107309486780715\n",
      "Количество итераций 54 Качество модели: 0.7107309486780715\n",
      "Количество итераций 55 Качество модели: 0.7107309486780715\n",
      "Количество итераций 56 Качество модели: 0.7107309486780715\n",
      "Количество итераций 57 Качество модели: 0.7107309486780715\n",
      "Количество итераций 58 Качество модели: 0.7107309486780715\n",
      "Количество итераций 59 Качество модели: 0.7107309486780715\n",
      "Количество итераций 60 Качество модели: 0.7107309486780715\n",
      "Количество итераций 61 Качество модели: 0.7107309486780715\n",
      "Количество итераций 62 Качество модели: 0.7107309486780715\n",
      "Количество итераций 63 Качество модели: 0.7107309486780715\n",
      "Количество итераций 64 Качество модели: 0.7107309486780715\n",
      "Количество итераций 65 Качество модели: 0.7107309486780715\n",
      "Количество итераций 66 Качество модели: 0.7107309486780715\n",
      "Количество итераций 67 Качество модели: 0.7107309486780715\n",
      "Количество итераций 68 Качество модели: 0.7107309486780715\n",
      "Количество итераций 69 Качество модели: 0.7107309486780715\n",
      "Количество итераций 70 Качество модели: 0.7107309486780715\n",
      "Количество итераций 71 Качество модели: 0.7107309486780715\n",
      "Количество итераций 72 Качество модели: 0.7107309486780715\n",
      "Количество итераций 73 Качество модели: 0.7107309486780715\n",
      "Количество итераций 74 Качество модели: 0.7107309486780715\n",
      "Количество итераций 75 Качество модели: 0.7107309486780715\n",
      "Количество итераций 76 Качество модели: 0.7107309486780715\n",
      "Количество итераций 77 Качество модели: 0.7107309486780715\n",
      "Количество итераций 78 Качество модели: 0.7107309486780715\n",
      "Количество итераций 79 Качество модели: 0.7107309486780715\n",
      "Количество итераций 80 Качество модели: 0.7107309486780715\n",
      "Количество итераций 81 Качество модели: 0.7107309486780715\n",
      "Количество итераций 82 Качество модели: 0.7107309486780715\n",
      "Количество итераций 83 Качество модели: 0.7107309486780715\n",
      "Количество итераций 84 Качество модели: 0.7107309486780715\n",
      "Количество итераций 85 Качество модели: 0.7107309486780715\n",
      "Количество итераций 86 Качество модели: 0.7107309486780715\n",
      "Количество итераций 87 Качество модели: 0.7107309486780715\n",
      "Количество итераций 88 Качество модели: 0.7107309486780715\n",
      "Количество итераций 89 Качество модели: 0.7107309486780715\n",
      "Количество итераций 90 Качество модели: 0.7107309486780715\n",
      "Количество итераций 91 Качество модели: 0.7107309486780715\n",
      "Количество итераций 92 Качество модели: 0.7107309486780715\n",
      "Количество итераций 93 Качество модели: 0.7107309486780715\n",
      "Количество итераций 94 Качество модели: 0.7107309486780715\n",
      "Количество итераций 95 Качество модели: 0.7107309486780715\n",
      "Количество итераций 96 Качество модели: 0.7107309486780715\n",
      "Количество итераций 97 Качество модели: 0.7107309486780715\n",
      "Количество итераций 98 Качество модели: 0.7107309486780715\n",
      "Количество итераций 99 Качество модели: 0.7107309486780715\n",
      "Количество итераций 100 Качество модели: 0.7107309486780715\n",
      "Количество итераций 101 Качество модели: 0.7107309486780715\n",
      "Количество итераций 102 Качество модели: 0.7107309486780715\n",
      "Количество итераций 103 Качество модели: 0.7107309486780715\n",
      "Количество итераций 104 Качество модели: 0.7107309486780715\n",
      "Количество итераций 105 Качество модели: 0.7107309486780715\n",
      "Количество итераций 106 Качество модели: 0.7107309486780715\n",
      "Количество итераций 107 Качество модели: 0.7107309486780715\n",
      "Количество итераций 108 Качество модели: 0.7107309486780715\n",
      "Количество итераций 109 Качество модели: 0.7107309486780715\n",
      "Количество итераций 110 Качество модели: 0.7107309486780715\n",
      "Количество итераций 111 Качество модели: 0.7107309486780715\n",
      "Количество итераций 112 Качество модели: 0.7107309486780715\n",
      "Количество итераций 113 Качество модели: 0.7107309486780715\n",
      "Количество итераций 114 Качество модели: 0.7107309486780715\n",
      "Количество итераций 115 Качество модели: 0.7107309486780715\n",
      "Количество итераций 116 Качество модели: 0.7107309486780715\n",
      "Количество итераций 117 Качество модели: 0.7107309486780715\n",
      "Количество итераций 118 Качество модели: 0.7107309486780715\n",
      "Количество итераций 119 Качество модели: 0.7107309486780715\n",
      "Количество итераций 120 Качество модели: 0.7107309486780715\n",
      "Количество итераций 121 Качество модели: 0.7107309486780715\n",
      "Количество итераций 122 Качество модели: 0.7107309486780715\n",
      "Количество итераций 123 Качество модели: 0.7107309486780715\n",
      "Количество итераций 124 Качество модели: 0.7107309486780715\n",
      "Количество итераций 125 Качество модели: 0.7107309486780715\n",
      "Количество итераций 126 Качество модели: 0.7107309486780715\n",
      "Количество итераций 127 Качество модели: 0.7107309486780715\n",
      "Количество итераций 128 Качество модели: 0.7107309486780715\n",
      "Количество итераций 129 Качество модели: 0.7107309486780715\n",
      "Количество итераций 130 Качество модели: 0.7107309486780715\n",
      "Количество итераций 131 Качество модели: 0.7107309486780715\n",
      "Количество итераций 132 Качество модели: 0.7107309486780715\n",
      "Количество итераций 133 Качество модели: 0.7107309486780715\n",
      "Количество итераций 134 Качество модели: 0.7107309486780715\n",
      "Количество итераций 135 Качество модели: 0.7107309486780715\n",
      "Количество итераций 136 Качество модели: 0.7107309486780715\n",
      "Количество итераций 137 Качество модели: 0.7107309486780715\n",
      "Количество итераций 138 Качество модели: 0.7107309486780715\n",
      "Количество итераций 139 Качество модели: 0.7107309486780715\n",
      "Количество итераций 140 Качество модели: 0.7107309486780715\n",
      "Количество итераций 141 Качество модели: 0.7107309486780715\n",
      "Количество итераций 142 Качество модели: 0.7107309486780715\n",
      "Количество итераций 143 Качество модели: 0.7107309486780715\n",
      "Количество итераций 144 Качество модели: 0.7107309486780715\n",
      "Количество итераций 145 Качество модели: 0.7107309486780715\n",
      "Количество итераций 146 Качество модели: 0.7107309486780715\n",
      "Количество итераций 147 Качество модели: 0.7107309486780715\n",
      "Количество итераций 148 Качество модели: 0.7107309486780715\n",
      "Количество итераций 149 Качество модели: 0.7107309486780715\n",
      "Количество итераций 150 Качество модели: 0.7107309486780715\n",
      "Количество итераций 151 Качество модели: 0.7107309486780715\n",
      "Количество итераций 152 Качество модели: 0.7107309486780715\n",
      "Количество итераций 153 Качество модели: 0.7107309486780715\n",
      "Количество итераций 154 Качество модели: 0.7107309486780715\n",
      "Количество итераций 155 Качество модели: 0.7107309486780715\n",
      "Количество итераций 156 Качество модели: 0.7107309486780715\n",
      "Количество итераций 157 Качество модели: 0.7107309486780715\n",
      "Количество итераций 158 Качество модели: 0.7107309486780715\n",
      "Количество итераций 159 Качество модели: 0.7107309486780715\n",
      "Количество итераций 160 Качество модели: 0.7107309486780715\n",
      "Количество итераций 161 Качество модели: 0.7107309486780715\n",
      "Количество итераций 162 Качество модели: 0.7107309486780715\n",
      "Количество итераций 163 Качество модели: 0.7107309486780715\n",
      "Количество итераций 164 Качество модели: 0.7107309486780715\n",
      "Количество итераций 165 Качество модели: 0.7107309486780715\n",
      "Количество итераций 166 Качество модели: 0.7107309486780715\n",
      "Количество итераций 167 Качество модели: 0.7107309486780715\n",
      "Количество итераций 168 Качество модели: 0.7107309486780715\n",
      "Количество итераций 169 Качество модели: 0.7107309486780715\n",
      "Количество итераций 170 Качество модели: 0.7107309486780715\n",
      "Количество итераций 171 Качество модели: 0.7107309486780715\n",
      "Количество итераций 172 Качество модели: 0.7107309486780715\n",
      "Количество итераций 173 Качество модели: 0.7107309486780715\n",
      "Количество итераций 174 Качество модели: 0.7107309486780715\n",
      "Количество итераций 175 Качество модели: 0.7107309486780715\n",
      "Количество итераций 176 Качество модели: 0.7107309486780715\n",
      "Количество итераций 177 Качество модели: 0.7107309486780715\n",
      "Количество итераций 178 Качество модели: 0.7107309486780715\n",
      "Количество итераций 179 Качество модели: 0.7107309486780715\n",
      "Количество итераций 180 Качество модели: 0.7107309486780715\n",
      "Количество итераций 181 Качество модели: 0.7107309486780715\n",
      "Количество итераций 182 Качество модели: 0.7107309486780715\n",
      "Количество итераций 183 Качество модели: 0.7107309486780715\n",
      "Количество итераций 184 Качество модели: 0.7107309486780715\n",
      "Количество итераций 185 Качество модели: 0.7107309486780715\n",
      "Количество итераций 186 Качество модели: 0.7107309486780715\n",
      "Количество итераций 187 Качество модели: 0.7107309486780715\n",
      "Количество итераций 188 Качество модели: 0.7107309486780715\n",
      "Количество итераций 189 Качество модели: 0.7107309486780715\n",
      "Количество итераций 190 Качество модели: 0.7107309486780715\n",
      "Количество итераций 191 Качество модели: 0.7107309486780715\n",
      "Количество итераций 192 Качество модели: 0.7107309486780715\n",
      "Количество итераций 193 Качество модели: 0.7107309486780715\n",
      "Количество итераций 194 Качество модели: 0.7107309486780715\n",
      "Количество итераций 195 Качество модели: 0.7107309486780715\n",
      "Количество итераций 196 Качество модели: 0.7107309486780715\n",
      "Количество итераций 197 Качество модели: 0.7107309486780715\n",
      "Количество итераций 198 Качество модели: 0.7107309486780715\n",
      "Количество итераций 199 Качество модели: 0.7107309486780715\n",
      "Количество итераций 200 Качество модели: 0.7107309486780715\n",
      "Лучшее число итераций: 39 Лучшее качество модели: 0.7107309486780715\n",
      "CPU times: user 3.96 s, sys: 103 ms, total: 4.07 s\n",
      "Wall time: 4.13 s\n"
     ]
    }
   ],
   "source": [
    "%%time\n",
    "\n",
    "best_max_iter = 0\n",
    "best_accuracy = 0\n",
    "\n",
    "for max_iter in range(1, 201): \n",
    "    model = LogisticRegression(random_state=12345, solver='lbfgs', max_iter=max_iter)\n",
    "    model.fit(features_train, target_train)\n",
    "    predictions = model.predict(features_valid)\n",
    "    accuracy = accuracy_score(target_valid, predictions)\n",
    "    print('Количество итераций', max_iter, 'Качество модели:', accuracy)\n",
    "    if accuracy > best_accuracy:\n",
    "        best_max_iter = max_iter\n",
    "        best_accuracy = accuracy\n",
    "        \n",
    "print('Лучшее число итераций:', best_max_iter, 'Лучшее качество модели:', best_accuracy)"
   ]
  },
  {
   "cell_type": "code",
   "execution_count": 17,
   "id": "0376a56b",
   "metadata": {},
   "outputs": [
    {
     "name": "stdout",
     "output_type": "stream",
     "text": [
      "Количество итераций 39 Лучшее качество модели: 0.7107309486780715\n"
     ]
    }
   ],
   "source": [
    "best_regression_model = LogisticRegression(random_state=12345)\n",
    "best_regression_model.fit(features_train, target_train)\n",
    "predictions = model.predict(features_valid)\n",
    "accuracy = accuracy_score(target_valid, predictions)\n",
    "print('Количество итераций', 39, 'Лучшее качество модели:', accuracy)"
   ]
  },
  {
   "cell_type": "markdown",
   "id": "6a397df6",
   "metadata": {},
   "source": [
    "**Лучшее количество итераций - 39.**"
   ]
  },
  {
   "cell_type": "markdown",
   "id": "4db75fd6",
   "metadata": {},
   "source": [
    "**Вывод по 3 шагу:**\n",
    "\n",
    "* Качаство модели дерева решений (Descision tree) при глубине 3 равна Время выполнения равна 0.78.\n",
    "* Качаство модели случайного леса (Random forest) при количестве деревьев 100 равна 0.78.\n",
    "* Качаство модели логистической регрессии (Logistic regression) при количество итераций 39 равна 0.71.\n",
    "\n",
    "Поскольку выборка небольшая, то лучший результат показывают модели дерева решений и модель случайного леса."
   ]
  },
  {
   "cell_type": "markdown",
   "id": "5665ffb7",
   "metadata": {},
   "source": [
    "# Шаг 4. Проверить качество модели на тестовой выборке."
   ]
  },
  {
   "cell_type": "code",
   "execution_count": 18,
   "id": "3526d662",
   "metadata": {},
   "outputs": [
    {
     "name": "stdout",
     "output_type": "stream",
     "text": [
      "Качество модели решающего дерева на тестовой выборке 0.7791601866251944\n",
      "Качество модели случайного леса на тестовой выборке 0.7853810264385692\n",
      "Качество модели логистической регрессии на тестовой выборке 0.7853810264385692\n"
     ]
    }
   ],
   "source": [
    "test_predictions = best_tree_model.predict(features_test)\n",
    "accuracy = accuracy_score(target_test, test_predictions)\n",
    "print('Качество модели решающего дерева на тестовой выборке', accuracy)\n",
    "\n",
    "test_predictions = best_forest_model.predict(features_test)\n",
    "accuracy = accuracy_score(target_test, test_predictions)\n",
    "print('Качество модели случайного леса на тестовой выборке', accuracy)\n",
    "\n",
    "test_predictions = accuracy_score(target_test, test_predictions)\n",
    "print('Качество модели логистической регрессии на тестовой выборке', accuracy)"
   ]
  },
  {
   "cell_type": "markdown",
   "id": "d06e72ba",
   "metadata": {},
   "source": [
    "**Вывод по 4 шагу: Чтобы решить поставленную задачу, необходимо выбрать модель случайного леса, либо логистической регрессии. Для гарантии лучше использовать модель случайного леса, поскольку в обоих случаях моедь показала одинаково высокие результаты**"
   ]
  },
  {
   "cell_type": "markdown",
   "id": "bc00b358",
   "metadata": {},
   "source": [
    "# Шаг 5. Дополнительное задание: проверить модели на вменяемость."
   ]
  },
  {
   "cell_type": "markdown",
   "id": "0ff4b531",
   "metadata": {},
   "source": [
    "Для проверки модели на адекватность будем использовать три метрики: \n",
    "\n",
    "* `accuracy` - качество (Отношение числа правильных ответов к размеру тестовой выборки)\n",
    "* `precision` - точность (это метрика качества классификации, которая показывает какую долю объектов, распознанных как объекты положительного класса, мы предсказали верно. Вычисляется по формуле: TP / (TP + FP)).\n",
    "* `recall` - полнота (это метрика качества классификации, показывающая, какова доля TP-ответов среди всех, у которых истинная метка 1. Вычисляется по формуле:TP / (TP + FN)).\n",
    "\n",
    "И F1-меру:\n",
    "\n",
    "* `F1-мера` - это среднее гармоническое полноты и точности. Единица в F1 означает, что соотношение полноты и точности равно 1:1."
   ]
  },
  {
   "cell_type": "code",
   "execution_count": 19,
   "id": "2d5f3da0",
   "metadata": {},
   "outputs": [
    {
     "name": "stdout",
     "output_type": "stream",
     "text": [
      "Accuracy 0.7853810264385692 Precision: 0.696969696969697 Recall: 0.5665024630541872\n"
     ]
    }
   ],
   "source": [
    "test_predictions = best_forest_model.predict(features_test)\n",
    "accuracy = accuracy_score(target_test, test_predictions)\n",
    "precision = precision_score(target_test, test_predictions)\n",
    "recall = recall_score(target_test, test_predictions)\n",
    "print('Accuracy', accuracy, 'Precision:', precision, 'Recall:', recall)"
   ]
  },
  {
   "cell_type": "code",
   "execution_count": 20,
   "id": "87a73ab2",
   "metadata": {},
   "outputs": [
    {
     "name": "stdout",
     "output_type": "stream",
     "text": [
      "F1-мера: 0.6250000000000001\n"
     ]
    }
   ],
   "source": [
    "f_score = f1_score(target_test, test_predictions)\n",
    "print('F1-мера:', f_score)"
   ]
  },
  {
   "cell_type": "markdown",
   "id": "af0c594d",
   "metadata": {},
   "source": [
    "**Вывод по 5 шагу: Исходя из вычесления вышеперечисленных метрик `accuracy`, `precision`, `recall` и `F1-меры`, можно сказать, что модель получилась среднего качества.**"
   ]
  },
  {
   "cell_type": "code",
   "execution_count": 21,
   "id": "2e16f8aa",
   "metadata": {},
   "outputs": [],
   "source": [
    "from sklearn.dummy import DummyClassifier"
   ]
  },
  {
   "cell_type": "code",
   "execution_count": 22,
   "id": "70793f8e",
   "metadata": {},
   "outputs": [],
   "source": [
    "frequent_clf = DummyClassifier(strategy='most_frequent').fit(features_train, target_train) #метод прогнозирования всегда возвращает наиболее часто встречающуюся метку класса в наблюдаемом аргументе target, переданном для fit."
   ]
  },
  {
   "cell_type": "code",
   "execution_count": 23,
   "id": "04cb107b",
   "metadata": {},
   "outputs": [],
   "source": [
    "target_train_prediction = frequent_clf.predict(features_test)"
   ]
  },
  {
   "cell_type": "code",
   "execution_count": 24,
   "id": "57f9590e",
   "metadata": {
    "scrolled": true
   },
   "outputs": [
    {
     "name": "stdout",
     "output_type": "stream",
     "text": [
      "Unique predicted labels:  [0]\n"
     ]
    }
   ],
   "source": [
    "print('Unique predicted labels: ', (np.unique(target_train_prediction)))"
   ]
  },
  {
   "cell_type": "code",
   "execution_count": 25,
   "id": "299bb632",
   "metadata": {},
   "outputs": [
    {
     "name": "stdout",
     "output_type": "stream",
     "text": [
      "Test score:  0.6842923794712286\n"
     ]
    }
   ],
   "source": [
    "print('Test score: ', accuracy_score(target_test, target_train_prediction))"
   ]
  },
  {
   "cell_type": "code",
   "execution_count": 26,
   "id": "28fd3bd1",
   "metadata": {},
   "outputs": [],
   "source": [
    "uniform_clf = DummyClassifier(strategy='uniform').fit(features_train, target_train)"
   ]
  },
  {
   "cell_type": "code",
   "execution_count": 27,
   "id": "954bf00a",
   "metadata": {},
   "outputs": [],
   "source": [
    "target_uniform_pred = uniform_clf.predict(features_test)"
   ]
  },
  {
   "cell_type": "code",
   "execution_count": 28,
   "id": "4d987959",
   "metadata": {
    "scrolled": true
   },
   "outputs": [
    {
     "data": {
      "text/plain": [
       "0.6842923794712286"
      ]
     },
     "execution_count": 28,
     "metadata": {},
     "output_type": "execute_result"
    }
   ],
   "source": [
    "frequent_clf.score(features_test, target_test)"
   ]
  },
  {
   "cell_type": "code",
   "execution_count": 29,
   "id": "a50c9a2e",
   "metadata": {},
   "outputs": [
    {
     "data": {
      "text/plain": [
       "0.4774494556765163"
      ]
     },
     "execution_count": 29,
     "metadata": {},
     "output_type": "execute_result"
    }
   ],
   "source": [
    "uniform_clf.score(features_test, target_test) #генерирует предсказания равномерно случайным образом из списка уникальных классов, наблюдаемых в target, т.е. каждый класс имеет равную вероятность."
   ]
  },
  {
   "cell_type": "code",
   "execution_count": 30,
   "id": "1e627033",
   "metadata": {},
   "outputs": [],
   "source": [
    "from sklearn.metrics import confusion_matrix"
   ]
  },
  {
   "cell_type": "code",
   "execution_count": 31,
   "id": "3d900e4d",
   "metadata": {
    "scrolled": true
   },
   "outputs": [
    {
     "data": {
      "text/plain": [
       "array([[432,   8],\n",
       "       [194,   9]])"
      ]
     },
     "execution_count": 31,
     "metadata": {},
     "output_type": "execute_result"
    }
   ],
   "source": [
    "confusion_matrix(target_test, predictions)"
   ]
  },
  {
   "cell_type": "code",
   "execution_count": 32,
   "id": "ca83f61c",
   "metadata": {},
   "outputs": [
    {
     "data": {
      "text/plain": [
       "array([[223, 217],\n",
       "       [116,  87]])"
      ]
     },
     "execution_count": 32,
     "metadata": {},
     "output_type": "execute_result"
    }
   ],
   "source": [
    "confusion_matrix(target_test, target_uniform_pred)"
   ]
  },
  {
   "cell_type": "code",
   "execution_count": 33,
   "id": "0908cbd3",
   "metadata": {
    "scrolled": true
   },
   "outputs": [
    {
     "data": {
      "text/plain": [
       "array([[440,   0],\n",
       "       [203,   0]])"
      ]
     },
     "execution_count": 33,
     "metadata": {},
     "output_type": "execute_result"
    }
   ],
   "source": [
    "confusion_matrix(target_test, target_train_prediction) "
   ]
  },
  {
   "cell_type": "markdown",
   "id": "392d5f4b",
   "metadata": {},
   "source": [
    "# Общий вывод:\n",
    "\n",
    "В ходе проделанной работы мы выполнили следующие шаги:\n",
    "\n",
    "* Шаг 1. Изучили датафрейм.\n",
    "* Шаг 2. Разбили выборку на обучающую, валидационную и тестовую по соотношению 60/20/20.\n",
    "* Шаг 3. Исследовали три модели: Решающее дерево (Decision tree), случайный лес (Random forest) и логистическую регрессию (Logistic regression). Выбрали наиболее подходящую модель для исследования и обучили её - ей оказалась модель случайного леса (Random forest) со значенем 100 деревьев и качеством `accuracy` 0.78.\n",
    "* Шаг 4. Оценили качество обученной модели на тестовой выборке с помощью метрики `accuracy`.\n",
    "* Шаг 5. Проверили модель на вменяемость с помощью метрик: `accuracy`, `precision`, `recall` и `F1-меры`.\n",
    "\n",
    "Для обучения модели мы использовали 1928 ответов, что недостаточно для обучения. необходимо увеличить выборку в несколько раз, чтобы повысить метрики `accuracy`, `precision`, `recall` и `F1-меру`.\n",
    "\n",
    "Исходя из вычесления вышеперечисленных метрик accuracy, precision, recall и F1-меры, можно сказать, что модель получилась среднего качества - 0.63."
   ]
  }
 ],
 "metadata": {
  "ExecuteTimeLog": [
   {
    "duration": 1558,
    "start_time": "2022-10-03T09:22:02.547Z"
   },
   {
    "duration": 160,
    "start_time": "2022-10-03T09:22:04.107Z"
   },
   {
    "duration": 13,
    "start_time": "2022-10-03T09:22:04.269Z"
   },
   {
    "duration": 6,
    "start_time": "2022-10-03T09:22:04.284Z"
   },
   {
    "duration": 17,
    "start_time": "2022-10-03T09:22:04.292Z"
   },
   {
    "duration": 9,
    "start_time": "2022-10-03T09:22:04.310Z"
   },
   {
    "duration": 21,
    "start_time": "2022-10-03T09:22:04.320Z"
   },
   {
    "duration": 18,
    "start_time": "2022-10-03T09:22:04.342Z"
   },
   {
    "duration": 11,
    "start_time": "2022-10-03T09:22:04.362Z"
   },
   {
    "duration": 8,
    "start_time": "2022-10-03T09:22:04.376Z"
   },
   {
    "duration": 9,
    "start_time": "2022-10-03T09:22:04.385Z"
   },
   {
    "duration": 1212,
    "start_time": "2022-10-03T09:22:04.395Z"
   },
   {
    "duration": 11,
    "start_time": "2022-10-03T09:22:05.609Z"
   },
   {
    "duration": 20212,
    "start_time": "2022-10-03T09:22:05.638Z"
   },
   {
    "duration": 435,
    "start_time": "2022-10-03T09:22:25.852Z"
   },
   {
    "duration": 4215,
    "start_time": "2022-10-03T09:22:26.288Z"
   },
   {
    "duration": 34,
    "start_time": "2022-10-03T09:22:30.505Z"
   },
   {
    "duration": 34,
    "start_time": "2022-10-03T09:22:30.541Z"
   },
   {
    "duration": 33,
    "start_time": "2022-10-03T09:22:30.577Z"
   },
   {
    "duration": 6,
    "start_time": "2022-10-03T09:22:30.639Z"
   },
   {
    "duration": 130,
    "start_time": "2022-10-03T09:22:30.647Z"
   },
   {
    "duration": 3,
    "start_time": "2022-10-03T09:27:15.334Z"
   },
   {
    "duration": 11,
    "start_time": "2022-10-03T09:30:09.664Z"
   },
   {
    "duration": 5,
    "start_time": "2022-10-03T09:33:57.138Z"
   },
   {
    "duration": 3,
    "start_time": "2022-10-03T09:35:31.701Z"
   },
   {
    "duration": 5,
    "start_time": "2022-10-03T09:37:36.227Z"
   },
   {
    "duration": 8,
    "start_time": "2022-10-03T09:39:14.475Z"
   },
   {
    "duration": 4,
    "start_time": "2022-10-03T09:39:28.692Z"
   },
   {
    "duration": 3,
    "start_time": "2022-10-03T09:39:29.230Z"
   },
   {
    "duration": 6,
    "start_time": "2022-10-03T09:40:48.386Z"
   },
   {
    "duration": 13,
    "start_time": "2022-10-03T09:42:01.467Z"
   },
   {
    "duration": 6,
    "start_time": "2022-10-03T09:42:05.781Z"
   },
   {
    "duration": 9,
    "start_time": "2022-10-03T09:43:22.096Z"
   },
   {
    "duration": 9,
    "start_time": "2022-10-03T09:43:31.241Z"
   },
   {
    "duration": 2,
    "start_time": "2022-10-03T09:43:51.325Z"
   },
   {
    "duration": 6,
    "start_time": "2022-10-03T09:50:09.299Z"
   },
   {
    "duration": 16,
    "start_time": "2022-10-03T09:52:56.201Z"
   },
   {
    "duration": 6,
    "start_time": "2022-10-03T09:53:01.779Z"
   },
   {
    "duration": 6,
    "start_time": "2022-10-03T09:58:29.337Z"
   },
   {
    "duration": 8,
    "start_time": "2022-10-03T10:01:09.024Z"
   },
   {
    "duration": 13,
    "start_time": "2022-10-03T10:01:16.077Z"
   },
   {
    "duration": 13,
    "start_time": "2022-10-03T10:03:55.701Z"
   },
   {
    "duration": 1446,
    "start_time": "2022-10-03T10:07:33.856Z"
   },
   {
    "duration": 76,
    "start_time": "2022-10-03T10:07:35.304Z"
   },
   {
    "duration": 12,
    "start_time": "2022-10-03T10:07:35.382Z"
   },
   {
    "duration": 10,
    "start_time": "2022-10-03T10:07:35.396Z"
   },
   {
    "duration": 24,
    "start_time": "2022-10-03T10:07:35.407Z"
   },
   {
    "duration": 20,
    "start_time": "2022-10-03T10:07:35.432Z"
   },
   {
    "duration": 11,
    "start_time": "2022-10-03T10:07:35.453Z"
   },
   {
    "duration": 11,
    "start_time": "2022-10-03T10:07:35.466Z"
   },
   {
    "duration": 19,
    "start_time": "2022-10-03T10:07:35.479Z"
   },
   {
    "duration": 10,
    "start_time": "2022-10-03T10:07:35.502Z"
   },
   {
    "duration": 29,
    "start_time": "2022-10-03T10:07:35.513Z"
   },
   {
    "duration": 1231,
    "start_time": "2022-10-03T10:07:35.547Z"
   },
   {
    "duration": 10,
    "start_time": "2022-10-03T10:07:36.780Z"
   },
   {
    "duration": 21612,
    "start_time": "2022-10-03T10:07:36.792Z"
   },
   {
    "duration": 457,
    "start_time": "2022-10-03T10:07:58.405Z"
   },
   {
    "duration": 4062,
    "start_time": "2022-10-03T10:07:58.864Z"
   },
   {
    "duration": 37,
    "start_time": "2022-10-03T10:08:02.928Z"
   },
   {
    "duration": 29,
    "start_time": "2022-10-03T10:08:02.967Z"
   },
   {
    "duration": 48,
    "start_time": "2022-10-03T10:08:02.998Z"
   },
   {
    "duration": 10,
    "start_time": "2022-10-03T10:08:03.047Z"
   },
   {
    "duration": 7,
    "start_time": "2022-10-03T10:08:03.058Z"
   },
   {
    "duration": 8,
    "start_time": "2022-10-03T10:08:03.066Z"
   },
   {
    "duration": 6,
    "start_time": "2022-10-03T10:08:03.075Z"
   },
   {
    "duration": 6,
    "start_time": "2022-10-03T10:08:03.082Z"
   },
   {
    "duration": 8,
    "start_time": "2022-10-03T10:08:03.089Z"
   },
   {
    "duration": 7,
    "start_time": "2022-10-03T10:08:03.099Z"
   },
   {
    "duration": 5,
    "start_time": "2022-10-03T10:08:03.108Z"
   },
   {
    "duration": 10,
    "start_time": "2022-10-03T10:08:03.142Z"
   },
   {
    "duration": 10,
    "start_time": "2022-10-03T10:08:03.154Z"
   },
   {
    "duration": 6,
    "start_time": "2022-10-03T10:08:03.166Z"
   },
   {
    "duration": 8,
    "start_time": "2022-10-03T10:08:03.174Z"
   },
   {
    "duration": 4,
    "start_time": "2022-10-03T10:18:37.892Z"
   },
   {
    "duration": 4,
    "start_time": "2022-10-03T10:19:08.401Z"
   },
   {
    "duration": 1466,
    "start_time": "2022-10-03T10:19:21.925Z"
   },
   {
    "duration": 113,
    "start_time": "2022-10-03T10:19:23.393Z"
   },
   {
    "duration": 12,
    "start_time": "2022-10-03T10:19:23.508Z"
   },
   {
    "duration": 10,
    "start_time": "2022-10-03T10:19:23.523Z"
   },
   {
    "duration": 18,
    "start_time": "2022-10-03T10:19:23.535Z"
   },
   {
    "duration": 8,
    "start_time": "2022-10-03T10:19:23.555Z"
   },
   {
    "duration": 7,
    "start_time": "2022-10-03T10:19:23.565Z"
   },
   {
    "duration": 6,
    "start_time": "2022-10-03T10:19:23.573Z"
   },
   {
    "duration": 11,
    "start_time": "2022-10-03T10:19:23.581Z"
   },
   {
    "duration": 9,
    "start_time": "2022-10-03T10:19:23.595Z"
   },
   {
    "duration": 35,
    "start_time": "2022-10-03T10:19:23.605Z"
   },
   {
    "duration": 1203,
    "start_time": "2022-10-03T10:19:23.642Z"
   },
   {
    "duration": 11,
    "start_time": "2022-10-03T10:19:24.846Z"
   },
   {
    "duration": 20397,
    "start_time": "2022-10-03T10:19:24.859Z"
   },
   {
    "duration": 397,
    "start_time": "2022-10-03T10:19:45.258Z"
   },
   {
    "duration": 4037,
    "start_time": "2022-10-03T10:19:45.657Z"
   },
   {
    "duration": 24,
    "start_time": "2022-10-03T10:19:49.696Z"
   },
   {
    "duration": 46,
    "start_time": "2022-10-03T10:19:49.722Z"
   },
   {
    "duration": 34,
    "start_time": "2022-10-03T10:19:49.770Z"
   },
   {
    "duration": 7,
    "start_time": "2022-10-03T10:19:49.806Z"
   },
   {
    "duration": 7,
    "start_time": "2022-10-03T10:19:49.839Z"
   },
   {
    "duration": 8,
    "start_time": "2022-10-03T10:19:49.848Z"
   },
   {
    "duration": 5,
    "start_time": "2022-10-03T10:19:49.858Z"
   },
   {
    "duration": 6,
    "start_time": "2022-10-03T10:19:49.865Z"
   },
   {
    "duration": 7,
    "start_time": "2022-10-03T10:19:49.872Z"
   },
   {
    "duration": 4,
    "start_time": "2022-10-03T10:19:49.881Z"
   },
   {
    "duration": 4,
    "start_time": "2022-10-03T10:19:49.886Z"
   },
   {
    "duration": 6,
    "start_time": "2022-10-03T10:19:49.893Z"
   },
   {
    "duration": 41,
    "start_time": "2022-10-03T10:19:49.901Z"
   },
   {
    "duration": 7,
    "start_time": "2022-10-03T10:19:49.944Z"
   },
   {
    "duration": 10,
    "start_time": "2022-10-03T10:19:49.954Z"
   },
   {
    "duration": 5,
    "start_time": "2022-10-03T10:19:49.966Z"
   },
   {
    "duration": 7,
    "start_time": "2022-10-03T10:19:49.972Z"
   },
   {
    "duration": 153,
    "start_time": "2022-10-03T10:34:39.026Z"
   },
   {
    "duration": 1456,
    "start_time": "2022-10-03T10:34:53.322Z"
   },
   {
    "duration": 51,
    "start_time": "2022-10-03T10:34:54.781Z"
   },
   {
    "duration": 26,
    "start_time": "2022-10-03T10:34:54.834Z"
   },
   {
    "duration": 8,
    "start_time": "2022-10-03T10:34:54.862Z"
   },
   {
    "duration": 20,
    "start_time": "2022-10-03T10:34:54.872Z"
   },
   {
    "duration": 8,
    "start_time": "2022-10-03T10:34:54.893Z"
   },
   {
    "duration": 8,
    "start_time": "2022-10-03T10:34:54.903Z"
   },
   {
    "duration": 9,
    "start_time": "2022-10-03T10:34:54.913Z"
   },
   {
    "duration": 28,
    "start_time": "2022-10-03T10:34:54.924Z"
   },
   {
    "duration": 10,
    "start_time": "2022-10-03T10:34:54.956Z"
   },
   {
    "duration": 8,
    "start_time": "2022-10-03T10:34:54.968Z"
   },
   {
    "duration": 1253,
    "start_time": "2022-10-03T10:34:54.977Z"
   },
   {
    "duration": 18,
    "start_time": "2022-10-03T10:34:56.239Z"
   },
   {
    "duration": 21587,
    "start_time": "2022-10-03T10:34:56.259Z"
   },
   {
    "duration": 418,
    "start_time": "2022-10-03T10:35:17.851Z"
   },
   {
    "duration": 4286,
    "start_time": "2022-10-03T10:35:18.271Z"
   },
   {
    "duration": 43,
    "start_time": "2022-10-03T10:35:22.561Z"
   },
   {
    "duration": 48,
    "start_time": "2022-10-03T10:35:22.606Z"
   },
   {
    "duration": 32,
    "start_time": "2022-10-03T10:35:22.655Z"
   },
   {
    "duration": 6,
    "start_time": "2022-10-03T10:35:22.688Z"
   },
   {
    "duration": 9,
    "start_time": "2022-10-03T10:35:22.697Z"
   },
   {
    "duration": 6,
    "start_time": "2022-10-03T10:35:22.708Z"
   },
   {
    "duration": 27,
    "start_time": "2022-10-03T10:35:22.715Z"
   },
   {
    "duration": 21,
    "start_time": "2022-10-03T10:35:22.744Z"
   },
   {
    "duration": 5,
    "start_time": "2022-10-03T10:35:22.768Z"
   },
   {
    "duration": 4,
    "start_time": "2022-10-03T10:35:22.775Z"
   },
   {
    "duration": 6,
    "start_time": "2022-10-03T10:35:22.781Z"
   },
   {
    "duration": 8,
    "start_time": "2022-10-03T10:35:22.790Z"
   },
   {
    "duration": 9,
    "start_time": "2022-10-03T10:35:22.800Z"
   },
   {
    "duration": 3,
    "start_time": "2022-10-03T10:35:22.812Z"
   },
   {
    "duration": 28,
    "start_time": "2022-10-03T10:35:22.816Z"
   },
   {
    "duration": 21,
    "start_time": "2022-10-03T10:35:22.846Z"
   },
   {
    "duration": 9,
    "start_time": "2022-10-03T10:35:22.870Z"
   },
   {
    "duration": 1452,
    "start_time": "2022-10-03T10:39:12.427Z"
   },
   {
    "duration": 57,
    "start_time": "2022-10-03T10:39:13.881Z"
   },
   {
    "duration": 13,
    "start_time": "2022-10-03T10:39:13.946Z"
   },
   {
    "duration": 17,
    "start_time": "2022-10-03T10:39:13.961Z"
   },
   {
    "duration": 40,
    "start_time": "2022-10-03T10:39:13.979Z"
   },
   {
    "duration": 45,
    "start_time": "2022-10-03T10:39:14.021Z"
   },
   {
    "duration": 14,
    "start_time": "2022-10-03T10:39:14.068Z"
   },
   {
    "duration": 29,
    "start_time": "2022-10-03T10:39:14.084Z"
   },
   {
    "duration": 33,
    "start_time": "2022-10-03T10:39:14.115Z"
   },
   {
    "duration": 26,
    "start_time": "2022-10-03T10:39:14.151Z"
   },
   {
    "duration": 22,
    "start_time": "2022-10-03T10:39:14.179Z"
   },
   {
    "duration": 1235,
    "start_time": "2022-10-03T10:39:14.203Z"
   },
   {
    "duration": 12,
    "start_time": "2022-10-03T10:39:15.450Z"
   },
   {
    "duration": 21038,
    "start_time": "2022-10-03T10:39:15.464Z"
   },
   {
    "duration": 414,
    "start_time": "2022-10-03T10:39:36.503Z"
   },
   {
    "duration": 4137,
    "start_time": "2022-10-03T10:39:36.918Z"
   },
   {
    "duration": 26,
    "start_time": "2022-10-03T10:39:41.057Z"
   },
   {
    "duration": 61,
    "start_time": "2022-10-03T10:39:41.084Z"
   },
   {
    "duration": 31,
    "start_time": "2022-10-03T10:39:41.146Z"
   },
   {
    "duration": 5,
    "start_time": "2022-10-03T10:39:41.179Z"
   },
   {
    "duration": 6,
    "start_time": "2022-10-03T10:39:41.186Z"
   },
   {
    "duration": 6,
    "start_time": "2022-10-03T10:39:41.194Z"
   },
   {
    "duration": 6,
    "start_time": "2022-10-03T10:39:41.202Z"
   },
   {
    "duration": 6,
    "start_time": "2022-10-03T10:39:41.239Z"
   },
   {
    "duration": 15,
    "start_time": "2022-10-03T10:39:41.249Z"
   },
   {
    "duration": 6,
    "start_time": "2022-10-03T10:39:41.266Z"
   },
   {
    "duration": 5,
    "start_time": "2022-10-03T10:39:41.273Z"
   },
   {
    "duration": 7,
    "start_time": "2022-10-03T10:39:41.281Z"
   },
   {
    "duration": 10,
    "start_time": "2022-10-03T10:39:41.290Z"
   },
   {
    "duration": 4,
    "start_time": "2022-10-03T10:39:41.302Z"
   },
   {
    "duration": 7,
    "start_time": "2022-10-03T10:39:41.307Z"
   },
   {
    "duration": 28,
    "start_time": "2022-10-03T10:39:41.316Z"
   },
   {
    "duration": 17,
    "start_time": "2022-10-03T10:39:41.345Z"
   }
  ],
  "kernelspec": {
   "display_name": "Python 3 (ipykernel)",
   "language": "python",
   "name": "python3"
  },
  "language_info": {
   "codemirror_mode": {
    "name": "ipython",
    "version": 3
   },
   "file_extension": ".py",
   "mimetype": "text/x-python",
   "name": "python",
   "nbconvert_exporter": "python",
   "pygments_lexer": "ipython3",
   "version": "3.9.7"
  },
  "toc": {
   "base_numbering": 1,
   "nav_menu": {},
   "number_sections": true,
   "sideBar": true,
   "skip_h1_title": true,
   "title_cell": "Table of Contents",
   "title_sidebar": "Contents",
   "toc_cell": false,
   "toc_position": {},
   "toc_section_display": true,
   "toc_window_display": false
  }
 },
 "nbformat": 4,
 "nbformat_minor": 5
}
