{
 "cells": [
  {
   "cell_type": "markdown",
   "id": "7785fc02",
   "metadata": {},
   "source": [
    "# Проект \"Прогнозирование температуры звезды\""
   ]
  },
  {
   "cell_type": "markdown",
   "id": "f8ece9e4",
   "metadata": {},
   "source": [
    "Пришла задача от обсерватории «Небо на ладони»: придумать, как с помощью нейросети определять температуру на поверхности обнаруженных звёзд. Обычно для расчёта температуры учёные пользуются следующими методами:\n",
    "\n",
    "* Закон смещения Вина.\n",
    "* Закон Стефана-Больцмана.\n",
    "* Спектральный анализ.\n",
    "\n",
    "Каждый из них имеет плюсы и минусы. Обсерватория хочет внедрить технологии машинного обучения для предсказания температуры звёзд, надеясь, что этот метод будет наиболее точным и удобным.\n",
    "В базе обсерватории есть характеристики уже изученных 240 звёзд.\n",
    "\n",
    "Характеристики: \n",
    "\n",
    "* Относительная светимость L/Lo — светимость звезды относительно Солнца.\n",
    "* Относительный радиус R/Ro — радиус звезды относительно радиуса Солнца.\n",
    "* Абсолютная звёздная величина Mv — физическая величина, характеризующая блеск звезды.\n",
    "* Звёздный цвет (white, red, blue, yellow, yellow-orange и др.) — цвет звезды, который определяют на основе спектрального анализа.\n",
    "* Тип звезды.\n",
    "* Абсолютная температура T(K) — температура на поверхности звезды в Кельвинах.\n",
    "\n",
    "В этом самостоятельном проекте необходимо разработать нейронную сеть, которая поможет предсказывать абсолютную температуру на поверхности звезды."
   ]
  },
  {
   "cell_type": "markdown",
   "id": "9fc45981",
   "metadata": {},
   "source": [
    "**Шаг 1. Загрузка исходных данных из файла**\n",
    "/datasets/6_class.csv \n",
    "\n",
    "**Шаг 2. Исследовательский анализ**\n",
    "Провести исследовательский анализ:\n",
    "* количественных данных,\n",
    "* категориальных данных.\n",
    "Обязательно использовать графический анализ и сделать вывод.\n",
    "\n",
    "**Шаг 3. Подготовка данных к построению модели**\n",
    "1) По результату исследовательского анализа внесити корректировки, если они нужны. Сделать вывод.\n",
    "\n",
    "2) Если необходимо, категоризировать исходные данные.\n",
    "\n",
    "3) Подготовьить обучающую и тестовую выборки.\n",
    "\n",
    "4) Провести масштабирование количественных данных.\n",
    "\n",
    "**Шаг 4. Построение простой модели нейронной сети — baseline**\n",
    "* Создать класс для задания архитектуры нейронной сети.\n",
    "* Самостоятельно выберать количество скрытых слоёв, количество нейронов на них, функции активации на скрытых и выходном слоях. * Попробовать и сравнить несколько подобных комбинаций.\n",
    "* Провести обучение нейронной сети:\n",
    "* Создайть функцию для обучения нейронной сети.\n",
    "* Провести обучение модели.\n",
    "* Построить график «Факт — Прогноз», где по горизонтальной оси будут отложены условные номера звёзд, а по вертикальной — температура в Кельвинах.\n",
    "* Сделать вывод.\n",
    "\n",
    "**Шаг 5. Улучшение сети**\n",
    "* Создайть решение с перебором параметров нейросети. Список параметров для перебора должен включать как минимум «dropout» и «размер батча». Архитектуру нейронной сети: количество слоёв, нейронов, вид функции активации — оставить как в Baseline, чтобы сравнить результат.\n",
    "* Провести обучение нейронной сети. Вывести метрику RMSE и график «Факт — прогноз». Метрика RMSE не должна превышать 4500.\n",
    "* Сделать вывод. Желательно оформить его в виде таблицы или графика.\n",
    "\n",
    "**Шаг 6. Выводы по проекту**\n",
    "* Кратко описать результаты каждого типа модели.\n",
    "* Напишить выводы сравнения двух моделей."
   ]
  },
  {
   "cell_type": "markdown",
   "id": "corresponding-armstrong",
   "metadata": {
    "ExecuteTime": {
     "end_time": "2022-05-05T04:58:05.692448Z",
     "start_time": "2022-05-05T04:58:05.688565Z"
    }
   },
   "source": [
    "## Загрузка данных"
   ]
  },
  {
   "cell_type": "code",
   "execution_count": 1,
   "id": "d7ce9d39",
   "metadata": {},
   "outputs": [],
   "source": [
    "!pip install pandas_profiling -q"
   ]
  },
  {
   "cell_type": "code",
   "execution_count": 2,
   "id": "spectacular-folder",
   "metadata": {
    "scrolled": true
   },
   "outputs": [
    {
     "name": "stderr",
     "output_type": "stream",
     "text": [
      "/tmp/ipykernel_211/4003695607.py:8: DeprecationWarning: `import pandas_profiling` is going to be deprecated by April 1st. Please use `import ydata_profiling` instead.\n",
      "  import pandas_profiling\n"
     ]
    }
   ],
   "source": [
    "import pandas as pd\n",
    "import numpy as np\n",
    "import os\n",
    "from tqdm import tqdm\n",
    "import plotly.express as px\n",
    "import random\n",
    "import copy\n",
    "import pandas_profiling\n",
    "import matplotlib.pyplot as plt\n",
    "\n",
    "from math import ceil, sqrt\n",
    "\n",
    "import torch\n",
    "import torch.nn as nn\n",
    "\n",
    "from sklearn.preprocessing import OneHotEncoder, StandardScaler\n",
    "from sklearn.compose import make_column_transformer, make_column_selector\n",
    "from sklearn.model_selection import train_test_split"
   ]
  },
  {
   "cell_type": "code",
   "execution_count": 3,
   "id": "7a2d2e7b",
   "metadata": {},
   "outputs": [],
   "source": [
    "df = pd.read_csv('/datasets/6_class.csv', index_col=0)"
   ]
  },
  {
   "cell_type": "code",
   "execution_count": 4,
   "id": "26b5d663",
   "metadata": {},
   "outputs": [
    {
     "name": "stdout",
     "output_type": "stream",
     "text": [
      "<class 'pandas.core.frame.DataFrame'>\n",
      "Int64Index: 240 entries, 0 to 239\n",
      "Data columns (total 6 columns):\n",
      " #   Column                  Non-Null Count  Dtype  \n",
      "---  ------                  --------------  -----  \n",
      " 0   Temperature (K)         240 non-null    int64  \n",
      " 1   Luminosity(L/Lo)        240 non-null    float64\n",
      " 2   Radius(R/Ro)            240 non-null    float64\n",
      " 3   Absolute magnitude(Mv)  240 non-null    float64\n",
      " 4   Star type               240 non-null    int64  \n",
      " 5   Star color              240 non-null    object \n",
      "dtypes: float64(3), int64(2), object(1)\n",
      "memory usage: 13.1+ KB\n"
     ]
    }
   ],
   "source": [
    "df.info()"
   ]
  },
  {
   "cell_type": "code",
   "execution_count": 5,
   "id": "e46c6534",
   "metadata": {},
   "outputs": [
    {
     "data": {
      "text/html": [
       "<div>\n",
       "<style scoped>\n",
       "    .dataframe tbody tr th:only-of-type {\n",
       "        vertical-align: middle;\n",
       "    }\n",
       "\n",
       "    .dataframe tbody tr th {\n",
       "        vertical-align: top;\n",
       "    }\n",
       "\n",
       "    .dataframe thead th {\n",
       "        text-align: right;\n",
       "    }\n",
       "</style>\n",
       "<table border=\"1\" class=\"dataframe\">\n",
       "  <thead>\n",
       "    <tr style=\"text-align: right;\">\n",
       "      <th></th>\n",
       "      <th>Temperature (K)</th>\n",
       "      <th>Luminosity(L/Lo)</th>\n",
       "      <th>Radius(R/Ro)</th>\n",
       "      <th>Absolute magnitude(Mv)</th>\n",
       "      <th>Star type</th>\n",
       "    </tr>\n",
       "  </thead>\n",
       "  <tbody>\n",
       "    <tr>\n",
       "      <th>count</th>\n",
       "      <td>240.000000</td>\n",
       "      <td>240.000000</td>\n",
       "      <td>240.000000</td>\n",
       "      <td>240.000000</td>\n",
       "      <td>240.000000</td>\n",
       "    </tr>\n",
       "    <tr>\n",
       "      <th>mean</th>\n",
       "      <td>10497.462500</td>\n",
       "      <td>107188.361635</td>\n",
       "      <td>237.157781</td>\n",
       "      <td>4.382396</td>\n",
       "      <td>2.500000</td>\n",
       "    </tr>\n",
       "    <tr>\n",
       "      <th>std</th>\n",
       "      <td>9552.425037</td>\n",
       "      <td>179432.244940</td>\n",
       "      <td>517.155763</td>\n",
       "      <td>10.532512</td>\n",
       "      <td>1.711394</td>\n",
       "    </tr>\n",
       "    <tr>\n",
       "      <th>min</th>\n",
       "      <td>1939.000000</td>\n",
       "      <td>0.000080</td>\n",
       "      <td>0.008400</td>\n",
       "      <td>-11.920000</td>\n",
       "      <td>0.000000</td>\n",
       "    </tr>\n",
       "    <tr>\n",
       "      <th>25%</th>\n",
       "      <td>3344.250000</td>\n",
       "      <td>0.000865</td>\n",
       "      <td>0.102750</td>\n",
       "      <td>-6.232500</td>\n",
       "      <td>1.000000</td>\n",
       "    </tr>\n",
       "    <tr>\n",
       "      <th>50%</th>\n",
       "      <td>5776.000000</td>\n",
       "      <td>0.070500</td>\n",
       "      <td>0.762500</td>\n",
       "      <td>8.313000</td>\n",
       "      <td>2.500000</td>\n",
       "    </tr>\n",
       "    <tr>\n",
       "      <th>75%</th>\n",
       "      <td>15055.500000</td>\n",
       "      <td>198050.000000</td>\n",
       "      <td>42.750000</td>\n",
       "      <td>13.697500</td>\n",
       "      <td>4.000000</td>\n",
       "    </tr>\n",
       "    <tr>\n",
       "      <th>max</th>\n",
       "      <td>40000.000000</td>\n",
       "      <td>849420.000000</td>\n",
       "      <td>1948.500000</td>\n",
       "      <td>20.060000</td>\n",
       "      <td>5.000000</td>\n",
       "    </tr>\n",
       "  </tbody>\n",
       "</table>\n",
       "</div>"
      ],
      "text/plain": [
       "       Temperature (K)  Luminosity(L/Lo)  Radius(R/Ro)  \\\n",
       "count       240.000000        240.000000    240.000000   \n",
       "mean      10497.462500     107188.361635    237.157781   \n",
       "std        9552.425037     179432.244940    517.155763   \n",
       "min        1939.000000          0.000080      0.008400   \n",
       "25%        3344.250000          0.000865      0.102750   \n",
       "50%        5776.000000          0.070500      0.762500   \n",
       "75%       15055.500000     198050.000000     42.750000   \n",
       "max       40000.000000     849420.000000   1948.500000   \n",
       "\n",
       "       Absolute magnitude(Mv)   Star type  \n",
       "count              240.000000  240.000000  \n",
       "mean                 4.382396    2.500000  \n",
       "std                 10.532512    1.711394  \n",
       "min                -11.920000    0.000000  \n",
       "25%                 -6.232500    1.000000  \n",
       "50%                  8.313000    2.500000  \n",
       "75%                 13.697500    4.000000  \n",
       "max                 20.060000    5.000000  "
      ]
     },
     "execution_count": 5,
     "metadata": {},
     "output_type": "execute_result"
    }
   ],
   "source": [
    "df.describe()"
   ]
  },
  {
   "cell_type": "code",
   "execution_count": 6,
   "id": "93bc064e",
   "metadata": {
    "scrolled": true
   },
   "outputs": [
    {
     "data": {
      "text/html": [
       "<div>\n",
       "<style scoped>\n",
       "    .dataframe tbody tr th:only-of-type {\n",
       "        vertical-align: middle;\n",
       "    }\n",
       "\n",
       "    .dataframe tbody tr th {\n",
       "        vertical-align: top;\n",
       "    }\n",
       "\n",
       "    .dataframe thead th {\n",
       "        text-align: right;\n",
       "    }\n",
       "</style>\n",
       "<table border=\"1\" class=\"dataframe\">\n",
       "  <thead>\n",
       "    <tr style=\"text-align: right;\">\n",
       "      <th></th>\n",
       "      <th>Temperature (K)</th>\n",
       "      <th>Luminosity(L/Lo)</th>\n",
       "      <th>Radius(R/Ro)</th>\n",
       "      <th>Absolute magnitude(Mv)</th>\n",
       "      <th>Star type</th>\n",
       "      <th>Star color</th>\n",
       "    </tr>\n",
       "  </thead>\n",
       "  <tbody>\n",
       "    <tr>\n",
       "      <th>0</th>\n",
       "      <td>3068</td>\n",
       "      <td>0.002400</td>\n",
       "      <td>0.1700</td>\n",
       "      <td>16.12</td>\n",
       "      <td>0</td>\n",
       "      <td>Red</td>\n",
       "    </tr>\n",
       "    <tr>\n",
       "      <th>1</th>\n",
       "      <td>3042</td>\n",
       "      <td>0.000500</td>\n",
       "      <td>0.1542</td>\n",
       "      <td>16.60</td>\n",
       "      <td>0</td>\n",
       "      <td>Red</td>\n",
       "    </tr>\n",
       "    <tr>\n",
       "      <th>2</th>\n",
       "      <td>2600</td>\n",
       "      <td>0.000300</td>\n",
       "      <td>0.1020</td>\n",
       "      <td>18.70</td>\n",
       "      <td>0</td>\n",
       "      <td>Red</td>\n",
       "    </tr>\n",
       "    <tr>\n",
       "      <th>3</th>\n",
       "      <td>2800</td>\n",
       "      <td>0.000200</td>\n",
       "      <td>0.1600</td>\n",
       "      <td>16.65</td>\n",
       "      <td>0</td>\n",
       "      <td>Red</td>\n",
       "    </tr>\n",
       "    <tr>\n",
       "      <th>4</th>\n",
       "      <td>1939</td>\n",
       "      <td>0.000138</td>\n",
       "      <td>0.1030</td>\n",
       "      <td>20.06</td>\n",
       "      <td>0</td>\n",
       "      <td>Red</td>\n",
       "    </tr>\n",
       "    <tr>\n",
       "      <th>5</th>\n",
       "      <td>2840</td>\n",
       "      <td>0.000650</td>\n",
       "      <td>0.1100</td>\n",
       "      <td>16.98</td>\n",
       "      <td>0</td>\n",
       "      <td>Red</td>\n",
       "    </tr>\n",
       "    <tr>\n",
       "      <th>6</th>\n",
       "      <td>2637</td>\n",
       "      <td>0.000730</td>\n",
       "      <td>0.1270</td>\n",
       "      <td>17.22</td>\n",
       "      <td>0</td>\n",
       "      <td>Red</td>\n",
       "    </tr>\n",
       "    <tr>\n",
       "      <th>7</th>\n",
       "      <td>2600</td>\n",
       "      <td>0.000400</td>\n",
       "      <td>0.0960</td>\n",
       "      <td>17.40</td>\n",
       "      <td>0</td>\n",
       "      <td>Red</td>\n",
       "    </tr>\n",
       "    <tr>\n",
       "      <th>8</th>\n",
       "      <td>2650</td>\n",
       "      <td>0.000690</td>\n",
       "      <td>0.1100</td>\n",
       "      <td>17.45</td>\n",
       "      <td>0</td>\n",
       "      <td>Red</td>\n",
       "    </tr>\n",
       "    <tr>\n",
       "      <th>9</th>\n",
       "      <td>2700</td>\n",
       "      <td>0.000180</td>\n",
       "      <td>0.1300</td>\n",
       "      <td>16.05</td>\n",
       "      <td>0</td>\n",
       "      <td>Red</td>\n",
       "    </tr>\n",
       "  </tbody>\n",
       "</table>\n",
       "</div>"
      ],
      "text/plain": [
       "   Temperature (K)  Luminosity(L/Lo)  Radius(R/Ro)  Absolute magnitude(Mv)  \\\n",
       "0             3068          0.002400        0.1700                   16.12   \n",
       "1             3042          0.000500        0.1542                   16.60   \n",
       "2             2600          0.000300        0.1020                   18.70   \n",
       "3             2800          0.000200        0.1600                   16.65   \n",
       "4             1939          0.000138        0.1030                   20.06   \n",
       "5             2840          0.000650        0.1100                   16.98   \n",
       "6             2637          0.000730        0.1270                   17.22   \n",
       "7             2600          0.000400        0.0960                   17.40   \n",
       "8             2650          0.000690        0.1100                   17.45   \n",
       "9             2700          0.000180        0.1300                   16.05   \n",
       "\n",
       "   Star type Star color  \n",
       "0          0        Red  \n",
       "1          0        Red  \n",
       "2          0        Red  \n",
       "3          0        Red  \n",
       "4          0        Red  \n",
       "5          0        Red  \n",
       "6          0        Red  \n",
       "7          0        Red  \n",
       "8          0        Red  \n",
       "9          0        Red  "
      ]
     },
     "execution_count": 6,
     "metadata": {},
     "output_type": "execute_result"
    }
   ],
   "source": [
    "df.head(10)"
   ]
  },
  {
   "cell_type": "code",
   "execution_count": 7,
   "id": "6d2d6fce",
   "metadata": {},
   "outputs": [
    {
     "data": {
      "text/plain": [
       "Temperature (K)           0\n",
       "Luminosity(L/Lo)          0\n",
       "Radius(R/Ro)              0\n",
       "Absolute magnitude(Mv)    0\n",
       "Star type                 0\n",
       "Star color                0\n",
       "dtype: int64"
      ]
     },
     "execution_count": 7,
     "metadata": {},
     "output_type": "execute_result"
    }
   ],
   "source": [
    "df.isna().sum()"
   ]
  },
  {
   "cell_type": "code",
   "execution_count": 8,
   "id": "5dca55a1",
   "metadata": {},
   "outputs": [
    {
     "data": {
      "text/plain": [
       "0"
      ]
     },
     "execution_count": 8,
     "metadata": {},
     "output_type": "execute_result"
    }
   ],
   "source": [
    "df.duplicated().sum()"
   ]
  },
  {
   "cell_type": "markdown",
   "id": "fed0d1a3",
   "metadata": {},
   "source": [
    "**Вывод:** \n",
    "\n",
    "1) После первичного осмотра данных мы понимаем, что их довольно мало.\n",
    "\n",
    "2) Явные дубликаты отсутствуют.\n",
    "\n",
    "3) Пропусков нет."
   ]
  },
  {
   "cell_type": "markdown",
   "id": "simple-subdivision",
   "metadata": {},
   "source": [
    "## Предобработка и анализ данных"
   ]
  },
  {
   "cell_type": "markdown",
   "id": "cac97878",
   "metadata": {},
   "source": [
    "Переведём заголовки данных в нижний регистр"
   ]
  },
  {
   "cell_type": "code",
   "execution_count": 9,
   "id": "flush-dream",
   "metadata": {},
   "outputs": [],
   "source": [
    "df.rename(columns={'Temperature (K)': 'temperature (K)',\n",
    "                   'Luminosity(L/Lo)': 'luminosity(L/Lo)',\n",
    "                   'Radius(R/Ro)': 'radius(R/Ro)', \n",
    "                   'Absolute magnitude(Mv)': 'absolute magnitude(Mv)',\n",
    "                   'Star type': 'star_type',\n",
    "                   'Star color': 'star_color'}, inplace=True)\n",
    "         \n",
    "            \n",
    "  \n",
    "               \n",
    "               "
   ]
  },
  {
   "cell_type": "code",
   "execution_count": 10,
   "id": "58cc456b",
   "metadata": {
    "scrolled": true
   },
   "outputs": [
    {
     "data": {
      "text/plain": [
       "Index(['temperature (K)', 'luminosity(L/Lo)', 'radius(R/Ro)',\n",
       "       'absolute magnitude(Mv)', 'star_type', 'star_color'],\n",
       "      dtype='object')"
      ]
     },
     "execution_count": 10,
     "metadata": {},
     "output_type": "execute_result"
    }
   ],
   "source": [
    "df.columns"
   ]
  },
  {
   "cell_type": "code",
   "execution_count": 11,
   "id": "78312b77",
   "metadata": {},
   "outputs": [
    {
     "data": {
      "text/plain": [
       "array(['Red', 'Blue White', 'White', 'Yellowish White', 'Blue white',\n",
       "       'Pale yellow orange', 'Blue', 'Blue-white', 'Whitish',\n",
       "       'yellow-white', 'Orange', 'White-Yellow', 'white', 'Blue ',\n",
       "       'yellowish', 'Yellowish', 'Orange-Red', 'Blue white ',\n",
       "       'Blue-White'], dtype=object)"
      ]
     },
     "execution_count": 11,
     "metadata": {},
     "output_type": "execute_result"
    }
   ],
   "source": [
    "df['star_color'].unique()"
   ]
  },
  {
   "cell_type": "markdown",
   "id": "75bfeda1",
   "metadata": {},
   "source": [
    "Переведём цведа звёзд к нижнему регистру, а также уберём дефисы и лишние пробелы."
   ]
  },
  {
   "cell_type": "code",
   "execution_count": 12,
   "id": "cc369b97",
   "metadata": {},
   "outputs": [],
   "source": [
    "df['star_color'] = df['star_color'].str.strip()\n",
    "df['star_color'] = df['star_color'].str.lower()\n",
    "df['star_color'] = df['star_color'].str.replace('-', ' ')"
   ]
  },
  {
   "cell_type": "code",
   "execution_count": 13,
   "id": "19fa2a49",
   "metadata": {
    "scrolled": true
   },
   "outputs": [
    {
     "data": {
      "text/plain": [
       "array(['red', 'blue white', 'white', 'yellowish white',\n",
       "       'pale yellow orange', 'blue', 'whitish', 'yellow white', 'orange',\n",
       "       'white yellow', 'yellowish', 'orange red'], dtype=object)"
      ]
     },
     "execution_count": 13,
     "metadata": {},
     "output_type": "execute_result"
    }
   ],
   "source": [
    "df['star_color'].unique()"
   ]
  },
  {
   "cell_type": "markdown",
   "id": "228aa7e7",
   "metadata": {},
   "source": [
    "Переведём данные в категориальный вид"
   ]
  },
  {
   "cell_type": "code",
   "execution_count": 14,
   "id": "514a8151",
   "metadata": {},
   "outputs": [],
   "source": [
    "df['star_color'] = df['star_color'].astype('category')\n",
    "df['star_type'] = df['star_type'].astype('category')"
   ]
  },
  {
   "cell_type": "code",
   "execution_count": 15,
   "id": "98dd439b",
   "metadata": {},
   "outputs": [
    {
     "name": "stdout",
     "output_type": "stream",
     "text": [
      "<class 'pandas.core.frame.DataFrame'>\n",
      "Int64Index: 240 entries, 0 to 239\n",
      "Data columns (total 6 columns):\n",
      " #   Column                  Non-Null Count  Dtype   \n",
      "---  ------                  --------------  -----   \n",
      " 0   temperature (K)         240 non-null    int64   \n",
      " 1   luminosity(L/Lo)        240 non-null    float64 \n",
      " 2   radius(R/Ro)            240 non-null    float64 \n",
      " 3   absolute magnitude(Mv)  240 non-null    float64 \n",
      " 4   star_type               240 non-null    category\n",
      " 5   star_color              240 non-null    category\n",
      "dtypes: category(2), float64(3), int64(1)\n",
      "memory usage: 10.4 KB\n"
     ]
    }
   ],
   "source": [
    "df.info()"
   ]
  },
  {
   "cell_type": "markdown",
   "id": "d1d4de76",
   "metadata": {},
   "source": [
    "Проверяем"
   ]
  },
  {
   "cell_type": "code",
   "execution_count": 16,
   "id": "76041529",
   "metadata": {
    "scrolled": false
   },
   "outputs": [
    {
     "name": "stdout",
     "output_type": "stream",
     "text": [
      "<class 'pandas.core.frame.DataFrame'>\n",
      "Int64Index: 240 entries, 0 to 239\n",
      "Data columns (total 6 columns):\n",
      " #   Column                  Non-Null Count  Dtype   \n",
      "---  ------                  --------------  -----   \n",
      " 0   temperature (K)         240 non-null    int64   \n",
      " 1   luminosity(L/Lo)        240 non-null    float64 \n",
      " 2   radius(R/Ro)            240 non-null    float64 \n",
      " 3   absolute magnitude(Mv)  240 non-null    float64 \n",
      " 4   star_type               240 non-null    category\n",
      " 5   star_color              240 non-null    category\n",
      "dtypes: category(2), float64(3), int64(1)\n",
      "memory usage: 10.4 KB\n"
     ]
    }
   ],
   "source": [
    "df.info()"
   ]
  },
  {
   "cell_type": "code",
   "execution_count": 17,
   "id": "0c1a8c6b",
   "metadata": {},
   "outputs": [
    {
     "data": {
      "text/plain": [
       "red                   112\n",
       "blue                   56\n",
       "blue white             41\n",
       "white                  10\n",
       "yellow white            8\n",
       "yellowish               3\n",
       "yellowish white         3\n",
       "orange                  2\n",
       "whitish                 2\n",
       "orange red              1\n",
       "pale yellow orange      1\n",
       "white yellow            1\n",
       "Name: star_color, dtype: int64"
      ]
     },
     "execution_count": 17,
     "metadata": {},
     "output_type": "execute_result"
    }
   ],
   "source": [
    "df['star_color'].value_counts()"
   ]
  },
  {
   "cell_type": "markdown",
   "id": "48dc2974",
   "metadata": {},
   "source": [
    "Мы видим, что есть довольно большой разброс относительно некоторых цветов звёзд, которые есть в малом количестве. Приведём их к единому виду путём укрупнения категорий относительно их температуры."
   ]
  },
  {
   "cell_type": "code",
   "execution_count": 18,
   "id": "705b19fb",
   "metadata": {},
   "outputs": [],
   "source": [
    "def star_color(x):\n",
    "    if x > 30000:\n",
    "        return 'blue'\n",
    "    elif 30000 >= x  > 10000:\n",
    "        return 'blue white'\n",
    "    elif 10000 >= x > 7400:\n",
    "        return 'white'\n",
    "    elif 7400 >= x > 6000:\n",
    "        return 'yellow white'\n",
    "    elif 6000 >= x > 5000:\n",
    "        return 'yellow'\n",
    "    elif 5000 >= x > 3000:\n",
    "        return 'orange'\n",
    "    else: \n",
    "        return 'red'"
   ]
  },
  {
   "cell_type": "code",
   "execution_count": 19,
   "id": "c4b897dc",
   "metadata": {},
   "outputs": [],
   "source": [
    "df['star_color'] = df['temperature (K)'].apply(star_color)"
   ]
  },
  {
   "cell_type": "code",
   "execution_count": 20,
   "id": "31ee860b",
   "metadata": {
    "scrolled": false
   },
   "outputs": [
    {
     "data": {
      "text/plain": [
       "orange          86\n",
       "blue white      76\n",
       "red             30\n",
       "white           21\n",
       "blue            14\n",
       "yellow white     7\n",
       "yellow           6\n",
       "Name: star_color, dtype: int64"
      ]
     },
     "execution_count": 20,
     "metadata": {},
     "output_type": "execute_result"
    }
   ],
   "source": [
    "df['star_color'].value_counts()"
   ]
  },
  {
   "cell_type": "code",
   "execution_count": 21,
   "id": "d41498f7",
   "metadata": {
    "scrolled": true
   },
   "outputs": [
    {
     "name": "stdout",
     "output_type": "stream",
     "text": [
      "<class 'pandas.core.frame.DataFrame'>\n",
      "Int64Index: 240 entries, 0 to 239\n",
      "Data columns (total 6 columns):\n",
      " #   Column                  Non-Null Count  Dtype   \n",
      "---  ------                  --------------  -----   \n",
      " 0   temperature (K)         240 non-null    int64   \n",
      " 1   luminosity(L/Lo)        240 non-null    float64 \n",
      " 2   radius(R/Ro)            240 non-null    float64 \n",
      " 3   absolute magnitude(Mv)  240 non-null    float64 \n",
      " 4   star_type               240 non-null    category\n",
      " 5   star_color              240 non-null    object  \n",
      "dtypes: category(1), float64(3), int64(1), object(1)\n",
      "memory usage: 11.7+ KB\n"
     ]
    }
   ],
   "source": [
    "df.info()"
   ]
  },
  {
   "cell_type": "code",
   "execution_count": 22,
   "id": "207c9d4e",
   "metadata": {},
   "outputs": [],
   "source": [
    "df['star_color'] = df['star_color'].astype('category')"
   ]
  },
  {
   "cell_type": "code",
   "execution_count": 23,
   "id": "0fdcb861",
   "metadata": {},
   "outputs": [
    {
     "name": "stdout",
     "output_type": "stream",
     "text": [
      "<class 'pandas.core.frame.DataFrame'>\n",
      "Int64Index: 240 entries, 0 to 239\n",
      "Data columns (total 6 columns):\n",
      " #   Column                  Non-Null Count  Dtype   \n",
      "---  ------                  --------------  -----   \n",
      " 0   temperature (K)         240 non-null    int64   \n",
      " 1   luminosity(L/Lo)        240 non-null    float64 \n",
      " 2   radius(R/Ro)            240 non-null    float64 \n",
      " 3   absolute magnitude(Mv)  240 non-null    float64 \n",
      " 4   star_type               240 non-null    category\n",
      " 5   star_color              240 non-null    category\n",
      "dtypes: category(2), float64(3), int64(1)\n",
      "memory usage: 10.4 KB\n"
     ]
    }
   ],
   "source": [
    "df.info()"
   ]
  },
  {
   "cell_type": "markdown",
   "id": "ea88d470",
   "metadata": {},
   "source": [
    "Перекодируем количественные данные через StandardScaler(), а категориальные через OneHotEncoder()"
   ]
  },
  {
   "cell_type": "code",
   "execution_count": 24,
   "id": "262b515c",
   "metadata": {},
   "outputs": [],
   "source": [
    "#features = df.drop(['temperature (K)'], axis=1)\n",
    "#target = df['temperature (K)']\n",
    "\n",
    "#features = transformer.fit_transform(features)\n",
    "\n",
    "#features, features_test, target, target_test = train_test_split(\n",
    "#features, target, test_size=0.4, random_state=12345)\n",
    "\n",
    "#features_valid, features_test, target_valid, target_test = train_test_split(\n",
    "#features_test, target_test, test_size = 0.5, random_state=12345)"
   ]
  },
  {
   "cell_type": "code",
   "execution_count": 25,
   "id": "d698d828",
   "metadata": {},
   "outputs": [],
   "source": [
    "num_cols = ['luminosity(L/Lo)','radius(R/Ro)','absolute magnitude(Mv)'] #числовые признаки\n",
    "cat_cols = ['star_type', 'star_color'] #категориальные признаки\n",
    "target = ['temperature (K)'] #целевой признак"
   ]
  },
  {
   "cell_type": "code",
   "execution_count": 26,
   "id": "dbd77b2e",
   "metadata": {},
   "outputs": [],
   "source": [
    "features = df.drop(target, axis = 1).copy()\n",
    "target = df[target].copy()"
   ]
  },
  {
   "cell_type": "code",
   "execution_count": 27,
   "id": "09a71861",
   "metadata": {},
   "outputs": [],
   "source": [
    "features_train, features_test, target_train, target_test = train_test_split(features, target, test_size=0.2, random_state=12345)"
   ]
  },
  {
   "cell_type": "code",
   "execution_count": 28,
   "id": "17bd40dd",
   "metadata": {},
   "outputs": [
    {
     "name": "stdout",
     "output_type": "stream",
     "text": [
      "В тренировочной выборке, размеры матрицы признаков  = (192, 5), целевого признака = (192, 1)\n",
      "В тестовой выборке, размеры матрицы признаков  = (48, 5), целевого признака = (48, 1)\n"
     ]
    }
   ],
   "source": [
    "for x,y,z in zip((target_train, target_test),(features_train, features_test), ('тренировочной', 'тестовой')):\n",
    "    print(f'В {z} выборке, размеры матрицы признаков  = {y.shape}, целевого признака = {x.shape}')"
   ]
  },
  {
   "cell_type": "code",
   "execution_count": 29,
   "id": "ed9765fa",
   "metadata": {},
   "outputs": [],
   "source": [
    "for i in [features_train, features_test, target_train, target_test]:\n",
    "    i.reset_index(drop=True, inplace=True)"
   ]
  },
  {
   "cell_type": "code",
   "execution_count": 30,
   "id": "37a3fe92",
   "metadata": {},
   "outputs": [
    {
     "name": "stderr",
     "output_type": "stream",
     "text": [
      "/opt/conda/lib/python3.9/site-packages/pandas/core/frame.py:4308: SettingWithCopyWarning: \n",
      "A value is trying to be set on a copy of a slice from a DataFrame\n",
      "\n",
      "See the caveats in the documentation: https://pandas.pydata.org/pandas-docs/stable/user_guide/indexing.html#returning-a-view-versus-a-copy\n",
      "  return super().drop(\n",
      "/opt/conda/lib/python3.9/site-packages/pandas/core/frame.py:4308: SettingWithCopyWarning: \n",
      "A value is trying to be set on a copy of a slice from a DataFrame\n",
      "\n",
      "See the caveats in the documentation: https://pandas.pydata.org/pandas-docs/stable/user_guide/indexing.html#returning-a-view-versus-a-copy\n",
      "  return super().drop(\n"
     ]
    }
   ],
   "source": [
    "OHE = OneHotEncoder(sparse=False, drop = 'first', handle_unknown = 'error')\n",
    "\n",
    "features_train_cat = pd.DataFrame(OHE.fit_transform(features_train.loc[:,cat_cols]))\n",
    "features_train_cat.columns = OHE.get_feature_names(cat_cols)\n",
    "features_train.drop(cat_cols, axis = 1, inplace = True)\n",
    "features_train = pd.concat([features_train, features_train_cat], axis = 1)\n",
    "\n",
    "features_test_cat = pd.DataFrame(OHE.transform(features_test.loc[:,cat_cols]))\n",
    "features_test_cat.columns = OHE.get_feature_names(cat_cols)\n",
    "features_test.drop(cat_cols, axis = 1, inplace = True)\n",
    "features_test = pd.concat([features_test, features_test_cat], axis = 1)"
   ]
  },
  {
   "cell_type": "code",
   "execution_count": 31,
   "id": "f46ff083",
   "metadata": {},
   "outputs": [],
   "source": [
    "scaler = StandardScaler()\n",
    "\n",
    "features_train[num_cols] = scaler.fit_transform(features_train[num_cols])\n",
    "features_test[num_cols] = scaler.transform(features_test[num_cols])"
   ]
  },
  {
   "cell_type": "code",
   "execution_count": 32,
   "id": "f117f06d",
   "metadata": {},
   "outputs": [
    {
     "data": {
      "text/html": [
       "<div>\n",
       "<style scoped>\n",
       "    .dataframe tbody tr th:only-of-type {\n",
       "        vertical-align: middle;\n",
       "    }\n",
       "\n",
       "    .dataframe tbody tr th {\n",
       "        vertical-align: top;\n",
       "    }\n",
       "\n",
       "    .dataframe thead th {\n",
       "        text-align: right;\n",
       "    }\n",
       "</style>\n",
       "<table border=\"1\" class=\"dataframe\">\n",
       "  <thead>\n",
       "    <tr style=\"text-align: right;\">\n",
       "      <th></th>\n",
       "      <th>luminosity(L/Lo)</th>\n",
       "      <th>radius(R/Ro)</th>\n",
       "      <th>absolute magnitude(Mv)</th>\n",
       "      <th>star_type_1</th>\n",
       "      <th>star_type_2</th>\n",
       "      <th>star_type_3</th>\n",
       "      <th>star_type_4</th>\n",
       "      <th>star_type_5</th>\n",
       "      <th>star_color_blue white</th>\n",
       "      <th>star_color_orange</th>\n",
       "      <th>star_color_red</th>\n",
       "      <th>star_color_white</th>\n",
       "      <th>star_color_yellow</th>\n",
       "      <th>star_color_yellow white</th>\n",
       "    </tr>\n",
       "  </thead>\n",
       "  <tbody>\n",
       "    <tr>\n",
       "      <th>0</th>\n",
       "      <td>-0.573535</td>\n",
       "      <td>-0.425464</td>\n",
       "      <td>0.869405</td>\n",
       "      <td>1.0</td>\n",
       "      <td>0.0</td>\n",
       "      <td>0.0</td>\n",
       "      <td>0.0</td>\n",
       "      <td>0.0</td>\n",
       "      <td>0.0</td>\n",
       "      <td>1.0</td>\n",
       "      <td>0.0</td>\n",
       "      <td>0.0</td>\n",
       "      <td>0.0</td>\n",
       "      <td>0.0</td>\n",
       "    </tr>\n",
       "    <tr>\n",
       "      <th>1</th>\n",
       "      <td>-0.573535</td>\n",
       "      <td>-0.425707</td>\n",
       "      <td>0.626075</td>\n",
       "      <td>1.0</td>\n",
       "      <td>0.0</td>\n",
       "      <td>0.0</td>\n",
       "      <td>0.0</td>\n",
       "      <td>0.0</td>\n",
       "      <td>0.0</td>\n",
       "      <td>0.0</td>\n",
       "      <td>1.0</td>\n",
       "      <td>0.0</td>\n",
       "      <td>0.0</td>\n",
       "      <td>0.0</td>\n",
       "    </tr>\n",
       "    <tr>\n",
       "      <th>2</th>\n",
       "      <td>-0.573535</td>\n",
       "      <td>-0.425810</td>\n",
       "      <td>1.071862</td>\n",
       "      <td>0.0</td>\n",
       "      <td>0.0</td>\n",
       "      <td>0.0</td>\n",
       "      <td>0.0</td>\n",
       "      <td>0.0</td>\n",
       "      <td>0.0</td>\n",
       "      <td>0.0</td>\n",
       "      <td>1.0</td>\n",
       "      <td>0.0</td>\n",
       "      <td>0.0</td>\n",
       "      <td>0.0</td>\n",
       "    </tr>\n",
       "    <tr>\n",
       "      <th>3</th>\n",
       "      <td>-0.573535</td>\n",
       "      <td>-0.425014</td>\n",
       "      <td>0.532295</td>\n",
       "      <td>1.0</td>\n",
       "      <td>0.0</td>\n",
       "      <td>0.0</td>\n",
       "      <td>0.0</td>\n",
       "      <td>0.0</td>\n",
       "      <td>0.0</td>\n",
       "      <td>1.0</td>\n",
       "      <td>0.0</td>\n",
       "      <td>0.0</td>\n",
       "      <td>0.0</td>\n",
       "      <td>0.0</td>\n",
       "    </tr>\n",
       "    <tr>\n",
       "      <th>4</th>\n",
       "      <td>-0.573535</td>\n",
       "      <td>-0.425983</td>\n",
       "      <td>0.915244</td>\n",
       "      <td>0.0</td>\n",
       "      <td>1.0</td>\n",
       "      <td>0.0</td>\n",
       "      <td>0.0</td>\n",
       "      <td>0.0</td>\n",
       "      <td>0.0</td>\n",
       "      <td>0.0</td>\n",
       "      <td>0.0</td>\n",
       "      <td>1.0</td>\n",
       "      <td>0.0</td>\n",
       "      <td>0.0</td>\n",
       "    </tr>\n",
       "  </tbody>\n",
       "</table>\n",
       "</div>"
      ],
      "text/plain": [
       "   luminosity(L/Lo)  radius(R/Ro)  absolute magnitude(Mv)  star_type_1  \\\n",
       "0         -0.573535     -0.425464                0.869405          1.0   \n",
       "1         -0.573535     -0.425707                0.626075          1.0   \n",
       "2         -0.573535     -0.425810                1.071862          0.0   \n",
       "3         -0.573535     -0.425014                0.532295          1.0   \n",
       "4         -0.573535     -0.425983                0.915244          0.0   \n",
       "\n",
       "   star_type_2  star_type_3  star_type_4  star_type_5  star_color_blue white  \\\n",
       "0          0.0          0.0          0.0          0.0                    0.0   \n",
       "1          0.0          0.0          0.0          0.0                    0.0   \n",
       "2          0.0          0.0          0.0          0.0                    0.0   \n",
       "3          0.0          0.0          0.0          0.0                    0.0   \n",
       "4          1.0          0.0          0.0          0.0                    0.0   \n",
       "\n",
       "   star_color_orange  star_color_red  star_color_white  star_color_yellow  \\\n",
       "0                1.0             0.0               0.0                0.0   \n",
       "1                0.0             1.0               0.0                0.0   \n",
       "2                0.0             1.0               0.0                0.0   \n",
       "3                1.0             0.0               0.0                0.0   \n",
       "4                0.0             0.0               1.0                0.0   \n",
       "\n",
       "   star_color_yellow white  \n",
       "0                      0.0  \n",
       "1                      0.0  \n",
       "2                      0.0  \n",
       "3                      0.0  \n",
       "4                      0.0  "
      ]
     },
     "execution_count": 32,
     "metadata": {},
     "output_type": "execute_result"
    }
   ],
   "source": [
    "features_train.head()\n",
    "#посмотрим как выглядит тренировочный набор данных после обработки "
   ]
  },
  {
   "cell_type": "code",
   "execution_count": 33,
   "id": "dd1dae2f",
   "metadata": {},
   "outputs": [],
   "source": [
    "features_train = torch.FloatTensor(features_train.values)\n",
    "features_test  = torch.FloatTensor(features_test.values)\n",
    "target_train  = torch.FloatTensor(target_train.values)\n",
    "target_test = torch.FloatTensor(target_test.values)"
   ]
  },
  {
   "cell_type": "code",
   "execution_count": 34,
   "id": "04836885",
   "metadata": {},
   "outputs": [],
   "source": [
    "#features_train = data_train.drop(['temperature (K)'], axis=1)\n",
    "#target_train = data_train['temperature (K)']\n",
    "#features_valid = data_valid.drop(['temperature (K)'], axis=1)\n",
    "#target_valid = data_valid['temperature (K)']\n",
    "#features_test = data_test.drop(['temperature (K)'], axis=1)\n",
    "#target_test = data_test['temperature (K)']"
   ]
  },
  {
   "cell_type": "code",
   "execution_count": 35,
   "id": "587f8c3b",
   "metadata": {
    "scrolled": true
   },
   "outputs": [],
   "source": [
    "#print(f'Доля тренировочных признаков: {features_train.shape[0]/df.shape[0]:.2f}')\n",
    "#print(f'Доля тренировочных целей: {target_train.shape[0]/df.shape[0]:.2f}')\n",
    "#print(f'Доля валидационных признаков: {features_valid.shape[0]/df.shape[0]:.2f}')\n",
    "#print(f'Доля валидационных целей: {features_valid.shape[0]/df.shape[0]:.2f}')\n",
    "#print(f'Доля тестовых признаков: {features_test.shape[0]/df.shape[0]:.2f}')\n",
    "#print(f'Доля тестовых целей: {target_test.shape[0]/df.shape[0]:.2f}')"
   ]
  },
  {
   "cell_type": "code",
   "execution_count": 36,
   "id": "22f0e272",
   "metadata": {},
   "outputs": [],
   "source": [
    "#transformer = make_column_transformer(\n",
    "#    (OneHotEncoder(dtype='uint8', \n",
    "#                   handle_unknown='ignore'\n",
    "#                  ), make_column_selector(dtype_include='category')\n",
    "#    ), (StandardScaler(), make_column_selector(dtype_include='number')\n",
    "#                                      ),\n",
    "#remainder='passthrough'\n",
    "#)"
   ]
  },
  {
   "cell_type": "code",
   "execution_count": 37,
   "id": "91a51ff9",
   "metadata": {},
   "outputs": [],
   "source": [
    "#ohe = OneHotEncoder() \n",
    "#\n",
    "#categorical_cols = ['star_color']\n",
    "#categorical_data_fit = ohe.fit_transform(features_train[categorical_cols]).toarray()\n",
    "#categorical_data_transform = ohe.transform(features_test[categorical_cols]).toarray()\n",
    "#categorical_df = pd.DataFrame(categorical_data, columns=ohe.get_feature_names(categorical_cols))\n",
    "#\n",
    "#df = pd.concat([df.drop(categorical_cols, axis=1), categorical_df], axis=1)"
   ]
  },
  {
   "cell_type": "code",
   "execution_count": 38,
   "id": "da87e300",
   "metadata": {},
   "outputs": [],
   "source": [
    "#num_cols= list(df.drop(['star_type','star_color','temperature (K)'],axis=1).columns)"
   ]
  },
  {
   "cell_type": "code",
   "execution_count": 39,
   "id": "f1d2ea81",
   "metadata": {},
   "outputs": [],
   "source": [
    "#cat_cols = ['star_color']"
   ]
  },
  {
   "cell_type": "code",
   "execution_count": 40,
   "id": "5ef60bed",
   "metadata": {},
   "outputs": [],
   "source": [
    "#drop_to_num_col = cat_cols.copy()"
   ]
  },
  {
   "cell_type": "code",
   "execution_count": 41,
   "id": "d0a13130",
   "metadata": {},
   "outputs": [],
   "source": [
    "#drop_to_num_col.append('temperature (K)')"
   ]
  },
  {
   "cell_type": "code",
   "execution_count": 42,
   "id": "38b9d170",
   "metadata": {},
   "outputs": [],
   "source": [
    "#num_cols= list(df.drop(drop_to_num_col,axis=1).columns)"
   ]
  },
  {
   "cell_type": "code",
   "execution_count": 43,
   "id": "ab2ff200",
   "metadata": {},
   "outputs": [],
   "source": [
    "# для сохранения колонок  remainder='passthrough'\n",
    "#col_transformer = make_column_transformer(\n",
    "#    (\n",
    "#        OneHotEncoder(drop='first', handle_unknown='error'),\n",
    "#        cat_cols\n",
    "#    ),\n",
    "#    (\n",
    "#        StandardScaler(), \n",
    "#        num_cols\n",
    "#    ),\n",
    "#    remainder='passthrough'\n",
    "#)\n",
    "\n",
    "\n",
    "# применяем трансформер и создаем датафрейм\n",
    "#X_transformed = col_transformer.fit_transform(features_train)\n",
    "#columns = col_transformer.named_transformers_['onehotencoder'].get_feature_names(cat_cols).tolist() + num_cols\n",
    "#features_train_new = pd.DataFrame(col_transformer.transform(features_train), columns=columns)\n",
    "#X_transformed = col_transformer.transform(features_test)\n",
    "#columns = col_transformer.named_transformers_['onehotencoder'].get_feature_names(cat_cols).tolist() + num_cols\n",
    "#features_test_new = pd.DataFrame(col_transformer.transform(features_test), columns=columns)"
   ]
  },
  {
   "cell_type": "code",
   "execution_count": 44,
   "id": "cab84379",
   "metadata": {},
   "outputs": [],
   "source": [
    "#print(df)"
   ]
  },
  {
   "cell_type": "markdown",
   "id": "d78a4c8f",
   "metadata": {},
   "source": [
    "Теперь переведём данные в тензоры для работы с torch."
   ]
  },
  {
   "cell_type": "code",
   "execution_count": 45,
   "id": "618013af",
   "metadata": {},
   "outputs": [],
   "source": [
    "#features_train = torch.from_numpy(features_train).float()\n",
    "#features_valid = torch.from_numpy(features_valid).float()\n",
    "#features_test = torch.from_numpy(features_test).float()\n",
    "#target_train = torch.unsqueeze(torch.tensor(target_train.values), 1).float()\n",
    "#target_valid = torch.unsqueeze(torch.tensor(target_valid.values), 1).float()\n",
    "#target_test = torch.unsqueeze(torch.tensor(target_test.values), 1).float()"
   ]
  },
  {
   "cell_type": "code",
   "execution_count": 46,
   "id": "01f30e27",
   "metadata": {},
   "outputs": [],
   "source": [
    "#target_train = torch.Tensor(target_train.values)\n",
    "#target_test = torch.Tensor(target_test.values)"
   ]
  },
  {
   "cell_type": "code",
   "execution_count": 47,
   "id": "77d7d351",
   "metadata": {
    "scrolled": true
   },
   "outputs": [],
   "source": [
    "#features_train_new = torch.Tensor(features_train_new.values)\n",
    "#features_test_new = torch.Tensor(features_test_new.values)"
   ]
  },
  {
   "cell_type": "markdown",
   "id": "c50ea9bb",
   "metadata": {},
   "source": [
    "**Вывод**\n",
    "\n",
    "В ходе первичной обработки и анализа данных, мы выполнили следующие задачи:\n",
    "\n",
    "1) Выяснили, что пропусков и дубликатов нет.\n",
    "\n",
    "2) Перевели название столбцов в соответствующий вид убрав верхний регистр, а также лишние дефисы и пропуски\n",
    "\n",
    "3) Перевели категориальные данные в соответствующий вид\n",
    "\n",
    "4) Сократили число категорий звёзд путём их укрупнения.\n",
    "\n",
    "5) Разделили выборки для дальнейшего исследования и перекодировали их, а также перевели данные в torch."
   ]
  },
  {
   "cell_type": "markdown",
   "id": "funded-electric",
   "metadata": {},
   "source": [
    "## Построение базовой нейронной сети"
   ]
  },
  {
   "cell_type": "code",
   "execution_count": 48,
   "id": "ec9115f1",
   "metadata": {},
   "outputs": [],
   "source": [
    "n_in_neurons = 14\n",
    "n_hidden_neurons_1 = 50\n",
    "n_hidden_neurons_2 = 20\n",
    "n_out_neurons = 1"
   ]
  },
  {
   "cell_type": "code",
   "execution_count": 49,
   "id": "ed5462f1",
   "metadata": {},
   "outputs": [],
   "source": [
    "class Model(nn.Module):\n",
    "    def __init__(self, n_in_neurons, n_hidden_neurons_1, n_hidden_neurons_2, n_out_neurons):\n",
    "        super(Model, self).__init__()\n",
    "        \n",
    "        self.fc1 = nn.Linear(n_in_neurons, n_hidden_neurons_1)\n",
    "        self.act1 = nn.ReLU()\n",
    "        self.fc2 = nn.Linear(n_hidden_neurons_1, n_hidden_neurons_2)\n",
    "        self.act2 = nn.ReLU()\n",
    "        self.fc3 = nn.Linear(n_hidden_neurons_2, n_out_neurons)\n",
    "\n",
    "    def forward(self, x):\n",
    "        x = self.fc1(x)\n",
    "        x = self.act1(x)\n",
    "        x = self.fc2(x)\n",
    "        x = self.act2(x)\n",
    "        x = self.fc3(x)\n",
    "        \n",
    "        return x   "
   ]
  },
  {
   "cell_type": "code",
   "execution_count": 50,
   "id": "ea0b1411",
   "metadata": {},
   "outputs": [],
   "source": [
    "net = Model(n_in_neurons, n_hidden_neurons_1, n_hidden_neurons_2, n_out_neurons) #модель \n",
    "loss=nn.MSELoss()\n",
    "\n",
    "optimizer = torch.optim.Adam(net.parameters(), lr=1e-3)\n",
    "optimizer1 = torch.optim.RMSprop(net.parameters(), lr=1e-3)\n",
    "optimizer2 = torch.optim.Adam(net.parameters(), lr=1e-2)\n",
    "optimizer3 = torch.optim.Adamax(net.parameters(), lr=1e-2)"
   ]
  },
  {
   "cell_type": "code",
   "execution_count": 51,
   "id": "f35171e8",
   "metadata": {},
   "outputs": [],
   "source": [
    "def cross_vall_score(model, features_train_new, target_train, optim, num_epochs=250, batch_size=6, k=4, loss=nn.MSELoss()):\n",
    "    '''Функция для кросс-валидации нейронной сети'''\n",
    "    num_batches = ceil(len(features_train_new)/batch_size) # количество батчей \n",
    "    num_val_samples = len(features_train_new)//k # размер валидационной выборки \n",
    "    all_scores = []\n",
    "    \n",
    "    for i in range(k): \n",
    "        #разбиваем на валидационную и тренировочную выборку \n",
    "        print('processing fold #', i+1, end='  ')\n",
    "        \n",
    "        #обнуляем веса нейронной сети\n",
    "        for layer in model.children():\n",
    "            if hasattr(layer, 'reset_parameters'):\n",
    "                layer.reset_parameters()\n",
    "            \n",
    "        #валидационная выборка\n",
    "        val_data = features_train_new[i*num_val_samples: (i+1)*num_val_samples]\n",
    "        val_targets = target_train[i*num_val_samples: (i+1)*num_val_samples]\n",
    "        \n",
    "        #тренировочная выборка\n",
    "        partial_train_data = np.concatenate([features_train_new[:i*num_val_samples], features_train_new[(i+1)*num_val_samples:]], axis = 0)\n",
    "        partial_train_targets = np.concatenate([target_train[:i*num_val_samples], target_train[(i+1)*num_val_samples:]], axis = 0)\n",
    "        \n",
    "        #приводим наши данные к формату FloatTensor\n",
    "        val_data = torch.FloatTensor(val_data)\n",
    "        val_targets = torch.FloatTensor(val_targets)\n",
    "        partial_train_data = torch.FloatTensor(partial_train_data)\n",
    "        partial_train_targets = torch.FloatTensor(partial_train_targets)\n",
    "        \n",
    "        for epoch in range(num_epochs):\n",
    "            #создаем случайную перестановку индексов для каждой эпохи\n",
    "            order = np.random.permutation(len(partial_train_data))\n",
    "            for batch_idx in range(num_batches):\n",
    "                start_index = batch_idx * batch_size #стартовый индекс батча\n",
    "                optim.zero_grad() #обнуляем градиаенты\n",
    "                \n",
    "                #извлекаем батч\n",
    "                batch_indexes = order[start_index:start_index+batch_size]\n",
    "                features_batch = partial_train_data[batch_indexes]\n",
    "                target_batch = partial_train_targets[batch_indexes]\n",
    "                \n",
    "                preds = net.forward(features_batch).flatten() #получаем предсказание\n",
    "                loss_value = loss(preds, target_batch.flatten()) #высчитываем ошибку\n",
    "                loss_value.backward()\n",
    "                optim.step()\n",
    "                \n",
    "            if epoch == num_epochs-1:\n",
    "                model.eval()\n",
    "                val_preds = model.forward(val_data)\n",
    "                RMSE_loss = torch.sqrt(loss(val_targets, val_preds))\n",
    "                all_scores.append(RMSE_loss)\n",
    "                print('RMSE метрика =', float(RMSE_loss))\n",
    "    print('Средняя RMSE метрика =', int(sum(all_scores)/len(all_scores)),  '\\n')\n",
    "    return"
   ]
  },
  {
   "cell_type": "code",
   "execution_count": 52,
   "id": "7778ecda",
   "metadata": {
    "scrolled": true
   },
   "outputs": [
    {
     "name": "stdout",
     "output_type": "stream",
     "text": [
      "Adam (\n",
      "Parameter Group 0\n",
      "    amsgrad: False\n",
      "    betas: (0.9, 0.999)\n",
      "    eps: 1e-08\n",
      "    lr: 0.001\n",
      "    weight_decay: 0\n",
      ")\n",
      "processing fold # 1  RMSE метрика = 6868.1025390625\n",
      "processing fold # 2  RMSE метрика = 4083.52197265625\n",
      "processing fold # 3  RMSE метрика = 6953.31640625\n",
      "processing fold # 4  RMSE метрика = 4332.00146484375\n",
      "Средняя RMSE метрика = 5559 \n",
      "\n",
      "RMSprop (\n",
      "Parameter Group 0\n",
      "    alpha: 0.99\n",
      "    centered: False\n",
      "    eps: 1e-08\n",
      "    lr: 0.001\n",
      "    momentum: 0\n",
      "    weight_decay: 0\n",
      ")\n",
      "processing fold # 1  RMSE метрика = 7000.6181640625\n",
      "processing fold # 2  RMSE метрика = 5139.65966796875\n",
      "processing fold # 3  RMSE метрика = 8143.8994140625\n",
      "processing fold # 4  RMSE метрика = 4858.107421875\n",
      "Средняя RMSE метрика = 6285 \n",
      "\n",
      "Adam (\n",
      "Parameter Group 0\n",
      "    amsgrad: False\n",
      "    betas: (0.9, 0.999)\n",
      "    eps: 1e-08\n",
      "    lr: 0.01\n",
      "    weight_decay: 0\n",
      ")\n",
      "processing fold # 1  RMSE метрика = 2794.846435546875\n",
      "processing fold # 2  RMSE метрика = 2634.51123046875\n",
      "processing fold # 3  RMSE метрика = 2702.9384765625\n",
      "processing fold # 4  RMSE метрика = 4493.451171875\n",
      "Средняя RMSE метрика = 3156 \n",
      "\n",
      "Adamax (\n",
      "Parameter Group 0\n",
      "    betas: (0.9, 0.999)\n",
      "    eps: 1e-08\n",
      "    lr: 0.01\n",
      "    weight_decay: 0\n",
      ")\n",
      "processing fold # 1  RMSE метрика = 4979.42919921875\n",
      "processing fold # 2  RMSE метрика = 3027.435302734375\n",
      "processing fold # 3  RMSE метрика = 3775.63427734375\n",
      "processing fold # 4  RMSE метрика = 3620.809326171875\n",
      "Средняя RMSE метрика = 3850 \n",
      "\n"
     ]
    }
   ],
   "source": [
    "x = [optimizer, optimizer1, optimizer2, optimizer3]\n",
    "\n",
    "for i in x:\n",
    "    print(i)\n",
    "    cross_vall_score(net, features_train, target_train, i)"
   ]
  },
  {
   "cell_type": "markdown",
   "id": "b2d75060",
   "metadata": {},
   "source": [
    "Лучшая метрика Adam с шагом сходимости в 0.01"
   ]
  },
  {
   "cell_type": "code",
   "execution_count": 53,
   "id": "459b9bcd",
   "metadata": {},
   "outputs": [],
   "source": [
    "def neuron(model, features_train, target_train, optim, num_epochs = 250, batch_size = 6):\n",
    "    '''Функция обучает нейронную сеть батчами с заданным количеством эпох'''\n",
    "    num_batches = ceil(len(features_train)/batch_size)\n",
    "    for epoch in range(num_epochs):\n",
    "        order = np.random.permutation(len(features_train))\n",
    "        for batch_idx in range(num_batches):\n",
    "            start_index = batch_idx * batch_size \n",
    "            optim.zero_grad() \n",
    "        \n",
    "            batch_indexes = order[start_index:start_index+batch_size] #индексы объектов текущего обатча\n",
    "            features_batch = features_train[batch_indexes]\n",
    "            target_batch = target_train[batch_indexes]\n",
    "        \n",
    "            preds = model.forward(features_batch).flatten() \n",
    "            loss_value = loss(preds, target_batch.flatten())\n",
    "            loss_value.backward()\n",
    "            optim.step()\n",
    "    return  model"
   ]
  },
  {
   "cell_type": "code",
   "execution_count": 54,
   "id": "4bc20908",
   "metadata": {},
   "outputs": [],
   "source": [
    "net = neuron(net, features_train, target_train, optimizer3) #обучаем модель с заданными параметрами "
   ]
  },
  {
   "cell_type": "code",
   "execution_count": 55,
   "id": "2ea02db6",
   "metadata": {
    "scrolled": true
   },
   "outputs": [
    {
     "name": "stdout",
     "output_type": "stream",
     "text": [
      "RMSE нейронной сети на тестовой выборке =  4475\n"
     ]
    }
   ],
   "source": [
    "net.eval()\n",
    "test_preds = net.forward(features_test)\n",
    "print('RMSE нейронной сети на тестовой выборке = ', int(torch.sqrt(loss(target_test, test_preds))))"
   ]
  },
  {
   "cell_type": "markdown",
   "id": "30f924d2",
   "metadata": {},
   "source": [
    "Визуализируем полученные показатели"
   ]
  },
  {
   "cell_type": "code",
   "execution_count": 56,
   "id": "1bb424e2",
   "metadata": {},
   "outputs": [],
   "source": [
    "def vizualization(target, preds, width = 0.3):\n",
    "    '''Визуализирует предсказания нейронной сети на тестовой выборке'''\n",
    "    y1 = target.numpy().reshape([-1])\n",
    "    y2 = preds.reshape([-1]).detach().numpy()\n",
    "    x = np.arange(len(y1))\n",
    "    \n",
    "    fig,ax = plt.subplots()\n",
    "    rects1 = ax.bar(x - width/2, y1, width, label = 'Факт')\n",
    "    rects2 = ax.bar(x + width/2, y2, width, label = 'Прогноз')\n",
    "    ax.set_title('Факт-Прогноз')\n",
    "    ax.set_xticks(x)\n",
    "    ax.set_xlabel('Номер звезды в таблице данных')\n",
    "    ax.set_ylabel('Температура звезды')\n",
    "    fig.set_figwidth(17)\n",
    "    fig.set_figheight(10)\n",
    "    ax.legend();"
   ]
  },
  {
   "cell_type": "code",
   "execution_count": 57,
   "id": "a54c1923",
   "metadata": {},
   "outputs": [
    {
     "data": {
      "image/png": "[encoded data removed]",
      "text/plain": [
       "<Figure size 1224x720 with 1 Axes>"
      ]
     },
     "metadata": {
      "needs_background": "light"
     },
     "output_type": "display_data"
    }
   ],
   "source": [
    "vizualization(target_test, test_preds)"
   ]
  },
  {
   "cell_type": "markdown",
   "id": "4303cfe7",
   "metadata": {},
   "source": [
    "**Вывод:**\n",
    "\n",
    "Нейросеть хорошо предсказывает температуру звёзд до 10000 градусов. Тажке мы нашли лучшую на данный момент метрику, а именно Adam с шагом сходимости в 0.01"
   ]
  },
  {
   "cell_type": "markdown",
   "id": "growing-supply",
   "metadata": {},
   "source": [
    "## Улучшение нейронной сети"
   ]
  },
  {
   "cell_type": "markdown",
   "id": "51aef764",
   "metadata": {},
   "source": [
    "Для улучшения работы нейронной сети мы будем использовать Dropout и BatchNorm1d. Далее, мы будем проверять, смогут ли данные методы улучшить работу нейронной сети."
   ]
  },
  {
   "cell_type": "code",
   "execution_count": 58,
   "id": "acceptable-forwarding",
   "metadata": {},
   "outputs": [],
   "source": [
    "class Model(nn.Module):\n",
    "    def __init__(self, n_in_neurons, n_hidden_neurons_1, n_hidden_neurons_2, n_out_neurons):\n",
    "        super(Model, self).__init__()\n",
    "        \n",
    "        self.fc1 = nn.Linear(n_in_neurons, n_hidden_neurons_1)\n",
    "        self.bn1 = nn.BatchNorm1d(n_hidden_neurons_1)\n",
    "        self.act1 = nn.ReLU()\n",
    "        self.dp2 = nn.Dropout(p=0.2)\n",
    "        self.fc2 = nn.Linear(n_hidden_neurons_1, n_hidden_neurons_2)\n",
    "        self.bn2 = nn.BatchNorm1d(n_hidden_neurons_2)\n",
    "        self.act2 = nn.ReLU()\n",
    "        self.fc3 = nn.Linear(n_hidden_neurons_2, n_out_neurons)\n",
    "        \n",
    "    def forward(self, x):\n",
    "        x = self.fc1(x)\n",
    "        x = self.bn1(x)\n",
    "        x = self.act1(x)\n",
    "        x = self.dp2(x)\n",
    "        x = self.fc2(x)\n",
    "        x = self.bn2(x)\n",
    "        x = self.act2(x)\n",
    "        x = self.fc3(x)\n",
    "        \n",
    "        return x"
   ]
  },
  {
   "cell_type": "code",
   "execution_count": 59,
   "id": "bc516eae",
   "metadata": {},
   "outputs": [],
   "source": [
    "net = Model(n_in_neurons, n_hidden_neurons_1, n_hidden_neurons_2, n_out_neurons)\n",
    "loss = nn.MSELoss()\n",
    "\n",
    "optimizer = torch.optim.RMSprop(net.parameters(), lr=1e-3)\n",
    "optimizer1 = torch.optim.Adam(net.parameters(), lr=1e-3)\n",
    "optimizer2 = torch.optim.Adam(net.parameters(), lr=1e-2)\n",
    "optimizer3 = torch.optim.Adamax(net.parameters(), lr=1e-2)"
   ]
  },
  {
   "cell_type": "code",
   "execution_count": 60,
   "id": "caf71771",
   "metadata": {
    "scrolled": true
   },
   "outputs": [
    {
     "name": "stdout",
     "output_type": "stream",
     "text": [
      "RMSprop (\n",
      "Parameter Group 0\n",
      "    alpha: 0.99\n",
      "    centered: False\n",
      "    eps: 1e-08\n",
      "    lr: 0.001\n",
      "    momentum: 0\n",
      "    weight_decay: 0\n",
      ")\n",
      "processing fold # 1  RMSE метрика = 12433.060546875\n",
      "processing fold # 2  RMSE метрика = 4178.54541015625\n",
      "processing fold # 3  RMSE метрика = 6301.0048828125\n",
      "processing fold # 4  RMSE метрика = 4156.5224609375\n",
      "Средняя RMSE метрика = 6767 \n",
      "\n",
      "Adam (\n",
      "Parameter Group 0\n",
      "    amsgrad: False\n",
      "    betas: (0.9, 0.999)\n",
      "    eps: 1e-08\n",
      "    lr: 0.001\n",
      "    weight_decay: 0\n",
      ")\n",
      "processing fold # 1  RMSE метрика = 6226.2998046875\n",
      "processing fold # 2  RMSE метрика = 2823.4501953125\n",
      "processing fold # 3  RMSE метрика = 3587.384521484375\n",
      "processing fold # 4  RMSE метрика = 3443.4599609375\n",
      "Средняя RMSE метрика = 4020 \n",
      "\n",
      "Adam (\n",
      "Parameter Group 0\n",
      "    amsgrad: False\n",
      "    betas: (0.9, 0.999)\n",
      "    eps: 1e-08\n",
      "    lr: 0.01\n",
      "    weight_decay: 0\n",
      ")\n",
      "processing fold # 1  RMSE метрика = 3262.572021484375\n",
      "processing fold # 2  RMSE метрика = 2700.56396484375\n",
      "processing fold # 3  RMSE метрика = 2786.234619140625\n",
      "processing fold # 4  RMSE метрика = 4461.1572265625\n",
      "Средняя RMSE метрика = 3302 \n",
      "\n",
      "Adamax (\n",
      "Parameter Group 0\n",
      "    betas: (0.9, 0.999)\n",
      "    eps: 1e-08\n",
      "    lr: 0.01\n",
      "    weight_decay: 0\n",
      ")\n",
      "processing fold # 1  RMSE метрика = 2803.6904296875\n",
      "processing fold # 2  RMSE метрика = 2720.811767578125\n",
      "processing fold # 3  RMSE метрика = 2906.94873046875\n",
      "processing fold # 4  RMSE метрика = 3626.10205078125\n",
      "Средняя RMSE метрика = 3014 \n",
      "\n",
      "CPU times: user 8min 39s, sys: 1.91 s, total: 8min 41s\n",
      "Wall time: 8min 42s\n"
     ]
    }
   ],
   "source": [
    "%%time\n",
    "\n",
    "x = [optimizer, optimizer1, optimizer2, optimizer3]\n",
    "\n",
    "for i in x:\n",
    "    print(i)\n",
    "    cross_vall_score(net, features_train, target_train, i)"
   ]
  },
  {
   "cell_type": "code",
   "execution_count": 61,
   "id": "977369e2",
   "metadata": {},
   "outputs": [],
   "source": [
    "net = neuron(net, features_train, target_train, optimizer3)"
   ]
  },
  {
   "cell_type": "code",
   "execution_count": 62,
   "id": "e2d37830",
   "metadata": {},
   "outputs": [
    {
     "name": "stdout",
     "output_type": "stream",
     "text": [
      "Показатель RMSE нейронной сети на тестовой выборке: 5075\n"
     ]
    }
   ],
   "source": [
    "net.eval()\n",
    "test_preds = net.forward(features_test)\n",
    "print('Показатель RMSE нейронной сети на тестовой выборке:', int(torch.sqrt(loss(target_test,test_preds))))"
   ]
  },
  {
   "cell_type": "code",
   "execution_count": 63,
   "id": "d953e14e",
   "metadata": {},
   "outputs": [
    {
     "data": {
      "image/png": "[encoded data removed]",
      "text/plain": [
       "<Figure size 1224x720 with 1 Axes>"
      ]
     },
     "metadata": {
      "needs_background": "light"
     },
     "output_type": "display_data"
    }
   ],
   "source": [
    "vizualization(target_test, test_preds)"
   ]
  },
  {
   "cell_type": "markdown",
   "id": "20f9a81e",
   "metadata": {},
   "source": [
    "**Вывод:**\n",
    "\n",
    "После применения Dropoгt и BatchNorm1d мы видим, что метрика RMSE стала больше. Вместо 4475, RMSE стало 5075. Поэтому для оптимального решения задачи необходимо будет использовать первую модель."
   ]
  },
  {
   "cell_type": "markdown",
   "id": "accurate-infrastructure",
   "metadata": {},
   "source": [
    "## Выводы"
   ]
  },
  {
   "cell_type": "markdown",
   "id": "86b89c3e",
   "metadata": {},
   "source": [
    "В ходе проведённого исследования нами были выполнены следующие задачи:\n",
    "\n",
    "1) Загрузили данные.\n",
    "\n",
    "2) Провели предоработку данных, где вВыяснили, что пропусков и дубликатов нет, перевели название столбцов в соответствующий вид убрав верхний регистр, а также лишние дефисы и пропуски, перевели категориальные данные в соответствующий вид, сократили число категорий звёзд путём их укрупнения, а также разделили выборки для дальнейшего исследования и перекодировали их, и также перевели данные в torch.\n",
    "\n",
    "3) В ходе построения баозовой нейронной сети мы выяснили, что она хорошо предсказывает температуру звёзд до 10000 градусов. Также мы нашли лучшую на данный момент метрику, а именно Adam с шагом сходимости в 0.01\n",
    "\n",
    "4) В ходе улучшения модели мы применили методы  Dropout и BatchNorm1d, которые повысили значение RMSE. Поэтому для оптимального решения задачи необходимо будет использовать первую модель."
   ]
  }
 ],
 "metadata": {
  "ExecuteTimeLog": [
   {
    "duration": 15299,
    "start_time": "2023-04-06T15:11:19.405Z"
   },
   {
    "duration": 3132,
    "start_time": "2023-04-06T15:11:34.706Z"
   },
   {
    "duration": 227,
    "start_time": "2023-04-06T15:22:10.108Z"
   },
   {
    "duration": 12,
    "start_time": "2023-04-06T15:22:19.813Z"
   },
   {
    "duration": 79,
    "start_time": "2023-04-06T15:22:32.756Z"
   },
   {
    "duration": 18941,
    "start_time": "2023-04-09T21:13:51.795Z"
   },
   {
    "duration": 3019,
    "start_time": "2023-04-09T21:14:10.739Z"
   },
   {
    "duration": 109,
    "start_time": "2023-04-09T21:14:13.769Z"
   },
   {
    "duration": 46,
    "start_time": "2023-04-09T21:16:11.743Z"
   },
   {
    "duration": 47,
    "start_time": "2023-04-09T21:16:23.156Z"
   },
   {
    "duration": 19,
    "start_time": "2023-04-09T21:16:48.136Z"
   },
   {
    "duration": 11,
    "start_time": "2023-04-09T21:16:53.324Z"
   },
   {
    "duration": 7,
    "start_time": "2023-04-09T21:19:41.972Z"
   },
   {
    "duration": 156,
    "start_time": "2023-04-09T21:20:02.080Z"
   },
   {
    "duration": 10,
    "start_time": "2023-04-09T21:20:05.172Z"
   },
   {
    "duration": 9,
    "start_time": "2023-04-09T21:26:19.890Z"
   },
   {
    "duration": 247,
    "start_time": "2023-04-09T21:26:30.493Z"
   },
   {
    "duration": 17,
    "start_time": "2023-04-09T21:26:34.272Z"
   },
   {
    "duration": 5,
    "start_time": "2023-04-09T21:27:46.632Z"
   },
   {
    "duration": 4,
    "start_time": "2023-04-09T21:28:04.231Z"
   },
   {
    "duration": 8,
    "start_time": "2023-04-09T21:28:09.670Z"
   },
   {
    "duration": 1502,
    "start_time": "2023-04-09T21:28:11.391Z"
   },
   {
    "duration": 5,
    "start_time": "2023-04-09T21:28:17.193Z"
   },
   {
    "duration": 4,
    "start_time": "2023-04-09T21:28:17.603Z"
   },
   {
    "duration": 1297,
    "start_time": "2023-04-09T21:28:18.212Z"
   },
   {
    "duration": 1443,
    "start_time": "2023-04-09T21:28:26.868Z"
   },
   {
    "duration": 1545,
    "start_time": "2023-04-09T21:28:31.548Z"
   },
   {
    "duration": 3,
    "start_time": "2023-04-09T21:28:42.204Z"
   },
   {
    "duration": 4,
    "start_time": "2023-04-09T21:28:42.704Z"
   },
   {
    "duration": 2734,
    "start_time": "2023-04-09T21:28:53.566Z"
   },
   {
    "duration": 2979,
    "start_time": "2023-04-09T21:28:56.304Z"
   },
   {
    "duration": 30,
    "start_time": "2023-04-09T21:28:59.294Z"
   },
   {
    "duration": 13,
    "start_time": "2023-04-09T21:28:59.325Z"
   },
   {
    "duration": 85,
    "start_time": "2023-04-09T21:28:59.341Z"
   },
   {
    "duration": 10,
    "start_time": "2023-04-09T21:28:59.428Z"
   },
   {
    "duration": 63,
    "start_time": "2023-04-09T21:28:59.440Z"
   },
   {
    "duration": 9,
    "start_time": "2023-04-09T21:28:59.504Z"
   },
   {
    "duration": 6,
    "start_time": "2023-04-09T21:28:59.515Z"
   },
   {
    "duration": 11,
    "start_time": "2023-04-09T21:28:59.522Z"
   },
   {
    "duration": 59,
    "start_time": "2023-04-09T21:28:59.535Z"
   },
   {
    "duration": 229,
    "start_time": "2023-04-09T21:32:19.396Z"
   },
   {
    "duration": 3,
    "start_time": "2023-04-09T21:32:31.024Z"
   },
   {
    "duration": 95,
    "start_time": "2023-04-09T21:34:02.806Z"
   },
   {
    "duration": 6,
    "start_time": "2023-04-09T21:34:08.102Z"
   },
   {
    "duration": 6,
    "start_time": "2023-04-09T21:34:26.002Z"
   },
   {
    "duration": 21,
    "start_time": "2023-04-09T21:36:50.074Z"
   },
   {
    "duration": 5,
    "start_time": "2023-04-09T21:37:40.803Z"
   },
   {
    "duration": 16,
    "start_time": "2023-04-09T21:37:53.495Z"
   },
   {
    "duration": 13,
    "start_time": "2023-04-09T21:46:58.775Z"
   },
   {
    "duration": 4,
    "start_time": "2023-04-09T21:54:57.308Z"
   },
   {
    "duration": 6,
    "start_time": "2023-04-09T21:55:19.308Z"
   },
   {
    "duration": 5,
    "start_time": "2023-04-09T21:56:18.296Z"
   },
   {
    "duration": 9,
    "start_time": "2023-04-09T21:56:34.270Z"
   },
   {
    "duration": 14530,
    "start_time": "2023-04-11T09:07:04.944Z"
   },
   {
    "duration": 2791,
    "start_time": "2023-04-11T09:07:19.476Z"
   },
   {
    "duration": 54,
    "start_time": "2023-04-11T09:07:22.269Z"
   },
   {
    "duration": 13,
    "start_time": "2023-04-11T09:07:22.325Z"
   },
   {
    "duration": 39,
    "start_time": "2023-04-11T09:07:22.341Z"
   },
   {
    "duration": 21,
    "start_time": "2023-04-11T09:07:22.382Z"
   },
   {
    "duration": 12,
    "start_time": "2023-04-11T09:07:22.404Z"
   },
   {
    "duration": 22,
    "start_time": "2023-04-11T09:07:22.417Z"
   },
   {
    "duration": 19,
    "start_time": "2023-04-11T09:07:22.441Z"
   },
   {
    "duration": 28,
    "start_time": "2023-04-11T09:07:22.461Z"
   },
   {
    "duration": 15,
    "start_time": "2023-04-11T09:07:22.491Z"
   },
   {
    "duration": 26,
    "start_time": "2023-04-11T09:07:22.507Z"
   },
   {
    "duration": 24,
    "start_time": "2023-04-11T09:07:22.534Z"
   },
   {
    "duration": 37,
    "start_time": "2023-04-11T09:07:22.561Z"
   },
   {
    "duration": 32,
    "start_time": "2023-04-11T09:07:22.599Z"
   },
   {
    "duration": 36,
    "start_time": "2023-04-11T09:07:22.632Z"
   },
   {
    "duration": 19,
    "start_time": "2023-04-11T09:07:22.670Z"
   },
   {
    "duration": 32,
    "start_time": "2023-04-11T09:07:22.691Z"
   },
   {
    "duration": 16,
    "start_time": "2023-04-11T09:07:22.725Z"
   },
   {
    "duration": 180,
    "start_time": "2023-04-11T09:45:53.897Z"
   },
   {
    "duration": 53,
    "start_time": "2023-04-11T09:50:20.178Z"
   },
   {
    "duration": 18,
    "start_time": "2023-04-11T09:50:30.069Z"
   },
   {
    "duration": 14,
    "start_time": "2023-04-11T09:50:35.416Z"
   },
   {
    "duration": 20,
    "start_time": "2023-04-11T09:50:46.382Z"
   },
   {
    "duration": 15,
    "start_time": "2023-04-11T09:50:52.596Z"
   },
   {
    "duration": 16,
    "start_time": "2023-04-11T09:51:00.755Z"
   },
   {
    "duration": 3,
    "start_time": "2023-04-11T09:51:22.411Z"
   },
   {
    "duration": 21,
    "start_time": "2023-04-11T09:52:16.133Z"
   },
   {
    "duration": 21,
    "start_time": "2023-04-11T09:52:48.964Z"
   },
   {
    "duration": 4,
    "start_time": "2023-04-11T09:53:06.433Z"
   },
   {
    "duration": 35,
    "start_time": "2023-04-11T10:00:31.384Z"
   },
   {
    "duration": 18,
    "start_time": "2023-04-11T10:00:44.579Z"
   },
   {
    "duration": 7,
    "start_time": "2023-04-11T10:01:45.809Z"
   },
   {
    "duration": 4,
    "start_time": "2023-04-11T10:01:46.775Z"
   },
   {
    "duration": 7,
    "start_time": "2023-04-11T10:02:15.020Z"
   },
   {
    "duration": 5,
    "start_time": "2023-04-11T10:03:45.809Z"
   },
   {
    "duration": 15,
    "start_time": "2023-04-11T10:09:01.277Z"
   },
   {
    "duration": 16,
    "start_time": "2023-04-11T10:10:15.869Z"
   },
   {
    "duration": 13,
    "start_time": "2023-04-11T10:10:35.972Z"
   },
   {
    "duration": 14,
    "start_time": "2023-04-11T10:11:01.571Z"
   },
   {
    "duration": 17,
    "start_time": "2023-04-11T10:12:07.001Z"
   },
   {
    "duration": 4,
    "start_time": "2023-04-11T10:13:19.970Z"
   },
   {
    "duration": 15,
    "start_time": "2023-04-11T10:13:24.009Z"
   },
   {
    "duration": 2431,
    "start_time": "2023-04-11T10:13:39.761Z"
   },
   {
    "duration": 2629,
    "start_time": "2023-04-11T10:13:42.195Z"
   },
   {
    "duration": 22,
    "start_time": "2023-04-11T10:13:44.826Z"
   },
   {
    "duration": 12,
    "start_time": "2023-04-11T10:13:44.850Z"
   },
   {
    "duration": 32,
    "start_time": "2023-04-11T10:13:44.864Z"
   },
   {
    "duration": 15,
    "start_time": "2023-04-11T10:13:44.897Z"
   },
   {
    "duration": 12,
    "start_time": "2023-04-11T10:13:44.914Z"
   },
   {
    "duration": 7,
    "start_time": "2023-04-11T10:13:44.927Z"
   },
   {
    "duration": 6,
    "start_time": "2023-04-11T10:13:44.936Z"
   },
   {
    "duration": 22,
    "start_time": "2023-04-11T10:13:44.946Z"
   },
   {
    "duration": 6,
    "start_time": "2023-04-11T10:13:44.970Z"
   },
   {
    "duration": 7,
    "start_time": "2023-04-11T10:13:44.978Z"
   },
   {
    "duration": 24,
    "start_time": "2023-04-11T10:13:44.987Z"
   },
   {
    "duration": 14,
    "start_time": "2023-04-11T10:13:45.013Z"
   },
   {
    "duration": 34,
    "start_time": "2023-04-11T10:13:45.029Z"
   },
   {
    "duration": 32,
    "start_time": "2023-04-11T10:13:45.065Z"
   },
   {
    "duration": 14,
    "start_time": "2023-04-11T10:13:45.099Z"
   },
   {
    "duration": 9,
    "start_time": "2023-04-11T10:13:45.115Z"
   },
   {
    "duration": 7,
    "start_time": "2023-04-11T10:13:45.126Z"
   },
   {
    "duration": 4,
    "start_time": "2023-04-11T10:13:45.135Z"
   },
   {
    "duration": 4,
    "start_time": "2023-04-11T10:13:45.141Z"
   },
   {
    "duration": 9,
    "start_time": "2023-04-11T10:13:45.147Z"
   },
   {
    "duration": 16,
    "start_time": "2023-04-11T10:13:45.158Z"
   },
   {
    "duration": 8,
    "start_time": "2023-04-11T10:13:45.176Z"
   },
   {
    "duration": 8,
    "start_time": "2023-04-11T10:13:45.186Z"
   },
   {
    "duration": 5,
    "start_time": "2023-04-11T10:13:45.212Z"
   },
   {
    "duration": 201,
    "start_time": "2023-04-11T10:13:45.219Z"
   },
   {
    "duration": 16,
    "start_time": "2023-04-11T10:16:04.501Z"
   },
   {
    "duration": 15,
    "start_time": "2023-04-11T10:16:28.401Z"
   },
   {
    "duration": 2395,
    "start_time": "2023-04-11T10:17:54.644Z"
   },
   {
    "duration": 2633,
    "start_time": "2023-04-11T10:17:57.041Z"
   },
   {
    "duration": 22,
    "start_time": "2023-04-11T10:17:59.675Z"
   },
   {
    "duration": 12,
    "start_time": "2023-04-11T10:17:59.699Z"
   },
   {
    "duration": 28,
    "start_time": "2023-04-11T10:17:59.713Z"
   },
   {
    "duration": 10,
    "start_time": "2023-04-11T10:17:59.743Z"
   },
   {
    "duration": 7,
    "start_time": "2023-04-11T10:17:59.755Z"
   },
   {
    "duration": 7,
    "start_time": "2023-04-11T10:17:59.764Z"
   },
   {
    "duration": 3,
    "start_time": "2023-04-11T10:17:59.773Z"
   },
   {
    "duration": 35,
    "start_time": "2023-04-11T10:17:59.778Z"
   },
   {
    "duration": 6,
    "start_time": "2023-04-11T10:17:59.814Z"
   },
   {
    "duration": 7,
    "start_time": "2023-04-11T10:17:59.821Z"
   },
   {
    "duration": 12,
    "start_time": "2023-04-11T10:17:59.829Z"
   },
   {
    "duration": 6,
    "start_time": "2023-04-11T10:17:59.843Z"
   },
   {
    "duration": 15,
    "start_time": "2023-04-11T10:17:59.850Z"
   },
   {
    "duration": 9,
    "start_time": "2023-04-11T10:17:59.867Z"
   },
   {
    "duration": 4,
    "start_time": "2023-04-11T10:17:59.878Z"
   },
   {
    "duration": 31,
    "start_time": "2023-04-11T10:17:59.883Z"
   },
   {
    "duration": 8,
    "start_time": "2023-04-11T10:17:59.915Z"
   },
   {
    "duration": 4,
    "start_time": "2023-04-11T10:17:59.925Z"
   },
   {
    "duration": 5,
    "start_time": "2023-04-11T10:17:59.931Z"
   },
   {
    "duration": 15,
    "start_time": "2023-04-11T10:17:59.938Z"
   },
   {
    "duration": 10,
    "start_time": "2023-04-11T10:17:59.954Z"
   },
   {
    "duration": 14,
    "start_time": "2023-04-11T10:17:59.966Z"
   },
   {
    "duration": 7,
    "start_time": "2023-04-11T10:17:59.985Z"
   },
   {
    "duration": 17,
    "start_time": "2023-04-11T10:17:59.994Z"
   },
   {
    "duration": 222,
    "start_time": "2023-04-11T10:18:00.013Z"
   },
   {
    "duration": 2449,
    "start_time": "2023-04-11T10:20:12.452Z"
   },
   {
    "duration": 2630,
    "start_time": "2023-04-11T10:20:14.903Z"
   },
   {
    "duration": 23,
    "start_time": "2023-04-11T10:20:17.534Z"
   },
   {
    "duration": 12,
    "start_time": "2023-04-11T10:20:17.560Z"
   },
   {
    "duration": 29,
    "start_time": "2023-04-11T10:20:17.574Z"
   },
   {
    "duration": 11,
    "start_time": "2023-04-11T10:20:17.611Z"
   },
   {
    "duration": 7,
    "start_time": "2023-04-11T10:20:17.624Z"
   },
   {
    "duration": 7,
    "start_time": "2023-04-11T10:20:17.633Z"
   },
   {
    "duration": 4,
    "start_time": "2023-04-11T10:20:17.642Z"
   },
   {
    "duration": 5,
    "start_time": "2023-04-11T10:20:17.648Z"
   },
   {
    "duration": 7,
    "start_time": "2023-04-11T10:20:17.655Z"
   },
   {
    "duration": 49,
    "start_time": "2023-04-11T10:20:17.664Z"
   },
   {
    "duration": 5,
    "start_time": "2023-04-11T10:20:17.715Z"
   },
   {
    "duration": 6,
    "start_time": "2023-04-11T10:20:17.722Z"
   },
   {
    "duration": 15,
    "start_time": "2023-04-11T10:20:17.729Z"
   },
   {
    "duration": 13,
    "start_time": "2023-04-11T10:20:17.746Z"
   },
   {
    "duration": 4,
    "start_time": "2023-04-11T10:20:17.761Z"
   },
   {
    "duration": 10,
    "start_time": "2023-04-11T10:20:17.767Z"
   },
   {
    "duration": 34,
    "start_time": "2023-04-11T10:20:17.778Z"
   },
   {
    "duration": 4,
    "start_time": "2023-04-11T10:20:17.815Z"
   },
   {
    "duration": 214,
    "start_time": "2023-04-11T10:20:17.821Z"
   },
   {
    "duration": 0,
    "start_time": "2023-04-11T10:20:18.037Z"
   },
   {
    "duration": 0,
    "start_time": "2023-04-11T10:20:18.038Z"
   },
   {
    "duration": 0,
    "start_time": "2023-04-11T10:20:18.040Z"
   },
   {
    "duration": 0,
    "start_time": "2023-04-11T10:20:18.041Z"
   },
   {
    "duration": 0,
    "start_time": "2023-04-11T10:20:18.042Z"
   },
   {
    "duration": 0,
    "start_time": "2023-04-11T10:20:18.043Z"
   },
   {
    "duration": 0,
    "start_time": "2023-04-11T10:20:18.044Z"
   },
   {
    "duration": 0,
    "start_time": "2023-04-11T10:20:18.046Z"
   },
   {
    "duration": 1,
    "start_time": "2023-04-11T10:20:18.046Z"
   },
   {
    "duration": 2440,
    "start_time": "2023-04-11T10:20:40.330Z"
   },
   {
    "duration": 2568,
    "start_time": "2023-04-11T10:20:42.773Z"
   },
   {
    "duration": 22,
    "start_time": "2023-04-11T10:20:45.343Z"
   },
   {
    "duration": 12,
    "start_time": "2023-04-11T10:20:45.367Z"
   },
   {
    "duration": 30,
    "start_time": "2023-04-11T10:20:45.381Z"
   },
   {
    "duration": 12,
    "start_time": "2023-04-11T10:20:45.413Z"
   },
   {
    "duration": 6,
    "start_time": "2023-04-11T10:20:45.427Z"
   },
   {
    "duration": 7,
    "start_time": "2023-04-11T10:20:45.435Z"
   },
   {
    "duration": 5,
    "start_time": "2023-04-11T10:20:45.443Z"
   },
   {
    "duration": 6,
    "start_time": "2023-04-11T10:20:45.449Z"
   },
   {
    "duration": 5,
    "start_time": "2023-04-11T10:20:45.456Z"
   },
   {
    "duration": 6,
    "start_time": "2023-04-11T10:20:45.463Z"
   },
   {
    "duration": 43,
    "start_time": "2023-04-11T10:20:45.471Z"
   },
   {
    "duration": 5,
    "start_time": "2023-04-11T10:20:45.517Z"
   },
   {
    "duration": 16,
    "start_time": "2023-04-11T10:20:45.524Z"
   },
   {
    "duration": 7,
    "start_time": "2023-04-11T10:20:45.542Z"
   },
   {
    "duration": 4,
    "start_time": "2023-04-11T10:20:45.551Z"
   },
   {
    "duration": 7,
    "start_time": "2023-04-11T10:20:45.556Z"
   },
   {
    "duration": 6,
    "start_time": "2023-04-11T10:20:45.564Z"
   },
   {
    "duration": 4,
    "start_time": "2023-04-11T10:20:45.571Z"
   },
   {
    "duration": 236,
    "start_time": "2023-04-11T10:20:45.577Z"
   },
   {
    "duration": 0,
    "start_time": "2023-04-11T10:20:45.814Z"
   },
   {
    "duration": 0,
    "start_time": "2023-04-11T10:20:45.815Z"
   },
   {
    "duration": 0,
    "start_time": "2023-04-11T10:20:45.816Z"
   },
   {
    "duration": 0,
    "start_time": "2023-04-11T10:20:45.817Z"
   },
   {
    "duration": 0,
    "start_time": "2023-04-11T10:20:45.818Z"
   },
   {
    "duration": 0,
    "start_time": "2023-04-11T10:20:45.819Z"
   },
   {
    "duration": 0,
    "start_time": "2023-04-11T10:20:45.821Z"
   },
   {
    "duration": 0,
    "start_time": "2023-04-11T10:20:45.822Z"
   },
   {
    "duration": 0,
    "start_time": "2023-04-11T10:20:45.822Z"
   },
   {
    "duration": 2498,
    "start_time": "2023-04-11T10:21:06.700Z"
   },
   {
    "duration": 2623,
    "start_time": "2023-04-11T10:21:09.201Z"
   },
   {
    "duration": 22,
    "start_time": "2023-04-11T10:21:11.826Z"
   },
   {
    "duration": 12,
    "start_time": "2023-04-11T10:21:11.850Z"
   },
   {
    "duration": 35,
    "start_time": "2023-04-11T10:21:11.864Z"
   },
   {
    "duration": 20,
    "start_time": "2023-04-11T10:21:11.901Z"
   },
   {
    "duration": 8,
    "start_time": "2023-04-11T10:21:11.923Z"
   },
   {
    "duration": 7,
    "start_time": "2023-04-11T10:21:11.932Z"
   },
   {
    "duration": 13,
    "start_time": "2023-04-11T10:21:11.941Z"
   },
   {
    "duration": 13,
    "start_time": "2023-04-11T10:21:11.958Z"
   },
   {
    "duration": 10,
    "start_time": "2023-04-11T10:21:11.973Z"
   },
   {
    "duration": 6,
    "start_time": "2023-04-11T10:21:11.984Z"
   },
   {
    "duration": 5,
    "start_time": "2023-04-11T10:21:12.012Z"
   },
   {
    "duration": 6,
    "start_time": "2023-04-11T10:21:12.020Z"
   },
   {
    "duration": 18,
    "start_time": "2023-04-11T10:21:12.028Z"
   },
   {
    "duration": 26,
    "start_time": "2023-04-11T10:21:12.048Z"
   },
   {
    "duration": 14,
    "start_time": "2023-04-11T10:21:12.075Z"
   },
   {
    "duration": 6,
    "start_time": "2023-04-11T10:21:12.090Z"
   },
   {
    "duration": 17,
    "start_time": "2023-04-11T10:21:12.097Z"
   },
   {
    "duration": 4,
    "start_time": "2023-04-11T10:21:12.116Z"
   },
   {
    "duration": 20,
    "start_time": "2023-04-11T10:21:12.121Z"
   },
   {
    "duration": 5,
    "start_time": "2023-04-11T10:21:12.142Z"
   },
   {
    "duration": 218,
    "start_time": "2023-04-11T10:21:12.149Z"
   },
   {
    "duration": 0,
    "start_time": "2023-04-11T10:21:12.369Z"
   },
   {
    "duration": 0,
    "start_time": "2023-04-11T10:21:12.371Z"
   },
   {
    "duration": 0,
    "start_time": "2023-04-11T10:21:12.371Z"
   },
   {
    "duration": 0,
    "start_time": "2023-04-11T10:21:12.373Z"
   },
   {
    "duration": 0,
    "start_time": "2023-04-11T10:21:12.374Z"
   },
   {
    "duration": 0,
    "start_time": "2023-04-11T10:21:12.375Z"
   },
   {
    "duration": 0,
    "start_time": "2023-04-11T10:21:12.376Z"
   },
   {
    "duration": 3,
    "start_time": "2023-04-11T10:23:23.429Z"
   },
   {
    "duration": 18,
    "start_time": "2023-04-11T10:23:24.055Z"
   },
   {
    "duration": 6,
    "start_time": "2023-04-11T10:23:24.882Z"
   },
   {
    "duration": 15,
    "start_time": "2023-04-11T10:23:25.634Z"
   },
   {
    "duration": 2434,
    "start_time": "2023-04-11T10:23:53.964Z"
   },
   {
    "duration": 2629,
    "start_time": "2023-04-11T10:23:56.401Z"
   },
   {
    "duration": 21,
    "start_time": "2023-04-11T10:23:59.032Z"
   },
   {
    "duration": 15,
    "start_time": "2023-04-11T10:23:59.056Z"
   },
   {
    "duration": 32,
    "start_time": "2023-04-11T10:23:59.073Z"
   },
   {
    "duration": 16,
    "start_time": "2023-04-11T10:23:59.107Z"
   },
   {
    "duration": 7,
    "start_time": "2023-04-11T10:23:59.126Z"
   },
   {
    "duration": 17,
    "start_time": "2023-04-11T10:23:59.135Z"
   },
   {
    "duration": 31,
    "start_time": "2023-04-11T10:23:59.154Z"
   },
   {
    "duration": 7,
    "start_time": "2023-04-11T10:23:59.188Z"
   },
   {
    "duration": 21,
    "start_time": "2023-04-11T10:23:59.196Z"
   },
   {
    "duration": 13,
    "start_time": "2023-04-11T10:23:59.219Z"
   },
   {
    "duration": 16,
    "start_time": "2023-04-11T10:23:59.233Z"
   },
   {
    "duration": 8,
    "start_time": "2023-04-11T10:23:59.252Z"
   },
   {
    "duration": 16,
    "start_time": "2023-04-11T10:23:59.261Z"
   },
   {
    "duration": 10,
    "start_time": "2023-04-11T10:23:59.278Z"
   },
   {
    "duration": 9,
    "start_time": "2023-04-11T10:23:59.290Z"
   },
   {
    "duration": 14,
    "start_time": "2023-04-11T10:23:59.301Z"
   },
   {
    "duration": 8,
    "start_time": "2023-04-11T10:23:59.316Z"
   },
   {
    "duration": 4,
    "start_time": "2023-04-11T10:23:59.326Z"
   },
   {
    "duration": 4,
    "start_time": "2023-04-11T10:23:59.332Z"
   },
   {
    "duration": 7,
    "start_time": "2023-04-11T10:23:59.338Z"
   },
   {
    "duration": 5,
    "start_time": "2023-04-11T10:23:59.347Z"
   },
   {
    "duration": 15,
    "start_time": "2023-04-11T10:23:59.353Z"
   },
   {
    "duration": 5,
    "start_time": "2023-04-11T10:23:59.370Z"
   },
   {
    "duration": 36,
    "start_time": "2023-04-11T10:23:59.377Z"
   },
   {
    "duration": 189,
    "start_time": "2023-04-11T10:23:59.415Z"
   },
   {
    "duration": 12,
    "start_time": "2023-04-11T10:27:19.998Z"
   },
   {
    "duration": 14,
    "start_time": "2023-04-11T10:31:46.256Z"
   },
   {
    "duration": 89,
    "start_time": "2023-04-11T10:33:05.885Z"
   },
   {
    "duration": 14,
    "start_time": "2023-04-11T10:33:12.928Z"
   },
   {
    "duration": 13,
    "start_time": "2023-04-11T10:33:53.052Z"
   },
   {
    "duration": 14,
    "start_time": "2023-04-11T10:34:03.129Z"
   },
   {
    "duration": 12,
    "start_time": "2023-04-11T10:35:02.585Z"
   },
   {
    "duration": 11,
    "start_time": "2023-04-11T10:35:16.299Z"
   },
   {
    "duration": 12,
    "start_time": "2023-04-11T10:42:01.430Z"
   },
   {
    "duration": 2402,
    "start_time": "2023-04-11T10:42:13.843Z"
   },
   {
    "duration": 2547,
    "start_time": "2023-04-11T10:42:16.248Z"
   },
   {
    "duration": 22,
    "start_time": "2023-04-11T10:42:18.797Z"
   },
   {
    "duration": 11,
    "start_time": "2023-04-11T10:42:18.821Z"
   },
   {
    "duration": 32,
    "start_time": "2023-04-11T10:42:18.834Z"
   },
   {
    "duration": 10,
    "start_time": "2023-04-11T10:42:18.868Z"
   },
   {
    "duration": 13,
    "start_time": "2023-04-11T10:42:18.880Z"
   },
   {
    "duration": 17,
    "start_time": "2023-04-11T10:42:18.895Z"
   },
   {
    "duration": 4,
    "start_time": "2023-04-11T10:42:18.914Z"
   },
   {
    "duration": 6,
    "start_time": "2023-04-11T10:42:18.920Z"
   },
   {
    "duration": 6,
    "start_time": "2023-04-11T10:42:18.927Z"
   },
   {
    "duration": 8,
    "start_time": "2023-04-11T10:42:18.934Z"
   },
   {
    "duration": 5,
    "start_time": "2023-04-11T10:42:18.944Z"
   },
   {
    "duration": 8,
    "start_time": "2023-04-11T10:42:18.950Z"
   },
   {
    "duration": 14,
    "start_time": "2023-04-11T10:42:18.959Z"
   },
   {
    "duration": 46,
    "start_time": "2023-04-11T10:42:18.975Z"
   },
   {
    "duration": 8,
    "start_time": "2023-04-11T10:42:19.023Z"
   },
   {
    "duration": 13,
    "start_time": "2023-04-11T10:42:19.033Z"
   },
   {
    "duration": 21,
    "start_time": "2023-04-11T10:42:19.047Z"
   },
   {
    "duration": 19,
    "start_time": "2023-04-11T10:42:19.070Z"
   },
   {
    "duration": 5,
    "start_time": "2023-04-11T10:42:19.091Z"
   },
   {
    "duration": 5,
    "start_time": "2023-04-11T10:42:19.097Z"
   },
   {
    "duration": 10,
    "start_time": "2023-04-11T10:42:19.104Z"
   },
   {
    "duration": 5,
    "start_time": "2023-04-11T10:42:19.116Z"
   },
   {
    "duration": 10,
    "start_time": "2023-04-11T10:42:19.123Z"
   },
   {
    "duration": 7,
    "start_time": "2023-04-11T10:42:19.135Z"
   },
   {
    "duration": 11,
    "start_time": "2023-04-11T10:42:19.144Z"
   },
   {
    "duration": 259,
    "start_time": "2023-04-11T10:42:19.160Z"
   },
   {
    "duration": 0,
    "start_time": "2023-04-11T10:42:19.421Z"
   },
   {
    "duration": 0,
    "start_time": "2023-04-11T10:42:19.422Z"
   },
   {
    "duration": 4,
    "start_time": "2023-04-11T10:43:17.441Z"
   },
   {
    "duration": 18,
    "start_time": "2023-04-11T10:43:24.479Z"
   },
   {
    "duration": 15,
    "start_time": "2023-04-11T10:43:34.802Z"
   },
   {
    "duration": 13,
    "start_time": "2023-04-11T10:44:24.502Z"
   },
   {
    "duration": 2441,
    "start_time": "2023-04-11T10:44:31.237Z"
   },
   {
    "duration": 2673,
    "start_time": "2023-04-11T10:44:33.681Z"
   },
   {
    "duration": 25,
    "start_time": "2023-04-11T10:44:36.356Z"
   },
   {
    "duration": 12,
    "start_time": "2023-04-11T10:44:36.383Z"
   },
   {
    "duration": 41,
    "start_time": "2023-04-11T10:44:36.397Z"
   },
   {
    "duration": 11,
    "start_time": "2023-04-11T10:44:36.440Z"
   },
   {
    "duration": 16,
    "start_time": "2023-04-11T10:44:36.452Z"
   },
   {
    "duration": 31,
    "start_time": "2023-04-11T10:44:36.470Z"
   },
   {
    "duration": 17,
    "start_time": "2023-04-11T10:44:36.503Z"
   },
   {
    "duration": 18,
    "start_time": "2023-04-11T10:44:36.522Z"
   },
   {
    "duration": 7,
    "start_time": "2023-04-11T10:44:36.542Z"
   },
   {
    "duration": 34,
    "start_time": "2023-04-11T10:44:36.551Z"
   },
   {
    "duration": 31,
    "start_time": "2023-04-11T10:44:36.587Z"
   },
   {
    "duration": 6,
    "start_time": "2023-04-11T10:44:36.620Z"
   },
   {
    "duration": 16,
    "start_time": "2023-04-11T10:44:36.628Z"
   },
   {
    "duration": 13,
    "start_time": "2023-04-11T10:44:36.645Z"
   },
   {
    "duration": 10,
    "start_time": "2023-04-11T10:44:36.659Z"
   },
   {
    "duration": 7,
    "start_time": "2023-04-11T10:44:36.671Z"
   },
   {
    "duration": 9,
    "start_time": "2023-04-11T10:44:36.680Z"
   },
   {
    "duration": 25,
    "start_time": "2023-04-11T10:44:36.691Z"
   },
   {
    "duration": 25,
    "start_time": "2023-04-11T10:44:36.717Z"
   },
   {
    "duration": 7,
    "start_time": "2023-04-11T10:44:36.744Z"
   },
   {
    "duration": 11,
    "start_time": "2023-04-11T10:44:36.752Z"
   },
   {
    "duration": 12,
    "start_time": "2023-04-11T10:44:36.765Z"
   },
   {
    "duration": 6,
    "start_time": "2023-04-11T10:44:36.778Z"
   },
   {
    "duration": 9,
    "start_time": "2023-04-11T10:44:36.785Z"
   },
   {
    "duration": 17,
    "start_time": "2023-04-11T10:44:36.795Z"
   },
   {
    "duration": 2,
    "start_time": "2023-04-11T10:44:36.815Z"
   },
   {
    "duration": 200,
    "start_time": "2023-04-11T10:44:36.819Z"
   },
   {
    "duration": 0,
    "start_time": "2023-04-11T10:44:37.020Z"
   },
   {
    "duration": 0,
    "start_time": "2023-04-11T10:44:37.021Z"
   },
   {
    "duration": 4,
    "start_time": "2023-04-11T10:45:03.676Z"
   },
   {
    "duration": 13,
    "start_time": "2023-04-11T10:45:09.443Z"
   },
   {
    "duration": 4,
    "start_time": "2023-04-11T10:45:49.173Z"
   },
   {
    "duration": 15,
    "start_time": "2023-04-11T10:45:49.690Z"
   },
   {
    "duration": 2434,
    "start_time": "2023-04-11T10:46:00.032Z"
   },
   {
    "duration": 2567,
    "start_time": "2023-04-11T10:46:02.468Z"
   },
   {
    "duration": 25,
    "start_time": "2023-04-11T10:46:05.037Z"
   },
   {
    "duration": 12,
    "start_time": "2023-04-11T10:46:05.064Z"
   },
   {
    "duration": 29,
    "start_time": "2023-04-11T10:46:05.078Z"
   },
   {
    "duration": 10,
    "start_time": "2023-04-11T10:46:05.109Z"
   },
   {
    "duration": 23,
    "start_time": "2023-04-11T10:46:05.121Z"
   },
   {
    "duration": 20,
    "start_time": "2023-04-11T10:46:05.146Z"
   },
   {
    "duration": 4,
    "start_time": "2023-04-11T10:46:05.168Z"
   },
   {
    "duration": 7,
    "start_time": "2023-04-11T10:46:05.175Z"
   },
   {
    "duration": 5,
    "start_time": "2023-04-11T10:46:05.184Z"
   },
   {
    "duration": 10,
    "start_time": "2023-04-11T10:46:05.191Z"
   },
   {
    "duration": 10,
    "start_time": "2023-04-11T10:46:05.203Z"
   },
   {
    "duration": 7,
    "start_time": "2023-04-11T10:46:05.215Z"
   },
   {
    "duration": 15,
    "start_time": "2023-04-11T10:46:05.224Z"
   },
   {
    "duration": 13,
    "start_time": "2023-04-11T10:46:05.241Z"
   },
   {
    "duration": 6,
    "start_time": "2023-04-11T10:46:05.256Z"
   },
   {
    "duration": 8,
    "start_time": "2023-04-11T10:46:05.264Z"
   },
   {
    "duration": 8,
    "start_time": "2023-04-11T10:46:05.274Z"
   },
   {
    "duration": 29,
    "start_time": "2023-04-11T10:46:05.284Z"
   },
   {
    "duration": 16,
    "start_time": "2023-04-11T10:46:05.315Z"
   },
   {
    "duration": 16,
    "start_time": "2023-04-11T10:46:05.332Z"
   },
   {
    "duration": 47,
    "start_time": "2023-04-11T10:46:05.350Z"
   },
   {
    "duration": 34,
    "start_time": "2023-04-11T10:46:05.399Z"
   },
   {
    "duration": 37,
    "start_time": "2023-04-11T10:46:05.435Z"
   },
   {
    "duration": 20,
    "start_time": "2023-04-11T10:46:05.474Z"
   },
   {
    "duration": 36,
    "start_time": "2023-04-11T10:46:05.496Z"
   },
   {
    "duration": 45,
    "start_time": "2023-04-11T10:46:05.535Z"
   },
   {
    "duration": 31,
    "start_time": "2023-04-11T10:46:05.581Z"
   },
   {
    "duration": 21,
    "start_time": "2023-04-11T10:46:05.614Z"
   },
   {
    "duration": 213,
    "start_time": "2023-04-11T10:46:05.636Z"
   },
   {
    "duration": 0,
    "start_time": "2023-04-11T10:46:05.851Z"
   },
   {
    "duration": 0,
    "start_time": "2023-04-11T10:46:05.853Z"
   },
   {
    "duration": 15,
    "start_time": "2023-04-11T10:46:32.827Z"
   },
   {
    "duration": 11,
    "start_time": "2023-04-11T10:48:23.815Z"
   },
   {
    "duration": 18,
    "start_time": "2023-04-11T10:54:59.673Z"
   },
   {
    "duration": 6,
    "start_time": "2023-04-11T10:55:16.066Z"
   },
   {
    "duration": 6,
    "start_time": "2023-04-11T10:55:21.067Z"
   },
   {
    "duration": 6,
    "start_time": "2023-04-11T10:55:44.027Z"
   },
   {
    "duration": 10,
    "start_time": "2023-04-11T10:56:04.552Z"
   },
   {
    "duration": 10,
    "start_time": "2023-04-11T10:56:25.037Z"
   },
   {
    "duration": 2352,
    "start_time": "2023-04-11T10:57:24.961Z"
   },
   {
    "duration": 2676,
    "start_time": "2023-04-11T10:57:27.315Z"
   },
   {
    "duration": 27,
    "start_time": "2023-04-11T10:57:29.992Z"
   },
   {
    "duration": 16,
    "start_time": "2023-04-11T10:57:30.022Z"
   },
   {
    "duration": 41,
    "start_time": "2023-04-11T10:57:30.040Z"
   },
   {
    "duration": 10,
    "start_time": "2023-04-11T10:57:30.083Z"
   },
   {
    "duration": 17,
    "start_time": "2023-04-11T10:57:30.095Z"
   },
   {
    "duration": 15,
    "start_time": "2023-04-11T10:57:30.113Z"
   },
   {
    "duration": 30,
    "start_time": "2023-04-11T10:57:30.129Z"
   },
   {
    "duration": 37,
    "start_time": "2023-04-11T10:57:30.162Z"
   },
   {
    "duration": 21,
    "start_time": "2023-04-11T10:57:30.200Z"
   },
   {
    "duration": 37,
    "start_time": "2023-04-11T10:57:30.222Z"
   },
   {
    "duration": 27,
    "start_time": "2023-04-11T10:57:30.261Z"
   },
   {
    "duration": 25,
    "start_time": "2023-04-11T10:57:30.289Z"
   },
   {
    "duration": 39,
    "start_time": "2023-04-11T10:57:30.316Z"
   },
   {
    "duration": 30,
    "start_time": "2023-04-11T10:57:30.357Z"
   },
   {
    "duration": 33,
    "start_time": "2023-04-11T10:57:30.389Z"
   },
   {
    "duration": 23,
    "start_time": "2023-04-11T10:57:30.423Z"
   },
   {
    "duration": 29,
    "start_time": "2023-04-11T10:57:30.447Z"
   },
   {
    "duration": 46,
    "start_time": "2023-04-11T10:57:30.477Z"
   },
   {
    "duration": 39,
    "start_time": "2023-04-11T10:57:30.524Z"
   },
   {
    "duration": 41,
    "start_time": "2023-04-11T10:57:30.565Z"
   },
   {
    "duration": 56,
    "start_time": "2023-04-11T10:57:30.608Z"
   },
   {
    "duration": 29,
    "start_time": "2023-04-11T10:57:30.666Z"
   },
   {
    "duration": 38,
    "start_time": "2023-04-11T10:57:30.697Z"
   },
   {
    "duration": 35,
    "start_time": "2023-04-11T10:57:30.737Z"
   },
   {
    "duration": 21,
    "start_time": "2023-04-11T10:57:30.773Z"
   },
   {
    "duration": 51,
    "start_time": "2023-04-11T10:57:30.797Z"
   },
   {
    "duration": 26,
    "start_time": "2023-04-11T10:57:30.850Z"
   },
   {
    "duration": 32,
    "start_time": "2023-04-11T10:57:30.878Z"
   },
   {
    "duration": 48,
    "start_time": "2023-04-11T10:57:30.911Z"
   },
   {
    "duration": 30,
    "start_time": "2023-04-11T10:57:30.961Z"
   },
   {
    "duration": 247,
    "start_time": "2023-04-11T10:57:30.992Z"
   },
   {
    "duration": 0,
    "start_time": "2023-04-11T10:57:31.241Z"
   },
   {
    "duration": 0,
    "start_time": "2023-04-11T10:57:31.242Z"
   },
   {
    "duration": 7,
    "start_time": "2023-04-11T10:58:10.549Z"
   },
   {
    "duration": 14,
    "start_time": "2023-04-11T10:58:11.702Z"
   },
   {
    "duration": 2495,
    "start_time": "2023-04-11T10:58:32.965Z"
   },
   {
    "duration": 2603,
    "start_time": "2023-04-11T10:58:35.463Z"
   },
   {
    "duration": 22,
    "start_time": "2023-04-11T10:58:38.068Z"
   },
   {
    "duration": 13,
    "start_time": "2023-04-11T10:58:38.092Z"
   },
   {
    "duration": 33,
    "start_time": "2023-04-11T10:58:38.107Z"
   },
   {
    "duration": 12,
    "start_time": "2023-04-11T10:58:38.141Z"
   },
   {
    "duration": 9,
    "start_time": "2023-04-11T10:58:38.154Z"
   },
   {
    "duration": 6,
    "start_time": "2023-04-11T10:58:38.165Z"
   },
   {
    "duration": 16,
    "start_time": "2023-04-11T10:58:38.173Z"
   },
   {
    "duration": 23,
    "start_time": "2023-04-11T10:58:38.193Z"
   },
   {
    "duration": 21,
    "start_time": "2023-04-11T10:58:38.218Z"
   },
   {
    "duration": 25,
    "start_time": "2023-04-11T10:58:38.241Z"
   },
   {
    "duration": 20,
    "start_time": "2023-04-11T10:58:38.268Z"
   },
   {
    "duration": 21,
    "start_time": "2023-04-11T10:58:38.290Z"
   },
   {
    "duration": 27,
    "start_time": "2023-04-11T10:58:38.313Z"
   },
   {
    "duration": 16,
    "start_time": "2023-04-11T10:58:38.342Z"
   },
   {
    "duration": 17,
    "start_time": "2023-04-11T10:58:38.360Z"
   },
   {
    "duration": 27,
    "start_time": "2023-04-11T10:58:38.379Z"
   },
   {
    "duration": 42,
    "start_time": "2023-04-11T10:58:38.408Z"
   },
   {
    "duration": 25,
    "start_time": "2023-04-11T10:58:38.452Z"
   },
   {
    "duration": 12,
    "start_time": "2023-04-11T10:58:38.479Z"
   },
   {
    "duration": 10,
    "start_time": "2023-04-11T10:58:38.492Z"
   },
   {
    "duration": 24,
    "start_time": "2023-04-11T10:58:38.504Z"
   },
   {
    "duration": 22,
    "start_time": "2023-04-11T10:58:38.530Z"
   },
   {
    "duration": 30,
    "start_time": "2023-04-11T10:58:38.554Z"
   },
   {
    "duration": 14,
    "start_time": "2023-04-11T10:58:38.586Z"
   },
   {
    "duration": 6,
    "start_time": "2023-04-11T10:58:38.602Z"
   },
   {
    "duration": 8,
    "start_time": "2023-04-11T10:58:38.611Z"
   },
   {
    "duration": 7,
    "start_time": "2023-04-11T10:58:38.621Z"
   },
   {
    "duration": 7,
    "start_time": "2023-04-11T10:58:38.629Z"
   },
   {
    "duration": 6,
    "start_time": "2023-04-11T10:58:38.637Z"
   },
   {
    "duration": 3,
    "start_time": "2023-04-11T10:58:38.644Z"
   },
   {
    "duration": 9,
    "start_time": "2023-04-11T10:58:38.649Z"
   },
   {
    "duration": 15,
    "start_time": "2023-04-11T10:58:38.659Z"
   },
   {
    "duration": 252,
    "start_time": "2023-04-11T10:58:38.676Z"
   },
   {
    "duration": 2477,
    "start_time": "2023-04-11T10:59:38.506Z"
   },
   {
    "duration": 2694,
    "start_time": "2023-04-11T10:59:40.986Z"
   },
   {
    "duration": 21,
    "start_time": "2023-04-11T10:59:43.682Z"
   },
   {
    "duration": 12,
    "start_time": "2023-04-11T10:59:43.706Z"
   },
   {
    "duration": 33,
    "start_time": "2023-04-11T10:59:43.719Z"
   },
   {
    "duration": 10,
    "start_time": "2023-04-11T10:59:43.754Z"
   },
   {
    "duration": 7,
    "start_time": "2023-04-11T10:59:43.766Z"
   },
   {
    "duration": 8,
    "start_time": "2023-04-11T10:59:43.775Z"
   },
   {
    "duration": 3,
    "start_time": "2023-04-11T10:59:43.785Z"
   },
   {
    "duration": 5,
    "start_time": "2023-04-11T10:59:43.813Z"
   },
   {
    "duration": 5,
    "start_time": "2023-04-11T10:59:43.820Z"
   },
   {
    "duration": 7,
    "start_time": "2023-04-11T10:59:43.827Z"
   },
   {
    "duration": 7,
    "start_time": "2023-04-11T10:59:43.836Z"
   },
   {
    "duration": 7,
    "start_time": "2023-04-11T10:59:43.845Z"
   },
   {
    "duration": 14,
    "start_time": "2023-04-11T10:59:43.854Z"
   },
   {
    "duration": 56,
    "start_time": "2023-04-11T10:59:43.869Z"
   },
   {
    "duration": 8,
    "start_time": "2023-04-11T10:59:43.927Z"
   },
   {
    "duration": 5,
    "start_time": "2023-04-11T10:59:43.937Z"
   },
   {
    "duration": 6,
    "start_time": "2023-04-11T10:59:43.944Z"
   },
   {
    "duration": 12,
    "start_time": "2023-04-11T10:59:43.952Z"
   },
   {
    "duration": 13,
    "start_time": "2023-04-11T10:59:43.965Z"
   },
   {
    "duration": 32,
    "start_time": "2023-04-11T10:59:43.980Z"
   },
   {
    "duration": 13,
    "start_time": "2023-04-11T10:59:44.016Z"
   },
   {
    "duration": 3,
    "start_time": "2023-04-11T10:59:44.542Z"
   },
   {
    "duration": 7,
    "start_time": "2023-04-11T10:59:45.271Z"
   },
   {
    "duration": 14,
    "start_time": "2023-04-11T10:59:47.755Z"
   },
   {
    "duration": 13,
    "start_time": "2023-04-11T10:59:57.479Z"
   },
   {
    "duration": 2563,
    "start_time": "2023-04-11T11:03:51.815Z"
   },
   {
    "duration": 2671,
    "start_time": "2023-04-11T11:03:54.381Z"
   },
   {
    "duration": 21,
    "start_time": "2023-04-11T11:03:57.055Z"
   },
   {
    "duration": 13,
    "start_time": "2023-04-11T11:03:57.079Z"
   },
   {
    "duration": 39,
    "start_time": "2023-04-11T11:03:57.094Z"
   },
   {
    "duration": 13,
    "start_time": "2023-04-11T11:03:57.134Z"
   },
   {
    "duration": 20,
    "start_time": "2023-04-11T11:03:57.149Z"
   },
   {
    "duration": 21,
    "start_time": "2023-04-11T11:03:57.171Z"
   },
   {
    "duration": 4,
    "start_time": "2023-04-11T11:03:57.193Z"
   },
   {
    "duration": 7,
    "start_time": "2023-04-11T11:03:57.199Z"
   },
   {
    "duration": 4,
    "start_time": "2023-04-11T11:03:57.212Z"
   },
   {
    "duration": 9,
    "start_time": "2023-04-11T11:03:57.217Z"
   },
   {
    "duration": 6,
    "start_time": "2023-04-11T11:03:57.227Z"
   },
   {
    "duration": 6,
    "start_time": "2023-04-11T11:03:57.234Z"
   },
   {
    "duration": 14,
    "start_time": "2023-04-11T11:03:57.241Z"
   },
   {
    "duration": 16,
    "start_time": "2023-04-11T11:03:57.257Z"
   },
   {
    "duration": 15,
    "start_time": "2023-04-11T11:03:57.275Z"
   },
   {
    "duration": 4,
    "start_time": "2023-04-11T11:03:57.312Z"
   },
   {
    "duration": 6,
    "start_time": "2023-04-11T11:03:57.318Z"
   },
   {
    "duration": 28,
    "start_time": "2023-04-11T11:03:57.326Z"
   },
   {
    "duration": 28,
    "start_time": "2023-04-11T11:03:57.356Z"
   },
   {
    "duration": 15,
    "start_time": "2023-04-11T11:03:57.385Z"
   },
   {
    "duration": 22,
    "start_time": "2023-04-11T11:03:57.402Z"
   },
   {
    "duration": 4,
    "start_time": "2023-04-11T11:03:57.426Z"
   },
   {
    "duration": 21,
    "start_time": "2023-04-11T11:03:57.431Z"
   },
   {
    "duration": 18,
    "start_time": "2023-04-11T11:03:57.454Z"
   },
   {
    "duration": 20,
    "start_time": "2023-04-11T11:03:57.473Z"
   },
   {
    "duration": 12,
    "start_time": "2023-04-11T11:03:57.496Z"
   },
   {
    "duration": 24,
    "start_time": "2023-04-11T11:03:57.510Z"
   },
   {
    "duration": 21,
    "start_time": "2023-04-11T11:03:57.536Z"
   },
   {
    "duration": 18,
    "start_time": "2023-04-11T11:03:57.558Z"
   },
   {
    "duration": 3,
    "start_time": "2023-04-11T11:03:57.578Z"
   },
   {
    "duration": 205,
    "start_time": "2023-04-11T11:03:57.582Z"
   },
   {
    "duration": 0,
    "start_time": "2023-04-11T11:03:57.788Z"
   },
   {
    "duration": 0,
    "start_time": "2023-04-11T11:03:57.790Z"
   },
   {
    "duration": 25,
    "start_time": "2023-04-11T11:08:21.045Z"
   },
   {
    "duration": 2400,
    "start_time": "2023-04-11T11:08:35.869Z"
   },
   {
    "duration": 2763,
    "start_time": "2023-04-11T11:08:38.272Z"
   },
   {
    "duration": 26,
    "start_time": "2023-04-11T11:08:41.036Z"
   },
   {
    "duration": 12,
    "start_time": "2023-04-11T11:08:41.064Z"
   },
   {
    "duration": 30,
    "start_time": "2023-04-11T11:08:41.078Z"
   },
   {
    "duration": 11,
    "start_time": "2023-04-11T11:08:41.110Z"
   },
   {
    "duration": 10,
    "start_time": "2023-04-11T11:08:41.123Z"
   },
   {
    "duration": 9,
    "start_time": "2023-04-11T11:08:41.135Z"
   },
   {
    "duration": 9,
    "start_time": "2023-04-11T11:08:41.146Z"
   },
   {
    "duration": 4,
    "start_time": "2023-04-11T11:08:41.158Z"
   },
   {
    "duration": 5,
    "start_time": "2023-04-11T11:08:41.164Z"
   },
   {
    "duration": 5,
    "start_time": "2023-04-11T11:08:41.171Z"
   },
   {
    "duration": 34,
    "start_time": "2023-04-11T11:08:41.178Z"
   },
   {
    "duration": 7,
    "start_time": "2023-04-11T11:08:41.213Z"
   },
   {
    "duration": 26,
    "start_time": "2023-04-11T11:08:41.222Z"
   },
   {
    "duration": 15,
    "start_time": "2023-04-11T11:08:41.250Z"
   },
   {
    "duration": 8,
    "start_time": "2023-04-11T11:08:41.267Z"
   },
   {
    "duration": 15,
    "start_time": "2023-04-11T11:08:41.277Z"
   },
   {
    "duration": 19,
    "start_time": "2023-04-11T11:08:41.293Z"
   },
   {
    "duration": 7,
    "start_time": "2023-04-11T11:08:41.314Z"
   },
   {
    "duration": 15,
    "start_time": "2023-04-11T11:08:41.323Z"
   },
   {
    "duration": 6,
    "start_time": "2023-04-11T11:08:41.340Z"
   },
   {
    "duration": 20,
    "start_time": "2023-04-11T11:08:41.347Z"
   },
   {
    "duration": 3,
    "start_time": "2023-04-11T11:08:41.369Z"
   },
   {
    "duration": 39,
    "start_time": "2023-04-11T11:08:41.373Z"
   },
   {
    "duration": 5,
    "start_time": "2023-04-11T11:08:41.413Z"
   },
   {
    "duration": 9,
    "start_time": "2023-04-11T11:08:41.420Z"
   },
   {
    "duration": 6,
    "start_time": "2023-04-11T11:08:41.432Z"
   },
   {
    "duration": 3,
    "start_time": "2023-04-11T11:08:41.439Z"
   },
   {
    "duration": 14,
    "start_time": "2023-04-11T11:08:41.444Z"
   },
   {
    "duration": 17,
    "start_time": "2023-04-11T11:08:41.460Z"
   },
   {
    "duration": 13,
    "start_time": "2023-04-11T11:08:41.479Z"
   },
   {
    "duration": 210,
    "start_time": "2023-04-11T11:08:41.512Z"
   },
   {
    "duration": 0,
    "start_time": "2023-04-11T11:08:41.724Z"
   },
   {
    "duration": 0,
    "start_time": "2023-04-11T11:08:41.726Z"
   },
   {
    "duration": 21,
    "start_time": "2023-04-11T11:09:11.495Z"
   },
   {
    "duration": 2383,
    "start_time": "2023-04-11T11:09:18.473Z"
   },
   {
    "duration": 2555,
    "start_time": "2023-04-11T11:09:20.858Z"
   },
   {
    "duration": 23,
    "start_time": "2023-04-11T11:09:23.415Z"
   },
   {
    "duration": 13,
    "start_time": "2023-04-11T11:09:23.440Z"
   },
   {
    "duration": 27,
    "start_time": "2023-04-11T11:09:23.455Z"
   },
   {
    "duration": 11,
    "start_time": "2023-04-11T11:09:23.484Z"
   },
   {
    "duration": 7,
    "start_time": "2023-04-11T11:09:23.512Z"
   },
   {
    "duration": 6,
    "start_time": "2023-04-11T11:09:23.521Z"
   },
   {
    "duration": 8,
    "start_time": "2023-04-11T11:09:23.529Z"
   },
   {
    "duration": 7,
    "start_time": "2023-04-11T11:09:23.539Z"
   },
   {
    "duration": 8,
    "start_time": "2023-04-11T11:09:23.548Z"
   },
   {
    "duration": 7,
    "start_time": "2023-04-11T11:09:23.557Z"
   },
   {
    "duration": 8,
    "start_time": "2023-04-11T11:09:23.565Z"
   },
   {
    "duration": 38,
    "start_time": "2023-04-11T11:09:23.574Z"
   },
   {
    "duration": 13,
    "start_time": "2023-04-11T11:09:23.614Z"
   },
   {
    "duration": 17,
    "start_time": "2023-04-11T11:09:23.629Z"
   },
   {
    "duration": 7,
    "start_time": "2023-04-11T11:09:23.647Z"
   },
   {
    "duration": 4,
    "start_time": "2023-04-11T11:09:23.655Z"
   },
   {
    "duration": 5,
    "start_time": "2023-04-11T11:09:23.660Z"
   },
   {
    "duration": 7,
    "start_time": "2023-04-11T11:09:23.667Z"
   },
   {
    "duration": 40,
    "start_time": "2023-04-11T11:09:23.676Z"
   },
   {
    "duration": 4,
    "start_time": "2023-04-11T11:09:23.718Z"
   },
   {
    "duration": 13,
    "start_time": "2023-04-11T11:09:23.723Z"
   },
   {
    "duration": 4,
    "start_time": "2023-04-11T11:09:23.738Z"
   },
   {
    "duration": 7,
    "start_time": "2023-04-11T11:09:23.743Z"
   },
   {
    "duration": 7,
    "start_time": "2023-04-11T11:09:23.751Z"
   },
   {
    "duration": 5,
    "start_time": "2023-04-11T11:09:23.760Z"
   },
   {
    "duration": 5,
    "start_time": "2023-04-11T11:09:23.768Z"
   },
   {
    "duration": 3,
    "start_time": "2023-04-11T11:09:23.775Z"
   },
   {
    "duration": 10,
    "start_time": "2023-04-11T11:09:23.811Z"
   },
   {
    "duration": 35,
    "start_time": "2023-04-11T11:09:23.823Z"
   },
   {
    "duration": 14,
    "start_time": "2023-04-11T11:09:23.860Z"
   },
   {
    "duration": 192,
    "start_time": "2023-04-11T11:09:23.876Z"
   },
   {
    "duration": 0,
    "start_time": "2023-04-11T11:09:24.069Z"
   },
   {
    "duration": 0,
    "start_time": "2023-04-11T11:09:24.070Z"
   },
   {
    "duration": 17,
    "start_time": "2023-04-11T11:15:06.696Z"
   },
   {
    "duration": 2472,
    "start_time": "2023-04-11T11:17:26.258Z"
   },
   {
    "duration": 2744,
    "start_time": "2023-04-11T11:17:28.733Z"
   },
   {
    "duration": 23,
    "start_time": "2023-04-11T11:17:31.479Z"
   },
   {
    "duration": 21,
    "start_time": "2023-04-11T11:17:31.504Z"
   },
   {
    "duration": 91,
    "start_time": "2023-04-11T11:17:31.528Z"
   },
   {
    "duration": 10,
    "start_time": "2023-04-11T11:17:31.621Z"
   },
   {
    "duration": 25,
    "start_time": "2023-04-11T11:17:31.633Z"
   },
   {
    "duration": 18,
    "start_time": "2023-04-11T11:17:31.659Z"
   },
   {
    "duration": 19,
    "start_time": "2023-04-11T11:17:31.678Z"
   },
   {
    "duration": 18,
    "start_time": "2023-04-11T11:17:31.700Z"
   },
   {
    "duration": 19,
    "start_time": "2023-04-11T11:17:31.720Z"
   },
   {
    "duration": 14,
    "start_time": "2023-04-11T11:17:31.741Z"
   },
   {
    "duration": 42,
    "start_time": "2023-04-11T11:17:31.757Z"
   },
   {
    "duration": 20,
    "start_time": "2023-04-11T11:17:31.801Z"
   },
   {
    "duration": 34,
    "start_time": "2023-04-11T11:17:31.822Z"
   },
   {
    "duration": 23,
    "start_time": "2023-04-11T11:17:31.858Z"
   },
   {
    "duration": 13,
    "start_time": "2023-04-11T11:17:31.883Z"
   },
   {
    "duration": 20,
    "start_time": "2023-04-11T11:17:31.898Z"
   },
   {
    "duration": 29,
    "start_time": "2023-04-11T11:17:31.920Z"
   },
   {
    "duration": 17,
    "start_time": "2023-04-11T11:17:31.951Z"
   },
   {
    "duration": 19,
    "start_time": "2023-04-11T11:17:31.969Z"
   },
   {
    "duration": 18,
    "start_time": "2023-04-11T11:17:31.990Z"
   },
   {
    "duration": 22,
    "start_time": "2023-04-11T11:17:32.010Z"
   },
   {
    "duration": 21,
    "start_time": "2023-04-11T11:17:32.034Z"
   },
   {
    "duration": 16,
    "start_time": "2023-04-11T11:17:32.056Z"
   },
   {
    "duration": 30,
    "start_time": "2023-04-11T11:17:32.073Z"
   },
   {
    "duration": 16,
    "start_time": "2023-04-11T11:17:32.105Z"
   },
   {
    "duration": 18,
    "start_time": "2023-04-11T11:17:32.124Z"
   },
   {
    "duration": 29,
    "start_time": "2023-04-11T11:17:32.144Z"
   },
   {
    "duration": 23,
    "start_time": "2023-04-11T11:17:32.175Z"
   },
   {
    "duration": 200,
    "start_time": "2023-04-11T11:17:32.199Z"
   },
   {
    "duration": 0,
    "start_time": "2023-04-11T11:17:32.400Z"
   },
   {
    "duration": 0,
    "start_time": "2023-04-11T11:17:32.401Z"
   },
   {
    "duration": 0,
    "start_time": "2023-04-11T11:17:32.402Z"
   },
   {
    "duration": 0,
    "start_time": "2023-04-11T11:17:32.403Z"
   },
   {
    "duration": 0,
    "start_time": "2023-04-11T11:17:32.404Z"
   },
   {
    "duration": 0,
    "start_time": "2023-04-11T11:17:32.412Z"
   },
   {
    "duration": 0,
    "start_time": "2023-04-11T11:17:32.413Z"
   },
   {
    "duration": 3,
    "start_time": "2023-04-11T11:17:41.512Z"
   },
   {
    "duration": 3,
    "start_time": "2023-04-11T11:17:42.622Z"
   },
   {
    "duration": 35,
    "start_time": "2023-04-11T11:17:44.039Z"
   },
   {
    "duration": 2457,
    "start_time": "2023-04-11T11:21:02.056Z"
   },
   {
    "duration": 2644,
    "start_time": "2023-04-11T11:21:04.516Z"
   },
   {
    "duration": 23,
    "start_time": "2023-04-11T11:21:07.161Z"
   },
   {
    "duration": 11,
    "start_time": "2023-04-11T11:21:07.186Z"
   },
   {
    "duration": 57,
    "start_time": "2023-04-11T11:21:07.199Z"
   },
   {
    "duration": 10,
    "start_time": "2023-04-11T11:21:07.258Z"
   },
   {
    "duration": 20,
    "start_time": "2023-04-11T11:21:07.269Z"
   },
   {
    "duration": 14,
    "start_time": "2023-04-11T11:21:07.291Z"
   },
   {
    "duration": 11,
    "start_time": "2023-04-11T11:21:07.307Z"
   },
   {
    "duration": 8,
    "start_time": "2023-04-11T11:21:07.320Z"
   },
   {
    "duration": 10,
    "start_time": "2023-04-11T11:21:07.329Z"
   },
   {
    "duration": 12,
    "start_time": "2023-04-11T11:21:07.340Z"
   },
   {
    "duration": 20,
    "start_time": "2023-04-11T11:21:07.354Z"
   },
   {
    "duration": 12,
    "start_time": "2023-04-11T11:21:07.375Z"
   },
   {
    "duration": 18,
    "start_time": "2023-04-11T11:21:07.389Z"
   },
   {
    "duration": 21,
    "start_time": "2023-04-11T11:21:07.408Z"
   },
   {
    "duration": 9,
    "start_time": "2023-04-11T11:21:07.431Z"
   },
   {
    "duration": 3,
    "start_time": "2023-04-11T11:21:07.442Z"
   },
   {
    "duration": 7,
    "start_time": "2023-04-11T11:21:07.447Z"
   },
   {
    "duration": 12,
    "start_time": "2023-04-11T11:21:07.455Z"
   },
   {
    "duration": 16,
    "start_time": "2023-04-11T11:21:07.468Z"
   },
   {
    "duration": 8,
    "start_time": "2023-04-11T11:21:07.485Z"
   },
   {
    "duration": 28,
    "start_time": "2023-04-11T11:21:07.495Z"
   },
   {
    "duration": 4,
    "start_time": "2023-04-11T11:21:07.525Z"
   },
   {
    "duration": 8,
    "start_time": "2023-04-11T11:21:07.532Z"
   },
   {
    "duration": 4,
    "start_time": "2023-04-11T11:21:07.542Z"
   },
   {
    "duration": 9,
    "start_time": "2023-04-11T11:21:07.548Z"
   },
   {
    "duration": 9,
    "start_time": "2023-04-11T11:21:07.560Z"
   },
   {
    "duration": 3,
    "start_time": "2023-04-11T11:21:07.571Z"
   },
   {
    "duration": 6,
    "start_time": "2023-04-11T11:21:07.576Z"
   },
   {
    "duration": 30,
    "start_time": "2023-04-11T11:21:07.584Z"
   },
   {
    "duration": 5,
    "start_time": "2023-04-11T11:21:07.615Z"
   },
   {
    "duration": 6,
    "start_time": "2023-04-11T11:21:07.622Z"
   },
   {
    "duration": 9,
    "start_time": "2023-04-11T11:21:07.630Z"
   },
   {
    "duration": 4,
    "start_time": "2023-04-11T11:21:07.641Z"
   },
   {
    "duration": 57,
    "start_time": "2023-04-11T11:21:07.647Z"
   },
   {
    "duration": 37,
    "start_time": "2023-04-11T11:21:07.706Z"
   },
   {
    "duration": 6,
    "start_time": "2023-04-11T11:21:07.745Z"
   },
   {
    "duration": 207,
    "start_time": "2023-04-11T11:21:07.752Z"
   },
   {
    "duration": 0,
    "start_time": "2023-04-11T11:21:07.961Z"
   },
   {
    "duration": 0,
    "start_time": "2023-04-11T11:21:07.962Z"
   },
   {
    "duration": 14,
    "start_time": "2023-04-11T11:22:41.867Z"
   },
   {
    "duration": 4,
    "start_time": "2023-04-11T11:23:01.151Z"
   },
   {
    "duration": 3,
    "start_time": "2023-04-11T11:23:42.395Z"
   },
   {
    "duration": 15528,
    "start_time": "2023-04-11T19:02:59.871Z"
   },
   {
    "duration": 2996,
    "start_time": "2023-04-11T19:03:15.401Z"
   },
   {
    "duration": 66,
    "start_time": "2023-04-11T19:03:18.399Z"
   },
   {
    "duration": 13,
    "start_time": "2023-04-11T19:03:18.467Z"
   },
   {
    "duration": 26,
    "start_time": "2023-04-11T19:03:18.482Z"
   },
   {
    "duration": 19,
    "start_time": "2023-04-11T19:03:18.510Z"
   },
   {
    "duration": 6,
    "start_time": "2023-04-11T19:03:18.531Z"
   },
   {
    "duration": 6,
    "start_time": "2023-04-11T19:03:18.538Z"
   },
   {
    "duration": 3,
    "start_time": "2023-04-11T19:03:18.545Z"
   },
   {
    "duration": 6,
    "start_time": "2023-04-11T19:03:18.551Z"
   },
   {
    "duration": 9,
    "start_time": "2023-04-11T19:03:18.558Z"
   },
   {
    "duration": 12,
    "start_time": "2023-04-11T19:03:18.568Z"
   },
   {
    "duration": 5,
    "start_time": "2023-04-11T19:03:18.581Z"
   },
   {
    "duration": 14,
    "start_time": "2023-04-11T19:03:18.611Z"
   },
   {
    "duration": 24,
    "start_time": "2023-04-11T19:03:18.629Z"
   },
   {
    "duration": 29,
    "start_time": "2023-04-11T19:03:18.654Z"
   },
   {
    "duration": 7,
    "start_time": "2023-04-11T19:03:18.685Z"
   },
   {
    "duration": 4,
    "start_time": "2023-04-11T19:03:18.693Z"
   },
   {
    "duration": 6,
    "start_time": "2023-04-11T19:03:18.698Z"
   },
   {
    "duration": 21,
    "start_time": "2023-04-11T19:03:18.706Z"
   },
   {
    "duration": 13,
    "start_time": "2023-04-11T19:03:18.729Z"
   },
   {
    "duration": 7,
    "start_time": "2023-04-11T19:03:18.744Z"
   },
   {
    "duration": 16,
    "start_time": "2023-04-11T19:03:18.752Z"
   },
   {
    "duration": 4,
    "start_time": "2023-04-11T19:03:18.769Z"
   },
   {
    "duration": 8,
    "start_time": "2023-04-11T19:03:18.774Z"
   },
   {
    "duration": 5,
    "start_time": "2023-04-11T19:03:18.784Z"
   },
   {
    "duration": 38,
    "start_time": "2023-04-11T19:03:18.790Z"
   },
   {
    "duration": 24,
    "start_time": "2023-04-11T19:03:18.831Z"
   },
   {
    "duration": 8,
    "start_time": "2023-04-11T19:03:18.856Z"
   },
   {
    "duration": 18,
    "start_time": "2023-04-11T19:03:18.866Z"
   },
   {
    "duration": 6,
    "start_time": "2023-04-11T19:03:18.886Z"
   },
   {
    "duration": 4,
    "start_time": "2023-04-11T19:03:18.895Z"
   },
   {
    "duration": 4,
    "start_time": "2023-04-11T19:03:18.901Z"
   },
   {
    "duration": 8,
    "start_time": "2023-04-11T19:03:18.907Z"
   },
   {
    "duration": 6,
    "start_time": "2023-04-11T19:03:18.920Z"
   },
   {
    "duration": 34,
    "start_time": "2023-04-11T19:03:18.928Z"
   },
   {
    "duration": 13,
    "start_time": "2023-04-11T19:03:18.965Z"
   },
   {
    "duration": 4,
    "start_time": "2023-04-11T19:03:18.980Z"
   },
   {
    "duration": 35,
    "start_time": "2023-04-11T19:03:18.986Z"
   },
   {
    "duration": 7,
    "start_time": "2023-04-11T19:03:19.023Z"
   },
   {
    "duration": 13,
    "start_time": "2023-04-11T19:03:19.037Z"
   },
   {
    "duration": 215,
    "start_time": "2023-04-11T19:07:43.692Z"
   },
   {
    "duration": 17,
    "start_time": "2023-04-11T19:08:25.351Z"
   },
   {
    "duration": 4,
    "start_time": "2023-04-11T19:10:00.257Z"
   },
   {
    "duration": 3,
    "start_time": "2023-04-11T19:16:00.392Z"
   },
   {
    "duration": 68,
    "start_time": "2023-04-11T19:28:21.741Z"
   },
   {
    "duration": 70,
    "start_time": "2023-04-11T19:28:50.725Z"
   },
   {
    "duration": 5,
    "start_time": "2023-04-11T19:29:21.025Z"
   },
   {
    "duration": 7,
    "start_time": "2023-04-11T19:36:19.982Z"
   },
   {
    "duration": 3,
    "start_time": "2023-04-11T19:36:23.116Z"
   },
   {
    "duration": 7,
    "start_time": "2023-04-11T19:36:24.381Z"
   },
   {
    "duration": 4,
    "start_time": "2023-04-11T19:41:22.296Z"
   },
   {
    "duration": 4,
    "start_time": "2023-04-11T19:50:11.057Z"
   },
   {
    "duration": 5,
    "start_time": "2023-04-11T19:50:58.126Z"
   },
   {
    "duration": 93,
    "start_time": "2023-04-11T21:22:51.753Z"
   },
   {
    "duration": 12,
    "start_time": "2023-04-11T21:23:27.747Z"
   },
   {
    "duration": 2444,
    "start_time": "2023-04-11T21:24:01.024Z"
   },
   {
    "duration": 2565,
    "start_time": "2023-04-11T21:24:03.471Z"
   },
   {
    "duration": 25,
    "start_time": "2023-04-11T21:24:06.038Z"
   },
   {
    "duration": 27,
    "start_time": "2023-04-11T21:24:06.065Z"
   },
   {
    "duration": 36,
    "start_time": "2023-04-11T21:24:06.093Z"
   },
   {
    "duration": 17,
    "start_time": "2023-04-11T21:24:06.130Z"
   },
   {
    "duration": 15,
    "start_time": "2023-04-11T21:24:06.148Z"
   },
   {
    "duration": 10,
    "start_time": "2023-04-11T21:24:06.165Z"
   },
   {
    "duration": 10,
    "start_time": "2023-04-11T21:24:06.176Z"
   },
   {
    "duration": 14,
    "start_time": "2023-04-11T21:24:06.188Z"
   },
   {
    "duration": 6,
    "start_time": "2023-04-11T21:24:06.204Z"
   },
   {
    "duration": 8,
    "start_time": "2023-04-11T21:24:06.212Z"
   },
   {
    "duration": 6,
    "start_time": "2023-04-11T21:24:06.221Z"
   },
   {
    "duration": 11,
    "start_time": "2023-04-11T21:24:06.228Z"
   },
   {
    "duration": 28,
    "start_time": "2023-04-11T21:24:06.241Z"
   },
   {
    "duration": 15,
    "start_time": "2023-04-11T21:24:06.271Z"
   },
   {
    "duration": 13,
    "start_time": "2023-04-11T21:24:06.288Z"
   },
   {
    "duration": 11,
    "start_time": "2023-04-11T21:24:06.303Z"
   },
   {
    "duration": 22,
    "start_time": "2023-04-11T21:24:06.316Z"
   },
   {
    "duration": 15,
    "start_time": "2023-04-11T21:24:06.340Z"
   },
   {
    "duration": 31,
    "start_time": "2023-04-11T21:24:06.357Z"
   },
   {
    "duration": 21,
    "start_time": "2023-04-11T21:24:06.389Z"
   },
   {
    "duration": 23,
    "start_time": "2023-04-11T21:24:06.412Z"
   },
   {
    "duration": 9,
    "start_time": "2023-04-11T21:24:06.437Z"
   },
   {
    "duration": 19,
    "start_time": "2023-04-11T21:24:06.448Z"
   },
   {
    "duration": 12,
    "start_time": "2023-04-11T21:24:06.469Z"
   },
   {
    "duration": 12,
    "start_time": "2023-04-11T21:24:06.483Z"
   },
   {
    "duration": 7,
    "start_time": "2023-04-11T21:24:06.498Z"
   },
   {
    "duration": 11,
    "start_time": "2023-04-11T21:24:06.507Z"
   },
   {
    "duration": 9,
    "start_time": "2023-04-11T21:24:06.519Z"
   },
   {
    "duration": 5,
    "start_time": "2023-04-11T21:24:06.530Z"
   },
   {
    "duration": 9,
    "start_time": "2023-04-11T21:24:06.536Z"
   },
   {
    "duration": 7,
    "start_time": "2023-04-11T21:24:06.547Z"
   },
   {
    "duration": 13,
    "start_time": "2023-04-11T21:24:06.556Z"
   },
   {
    "duration": 19,
    "start_time": "2023-04-11T21:24:06.571Z"
   },
   {
    "duration": 39,
    "start_time": "2023-04-11T21:24:06.591Z"
   },
   {
    "duration": 9,
    "start_time": "2023-04-11T21:24:06.632Z"
   },
   {
    "duration": 14,
    "start_time": "2023-04-11T21:24:06.642Z"
   },
   {
    "duration": 26,
    "start_time": "2023-04-11T21:24:06.658Z"
   },
   {
    "duration": 4,
    "start_time": "2023-04-11T21:24:06.686Z"
   },
   {
    "duration": 9,
    "start_time": "2023-04-11T21:24:06.692Z"
   },
   {
    "duration": 8,
    "start_time": "2023-04-11T21:24:06.703Z"
   },
   {
    "duration": 4,
    "start_time": "2023-04-11T21:24:06.713Z"
   },
   {
    "duration": 7,
    "start_time": "2023-04-11T21:24:06.718Z"
   },
   {
    "duration": 9,
    "start_time": "2023-04-11T21:24:06.726Z"
   },
   {
    "duration": 5,
    "start_time": "2023-04-11T21:24:06.736Z"
   },
   {
    "duration": 14,
    "start_time": "2023-04-11T21:24:06.743Z"
   },
   {
    "duration": 183,
    "start_time": "2023-04-11T21:24:24.269Z"
   },
   {
    "duration": 14,
    "start_time": "2023-04-11T21:24:41.240Z"
   },
   {
    "duration": 2487,
    "start_time": "2023-04-11T21:27:47.220Z"
   },
   {
    "duration": 2604,
    "start_time": "2023-04-11T21:27:49.710Z"
   },
   {
    "duration": 25,
    "start_time": "2023-04-11T21:27:52.316Z"
   },
   {
    "duration": 12,
    "start_time": "2023-04-11T21:27:52.343Z"
   },
   {
    "duration": 28,
    "start_time": "2023-04-11T21:27:52.356Z"
   },
   {
    "duration": 11,
    "start_time": "2023-04-11T21:27:52.385Z"
   },
   {
    "duration": 19,
    "start_time": "2023-04-11T21:27:52.397Z"
   },
   {
    "duration": 9,
    "start_time": "2023-04-11T21:27:52.417Z"
   },
   {
    "duration": 4,
    "start_time": "2023-04-11T21:27:52.427Z"
   },
   {
    "duration": 10,
    "start_time": "2023-04-11T21:27:52.434Z"
   },
   {
    "duration": 14,
    "start_time": "2023-04-11T21:27:52.446Z"
   },
   {
    "duration": 10,
    "start_time": "2023-04-11T21:27:52.461Z"
   },
   {
    "duration": 14,
    "start_time": "2023-04-11T21:27:52.472Z"
   },
   {
    "duration": 8,
    "start_time": "2023-04-11T21:27:52.488Z"
   },
   {
    "duration": 27,
    "start_time": "2023-04-11T21:27:52.498Z"
   },
   {
    "duration": 20,
    "start_time": "2023-04-11T21:27:52.527Z"
   },
   {
    "duration": 13,
    "start_time": "2023-04-11T21:27:52.549Z"
   },
   {
    "duration": 5,
    "start_time": "2023-04-11T21:27:52.564Z"
   },
   {
    "duration": 8,
    "start_time": "2023-04-11T21:27:52.571Z"
   },
   {
    "duration": 16,
    "start_time": "2023-04-11T21:27:52.581Z"
   },
   {
    "duration": 36,
    "start_time": "2023-04-11T21:27:52.599Z"
   },
   {
    "duration": 4,
    "start_time": "2023-04-11T21:27:52.638Z"
   },
   {
    "duration": 22,
    "start_time": "2023-04-11T21:27:52.644Z"
   },
   {
    "duration": 21,
    "start_time": "2023-04-11T21:27:52.668Z"
   },
   {
    "duration": 19,
    "start_time": "2023-04-11T21:27:52.691Z"
   },
   {
    "duration": 6,
    "start_time": "2023-04-11T21:27:52.711Z"
   },
   {
    "duration": 8,
    "start_time": "2023-04-11T21:27:52.719Z"
   },
   {
    "duration": 9,
    "start_time": "2023-04-11T21:27:52.730Z"
   },
   {
    "duration": 14,
    "start_time": "2023-04-11T21:27:52.741Z"
   },
   {
    "duration": 8,
    "start_time": "2023-04-11T21:27:52.757Z"
   },
   {
    "duration": 23,
    "start_time": "2023-04-11T21:27:52.767Z"
   },
   {
    "duration": 8,
    "start_time": "2023-04-11T21:27:52.792Z"
   },
   {
    "duration": 14,
    "start_time": "2023-04-11T21:27:52.802Z"
   },
   {
    "duration": 7,
    "start_time": "2023-04-11T21:27:52.817Z"
   },
   {
    "duration": 5,
    "start_time": "2023-04-11T21:27:52.826Z"
   },
   {
    "duration": 43,
    "start_time": "2023-04-11T21:27:52.833Z"
   },
   {
    "duration": 10,
    "start_time": "2023-04-11T21:27:52.877Z"
   },
   {
    "duration": 15,
    "start_time": "2023-04-11T21:27:52.888Z"
   },
   {
    "duration": 5,
    "start_time": "2023-04-11T21:27:52.904Z"
   },
   {
    "duration": 7,
    "start_time": "2023-04-11T21:27:52.910Z"
   },
   {
    "duration": 7,
    "start_time": "2023-04-11T21:27:52.918Z"
   },
   {
    "duration": 16,
    "start_time": "2023-04-11T21:27:52.927Z"
   },
   {
    "duration": 11,
    "start_time": "2023-04-11T21:27:52.945Z"
   },
   {
    "duration": 13,
    "start_time": "2023-04-11T21:27:52.958Z"
   },
   {
    "duration": 30,
    "start_time": "2023-04-11T21:27:52.972Z"
   },
   {
    "duration": 6,
    "start_time": "2023-04-11T21:27:53.004Z"
   },
   {
    "duration": 12,
    "start_time": "2023-04-11T21:27:53.011Z"
   },
   {
    "duration": 229,
    "start_time": "2023-04-11T21:27:53.024Z"
   },
   {
    "duration": 2411,
    "start_time": "2023-04-11T21:28:22.072Z"
   },
   {
    "duration": 2608,
    "start_time": "2023-04-11T21:28:24.485Z"
   },
   {
    "duration": 25,
    "start_time": "2023-04-11T21:28:27.095Z"
   },
   {
    "duration": 12,
    "start_time": "2023-04-11T21:28:27.122Z"
   },
   {
    "duration": 28,
    "start_time": "2023-04-11T21:28:27.136Z"
   },
   {
    "duration": 11,
    "start_time": "2023-04-11T21:28:27.166Z"
   },
   {
    "duration": 27,
    "start_time": "2023-04-11T21:28:27.178Z"
   },
   {
    "duration": 18,
    "start_time": "2023-04-11T21:28:27.207Z"
   },
   {
    "duration": 12,
    "start_time": "2023-04-11T21:28:27.227Z"
   },
   {
    "duration": 30,
    "start_time": "2023-04-11T21:28:27.243Z"
   },
   {
    "duration": 7,
    "start_time": "2023-04-11T21:28:27.275Z"
   },
   {
    "duration": 8,
    "start_time": "2023-04-11T21:28:27.284Z"
   },
   {
    "duration": 11,
    "start_time": "2023-04-11T21:28:27.293Z"
   },
   {
    "duration": 6,
    "start_time": "2023-04-11T21:28:27.306Z"
   },
   {
    "duration": 17,
    "start_time": "2023-04-11T21:28:27.314Z"
   },
   {
    "duration": 16,
    "start_time": "2023-04-11T21:28:27.333Z"
   },
   {
    "duration": 14,
    "start_time": "2023-04-11T21:28:27.351Z"
   },
   {
    "duration": 6,
    "start_time": "2023-04-11T21:28:27.366Z"
   },
   {
    "duration": 13,
    "start_time": "2023-04-11T21:28:27.373Z"
   },
   {
    "duration": 18,
    "start_time": "2023-04-11T21:28:27.388Z"
   },
   {
    "duration": 32,
    "start_time": "2023-04-11T21:28:27.407Z"
   },
   {
    "duration": 9,
    "start_time": "2023-04-11T21:28:27.441Z"
   },
   {
    "duration": 13,
    "start_time": "2023-04-11T21:28:27.452Z"
   },
   {
    "duration": 10,
    "start_time": "2023-04-11T21:28:27.467Z"
   },
   {
    "duration": 9,
    "start_time": "2023-04-11T21:28:27.479Z"
   },
   {
    "duration": 18,
    "start_time": "2023-04-11T21:28:27.490Z"
   },
   {
    "duration": 8,
    "start_time": "2023-04-11T21:28:27.510Z"
   },
   {
    "duration": 6,
    "start_time": "2023-04-11T21:28:27.522Z"
   },
   {
    "duration": 6,
    "start_time": "2023-04-11T21:28:27.530Z"
   },
   {
    "duration": 6,
    "start_time": "2023-04-11T21:28:27.537Z"
   },
   {
    "duration": 15,
    "start_time": "2023-04-11T21:28:27.544Z"
   },
   {
    "duration": 12,
    "start_time": "2023-04-11T21:28:27.561Z"
   },
   {
    "duration": 13,
    "start_time": "2023-04-11T21:28:27.575Z"
   },
   {
    "duration": 5,
    "start_time": "2023-04-11T21:28:27.590Z"
   },
   {
    "duration": 12,
    "start_time": "2023-04-11T21:28:27.597Z"
   },
   {
    "duration": 32,
    "start_time": "2023-04-11T21:28:27.611Z"
   },
   {
    "duration": 27,
    "start_time": "2023-04-11T21:28:27.645Z"
   },
   {
    "duration": 18,
    "start_time": "2023-04-11T21:28:27.673Z"
   },
   {
    "duration": 19,
    "start_time": "2023-04-11T21:28:27.692Z"
   },
   {
    "duration": 20,
    "start_time": "2023-04-11T21:28:27.712Z"
   },
   {
    "duration": 12,
    "start_time": "2023-04-11T21:28:27.733Z"
   },
   {
    "duration": 19,
    "start_time": "2023-04-11T21:28:27.747Z"
   },
   {
    "duration": 10,
    "start_time": "2023-04-11T21:28:27.767Z"
   },
   {
    "duration": 13,
    "start_time": "2023-04-11T21:28:27.779Z"
   },
   {
    "duration": 23,
    "start_time": "2023-04-11T21:28:27.793Z"
   },
   {
    "duration": 17,
    "start_time": "2023-04-11T21:28:27.817Z"
   },
   {
    "duration": 25,
    "start_time": "2023-04-11T21:28:27.836Z"
   },
   {
    "duration": 217,
    "start_time": "2023-04-11T21:28:27.863Z"
   },
   {
    "duration": 2344,
    "start_time": "2023-04-11T21:29:00.338Z"
   },
   {
    "duration": 2669,
    "start_time": "2023-04-11T21:29:02.685Z"
   },
   {
    "duration": 25,
    "start_time": "2023-04-11T21:29:05.356Z"
   },
   {
    "duration": 12,
    "start_time": "2023-04-11T21:29:05.383Z"
   },
   {
    "duration": 30,
    "start_time": "2023-04-11T21:29:05.396Z"
   },
   {
    "duration": 11,
    "start_time": "2023-04-11T21:29:05.427Z"
   },
   {
    "duration": 14,
    "start_time": "2023-04-11T21:29:05.440Z"
   },
   {
    "duration": 24,
    "start_time": "2023-04-11T21:29:05.456Z"
   },
   {
    "duration": 13,
    "start_time": "2023-04-11T21:29:05.481Z"
   },
   {
    "duration": 24,
    "start_time": "2023-04-11T21:29:05.496Z"
   },
   {
    "duration": 11,
    "start_time": "2023-04-11T21:29:05.522Z"
   },
   {
    "duration": 12,
    "start_time": "2023-04-11T21:29:05.535Z"
   },
   {
    "duration": 30,
    "start_time": "2023-04-11T21:29:05.548Z"
   },
   {
    "duration": 35,
    "start_time": "2023-04-11T21:29:05.580Z"
   },
   {
    "duration": 18,
    "start_time": "2023-04-11T21:29:05.617Z"
   },
   {
    "duration": 32,
    "start_time": "2023-04-11T21:29:05.637Z"
   },
   {
    "duration": 13,
    "start_time": "2023-04-11T21:29:05.672Z"
   },
   {
    "duration": 6,
    "start_time": "2023-04-11T21:29:05.686Z"
   },
   {
    "duration": 10,
    "start_time": "2023-04-11T21:29:05.694Z"
   },
   {
    "duration": 16,
    "start_time": "2023-04-11T21:29:05.706Z"
   },
   {
    "duration": 24,
    "start_time": "2023-04-11T21:29:05.724Z"
   },
   {
    "duration": 4,
    "start_time": "2023-04-11T21:29:05.750Z"
   },
   {
    "duration": 24,
    "start_time": "2023-04-11T21:29:05.756Z"
   },
   {
    "duration": 9,
    "start_time": "2023-04-11T21:29:05.782Z"
   },
   {
    "duration": 23,
    "start_time": "2023-04-11T21:29:05.793Z"
   },
   {
    "duration": 28,
    "start_time": "2023-04-11T21:29:05.817Z"
   },
   {
    "duration": 9,
    "start_time": "2023-04-11T21:29:05.847Z"
   },
   {
    "duration": 11,
    "start_time": "2023-04-11T21:29:05.860Z"
   },
   {
    "duration": 9,
    "start_time": "2023-04-11T21:29:05.872Z"
   },
   {
    "duration": 7,
    "start_time": "2023-04-11T21:29:05.883Z"
   },
   {
    "duration": 21,
    "start_time": "2023-04-11T21:29:05.892Z"
   },
   {
    "duration": 17,
    "start_time": "2023-04-11T21:29:05.915Z"
   },
   {
    "duration": 9,
    "start_time": "2023-04-11T21:29:05.934Z"
   },
   {
    "duration": 13,
    "start_time": "2023-04-11T21:29:05.945Z"
   },
   {
    "duration": 15,
    "start_time": "2023-04-11T21:29:05.960Z"
   },
   {
    "duration": 30,
    "start_time": "2023-04-11T21:29:05.977Z"
   },
   {
    "duration": 9,
    "start_time": "2023-04-11T21:29:06.009Z"
   },
   {
    "duration": 2,
    "start_time": "2023-04-11T21:29:06.020Z"
   },
   {
    "duration": 6,
    "start_time": "2023-04-11T21:29:06.024Z"
   },
   {
    "duration": 8,
    "start_time": "2023-04-11T21:29:06.031Z"
   },
   {
    "duration": 9,
    "start_time": "2023-04-11T21:29:06.040Z"
   },
   {
    "duration": 9,
    "start_time": "2023-04-11T21:29:06.051Z"
   },
   {
    "duration": 19,
    "start_time": "2023-04-11T21:29:06.061Z"
   },
   {
    "duration": 6,
    "start_time": "2023-04-11T21:29:06.082Z"
   },
   {
    "duration": 24,
    "start_time": "2023-04-11T21:29:06.090Z"
   },
   {
    "duration": 21,
    "start_time": "2023-04-11T21:29:06.115Z"
   },
   {
    "duration": 26,
    "start_time": "2023-04-11T21:29:06.138Z"
   },
   {
    "duration": 214,
    "start_time": "2023-04-11T21:29:06.166Z"
   },
   {
    "duration": 2488,
    "start_time": "2023-04-11T21:30:51.740Z"
   },
   {
    "duration": 2582,
    "start_time": "2023-04-11T21:30:54.230Z"
   },
   {
    "duration": 25,
    "start_time": "2023-04-11T21:30:56.814Z"
   },
   {
    "duration": 11,
    "start_time": "2023-04-11T21:30:56.841Z"
   },
   {
    "duration": 39,
    "start_time": "2023-04-11T21:30:56.854Z"
   },
   {
    "duration": 17,
    "start_time": "2023-04-11T21:30:56.894Z"
   },
   {
    "duration": 15,
    "start_time": "2023-04-11T21:30:56.912Z"
   },
   {
    "duration": 25,
    "start_time": "2023-04-11T21:30:56.928Z"
   },
   {
    "duration": 14,
    "start_time": "2023-04-11T21:30:56.955Z"
   },
   {
    "duration": 16,
    "start_time": "2023-04-11T21:30:56.972Z"
   },
   {
    "duration": 18,
    "start_time": "2023-04-11T21:30:56.989Z"
   },
   {
    "duration": 18,
    "start_time": "2023-04-11T21:30:57.009Z"
   },
   {
    "duration": 11,
    "start_time": "2023-04-11T21:30:57.028Z"
   },
   {
    "duration": 25,
    "start_time": "2023-04-11T21:30:57.040Z"
   },
   {
    "duration": 21,
    "start_time": "2023-04-11T21:30:57.066Z"
   },
   {
    "duration": 19,
    "start_time": "2023-04-11T21:30:57.089Z"
   },
   {
    "duration": 19,
    "start_time": "2023-04-11T21:30:57.110Z"
   },
   {
    "duration": 7,
    "start_time": "2023-04-11T21:30:57.131Z"
   },
   {
    "duration": 5,
    "start_time": "2023-04-11T21:30:57.140Z"
   },
   {
    "duration": 12,
    "start_time": "2023-04-11T21:30:57.146Z"
   },
   {
    "duration": 12,
    "start_time": "2023-04-11T21:30:57.160Z"
   },
   {
    "duration": 5,
    "start_time": "2023-04-11T21:30:57.173Z"
   },
   {
    "duration": 14,
    "start_time": "2023-04-11T21:30:57.179Z"
   },
   {
    "duration": 3,
    "start_time": "2023-04-11T21:30:57.211Z"
   },
   {
    "duration": 8,
    "start_time": "2023-04-11T21:30:57.216Z"
   },
   {
    "duration": 10,
    "start_time": "2023-04-11T21:30:57.226Z"
   },
   {
    "duration": 11,
    "start_time": "2023-04-11T21:30:57.238Z"
   },
   {
    "duration": 6,
    "start_time": "2023-04-11T21:30:57.252Z"
   },
   {
    "duration": 7,
    "start_time": "2023-04-11T21:30:57.260Z"
   },
   {
    "duration": 4,
    "start_time": "2023-04-11T21:30:57.269Z"
   },
   {
    "duration": 9,
    "start_time": "2023-04-11T21:30:57.275Z"
   },
   {
    "duration": 6,
    "start_time": "2023-04-11T21:30:57.285Z"
   },
   {
    "duration": 3,
    "start_time": "2023-04-11T21:30:57.312Z"
   },
   {
    "duration": 16,
    "start_time": "2023-04-11T21:30:57.316Z"
   },
   {
    "duration": 6,
    "start_time": "2023-04-11T21:30:57.334Z"
   },
   {
    "duration": 33,
    "start_time": "2023-04-11T21:30:57.342Z"
   },
   {
    "duration": 9,
    "start_time": "2023-04-11T21:30:57.377Z"
   },
   {
    "duration": 21,
    "start_time": "2023-04-11T21:30:57.388Z"
   },
   {
    "duration": 13,
    "start_time": "2023-04-11T21:30:57.411Z"
   },
   {
    "duration": 17,
    "start_time": "2023-04-11T21:30:57.426Z"
   },
   {
    "duration": 5,
    "start_time": "2023-04-11T21:30:57.445Z"
   },
   {
    "duration": 5,
    "start_time": "2023-04-11T21:30:57.452Z"
   },
   {
    "duration": 6,
    "start_time": "2023-04-11T21:31:15.435Z"
   },
   {
    "duration": 9,
    "start_time": "2023-04-11T21:35:55.261Z"
   },
   {
    "duration": 193,
    "start_time": "2023-04-11T21:36:35.360Z"
   },
   {
    "duration": 4,
    "start_time": "2023-04-11T21:37:11.114Z"
   },
   {
    "duration": 81,
    "start_time": "2023-04-11T21:37:15.221Z"
   },
   {
    "duration": 2340,
    "start_time": "2023-04-11T21:37:53.874Z"
   },
   {
    "duration": 2595,
    "start_time": "2023-04-11T21:37:56.216Z"
   },
   {
    "duration": 29,
    "start_time": "2023-04-11T21:37:58.813Z"
   },
   {
    "duration": 15,
    "start_time": "2023-04-11T21:37:58.844Z"
   },
   {
    "duration": 33,
    "start_time": "2023-04-11T21:37:58.861Z"
   },
   {
    "duration": 20,
    "start_time": "2023-04-11T21:37:58.896Z"
   },
   {
    "duration": 7,
    "start_time": "2023-04-11T21:37:58.919Z"
   },
   {
    "duration": 8,
    "start_time": "2023-04-11T21:37:58.929Z"
   },
   {
    "duration": 4,
    "start_time": "2023-04-11T21:37:58.939Z"
   },
   {
    "duration": 6,
    "start_time": "2023-04-11T21:37:58.946Z"
   },
   {
    "duration": 8,
    "start_time": "2023-04-11T21:37:58.954Z"
   },
   {
    "duration": 7,
    "start_time": "2023-04-11T21:37:58.963Z"
   },
   {
    "duration": 4,
    "start_time": "2023-04-11T21:37:59.012Z"
   },
   {
    "duration": 6,
    "start_time": "2023-04-11T21:37:59.018Z"
   },
   {
    "duration": 17,
    "start_time": "2023-04-11T21:37:59.025Z"
   },
   {
    "duration": 19,
    "start_time": "2023-04-11T21:37:59.044Z"
   },
   {
    "duration": 7,
    "start_time": "2023-04-11T21:37:59.065Z"
   },
   {
    "duration": 8,
    "start_time": "2023-04-11T21:37:59.074Z"
   },
   {
    "duration": 28,
    "start_time": "2023-04-11T21:37:59.084Z"
   },
   {
    "duration": 9,
    "start_time": "2023-04-11T21:37:59.114Z"
   },
   {
    "duration": 22,
    "start_time": "2023-04-11T21:37:59.124Z"
   },
   {
    "duration": 8,
    "start_time": "2023-04-11T21:37:59.147Z"
   },
   {
    "duration": 19,
    "start_time": "2023-04-11T21:37:59.156Z"
   },
   {
    "duration": 4,
    "start_time": "2023-04-11T21:37:59.177Z"
   },
   {
    "duration": 35,
    "start_time": "2023-04-11T21:37:59.183Z"
   },
   {
    "duration": 4,
    "start_time": "2023-04-11T21:37:59.220Z"
   },
   {
    "duration": 9,
    "start_time": "2023-04-11T21:37:59.225Z"
   },
   {
    "duration": 6,
    "start_time": "2023-04-11T21:37:59.237Z"
   },
   {
    "duration": 3,
    "start_time": "2023-04-11T21:37:59.247Z"
   },
   {
    "duration": 7,
    "start_time": "2023-04-11T21:37:59.252Z"
   },
   {
    "duration": 6,
    "start_time": "2023-04-11T21:37:59.261Z"
   },
   {
    "duration": 5,
    "start_time": "2023-04-11T21:37:59.269Z"
   },
   {
    "duration": 4,
    "start_time": "2023-04-11T21:37:59.275Z"
   },
   {
    "duration": 4,
    "start_time": "2023-04-11T21:37:59.280Z"
   },
   {
    "duration": 4,
    "start_time": "2023-04-11T21:37:59.312Z"
   },
   {
    "duration": 35,
    "start_time": "2023-04-11T21:37:59.318Z"
   },
   {
    "duration": 9,
    "start_time": "2023-04-11T21:37:59.355Z"
   },
   {
    "duration": 5,
    "start_time": "2023-04-11T21:37:59.366Z"
   },
   {
    "duration": 10,
    "start_time": "2023-04-11T21:37:59.372Z"
   },
   {
    "duration": 3,
    "start_time": "2023-04-11T21:37:59.383Z"
   },
   {
    "duration": 5,
    "start_time": "2023-04-11T21:37:59.387Z"
   },
   {
    "duration": 21,
    "start_time": "2023-04-11T21:37:59.394Z"
   },
   {
    "duration": 8,
    "start_time": "2023-04-11T21:37:59.416Z"
   },
   {
    "duration": 9,
    "start_time": "2023-04-11T21:37:59.425Z"
   },
   {
    "duration": 222,
    "start_time": "2023-04-11T21:37:59.436Z"
   },
   {
    "duration": 2537,
    "start_time": "2023-04-11T21:45:53.688Z"
   },
   {
    "duration": 2617,
    "start_time": "2023-04-11T21:45:56.228Z"
   },
   {
    "duration": 27,
    "start_time": "2023-04-11T21:45:58.848Z"
   },
   {
    "duration": 17,
    "start_time": "2023-04-11T21:45:58.878Z"
   },
   {
    "duration": 41,
    "start_time": "2023-04-11T21:45:58.897Z"
   },
   {
    "duration": 14,
    "start_time": "2023-04-11T21:45:58.940Z"
   },
   {
    "duration": 32,
    "start_time": "2023-04-11T21:45:58.957Z"
   },
   {
    "duration": 7,
    "start_time": "2023-04-11T21:45:58.990Z"
   },
   {
    "duration": 4,
    "start_time": "2023-04-11T21:45:58.999Z"
   },
   {
    "duration": 13,
    "start_time": "2023-04-11T21:45:59.005Z"
   },
   {
    "duration": 8,
    "start_time": "2023-04-11T21:45:59.020Z"
   },
   {
    "duration": 11,
    "start_time": "2023-04-11T21:45:59.029Z"
   },
   {
    "duration": 6,
    "start_time": "2023-04-11T21:45:59.041Z"
   },
   {
    "duration": 15,
    "start_time": "2023-04-11T21:45:59.049Z"
   },
   {
    "duration": 30,
    "start_time": "2023-04-11T21:45:59.066Z"
   },
   {
    "duration": 37,
    "start_time": "2023-04-11T21:45:59.098Z"
   },
   {
    "duration": 16,
    "start_time": "2023-04-11T21:45:59.136Z"
   },
   {
    "duration": 10,
    "start_time": "2023-04-11T21:45:59.153Z"
   },
   {
    "duration": 11,
    "start_time": "2023-04-11T21:45:59.164Z"
   },
   {
    "duration": 9,
    "start_time": "2023-04-11T21:45:59.176Z"
   },
   {
    "duration": 18,
    "start_time": "2023-04-11T21:45:59.186Z"
   },
   {
    "duration": 17,
    "start_time": "2023-04-11T21:45:59.206Z"
   },
   {
    "duration": 47,
    "start_time": "2023-04-11T21:45:59.224Z"
   },
   {
    "duration": 10,
    "start_time": "2023-04-11T21:45:59.273Z"
   },
   {
    "duration": 232,
    "start_time": "2023-04-11T21:45:59.285Z"
   },
   {
    "duration": 0,
    "start_time": "2023-04-11T21:45:59.520Z"
   },
   {
    "duration": 0,
    "start_time": "2023-04-11T21:45:59.521Z"
   },
   {
    "duration": 0,
    "start_time": "2023-04-11T21:45:59.522Z"
   },
   {
    "duration": 0,
    "start_time": "2023-04-11T21:45:59.523Z"
   },
   {
    "duration": 0,
    "start_time": "2023-04-11T21:45:59.524Z"
   },
   {
    "duration": 0,
    "start_time": "2023-04-11T21:45:59.525Z"
   },
   {
    "duration": 0,
    "start_time": "2023-04-11T21:45:59.526Z"
   },
   {
    "duration": 0,
    "start_time": "2023-04-11T21:45:59.527Z"
   },
   {
    "duration": 0,
    "start_time": "2023-04-11T21:45:59.528Z"
   },
   {
    "duration": 0,
    "start_time": "2023-04-11T21:45:59.529Z"
   },
   {
    "duration": 0,
    "start_time": "2023-04-11T21:45:59.530Z"
   },
   {
    "duration": 0,
    "start_time": "2023-04-11T21:45:59.531Z"
   },
   {
    "duration": 0,
    "start_time": "2023-04-11T21:45:59.533Z"
   },
   {
    "duration": 0,
    "start_time": "2023-04-11T21:45:59.533Z"
   },
   {
    "duration": 0,
    "start_time": "2023-04-11T21:45:59.534Z"
   },
   {
    "duration": 0,
    "start_time": "2023-04-11T21:45:59.536Z"
   },
   {
    "duration": 0,
    "start_time": "2023-04-11T21:45:59.537Z"
   },
   {
    "duration": 0,
    "start_time": "2023-04-11T21:45:59.538Z"
   },
   {
    "duration": 0,
    "start_time": "2023-04-11T21:45:59.539Z"
   },
   {
    "duration": 0,
    "start_time": "2023-04-11T21:45:59.540Z"
   },
   {
    "duration": 0,
    "start_time": "2023-04-11T21:45:59.541Z"
   },
   {
    "duration": 14,
    "start_time": "2023-04-11T21:46:18.803Z"
   },
   {
    "duration": 13,
    "start_time": "2023-04-11T21:46:47.653Z"
   },
   {
    "duration": 2341,
    "start_time": "2023-04-11T21:49:00.961Z"
   },
   {
    "duration": 2606,
    "start_time": "2023-04-11T21:49:03.305Z"
   },
   {
    "duration": 26,
    "start_time": "2023-04-11T21:49:05.913Z"
   },
   {
    "duration": 14,
    "start_time": "2023-04-11T21:49:05.941Z"
   },
   {
    "duration": 47,
    "start_time": "2023-04-11T21:49:05.957Z"
   },
   {
    "duration": 11,
    "start_time": "2023-04-11T21:49:06.005Z"
   },
   {
    "duration": 9,
    "start_time": "2023-04-11T21:49:06.018Z"
   },
   {
    "duration": 11,
    "start_time": "2023-04-11T21:49:06.029Z"
   },
   {
    "duration": 12,
    "start_time": "2023-04-11T21:49:06.042Z"
   },
   {
    "duration": 8,
    "start_time": "2023-04-11T21:49:06.056Z"
   },
   {
    "duration": 17,
    "start_time": "2023-04-11T21:49:06.066Z"
   },
   {
    "duration": 26,
    "start_time": "2023-04-11T21:49:06.084Z"
   },
   {
    "duration": 34,
    "start_time": "2023-04-11T21:49:06.112Z"
   },
   {
    "duration": 7,
    "start_time": "2023-04-11T21:49:06.149Z"
   },
   {
    "duration": 17,
    "start_time": "2023-04-11T21:49:06.157Z"
   },
   {
    "duration": 31,
    "start_time": "2023-04-11T21:49:06.175Z"
   },
   {
    "duration": 12,
    "start_time": "2023-04-11T21:49:06.208Z"
   },
   {
    "duration": 10,
    "start_time": "2023-04-11T21:49:06.222Z"
   },
   {
    "duration": 12,
    "start_time": "2023-04-11T21:49:06.234Z"
   },
   {
    "duration": 15,
    "start_time": "2023-04-11T21:49:06.248Z"
   },
   {
    "duration": 57,
    "start_time": "2023-04-11T21:49:06.264Z"
   },
   {
    "duration": 21,
    "start_time": "2023-04-11T21:49:06.323Z"
   },
   {
    "duration": 44,
    "start_time": "2023-04-11T21:49:06.345Z"
   },
   {
    "duration": 26,
    "start_time": "2023-04-11T21:49:06.391Z"
   },
   {
    "duration": 23,
    "start_time": "2023-04-11T21:49:06.419Z"
   },
   {
    "duration": 260,
    "start_time": "2023-04-11T21:49:06.444Z"
   },
   {
    "duration": 0,
    "start_time": "2023-04-11T21:49:06.706Z"
   },
   {
    "duration": 0,
    "start_time": "2023-04-11T21:49:06.711Z"
   },
   {
    "duration": 0,
    "start_time": "2023-04-11T21:49:06.713Z"
   },
   {
    "duration": 0,
    "start_time": "2023-04-11T21:49:06.714Z"
   },
   {
    "duration": 0,
    "start_time": "2023-04-11T21:49:06.715Z"
   },
   {
    "duration": 0,
    "start_time": "2023-04-11T21:49:06.716Z"
   },
   {
    "duration": 0,
    "start_time": "2023-04-11T21:49:06.717Z"
   },
   {
    "duration": 0,
    "start_time": "2023-04-11T21:49:06.719Z"
   },
   {
    "duration": 0,
    "start_time": "2023-04-11T21:49:06.720Z"
   },
   {
    "duration": 0,
    "start_time": "2023-04-11T21:49:06.722Z"
   },
   {
    "duration": 0,
    "start_time": "2023-04-11T21:49:06.723Z"
   },
   {
    "duration": 0,
    "start_time": "2023-04-11T21:49:06.724Z"
   },
   {
    "duration": 0,
    "start_time": "2023-04-11T21:49:06.726Z"
   },
   {
    "duration": 0,
    "start_time": "2023-04-11T21:49:06.727Z"
   },
   {
    "duration": 0,
    "start_time": "2023-04-11T21:49:06.728Z"
   },
   {
    "duration": 0,
    "start_time": "2023-04-11T21:49:06.730Z"
   },
   {
    "duration": 0,
    "start_time": "2023-04-11T21:49:06.731Z"
   },
   {
    "duration": 0,
    "start_time": "2023-04-11T21:49:06.732Z"
   },
   {
    "duration": 0,
    "start_time": "2023-04-11T21:49:06.733Z"
   },
   {
    "duration": 0,
    "start_time": "2023-04-11T21:49:06.734Z"
   },
   {
    "duration": 0,
    "start_time": "2023-04-11T21:49:06.735Z"
   },
   {
    "duration": 0,
    "start_time": "2023-04-11T21:49:06.736Z"
   },
   {
    "duration": 0,
    "start_time": "2023-04-11T21:49:06.737Z"
   },
   {
    "duration": 0,
    "start_time": "2023-04-11T21:49:06.738Z"
   },
   {
    "duration": 0,
    "start_time": "2023-04-11T21:49:06.739Z"
   },
   {
    "duration": 0,
    "start_time": "2023-04-11T21:49:06.740Z"
   },
   {
    "duration": 3,
    "start_time": "2023-04-11T21:49:16.870Z"
   },
   {
    "duration": 5,
    "start_time": "2023-04-11T21:49:19.153Z"
   },
   {
    "duration": 5,
    "start_time": "2023-04-11T21:49:20.290Z"
   },
   {
    "duration": 4,
    "start_time": "2023-04-11T21:49:20.705Z"
   },
   {
    "duration": 3,
    "start_time": "2023-04-11T21:49:21.136Z"
   },
   {
    "duration": 20,
    "start_time": "2023-04-11T21:49:22.396Z"
   },
   {
    "duration": 3,
    "start_time": "2023-04-11T21:49:46.876Z"
   },
   {
    "duration": 5,
    "start_time": "2023-04-11T21:49:47.607Z"
   },
   {
    "duration": 5,
    "start_time": "2023-04-11T21:49:48.248Z"
   },
   {
    "duration": 5,
    "start_time": "2023-04-11T21:49:48.838Z"
   },
   {
    "duration": 3,
    "start_time": "2023-04-11T21:49:49.728Z"
   },
   {
    "duration": 19,
    "start_time": "2023-04-11T21:49:50.339Z"
   },
   {
    "duration": 2339,
    "start_time": "2023-04-11T21:50:24.213Z"
   },
   {
    "duration": 2575,
    "start_time": "2023-04-11T21:50:26.555Z"
   },
   {
    "duration": 25,
    "start_time": "2023-04-11T21:50:29.132Z"
   },
   {
    "duration": 12,
    "start_time": "2023-04-11T21:50:29.159Z"
   },
   {
    "duration": 55,
    "start_time": "2023-04-11T21:50:29.172Z"
   },
   {
    "duration": 15,
    "start_time": "2023-04-11T21:50:29.228Z"
   },
   {
    "duration": 8,
    "start_time": "2023-04-11T21:50:29.245Z"
   },
   {
    "duration": 8,
    "start_time": "2023-04-11T21:50:29.255Z"
   },
   {
    "duration": 21,
    "start_time": "2023-04-11T21:50:29.264Z"
   },
   {
    "duration": 12,
    "start_time": "2023-04-11T21:50:29.288Z"
   },
   {
    "duration": 10,
    "start_time": "2023-04-11T21:50:29.302Z"
   },
   {
    "duration": 10,
    "start_time": "2023-04-11T21:50:29.314Z"
   },
   {
    "duration": 8,
    "start_time": "2023-04-11T21:50:29.326Z"
   },
   {
    "duration": 11,
    "start_time": "2023-04-11T21:50:29.336Z"
   },
   {
    "duration": 13,
    "start_time": "2023-04-11T21:50:29.349Z"
   },
   {
    "duration": 12,
    "start_time": "2023-04-11T21:50:29.363Z"
   },
   {
    "duration": 8,
    "start_time": "2023-04-11T21:50:29.377Z"
   },
   {
    "duration": 26,
    "start_time": "2023-04-11T21:50:29.386Z"
   },
   {
    "duration": 6,
    "start_time": "2023-04-11T21:50:29.413Z"
   },
   {
    "duration": 6,
    "start_time": "2023-04-11T21:50:29.421Z"
   },
   {
    "duration": 12,
    "start_time": "2023-04-11T21:50:29.428Z"
   },
   {
    "duration": 4,
    "start_time": "2023-04-11T21:50:29.442Z"
   },
   {
    "duration": 13,
    "start_time": "2023-04-11T21:50:29.447Z"
   },
   {
    "duration": 2,
    "start_time": "2023-04-11T21:50:29.461Z"
   },
   {
    "duration": 4,
    "start_time": "2023-04-11T21:50:29.465Z"
   },
   {
    "duration": 9,
    "start_time": "2023-04-11T21:50:29.471Z"
   },
   {
    "duration": 33,
    "start_time": "2023-04-11T21:50:29.481Z"
   },
   {
    "duration": 4,
    "start_time": "2023-04-11T21:50:29.517Z"
   },
   {
    "duration": 4,
    "start_time": "2023-04-11T21:50:29.522Z"
   },
   {
    "duration": 204,
    "start_time": "2023-04-11T21:50:29.528Z"
   },
   {
    "duration": 0,
    "start_time": "2023-04-11T21:50:29.734Z"
   },
   {
    "duration": 0,
    "start_time": "2023-04-11T21:50:29.735Z"
   },
   {
    "duration": 0,
    "start_time": "2023-04-11T21:50:29.736Z"
   },
   {
    "duration": 0,
    "start_time": "2023-04-11T21:50:29.737Z"
   },
   {
    "duration": 0,
    "start_time": "2023-04-11T21:50:29.738Z"
   },
   {
    "duration": 0,
    "start_time": "2023-04-11T21:50:29.739Z"
   },
   {
    "duration": 0,
    "start_time": "2023-04-11T21:50:29.741Z"
   },
   {
    "duration": 0,
    "start_time": "2023-04-11T21:50:29.742Z"
   },
   {
    "duration": 0,
    "start_time": "2023-04-11T21:50:29.743Z"
   },
   {
    "duration": 0,
    "start_time": "2023-04-11T21:50:29.744Z"
   },
   {
    "duration": 0,
    "start_time": "2023-04-11T21:50:29.745Z"
   },
   {
    "duration": 0,
    "start_time": "2023-04-11T21:50:29.746Z"
   },
   {
    "duration": 0,
    "start_time": "2023-04-11T21:50:29.747Z"
   },
   {
    "duration": 0,
    "start_time": "2023-04-11T21:50:29.748Z"
   },
   {
    "duration": 0,
    "start_time": "2023-04-11T21:50:29.748Z"
   },
   {
    "duration": 1,
    "start_time": "2023-04-11T21:50:29.749Z"
   },
   {
    "duration": 0,
    "start_time": "2023-04-11T21:50:29.750Z"
   },
   {
    "duration": 0,
    "start_time": "2023-04-11T21:50:29.751Z"
   },
   {
    "duration": 0,
    "start_time": "2023-04-11T21:50:29.752Z"
   },
   {
    "duration": 0,
    "start_time": "2023-04-11T21:50:29.753Z"
   },
   {
    "duration": 0,
    "start_time": "2023-04-11T21:50:29.754Z"
   },
   {
    "duration": 0,
    "start_time": "2023-04-11T21:50:29.755Z"
   },
   {
    "duration": 18,
    "start_time": "2023-04-11T21:51:38.923Z"
   },
   {
    "duration": 2466,
    "start_time": "2023-04-11T21:51:50.778Z"
   },
   {
    "duration": 2613,
    "start_time": "2023-04-11T21:51:53.246Z"
   },
   {
    "duration": 26,
    "start_time": "2023-04-11T21:51:55.861Z"
   },
   {
    "duration": 12,
    "start_time": "2023-04-11T21:51:55.889Z"
   },
   {
    "duration": 35,
    "start_time": "2023-04-11T21:51:55.903Z"
   },
   {
    "duration": 10,
    "start_time": "2023-04-11T21:51:55.939Z"
   },
   {
    "duration": 11,
    "start_time": "2023-04-11T21:51:55.951Z"
   },
   {
    "duration": 10,
    "start_time": "2023-04-11T21:51:55.964Z"
   },
   {
    "duration": 4,
    "start_time": "2023-04-11T21:51:55.975Z"
   },
   {
    "duration": 10,
    "start_time": "2023-04-11T21:51:55.981Z"
   },
   {
    "duration": 7,
    "start_time": "2023-04-11T21:51:55.993Z"
   },
   {
    "duration": 5,
    "start_time": "2023-04-11T21:51:56.012Z"
   },
   {
    "duration": 8,
    "start_time": "2023-04-11T21:51:56.019Z"
   },
   {
    "duration": 5,
    "start_time": "2023-04-11T21:51:56.029Z"
   },
   {
    "duration": 15,
    "start_time": "2023-04-11T21:51:56.036Z"
   },
   {
    "duration": 14,
    "start_time": "2023-04-11T21:51:56.053Z"
   },
   {
    "duration": 11,
    "start_time": "2023-04-11T21:51:56.068Z"
   },
   {
    "duration": 42,
    "start_time": "2023-04-11T21:51:56.080Z"
   },
   {
    "duration": 14,
    "start_time": "2023-04-11T21:51:56.124Z"
   },
   {
    "duration": 13,
    "start_time": "2023-04-11T21:51:56.140Z"
   },
   {
    "duration": 14,
    "start_time": "2023-04-11T21:51:56.155Z"
   },
   {
    "duration": 8,
    "start_time": "2023-04-11T21:51:56.171Z"
   },
   {
    "duration": 26,
    "start_time": "2023-04-11T21:51:56.180Z"
   },
   {
    "duration": 3,
    "start_time": "2023-04-11T21:51:56.208Z"
   },
   {
    "duration": 10,
    "start_time": "2023-04-11T21:51:56.213Z"
   },
   {
    "duration": 8,
    "start_time": "2023-04-11T21:51:56.224Z"
   },
   {
    "duration": 8,
    "start_time": "2023-04-11T21:51:56.233Z"
   },
   {
    "duration": 8,
    "start_time": "2023-04-11T21:51:56.244Z"
   },
   {
    "duration": 3,
    "start_time": "2023-04-11T21:51:56.254Z"
   },
   {
    "duration": 15,
    "start_time": "2023-04-11T21:51:56.258Z"
   },
   {
    "duration": 210,
    "start_time": "2023-04-11T21:51:56.274Z"
   },
   {
    "duration": 0,
    "start_time": "2023-04-11T21:51:56.486Z"
   },
   {
    "duration": 0,
    "start_time": "2023-04-11T21:51:56.487Z"
   },
   {
    "duration": 0,
    "start_time": "2023-04-11T21:51:56.488Z"
   },
   {
    "duration": 0,
    "start_time": "2023-04-11T21:51:56.490Z"
   },
   {
    "duration": 0,
    "start_time": "2023-04-11T21:51:56.491Z"
   },
   {
    "duration": 0,
    "start_time": "2023-04-11T21:51:56.492Z"
   },
   {
    "duration": 0,
    "start_time": "2023-04-11T21:51:56.494Z"
   },
   {
    "duration": 0,
    "start_time": "2023-04-11T21:51:56.495Z"
   },
   {
    "duration": 0,
    "start_time": "2023-04-11T21:51:56.511Z"
   },
   {
    "duration": 0,
    "start_time": "2023-04-11T21:51:56.512Z"
   },
   {
    "duration": 0,
    "start_time": "2023-04-11T21:51:56.514Z"
   },
   {
    "duration": 1,
    "start_time": "2023-04-11T21:51:56.514Z"
   },
   {
    "duration": 0,
    "start_time": "2023-04-11T21:51:56.516Z"
   },
   {
    "duration": 0,
    "start_time": "2023-04-11T21:51:56.517Z"
   },
   {
    "duration": 0,
    "start_time": "2023-04-11T21:51:56.517Z"
   },
   {
    "duration": 0,
    "start_time": "2023-04-11T21:51:56.519Z"
   },
   {
    "duration": 0,
    "start_time": "2023-04-11T21:51:56.520Z"
   },
   {
    "duration": 0,
    "start_time": "2023-04-11T21:51:56.521Z"
   },
   {
    "duration": 0,
    "start_time": "2023-04-11T21:51:56.522Z"
   },
   {
    "duration": 0,
    "start_time": "2023-04-11T21:51:56.523Z"
   },
   {
    "duration": 0,
    "start_time": "2023-04-11T21:51:56.524Z"
   },
   {
    "duration": 2404,
    "start_time": "2023-04-11T21:53:13.149Z"
   },
   {
    "duration": 2535,
    "start_time": "2023-04-11T21:53:15.556Z"
   },
   {
    "duration": 25,
    "start_time": "2023-04-11T21:53:18.093Z"
   },
   {
    "duration": 13,
    "start_time": "2023-04-11T21:53:18.120Z"
   },
   {
    "duration": 36,
    "start_time": "2023-04-11T21:53:18.134Z"
   },
   {
    "duration": 10,
    "start_time": "2023-04-11T21:53:18.172Z"
   },
   {
    "duration": 10,
    "start_time": "2023-04-11T21:53:18.184Z"
   },
   {
    "duration": 19,
    "start_time": "2023-04-11T21:53:18.196Z"
   },
   {
    "duration": 3,
    "start_time": "2023-04-11T21:53:18.217Z"
   },
   {
    "duration": 8,
    "start_time": "2023-04-11T21:53:18.223Z"
   },
   {
    "duration": 5,
    "start_time": "2023-04-11T21:53:18.233Z"
   },
   {
    "duration": 6,
    "start_time": "2023-04-11T21:53:18.240Z"
   },
   {
    "duration": 5,
    "start_time": "2023-04-11T21:53:18.248Z"
   },
   {
    "duration": 4,
    "start_time": "2023-04-11T21:53:18.255Z"
   },
   {
    "duration": 13,
    "start_time": "2023-04-11T21:53:18.261Z"
   },
   {
    "duration": 49,
    "start_time": "2023-04-11T21:53:18.276Z"
   },
   {
    "duration": 7,
    "start_time": "2023-04-11T21:53:18.327Z"
   },
   {
    "duration": 4,
    "start_time": "2023-04-11T21:53:18.336Z"
   },
   {
    "duration": 5,
    "start_time": "2023-04-11T21:53:18.341Z"
   },
   {
    "duration": 7,
    "start_time": "2023-04-11T21:53:18.347Z"
   },
   {
    "duration": 11,
    "start_time": "2023-04-11T21:53:18.356Z"
   },
   {
    "duration": 3,
    "start_time": "2023-04-11T21:53:18.368Z"
   },
   {
    "duration": 52,
    "start_time": "2023-04-11T21:53:18.373Z"
   },
   {
    "duration": 2,
    "start_time": "2023-04-11T21:53:18.427Z"
   },
   {
    "duration": 5,
    "start_time": "2023-04-11T21:53:18.431Z"
   },
   {
    "duration": 7,
    "start_time": "2023-04-11T21:53:18.438Z"
   },
   {
    "duration": 5,
    "start_time": "2023-04-11T21:53:18.446Z"
   },
   {
    "duration": 4,
    "start_time": "2023-04-11T21:53:18.454Z"
   },
   {
    "duration": 3,
    "start_time": "2023-04-11T21:53:18.459Z"
   },
   {
    "duration": 51,
    "start_time": "2023-04-11T21:53:18.464Z"
   },
   {
    "duration": 11,
    "start_time": "2023-04-11T21:53:18.516Z"
   },
   {
    "duration": 17,
    "start_time": "2023-04-11T21:53:18.528Z"
   },
   {
    "duration": 12,
    "start_time": "2023-04-11T21:53:18.547Z"
   },
   {
    "duration": 23,
    "start_time": "2023-04-11T21:53:18.560Z"
   },
   {
    "duration": 5,
    "start_time": "2023-04-11T21:53:18.584Z"
   },
   {
    "duration": 6,
    "start_time": "2023-04-11T21:53:18.591Z"
   },
   {
    "duration": 7,
    "start_time": "2023-04-11T21:53:18.598Z"
   },
   {
    "duration": 15,
    "start_time": "2023-04-11T21:53:18.606Z"
   },
   {
    "duration": 12,
    "start_time": "2023-04-11T21:53:18.623Z"
   },
   {
    "duration": 4,
    "start_time": "2023-04-11T21:53:18.636Z"
   },
   {
    "duration": 5,
    "start_time": "2023-04-11T21:53:18.641Z"
   },
   {
    "duration": 9,
    "start_time": "2023-04-11T21:53:18.647Z"
   },
   {
    "duration": 4,
    "start_time": "2023-04-11T21:53:18.657Z"
   },
   {
    "duration": 3,
    "start_time": "2023-04-11T21:53:18.663Z"
   },
   {
    "duration": 4,
    "start_time": "2023-04-11T21:53:18.668Z"
   },
   {
    "duration": 6,
    "start_time": "2023-04-11T21:53:18.674Z"
   },
   {
    "duration": 5,
    "start_time": "2023-04-11T21:53:18.681Z"
   },
   {
    "duration": 4,
    "start_time": "2023-04-11T21:53:18.688Z"
   },
   {
    "duration": 19,
    "start_time": "2023-04-11T21:53:18.693Z"
   },
   {
    "duration": 7,
    "start_time": "2023-04-11T21:53:18.713Z"
   },
   {
    "duration": 11,
    "start_time": "2023-04-11T21:53:18.722Z"
   },
   {
    "duration": 226,
    "start_time": "2023-04-11T21:53:18.734Z"
   },
   {
    "duration": 93255,
    "start_time": "2023-04-11T21:53:50.777Z"
   },
   {
    "duration": 5,
    "start_time": "2023-04-11T21:59:10.267Z"
   },
   {
    "duration": 6718,
    "start_time": "2023-04-11T21:59:18.047Z"
   },
   {
    "duration": 4,
    "start_time": "2023-04-11T21:59:28.083Z"
   },
   {
    "duration": 4,
    "start_time": "2023-04-11T22:00:19.253Z"
   },
   {
    "duration": 25,
    "start_time": "2023-04-11T22:00:27.671Z"
   },
   {
    "duration": 4,
    "start_time": "2023-04-11T22:01:09.696Z"
   },
   {
    "duration": 624,
    "start_time": "2023-04-11T22:01:12.969Z"
   },
   {
    "duration": 17996,
    "start_time": "2023-04-12T09:22:09.529Z"
   },
   {
    "duration": 3336,
    "start_time": "2023-04-12T09:22:27.528Z"
   },
   {
    "duration": 83,
    "start_time": "2023-04-12T09:22:30.866Z"
   },
   {
    "duration": 13,
    "start_time": "2023-04-12T09:22:30.952Z"
   },
   {
    "duration": 57,
    "start_time": "2023-04-12T09:22:30.968Z"
   },
   {
    "duration": 44,
    "start_time": "2023-04-12T09:22:31.027Z"
   },
   {
    "duration": 42,
    "start_time": "2023-04-12T09:22:31.073Z"
   },
   {
    "duration": 29,
    "start_time": "2023-04-12T09:22:31.116Z"
   },
   {
    "duration": 19,
    "start_time": "2023-04-12T09:22:31.147Z"
   },
   {
    "duration": 46,
    "start_time": "2023-04-12T09:22:31.169Z"
   },
   {
    "duration": 43,
    "start_time": "2023-04-12T09:22:31.217Z"
   },
   {
    "duration": 93,
    "start_time": "2023-04-12T09:22:31.261Z"
   },
   {
    "duration": 36,
    "start_time": "2023-04-12T09:22:31.356Z"
   },
   {
    "duration": 66,
    "start_time": "2023-04-12T09:22:31.394Z"
   },
   {
    "duration": 50,
    "start_time": "2023-04-12T09:22:31.463Z"
   },
   {
    "duration": 48,
    "start_time": "2023-04-12T09:22:31.516Z"
   },
   {
    "duration": 45,
    "start_time": "2023-04-12T09:22:31.567Z"
   },
   {
    "duration": 43,
    "start_time": "2023-04-12T09:22:31.614Z"
   },
   {
    "duration": 42,
    "start_time": "2023-04-12T09:22:31.659Z"
   },
   {
    "duration": 41,
    "start_time": "2023-04-12T09:22:31.703Z"
   },
   {
    "duration": 32,
    "start_time": "2023-04-12T09:22:31.746Z"
   },
   {
    "duration": 20,
    "start_time": "2023-04-12T09:22:31.780Z"
   },
   {
    "duration": 48,
    "start_time": "2023-04-12T09:22:31.803Z"
   },
   {
    "duration": 43,
    "start_time": "2023-04-12T09:22:31.853Z"
   },
   {
    "duration": 43,
    "start_time": "2023-04-12T09:22:31.898Z"
   },
   {
    "duration": 42,
    "start_time": "2023-04-12T09:22:31.943Z"
   },
   {
    "duration": 45,
    "start_time": "2023-04-12T09:22:31.987Z"
   },
   {
    "duration": 38,
    "start_time": "2023-04-12T09:22:32.036Z"
   },
   {
    "duration": 25,
    "start_time": "2023-04-12T09:22:32.076Z"
   },
   {
    "duration": 47,
    "start_time": "2023-04-12T09:22:32.103Z"
   },
   {
    "duration": 24,
    "start_time": "2023-04-12T09:22:32.151Z"
   },
   {
    "duration": 38,
    "start_time": "2023-04-12T09:22:32.178Z"
   },
   {
    "duration": 14,
    "start_time": "2023-04-12T09:22:32.218Z"
   },
   {
    "duration": 20,
    "start_time": "2023-04-12T09:22:32.234Z"
   },
   {
    "duration": 26,
    "start_time": "2023-04-12T09:22:32.256Z"
   },
   {
    "duration": 14,
    "start_time": "2023-04-12T09:22:32.284Z"
   },
   {
    "duration": 14,
    "start_time": "2023-04-12T09:22:32.300Z"
   },
   {
    "duration": 9,
    "start_time": "2023-04-12T09:22:32.316Z"
   },
   {
    "duration": 23,
    "start_time": "2023-04-12T09:22:32.327Z"
   },
   {
    "duration": 21,
    "start_time": "2023-04-12T09:22:32.352Z"
   },
   {
    "duration": 10,
    "start_time": "2023-04-12T09:22:32.376Z"
   },
   {
    "duration": 9,
    "start_time": "2023-04-12T09:22:32.388Z"
   },
   {
    "duration": 12,
    "start_time": "2023-04-12T09:22:32.399Z"
   },
   {
    "duration": 13,
    "start_time": "2023-04-12T09:22:32.413Z"
   },
   {
    "duration": 11,
    "start_time": "2023-04-12T09:22:32.428Z"
   },
   {
    "duration": 12,
    "start_time": "2023-04-12T09:22:32.441Z"
   },
   {
    "duration": 23,
    "start_time": "2023-04-12T09:22:32.455Z"
   },
   {
    "duration": 7,
    "start_time": "2023-04-12T09:22:32.480Z"
   },
   {
    "duration": 10,
    "start_time": "2023-04-12T09:22:32.489Z"
   },
   {
    "duration": 23,
    "start_time": "2023-04-12T09:22:32.501Z"
   },
   {
    "duration": 10,
    "start_time": "2023-04-12T09:22:32.526Z"
   },
   {
    "duration": 74390,
    "start_time": "2023-04-12T09:22:32.538Z"
   },
   {
    "duration": 4,
    "start_time": "2023-04-12T09:23:46.930Z"
   },
   {
    "duration": 5362,
    "start_time": "2023-04-12T09:23:46.936Z"
   },
   {
    "duration": 4,
    "start_time": "2023-04-12T09:23:52.300Z"
   },
   {
    "duration": 12,
    "start_time": "2023-04-12T09:23:52.306Z"
   },
   {
    "duration": 579,
    "start_time": "2023-04-12T09:23:52.320Z"
   },
   {
    "duration": 517,
    "start_time": "2023-04-12T09:23:52.901Z"
   },
   {
    "duration": 4,
    "start_time": "2023-04-12T09:28:24.376Z"
   },
   {
    "duration": 5,
    "start_time": "2023-04-12T09:30:40.601Z"
   },
   {
    "duration": 215,
    "start_time": "2023-04-12T09:49:33.111Z"
   },
   {
    "duration": 5,
    "start_time": "2023-04-12T09:49:47.316Z"
   },
   {
    "duration": 33,
    "start_time": "2023-04-12T09:50:00.624Z"
   },
   {
    "duration": 5,
    "start_time": "2023-04-12T09:50:25.932Z"
   },
   {
    "duration": 20,
    "start_time": "2023-04-12T09:50:26.849Z"
   },
   {
    "duration": 5,
    "start_time": "2023-04-12T09:51:37.929Z"
   },
   {
    "duration": 24,
    "start_time": "2023-04-12T09:51:38.812Z"
   },
   {
    "duration": 5,
    "start_time": "2023-04-12T09:51:49.873Z"
   },
   {
    "duration": 14,
    "start_time": "2023-04-12T09:51:50.344Z"
   },
   {
    "duration": 5,
    "start_time": "2023-04-12T09:53:10.283Z"
   },
   {
    "duration": 12,
    "start_time": "2023-04-12T09:53:11.778Z"
   },
   {
    "duration": 2349,
    "start_time": "2023-04-12T09:57:39.309Z"
   },
   {
    "duration": 2738,
    "start_time": "2023-04-12T09:57:41.660Z"
   },
   {
    "duration": 27,
    "start_time": "2023-04-12T09:57:44.400Z"
   },
   {
    "duration": 11,
    "start_time": "2023-04-12T09:57:44.429Z"
   },
   {
    "duration": 24,
    "start_time": "2023-04-12T09:57:44.441Z"
   },
   {
    "duration": 10,
    "start_time": "2023-04-12T09:57:44.467Z"
   },
   {
    "duration": 7,
    "start_time": "2023-04-12T09:57:44.479Z"
   },
   {
    "duration": 6,
    "start_time": "2023-04-12T09:57:44.489Z"
   },
   {
    "duration": 4,
    "start_time": "2023-04-12T09:57:44.496Z"
   },
   {
    "duration": 5,
    "start_time": "2023-04-12T09:57:44.502Z"
   },
   {
    "duration": 10,
    "start_time": "2023-04-12T09:57:44.508Z"
   },
   {
    "duration": 23,
    "start_time": "2023-04-12T09:57:44.550Z"
   },
   {
    "duration": 19,
    "start_time": "2023-04-12T09:57:44.575Z"
   },
   {
    "duration": 16,
    "start_time": "2023-04-12T09:57:44.597Z"
   },
   {
    "duration": 17,
    "start_time": "2023-04-12T09:57:44.615Z"
   },
   {
    "duration": 17,
    "start_time": "2023-04-12T09:57:44.634Z"
   },
   {
    "duration": 22,
    "start_time": "2023-04-12T09:57:44.652Z"
   },
   {
    "duration": 8,
    "start_time": "2023-04-12T09:57:44.676Z"
   },
   {
    "duration": 9,
    "start_time": "2023-04-12T09:57:44.686Z"
   },
   {
    "duration": 9,
    "start_time": "2023-04-12T09:57:44.697Z"
   },
   {
    "duration": 16,
    "start_time": "2023-04-12T09:57:44.708Z"
   },
   {
    "duration": 19,
    "start_time": "2023-04-12T09:57:44.726Z"
   },
   {
    "duration": 21,
    "start_time": "2023-04-12T09:57:44.746Z"
   },
   {
    "duration": 7,
    "start_time": "2023-04-12T09:57:44.770Z"
   },
   {
    "duration": 7,
    "start_time": "2023-04-12T09:57:44.779Z"
   },
   {
    "duration": 6,
    "start_time": "2023-04-12T09:57:44.787Z"
   },
   {
    "duration": 16,
    "start_time": "2023-04-12T09:57:44.794Z"
   },
   {
    "duration": 5,
    "start_time": "2023-04-12T09:57:44.812Z"
   },
   {
    "duration": 8,
    "start_time": "2023-04-12T09:57:44.819Z"
   },
   {
    "duration": 18,
    "start_time": "2023-04-12T09:57:44.828Z"
   },
   {
    "duration": 10,
    "start_time": "2023-04-12T09:57:44.847Z"
   },
   {
    "duration": 15,
    "start_time": "2023-04-12T09:57:44.859Z"
   },
   {
    "duration": 13,
    "start_time": "2023-04-12T09:57:44.875Z"
   },
   {
    "duration": 7,
    "start_time": "2023-04-12T09:57:44.889Z"
   },
   {
    "duration": 11,
    "start_time": "2023-04-12T09:57:44.897Z"
   },
   {
    "duration": 4,
    "start_time": "2023-04-12T09:57:44.910Z"
   },
   {
    "duration": 6,
    "start_time": "2023-04-12T09:57:44.915Z"
   },
   {
    "duration": 6,
    "start_time": "2023-04-12T09:57:44.922Z"
   },
   {
    "duration": 5,
    "start_time": "2023-04-12T09:57:44.930Z"
   },
   {
    "duration": 7,
    "start_time": "2023-04-12T09:57:44.936Z"
   },
   {
    "duration": 2,
    "start_time": "2023-04-12T09:57:44.948Z"
   },
   {
    "duration": 6,
    "start_time": "2023-04-12T09:57:44.951Z"
   },
   {
    "duration": 5,
    "start_time": "2023-04-12T09:57:44.958Z"
   },
   {
    "duration": 5,
    "start_time": "2023-04-12T09:57:44.964Z"
   },
   {
    "duration": 7,
    "start_time": "2023-04-12T09:57:44.970Z"
   },
   {
    "duration": 7,
    "start_time": "2023-04-12T09:57:44.978Z"
   },
   {
    "duration": 8,
    "start_time": "2023-04-12T09:57:44.987Z"
   },
   {
    "duration": 5,
    "start_time": "2023-04-12T09:57:44.996Z"
   },
   {
    "duration": 31,
    "start_time": "2023-04-12T09:57:45.002Z"
   },
   {
    "duration": 36,
    "start_time": "2023-04-12T09:57:45.035Z"
   },
   {
    "duration": 34,
    "start_time": "2023-04-12T09:57:45.072Z"
   },
   {
    "duration": 72826,
    "start_time": "2023-04-12T09:57:45.108Z"
   },
   {
    "duration": 4,
    "start_time": "2023-04-12T09:58:57.936Z"
   },
   {
    "duration": 5183,
    "start_time": "2023-04-12T09:58:57.941Z"
   },
   {
    "duration": 4,
    "start_time": "2023-04-12T09:59:03.125Z"
   },
   {
    "duration": 13,
    "start_time": "2023-04-12T09:59:03.131Z"
   },
   {
    "duration": 598,
    "start_time": "2023-04-12T09:59:03.149Z"
   },
   {
    "duration": 6,
    "start_time": "2023-04-12T09:59:03.749Z"
   },
   {
    "duration": 10,
    "start_time": "2023-04-12T09:59:03.757Z"
   },
   {
    "duration": 2646,
    "start_time": "2023-04-12T10:06:08.006Z"
   },
   {
    "duration": 2802,
    "start_time": "2023-04-12T10:06:10.655Z"
   },
   {
    "duration": 28,
    "start_time": "2023-04-12T10:06:13.458Z"
   },
   {
    "duration": 11,
    "start_time": "2023-04-12T10:06:13.488Z"
   },
   {
    "duration": 40,
    "start_time": "2023-04-12T10:06:13.501Z"
   },
   {
    "duration": 11,
    "start_time": "2023-04-12T10:06:13.543Z"
   },
   {
    "duration": 21,
    "start_time": "2023-04-12T10:06:13.556Z"
   },
   {
    "duration": 13,
    "start_time": "2023-04-12T10:06:13.578Z"
   },
   {
    "duration": 23,
    "start_time": "2023-04-12T10:06:13.593Z"
   },
   {
    "duration": 33,
    "start_time": "2023-04-12T10:06:13.617Z"
   },
   {
    "duration": 21,
    "start_time": "2023-04-12T10:06:13.652Z"
   },
   {
    "duration": 24,
    "start_time": "2023-04-12T10:06:13.675Z"
   },
   {
    "duration": 20,
    "start_time": "2023-04-12T10:06:13.701Z"
   },
   {
    "duration": 17,
    "start_time": "2023-04-12T10:06:13.725Z"
   },
   {
    "duration": 26,
    "start_time": "2023-04-12T10:06:13.743Z"
   },
   {
    "duration": 26,
    "start_time": "2023-04-12T10:06:13.771Z"
   },
   {
    "duration": 20,
    "start_time": "2023-04-12T10:06:13.798Z"
   },
   {
    "duration": 12,
    "start_time": "2023-04-12T10:06:13.819Z"
   },
   {
    "duration": 16,
    "start_time": "2023-04-12T10:06:13.833Z"
   },
   {
    "duration": 24,
    "start_time": "2023-04-12T10:06:13.851Z"
   },
   {
    "duration": 25,
    "start_time": "2023-04-12T10:06:13.876Z"
   },
   {
    "duration": 12,
    "start_time": "2023-04-12T10:06:13.903Z"
   },
   {
    "duration": 25,
    "start_time": "2023-04-12T10:06:13.917Z"
   },
   {
    "duration": 7,
    "start_time": "2023-04-12T10:06:13.944Z"
   },
   {
    "duration": 17,
    "start_time": "2023-04-12T10:06:13.952Z"
   },
   {
    "duration": 30,
    "start_time": "2023-04-12T10:06:13.971Z"
   },
   {
    "duration": 211,
    "start_time": "2023-04-12T10:06:14.003Z"
   },
   {
    "duration": 0,
    "start_time": "2023-04-12T10:06:14.216Z"
   },
   {
    "duration": 0,
    "start_time": "2023-04-12T10:06:14.218Z"
   },
   {
    "duration": 0,
    "start_time": "2023-04-12T10:06:14.219Z"
   },
   {
    "duration": 0,
    "start_time": "2023-04-12T10:06:14.220Z"
   },
   {
    "duration": 0,
    "start_time": "2023-04-12T10:06:14.221Z"
   },
   {
    "duration": 0,
    "start_time": "2023-04-12T10:06:14.222Z"
   },
   {
    "duration": 0,
    "start_time": "2023-04-12T10:06:14.223Z"
   },
   {
    "duration": 0,
    "start_time": "2023-04-12T10:06:14.224Z"
   },
   {
    "duration": 0,
    "start_time": "2023-04-12T10:06:14.225Z"
   },
   {
    "duration": 0,
    "start_time": "2023-04-12T10:06:14.226Z"
   },
   {
    "duration": 0,
    "start_time": "2023-04-12T10:06:14.227Z"
   },
   {
    "duration": 0,
    "start_time": "2023-04-12T10:06:14.228Z"
   },
   {
    "duration": 0,
    "start_time": "2023-04-12T10:06:14.228Z"
   },
   {
    "duration": 0,
    "start_time": "2023-04-12T10:06:14.229Z"
   },
   {
    "duration": 0,
    "start_time": "2023-04-12T10:06:14.229Z"
   },
   {
    "duration": 0,
    "start_time": "2023-04-12T10:06:14.230Z"
   },
   {
    "duration": 0,
    "start_time": "2023-04-12T10:06:14.230Z"
   },
   {
    "duration": 0,
    "start_time": "2023-04-12T10:06:14.248Z"
   },
   {
    "duration": 0,
    "start_time": "2023-04-12T10:06:14.249Z"
   },
   {
    "duration": 0,
    "start_time": "2023-04-12T10:06:14.250Z"
   },
   {
    "duration": 0,
    "start_time": "2023-04-12T10:06:14.252Z"
   },
   {
    "duration": 0,
    "start_time": "2023-04-12T10:06:14.253Z"
   },
   {
    "duration": 0,
    "start_time": "2023-04-12T10:06:14.253Z"
   },
   {
    "duration": 0,
    "start_time": "2023-04-12T10:06:14.255Z"
   },
   {
    "duration": 0,
    "start_time": "2023-04-12T10:06:14.256Z"
   },
   {
    "duration": 0,
    "start_time": "2023-04-12T10:06:14.257Z"
   },
   {
    "duration": 0,
    "start_time": "2023-04-12T10:06:14.258Z"
   },
   {
    "duration": 0,
    "start_time": "2023-04-12T10:06:14.258Z"
   },
   {
    "duration": 0,
    "start_time": "2023-04-12T10:06:14.260Z"
   },
   {
    "duration": 0,
    "start_time": "2023-04-12T10:06:14.260Z"
   },
   {
    "duration": 0,
    "start_time": "2023-04-12T10:06:14.262Z"
   },
   {
    "duration": 0,
    "start_time": "2023-04-12T10:06:14.263Z"
   },
   {
    "duration": 0,
    "start_time": "2023-04-12T10:06:14.264Z"
   },
   {
    "duration": 0,
    "start_time": "2023-04-12T10:06:14.266Z"
   },
   {
    "duration": 0,
    "start_time": "2023-04-12T10:06:14.267Z"
   },
   {
    "duration": 0,
    "start_time": "2023-04-12T10:06:14.268Z"
   },
   {
    "duration": 4,
    "start_time": "2023-04-12T10:06:39.884Z"
   },
   {
    "duration": 4,
    "start_time": "2023-04-12T10:07:00.384Z"
   },
   {
    "duration": 187,
    "start_time": "2023-04-12T10:07:13.947Z"
   },
   {
    "duration": 179,
    "start_time": "2023-04-12T10:07:19.209Z"
   },
   {
    "duration": 3,
    "start_time": "2023-04-12T10:07:24.210Z"
   },
   {
    "duration": 15,
    "start_time": "2023-04-12T10:07:58.480Z"
   },
   {
    "duration": 12,
    "start_time": "2023-04-12T10:08:14.135Z"
   },
   {
    "duration": 15,
    "start_time": "2023-04-12T10:08:17.629Z"
   },
   {
    "duration": 3,
    "start_time": "2023-04-12T10:08:38.115Z"
   },
   {
    "duration": 3,
    "start_time": "2023-04-12T10:08:45.553Z"
   },
   {
    "duration": 3,
    "start_time": "2023-04-12T10:08:45.919Z"
   },
   {
    "duration": 2,
    "start_time": "2023-04-12T10:08:46.313Z"
   },
   {
    "duration": 3,
    "start_time": "2023-04-12T10:08:46.640Z"
   },
   {
    "duration": 3,
    "start_time": "2023-04-12T10:08:47.013Z"
   },
   {
    "duration": 2,
    "start_time": "2023-04-12T10:08:47.404Z"
   },
   {
    "duration": 2,
    "start_time": "2023-04-12T10:08:47.717Z"
   },
   {
    "duration": 2,
    "start_time": "2023-04-12T10:08:48.018Z"
   },
   {
    "duration": 2,
    "start_time": "2023-04-12T10:08:48.156Z"
   },
   {
    "duration": 2,
    "start_time": "2023-04-12T10:08:48.347Z"
   },
   {
    "duration": 2,
    "start_time": "2023-04-12T10:08:48.756Z"
   },
   {
    "duration": 3,
    "start_time": "2023-04-12T10:08:49.478Z"
   },
   {
    "duration": 2,
    "start_time": "2023-04-12T10:08:49.828Z"
   },
   {
    "duration": 2,
    "start_time": "2023-04-12T10:08:50.517Z"
   },
   {
    "duration": 2,
    "start_time": "2023-04-12T10:08:51.827Z"
   },
   {
    "duration": 4,
    "start_time": "2023-04-12T10:08:54.836Z"
   },
   {
    "duration": 5,
    "start_time": "2023-04-12T10:08:58.415Z"
   },
   {
    "duration": 10,
    "start_time": "2023-04-12T10:09:27.240Z"
   },
   {
    "duration": 73862,
    "start_time": "2023-04-12T10:09:38.637Z"
   },
   {
    "duration": 5,
    "start_time": "2023-04-12T10:10:52.500Z"
   },
   {
    "duration": 18,
    "start_time": "2023-04-12T10:10:56.719Z"
   },
   {
    "duration": 20,
    "start_time": "2023-04-12T10:11:02.981Z"
   },
   {
    "duration": 4,
    "start_time": "2023-04-12T10:11:19.345Z"
   },
   {
    "duration": 5174,
    "start_time": "2023-04-12T10:11:20.064Z"
   },
   {
    "duration": 4,
    "start_time": "2023-04-12T10:11:37.956Z"
   },
   {
    "duration": 6,
    "start_time": "2023-04-12T10:11:46.317Z"
   },
   {
    "duration": 538,
    "start_time": "2023-04-12T10:11:58.978Z"
   },
   {
    "duration": 5,
    "start_time": "2023-04-12T10:12:18.941Z"
   },
   {
    "duration": 6,
    "start_time": "2023-04-12T10:12:19.530Z"
   },
   {
    "duration": 2546,
    "start_time": "2023-04-12T10:14:22.535Z"
   },
   {
    "duration": 3293,
    "start_time": "2023-04-12T10:14:25.083Z"
   },
   {
    "duration": 28,
    "start_time": "2023-04-12T10:14:28.377Z"
   },
   {
    "duration": 11,
    "start_time": "2023-04-12T10:14:28.407Z"
   },
   {
    "duration": 24,
    "start_time": "2023-04-12T10:14:28.420Z"
   },
   {
    "duration": 10,
    "start_time": "2023-04-12T10:14:28.449Z"
   },
   {
    "duration": 14,
    "start_time": "2023-04-12T10:14:28.461Z"
   },
   {
    "duration": 9,
    "start_time": "2023-04-12T10:14:28.477Z"
   },
   {
    "duration": 9,
    "start_time": "2023-04-12T10:14:28.487Z"
   },
   {
    "duration": 13,
    "start_time": "2023-04-12T10:14:28.499Z"
   },
   {
    "duration": 17,
    "start_time": "2023-04-12T10:14:28.514Z"
   },
   {
    "duration": 12,
    "start_time": "2023-04-12T10:14:28.532Z"
   },
   {
    "duration": 10,
    "start_time": "2023-04-12T10:14:28.545Z"
   },
   {
    "duration": 6,
    "start_time": "2023-04-12T10:14:28.557Z"
   },
   {
    "duration": 24,
    "start_time": "2023-04-12T10:14:28.565Z"
   },
   {
    "duration": 18,
    "start_time": "2023-04-12T10:14:28.590Z"
   },
   {
    "duration": 9,
    "start_time": "2023-04-12T10:14:28.609Z"
   },
   {
    "duration": 7,
    "start_time": "2023-04-12T10:14:28.620Z"
   },
   {
    "duration": 6,
    "start_time": "2023-04-12T10:14:28.628Z"
   },
   {
    "duration": 6,
    "start_time": "2023-04-12T10:14:28.636Z"
   },
   {
    "duration": 16,
    "start_time": "2023-04-12T10:14:28.644Z"
   },
   {
    "duration": 4,
    "start_time": "2023-04-12T10:14:28.662Z"
   },
   {
    "duration": 18,
    "start_time": "2023-04-12T10:14:28.667Z"
   },
   {
    "duration": 16,
    "start_time": "2023-04-12T10:14:28.687Z"
   },
   {
    "duration": 8,
    "start_time": "2023-04-12T10:14:28.704Z"
   },
   {
    "duration": 9,
    "start_time": "2023-04-12T10:14:28.713Z"
   },
   {
    "duration": 13,
    "start_time": "2023-04-12T10:14:28.723Z"
   },
   {
    "duration": 4,
    "start_time": "2023-04-12T10:14:28.739Z"
   },
   {
    "duration": 4,
    "start_time": "2023-04-12T10:14:28.745Z"
   },
   {
    "duration": 13,
    "start_time": "2023-04-12T10:14:28.751Z"
   },
   {
    "duration": 10,
    "start_time": "2023-04-12T10:14:28.765Z"
   },
   {
    "duration": 17,
    "start_time": "2023-04-12T10:14:28.777Z"
   },
   {
    "duration": 11,
    "start_time": "2023-04-12T10:14:28.795Z"
   },
   {
    "duration": 4,
    "start_time": "2023-04-12T10:14:28.808Z"
   },
   {
    "duration": 7,
    "start_time": "2023-04-12T10:14:28.813Z"
   },
   {
    "duration": 5,
    "start_time": "2023-04-12T10:14:28.821Z"
   },
   {
    "duration": 18,
    "start_time": "2023-04-12T10:14:28.827Z"
   },
   {
    "duration": 22,
    "start_time": "2023-04-12T10:14:28.846Z"
   },
   {
    "duration": 5,
    "start_time": "2023-04-12T10:14:28.869Z"
   },
   {
    "duration": 6,
    "start_time": "2023-04-12T10:14:28.875Z"
   },
   {
    "duration": 8,
    "start_time": "2023-04-12T10:14:28.882Z"
   },
   {
    "duration": 15,
    "start_time": "2023-04-12T10:14:28.891Z"
   },
   {
    "duration": 24,
    "start_time": "2023-04-12T10:14:28.908Z"
   },
   {
    "duration": 4,
    "start_time": "2023-04-12T10:14:28.933Z"
   },
   {
    "duration": 29,
    "start_time": "2023-04-12T10:14:28.939Z"
   },
   {
    "duration": 8,
    "start_time": "2023-04-12T10:14:28.969Z"
   },
   {
    "duration": 10,
    "start_time": "2023-04-12T10:14:28.978Z"
   },
   {
    "duration": 5,
    "start_time": "2023-04-12T10:14:28.989Z"
   },
   {
    "duration": 9,
    "start_time": "2023-04-12T10:14:28.995Z"
   },
   {
    "duration": 12,
    "start_time": "2023-04-12T10:14:29.005Z"
   },
   {
    "duration": 9,
    "start_time": "2023-04-12T10:14:29.018Z"
   },
   {
    "duration": 72824,
    "start_time": "2023-04-12T10:14:29.028Z"
   },
   {
    "duration": 6,
    "start_time": "2023-04-12T10:15:41.854Z"
   },
   {
    "duration": 5315,
    "start_time": "2023-04-12T10:15:41.861Z"
   },
   {
    "duration": 4,
    "start_time": "2023-04-12T10:15:47.178Z"
   },
   {
    "duration": 13,
    "start_time": "2023-04-12T10:15:47.184Z"
   },
   {
    "duration": 582,
    "start_time": "2023-04-12T10:15:47.199Z"
   },
   {
    "duration": 5,
    "start_time": "2023-04-12T10:15:47.782Z"
   },
   {
    "duration": 6,
    "start_time": "2023-04-12T10:15:47.789Z"
   },
   {
    "duration": 521367,
    "start_time": "2023-04-12T10:15:47.797Z"
   },
   {
    "duration": 37694,
    "start_time": "2023-04-12T10:24:29.167Z"
   },
   {
    "duration": 5,
    "start_time": "2023-04-12T10:25:06.863Z"
   },
   {
    "duration": 687,
    "start_time": "2023-04-12T10:25:06.870Z"
   },
   {
    "duration": 2567,
    "start_time": "2023-04-12T10:35:08.501Z"
   },
   {
    "duration": 2636,
    "start_time": "2023-04-12T10:35:11.071Z"
   },
   {
    "duration": 28,
    "start_time": "2023-04-12T10:35:13.708Z"
   },
   {
    "duration": 11,
    "start_time": "2023-04-12T10:35:13.738Z"
   },
   {
    "duration": 25,
    "start_time": "2023-04-12T10:35:13.750Z"
   },
   {
    "duration": 9,
    "start_time": "2023-04-12T10:35:13.777Z"
   },
   {
    "duration": 10,
    "start_time": "2023-04-12T10:35:13.787Z"
   },
   {
    "duration": 7,
    "start_time": "2023-04-12T10:35:13.798Z"
   },
   {
    "duration": 3,
    "start_time": "2023-04-12T10:35:13.807Z"
   },
   {
    "duration": 9,
    "start_time": "2023-04-12T10:35:13.812Z"
   },
   {
    "duration": 27,
    "start_time": "2023-04-12T10:35:13.822Z"
   },
   {
    "duration": 5,
    "start_time": "2023-04-12T10:35:13.850Z"
   },
   {
    "duration": 6,
    "start_time": "2023-04-12T10:35:13.856Z"
   },
   {
    "duration": 7,
    "start_time": "2023-04-12T10:35:13.863Z"
   },
   {
    "duration": 14,
    "start_time": "2023-04-12T10:35:13.871Z"
   },
   {
    "duration": 12,
    "start_time": "2023-04-12T10:35:13.887Z"
   },
   {
    "duration": 6,
    "start_time": "2023-04-12T10:35:13.900Z"
   },
   {
    "duration": 6,
    "start_time": "2023-04-12T10:35:13.907Z"
   },
   {
    "duration": 35,
    "start_time": "2023-04-12T10:35:13.914Z"
   },
   {
    "duration": 6,
    "start_time": "2023-04-12T10:35:13.950Z"
   },
   {
    "duration": 18,
    "start_time": "2023-04-12T10:35:13.957Z"
   },
   {
    "duration": 8,
    "start_time": "2023-04-12T10:35:13.977Z"
   },
   {
    "duration": 15,
    "start_time": "2023-04-12T10:35:13.986Z"
   },
   {
    "duration": 6,
    "start_time": "2023-04-12T10:35:14.003Z"
   },
   {
    "duration": 7,
    "start_time": "2023-04-12T10:35:14.011Z"
   },
   {
    "duration": 23,
    "start_time": "2023-04-12T10:35:14.020Z"
   },
   {
    "duration": 14,
    "start_time": "2023-04-12T10:35:14.044Z"
   },
   {
    "duration": 4,
    "start_time": "2023-04-12T10:35:14.063Z"
   },
   {
    "duration": 6,
    "start_time": "2023-04-12T10:35:14.069Z"
   },
   {
    "duration": 15,
    "start_time": "2023-04-12T10:35:14.077Z"
   },
   {
    "duration": 10,
    "start_time": "2023-04-12T10:35:14.094Z"
   },
   {
    "duration": 35,
    "start_time": "2023-04-12T10:35:14.105Z"
   },
   {
    "duration": 5,
    "start_time": "2023-04-12T10:35:14.141Z"
   },
   {
    "duration": 7,
    "start_time": "2023-04-12T10:35:14.148Z"
   },
   {
    "duration": 12,
    "start_time": "2023-04-12T10:35:14.156Z"
   },
   {
    "duration": 33,
    "start_time": "2023-04-12T10:35:14.170Z"
   },
   {
    "duration": 52,
    "start_time": "2023-04-12T10:35:14.204Z"
   },
   {
    "duration": 10,
    "start_time": "2023-04-12T10:35:14.258Z"
   },
   {
    "duration": 11,
    "start_time": "2023-04-12T10:35:14.270Z"
   },
   {
    "duration": 7,
    "start_time": "2023-04-12T10:35:14.283Z"
   },
   {
    "duration": 14,
    "start_time": "2023-04-12T10:35:14.292Z"
   },
   {
    "duration": 6,
    "start_time": "2023-04-12T10:35:14.308Z"
   },
   {
    "duration": 8,
    "start_time": "2023-04-12T10:35:14.316Z"
   },
   {
    "duration": 8,
    "start_time": "2023-04-12T10:35:14.325Z"
   },
   {
    "duration": 10,
    "start_time": "2023-04-12T10:35:14.334Z"
   },
   {
    "duration": 13,
    "start_time": "2023-04-12T10:35:14.345Z"
   },
   {
    "duration": 4,
    "start_time": "2023-04-12T10:35:14.359Z"
   },
   {
    "duration": 10,
    "start_time": "2023-04-12T10:35:14.365Z"
   },
   {
    "duration": 10,
    "start_time": "2023-04-12T10:35:14.376Z"
   },
   {
    "duration": 11,
    "start_time": "2023-04-12T10:35:14.387Z"
   },
   {
    "duration": 9,
    "start_time": "2023-04-12T10:35:14.399Z"
   },
   {
    "duration": 72843,
    "start_time": "2023-04-12T10:35:14.409Z"
   },
   {
    "duration": 5,
    "start_time": "2023-04-12T10:36:27.254Z"
   },
   {
    "duration": 5214,
    "start_time": "2023-04-12T10:36:27.260Z"
   },
   {
    "duration": 4,
    "start_time": "2023-04-12T10:36:32.476Z"
   },
   {
    "duration": 16,
    "start_time": "2023-04-12T10:36:32.481Z"
   },
   {
    "duration": 571,
    "start_time": "2023-04-12T10:36:32.498Z"
   },
   {
    "duration": 5,
    "start_time": "2023-04-12T10:36:33.071Z"
   },
   {
    "duration": 13,
    "start_time": "2023-04-12T10:36:33.078Z"
   },
   {
    "duration": 522767,
    "start_time": "2023-04-12T10:36:33.093Z"
   },
   {
    "duration": 44997,
    "start_time": "2023-04-12T10:45:15.862Z"
   },
   {
    "duration": 87,
    "start_time": "2023-04-12T10:46:00.862Z"
   },
   {
    "duration": 602,
    "start_time": "2023-04-12T10:46:00.951Z"
   }
  ],
  "kernelspec": {
   "display_name": "Python 3 (ipykernel)",
   "language": "python",
   "name": "python3"
  },
  "language_info": {
   "codemirror_mode": {
    "name": "ipython",
    "version": 3
   },
   "file_extension": ".py",
   "mimetype": "text/x-python",
   "name": "python",
   "nbconvert_exporter": "python",
   "pygments_lexer": "ipython3",
   "version": "3.9.7"
  },
  "toc": {
   "base_numbering": 1,
   "nav_menu": {},
   "number_sections": false,
   "sideBar": true,
   "skip_h1_title": false,
   "title_cell": "Table of Contents",
   "title_sidebar": "Contents",
   "toc_cell": false,
   "toc_position": {},
   "toc_section_display": true,
   "toc_window_display": false
  },
  "varInspector": {
   "cols": {
    "lenName": 16,
    "lenType": 16,
    "lenVar": 40
   },
   "kernels_config": {
    "python": {
     "delete_cmd_postfix": "",
     "delete_cmd_prefix": "del ",
     "library": "var_list.py",
     "varRefreshCmd": "print(var_dic_list())"
    },
    "r": {
     "delete_cmd_postfix": ") ",
     "delete_cmd_prefix": "rm(",
     "library": "var_list.r",
     "varRefreshCmd": "cat(var_dic_list()) "
    }
   },
   "types_to_exclude": [
    "module",
    "function",
    "builtin_function_or_method",
    "instance",
    "_Feature"
   ],
   "window_display": false
  }
 },
 "nbformat": 4,
 "nbformat_minor": 5
}
