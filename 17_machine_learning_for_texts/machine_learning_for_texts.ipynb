{
 "cells": [
  {
   "cell_type": "markdown",
   "id": "f8c26a87",
   "metadata": {},
   "source": [
    "# Проект для «Викишоп»"
   ]
  },
  {
   "cell_type": "markdown",
   "id": "c70ebd86",
   "metadata": {},
   "source": [
    "Интернет-магазин «Викишоп» запускает новый сервис. Теперь пользователи могут редактировать и дополнять описания товаров, как в вики-сообществах. То есть клиенты предлагают свои правки и комментируют изменения других. Магазину нужен инструмент, который будет искать токсичные комментарии и отправлять их на модерацию.\n",
    "\n",
    "Необходимо обучить модель классифицировать комментарии на позитивные и негативные. В нашем распоряжении набор данных с разметкой о токсичности правок.\n",
    "\n",
    "Построить модель со значением метрики качества F1 не меньше 0.75.\n",
    "\n",
    "Инструкция по выполнению проекта\n",
    "\n",
    "* Загрузить и подготовьть данные.\n",
    "* Обучить разные модели.\n",
    "* Сделать выводы.\n",
    "* Для выполнения проекта применять BERT необязательно.\n",
    "\n",
    "Описание данных:\n",
    "\n",
    "Данные находятся в файле toxic_comments.csv. Столбец text в нём содержит текст комментария, а toxic — целевой признак."
   ]
  },
  {
   "cell_type": "markdown",
   "id": "a9823342",
   "metadata": {},
   "source": [
    "## 1. Подготовка"
   ]
  },
  {
   "cell_type": "code",
   "execution_count": null,
   "id": "12fca0cb",
   "metadata": {},
   "outputs": [],
   "source": [
    "!/opt/conda/bin/python -m pip install wordcloud #дополнительные установщики"
   ]
  },
  {
   "cell_type": "code",
   "execution_count": null,
   "id": "e14d3fbd",
   "metadata": {
    "scrolled": true
   },
   "outputs": [],
   "source": [
    "!pip install --upgrade Pillow #дополнительные установщики"
   ]
  },
  {
   "cell_type": "code",
   "execution_count": null,
   "id": "43171d88",
   "metadata": {},
   "outputs": [],
   "source": [
    "!pip install spacy #дополнительные установщики"
   ]
  },
  {
   "cell_type": "code",
   "execution_count": null,
   "id": "f236432e",
   "metadata": {},
   "outputs": [],
   "source": [
    "!pip install transformers"
   ]
  },
  {
   "cell_type": "code",
   "execution_count": null,
   "id": "a30d0012",
   "metadata": {
    "scrolled": true
   },
   "outputs": [],
   "source": [
    "!pip install imblearn"
   ]
  },
  {
   "cell_type": "code",
   "execution_count": null,
   "id": "113c8eec",
   "metadata": {
    "scrolled": false
   },
   "outputs": [],
   "source": [
    "!pip install sklearn"
   ]
  },
  {
   "cell_type": "code",
   "execution_count": null,
   "id": "7eb9df94",
   "metadata": {
    "scrolled": true
   },
   "outputs": [],
   "source": [
    "!pip install --upgrade scikit-learn"
   ]
  },
  {
   "cell_type": "code",
   "execution_count": null,
   "id": "e6c77080",
   "metadata": {
    "scrolled": true
   },
   "outputs": [],
   "source": [
    "!pip install pandarallel"
   ]
  },
  {
   "cell_type": "code",
   "execution_count": null,
   "id": "74c3f6af",
   "metadata": {},
   "outputs": [],
   "source": [
    "!pip install catboost"
   ]
  },
  {
   "cell_type": "code",
   "execution_count": null,
   "id": "40a197c7",
   "metadata": {},
   "outputs": [],
   "source": [
    "import pandas as pd\n",
    "import numpy as np\n",
    "from pandarallel import pandarallel #импорт дополнительных библиотек  \n",
    "pandarallel.initialize(progress_bar = True) #импорт дополнительных библиотек\n",
    "from tqdm import tqdm\n",
    "tqdm.pandas(desc=\"progress\") #импорт дополнительных библиотек\n",
    "import nltk\n",
    "nltk.download('wordnet') #без этих пакетов программа не выполнялась на локалке\n",
    "nltk.download('averaged_perceptron_tagger') #без этих пакетов программа не выполнялась на локалке\n",
    "nltk.download('omw-1.4') #без этих пакетов программа не выполнялась на локалке\n",
    "nltk.download('punkt') #без этих пакетов программа не выполнялась на локалке\n",
    "import re\n",
    "from nltk.stem import WordNetLemmatizer\n",
    "from nltk.tokenize import word_tokenize #импорт дополнительных библиотек\n",
    "from nltk.corpus import stopwords as stopwords\n",
    "from nltk.corpus import wordnet\n",
    "from sklearn.feature_extraction.text import TfidfVectorizer\n",
    "from sklearn.model_selection import train_test_split, cross_val_score, GridSearchCV\n",
    "from sklearn.linear_model import LogisticRegression, SGDClassifier\n",
    "from sklearn.tree import DecisionTreeClassifier\n",
    "from sklearn.ensemble import RandomForestClassifier\n",
    "from catboost import CatBoostClassifier\n",
    "from sklearn.metrics import f1_score, precision_score, recall_score, accuracy_score, roc_auc_score, roc_curve, mean_squared_error, make_scorer\n",
    "from sklearn.utils import shuffle\n",
    "from sklearn.experimental import enable_halving_search_cv\n",
    "from sklearn.model_selection import HalvingGridSearchCV #импорт дополнительных библиотек\n",
    "from imblearn.pipeline import Pipeline as imbPipeline #импорт дополнительных библиотек\n",
    "from imblearn.over_sampling import RandomOverSampler #импорт дополнительных библиотек\n",
    "from imblearn.under_sampling import RandomUnderSampler #импорт дополнительных библиотек\n",
    "import seaborn as sns\n",
    "import matplotlib.pyplot as plt\n",
    "import transformers #без этих пакетов программа не выполнялась на локалке\n",
    "import warnings\n",
    "warnings.filterwarnings('ignore')"
   ]
  },
  {
   "cell_type": "code",
   "execution_count": null,
   "id": "77b2e5e9",
   "metadata": {},
   "outputs": [],
   "source": [
    "try:\n",
    "    toxic_comments = pd.read_csv('/datasets/toxic_comments.csv', index_col=0)\n",
    "except:\n",
    "    toxic_comments = pd.read_csv('C:\\\\Data\\\\toxic_comments.csv', index_col=0)"
   ]
  },
  {
   "cell_type": "code",
   "execution_count": null,
   "id": "7848bc8d",
   "metadata": {},
   "outputs": [],
   "source": [
    "toxic_comments.info()"
   ]
  },
  {
   "cell_type": "code",
   "execution_count": null,
   "id": "b2d44f1d",
   "metadata": {
    "scrolled": true
   },
   "outputs": [],
   "source": [
    "toxic_comments.head(10)"
   ]
  },
  {
   "cell_type": "code",
   "execution_count": null,
   "id": "357c4760",
   "metadata": {},
   "outputs": [],
   "source": [
    "#toxic_comments = toxic_comments.applymap(lambda x: x.lower() if isinstance(x, str) else x)"
   ]
  },
  {
   "cell_type": "code",
   "execution_count": null,
   "id": "7f77f533",
   "metadata": {
    "scrolled": true
   },
   "outputs": [],
   "source": [
    "print(toxic_comments.head(10))"
   ]
  },
  {
   "cell_type": "code",
   "execution_count": null,
   "id": "e04d4362",
   "metadata": {},
   "outputs": [],
   "source": [
    "toxic_comments.sample()"
   ]
  },
  {
   "cell_type": "code",
   "execution_count": null,
   "id": "c374e7a7",
   "metadata": {},
   "outputs": [],
   "source": [
    "toxic_comments.describe()"
   ]
  },
  {
   "cell_type": "code",
   "execution_count": null,
   "id": "a29d0c14",
   "metadata": {
    "scrolled": true
   },
   "outputs": [],
   "source": [
    "toxic_comments.isna().sum()"
   ]
  },
  {
   "cell_type": "code",
   "execution_count": null,
   "id": "09cef595",
   "metadata": {},
   "outputs": [],
   "source": [
    "toxic_comments.duplicated().sum()"
   ]
  },
  {
   "cell_type": "code",
   "execution_count": null,
   "id": "3b58beb9",
   "metadata": {
    "scrolled": false
   },
   "outputs": [],
   "source": [
    "zeroes = toxic_comments['toxic'].value_counts()[0]\n",
    "ones = toxic_comments['toxic'].value_counts()[1]\n",
    "\n",
    "#Посмотрим количество токсичных комментариев\n",
    "print(toxic_comments['toxic'].value_counts())"
   ]
  },
  {
   "cell_type": "code",
   "execution_count": null,
   "id": "1ff1ec02",
   "metadata": {
    "scrolled": false
   },
   "outputs": [],
   "source": [
    "plt.figure(figsize=(15, 6))\n",
    "sns.countplot(x='toxic', data=toxic_comments)\n",
    "plt.show()"
   ]
  },
  {
   "cell_type": "markdown",
   "id": "4fcbef29",
   "metadata": {},
   "source": [
    "Видим большой дисбаланс классов"
   ]
  },
  {
   "cell_type": "code",
   "execution_count": null,
   "id": "76d47e38",
   "metadata": {},
   "outputs": [],
   "source": [
    "corpus = toxic_comments['text'].values\n",
    "print(corpus)"
   ]
  },
  {
   "cell_type": "code",
   "execution_count": null,
   "id": "4cfb69ee",
   "metadata": {},
   "outputs": [],
   "source": [
    "def get_wordnet_pos(word):\n",
    "    tag = nltk.pos_tag([word])[0][1][0].upper()\n",
    "    tag_dict = {\"J\": wordnet.ADJ,\n",
    "                \"N\": wordnet.NOUN,\n",
    "                \"V\": wordnet.VERB,\n",
    "                \"R\": wordnet.ADV}\n",
    "    return tag_dict.get(tag, wordnet.NOUN)"
   ]
  },
  {
   "cell_type": "code",
   "execution_count": null,
   "id": "ef856e15",
   "metadata": {},
   "outputs": [],
   "source": [
    "lemmatizer = WordNetLemmatizer()\n",
    "\n",
    "#def clear_text(text):\n",
    "#    pattern = re.sub(r'[^a-zA-Z]', ' ', text)\n",
    "#    clear = pattern.split()\n",
    "#    lemm = []\n",
    "#    for i in range(len(clear)):\n",
    "#        lemm.append(lemmatizer.lemmatize(clear[i]))\n",
    "#    return \" \".join(lemm)"
   ]
  },
  {
   "cell_type": "code",
   "execution_count": null,
   "id": "8e789bd9",
   "metadata": {
    "scrolled": true
   },
   "outputs": [],
   "source": [
    "#%%time\n",
    "\n",
    "#for i in tqdm(range(len(corpus))):\n",
    "#    corpus[i] = clear_text(corpus[i]) "
   ]
  },
  {
   "cell_type": "code",
   "execution_count": null,
   "id": "c7d90037",
   "metadata": {},
   "outputs": [],
   "source": [
    "def lemmatize_text(text):\n",
    "    lemmatizer = nltk.WordNetLemmatizer()\n",
    "    lemmatized_tokens = []\n",
    "    for token in nltk.word_tokenize(text):\n",
    "        lemmatized_token = lemmatizer.lemmatize(token, get_wordnet_pos(token))\n",
    "        lemmatized_tokens.append(lemmatized_token)\n",
    "    return ' '.join(lemmatized_tokens)"
   ]
  },
  {
   "cell_type": "code",
   "execution_count": null,
   "id": "b743cb73",
   "metadata": {
    "scrolled": true
   },
   "outputs": [],
   "source": [
    "%%time\n",
    "\n",
    "toxic_comments['lemm_text'] = toxic_comments['text'].apply(lambda x: lemmatize_text(x))"
   ]
  },
  {
   "cell_type": "code",
   "execution_count": null,
   "id": "7608b2e2",
   "metadata": {},
   "outputs": [],
   "source": [
    "sentence1 = \"The striped bats are hanging on their feet for best\"\n",
    "sentence2 = \"you should be ashamed of yourself went worked\"\n",
    "df_my = pd.DataFrame([sentence1, sentence2], columns = ['text'])\n",
    "print(df_my)"
   ]
  },
  {
   "cell_type": "code",
   "execution_count": null,
   "id": "093deaa6",
   "metadata": {},
   "outputs": [],
   "source": [
    "print(df_my['text'].apply(lemmatize_text))"
   ]
  },
  {
   "cell_type": "code",
   "execution_count": null,
   "id": "800095c8",
   "metadata": {},
   "outputs": [],
   "source": [
    "def get_preprocessed_text(text):\n",
    "    text = text.lower()\n",
    "    text = word_tokenize(text)\n",
    "    from nltk.tokenize import word_tokenize\n",
    "    from nltk.corpus import wordnet\n",
    "    from nltk.corpus import stopwords\n",
    "    from nltk.stem.wordnet import WordNetLemmatizer\n",
    "    tag = nltk.pos_tag([token])[0][1][0].upper()\n",
    "    tag_dict = {\"J\": wordnet.ADJ,\n",
    "                    \"N\": wordnet.NOUN,\n",
    "                    \"V\": wordnet.VERB,\n",
    "                    \"R\": wordnet.ADV}\n",
    "    return tag_dict.get(tag, wordnet.NOUN)\n",
    "    lemmatizer = WordNetLemmatizer()\n",
    "    # применяем лемматизацию, используя теги\n",
    "    text = [lemmatizer.lemmatize(token, get_wordnet_pos(token)) for token in text]\n",
    "\n",
    "    # инициируем множество стоп-слов\n",
    "    stop_words = set(stopwords.words('english'))\n",
    "    # удаляем стоп-слова из документа\n",
    "    text = [token for token in text if token not in stop_words]\n",
    "\n",
    "    # возвращаем результат\n",
    "    return text"
   ]
  },
  {
   "cell_type": "code",
   "execution_count": null,
   "id": "fcaacf8a",
   "metadata": {},
   "outputs": [],
   "source": [
    "toxic_comments['lemmatized_paralel'] = toxic_comments['text'].parallel_apply(get_preprocessed_text) "
   ]
  },
  {
   "cell_type": "code",
   "execution_count": null,
   "id": "f6b695b4",
   "metadata": {},
   "outputs": [],
   "source": [
    "document = [lemmatizer.lemmatize(token, get_wordnet_pos(token)) for token in document]"
   ]
  },
  {
   "cell_type": "code",
   "execution_count": null,
   "id": "09043783",
   "metadata": {},
   "outputs": [],
   "source": [
    "stop_words = set(stopwords.words('english'))\n",
    "\n",
    "document = [token for token in document if token not in stop_words]"
   ]
  },
  {
   "cell_type": "code",
   "execution_count": null,
   "id": "34c5dff1",
   "metadata": {},
   "outputs": [],
   "source": [
    "toxic_comments_corpus = pd.DataFrame(corpus)\n",
    "toxic_comments['lemm_text'] = toxic_comments_corpus\n",
    "display(toxic_comments.head(10))\n",
    "toxic_comments.info()"
   ]
  },
  {
   "cell_type": "code",
   "execution_count": null,
   "id": "8839b8cf",
   "metadata": {},
   "outputs": [],
   "source": [
    "#column_name = 'Unnamed: 0' #Удалим ненужный столбец\n",
    "#toxic_comments = toxic_comments.drop(column_name, axis=1)"
   ]
  },
  {
   "cell_type": "code",
   "execution_count": null,
   "id": "98734b5e",
   "metadata": {
    "scrolled": false
   },
   "outputs": [],
   "source": [
    "display(toxic_comments)"
   ]
  },
  {
   "cell_type": "markdown",
   "id": "29ab9509",
   "metadata": {},
   "source": [
    "Сделаем стоп-слова и векторизацию текста"
   ]
  },
  {
   "cell_type": "code",
   "execution_count": null,
   "id": "6d635fab",
   "metadata": {},
   "outputs": [],
   "source": [
    "toxic_comments['lemm_text'].isna().sum()"
   ]
  },
  {
   "cell_type": "code",
   "execution_count": null,
   "id": "5a433335",
   "metadata": {
    "scrolled": true
   },
   "outputs": [],
   "source": [
    "toxic_comments['toxic'].isna().sum()"
   ]
  },
  {
   "cell_type": "code",
   "execution_count": null,
   "id": "2f6a40c4",
   "metadata": {},
   "outputs": [],
   "source": [
    "toxic_comments = toxic_comments.dropna(subset=['lemm_text'])"
   ]
  },
  {
   "cell_type": "code",
   "execution_count": null,
   "id": "8b1cc8a0",
   "metadata": {
    "scrolled": false
   },
   "outputs": [],
   "source": [
    "print(toxic_comments['lemm_text'].isna().sum())"
   ]
  },
  {
   "cell_type": "code",
   "execution_count": null,
   "id": "edd90e24",
   "metadata": {},
   "outputs": [],
   "source": [
    "#try:\n",
    "#    nltk.download('stopwords')\n",
    "#except:\n",
    "#    pass"
   ]
  },
  {
   "cell_type": "code",
   "execution_count": null,
   "id": "9597677f",
   "metadata": {},
   "outputs": [],
   "source": [
    "features = toxic_comments['lemm_text']\n",
    "target = toxic_comments['toxic']\n",
    "\n",
    "features_train_1, features_test_1, target_train, target_test = train_test_split(\n",
    "features, target, test_size=0.25, random_state=12345, stratify=target)\n",
    "\n",
    "#Выведем размер выборок\n",
    "display(features_train_1.shape)\n",
    "display(features_test_1.shape)\n",
    "display(target_train.shape)\n",
    "display(target_test.shape)"
   ]
  },
  {
   "cell_type": "code",
   "execution_count": null,
   "id": "fc8ea2fb",
   "metadata": {},
   "outputs": [],
   "source": [
    "# Загрузка стоп-слов из NLTK\n",
    "try:\n",
    "    nltk.download('stopwords')\n",
    "except:\n",
    "    pass\n",
    "\n",
    "# Создание списка стоп-слов\n",
    "try:\n",
    "    stop_words = stopwords.words(\"english\")\n",
    "except:\n",
    "    pass\n",
    "\n",
    "# Создание экземпляра TfidfVectorizer с передачей списка стоп-слов\n",
    "count_tf_idf = TfidfVectorizer(stop_words=stop_words)\n",
    "\n",
    "features_train = count_tf_idf.fit_transform(features_train_1)\n"
   ]
  },
  {
   "cell_type": "code",
   "execution_count": null,
   "id": "297a5c72",
   "metadata": {
    "scrolled": true
   },
   "outputs": [],
   "source": [
    "features_test = count_tf_idf.transform(features_test_1)"
   ]
  },
  {
   "cell_type": "code",
   "execution_count": null,
   "id": "0f34c5c1",
   "metadata": {
    "scrolled": true
   },
   "outputs": [],
   "source": [
    "toxic_comments.isna().sum()"
   ]
  },
  {
   "cell_type": "markdown",
   "id": "572de680",
   "metadata": {},
   "source": [
    "Определим целевой признак и делим выборку на тренировочную и тестовую"
   ]
  },
  {
   "cell_type": "code",
   "execution_count": null,
   "id": "c1efc29f",
   "metadata": {
    "scrolled": true
   },
   "outputs": [],
   "source": [
    "print(type(features_train))\n",
    "print(type(features_train[0]))"
   ]
  },
  {
   "cell_type": "code",
   "execution_count": null,
   "id": "0e3754f5",
   "metadata": {},
   "outputs": [],
   "source": [
    "%%time\n",
    "\n",
    "pipeline_oversampling = imbPipeline([\n",
    "    ('tfidf', TfidfVectorizer()),\n",
    "    ('oversampling', RandomOverSampler(random_state=0)),\n",
    "    ('logreg', LogisticRegression(random_state=42))])\n",
    "\n",
    "\n",
    "parameters = {\n",
    "    'tfidf__max_df': (0.25, 0.5, 0.75),\n",
    "    'tfidf__ngram_range': [(1, 1), (1, 2), (1, 3)],\n",
    "    'logreg__C': [1,2,6]\n",
    "}\n",
    "\n",
    "grid_search_tune = HalvingGridSearchCV(pipeline_oversampling, parameters, cv=3, n_jobs=-1, scoring='f1', verbose=3)\n",
    "grid_search_tune.fit(features_train, target_train)\n",
    "\n",
    "print(f\"Best score: {abs(grid_search_tune.best_score_)}, Best params: {grid_search_tune.best_params_}\")"
   ]
  },
  {
   "cell_type": "code",
   "execution_count": null,
   "id": "1e3bb388",
   "metadata": {
    "scrolled": true
   },
   "outputs": [],
   "source": [
    "print(features_train.shape)\n",
    "print(features_test.shape)\n",
    "print(target_train.shape)\n",
    "print(target_test.shape)"
   ]
  },
  {
   "cell_type": "markdown",
   "id": "92a730e3",
   "metadata": {},
   "source": [
    "**Вывод:**\n",
    "В ходе загрузки и подготовки данных к обучению мы их загрузили, проверили на пропуски и дубликаты, а также удалили лишний столбец `Unnamed: 0`.\n",
    "\n",
    "Мы выделили целевой признак `lemm_text`. Также мы использовали TfidfVectorizer для векторизации текстов.\n",
    "\n",
    "Затем мы разделили данные на обучающую и тестовую выборки."
   ]
  },
  {
   "cell_type": "markdown",
   "id": "18f89999",
   "metadata": {},
   "source": [
    "## 2. Обучение"
   ]
  },
  {
   "cell_type": "code",
   "execution_count": null,
   "id": "ca6521d7",
   "metadata": {},
   "outputs": [],
   "source": [
    "const_model = [1 for i in range(len(target_test))]\n",
    "const_f1 = f1_score(target_test.reset_index(drop=True), const_model)\n",
    "print(const_f1)"
   ]
  },
  {
   "cell_type": "markdown",
   "id": "01523011",
   "metadata": {},
   "source": [
    "В обучении мы будем использовать три модели: Логистическую регрессию, случайный лес и классификатор CatBoost."
   ]
  },
  {
   "cell_type": "code",
   "execution_count": null,
   "id": "d4b57d76",
   "metadata": {},
   "outputs": [],
   "source": [
    "#def RMSE(target, predict):\n",
    "#    return (mean_squared_error(target, predict))**0.5\n",
    "#RMSE_score = make_scorer(RMSE, greater_is_better=False)"
   ]
  },
  {
   "cell_type": "markdown",
   "id": "d1d6b2ab",
   "metadata": {},
   "source": [
    "**Логистическая регрессия**"
   ]
  },
  {
   "cell_type": "code",
   "execution_count": null,
   "id": "af6b8b63",
   "metadata": {},
   "outputs": [],
   "source": [
    "%%time\n",
    "\n",
    "model_lr = LogisticRegression(fit_intercept=True, \n",
    "                                class_weight='balanced', \n",
    "                                random_state=42,\n",
    "                                solver='liblinear')\n",
    "\n",
    "#Определяем словарь с набором параметров\n",
    "regression_parameters = {'C': [0.1, 1, 10]}\n",
    "\n",
    "#Применяем GridSearchCV с кросс-валидацией\n",
    "regression_grid = GridSearchCV(model_lr, regression_parameters, scoring='f1', cv=3, error_score='raise')\n",
    "regression_grid.fit(features_train, target_train)\n",
    "\n",
    "model_lr.fit(features_train, target_train)\n",
    "lr_cv_score = pd.Series(cross_val_score(model_lr, features_train, target_train, scoring='f1', cv=3)).mean()\n",
    "print('Среднее качество модели логистической регрессии на кросс-валидации', lr_cv_score)"
   ]
  },
  {
   "cell_type": "markdown",
   "id": "e0242d26",
   "metadata": {},
   "source": [
    "Определение оптимальных гиперпараметров для кросс-валидации"
   ]
  },
  {
   "cell_type": "code",
   "execution_count": null,
   "id": "dfc7ce1f",
   "metadata": {
    "scrolled": true
   },
   "outputs": [],
   "source": [
    "lr_params = regression_grid.best_params_\n",
    "lr_score = regression_grid.score(features_train, target_train)\n",
    "print(lr_params)\n",
    "print(lr_score)"
   ]
  },
  {
   "cell_type": "markdown",
   "id": "b24772a7",
   "metadata": {},
   "source": [
    "**Случайный лес**"
   ]
  },
  {
   "cell_type": "code",
   "execution_count": null,
   "id": "bea52980",
   "metadata": {},
   "outputs": [],
   "source": [
    "%%time\n",
    "\n",
    "model_rf = RandomForestClassifier(class_weight='balanced', n_jobs=-1)\n",
    "\n",
    "rf_parameters = {\n",
    "    'n_estimators': range(20, 40, 5),\n",
    "    'max_depth': range(4, 8, 2),\n",
    "    'min_samples_leaf': range(3,5),\n",
    "    'min_samples_split': range(2,6,2),\n",
    "}\n",
    "\n",
    "rf_grid = GridSearchCV(model_rf, rf_parameters, scoring='f1', cv=3)\n",
    "rf_grid.fit(features_train, target_train)\n",
    "\n",
    "model_rf.fit(features_train, target_train)\n",
    "rf_cv_score = pd.Series(cross_val_score(model_rf, features_train, target_train, scoring='f1', cv=3)).mean()\n",
    "print('Среднее качество модели случайного леса на кросс-валидации', rf_cv_score)"
   ]
  },
  {
   "cell_type": "markdown",
   "id": "489a5e6a",
   "metadata": {},
   "source": [
    "Определение оптимальных гиперпараметров для кросс-валидации"
   ]
  },
  {
   "cell_type": "code",
   "execution_count": null,
   "id": "2482bcae",
   "metadata": {
    "scrolled": true
   },
   "outputs": [],
   "source": [
    "rf_params = rf_grid.best_params_\n",
    "rf_score = rf_grid.score(features_train, target_train)\n",
    "print(rf_params)\n",
    "print(rf_score)"
   ]
  },
  {
   "cell_type": "markdown",
   "id": "cca0b06b",
   "metadata": {},
   "source": [
    "**Catboost**"
   ]
  },
  {
   "cell_type": "code",
   "execution_count": null,
   "id": "e5fabd37",
   "metadata": {},
   "outputs": [],
   "source": [
    "features_train_cb = features_train_1[:900]\n",
    "features_test_cb = features_test_1[:300]\n",
    "target_train_cb = target_train[:900]\n",
    "target_test_cb = target_test[:300]"
   ]
  },
  {
   "cell_type": "code",
   "execution_count": null,
   "id": "19bb1ee2",
   "metadata": {},
   "outputs": [],
   "source": [
    "features_train_cb = count_tf_idf.fit_transform(features_train_cb)\n",
    "features_test_cb = count_tf_idf.transform(features_test_cb)"
   ]
  },
  {
   "cell_type": "code",
   "execution_count": null,
   "id": "d9352190",
   "metadata": {},
   "outputs": [],
   "source": [
    "model_cb = CatBoostClassifier(class_weights=[1, zeroes/ones], iterations=30)\n",
    "\n",
    "cb_parametrs = {'depth': [4, 8]}\n",
    "\n",
    "cb_grid = GridSearchCV(model_cb, cb_parametrs, scoring='f1', cv=3)\n",
    "cb_grid.fit(features_train_cb, target_train_cb, verbose=10)\n",
    "cb_cv_score = pd.Series(cross_val_score(model_cb, features_train, target_train, scoring='f1', cv=3)).mean()\n",
    "print('Среднее качество Catboost на кросс-валидации', cb_cv_score)"
   ]
  },
  {
   "cell_type": "markdown",
   "id": "4487054a",
   "metadata": {},
   "source": [
    "Определение оптимальных гиперпараметров для кросс-валидации"
   ]
  },
  {
   "cell_type": "code",
   "execution_count": null,
   "id": "fb8add8f",
   "metadata": {
    "scrolled": false
   },
   "outputs": [],
   "source": [
    "%%time\n",
    "\n",
    "cb_params = cb_grid.best_params_\n",
    "cb_score = cb_grid.score(features_train_cb, target_train_cb)\n",
    "print(cb_params)\n",
    "print(cb_score)"
   ]
  },
  {
   "cell_type": "markdown",
   "id": "c2f0c9fe",
   "metadata": {},
   "source": [
    "**Тестирование наилучшей модели**"
   ]
  },
  {
   "cell_type": "code",
   "execution_count": null,
   "id": "243ff717",
   "metadata": {
    "scrolled": true
   },
   "outputs": [],
   "source": [
    "%%time\n",
    "\n",
    "#model = LogisticRegression(fit_intercept=True, \n",
    "#                                class_weight='balanced', \n",
    "#                                random_state=42,\n",
    "#                                solver='liblinear')\n",
    "\n",
    "#regression_parameters = {'C': [10]}\n",
    "\n",
    "#Применяем GridSearchCV с кросс-валидацией\n",
    "#regression_grid = GridSearchCV(model_lr, regression_parameters, scoring='f1', cv=3)\n",
    "#regression_grid.fit(features_train, target_train)\n",
    "\n",
    "#model.fit(features_train, target_train)\n",
    "\n",
    "#lr_cv_score = pd.Series(cross_val_score(model_lr, features_train, target_train, scoring='f1', cv=3)).mean()\n",
    "#predictions_test = model.predict(features_test)\n",
    "#rmse = mean_squared_error(target_test, predictions_test)**0.5\n",
    "#regression_f1 = round(f1_score(target_test, predictions_test), 3) \n",
    "#print(regression_f1)\n",
    "#print('Среднее качество модели логистической регрессии на кросс-валидации', lr_cv_score)\n",
    "#print('RMSE:', rmse)"
   ]
  },
  {
   "cell_type": "code",
   "execution_count": null,
   "id": "818e7fd1",
   "metadata": {},
   "outputs": [],
   "source": [
    "predictions_test = model_lr.best_estimator_.predict(features_test)\n",
    "regression_f1 = round(f1_score(target_test, predictions_test), 3) "
   ]
  },
  {
   "cell_type": "code",
   "execution_count": null,
   "id": "1fa332e5",
   "metadata": {},
   "outputs": [],
   "source": [
    "model = model_lr\n",
    "words = TfidfVectorizer.get_feature_names_out().tolist()\n",
    "weights = model.coef_.tolist()[0]"
   ]
  },
  {
   "cell_type": "code",
   "execution_count": null,
   "id": "a0093a9e",
   "metadata": {},
   "outputs": [],
   "source": [
    "feature_importance = pd.DataFrame(data=weights, index=words, columns=['coef'])\n",
    "feature_importance.sort_values(by='coef',ascending=False).head(25).plot(kind='bar', title='top 25 most toxic words')"
   ]
  },
  {
   "cell_type": "markdown",
   "id": "1ff2b821",
   "metadata": {},
   "source": [
    "Проверим модель на адекватность"
   ]
  },
  {
   "cell_type": "code",
   "execution_count": null,
   "id": "be2ec7d9",
   "metadata": {},
   "outputs": [],
   "source": [
    "#pred_previous = target_test.shift()\n",
    "#pred_previous.iloc[0] = target_train.iloc[-1]\n",
    "#rmse = mean_squared_error(target_test, pred_previous)**0.5"
   ]
  },
  {
   "cell_type": "markdown",
   "id": "38b8eee0",
   "metadata": {},
   "source": [
    "**Выводы**\n",
    "\n",
    "В ходи исследования нами были обучены три модели, а именно Логистическая регрессия, случайный лес и CatBoost, а также определили для каждой модели оптимальные гипермараметры для кросс-валидации. В качестве тестирования модели мы выбрали модель логистической регрессии, поскольку она показала метрику качества f1 0.76, что соответствует условию задачи, а также RMSE 0,23."
   ]
  },
  {
   "cell_type": "markdown",
   "id": "c78dada1",
   "metadata": {},
   "source": [
    "## Выводы"
   ]
  },
  {
   "cell_type": "markdown",
   "id": "f88b3fef",
   "metadata": {},
   "source": [
    "1) В ходе загрузки и подготовки данных к обучению мы их загрузили, проверили на пропуски и дубликаты, а также удалили лишний столбец `Unnamed: 0`. Мы выделили целевой признак `lemm_text`. Также мы использовали TfidfVectorizer для векторизации текстов. Затем мы разделили данные на обучающую и тестовую выборки в соотношении 4 к 1.\n",
    "\n",
    "2) В ходе обучения моделей мы выяснили что наилушей моделью для исследования подойдёт модель логистической регрессии, поскольку оставльные модели, а именно Случайный лес и CatBoost показали недостаточные f1-метрики для иследования, а именно 0,61 и 0.70 соответственно. Все модели прошли проверку на адекватность по сравнению с консантной моделью, где значение f1-меры 0.18."
   ]
  },
  {
   "cell_type": "markdown",
   "id": "4976633b",
   "metadata": {},
   "source": [
    "**Bert**"
   ]
  },
  {
   "cell_type": "code",
   "execution_count": null,
   "id": "bfe6bd39",
   "metadata": {},
   "outputs": [],
   "source": [
    "try:\n",
    "    emb_toxic_comments = pd.read_csv('/datasets/toxic_comments.csv')\n",
    "except:\n",
    "    emb_toxic_comments = pd.read_csv('C:\\\\Data\\\\toxic_comments.csv')\n",
    "    "
   ]
  },
  {
   "cell_type": "code",
   "execution_count": null,
   "id": "3a071868",
   "metadata": {
    "scrolled": true
   },
   "outputs": [],
   "source": [
    "#emb_toxic_comments = emb_toxic_comments.sample(400).reset_index(drop=True)\n",
    "\n",
    "#tokenizer = transformers.BertTokenizer(\n",
    "#    vocab_file='/datasets/ds_bert/vocab.txt')\n",
    "\n",
    "#tokenized = emb_toxic_comments['text'].apply(\n",
    "#    lambda x: tokenizer.encode(x, add_special_tokens=True))\n",
    "\n",
    "#max_len = 0\n",
    "#for i in tokenized.values:\n",
    "#    if len(i) > max_len:\n",
    "#        max_len = len(i)\n",
    "\n",
    "#padded = np.array([i + [0]*(max_len - len(i)) for i in tokenized.values])\n",
    "\n",
    "#attention_mask = np.where(padded != 0, 1, 0)"
   ]
  },
  {
   "cell_type": "code",
   "execution_count": null,
   "id": "f248acbe",
   "metadata": {},
   "outputs": [],
   "source": [
    "model = transformers.AutoModel.from_pretrained('unitary/toxic-bert')\n",
    "tokenizer = transformers.AutoTokenizer.from_pretrained('unitary/toxic-bert')\n",
    "features = np.concatenate(embeddings)\n",
    "regression_grid = GridSearchCV(model_lr, regression_parameters, scoring='f1', cv=3, error_score='raise')\n",
    "regression_grid.fit(features_train_new, target_train_new)"
   ]
  },
  {
   "cell_type": "code",
   "execution_count": null,
   "id": "49bcce8e",
   "metadata": {},
   "outputs": [],
   "source": [
    "#display(emb_toxic_comments['text'])"
   ]
  },
  {
   "cell_type": "code",
   "execution_count": null,
   "id": "ac90421c",
   "metadata": {},
   "outputs": [],
   "source": [
    "#config = transformers.BertConfig.from_json_file(\n",
    "#    '/datasets/ds_bert/bert_config.json')\n",
    "#model = transformers.BertModel.from_pretrained(\n",
    "#    '/datasets/ds_bert/rubert_model.bin', config=config)"
   ]
  },
  {
   "cell_type": "code",
   "execution_count": null,
   "id": "d5ae6b39",
   "metadata": {},
   "outputs": [],
   "source": [
    "#batch_size = 101\n",
    "#embeddings = []\n",
    "#for i in notebook.tqdm(range(padded.shape[0] // batch_size)):\n",
    "#        batch = torch.LongTensor(padded[batch_size*i:batch_size*(i+1)]) \n",
    "#        attention_mask_batch = torch.LongTensor(attention_mask[batch_size*i:batch_size*(i+1)])\n",
    "        \n",
    "#        with torch.no_grad():\n",
    "#            batch_embeddings = model(batch, attention_mask=attention_mask_batch)\n",
    "        \n",
    "#        embeddings.append(batch_embeddings[0][:,0,:].numpy())"
   ]
  }
 ],
 "metadata": {
  "ExecuteTimeLog": [
   {
    "duration": 51,
    "start_time": "2023-08-22T21:07:32.435Z"
   },
   {
    "duration": 2641,
    "start_time": "2023-08-22T21:07:38.780Z"
   },
   {
    "duration": 4625,
    "start_time": "2023-08-22T21:07:41.423Z"
   },
   {
    "duration": 3132,
    "start_time": "2023-08-22T21:07:46.050Z"
   },
   {
    "duration": 44,
    "start_time": "2023-08-22T21:07:49.185Z"
   },
   {
    "duration": 11,
    "start_time": "2023-08-22T21:07:49.231Z"
   },
   {
    "duration": 27,
    "start_time": "2023-08-22T21:07:49.244Z"
   },
   {
    "duration": 27,
    "start_time": "2023-08-22T21:07:49.273Z"
   },
   {
    "duration": 248,
    "start_time": "2023-08-22T21:07:49.302Z"
   },
   {
    "duration": 17,
    "start_time": "2023-08-22T21:07:49.553Z"
   },
   {
    "duration": 132,
    "start_time": "2023-08-22T21:07:52.057Z"
   },
   {
    "duration": 752,
    "start_time": "2023-08-22T21:08:14.971Z"
   },
   {
    "duration": 33,
    "start_time": "2023-08-22T21:08:18.951Z"
   },
   {
    "duration": 11,
    "start_time": "2023-08-22T21:09:19.814Z"
   },
   {
    "duration": 5166,
    "start_time": "2023-08-23T10:02:05.976Z"
   },
   {
    "duration": 2313,
    "start_time": "2023-08-23T10:02:11.144Z"
   },
   {
    "duration": 33,
    "start_time": "2023-08-23T10:02:13.458Z"
   },
   {
    "duration": 11,
    "start_time": "2023-08-23T10:02:13.493Z"
   },
   {
    "duration": 10,
    "start_time": "2023-08-23T10:02:13.506Z"
   },
   {
    "duration": 21,
    "start_time": "2023-08-23T10:02:13.518Z"
   },
   {
    "duration": 44,
    "start_time": "2023-08-23T10:02:13.541Z"
   },
   {
    "duration": 229,
    "start_time": "2023-08-23T10:02:13.586Z"
   },
   {
    "duration": 9,
    "start_time": "2023-08-23T10:02:14.808Z"
   },
   {
    "duration": 141,
    "start_time": "2023-08-23T10:02:18.318Z"
   },
   {
    "duration": 4,
    "start_time": "2023-08-23T10:02:56.368Z"
   },
   {
    "duration": 3,
    "start_time": "2023-08-23T10:36:14.400Z"
   },
   {
    "duration": 3,
    "start_time": "2023-08-23T10:36:15.674Z"
   },
   {
    "duration": 4,
    "start_time": "2023-08-23T10:36:32.802Z"
   },
   {
    "duration": 610,
    "start_time": "2023-08-23T10:37:05.453Z"
   },
   {
    "duration": 57,
    "start_time": "2023-08-23T10:37:33.740Z"
   },
   {
    "duration": 386,
    "start_time": "2023-08-23T10:37:59.309Z"
   },
   {
    "duration": 497,
    "start_time": "2023-08-23T10:38:32.981Z"
   },
   {
    "duration": 604,
    "start_time": "2023-08-23T10:38:45.061Z"
   },
   {
    "duration": 3,
    "start_time": "2023-08-23T10:39:49.706Z"
   },
   {
    "duration": 3,
    "start_time": "2023-08-23T10:39:50.480Z"
   },
   {
    "duration": 169,
    "start_time": "2023-08-23T10:39:51.110Z"
   },
   {
    "duration": 3,
    "start_time": "2023-08-23T10:40:11.917Z"
   },
   {
    "duration": 3,
    "start_time": "2023-08-23T10:40:14.638Z"
   },
   {
    "duration": 657,
    "start_time": "2023-08-23T10:40:15.552Z"
   },
   {
    "duration": 16,
    "start_time": "2023-08-23T10:40:53.205Z"
   },
   {
    "duration": 4,
    "start_time": "2023-08-23T10:41:19.203Z"
   },
   {
    "duration": 4,
    "start_time": "2023-08-23T10:41:20.055Z"
   },
   {
    "duration": 3,
    "start_time": "2023-08-23T10:41:21.786Z"
   },
   {
    "duration": 3,
    "start_time": "2023-08-23T10:41:22.412Z"
   },
   {
    "duration": 1262186,
    "start_time": "2023-08-23T10:41:23.542Z"
   },
   {
    "duration": 5,
    "start_time": "2023-08-23T11:21:37.420Z"
   },
   {
    "duration": 12,
    "start_time": "2023-08-23T11:22:09.032Z"
   },
   {
    "duration": 3590,
    "start_time": "2023-08-23T11:25:09.039Z"
   },
   {
    "duration": 4262,
    "start_time": "2023-08-23T11:25:13.608Z"
   },
   {
    "duration": 16,
    "start_time": "2023-08-23T11:27:58.283Z"
   },
   {
    "duration": 13,
    "start_time": "2023-08-23T11:28:10.565Z"
   },
   {
    "duration": 12,
    "start_time": "2023-08-23T11:30:18.981Z"
   },
   {
    "duration": 574,
    "start_time": "2023-08-23T11:32:58.006Z"
   },
   {
    "duration": 8,
    "start_time": "2023-08-23T11:33:07.708Z"
   },
   {
    "duration": 508,
    "start_time": "2023-08-23T11:33:33.124Z"
   },
   {
    "duration": 6,
    "start_time": "2023-08-23T11:33:43.822Z"
   },
   {
    "duration": 2452,
    "start_time": "2023-08-23T11:39:36.108Z"
   },
   {
    "duration": 5275,
    "start_time": "2023-08-24T09:20:20.812Z"
   },
   {
    "duration": 2251,
    "start_time": "2023-08-24T09:20:26.089Z"
   },
   {
    "duration": 32,
    "start_time": "2023-08-24T09:20:28.342Z"
   },
   {
    "duration": 19,
    "start_time": "2023-08-24T09:20:28.376Z"
   },
   {
    "duration": 255,
    "start_time": "2023-08-24T09:20:28.396Z"
   },
   {
    "duration": 5,
    "start_time": "2023-08-24T09:20:28.653Z"
   },
   {
    "duration": 17,
    "start_time": "2023-08-24T09:20:28.659Z"
   },
   {
    "duration": 25,
    "start_time": "2023-08-24T09:20:28.677Z"
   },
   {
    "duration": 31,
    "start_time": "2023-08-24T09:20:28.704Z"
   },
   {
    "duration": 219,
    "start_time": "2023-08-24T09:20:28.737Z"
   },
   {
    "duration": 9,
    "start_time": "2023-08-24T09:20:28.958Z"
   },
   {
    "duration": 147,
    "start_time": "2023-08-24T09:20:28.969Z"
   },
   {
    "duration": 4,
    "start_time": "2023-08-24T09:20:29.117Z"
   },
   {
    "duration": 4,
    "start_time": "2023-08-24T09:20:30.077Z"
   },
   {
    "duration": 3,
    "start_time": "2023-08-24T09:20:34.590Z"
   },
   {
    "duration": 2,
    "start_time": "2023-08-24T09:20:35.100Z"
   },
   {
    "duration": 2,
    "start_time": "2023-08-24T09:20:35.752Z"
   },
   {
    "duration": 1231091,
    "start_time": "2023-08-24T09:20:36.798Z"
   },
   {
    "duration": 6,
    "start_time": "2023-08-24T09:41:07.891Z"
   },
   {
    "duration": 232,
    "start_time": "2023-08-24T09:41:07.899Z"
   },
   {
    "duration": 8,
    "start_time": "2023-08-24T10:11:01.907Z"
   },
   {
    "duration": 18,
    "start_time": "2023-08-24T10:19:46.170Z"
   },
   {
    "duration": 301,
    "start_time": "2023-08-24T10:20:30.843Z"
   },
   {
    "duration": 15,
    "start_time": "2023-08-24T10:20:44.398Z"
   },
   {
    "duration": 18,
    "start_time": "2023-08-24T10:21:51.320Z"
   },
   {
    "duration": 8298,
    "start_time": "2023-08-24T10:22:51.476Z"
   },
   {
    "duration": 21,
    "start_time": "2023-08-24T10:23:05.307Z"
   },
   {
    "duration": 858,
    "start_time": "2023-08-24T10:26:00.962Z"
   },
   {
    "duration": 903,
    "start_time": "2023-08-24T10:26:12.143Z"
   },
   {
    "duration": 910,
    "start_time": "2023-08-24T10:26:35.539Z"
   },
   {
    "duration": 31,
    "start_time": "2023-08-24T10:27:44.244Z"
   },
   {
    "duration": 17,
    "start_time": "2023-08-24T10:28:02.496Z"
   },
   {
    "duration": 17,
    "start_time": "2023-08-24T10:29:14.999Z"
   },
   {
    "duration": 17,
    "start_time": "2023-08-24T10:29:42.329Z"
   },
   {
    "duration": 4536,
    "start_time": "2023-08-24T10:30:22.714Z"
   },
   {
    "duration": 23,
    "start_time": "2023-08-24T10:30:36.893Z"
   },
   {
    "duration": 2530,
    "start_time": "2023-08-24T10:32:03.714Z"
   },
   {
    "duration": 32,
    "start_time": "2023-08-24T10:32:10.352Z"
   },
   {
    "duration": 2967,
    "start_time": "2023-08-24T10:32:54.496Z"
   },
   {
    "duration": 3958,
    "start_time": "2023-08-24T10:32:57.465Z"
   },
   {
    "duration": 2407,
    "start_time": "2023-08-24T10:33:01.425Z"
   },
   {
    "duration": 2324,
    "start_time": "2023-08-24T10:33:03.834Z"
   },
   {
    "duration": 2252,
    "start_time": "2023-08-24T10:33:06.161Z"
   },
   {
    "duration": 2192,
    "start_time": "2023-08-24T10:33:08.415Z"
   },
   {
    "duration": 2580,
    "start_time": "2023-08-24T10:33:10.610Z"
   },
   {
    "duration": 2769,
    "start_time": "2023-08-24T10:33:13.192Z"
   },
   {
    "duration": 821,
    "start_time": "2023-08-24T10:33:15.963Z"
   },
   {
    "duration": 31,
    "start_time": "2023-08-24T10:33:16.787Z"
   },
   {
    "duration": 27,
    "start_time": "2023-08-24T10:33:16.820Z"
   },
   {
    "duration": 324,
    "start_time": "2023-08-24T10:33:16.848Z"
   },
   {
    "duration": 5,
    "start_time": "2023-08-24T10:33:17.173Z"
   },
   {
    "duration": 30,
    "start_time": "2023-08-24T10:33:17.180Z"
   },
   {
    "duration": 46,
    "start_time": "2023-08-24T10:33:17.212Z"
   },
   {
    "duration": 29,
    "start_time": "2023-08-24T10:33:17.260Z"
   },
   {
    "duration": 227,
    "start_time": "2023-08-24T10:33:17.291Z"
   },
   {
    "duration": 15,
    "start_time": "2023-08-24T10:33:17.519Z"
   },
   {
    "duration": 219,
    "start_time": "2023-08-24T10:33:17.537Z"
   },
   {
    "duration": 3,
    "start_time": "2023-08-24T10:33:17.758Z"
   },
   {
    "duration": 46,
    "start_time": "2023-08-24T10:33:17.763Z"
   },
   {
    "duration": 21,
    "start_time": "2023-08-24T10:33:17.811Z"
   },
   {
    "duration": 21,
    "start_time": "2023-08-24T10:33:17.833Z"
   },
   {
    "duration": 22,
    "start_time": "2023-08-24T10:33:17.857Z"
   },
   {
    "duration": 1177015,
    "start_time": "2023-08-24T10:33:17.882Z"
   },
   {
    "duration": 6,
    "start_time": "2023-08-24T10:52:54.898Z"
   },
   {
    "duration": 17,
    "start_time": "2023-08-24T10:52:54.905Z"
   },
   {
    "duration": 95,
    "start_time": "2023-08-24T10:52:54.925Z"
   },
   {
    "duration": 3,
    "start_time": "2023-08-24T10:52:55.021Z"
   },
   {
    "duration": 19,
    "start_time": "2023-08-24T10:52:55.034Z"
   },
   {
    "duration": 64,
    "start_time": "2023-08-24T10:52:55.055Z"
   },
   {
    "duration": 152,
    "start_time": "2023-08-24T10:52:55.133Z"
   },
   {
    "duration": 0,
    "start_time": "2023-08-24T10:52:55.286Z"
   },
   {
    "duration": 0,
    "start_time": "2023-08-24T10:52:55.287Z"
   },
   {
    "duration": 0,
    "start_time": "2023-08-24T10:52:55.288Z"
   },
   {
    "duration": 0,
    "start_time": "2023-08-24T10:52:55.290Z"
   },
   {
    "duration": 0,
    "start_time": "2023-08-24T10:52:55.291Z"
   },
   {
    "duration": 0,
    "start_time": "2023-08-24T10:52:55.292Z"
   },
   {
    "duration": 0,
    "start_time": "2023-08-24T10:52:55.293Z"
   },
   {
    "duration": 0,
    "start_time": "2023-08-24T10:52:55.294Z"
   },
   {
    "duration": 0,
    "start_time": "2023-08-24T10:52:55.295Z"
   },
   {
    "duration": 0,
    "start_time": "2023-08-24T10:52:55.297Z"
   },
   {
    "duration": 0,
    "start_time": "2023-08-24T10:52:55.298Z"
   },
   {
    "duration": 0,
    "start_time": "2023-08-24T10:52:55.299Z"
   },
   {
    "duration": 0,
    "start_time": "2023-08-24T10:52:55.300Z"
   },
   {
    "duration": 0,
    "start_time": "2023-08-24T10:52:55.301Z"
   },
   {
    "duration": 0,
    "start_time": "2023-08-24T10:52:55.303Z"
   },
   {
    "duration": 0,
    "start_time": "2023-08-24T10:52:55.334Z"
   },
   {
    "duration": 0,
    "start_time": "2023-08-24T10:52:55.336Z"
   },
   {
    "duration": 0,
    "start_time": "2023-08-24T10:52:55.337Z"
   },
   {
    "duration": 0,
    "start_time": "2023-08-24T10:52:55.339Z"
   },
   {
    "duration": 11,
    "start_time": "2023-08-24T10:56:28.771Z"
   },
   {
    "duration": 4,
    "start_time": "2023-08-24T10:56:40.717Z"
   },
   {
    "duration": 6,
    "start_time": "2023-08-24T10:57:11.447Z"
   },
   {
    "duration": 2090,
    "start_time": "2023-08-24T10:57:30.776Z"
   },
   {
    "duration": 6,
    "start_time": "2023-08-24T10:57:41.102Z"
   },
   {
    "duration": 4,
    "start_time": "2023-08-24T10:57:51.066Z"
   },
   {
    "duration": 1514,
    "start_time": "2023-08-24T10:58:01.835Z"
   },
   {
    "duration": 5,
    "start_time": "2023-08-24T10:58:12.346Z"
   },
   {
    "duration": 5,
    "start_time": "2023-08-24T10:58:24.406Z"
   },
   {
    "duration": 15,
    "start_time": "2023-08-24T10:59:13.746Z"
   },
   {
    "duration": 10,
    "start_time": "2023-08-24T10:59:41.746Z"
   },
   {
    "duration": 14,
    "start_time": "2023-08-24T11:00:04.465Z"
   },
   {
    "duration": 4,
    "start_time": "2023-08-24T11:02:15.339Z"
   },
   {
    "duration": 3,
    "start_time": "2023-08-24T11:02:17.422Z"
   },
   {
    "duration": 3,
    "start_time": "2023-08-24T11:02:18.986Z"
   },
   {
    "duration": 15,
    "start_time": "2023-08-24T11:02:20.953Z"
   },
   {
    "duration": 3,
    "start_time": "2023-08-24T11:05:11.385Z"
   },
   {
    "duration": 3,
    "start_time": "2023-08-24T11:05:12.430Z"
   },
   {
    "duration": 4,
    "start_time": "2023-08-24T11:05:14.480Z"
   },
   {
    "duration": 14,
    "start_time": "2023-08-24T11:05:15.461Z"
   },
   {
    "duration": 133,
    "start_time": "2023-08-24T11:06:14.406Z"
   },
   {
    "duration": 9,
    "start_time": "2023-08-24T11:08:53.994Z"
   },
   {
    "duration": 15,
    "start_time": "2023-08-24T11:09:05.331Z"
   },
   {
    "duration": 12,
    "start_time": "2023-08-24T11:09:33.465Z"
   },
   {
    "duration": 33,
    "start_time": "2023-08-24T11:10:05.329Z"
   },
   {
    "duration": 37,
    "start_time": "2023-08-24T11:11:14.387Z"
   },
   {
    "duration": 35,
    "start_time": "2023-08-24T11:11:24.446Z"
   },
   {
    "duration": 40,
    "start_time": "2023-08-24T11:11:46.040Z"
   },
   {
    "duration": 5707,
    "start_time": "2023-08-24T11:12:20.234Z"
   },
   {
    "duration": 1700,
    "start_time": "2023-08-24T11:13:06.907Z"
   },
   {
    "duration": 22,
    "start_time": "2023-08-24T11:13:14.353Z"
   },
   {
    "duration": 48,
    "start_time": "2023-08-24T11:13:58.733Z"
   },
   {
    "duration": 11,
    "start_time": "2023-08-24T11:14:18.058Z"
   },
   {
    "duration": 30,
    "start_time": "2023-08-24T11:14:43.927Z"
   },
   {
    "duration": 66,
    "start_time": "2023-08-24T11:14:56.101Z"
   },
   {
    "duration": 53,
    "start_time": "2023-08-24T11:15:17.714Z"
   },
   {
    "duration": 78,
    "start_time": "2023-08-24T11:15:33.594Z"
   },
   {
    "duration": 51,
    "start_time": "2023-08-24T11:15:36.651Z"
   },
   {
    "duration": 89,
    "start_time": "2023-08-24T11:15:41.596Z"
   },
   {
    "duration": 56,
    "start_time": "2023-08-24T11:15:43.447Z"
   },
   {
    "duration": 50,
    "start_time": "2023-08-24T11:16:23.641Z"
   },
   {
    "duration": 56,
    "start_time": "2023-08-24T11:17:47.199Z"
   },
   {
    "duration": 94,
    "start_time": "2023-08-24T11:18:28.273Z"
   },
   {
    "duration": 58,
    "start_time": "2023-08-24T11:18:30.295Z"
   },
   {
    "duration": 22,
    "start_time": "2023-08-24T11:18:36.301Z"
   },
   {
    "duration": 53,
    "start_time": "2023-08-24T11:18:46.121Z"
   },
   {
    "duration": 2545,
    "start_time": "2023-08-24T11:20:35.295Z"
   },
   {
    "duration": 3040,
    "start_time": "2023-08-24T11:20:37.844Z"
   },
   {
    "duration": 2427,
    "start_time": "2023-08-24T11:20:40.886Z"
   },
   {
    "duration": 2420,
    "start_time": "2023-08-24T11:20:43.315Z"
   },
   {
    "duration": 2249,
    "start_time": "2023-08-24T11:20:45.738Z"
   },
   {
    "duration": 2173,
    "start_time": "2023-08-24T11:20:47.990Z"
   },
   {
    "duration": 2591,
    "start_time": "2023-08-24T11:20:50.166Z"
   },
   {
    "duration": 3101,
    "start_time": "2023-08-24T11:20:52.760Z"
   },
   {
    "duration": 814,
    "start_time": "2023-08-24T11:20:55.863Z"
   },
   {
    "duration": 31,
    "start_time": "2023-08-24T11:20:56.678Z"
   },
   {
    "duration": 13,
    "start_time": "2023-08-24T11:20:56.711Z"
   },
   {
    "duration": 268,
    "start_time": "2023-08-24T11:20:56.735Z"
   },
   {
    "duration": 5,
    "start_time": "2023-08-24T11:20:57.005Z"
   },
   {
    "duration": 29,
    "start_time": "2023-08-24T11:20:57.014Z"
   },
   {
    "duration": 22,
    "start_time": "2023-08-24T11:20:57.045Z"
   },
   {
    "duration": 28,
    "start_time": "2023-08-24T11:20:57.068Z"
   },
   {
    "duration": 248,
    "start_time": "2023-08-24T11:20:57.098Z"
   },
   {
    "duration": 10,
    "start_time": "2023-08-24T11:20:57.348Z"
   },
   {
    "duration": 124,
    "start_time": "2023-08-24T11:20:57.359Z"
   },
   {
    "duration": 5,
    "start_time": "2023-08-24T11:20:57.485Z"
   },
   {
    "duration": 18,
    "start_time": "2023-08-24T11:20:57.493Z"
   },
   {
    "duration": 10,
    "start_time": "2023-08-24T11:20:57.513Z"
   },
   {
    "duration": 26,
    "start_time": "2023-08-24T11:20:57.524Z"
   },
   {
    "duration": 25,
    "start_time": "2023-08-24T11:20:57.552Z"
   },
   {
    "duration": 1253175,
    "start_time": "2023-08-24T11:20:57.579Z"
   },
   {
    "duration": 5,
    "start_time": "2023-08-24T11:41:50.756Z"
   },
   {
    "duration": 70,
    "start_time": "2023-08-24T11:41:50.762Z"
   },
   {
    "duration": 155,
    "start_time": "2023-08-24T11:41:50.833Z"
   },
   {
    "duration": 2,
    "start_time": "2023-08-24T11:41:50.990Z"
   },
   {
    "duration": 52,
    "start_time": "2023-08-24T11:41:50.994Z"
   },
   {
    "duration": 154,
    "start_time": "2023-08-24T11:41:51.048Z"
   },
   {
    "duration": 0,
    "start_time": "2023-08-24T11:41:51.204Z"
   },
   {
    "duration": 0,
    "start_time": "2023-08-24T11:41:51.205Z"
   },
   {
    "duration": 0,
    "start_time": "2023-08-24T11:41:51.206Z"
   },
   {
    "duration": 0,
    "start_time": "2023-08-24T11:41:51.207Z"
   },
   {
    "duration": 0,
    "start_time": "2023-08-24T11:41:51.208Z"
   },
   {
    "duration": 0,
    "start_time": "2023-08-24T11:41:51.209Z"
   },
   {
    "duration": 0,
    "start_time": "2023-08-24T11:41:51.210Z"
   },
   {
    "duration": 0,
    "start_time": "2023-08-24T11:41:51.211Z"
   },
   {
    "duration": 0,
    "start_time": "2023-08-24T11:41:51.212Z"
   },
   {
    "duration": 0,
    "start_time": "2023-08-24T11:41:51.213Z"
   },
   {
    "duration": 0,
    "start_time": "2023-08-24T11:41:51.214Z"
   },
   {
    "duration": 0,
    "start_time": "2023-08-24T11:41:51.214Z"
   },
   {
    "duration": 0,
    "start_time": "2023-08-24T11:41:51.215Z"
   },
   {
    "duration": 0,
    "start_time": "2023-08-24T11:41:51.234Z"
   },
   {
    "duration": 0,
    "start_time": "2023-08-24T11:41:51.237Z"
   },
   {
    "duration": 0,
    "start_time": "2023-08-24T11:41:51.239Z"
   },
   {
    "duration": 0,
    "start_time": "2023-08-24T11:41:51.240Z"
   },
   {
    "duration": 1,
    "start_time": "2023-08-24T11:41:51.241Z"
   },
   {
    "duration": 0,
    "start_time": "2023-08-24T11:41:51.243Z"
   },
   {
    "duration": 0,
    "start_time": "2023-08-24T11:41:51.244Z"
   },
   {
    "duration": 0,
    "start_time": "2023-08-24T11:41:51.246Z"
   },
   {
    "duration": 0,
    "start_time": "2023-08-24T11:41:51.247Z"
   },
   {
    "duration": 0,
    "start_time": "2023-08-24T11:41:51.249Z"
   },
   {
    "duration": 0,
    "start_time": "2023-08-24T11:41:51.250Z"
   },
   {
    "duration": 0,
    "start_time": "2023-08-24T11:41:51.252Z"
   },
   {
    "duration": 0,
    "start_time": "2023-08-24T11:41:51.253Z"
   },
   {
    "duration": 0,
    "start_time": "2023-08-24T11:41:51.255Z"
   },
   {
    "duration": 0,
    "start_time": "2023-08-24T11:41:51.256Z"
   },
   {
    "duration": 10,
    "start_time": "2023-08-24T11:42:51.833Z"
   },
   {
    "duration": 6,
    "start_time": "2023-08-24T11:43:25.034Z"
   },
   {
    "duration": 14,
    "start_time": "2023-08-24T11:43:25.528Z"
   },
   {
    "duration": 11,
    "start_time": "2023-08-24T11:43:30.164Z"
   },
   {
    "duration": 26,
    "start_time": "2023-08-24T11:44:00.899Z"
   },
   {
    "duration": 26,
    "start_time": "2023-08-24T11:44:29.779Z"
   },
   {
    "duration": 4,
    "start_time": "2023-08-24T11:44:36.104Z"
   },
   {
    "duration": 24,
    "start_time": "2023-08-24T11:44:48.348Z"
   },
   {
    "duration": 4,
    "start_time": "2023-08-24T11:44:51.348Z"
   },
   {
    "duration": 51,
    "start_time": "2023-08-24T11:45:47.550Z"
   },
   {
    "duration": 24,
    "start_time": "2023-08-24T11:45:57.288Z"
   },
   {
    "duration": 2,
    "start_time": "2023-08-24T11:45:59.867Z"
   },
   {
    "duration": 14,
    "start_time": "2023-08-24T11:46:01.151Z"
   },
   {
    "duration": 67,
    "start_time": "2023-08-24T11:46:20.194Z"
   },
   {
    "duration": 5391,
    "start_time": "2023-08-24T11:46:24.418Z"
   },
   {
    "duration": 1743,
    "start_time": "2023-08-24T11:46:39.506Z"
   },
   {
    "duration": 50,
    "start_time": "2023-08-24T11:46:45.232Z"
   },
   {
    "duration": 298,
    "start_time": "2023-08-24T11:47:12.052Z"
   },
   {
    "duration": 4,
    "start_time": "2023-08-24T11:47:32.520Z"
   },
   {
    "duration": 65,
    "start_time": "2023-08-24T11:52:30.321Z"
   },
   {
    "duration": 2480,
    "start_time": "2023-08-24T11:54:08.669Z"
   },
   {
    "duration": 60,
    "start_time": "2023-08-24T11:54:15.009Z"
   },
   {
    "duration": 3,
    "start_time": "2023-08-24T11:56:10.619Z"
   },
   {
    "duration": 13,
    "start_time": "2023-08-24T11:56:11.297Z"
   },
   {
    "duration": 58,
    "start_time": "2023-08-24T11:57:02.103Z"
   },
   {
    "duration": 4,
    "start_time": "2023-08-24T11:57:15.505Z"
   },
   {
    "duration": 33,
    "start_time": "2023-08-24T11:57:18.542Z"
   },
   {
    "duration": 3,
    "start_time": "2023-08-24T11:57:20.306Z"
   },
   {
    "duration": 143,
    "start_time": "2023-08-24T11:57:23.863Z"
   },
   {
    "duration": 2401,
    "start_time": "2023-08-24T11:57:40.750Z"
   },
   {
    "duration": 3119,
    "start_time": "2023-08-24T11:57:43.154Z"
   },
   {
    "duration": 2480,
    "start_time": "2023-08-24T11:57:46.275Z"
   },
   {
    "duration": 2564,
    "start_time": "2023-08-24T11:57:48.757Z"
   },
   {
    "duration": 2303,
    "start_time": "2023-08-24T11:57:51.324Z"
   },
   {
    "duration": 2323,
    "start_time": "2023-08-24T11:57:53.629Z"
   },
   {
    "duration": 2690,
    "start_time": "2023-08-24T11:57:55.955Z"
   },
   {
    "duration": 2748,
    "start_time": "2023-08-24T11:57:58.647Z"
   },
   {
    "duration": 865,
    "start_time": "2023-08-24T11:58:01.397Z"
   },
   {
    "duration": 36,
    "start_time": "2023-08-24T11:58:02.265Z"
   },
   {
    "duration": 89,
    "start_time": "2023-08-24T11:58:02.303Z"
   },
   {
    "duration": 336,
    "start_time": "2023-08-24T11:58:02.394Z"
   },
   {
    "duration": 6,
    "start_time": "2023-08-24T11:58:02.733Z"
   },
   {
    "duration": 29,
    "start_time": "2023-08-24T11:58:02.741Z"
   },
   {
    "duration": 43,
    "start_time": "2023-08-24T11:58:02.772Z"
   },
   {
    "duration": 40,
    "start_time": "2023-08-24T11:58:02.818Z"
   },
   {
    "duration": 229,
    "start_time": "2023-08-24T11:58:02.860Z"
   },
   {
    "duration": 9,
    "start_time": "2023-08-24T11:58:03.091Z"
   },
   {
    "duration": 145,
    "start_time": "2023-08-24T11:58:03.102Z"
   },
   {
    "duration": 4,
    "start_time": "2023-08-24T11:58:03.248Z"
   },
   {
    "duration": 55,
    "start_time": "2023-08-24T11:58:03.254Z"
   },
   {
    "duration": 53,
    "start_time": "2023-08-24T11:58:03.311Z"
   },
   {
    "duration": 21,
    "start_time": "2023-08-24T11:58:03.366Z"
   },
   {
    "duration": 21,
    "start_time": "2023-08-24T11:58:03.389Z"
   },
   {
    "duration": 1230431,
    "start_time": "2023-08-24T11:58:03.413Z"
   },
   {
    "duration": 6,
    "start_time": "2023-08-24T12:18:33.846Z"
   },
   {
    "duration": 14,
    "start_time": "2023-08-24T12:18:33.854Z"
   },
   {
    "duration": 103,
    "start_time": "2023-08-24T12:18:33.873Z"
   },
   {
    "duration": 2,
    "start_time": "2023-08-24T12:18:33.977Z"
   },
   {
    "duration": 23,
    "start_time": "2023-08-24T12:18:33.981Z"
   },
   {
    "duration": 33,
    "start_time": "2023-08-24T12:18:34.006Z"
   },
   {
    "duration": 16,
    "start_time": "2023-08-24T12:18:34.041Z"
   },
   {
    "duration": 145,
    "start_time": "2023-08-24T12:18:34.059Z"
   },
   {
    "duration": 22,
    "start_time": "2023-08-24T12:18:34.205Z"
   },
   {
    "duration": 3,
    "start_time": "2023-08-24T12:18:34.228Z"
   },
   {
    "duration": 69,
    "start_time": "2023-08-24T12:18:34.233Z"
   },
   {
    "duration": 5386,
    "start_time": "2023-08-24T12:18:34.304Z"
   },
   {
    "duration": 1626,
    "start_time": "2023-08-24T12:18:39.691Z"
   },
   {
    "duration": 47,
    "start_time": "2023-08-24T12:18:41.319Z"
   },
   {
    "duration": 452,
    "start_time": "2023-08-24T12:18:41.368Z"
   },
   {
    "duration": 0,
    "start_time": "2023-08-24T12:18:41.822Z"
   },
   {
    "duration": 0,
    "start_time": "2023-08-24T12:18:41.823Z"
   },
   {
    "duration": 0,
    "start_time": "2023-08-24T12:18:41.834Z"
   },
   {
    "duration": 0,
    "start_time": "2023-08-24T12:18:41.835Z"
   },
   {
    "duration": 0,
    "start_time": "2023-08-24T12:18:41.836Z"
   },
   {
    "duration": 0,
    "start_time": "2023-08-24T12:18:41.837Z"
   },
   {
    "duration": 0,
    "start_time": "2023-08-24T12:18:41.838Z"
   },
   {
    "duration": 0,
    "start_time": "2023-08-24T12:18:41.839Z"
   },
   {
    "duration": 0,
    "start_time": "2023-08-24T12:18:41.840Z"
   },
   {
    "duration": 0,
    "start_time": "2023-08-24T12:18:41.841Z"
   },
   {
    "duration": 0,
    "start_time": "2023-08-24T12:18:41.842Z"
   },
   {
    "duration": 0,
    "start_time": "2023-08-24T12:18:41.844Z"
   },
   {
    "duration": 0,
    "start_time": "2023-08-24T12:18:41.845Z"
   },
   {
    "duration": 0,
    "start_time": "2023-08-24T12:18:41.846Z"
   },
   {
    "duration": 0,
    "start_time": "2023-08-24T12:18:41.847Z"
   },
   {
    "duration": 0,
    "start_time": "2023-08-24T12:18:41.848Z"
   },
   {
    "duration": 0,
    "start_time": "2023-08-24T12:18:41.850Z"
   },
   {
    "duration": 0,
    "start_time": "2023-08-24T12:18:41.851Z"
   },
   {
    "duration": 2450,
    "start_time": "2023-08-24T12:44:33.241Z"
   },
   {
    "duration": 3103,
    "start_time": "2023-08-24T12:44:35.694Z"
   },
   {
    "duration": 2158,
    "start_time": "2023-08-24T12:44:38.799Z"
   },
   {
    "duration": 2178,
    "start_time": "2023-08-24T12:44:40.959Z"
   },
   {
    "duration": 2479,
    "start_time": "2023-08-24T12:44:43.139Z"
   },
   {
    "duration": 2078,
    "start_time": "2023-08-24T12:44:45.620Z"
   },
   {
    "duration": 2449,
    "start_time": "2023-08-24T12:44:47.700Z"
   },
   {
    "duration": 4308,
    "start_time": "2023-08-24T12:44:50.151Z"
   },
   {
    "duration": 795,
    "start_time": "2023-08-24T12:44:54.462Z"
   },
   {
    "duration": 27,
    "start_time": "2023-08-24T12:44:55.259Z"
   },
   {
    "duration": 13,
    "start_time": "2023-08-24T12:44:55.288Z"
   },
   {
    "duration": 20,
    "start_time": "2023-08-24T12:44:55.303Z"
   },
   {
    "duration": 20,
    "start_time": "2023-08-24T12:44:55.324Z"
   },
   {
    "duration": 21,
    "start_time": "2023-08-24T12:44:55.346Z"
   },
   {
    "duration": 15,
    "start_time": "2023-08-24T12:44:55.369Z"
   },
   {
    "duration": 25,
    "start_time": "2023-08-24T12:44:55.386Z"
   },
   {
    "duration": 214,
    "start_time": "2023-08-24T12:44:55.412Z"
   },
   {
    "duration": 10,
    "start_time": "2023-08-24T12:44:55.628Z"
   },
   {
    "duration": 130,
    "start_time": "2023-08-24T12:44:55.640Z"
   },
   {
    "duration": 4,
    "start_time": "2023-08-24T12:44:55.771Z"
   },
   {
    "duration": 26,
    "start_time": "2023-08-24T12:44:55.776Z"
   },
   {
    "duration": 7,
    "start_time": "2023-08-24T12:44:55.804Z"
   },
   {
    "duration": 4,
    "start_time": "2023-08-24T12:44:55.813Z"
   },
   {
    "duration": 12,
    "start_time": "2023-08-24T12:44:55.819Z"
   },
   {
    "duration": 1163281,
    "start_time": "2023-08-24T12:44:55.832Z"
   },
   {
    "duration": 4,
    "start_time": "2023-08-24T13:04:19.115Z"
   },
   {
    "duration": 14,
    "start_time": "2023-08-24T13:04:19.121Z"
   },
   {
    "duration": 83,
    "start_time": "2023-08-24T13:04:19.138Z"
   },
   {
    "duration": 11,
    "start_time": "2023-08-24T13:04:19.223Z"
   },
   {
    "duration": 10,
    "start_time": "2023-08-24T13:04:19.235Z"
   },
   {
    "duration": 27,
    "start_time": "2023-08-24T13:04:19.246Z"
   },
   {
    "duration": 10,
    "start_time": "2023-08-24T13:04:19.274Z"
   },
   {
    "duration": 91,
    "start_time": "2023-08-24T13:04:19.286Z"
   },
   {
    "duration": 19,
    "start_time": "2023-08-24T13:04:19.379Z"
   },
   {
    "duration": 4,
    "start_time": "2023-08-24T13:04:19.400Z"
   },
   {
    "duration": 62,
    "start_time": "2023-08-24T13:04:19.405Z"
   },
   {
    "duration": 5141,
    "start_time": "2023-08-24T13:04:19.468Z"
   },
   {
    "duration": 1668,
    "start_time": "2023-08-24T13:04:24.611Z"
   },
   {
    "duration": 45,
    "start_time": "2023-08-24T13:04:26.281Z"
   },
   {
    "duration": 420,
    "start_time": "2023-08-24T13:04:26.327Z"
   },
   {
    "duration": 0,
    "start_time": "2023-08-24T13:04:26.749Z"
   },
   {
    "duration": 0,
    "start_time": "2023-08-24T13:04:26.750Z"
   },
   {
    "duration": 0,
    "start_time": "2023-08-24T13:04:26.751Z"
   },
   {
    "duration": 0,
    "start_time": "2023-08-24T13:04:26.752Z"
   },
   {
    "duration": 0,
    "start_time": "2023-08-24T13:04:26.753Z"
   },
   {
    "duration": 0,
    "start_time": "2023-08-24T13:04:26.754Z"
   },
   {
    "duration": 0,
    "start_time": "2023-08-24T13:04:26.755Z"
   },
   {
    "duration": 0,
    "start_time": "2023-08-24T13:04:26.756Z"
   },
   {
    "duration": 0,
    "start_time": "2023-08-24T13:04:26.756Z"
   },
   {
    "duration": 0,
    "start_time": "2023-08-24T13:04:26.757Z"
   },
   {
    "duration": 0,
    "start_time": "2023-08-24T13:04:26.758Z"
   },
   {
    "duration": 0,
    "start_time": "2023-08-24T13:04:26.759Z"
   },
   {
    "duration": 0,
    "start_time": "2023-08-24T13:04:26.760Z"
   },
   {
    "duration": 0,
    "start_time": "2023-08-24T13:04:26.761Z"
   },
   {
    "duration": 0,
    "start_time": "2023-08-24T13:04:26.763Z"
   },
   {
    "duration": 0,
    "start_time": "2023-08-24T13:04:26.764Z"
   },
   {
    "duration": 0,
    "start_time": "2023-08-24T13:04:26.765Z"
   },
   {
    "duration": 0,
    "start_time": "2023-08-24T13:04:26.766Z"
   },
   {
    "duration": 3,
    "start_time": "2023-08-24T13:10:50.784Z"
   },
   {
    "duration": 15228,
    "start_time": "2023-08-24T13:11:35.353Z"
   },
   {
    "duration": 3200830,
    "start_time": "2023-08-24T13:12:16.646Z"
   },
   {
    "duration": 3588124,
    "start_time": "2023-08-24T14:16:21.065Z"
   },
   {
    "duration": 10,
    "start_time": "2023-08-24T15:16:09.191Z"
   },
   {
    "duration": 0,
    "start_time": "2023-08-24T15:16:09.203Z"
   },
   {
    "duration": 0,
    "start_time": "2023-08-24T15:16:09.204Z"
   },
   {
    "duration": 0,
    "start_time": "2023-08-24T15:16:09.205Z"
   },
   {
    "duration": 0,
    "start_time": "2023-08-24T15:16:09.206Z"
   },
   {
    "duration": 0,
    "start_time": "2023-08-24T15:16:09.207Z"
   },
   {
    "duration": 0,
    "start_time": "2023-08-24T15:16:09.208Z"
   },
   {
    "duration": 0,
    "start_time": "2023-08-24T15:16:09.234Z"
   },
   {
    "duration": 0,
    "start_time": "2023-08-24T15:16:09.235Z"
   },
   {
    "duration": 0,
    "start_time": "2023-08-24T15:16:09.235Z"
   },
   {
    "duration": 0,
    "start_time": "2023-08-24T15:16:09.236Z"
   },
   {
    "duration": 0,
    "start_time": "2023-08-24T15:16:09.237Z"
   },
   {
    "duration": 0,
    "start_time": "2023-08-24T15:16:09.238Z"
   },
   {
    "duration": 0,
    "start_time": "2023-08-24T15:16:09.253Z"
   },
   {
    "duration": 0,
    "start_time": "2023-08-24T15:16:09.254Z"
   },
   {
    "duration": 0,
    "start_time": "2023-08-24T15:16:09.255Z"
   },
   {
    "duration": 0,
    "start_time": "2023-08-24T15:16:09.256Z"
   },
   {
    "duration": 0,
    "start_time": "2023-08-24T15:16:09.257Z"
   },
   {
    "duration": 15,
    "start_time": "2023-08-24T15:27:14.593Z"
   },
   {
    "duration": 36,
    "start_time": "2023-08-24T15:27:18.141Z"
   },
   {
    "duration": 2,
    "start_time": "2023-08-24T15:27:20.989Z"
   },
   {
    "duration": 454,
    "start_time": "2023-08-24T15:27:22.589Z"
   },
   {
    "duration": 153,
    "start_time": "2023-08-24T15:28:01.794Z"
   },
   {
    "duration": 32,
    "start_time": "2023-08-24T15:28:47.912Z"
   },
   {
    "duration": 12,
    "start_time": "2023-08-24T15:29:01.498Z"
   },
   {
    "duration": 11,
    "start_time": "2023-08-24T15:29:18.707Z"
   },
   {
    "duration": 17,
    "start_time": "2023-08-24T15:29:21.726Z"
   },
   {
    "duration": 20,
    "start_time": "2023-08-24T15:29:25.327Z"
   },
   {
    "duration": 4,
    "start_time": "2023-08-24T15:30:01.125Z"
   },
   {
    "duration": 12,
    "start_time": "2023-08-24T15:30:33.465Z"
   },
   {
    "duration": 6,
    "start_time": "2023-08-24T15:31:40.046Z"
   },
   {
    "duration": 12,
    "start_time": "2023-08-24T15:31:49.122Z"
   },
   {
    "duration": 11,
    "start_time": "2023-08-24T15:32:02.448Z"
   },
   {
    "duration": 4,
    "start_time": "2023-08-24T15:32:07.595Z"
   },
   {
    "duration": 14,
    "start_time": "2023-08-24T15:33:28.911Z"
   },
   {
    "duration": 6,
    "start_time": "2023-08-24T15:33:33.596Z"
   },
   {
    "duration": 6,
    "start_time": "2023-08-24T15:35:44.507Z"
   },
   {
    "duration": 5,
    "start_time": "2023-08-24T15:35:45.781Z"
   },
   {
    "duration": 5,
    "start_time": "2023-08-24T15:35:46.325Z"
   },
   {
    "duration": 31,
    "start_time": "2023-08-24T15:35:47.690Z"
   },
   {
    "duration": 3,
    "start_time": "2023-08-24T15:35:49.739Z"
   },
   {
    "duration": 154,
    "start_time": "2023-08-24T15:35:51.602Z"
   },
   {
    "duration": 25,
    "start_time": "2023-08-24T15:35:53.713Z"
   },
   {
    "duration": 3066,
    "start_time": "2023-08-24T15:35:55.415Z"
   },
   {
    "duration": 13,
    "start_time": "2023-08-24T15:36:00.989Z"
   },
   {
    "duration": 2312,
    "start_time": "2023-08-24T15:39:12.202Z"
   },
   {
    "duration": 3074,
    "start_time": "2023-08-24T15:39:14.519Z"
   },
   {
    "duration": 2258,
    "start_time": "2023-08-24T15:39:17.596Z"
   },
   {
    "duration": 2126,
    "start_time": "2023-08-24T15:39:19.857Z"
   },
   {
    "duration": 2168,
    "start_time": "2023-08-24T15:39:21.986Z"
   },
   {
    "duration": 2138,
    "start_time": "2023-08-24T15:39:24.156Z"
   },
   {
    "duration": 2641,
    "start_time": "2023-08-24T15:39:26.297Z"
   },
   {
    "duration": 2538,
    "start_time": "2023-08-24T15:39:28.940Z"
   },
   {
    "duration": 815,
    "start_time": "2023-08-24T15:39:31.480Z"
   },
   {
    "duration": 41,
    "start_time": "2023-08-24T15:39:32.300Z"
   },
   {
    "duration": 75,
    "start_time": "2023-08-24T15:39:32.342Z"
   },
   {
    "duration": 45,
    "start_time": "2023-08-24T15:39:32.418Z"
   },
   {
    "duration": 28,
    "start_time": "2023-08-24T15:39:32.465Z"
   },
   {
    "duration": 45,
    "start_time": "2023-08-24T15:39:32.495Z"
   },
   {
    "duration": 47,
    "start_time": "2023-08-24T15:39:32.542Z"
   },
   {
    "duration": 42,
    "start_time": "2023-08-24T15:39:32.590Z"
   },
   {
    "duration": 259,
    "start_time": "2023-08-24T15:39:32.634Z"
   },
   {
    "duration": 10,
    "start_time": "2023-08-24T15:39:32.894Z"
   },
   {
    "duration": 135,
    "start_time": "2023-08-24T15:39:32.905Z"
   },
   {
    "duration": 6,
    "start_time": "2023-08-24T15:39:33.043Z"
   },
   {
    "duration": 6,
    "start_time": "2023-08-24T15:39:33.051Z"
   },
   {
    "duration": 11,
    "start_time": "2023-08-24T15:39:33.060Z"
   },
   {
    "duration": 14,
    "start_time": "2023-08-24T15:39:33.074Z"
   },
   {
    "duration": 25,
    "start_time": "2023-08-24T15:39:33.090Z"
   },
   {
    "duration": 1331189,
    "start_time": "2023-08-24T15:39:33.117Z"
   },
   {
    "duration": 6,
    "start_time": "2023-08-24T16:01:44.308Z"
   },
   {
    "duration": 46,
    "start_time": "2023-08-24T16:01:44.316Z"
   },
   {
    "duration": 162,
    "start_time": "2023-08-24T16:01:44.373Z"
   },
   {
    "duration": 3,
    "start_time": "2023-08-24T16:01:44.537Z"
   },
   {
    "duration": 37,
    "start_time": "2023-08-24T16:01:44.543Z"
   },
   {
    "duration": 30,
    "start_time": "2023-08-24T16:01:44.582Z"
   },
   {
    "duration": 11,
    "start_time": "2023-08-24T16:01:44.614Z"
   },
   {
    "duration": 117,
    "start_time": "2023-08-24T16:01:44.627Z"
   },
   {
    "duration": 28,
    "start_time": "2023-08-24T16:01:44.746Z"
   },
   {
    "duration": 29,
    "start_time": "2023-08-24T16:01:44.776Z"
   },
   {
    "duration": 83,
    "start_time": "2023-08-24T16:01:44.808Z"
   },
   {
    "duration": 5594,
    "start_time": "2023-08-24T16:01:44.894Z"
   },
   {
    "duration": 1687,
    "start_time": "2023-08-24T16:01:50.490Z"
   },
   {
    "duration": 56,
    "start_time": "2023-08-24T16:01:52.179Z"
   },
   {
    "duration": 4,
    "start_time": "2023-08-24T16:01:52.236Z"
   },
   {
    "duration": 586,
    "start_time": "2023-08-24T16:01:52.244Z"
   },
   {
    "duration": 5,
    "start_time": "2023-08-24T16:01:52.832Z"
   },
   {
    "duration": 36,
    "start_time": "2023-08-24T16:01:52.839Z"
   },
   {
    "duration": 3,
    "start_time": "2023-08-24T16:01:52.878Z"
   },
   {
    "duration": 263296,
    "start_time": "2023-08-24T16:01:52.884Z"
   },
   {
    "duration": 57,
    "start_time": "2023-08-24T16:06:16.182Z"
   },
   {
    "duration": 46,
    "start_time": "2023-08-24T18:15:17.442Z"
   },
   {
    "duration": 3090,
    "start_time": "2023-08-24T18:15:24.451Z"
   },
   {
    "duration": 4640,
    "start_time": "2023-08-24T18:15:27.544Z"
   },
   {
    "duration": 2224,
    "start_time": "2023-08-24T18:15:32.186Z"
   },
   {
    "duration": 2171,
    "start_time": "2023-08-24T18:15:34.412Z"
   },
   {
    "duration": 7284,
    "start_time": "2023-08-24T18:15:36.586Z"
   },
   {
    "duration": 3292,
    "start_time": "2023-08-24T18:15:43.872Z"
   },
   {
    "duration": 2575,
    "start_time": "2023-08-24T18:15:47.166Z"
   },
   {
    "duration": 4681,
    "start_time": "2023-08-24T18:15:49.743Z"
   },
   {
    "duration": 2556,
    "start_time": "2023-08-24T18:15:54.426Z"
   },
   {
    "duration": 30,
    "start_time": "2023-08-24T18:15:56.983Z"
   },
   {
    "duration": 10,
    "start_time": "2023-08-24T18:15:57.014Z"
   },
   {
    "duration": 3,
    "start_time": "2023-08-24T18:15:57.025Z"
   },
   {
    "duration": 6,
    "start_time": "2023-08-24T18:15:57.029Z"
   },
   {
    "duration": 11,
    "start_time": "2023-08-24T18:15:57.038Z"
   },
   {
    "duration": 17,
    "start_time": "2023-08-24T18:15:57.050Z"
   },
   {
    "duration": 49,
    "start_time": "2023-08-24T18:15:57.068Z"
   },
   {
    "duration": 218,
    "start_time": "2023-08-24T18:15:57.118Z"
   },
   {
    "duration": 8,
    "start_time": "2023-08-24T18:15:57.337Z"
   },
   {
    "duration": 126,
    "start_time": "2023-08-24T18:15:57.347Z"
   },
   {
    "duration": 3,
    "start_time": "2023-08-24T18:15:57.475Z"
   },
   {
    "duration": 7,
    "start_time": "2023-08-24T18:15:57.480Z"
   },
   {
    "duration": 5,
    "start_time": "2023-08-24T18:15:57.488Z"
   },
   {
    "duration": 17,
    "start_time": "2023-08-24T18:15:57.494Z"
   },
   {
    "duration": 4,
    "start_time": "2023-08-24T18:15:57.513Z"
   },
   {
    "duration": 1239832,
    "start_time": "2023-08-24T18:15:57.518Z"
   },
   {
    "duration": 5,
    "start_time": "2023-08-24T18:36:37.351Z"
   },
   {
    "duration": 17,
    "start_time": "2023-08-24T18:36:37.358Z"
   },
   {
    "duration": 102,
    "start_time": "2023-08-24T18:36:37.376Z"
   },
   {
    "duration": 3,
    "start_time": "2023-08-24T18:36:37.480Z"
   },
   {
    "duration": 26,
    "start_time": "2023-08-24T18:36:37.484Z"
   },
   {
    "duration": 31,
    "start_time": "2023-08-24T18:36:37.512Z"
   },
   {
    "duration": 46,
    "start_time": "2023-08-24T18:36:37.545Z"
   },
   {
    "duration": 102,
    "start_time": "2023-08-24T18:36:37.593Z"
   },
   {
    "duration": 23,
    "start_time": "2023-08-24T18:36:37.697Z"
   },
   {
    "duration": 6,
    "start_time": "2023-08-24T18:36:37.722Z"
   },
   {
    "duration": 80,
    "start_time": "2023-08-24T18:36:37.730Z"
   },
   {
    "duration": 5665,
    "start_time": "2023-08-24T18:36:37.812Z"
   },
   {
    "duration": 1746,
    "start_time": "2023-08-24T18:36:43.479Z"
   },
   {
    "duration": 50,
    "start_time": "2023-08-24T18:36:45.228Z"
   },
   {
    "duration": 7,
    "start_time": "2023-08-24T18:36:45.280Z"
   },
   {
    "duration": 592,
    "start_time": "2023-08-24T18:36:45.309Z"
   },
   {
    "duration": 4,
    "start_time": "2023-08-24T18:36:45.903Z"
   },
   {
    "duration": 50,
    "start_time": "2023-08-24T18:36:45.909Z"
   },
   {
    "duration": 3,
    "start_time": "2023-08-24T18:36:45.960Z"
   },
   {
    "duration": 285174,
    "start_time": "2023-08-24T18:36:45.964Z"
   },
   {
    "duration": 70,
    "start_time": "2023-08-24T18:41:31.140Z"
   },
   {
    "duration": 6550378,
    "start_time": "2023-08-24T18:41:31.211Z"
   },
   {
    "duration": 703,
    "start_time": "2023-08-24T20:30:41.591Z"
   },
   {
    "duration": 4,
    "start_time": "2023-08-24T20:30:42.296Z"
   },
   {
    "duration": 105,
    "start_time": "2023-08-24T20:30:42.309Z"
   },
   {
    "duration": 19,
    "start_time": "2023-08-24T20:30:42.417Z"
   },
   {
    "duration": 0,
    "start_time": "2023-08-24T20:30:42.438Z"
   },
   {
    "duration": 0,
    "start_time": "2023-08-24T20:30:42.440Z"
   },
   {
    "duration": 0,
    "start_time": "2023-08-24T20:30:42.442Z"
   },
   {
    "duration": 0,
    "start_time": "2023-08-24T20:30:42.443Z"
   },
   {
    "duration": 0,
    "start_time": "2023-08-24T20:30:42.445Z"
   },
   {
    "duration": 0,
    "start_time": "2023-08-24T20:30:42.447Z"
   },
   {
    "duration": 0,
    "start_time": "2023-08-24T20:30:42.448Z"
   },
   {
    "duration": 0,
    "start_time": "2023-08-24T20:30:42.450Z"
   },
   {
    "duration": 237861,
    "start_time": "2023-08-24T21:31:45.347Z"
   },
   {
    "duration": 16,
    "start_time": "2023-08-24T21:35:43.210Z"
   },
   {
    "duration": 50414,
    "start_time": "2023-08-24T21:35:43.228Z"
   },
   {
    "duration": 828,
    "start_time": "2023-08-24T21:43:54.622Z"
   },
   {
    "duration": 18476,
    "start_time": "2023-08-24T21:44:08.271Z"
   },
   {
    "duration": 117,
    "start_time": "2023-08-24T21:45:54.659Z"
   },
   {
    "duration": 0,
    "start_time": "2023-08-24T21:47:20.949Z"
   },
   {
    "duration": 50047,
    "start_time": "2023-08-24T21:47:54.692Z"
   },
   {
    "duration": 69611,
    "start_time": "2023-08-24T21:49:47.737Z"
   },
   {
    "duration": 25,
    "start_time": "2023-08-24T21:55:20.199Z"
   },
   {
    "duration": 478,
    "start_time": "2023-08-25T11:36:13.601Z"
   },
   {
    "duration": 4688,
    "start_time": "2023-08-25T11:36:35.662Z"
   },
   {
    "duration": 56,
    "start_time": "2023-08-25T11:36:44.903Z"
   },
   {
    "duration": 3395,
    "start_time": "2023-08-25T11:37:04.785Z"
   },
   {
    "duration": 7473,
    "start_time": "2023-08-25T11:37:24.247Z"
   },
   {
    "duration": 132,
    "start_time": "2023-08-25T11:37:32.843Z"
   },
   {
    "duration": 2821,
    "start_time": "2023-08-25T11:37:44.969Z"
   },
   {
    "duration": 3713,
    "start_time": "2023-08-25T11:37:47.793Z"
   },
   {
    "duration": 2192,
    "start_time": "2023-08-25T11:37:51.508Z"
   },
   {
    "duration": 2213,
    "start_time": "2023-08-25T11:37:53.703Z"
   },
   {
    "duration": 2113,
    "start_time": "2023-08-25T11:37:55.918Z"
   },
   {
    "duration": 4711,
    "start_time": "2023-08-25T11:37:58.033Z"
   },
   {
    "duration": 2797,
    "start_time": "2023-08-25T11:38:02.746Z"
   },
   {
    "duration": 2210,
    "start_time": "2023-08-25T11:38:05.547Z"
   },
   {
    "duration": 30,
    "start_time": "2023-08-25T11:38:07.759Z"
   },
   {
    "duration": 2185,
    "start_time": "2023-08-25T11:38:48.259Z"
   },
   {
    "duration": 2933,
    "start_time": "2023-08-25T11:38:50.448Z"
   },
   {
    "duration": 2198,
    "start_time": "2023-08-25T11:38:53.383Z"
   },
   {
    "duration": 2138,
    "start_time": "2023-08-25T11:38:55.583Z"
   },
   {
    "duration": 2088,
    "start_time": "2023-08-25T11:38:57.723Z"
   },
   {
    "duration": 2098,
    "start_time": "2023-08-25T11:38:59.813Z"
   },
   {
    "duration": 2605,
    "start_time": "2023-08-25T11:39:01.914Z"
   },
   {
    "duration": 2111,
    "start_time": "2023-08-25T11:39:04.521Z"
   },
   {
    "duration": 2910,
    "start_time": "2023-08-25T11:39:06.634Z"
   },
   {
    "duration": 2377,
    "start_time": "2023-08-25T11:39:09.547Z"
   },
   {
    "duration": 31,
    "start_time": "2023-08-25T11:39:11.926Z"
   },
   {
    "duration": 10,
    "start_time": "2023-08-25T11:39:11.959Z"
   },
   {
    "duration": 8,
    "start_time": "2023-08-25T11:39:11.971Z"
   },
   {
    "duration": 10,
    "start_time": "2023-08-25T11:39:11.981Z"
   },
   {
    "duration": 13,
    "start_time": "2023-08-25T11:39:11.992Z"
   },
   {
    "duration": 41,
    "start_time": "2023-08-25T11:39:12.006Z"
   },
   {
    "duration": 32,
    "start_time": "2023-08-25T11:39:12.049Z"
   },
   {
    "duration": 242,
    "start_time": "2023-08-25T11:39:12.083Z"
   },
   {
    "duration": 12,
    "start_time": "2023-08-25T11:39:12.327Z"
   },
   {
    "duration": 121,
    "start_time": "2023-08-25T11:39:12.341Z"
   },
   {
    "duration": 3,
    "start_time": "2023-08-25T11:39:12.464Z"
   },
   {
    "duration": 37,
    "start_time": "2023-08-25T11:39:12.469Z"
   },
   {
    "duration": 67,
    "start_time": "2023-08-25T11:39:12.507Z"
   },
   {
    "duration": 16,
    "start_time": "2023-08-25T11:39:12.575Z"
   },
   {
    "duration": 31,
    "start_time": "2023-08-25T11:39:12.593Z"
   },
   {
    "duration": 5910,
    "start_time": "2023-08-25T11:39:12.626Z"
   },
   {
    "duration": 6,
    "start_time": "2023-08-25T11:39:18.537Z"
   },
   {
    "duration": 13,
    "start_time": "2023-08-25T11:39:18.548Z"
   },
   {
    "duration": 78,
    "start_time": "2023-08-25T11:39:18.563Z"
   },
   {
    "duration": 3,
    "start_time": "2023-08-25T11:39:18.642Z"
   },
   {
    "duration": 18,
    "start_time": "2023-08-25T11:39:18.646Z"
   },
   {
    "duration": 36,
    "start_time": "2023-08-25T11:39:18.666Z"
   },
   {
    "duration": 7,
    "start_time": "2023-08-25T11:39:18.704Z"
   },
   {
    "duration": 66,
    "start_time": "2023-08-25T11:39:18.713Z"
   },
   {
    "duration": 17,
    "start_time": "2023-08-25T11:39:18.781Z"
   },
   {
    "duration": 4,
    "start_time": "2023-08-25T11:39:18.800Z"
   },
   {
    "duration": 90,
    "start_time": "2023-08-25T11:39:18.806Z"
   },
   {
    "duration": 5401,
    "start_time": "2023-08-25T11:39:18.898Z"
   },
   {
    "duration": 1677,
    "start_time": "2023-08-25T11:39:24.301Z"
   },
   {
    "duration": 43,
    "start_time": "2023-08-25T11:39:25.979Z"
   },
   {
    "duration": 12,
    "start_time": "2023-08-25T11:39:26.023Z"
   },
   {
    "duration": 438,
    "start_time": "2023-08-25T11:39:26.037Z"
   },
   {
    "duration": 4,
    "start_time": "2023-08-25T11:39:26.477Z"
   },
   {
    "duration": 43,
    "start_time": "2023-08-25T11:39:26.483Z"
   },
   {
    "duration": 3,
    "start_time": "2023-08-25T11:39:26.527Z"
   },
   {
    "duration": 257820,
    "start_time": "2023-08-25T11:39:26.531Z"
   },
   {
    "duration": 50,
    "start_time": "2023-08-25T11:43:44.353Z"
   },
   {
    "duration": 2589,
    "start_time": "2023-08-25T12:01:17.626Z"
   },
   {
    "duration": 3480,
    "start_time": "2023-08-25T12:01:20.217Z"
   },
   {
    "duration": 2510,
    "start_time": "2023-08-25T12:01:23.699Z"
   },
   {
    "duration": 2252,
    "start_time": "2023-08-25T12:01:26.211Z"
   },
   {
    "duration": 2450,
    "start_time": "2023-08-25T12:01:28.465Z"
   },
   {
    "duration": 2354,
    "start_time": "2023-08-25T12:01:30.917Z"
   },
   {
    "duration": 2797,
    "start_time": "2023-08-25T12:01:33.273Z"
   },
   {
    "duration": 2168,
    "start_time": "2023-08-25T12:01:36.072Z"
   },
   {
    "duration": 2735,
    "start_time": "2023-08-25T12:01:38.243Z"
   },
   {
    "duration": 785,
    "start_time": "2023-08-25T12:01:40.981Z"
   },
   {
    "duration": 31,
    "start_time": "2023-08-25T12:01:41.768Z"
   },
   {
    "duration": 12,
    "start_time": "2023-08-25T12:01:41.801Z"
   },
   {
    "duration": 21,
    "start_time": "2023-08-25T12:01:41.815Z"
   },
   {
    "duration": 17,
    "start_time": "2023-08-25T12:01:41.838Z"
   },
   {
    "duration": 14,
    "start_time": "2023-08-25T12:01:41.857Z"
   },
   {
    "duration": 71,
    "start_time": "2023-08-25T12:01:41.872Z"
   },
   {
    "duration": 31,
    "start_time": "2023-08-25T12:01:41.945Z"
   },
   {
    "duration": 257,
    "start_time": "2023-08-25T12:01:41.978Z"
   },
   {
    "duration": 15,
    "start_time": "2023-08-25T12:01:42.238Z"
   },
   {
    "duration": 169,
    "start_time": "2023-08-25T12:01:42.255Z"
   },
   {
    "duration": 4,
    "start_time": "2023-08-25T12:01:42.426Z"
   },
   {
    "duration": 3,
    "start_time": "2023-08-25T12:01:42.436Z"
   },
   {
    "duration": 3,
    "start_time": "2023-08-25T12:01:42.442Z"
   },
   {
    "duration": 10,
    "start_time": "2023-08-25T12:01:42.448Z"
   },
   {
    "duration": 4,
    "start_time": "2023-08-25T12:01:42.460Z"
   },
   {
    "duration": 8,
    "start_time": "2023-08-25T12:01:42.465Z"
   },
   {
    "duration": 6,
    "start_time": "2023-08-25T12:01:42.475Z"
   },
   {
    "duration": 162,
    "start_time": "2023-08-25T12:01:42.485Z"
   },
   {
    "duration": 0,
    "start_time": "2023-08-25T12:01:42.649Z"
   },
   {
    "duration": 0,
    "start_time": "2023-08-25T12:01:42.651Z"
   },
   {
    "duration": 0,
    "start_time": "2023-08-25T12:01:42.652Z"
   },
   {
    "duration": 0,
    "start_time": "2023-08-25T12:01:42.655Z"
   },
   {
    "duration": 0,
    "start_time": "2023-08-25T12:01:42.657Z"
   },
   {
    "duration": 0,
    "start_time": "2023-08-25T12:01:42.659Z"
   },
   {
    "duration": 0,
    "start_time": "2023-08-25T12:01:42.661Z"
   },
   {
    "duration": 0,
    "start_time": "2023-08-25T12:01:42.662Z"
   },
   {
    "duration": 0,
    "start_time": "2023-08-25T12:01:42.663Z"
   },
   {
    "duration": 0,
    "start_time": "2023-08-25T12:01:42.664Z"
   },
   {
    "duration": 0,
    "start_time": "2023-08-25T12:01:42.666Z"
   },
   {
    "duration": 0,
    "start_time": "2023-08-25T12:01:42.667Z"
   },
   {
    "duration": 0,
    "start_time": "2023-08-25T12:01:42.668Z"
   },
   {
    "duration": 0,
    "start_time": "2023-08-25T12:01:42.670Z"
   },
   {
    "duration": 0,
    "start_time": "2023-08-25T12:01:42.671Z"
   },
   {
    "duration": 0,
    "start_time": "2023-08-25T12:01:42.673Z"
   },
   {
    "duration": 0,
    "start_time": "2023-08-25T12:01:42.674Z"
   },
   {
    "duration": 0,
    "start_time": "2023-08-25T12:01:42.675Z"
   },
   {
    "duration": 0,
    "start_time": "2023-08-25T12:01:42.677Z"
   },
   {
    "duration": 0,
    "start_time": "2023-08-25T12:01:42.678Z"
   },
   {
    "duration": 0,
    "start_time": "2023-08-25T12:01:42.680Z"
   },
   {
    "duration": 0,
    "start_time": "2023-08-25T12:01:42.681Z"
   },
   {
    "duration": 0,
    "start_time": "2023-08-25T12:01:42.682Z"
   },
   {
    "duration": 0,
    "start_time": "2023-08-25T12:01:42.684Z"
   },
   {
    "duration": 0,
    "start_time": "2023-08-25T12:01:42.735Z"
   },
   {
    "duration": 0,
    "start_time": "2023-08-25T12:01:42.736Z"
   },
   {
    "duration": 0,
    "start_time": "2023-08-25T12:01:42.737Z"
   },
   {
    "duration": 0,
    "start_time": "2023-08-25T12:01:42.738Z"
   },
   {
    "duration": 0,
    "start_time": "2023-08-25T12:01:42.740Z"
   },
   {
    "duration": 0,
    "start_time": "2023-08-25T12:01:42.741Z"
   },
   {
    "duration": 0,
    "start_time": "2023-08-25T12:01:42.742Z"
   },
   {
    "duration": 0,
    "start_time": "2023-08-25T12:01:42.743Z"
   },
   {
    "duration": 0,
    "start_time": "2023-08-25T12:01:42.744Z"
   },
   {
    "duration": 0,
    "start_time": "2023-08-25T12:01:42.745Z"
   },
   {
    "duration": 0,
    "start_time": "2023-08-25T12:01:42.747Z"
   },
   {
    "duration": 0,
    "start_time": "2023-08-25T12:01:42.748Z"
   },
   {
    "duration": 0,
    "start_time": "2023-08-25T12:01:42.749Z"
   },
   {
    "duration": 0,
    "start_time": "2023-08-25T12:01:42.750Z"
   },
   {
    "duration": 2490,
    "start_time": "2023-08-25T12:05:07.981Z"
   },
   {
    "duration": 3212,
    "start_time": "2023-08-25T12:05:10.474Z"
   },
   {
    "duration": 2368,
    "start_time": "2023-08-25T12:05:13.687Z"
   },
   {
    "duration": 2406,
    "start_time": "2023-08-25T12:05:16.058Z"
   },
   {
    "duration": 2527,
    "start_time": "2023-08-25T12:05:18.467Z"
   },
   {
    "duration": 2387,
    "start_time": "2023-08-25T12:05:20.997Z"
   },
   {
    "duration": 2726,
    "start_time": "2023-08-25T12:05:23.386Z"
   },
   {
    "duration": 2155,
    "start_time": "2023-08-25T12:05:26.114Z"
   },
   {
    "duration": 2955,
    "start_time": "2023-08-25T12:05:28.271Z"
   },
   {
    "duration": 750,
    "start_time": "2023-08-25T12:05:31.228Z"
   },
   {
    "duration": 30,
    "start_time": "2023-08-25T12:05:31.980Z"
   },
   {
    "duration": 73,
    "start_time": "2023-08-25T12:05:32.012Z"
   },
   {
    "duration": 62,
    "start_time": "2023-08-25T12:05:32.087Z"
   },
   {
    "duration": 53,
    "start_time": "2023-08-25T12:05:32.154Z"
   },
   {
    "duration": 47,
    "start_time": "2023-08-25T12:05:32.210Z"
   },
   {
    "duration": 49,
    "start_time": "2023-08-25T12:05:32.259Z"
   },
   {
    "duration": 71,
    "start_time": "2023-08-25T12:05:32.310Z"
   },
   {
    "duration": 265,
    "start_time": "2023-08-25T12:05:32.383Z"
   },
   {
    "duration": 11,
    "start_time": "2023-08-25T12:05:32.650Z"
   },
   {
    "duration": 202,
    "start_time": "2023-08-25T12:05:32.663Z"
   },
   {
    "duration": 3,
    "start_time": "2023-08-25T12:05:32.868Z"
   },
   {
    "duration": 25,
    "start_time": "2023-08-25T12:05:32.873Z"
   },
   {
    "duration": 44,
    "start_time": "2023-08-25T12:05:32.900Z"
   },
   {
    "duration": 24,
    "start_time": "2023-08-25T12:05:32.947Z"
   },
   {
    "duration": 46,
    "start_time": "2023-08-25T12:05:32.973Z"
   },
   {
    "duration": 49,
    "start_time": "2023-10-13T20:02:48.377Z"
   },
   {
    "duration": 3786,
    "start_time": "2023-10-24T22:14:28.371Z"
   },
   {
    "duration": 5236,
    "start_time": "2023-10-24T22:14:32.161Z"
   },
   {
    "duration": 3006,
    "start_time": "2023-10-24T22:14:37.399Z"
   },
   {
    "duration": 2615,
    "start_time": "2023-10-24T22:14:40.407Z"
   },
   {
    "duration": 8403,
    "start_time": "2023-10-24T22:14:43.025Z"
   },
   {
    "duration": 6092,
    "start_time": "2023-10-24T22:14:51.430Z"
   },
   {
    "duration": 3147,
    "start_time": "2023-10-24T22:14:57.524Z"
   },
   {
    "duration": 5953,
    "start_time": "2023-10-24T22:15:00.674Z"
   },
   {
    "duration": 5173,
    "start_time": "2023-10-24T22:15:06.629Z"
   },
   {
    "duration": 2973,
    "start_time": "2023-10-24T22:15:11.803Z"
   },
   {
    "duration": 37,
    "start_time": "2023-10-24T22:15:14.778Z"
   },
   {
    "duration": 11,
    "start_time": "2023-10-24T22:15:14.817Z"
   },
   {
    "duration": 9,
    "start_time": "2023-10-24T22:15:14.830Z"
   },
   {
    "duration": 26,
    "start_time": "2023-10-24T22:15:14.842Z"
   },
   {
    "duration": 23,
    "start_time": "2023-10-24T22:15:14.870Z"
   },
   {
    "duration": 39,
    "start_time": "2023-10-24T22:15:14.894Z"
   },
   {
    "duration": 53,
    "start_time": "2023-10-24T22:15:14.935Z"
   },
   {
    "duration": 270,
    "start_time": "2023-10-24T22:15:14.989Z"
   },
   {
    "duration": 12,
    "start_time": "2023-10-24T22:15:15.264Z"
   },
   {
    "duration": 160,
    "start_time": "2023-10-24T22:15:15.282Z"
   },
   {
    "duration": 4,
    "start_time": "2023-10-24T22:15:15.444Z"
   },
   {
    "duration": 21,
    "start_time": "2023-10-24T22:15:15.449Z"
   },
   {
    "duration": 20,
    "start_time": "2023-10-24T22:15:15.472Z"
   },
   {
    "duration": 30,
    "start_time": "2023-10-24T22:15:15.494Z"
   },
   {
    "duration": 23,
    "start_time": "2023-10-24T22:15:15.526Z"
   },
   {
    "duration": 1552747,
    "start_time": "2023-10-24T22:15:15.553Z"
   },
   {
    "duration": 5,
    "start_time": "2023-10-24T22:41:08.302Z"
   },
   {
    "duration": 11,
    "start_time": "2023-10-24T22:41:08.309Z"
   },
   {
    "duration": 13,
    "start_time": "2023-10-24T22:41:08.321Z"
   },
   {
    "duration": 1010,
    "start_time": "2023-10-24T22:41:08.346Z"
   },
   {
    "duration": 0,
    "start_time": "2023-10-24T22:41:09.361Z"
   },
   {
    "duration": 0,
    "start_time": "2023-10-24T22:41:09.362Z"
   },
   {
    "duration": 0,
    "start_time": "2023-10-24T22:41:09.364Z"
   },
   {
    "duration": 0,
    "start_time": "2023-10-24T22:41:09.365Z"
   },
   {
    "duration": 0,
    "start_time": "2023-10-24T22:41:09.366Z"
   },
   {
    "duration": 0,
    "start_time": "2023-10-24T22:41:09.368Z"
   },
   {
    "duration": 0,
    "start_time": "2023-10-24T22:41:09.369Z"
   },
   {
    "duration": 0,
    "start_time": "2023-10-24T22:41:09.370Z"
   },
   {
    "duration": 0,
    "start_time": "2023-10-24T22:41:09.371Z"
   },
   {
    "duration": 0,
    "start_time": "2023-10-24T22:41:09.372Z"
   },
   {
    "duration": 0,
    "start_time": "2023-10-24T22:41:09.374Z"
   },
   {
    "duration": 0,
    "start_time": "2023-10-24T22:41:09.377Z"
   },
   {
    "duration": 0,
    "start_time": "2023-10-24T22:41:09.379Z"
   },
   {
    "duration": 0,
    "start_time": "2023-10-24T22:41:09.381Z"
   },
   {
    "duration": 0,
    "start_time": "2023-10-24T22:41:09.382Z"
   },
   {
    "duration": 0,
    "start_time": "2023-10-24T22:41:09.384Z"
   },
   {
    "duration": 0,
    "start_time": "2023-10-24T22:41:09.385Z"
   },
   {
    "duration": 0,
    "start_time": "2023-10-24T22:41:09.386Z"
   },
   {
    "duration": 0,
    "start_time": "2023-10-24T22:41:09.387Z"
   },
   {
    "duration": 0,
    "start_time": "2023-10-24T22:41:09.389Z"
   },
   {
    "duration": 0,
    "start_time": "2023-10-24T22:41:09.390Z"
   },
   {
    "duration": 0,
    "start_time": "2023-10-24T22:41:09.391Z"
   },
   {
    "duration": 0,
    "start_time": "2023-10-24T22:41:09.392Z"
   },
   {
    "duration": 0,
    "start_time": "2023-10-24T22:41:09.393Z"
   },
   {
    "duration": 0,
    "start_time": "2023-10-24T22:41:09.395Z"
   },
   {
    "duration": 0,
    "start_time": "2023-10-24T22:41:09.396Z"
   },
   {
    "duration": 0,
    "start_time": "2023-10-24T22:41:09.446Z"
   },
   {
    "duration": 0,
    "start_time": "2023-10-24T22:41:09.447Z"
   },
   {
    "duration": 0,
    "start_time": "2023-10-24T22:41:09.448Z"
   },
   {
    "duration": 0,
    "start_time": "2023-10-24T22:41:09.449Z"
   },
   {
    "duration": 0,
    "start_time": "2023-10-24T22:41:09.450Z"
   },
   {
    "duration": 0,
    "start_time": "2023-10-24T22:41:09.451Z"
   },
   {
    "duration": 0,
    "start_time": "2023-10-24T22:41:09.451Z"
   },
   {
    "duration": 0,
    "start_time": "2023-10-24T22:41:09.452Z"
   },
   {
    "duration": 0,
    "start_time": "2023-10-24T22:41:09.453Z"
   },
   {
    "duration": 0,
    "start_time": "2023-10-24T22:41:09.454Z"
   },
   {
    "duration": 0,
    "start_time": "2023-10-24T22:41:09.454Z"
   },
   {
    "duration": 0,
    "start_time": "2023-10-24T22:41:09.455Z"
   }
  ],
  "kernelspec": {
   "display_name": "Python 3 (ipykernel)",
   "language": "python",
   "name": "python3"
  },
  "language_info": {
   "codemirror_mode": {
    "name": "ipython",
    "version": 3
   },
   "file_extension": ".py",
   "mimetype": "text/x-python",
   "name": "python",
   "nbconvert_exporter": "python",
   "pygments_lexer": "ipython3",
   "version": "3.9.7"
  },
  "toc": {
   "base_numbering": 1,
   "nav_menu": {},
   "number_sections": true,
   "sideBar": true,
   "skip_h1_title": true,
   "title_cell": "Table of Contents",
   "title_sidebar": "Contents",
   "toc_cell": false,
   "toc_position": {},
   "toc_section_display": true,
   "toc_window_display": false
  }
 },
 "nbformat": 4,
 "nbformat_minor": 5
}
