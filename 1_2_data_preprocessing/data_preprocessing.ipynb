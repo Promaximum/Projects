{
 "cells": [
  {
   "cell_type": "markdown",
   "id": "cd7423f6",
   "metadata": {},
   "source": [
    "# Исследование надежности заемщиков."
   ]
  },
  {
   "cell_type": "markdown",
   "id": "b9dfdd31",
   "metadata": {},
   "source": [
    "<font size = 6>**Описание проекта**</font>\n",
    "\n",
    "<font size = 4>Заказчик — кредитный отдел банка. Нужно разобраться, влияет ли семейное положение и количество детей клиента на факт погашения кредита в срок. Входные данные от банка — статистика о платёжеспособности клиентов.\n",
    "Результаты исследования будут учтены при построении модели кредитного скоринга — специальной системы, которая оценивает способность потенциального заёмщика вернуть кредит банку.</font>\n",
    "\n",
    "**Шаг 1. Открытие таблицы и изучение общей информации о данных**\n",
    "\n",
    "Путь к файлу: /datasets/data.csv.\n",
    "\n",
    "**Шаг 2. Предобработка данных**\n",
    "\n",
    "1. Пропущенные значения\n",
    "* обнаружение и описание пропущенных значений;\n",
    "* проверка доли пропущенных значений в каждом из столбцов с пропусками;\n",
    "* Возможные причины появления пропусков в данных;\n",
    "* Объяснение, почему заполнять пропуски медианным значением — лучшее решение для количественных переменных.\n",
    "\n",
    "2. В данных могут встречаться артефакты (аномалии) — значения, которые не отражают действительность и появились по какой-то ошибке. Необходимо обработать значения в столбцах с аномалиями и описать возможные причины появления таких данных.\n",
    "* Обработать значения в столбцах с аномалиями и описать возможные причины появления таких данных. После обработки аномалий заполнить пропуски в days_employed медианными значениями по этому столбцу.\n",
    "\n",
    "3. Замена вещественных типов данных на целочисленные с помощью метода astype().\n",
    "\n",
    "\n",
    "4. Дубликаты:\n",
    "* Выбор метода для поиска и удаления дубликатов в данных;\n",
    "* Возможные причины появления дубликатов.\n",
    "\n",
    "5. Создание двух новых датафрейма, в которых:\n",
    "* каждому уникальному значению из education соответствует уникальное значение education_id — в первом;\n",
    "* каждому уникальному значению из family_status соответствует уникальное значение family_status_id — во втором.\n",
    "\n",
    "6. На основании диапазонов, указанных ниже, создать столбец total_income_category с категориями:\n",
    "* 0–30000 — 'E';\n",
    "* 30001–50000 — 'D';\n",
    "* 50001–200000 — 'C';\n",
    "* 200001–1000000 — 'B';\n",
    "* 1000001 и выше — 'A'.\n",
    "\n",
    "7. Создание функции, которая на основании данных из столбца purpose сформирует новый столбец purpose_category, в который войдут следующие категории:\n",
    "* 'операции с автомобилем',\n",
    "* 'операции с недвижимостью',\n",
    "* 'проведение свадьбы',\n",
    "* 'получение образования'.\n",
    "\n",
    "\n",
    "**Шаг 3. Ответы на вопросы:**\n",
    "* Есть ли зависимость между количеством детей и возвратом кредита в срок?\n",
    "* Есть ли зависимость между семейным положением и возвратом кредита в срок?\n",
    "* Есть ли зависимость между уровнем дохода и возвратом кредита в срок?\n",
    "* Как разные цели кредита влияют на его возврат в срок?\n",
    "\n",
    "**Шаг 4. Общий вывод**\n",
    "\n",
    "**Описание данных**\n",
    "* children — количество детей в семье\n",
    "* days_employed — общий трудовой стаж в днях\n",
    "* dob_years — возраст клиента в годах\n",
    "* education — уровень образования клиента\n",
    "* education_id — идентификатор уровня образования\n",
    "* family_status — семейное положение\n",
    "* family_status_id — идентификатор семейного положения\n",
    "* gender — пол клиента\n",
    "* income_type — тип занятости\n",
    "* debt — имел ли задолженность по возврату кредитов\n",
    "* total_income — ежемесячный доход\n",
    "* purpose — цель получения кредита\n"
   ]
  },
  {
   "cell_type": "code",
   "execution_count": null,
   "id": "f18c95f2",
   "metadata": {},
   "outputs": [],
   "source": []
  },
  {
   "cell_type": "markdown",
   "id": "6542c28d",
   "metadata": {},
   "source": [
    "### Шаг 1. Обзор данных"
   ]
  },
  {
   "cell_type": "code",
   "execution_count": 152,
   "id": "862eafce",
   "metadata": {},
   "outputs": [],
   "source": [
    "import pandas as pd # импорт библиотеки pandas\n",
    "data = pd.read_csv('C:\\Data\\data.csv') # чтение файла с данными и сохранение в data"
   ]
  },
  {
   "cell_type": "code",
   "execution_count": 153,
   "id": "aa7648a6",
   "metadata": {},
   "outputs": [
    {
     "data": {
      "text/html": [
       "<div>\n",
       "<style scoped>\n",
       "    .dataframe tbody tr th:only-of-type {\n",
       "        vertical-align: middle;\n",
       "    }\n",
       "\n",
       "    .dataframe tbody tr th {\n",
       "        vertical-align: top;\n",
       "    }\n",
       "\n",
       "    .dataframe thead th {\n",
       "        text-align: right;\n",
       "    }\n",
       "</style>\n",
       "<table border=\"1\" class=\"dataframe\">\n",
       "  <thead>\n",
       "    <tr style=\"text-align: right;\">\n",
       "      <th></th>\n",
       "      <th>children</th>\n",
       "      <th>days_employed</th>\n",
       "      <th>dob_years</th>\n",
       "      <th>education</th>\n",
       "      <th>education_id</th>\n",
       "      <th>family_status</th>\n",
       "      <th>family_status_id</th>\n",
       "      <th>gender</th>\n",
       "      <th>income_type</th>\n",
       "      <th>debt</th>\n",
       "      <th>total_income</th>\n",
       "      <th>purpose</th>\n",
       "    </tr>\n",
       "  </thead>\n",
       "  <tbody>\n",
       "    <tr>\n",
       "      <th>0</th>\n",
       "      <td>1</td>\n",
       "      <td>-8437.673028</td>\n",
       "      <td>42</td>\n",
       "      <td>высшее</td>\n",
       "      <td>0</td>\n",
       "      <td>женат / замужем</td>\n",
       "      <td>0</td>\n",
       "      <td>F</td>\n",
       "      <td>сотрудник</td>\n",
       "      <td>0</td>\n",
       "      <td>253875.639453</td>\n",
       "      <td>покупка жилья</td>\n",
       "    </tr>\n",
       "    <tr>\n",
       "      <th>1</th>\n",
       "      <td>1</td>\n",
       "      <td>-4024.803754</td>\n",
       "      <td>36</td>\n",
       "      <td>среднее</td>\n",
       "      <td>1</td>\n",
       "      <td>женат / замужем</td>\n",
       "      <td>0</td>\n",
       "      <td>F</td>\n",
       "      <td>сотрудник</td>\n",
       "      <td>0</td>\n",
       "      <td>112080.014102</td>\n",
       "      <td>приобретение автомобиля</td>\n",
       "    </tr>\n",
       "    <tr>\n",
       "      <th>2</th>\n",
       "      <td>0</td>\n",
       "      <td>-5623.422610</td>\n",
       "      <td>33</td>\n",
       "      <td>Среднее</td>\n",
       "      <td>1</td>\n",
       "      <td>женат / замужем</td>\n",
       "      <td>0</td>\n",
       "      <td>M</td>\n",
       "      <td>сотрудник</td>\n",
       "      <td>0</td>\n",
       "      <td>145885.952297</td>\n",
       "      <td>покупка жилья</td>\n",
       "    </tr>\n",
       "    <tr>\n",
       "      <th>3</th>\n",
       "      <td>3</td>\n",
       "      <td>-4124.747207</td>\n",
       "      <td>32</td>\n",
       "      <td>среднее</td>\n",
       "      <td>1</td>\n",
       "      <td>женат / замужем</td>\n",
       "      <td>0</td>\n",
       "      <td>M</td>\n",
       "      <td>сотрудник</td>\n",
       "      <td>0</td>\n",
       "      <td>267628.550329</td>\n",
       "      <td>дополнительное образование</td>\n",
       "    </tr>\n",
       "    <tr>\n",
       "      <th>4</th>\n",
       "      <td>0</td>\n",
       "      <td>340266.072047</td>\n",
       "      <td>53</td>\n",
       "      <td>среднее</td>\n",
       "      <td>1</td>\n",
       "      <td>гражданский брак</td>\n",
       "      <td>1</td>\n",
       "      <td>F</td>\n",
       "      <td>пенсионер</td>\n",
       "      <td>0</td>\n",
       "      <td>158616.077870</td>\n",
       "      <td>сыграть свадьбу</td>\n",
       "    </tr>\n",
       "    <tr>\n",
       "      <th>5</th>\n",
       "      <td>0</td>\n",
       "      <td>-926.185831</td>\n",
       "      <td>27</td>\n",
       "      <td>высшее</td>\n",
       "      <td>0</td>\n",
       "      <td>гражданский брак</td>\n",
       "      <td>1</td>\n",
       "      <td>M</td>\n",
       "      <td>компаньон</td>\n",
       "      <td>0</td>\n",
       "      <td>255763.565419</td>\n",
       "      <td>покупка жилья</td>\n",
       "    </tr>\n",
       "    <tr>\n",
       "      <th>6</th>\n",
       "      <td>0</td>\n",
       "      <td>-2879.202052</td>\n",
       "      <td>43</td>\n",
       "      <td>высшее</td>\n",
       "      <td>0</td>\n",
       "      <td>женат / замужем</td>\n",
       "      <td>0</td>\n",
       "      <td>F</td>\n",
       "      <td>компаньон</td>\n",
       "      <td>0</td>\n",
       "      <td>240525.971920</td>\n",
       "      <td>операции с жильем</td>\n",
       "    </tr>\n",
       "    <tr>\n",
       "      <th>7</th>\n",
       "      <td>0</td>\n",
       "      <td>-152.779569</td>\n",
       "      <td>50</td>\n",
       "      <td>СРЕДНЕЕ</td>\n",
       "      <td>1</td>\n",
       "      <td>женат / замужем</td>\n",
       "      <td>0</td>\n",
       "      <td>M</td>\n",
       "      <td>сотрудник</td>\n",
       "      <td>0</td>\n",
       "      <td>135823.934197</td>\n",
       "      <td>образование</td>\n",
       "    </tr>\n",
       "    <tr>\n",
       "      <th>8</th>\n",
       "      <td>2</td>\n",
       "      <td>-6929.865299</td>\n",
       "      <td>35</td>\n",
       "      <td>ВЫСШЕЕ</td>\n",
       "      <td>0</td>\n",
       "      <td>гражданский брак</td>\n",
       "      <td>1</td>\n",
       "      <td>F</td>\n",
       "      <td>сотрудник</td>\n",
       "      <td>0</td>\n",
       "      <td>95856.832424</td>\n",
       "      <td>на проведение свадьбы</td>\n",
       "    </tr>\n",
       "    <tr>\n",
       "      <th>9</th>\n",
       "      <td>0</td>\n",
       "      <td>-2188.756445</td>\n",
       "      <td>41</td>\n",
       "      <td>среднее</td>\n",
       "      <td>1</td>\n",
       "      <td>женат / замужем</td>\n",
       "      <td>0</td>\n",
       "      <td>M</td>\n",
       "      <td>сотрудник</td>\n",
       "      <td>0</td>\n",
       "      <td>144425.938277</td>\n",
       "      <td>покупка жилья для семьи</td>\n",
       "    </tr>\n",
       "  </tbody>\n",
       "</table>\n",
       "</div>"
      ],
      "text/plain": [
       "   children  days_employed  dob_years education  education_id  \\\n",
       "0         1   -8437.673028         42    высшее             0   \n",
       "1         1   -4024.803754         36   среднее             1   \n",
       "2         0   -5623.422610         33   Среднее             1   \n",
       "3         3   -4124.747207         32   среднее             1   \n",
       "4         0  340266.072047         53   среднее             1   \n",
       "5         0    -926.185831         27    высшее             0   \n",
       "6         0   -2879.202052         43    высшее             0   \n",
       "7         0    -152.779569         50   СРЕДНЕЕ             1   \n",
       "8         2   -6929.865299         35    ВЫСШЕЕ             0   \n",
       "9         0   -2188.756445         41   среднее             1   \n",
       "\n",
       "      family_status  family_status_id gender income_type  debt   total_income  \\\n",
       "0   женат / замужем                 0      F   сотрудник     0  253875.639453   \n",
       "1   женат / замужем                 0      F   сотрудник     0  112080.014102   \n",
       "2   женат / замужем                 0      M   сотрудник     0  145885.952297   \n",
       "3   женат / замужем                 0      M   сотрудник     0  267628.550329   \n",
       "4  гражданский брак                 1      F   пенсионер     0  158616.077870   \n",
       "5  гражданский брак                 1      M   компаньон     0  255763.565419   \n",
       "6   женат / замужем                 0      F   компаньон     0  240525.971920   \n",
       "7   женат / замужем                 0      M   сотрудник     0  135823.934197   \n",
       "8  гражданский брак                 1      F   сотрудник     0   95856.832424   \n",
       "9   женат / замужем                 0      M   сотрудник     0  144425.938277   \n",
       "\n",
       "                      purpose  \n",
       "0               покупка жилья  \n",
       "1     приобретение автомобиля  \n",
       "2               покупка жилья  \n",
       "3  дополнительное образование  \n",
       "4             сыграть свадьбу  \n",
       "5               покупка жилья  \n",
       "6           операции с жильем  \n",
       "7                 образование  \n",
       "8       на проведение свадьбы  \n",
       "9     покупка жилья для семьи  "
      ]
     },
     "execution_count": 153,
     "metadata": {},
     "output_type": "execute_result"
    }
   ],
   "source": [
    "data.head(10) # получение первых 10 строк таблицы data\n"
   ]
  },
  {
   "cell_type": "code",
   "execution_count": 154,
   "id": "9a96b9e3",
   "metadata": {},
   "outputs": [
    {
     "data": {
      "text/html": [
       "<div>\n",
       "<style scoped>\n",
       "    .dataframe tbody tr th:only-of-type {\n",
       "        vertical-align: middle;\n",
       "    }\n",
       "\n",
       "    .dataframe tbody tr th {\n",
       "        vertical-align: top;\n",
       "    }\n",
       "\n",
       "    .dataframe thead th {\n",
       "        text-align: right;\n",
       "    }\n",
       "</style>\n",
       "<table border=\"1\" class=\"dataframe\">\n",
       "  <thead>\n",
       "    <tr style=\"text-align: right;\">\n",
       "      <th></th>\n",
       "      <th>children</th>\n",
       "      <th>days_employed</th>\n",
       "      <th>dob_years</th>\n",
       "      <th>education</th>\n",
       "      <th>education_id</th>\n",
       "      <th>family_status</th>\n",
       "      <th>family_status_id</th>\n",
       "      <th>gender</th>\n",
       "      <th>income_type</th>\n",
       "      <th>debt</th>\n",
       "      <th>total_income</th>\n",
       "      <th>purpose</th>\n",
       "    </tr>\n",
       "  </thead>\n",
       "  <tbody>\n",
       "    <tr>\n",
       "      <th>0</th>\n",
       "      <td>1</td>\n",
       "      <td>-8437.673028</td>\n",
       "      <td>42</td>\n",
       "      <td>высшее</td>\n",
       "      <td>0</td>\n",
       "      <td>женат / замужем</td>\n",
       "      <td>0</td>\n",
       "      <td>F</td>\n",
       "      <td>сотрудник</td>\n",
       "      <td>0</td>\n",
       "      <td>253875.639453</td>\n",
       "      <td>покупка жилья</td>\n",
       "    </tr>\n",
       "    <tr>\n",
       "      <th>1</th>\n",
       "      <td>1</td>\n",
       "      <td>-4024.803754</td>\n",
       "      <td>36</td>\n",
       "      <td>среднее</td>\n",
       "      <td>1</td>\n",
       "      <td>женат / замужем</td>\n",
       "      <td>0</td>\n",
       "      <td>F</td>\n",
       "      <td>сотрудник</td>\n",
       "      <td>0</td>\n",
       "      <td>112080.014102</td>\n",
       "      <td>приобретение автомобиля</td>\n",
       "    </tr>\n",
       "    <tr>\n",
       "      <th>2</th>\n",
       "      <td>0</td>\n",
       "      <td>-5623.422610</td>\n",
       "      <td>33</td>\n",
       "      <td>Среднее</td>\n",
       "      <td>1</td>\n",
       "      <td>женат / замужем</td>\n",
       "      <td>0</td>\n",
       "      <td>M</td>\n",
       "      <td>сотрудник</td>\n",
       "      <td>0</td>\n",
       "      <td>145885.952297</td>\n",
       "      <td>покупка жилья</td>\n",
       "    </tr>\n",
       "    <tr>\n",
       "      <th>3</th>\n",
       "      <td>3</td>\n",
       "      <td>-4124.747207</td>\n",
       "      <td>32</td>\n",
       "      <td>среднее</td>\n",
       "      <td>1</td>\n",
       "      <td>женат / замужем</td>\n",
       "      <td>0</td>\n",
       "      <td>M</td>\n",
       "      <td>сотрудник</td>\n",
       "      <td>0</td>\n",
       "      <td>267628.550329</td>\n",
       "      <td>дополнительное образование</td>\n",
       "    </tr>\n",
       "    <tr>\n",
       "      <th>4</th>\n",
       "      <td>0</td>\n",
       "      <td>340266.072047</td>\n",
       "      <td>53</td>\n",
       "      <td>среднее</td>\n",
       "      <td>1</td>\n",
       "      <td>гражданский брак</td>\n",
       "      <td>1</td>\n",
       "      <td>F</td>\n",
       "      <td>пенсионер</td>\n",
       "      <td>0</td>\n",
       "      <td>158616.077870</td>\n",
       "      <td>сыграть свадьбу</td>\n",
       "    </tr>\n",
       "    <tr>\n",
       "      <th>...</th>\n",
       "      <td>...</td>\n",
       "      <td>...</td>\n",
       "      <td>...</td>\n",
       "      <td>...</td>\n",
       "      <td>...</td>\n",
       "      <td>...</td>\n",
       "      <td>...</td>\n",
       "      <td>...</td>\n",
       "      <td>...</td>\n",
       "      <td>...</td>\n",
       "      <td>...</td>\n",
       "      <td>...</td>\n",
       "    </tr>\n",
       "    <tr>\n",
       "      <th>21520</th>\n",
       "      <td>1</td>\n",
       "      <td>-4529.316663</td>\n",
       "      <td>43</td>\n",
       "      <td>среднее</td>\n",
       "      <td>1</td>\n",
       "      <td>гражданский брак</td>\n",
       "      <td>1</td>\n",
       "      <td>F</td>\n",
       "      <td>компаньон</td>\n",
       "      <td>0</td>\n",
       "      <td>224791.862382</td>\n",
       "      <td>операции с жильем</td>\n",
       "    </tr>\n",
       "    <tr>\n",
       "      <th>21521</th>\n",
       "      <td>0</td>\n",
       "      <td>343937.404131</td>\n",
       "      <td>67</td>\n",
       "      <td>среднее</td>\n",
       "      <td>1</td>\n",
       "      <td>женат / замужем</td>\n",
       "      <td>0</td>\n",
       "      <td>F</td>\n",
       "      <td>пенсионер</td>\n",
       "      <td>0</td>\n",
       "      <td>155999.806512</td>\n",
       "      <td>сделка с автомобилем</td>\n",
       "    </tr>\n",
       "    <tr>\n",
       "      <th>21522</th>\n",
       "      <td>1</td>\n",
       "      <td>-2113.346888</td>\n",
       "      <td>38</td>\n",
       "      <td>среднее</td>\n",
       "      <td>1</td>\n",
       "      <td>гражданский брак</td>\n",
       "      <td>1</td>\n",
       "      <td>M</td>\n",
       "      <td>сотрудник</td>\n",
       "      <td>1</td>\n",
       "      <td>89672.561153</td>\n",
       "      <td>недвижимость</td>\n",
       "    </tr>\n",
       "    <tr>\n",
       "      <th>21523</th>\n",
       "      <td>3</td>\n",
       "      <td>-3112.481705</td>\n",
       "      <td>38</td>\n",
       "      <td>среднее</td>\n",
       "      <td>1</td>\n",
       "      <td>женат / замужем</td>\n",
       "      <td>0</td>\n",
       "      <td>M</td>\n",
       "      <td>сотрудник</td>\n",
       "      <td>1</td>\n",
       "      <td>244093.050500</td>\n",
       "      <td>на покупку своего автомобиля</td>\n",
       "    </tr>\n",
       "    <tr>\n",
       "      <th>21524</th>\n",
       "      <td>2</td>\n",
       "      <td>-1984.507589</td>\n",
       "      <td>40</td>\n",
       "      <td>среднее</td>\n",
       "      <td>1</td>\n",
       "      <td>женат / замужем</td>\n",
       "      <td>0</td>\n",
       "      <td>F</td>\n",
       "      <td>сотрудник</td>\n",
       "      <td>0</td>\n",
       "      <td>82047.418899</td>\n",
       "      <td>на покупку автомобиля</td>\n",
       "    </tr>\n",
       "  </tbody>\n",
       "</table>\n",
       "<p>21525 rows × 12 columns</p>\n",
       "</div>"
      ],
      "text/plain": [
       "       children  days_employed  dob_years education  education_id  \\\n",
       "0             1   -8437.673028         42    высшее             0   \n",
       "1             1   -4024.803754         36   среднее             1   \n",
       "2             0   -5623.422610         33   Среднее             1   \n",
       "3             3   -4124.747207         32   среднее             1   \n",
       "4             0  340266.072047         53   среднее             1   \n",
       "...         ...            ...        ...       ...           ...   \n",
       "21520         1   -4529.316663         43   среднее             1   \n",
       "21521         0  343937.404131         67   среднее             1   \n",
       "21522         1   -2113.346888         38   среднее             1   \n",
       "21523         3   -3112.481705         38   среднее             1   \n",
       "21524         2   -1984.507589         40   среднее             1   \n",
       "\n",
       "          family_status  family_status_id gender income_type  debt  \\\n",
       "0       женат / замужем                 0      F   сотрудник     0   \n",
       "1       женат / замужем                 0      F   сотрудник     0   \n",
       "2       женат / замужем                 0      M   сотрудник     0   \n",
       "3       женат / замужем                 0      M   сотрудник     0   \n",
       "4      гражданский брак                 1      F   пенсионер     0   \n",
       "...                 ...               ...    ...         ...   ...   \n",
       "21520  гражданский брак                 1      F   компаньон     0   \n",
       "21521   женат / замужем                 0      F   пенсионер     0   \n",
       "21522  гражданский брак                 1      M   сотрудник     1   \n",
       "21523   женат / замужем                 0      M   сотрудник     1   \n",
       "21524   женат / замужем                 0      F   сотрудник     0   \n",
       "\n",
       "        total_income                       purpose  \n",
       "0      253875.639453                 покупка жилья  \n",
       "1      112080.014102       приобретение автомобиля  \n",
       "2      145885.952297                 покупка жилья  \n",
       "3      267628.550329    дополнительное образование  \n",
       "4      158616.077870               сыграть свадьбу  \n",
       "...              ...                           ...  \n",
       "21520  224791.862382             операции с жильем  \n",
       "21521  155999.806512          сделка с автомобилем  \n",
       "21522   89672.561153                  недвижимость  \n",
       "21523  244093.050500  на покупку своего автомобиля  \n",
       "21524   82047.418899         на покупку автомобиля  \n",
       "\n",
       "[21525 rows x 12 columns]"
      ]
     },
     "metadata": {},
     "output_type": "display_data"
    }
   ],
   "source": [
    "display(data) # и остальных строк таблицы data"
   ]
  },
  {
   "cell_type": "code",
   "execution_count": 155,
   "id": "55ceae31",
   "metadata": {},
   "outputs": [
    {
     "name": "stdout",
     "output_type": "stream",
     "text": [
      "<class 'pandas.core.frame.DataFrame'>\n",
      "RangeIndex: 21525 entries, 0 to 21524\n",
      "Data columns (total 12 columns):\n",
      " #   Column            Non-Null Count  Dtype  \n",
      "---  ------            --------------  -----  \n",
      " 0   children          21525 non-null  int64  \n",
      " 1   days_employed     19351 non-null  float64\n",
      " 2   dob_years         21525 non-null  int64  \n",
      " 3   education         21525 non-null  object \n",
      " 4   education_id      21525 non-null  int64  \n",
      " 5   family_status     21525 non-null  object \n",
      " 6   family_status_id  21525 non-null  int64  \n",
      " 7   gender            21525 non-null  object \n",
      " 8   income_type       21525 non-null  object \n",
      " 9   debt              21525 non-null  int64  \n",
      " 10  total_income      19351 non-null  float64\n",
      " 11  purpose           21525 non-null  object \n",
      "dtypes: float64(2), int64(5), object(5)\n",
      "memory usage: 2.0+ MB\n"
     ]
    }
   ],
   "source": [
    "data.info() # получение общей информации о данных в таблице data"
   ]
  },
  {
   "cell_type": "code",
   "execution_count": 156,
   "id": "1f8cf6c8",
   "metadata": {},
   "outputs": [],
   "source": [
    "#После вышеприведённых данных стоит задуматься, почему у столбцов days_employed и total_income одинаковые not-null значния. Скорее всего, между ними существует взаимосвясь. Скорее всего, это молодые люди, которые пока не работают, либо занимаются поиском работы."
   ]
  },
  {
   "cell_type": "markdown",
   "id": "e50d4da1",
   "metadata": {},
   "source": [
    "Определим процент недостающих данных, с двумя знаками после запятой\n"
   ]
  },
  {
   "cell_type": "code",
   "execution_count": 157,
   "id": "115b2b99",
   "metadata": {},
   "outputs": [
    {
     "name": "stdout",
     "output_type": "stream",
     "text": [
      " Процент пропущенных значений = 10.10%\n"
     ]
    }
   ],
   "source": [
    "print(f' Процент пропущенных значений = {(21525 - 19351)/ 21525:,.2%}')\n",
    "      "
   ]
  },
  {
   "cell_type": "code",
   "execution_count": 158,
   "id": "8dba31be",
   "metadata": {},
   "outputs": [],
   "source": [
    "# Процент пропущенных значений довольно большой. Придётся разбираться. Для начала определим количество non-null в обоих столбах методом .isna() и sum()."
   ]
  },
  {
   "cell_type": "code",
   "execution_count": 159,
   "id": "6948d85c",
   "metadata": {},
   "outputs": [
    {
     "name": "stdout",
     "output_type": "stream",
     "text": [
      "children : Число пропусков/пустых строк = 0\n",
      "days_employed : Число пропусков/пустых строк = 2174\n",
      "dob_years : Число пропусков/пустых строк = 0\n",
      "education : Число пропусков/пустых строк = 0\n",
      "education_id : Число пропусков/пустых строк = 0\n",
      "family_status : Число пропусков/пустых строк = 0\n",
      "family_status_id : Число пропусков/пустых строк = 0\n",
      "gender : Число пропусков/пустых строк = 0\n",
      "income_type : Число пропусков/пустых строк = 0\n",
      "debt : Число пропусков/пустых строк = 0\n",
      "total_income : Число пропусков/пустых строк = 2174\n",
      "purpose : Число пропусков/пустых строк = 0\n"
     ]
    }
   ],
   "source": [
    "for column in data.columns:\n",
    "    print(f'{column} : Число пропусков/пустых строк = {data[column].isna().sum()}')\n",
    "    \n"
   ]
  },
  {
   "cell_type": "code",
   "execution_count": 160,
   "id": "c18871d2",
   "metadata": {},
   "outputs": [],
   "source": [
    "#В двух столбцах обнаружено по 2174 пропуска, либо пустых строк"
   ]
  },
  {
   "cell_type": "code",
   "execution_count": 161,
   "id": "4c591b92",
   "metadata": {},
   "outputs": [],
   "source": [
    "#Проверяем каждый столбец"
   ]
  },
  {
   "cell_type": "markdown",
   "id": "96d8688a",
   "metadata": {},
   "source": [
    "<font size = 4>**1 Столбец Children**</font>"
   ]
  },
  {
   "cell_type": "code",
   "execution_count": 162,
   "id": "1168f03a",
   "metadata": {},
   "outputs": [
    {
     "name": "stdout",
     "output_type": "stream",
     "text": [
      " 0     14149\n",
      " 1      4818\n",
      " 2      2055\n",
      " 3       330\n",
      " 20       76\n",
      "-1        47\n",
      " 4        41\n",
      " 5         9\n",
      "Name: children, dtype: int64\n"
     ]
    }
   ],
   "source": [
    "print(data['children'].value_counts())"
   ]
  },
  {
   "cell_type": "code",
   "execution_count": 163,
   "id": "55503111",
   "metadata": {},
   "outputs": [],
   "source": [
    "#Больше всего бездетных людей. Больше всего вопросов вызывает группа людей, у которых 20 детей (их 76), а также и вовсе отрицательное количество детей (их 47). Скорее всего, ошибка имеет технических повторяющийся характер, потому что вряд ли бы респонденты указывали такие значения несколько раз. Определим строки, в которых закрались ошибки, Поскольку ошибка в выборке не превышает 0,6% (123 / 21525 = 0,01%) удалим данные строки"
   ]
  },
  {
   "cell_type": "markdown",
   "id": "aaf3a4a8",
   "metadata": {},
   "source": [
    "<font size = 4>**2. Столбец days_employed**</font>"
   ]
  },
  {
   "cell_type": "code",
   "execution_count": 164,
   "id": "e9d11bc0",
   "metadata": {},
   "outputs": [
    {
     "name": "stdout",
     "output_type": "stream",
     "text": [
      "0         -8437.673028\n",
      "1         -4024.803754\n",
      "2         -5623.422610\n",
      "3         -4124.747207\n",
      "4        340266.072047\n",
      "             ...      \n",
      "21520     -4529.316663\n",
      "21521    343937.404131\n",
      "21522     -2113.346888\n",
      "21523     -3112.481705\n",
      "21524     -1984.507589\n",
      "Name: days_employed, Length: 21525, dtype: float64\n",
      "\n",
      "Отрицательные значения = 15906\n"
     ]
    }
   ],
   "source": [
    "print(data['days_employed'])\n",
    "print()\n",
    "print('Отрицательные значения =', data[data['days_employed']<0]['days_employed'].count())"
   ]
  },
  {
   "cell_type": "code",
   "execution_count": 165,
   "id": "3f8019d0",
   "metadata": {},
   "outputs": [],
   "source": [
    "#Присутствует довольно большое количество отрицательных значений, что, скорее всего может говорить о нерпавильности введённых данных. Возможно, данные здесь приведены в формате времени, а не даты. Либо же это тире, которые программа посчитала как минус. Данные форматы не могут быть допустимыми к исследованию."
   ]
  },
  {
   "cell_type": "markdown",
   "id": "886e2b6b",
   "metadata": {},
   "source": [
    "<font size = 4>**3. Столбец dob_years**</font>"
   ]
  },
  {
   "cell_type": "code",
   "execution_count": 166,
   "id": "8a91a99c",
   "metadata": {},
   "outputs": [
    {
     "name": "stdout",
     "output_type": "stream",
     "text": [
      "0     101\n",
      "19     14\n",
      "20     51\n",
      "21    111\n",
      "22    183\n",
      "23    254\n",
      "24    264\n",
      "25    357\n",
      "26    408\n",
      "27    493\n",
      "28    503\n",
      "29    545\n",
      "30    540\n",
      "31    560\n",
      "32    510\n",
      "33    581\n",
      "34    603\n",
      "35    617\n",
      "36    555\n",
      "37    537\n",
      "38    598\n",
      "39    573\n",
      "40    609\n",
      "41    607\n",
      "42    597\n",
      "43    513\n",
      "44    547\n",
      "45    497\n",
      "46    475\n",
      "47    480\n",
      "48    538\n",
      "49    508\n",
      "50    514\n",
      "51    448\n",
      "52    484\n",
      "53    459\n",
      "54    479\n",
      "55    443\n",
      "56    487\n",
      "57    460\n",
      "58    461\n",
      "59    444\n",
      "60    377\n",
      "61    355\n",
      "62    352\n",
      "63    269\n",
      "64    265\n",
      "65    194\n",
      "66    183\n",
      "67    167\n",
      "68     99\n",
      "69     85\n",
      "70     65\n",
      "71     58\n",
      "72     33\n",
      "73      8\n",
      "74      6\n",
      "75      1\n",
      "Name: dob_years, dtype: int64\n"
     ]
    }
   ],
   "source": [
    "print(data['dob_years'].value_counts().sort_index()) #применим метод .sort_index() сортировки по возрастанию для наглядного понимания столбца"
   ]
  },
  {
   "cell_type": "code",
   "execution_count": 167,
   "id": "4c0aa406",
   "metadata": {},
   "outputs": [],
   "source": [
    "#В данных закралась ошибка, где присутсвует 101 человек с возрастом 0 лет. Данную категорию людей можно будет удалить, поскольку она не будет превышать допустимого значения ошибки в выборке. (101 / 2125 =  0,004%)"
   ]
  },
  {
   "cell_type": "markdown",
   "id": "3feded3e",
   "metadata": {},
   "source": [
    "<font size = 4>**4. Столбец education и 5 education_id**</font>"
   ]
  },
  {
   "cell_type": "code",
   "execution_count": 168,
   "id": "97bfa028",
   "metadata": {},
   "outputs": [
    {
     "name": "stdout",
     "output_type": "stream",
     "text": [
      "среднее                13750\n",
      "высшее                  4718\n",
      "СРЕДНЕЕ                  772\n",
      "Среднее                  711\n",
      "неоконченное высшее      668\n",
      "ВЫСШЕЕ                   274\n",
      "Высшее                   268\n",
      "начальное                250\n",
      "Неоконченное высшее       47\n",
      "НЕОКОНЧЕННОЕ ВЫСШЕЕ       29\n",
      "НАЧАЛЬНОЕ                 17\n",
      "Начальное                 15\n",
      "ученая степень             4\n",
      "Ученая степень             1\n",
      "УЧЕНАЯ СТЕПЕНЬ             1\n",
      "Name: education, dtype: int64\n",
      "1    15233\n",
      "0     5260\n",
      "2      744\n",
      "3      282\n",
      "4        6\n",
      "Name: education_id, dtype: int64\n"
     ]
    }
   ],
   "source": [
    "print(data['education'].value_counts())\n",
    "print(data['education_id'].value_counts())"
   ]
  },
  {
   "cell_type": "code",
   "execution_count": 169,
   "id": "aa50b767",
   "metadata": {},
   "outputs": [],
   "source": [
    "#Как мы видим в данных закралось несколько повторов с разными регистрами. Данные дубликаты придётся исправить Всего же уникальных значений в списке 5"
   ]
  },
  {
   "cell_type": "markdown",
   "id": "f4ab7076",
   "metadata": {},
   "source": [
    "<font size = 4>**6. Столбец family_status и 7. family_status_id**</font>"
   ]
  },
  {
   "cell_type": "code",
   "execution_count": 170,
   "id": "76611348",
   "metadata": {},
   "outputs": [
    {
     "name": "stdout",
     "output_type": "stream",
     "text": [
      "женат / замужем          12380\n",
      "гражданский брак          4177\n",
      "Не женат / не замужем     2813\n",
      "в разводе                 1195\n",
      "вдовец / вдова             960\n",
      "Name: family_status, dtype: int64\n",
      "0    12380\n",
      "1     4177\n",
      "4     2813\n",
      "3     1195\n",
      "2      960\n",
      "Name: family_status_id, dtype: int64\n"
     ]
    }
   ],
   "source": [
    "print(data['family_status'].value_counts())\n",
    "print(data['family_status_id'].value_counts())"
   ]
  },
  {
   "cell_type": "code",
   "execution_count": 171,
   "id": "c976f94b",
   "metadata": {},
   "outputs": [],
   "source": [
    "#Количества в данных совпадают. Они корректны"
   ]
  },
  {
   "cell_type": "markdown",
   "id": "a3cc186b",
   "metadata": {},
   "source": [
    "<font size = 4>**8. Столбец gender**</font>"
   ]
  },
  {
   "cell_type": "code",
   "execution_count": 172,
   "id": "60ecfa0a",
   "metadata": {},
   "outputs": [
    {
     "name": "stdout",
     "output_type": "stream",
     "text": [
      "F      14236\n",
      "M       7288\n",
      "XNA        1\n",
      "Name: gender, dtype: int64\n"
     ]
    }
   ],
   "source": [
    "print(data['gender'].value_counts())"
   ]
  },
  {
   "cell_type": "code",
   "execution_count": 173,
   "id": "64502024",
   "metadata": {},
   "outputs": [],
   "source": [
    "#Выявлено только одно некорректное значение. Внесем его в \"F\", поскольку велика вероятность того, что это женщина, поскольку их в два раза больше в выборке. Для решения данной задачи двнный стобец мало важен"
   ]
  },
  {
   "cell_type": "markdown",
   "id": "4c093da8",
   "metadata": {},
   "source": [
    "<font size = 4>**9. Столбец income_type**</font>"
   ]
  },
  {
   "cell_type": "code",
   "execution_count": 174,
   "id": "b50eae14",
   "metadata": {},
   "outputs": [
    {
     "name": "stdout",
     "output_type": "stream",
     "text": [
      "сотрудник          11119\n",
      "компаньон           5085\n",
      "пенсионер           3856\n",
      "госслужащий         1459\n",
      "безработный            2\n",
      "предприниматель        2\n",
      "студент                1\n",
      "в декрете              1\n",
      "Name: income_type, dtype: int64\n"
     ]
    }
   ],
   "source": [
    "print(data['income_type'].value_counts())"
   ]
  },
  {
   "cell_type": "code",
   "execution_count": 175,
   "id": "445d6705",
   "metadata": {},
   "outputs": [],
   "source": [
    "#Данный столбец корректен. Идём дальше"
   ]
  },
  {
   "cell_type": "markdown",
   "id": "cf85bb5a",
   "metadata": {},
   "source": [
    "<font size = 4>**10. Столбец debt**</font>"
   ]
  },
  {
   "cell_type": "code",
   "execution_count": 176,
   "id": "34968f38",
   "metadata": {},
   "outputs": [
    {
     "name": "stdout",
     "output_type": "stream",
     "text": [
      "0    19784\n",
      "1     1741\n",
      "Name: debt, dtype: int64\n"
     ]
    }
   ],
   "source": [
    "print(data['debt'].value_counts())"
   ]
  },
  {
   "cell_type": "code",
   "execution_count": 177,
   "id": "3b310d82",
   "metadata": {},
   "outputs": [],
   "source": [
    "#Столбец корректен"
   ]
  },
  {
   "cell_type": "markdown",
   "id": "f20f87ae",
   "metadata": {},
   "source": [
    "<font size = 4>**11. Столбец total_income**</font>"
   ]
  },
  {
   "cell_type": "code",
   "execution_count": 178,
   "id": "8b5c0dc9",
   "metadata": {},
   "outputs": [
    {
     "data": {
      "text/plain": [
       "count    1.935100e+04\n",
       "mean     1.674223e+05\n",
       "std      1.029716e+05\n",
       "min      2.066726e+04\n",
       "25%      1.030532e+05\n",
       "50%      1.450179e+05\n",
       "75%      2.034351e+05\n",
       "max      2.265604e+06\n",
       "Name: total_income, dtype: float64"
      ]
     },
     "metadata": {},
     "output_type": "display_data"
    },
    {
     "data": {
      "text/html": [
       "<div>\n",
       "<style scoped>\n",
       "    .dataframe tbody tr th:only-of-type {\n",
       "        vertical-align: middle;\n",
       "    }\n",
       "\n",
       "    .dataframe tbody tr th {\n",
       "        vertical-align: top;\n",
       "    }\n",
       "\n",
       "    .dataframe thead th {\n",
       "        text-align: right;\n",
       "    }\n",
       "</style>\n",
       "<table border=\"1\" class=\"dataframe\">\n",
       "  <thead>\n",
       "    <tr style=\"text-align: right;\">\n",
       "      <th></th>\n",
       "      <th>children</th>\n",
       "      <th>days_employed</th>\n",
       "      <th>dob_years</th>\n",
       "      <th>education</th>\n",
       "      <th>education_id</th>\n",
       "      <th>family_status</th>\n",
       "      <th>family_status_id</th>\n",
       "      <th>gender</th>\n",
       "      <th>income_type</th>\n",
       "      <th>debt</th>\n",
       "      <th>total_income</th>\n",
       "      <th>purpose</th>\n",
       "    </tr>\n",
       "  </thead>\n",
       "  <tbody>\n",
       "    <tr>\n",
       "      <th>12</th>\n",
       "      <td>0</td>\n",
       "      <td>NaN</td>\n",
       "      <td>65</td>\n",
       "      <td>среднее</td>\n",
       "      <td>1</td>\n",
       "      <td>гражданский брак</td>\n",
       "      <td>1</td>\n",
       "      <td>M</td>\n",
       "      <td>пенсионер</td>\n",
       "      <td>0</td>\n",
       "      <td>NaN</td>\n",
       "      <td>сыграть свадьбу</td>\n",
       "    </tr>\n",
       "    <tr>\n",
       "      <th>26</th>\n",
       "      <td>0</td>\n",
       "      <td>NaN</td>\n",
       "      <td>41</td>\n",
       "      <td>среднее</td>\n",
       "      <td>1</td>\n",
       "      <td>женат / замужем</td>\n",
       "      <td>0</td>\n",
       "      <td>M</td>\n",
       "      <td>госслужащий</td>\n",
       "      <td>0</td>\n",
       "      <td>NaN</td>\n",
       "      <td>образование</td>\n",
       "    </tr>\n",
       "    <tr>\n",
       "      <th>29</th>\n",
       "      <td>0</td>\n",
       "      <td>NaN</td>\n",
       "      <td>63</td>\n",
       "      <td>среднее</td>\n",
       "      <td>1</td>\n",
       "      <td>Не женат / не замужем</td>\n",
       "      <td>4</td>\n",
       "      <td>F</td>\n",
       "      <td>пенсионер</td>\n",
       "      <td>0</td>\n",
       "      <td>NaN</td>\n",
       "      <td>строительство жилой недвижимости</td>\n",
       "    </tr>\n",
       "    <tr>\n",
       "      <th>41</th>\n",
       "      <td>0</td>\n",
       "      <td>NaN</td>\n",
       "      <td>50</td>\n",
       "      <td>среднее</td>\n",
       "      <td>1</td>\n",
       "      <td>женат / замужем</td>\n",
       "      <td>0</td>\n",
       "      <td>F</td>\n",
       "      <td>госслужащий</td>\n",
       "      <td>0</td>\n",
       "      <td>NaN</td>\n",
       "      <td>сделка с подержанным автомобилем</td>\n",
       "    </tr>\n",
       "    <tr>\n",
       "      <th>55</th>\n",
       "      <td>0</td>\n",
       "      <td>NaN</td>\n",
       "      <td>54</td>\n",
       "      <td>среднее</td>\n",
       "      <td>1</td>\n",
       "      <td>гражданский брак</td>\n",
       "      <td>1</td>\n",
       "      <td>F</td>\n",
       "      <td>пенсионер</td>\n",
       "      <td>1</td>\n",
       "      <td>NaN</td>\n",
       "      <td>сыграть свадьбу</td>\n",
       "    </tr>\n",
       "    <tr>\n",
       "      <th>65</th>\n",
       "      <td>0</td>\n",
       "      <td>NaN</td>\n",
       "      <td>21</td>\n",
       "      <td>среднее</td>\n",
       "      <td>1</td>\n",
       "      <td>Не женат / не замужем</td>\n",
       "      <td>4</td>\n",
       "      <td>M</td>\n",
       "      <td>компаньон</td>\n",
       "      <td>0</td>\n",
       "      <td>NaN</td>\n",
       "      <td>операции с коммерческой недвижимостью</td>\n",
       "    </tr>\n",
       "    <tr>\n",
       "      <th>67</th>\n",
       "      <td>0</td>\n",
       "      <td>NaN</td>\n",
       "      <td>52</td>\n",
       "      <td>высшее</td>\n",
       "      <td>0</td>\n",
       "      <td>женат / замужем</td>\n",
       "      <td>0</td>\n",
       "      <td>F</td>\n",
       "      <td>пенсионер</td>\n",
       "      <td>0</td>\n",
       "      <td>NaN</td>\n",
       "      <td>покупка жилья для семьи</td>\n",
       "    </tr>\n",
       "    <tr>\n",
       "      <th>72</th>\n",
       "      <td>1</td>\n",
       "      <td>NaN</td>\n",
       "      <td>32</td>\n",
       "      <td>высшее</td>\n",
       "      <td>0</td>\n",
       "      <td>женат / замужем</td>\n",
       "      <td>0</td>\n",
       "      <td>M</td>\n",
       "      <td>госслужащий</td>\n",
       "      <td>0</td>\n",
       "      <td>NaN</td>\n",
       "      <td>операции с коммерческой недвижимостью</td>\n",
       "    </tr>\n",
       "    <tr>\n",
       "      <th>82</th>\n",
       "      <td>2</td>\n",
       "      <td>NaN</td>\n",
       "      <td>50</td>\n",
       "      <td>высшее</td>\n",
       "      <td>0</td>\n",
       "      <td>женат / замужем</td>\n",
       "      <td>0</td>\n",
       "      <td>F</td>\n",
       "      <td>сотрудник</td>\n",
       "      <td>0</td>\n",
       "      <td>NaN</td>\n",
       "      <td>жилье</td>\n",
       "    </tr>\n",
       "    <tr>\n",
       "      <th>83</th>\n",
       "      <td>0</td>\n",
       "      <td>NaN</td>\n",
       "      <td>52</td>\n",
       "      <td>среднее</td>\n",
       "      <td>1</td>\n",
       "      <td>женат / замужем</td>\n",
       "      <td>0</td>\n",
       "      <td>M</td>\n",
       "      <td>сотрудник</td>\n",
       "      <td>0</td>\n",
       "      <td>NaN</td>\n",
       "      <td>жилье</td>\n",
       "    </tr>\n",
       "  </tbody>\n",
       "</table>\n",
       "</div>"
      ],
      "text/plain": [
       "    children  days_employed  dob_years education  education_id  \\\n",
       "12         0            NaN         65   среднее             1   \n",
       "26         0            NaN         41   среднее             1   \n",
       "29         0            NaN         63   среднее             1   \n",
       "41         0            NaN         50   среднее             1   \n",
       "55         0            NaN         54   среднее             1   \n",
       "65         0            NaN         21   среднее             1   \n",
       "67         0            NaN         52    высшее             0   \n",
       "72         1            NaN         32    высшее             0   \n",
       "82         2            NaN         50    высшее             0   \n",
       "83         0            NaN         52   среднее             1   \n",
       "\n",
       "            family_status  family_status_id gender  income_type  debt  \\\n",
       "12       гражданский брак                 1      M    пенсионер     0   \n",
       "26        женат / замужем                 0      M  госслужащий     0   \n",
       "29  Не женат / не замужем                 4      F    пенсионер     0   \n",
       "41        женат / замужем                 0      F  госслужащий     0   \n",
       "55       гражданский брак                 1      F    пенсионер     1   \n",
       "65  Не женат / не замужем                 4      M    компаньон     0   \n",
       "67        женат / замужем                 0      F    пенсионер     0   \n",
       "72        женат / замужем                 0      M  госслужащий     0   \n",
       "82        женат / замужем                 0      F    сотрудник     0   \n",
       "83        женат / замужем                 0      M    сотрудник     0   \n",
       "\n",
       "    total_income                                purpose  \n",
       "12           NaN                        сыграть свадьбу  \n",
       "26           NaN                            образование  \n",
       "29           NaN       строительство жилой недвижимости  \n",
       "41           NaN       сделка с подержанным автомобилем  \n",
       "55           NaN                        сыграть свадьбу  \n",
       "65           NaN  операции с коммерческой недвижимостью  \n",
       "67           NaN                покупка жилья для семьи  \n",
       "72           NaN  операции с коммерческой недвижимостью  \n",
       "82           NaN                                  жилье  \n",
       "83           NaN                                  жилье  "
      ]
     },
     "metadata": {},
     "output_type": "display_data"
    }
   ],
   "source": [
    "display(data['total_income'].describe()) \n",
    "display(data[data['total_income'].isnull()].head(10))"
   ]
  },
  {
   "cell_type": "code",
   "execution_count": 179,
   "id": "e4e446c9",
   "metadata": {
    "scrolled": true
   },
   "outputs": [
    {
     "name": "stdout",
     "output_type": "stream",
     "text": [
      "0\n",
      "0.0\n"
     ]
    }
   ],
   "source": [
    "print(data['days_employed'].isnull().sum() & data['income_type'].isnull().sum())\n",
    "print(data.loc[data['days_employed'].isna()==True,'days_employed'].sum())"
   ]
  },
  {
   "cell_type": "code",
   "execution_count": 180,
   "id": "d75adc97",
   "metadata": {},
   "outputs": [],
   "source": [
    "#Из вышеприведённых данных, можно предположить, что нет закономерности в появлении пропусков, поскольку в других столбцах все значения разные. Данный столбец нам будет также важен для дальнейшего анализа"
   ]
  },
  {
   "cell_type": "markdown",
   "id": "68a1680e",
   "metadata": {},
   "source": [
    "<font size = 4>**12. Столбец purpose**</font>"
   ]
  },
  {
   "cell_type": "code",
   "execution_count": 181,
   "id": "7592a2a0",
   "metadata": {},
   "outputs": [
    {
     "name": "stdout",
     "output_type": "stream",
     "text": [
      "свадьба                                   797\n",
      "на проведение свадьбы                     777\n",
      "сыграть свадьбу                           774\n",
      "операции с недвижимостью                  676\n",
      "покупка коммерческой недвижимости         664\n",
      "покупка жилья для сдачи                   653\n",
      "операции с жильем                         653\n",
      "операции с коммерческой недвижимостью     651\n",
      "покупка жилья                             647\n",
      "жилье                                     647\n",
      "покупка жилья для семьи                   641\n",
      "строительство собственной недвижимости    635\n",
      "недвижимость                              634\n",
      "операции со своей недвижимостью           630\n",
      "строительство жилой недвижимости          626\n",
      "покупка недвижимости                      624\n",
      "строительство недвижимости                620\n",
      "покупка своего жилья                      620\n",
      "ремонт жилью                              612\n",
      "покупка жилой недвижимости                607\n",
      "на покупку своего автомобиля              505\n",
      "заняться высшим образованием              496\n",
      "автомобиль                                495\n",
      "сделка с подержанным автомобилем          489\n",
      "свой автомобиль                           480\n",
      "на покупку подержанного автомобиля        479\n",
      "автомобили                                478\n",
      "на покупку автомобиля                     472\n",
      "дополнительное образование                462\n",
      "приобретение автомобиля                   462\n",
      "сделка с автомобилем                      455\n",
      "высшее образование                        453\n",
      "образование                               447\n",
      "получение дополнительного образования     447\n",
      "получение образования                     443\n",
      "профильное образование                    436\n",
      "получение высшего образования             426\n",
      "заняться образованием                     412\n",
      "Name: purpose, dtype: int64\n"
     ]
    }
   ],
   "source": [
    "print(data['purpose'].value_counts())"
   ]
  },
  {
   "cell_type": "code",
   "execution_count": 182,
   "id": "1cb348a9",
   "metadata": {},
   "outputs": [],
   "source": [
    "#Столбец корректный, однако некоторые значения столбца совпадают. Придётся их привести к одному названию"
   ]
  },
  {
   "cell_type": "markdown",
   "id": "2d2614f6",
   "metadata": {},
   "source": [
    "<font size = 4>**Выводы**</font>\n",
    "\n",
    "Исходя из вышеизложенного, сделаем опись по столбцам:\n",
    "\n",
    "1. Столбец Children - Некорректные значения \"20\" (малое количество) и \"-1\" (нереальное значение). Необходимо удалить данные строки, поскольку очщее число в выбоке их незначительно\n",
    "2. Столбец days_employed - Присутствует довольно большое количество отрицательных, а также пропущенных и довольно больших значений, что, скорее всего может говорить о нерпавильности введённых данных. Данные форматы не могут быть допустимыми к исследованию. Данный столбец можно будет удалить, поскольку он нам не понадобится для решения задачи.\n",
    "3. Столбец dob_years - некорректное значение \"101\" наблюдения людей в возрасте \"0\" лет. Можно будет удалить данные значения, поскольку она не будет превышать допустимого значения ошибки в выборке. (101 / 2125 =  0,004%)\n",
    "4. Столбец education - необходимо привести все названия к одному регистру, а именно, чтобы осталось 6 уникальных названий\n",
    "5. Столбец education_id - столбец корректен. Необходимо будет проверить, совпадает ли количество наблюдений столбца education_id с education\n",
    "6. Столбец family_status - столбец корректен\n",
    "7. Столбец family_status_id - столбец корректен\n",
    "8. Столбец gender - Исправление значения \"XNA\" на \"F\"\n",
    "9. Столбец income_type - столбец корректен\n",
    "10. Столбец debt - столбец корректен\n",
    "11. Столбец total_income - Процент отсутствующих значений довольно большой (10,10%), придётся его заполнить. По заданию такжде необходимо поменять тип на int. \n",
    "12. Столбец purpose - столлбец корректен, однако есть большое число значений с разными регистрами. Приведём всё к одному названию"
   ]
  },
  {
   "cell_type": "markdown",
   "id": "d49dd3d4",
   "metadata": {},
   "source": [
    "### Шаг 2.1 Заполнение пропусков  и Шаг 2.2 Проверка данных на аномалии и исправления"
   ]
  },
  {
   "cell_type": "markdown",
   "id": "a4f8a341",
   "metadata": {},
   "source": [
    "<font size = 4>**Пропуски days_employed и total income**</font>\n",
    "\n",
    "Число пропусков в данных столбцах одинаковое. Посокольку было выдвинуто предположение о том, что это молодые люди, которые ещё не работают, либо не зарабатывают, то столбец income type можно будет заполнить нулями вместо пропусков."
   ]
  },
  {
   "cell_type": "code",
   "execution_count": 183,
   "id": "1d4becf0",
   "metadata": {},
   "outputs": [
    {
     "name": "stdout",
     "output_type": "stream",
     "text": [
      "-8437.673028      1\n",
      "-3507.818775      1\n",
      " 354500.415854    1\n",
      "-769.717438       1\n",
      "-3963.590317      1\n",
      "                 ..\n",
      "-1099.957609      1\n",
      "-209.984794       1\n",
      " 398099.392433    1\n",
      "-1271.038880      1\n",
      "-1984.507589      1\n",
      "Name: days_employed, Length: 19351, dtype: int64\n"
     ]
    }
   ],
   "source": [
    "print(data['days_employed'].value_counts())"
   ]
  },
  {
   "cell_type": "code",
   "execution_count": 184,
   "id": "35d9edea",
   "metadata": {},
   "outputs": [
    {
     "name": "stdout",
     "output_type": "stream",
     "text": [
      "Количество значений, отсутствующих в обоих столбцах = 2174\n",
      "\n"
     ]
    },
    {
     "data": {
      "text/html": [
       "<div>\n",
       "<style scoped>\n",
       "    .dataframe tbody tr th:only-of-type {\n",
       "        vertical-align: middle;\n",
       "    }\n",
       "\n",
       "    .dataframe tbody tr th {\n",
       "        vertical-align: top;\n",
       "    }\n",
       "\n",
       "    .dataframe thead th {\n",
       "        text-align: right;\n",
       "    }\n",
       "</style>\n",
       "<table border=\"1\" class=\"dataframe\">\n",
       "  <thead>\n",
       "    <tr style=\"text-align: right;\">\n",
       "      <th></th>\n",
       "      <th>children</th>\n",
       "      <th>days_employed</th>\n",
       "      <th>dob_years</th>\n",
       "      <th>education</th>\n",
       "      <th>education_id</th>\n",
       "      <th>family_status</th>\n",
       "      <th>family_status_id</th>\n",
       "      <th>gender</th>\n",
       "      <th>income_type</th>\n",
       "      <th>debt</th>\n",
       "      <th>total_income</th>\n",
       "      <th>purpose</th>\n",
       "    </tr>\n",
       "  </thead>\n",
       "  <tbody>\n",
       "    <tr>\n",
       "      <th>12</th>\n",
       "      <td>0</td>\n",
       "      <td>NaN</td>\n",
       "      <td>65</td>\n",
       "      <td>среднее</td>\n",
       "      <td>1</td>\n",
       "      <td>гражданский брак</td>\n",
       "      <td>1</td>\n",
       "      <td>M</td>\n",
       "      <td>пенсионер</td>\n",
       "      <td>0</td>\n",
       "      <td>NaN</td>\n",
       "      <td>сыграть свадьбу</td>\n",
       "    </tr>\n",
       "    <tr>\n",
       "      <th>26</th>\n",
       "      <td>0</td>\n",
       "      <td>NaN</td>\n",
       "      <td>41</td>\n",
       "      <td>среднее</td>\n",
       "      <td>1</td>\n",
       "      <td>женат / замужем</td>\n",
       "      <td>0</td>\n",
       "      <td>M</td>\n",
       "      <td>госслужащий</td>\n",
       "      <td>0</td>\n",
       "      <td>NaN</td>\n",
       "      <td>образование</td>\n",
       "    </tr>\n",
       "    <tr>\n",
       "      <th>29</th>\n",
       "      <td>0</td>\n",
       "      <td>NaN</td>\n",
       "      <td>63</td>\n",
       "      <td>среднее</td>\n",
       "      <td>1</td>\n",
       "      <td>Не женат / не замужем</td>\n",
       "      <td>4</td>\n",
       "      <td>F</td>\n",
       "      <td>пенсионер</td>\n",
       "      <td>0</td>\n",
       "      <td>NaN</td>\n",
       "      <td>строительство жилой недвижимости</td>\n",
       "    </tr>\n",
       "    <tr>\n",
       "      <th>41</th>\n",
       "      <td>0</td>\n",
       "      <td>NaN</td>\n",
       "      <td>50</td>\n",
       "      <td>среднее</td>\n",
       "      <td>1</td>\n",
       "      <td>женат / замужем</td>\n",
       "      <td>0</td>\n",
       "      <td>F</td>\n",
       "      <td>госслужащий</td>\n",
       "      <td>0</td>\n",
       "      <td>NaN</td>\n",
       "      <td>сделка с подержанным автомобилем</td>\n",
       "    </tr>\n",
       "    <tr>\n",
       "      <th>55</th>\n",
       "      <td>0</td>\n",
       "      <td>NaN</td>\n",
       "      <td>54</td>\n",
       "      <td>среднее</td>\n",
       "      <td>1</td>\n",
       "      <td>гражданский брак</td>\n",
       "      <td>1</td>\n",
       "      <td>F</td>\n",
       "      <td>пенсионер</td>\n",
       "      <td>1</td>\n",
       "      <td>NaN</td>\n",
       "      <td>сыграть свадьбу</td>\n",
       "    </tr>\n",
       "    <tr>\n",
       "      <th>65</th>\n",
       "      <td>0</td>\n",
       "      <td>NaN</td>\n",
       "      <td>21</td>\n",
       "      <td>среднее</td>\n",
       "      <td>1</td>\n",
       "      <td>Не женат / не замужем</td>\n",
       "      <td>4</td>\n",
       "      <td>M</td>\n",
       "      <td>компаньон</td>\n",
       "      <td>0</td>\n",
       "      <td>NaN</td>\n",
       "      <td>операции с коммерческой недвижимостью</td>\n",
       "    </tr>\n",
       "    <tr>\n",
       "      <th>67</th>\n",
       "      <td>0</td>\n",
       "      <td>NaN</td>\n",
       "      <td>52</td>\n",
       "      <td>высшее</td>\n",
       "      <td>0</td>\n",
       "      <td>женат / замужем</td>\n",
       "      <td>0</td>\n",
       "      <td>F</td>\n",
       "      <td>пенсионер</td>\n",
       "      <td>0</td>\n",
       "      <td>NaN</td>\n",
       "      <td>покупка жилья для семьи</td>\n",
       "    </tr>\n",
       "    <tr>\n",
       "      <th>72</th>\n",
       "      <td>1</td>\n",
       "      <td>NaN</td>\n",
       "      <td>32</td>\n",
       "      <td>высшее</td>\n",
       "      <td>0</td>\n",
       "      <td>женат / замужем</td>\n",
       "      <td>0</td>\n",
       "      <td>M</td>\n",
       "      <td>госслужащий</td>\n",
       "      <td>0</td>\n",
       "      <td>NaN</td>\n",
       "      <td>операции с коммерческой недвижимостью</td>\n",
       "    </tr>\n",
       "    <tr>\n",
       "      <th>82</th>\n",
       "      <td>2</td>\n",
       "      <td>NaN</td>\n",
       "      <td>50</td>\n",
       "      <td>высшее</td>\n",
       "      <td>0</td>\n",
       "      <td>женат / замужем</td>\n",
       "      <td>0</td>\n",
       "      <td>F</td>\n",
       "      <td>сотрудник</td>\n",
       "      <td>0</td>\n",
       "      <td>NaN</td>\n",
       "      <td>жилье</td>\n",
       "    </tr>\n",
       "    <tr>\n",
       "      <th>83</th>\n",
       "      <td>0</td>\n",
       "      <td>NaN</td>\n",
       "      <td>52</td>\n",
       "      <td>среднее</td>\n",
       "      <td>1</td>\n",
       "      <td>женат / замужем</td>\n",
       "      <td>0</td>\n",
       "      <td>M</td>\n",
       "      <td>сотрудник</td>\n",
       "      <td>0</td>\n",
       "      <td>NaN</td>\n",
       "      <td>жилье</td>\n",
       "    </tr>\n",
       "  </tbody>\n",
       "</table>\n",
       "</div>"
      ],
      "text/plain": [
       "    children  days_employed  dob_years education  education_id  \\\n",
       "12         0            NaN         65   среднее             1   \n",
       "26         0            NaN         41   среднее             1   \n",
       "29         0            NaN         63   среднее             1   \n",
       "41         0            NaN         50   среднее             1   \n",
       "55         0            NaN         54   среднее             1   \n",
       "65         0            NaN         21   среднее             1   \n",
       "67         0            NaN         52    высшее             0   \n",
       "72         1            NaN         32    высшее             0   \n",
       "82         2            NaN         50    высшее             0   \n",
       "83         0            NaN         52   среднее             1   \n",
       "\n",
       "            family_status  family_status_id gender  income_type  debt  \\\n",
       "12       гражданский брак                 1      M    пенсионер     0   \n",
       "26        женат / замужем                 0      M  госслужащий     0   \n",
       "29  Не женат / не замужем                 4      F    пенсионер     0   \n",
       "41        женат / замужем                 0      F  госслужащий     0   \n",
       "55       гражданский брак                 1      F    пенсионер     1   \n",
       "65  Не женат / не замужем                 4      M    компаньон     0   \n",
       "67        женат / замужем                 0      F    пенсионер     0   \n",
       "72        женат / замужем                 0      M  госслужащий     0   \n",
       "82        женат / замужем                 0      F    сотрудник     0   \n",
       "83        женат / замужем                 0      M    сотрудник     0   \n",
       "\n",
       "    total_income                                purpose  \n",
       "12           NaN                        сыграть свадьбу  \n",
       "26           NaN                            образование  \n",
       "29           NaN       строительство жилой недвижимости  \n",
       "41           NaN       сделка с подержанным автомобилем  \n",
       "55           NaN                        сыграть свадьбу  \n",
       "65           NaN  операции с коммерческой недвижимостью  \n",
       "67           NaN                покупка жилья для семьи  \n",
       "72           NaN  операции с коммерческой недвижимостью  \n",
       "82           NaN                                  жилье  \n",
       "83           NaN                                  жилье  "
      ]
     },
     "metadata": {},
     "output_type": "display_data"
    }
   ],
   "source": [
    "null = data.loc[(data['days_employed'].isnull()) & (data['total_income'].isnull()), 'dob_years'].count()\n",
    "print(f'Количество значений, отсутствующих в обоих столбцах = {null}')\n",
    "print()\n",
    "display(data.loc[(data['days_employed'].isnull()) & (data['total_income'].isnull())].head(10))"
   ]
  },
  {
   "cell_type": "code",
   "execution_count": 185,
   "id": "86c51266",
   "metadata": {},
   "outputs": [],
   "source": [
    "#После выведения первых десяти строк с улсовием NaN в обоих столбцах days_employed и total_income, видно, что диапозон возраста варьируется от 21 года до 65 лет. Значит, наше предположение о том, что это молодые неработавшие, либо незарабатывающие люди ложно. Исходя из этого, заполним столбец total_income медианным значением. Столбец же days_employed удалим за ненадобностью."
   ]
  },
  {
   "cell_type": "code",
   "execution_count": 186,
   "id": "d1781cb4",
   "metadata": {},
   "outputs": [
    {
     "name": "stdout",
     "output_type": "stream",
     "text": [
      "Index(['children', 'dob_years', 'education', 'education_id', 'family_status',\n",
      "       'family_status_id', 'gender', 'income_type', 'debt', 'total_income',\n",
      "       'purpose'],\n",
      "      dtype='object')\n"
     ]
    }
   ],
   "source": [
    "data.drop('days_employed', axis='columns', inplace=True) #удаляем столбец days_employed\n",
    "print(data.columns)"
   ]
  },
  {
   "cell_type": "markdown",
   "id": "7ce7e12e",
   "metadata": {},
   "source": [
    "<font size = 4>**Столбец total_income**</font>"
   ]
  },
  {
   "cell_type": "code",
   "execution_count": 187,
   "id": "37fdac0c",
   "metadata": {},
   "outputs": [
    {
     "name": "stdout",
     "output_type": "stream",
     "text": [
      "<class 'pandas.core.frame.DataFrame'>\n",
      "RangeIndex: 21525 entries, 0 to 21524\n",
      "Data columns (total 11 columns):\n",
      " #   Column            Non-Null Count  Dtype  \n",
      "---  ------            --------------  -----  \n",
      " 0   children          21525 non-null  int64  \n",
      " 1   dob_years         21525 non-null  int64  \n",
      " 2   education         21525 non-null  object \n",
      " 3   education_id      21525 non-null  int64  \n",
      " 4   family_status     21525 non-null  object \n",
      " 5   family_status_id  21525 non-null  int64  \n",
      " 6   gender            21525 non-null  object \n",
      " 7   income_type       21525 non-null  object \n",
      " 8   debt              21525 non-null  int64  \n",
      " 9   total_income      19351 non-null  float64\n",
      " 10  purpose           21525 non-null  object \n",
      "dtypes: float64(1), int64(5), object(5)\n",
      "memory usage: 1.8+ MB\n"
     ]
    },
    {
     "data": {
      "text/plain": [
       "None"
      ]
     },
     "metadata": {},
     "output_type": "display_data"
    },
    {
     "name": "stdout",
     "output_type": "stream",
     "text": [
      "\n"
     ]
    },
    {
     "data": {
      "text/plain": [
       "'Медиана столбца total_income = 145017.93753253992'"
      ]
     },
     "metadata": {},
     "output_type": "display_data"
    },
    {
     "name": "stdout",
     "output_type": "stream",
     "text": [
      "\n"
     ]
    },
    {
     "data": {
      "text/plain": [
       "count    1.935100e+04\n",
       "mean     1.674223e+05\n",
       "std      1.029716e+05\n",
       "min      2.066726e+04\n",
       "25%      1.030532e+05\n",
       "50%      1.450179e+05\n",
       "75%      2.034351e+05\n",
       "max      2.265604e+06\n",
       "Name: total_income, dtype: float64"
      ]
     },
     "metadata": {},
     "output_type": "display_data"
    }
   ],
   "source": [
    "display(data.info())\n",
    "print()\n",
    "total_income_median = data['total_income'].median()\n",
    "display(f'Медиана столбца total_income = {total_income_median}')\n",
    "print()\n",
    "display(data['total_income'].describe())"
   ]
  },
  {
   "cell_type": "code",
   "execution_count": 188,
   "id": "47e11b8b",
   "metadata": {},
   "outputs": [],
   "source": [
    "#Выбор заполнения стобца total_income медианными значениями оправдан, поскольку в данном столбце данные приблизительно одного порядка. Теперь создадим столбец income_category_list, который содержит медианы по категориям."
   ]
  },
  {
   "cell_type": "code",
   "execution_count": 189,
   "id": "34f162e9",
   "metadata": {},
   "outputs": [
    {
     "name": "stdout",
     "output_type": "stream",
     "text": [
      "Таблица медиан по категориям: \n"
     ]
    },
    {
     "data": {
      "text/plain": [
       "income_type\n",
       "в декрете           53829.130729\n",
       "студент             98201.625314\n",
       "пенсионер          118514.486412\n",
       "безработный        131339.751676\n",
       "сотрудник          142594.396847\n",
       "госслужащий        150447.935283\n",
       "компаньон          172357.950966\n",
       "предприниматель    499163.144947\n",
       "Name: total_income, dtype: float64"
      ]
     },
     "metadata": {},
     "output_type": "display_data"
    },
    {
     "name": "stdout",
     "output_type": "stream",
     "text": [
      "\n",
      "Количество пропущенных значений в total_income:  2174\n"
     ]
    }
   ],
   "source": [
    "income_category_list = data.groupby('income_type')['total_income'].median().sort_values() #группируем столбец income_type по столбцу total_income и выводим медианное значение, отсортировав их по возрастанию\n",
    "print('Таблица медиан по категориям: ')\n",
    "display(income_category_list)\n",
    "print()\n",
    "print('Количество пропущенных значений в total_income: ', data['total_income'].isna().sum())"
   ]
  },
  {
   "cell_type": "code",
   "execution_count": 190,
   "id": "efd960b8",
   "metadata": {},
   "outputs": [],
   "source": [
    "#Теперь выведем первые 10 строк с пропусками"
   ]
  },
  {
   "cell_type": "code",
   "execution_count": 191,
   "id": "98fa2e5b",
   "metadata": {},
   "outputs": [
    {
     "data": {
      "text/html": [
       "<div>\n",
       "<style scoped>\n",
       "    .dataframe tbody tr th:only-of-type {\n",
       "        vertical-align: middle;\n",
       "    }\n",
       "\n",
       "    .dataframe tbody tr th {\n",
       "        vertical-align: top;\n",
       "    }\n",
       "\n",
       "    .dataframe thead th {\n",
       "        text-align: right;\n",
       "    }\n",
       "</style>\n",
       "<table border=\"1\" class=\"dataframe\">\n",
       "  <thead>\n",
       "    <tr style=\"text-align: right;\">\n",
       "      <th></th>\n",
       "      <th>children</th>\n",
       "      <th>dob_years</th>\n",
       "      <th>education</th>\n",
       "      <th>education_id</th>\n",
       "      <th>family_status</th>\n",
       "      <th>family_status_id</th>\n",
       "      <th>gender</th>\n",
       "      <th>income_type</th>\n",
       "      <th>debt</th>\n",
       "      <th>total_income</th>\n",
       "      <th>purpose</th>\n",
       "    </tr>\n",
       "  </thead>\n",
       "  <tbody>\n",
       "    <tr>\n",
       "      <th>12</th>\n",
       "      <td>0</td>\n",
       "      <td>65</td>\n",
       "      <td>среднее</td>\n",
       "      <td>1</td>\n",
       "      <td>гражданский брак</td>\n",
       "      <td>1</td>\n",
       "      <td>M</td>\n",
       "      <td>пенсионер</td>\n",
       "      <td>0</td>\n",
       "      <td>NaN</td>\n",
       "      <td>сыграть свадьбу</td>\n",
       "    </tr>\n",
       "    <tr>\n",
       "      <th>26</th>\n",
       "      <td>0</td>\n",
       "      <td>41</td>\n",
       "      <td>среднее</td>\n",
       "      <td>1</td>\n",
       "      <td>женат / замужем</td>\n",
       "      <td>0</td>\n",
       "      <td>M</td>\n",
       "      <td>госслужащий</td>\n",
       "      <td>0</td>\n",
       "      <td>NaN</td>\n",
       "      <td>образование</td>\n",
       "    </tr>\n",
       "    <tr>\n",
       "      <th>29</th>\n",
       "      <td>0</td>\n",
       "      <td>63</td>\n",
       "      <td>среднее</td>\n",
       "      <td>1</td>\n",
       "      <td>Не женат / не замужем</td>\n",
       "      <td>4</td>\n",
       "      <td>F</td>\n",
       "      <td>пенсионер</td>\n",
       "      <td>0</td>\n",
       "      <td>NaN</td>\n",
       "      <td>строительство жилой недвижимости</td>\n",
       "    </tr>\n",
       "    <tr>\n",
       "      <th>41</th>\n",
       "      <td>0</td>\n",
       "      <td>50</td>\n",
       "      <td>среднее</td>\n",
       "      <td>1</td>\n",
       "      <td>женат / замужем</td>\n",
       "      <td>0</td>\n",
       "      <td>F</td>\n",
       "      <td>госслужащий</td>\n",
       "      <td>0</td>\n",
       "      <td>NaN</td>\n",
       "      <td>сделка с подержанным автомобилем</td>\n",
       "    </tr>\n",
       "    <tr>\n",
       "      <th>55</th>\n",
       "      <td>0</td>\n",
       "      <td>54</td>\n",
       "      <td>среднее</td>\n",
       "      <td>1</td>\n",
       "      <td>гражданский брак</td>\n",
       "      <td>1</td>\n",
       "      <td>F</td>\n",
       "      <td>пенсионер</td>\n",
       "      <td>1</td>\n",
       "      <td>NaN</td>\n",
       "      <td>сыграть свадьбу</td>\n",
       "    </tr>\n",
       "    <tr>\n",
       "      <th>65</th>\n",
       "      <td>0</td>\n",
       "      <td>21</td>\n",
       "      <td>среднее</td>\n",
       "      <td>1</td>\n",
       "      <td>Не женат / не замужем</td>\n",
       "      <td>4</td>\n",
       "      <td>M</td>\n",
       "      <td>компаньон</td>\n",
       "      <td>0</td>\n",
       "      <td>NaN</td>\n",
       "      <td>операции с коммерческой недвижимостью</td>\n",
       "    </tr>\n",
       "    <tr>\n",
       "      <th>67</th>\n",
       "      <td>0</td>\n",
       "      <td>52</td>\n",
       "      <td>высшее</td>\n",
       "      <td>0</td>\n",
       "      <td>женат / замужем</td>\n",
       "      <td>0</td>\n",
       "      <td>F</td>\n",
       "      <td>пенсионер</td>\n",
       "      <td>0</td>\n",
       "      <td>NaN</td>\n",
       "      <td>покупка жилья для семьи</td>\n",
       "    </tr>\n",
       "    <tr>\n",
       "      <th>72</th>\n",
       "      <td>1</td>\n",
       "      <td>32</td>\n",
       "      <td>высшее</td>\n",
       "      <td>0</td>\n",
       "      <td>женат / замужем</td>\n",
       "      <td>0</td>\n",
       "      <td>M</td>\n",
       "      <td>госслужащий</td>\n",
       "      <td>0</td>\n",
       "      <td>NaN</td>\n",
       "      <td>операции с коммерческой недвижимостью</td>\n",
       "    </tr>\n",
       "    <tr>\n",
       "      <th>82</th>\n",
       "      <td>2</td>\n",
       "      <td>50</td>\n",
       "      <td>высшее</td>\n",
       "      <td>0</td>\n",
       "      <td>женат / замужем</td>\n",
       "      <td>0</td>\n",
       "      <td>F</td>\n",
       "      <td>сотрудник</td>\n",
       "      <td>0</td>\n",
       "      <td>NaN</td>\n",
       "      <td>жилье</td>\n",
       "    </tr>\n",
       "    <tr>\n",
       "      <th>83</th>\n",
       "      <td>0</td>\n",
       "      <td>52</td>\n",
       "      <td>среднее</td>\n",
       "      <td>1</td>\n",
       "      <td>женат / замужем</td>\n",
       "      <td>0</td>\n",
       "      <td>M</td>\n",
       "      <td>сотрудник</td>\n",
       "      <td>0</td>\n",
       "      <td>NaN</td>\n",
       "      <td>жилье</td>\n",
       "    </tr>\n",
       "  </tbody>\n",
       "</table>\n",
       "</div>"
      ],
      "text/plain": [
       "    children  dob_years education  education_id          family_status  \\\n",
       "12         0         65   среднее             1       гражданский брак   \n",
       "26         0         41   среднее             1        женат / замужем   \n",
       "29         0         63   среднее             1  Не женат / не замужем   \n",
       "41         0         50   среднее             1        женат / замужем   \n",
       "55         0         54   среднее             1       гражданский брак   \n",
       "65         0         21   среднее             1  Не женат / не замужем   \n",
       "67         0         52    высшее             0        женат / замужем   \n",
       "72         1         32    высшее             0        женат / замужем   \n",
       "82         2         50    высшее             0        женат / замужем   \n",
       "83         0         52   среднее             1        женат / замужем   \n",
       "\n",
       "    family_status_id gender  income_type  debt  total_income  \\\n",
       "12                 1      M    пенсионер     0           NaN   \n",
       "26                 0      M  госслужащий     0           NaN   \n",
       "29                 4      F    пенсионер     0           NaN   \n",
       "41                 0      F  госслужащий     0           NaN   \n",
       "55                 1      F    пенсионер     1           NaN   \n",
       "65                 4      M    компаньон     0           NaN   \n",
       "67                 0      F    пенсионер     0           NaN   \n",
       "72                 0      M  госслужащий     0           NaN   \n",
       "82                 0      F    сотрудник     0           NaN   \n",
       "83                 0      M    сотрудник     0           NaN   \n",
       "\n",
       "                                  purpose  \n",
       "12                        сыграть свадьбу  \n",
       "26                            образование  \n",
       "29       строительство жилой недвижимости  \n",
       "41       сделка с подержанным автомобилем  \n",
       "55                        сыграть свадьбу  \n",
       "65  операции с коммерческой недвижимостью  \n",
       "67                покупка жилья для семьи  \n",
       "72  операции с коммерческой недвижимостью  \n",
       "82                                  жилье  \n",
       "83                                  жилье  "
      ]
     },
     "metadata": {},
     "output_type": "display_data"
    }
   ],
   "source": [
    "display(data.loc[data.loc[:, 'total_income'].isna()==True].head(10))"
   ]
  },
  {
   "cell_type": "code",
   "execution_count": 192,
   "id": "68515a01",
   "metadata": {
    "scrolled": true
   },
   "outputs": [
    {
     "name": "stdout",
     "output_type": "stream",
     "text": [
      "в декрете : Медиана =  53829.13072905995\n",
      "53829.13072905995\n",
      "Пропусков было: 0\n",
      "Пропусков стало: 0\n",
      "\n",
      "студент : Медиана =  98201.62531401133\n",
      "98201.62531401133\n",
      "Пропусков было: 0\n",
      "Пропусков стало: 0\n",
      "\n",
      "пенсионер : Медиана =  118514.48641164352\n",
      "118514.48641164352\n",
      "Пропусков было: 413\n",
      "Пропусков стало: 0\n",
      "\n",
      "безработный : Медиана =  131339.7516762103\n",
      "131339.7516762103\n",
      "Пропусков было: 0\n",
      "Пропусков стало: 0\n",
      "\n",
      "сотрудник : Медиана =  142594.39684740017\n",
      "142594.39684740017\n",
      "Пропусков было: 1105\n",
      "Пропусков стало: 0\n",
      "\n",
      "госслужащий : Медиана =  150447.9352830068\n",
      "150447.9352830068\n",
      "Пропусков было: 147\n",
      "Пропусков стало: 0\n",
      "\n",
      "компаньон : Медиана =  172357.95096577113\n",
      "172357.95096577113\n",
      "Пропусков было: 508\n",
      "Пропусков стало: 0\n",
      "\n",
      "предприниматель : Медиана =  499163.1449470857\n",
      "499163.1449470857\n",
      "Пропусков было: 1\n",
      "Пропусков стало: 0\n",
      "\n",
      "Пропущенных значений осталось: 0\n"
     ]
    }
   ],
   "source": [
    "for category in income_category_list.index:\n",
    "    median = income_category_list[category]\n",
    "    print(category,': Медиана = ',  median)\n",
    "    print(median)\n",
    "    print('Пропусков было:', data[data['income_type']==category]['total_income'].isnull().sum())\n",
    "    \n",
    "    data.loc[data.loc[:, 'income_type']==category, 'total_income'] = data.loc[data.loc[:, 'income_type']==category, 'total_income'].fillna(median)\n",
    "    print('Пропусков стало:', data[data['income_type']==category]['total_income'].isnull().sum())\n",
    "    print()\n",
    "print('Пропущенных значений осталось:', data['total_income'].isna().sum())\n"
   ]
  },
  {
   "cell_type": "code",
   "execution_count": 193,
   "id": "06d02f59",
   "metadata": {},
   "outputs": [],
   "source": [
    "#Проведём проверку в строках (№№ 12 - пенсионер, 26 - госслужащий, 65 - компаньон, 82 - сотрудник), где были сделаны замены пропусков из разных катергорий"
   ]
  },
  {
   "cell_type": "code",
   "execution_count": 194,
   "id": "da67377b",
   "metadata": {
    "scrolled": true
   },
   "outputs": [
    {
     "name": "stdout",
     "output_type": "stream",
     "text": [
      "     total_income  income_type\n",
      "12  118514.486412    пенсионер\n",
      "26  150447.935283  госслужащий\n",
      "65  172357.950966    компаньон\n",
      "82  142594.396847    сотрудник\n"
     ]
    }
   ],
   "source": [
    "print(data.loc[[12,26,65,82], ['total_income', 'income_type']])"
   ]
  },
  {
   "cell_type": "code",
   "execution_count": 195,
   "id": "0ab2c26a",
   "metadata": {},
   "outputs": [],
   "source": [
    "#Выводим таблицы медиан по категориям:"
   ]
  },
  {
   "cell_type": "code",
   "execution_count": 196,
   "id": "9d19a75b",
   "metadata": {},
   "outputs": [
    {
     "name": "stdout",
     "output_type": "stream",
     "text": [
      "income_type\n",
      "в декрете           53829.130729\n",
      "студент             98201.625314\n",
      "пенсионер          118514.486412\n",
      "безработный        131339.751676\n",
      "сотрудник          142594.396847\n",
      "госслужащий        150447.935283\n",
      "компаньон          172357.950966\n",
      "предприниматель    499163.144947\n",
      "Name: total_income, dtype: float64\n"
     ]
    }
   ],
   "source": [
    "print(income_category_list)"
   ]
  },
  {
   "cell_type": "code",
   "execution_count": 197,
   "id": "a35668b5",
   "metadata": {},
   "outputs": [],
   "source": [
    "#Таблицы совпадают"
   ]
  },
  {
   "cell_type": "markdown",
   "id": "f534b7bd",
   "metadata": {},
   "source": [
    "<font size = 4> **Столбец gender**</font>"
   ]
  },
  {
   "cell_type": "code",
   "execution_count": 198,
   "id": "acef5d62",
   "metadata": {},
   "outputs": [],
   "source": [
    "#Заменим строку с \"XNA\" на \"F\""
   ]
  },
  {
   "cell_type": "code",
   "execution_count": 199,
   "id": "53f50724",
   "metadata": {
    "scrolled": true
   },
   "outputs": [
    {
     "name": "stdout",
     "output_type": "stream",
     "text": [
      "       children  dob_years            education  education_id  \\\n",
      "10701         0         24  неоконченное высшее             2   \n",
      "\n",
      "          family_status  family_status_id gender income_type  debt  \\\n",
      "10701  гражданский брак                 1    XNA   компаньон     0   \n",
      "\n",
      "        total_income               purpose  \n",
      "10701  203905.157261  покупка недвижимости  \n",
      "\n",
      "F      14236\n",
      "M       7288\n",
      "XNA        1\n",
      "Name: gender, dtype: int64\n",
      "\n",
      "F    14237\n",
      "M     7288\n",
      "Name: gender, dtype: int64\n",
      "\n",
      "children                               0\n",
      "dob_years                             24\n",
      "education            неоконченное высшее\n",
      "education_id                           2\n",
      "family_status           гражданский брак\n",
      "family_status_id                       1\n",
      "gender                                 F\n",
      "income_type                    компаньон\n",
      "debt                                   0\n",
      "total_income               203905.157261\n",
      "purpose             покупка недвижимости\n",
      "Name: 10701, dtype: object\n"
     ]
    }
   ],
   "source": [
    "print(data.loc[data['gender']=='XNA']) #определим местанахождение строки с XNA\n",
    "print()\n",
    "print(data['gender'].value_counts())\n",
    "print()\n",
    "data.loc[data['gender']=='XNA', 'gender'] = 'F' #производим замену на 'F'\n",
    "print(data['gender'].value_counts())\n",
    "print()\n",
    "print(data.loc[10701]) #выводим строку 10701 где была осущетствлена замена для проверки"
   ]
  },
  {
   "cell_type": "code",
   "execution_count": 200,
   "id": "4c0f2442",
   "metadata": {},
   "outputs": [],
   "source": [
    "#Замена была успешно проведена"
   ]
  },
  {
   "cell_type": "markdown",
   "id": "78ea11c3",
   "metadata": {},
   "source": [
    "<font size=4> **Столбец children**</font>"
   ]
  },
  {
   "cell_type": "markdown",
   "id": "f4860f9e",
   "metadata": {},
   "source": [
    "Столбец Children - Некорректные значения \"20\" (малое количество) и \"-1\" (нереальное значение). Необходимо удалить данные строки, поскольку очщее число в выбоке их незначительно"
   ]
  },
  {
   "cell_type": "code",
   "execution_count": 201,
   "id": "2446d7d5",
   "metadata": {},
   "outputs": [
    {
     "name": "stdout",
     "output_type": "stream",
     "text": [
      " 0     14149\n",
      " 1      4818\n",
      " 2      2055\n",
      " 3       330\n",
      " 20       76\n",
      "-1        47\n",
      " 4        41\n",
      " 5         9\n",
      "Name: children, dtype: int64\n"
     ]
    }
   ],
   "source": [
    "print(data['children'].value_counts())"
   ]
  },
  {
   "cell_type": "code",
   "execution_count": 202,
   "id": "bb3bd2b6",
   "metadata": {},
   "outputs": [],
   "source": [
    "#Для того чтобы удалить строки с -1 и 20 проверим их перед удалением на возможную закономерность"
   ]
  },
  {
   "cell_type": "code",
   "execution_count": 203,
   "id": "5057686e",
   "metadata": {
    "scrolled": true
   },
   "outputs": [
    {
     "data": {
      "text/html": [
       "<div>\n",
       "<style scoped>\n",
       "    .dataframe tbody tr th:only-of-type {\n",
       "        vertical-align: middle;\n",
       "    }\n",
       "\n",
       "    .dataframe tbody tr th {\n",
       "        vertical-align: top;\n",
       "    }\n",
       "\n",
       "    .dataframe thead th {\n",
       "        text-align: right;\n",
       "    }\n",
       "</style>\n",
       "<table border=\"1\" class=\"dataframe\">\n",
       "  <thead>\n",
       "    <tr style=\"text-align: right;\">\n",
       "      <th></th>\n",
       "      <th>children</th>\n",
       "      <th>dob_years</th>\n",
       "      <th>education</th>\n",
       "      <th>education_id</th>\n",
       "      <th>family_status</th>\n",
       "      <th>family_status_id</th>\n",
       "      <th>gender</th>\n",
       "      <th>income_type</th>\n",
       "      <th>debt</th>\n",
       "      <th>total_income</th>\n",
       "      <th>purpose</th>\n",
       "    </tr>\n",
       "  </thead>\n",
       "  <tbody>\n",
       "    <tr>\n",
       "      <th>291</th>\n",
       "      <td>-1</td>\n",
       "      <td>46</td>\n",
       "      <td>среднее</td>\n",
       "      <td>1</td>\n",
       "      <td>гражданский брак</td>\n",
       "      <td>1</td>\n",
       "      <td>F</td>\n",
       "      <td>сотрудник</td>\n",
       "      <td>0</td>\n",
       "      <td>102816.346412</td>\n",
       "      <td>профильное образование</td>\n",
       "    </tr>\n",
       "    <tr>\n",
       "      <th>705</th>\n",
       "      <td>-1</td>\n",
       "      <td>50</td>\n",
       "      <td>среднее</td>\n",
       "      <td>1</td>\n",
       "      <td>женат / замужем</td>\n",
       "      <td>0</td>\n",
       "      <td>F</td>\n",
       "      <td>госслужащий</td>\n",
       "      <td>0</td>\n",
       "      <td>137882.899271</td>\n",
       "      <td>приобретение автомобиля</td>\n",
       "    </tr>\n",
       "    <tr>\n",
       "      <th>742</th>\n",
       "      <td>-1</td>\n",
       "      <td>57</td>\n",
       "      <td>среднее</td>\n",
       "      <td>1</td>\n",
       "      <td>женат / замужем</td>\n",
       "      <td>0</td>\n",
       "      <td>F</td>\n",
       "      <td>сотрудник</td>\n",
       "      <td>0</td>\n",
       "      <td>64268.044444</td>\n",
       "      <td>дополнительное образование</td>\n",
       "    </tr>\n",
       "    <tr>\n",
       "      <th>800</th>\n",
       "      <td>-1</td>\n",
       "      <td>54</td>\n",
       "      <td>среднее</td>\n",
       "      <td>1</td>\n",
       "      <td>Не женат / не замужем</td>\n",
       "      <td>4</td>\n",
       "      <td>F</td>\n",
       "      <td>пенсионер</td>\n",
       "      <td>0</td>\n",
       "      <td>86293.724153</td>\n",
       "      <td>дополнительное образование</td>\n",
       "    </tr>\n",
       "    <tr>\n",
       "      <th>941</th>\n",
       "      <td>-1</td>\n",
       "      <td>57</td>\n",
       "      <td>Среднее</td>\n",
       "      <td>1</td>\n",
       "      <td>женат / замужем</td>\n",
       "      <td>0</td>\n",
       "      <td>F</td>\n",
       "      <td>пенсионер</td>\n",
       "      <td>0</td>\n",
       "      <td>118514.486412</td>\n",
       "      <td>на покупку своего автомобиля</td>\n",
       "    </tr>\n",
       "    <tr>\n",
       "      <th>1363</th>\n",
       "      <td>-1</td>\n",
       "      <td>55</td>\n",
       "      <td>СРЕДНЕЕ</td>\n",
       "      <td>1</td>\n",
       "      <td>женат / замужем</td>\n",
       "      <td>0</td>\n",
       "      <td>F</td>\n",
       "      <td>компаньон</td>\n",
       "      <td>0</td>\n",
       "      <td>69550.699692</td>\n",
       "      <td>профильное образование</td>\n",
       "    </tr>\n",
       "    <tr>\n",
       "      <th>1929</th>\n",
       "      <td>-1</td>\n",
       "      <td>38</td>\n",
       "      <td>среднее</td>\n",
       "      <td>1</td>\n",
       "      <td>Не женат / не замужем</td>\n",
       "      <td>4</td>\n",
       "      <td>M</td>\n",
       "      <td>сотрудник</td>\n",
       "      <td>0</td>\n",
       "      <td>109121.569013</td>\n",
       "      <td>покупка жилья</td>\n",
       "    </tr>\n",
       "    <tr>\n",
       "      <th>2073</th>\n",
       "      <td>-1</td>\n",
       "      <td>42</td>\n",
       "      <td>среднее</td>\n",
       "      <td>1</td>\n",
       "      <td>в разводе</td>\n",
       "      <td>3</td>\n",
       "      <td>F</td>\n",
       "      <td>компаньон</td>\n",
       "      <td>0</td>\n",
       "      <td>162638.609373</td>\n",
       "      <td>покупка жилья</td>\n",
       "    </tr>\n",
       "    <tr>\n",
       "      <th>3814</th>\n",
       "      <td>-1</td>\n",
       "      <td>26</td>\n",
       "      <td>Среднее</td>\n",
       "      <td>1</td>\n",
       "      <td>гражданский брак</td>\n",
       "      <td>1</td>\n",
       "      <td>F</td>\n",
       "      <td>госслужащий</td>\n",
       "      <td>0</td>\n",
       "      <td>131892.785435</td>\n",
       "      <td>на проведение свадьбы</td>\n",
       "    </tr>\n",
       "    <tr>\n",
       "      <th>4201</th>\n",
       "      <td>-1</td>\n",
       "      <td>41</td>\n",
       "      <td>среднее</td>\n",
       "      <td>1</td>\n",
       "      <td>женат / замужем</td>\n",
       "      <td>0</td>\n",
       "      <td>F</td>\n",
       "      <td>госслужащий</td>\n",
       "      <td>0</td>\n",
       "      <td>226375.766751</td>\n",
       "      <td>операции со своей недвижимостью</td>\n",
       "    </tr>\n",
       "  </tbody>\n",
       "</table>\n",
       "</div>"
      ],
      "text/plain": [
       "      children  dob_years education  education_id          family_status  \\\n",
       "291         -1         46   среднее             1       гражданский брак   \n",
       "705         -1         50   среднее             1        женат / замужем   \n",
       "742         -1         57   среднее             1        женат / замужем   \n",
       "800         -1         54   среднее             1  Не женат / не замужем   \n",
       "941         -1         57   Среднее             1        женат / замужем   \n",
       "1363        -1         55   СРЕДНЕЕ             1        женат / замужем   \n",
       "1929        -1         38   среднее             1  Не женат / не замужем   \n",
       "2073        -1         42   среднее             1              в разводе   \n",
       "3814        -1         26   Среднее             1       гражданский брак   \n",
       "4201        -1         41   среднее             1        женат / замужем   \n",
       "\n",
       "      family_status_id gender  income_type  debt   total_income  \\\n",
       "291                  1      F    сотрудник     0  102816.346412   \n",
       "705                  0      F  госслужащий     0  137882.899271   \n",
       "742                  0      F    сотрудник     0   64268.044444   \n",
       "800                  4      F    пенсионер     0   86293.724153   \n",
       "941                  0      F    пенсионер     0  118514.486412   \n",
       "1363                 0      F    компаньон     0   69550.699692   \n",
       "1929                 4      M    сотрудник     0  109121.569013   \n",
       "2073                 3      F    компаньон     0  162638.609373   \n",
       "3814                 1      F  госслужащий     0  131892.785435   \n",
       "4201                 0      F  госслужащий     0  226375.766751   \n",
       "\n",
       "                              purpose  \n",
       "291            профильное образование  \n",
       "705           приобретение автомобиля  \n",
       "742        дополнительное образование  \n",
       "800        дополнительное образование  \n",
       "941      на покупку своего автомобиля  \n",
       "1363           профильное образование  \n",
       "1929                    покупка жилья  \n",
       "2073                    покупка жилья  \n",
       "3814            на проведение свадьбы  \n",
       "4201  операции со своей недвижимостью  "
      ]
     },
     "metadata": {},
     "output_type": "display_data"
    },
    {
     "data": {
      "text/html": [
       "<div>\n",
       "<style scoped>\n",
       "    .dataframe tbody tr th:only-of-type {\n",
       "        vertical-align: middle;\n",
       "    }\n",
       "\n",
       "    .dataframe tbody tr th {\n",
       "        vertical-align: top;\n",
       "    }\n",
       "\n",
       "    .dataframe thead th {\n",
       "        text-align: right;\n",
       "    }\n",
       "</style>\n",
       "<table border=\"1\" class=\"dataframe\">\n",
       "  <thead>\n",
       "    <tr style=\"text-align: right;\">\n",
       "      <th></th>\n",
       "      <th>children</th>\n",
       "      <th>dob_years</th>\n",
       "      <th>education</th>\n",
       "      <th>education_id</th>\n",
       "      <th>family_status</th>\n",
       "      <th>family_status_id</th>\n",
       "      <th>gender</th>\n",
       "      <th>income_type</th>\n",
       "      <th>debt</th>\n",
       "      <th>total_income</th>\n",
       "      <th>purpose</th>\n",
       "    </tr>\n",
       "  </thead>\n",
       "  <tbody>\n",
       "    <tr>\n",
       "      <th>606</th>\n",
       "      <td>20</td>\n",
       "      <td>21</td>\n",
       "      <td>среднее</td>\n",
       "      <td>1</td>\n",
       "      <td>женат / замужем</td>\n",
       "      <td>0</td>\n",
       "      <td>M</td>\n",
       "      <td>компаньон</td>\n",
       "      <td>0</td>\n",
       "      <td>145334.865002</td>\n",
       "      <td>покупка жилья</td>\n",
       "    </tr>\n",
       "    <tr>\n",
       "      <th>720</th>\n",
       "      <td>20</td>\n",
       "      <td>44</td>\n",
       "      <td>среднее</td>\n",
       "      <td>1</td>\n",
       "      <td>женат / замужем</td>\n",
       "      <td>0</td>\n",
       "      <td>F</td>\n",
       "      <td>компаньон</td>\n",
       "      <td>0</td>\n",
       "      <td>112998.738649</td>\n",
       "      <td>покупка недвижимости</td>\n",
       "    </tr>\n",
       "    <tr>\n",
       "      <th>1074</th>\n",
       "      <td>20</td>\n",
       "      <td>56</td>\n",
       "      <td>среднее</td>\n",
       "      <td>1</td>\n",
       "      <td>женат / замужем</td>\n",
       "      <td>0</td>\n",
       "      <td>F</td>\n",
       "      <td>сотрудник</td>\n",
       "      <td>1</td>\n",
       "      <td>229518.537004</td>\n",
       "      <td>получение образования</td>\n",
       "    </tr>\n",
       "    <tr>\n",
       "      <th>2510</th>\n",
       "      <td>20</td>\n",
       "      <td>59</td>\n",
       "      <td>высшее</td>\n",
       "      <td>0</td>\n",
       "      <td>вдовец / вдова</td>\n",
       "      <td>2</td>\n",
       "      <td>F</td>\n",
       "      <td>сотрудник</td>\n",
       "      <td>0</td>\n",
       "      <td>264474.835577</td>\n",
       "      <td>операции с коммерческой недвижимостью</td>\n",
       "    </tr>\n",
       "    <tr>\n",
       "      <th>2941</th>\n",
       "      <td>20</td>\n",
       "      <td>0</td>\n",
       "      <td>среднее</td>\n",
       "      <td>1</td>\n",
       "      <td>женат / замужем</td>\n",
       "      <td>0</td>\n",
       "      <td>F</td>\n",
       "      <td>сотрудник</td>\n",
       "      <td>0</td>\n",
       "      <td>199739.941398</td>\n",
       "      <td>на покупку автомобиля</td>\n",
       "    </tr>\n",
       "    <tr>\n",
       "      <th>3302</th>\n",
       "      <td>20</td>\n",
       "      <td>35</td>\n",
       "      <td>среднее</td>\n",
       "      <td>1</td>\n",
       "      <td>Не женат / не замужем</td>\n",
       "      <td>4</td>\n",
       "      <td>F</td>\n",
       "      <td>госслужащий</td>\n",
       "      <td>0</td>\n",
       "      <td>150447.935283</td>\n",
       "      <td>профильное образование</td>\n",
       "    </tr>\n",
       "    <tr>\n",
       "      <th>3396</th>\n",
       "      <td>20</td>\n",
       "      <td>56</td>\n",
       "      <td>высшее</td>\n",
       "      <td>0</td>\n",
       "      <td>женат / замужем</td>\n",
       "      <td>0</td>\n",
       "      <td>F</td>\n",
       "      <td>компаньон</td>\n",
       "      <td>0</td>\n",
       "      <td>172357.950966</td>\n",
       "      <td>высшее образование</td>\n",
       "    </tr>\n",
       "    <tr>\n",
       "      <th>3671</th>\n",
       "      <td>20</td>\n",
       "      <td>23</td>\n",
       "      <td>среднее</td>\n",
       "      <td>1</td>\n",
       "      <td>Не женат / не замужем</td>\n",
       "      <td>4</td>\n",
       "      <td>F</td>\n",
       "      <td>сотрудник</td>\n",
       "      <td>0</td>\n",
       "      <td>101255.492076</td>\n",
       "      <td>на покупку подержанного автомобиля</td>\n",
       "    </tr>\n",
       "    <tr>\n",
       "      <th>3697</th>\n",
       "      <td>20</td>\n",
       "      <td>40</td>\n",
       "      <td>среднее</td>\n",
       "      <td>1</td>\n",
       "      <td>гражданский брак</td>\n",
       "      <td>1</td>\n",
       "      <td>M</td>\n",
       "      <td>сотрудник</td>\n",
       "      <td>0</td>\n",
       "      <td>115380.694664</td>\n",
       "      <td>на покупку подержанного автомобиля</td>\n",
       "    </tr>\n",
       "    <tr>\n",
       "      <th>3735</th>\n",
       "      <td>20</td>\n",
       "      <td>26</td>\n",
       "      <td>высшее</td>\n",
       "      <td>0</td>\n",
       "      <td>Не женат / не замужем</td>\n",
       "      <td>4</td>\n",
       "      <td>M</td>\n",
       "      <td>сотрудник</td>\n",
       "      <td>0</td>\n",
       "      <td>137200.646181</td>\n",
       "      <td>ремонт жилью</td>\n",
       "    </tr>\n",
       "  </tbody>\n",
       "</table>\n",
       "</div>"
      ],
      "text/plain": [
       "      children  dob_years education  education_id          family_status  \\\n",
       "606         20         21   среднее             1        женат / замужем   \n",
       "720         20         44   среднее             1        женат / замужем   \n",
       "1074        20         56   среднее             1        женат / замужем   \n",
       "2510        20         59    высшее             0         вдовец / вдова   \n",
       "2941        20          0   среднее             1        женат / замужем   \n",
       "3302        20         35   среднее             1  Не женат / не замужем   \n",
       "3396        20         56    высшее             0        женат / замужем   \n",
       "3671        20         23   среднее             1  Не женат / не замужем   \n",
       "3697        20         40   среднее             1       гражданский брак   \n",
       "3735        20         26    высшее             0  Не женат / не замужем   \n",
       "\n",
       "      family_status_id gender  income_type  debt   total_income  \\\n",
       "606                  0      M    компаньон     0  145334.865002   \n",
       "720                  0      F    компаньон     0  112998.738649   \n",
       "1074                 0      F    сотрудник     1  229518.537004   \n",
       "2510                 2      F    сотрудник     0  264474.835577   \n",
       "2941                 0      F    сотрудник     0  199739.941398   \n",
       "3302                 4      F  госслужащий     0  150447.935283   \n",
       "3396                 0      F    компаньон     0  172357.950966   \n",
       "3671                 4      F    сотрудник     0  101255.492076   \n",
       "3697                 1      M    сотрудник     0  115380.694664   \n",
       "3735                 4      M    сотрудник     0  137200.646181   \n",
       "\n",
       "                                    purpose  \n",
       "606                           покупка жилья  \n",
       "720                    покупка недвижимости  \n",
       "1074                  получение образования  \n",
       "2510  операции с коммерческой недвижимостью  \n",
       "2941                  на покупку автомобиля  \n",
       "3302                 профильное образование  \n",
       "3396                     высшее образование  \n",
       "3671     на покупку подержанного автомобиля  \n",
       "3697     на покупку подержанного автомобиля  \n",
       "3735                           ремонт жилью  "
      ]
     },
     "metadata": {},
     "output_type": "display_data"
    }
   ],
   "source": [
    "display(data[data['children']==-1].head(10))\n",
    "display(data[data['children']==20].head(10))"
   ]
  },
  {
   "cell_type": "markdown",
   "id": "d510ec68",
   "metadata": {},
   "source": [
    "Закономерности выявлено не было, поэтому удаляем эти строки"
   ]
  },
  {
   "cell_type": "code",
   "execution_count": 204,
   "id": "98ba374e",
   "metadata": {
    "scrolled": true
   },
   "outputs": [
    {
     "name": "stdout",
     "output_type": "stream",
     "text": [
      "Int64Index([  291,   705,   742,   800,   941,  1363,  1929,  2073,  3814,\n",
      "             4201,  4402,  4542,  5272,  6013,  6385,  7190,  7278,  7615,\n",
      "             7685,  8229,  8251,  8561,  9565,  9574, 10177, 10365, 10918,\n",
      "            11109, 11268, 11617, 12304, 13786, 14357, 15147, 15435, 16129,\n",
      "            16265, 17095, 17429, 17657, 18219, 19100, 19366, 19417, 20393,\n",
      "            20717, 21140],\n",
      "           dtype='int64')\n",
      "Int64Index([  606,   720,  1074,  2510,  2941,  3302,  3396,  3671,  3697,\n",
      "             3735,  3877,  5020,  5315,  5349,  5362,  6198,  6428,  7027,\n",
      "             7078,  7516,  7789,  7962,  8430,  8883,  8909,  8950,  9889,\n",
      "            10194, 10377, 10736, 10782, 11449, 11489, 11715, 11937, 12212,\n",
      "            12226, 12319, 12390, 12534, 12909, 12910, 13256, 13291, 13471,\n",
      "            13489, 13618, 14355, 14474, 14782, 15313, 15674, 15762, 15812,\n",
      "            15976, 16371, 16795, 16886, 17093, 17134, 17286, 17509, 18476,\n",
      "            18493, 18756, 18890, 19271, 19562, 19774, 20038, 20355, 21008,\n",
      "            21325, 21390, 21404, 21491],\n",
      "           dtype='int64')\n",
      "<class 'pandas.core.frame.DataFrame'>\n",
      "RangeIndex: 21525 entries, 0 to 21524\n",
      "Data columns (total 11 columns):\n",
      " #   Column            Non-Null Count  Dtype  \n",
      "---  ------            --------------  -----  \n",
      " 0   children          21525 non-null  int64  \n",
      " 1   dob_years         21525 non-null  int64  \n",
      " 2   education         21525 non-null  object \n",
      " 3   education_id      21525 non-null  int64  \n",
      " 4   family_status     21525 non-null  object \n",
      " 5   family_status_id  21525 non-null  int64  \n",
      " 6   gender            21525 non-null  object \n",
      " 7   income_type       21525 non-null  object \n",
      " 8   debt              21525 non-null  int64  \n",
      " 9   total_income      21525 non-null  float64\n",
      " 10  purpose           21525 non-null  object \n",
      "dtypes: float64(1), int64(5), object(5)\n",
      "memory usage: 1.8+ MB\n",
      "None\n"
     ]
    }
   ],
   "source": [
    "str1 = data[data['children']==-1].index\n",
    "print(str1)\n",
    "str20 = data[data['children']==20].index\n",
    "print(str20)\n",
    "print(data.info())\n"
   ]
  },
  {
   "cell_type": "code",
   "execution_count": 205,
   "id": "e391775b",
   "metadata": {},
   "outputs": [
    {
     "name": "stdout",
     "output_type": "stream",
     "text": [
      "Число удалённых строк с -1: 47\n",
      "Число удалённых строк с \"20\" = 76\n",
      "Empty DataFrame\n",
      "Columns: [children, dob_years, education, education_id, family_status, family_status_id, gender, income_type, debt, total_income, purpose]\n",
      "Index: []\n",
      "Empty DataFrame\n",
      "Columns: [children, dob_years, education, education_id, family_status, family_status_id, gender, income_type, debt, total_income, purpose]\n",
      "Index: []\n",
      "<class 'pandas.core.frame.DataFrame'>\n",
      "RangeIndex: 21402 entries, 0 to 21401\n",
      "Data columns (total 11 columns):\n",
      " #   Column            Non-Null Count  Dtype  \n",
      "---  ------            --------------  -----  \n",
      " 0   children          21402 non-null  int64  \n",
      " 1   dob_years         21402 non-null  int64  \n",
      " 2   education         21402 non-null  object \n",
      " 3   education_id      21402 non-null  int64  \n",
      " 4   family_status     21402 non-null  object \n",
      " 5   family_status_id  21402 non-null  int64  \n",
      " 6   gender            21402 non-null  object \n",
      " 7   income_type       21402 non-null  object \n",
      " 8   debt              21402 non-null  int64  \n",
      " 9   total_income      21402 non-null  float64\n",
      " 10  purpose           21402 non-null  object \n",
      "dtypes: float64(1), int64(5), object(5)\n",
      "memory usage: 1.8+ MB\n",
      "None\n"
     ]
    }
   ],
   "source": [
    "str_delete_count=0 #используем конструкцию try, except для проверки удаления ненужных нам строк\n",
    "try:\n",
    "    for drop_str in str1:\n",
    "        data = data.drop(drop_str)\n",
    "        str_delete_count+=1\n",
    "except:\n",
    "    print('Строки не удалились')\n",
    "print('Число удалённых строк с -1:', str_delete_count)\n",
    "\n",
    "str_del_count=0\n",
    "try:\n",
    "    for drop_str in str20:\n",
    "        data = data.drop(drop_str)\n",
    "        str_del_count+=1\n",
    "except:\n",
    "    print('Неполучилось удалить строку')    \n",
    "print('Число удалённых строк с \"20\" =', str_del_count)\n",
    "\n",
    "print(data[data['children']==20].head())\n",
    "print(data[data['children']==-1].head())\n",
    "  \n",
    "data = data.reset_index(drop=True)\n",
    "print(data.info())\n",
    "\n"
   ]
  },
  {
   "cell_type": "code",
   "execution_count": 206,
   "id": "87f4b80c",
   "metadata": {},
   "outputs": [],
   "source": [
    "#Число строк благодаря удалением необходимых строк осталось 21402 , т. к 21525 - 47 - 76 = 21402"
   ]
  },
  {
   "cell_type": "markdown",
   "id": "cfd59aba",
   "metadata": {},
   "source": [
    "<font size=4> **Столбец dob_years**</font>"
   ]
  },
  {
   "cell_type": "code",
   "execution_count": 207,
   "id": "761a8e2c",
   "metadata": {
    "scrolled": true
   },
   "outputs": [
    {
     "name": "stdout",
     "output_type": "stream",
     "text": [
      "0     100\n",
      "19     14\n",
      "20     51\n",
      "21    110\n",
      "22    183\n",
      "23    252\n",
      "24    263\n",
      "25    356\n",
      "26    406\n",
      "27    490\n",
      "28    501\n",
      "29    543\n",
      "30    536\n",
      "31    556\n",
      "32    506\n",
      "33    577\n",
      "34    597\n",
      "35    614\n",
      "36    553\n",
      "37    531\n",
      "38    595\n",
      "39    572\n",
      "40    603\n",
      "41    603\n",
      "42    592\n",
      "43    510\n",
      "44    543\n",
      "45    494\n",
      "46    469\n",
      "47    480\n",
      "48    536\n",
      "49    505\n",
      "50    509\n",
      "51    446\n",
      "52    483\n",
      "53    457\n",
      "54    476\n",
      "55    441\n",
      "56    482\n",
      "57    457\n",
      "58    461\n",
      "59    441\n",
      "60    376\n",
      "61    353\n",
      "62    351\n",
      "63    268\n",
      "64    263\n",
      "65    194\n",
      "66    183\n",
      "67    167\n",
      "68     99\n",
      "69     83\n",
      "70     65\n",
      "71     58\n",
      "72     33\n",
      "73      8\n",
      "74      6\n",
      "75      1\n",
      "Name: dob_years, dtype: int64\n"
     ]
    }
   ],
   "source": [
    "print(data['dob_years'].value_counts().sort_index())"
   ]
  },
  {
   "cell_type": "markdown",
   "id": "4d439d28",
   "metadata": {},
   "source": [
    "Поскольку, после выполнение предыдущей операции оставшееся число 100 в строке 1 является некорректным, удалим его, поскольку такая ошибка в выборке не превышает 0,5%"
   ]
  },
  {
   "cell_type": "code",
   "execution_count": 208,
   "id": "0cfec095",
   "metadata": {
    "scrolled": true
   },
   "outputs": [
    {
     "data": {
      "text/html": [
       "<div>\n",
       "<style scoped>\n",
       "    .dataframe tbody tr th:only-of-type {\n",
       "        vertical-align: middle;\n",
       "    }\n",
       "\n",
       "    .dataframe tbody tr th {\n",
       "        vertical-align: top;\n",
       "    }\n",
       "\n",
       "    .dataframe thead th {\n",
       "        text-align: right;\n",
       "    }\n",
       "</style>\n",
       "<table border=\"1\" class=\"dataframe\">\n",
       "  <thead>\n",
       "    <tr style=\"text-align: right;\">\n",
       "      <th></th>\n",
       "      <th>children</th>\n",
       "      <th>dob_years</th>\n",
       "      <th>education</th>\n",
       "      <th>education_id</th>\n",
       "      <th>family_status</th>\n",
       "      <th>family_status_id</th>\n",
       "      <th>gender</th>\n",
       "      <th>income_type</th>\n",
       "      <th>debt</th>\n",
       "      <th>total_income</th>\n",
       "      <th>purpose</th>\n",
       "    </tr>\n",
       "  </thead>\n",
       "  <tbody>\n",
       "    <tr>\n",
       "      <th>99</th>\n",
       "      <td>0</td>\n",
       "      <td>0</td>\n",
       "      <td>Среднее</td>\n",
       "      <td>1</td>\n",
       "      <td>женат / замужем</td>\n",
       "      <td>0</td>\n",
       "      <td>F</td>\n",
       "      <td>пенсионер</td>\n",
       "      <td>0</td>\n",
       "      <td>71291.522491</td>\n",
       "      <td>автомобиль</td>\n",
       "    </tr>\n",
       "    <tr>\n",
       "      <th>149</th>\n",
       "      <td>0</td>\n",
       "      <td>0</td>\n",
       "      <td>среднее</td>\n",
       "      <td>1</td>\n",
       "      <td>в разводе</td>\n",
       "      <td>3</td>\n",
       "      <td>F</td>\n",
       "      <td>сотрудник</td>\n",
       "      <td>0</td>\n",
       "      <td>70176.435951</td>\n",
       "      <td>операции с жильем</td>\n",
       "    </tr>\n",
       "    <tr>\n",
       "      <th>270</th>\n",
       "      <td>3</td>\n",
       "      <td>0</td>\n",
       "      <td>среднее</td>\n",
       "      <td>1</td>\n",
       "      <td>женат / замужем</td>\n",
       "      <td>0</td>\n",
       "      <td>F</td>\n",
       "      <td>сотрудник</td>\n",
       "      <td>0</td>\n",
       "      <td>102166.458894</td>\n",
       "      <td>ремонт жилью</td>\n",
       "    </tr>\n",
       "    <tr>\n",
       "      <th>577</th>\n",
       "      <td>0</td>\n",
       "      <td>0</td>\n",
       "      <td>среднее</td>\n",
       "      <td>1</td>\n",
       "      <td>женат / замужем</td>\n",
       "      <td>0</td>\n",
       "      <td>F</td>\n",
       "      <td>пенсионер</td>\n",
       "      <td>0</td>\n",
       "      <td>97620.687042</td>\n",
       "      <td>строительство собственной недвижимости</td>\n",
       "    </tr>\n",
       "    <tr>\n",
       "      <th>1033</th>\n",
       "      <td>0</td>\n",
       "      <td>0</td>\n",
       "      <td>высшее</td>\n",
       "      <td>0</td>\n",
       "      <td>в разводе</td>\n",
       "      <td>3</td>\n",
       "      <td>F</td>\n",
       "      <td>компаньон</td>\n",
       "      <td>0</td>\n",
       "      <td>303994.134987</td>\n",
       "      <td>свой автомобиль</td>\n",
       "    </tr>\n",
       "    <tr>\n",
       "      <th>1141</th>\n",
       "      <td>0</td>\n",
       "      <td>0</td>\n",
       "      <td>среднее</td>\n",
       "      <td>1</td>\n",
       "      <td>женат / замужем</td>\n",
       "      <td>0</td>\n",
       "      <td>F</td>\n",
       "      <td>компаньон</td>\n",
       "      <td>0</td>\n",
       "      <td>201852.430096</td>\n",
       "      <td>покупка недвижимости</td>\n",
       "    </tr>\n",
       "    <tr>\n",
       "      <th>1167</th>\n",
       "      <td>0</td>\n",
       "      <td>0</td>\n",
       "      <td>среднее</td>\n",
       "      <td>1</td>\n",
       "      <td>женат / замужем</td>\n",
       "      <td>0</td>\n",
       "      <td>F</td>\n",
       "      <td>пенсионер</td>\n",
       "      <td>0</td>\n",
       "      <td>313949.845188</td>\n",
       "      <td>получение дополнительного образования</td>\n",
       "    </tr>\n",
       "    <tr>\n",
       "      <th>1377</th>\n",
       "      <td>0</td>\n",
       "      <td>0</td>\n",
       "      <td>высшее</td>\n",
       "      <td>0</td>\n",
       "      <td>женат / замужем</td>\n",
       "      <td>0</td>\n",
       "      <td>M</td>\n",
       "      <td>госслужащий</td>\n",
       "      <td>0</td>\n",
       "      <td>240523.618071</td>\n",
       "      <td>сделка с автомобилем</td>\n",
       "    </tr>\n",
       "    <tr>\n",
       "      <th>1881</th>\n",
       "      <td>0</td>\n",
       "      <td>0</td>\n",
       "      <td>высшее</td>\n",
       "      <td>0</td>\n",
       "      <td>Не женат / не замужем</td>\n",
       "      <td>4</td>\n",
       "      <td>F</td>\n",
       "      <td>сотрудник</td>\n",
       "      <td>0</td>\n",
       "      <td>142594.396847</td>\n",
       "      <td>жилье</td>\n",
       "    </tr>\n",
       "    <tr>\n",
       "      <th>1889</th>\n",
       "      <td>0</td>\n",
       "      <td>0</td>\n",
       "      <td>среднее</td>\n",
       "      <td>1</td>\n",
       "      <td>вдовец / вдова</td>\n",
       "      <td>2</td>\n",
       "      <td>F</td>\n",
       "      <td>пенсионер</td>\n",
       "      <td>0</td>\n",
       "      <td>127400.268338</td>\n",
       "      <td>на покупку автомобиля</td>\n",
       "    </tr>\n",
       "  </tbody>\n",
       "</table>\n",
       "</div>"
      ],
      "text/plain": [
       "      children  dob_years education  education_id          family_status  \\\n",
       "99           0          0   Среднее             1        женат / замужем   \n",
       "149          0          0   среднее             1              в разводе   \n",
       "270          3          0   среднее             1        женат / замужем   \n",
       "577          0          0   среднее             1        женат / замужем   \n",
       "1033         0          0    высшее             0              в разводе   \n",
       "1141         0          0   среднее             1        женат / замужем   \n",
       "1167         0          0   среднее             1        женат / замужем   \n",
       "1377         0          0    высшее             0        женат / замужем   \n",
       "1881         0          0    высшее             0  Не женат / не замужем   \n",
       "1889         0          0   среднее             1         вдовец / вдова   \n",
       "\n",
       "      family_status_id gender  income_type  debt   total_income  \\\n",
       "99                   0      F    пенсионер     0   71291.522491   \n",
       "149                  3      F    сотрудник     0   70176.435951   \n",
       "270                  0      F    сотрудник     0  102166.458894   \n",
       "577                  0      F    пенсионер     0   97620.687042   \n",
       "1033                 3      F    компаньон     0  303994.134987   \n",
       "1141                 0      F    компаньон     0  201852.430096   \n",
       "1167                 0      F    пенсионер     0  313949.845188   \n",
       "1377                 0      M  госслужащий     0  240523.618071   \n",
       "1881                 4      F    сотрудник     0  142594.396847   \n",
       "1889                 2      F    пенсионер     0  127400.268338   \n",
       "\n",
       "                                     purpose  \n",
       "99                                автомобиль  \n",
       "149                        операции с жильем  \n",
       "270                             ремонт жилью  \n",
       "577   строительство собственной недвижимости  \n",
       "1033                         свой автомобиль  \n",
       "1141                    покупка недвижимости  \n",
       "1167   получение дополнительного образования  \n",
       "1377                    сделка с автомобилем  \n",
       "1881                                   жилье  \n",
       "1889                   на покупку автомобиля  "
      ]
     },
     "metadata": {},
     "output_type": "display_data"
    }
   ],
   "source": [
    "display(data[data['dob_years']==0].head(10)) #выведем первые 10 значений на экран"
   ]
  },
  {
   "cell_type": "markdown",
   "id": "9cd8e8f9",
   "metadata": {},
   "source": [
    "Закономерности выявлено не было, поэтому удаляем эти строки"
   ]
  },
  {
   "cell_type": "code",
   "execution_count": 209,
   "id": "e9ced29c",
   "metadata": {
    "scrolled": true
   },
   "outputs": [
    {
     "name": "stdout",
     "output_type": "stream",
     "text": [
      "Int64Index([   99,   149,   270,   577,  1033,  1141,  1167,  1377,  1881,\n",
      "             1889,  2071,  2273,  2458,  2476,  2858,  3031,  3134,  3687,\n",
      "             4044,  4127,  4899,  4907,  4991,  6042,  6376,  6380,  6638,\n",
      "             6746,  6799,  6816,  6827,  7001,  7040,  7042,  7217,  7308,\n",
      "             8020,  8373,  8529,  8627,  8739,  9014,  9103,  9538, 10112,\n",
      "            10136, 10253, 10311, 10329, 10490, 10540, 11019, 11229, 11407,\n",
      "            11420, 11514, 11601, 11925, 11997, 12159, 12230, 12333, 12658,\n",
      "            13044, 13114, 13159, 13338, 13348, 13364, 13444, 13663, 13889,\n",
      "            14395, 14432, 14526, 14577, 15057, 15211, 15324, 15348, 15797,\n",
      "            15802, 15952, 16767, 16827, 17117, 17207, 17512, 18074, 18312,\n",
      "            18434, 18627, 18745, 19008, 19261, 19716, 20346, 20461, 21060,\n",
      "            21194],\n",
      "           dtype='int64')\n"
     ]
    }
   ],
   "source": [
    "str0 = data[data['dob_years']==0].index\n",
    "print(str0)"
   ]
  },
  {
   "cell_type": "code",
   "execution_count": 210,
   "id": "8244fbe1",
   "metadata": {
    "scrolled": true
   },
   "outputs": [
    {
     "name": "stdout",
     "output_type": "stream",
     "text": [
      "Число удалённых строк с \"0\" = 100\n",
      "\n",
      "Empty DataFrame\n",
      "Columns: [children, dob_years, education, education_id, family_status, family_status_id, gender, income_type, debt, total_income, purpose]\n",
      "Index: []\n",
      "<class 'pandas.core.frame.DataFrame'>\n",
      "RangeIndex: 21302 entries, 0 to 21301\n",
      "Data columns (total 11 columns):\n",
      " #   Column            Non-Null Count  Dtype  \n",
      "---  ------            --------------  -----  \n",
      " 0   children          21302 non-null  int64  \n",
      " 1   dob_years         21302 non-null  int64  \n",
      " 2   education         21302 non-null  object \n",
      " 3   education_id      21302 non-null  int64  \n",
      " 4   family_status     21302 non-null  object \n",
      " 5   family_status_id  21302 non-null  int64  \n",
      " 6   gender            21302 non-null  object \n",
      " 7   income_type       21302 non-null  object \n",
      " 8   debt              21302 non-null  int64  \n",
      " 9   total_income      21302 non-null  float64\n",
      " 10  purpose           21302 non-null  object \n",
      "dtypes: float64(1), int64(5), object(5)\n",
      "memory usage: 1.8+ MB\n",
      "None\n"
     ]
    }
   ],
   "source": [
    "str_delete_count=0\n",
    "for i in str0:\n",
    "    data = data.drop(i)\n",
    "    str_delete_count+=1\n",
    "print('Число удалённых строк с \"0\" =', str_delete_count)\n",
    "print()\n",
    "print(data[data['dob_years']==0].head())\n",
    "data = data.reset_index(drop=True)\n",
    "print(data.info())"
   ]
  },
  {
   "cell_type": "code",
   "execution_count": 211,
   "id": "132fe621",
   "metadata": {},
   "outputs": [],
   "source": [
    "#Всего осталось 21302 после удаления 100 строк"
   ]
  },
  {
   "cell_type": "code",
   "execution_count": 212,
   "id": "52d7633a",
   "metadata": {},
   "outputs": [
    {
     "name": "stdout",
     "output_type": "stream",
     "text": [
      "<class 'pandas.core.frame.DataFrame'>\n",
      "RangeIndex: 21302 entries, 0 to 21301\n",
      "Data columns (total 11 columns):\n",
      " #   Column            Non-Null Count  Dtype  \n",
      "---  ------            --------------  -----  \n",
      " 0   children          21302 non-null  int64  \n",
      " 1   dob_years         21302 non-null  int64  \n",
      " 2   education         21302 non-null  object \n",
      " 3   education_id      21302 non-null  int64  \n",
      " 4   family_status     21302 non-null  object \n",
      " 5   family_status_id  21302 non-null  int64  \n",
      " 6   gender            21302 non-null  object \n",
      " 7   income_type       21302 non-null  object \n",
      " 8   debt              21302 non-null  int64  \n",
      " 9   total_income      21302 non-null  float64\n",
      " 10  purpose           21302 non-null  object \n",
      "dtypes: float64(1), int64(5), object(5)\n",
      "memory usage: 1.8+ MB\n"
     ]
    }
   ],
   "source": [
    "data.info()"
   ]
  },
  {
   "cell_type": "markdown",
   "id": "c72e1514",
   "metadata": {},
   "source": [
    "<font size = 4> **Вывод**</font>"
   ]
  },
  {
   "cell_type": "code",
   "execution_count": 213,
   "id": "f61e0c0b",
   "metadata": {},
   "outputs": [],
   "source": [
    "#После проведения операций по удалению строк, у нас осталось 21302 строки из изначальных 21525, что вполне допустимо для дальнейшего исследования. Также мы удалили столбец days_employed, поскольку он нам не нужен был для исследования"
   ]
  },
  {
   "cell_type": "markdown",
   "id": "9c50212b",
   "metadata": {},
   "source": [
    "### Шаг 2.3. Изменение типов данных."
   ]
  },
  {
   "cell_type": "code",
   "execution_count": 214,
   "id": "8a7a1c38",
   "metadata": {},
   "outputs": [],
   "source": [
    "#Произведём замену в двух столбцах, а именно, в столбце debt на bool и total_income на int"
   ]
  },
  {
   "cell_type": "code",
   "execution_count": 215,
   "id": "bbd362f7",
   "metadata": {},
   "outputs": [
    {
     "name": "stdout",
     "output_type": "stream",
     "text": [
      "dept до изменения:  14    1\n",
      "32    1\n",
      "38    1\n",
      "55    1\n",
      "75    1\n",
      "Name: debt, dtype: int64\n",
      "dept после изменения:  14    True\n",
      "32    True\n",
      "38    True\n",
      "55    True\n",
      "75    True\n",
      "Name: debt, dtype: bool\n"
     ]
    }
   ],
   "source": [
    "print('dept до изменения: ', data[data['debt']!=0]['debt'].head())\n",
    "data['debt'] = data['debt'].astype(bool)\n",
    "print('dept после изменения: ', data[data['debt']==1]['debt'].head())"
   ]
  },
  {
   "cell_type": "code",
   "execution_count": 216,
   "id": "8eec603e",
   "metadata": {
    "scrolled": false
   },
   "outputs": [
    {
     "name": "stdout",
     "output_type": "stream",
     "text": [
      "total_income до изменения:  0    253875.639453\n",
      "1    112080.014102\n",
      "2    145885.952297\n",
      "3    267628.550329\n",
      "4    158616.077870\n",
      "Name: total_income, dtype: float64\n",
      "total_income после изменения  0    253875\n",
      "1    112080\n",
      "2    145885\n",
      "3    267628\n",
      "4    158616\n",
      "Name: total_income, dtype: int32\n"
     ]
    }
   ],
   "source": [
    "print('total_income до изменения: ', data['total_income'].head())\n",
    "data['total_income'] = data['total_income'].astype(int)\n",
    "print('total_income после изменения ', data['total_income'].head())\n"
   ]
  },
  {
   "cell_type": "code",
   "execution_count": 217,
   "id": "a65f4316",
   "metadata": {
    "scrolled": true
   },
   "outputs": [
    {
     "name": "stdout",
     "output_type": "stream",
     "text": [
      "<class 'pandas.core.frame.DataFrame'>\n",
      "RangeIndex: 21302 entries, 0 to 21301\n",
      "Data columns (total 11 columns):\n",
      " #   Column            Non-Null Count  Dtype \n",
      "---  ------            --------------  ----- \n",
      " 0   children          21302 non-null  int64 \n",
      " 1   dob_years         21302 non-null  int64 \n",
      " 2   education         21302 non-null  object\n",
      " 3   education_id      21302 non-null  int64 \n",
      " 4   family_status     21302 non-null  object\n",
      " 5   family_status_id  21302 non-null  int64 \n",
      " 6   gender            21302 non-null  object\n",
      " 7   income_type       21302 non-null  object\n",
      " 8   debt              21302 non-null  bool  \n",
      " 9   total_income      21302 non-null  int32 \n",
      " 10  purpose           21302 non-null  object\n",
      "dtypes: bool(1), int32(1), int64(4), object(5)\n",
      "memory usage: 1.6+ MB\n"
     ]
    }
   ],
   "source": [
    "data.info()"
   ]
  },
  {
   "cell_type": "markdown",
   "id": "42b74913",
   "metadata": {},
   "source": [
    "<font size = 4> **Вывод** </font>\n",
    "\n",
    "Были заменены типы данных в столбцах dept и total_income для лучшего понимания информации во время чтения."
   ]
  },
  {
   "cell_type": "markdown",
   "id": "babb824c",
   "metadata": {},
   "source": [
    "### Шаг 2.4. Удаление дубликатов."
   ]
  },
  {
   "cell_type": "markdown",
   "id": "34b21972",
   "metadata": {},
   "source": [
    "<font size = 4> **Столбец education**</font>"
   ]
  },
  {
   "cell_type": "code",
   "execution_count": 218,
   "id": "7294e510",
   "metadata": {},
   "outputs": [
    {
     "name": "stdout",
     "output_type": "stream",
     "text": [
      "среднее                13609\n",
      "высшее                  4666\n",
      "СРЕДНЕЕ                  764\n",
      "Среднее                  700\n",
      "неоконченное высшее      663\n",
      "ВЫСШЕЕ                   270\n",
      "Высшее                   266\n",
      "начальное                250\n",
      "Неоконченное высшее       47\n",
      "НЕОКОНЧЕННОЕ ВЫСШЕЕ       29\n",
      "НАЧАЛЬНОЕ                 17\n",
      "Начальное                 15\n",
      "ученая степень             4\n",
      "Ученая степень             1\n",
      "УЧЕНАЯ СТЕПЕНЬ             1\n",
      "Name: education, dtype: int64\n",
      "\n",
      "1    15073\n",
      "0     5202\n",
      "2      739\n",
      "3      282\n",
      "4        6\n",
      "Name: education_id, dtype: int64\n"
     ]
    }
   ],
   "source": [
    "print(data['education'].value_counts())\n",
    "print()\n",
    "print(data['education_id'].value_counts())"
   ]
  },
  {
   "cell_type": "code",
   "execution_count": 219,
   "id": "e616afda",
   "metadata": {},
   "outputs": [],
   "source": [
    "#Исходя из вышеприведённых данных, мы видим дубликаты в тройном экземпляре. Скорее всего, было неудачное слияние трех баз. Стоят разные регистры. В данном случае нам необходимо привести всё к одному регистру - книжнему, а затем проверить, совпадает ли число категорий education с категориями education_id"
   ]
  },
  {
   "cell_type": "code",
   "execution_count": 220,
   "id": "5d12a1a3",
   "metadata": {
    "scrolled": true
   },
   "outputs": [
    {
     "name": "stdout",
     "output_type": "stream",
     "text": [
      "среднее                15073\n",
      "высшее                  5202\n",
      "неоконченное высшее      739\n",
      "начальное                282\n",
      "ученая степень             6\n",
      "Name: education, dtype: int64\n",
      "\n",
      "1    15073\n",
      "0     5202\n",
      "2      739\n",
      "3      282\n",
      "4        6\n",
      "Name: education_id, dtype: int64\n"
     ]
    }
   ],
   "source": [
    "data['education'] = data['education'].str.lower()\n",
    "print(data['education'].value_counts())\n",
    "print()\n",
    "print(data['education_id'].value_counts())"
   ]
  },
  {
   "cell_type": "code",
   "execution_count": 221,
   "id": "3124b20c",
   "metadata": {},
   "outputs": [],
   "source": [
    "#Числовые данные в категориях education и education_id совпали"
   ]
  },
  {
   "cell_type": "markdown",
   "id": "cf6639df",
   "metadata": {},
   "source": [
    "### Шаг 2.5. Категоризация дохода."
   ]
  },
  {
   "cell_type": "markdown",
   "id": "2f511587",
   "metadata": {},
   "source": [
    "Для выполнении категоризации дохода, необходимо воспользоваться столбцом total_income. Создадим новый столбец total_income_category с категориями:\n",
    "0–30000 — 'E';\n",
    "30001–50000 — 'D';\n",
    "50001–200000 — 'C';\n",
    "200001–1000000 — 'B';\n",
    "1000001 и выше — 'A'.\n"
   ]
  },
  {
   "cell_type": "code",
   "execution_count": 222,
   "id": "38e00262",
   "metadata": {
    "scrolled": true
   },
   "outputs": [
    {
     "name": "stdout",
     "output_type": "stream",
     "text": [
      "C    15920\n",
      "B     4988\n",
      "D      347\n",
      "A       25\n",
      "E       22\n",
      "Name: total_income_category, dtype: int64\n"
     ]
    },
    {
     "data": {
      "text/html": [
       "<div>\n",
       "<style scoped>\n",
       "    .dataframe tbody tr th:only-of-type {\n",
       "        vertical-align: middle;\n",
       "    }\n",
       "\n",
       "    .dataframe tbody tr th {\n",
       "        vertical-align: top;\n",
       "    }\n",
       "\n",
       "    .dataframe thead th {\n",
       "        text-align: right;\n",
       "    }\n",
       "</style>\n",
       "<table border=\"1\" class=\"dataframe\">\n",
       "  <thead>\n",
       "    <tr style=\"text-align: right;\">\n",
       "      <th></th>\n",
       "      <th>children</th>\n",
       "      <th>dob_years</th>\n",
       "      <th>education</th>\n",
       "      <th>education_id</th>\n",
       "      <th>family_status</th>\n",
       "      <th>family_status_id</th>\n",
       "      <th>gender</th>\n",
       "      <th>income_type</th>\n",
       "      <th>debt</th>\n",
       "      <th>total_income</th>\n",
       "      <th>purpose</th>\n",
       "      <th>total_income_category</th>\n",
       "    </tr>\n",
       "  </thead>\n",
       "  <tbody>\n",
       "    <tr>\n",
       "      <th>0</th>\n",
       "      <td>1</td>\n",
       "      <td>42</td>\n",
       "      <td>высшее</td>\n",
       "      <td>0</td>\n",
       "      <td>женат / замужем</td>\n",
       "      <td>0</td>\n",
       "      <td>F</td>\n",
       "      <td>сотрудник</td>\n",
       "      <td>False</td>\n",
       "      <td>253875</td>\n",
       "      <td>покупка жилья</td>\n",
       "      <td>B</td>\n",
       "    </tr>\n",
       "    <tr>\n",
       "      <th>1</th>\n",
       "      <td>1</td>\n",
       "      <td>36</td>\n",
       "      <td>среднее</td>\n",
       "      <td>1</td>\n",
       "      <td>женат / замужем</td>\n",
       "      <td>0</td>\n",
       "      <td>F</td>\n",
       "      <td>сотрудник</td>\n",
       "      <td>False</td>\n",
       "      <td>112080</td>\n",
       "      <td>приобретение автомобиля</td>\n",
       "      <td>C</td>\n",
       "    </tr>\n",
       "    <tr>\n",
       "      <th>2</th>\n",
       "      <td>0</td>\n",
       "      <td>33</td>\n",
       "      <td>среднее</td>\n",
       "      <td>1</td>\n",
       "      <td>женат / замужем</td>\n",
       "      <td>0</td>\n",
       "      <td>M</td>\n",
       "      <td>сотрудник</td>\n",
       "      <td>False</td>\n",
       "      <td>145885</td>\n",
       "      <td>покупка жилья</td>\n",
       "      <td>C</td>\n",
       "    </tr>\n",
       "    <tr>\n",
       "      <th>3</th>\n",
       "      <td>3</td>\n",
       "      <td>32</td>\n",
       "      <td>среднее</td>\n",
       "      <td>1</td>\n",
       "      <td>женат / замужем</td>\n",
       "      <td>0</td>\n",
       "      <td>M</td>\n",
       "      <td>сотрудник</td>\n",
       "      <td>False</td>\n",
       "      <td>267628</td>\n",
       "      <td>дополнительное образование</td>\n",
       "      <td>B</td>\n",
       "    </tr>\n",
       "    <tr>\n",
       "      <th>4</th>\n",
       "      <td>0</td>\n",
       "      <td>53</td>\n",
       "      <td>среднее</td>\n",
       "      <td>1</td>\n",
       "      <td>гражданский брак</td>\n",
       "      <td>1</td>\n",
       "      <td>F</td>\n",
       "      <td>пенсионер</td>\n",
       "      <td>False</td>\n",
       "      <td>158616</td>\n",
       "      <td>сыграть свадьбу</td>\n",
       "      <td>C</td>\n",
       "    </tr>\n",
       "  </tbody>\n",
       "</table>\n",
       "</div>"
      ],
      "text/plain": [
       "   children  dob_years education  education_id     family_status  \\\n",
       "0         1         42    высшее             0   женат / замужем   \n",
       "1         1         36   среднее             1   женат / замужем   \n",
       "2         0         33   среднее             1   женат / замужем   \n",
       "3         3         32   среднее             1   женат / замужем   \n",
       "4         0         53   среднее             1  гражданский брак   \n",
       "\n",
       "   family_status_id gender income_type   debt  total_income  \\\n",
       "0                 0      F   сотрудник  False        253875   \n",
       "1                 0      F   сотрудник  False        112080   \n",
       "2                 0      M   сотрудник  False        145885   \n",
       "3                 0      M   сотрудник  False        267628   \n",
       "4                 1      F   пенсионер  False        158616   \n",
       "\n",
       "                      purpose total_income_category  \n",
       "0               покупка жилья                     B  \n",
       "1     приобретение автомобиля                     C  \n",
       "2               покупка жилья                     C  \n",
       "3  дополнительное образование                     B  \n",
       "4             сыграть свадьбу                     C  "
      ]
     },
     "metadata": {},
     "output_type": "display_data"
    },
    {
     "name": "stdout",
     "output_type": "stream",
     "text": [
      "<class 'pandas.core.frame.DataFrame'>\n",
      "RangeIndex: 21302 entries, 0 to 21301\n",
      "Data columns (total 12 columns):\n",
      " #   Column                 Non-Null Count  Dtype \n",
      "---  ------                 --------------  ----- \n",
      " 0   children               21302 non-null  int64 \n",
      " 1   dob_years              21302 non-null  int64 \n",
      " 2   education              21302 non-null  object\n",
      " 3   education_id           21302 non-null  int64 \n",
      " 4   family_status          21302 non-null  object\n",
      " 5   family_status_id       21302 non-null  int64 \n",
      " 6   gender                 21302 non-null  object\n",
      " 7   income_type            21302 non-null  object\n",
      " 8   debt                   21302 non-null  bool  \n",
      " 9   total_income           21302 non-null  int32 \n",
      " 10  purpose                21302 non-null  object\n",
      " 11  total_income_category  21302 non-null  object\n",
      "dtypes: bool(1), int32(1), int64(4), object(6)\n",
      "memory usage: 1.7+ MB\n",
      "None\n"
     ]
    }
   ],
   "source": [
    "def total_income_category(total_income):\n",
    "    if total_income <= 30000:\n",
    "        return 'E'\n",
    "    if total_income <= 50000:\n",
    "        return 'D'\n",
    "    if total_income <= 200000:\n",
    "        return 'C'\n",
    "    if total_income <= 1000000:\n",
    "        return 'B'\n",
    "    return 'A'\n",
    "data['total_income_category'] = data['total_income'].apply(total_income_category)\n",
    "print(data['total_income_category'].value_counts())\n",
    "display(data.head())\n",
    "print(data.info())\n",
    "\n",
    "#data['total_income_category'] = data['total_income'].apply(total_income_category)\n",
    "#print(data.groupby('total_income_category')['total_income'].sum())\n",
    "\n"
   ]
  },
  {
   "cell_type": "code",
   "execution_count": 223,
   "id": "dbe0dc10",
   "metadata": {},
   "outputs": [],
   "source": [
    "#Был образован столбец с 5 категориями как просили в задаче (A, B, C, D, E)"
   ]
  },
  {
   "cell_type": "markdown",
   "id": "c645b9b3",
   "metadata": {},
   "source": [
    "### Шаг 2.6. Категоризация целей кредита."
   ]
  },
  {
   "cell_type": "markdown",
   "id": "a7f0843c",
   "metadata": {},
   "source": [
    "<font size = 4> **Столбец purpose** </font>"
   ]
  },
  {
   "cell_type": "markdown",
   "id": "feb2dc16",
   "metadata": {},
   "source": [
    "В столбце purpose необходимо привести все цели кредита к единым названиям, а именно к:\n",
    "\n",
    "-'операции с автомобилем',\n",
    "-'операции с недвижимостью',\n",
    "-'проведение свадьбы',\n",
    "-'получение образования'."
   ]
  },
  {
   "cell_type": "markdown",
   "id": "b543ca87",
   "metadata": {},
   "source": [
    "Из вышеприведённых данных мы видем, что существуют почти одинаковые причины взятия кредита. Скорее всего, строки имеют разные регистры по предыдущей причине - было слито 3 разных базы. Создайте функцию, которая на основании данных из столбца purpose сформирует новый столбец purpose_category, в которые войдут категории: -'операции с автомобилем', -'операции с недвижимостью', -'проведение свадьбы', -'получение образования'."
   ]
  },
  {
   "cell_type": "code",
   "execution_count": 255,
   "id": "c5ddd3de",
   "metadata": {},
   "outputs": [
    {
     "data": {
      "text/plain": [
       "свадьба                                   791\n",
       "на проведение свадьбы                     768\n",
       "сыграть свадьбу                           764\n",
       "операции с недвижимостью                  670\n",
       "покупка коммерческой недвижимости         658\n",
       "покупка жилья для сдачи                   649\n",
       "операции с коммерческой недвижимостью     644\n",
       "операции с жильем                         642\n",
       "покупка жилья для семьи                   639\n",
       "жилье                                     636\n",
       "покупка жилья                             635\n",
       "недвижимость                              628\n",
       "операции со своей недвижимостью           626\n",
       "строительство собственной недвижимости    626\n",
       "строительство недвижимости                620\n",
       "строительство жилой недвижимости          619\n",
       "покупка своего жилья                      618\n",
       "покупка недвижимости                      616\n",
       "ремонт жилью                              607\n",
       "покупка жилой недвижимости                600\n",
       "на покупку своего автомобиля              501\n",
       "заняться высшим образованием              493\n",
       "автомобиль                                488\n",
       "сделка с подержанным автомобилем          482\n",
       "автомобили                                474\n",
       "на покупку подержанного автомобиля        472\n",
       "свой автомобиль                           472\n",
       "на покупку автомобиля                     466\n",
       "приобретение автомобиля                   458\n",
       "дополнительное образование                455\n",
       "сделка с автомобилем                      454\n",
       "высшее образование                        444\n",
       "получение дополнительного образования     443\n",
       "получение образования                     440\n",
       "образование                               439\n",
       "профильное образование                    431\n",
       "получение высшего образования             423\n",
       "заняться образованием                     411\n",
       "Name: purpose, dtype: int64"
      ]
     },
     "metadata": {},
     "output_type": "display_data"
    }
   ],
   "source": [
    "display(data['purpose'].value_counts())"
   ]
  },
  {
   "cell_type": "code",
   "execution_count": 224,
   "id": "ee708492",
   "metadata": {},
   "outputs": [
    {
     "name": "stdout",
     "output_type": "stream",
     "text": [
      "0     Операции с недвижимостью\n",
      "1       Операции с автомобилем\n",
      "2     Операции с недвижимостью\n",
      "3        Получение образования\n",
      "4           Проведение свадьбы\n",
      "                ...           \n",
      "95      Операции с автомобилем\n",
      "96    Операции с недвижимостью\n",
      "97       Получение образования\n",
      "98    Операции с недвижимостью\n",
      "99    Операции с недвижимостью\n",
      "Name: purpose_category, Length: 100, dtype: object\n"
     ]
    }
   ],
   "source": [
    "def purpose_category(list):\n",
    "    if 'авто' in list:\n",
    "        return \"Операции с автомобилем\"\n",
    "    if \"образ\" in list:\n",
    "        return \"Получение образования\"\n",
    "    if \"свадьб\" in list:\n",
    "        return \"Проведение свадьбы\"\n",
    "    if \"недви\" in list:\n",
    "        return \"Операции с недвижимостью\"\n",
    "    if \"строит\" in list:\n",
    "        return \"Операции с недвижимостью\"\n",
    "    if \"жил\" in list:\n",
    "        return \"Операции с недвижимостью\"\n",
    "data['purpose_category'] = data['purpose'].apply(purpose_category)\n",
    "print(data['purpose_category'].head(100))"
   ]
  },
  {
   "cell_type": "code",
   "execution_count": 225,
   "id": "eb95df4a",
   "metadata": {},
   "outputs": [
    {
     "name": "stdout",
     "output_type": "stream",
     "text": [
      "Операции с недвижимостью    10733\n",
      "Операции с автомобилем       4267\n",
      "Получение образования        3979\n",
      "Проведение свадьбы           2323\n",
      "Name: purpose_category, dtype: int64\n",
      "\n"
     ]
    },
    {
     "data": {
      "text/html": [
       "<div>\n",
       "<style scoped>\n",
       "    .dataframe tbody tr th:only-of-type {\n",
       "        vertical-align: middle;\n",
       "    }\n",
       "\n",
       "    .dataframe tbody tr th {\n",
       "        vertical-align: top;\n",
       "    }\n",
       "\n",
       "    .dataframe thead th {\n",
       "        text-align: right;\n",
       "    }\n",
       "</style>\n",
       "<table border=\"1\" class=\"dataframe\">\n",
       "  <thead>\n",
       "    <tr style=\"text-align: right;\">\n",
       "      <th></th>\n",
       "      <th>children</th>\n",
       "      <th>dob_years</th>\n",
       "      <th>education</th>\n",
       "      <th>education_id</th>\n",
       "      <th>family_status</th>\n",
       "      <th>family_status_id</th>\n",
       "      <th>gender</th>\n",
       "      <th>income_type</th>\n",
       "      <th>debt</th>\n",
       "      <th>total_income</th>\n",
       "      <th>purpose</th>\n",
       "      <th>total_income_category</th>\n",
       "      <th>purpose_category</th>\n",
       "    </tr>\n",
       "  </thead>\n",
       "  <tbody>\n",
       "    <tr>\n",
       "      <th>0</th>\n",
       "      <td>1</td>\n",
       "      <td>42</td>\n",
       "      <td>высшее</td>\n",
       "      <td>0</td>\n",
       "      <td>женат / замужем</td>\n",
       "      <td>0</td>\n",
       "      <td>F</td>\n",
       "      <td>сотрудник</td>\n",
       "      <td>False</td>\n",
       "      <td>253875</td>\n",
       "      <td>покупка жилья</td>\n",
       "      <td>B</td>\n",
       "      <td>Операции с недвижимостью</td>\n",
       "    </tr>\n",
       "    <tr>\n",
       "      <th>1</th>\n",
       "      <td>1</td>\n",
       "      <td>36</td>\n",
       "      <td>среднее</td>\n",
       "      <td>1</td>\n",
       "      <td>женат / замужем</td>\n",
       "      <td>0</td>\n",
       "      <td>F</td>\n",
       "      <td>сотрудник</td>\n",
       "      <td>False</td>\n",
       "      <td>112080</td>\n",
       "      <td>приобретение автомобиля</td>\n",
       "      <td>C</td>\n",
       "      <td>Операции с автомобилем</td>\n",
       "    </tr>\n",
       "    <tr>\n",
       "      <th>2</th>\n",
       "      <td>0</td>\n",
       "      <td>33</td>\n",
       "      <td>среднее</td>\n",
       "      <td>1</td>\n",
       "      <td>женат / замужем</td>\n",
       "      <td>0</td>\n",
       "      <td>M</td>\n",
       "      <td>сотрудник</td>\n",
       "      <td>False</td>\n",
       "      <td>145885</td>\n",
       "      <td>покупка жилья</td>\n",
       "      <td>C</td>\n",
       "      <td>Операции с недвижимостью</td>\n",
       "    </tr>\n",
       "    <tr>\n",
       "      <th>3</th>\n",
       "      <td>3</td>\n",
       "      <td>32</td>\n",
       "      <td>среднее</td>\n",
       "      <td>1</td>\n",
       "      <td>женат / замужем</td>\n",
       "      <td>0</td>\n",
       "      <td>M</td>\n",
       "      <td>сотрудник</td>\n",
       "      <td>False</td>\n",
       "      <td>267628</td>\n",
       "      <td>дополнительное образование</td>\n",
       "      <td>B</td>\n",
       "      <td>Получение образования</td>\n",
       "    </tr>\n",
       "    <tr>\n",
       "      <th>4</th>\n",
       "      <td>0</td>\n",
       "      <td>53</td>\n",
       "      <td>среднее</td>\n",
       "      <td>1</td>\n",
       "      <td>гражданский брак</td>\n",
       "      <td>1</td>\n",
       "      <td>F</td>\n",
       "      <td>пенсионер</td>\n",
       "      <td>False</td>\n",
       "      <td>158616</td>\n",
       "      <td>сыграть свадьбу</td>\n",
       "      <td>C</td>\n",
       "      <td>Проведение свадьбы</td>\n",
       "    </tr>\n",
       "  </tbody>\n",
       "</table>\n",
       "</div>"
      ],
      "text/plain": [
       "   children  dob_years education  education_id     family_status  \\\n",
       "0         1         42    высшее             0   женат / замужем   \n",
       "1         1         36   среднее             1   женат / замужем   \n",
       "2         0         33   среднее             1   женат / замужем   \n",
       "3         3         32   среднее             1   женат / замужем   \n",
       "4         0         53   среднее             1  гражданский брак   \n",
       "\n",
       "   family_status_id gender income_type   debt  total_income  \\\n",
       "0                 0      F   сотрудник  False        253875   \n",
       "1                 0      F   сотрудник  False        112080   \n",
       "2                 0      M   сотрудник  False        145885   \n",
       "3                 0      M   сотрудник  False        267628   \n",
       "4                 1      F   пенсионер  False        158616   \n",
       "\n",
       "                      purpose total_income_category          purpose_category  \n",
       "0               покупка жилья                     B  Операции с недвижимостью  \n",
       "1     приобретение автомобиля                     C    Операции с автомобилем  \n",
       "2               покупка жилья                     C  Операции с недвижимостью  \n",
       "3  дополнительное образование                     B     Получение образования  \n",
       "4             сыграть свадьбу                     C        Проведение свадьбы  "
      ]
     },
     "metadata": {},
     "output_type": "display_data"
    }
   ],
   "source": [
    "print(data['purpose_category'].value_counts())\n",
    "print()\n",
    "display(data.head())"
   ]
  },
  {
   "cell_type": "code",
   "execution_count": 226,
   "id": "a37f1a76",
   "metadata": {},
   "outputs": [],
   "source": [
    "#Была успешно проведена группировка по 4 категориям."
   ]
  },
  {
   "cell_type": "code",
   "execution_count": null,
   "id": "b20800c2",
   "metadata": {},
   "outputs": [],
   "source": []
  },
  {
   "cell_type": "code",
   "execution_count": null,
   "id": "fac6580e",
   "metadata": {},
   "outputs": [],
   "source": []
  },
  {
   "cell_type": "code",
   "execution_count": null,
   "id": "23427cf4",
   "metadata": {},
   "outputs": [],
   "source": []
  },
  {
   "cell_type": "markdown",
   "id": "d58fd35a",
   "metadata": {},
   "source": [
    "### Ответы на вопросы."
   ]
  },
  {
   "cell_type": "markdown",
   "id": "3edeae55",
   "metadata": {},
   "source": [
    "### Шаг 2.7. Формирование дополнительных датафреймов словарей, декомпозиция исходного датафрейма."
   ]
  },
  {
   "cell_type": "markdown",
   "id": "24ecf5f2",
   "metadata": {},
   "source": [
    "##### Вопрос 1: Есть ли зависимость между количеством детей и возвратом кредита в срок?"
   ]
  },
  {
   "cell_type": "markdown",
   "id": "6a338dc0",
   "metadata": {},
   "source": [
    "Для того, чтобы проанализировать взаимозависимость двух факторов, создади сводную таблицу методом pivot.table с помощью столбцов children и debt. Группировать их будем при помощи family_status и family_status_id"
   ]
  },
  {
   "cell_type": "code",
   "execution_count": 227,
   "id": "e517f787",
   "metadata": {
    "scrolled": true
   },
   "outputs": [
    {
     "data": {
      "text/html": [
       "<div>\n",
       "<style scoped>\n",
       "    .dataframe tbody tr th:only-of-type {\n",
       "        vertical-align: middle;\n",
       "    }\n",
       "\n",
       "    .dataframe tbody tr th {\n",
       "        vertical-align: top;\n",
       "    }\n",
       "\n",
       "    .dataframe thead th {\n",
       "        text-align: right;\n",
       "    }\n",
       "</style>\n",
       "<table border=\"1\" class=\"dataframe\">\n",
       "  <thead>\n",
       "    <tr style=\"text-align: right;\">\n",
       "      <th></th>\n",
       "      <th></th>\n",
       "      <th>children</th>\n",
       "      <th>0</th>\n",
       "      <th>1</th>\n",
       "      <th>2</th>\n",
       "      <th>3</th>\n",
       "      <th>4</th>\n",
       "      <th>5</th>\n",
       "    </tr>\n",
       "    <tr>\n",
       "      <th>family_status_id</th>\n",
       "      <th>family_status</th>\n",
       "      <th>gender</th>\n",
       "      <th></th>\n",
       "      <th></th>\n",
       "      <th></th>\n",
       "      <th></th>\n",
       "      <th></th>\n",
       "      <th></th>\n",
       "    </tr>\n",
       "  </thead>\n",
       "  <tbody>\n",
       "    <tr>\n",
       "      <th rowspan=\"2\" valign=\"top\">0</th>\n",
       "      <th rowspan=\"2\" valign=\"top\">женат / замужем</th>\n",
       "      <th>F</th>\n",
       "      <td>290.0</td>\n",
       "      <td>127.0</td>\n",
       "      <td>96.0</td>\n",
       "      <td>10.0</td>\n",
       "      <td>0.0</td>\n",
       "      <td>0.0</td>\n",
       "    </tr>\n",
       "    <tr>\n",
       "      <th>M</th>\n",
       "      <td>224.0</td>\n",
       "      <td>117.0</td>\n",
       "      <td>49.0</td>\n",
       "      <td>7.0</td>\n",
       "      <td>3.0</td>\n",
       "      <td>0.0</td>\n",
       "    </tr>\n",
       "    <tr>\n",
       "      <th rowspan=\"2\" valign=\"top\">1</th>\n",
       "      <th rowspan=\"2\" valign=\"top\">гражданский брак</th>\n",
       "      <th>F</th>\n",
       "      <td>131.0</td>\n",
       "      <td>69.0</td>\n",
       "      <td>24.0</td>\n",
       "      <td>7.0</td>\n",
       "      <td>0.0</td>\n",
       "      <td>0.0</td>\n",
       "    </tr>\n",
       "    <tr>\n",
       "      <th>M</th>\n",
       "      <td>96.0</td>\n",
       "      <td>49.0</td>\n",
       "      <td>6.0</td>\n",
       "      <td>1.0</td>\n",
       "      <td>0.0</td>\n",
       "      <td>0.0</td>\n",
       "    </tr>\n",
       "    <tr>\n",
       "      <th rowspan=\"2\" valign=\"top\">2</th>\n",
       "      <th rowspan=\"2\" valign=\"top\">вдовец / вдова</th>\n",
       "      <th>F</th>\n",
       "      <td>42.0</td>\n",
       "      <td>6.0</td>\n",
       "      <td>3.0</td>\n",
       "      <td>0.0</td>\n",
       "      <td>0.0</td>\n",
       "      <td>NaN</td>\n",
       "    </tr>\n",
       "    <tr>\n",
       "      <th>M</th>\n",
       "      <td>10.0</td>\n",
       "      <td>1.0</td>\n",
       "      <td>0.0</td>\n",
       "      <td>NaN</td>\n",
       "      <td>NaN</td>\n",
       "      <td>NaN</td>\n",
       "    </tr>\n",
       "    <tr>\n",
       "      <th rowspan=\"2\" valign=\"top\">3</th>\n",
       "      <th rowspan=\"2\" valign=\"top\">в разводе</th>\n",
       "      <th>F</th>\n",
       "      <td>44.0</td>\n",
       "      <td>13.0</td>\n",
       "      <td>4.0</td>\n",
       "      <td>0.0</td>\n",
       "      <td>0.0</td>\n",
       "      <td>NaN</td>\n",
       "    </tr>\n",
       "    <tr>\n",
       "      <th>M</th>\n",
       "      <td>11.0</td>\n",
       "      <td>8.0</td>\n",
       "      <td>3.0</td>\n",
       "      <td>1.0</td>\n",
       "      <td>NaN</td>\n",
       "      <td>NaN</td>\n",
       "    </tr>\n",
       "    <tr>\n",
       "      <th rowspan=\"2\" valign=\"top\">4</th>\n",
       "      <th rowspan=\"2\" valign=\"top\">Не женат / не замужем</th>\n",
       "      <th>F</th>\n",
       "      <td>82.0</td>\n",
       "      <td>28.0</td>\n",
       "      <td>7.0</td>\n",
       "      <td>0.0</td>\n",
       "      <td>1.0</td>\n",
       "      <td>NaN</td>\n",
       "    </tr>\n",
       "    <tr>\n",
       "      <th>M</th>\n",
       "      <td>128.0</td>\n",
       "      <td>23.0</td>\n",
       "      <td>2.0</td>\n",
       "      <td>1.0</td>\n",
       "      <td>NaN</td>\n",
       "      <td>NaN</td>\n",
       "    </tr>\n",
       "  </tbody>\n",
       "</table>\n",
       "</div>"
      ],
      "text/plain": [
       "children                                           0      1     2     3    4  \\\n",
       "family_status_id family_status         gender                                  \n",
       "0                женат / замужем       F       290.0  127.0  96.0  10.0  0.0   \n",
       "                                       M       224.0  117.0  49.0   7.0  3.0   \n",
       "1                гражданский брак      F       131.0   69.0  24.0   7.0  0.0   \n",
       "                                       M        96.0   49.0   6.0   1.0  0.0   \n",
       "2                вдовец / вдова        F        42.0    6.0   3.0   0.0  0.0   \n",
       "                                       M        10.0    1.0   0.0   NaN  NaN   \n",
       "3                в разводе             F        44.0   13.0   4.0   0.0  0.0   \n",
       "                                       M        11.0    8.0   3.0   1.0  NaN   \n",
       "4                Не женат / не замужем F        82.0   28.0   7.0   0.0  1.0   \n",
       "                                       M       128.0   23.0   2.0   1.0  NaN   \n",
       "\n",
       "children                                         5  \n",
       "family_status_id family_status         gender       \n",
       "0                женат / замужем       F       0.0  \n",
       "                                       M       0.0  \n",
       "1                гражданский брак      F       0.0  \n",
       "                                       M       0.0  \n",
       "2                вдовец / вдова        F       NaN  \n",
       "                                       M       NaN  \n",
       "3                в разводе             F       NaN  \n",
       "                                       M       NaN  \n",
       "4                Не женат / не замужем F       NaN  \n",
       "                                       M       NaN  "
      ]
     },
     "metadata": {},
     "output_type": "display_data"
    }
   ],
   "source": [
    "data_pivot_children = data.pivot_table(index=['family_status_id', 'family_status', 'gender'], columns='children', values='debt', aggfunc='sum')\n",
    "display(data_pivot_children)"
   ]
  },
  {
   "cell_type": "code",
   "execution_count": 238,
   "id": "78a15b0f",
   "metadata": {
    "scrolled": false
   },
   "outputs": [
    {
     "name": "stdout",
     "output_type": "stream",
     "text": [
      "          count_children  sum_children  result_children\n",
      "children                                               \n",
      "0                  14080          1058         0.075142\n",
      "1                   4802           441         0.091837\n",
      "2                   2042           194         0.095005\n",
      "3                    328            27         0.082317\n",
      "4                     41             4         0.097561\n",
      "5                      9             0         0.000000\n"
     ]
    }
   ],
   "source": [
    "debt_children['count_children'] = data.groupby('children')['debt'].count() \n",
    "debt_children['sum_children'] = data.groupby('children')['debt'].sum()\n",
    "debt_children['result_children'] = debt_children['sum_children'] / debt_children['count_children']\n",
    "print(debt_children)"
   ]
  },
  {
   "cell_type": "markdown",
   "id": "37dd4433",
   "metadata": {},
   "source": [
    "Описывая вышеизложенные данные, можно сказать, что количество детей напрямую влияет на погашении кредита в срок"
   ]
  },
  {
   "cell_type": "markdown",
   "id": "9015d659",
   "metadata": {},
   "source": [
    "##### Вопрос 2: Есть ли зависимость между семейным положением и возвратом кредита в срок?"
   ]
  },
  {
   "cell_type": "code",
   "execution_count": 244,
   "id": "4fd71846",
   "metadata": {},
   "outputs": [
    {
     "name": "stdout",
     "output_type": "stream",
     "text": [
      "                                       debt       \n",
      "                                        sum  count\n",
      "family_status_id family_status                    \n",
      "0                женат / замужем        923  12254\n",
      "1                гражданский брак       383   4139\n",
      "2                вдовец / вдова          62    947\n",
      "3                в разводе               84   1179\n",
      "4                Не женат / не замужем  272   2783\n"
     ]
    }
   ],
   "source": [
    "data_pivot_family_status = data.groupby(['family_status_id', 'family_status']).agg({'debt':['sum', 'count']})\n",
    "print(data_pivot_family_status)"
   ]
  },
  {
   "cell_type": "markdown",
   "id": "7b6eae19",
   "metadata": {},
   "source": [
    "Наибольшее числе невозвратов кредита в срок у женатых/замужних пар. На втором месте по задолженности - люди, находящиеся в гражданском браке. На третьем месте по долгам находятся люди, которые без пары."
   ]
  },
  {
   "cell_type": "markdown",
   "id": "76d87a44",
   "metadata": {},
   "source": [
    "##### Вопрос 3: Есть ли зависимость между уровнем дохода и возвратом кредита в срок?"
   ]
  },
  {
   "cell_type": "code",
   "execution_count": 248,
   "id": "d625bd8a",
   "metadata": {
    "scrolled": true
   },
   "outputs": [
    {
     "name": "stdout",
     "output_type": "stream",
     "text": [
      "                       debt       \n",
      "                        sum  count\n",
      "total_income_category             \n",
      "A                         2     25\n",
      "B                       353   4988\n",
      "C                      1346  15920\n",
      "D                        21    347\n",
      "E                         2     22\n"
     ]
    }
   ],
   "source": [
    "data_pivot_income_rating = data.groupby(['total_income_category']).agg({'debt':['sum', 'count']}) #Применим столбец total_income_category из пердыдущей главы\n",
    "print(data_pivot_income_rating)"
   ]
  },
  {
   "cell_type": "markdown",
   "id": "08d33481",
   "metadata": {},
   "source": [
    "Из приведённой выше таблицы мы видим, что большинство должников являются люди, которые получают средние доходы, а именно категории C (50001–200000). Здесь отчётливо наблюдается линейная зависимость, поскольку мы видим вовольно минимальное количество людей с крайневысокими и крайне низкими доходами, которые задолжали денег в банк"
   ]
  },
  {
   "cell_type": "markdown",
   "id": "f2f4002a",
   "metadata": {},
   "source": [
    "##### Вопрос 4: Как разные цели кредита влияют на его возврат в срок?"
   ]
  },
  {
   "cell_type": "code",
   "execution_count": 249,
   "id": "1b9665e9",
   "metadata": {},
   "outputs": [
    {
     "name": "stdout",
     "output_type": "stream",
     "text": [
      "                         debt       \n",
      "                          sum  count\n",
      "purpose_category                    \n",
      "Операции с автомобилем    397   4267\n",
      "Операции с недвижимостью  777  10733\n",
      "Получение образования     369   3979\n",
      "Проведение свадьбы        181   2323\n"
     ]
    }
   ],
   "source": [
    "data_pivot_income_rating = data.groupby(['purpose_category']).agg({'debt':['sum', 'count']}) #Применим столбец total_income_category из пердыдущей главы\n",
    "print(data_pivot_income_rating)"
   ]
  },
  {
   "cell_type": "code",
   "execution_count": null,
   "id": "367bc6cc",
   "metadata": {},
   "outputs": [],
   "source": [
    "Исходя из вышеприведённых данных, мы видим, что большинство заёмщиков - люди, которые проводят операции с недвижимостью, а именно, покупают квартиры, ремонитруют их, строют дома и т. д. На втором месте по займам находятся люди, которые покупают автомобиль. На тертем же месте - люди, которые вкладывают деньги в образование "
   ]
  },
  {
   "cell_type": "markdown",
   "id": "49e3a381",
   "metadata": {},
   "source": [
    "## Общий вывод:"
   ]
  },
  {
   "cell_type": "markdown",
   "id": "f9ed3a91",
   "metadata": {},
   "source": [
    "В заключение всего вышеизложенного, можно сказать, что все поставленные задачи были решены, а цель нашего проекта была достигнута. Сначала мы занимались предобработкой данных, а именно, удалали и структурировали дубликаты, категоризировали данные, прежде чем анализировать их. Затем, проанализировав данные, мы смогли ответить на поставленные нам четыре вопроса. Были выявлены закономерности возврата кредита в срок на количество детей в семье, семейное положение, уровнем дохода, а также на цели самого кредита."
   ]
  }
 ],
 "metadata": {
  "ExecuteTimeLog": [
   {
    "duration": 9,
    "start_time": "2022-05-22T16:33:10.081Z"
   },
   {
    "duration": 765,
    "start_time": "2022-05-22T17:14:47.448Z"
   },
   {
    "duration": 22,
    "start_time": "2022-05-22T17:14:55.408Z"
   },
   {
    "duration": 14,
    "start_time": "2022-05-22T17:15:30.054Z"
   },
   {
    "duration": 111,
    "start_time": "2022-05-22T17:16:44.446Z"
   },
   {
    "duration": 20,
    "start_time": "2022-05-22T17:17:04.201Z"
   },
   {
    "duration": 7,
    "start_time": "2022-05-22T17:17:14.006Z"
   },
   {
    "duration": 24,
    "start_time": "2022-05-22T17:17:31.394Z"
   },
   {
    "duration": 575,
    "start_time": "2022-05-22T17:48:42.234Z"
   },
   {
    "duration": 28,
    "start_time": "2022-05-22T17:48:43.004Z"
   },
   {
    "duration": 14,
    "start_time": "2022-05-22T17:49:12.119Z"
   },
   {
    "duration": 15,
    "start_time": "2022-05-22T17:49:31.674Z"
   },
   {
    "duration": 20,
    "start_time": "2022-05-22T17:49:33.104Z"
   },
   {
    "duration": 14,
    "start_time": "2022-05-22T17:49:39.076Z"
   },
   {
    "duration": 72,
    "start_time": "2022-05-22T17:49:53.654Z"
   },
   {
    "duration": 7,
    "start_time": "2022-05-22T17:50:02.084Z"
   },
   {
    "duration": 10,
    "start_time": "2022-05-22T17:50:13.054Z"
   },
   {
    "duration": 21,
    "start_time": "2022-05-22T17:50:25.808Z"
   },
   {
    "duration": 36,
    "start_time": "2022-05-22T22:50:45.340Z"
   },
   {
    "duration": 28,
    "start_time": "2022-05-22T22:51:26.165Z"
   },
   {
    "duration": 49,
    "start_time": "2022-05-22T22:51:51.219Z"
   },
   {
    "duration": 3,
    "start_time": "2022-05-22T22:51:57.737Z"
   },
   {
    "duration": 3,
    "start_time": "2022-05-22T22:53:02.401Z"
   },
   {
    "duration": 7,
    "start_time": "2022-05-22T23:01:13.260Z"
   },
   {
    "duration": 7,
    "start_time": "2022-05-22T23:01:23.520Z"
   },
   {
    "duration": 33,
    "start_time": "2022-05-22T23:01:26.174Z"
   },
   {
    "duration": 10,
    "start_time": "2022-05-22T23:01:40.493Z"
   },
   {
    "duration": 9,
    "start_time": "2022-05-22T23:01:46.752Z"
   },
   {
    "duration": 9,
    "start_time": "2022-05-22T23:02:27.093Z"
   },
   {
    "duration": 8,
    "start_time": "2022-05-22T23:02:55.341Z"
   },
   {
    "duration": 6,
    "start_time": "2022-05-22T23:03:51.123Z"
   },
   {
    "duration": 1013,
    "start_time": "2022-05-22T23:04:30.126Z"
   },
   {
    "duration": 21,
    "start_time": "2022-05-22T23:04:31.142Z"
   },
   {
    "duration": 20,
    "start_time": "2022-05-22T23:04:31.165Z"
   },
   {
    "duration": 15,
    "start_time": "2022-05-22T23:04:31.187Z"
   },
   {
    "duration": 2,
    "start_time": "2022-05-22T23:04:31.204Z"
   },
   {
    "duration": 13,
    "start_time": "2022-05-22T23:04:31.208Z"
   },
   {
    "duration": 12,
    "start_time": "2022-05-22T23:04:31.223Z"
   },
   {
    "duration": 15,
    "start_time": "2022-05-22T23:04:31.236Z"
   },
   {
    "duration": 4,
    "start_time": "2022-05-22T23:04:40.277Z"
   },
   {
    "duration": 27,
    "start_time": "2022-05-22T23:04:44.837Z"
   },
   {
    "duration": 5,
    "start_time": "2022-05-22T23:04:54.609Z"
   },
   {
    "duration": 12,
    "start_time": "2022-05-22T23:05:05.883Z"
   },
   {
    "duration": 8,
    "start_time": "2022-05-22T23:11:58.972Z"
   },
   {
    "duration": 7,
    "start_time": "2022-05-22T23:12:02.174Z"
   },
   {
    "duration": 5,
    "start_time": "2022-05-22T23:12:25.413Z"
   },
   {
    "duration": 127,
    "start_time": "2022-05-22T23:22:32.528Z"
   },
   {
    "duration": 32,
    "start_time": "2022-05-22T23:26:04.210Z"
   },
   {
    "duration": 8,
    "start_time": "2022-05-22T23:27:25.725Z"
   },
   {
    "duration": 25,
    "start_time": "2022-05-22T23:41:43.755Z"
   },
   {
    "duration": 4,
    "start_time": "2022-05-22T23:41:50.177Z"
   },
   {
    "duration": 6,
    "start_time": "2022-05-22T23:43:01.871Z"
   },
   {
    "duration": 6,
    "start_time": "2022-05-22T23:43:20.617Z"
   },
   {
    "duration": 5,
    "start_time": "2022-05-22T23:43:25.877Z"
   },
   {
    "duration": 4,
    "start_time": "2022-05-22T23:43:47.857Z"
   }
  ],
  "kernelspec": {
   "display_name": "Python 3 (ipykernel)",
   "language": "python",
   "name": "python3"
  },
  "language_info": {
   "codemirror_mode": {
    "name": "ipython",
    "version": 3
   },
   "file_extension": ".py",
   "mimetype": "text/x-python",
   "name": "python",
   "nbconvert_exporter": "python",
   "pygments_lexer": "ipython3",
   "version": "3.9.7"
  },
  "toc": {
   "base_numbering": 1,
   "nav_menu": {},
   "number_sections": true,
   "sideBar": true,
   "skip_h1_title": true,
   "title_cell": "Table of Contents",
   "title_sidebar": "Contents",
   "toc_cell": false,
   "toc_position": {},
   "toc_section_display": true,
   "toc_window_display": false
  }
 },
 "nbformat": 4,
 "nbformat_minor": 5
}
