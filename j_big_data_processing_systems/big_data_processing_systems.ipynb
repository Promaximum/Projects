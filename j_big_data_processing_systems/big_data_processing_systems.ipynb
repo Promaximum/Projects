{
 "cells": [
  {
   "cell_type": "markdown",
   "id": "GEqQaHzsZ_bA",
   "metadata": {
    "id": "GEqQaHzsZ_bA"
   },
   "source": [
    "## Предсказание стоимости жилья\n",
    "\n",
    "В проекте вам нужно обучить модель линейной регрессии на данных о жилье в Калифорнии в 1990 году. На основе данных нужно предсказать медианную стоимость дома в жилом массиве. Обучите модель и сделайте предсказания на тестовой выборке. Для оценки качества модели используйте метрики RMSE, MAE и R2."
   ]
  },
  {
   "cell_type": "markdown",
   "id": "d67d31d5",
   "metadata": {},
   "source": [
    "В колонках датасета содержатся следующие данные:\n",
    "\n",
    "`longitude` — широта;\n",
    "\n",
    "`latitude` — долгота;\n",
    "\n",
    "`housing_median_age` — медианный возраст жителей жилого массива;\n",
    "\n",
    "`total_rooms` — общее количество комнат в домах жилого массива;\n",
    "\n",
    "`total_bedrooms` — общее количество спален в домах жилого массива;\n",
    "\n",
    "`population` — количество человек, которые проживают в жилом массиве;\n",
    "\n",
    "`households` — количество домовладений в жилом массиве;\n",
    "\n",
    "`median_income` — медианный доход жителей жилого массива;\n",
    "\n",
    "`median_house_value` — медианная стоимость дома в жилом массиве;\n",
    "\n",
    "`ocean_proximity` — близость к океану."
   ]
  },
  {
   "cell_type": "code",
   "execution_count": 1,
   "id": "aaad07a8",
   "metadata": {},
   "outputs": [],
   "source": [
    "import pandas as pd\n",
    "import numpy as np\n",
    "\n",
    "import pyspark\n",
    "from pyspark.sql import SparkSession\n",
    "from pyspark.sql.types import *\n",
    "import pyspark.sql.functions as F"
   ]
  },
  {
   "cell_type": "code",
   "execution_count": 2,
   "id": "4d87d24e",
   "metadata": {},
   "outputs": [],
   "source": [
    "from pyspark.sql import SparkSession\n",
    "from pyspark.sql.types import *\n",
    "import pyspark.sql.functions as F\n",
    "import seaborn as sns\n",
    "from pyspark.ml.feature import OneHotEncoder \n",
    "from pyspark.ml.feature import StringIndexer, VectorAssembler, StandardScaler\n",
    "from pyspark.ml.regression import LinearRegression\n",
    "from pyspark.ml.evaluation import RegressionEvaluator\n",
    "RANDOM_SEED = 2022"
   ]
  },
  {
   "cell_type": "code",
   "execution_count": 3,
   "id": "336a808e",
   "metadata": {},
   "outputs": [],
   "source": [
    "spark = SparkSession.builder \\\n",
    "                    .master(\"local\") \\\n",
    "                    .appName(\"EDA California Housing\") \\\n",
    "                    .getOrCreate()"
   ]
  },
  {
   "cell_type": "code",
   "execution_count": 4,
   "id": "7a4fa42f",
   "metadata": {
    "scrolled": true
   },
   "outputs": [
    {
     "name": "stderr",
     "output_type": "stream",
     "text": [
      "                                                                                \r"
     ]
    }
   ],
   "source": [
    "df_housing = spark.read.load('/datasets/housing.csv',\n",
    "                                        format='csv',\n",
    "                                             sep=',',\n",
    "                                    inferSchema=True,\n",
    "                                         header=True)\n",
    "\n"
   ]
  },
  {
   "cell_type": "markdown",
   "id": "2e9a8503",
   "metadata": {},
   "source": [
    "Прочитаем содеримое файла."
   ]
  },
  {
   "cell_type": "code",
   "execution_count": 5,
   "id": "5b31d544",
   "metadata": {
    "scrolled": true
   },
   "outputs": [
    {
     "name": "stdout",
     "output_type": "stream",
     "text": [
      "root\n",
      " |-- longitude: double (nullable = true)\n",
      " |-- latitude: double (nullable = true)\n",
      " |-- housing_median_age: double (nullable = true)\n",
      " |-- total_rooms: double (nullable = true)\n",
      " |-- total_bedrooms: double (nullable = true)\n",
      " |-- population: double (nullable = true)\n",
      " |-- households: double (nullable = true)\n",
      " |-- median_income: double (nullable = true)\n",
      " |-- median_house_value: double (nullable = true)\n",
      " |-- ocean_proximity: string (nullable = true)\n",
      "\n"
     ]
    }
   ],
   "source": [
    "df_housing.printSchema()"
   ]
  },
  {
   "cell_type": "markdown",
   "id": "1700333e",
   "metadata": {},
   "source": [
    "Выведем типы данных используя `dtypes`."
   ]
  },
  {
   "cell_type": "code",
   "execution_count": 6,
   "id": "017c5897",
   "metadata": {
    "scrolled": true
   },
   "outputs": [
    {
     "name": "stdout",
     "output_type": "stream",
     "text": [
      "               column    type\n",
      "0           longitude  double\n",
      "1            latitude  double\n",
      "2  housing_median_age  double\n",
      "3         total_rooms  double\n",
      "4      total_bedrooms  double\n",
      "5          population  double\n",
      "6          households  double\n",
      "7       median_income  double\n",
      "8  median_house_value  double\n",
      "9     ocean_proximity  string\n"
     ]
    }
   ],
   "source": [
    "print(pd.DataFrame(df_housing.dtypes, columns=['column', 'type']).head(10))"
   ]
  },
  {
   "cell_type": "code",
   "execution_count": 7,
   "id": "250605db",
   "metadata": {
    "scrolled": true
   },
   "outputs": [
    {
     "name": "stderr",
     "output_type": "stream",
     "text": [
      "                                                                                \r"
     ]
    },
    {
     "data": {
      "text/html": [
       "<div>\n",
       "<style scoped>\n",
       "    .dataframe tbody tr th:only-of-type {\n",
       "        vertical-align: middle;\n",
       "    }\n",
       "\n",
       "    .dataframe tbody tr th {\n",
       "        vertical-align: top;\n",
       "    }\n",
       "\n",
       "    .dataframe thead th {\n",
       "        text-align: right;\n",
       "    }\n",
       "</style>\n",
       "<table border=\"1\" class=\"dataframe\">\n",
       "  <thead>\n",
       "    <tr style=\"text-align: right;\">\n",
       "      <th></th>\n",
       "      <th>summary</th>\n",
       "      <th>longitude</th>\n",
       "      <th>latitude</th>\n",
       "      <th>housing_median_age</th>\n",
       "      <th>total_rooms</th>\n",
       "      <th>total_bedrooms</th>\n",
       "      <th>population</th>\n",
       "      <th>households</th>\n",
       "      <th>median_income</th>\n",
       "      <th>median_house_value</th>\n",
       "      <th>ocean_proximity</th>\n",
       "    </tr>\n",
       "  </thead>\n",
       "  <tbody>\n",
       "    <tr>\n",
       "      <th>0</th>\n",
       "      <td>count</td>\n",
       "      <td>20640</td>\n",
       "      <td>20640</td>\n",
       "      <td>20640</td>\n",
       "      <td>20640</td>\n",
       "      <td>20433</td>\n",
       "      <td>20640</td>\n",
       "      <td>20640</td>\n",
       "      <td>20640</td>\n",
       "      <td>20640</td>\n",
       "      <td>20640</td>\n",
       "    </tr>\n",
       "    <tr>\n",
       "      <th>1</th>\n",
       "      <td>mean</td>\n",
       "      <td>-119.56970445736148</td>\n",
       "      <td>35.6318614341087</td>\n",
       "      <td>28.639486434108527</td>\n",
       "      <td>2635.7630813953488</td>\n",
       "      <td>537.8705525375618</td>\n",
       "      <td>1425.4767441860465</td>\n",
       "      <td>499.5396802325581</td>\n",
       "      <td>3.8706710029070246</td>\n",
       "      <td>206855.81690891474</td>\n",
       "      <td>None</td>\n",
       "    </tr>\n",
       "    <tr>\n",
       "      <th>2</th>\n",
       "      <td>stddev</td>\n",
       "      <td>2.003531723502584</td>\n",
       "      <td>2.135952397457101</td>\n",
       "      <td>12.58555761211163</td>\n",
       "      <td>2181.6152515827944</td>\n",
       "      <td>421.38507007403115</td>\n",
       "      <td>1132.46212176534</td>\n",
       "      <td>382.3297528316098</td>\n",
       "      <td>1.899821717945263</td>\n",
       "      <td>115395.61587441359</td>\n",
       "      <td>None</td>\n",
       "    </tr>\n",
       "    <tr>\n",
       "      <th>3</th>\n",
       "      <td>min</td>\n",
       "      <td>-124.35</td>\n",
       "      <td>32.54</td>\n",
       "      <td>1.0</td>\n",
       "      <td>2.0</td>\n",
       "      <td>1.0</td>\n",
       "      <td>3.0</td>\n",
       "      <td>1.0</td>\n",
       "      <td>0.4999</td>\n",
       "      <td>14999.0</td>\n",
       "      <td>&lt;1H OCEAN</td>\n",
       "    </tr>\n",
       "    <tr>\n",
       "      <th>4</th>\n",
       "      <td>max</td>\n",
       "      <td>-114.31</td>\n",
       "      <td>41.95</td>\n",
       "      <td>52.0</td>\n",
       "      <td>39320.0</td>\n",
       "      <td>6445.0</td>\n",
       "      <td>35682.0</td>\n",
       "      <td>6082.0</td>\n",
       "      <td>15.0001</td>\n",
       "      <td>500001.0</td>\n",
       "      <td>NEAR OCEAN</td>\n",
       "    </tr>\n",
       "  </tbody>\n",
       "</table>\n",
       "</div>"
      ],
      "text/plain": [
       "  summary            longitude           latitude  housing_median_age  \\\n",
       "0   count                20640              20640               20640   \n",
       "1    mean  -119.56970445736148   35.6318614341087  28.639486434108527   \n",
       "2  stddev    2.003531723502584  2.135952397457101   12.58555761211163   \n",
       "3     min              -124.35              32.54                 1.0   \n",
       "4     max              -114.31              41.95                52.0   \n",
       "\n",
       "          total_rooms      total_bedrooms          population  \\\n",
       "0               20640               20433               20640   \n",
       "1  2635.7630813953488   537.8705525375618  1425.4767441860465   \n",
       "2  2181.6152515827944  421.38507007403115    1132.46212176534   \n",
       "3                 2.0                 1.0                 3.0   \n",
       "4             39320.0              6445.0             35682.0   \n",
       "\n",
       "          households       median_income  median_house_value ocean_proximity  \n",
       "0              20640               20640               20640           20640  \n",
       "1  499.5396802325581  3.8706710029070246  206855.81690891474            None  \n",
       "2  382.3297528316098   1.899821717945263  115395.61587441359            None  \n",
       "3                1.0              0.4999             14999.0       <1H OCEAN  \n",
       "4             6082.0             15.0001            500001.0      NEAR OCEAN  "
      ]
     },
     "execution_count": 7,
     "metadata": {},
     "output_type": "execute_result"
    }
   ],
   "source": [
    "df_housing.describe().toPandas()"
   ]
  },
  {
   "cell_type": "markdown",
   "id": "53871372",
   "metadata": {
    "id": "53871372"
   },
   "source": [
    "## Подготовка данных"
   ]
  },
  {
   "cell_type": "markdown",
   "id": "7692bc24",
   "metadata": {},
   "source": [
    "Проыерим данные на наличие пропусков."
   ]
  },
  {
   "cell_type": "code",
   "execution_count": 8,
   "id": "9d950b03",
   "metadata": {},
   "outputs": [],
   "source": [
    "columns = df_housing.columns"
   ]
  },
  {
   "cell_type": "code",
   "execution_count": 9,
   "id": "2e6d6560",
   "metadata": {
    "scrolled": true
   },
   "outputs": [
    {
     "name": "stdout",
     "output_type": "stream",
     "text": [
      "longitude 0\n",
      "latitude 0\n",
      "housing_median_age 0\n",
      "total_rooms 0\n",
      "total_bedrooms 207\n",
      "population 0\n",
      "households 0\n",
      "median_income 0\n",
      "median_house_value 0\n",
      "ocean_proximity 0\n"
     ]
    }
   ],
   "source": [
    "for column in columns:\n",
    "    print(column, df_housing.where(F.isnan(column) | F.col(column).isNull()).count())"
   ]
  },
  {
   "cell_type": "code",
   "execution_count": 10,
   "id": "8eeda1af",
   "metadata": {},
   "outputs": [],
   "source": [
    "#df_housing = df_housing.na.drop(how='any')"
   ]
  },
  {
   "cell_type": "code",
   "execution_count": 11,
   "id": "a3b1f920",
   "metadata": {},
   "outputs": [],
   "source": [
    "total_bedrooms_median = df_housing.approxQuantile('total_bedrooms', [0.5], 0)[0]"
   ]
  },
  {
   "cell_type": "code",
   "execution_count": 12,
   "id": "0600e3f1",
   "metadata": {},
   "outputs": [],
   "source": [
    "df_housing = df_housing.fillna(total_bedrooms_median, subset=['total_bedrooms'])"
   ]
  },
  {
   "cell_type": "markdown",
   "id": "171bcedf",
   "metadata": {},
   "source": [
    "Проверим удаление данные после удаления пропусков."
   ]
  },
  {
   "cell_type": "code",
   "execution_count": 13,
   "id": "a9bfcc64",
   "metadata": {
    "scrolled": false
   },
   "outputs": [
    {
     "name": "stdout",
     "output_type": "stream",
     "text": [
      "longitude 0\n",
      "latitude 0\n",
      "housing_median_age 0\n",
      "total_rooms 0\n",
      "total_bedrooms 0\n",
      "population 0\n",
      "households 0\n",
      "median_income 0\n",
      "median_house_value 0\n",
      "ocean_proximity 0\n"
     ]
    }
   ],
   "source": [
    "for column in columns:\n",
    "    print(column, df_housing.where(F.isnan(column) | F.col(column).isNull()).count())"
   ]
  },
  {
   "cell_type": "markdown",
   "id": "fd6aa2ef",
   "metadata": {},
   "source": [
    "Разделим колонки на два типа: текстовые и числовые, которые представляют категориальные данные."
   ]
  },
  {
   "cell_type": "code",
   "execution_count": 14,
   "id": "57d04973",
   "metadata": {},
   "outputs": [],
   "source": [
    "categorical_cols = ['ocean_proximity']\n",
    "numerical_cols = ['longitude', 'latitude', 'housing_median_age', 'total_rooms', 'total_bedrooms', 'population', 'households', 'median_income']\n",
    "target = 'median_house_value'"
   ]
  },
  {
   "cell_type": "markdown",
   "id": "2e40aa12",
   "metadata": {},
   "source": [
    "Приступим к трансформации признаков. Преобразуем колонку с категориальными значениями с помощью OneHotEncoder и  StringIndexer.\n",
    "Начнём с трансформации категориальных признаков в числовые с помощью StringIndexer"
   ]
  },
  {
   "cell_type": "code",
   "execution_count": 15,
   "id": "f6c2046e",
   "metadata": {},
   "outputs": [],
   "source": [
    "#indexer = StringIndexer(inputCols=categorical_cols,\n",
    "#                       outputCols=[c+'_idx' for c in categorical_cols])\n",
    "\n",
    "#df_housing = indexer.fit(df_housing).transform(df_housing)"
   ]
  },
  {
   "cell_type": "markdown",
   "id": "0b98c651",
   "metadata": {},
   "source": [
    "Далее выполним OneHotEncoder."
   ]
  },
  {
   "cell_type": "code",
   "execution_count": 16,
   "id": "f822f06b",
   "metadata": {
    "scrolled": true
   },
   "outputs": [],
   "source": [
    "#ohe = OneHotEncoder(inputCols=[c+'_idx' for c in categorical_cols],\n",
    "#                        outputCols=[c+'_ohe' for c in categorical_cols])\n",
    "\n",
    "#df_housing = ohe.fit(df_housing).transform(df_housing)\n",
    "#df_housing.toPandas().head()"
   ]
  },
  {
   "cell_type": "markdown",
   "id": "64bf2ee2",
   "metadata": {},
   "source": [
    "Объединим признаки с помощью верктора VectorAssembler"
   ]
  },
  {
   "cell_type": "code",
   "execution_count": 17,
   "id": "74b981e5",
   "metadata": {},
   "outputs": [],
   "source": [
    "#categorical_assembler = \\\n",
    "#VectorAssembler(inputCols=[c+'_ohe' for c in categorical_cols],\n",
    "#               outputCol='categorical_features')\n",
    "#df_housing=categorical_assembler.transform(df_housing)"
   ]
  },
  {
   "cell_type": "markdown",
   "id": "9f0a82f3",
   "metadata": {
    "id": "9f0a82f3"
   },
   "source": [
    "## Обучение моделей"
   ]
  },
  {
   "cell_type": "markdown",
   "id": "219eed53",
   "metadata": {},
   "source": [
    "Трансформируем числовые признаки, чтобы выбросы не влияли на работу модели."
   ]
  },
  {
   "cell_type": "code",
   "execution_count": 18,
   "id": "b268e33c",
   "metadata": {
    "scrolled": false
   },
   "outputs": [],
   "source": [
    "#numerical_assembler = VectorAssembler(inputCols=numerical_cols, outputCol=\"numerical_features\")\n",
    "#df_housing = numerical_assembler.transform(df_housing)\n",
    "#standardScaler = StandardScaler(inputCol='numerical_features',outputCol=\"numerical_features_scaled\")\n",
    "#df_housing = standardScaler.fit(df_housing).transform(df_housing) "
   ]
  },
  {
   "cell_type": "markdown",
   "id": "1973ad12",
   "metadata": {},
   "source": [
    "Соберём полученные категориальные и числовые признаки с помощью VectorAssembler"
   ]
  },
  {
   "cell_type": "code",
   "execution_count": 19,
   "id": "9f703c3d",
   "metadata": {},
   "outputs": [],
   "source": [
    "#all_features = ['categorical_features', 'numerical_features_scaled']\n",
    "\n",
    "#final_assembler = VectorAssembler(inputCols=all_features, outputCol='features')\n",
    "#df_housing = final_assembler.transform(df_housing)"
   ]
  },
  {
   "cell_type": "code",
   "execution_count": 20,
   "id": "3680f4df",
   "metadata": {
    "scrolled": true
   },
   "outputs": [],
   "source": [
    "#df_housing.select(all_features).show(3)"
   ]
  },
  {
   "cell_type": "markdown",
   "id": "f62a6510",
   "metadata": {},
   "source": [
    "Необходимо построить две модели линейной регрессии на разных наборах данных. Разделим наш датасет на две части - обучающую и тестовую, чтобы протестировать качество модели. Для каждого метода будем использовать метод `RandomSplit()`. Выведем количество записей выборок с помощью метода `count()`."
   ]
  },
  {
   "cell_type": "code",
   "execution_count": 21,
   "id": "9d874e74",
   "metadata": {
    "scrolled": false
   },
   "outputs": [
    {
     "name": "stdout",
     "output_type": "stream",
     "text": [
      "16418 4222\n"
     ]
    }
   ],
   "source": [
    "train_data, test_data = df_housing.randomSplit([.8,.2], seed=RANDOM_SEED)\n",
    "print(train_data.count(), test_data.count())"
   ]
  },
  {
   "cell_type": "code",
   "execution_count": 22,
   "id": "ac86308b",
   "metadata": {},
   "outputs": [
    {
     "name": "stderr",
     "output_type": "stream",
     "text": [
      "                                                                                \r"
     ]
    }
   ],
   "source": [
    "indexer_train = StringIndexer(inputCols=categorical_cols, \n",
    "                              outputCols=[c+'_idx' for c in categorical_cols], handleInvalid=\"skip\")\n",
    "indexer_model = indexer_train.fit(train_data)\n",
    "train_data = indexer_model.transform(train_data)\n",
    "test_data = indexer_model.transform(test_data)"
   ]
  },
  {
   "cell_type": "code",
   "execution_count": 23,
   "id": "00790156",
   "metadata": {},
   "outputs": [],
   "source": [
    "#indexer_train = StringIndexer(inputCols=categorical_cols,\n",
    "#                       outputCols=[c+'_idx' for c in categorical_cols])\n",
    "#model = indexer_train.fit(train_data)\n",
    "#train_data = model.transform(train_data)\n",
    "#test_data = indexer_train.transform(test_data)"
   ]
  },
  {
   "cell_type": "code",
   "execution_count": 24,
   "id": "8910c94d",
   "metadata": {},
   "outputs": [],
   "source": [
    "#indexer_test = StringIndexer(inputCols=categorical_cols,\n",
    "#                       outputCols=[c for c in categorical_cols])\n",
    "\n",
    "#test_data = indexer_test.fit(test_data).transform(test_data)\n",
    "#indexer_test.fit(train_data)\n",
    "#test_data = indexer_test.transform(test_data)"
   ]
  },
  {
   "cell_type": "code",
   "execution_count": 25,
   "id": "1a0ec34c",
   "metadata": {},
   "outputs": [
    {
     "name": "stdout",
     "output_type": "stream",
     "text": [
      "+---------+--------+------------------+-----------+--------------+----------+----------+-------------+------------------+---------------+-------------------+\n",
      "|longitude|latitude|housing_median_age|total_rooms|total_bedrooms|population|households|median_income|median_house_value|ocean_proximity|ocean_proximity_idx|\n",
      "+---------+--------+------------------+-----------+--------------+----------+----------+-------------+------------------+---------------+-------------------+\n",
      "|   -124.3|   41.84|              17.0|     2677.0|         531.0|    1244.0|     456.0|       3.0313|          103600.0|     NEAR OCEAN|                2.0|\n",
      "|  -124.23|   40.81|              52.0|     1112.0|         209.0|     544.0|     172.0|       3.3462|           50800.0|     NEAR OCEAN|                2.0|\n",
      "|  -124.21|   40.75|              32.0|     1218.0|         331.0|     620.0|     268.0|       1.6528|           58100.0|     NEAR OCEAN|                2.0|\n",
      "|  -124.21|   41.77|              17.0|     3461.0|         722.0|    1947.0|     647.0|       2.5795|           68400.0|     NEAR OCEAN|                2.0|\n",
      "|  -124.18|   40.78|              33.0|     1076.0|         222.0|     656.0|     236.0|       2.5096|           72200.0|     NEAR OCEAN|                2.0|\n",
      "+---------+--------+------------------+-----------+--------------+----------+----------+-------------+------------------+---------------+-------------------+\n",
      "only showing top 5 rows\n",
      "\n"
     ]
    },
    {
     "data": {
      "text/plain": [
       "StructType(List(StructField(longitude,DoubleType,true),StructField(latitude,DoubleType,true),StructField(housing_median_age,DoubleType,true),StructField(total_rooms,DoubleType,true),StructField(total_bedrooms,DoubleType,false),StructField(population,DoubleType,true),StructField(households,DoubleType,true),StructField(median_income,DoubleType,true),StructField(median_house_value,DoubleType,true),StructField(ocean_proximity,StringType,true),StructField(ocean_proximity_idx,DoubleType,false)))"
      ]
     },
     "execution_count": 25,
     "metadata": {},
     "output_type": "execute_result"
    }
   ],
   "source": [
    "ohe_train = OneHotEncoder(inputCols=[c+'_idx' for c in categorical_cols], \n",
    "                        outputCols=[c+'_ohe' for c in categorical_cols])\n",
    "\n",
    "train_data = ohe_train.fit(train_data).transform(train_data)\n",
    "# train_data.toPandas().head()\n",
    "test_data.show(5) \n",
    "test_data.schema"
   ]
  },
  {
   "cell_type": "code",
   "execution_count": 26,
   "id": "ce8618b3",
   "metadata": {},
   "outputs": [
    {
     "name": "stdout",
     "output_type": "stream",
     "text": [
      "+---------+--------+------------------+-----------+--------------+----------+----------+-------------+------------------+---------------+-------------------+-------------------+\n",
      "|longitude|latitude|housing_median_age|total_rooms|total_bedrooms|population|households|median_income|median_house_value|ocean_proximity|ocean_proximity_idx|ocean_proximity_ohe|\n",
      "+---------+--------+------------------+-----------+--------------+----------+----------+-------------+------------------+---------------+-------------------+-------------------+\n",
      "|   -124.3|   41.84|              17.0|     2677.0|         531.0|    1244.0|     456.0|       3.0313|          103600.0|     NEAR OCEAN|                2.0|      (3,[2],[1.0])|\n",
      "|  -124.23|   40.81|              52.0|     1112.0|         209.0|     544.0|     172.0|       3.3462|           50800.0|     NEAR OCEAN|                2.0|      (3,[2],[1.0])|\n",
      "|  -124.21|   40.75|              32.0|     1218.0|         331.0|     620.0|     268.0|       1.6528|           58100.0|     NEAR OCEAN|                2.0|      (3,[2],[1.0])|\n",
      "|  -124.21|   41.77|              17.0|     3461.0|         722.0|    1947.0|     647.0|       2.5795|           68400.0|     NEAR OCEAN|                2.0|      (3,[2],[1.0])|\n",
      "|  -124.18|   40.78|              33.0|     1076.0|         222.0|     656.0|     236.0|       2.5096|           72200.0|     NEAR OCEAN|                2.0|      (3,[2],[1.0])|\n",
      "+---------+--------+------------------+-----------+--------------+----------+----------+-------------+------------------+---------------+-------------------+-------------------+\n",
      "only showing top 5 rows\n",
      "\n"
     ]
    },
    {
     "data": {
      "text/plain": [
       "StructType(List(StructField(longitude,DoubleType,true),StructField(latitude,DoubleType,true),StructField(housing_median_age,DoubleType,true),StructField(total_rooms,DoubleType,true),StructField(total_bedrooms,DoubleType,false),StructField(population,DoubleType,true),StructField(households,DoubleType,true),StructField(median_income,DoubleType,true),StructField(median_house_value,DoubleType,true),StructField(ocean_proximity,StringType,true),StructField(ocean_proximity_idx,DoubleType,false),StructField(ocean_proximity_ohe,VectorUDT,true)))"
      ]
     },
     "execution_count": 26,
     "metadata": {},
     "output_type": "execute_result"
    }
   ],
   "source": [
    "ohe_test = OneHotEncoder(inputCols=[c+'_idx' for c in categorical_cols],\n",
    "                        outputCols=[c+'_ohe' for c in categorical_cols])\n",
    "\n",
    "test_data = ohe_test.fit(test_data).transform(test_data)\n",
    "#test_data.toPandas().head()\n",
    "test_data.show(5)\n",
    "test_data.schema"
   ]
  },
  {
   "cell_type": "code",
   "execution_count": 27,
   "id": "33a0c97a",
   "metadata": {},
   "outputs": [],
   "source": [
    "categorical_assembler_train = \\\n",
    "VectorAssembler(inputCols=[c+'_ohe' for c in categorical_cols],\n",
    "               outputCol='categorical_features')\n",
    "train_data=categorical_assembler_train.transform(train_data)"
   ]
  },
  {
   "cell_type": "code",
   "execution_count": 28,
   "id": "18d114a6",
   "metadata": {},
   "outputs": [],
   "source": [
    "categorical_assembler_test = \\\n",
    "VectorAssembler(inputCols=[c+'_ohe' for c in categorical_cols],\n",
    "               outputCol='categorical_features')\n",
    "test_data=categorical_assembler_test.transform(test_data)"
   ]
  },
  {
   "cell_type": "code",
   "execution_count": 29,
   "id": "d7ae6321",
   "metadata": {},
   "outputs": [
    {
     "name": "stderr",
     "output_type": "stream",
     "text": [
      "                                                                                \r"
     ]
    }
   ],
   "source": [
    "numerical_assembler_train = VectorAssembler(inputCols=numerical_cols, outputCol=\"numerical_features\")\n",
    "train_data = numerical_assembler_train.transform(train_data)\n",
    "standardScaler_train = StandardScaler(inputCol='numerical_features',outputCol=\"numerical_features_scaled\")\n",
    "train_data = standardScaler_train.fit(train_data).transform(train_data) "
   ]
  },
  {
   "cell_type": "code",
   "execution_count": 30,
   "id": "a817ef3d",
   "metadata": {},
   "outputs": [],
   "source": [
    "numerical_assembler_test = VectorAssembler(inputCols=numerical_cols, outputCol=\"numerical_features\")\n",
    "test_data = numerical_assembler_test.transform(test_data)\n",
    "standardScaler_test = StandardScaler(inputCol='numerical_features',outputCol=\"numerical_features_scaled\")\n",
    "test_data = standardScaler_test.fit(test_data).transform(test_data) "
   ]
  },
  {
   "cell_type": "code",
   "execution_count": 31,
   "id": "098794d0",
   "metadata": {},
   "outputs": [],
   "source": [
    "all_features_train = ['categorical_features', 'numerical_features_scaled']\n",
    "\n",
    "final_assembler_train = VectorAssembler(inputCols=all_features_train, outputCol='features')\n",
    "train_data = final_assembler_train.transform(train_data)"
   ]
  },
  {
   "cell_type": "code",
   "execution_count": 32,
   "id": "643cd882",
   "metadata": {},
   "outputs": [],
   "source": [
    "all_features_test = ['categorical_features', 'numerical_features_scaled']\n",
    "\n",
    "final_assembler_test = VectorAssembler(inputCols=all_features_test, outputCol='features')\n",
    "test_data = final_assembler_test.transform(test_data)"
   ]
  },
  {
   "cell_type": "code",
   "execution_count": 33,
   "id": "c2e34476",
   "metadata": {},
   "outputs": [
    {
     "name": "stdout",
     "output_type": "stream",
     "text": [
      "+--------------------+-------------------------+\n",
      "|categorical_features|numerical_features_scaled|\n",
      "+--------------------+-------------------------+\n",
      "|       [0.0,0.0,1.0]|     [-61.952887791441...|\n",
      "|       [0.0,0.0,1.0]|     [-61.927977100733...|\n",
      "|       [0.0,0.0,1.0]|     [-61.913030686308...|\n",
      "+--------------------+-------------------------+\n",
      "only showing top 3 rows\n",
      "\n"
     ]
    }
   ],
   "source": [
    "train_data.select(all_features_train).show(3)"
   ]
  },
  {
   "cell_type": "code",
   "execution_count": 34,
   "id": "be45f03d",
   "metadata": {},
   "outputs": [
    {
     "name": "stdout",
     "output_type": "stream",
     "text": [
      "+--------------------+-------------------------+\n",
      "|categorical_features|numerical_features_scaled|\n",
      "+--------------------+-------------------------+\n",
      "|       [0.0,0.0,1.0]|     [-62.454275773333...|\n",
      "|       [0.0,0.0,1.0]|     [-62.419104419318...|\n",
      "|       [0.0,0.0,1.0]|     [-62.409055461027...|\n",
      "+--------------------+-------------------------+\n",
      "only showing top 3 rows\n",
      "\n"
     ]
    }
   ],
   "source": [
    "test_data.select(all_features_test).show(3)"
   ]
  },
  {
   "cell_type": "markdown",
   "id": "8a94d830",
   "metadata": {},
   "source": [
    "Первая модель линейной регрессии будет использовать все данные."
   ]
  },
  {
   "cell_type": "code",
   "execution_count": 35,
   "id": "1afc53c6",
   "metadata": {},
   "outputs": [],
   "source": [
    "lr_1 = LinearRegression(labelCol=target, featuresCol = 'features', regParam=0.0)"
   ]
  },
  {
   "cell_type": "code",
   "execution_count": 36,
   "id": "6653318b",
   "metadata": {
    "scrolled": true
   },
   "outputs": [
    {
     "name": "stderr",
     "output_type": "stream",
     "text": [
      "22/12/27 20:12:28 WARN Instrumentation: [c094c34d] regParam is zero, which might cause numerical instability and overfitting.\n",
      "22/12/27 20:12:29 WARN BLAS: Failed to load implementation from: com.github.fommil.netlib.NativeSystemBLAS\n",
      "22/12/27 20:12:29 WARN BLAS: Failed to load implementation from: com.github.fommil.netlib.NativeRefBLAS\n",
      "22/12/27 20:12:29 WARN LAPACK: Failed to load implementation from: com.github.fommil.netlib.NativeSystemLAPACK\n",
      "22/12/27 20:12:29 WARN LAPACK: Failed to load implementation from: com.github.fommil.netlib.NativeRefLAPACK\n",
      "                                                                                \r"
     ]
    }
   ],
   "source": [
    "model = lr_1.fit(train_data)"
   ]
  },
  {
   "cell_type": "markdown",
   "id": "d3337ccc",
   "metadata": {},
   "source": [
    "Сохраним трансформационную таблицу с колонкой предсказания первой модели в переменной `predictions`."
   ]
  },
  {
   "cell_type": "code",
   "execution_count": 37,
   "id": "3000ad7f",
   "metadata": {},
   "outputs": [],
   "source": [
    "predictions = model.transform(test_data)"
   ]
  },
  {
   "cell_type": "code",
   "execution_count": 38,
   "id": "311b2aab",
   "metadata": {},
   "outputs": [],
   "source": [
    "predictions_col = 'prediction'"
   ]
  },
  {
   "cell_type": "markdown",
   "id": "38d1a5c2",
   "metadata": {},
   "source": [
    "Теперь построим вторую модель исключив категориальные данные и используя только чичловые данные."
   ]
  },
  {
   "cell_type": "code",
   "execution_count": 39,
   "id": "910ca86e",
   "metadata": {},
   "outputs": [],
   "source": [
    "lr_2 = LinearRegression(labelCol=target, featuresCol='numerical_features_scaled', regParam=0.0)"
   ]
  },
  {
   "cell_type": "code",
   "execution_count": 40,
   "id": "8a8391ea",
   "metadata": {
    "scrolled": true
   },
   "outputs": [
    {
     "name": "stderr",
     "output_type": "stream",
     "text": [
      "22/12/27 20:12:32 WARN Instrumentation: [3826657a] regParam is zero, which might cause numerical instability and overfitting.\n"
     ]
    }
   ],
   "source": [
    "model_2 = lr_2.fit(train_data)"
   ]
  },
  {
   "cell_type": "code",
   "execution_count": 41,
   "id": "2e8f15f5",
   "metadata": {},
   "outputs": [],
   "source": [
    "predictions_2 = model_2.transform(test_data)"
   ]
  },
  {
   "cell_type": "markdown",
   "id": "757fd103",
   "metadata": {
    "id": "757fd103"
   },
   "source": [
    "## Анализ результатов"
   ]
  },
  {
   "cell_type": "markdown",
   "id": "2e328622",
   "metadata": {},
   "source": [
    "Создадим объект класса `RegressionEvaluator`."
   ]
  },
  {
   "cell_type": "code",
   "execution_count": 42,
   "id": "07754950",
   "metadata": {},
   "outputs": [],
   "source": [
    "evaluator = RegressionEvaluator(predictionCol=predictions_col, labelCol = target)"
   ]
  },
  {
   "cell_type": "markdown",
   "id": "4036c642",
   "metadata": {},
   "source": [
    "Сравним результы работы линейной регрессии на двух наборах данных по нижеперечисленным метрикам:"
   ]
  },
  {
   "cell_type": "markdown",
   "id": "1e1fd454",
   "metadata": {},
   "source": [
    "**RMSE** "
   ]
  },
  {
   "cell_type": "markdown",
   "id": "8079db4a",
   "metadata": {},
   "source": [
    "В результате вычисления MSE (среднеквадратического отклоаения), мы получим число, единица измерения которого — квадрат исходной единицы измерения (например, «квадратные рубли»). Чтобы получить метрику качества в исходных единицах измерения, берут корень от среднеквадратичной ошибки — RMSE (root mean squared error). Чем меньше среднеквадратичное отклонение, тем лучше модель\n",
    "регрессии."
   ]
  },
  {
   "cell_type": "markdown",
   "id": "f3a29868",
   "metadata": {},
   "source": [
    "Для первой модели учитываются все признаки"
   ]
  },
  {
   "cell_type": "code",
   "execution_count": 43,
   "id": "7cd62ac1",
   "metadata": {
    "scrolled": true
   },
   "outputs": [
    {
     "data": {
      "text/plain": [
       "70817.73155473004"
      ]
     },
     "execution_count": 43,
     "metadata": {},
     "output_type": "execute_result"
    }
   ],
   "source": [
    "evaluator.evaluate(predictions, {evaluator.metricName: 'rmse'})"
   ]
  },
  {
   "cell_type": "markdown",
   "id": "60795b0c",
   "metadata": {},
   "source": [
    "Для второй модели учитывается только количественные признаки"
   ]
  },
  {
   "cell_type": "code",
   "execution_count": 44,
   "id": "c7109692",
   "metadata": {},
   "outputs": [
    {
     "data": {
      "text/plain": [
       "76682.78889978507"
      ]
     },
     "execution_count": 44,
     "metadata": {},
     "output_type": "execute_result"
    }
   ],
   "source": [
    "evaluator.evaluate(predictions_2, {evaluator.metricName: 'rmse'})"
   ]
  },
  {
   "cell_type": "markdown",
   "id": "81e5b118",
   "metadata": {},
   "source": [
    "Согласно RMSE первая модель работает точнее."
   ]
  },
  {
   "cell_type": "markdown",
   "id": "49907f01",
   "metadata": {},
   "source": [
    "**MAE**"
   ]
  },
  {
   "cell_type": "markdown",
   "id": "e87e3ce7",
   "metadata": {},
   "source": [
    "Метрика, которая сообщает нам среднюю абсолютную разницу между прогнозируемыми значениями и фактическими значениями в наборе данных. Чем ниже MAE, тем лучше модель соответствует набору данных."
   ]
  },
  {
   "cell_type": "markdown",
   "id": "82cc6a76",
   "metadata": {},
   "source": [
    "Для первой модели учитываются все признаки"
   ]
  },
  {
   "cell_type": "code",
   "execution_count": 45,
   "id": "3d00bfcc",
   "metadata": {},
   "outputs": [
    {
     "data": {
      "text/plain": [
       "54983.47532843328"
      ]
     },
     "execution_count": 45,
     "metadata": {},
     "output_type": "execute_result"
    }
   ],
   "source": [
    "evaluator.evaluate(predictions, {evaluator.metricName: 'mae'})"
   ]
  },
  {
   "cell_type": "markdown",
   "id": "e5717ceb",
   "metadata": {},
   "source": [
    "Для второй модели учитывается только количественные признаки"
   ]
  },
  {
   "cell_type": "code",
   "execution_count": 46,
   "id": "6a5af945",
   "metadata": {},
   "outputs": [
    {
     "data": {
      "text/plain": [
       "62392.8157185057"
      ]
     },
     "execution_count": 46,
     "metadata": {},
     "output_type": "execute_result"
    }
   ],
   "source": [
    "evaluator.evaluate(predictions_2, {evaluator.metricName: 'mae'})"
   ]
  },
  {
   "cell_type": "markdown",
   "id": "c9eb1d8e",
   "metadata": {},
   "source": [
    "Согласно MAE - первая модель работает точнее."
   ]
  },
  {
   "cell_type": "markdown",
   "id": "5ff64740",
   "metadata": {},
   "source": [
    "**R2**"
   ]
  },
  {
   "cell_type": "markdown",
   "id": "eb09f319",
   "metadata": {},
   "source": [
    "Коэффициент детерминации, или метрика R2, вычисляет долю среднеквадратичной ошибки модели от MSE среднего, а затем вычитает эту величину из единицы. Увеличение метрики означает прирост качества модели."
   ]
  },
  {
   "cell_type": "markdown",
   "id": "6f742aad",
   "metadata": {},
   "source": [
    "Для первой модели учитываются все признаки"
   ]
  },
  {
   "cell_type": "code",
   "execution_count": 47,
   "id": "be9fa683",
   "metadata": {},
   "outputs": [
    {
     "data": {
      "text/plain": [
       "0.6288949168810403"
      ]
     },
     "execution_count": 47,
     "metadata": {},
     "output_type": "execute_result"
    }
   ],
   "source": [
    "evaluator.evaluate(predictions, {evaluator.metricName: 'r2'})"
   ]
  },
  {
   "cell_type": "markdown",
   "id": "8bd53e09",
   "metadata": {},
   "source": [
    "Для второй модели учитывается только количественные признаки"
   ]
  },
  {
   "cell_type": "code",
   "execution_count": 48,
   "id": "f460f31e",
   "metadata": {},
   "outputs": [
    {
     "data": {
      "text/plain": [
       "0.5648803670145031"
      ]
     },
     "execution_count": 48,
     "metadata": {},
     "output_type": "execute_result"
    }
   ],
   "source": [
    "evaluator.evaluate(predictions_2, {evaluator.metricName: 'r2'})"
   ]
  },
  {
   "cell_type": "code",
   "execution_count": 49,
   "id": "165ec8c3",
   "metadata": {},
   "outputs": [],
   "source": [
    "spark.stop()"
   ]
  },
  {
   "cell_type": "markdown",
   "id": "0972b417",
   "metadata": {},
   "source": [
    "Согласно R2 - первая модель работает точнее."
   ]
  },
  {
   "cell_type": "markdown",
   "id": "58cbec80",
   "metadata": {},
   "source": [
    "## **Выводы:**"
   ]
  },
  {
   "cell_type": "markdown",
   "id": "6eed40d3",
   "metadata": {},
   "source": [
    "В рамках работы над проектом сделаны следующие действия:\n",
    "\n",
    "* Инициализирована локальная Spark-сессия;\n",
    "* Исследованы данные на наличие пропусков. Пропуски были удалены в связи с их небольшой численностью;\n",
    "* Преобразована колонка с категориальными значениями техникой One hot encoding;\n",
    "* Построены две модели линейной регрессии на разных наборах данных;\n",
    "* Были сравнены результаты работы линейной регрессии на двух наборах данных по метрикам RMSE, MAE и R2. "
   ]
  },
  {
   "cell_type": "markdown",
   "id": "344c8c06",
   "metadata": {},
   "source": [
    "Построив две модели линейной регрессии на разных наборах данных (используя все данные и только числовые, исключив при этом категориальные), мы выяснили, что все три метрики, а именно RMSE, MAE и R2 указывают на то, что лучше работает первая модель, которая содерджит в себе все признаки."
   ]
  }
 ],
 "metadata": {
  "ExecuteTimeLog": [
   {
    "duration": 84,
    "start_time": "2022-12-24T18:25:24.356Z"
   },
   {
    "duration": 368,
    "start_time": "2022-12-24T18:26:15.484Z"
   },
   {
    "duration": 880,
    "start_time": "2022-12-24T18:26:42.571Z"
   },
   {
    "duration": 14905,
    "start_time": "2022-12-24T18:27:29.076Z"
   },
   {
    "duration": 5,
    "start_time": "2022-12-24T18:29:03.292Z"
   },
   {
    "duration": 43,
    "start_time": "2022-12-24T18:31:41.499Z"
   },
   {
    "duration": 42,
    "start_time": "2022-12-24T18:33:24.501Z"
   },
   {
    "duration": 8337,
    "start_time": "2022-12-24T18:33:33.933Z"
   },
   {
    "duration": 787,
    "start_time": "2022-12-24T18:34:13.767Z"
   },
   {
    "duration": 46,
    "start_time": "2022-12-24T18:34:23.478Z"
   },
   {
    "duration": 720,
    "start_time": "2022-12-24T18:34:32.722Z"
   },
   {
    "duration": 4,
    "start_time": "2022-12-24T18:34:34.076Z"
   },
   {
    "duration": 45,
    "start_time": "2022-12-24T18:36:40.292Z"
   },
   {
    "duration": 4107,
    "start_time": "2022-12-24T18:37:18.255Z"
   },
   {
    "duration": 1679,
    "start_time": "2022-12-24T18:37:24.288Z"
   },
   {
    "duration": 70,
    "start_time": "2022-12-24T19:36:48.445Z"
   },
   {
    "duration": 3,
    "start_time": "2022-12-24T19:36:58.347Z"
   },
   {
    "duration": 10,
    "start_time": "2022-12-24T19:36:59.041Z"
   },
   {
    "duration": 4207,
    "start_time": "2022-12-24T19:37:10.744Z"
   },
   {
    "duration": 3184,
    "start_time": "2022-12-24T19:37:35.015Z"
   },
   {
    "duration": 17,
    "start_time": "2022-12-24T19:39:05.859Z"
   },
   {
    "duration": 50,
    "start_time": "2022-12-24T19:40:13.310Z"
   },
   {
    "duration": 17,
    "start_time": "2022-12-24T19:40:18.593Z"
   },
   {
    "duration": 3729,
    "start_time": "2022-12-24T19:40:21.547Z"
   },
   {
    "duration": 5,
    "start_time": "2022-12-24T19:44:51.460Z"
   },
   {
    "duration": 47,
    "start_time": "2022-12-24T19:57:35.230Z"
   },
   {
    "duration": 57,
    "start_time": "2022-12-24T19:57:55.352Z"
   },
   {
    "duration": 68,
    "start_time": "2022-12-24T20:00:13.227Z"
   },
   {
    "duration": 60,
    "start_time": "2022-12-24T20:00:38.285Z"
   },
   {
    "duration": 10,
    "start_time": "2022-12-24T20:00:46.288Z"
   },
   {
    "duration": 13,
    "start_time": "2022-12-24T20:01:18.468Z"
   },
   {
    "duration": 11,
    "start_time": "2022-12-24T20:01:34.660Z"
   },
   {
    "duration": 14,
    "start_time": "2022-12-24T20:01:41.979Z"
   },
   {
    "duration": 10,
    "start_time": "2022-12-24T20:02:07.152Z"
   },
   {
    "duration": 2,
    "start_time": "2022-12-24T20:02:10.429Z"
   },
   {
    "duration": 3,
    "start_time": "2022-12-24T20:02:11.752Z"
   },
   {
    "duration": 1382,
    "start_time": "2022-12-24T20:02:12.872Z"
   },
   {
    "duration": 47,
    "start_time": "2022-12-24T20:06:30.030Z"
   },
   {
    "duration": 47,
    "start_time": "2022-12-24T20:07:04.190Z"
   },
   {
    "duration": 59,
    "start_time": "2022-12-24T20:07:20.824Z"
   },
   {
    "duration": 2101,
    "start_time": "2022-12-24T20:07:34.958Z"
   },
   {
    "duration": 12,
    "start_time": "2022-12-24T20:10:39.147Z"
   },
   {
    "duration": 10,
    "start_time": "2022-12-24T20:10:53.837Z"
   },
   {
    "duration": 39,
    "start_time": "2022-12-24T20:11:06.129Z"
   },
   {
    "duration": 14,
    "start_time": "2022-12-24T20:17:08.605Z"
   },
   {
    "duration": 99,
    "start_time": "2022-12-24T20:17:21.584Z"
   },
   {
    "duration": 110,
    "start_time": "2022-12-24T20:17:58.893Z"
   },
   {
    "duration": 91,
    "start_time": "2022-12-24T20:18:30.646Z"
   },
   {
    "duration": 80,
    "start_time": "2022-12-24T20:19:23.057Z"
   },
   {
    "duration": 570,
    "start_time": "2022-12-24T20:19:32.229Z"
   },
   {
    "duration": 830,
    "start_time": "2022-12-24T20:19:32.801Z"
   },
   {
    "duration": 14834,
    "start_time": "2022-12-24T20:19:33.633Z"
   },
   {
    "duration": 8788,
    "start_time": "2022-12-24T20:19:48.470Z"
   },
   {
    "duration": 87,
    "start_time": "2022-12-24T20:19:57.261Z"
   },
   {
    "duration": 100,
    "start_time": "2022-12-24T20:19:57.350Z"
   },
   {
    "duration": 5315,
    "start_time": "2022-12-24T20:19:57.452Z"
   },
   {
    "duration": 2,
    "start_time": "2022-12-24T20:20:02.769Z"
   },
   {
    "duration": 4773,
    "start_time": "2022-12-24T20:20:02.773Z"
   },
   {
    "duration": 84,
    "start_time": "2022-12-24T20:20:07.551Z"
   },
   {
    "duration": 4104,
    "start_time": "2022-12-24T20:20:07.637Z"
   },
   {
    "duration": 4,
    "start_time": "2022-12-24T20:20:11.742Z"
   },
   {
    "duration": 1712,
    "start_time": "2022-12-24T20:20:11.747Z"
   },
   {
    "duration": 2549,
    "start_time": "2022-12-24T20:20:13.461Z"
   },
   {
    "duration": 68,
    "start_time": "2022-12-24T20:20:16.012Z"
   },
   {
    "duration": 269,
    "start_time": "2022-12-24T20:20:16.082Z"
   },
   {
    "duration": 0,
    "start_time": "2022-12-24T20:20:16.354Z"
   },
   {
    "duration": 453,
    "start_time": "2022-12-24T20:24:34.541Z"
   },
   {
    "duration": 873,
    "start_time": "2022-12-24T20:24:34.996Z"
   },
   {
    "duration": 15296,
    "start_time": "2022-12-24T20:24:35.871Z"
   },
   {
    "duration": 8396,
    "start_time": "2022-12-24T20:24:51.170Z"
   },
   {
    "duration": 79,
    "start_time": "2022-12-24T20:24:59.568Z"
   },
   {
    "duration": 92,
    "start_time": "2022-12-24T20:24:59.649Z"
   },
   {
    "duration": 4603,
    "start_time": "2022-12-24T20:24:59.743Z"
   },
   {
    "duration": 3,
    "start_time": "2022-12-24T20:25:04.349Z"
   },
   {
    "duration": 4898,
    "start_time": "2022-12-24T20:25:04.353Z"
   },
   {
    "duration": 83,
    "start_time": "2022-12-24T20:25:09.254Z"
   },
   {
    "duration": 5313,
    "start_time": "2022-12-24T20:25:09.339Z"
   },
   {
    "duration": 4,
    "start_time": "2022-12-24T20:25:14.654Z"
   },
   {
    "duration": 1600,
    "start_time": "2022-12-24T20:25:14.659Z"
   },
   {
    "duration": 2655,
    "start_time": "2022-12-24T20:25:16.262Z"
   },
   {
    "duration": 57,
    "start_time": "2022-12-24T20:25:18.918Z"
   },
   {
    "duration": 2,
    "start_time": "2022-12-24T20:25:18.977Z"
   },
   {
    "duration": 304,
    "start_time": "2022-12-24T20:25:18.981Z"
   },
   {
    "duration": 465,
    "start_time": "2022-12-24T20:28:40.540Z"
   },
   {
    "duration": 846,
    "start_time": "2022-12-24T20:28:41.007Z"
   },
   {
    "duration": 16123,
    "start_time": "2022-12-24T20:28:41.854Z"
   },
   {
    "duration": 9994,
    "start_time": "2022-12-24T20:28:57.981Z"
   },
   {
    "duration": 23,
    "start_time": "2022-12-24T20:29:08.038Z"
   },
   {
    "duration": 109,
    "start_time": "2022-12-24T20:29:08.063Z"
   },
   {
    "duration": 5173,
    "start_time": "2022-12-24T20:29:08.174Z"
   },
   {
    "duration": 3,
    "start_time": "2022-12-24T20:29:13.349Z"
   },
   {
    "duration": 5081,
    "start_time": "2022-12-24T20:29:13.354Z"
   },
   {
    "duration": 46,
    "start_time": "2022-12-24T20:29:18.438Z"
   },
   {
    "duration": 5454,
    "start_time": "2022-12-24T20:29:18.486Z"
   },
   {
    "duration": 8,
    "start_time": "2022-12-24T20:29:23.943Z"
   },
   {
    "duration": 1477,
    "start_time": "2022-12-24T20:29:23.967Z"
   },
   {
    "duration": 3491,
    "start_time": "2022-12-24T20:29:25.448Z"
   },
   {
    "duration": 105,
    "start_time": "2022-12-24T20:29:28.941Z"
   },
   {
    "duration": 2,
    "start_time": "2022-12-24T20:29:29.048Z"
   },
   {
    "duration": 1325,
    "start_time": "2022-12-24T20:29:29.053Z"
   },
   {
    "duration": 182,
    "start_time": "2022-12-24T20:30:00.717Z"
   },
   {
    "duration": 12,
    "start_time": "2022-12-24T20:34:37.301Z"
   },
   {
    "duration": 31,
    "start_time": "2022-12-24T20:34:53.030Z"
   },
   {
    "duration": 382,
    "start_time": "2022-12-24T20:34:54.459Z"
   },
   {
    "duration": 3378,
    "start_time": "2022-12-24T20:39:19.460Z"
   },
   {
    "duration": 38,
    "start_time": "2022-12-24T20:41:51.679Z"
   },
   {
    "duration": 4285,
    "start_time": "2022-12-24T20:42:24.368Z"
   },
   {
    "duration": 453,
    "start_time": "2022-12-24T20:42:36.843Z"
   },
   {
    "duration": 816,
    "start_time": "2022-12-24T20:42:37.297Z"
   },
   {
    "duration": 15258,
    "start_time": "2022-12-24T20:42:38.115Z"
   },
   {
    "duration": 8961,
    "start_time": "2022-12-24T20:42:53.376Z"
   },
   {
    "duration": 16,
    "start_time": "2022-12-24T20:43:02.339Z"
   },
   {
    "duration": 106,
    "start_time": "2022-12-24T20:43:02.357Z"
   },
   {
    "duration": 4404,
    "start_time": "2022-12-24T20:43:02.465Z"
   },
   {
    "duration": 3,
    "start_time": "2022-12-24T20:43:06.870Z"
   },
   {
    "duration": 4374,
    "start_time": "2022-12-24T20:43:06.874Z"
   },
   {
    "duration": 91,
    "start_time": "2022-12-24T20:43:11.251Z"
   },
   {
    "duration": 4592,
    "start_time": "2022-12-24T20:43:11.344Z"
   },
   {
    "duration": 8,
    "start_time": "2022-12-24T20:43:15.938Z"
   },
   {
    "duration": 1492,
    "start_time": "2022-12-24T20:43:15.948Z"
   },
   {
    "duration": 2704,
    "start_time": "2022-12-24T20:43:17.442Z"
   },
   {
    "duration": 109,
    "start_time": "2022-12-24T20:43:20.149Z"
   },
   {
    "duration": 1292,
    "start_time": "2022-12-24T20:43:20.260Z"
   },
   {
    "duration": 82,
    "start_time": "2022-12-24T20:43:21.554Z"
   },
   {
    "duration": 411,
    "start_time": "2022-12-24T20:43:21.638Z"
   },
   {
    "duration": 2994,
    "start_time": "2022-12-24T20:43:22.051Z"
   },
   {
    "duration": 94,
    "start_time": "2022-12-24T20:43:25.047Z"
   },
   {
    "duration": 4015,
    "start_time": "2022-12-24T20:43:25.143Z"
   },
   {
    "duration": 28,
    "start_time": "2022-12-24T20:46:36.686Z"
   },
   {
    "duration": 3,
    "start_time": "2022-12-24T20:47:00.875Z"
   },
   {
    "duration": 45,
    "start_time": "2022-12-24T20:50:59.119Z"
   },
   {
    "duration": 7,
    "start_time": "2022-12-24T20:51:23.061Z"
   },
   {
    "duration": 100,
    "start_time": "2022-12-24T20:52:41.550Z"
   },
   {
    "duration": 3159,
    "start_time": "2022-12-24T20:52:46.781Z"
   },
   {
    "duration": 22,
    "start_time": "2022-12-24T20:53:35.447Z"
   },
   {
    "duration": 11,
    "start_time": "2022-12-24T20:54:58.869Z"
   },
   {
    "duration": 9,
    "start_time": "2022-12-24T20:55:08.845Z"
   },
   {
    "duration": 11,
    "start_time": "2022-12-24T20:55:16.820Z"
   },
   {
    "duration": 9,
    "start_time": "2022-12-24T20:55:24.876Z"
   },
   {
    "duration": 10,
    "start_time": "2022-12-24T21:00:24.348Z"
   },
   {
    "duration": 8,
    "start_time": "2022-12-24T21:00:55.818Z"
   },
   {
    "duration": 9,
    "start_time": "2022-12-24T21:00:57.387Z"
   },
   {
    "duration": 26,
    "start_time": "2022-12-24T21:01:23.187Z"
   },
   {
    "duration": 2,
    "start_time": "2022-12-24T21:01:23.876Z"
   },
   {
    "duration": 8,
    "start_time": "2022-12-24T21:01:26.059Z"
   },
   {
    "duration": 1908,
    "start_time": "2022-12-24T21:01:26.735Z"
   },
   {
    "duration": 24,
    "start_time": "2022-12-24T21:01:28.645Z"
   },
   {
    "duration": 7,
    "start_time": "2022-12-24T21:01:29.183Z"
   },
   {
    "duration": 9,
    "start_time": "2022-12-24T21:01:30.945Z"
   },
   {
    "duration": 808,
    "start_time": "2022-12-24T21:01:34.933Z"
   },
   {
    "duration": 597,
    "start_time": "2022-12-24T21:02:16.638Z"
   },
   {
    "duration": 454,
    "start_time": "2022-12-24T21:02:29.638Z"
   },
   {
    "duration": 880,
    "start_time": "2022-12-24T21:02:30.094Z"
   },
   {
    "duration": 15159,
    "start_time": "2022-12-24T21:02:30.976Z"
   },
   {
    "duration": 8626,
    "start_time": "2022-12-24T21:02:46.139Z"
   },
   {
    "duration": 82,
    "start_time": "2022-12-24T21:02:54.767Z"
   },
   {
    "duration": 96,
    "start_time": "2022-12-24T21:02:54.850Z"
   },
   {
    "duration": 4342,
    "start_time": "2022-12-24T21:02:54.948Z"
   },
   {
    "duration": 3,
    "start_time": "2022-12-24T21:02:59.335Z"
   },
   {
    "duration": 4407,
    "start_time": "2022-12-24T21:02:59.339Z"
   },
   {
    "duration": 20,
    "start_time": "2022-12-24T21:03:03.750Z"
   },
   {
    "duration": 4513,
    "start_time": "2022-12-24T21:03:03.836Z"
   },
   {
    "duration": 3,
    "start_time": "2022-12-24T21:03:08.351Z"
   },
   {
    "duration": 1482,
    "start_time": "2022-12-24T21:03:08.356Z"
   },
   {
    "duration": 2179,
    "start_time": "2022-12-24T21:03:09.840Z"
   },
   {
    "duration": 53,
    "start_time": "2022-12-24T21:03:12.021Z"
   },
   {
    "duration": 1092,
    "start_time": "2022-12-24T21:03:12.076Z"
   },
   {
    "duration": 24,
    "start_time": "2022-12-24T21:03:13.234Z"
   },
   {
    "duration": 386,
    "start_time": "2022-12-24T21:03:13.260Z"
   },
   {
    "duration": 2816,
    "start_time": "2022-12-24T21:03:13.649Z"
   },
   {
    "duration": 98,
    "start_time": "2022-12-24T21:03:16.467Z"
   },
   {
    "duration": 3776,
    "start_time": "2022-12-24T21:03:16.567Z"
   },
   {
    "duration": 20,
    "start_time": "2022-12-24T21:03:20.345Z"
   },
   {
    "duration": 70,
    "start_time": "2022-12-24T21:03:20.367Z"
   },
   {
    "duration": 16,
    "start_time": "2022-12-24T21:03:20.438Z"
   },
   {
    "duration": 2822,
    "start_time": "2022-12-24T21:03:20.455Z"
   },
   {
    "duration": 28,
    "start_time": "2022-12-24T21:03:23.337Z"
   },
   {
    "duration": 8,
    "start_time": "2022-12-24T21:03:23.367Z"
   },
   {
    "duration": 870,
    "start_time": "2022-12-24T21:03:23.378Z"
   },
   {
    "duration": 594,
    "start_time": "2022-12-24T21:03:24.250Z"
   },
   {
    "duration": 26,
    "start_time": "2022-12-24T21:04:21.500Z"
   },
   {
    "duration": 9,
    "start_time": "2022-12-24T21:04:23.633Z"
   },
   {
    "duration": 582,
    "start_time": "2022-12-24T21:04:25.791Z"
   },
   {
    "duration": 875,
    "start_time": "2022-12-24T21:04:27.777Z"
   },
   {
    "duration": 607,
    "start_time": "2022-12-24T21:06:35.035Z"
   },
   {
    "duration": 695,
    "start_time": "2022-12-24T21:06:36.484Z"
   },
   {
    "duration": 607,
    "start_time": "2022-12-24T21:11:30.756Z"
   },
   {
    "duration": 592,
    "start_time": "2022-12-24T21:11:32.857Z"
   },
   {
    "duration": 408,
    "start_time": "2022-12-24T21:55:03.973Z"
   },
   {
    "duration": 788,
    "start_time": "2022-12-24T21:55:04.383Z"
   },
   {
    "duration": 15387,
    "start_time": "2022-12-24T21:55:05.173Z"
   },
   {
    "duration": 8897,
    "start_time": "2022-12-24T21:55:20.562Z"
   },
   {
    "duration": 79,
    "start_time": "2022-12-24T21:55:29.461Z"
   },
   {
    "duration": 32,
    "start_time": "2022-12-24T21:55:29.542Z"
   },
   {
    "duration": 4490,
    "start_time": "2022-12-24T21:55:29.576Z"
   },
   {
    "duration": 2,
    "start_time": "2022-12-24T21:55:34.068Z"
   },
   {
    "duration": 4767,
    "start_time": "2022-12-24T21:55:34.072Z"
   },
   {
    "duration": 20,
    "start_time": "2022-12-24T21:55:38.841Z"
   },
   {
    "duration": 4397,
    "start_time": "2022-12-24T21:55:38.863Z"
   },
   {
    "duration": 7,
    "start_time": "2022-12-24T21:55:43.262Z"
   },
   {
    "duration": 1387,
    "start_time": "2022-12-24T21:55:43.271Z"
   },
   {
    "duration": 2534,
    "start_time": "2022-12-24T21:55:44.661Z"
   },
   {
    "duration": 59,
    "start_time": "2022-12-24T21:55:47.197Z"
   },
   {
    "duration": 1185,
    "start_time": "2022-12-24T21:55:47.259Z"
   },
   {
    "duration": 22,
    "start_time": "2022-12-24T21:55:48.446Z"
   },
   {
    "duration": 329,
    "start_time": "2022-12-24T21:55:48.536Z"
   },
   {
    "duration": 2872,
    "start_time": "2022-12-24T21:55:48.866Z"
   },
   {
    "duration": 100,
    "start_time": "2022-12-24T21:55:51.740Z"
   },
   {
    "duration": 4140,
    "start_time": "2022-12-24T21:55:51.841Z"
   },
   {
    "duration": 74,
    "start_time": "2022-12-24T21:55:55.982Z"
   },
   {
    "duration": 2,
    "start_time": "2022-12-24T21:55:56.059Z"
   },
   {
    "duration": 76,
    "start_time": "2022-12-24T21:55:56.063Z"
   },
   {
    "duration": 2726,
    "start_time": "2022-12-24T21:55:56.141Z"
   },
   {
    "duration": 79,
    "start_time": "2022-12-24T21:55:58.869Z"
   },
   {
    "duration": 9,
    "start_time": "2022-12-24T21:55:58.950Z"
   },
   {
    "duration": 956,
    "start_time": "2022-12-24T21:55:58.961Z"
   },
   {
    "duration": 874,
    "start_time": "2022-12-24T21:55:59.919Z"
   },
   {
    "duration": 749,
    "start_time": "2022-12-24T21:56:00.795Z"
   },
   {
    "duration": 593,
    "start_time": "2022-12-24T21:56:01.546Z"
   },
   {
    "duration": 616,
    "start_time": "2022-12-24T21:56:02.141Z"
   },
   {
    "duration": 604,
    "start_time": "2022-12-24T21:56:02.759Z"
   },
   {
    "duration": 484,
    "start_time": "2022-12-26T08:47:05.679Z"
   },
   {
    "duration": 1117,
    "start_time": "2022-12-26T08:47:06.165Z"
   },
   {
    "duration": 26371,
    "start_time": "2022-12-26T08:47:07.284Z"
   },
   {
    "duration": 11220,
    "start_time": "2022-12-26T08:47:33.658Z"
   },
   {
    "duration": 16,
    "start_time": "2022-12-26T08:47:44.880Z"
   },
   {
    "duration": 41,
    "start_time": "2022-12-26T08:47:44.897Z"
   },
   {
    "duration": 4801,
    "start_time": "2022-12-26T08:47:44.978Z"
   },
   {
    "duration": 2,
    "start_time": "2022-12-26T08:47:49.781Z"
   },
   {
    "duration": 4594,
    "start_time": "2022-12-26T08:47:49.785Z"
   },
   {
    "duration": 29,
    "start_time": "2022-12-26T08:47:54.382Z"
   },
   {
    "duration": 4664,
    "start_time": "2022-12-26T08:47:54.479Z"
   },
   {
    "duration": 3,
    "start_time": "2022-12-26T08:47:59.145Z"
   },
   {
    "duration": 1829,
    "start_time": "2022-12-26T08:47:59.149Z"
   },
   {
    "duration": 2368,
    "start_time": "2022-12-26T08:48:00.980Z"
   },
   {
    "duration": 73,
    "start_time": "2022-12-26T08:48:03.349Z"
   },
   {
    "duration": 1168,
    "start_time": "2022-12-26T08:48:03.424Z"
   },
   {
    "duration": 88,
    "start_time": "2022-12-26T08:48:04.594Z"
   },
   {
    "duration": 364,
    "start_time": "2022-12-26T08:48:04.684Z"
   },
   {
    "duration": 3936,
    "start_time": "2022-12-26T08:48:05.051Z"
   },
   {
    "duration": 224,
    "start_time": "2022-12-26T08:48:08.989Z"
   },
   {
    "duration": 4663,
    "start_time": "2022-12-26T08:48:09.215Z"
   },
   {
    "duration": 24,
    "start_time": "2022-12-26T08:48:13.880Z"
   },
   {
    "duration": 4,
    "start_time": "2022-12-26T08:48:13.906Z"
   },
   {
    "duration": 9,
    "start_time": "2022-12-26T08:48:13.978Z"
   },
   {
    "duration": 2704,
    "start_time": "2022-12-26T08:48:13.989Z"
   },
   {
    "duration": 97,
    "start_time": "2022-12-26T08:48:16.695Z"
   },
   {
    "duration": 19,
    "start_time": "2022-12-26T08:48:16.794Z"
   },
   {
    "duration": 1184,
    "start_time": "2022-12-26T08:48:16.817Z"
   },
   {
    "duration": 899,
    "start_time": "2022-12-26T08:48:18.003Z"
   },
   {
    "duration": 919,
    "start_time": "2022-12-26T08:48:18.904Z"
   },
   {
    "duration": 617,
    "start_time": "2022-12-26T08:48:19.825Z"
   },
   {
    "duration": 635,
    "start_time": "2022-12-26T08:48:20.444Z"
   },
   {
    "duration": 646,
    "start_time": "2022-12-26T08:48:21.081Z"
   },
   {
    "duration": 259,
    "start_time": "2022-12-26T08:48:21.729Z"
   },
   {
    "duration": 417,
    "start_time": "2022-12-26T08:54:25.315Z"
   },
   {
    "duration": 837,
    "start_time": "2022-12-26T08:54:25.734Z"
   },
   {
    "duration": 16040,
    "start_time": "2022-12-26T08:54:26.573Z"
   },
   {
    "duration": 9766,
    "start_time": "2022-12-26T08:54:42.616Z"
   },
   {
    "duration": 24,
    "start_time": "2022-12-26T08:54:52.385Z"
   },
   {
    "duration": 115,
    "start_time": "2022-12-26T08:54:52.411Z"
   },
   {
    "duration": 4808,
    "start_time": "2022-12-26T08:54:52.578Z"
   },
   {
    "duration": 3,
    "start_time": "2022-12-26T08:54:57.387Z"
   },
   {
    "duration": 5029,
    "start_time": "2022-12-26T08:54:57.392Z"
   },
   {
    "duration": 3,
    "start_time": "2022-12-26T08:55:02.477Z"
   },
   {
    "duration": 714,
    "start_time": "2022-12-26T08:55:02.482Z"
   },
   {
    "duration": 205,
    "start_time": "2022-12-26T08:55:03.198Z"
   },
   {
    "duration": 0,
    "start_time": "2022-12-26T08:55:03.405Z"
   },
   {
    "duration": 0,
    "start_time": "2022-12-26T08:55:03.408Z"
   },
   {
    "duration": 0,
    "start_time": "2022-12-26T08:55:03.409Z"
   },
   {
    "duration": 0,
    "start_time": "2022-12-26T08:55:03.411Z"
   },
   {
    "duration": 0,
    "start_time": "2022-12-26T08:55:03.412Z"
   },
   {
    "duration": 0,
    "start_time": "2022-12-26T08:55:03.413Z"
   },
   {
    "duration": 0,
    "start_time": "2022-12-26T08:55:03.414Z"
   },
   {
    "duration": 0,
    "start_time": "2022-12-26T08:55:03.415Z"
   },
   {
    "duration": 0,
    "start_time": "2022-12-26T08:55:03.416Z"
   },
   {
    "duration": 0,
    "start_time": "2022-12-26T08:55:03.417Z"
   },
   {
    "duration": 0,
    "start_time": "2022-12-26T08:55:03.418Z"
   },
   {
    "duration": 0,
    "start_time": "2022-12-26T08:55:03.419Z"
   },
   {
    "duration": 0,
    "start_time": "2022-12-26T08:55:03.420Z"
   },
   {
    "duration": 0,
    "start_time": "2022-12-26T08:55:03.422Z"
   },
   {
    "duration": 0,
    "start_time": "2022-12-26T08:55:03.423Z"
   },
   {
    "duration": 0,
    "start_time": "2022-12-26T08:55:03.424Z"
   },
   {
    "duration": 0,
    "start_time": "2022-12-26T08:55:03.425Z"
   },
   {
    "duration": 1,
    "start_time": "2022-12-26T08:55:03.426Z"
   },
   {
    "duration": 0,
    "start_time": "2022-12-26T08:55:03.428Z"
   },
   {
    "duration": 0,
    "start_time": "2022-12-26T08:55:03.429Z"
   },
   {
    "duration": 0,
    "start_time": "2022-12-26T08:55:03.430Z"
   },
   {
    "duration": 0,
    "start_time": "2022-12-26T08:55:03.431Z"
   },
   {
    "duration": 0,
    "start_time": "2022-12-26T08:55:03.479Z"
   },
   {
    "duration": 10,
    "start_time": "2022-12-26T08:56:03.097Z"
   },
   {
    "duration": 13,
    "start_time": "2022-12-26T08:59:59.976Z"
   },
   {
    "duration": 12,
    "start_time": "2022-12-26T09:01:02.528Z"
   },
   {
    "duration": 474,
    "start_time": "2022-12-26T09:01:17.845Z"
   },
   {
    "duration": 896,
    "start_time": "2022-12-26T09:01:18.322Z"
   },
   {
    "duration": 15891,
    "start_time": "2022-12-26T09:01:19.220Z"
   },
   {
    "duration": 10680,
    "start_time": "2022-12-26T09:01:35.114Z"
   },
   {
    "duration": 83,
    "start_time": "2022-12-26T09:01:45.797Z"
   },
   {
    "duration": 111,
    "start_time": "2022-12-26T09:01:45.883Z"
   },
   {
    "duration": 5811,
    "start_time": "2022-12-26T09:01:45.996Z"
   },
   {
    "duration": 2,
    "start_time": "2022-12-26T09:01:51.809Z"
   },
   {
    "duration": 5591,
    "start_time": "2022-12-26T09:01:51.813Z"
   },
   {
    "duration": 3,
    "start_time": "2022-12-26T09:01:57.408Z"
   },
   {
    "duration": 712,
    "start_time": "2022-12-26T09:01:57.413Z"
   },
   {
    "duration": 3373,
    "start_time": "2022-12-26T09:01:58.126Z"
   },
   {
    "duration": 3,
    "start_time": "2022-12-26T09:02:01.501Z"
   },
   {
    "duration": 1502,
    "start_time": "2022-12-26T09:02:01.506Z"
   },
   {
    "duration": 2523,
    "start_time": "2022-12-26T09:02:03.010Z"
   },
   {
    "duration": 70,
    "start_time": "2022-12-26T09:02:05.535Z"
   },
   {
    "duration": 1125,
    "start_time": "2022-12-26T09:02:05.607Z"
   },
   {
    "duration": 0,
    "start_time": "2022-12-26T09:02:06.735Z"
   },
   {
    "duration": 0,
    "start_time": "2022-12-26T09:02:06.737Z"
   },
   {
    "duration": 0,
    "start_time": "2022-12-26T09:02:06.738Z"
   },
   {
    "duration": 0,
    "start_time": "2022-12-26T09:02:06.739Z"
   },
   {
    "duration": 0,
    "start_time": "2022-12-26T09:02:06.740Z"
   },
   {
    "duration": 0,
    "start_time": "2022-12-26T09:02:06.741Z"
   },
   {
    "duration": 0,
    "start_time": "2022-12-26T09:02:06.742Z"
   },
   {
    "duration": 0,
    "start_time": "2022-12-26T09:02:06.743Z"
   },
   {
    "duration": 0,
    "start_time": "2022-12-26T09:02:06.744Z"
   },
   {
    "duration": 0,
    "start_time": "2022-12-26T09:02:06.745Z"
   },
   {
    "duration": 0,
    "start_time": "2022-12-26T09:02:06.746Z"
   },
   {
    "duration": 0,
    "start_time": "2022-12-26T09:02:06.747Z"
   },
   {
    "duration": 0,
    "start_time": "2022-12-26T09:02:06.749Z"
   },
   {
    "duration": 0,
    "start_time": "2022-12-26T09:02:06.750Z"
   },
   {
    "duration": 0,
    "start_time": "2022-12-26T09:02:06.751Z"
   },
   {
    "duration": 0,
    "start_time": "2022-12-26T09:02:06.752Z"
   },
   {
    "duration": 0,
    "start_time": "2022-12-26T09:02:06.753Z"
   },
   {
    "duration": 0,
    "start_time": "2022-12-26T09:02:06.754Z"
   },
   {
    "duration": 447,
    "start_time": "2022-12-26T09:03:20.453Z"
   },
   {
    "duration": 818,
    "start_time": "2022-12-26T09:03:20.902Z"
   },
   {
    "duration": 16281,
    "start_time": "2022-12-26T09:03:21.721Z"
   },
   {
    "duration": 9700,
    "start_time": "2022-12-26T09:03:38.005Z"
   },
   {
    "duration": 73,
    "start_time": "2022-12-26T09:03:47.707Z"
   },
   {
    "duration": 102,
    "start_time": "2022-12-26T09:03:47.783Z"
   },
   {
    "duration": 5229,
    "start_time": "2022-12-26T09:03:47.887Z"
   },
   {
    "duration": 63,
    "start_time": "2022-12-26T09:03:53.118Z"
   },
   {
    "duration": 5518,
    "start_time": "2022-12-26T09:03:53.184Z"
   },
   {
    "duration": 3,
    "start_time": "2022-12-26T09:03:58.706Z"
   },
   {
    "duration": 794,
    "start_time": "2022-12-26T09:03:58.711Z"
   },
   {
    "duration": 187,
    "start_time": "2022-12-26T09:03:59.508Z"
   },
   {
    "duration": 0,
    "start_time": "2022-12-26T09:03:59.699Z"
   },
   {
    "duration": 0,
    "start_time": "2022-12-26T09:03:59.703Z"
   },
   {
    "duration": 0,
    "start_time": "2022-12-26T09:03:59.704Z"
   },
   {
    "duration": 0,
    "start_time": "2022-12-26T09:03:59.705Z"
   },
   {
    "duration": 0,
    "start_time": "2022-12-26T09:03:59.706Z"
   },
   {
    "duration": 0,
    "start_time": "2022-12-26T09:03:59.708Z"
   },
   {
    "duration": 0,
    "start_time": "2022-12-26T09:03:59.712Z"
   },
   {
    "duration": 0,
    "start_time": "2022-12-26T09:03:59.713Z"
   },
   {
    "duration": 0,
    "start_time": "2022-12-26T09:03:59.714Z"
   },
   {
    "duration": 0,
    "start_time": "2022-12-26T09:03:59.715Z"
   },
   {
    "duration": 0,
    "start_time": "2022-12-26T09:03:59.716Z"
   },
   {
    "duration": 0,
    "start_time": "2022-12-26T09:03:59.718Z"
   },
   {
    "duration": 0,
    "start_time": "2022-12-26T09:03:59.719Z"
   },
   {
    "duration": 0,
    "start_time": "2022-12-26T09:03:59.721Z"
   },
   {
    "duration": 0,
    "start_time": "2022-12-26T09:03:59.722Z"
   },
   {
    "duration": 0,
    "start_time": "2022-12-26T09:03:59.724Z"
   },
   {
    "duration": 0,
    "start_time": "2022-12-26T09:03:59.725Z"
   },
   {
    "duration": 0,
    "start_time": "2022-12-26T09:03:59.727Z"
   },
   {
    "duration": 0,
    "start_time": "2022-12-26T09:03:59.728Z"
   },
   {
    "duration": 0,
    "start_time": "2022-12-26T09:03:59.729Z"
   },
   {
    "duration": 0,
    "start_time": "2022-12-26T09:03:59.778Z"
   },
   {
    "duration": 0,
    "start_time": "2022-12-26T09:03:59.779Z"
   },
   {
    "duration": 0,
    "start_time": "2022-12-26T09:03:59.780Z"
   },
   {
    "duration": 0,
    "start_time": "2022-12-26T09:03:59.781Z"
   },
   {
    "duration": 42,
    "start_time": "2022-12-26T09:04:30.864Z"
   },
   {
    "duration": 3714,
    "start_time": "2022-12-26T09:04:33.912Z"
   },
   {
    "duration": 532,
    "start_time": "2022-12-26T10:01:25.877Z"
   },
   {
    "duration": 851,
    "start_time": "2022-12-26T10:01:26.411Z"
   },
   {
    "duration": 16859,
    "start_time": "2022-12-26T10:01:27.264Z"
   },
   {
    "duration": 10417,
    "start_time": "2022-12-26T10:01:44.177Z"
   },
   {
    "duration": 21,
    "start_time": "2022-12-26T10:01:54.596Z"
   },
   {
    "duration": 86,
    "start_time": "2022-12-26T10:01:54.619Z"
   },
   {
    "duration": 5473,
    "start_time": "2022-12-26T10:01:54.708Z"
   },
   {
    "duration": 3,
    "start_time": "2022-12-26T10:02:00.183Z"
   },
   {
    "duration": 5594,
    "start_time": "2022-12-26T10:02:00.188Z"
   },
   {
    "duration": 3,
    "start_time": "2022-12-26T10:02:05.786Z"
   },
   {
    "duration": 785,
    "start_time": "2022-12-26T10:02:05.792Z"
   },
   {
    "duration": 98,
    "start_time": "2022-12-26T10:02:06.580Z"
   },
   {
    "duration": 4061,
    "start_time": "2022-12-26T10:02:06.680Z"
   },
   {
    "duration": 35,
    "start_time": "2022-12-26T10:02:10.743Z"
   },
   {
    "duration": 9,
    "start_time": "2022-12-26T10:02:10.781Z"
   },
   {
    "duration": 280,
    "start_time": "2022-12-26T10:02:10.792Z"
   },
   {
    "duration": 0,
    "start_time": "2022-12-26T10:02:11.074Z"
   },
   {
    "duration": 0,
    "start_time": "2022-12-26T10:02:11.076Z"
   },
   {
    "duration": 0,
    "start_time": "2022-12-26T10:02:11.078Z"
   },
   {
    "duration": 0,
    "start_time": "2022-12-26T10:02:11.079Z"
   },
   {
    "duration": 0,
    "start_time": "2022-12-26T10:02:11.082Z"
   },
   {
    "duration": 0,
    "start_time": "2022-12-26T10:02:11.083Z"
   },
   {
    "duration": 0,
    "start_time": "2022-12-26T10:02:11.084Z"
   },
   {
    "duration": 0,
    "start_time": "2022-12-26T10:02:11.086Z"
   },
   {
    "duration": 0,
    "start_time": "2022-12-26T10:02:11.088Z"
   },
   {
    "duration": 0,
    "start_time": "2022-12-26T10:02:11.089Z"
   },
   {
    "duration": 0,
    "start_time": "2022-12-26T10:02:11.091Z"
   },
   {
    "duration": 0,
    "start_time": "2022-12-26T10:02:11.092Z"
   },
   {
    "duration": 0,
    "start_time": "2022-12-26T10:02:11.093Z"
   },
   {
    "duration": 0,
    "start_time": "2022-12-26T10:02:11.095Z"
   },
   {
    "duration": 0,
    "start_time": "2022-12-26T10:02:11.096Z"
   },
   {
    "duration": 0,
    "start_time": "2022-12-26T10:02:11.097Z"
   },
   {
    "duration": 0,
    "start_time": "2022-12-26T10:02:11.098Z"
   },
   {
    "duration": 0,
    "start_time": "2022-12-26T10:02:11.099Z"
   },
   {
    "duration": 0,
    "start_time": "2022-12-26T10:02:11.100Z"
   },
   {
    "duration": 0,
    "start_time": "2022-12-26T10:02:11.101Z"
   },
   {
    "duration": 0,
    "start_time": "2022-12-26T10:02:11.105Z"
   },
   {
    "duration": 438,
    "start_time": "2022-12-26T10:17:21.609Z"
   },
   {
    "duration": 851,
    "start_time": "2022-12-26T10:17:22.049Z"
   },
   {
    "duration": 16693,
    "start_time": "2022-12-26T10:17:22.902Z"
   },
   {
    "duration": 10017,
    "start_time": "2022-12-26T10:17:39.597Z"
   },
   {
    "duration": 78,
    "start_time": "2022-12-26T10:17:49.616Z"
   },
   {
    "duration": 90,
    "start_time": "2022-12-26T10:17:49.697Z"
   },
   {
    "duration": 5825,
    "start_time": "2022-12-26T10:17:49.789Z"
   },
   {
    "duration": 3,
    "start_time": "2022-12-26T10:17:55.616Z"
   },
   {
    "duration": 4879,
    "start_time": "2022-12-26T10:17:55.621Z"
   },
   {
    "duration": 3,
    "start_time": "2022-12-26T10:18:00.504Z"
   },
   {
    "duration": 881,
    "start_time": "2022-12-26T10:18:00.509Z"
   },
   {
    "duration": 109,
    "start_time": "2022-12-26T10:18:01.392Z"
   },
   {
    "duration": 3640,
    "start_time": "2022-12-26T10:18:01.504Z"
   },
   {
    "duration": 37,
    "start_time": "2022-12-26T10:18:05.146Z"
   },
   {
    "duration": 25,
    "start_time": "2022-12-26T10:18:05.187Z"
   },
   {
    "duration": 5,
    "start_time": "2022-12-26T10:18:05.215Z"
   },
   {
    "duration": 351,
    "start_time": "2022-12-26T10:18:05.222Z"
   },
   {
    "duration": 0,
    "start_time": "2022-12-26T10:18:05.577Z"
   },
   {
    "duration": 0,
    "start_time": "2022-12-26T10:18:05.579Z"
   },
   {
    "duration": 0,
    "start_time": "2022-12-26T10:18:05.579Z"
   },
   {
    "duration": 0,
    "start_time": "2022-12-26T10:18:05.583Z"
   },
   {
    "duration": 0,
    "start_time": "2022-12-26T10:18:05.585Z"
   },
   {
    "duration": 0,
    "start_time": "2022-12-26T10:18:05.586Z"
   },
   {
    "duration": 0,
    "start_time": "2022-12-26T10:18:05.595Z"
   },
   {
    "duration": 0,
    "start_time": "2022-12-26T10:18:05.599Z"
   },
   {
    "duration": 0,
    "start_time": "2022-12-26T10:18:05.600Z"
   },
   {
    "duration": 0,
    "start_time": "2022-12-26T10:18:05.601Z"
   },
   {
    "duration": 0,
    "start_time": "2022-12-26T10:18:05.602Z"
   },
   {
    "duration": 0,
    "start_time": "2022-12-26T10:18:05.603Z"
   },
   {
    "duration": 0,
    "start_time": "2022-12-26T10:18:05.607Z"
   },
   {
    "duration": 0,
    "start_time": "2022-12-26T10:18:05.611Z"
   },
   {
    "duration": 0,
    "start_time": "2022-12-26T10:18:05.612Z"
   },
   {
    "duration": 0,
    "start_time": "2022-12-26T10:18:05.614Z"
   },
   {
    "duration": 0,
    "start_time": "2022-12-26T10:18:05.616Z"
   },
   {
    "duration": 0,
    "start_time": "2022-12-26T10:18:05.617Z"
   },
   {
    "duration": 0,
    "start_time": "2022-12-26T10:18:05.619Z"
   },
   {
    "duration": 0,
    "start_time": "2022-12-26T10:18:05.621Z"
   },
   {
    "duration": 0,
    "start_time": "2022-12-26T10:18:05.625Z"
   },
   {
    "duration": 0,
    "start_time": "2022-12-26T10:18:05.626Z"
   },
   {
    "duration": 0,
    "start_time": "2022-12-26T10:18:05.627Z"
   },
   {
    "duration": 460,
    "start_time": "2022-12-26T10:19:56.599Z"
   },
   {
    "duration": 867,
    "start_time": "2022-12-26T10:19:57.061Z"
   },
   {
    "duration": 16971,
    "start_time": "2022-12-26T10:19:57.929Z"
   },
   {
    "duration": 10404,
    "start_time": "2022-12-26T10:20:14.903Z"
   },
   {
    "duration": 87,
    "start_time": "2022-12-26T10:20:25.310Z"
   },
   {
    "duration": 93,
    "start_time": "2022-12-26T10:20:25.400Z"
   },
   {
    "duration": 5411,
    "start_time": "2022-12-26T10:20:25.495Z"
   },
   {
    "duration": 3,
    "start_time": "2022-12-26T10:20:30.907Z"
   },
   {
    "duration": 5092,
    "start_time": "2022-12-26T10:20:30.912Z"
   },
   {
    "duration": 4,
    "start_time": "2022-12-26T10:20:36.008Z"
   },
   {
    "duration": 781,
    "start_time": "2022-12-26T10:20:36.014Z"
   },
   {
    "duration": 101,
    "start_time": "2022-12-26T10:20:36.797Z"
   },
   {
    "duration": 3443,
    "start_time": "2022-12-26T10:20:36.900Z"
   },
   {
    "duration": 4,
    "start_time": "2022-12-26T10:20:40.344Z"
   },
   {
    "duration": 34,
    "start_time": "2022-12-26T10:20:40.349Z"
   },
   {
    "duration": 279,
    "start_time": "2022-12-26T10:20:40.384Z"
   },
   {
    "duration": 0,
    "start_time": "2022-12-26T10:20:40.665Z"
   },
   {
    "duration": 0,
    "start_time": "2022-12-26T10:20:40.666Z"
   },
   {
    "duration": 0,
    "start_time": "2022-12-26T10:20:40.668Z"
   },
   {
    "duration": 0,
    "start_time": "2022-12-26T10:20:40.669Z"
   },
   {
    "duration": 0,
    "start_time": "2022-12-26T10:20:40.670Z"
   },
   {
    "duration": 0,
    "start_time": "2022-12-26T10:20:40.671Z"
   },
   {
    "duration": 0,
    "start_time": "2022-12-26T10:20:40.672Z"
   },
   {
    "duration": 0,
    "start_time": "2022-12-26T10:20:40.673Z"
   },
   {
    "duration": 0,
    "start_time": "2022-12-26T10:20:40.674Z"
   },
   {
    "duration": 0,
    "start_time": "2022-12-26T10:20:40.675Z"
   },
   {
    "duration": 0,
    "start_time": "2022-12-26T10:20:40.676Z"
   },
   {
    "duration": 0,
    "start_time": "2022-12-26T10:20:40.679Z"
   },
   {
    "duration": 0,
    "start_time": "2022-12-26T10:20:40.680Z"
   },
   {
    "duration": 0,
    "start_time": "2022-12-26T10:20:40.683Z"
   },
   {
    "duration": 0,
    "start_time": "2022-12-26T10:20:40.684Z"
   },
   {
    "duration": 0,
    "start_time": "2022-12-26T10:20:40.685Z"
   },
   {
    "duration": 0,
    "start_time": "2022-12-26T10:20:40.686Z"
   },
   {
    "duration": 0,
    "start_time": "2022-12-26T10:20:40.686Z"
   },
   {
    "duration": 0,
    "start_time": "2022-12-26T10:20:40.687Z"
   },
   {
    "duration": 0,
    "start_time": "2022-12-26T10:20:40.694Z"
   },
   {
    "duration": 0,
    "start_time": "2022-12-26T10:20:40.695Z"
   },
   {
    "duration": 0,
    "start_time": "2022-12-26T10:20:40.696Z"
   },
   {
    "duration": 0,
    "start_time": "2022-12-26T10:20:40.697Z"
   },
   {
    "duration": 0,
    "start_time": "2022-12-26T10:20:40.698Z"
   },
   {
    "duration": 493,
    "start_time": "2022-12-26T10:23:10.905Z"
   },
   {
    "duration": 895,
    "start_time": "2022-12-26T10:23:11.401Z"
   },
   {
    "duration": 17129,
    "start_time": "2022-12-26T10:23:12.298Z"
   },
   {
    "duration": 10573,
    "start_time": "2022-12-26T10:23:29.429Z"
   },
   {
    "duration": 75,
    "start_time": "2022-12-26T10:23:40.004Z"
   },
   {
    "duration": 99,
    "start_time": "2022-12-26T10:23:40.081Z"
   },
   {
    "duration": 5537,
    "start_time": "2022-12-26T10:23:40.182Z"
   },
   {
    "duration": 2,
    "start_time": "2022-12-26T10:23:45.721Z"
   },
   {
    "duration": 5107,
    "start_time": "2022-12-26T10:23:45.725Z"
   },
   {
    "duration": 47,
    "start_time": "2022-12-26T10:23:50.834Z"
   },
   {
    "duration": 730,
    "start_time": "2022-12-26T10:23:50.883Z"
   },
   {
    "duration": 95,
    "start_time": "2022-12-26T10:23:51.615Z"
   },
   {
    "duration": 3973,
    "start_time": "2022-12-26T10:23:51.712Z"
   },
   {
    "duration": 3,
    "start_time": "2022-12-26T10:23:55.696Z"
   },
   {
    "duration": 14,
    "start_time": "2022-12-26T10:23:55.700Z"
   },
   {
    "duration": 14,
    "start_time": "2022-12-26T10:23:55.716Z"
   },
   {
    "duration": 28,
    "start_time": "2022-12-26T10:23:55.731Z"
   },
   {
    "duration": 1948,
    "start_time": "2022-12-26T10:23:55.760Z"
   },
   {
    "duration": 261,
    "start_time": "2022-12-26T10:23:57.709Z"
   },
   {
    "duration": 0,
    "start_time": "2022-12-26T10:23:57.972Z"
   },
   {
    "duration": 0,
    "start_time": "2022-12-26T10:23:57.973Z"
   },
   {
    "duration": 0,
    "start_time": "2022-12-26T10:23:57.984Z"
   },
   {
    "duration": 0,
    "start_time": "2022-12-26T10:23:57.985Z"
   },
   {
    "duration": 0,
    "start_time": "2022-12-26T10:23:57.986Z"
   },
   {
    "duration": 0,
    "start_time": "2022-12-26T10:23:57.987Z"
   },
   {
    "duration": 0,
    "start_time": "2022-12-26T10:23:57.987Z"
   },
   {
    "duration": 0,
    "start_time": "2022-12-26T10:23:57.990Z"
   },
   {
    "duration": 0,
    "start_time": "2022-12-26T10:23:57.993Z"
   },
   {
    "duration": 0,
    "start_time": "2022-12-26T10:23:57.994Z"
   },
   {
    "duration": 0,
    "start_time": "2022-12-26T10:23:57.995Z"
   },
   {
    "duration": 0,
    "start_time": "2022-12-26T10:23:57.995Z"
   },
   {
    "duration": 0,
    "start_time": "2022-12-26T10:23:57.997Z"
   },
   {
    "duration": 0,
    "start_time": "2022-12-26T10:23:57.998Z"
   },
   {
    "duration": 0,
    "start_time": "2022-12-26T10:23:57.999Z"
   },
   {
    "duration": 0,
    "start_time": "2022-12-26T10:23:58.001Z"
   },
   {
    "duration": 0,
    "start_time": "2022-12-26T10:23:58.002Z"
   },
   {
    "duration": 0,
    "start_time": "2022-12-26T10:23:58.003Z"
   },
   {
    "duration": 0,
    "start_time": "2022-12-26T10:23:58.004Z"
   },
   {
    "duration": 0,
    "start_time": "2022-12-26T10:23:58.005Z"
   },
   {
    "duration": 0,
    "start_time": "2022-12-26T10:23:58.006Z"
   },
   {
    "duration": 0,
    "start_time": "2022-12-26T10:23:58.007Z"
   },
   {
    "duration": 0,
    "start_time": "2022-12-26T10:23:58.008Z"
   },
   {
    "duration": 457,
    "start_time": "2022-12-26T10:31:46.449Z"
   },
   {
    "duration": 862,
    "start_time": "2022-12-26T10:31:46.908Z"
   },
   {
    "duration": 16131,
    "start_time": "2022-12-26T10:31:47.772Z"
   },
   {
    "duration": 10200,
    "start_time": "2022-12-26T10:32:03.906Z"
   },
   {
    "duration": 78,
    "start_time": "2022-12-26T10:32:14.109Z"
   },
   {
    "duration": 97,
    "start_time": "2022-12-26T10:32:14.189Z"
   },
   {
    "duration": 5545,
    "start_time": "2022-12-26T10:32:14.288Z"
   },
   {
    "duration": 46,
    "start_time": "2022-12-26T10:32:19.834Z"
   },
   {
    "duration": 5109,
    "start_time": "2022-12-26T10:32:19.882Z"
   },
   {
    "duration": 4,
    "start_time": "2022-12-26T10:32:24.992Z"
   },
   {
    "duration": 729,
    "start_time": "2022-12-26T10:32:24.998Z"
   },
   {
    "duration": 99,
    "start_time": "2022-12-26T10:32:25.784Z"
   },
   {
    "duration": 3902,
    "start_time": "2022-12-26T10:32:25.889Z"
   },
   {
    "duration": 4,
    "start_time": "2022-12-26T10:32:29.796Z"
   },
   {
    "duration": 50,
    "start_time": "2022-12-26T10:32:29.802Z"
   },
   {
    "duration": 11,
    "start_time": "2022-12-26T10:32:29.854Z"
   },
   {
    "duration": 28,
    "start_time": "2022-12-26T10:32:29.867Z"
   },
   {
    "duration": 16,
    "start_time": "2022-12-26T10:32:29.897Z"
   },
   {
    "duration": 28,
    "start_time": "2022-12-26T10:32:29.915Z"
   },
   {
    "duration": 129,
    "start_time": "2022-12-26T10:32:29.946Z"
   },
   {
    "duration": 0,
    "start_time": "2022-12-26T10:32:30.077Z"
   },
   {
    "duration": 0,
    "start_time": "2022-12-26T10:32:30.079Z"
   },
   {
    "duration": 0,
    "start_time": "2022-12-26T10:32:30.080Z"
   },
   {
    "duration": 0,
    "start_time": "2022-12-26T10:32:30.081Z"
   },
   {
    "duration": 0,
    "start_time": "2022-12-26T10:32:30.082Z"
   },
   {
    "duration": 0,
    "start_time": "2022-12-26T10:32:30.084Z"
   },
   {
    "duration": 0,
    "start_time": "2022-12-26T10:32:30.085Z"
   },
   {
    "duration": 0,
    "start_time": "2022-12-26T10:32:30.086Z"
   },
   {
    "duration": 0,
    "start_time": "2022-12-26T10:32:30.087Z"
   },
   {
    "duration": 0,
    "start_time": "2022-12-26T10:32:30.088Z"
   },
   {
    "duration": 0,
    "start_time": "2022-12-26T10:32:30.090Z"
   },
   {
    "duration": 0,
    "start_time": "2022-12-26T10:32:30.091Z"
   },
   {
    "duration": 0,
    "start_time": "2022-12-26T10:32:30.093Z"
   },
   {
    "duration": 0,
    "start_time": "2022-12-26T10:32:30.095Z"
   },
   {
    "duration": 0,
    "start_time": "2022-12-26T10:32:30.096Z"
   },
   {
    "duration": 0,
    "start_time": "2022-12-26T10:32:30.098Z"
   },
   {
    "duration": 0,
    "start_time": "2022-12-26T10:32:30.100Z"
   },
   {
    "duration": 0,
    "start_time": "2022-12-26T10:32:30.102Z"
   },
   {
    "duration": 0,
    "start_time": "2022-12-26T10:32:30.103Z"
   },
   {
    "duration": 0,
    "start_time": "2022-12-26T10:32:30.104Z"
   },
   {
    "duration": 0,
    "start_time": "2022-12-26T10:32:30.106Z"
   },
   {
    "duration": 0,
    "start_time": "2022-12-26T10:32:30.107Z"
   },
   {
    "duration": 0,
    "start_time": "2022-12-26T10:32:30.109Z"
   },
   {
    "duration": 0,
    "start_time": "2022-12-26T10:32:30.110Z"
   },
   {
    "duration": 0,
    "start_time": "2022-12-26T10:32:30.112Z"
   },
   {
    "duration": 0,
    "start_time": "2022-12-26T10:32:30.117Z"
   },
   {
    "duration": 509,
    "start_time": "2022-12-26T10:33:55.363Z"
   },
   {
    "duration": 826,
    "start_time": "2022-12-26T10:33:55.875Z"
   },
   {
    "duration": 16199,
    "start_time": "2022-12-26T10:33:56.703Z"
   },
   {
    "duration": 9785,
    "start_time": "2022-12-26T10:34:12.903Z"
   },
   {
    "duration": 22,
    "start_time": "2022-12-26T10:34:22.692Z"
   },
   {
    "duration": 90,
    "start_time": "2022-12-26T10:34:22.716Z"
   },
   {
    "duration": 5090,
    "start_time": "2022-12-26T10:34:22.808Z"
   },
   {
    "duration": 4,
    "start_time": "2022-12-26T10:34:27.900Z"
   },
   {
    "duration": 5084,
    "start_time": "2022-12-26T10:34:27.906Z"
   },
   {
    "duration": 3,
    "start_time": "2022-12-26T10:34:32.993Z"
   },
   {
    "duration": 789,
    "start_time": "2022-12-26T10:34:32.997Z"
   },
   {
    "duration": 92,
    "start_time": "2022-12-26T10:34:33.789Z"
   },
   {
    "duration": 3448,
    "start_time": "2022-12-26T10:34:33.883Z"
   },
   {
    "duration": 3,
    "start_time": "2022-12-26T10:34:37.378Z"
   },
   {
    "duration": 65,
    "start_time": "2022-12-26T10:34:37.383Z"
   },
   {
    "duration": 15,
    "start_time": "2022-12-26T10:34:37.450Z"
   },
   {
    "duration": 37,
    "start_time": "2022-12-26T10:34:37.467Z"
   },
   {
    "duration": 14,
    "start_time": "2022-12-26T10:34:37.506Z"
   },
   {
    "duration": 21,
    "start_time": "2022-12-26T10:34:37.522Z"
   },
   {
    "duration": 17,
    "start_time": "2022-12-26T10:34:37.546Z"
   },
   {
    "duration": 1628,
    "start_time": "2022-12-26T10:34:37.565Z"
   },
   {
    "duration": 1620,
    "start_time": "2022-12-26T10:34:39.195Z"
   },
   {
    "duration": 948,
    "start_time": "2022-12-26T10:34:40.817Z"
   },
   {
    "duration": 1,
    "start_time": "2022-12-26T10:34:41.767Z"
   },
   {
    "duration": 0,
    "start_time": "2022-12-26T10:34:41.770Z"
   },
   {
    "duration": 0,
    "start_time": "2022-12-26T10:34:41.771Z"
   },
   {
    "duration": 0,
    "start_time": "2022-12-26T10:34:41.772Z"
   },
   {
    "duration": 0,
    "start_time": "2022-12-26T10:34:41.774Z"
   },
   {
    "duration": 0,
    "start_time": "2022-12-26T10:34:41.776Z"
   },
   {
    "duration": 0,
    "start_time": "2022-12-26T10:34:41.777Z"
   },
   {
    "duration": 0,
    "start_time": "2022-12-26T10:34:41.779Z"
   },
   {
    "duration": 0,
    "start_time": "2022-12-26T10:34:41.780Z"
   },
   {
    "duration": 0,
    "start_time": "2022-12-26T10:34:41.782Z"
   },
   {
    "duration": 0,
    "start_time": "2022-12-26T10:34:41.783Z"
   },
   {
    "duration": 0,
    "start_time": "2022-12-26T10:34:41.784Z"
   },
   {
    "duration": 0,
    "start_time": "2022-12-26T10:34:41.785Z"
   },
   {
    "duration": 0,
    "start_time": "2022-12-26T10:34:41.787Z"
   },
   {
    "duration": 0,
    "start_time": "2022-12-26T10:34:41.790Z"
   },
   {
    "duration": 0,
    "start_time": "2022-12-26T10:34:41.791Z"
   },
   {
    "duration": 0,
    "start_time": "2022-12-26T10:34:41.792Z"
   },
   {
    "duration": 0,
    "start_time": "2022-12-26T10:34:41.793Z"
   },
   {
    "duration": 0,
    "start_time": "2022-12-26T10:34:41.794Z"
   },
   {
    "duration": 0,
    "start_time": "2022-12-26T10:34:41.795Z"
   },
   {
    "duration": 0,
    "start_time": "2022-12-26T10:34:41.796Z"
   },
   {
    "duration": 0,
    "start_time": "2022-12-26T10:34:41.797Z"
   },
   {
    "duration": 0,
    "start_time": "2022-12-26T10:34:41.798Z"
   },
   {
    "duration": 0,
    "start_time": "2022-12-26T10:34:41.799Z"
   },
   {
    "duration": 0,
    "start_time": "2022-12-26T10:34:41.801Z"
   },
   {
    "duration": 663,
    "start_time": "2022-12-26T10:35:15.191Z"
   },
   {
    "duration": 785,
    "start_time": "2022-12-26T10:35:38.877Z"
   },
   {
    "duration": 508,
    "start_time": "2022-12-26T10:36:04.795Z"
   },
   {
    "duration": 2740,
    "start_time": "2022-12-26T10:36:07.566Z"
   },
   {
    "duration": 789,
    "start_time": "2022-12-26T10:36:11.860Z"
   },
   {
    "duration": 40,
    "start_time": "2022-12-26T10:36:15.509Z"
   },
   {
    "duration": 24,
    "start_time": "2022-12-26T10:36:16.758Z"
   },
   {
    "duration": 998,
    "start_time": "2022-12-26T10:36:18.524Z"
   },
   {
    "duration": 762,
    "start_time": "2022-12-26T10:36:21.021Z"
   },
   {
    "duration": 24,
    "start_time": "2022-12-26T10:36:23.098Z"
   },
   {
    "duration": 27,
    "start_time": "2022-12-26T10:36:24.060Z"
   },
   {
    "duration": 520,
    "start_time": "2022-12-26T10:36:25.662Z"
   },
   {
    "duration": 439,
    "start_time": "2022-12-26T10:36:27.755Z"
   },
   {
    "duration": 45,
    "start_time": "2022-12-26T10:36:32.565Z"
   },
   {
    "duration": 3715,
    "start_time": "2022-12-26T10:36:34.032Z"
   },
   {
    "duration": 37,
    "start_time": "2022-12-26T10:36:40.306Z"
   },
   {
    "duration": 3,
    "start_time": "2022-12-26T10:36:40.953Z"
   },
   {
    "duration": 10,
    "start_time": "2022-12-26T10:36:42.979Z"
   },
   {
    "duration": 2000,
    "start_time": "2022-12-26T10:36:43.509Z"
   },
   {
    "duration": 87,
    "start_time": "2022-12-26T10:36:45.513Z"
   },
   {
    "duration": 14,
    "start_time": "2022-12-26T10:36:50.022Z"
   },
   {
    "duration": 502,
    "start_time": "2022-12-26T10:36:57.845Z"
   },
   {
    "duration": 904,
    "start_time": "2022-12-26T10:36:58.351Z"
   },
   {
    "duration": 16967,
    "start_time": "2022-12-26T10:36:59.257Z"
   },
   {
    "duration": 10252,
    "start_time": "2022-12-26T10:37:16.226Z"
   },
   {
    "duration": 26,
    "start_time": "2022-12-26T10:37:26.481Z"
   },
   {
    "duration": 103,
    "start_time": "2022-12-26T10:37:26.510Z"
   },
   {
    "duration": 5481,
    "start_time": "2022-12-26T10:37:26.615Z"
   },
   {
    "duration": 3,
    "start_time": "2022-12-26T10:37:32.098Z"
   },
   {
    "duration": 5376,
    "start_time": "2022-12-26T10:37:32.104Z"
   },
   {
    "duration": 4,
    "start_time": "2022-12-26T10:37:37.484Z"
   },
   {
    "duration": 705,
    "start_time": "2022-12-26T10:37:37.490Z"
   },
   {
    "duration": 87,
    "start_time": "2022-12-26T10:37:38.197Z"
   },
   {
    "duration": 3433,
    "start_time": "2022-12-26T10:37:38.286Z"
   },
   {
    "duration": 4,
    "start_time": "2022-12-26T10:37:41.720Z"
   },
   {
    "duration": 9,
    "start_time": "2022-12-26T10:37:41.725Z"
   },
   {
    "duration": 13,
    "start_time": "2022-12-26T10:37:41.736Z"
   },
   {
    "duration": 28,
    "start_time": "2022-12-26T10:37:41.751Z"
   },
   {
    "duration": 19,
    "start_time": "2022-12-26T10:37:41.781Z"
   },
   {
    "duration": 22,
    "start_time": "2022-12-26T10:37:41.802Z"
   },
   {
    "duration": 22,
    "start_time": "2022-12-26T10:37:41.826Z"
   },
   {
    "duration": 1639,
    "start_time": "2022-12-26T10:37:41.850Z"
   },
   {
    "duration": 223,
    "start_time": "2022-12-26T10:37:43.491Z"
   },
   {
    "duration": 0,
    "start_time": "2022-12-26T10:37:43.717Z"
   },
   {
    "duration": 0,
    "start_time": "2022-12-26T10:37:43.718Z"
   },
   {
    "duration": 0,
    "start_time": "2022-12-26T10:37:43.718Z"
   },
   {
    "duration": 0,
    "start_time": "2022-12-26T10:37:43.720Z"
   },
   {
    "duration": 0,
    "start_time": "2022-12-26T10:37:43.721Z"
   },
   {
    "duration": 0,
    "start_time": "2022-12-26T10:37:43.722Z"
   },
   {
    "duration": 0,
    "start_time": "2022-12-26T10:37:43.724Z"
   },
   {
    "duration": 0,
    "start_time": "2022-12-26T10:37:43.725Z"
   },
   {
    "duration": 0,
    "start_time": "2022-12-26T10:37:43.725Z"
   },
   {
    "duration": 0,
    "start_time": "2022-12-26T10:37:43.726Z"
   },
   {
    "duration": 0,
    "start_time": "2022-12-26T10:37:43.727Z"
   },
   {
    "duration": 0,
    "start_time": "2022-12-26T10:37:43.728Z"
   },
   {
    "duration": 0,
    "start_time": "2022-12-26T10:37:43.729Z"
   },
   {
    "duration": 0,
    "start_time": "2022-12-26T10:37:43.733Z"
   },
   {
    "duration": 0,
    "start_time": "2022-12-26T10:37:43.734Z"
   },
   {
    "duration": 0,
    "start_time": "2022-12-26T10:37:43.736Z"
   },
   {
    "duration": 0,
    "start_time": "2022-12-26T10:37:43.737Z"
   },
   {
    "duration": 0,
    "start_time": "2022-12-26T10:37:43.778Z"
   },
   {
    "duration": 1,
    "start_time": "2022-12-26T10:37:43.778Z"
   },
   {
    "duration": 0,
    "start_time": "2022-12-26T10:37:43.780Z"
   },
   {
    "duration": 0,
    "start_time": "2022-12-26T10:37:43.781Z"
   },
   {
    "duration": 0,
    "start_time": "2022-12-26T10:37:43.782Z"
   },
   {
    "duration": 0,
    "start_time": "2022-12-26T10:37:43.783Z"
   },
   {
    "duration": 0,
    "start_time": "2022-12-26T10:37:43.784Z"
   },
   {
    "duration": 0,
    "start_time": "2022-12-26T10:37:43.785Z"
   },
   {
    "duration": 0,
    "start_time": "2022-12-26T10:37:43.786Z"
   },
   {
    "duration": 15,
    "start_time": "2022-12-26T10:38:25.681Z"
   },
   {
    "duration": 15,
    "start_time": "2022-12-26T10:38:28.586Z"
   },
   {
    "duration": 1618,
    "start_time": "2022-12-26T10:38:41.268Z"
   },
   {
    "duration": 593,
    "start_time": "2022-12-26T10:38:44.410Z"
   },
   {
    "duration": 458,
    "start_time": "2022-12-26T10:41:55.748Z"
   },
   {
    "duration": 832,
    "start_time": "2022-12-26T10:41:56.209Z"
   },
   {
    "duration": 16158,
    "start_time": "2022-12-26T10:41:57.043Z"
   },
   {
    "duration": 11079,
    "start_time": "2022-12-26T10:42:13.205Z"
   },
   {
    "duration": 18,
    "start_time": "2022-12-26T10:42:24.286Z"
   },
   {
    "duration": 172,
    "start_time": "2022-12-26T10:42:24.306Z"
   },
   {
    "duration": 5516,
    "start_time": "2022-12-26T10:42:24.481Z"
   },
   {
    "duration": 3,
    "start_time": "2022-12-26T10:42:30.000Z"
   },
   {
    "duration": 5676,
    "start_time": "2022-12-26T10:42:30.005Z"
   },
   {
    "duration": 3,
    "start_time": "2022-12-26T10:42:35.685Z"
   },
   {
    "duration": 817,
    "start_time": "2022-12-26T10:42:35.690Z"
   },
   {
    "duration": 98,
    "start_time": "2022-12-26T10:42:36.509Z"
   },
   {
    "duration": 3773,
    "start_time": "2022-12-26T10:42:36.609Z"
   },
   {
    "duration": 3,
    "start_time": "2022-12-26T10:42:40.384Z"
   },
   {
    "duration": 18,
    "start_time": "2022-12-26T10:42:40.389Z"
   },
   {
    "duration": 30,
    "start_time": "2022-12-26T10:42:40.409Z"
   },
   {
    "duration": 28,
    "start_time": "2022-12-26T10:42:40.441Z"
   },
   {
    "duration": 12,
    "start_time": "2022-12-26T10:42:40.477Z"
   },
   {
    "duration": 20,
    "start_time": "2022-12-26T10:42:40.492Z"
   },
   {
    "duration": 18,
    "start_time": "2022-12-26T10:42:40.514Z"
   },
   {
    "duration": 1743,
    "start_time": "2022-12-26T10:42:40.534Z"
   },
   {
    "duration": 1610,
    "start_time": "2022-12-26T10:42:42.280Z"
   },
   {
    "duration": 793,
    "start_time": "2022-12-26T10:42:43.892Z"
   },
   {
    "duration": 2333,
    "start_time": "2022-12-26T10:42:44.688Z"
   },
   {
    "duration": 769,
    "start_time": "2022-12-26T10:42:47.022Z"
   },
   {
    "duration": 88,
    "start_time": "2022-12-26T10:42:47.793Z"
   },
   {
    "duration": 33,
    "start_time": "2022-12-26T10:42:47.883Z"
   },
   {
    "duration": 1400,
    "start_time": "2022-12-26T10:42:47.980Z"
   },
   {
    "duration": 718,
    "start_time": "2022-12-26T10:42:49.382Z"
   },
   {
    "duration": 225,
    "start_time": "2022-12-26T10:42:50.102Z"
   },
   {
    "duration": 0,
    "start_time": "2022-12-26T10:42:50.329Z"
   },
   {
    "duration": 0,
    "start_time": "2022-12-26T10:42:50.331Z"
   },
   {
    "duration": 0,
    "start_time": "2022-12-26T10:42:50.332Z"
   },
   {
    "duration": 0,
    "start_time": "2022-12-26T10:42:50.334Z"
   },
   {
    "duration": 0,
    "start_time": "2022-12-26T10:42:50.336Z"
   },
   {
    "duration": 0,
    "start_time": "2022-12-26T10:42:50.337Z"
   },
   {
    "duration": 0,
    "start_time": "2022-12-26T10:42:50.339Z"
   },
   {
    "duration": 0,
    "start_time": "2022-12-26T10:42:50.340Z"
   },
   {
    "duration": 0,
    "start_time": "2022-12-26T10:42:50.341Z"
   },
   {
    "duration": 0,
    "start_time": "2022-12-26T10:42:50.342Z"
   },
   {
    "duration": 0,
    "start_time": "2022-12-26T10:42:50.343Z"
   },
   {
    "duration": 0,
    "start_time": "2022-12-26T10:42:50.344Z"
   },
   {
    "duration": 0,
    "start_time": "2022-12-26T10:42:50.346Z"
   },
   {
    "duration": 0,
    "start_time": "2022-12-26T10:42:50.347Z"
   },
   {
    "duration": 0,
    "start_time": "2022-12-26T10:42:50.378Z"
   },
   {
    "duration": 0,
    "start_time": "2022-12-26T10:42:50.379Z"
   },
   {
    "duration": 0,
    "start_time": "2022-12-26T10:42:50.381Z"
   },
   {
    "duration": 0,
    "start_time": "2022-12-26T10:42:50.382Z"
   },
   {
    "duration": 25,
    "start_time": "2022-12-26T10:43:11.413Z"
   },
   {
    "duration": 34,
    "start_time": "2022-12-26T10:43:12.830Z"
   },
   {
    "duration": 10,
    "start_time": "2022-12-26T10:43:15.693Z"
   },
   {
    "duration": 572,
    "start_time": "2022-12-26T10:43:42.541Z"
   },
   {
    "duration": 448,
    "start_time": "2022-12-26T10:43:44.331Z"
   },
   {
    "duration": 451,
    "start_time": "2022-12-26T10:44:03.613Z"
   },
   {
    "duration": 821,
    "start_time": "2022-12-26T10:44:04.066Z"
   },
   {
    "duration": 15833,
    "start_time": "2022-12-26T10:44:04.889Z"
   },
   {
    "duration": 9617,
    "start_time": "2022-12-26T10:44:20.779Z"
   },
   {
    "duration": 81,
    "start_time": "2022-12-26T10:44:30.398Z"
   },
   {
    "duration": 97,
    "start_time": "2022-12-26T10:44:30.481Z"
   },
   {
    "duration": 5010,
    "start_time": "2022-12-26T10:44:30.580Z"
   },
   {
    "duration": 4,
    "start_time": "2022-12-26T10:44:35.592Z"
   },
   {
    "duration": 5208,
    "start_time": "2022-12-26T10:44:35.597Z"
   },
   {
    "duration": 69,
    "start_time": "2022-12-26T10:44:40.809Z"
   },
   {
    "duration": 902,
    "start_time": "2022-12-26T10:44:40.880Z"
   },
   {
    "duration": 100,
    "start_time": "2022-12-26T10:44:41.784Z"
   },
   {
    "duration": 3225,
    "start_time": "2022-12-26T10:44:41.887Z"
   },
   {
    "duration": 3,
    "start_time": "2022-12-26T10:44:45.114Z"
   },
   {
    "duration": 36,
    "start_time": "2022-12-26T10:44:45.120Z"
   },
   {
    "duration": 9,
    "start_time": "2022-12-26T10:44:45.159Z"
   },
   {
    "duration": 7,
    "start_time": "2022-12-26T10:44:45.170Z"
   },
   {
    "duration": 6,
    "start_time": "2022-12-26T10:44:45.179Z"
   },
   {
    "duration": 30,
    "start_time": "2022-12-26T10:44:45.186Z"
   },
   {
    "duration": 6,
    "start_time": "2022-12-26T10:44:45.218Z"
   },
   {
    "duration": 1385,
    "start_time": "2022-12-26T10:44:45.226Z"
   },
   {
    "duration": 1794,
    "start_time": "2022-12-26T10:44:46.613Z"
   },
   {
    "duration": 678,
    "start_time": "2022-12-26T10:44:48.410Z"
   },
   {
    "duration": 2739,
    "start_time": "2022-12-26T10:44:49.090Z"
   },
   {
    "duration": 950,
    "start_time": "2022-12-26T10:44:51.831Z"
   },
   {
    "duration": 106,
    "start_time": "2022-12-26T10:44:52.784Z"
   },
   {
    "duration": 21,
    "start_time": "2022-12-26T10:44:52.892Z"
   },
   {
    "duration": 1329,
    "start_time": "2022-12-26T10:44:52.981Z"
   },
   {
    "duration": 966,
    "start_time": "2022-12-26T10:44:54.313Z"
   },
   {
    "duration": 25,
    "start_time": "2022-12-26T10:44:55.281Z"
   },
   {
    "duration": 88,
    "start_time": "2022-12-26T10:44:55.308Z"
   },
   {
    "duration": 582,
    "start_time": "2022-12-26T10:44:55.399Z"
   },
   {
    "duration": 508,
    "start_time": "2022-12-26T10:44:55.983Z"
   },
   {
    "duration": 85,
    "start_time": "2022-12-26T10:44:56.493Z"
   },
   {
    "duration": 3300,
    "start_time": "2022-12-26T10:44:56.579Z"
   },
   {
    "duration": 32,
    "start_time": "2022-12-26T10:44:59.881Z"
   },
   {
    "duration": 63,
    "start_time": "2022-12-26T10:44:59.915Z"
   },
   {
    "duration": 16,
    "start_time": "2022-12-26T10:44:59.981Z"
   },
   {
    "duration": 2213,
    "start_time": "2022-12-26T10:44:59.999Z"
   },
   {
    "duration": 86,
    "start_time": "2022-12-26T10:45:02.214Z"
   },
   {
    "duration": 14,
    "start_time": "2022-12-26T10:45:02.302Z"
   },
   {
    "duration": 938,
    "start_time": "2022-12-26T10:45:02.378Z"
   },
   {
    "duration": 0,
    "start_time": "2022-12-26T10:45:03.318Z"
   },
   {
    "duration": 0,
    "start_time": "2022-12-26T10:45:03.320Z"
   },
   {
    "duration": 0,
    "start_time": "2022-12-26T10:45:03.322Z"
   },
   {
    "duration": 0,
    "start_time": "2022-12-26T10:45:03.323Z"
   },
   {
    "duration": 0,
    "start_time": "2022-12-26T10:45:03.324Z"
   },
   {
    "duration": 0,
    "start_time": "2022-12-26T10:45:03.325Z"
   },
   {
    "duration": 434,
    "start_time": "2022-12-26T10:49:17.683Z"
   },
   {
    "duration": 876,
    "start_time": "2022-12-26T10:49:18.119Z"
   },
   {
    "duration": 16023,
    "start_time": "2022-12-26T10:49:18.997Z"
   },
   {
    "duration": 9209,
    "start_time": "2022-12-26T10:49:35.077Z"
   },
   {
    "duration": 16,
    "start_time": "2022-12-26T10:49:44.288Z"
   },
   {
    "duration": 98,
    "start_time": "2022-12-26T10:49:44.306Z"
   },
   {
    "duration": 4910,
    "start_time": "2022-12-26T10:49:44.405Z"
   },
   {
    "duration": 3,
    "start_time": "2022-12-26T10:49:49.379Z"
   },
   {
    "duration": 4807,
    "start_time": "2022-12-26T10:49:49.384Z"
   },
   {
    "duration": 3,
    "start_time": "2022-12-26T10:49:54.194Z"
   },
   {
    "duration": 699,
    "start_time": "2022-12-26T10:49:54.198Z"
   },
   {
    "duration": 100,
    "start_time": "2022-12-26T10:49:54.899Z"
   },
   {
    "duration": 3572,
    "start_time": "2022-12-26T10:49:55.002Z"
   },
   {
    "duration": 5,
    "start_time": "2022-12-26T10:49:58.576Z"
   },
   {
    "duration": 19,
    "start_time": "2022-12-26T10:49:58.583Z"
   },
   {
    "duration": 9,
    "start_time": "2022-12-26T10:49:58.605Z"
   },
   {
    "duration": 16,
    "start_time": "2022-12-26T10:49:58.617Z"
   },
   {
    "duration": 12,
    "start_time": "2022-12-26T10:49:58.635Z"
   },
   {
    "duration": 29,
    "start_time": "2022-12-26T10:49:58.648Z"
   },
   {
    "duration": 8,
    "start_time": "2022-12-26T10:49:58.680Z"
   },
   {
    "duration": 1892,
    "start_time": "2022-12-26T10:49:58.690Z"
   },
   {
    "duration": 1616,
    "start_time": "2022-12-26T10:50:00.584Z"
   },
   {
    "duration": 701,
    "start_time": "2022-12-26T10:50:02.202Z"
   },
   {
    "duration": 2620,
    "start_time": "2022-12-26T10:50:02.905Z"
   },
   {
    "duration": 806,
    "start_time": "2022-12-26T10:50:05.578Z"
   },
   {
    "duration": 42,
    "start_time": "2022-12-26T10:50:06.386Z"
   },
   {
    "duration": 71,
    "start_time": "2022-12-26T10:50:06.430Z"
   },
   {
    "duration": 1095,
    "start_time": "2022-12-26T10:50:06.506Z"
   },
   {
    "duration": 774,
    "start_time": "2022-12-26T10:50:07.603Z"
   },
   {
    "duration": 29,
    "start_time": "2022-12-26T10:50:08.380Z"
   },
   {
    "duration": 91,
    "start_time": "2022-12-26T10:50:08.411Z"
   },
   {
    "duration": 496,
    "start_time": "2022-12-26T10:50:08.505Z"
   },
   {
    "duration": 698,
    "start_time": "2022-12-26T10:50:09.003Z"
   },
   {
    "duration": 103,
    "start_time": "2022-12-26T10:50:09.703Z"
   },
   {
    "duration": 3102,
    "start_time": "2022-12-26T10:50:09.808Z"
   },
   {
    "duration": 88,
    "start_time": "2022-12-26T10:50:12.912Z"
   },
   {
    "duration": 3,
    "start_time": "2022-12-26T10:50:13.002Z"
   },
   {
    "duration": 76,
    "start_time": "2022-12-26T10:50:13.007Z"
   },
   {
    "duration": 2110,
    "start_time": "2022-12-26T10:50:13.086Z"
   },
   {
    "duration": 91,
    "start_time": "2022-12-26T10:50:15.198Z"
   },
   {
    "duration": 9,
    "start_time": "2022-12-26T10:50:15.291Z"
   },
   {
    "duration": 982,
    "start_time": "2022-12-26T10:50:15.302Z"
   },
   {
    "duration": 0,
    "start_time": "2022-12-26T10:50:16.287Z"
   },
   {
    "duration": 0,
    "start_time": "2022-12-26T10:50:16.291Z"
   },
   {
    "duration": 1,
    "start_time": "2022-12-26T10:50:16.292Z"
   },
   {
    "duration": 0,
    "start_time": "2022-12-26T10:50:16.294Z"
   },
   {
    "duration": 0,
    "start_time": "2022-12-26T10:50:16.295Z"
   },
   {
    "duration": 0,
    "start_time": "2022-12-26T10:50:16.296Z"
   },
   {
    "duration": 473,
    "start_time": "2022-12-26T10:50:20.123Z"
   },
   {
    "duration": 784,
    "start_time": "2022-12-26T10:50:31.794Z"
   },
   {
    "duration": 504,
    "start_time": "2022-12-26T10:50:50.676Z"
   },
   {
    "duration": 622,
    "start_time": "2022-12-26T10:50:55.455Z"
   },
   {
    "duration": 434,
    "start_time": "2022-12-26T10:51:00.066Z"
   },
   {
    "duration": 208,
    "start_time": "2022-12-26T10:51:01.187Z"
   },
   {
    "duration": 497,
    "start_time": "2022-12-26T20:10:17.462Z"
   },
   {
    "duration": 993,
    "start_time": "2022-12-26T20:10:17.961Z"
   },
   {
    "duration": 15852,
    "start_time": "2022-12-26T20:10:18.955Z"
   },
   {
    "duration": 10692,
    "start_time": "2022-12-26T20:10:34.811Z"
   },
   {
    "duration": 23,
    "start_time": "2022-12-26T20:10:45.505Z"
   },
   {
    "duration": 39,
    "start_time": "2022-12-26T20:10:45.597Z"
   },
   {
    "duration": 5255,
    "start_time": "2022-12-26T20:10:45.697Z"
   },
   {
    "duration": 42,
    "start_time": "2022-12-26T20:10:50.954Z"
   },
   {
    "duration": 5108,
    "start_time": "2022-12-26T20:10:50.999Z"
   },
   {
    "duration": 3,
    "start_time": "2022-12-26T20:10:56.109Z"
   },
   {
    "duration": 811,
    "start_time": "2022-12-26T20:10:56.114Z"
   },
   {
    "duration": 101,
    "start_time": "2022-12-26T20:10:56.928Z"
   },
   {
    "duration": 3637,
    "start_time": "2022-12-26T20:10:57.097Z"
   },
   {
    "duration": 4,
    "start_time": "2022-12-26T20:11:00.735Z"
   },
   {
    "duration": 60,
    "start_time": "2022-12-26T20:11:00.742Z"
   },
   {
    "duration": 30,
    "start_time": "2022-12-26T20:11:00.804Z"
   },
   {
    "duration": 27,
    "start_time": "2022-12-26T20:11:00.836Z"
   },
   {
    "duration": 31,
    "start_time": "2022-12-26T20:11:00.866Z"
   },
   {
    "duration": 28,
    "start_time": "2022-12-26T20:11:00.899Z"
   },
   {
    "duration": 32,
    "start_time": "2022-12-26T20:11:00.930Z"
   },
   {
    "duration": 1833,
    "start_time": "2022-12-26T20:11:00.964Z"
   },
   {
    "duration": 1806,
    "start_time": "2022-12-26T20:11:02.799Z"
   },
   {
    "duration": 214,
    "start_time": "2022-12-26T20:11:04.608Z"
   },
   {
    "duration": 0,
    "start_time": "2022-12-26T20:11:04.829Z"
   },
   {
    "duration": 0,
    "start_time": "2022-12-26T20:11:04.831Z"
   },
   {
    "duration": 0,
    "start_time": "2022-12-26T20:11:04.833Z"
   },
   {
    "duration": 0,
    "start_time": "2022-12-26T20:11:04.834Z"
   },
   {
    "duration": 0,
    "start_time": "2022-12-26T20:11:04.835Z"
   },
   {
    "duration": 0,
    "start_time": "2022-12-26T20:11:04.836Z"
   },
   {
    "duration": 0,
    "start_time": "2022-12-26T20:11:04.837Z"
   },
   {
    "duration": 0,
    "start_time": "2022-12-26T20:11:04.838Z"
   },
   {
    "duration": 0,
    "start_time": "2022-12-26T20:11:04.840Z"
   },
   {
    "duration": 0,
    "start_time": "2022-12-26T20:11:04.841Z"
   },
   {
    "duration": 0,
    "start_time": "2022-12-26T20:11:04.842Z"
   },
   {
    "duration": 0,
    "start_time": "2022-12-26T20:11:04.843Z"
   },
   {
    "duration": 0,
    "start_time": "2022-12-26T20:11:04.844Z"
   },
   {
    "duration": 1,
    "start_time": "2022-12-26T20:11:04.845Z"
   },
   {
    "duration": 0,
    "start_time": "2022-12-26T20:11:04.847Z"
   },
   {
    "duration": 0,
    "start_time": "2022-12-26T20:11:04.848Z"
   },
   {
    "duration": 0,
    "start_time": "2022-12-26T20:11:04.849Z"
   },
   {
    "duration": 0,
    "start_time": "2022-12-26T20:11:04.850Z"
   },
   {
    "duration": 0,
    "start_time": "2022-12-26T20:11:04.851Z"
   },
   {
    "duration": 0,
    "start_time": "2022-12-26T20:11:04.852Z"
   },
   {
    "duration": 0,
    "start_time": "2022-12-26T20:11:04.897Z"
   },
   {
    "duration": 0,
    "start_time": "2022-12-26T20:11:04.899Z"
   },
   {
    "duration": 0,
    "start_time": "2022-12-26T20:11:04.900Z"
   },
   {
    "duration": 0,
    "start_time": "2022-12-26T20:11:04.901Z"
   },
   {
    "duration": 0,
    "start_time": "2022-12-26T20:11:04.902Z"
   },
   {
    "duration": 17,
    "start_time": "2022-12-26T20:14:17.951Z"
   },
   {
    "duration": 13,
    "start_time": "2022-12-26T20:28:45.782Z"
   },
   {
    "duration": 55,
    "start_time": "2022-12-27T10:17:32.753Z"
   },
   {
    "duration": 456,
    "start_time": "2022-12-27T10:17:40.093Z"
   },
   {
    "duration": 1006,
    "start_time": "2022-12-27T10:17:40.551Z"
   },
   {
    "duration": 17849,
    "start_time": "2022-12-27T10:17:41.559Z"
   },
   {
    "duration": 10193,
    "start_time": "2022-12-27T10:17:59.411Z"
   },
   {
    "duration": 16,
    "start_time": "2022-12-27T10:18:09.605Z"
   },
   {
    "duration": 100,
    "start_time": "2022-12-27T10:18:09.622Z"
   },
   {
    "duration": 4944,
    "start_time": "2022-12-27T10:18:09.775Z"
   },
   {
    "duration": 6,
    "start_time": "2022-12-27T10:18:14.779Z"
   },
   {
    "duration": 4536,
    "start_time": "2022-12-27T10:18:14.787Z"
   },
   {
    "duration": 52,
    "start_time": "2022-12-27T10:18:19.327Z"
   },
   {
    "duration": 713,
    "start_time": "2022-12-27T10:18:19.383Z"
   },
   {
    "duration": 93,
    "start_time": "2022-12-27T10:18:20.098Z"
   },
   {
    "duration": 3504,
    "start_time": "2022-12-27T10:18:20.193Z"
   },
   {
    "duration": 3,
    "start_time": "2022-12-27T10:18:23.699Z"
   },
   {
    "duration": 20,
    "start_time": "2022-12-27T10:18:23.704Z"
   },
   {
    "duration": 5,
    "start_time": "2022-12-27T10:18:23.726Z"
   },
   {
    "duration": 3,
    "start_time": "2022-12-27T10:18:23.781Z"
   },
   {
    "duration": 9,
    "start_time": "2022-12-27T10:18:23.793Z"
   },
   {
    "duration": 8,
    "start_time": "2022-12-27T10:18:23.803Z"
   },
   {
    "duration": 8,
    "start_time": "2022-12-27T10:18:23.813Z"
   },
   {
    "duration": 1390,
    "start_time": "2022-12-27T10:18:23.822Z"
   },
   {
    "duration": 1575,
    "start_time": "2022-12-27T10:18:25.214Z"
   },
   {
    "duration": 217,
    "start_time": "2022-12-27T10:18:26.790Z"
   },
   {
    "duration": 0,
    "start_time": "2022-12-27T10:18:27.013Z"
   },
   {
    "duration": 0,
    "start_time": "2022-12-27T10:18:27.014Z"
   },
   {
    "duration": 0,
    "start_time": "2022-12-27T10:18:27.015Z"
   },
   {
    "duration": 0,
    "start_time": "2022-12-27T10:18:27.017Z"
   },
   {
    "duration": 0,
    "start_time": "2022-12-27T10:18:27.018Z"
   },
   {
    "duration": 0,
    "start_time": "2022-12-27T10:18:27.020Z"
   },
   {
    "duration": 0,
    "start_time": "2022-12-27T10:18:27.021Z"
   },
   {
    "duration": 0,
    "start_time": "2022-12-27T10:18:27.022Z"
   },
   {
    "duration": 0,
    "start_time": "2022-12-27T10:18:27.023Z"
   },
   {
    "duration": 0,
    "start_time": "2022-12-27T10:18:27.025Z"
   },
   {
    "duration": 0,
    "start_time": "2022-12-27T10:18:27.026Z"
   },
   {
    "duration": 0,
    "start_time": "2022-12-27T10:18:27.027Z"
   },
   {
    "duration": 0,
    "start_time": "2022-12-27T10:18:27.029Z"
   },
   {
    "duration": 0,
    "start_time": "2022-12-27T10:18:27.030Z"
   },
   {
    "duration": 0,
    "start_time": "2022-12-27T10:18:27.032Z"
   },
   {
    "duration": 0,
    "start_time": "2022-12-27T10:18:27.033Z"
   },
   {
    "duration": 0,
    "start_time": "2022-12-27T10:18:27.035Z"
   },
   {
    "duration": 0,
    "start_time": "2022-12-27T10:18:27.036Z"
   },
   {
    "duration": 0,
    "start_time": "2022-12-27T10:18:27.078Z"
   },
   {
    "duration": 0,
    "start_time": "2022-12-27T10:18:27.078Z"
   },
   {
    "duration": 0,
    "start_time": "2022-12-27T10:18:27.079Z"
   },
   {
    "duration": 0,
    "start_time": "2022-12-27T10:18:27.080Z"
   },
   {
    "duration": 0,
    "start_time": "2022-12-27T10:18:27.080Z"
   },
   {
    "duration": 0,
    "start_time": "2022-12-27T10:18:27.081Z"
   },
   {
    "duration": 0,
    "start_time": "2022-12-27T10:18:27.082Z"
   },
   {
    "duration": 13,
    "start_time": "2022-12-27T10:24:05.043Z"
   },
   {
    "duration": 102,
    "start_time": "2022-12-27T10:28:22.315Z"
   },
   {
    "duration": 477,
    "start_time": "2022-12-27T10:47:49.520Z"
   },
   {
    "duration": 432,
    "start_time": "2022-12-27T10:47:56.759Z"
   },
   {
    "duration": 738,
    "start_time": "2022-12-27T10:47:57.193Z"
   },
   {
    "duration": 14552,
    "start_time": "2022-12-27T10:47:57.933Z"
   },
   {
    "duration": 7606,
    "start_time": "2022-12-27T10:48:12.488Z"
   },
   {
    "duration": 13,
    "start_time": "2022-12-27T10:48:20.096Z"
   },
   {
    "duration": 93,
    "start_time": "2022-12-27T10:48:20.111Z"
   },
   {
    "duration": 3900,
    "start_time": "2022-12-27T10:48:20.205Z"
   },
   {
    "duration": 3,
    "start_time": "2022-12-27T10:48:24.106Z"
   },
   {
    "duration": 3709,
    "start_time": "2022-12-27T10:48:24.111Z"
   },
   {
    "duration": 2,
    "start_time": "2022-12-27T10:48:27.823Z"
   },
   {
    "duration": 523,
    "start_time": "2022-12-27T10:48:27.876Z"
   },
   {
    "duration": 82,
    "start_time": "2022-12-27T10:48:28.401Z"
   },
   {
    "duration": 2729,
    "start_time": "2022-12-27T10:48:28.485Z"
   },
   {
    "duration": 3,
    "start_time": "2022-12-27T10:48:31.215Z"
   },
   {
    "duration": 23,
    "start_time": "2022-12-27T10:48:31.219Z"
   },
   {
    "duration": 6,
    "start_time": "2022-12-27T10:48:31.244Z"
   },
   {
    "duration": 7,
    "start_time": "2022-12-27T10:48:31.251Z"
   },
   {
    "duration": 5,
    "start_time": "2022-12-27T10:48:31.260Z"
   },
   {
    "duration": 9,
    "start_time": "2022-12-27T10:48:31.267Z"
   },
   {
    "duration": 11,
    "start_time": "2022-12-27T10:48:31.278Z"
   },
   {
    "duration": 1035,
    "start_time": "2022-12-27T10:48:31.290Z"
   },
   {
    "duration": 1473,
    "start_time": "2022-12-27T10:48:32.326Z"
   },
   {
    "duration": 509,
    "start_time": "2022-12-27T10:48:33.801Z"
   },
   {
    "duration": 2166,
    "start_time": "2022-12-27T10:48:34.312Z"
   },
   {
    "duration": 775,
    "start_time": "2022-12-27T10:48:36.479Z"
   },
   {
    "duration": 62,
    "start_time": "2022-12-27T10:48:37.255Z"
   },
   {
    "duration": 75,
    "start_time": "2022-12-27T10:48:37.319Z"
   },
   {
    "duration": 999,
    "start_time": "2022-12-27T10:48:37.399Z"
   },
   {
    "duration": 702,
    "start_time": "2022-12-27T10:48:38.400Z"
   },
   {
    "duration": 84,
    "start_time": "2022-12-27T10:48:39.103Z"
   },
   {
    "duration": 19,
    "start_time": "2022-12-27T10:48:39.189Z"
   },
   {
    "duration": 531,
    "start_time": "2022-12-27T10:48:39.209Z"
   },
   {
    "duration": 520,
    "start_time": "2022-12-27T10:48:39.776Z"
   },
   {
    "duration": 96,
    "start_time": "2022-12-27T10:48:40.298Z"
   },
   {
    "duration": 2593,
    "start_time": "2022-12-27T10:48:40.395Z"
   },
   {
    "duration": 23,
    "start_time": "2022-12-27T10:48:42.990Z"
   },
   {
    "duration": 62,
    "start_time": "2022-12-27T10:48:43.015Z"
   },
   {
    "duration": 16,
    "start_time": "2022-12-27T10:48:43.079Z"
   },
   {
    "duration": 1683,
    "start_time": "2022-12-27T10:48:43.097Z"
   },
   {
    "duration": 20,
    "start_time": "2022-12-27T10:48:44.782Z"
   },
   {
    "duration": 8,
    "start_time": "2022-12-27T10:48:44.804Z"
   },
   {
    "duration": 890,
    "start_time": "2022-12-27T10:48:44.814Z"
   },
   {
    "duration": 0,
    "start_time": "2022-12-27T10:48:45.706Z"
   },
   {
    "duration": 0,
    "start_time": "2022-12-27T10:48:45.708Z"
   },
   {
    "duration": 0,
    "start_time": "2022-12-27T10:48:45.708Z"
   },
   {
    "duration": 0,
    "start_time": "2022-12-27T10:48:45.710Z"
   },
   {
    "duration": 0,
    "start_time": "2022-12-27T10:48:45.711Z"
   },
   {
    "duration": 0,
    "start_time": "2022-12-27T10:48:45.712Z"
   },
   {
    "duration": 82,
    "start_time": "2022-12-27T10:51:03.824Z"
   },
   {
    "duration": 76,
    "start_time": "2022-12-27T10:51:53.205Z"
   },
   {
    "duration": 95,
    "start_time": "2022-12-27T10:52:12.906Z"
   },
   {
    "duration": 460,
    "start_time": "2022-12-27T10:52:19.353Z"
   },
   {
    "duration": 700,
    "start_time": "2022-12-27T10:52:19.815Z"
   },
   {
    "duration": 14398,
    "start_time": "2022-12-27T10:52:20.517Z"
   },
   {
    "duration": 430,
    "start_time": "2022-12-27T11:01:29.689Z"
   },
   {
    "duration": 723,
    "start_time": "2022-12-27T11:01:30.121Z"
   },
   {
    "duration": 14733,
    "start_time": "2022-12-27T11:01:30.846Z"
   },
   {
    "duration": 8200,
    "start_time": "2022-12-27T11:01:45.582Z"
   },
   {
    "duration": 16,
    "start_time": "2022-12-27T11:01:53.784Z"
   },
   {
    "duration": 77,
    "start_time": "2022-12-27T11:01:53.801Z"
   },
   {
    "duration": 4312,
    "start_time": "2022-12-27T11:01:53.879Z"
   },
   {
    "duration": 3,
    "start_time": "2022-12-27T11:01:58.192Z"
   },
   {
    "duration": 4380,
    "start_time": "2022-12-27T11:01:58.196Z"
   },
   {
    "duration": 3,
    "start_time": "2022-12-27T11:02:02.580Z"
   },
   {
    "duration": 702,
    "start_time": "2022-12-27T11:02:02.585Z"
   },
   {
    "duration": 88,
    "start_time": "2022-12-27T11:02:03.297Z"
   },
   {
    "duration": 3289,
    "start_time": "2022-12-27T11:02:03.387Z"
   },
   {
    "duration": 3,
    "start_time": "2022-12-27T11:02:06.678Z"
   },
   {
    "duration": 11,
    "start_time": "2022-12-27T11:02:06.682Z"
   },
   {
    "duration": 4,
    "start_time": "2022-12-27T11:02:06.695Z"
   },
   {
    "duration": 4,
    "start_time": "2022-12-27T11:02:06.701Z"
   },
   {
    "duration": 6,
    "start_time": "2022-12-27T11:02:06.706Z"
   },
   {
    "duration": 5,
    "start_time": "2022-12-27T11:02:06.713Z"
   },
   {
    "duration": 3,
    "start_time": "2022-12-27T11:02:06.776Z"
   },
   {
    "duration": 1403,
    "start_time": "2022-12-27T11:02:06.781Z"
   },
   {
    "duration": 1531,
    "start_time": "2022-12-27T11:02:08.186Z"
   },
   {
    "duration": 705,
    "start_time": "2022-12-27T11:02:09.777Z"
   },
   {
    "duration": 2692,
    "start_time": "2022-12-27T11:02:10.484Z"
   },
   {
    "duration": 836,
    "start_time": "2022-12-27T11:02:13.178Z"
   },
   {
    "duration": 99,
    "start_time": "2022-12-27T11:02:14.016Z"
   },
   {
    "duration": 77,
    "start_time": "2022-12-27T11:02:14.117Z"
   },
   {
    "duration": 1088,
    "start_time": "2022-12-27T11:02:14.198Z"
   },
   {
    "duration": 607,
    "start_time": "2022-12-27T11:02:15.288Z"
   },
   {
    "duration": 91,
    "start_time": "2022-12-27T11:02:15.897Z"
   },
   {
    "duration": 22,
    "start_time": "2022-12-27T11:02:15.990Z"
   },
   {
    "duration": 521,
    "start_time": "2022-12-27T11:02:16.014Z"
   },
   {
    "duration": 440,
    "start_time": "2022-12-27T11:02:16.537Z"
   },
   {
    "duration": 37,
    "start_time": "2022-12-27T11:02:16.979Z"
   },
   {
    "duration": 3162,
    "start_time": "2022-12-27T11:02:17.017Z"
   },
   {
    "duration": 25,
    "start_time": "2022-12-27T11:02:20.181Z"
   },
   {
    "duration": 68,
    "start_time": "2022-12-27T11:02:20.208Z"
   },
   {
    "duration": 61,
    "start_time": "2022-12-27T11:02:20.278Z"
   },
   {
    "duration": 1563,
    "start_time": "2022-12-27T11:02:20.340Z"
   },
   {
    "duration": 20,
    "start_time": "2022-12-27T11:02:21.904Z"
   },
   {
    "duration": 10,
    "start_time": "2022-12-27T11:02:21.977Z"
   },
   {
    "duration": 828,
    "start_time": "2022-12-27T11:02:21.989Z"
   },
   {
    "duration": 0,
    "start_time": "2022-12-27T11:02:22.819Z"
   },
   {
    "duration": 0,
    "start_time": "2022-12-27T11:02:22.823Z"
   },
   {
    "duration": 0,
    "start_time": "2022-12-27T11:02:22.824Z"
   },
   {
    "duration": 0,
    "start_time": "2022-12-27T11:02:22.825Z"
   },
   {
    "duration": 0,
    "start_time": "2022-12-27T11:02:22.826Z"
   },
   {
    "duration": 0,
    "start_time": "2022-12-27T11:02:22.828Z"
   },
   {
    "duration": 93,
    "start_time": "2022-12-27T11:08:21.006Z"
   },
   {
    "duration": 78,
    "start_time": "2022-12-27T11:08:31.343Z"
   },
   {
    "duration": 386,
    "start_time": "2022-12-27T11:08:45.616Z"
   },
   {
    "duration": 699,
    "start_time": "2022-12-27T11:08:46.004Z"
   },
   {
    "duration": 14289,
    "start_time": "2022-12-27T11:08:46.705Z"
   },
   {
    "duration": 7985,
    "start_time": "2022-12-27T11:09:00.996Z"
   },
   {
    "duration": 15,
    "start_time": "2022-12-27T11:09:08.983Z"
   },
   {
    "duration": 99,
    "start_time": "2022-12-27T11:09:09.000Z"
   },
   {
    "duration": 4375,
    "start_time": "2022-12-27T11:09:09.101Z"
   },
   {
    "duration": 3,
    "start_time": "2022-12-27T11:09:13.478Z"
   },
   {
    "duration": 4328,
    "start_time": "2022-12-27T11:09:13.483Z"
   },
   {
    "duration": 62,
    "start_time": "2022-12-27T11:09:17.815Z"
   },
   {
    "duration": 630,
    "start_time": "2022-12-27T11:09:17.879Z"
   },
   {
    "duration": 75,
    "start_time": "2022-12-27T11:09:18.510Z"
   },
   {
    "duration": 3107,
    "start_time": "2022-12-27T11:09:18.587Z"
   },
   {
    "duration": 3,
    "start_time": "2022-12-27T11:09:21.697Z"
   },
   {
    "duration": 16,
    "start_time": "2022-12-27T11:09:21.702Z"
   },
   {
    "duration": 56,
    "start_time": "2022-12-27T11:09:21.720Z"
   },
   {
    "duration": 15,
    "start_time": "2022-12-27T11:09:21.778Z"
   },
   {
    "duration": 10,
    "start_time": "2022-12-27T11:09:21.795Z"
   },
   {
    "duration": 8,
    "start_time": "2022-12-27T11:09:21.807Z"
   },
   {
    "duration": 15,
    "start_time": "2022-12-27T11:09:21.816Z"
   },
   {
    "duration": 1358,
    "start_time": "2022-12-27T11:09:21.832Z"
   },
   {
    "duration": 1326,
    "start_time": "2022-12-27T11:09:23.192Z"
   },
   {
    "duration": 665,
    "start_time": "2022-12-27T11:09:24.519Z"
   },
   {
    "duration": 2098,
    "start_time": "2022-12-27T11:09:25.186Z"
   },
   {
    "duration": 31,
    "start_time": "2022-12-27T11:09:27.286Z"
   },
   {
    "duration": 90,
    "start_time": "2022-12-27T11:09:27.319Z"
   },
   {
    "duration": 78,
    "start_time": "2022-12-27T11:09:27.411Z"
   },
   {
    "duration": 914,
    "start_time": "2022-12-27T11:09:27.492Z"
   },
   {
    "duration": 573,
    "start_time": "2022-12-27T11:09:28.408Z"
   },
   {
    "duration": 19,
    "start_time": "2022-12-27T11:09:28.982Z"
   },
   {
    "duration": 87,
    "start_time": "2022-12-27T11:09:29.003Z"
   },
   {
    "duration": 497,
    "start_time": "2022-12-27T11:09:29.091Z"
   },
   {
    "duration": 507,
    "start_time": "2022-12-27T11:09:29.589Z"
   },
   {
    "duration": 94,
    "start_time": "2022-12-27T11:09:30.097Z"
   },
   {
    "duration": 2791,
    "start_time": "2022-12-27T11:09:30.193Z"
   },
   {
    "duration": 18,
    "start_time": "2022-12-27T11:09:32.986Z"
   },
   {
    "duration": 2,
    "start_time": "2022-12-27T11:09:33.006Z"
   },
   {
    "duration": 15,
    "start_time": "2022-12-27T11:09:33.076Z"
   },
   {
    "duration": 1401,
    "start_time": "2022-12-27T11:09:33.093Z"
   },
   {
    "duration": 22,
    "start_time": "2022-12-27T11:09:34.495Z"
   },
   {
    "duration": 64,
    "start_time": "2022-12-27T11:09:34.519Z"
   },
   {
    "duration": 916,
    "start_time": "2022-12-27T11:09:34.585Z"
   },
   {
    "duration": 0,
    "start_time": "2022-12-27T11:09:35.503Z"
   },
   {
    "duration": 0,
    "start_time": "2022-12-27T11:09:35.505Z"
   },
   {
    "duration": 0,
    "start_time": "2022-12-27T11:09:35.506Z"
   },
   {
    "duration": 0,
    "start_time": "2022-12-27T11:09:35.507Z"
   },
   {
    "duration": 0,
    "start_time": "2022-12-27T11:09:35.508Z"
   },
   {
    "duration": 0,
    "start_time": "2022-12-27T11:09:35.510Z"
   },
   {
    "duration": 76,
    "start_time": "2022-12-27T11:14:47.846Z"
   },
   {
    "duration": 433,
    "start_time": "2022-12-27T11:14:58.843Z"
   },
   {
    "duration": 767,
    "start_time": "2022-12-27T11:14:59.278Z"
   },
   {
    "duration": 15175,
    "start_time": "2022-12-27T11:15:00.047Z"
   },
   {
    "duration": 8616,
    "start_time": "2022-12-27T11:15:15.276Z"
   },
   {
    "duration": 15,
    "start_time": "2022-12-27T11:15:23.894Z"
   },
   {
    "duration": 95,
    "start_time": "2022-12-27T11:15:23.910Z"
   },
   {
    "duration": 4291,
    "start_time": "2022-12-27T11:15:24.007Z"
   },
   {
    "duration": 3,
    "start_time": "2022-12-27T11:15:28.299Z"
   },
   {
    "duration": 4581,
    "start_time": "2022-12-27T11:15:28.304Z"
   },
   {
    "duration": 3,
    "start_time": "2022-12-27T11:15:32.887Z"
   },
   {
    "duration": 727,
    "start_time": "2022-12-27T11:15:32.892Z"
   },
   {
    "duration": 155,
    "start_time": "2022-12-27T11:15:33.621Z"
   },
   {
    "duration": 3468,
    "start_time": "2022-12-27T11:15:33.779Z"
   },
   {
    "duration": 4,
    "start_time": "2022-12-27T11:15:37.249Z"
   },
   {
    "duration": 3,
    "start_time": "2022-12-27T11:15:37.276Z"
   },
   {
    "duration": 5,
    "start_time": "2022-12-27T11:15:37.282Z"
   },
   {
    "duration": 7,
    "start_time": "2022-12-27T11:15:37.289Z"
   },
   {
    "duration": 8,
    "start_time": "2022-12-27T11:15:37.298Z"
   },
   {
    "duration": 6,
    "start_time": "2022-12-27T11:15:37.308Z"
   },
   {
    "duration": 3,
    "start_time": "2022-12-27T11:15:37.376Z"
   },
   {
    "duration": 1234,
    "start_time": "2022-12-27T11:15:37.381Z"
   },
   {
    "duration": 1434,
    "start_time": "2022-12-27T11:15:38.676Z"
   },
   {
    "duration": 665,
    "start_time": "2022-12-27T11:15:40.112Z"
   },
   {
    "duration": 2477,
    "start_time": "2022-12-27T11:15:40.779Z"
   },
   {
    "duration": 530,
    "start_time": "2022-12-27T11:15:43.258Z"
   },
   {
    "duration": 106,
    "start_time": "2022-12-27T11:15:43.790Z"
   },
   {
    "duration": 82,
    "start_time": "2022-12-27T11:15:43.897Z"
   },
   {
    "duration": 998,
    "start_time": "2022-12-27T11:15:43.982Z"
   },
   {
    "duration": 701,
    "start_time": "2022-12-27T11:15:44.982Z"
   },
   {
    "duration": 23,
    "start_time": "2022-12-27T11:15:45.685Z"
   },
   {
    "duration": 86,
    "start_time": "2022-12-27T11:15:45.710Z"
   },
   {
    "duration": 514,
    "start_time": "2022-12-27T11:15:45.798Z"
   },
   {
    "duration": 586,
    "start_time": "2022-12-27T11:15:46.313Z"
   },
   {
    "duration": 112,
    "start_time": "2022-12-27T11:15:46.901Z"
   },
   {
    "duration": 3141,
    "start_time": "2022-12-27T11:15:47.015Z"
   },
   {
    "duration": 36,
    "start_time": "2022-12-27T11:15:50.158Z"
   },
   {
    "duration": 21,
    "start_time": "2022-12-27T11:15:50.195Z"
   },
   {
    "duration": 68,
    "start_time": "2022-12-27T11:15:50.217Z"
   },
   {
    "duration": 1894,
    "start_time": "2022-12-27T11:15:50.287Z"
   },
   {
    "duration": 25,
    "start_time": "2022-12-27T11:15:52.183Z"
   },
   {
    "duration": 69,
    "start_time": "2022-12-27T11:15:52.209Z"
   },
   {
    "duration": 997,
    "start_time": "2022-12-27T11:15:52.280Z"
   },
   {
    "duration": 0,
    "start_time": "2022-12-27T11:15:53.279Z"
   },
   {
    "duration": 0,
    "start_time": "2022-12-27T11:15:53.281Z"
   },
   {
    "duration": 0,
    "start_time": "2022-12-27T11:15:53.282Z"
   },
   {
    "duration": 0,
    "start_time": "2022-12-27T11:15:53.283Z"
   },
   {
    "duration": 0,
    "start_time": "2022-12-27T11:15:53.284Z"
   },
   {
    "duration": 0,
    "start_time": "2022-12-27T11:15:53.285Z"
   },
   {
    "duration": 87,
    "start_time": "2022-12-27T11:17:57.644Z"
   },
   {
    "duration": 453,
    "start_time": "2022-12-27T11:18:05.945Z"
   },
   {
    "duration": 776,
    "start_time": "2022-12-27T11:18:06.400Z"
   },
   {
    "duration": 16439,
    "start_time": "2022-12-27T11:18:07.178Z"
   },
   {
    "duration": 10260,
    "start_time": "2022-12-27T11:18:23.620Z"
   },
   {
    "duration": 26,
    "start_time": "2022-12-27T11:18:33.881Z"
   },
   {
    "duration": 104,
    "start_time": "2022-12-27T11:18:33.910Z"
   },
   {
    "duration": 6085,
    "start_time": "2022-12-27T11:18:34.016Z"
   },
   {
    "duration": 3,
    "start_time": "2022-12-27T11:18:40.103Z"
   },
   {
    "duration": 5179,
    "start_time": "2022-12-27T11:18:40.108Z"
   },
   {
    "duration": 8,
    "start_time": "2022-12-27T11:18:45.291Z"
   },
   {
    "duration": 708,
    "start_time": "2022-12-27T11:18:45.301Z"
   },
   {
    "duration": 99,
    "start_time": "2022-12-27T11:18:46.010Z"
   },
   {
    "duration": 3566,
    "start_time": "2022-12-27T11:18:46.176Z"
   },
   {
    "duration": 5,
    "start_time": "2022-12-27T11:18:49.776Z"
   },
   {
    "duration": 18,
    "start_time": "2022-12-27T11:18:49.783Z"
   },
   {
    "duration": 9,
    "start_time": "2022-12-27T11:18:49.803Z"
   },
   {
    "duration": 9,
    "start_time": "2022-12-27T11:18:49.814Z"
   },
   {
    "duration": 6,
    "start_time": "2022-12-27T11:18:49.825Z"
   },
   {
    "duration": 5,
    "start_time": "2022-12-27T11:18:49.832Z"
   },
   {
    "duration": 4,
    "start_time": "2022-12-27T11:18:49.839Z"
   },
   {
    "duration": 1652,
    "start_time": "2022-12-27T11:18:49.845Z"
   },
   {
    "duration": 1780,
    "start_time": "2022-12-27T11:18:51.499Z"
   },
   {
    "duration": 273,
    "start_time": "2022-12-27T11:18:53.281Z"
   },
   {
    "duration": 0,
    "start_time": "2022-12-27T11:18:53.562Z"
   },
   {
    "duration": 0,
    "start_time": "2022-12-27T11:18:53.563Z"
   },
   {
    "duration": 0,
    "start_time": "2022-12-27T11:18:53.564Z"
   },
   {
    "duration": 0,
    "start_time": "2022-12-27T11:18:53.565Z"
   },
   {
    "duration": 0,
    "start_time": "2022-12-27T11:18:53.566Z"
   },
   {
    "duration": 0,
    "start_time": "2022-12-27T11:18:53.568Z"
   },
   {
    "duration": 0,
    "start_time": "2022-12-27T11:18:53.569Z"
   },
   {
    "duration": 0,
    "start_time": "2022-12-27T11:18:53.570Z"
   },
   {
    "duration": 0,
    "start_time": "2022-12-27T11:18:53.572Z"
   },
   {
    "duration": 0,
    "start_time": "2022-12-27T11:18:53.573Z"
   },
   {
    "duration": 0,
    "start_time": "2022-12-27T11:18:53.574Z"
   },
   {
    "duration": 0,
    "start_time": "2022-12-27T11:18:53.574Z"
   },
   {
    "duration": 0,
    "start_time": "2022-12-27T11:18:53.576Z"
   },
   {
    "duration": 0,
    "start_time": "2022-12-27T11:18:53.579Z"
   },
   {
    "duration": 0,
    "start_time": "2022-12-27T11:18:53.580Z"
   },
   {
    "duration": 0,
    "start_time": "2022-12-27T11:18:53.581Z"
   },
   {
    "duration": 0,
    "start_time": "2022-12-27T11:18:53.583Z"
   },
   {
    "duration": 0,
    "start_time": "2022-12-27T11:18:53.584Z"
   },
   {
    "duration": 0,
    "start_time": "2022-12-27T11:18:53.585Z"
   },
   {
    "duration": 0,
    "start_time": "2022-12-27T11:18:53.586Z"
   },
   {
    "duration": 0,
    "start_time": "2022-12-27T11:18:53.588Z"
   },
   {
    "duration": 0,
    "start_time": "2022-12-27T11:18:53.589Z"
   },
   {
    "duration": 0,
    "start_time": "2022-12-27T11:18:53.590Z"
   },
   {
    "duration": 0,
    "start_time": "2022-12-27T11:18:53.592Z"
   },
   {
    "duration": 0,
    "start_time": "2022-12-27T11:18:53.593Z"
   },
   {
    "duration": 413,
    "start_time": "2022-12-27T11:20:54.012Z"
   },
   {
    "duration": 878,
    "start_time": "2022-12-27T11:20:54.427Z"
   },
   {
    "duration": 16072,
    "start_time": "2022-12-27T11:20:55.306Z"
   },
   {
    "duration": 9296,
    "start_time": "2022-12-27T11:21:11.381Z"
   },
   {
    "duration": 22,
    "start_time": "2022-12-27T11:21:20.679Z"
   },
   {
    "duration": 122,
    "start_time": "2022-12-27T11:21:20.703Z"
   },
   {
    "duration": 4879,
    "start_time": "2022-12-27T11:21:20.827Z"
   },
   {
    "duration": 3,
    "start_time": "2022-12-27T11:21:25.707Z"
   },
   {
    "duration": 4505,
    "start_time": "2022-12-27T11:21:25.711Z"
   },
   {
    "duration": 2,
    "start_time": "2022-12-27T11:21:30.219Z"
   },
   {
    "duration": 769,
    "start_time": "2022-12-27T11:21:30.223Z"
   },
   {
    "duration": 97,
    "start_time": "2022-12-27T11:21:30.994Z"
   },
   {
    "duration": 3252,
    "start_time": "2022-12-27T11:21:31.094Z"
   },
   {
    "duration": 29,
    "start_time": "2022-12-27T11:21:34.348Z"
   },
   {
    "duration": 14,
    "start_time": "2022-12-27T11:21:34.380Z"
   },
   {
    "duration": 9,
    "start_time": "2022-12-27T11:21:34.395Z"
   },
   {
    "duration": 6,
    "start_time": "2022-12-27T11:21:34.406Z"
   },
   {
    "duration": 5,
    "start_time": "2022-12-27T11:21:34.413Z"
   },
   {
    "duration": 5,
    "start_time": "2022-12-27T11:21:34.419Z"
   },
   {
    "duration": 6,
    "start_time": "2022-12-27T11:21:34.425Z"
   },
   {
    "duration": 1759,
    "start_time": "2022-12-27T11:21:34.432Z"
   },
   {
    "duration": 1909,
    "start_time": "2022-12-27T11:21:36.193Z"
   },
   {
    "duration": 334,
    "start_time": "2022-12-27T11:21:38.104Z"
   },
   {
    "duration": 0,
    "start_time": "2022-12-27T11:21:38.445Z"
   },
   {
    "duration": 0,
    "start_time": "2022-12-27T11:21:38.447Z"
   },
   {
    "duration": 0,
    "start_time": "2022-12-27T11:21:38.448Z"
   },
   {
    "duration": 0,
    "start_time": "2022-12-27T11:21:38.449Z"
   },
   {
    "duration": 0,
    "start_time": "2022-12-27T11:21:38.450Z"
   },
   {
    "duration": 0,
    "start_time": "2022-12-27T11:21:38.452Z"
   },
   {
    "duration": 0,
    "start_time": "2022-12-27T11:21:38.453Z"
   },
   {
    "duration": 0,
    "start_time": "2022-12-27T11:21:38.454Z"
   },
   {
    "duration": 0,
    "start_time": "2022-12-27T11:21:38.454Z"
   },
   {
    "duration": 0,
    "start_time": "2022-12-27T11:21:38.455Z"
   },
   {
    "duration": 0,
    "start_time": "2022-12-27T11:21:38.456Z"
   },
   {
    "duration": 0,
    "start_time": "2022-12-27T11:21:38.457Z"
   },
   {
    "duration": 0,
    "start_time": "2022-12-27T11:21:38.458Z"
   },
   {
    "duration": 0,
    "start_time": "2022-12-27T11:21:38.459Z"
   },
   {
    "duration": 0,
    "start_time": "2022-12-27T11:21:38.460Z"
   },
   {
    "duration": 0,
    "start_time": "2022-12-27T11:21:38.461Z"
   },
   {
    "duration": 0,
    "start_time": "2022-12-27T11:21:38.462Z"
   },
   {
    "duration": 0,
    "start_time": "2022-12-27T11:21:38.463Z"
   },
   {
    "duration": 0,
    "start_time": "2022-12-27T11:21:38.464Z"
   },
   {
    "duration": 0,
    "start_time": "2022-12-27T11:21:38.465Z"
   },
   {
    "duration": 0,
    "start_time": "2022-12-27T11:21:38.466Z"
   },
   {
    "duration": 0,
    "start_time": "2022-12-27T11:21:38.466Z"
   },
   {
    "duration": 0,
    "start_time": "2022-12-27T11:21:38.467Z"
   },
   {
    "duration": 1,
    "start_time": "2022-12-27T11:21:38.468Z"
   },
   {
    "duration": 0,
    "start_time": "2022-12-27T11:21:38.470Z"
   },
   {
    "duration": 9,
    "start_time": "2022-12-27T11:22:28.460Z"
   },
   {
    "duration": 696,
    "start_time": "2022-12-27T11:22:52.018Z"
   },
   {
    "duration": 619,
    "start_time": "2022-12-27T11:22:53.988Z"
   },
   {
    "duration": 8,
    "start_time": "2022-12-27T11:22:55.501Z"
   },
   {
    "duration": 641,
    "start_time": "2022-12-27T11:25:02.942Z"
   },
   {
    "duration": 530,
    "start_time": "2022-12-27T11:25:04.677Z"
   },
   {
    "duration": 457,
    "start_time": "2022-12-27T11:36:09.817Z"
   },
   {
    "duration": 813,
    "start_time": "2022-12-27T11:36:10.277Z"
   },
   {
    "duration": 16131,
    "start_time": "2022-12-27T11:36:11.092Z"
   },
   {
    "duration": 8806,
    "start_time": "2022-12-27T11:36:27.279Z"
   },
   {
    "duration": 14,
    "start_time": "2022-12-27T11:36:36.087Z"
   },
   {
    "duration": 93,
    "start_time": "2022-12-27T11:36:36.103Z"
   },
   {
    "duration": 4284,
    "start_time": "2022-12-27T11:36:36.198Z"
   },
   {
    "duration": 2,
    "start_time": "2022-12-27T11:36:40.484Z"
   },
   {
    "duration": 4017,
    "start_time": "2022-12-27T11:36:40.488Z"
   },
   {
    "duration": 2,
    "start_time": "2022-12-27T11:36:44.508Z"
   },
   {
    "duration": 671,
    "start_time": "2022-12-27T11:36:44.512Z"
   },
   {
    "duration": 91,
    "start_time": "2022-12-27T11:36:45.185Z"
   },
   {
    "duration": 2906,
    "start_time": "2022-12-27T11:36:45.279Z"
   },
   {
    "duration": 3,
    "start_time": "2022-12-27T11:36:48.187Z"
   },
   {
    "duration": 17,
    "start_time": "2022-12-27T11:36:48.191Z"
   },
   {
    "duration": 8,
    "start_time": "2022-12-27T11:36:48.209Z"
   },
   {
    "duration": 12,
    "start_time": "2022-12-27T11:36:48.219Z"
   },
   {
    "duration": 5,
    "start_time": "2022-12-27T11:36:48.233Z"
   },
   {
    "duration": 9,
    "start_time": "2022-12-27T11:36:48.240Z"
   },
   {
    "duration": 6,
    "start_time": "2022-12-27T11:36:48.250Z"
   },
   {
    "duration": 1348,
    "start_time": "2022-12-27T11:36:48.257Z"
   },
   {
    "duration": 1610,
    "start_time": "2022-12-27T11:36:49.606Z"
   },
   {
    "duration": 0,
    "start_time": "2022-12-27T11:36:51.221Z"
   },
   {
    "duration": 0,
    "start_time": "2022-12-27T11:36:51.222Z"
   },
   {
    "duration": 0,
    "start_time": "2022-12-27T11:36:51.224Z"
   },
   {
    "duration": 0,
    "start_time": "2022-12-27T11:36:51.225Z"
   },
   {
    "duration": 0,
    "start_time": "2022-12-27T11:36:51.226Z"
   },
   {
    "duration": 0,
    "start_time": "2022-12-27T11:36:51.227Z"
   },
   {
    "duration": 0,
    "start_time": "2022-12-27T11:36:51.228Z"
   },
   {
    "duration": 0,
    "start_time": "2022-12-27T11:36:51.229Z"
   },
   {
    "duration": 0,
    "start_time": "2022-12-27T11:36:51.230Z"
   },
   {
    "duration": 0,
    "start_time": "2022-12-27T11:36:51.231Z"
   },
   {
    "duration": 0,
    "start_time": "2022-12-27T11:36:51.233Z"
   },
   {
    "duration": 0,
    "start_time": "2022-12-27T11:36:51.233Z"
   },
   {
    "duration": 0,
    "start_time": "2022-12-27T11:36:51.234Z"
   },
   {
    "duration": 0,
    "start_time": "2022-12-27T11:36:51.235Z"
   },
   {
    "duration": 0,
    "start_time": "2022-12-27T11:36:51.236Z"
   },
   {
    "duration": 0,
    "start_time": "2022-12-27T11:36:51.238Z"
   },
   {
    "duration": 0,
    "start_time": "2022-12-27T11:36:51.238Z"
   },
   {
    "duration": 0,
    "start_time": "2022-12-27T11:36:51.240Z"
   },
   {
    "duration": 0,
    "start_time": "2022-12-27T11:36:51.241Z"
   },
   {
    "duration": 0,
    "start_time": "2022-12-27T11:36:51.241Z"
   },
   {
    "duration": 0,
    "start_time": "2022-12-27T11:36:51.276Z"
   },
   {
    "duration": 0,
    "start_time": "2022-12-27T11:36:51.278Z"
   },
   {
    "duration": 0,
    "start_time": "2022-12-27T11:36:51.279Z"
   },
   {
    "duration": 0,
    "start_time": "2022-12-27T11:36:51.280Z"
   },
   {
    "duration": 0,
    "start_time": "2022-12-27T11:36:51.281Z"
   },
   {
    "duration": 0,
    "start_time": "2022-12-27T11:36:51.282Z"
   },
   {
    "duration": 409,
    "start_time": "2022-12-27T11:37:28.004Z"
   },
   {
    "duration": 719,
    "start_time": "2022-12-27T11:37:28.415Z"
   },
   {
    "duration": 14944,
    "start_time": "2022-12-27T11:37:29.135Z"
   },
   {
    "duration": 8507,
    "start_time": "2022-12-27T11:37:44.082Z"
   },
   {
    "duration": 14,
    "start_time": "2022-12-27T11:37:52.591Z"
   },
   {
    "duration": 102,
    "start_time": "2022-12-27T11:37:52.607Z"
   },
   {
    "duration": 4306,
    "start_time": "2022-12-27T11:37:52.711Z"
   },
   {
    "duration": 3,
    "start_time": "2022-12-27T11:37:57.018Z"
   },
   {
    "duration": 4495,
    "start_time": "2022-12-27T11:37:57.023Z"
   },
   {
    "duration": 3,
    "start_time": "2022-12-27T11:38:01.578Z"
   },
   {
    "duration": 632,
    "start_time": "2022-12-27T11:38:01.583Z"
   },
   {
    "duration": 90,
    "start_time": "2022-12-27T11:38:02.217Z"
   },
   {
    "duration": 3185,
    "start_time": "2022-12-27T11:38:02.309Z"
   },
   {
    "duration": 3,
    "start_time": "2022-12-27T11:38:05.495Z"
   },
   {
    "duration": 39,
    "start_time": "2022-12-27T11:38:05.500Z"
   },
   {
    "duration": 37,
    "start_time": "2022-12-27T11:38:05.540Z"
   },
   {
    "duration": 8,
    "start_time": "2022-12-27T11:38:05.578Z"
   },
   {
    "duration": 7,
    "start_time": "2022-12-27T11:38:05.587Z"
   },
   {
    "duration": 6,
    "start_time": "2022-12-27T11:38:05.595Z"
   },
   {
    "duration": 6,
    "start_time": "2022-12-27T11:38:05.602Z"
   },
   {
    "duration": 1307,
    "start_time": "2022-12-27T11:38:05.610Z"
   },
   {
    "duration": 1506,
    "start_time": "2022-12-27T11:38:06.918Z"
   },
   {
    "duration": 0,
    "start_time": "2022-12-27T11:38:08.479Z"
   },
   {
    "duration": 0,
    "start_time": "2022-12-27T11:38:08.480Z"
   },
   {
    "duration": 0,
    "start_time": "2022-12-27T11:38:08.481Z"
   },
   {
    "duration": 0,
    "start_time": "2022-12-27T11:38:08.482Z"
   },
   {
    "duration": 0,
    "start_time": "2022-12-27T11:38:08.483Z"
   },
   {
    "duration": 0,
    "start_time": "2022-12-27T11:38:08.486Z"
   },
   {
    "duration": 0,
    "start_time": "2022-12-27T11:38:08.487Z"
   },
   {
    "duration": 0,
    "start_time": "2022-12-27T11:38:08.488Z"
   },
   {
    "duration": 0,
    "start_time": "2022-12-27T11:38:08.489Z"
   },
   {
    "duration": 0,
    "start_time": "2022-12-27T11:38:08.490Z"
   },
   {
    "duration": 0,
    "start_time": "2022-12-27T11:38:08.491Z"
   },
   {
    "duration": 0,
    "start_time": "2022-12-27T11:38:08.492Z"
   },
   {
    "duration": 0,
    "start_time": "2022-12-27T11:38:08.494Z"
   },
   {
    "duration": 0,
    "start_time": "2022-12-27T11:38:08.495Z"
   },
   {
    "duration": 0,
    "start_time": "2022-12-27T11:38:08.496Z"
   },
   {
    "duration": 0,
    "start_time": "2022-12-27T11:38:08.497Z"
   },
   {
    "duration": 0,
    "start_time": "2022-12-27T11:38:08.498Z"
   },
   {
    "duration": 0,
    "start_time": "2022-12-27T11:38:08.499Z"
   },
   {
    "duration": 0,
    "start_time": "2022-12-27T11:38:08.500Z"
   },
   {
    "duration": 0,
    "start_time": "2022-12-27T11:38:08.501Z"
   },
   {
    "duration": 0,
    "start_time": "2022-12-27T11:38:08.502Z"
   },
   {
    "duration": 0,
    "start_time": "2022-12-27T11:38:08.503Z"
   },
   {
    "duration": 0,
    "start_time": "2022-12-27T11:38:08.576Z"
   },
   {
    "duration": 0,
    "start_time": "2022-12-27T11:38:08.577Z"
   },
   {
    "duration": 0,
    "start_time": "2022-12-27T11:38:08.579Z"
   },
   {
    "duration": 0,
    "start_time": "2022-12-27T11:38:08.580Z"
   },
   {
    "duration": 87,
    "start_time": "2022-12-27T11:41:23.926Z"
   },
   {
    "duration": 428,
    "start_time": "2022-12-27T11:44:01.104Z"
   },
   {
    "duration": 764,
    "start_time": "2022-12-27T11:44:01.534Z"
   },
   {
    "duration": 14809,
    "start_time": "2022-12-27T11:44:02.300Z"
   },
   {
    "duration": 8084,
    "start_time": "2022-12-27T11:44:17.111Z"
   },
   {
    "duration": 16,
    "start_time": "2022-12-27T11:44:25.196Z"
   },
   {
    "duration": 42,
    "start_time": "2022-12-27T11:44:25.277Z"
   },
   {
    "duration": 3797,
    "start_time": "2022-12-27T11:44:25.321Z"
   },
   {
    "duration": 4,
    "start_time": "2022-12-27T11:44:29.177Z"
   },
   {
    "duration": 4209,
    "start_time": "2022-12-27T11:44:29.183Z"
   },
   {
    "duration": 3,
    "start_time": "2022-12-27T11:44:33.395Z"
   },
   {
    "duration": 598,
    "start_time": "2022-12-27T11:44:33.399Z"
   },
   {
    "duration": 85,
    "start_time": "2022-12-27T11:44:33.999Z"
   },
   {
    "duration": 2790,
    "start_time": "2022-12-27T11:44:34.086Z"
   },
   {
    "duration": 3,
    "start_time": "2022-12-27T11:44:36.878Z"
   },
   {
    "duration": 10,
    "start_time": "2022-12-27T11:44:36.883Z"
   },
   {
    "duration": 5,
    "start_time": "2022-12-27T11:44:36.894Z"
   },
   {
    "duration": 10,
    "start_time": "2022-12-27T11:44:36.901Z"
   },
   {
    "duration": 9,
    "start_time": "2022-12-27T11:44:36.913Z"
   },
   {
    "duration": 6,
    "start_time": "2022-12-27T11:44:36.923Z"
   },
   {
    "duration": 4,
    "start_time": "2022-12-27T11:44:36.931Z"
   },
   {
    "duration": 1490,
    "start_time": "2022-12-27T11:44:36.937Z"
   },
   {
    "duration": 1381,
    "start_time": "2022-12-27T11:44:38.429Z"
   },
   {
    "duration": 866,
    "start_time": "2022-12-27T11:44:39.877Z"
   },
   {
    "duration": 0,
    "start_time": "2022-12-27T11:44:40.750Z"
   },
   {
    "duration": 0,
    "start_time": "2022-12-27T11:44:40.752Z"
   },
   {
    "duration": 0,
    "start_time": "2022-12-27T11:44:40.753Z"
   },
   {
    "duration": 0,
    "start_time": "2022-12-27T11:44:40.754Z"
   },
   {
    "duration": 0,
    "start_time": "2022-12-27T11:44:40.755Z"
   },
   {
    "duration": 0,
    "start_time": "2022-12-27T11:44:40.756Z"
   },
   {
    "duration": 0,
    "start_time": "2022-12-27T11:44:40.758Z"
   },
   {
    "duration": 0,
    "start_time": "2022-12-27T11:44:40.777Z"
   },
   {
    "duration": 0,
    "start_time": "2022-12-27T11:44:40.778Z"
   },
   {
    "duration": 0,
    "start_time": "2022-12-27T11:44:40.779Z"
   },
   {
    "duration": 0,
    "start_time": "2022-12-27T11:44:40.781Z"
   },
   {
    "duration": 0,
    "start_time": "2022-12-27T11:44:40.782Z"
   },
   {
    "duration": 0,
    "start_time": "2022-12-27T11:44:40.784Z"
   },
   {
    "duration": 0,
    "start_time": "2022-12-27T11:44:40.785Z"
   },
   {
    "duration": 0,
    "start_time": "2022-12-27T11:44:40.786Z"
   },
   {
    "duration": 0,
    "start_time": "2022-12-27T11:44:40.788Z"
   },
   {
    "duration": 0,
    "start_time": "2022-12-27T11:44:40.789Z"
   },
   {
    "duration": 0,
    "start_time": "2022-12-27T11:44:40.791Z"
   },
   {
    "duration": 0,
    "start_time": "2022-12-27T11:44:40.792Z"
   },
   {
    "duration": 0,
    "start_time": "2022-12-27T11:44:40.793Z"
   },
   {
    "duration": 0,
    "start_time": "2022-12-27T11:44:40.795Z"
   },
   {
    "duration": 0,
    "start_time": "2022-12-27T11:44:40.796Z"
   },
   {
    "duration": 0,
    "start_time": "2022-12-27T11:44:40.798Z"
   },
   {
    "duration": 0,
    "start_time": "2022-12-27T11:44:40.799Z"
   },
   {
    "duration": 0,
    "start_time": "2022-12-27T11:44:40.801Z"
   },
   {
    "duration": 0,
    "start_time": "2022-12-27T11:44:40.803Z"
   },
   {
    "duration": 95,
    "start_time": "2022-12-27T11:51:21.688Z"
   },
   {
    "duration": 443,
    "start_time": "2022-12-27T11:51:38.697Z"
   },
   {
    "duration": 794,
    "start_time": "2022-12-27T11:51:39.142Z"
   },
   {
    "duration": 15576,
    "start_time": "2022-12-27T11:51:39.937Z"
   },
   {
    "duration": 8278,
    "start_time": "2022-12-27T11:51:55.517Z"
   },
   {
    "duration": 15,
    "start_time": "2022-12-27T11:52:03.797Z"
   },
   {
    "duration": 48,
    "start_time": "2022-12-27T11:52:03.877Z"
   },
   {
    "duration": 5020,
    "start_time": "2022-12-27T11:52:03.977Z"
   },
   {
    "duration": 3,
    "start_time": "2022-12-27T11:52:08.999Z"
   },
   {
    "duration": 4212,
    "start_time": "2022-12-27T11:52:09.004Z"
   },
   {
    "duration": 3,
    "start_time": "2022-12-27T11:52:13.218Z"
   },
   {
    "duration": 685,
    "start_time": "2022-12-27T11:52:13.222Z"
   },
   {
    "duration": 92,
    "start_time": "2022-12-27T11:52:13.909Z"
   },
   {
    "duration": 2878,
    "start_time": "2022-12-27T11:52:14.009Z"
   },
   {
    "duration": 3,
    "start_time": "2022-12-27T11:52:16.889Z"
   },
   {
    "duration": 10,
    "start_time": "2022-12-27T11:52:16.894Z"
   },
   {
    "duration": 6,
    "start_time": "2022-12-27T11:52:16.906Z"
   },
   {
    "duration": 11,
    "start_time": "2022-12-27T11:52:16.914Z"
   },
   {
    "duration": 10,
    "start_time": "2022-12-27T11:52:16.927Z"
   },
   {
    "duration": 7,
    "start_time": "2022-12-27T11:52:16.938Z"
   },
   {
    "duration": 13,
    "start_time": "2022-12-27T11:52:16.946Z"
   },
   {
    "duration": 1442,
    "start_time": "2022-12-27T11:52:16.961Z"
   },
   {
    "duration": 1622,
    "start_time": "2022-12-27T11:52:18.405Z"
   },
   {
    "duration": 0,
    "start_time": "2022-12-27T11:52:20.033Z"
   },
   {
    "duration": 0,
    "start_time": "2022-12-27T11:52:20.034Z"
   },
   {
    "duration": 0,
    "start_time": "2022-12-27T11:52:20.035Z"
   },
   {
    "duration": 0,
    "start_time": "2022-12-27T11:52:20.036Z"
   },
   {
    "duration": 0,
    "start_time": "2022-12-27T11:52:20.037Z"
   },
   {
    "duration": 0,
    "start_time": "2022-12-27T11:52:20.038Z"
   },
   {
    "duration": 0,
    "start_time": "2022-12-27T11:52:20.040Z"
   },
   {
    "duration": 0,
    "start_time": "2022-12-27T11:52:20.041Z"
   },
   {
    "duration": 0,
    "start_time": "2022-12-27T11:52:20.042Z"
   },
   {
    "duration": 0,
    "start_time": "2022-12-27T11:52:20.043Z"
   },
   {
    "duration": 0,
    "start_time": "2022-12-27T11:52:20.044Z"
   },
   {
    "duration": 0,
    "start_time": "2022-12-27T11:52:20.045Z"
   },
   {
    "duration": 0,
    "start_time": "2022-12-27T11:52:20.047Z"
   },
   {
    "duration": 0,
    "start_time": "2022-12-27T11:52:20.076Z"
   },
   {
    "duration": 0,
    "start_time": "2022-12-27T11:52:20.077Z"
   },
   {
    "duration": 0,
    "start_time": "2022-12-27T11:52:20.079Z"
   },
   {
    "duration": 0,
    "start_time": "2022-12-27T11:52:20.080Z"
   },
   {
    "duration": 0,
    "start_time": "2022-12-27T11:52:20.081Z"
   },
   {
    "duration": 0,
    "start_time": "2022-12-27T11:52:20.082Z"
   },
   {
    "duration": 0,
    "start_time": "2022-12-27T11:52:20.084Z"
   },
   {
    "duration": 0,
    "start_time": "2022-12-27T11:52:20.085Z"
   },
   {
    "duration": 0,
    "start_time": "2022-12-27T11:52:20.086Z"
   },
   {
    "duration": 0,
    "start_time": "2022-12-27T11:52:20.087Z"
   },
   {
    "duration": 0,
    "start_time": "2022-12-27T11:52:20.088Z"
   },
   {
    "duration": 0,
    "start_time": "2022-12-27T11:52:20.089Z"
   },
   {
    "duration": 0,
    "start_time": "2022-12-27T11:52:20.091Z"
   },
   {
    "duration": 0,
    "start_time": "2022-12-27T11:52:20.092Z"
   },
   {
    "duration": 96,
    "start_time": "2022-12-27T11:53:53.042Z"
   },
   {
    "duration": 419,
    "start_time": "2022-12-27T11:53:59.641Z"
   },
   {
    "duration": 837,
    "start_time": "2022-12-27T11:54:00.062Z"
   },
   {
    "duration": 15285,
    "start_time": "2022-12-27T11:54:00.901Z"
   },
   {
    "duration": 8365,
    "start_time": "2022-12-27T11:54:16.188Z"
   },
   {
    "duration": 21,
    "start_time": "2022-12-27T11:54:24.556Z"
   },
   {
    "duration": 34,
    "start_time": "2022-12-27T11:54:24.578Z"
   },
   {
    "duration": 4086,
    "start_time": "2022-12-27T11:54:24.614Z"
   },
   {
    "duration": 2,
    "start_time": "2022-12-27T11:54:28.702Z"
   },
   {
    "duration": 4034,
    "start_time": "2022-12-27T11:54:28.705Z"
   },
   {
    "duration": 2,
    "start_time": "2022-12-27T11:54:32.742Z"
   },
   {
    "duration": 643,
    "start_time": "2022-12-27T11:54:32.746Z"
   },
   {
    "duration": 91,
    "start_time": "2022-12-27T11:54:33.392Z"
   },
   {
    "duration": 2901,
    "start_time": "2022-12-27T11:54:33.485Z"
   },
   {
    "duration": 3,
    "start_time": "2022-12-27T11:54:36.389Z"
   },
   {
    "duration": 12,
    "start_time": "2022-12-27T11:54:36.394Z"
   },
   {
    "duration": 5,
    "start_time": "2022-12-27T11:54:36.407Z"
   },
   {
    "duration": 6,
    "start_time": "2022-12-27T11:54:36.414Z"
   },
   {
    "duration": 5,
    "start_time": "2022-12-27T11:54:36.422Z"
   },
   {
    "duration": 5,
    "start_time": "2022-12-27T11:54:36.428Z"
   },
   {
    "duration": 11,
    "start_time": "2022-12-27T11:54:36.434Z"
   },
   {
    "duration": 1462,
    "start_time": "2022-12-27T11:54:36.446Z"
   },
   {
    "duration": 1486,
    "start_time": "2022-12-27T11:54:37.910Z"
   },
   {
    "duration": 3,
    "start_time": "2022-12-27T11:54:39.398Z"
   },
   {
    "duration": 5,
    "start_time": "2022-12-27T11:54:39.402Z"
   },
   {
    "duration": 2401,
    "start_time": "2022-12-27T11:54:39.409Z"
   },
   {
    "duration": 579,
    "start_time": "2022-12-27T11:54:41.813Z"
   },
   {
    "duration": 96,
    "start_time": "2022-12-27T11:54:42.393Z"
   },
   {
    "duration": 23,
    "start_time": "2022-12-27T11:54:42.491Z"
   },
   {
    "duration": 1189,
    "start_time": "2022-12-27T11:54:42.516Z"
   },
   {
    "duration": 674,
    "start_time": "2022-12-27T11:54:43.707Z"
   },
   {
    "duration": 22,
    "start_time": "2022-12-27T11:54:44.382Z"
   },
   {
    "duration": 84,
    "start_time": "2022-12-27T11:54:44.405Z"
   },
   {
    "duration": 500,
    "start_time": "2022-12-27T11:54:44.491Z"
   },
   {
    "duration": 491,
    "start_time": "2022-12-27T11:54:44.996Z"
   },
   {
    "duration": 39,
    "start_time": "2022-12-27T11:54:45.489Z"
   },
   {
    "duration": 3056,
    "start_time": "2022-12-27T11:54:45.530Z"
   },
   {
    "duration": 20,
    "start_time": "2022-12-27T11:54:48.588Z"
   },
   {
    "duration": 3,
    "start_time": "2022-12-27T11:54:48.675Z"
   },
   {
    "duration": 24,
    "start_time": "2022-12-27T11:54:48.680Z"
   },
   {
    "duration": 1890,
    "start_time": "2022-12-27T11:54:48.706Z"
   },
   {
    "duration": 87,
    "start_time": "2022-12-27T11:54:50.602Z"
   },
   {
    "duration": 10,
    "start_time": "2022-12-27T11:54:50.691Z"
   },
   {
    "duration": 1118,
    "start_time": "2022-12-27T11:54:50.703Z"
   },
   {
    "duration": 0,
    "start_time": "2022-12-27T11:54:51.823Z"
   },
   {
    "duration": 0,
    "start_time": "2022-12-27T11:54:51.824Z"
   },
   {
    "duration": 0,
    "start_time": "2022-12-27T11:54:51.826Z"
   },
   {
    "duration": 0,
    "start_time": "2022-12-27T11:54:51.827Z"
   },
   {
    "duration": 0,
    "start_time": "2022-12-27T11:54:51.828Z"
   },
   {
    "duration": 0,
    "start_time": "2022-12-27T11:54:51.829Z"
   },
   {
    "duration": 99,
    "start_time": "2022-12-27T11:55:32.860Z"
   },
   {
    "duration": 449,
    "start_time": "2022-12-27T11:56:53.879Z"
   },
   {
    "duration": 799,
    "start_time": "2022-12-27T11:56:54.330Z"
   },
   {
    "duration": 14877,
    "start_time": "2022-12-27T11:56:55.130Z"
   },
   {
    "duration": 8678,
    "start_time": "2022-12-27T11:57:10.011Z"
   },
   {
    "duration": 15,
    "start_time": "2022-12-27T11:57:18.691Z"
   },
   {
    "duration": 83,
    "start_time": "2022-12-27T11:57:18.707Z"
   },
   {
    "duration": 4408,
    "start_time": "2022-12-27T11:57:18.792Z"
   },
   {
    "duration": 3,
    "start_time": "2022-12-27T11:57:23.202Z"
   },
   {
    "duration": 4331,
    "start_time": "2022-12-27T11:57:23.207Z"
   },
   {
    "duration": 3,
    "start_time": "2022-12-27T11:57:27.541Z"
   },
   {
    "duration": 573,
    "start_time": "2022-12-27T11:57:27.546Z"
   },
   {
    "duration": 30,
    "start_time": "2022-12-27T11:57:28.176Z"
   },
   {
    "duration": 3165,
    "start_time": "2022-12-27T11:57:28.208Z"
   },
   {
    "duration": 3,
    "start_time": "2022-12-27T11:57:31.375Z"
   },
   {
    "duration": 30,
    "start_time": "2022-12-27T11:57:31.380Z"
   },
   {
    "duration": 25,
    "start_time": "2022-12-27T11:57:31.412Z"
   },
   {
    "duration": 27,
    "start_time": "2022-12-27T11:57:31.439Z"
   },
   {
    "duration": 12,
    "start_time": "2022-12-27T11:57:31.468Z"
   },
   {
    "duration": 15,
    "start_time": "2022-12-27T11:57:31.483Z"
   },
   {
    "duration": 25,
    "start_time": "2022-12-27T11:57:31.500Z"
   },
   {
    "duration": 1582,
    "start_time": "2022-12-27T11:57:31.527Z"
   },
   {
    "duration": 1601,
    "start_time": "2022-12-27T11:57:33.111Z"
   },
   {
    "duration": 3,
    "start_time": "2022-12-27T11:57:34.776Z"
   },
   {
    "duration": 14,
    "start_time": "2022-12-27T11:57:34.781Z"
   },
   {
    "duration": 3185,
    "start_time": "2022-12-27T11:57:34.798Z"
   },
   {
    "duration": 0,
    "start_time": "2022-12-27T11:57:37.986Z"
   },
   {
    "duration": 0,
    "start_time": "2022-12-27T11:57:37.987Z"
   },
   {
    "duration": 0,
    "start_time": "2022-12-27T11:57:37.988Z"
   },
   {
    "duration": 0,
    "start_time": "2022-12-27T11:57:37.989Z"
   },
   {
    "duration": 0,
    "start_time": "2022-12-27T11:57:37.990Z"
   },
   {
    "duration": 0,
    "start_time": "2022-12-27T11:57:37.991Z"
   },
   {
    "duration": 0,
    "start_time": "2022-12-27T11:57:37.992Z"
   },
   {
    "duration": 0,
    "start_time": "2022-12-27T11:57:37.993Z"
   },
   {
    "duration": 0,
    "start_time": "2022-12-27T11:57:37.994Z"
   },
   {
    "duration": 0,
    "start_time": "2022-12-27T11:57:37.995Z"
   },
   {
    "duration": 0,
    "start_time": "2022-12-27T11:57:37.997Z"
   },
   {
    "duration": 0,
    "start_time": "2022-12-27T11:57:37.998Z"
   },
   {
    "duration": 0,
    "start_time": "2022-12-27T11:57:37.999Z"
   },
   {
    "duration": 0,
    "start_time": "2022-12-27T11:57:38.000Z"
   },
   {
    "duration": 0,
    "start_time": "2022-12-27T11:57:38.001Z"
   },
   {
    "duration": 0,
    "start_time": "2022-12-27T11:57:38.002Z"
   },
   {
    "duration": 0,
    "start_time": "2022-12-27T11:57:38.003Z"
   },
   {
    "duration": 0,
    "start_time": "2022-12-27T11:57:38.005Z"
   },
   {
    "duration": 0,
    "start_time": "2022-12-27T11:57:38.006Z"
   },
   {
    "duration": 0,
    "start_time": "2022-12-27T11:57:38.007Z"
   },
   {
    "duration": 0,
    "start_time": "2022-12-27T11:57:38.008Z"
   },
   {
    "duration": 0,
    "start_time": "2022-12-27T11:57:38.009Z"
   },
   {
    "duration": 0,
    "start_time": "2022-12-27T11:57:38.011Z"
   },
   {
    "duration": 0,
    "start_time": "2022-12-27T11:57:38.012Z"
   },
   {
    "duration": 415,
    "start_time": "2022-12-27T12:01:32.233Z"
   },
   {
    "duration": 838,
    "start_time": "2022-12-27T12:01:32.650Z"
   },
   {
    "duration": 15133,
    "start_time": "2022-12-27T12:01:33.490Z"
   },
   {
    "duration": 8418,
    "start_time": "2022-12-27T12:01:48.678Z"
   },
   {
    "duration": 78,
    "start_time": "2022-12-27T12:01:57.099Z"
   },
   {
    "duration": 32,
    "start_time": "2022-12-27T12:01:57.179Z"
   },
   {
    "duration": 4415,
    "start_time": "2022-12-27T12:01:57.277Z"
   },
   {
    "duration": 3,
    "start_time": "2022-12-27T12:02:01.694Z"
   },
   {
    "duration": 4778,
    "start_time": "2022-12-27T12:02:01.698Z"
   },
   {
    "duration": 3,
    "start_time": "2022-12-27T12:02:06.479Z"
   },
   {
    "duration": 525,
    "start_time": "2022-12-27T12:02:06.484Z"
   },
   {
    "duration": 84,
    "start_time": "2022-12-27T12:02:07.010Z"
   },
   {
    "duration": 3228,
    "start_time": "2022-12-27T12:02:07.096Z"
   },
   {
    "duration": 3,
    "start_time": "2022-12-27T12:02:10.325Z"
   },
   {
    "duration": 35,
    "start_time": "2022-12-27T12:02:10.330Z"
   },
   {
    "duration": 13,
    "start_time": "2022-12-27T12:02:10.367Z"
   },
   {
    "duration": 36,
    "start_time": "2022-12-27T12:02:10.381Z"
   },
   {
    "duration": 10,
    "start_time": "2022-12-27T12:02:10.418Z"
   },
   {
    "duration": 16,
    "start_time": "2022-12-27T12:02:10.430Z"
   },
   {
    "duration": 29,
    "start_time": "2022-12-27T12:02:10.447Z"
   },
   {
    "duration": 1212,
    "start_time": "2022-12-27T12:02:10.477Z"
   },
   {
    "duration": 1587,
    "start_time": "2022-12-27T12:02:11.690Z"
   },
   {
    "duration": 2,
    "start_time": "2022-12-27T12:02:13.279Z"
   },
   {
    "duration": 7,
    "start_time": "2022-12-27T12:02:13.283Z"
   },
   {
    "duration": 3263,
    "start_time": "2022-12-27T12:02:13.292Z"
   },
   {
    "duration": 0,
    "start_time": "2022-12-27T12:02:16.557Z"
   },
   {
    "duration": 0,
    "start_time": "2022-12-27T12:02:16.558Z"
   },
   {
    "duration": 0,
    "start_time": "2022-12-27T12:02:16.576Z"
   },
   {
    "duration": 0,
    "start_time": "2022-12-27T12:02:16.577Z"
   },
   {
    "duration": 0,
    "start_time": "2022-12-27T12:02:16.578Z"
   },
   {
    "duration": 0,
    "start_time": "2022-12-27T12:02:16.579Z"
   },
   {
    "duration": 0,
    "start_time": "2022-12-27T12:02:16.581Z"
   },
   {
    "duration": 0,
    "start_time": "2022-12-27T12:02:16.582Z"
   },
   {
    "duration": 0,
    "start_time": "2022-12-27T12:02:16.583Z"
   },
   {
    "duration": 0,
    "start_time": "2022-12-27T12:02:16.584Z"
   },
   {
    "duration": 0,
    "start_time": "2022-12-27T12:02:16.586Z"
   },
   {
    "duration": 0,
    "start_time": "2022-12-27T12:02:16.587Z"
   },
   {
    "duration": 0,
    "start_time": "2022-12-27T12:02:16.589Z"
   },
   {
    "duration": 0,
    "start_time": "2022-12-27T12:02:16.590Z"
   },
   {
    "duration": 0,
    "start_time": "2022-12-27T12:02:16.591Z"
   },
   {
    "duration": 1,
    "start_time": "2022-12-27T12:02:16.591Z"
   },
   {
    "duration": 0,
    "start_time": "2022-12-27T12:02:16.593Z"
   },
   {
    "duration": 0,
    "start_time": "2022-12-27T12:02:16.594Z"
   },
   {
    "duration": 0,
    "start_time": "2022-12-27T12:02:16.595Z"
   },
   {
    "duration": 0,
    "start_time": "2022-12-27T12:02:16.596Z"
   },
   {
    "duration": 0,
    "start_time": "2022-12-27T12:02:16.598Z"
   },
   {
    "duration": 0,
    "start_time": "2022-12-27T12:02:16.599Z"
   },
   {
    "duration": 0,
    "start_time": "2022-12-27T12:02:16.600Z"
   },
   {
    "duration": 0,
    "start_time": "2022-12-27T12:02:16.601Z"
   },
   {
    "duration": 453,
    "start_time": "2022-12-27T12:03:16.658Z"
   },
   {
    "duration": 712,
    "start_time": "2022-12-27T12:03:17.113Z"
   },
   {
    "duration": 14595,
    "start_time": "2022-12-27T12:03:17.827Z"
   },
   {
    "duration": 8015,
    "start_time": "2022-12-27T12:03:32.475Z"
   },
   {
    "duration": 14,
    "start_time": "2022-12-27T12:03:40.492Z"
   },
   {
    "duration": 90,
    "start_time": "2022-12-27T12:03:40.508Z"
   },
   {
    "duration": 4187,
    "start_time": "2022-12-27T12:03:40.599Z"
   },
   {
    "duration": 4,
    "start_time": "2022-12-27T12:03:44.788Z"
   },
   {
    "duration": 4100,
    "start_time": "2022-12-27T12:03:44.793Z"
   },
   {
    "duration": 2,
    "start_time": "2022-12-27T12:03:48.896Z"
   },
   {
    "duration": 617,
    "start_time": "2022-12-27T12:03:48.899Z"
   },
   {
    "duration": 84,
    "start_time": "2022-12-27T12:03:49.518Z"
   },
   {
    "duration": 2996,
    "start_time": "2022-12-27T12:03:49.604Z"
   },
   {
    "duration": 4,
    "start_time": "2022-12-27T12:03:52.602Z"
   },
   {
    "duration": 69,
    "start_time": "2022-12-27T12:03:52.608Z"
   },
   {
    "duration": 8,
    "start_time": "2022-12-27T12:03:52.679Z"
   },
   {
    "duration": 6,
    "start_time": "2022-12-27T12:03:52.688Z"
   },
   {
    "duration": 5,
    "start_time": "2022-12-27T12:03:52.696Z"
   },
   {
    "duration": 15,
    "start_time": "2022-12-27T12:03:52.703Z"
   },
   {
    "duration": 7,
    "start_time": "2022-12-27T12:03:52.720Z"
   },
   {
    "duration": 1613,
    "start_time": "2022-12-27T12:03:52.777Z"
   },
   {
    "duration": 1485,
    "start_time": "2022-12-27T12:03:54.392Z"
   },
   {
    "duration": 2,
    "start_time": "2022-12-27T12:03:55.879Z"
   },
   {
    "duration": 12,
    "start_time": "2022-12-27T12:03:55.883Z"
   },
   {
    "duration": 2298,
    "start_time": "2022-12-27T12:03:55.896Z"
   },
   {
    "duration": 0,
    "start_time": "2022-12-27T12:03:58.196Z"
   },
   {
    "duration": 0,
    "start_time": "2022-12-27T12:03:58.197Z"
   },
   {
    "duration": 0,
    "start_time": "2022-12-27T12:03:58.198Z"
   },
   {
    "duration": 0,
    "start_time": "2022-12-27T12:03:58.199Z"
   },
   {
    "duration": 0,
    "start_time": "2022-12-27T12:03:58.200Z"
   },
   {
    "duration": 0,
    "start_time": "2022-12-27T12:03:58.201Z"
   },
   {
    "duration": 0,
    "start_time": "2022-12-27T12:03:58.202Z"
   },
   {
    "duration": 0,
    "start_time": "2022-12-27T12:03:58.204Z"
   },
   {
    "duration": 0,
    "start_time": "2022-12-27T12:03:58.205Z"
   },
   {
    "duration": 0,
    "start_time": "2022-12-27T12:03:58.206Z"
   },
   {
    "duration": 0,
    "start_time": "2022-12-27T12:03:58.207Z"
   },
   {
    "duration": 0,
    "start_time": "2022-12-27T12:03:58.208Z"
   },
   {
    "duration": 0,
    "start_time": "2022-12-27T12:03:58.210Z"
   },
   {
    "duration": 0,
    "start_time": "2022-12-27T12:03:58.211Z"
   },
   {
    "duration": 0,
    "start_time": "2022-12-27T12:03:58.212Z"
   },
   {
    "duration": 0,
    "start_time": "2022-12-27T12:03:58.213Z"
   },
   {
    "duration": 0,
    "start_time": "2022-12-27T12:03:58.214Z"
   },
   {
    "duration": 0,
    "start_time": "2022-12-27T12:03:58.215Z"
   },
   {
    "duration": 0,
    "start_time": "2022-12-27T12:03:58.216Z"
   },
   {
    "duration": 0,
    "start_time": "2022-12-27T12:03:58.216Z"
   },
   {
    "duration": 0,
    "start_time": "2022-12-27T12:03:58.217Z"
   },
   {
    "duration": 0,
    "start_time": "2022-12-27T12:03:58.218Z"
   },
   {
    "duration": 0,
    "start_time": "2022-12-27T12:03:58.219Z"
   },
   {
    "duration": 0,
    "start_time": "2022-12-27T12:03:58.220Z"
   },
   {
    "duration": 93,
    "start_time": "2022-12-27T12:06:41.456Z"
   },
   {
    "duration": 595,
    "start_time": "2022-12-27T12:06:48.110Z"
   },
   {
    "duration": 488,
    "start_time": "2022-12-27T12:06:48.824Z"
   },
   {
    "duration": 3,
    "start_time": "2022-12-27T12:06:49.867Z"
   },
   {
    "duration": 3,
    "start_time": "2022-12-27T12:06:50.622Z"
   },
   {
    "duration": 1510,
    "start_time": "2022-12-27T12:06:52.677Z"
   },
   {
    "duration": 466,
    "start_time": "2022-12-27T12:07:02.123Z"
   },
   {
    "duration": 414,
    "start_time": "2022-12-27T12:07:15.618Z"
   },
   {
    "duration": 774,
    "start_time": "2022-12-27T12:07:16.034Z"
   },
   {
    "duration": 15801,
    "start_time": "2022-12-27T12:07:16.809Z"
   },
   {
    "duration": 8770,
    "start_time": "2022-12-27T12:07:32.612Z"
   },
   {
    "duration": 14,
    "start_time": "2022-12-27T12:07:41.384Z"
   },
   {
    "duration": 97,
    "start_time": "2022-12-27T12:07:41.400Z"
   },
   {
    "duration": 4188,
    "start_time": "2022-12-27T12:07:41.499Z"
   },
   {
    "duration": 3,
    "start_time": "2022-12-27T12:07:45.689Z"
   },
   {
    "duration": 3886,
    "start_time": "2022-12-27T12:07:45.694Z"
   },
   {
    "duration": 3,
    "start_time": "2022-12-27T12:07:49.582Z"
   },
   {
    "duration": 599,
    "start_time": "2022-12-27T12:07:49.586Z"
   },
   {
    "duration": 90,
    "start_time": "2022-12-27T12:07:50.186Z"
   },
   {
    "duration": 2927,
    "start_time": "2022-12-27T12:07:50.278Z"
   },
   {
    "duration": 3,
    "start_time": "2022-12-27T12:07:53.206Z"
   },
   {
    "duration": 11,
    "start_time": "2022-12-27T12:07:53.210Z"
   },
   {
    "duration": 6,
    "start_time": "2022-12-27T12:07:53.223Z"
   },
   {
    "duration": 5,
    "start_time": "2022-12-27T12:07:53.230Z"
   },
   {
    "duration": 5,
    "start_time": "2022-12-27T12:07:53.237Z"
   },
   {
    "duration": 8,
    "start_time": "2022-12-27T12:07:53.243Z"
   },
   {
    "duration": 24,
    "start_time": "2022-12-27T12:07:53.253Z"
   },
   {
    "duration": 1200,
    "start_time": "2022-12-27T12:07:53.279Z"
   },
   {
    "duration": 1518,
    "start_time": "2022-12-27T12:07:54.481Z"
   },
   {
    "duration": 2,
    "start_time": "2022-12-27T12:07:56.002Z"
   },
   {
    "duration": 89,
    "start_time": "2022-12-27T12:07:56.006Z"
   },
   {
    "duration": 2598,
    "start_time": "2022-12-27T12:07:56.097Z"
   },
   {
    "duration": 533,
    "start_time": "2022-12-27T12:07:58.697Z"
   },
   {
    "duration": 84,
    "start_time": "2022-12-27T12:07:59.232Z"
   },
   {
    "duration": 81,
    "start_time": "2022-12-27T12:07:59.319Z"
   },
   {
    "duration": 997,
    "start_time": "2022-12-27T12:07:59.402Z"
   },
   {
    "duration": 888,
    "start_time": "2022-12-27T12:08:00.401Z"
   },
   {
    "duration": 85,
    "start_time": "2022-12-27T12:08:01.291Z"
   },
   {
    "duration": 20,
    "start_time": "2022-12-27T12:08:01.378Z"
   },
   {
    "duration": 584,
    "start_time": "2022-12-27T12:08:01.400Z"
   },
   {
    "duration": 422,
    "start_time": "2022-12-27T12:08:01.986Z"
   },
   {
    "duration": 81,
    "start_time": "2022-12-27T12:08:02.410Z"
   },
   {
    "duration": 3810,
    "start_time": "2022-12-27T12:08:02.492Z"
   },
   {
    "duration": 88,
    "start_time": "2022-12-27T12:08:06.304Z"
   },
   {
    "duration": 2,
    "start_time": "2022-12-27T12:08:06.394Z"
   },
   {
    "duration": 14,
    "start_time": "2022-12-27T12:08:06.398Z"
   },
   {
    "duration": 1978,
    "start_time": "2022-12-27T12:08:06.414Z"
   },
   {
    "duration": 82,
    "start_time": "2022-12-27T12:08:08.394Z"
   },
   {
    "duration": 10,
    "start_time": "2022-12-27T12:08:08.479Z"
   },
   {
    "duration": 956,
    "start_time": "2022-12-27T12:08:08.491Z"
   },
   {
    "duration": 0,
    "start_time": "2022-12-27T12:08:09.449Z"
   },
   {
    "duration": 0,
    "start_time": "2022-12-27T12:08:09.451Z"
   },
   {
    "duration": 0,
    "start_time": "2022-12-27T12:08:09.452Z"
   },
   {
    "duration": 0,
    "start_time": "2022-12-27T12:08:09.454Z"
   },
   {
    "duration": 0,
    "start_time": "2022-12-27T12:08:09.455Z"
   },
   {
    "duration": 0,
    "start_time": "2022-12-27T12:08:09.456Z"
   },
   {
    "duration": 448,
    "start_time": "2022-12-27T12:12:45.452Z"
   },
   {
    "duration": 734,
    "start_time": "2022-12-27T12:12:45.901Z"
   },
   {
    "duration": 14644,
    "start_time": "2022-12-27T12:12:46.637Z"
   },
   {
    "duration": 8400,
    "start_time": "2022-12-27T12:13:01.283Z"
   },
   {
    "duration": 16,
    "start_time": "2022-12-27T12:13:09.685Z"
   },
   {
    "duration": 90,
    "start_time": "2022-12-27T12:13:09.703Z"
   },
   {
    "duration": 4083,
    "start_time": "2022-12-27T12:13:09.794Z"
   },
   {
    "duration": 3,
    "start_time": "2022-12-27T12:13:13.879Z"
   },
   {
    "duration": 4423,
    "start_time": "2022-12-27T12:13:13.883Z"
   },
   {
    "duration": 2,
    "start_time": "2022-12-27T12:13:18.310Z"
   },
   {
    "duration": 605,
    "start_time": "2022-12-27T12:13:18.313Z"
   },
   {
    "duration": 28,
    "start_time": "2022-12-27T12:13:18.977Z"
   },
   {
    "duration": 2677,
    "start_time": "2022-12-27T12:13:19.007Z"
   },
   {
    "duration": 3,
    "start_time": "2022-12-27T12:13:21.686Z"
   },
   {
    "duration": 11,
    "start_time": "2022-12-27T12:13:21.690Z"
   },
   {
    "duration": 6,
    "start_time": "2022-12-27T12:13:21.702Z"
   },
   {
    "duration": 10,
    "start_time": "2022-12-27T12:13:21.709Z"
   },
   {
    "duration": 2,
    "start_time": "2022-12-27T12:13:21.777Z"
   },
   {
    "duration": 7,
    "start_time": "2022-12-27T12:13:21.781Z"
   },
   {
    "duration": 9,
    "start_time": "2022-12-27T12:13:21.789Z"
   },
   {
    "duration": 1481,
    "start_time": "2022-12-27T12:13:21.800Z"
   },
   {
    "duration": 1323,
    "start_time": "2022-12-27T12:13:23.282Z"
   },
   {
    "duration": 3,
    "start_time": "2022-12-27T12:13:24.607Z"
   },
   {
    "duration": 65,
    "start_time": "2022-12-27T12:13:24.612Z"
   },
   {
    "duration": 59,
    "start_time": "2022-12-27T12:13:24.679Z"
   },
   {
    "duration": 0,
    "start_time": "2022-12-27T12:13:24.741Z"
   },
   {
    "duration": 0,
    "start_time": "2022-12-27T12:13:24.742Z"
   },
   {
    "duration": 0,
    "start_time": "2022-12-27T12:13:24.744Z"
   },
   {
    "duration": 0,
    "start_time": "2022-12-27T12:13:24.745Z"
   },
   {
    "duration": 0,
    "start_time": "2022-12-27T12:13:24.747Z"
   },
   {
    "duration": 0,
    "start_time": "2022-12-27T12:13:24.748Z"
   },
   {
    "duration": 0,
    "start_time": "2022-12-27T12:13:24.749Z"
   },
   {
    "duration": 0,
    "start_time": "2022-12-27T12:13:24.751Z"
   },
   {
    "duration": 0,
    "start_time": "2022-12-27T12:13:24.752Z"
   },
   {
    "duration": 0,
    "start_time": "2022-12-27T12:13:24.753Z"
   },
   {
    "duration": 0,
    "start_time": "2022-12-27T12:13:24.754Z"
   },
   {
    "duration": 0,
    "start_time": "2022-12-27T12:13:24.756Z"
   },
   {
    "duration": 0,
    "start_time": "2022-12-27T12:13:24.776Z"
   },
   {
    "duration": 0,
    "start_time": "2022-12-27T12:13:24.778Z"
   },
   {
    "duration": 0,
    "start_time": "2022-12-27T12:13:24.779Z"
   },
   {
    "duration": 0,
    "start_time": "2022-12-27T12:13:24.780Z"
   },
   {
    "duration": 0,
    "start_time": "2022-12-27T12:13:24.782Z"
   },
   {
    "duration": 0,
    "start_time": "2022-12-27T12:13:24.784Z"
   },
   {
    "duration": 0,
    "start_time": "2022-12-27T12:13:24.785Z"
   },
   {
    "duration": 0,
    "start_time": "2022-12-27T12:13:24.787Z"
   },
   {
    "duration": 0,
    "start_time": "2022-12-27T12:13:24.788Z"
   },
   {
    "duration": 0,
    "start_time": "2022-12-27T12:13:24.789Z"
   },
   {
    "duration": 0,
    "start_time": "2022-12-27T12:13:24.790Z"
   },
   {
    "duration": 0,
    "start_time": "2022-12-27T12:13:24.792Z"
   },
   {
    "duration": 50,
    "start_time": "2022-12-27T12:13:37.739Z"
   },
   {
    "duration": 3385,
    "start_time": "2022-12-27T12:14:37.631Z"
   },
   {
    "duration": 485,
    "start_time": "2022-12-27T12:14:50.367Z"
   },
   {
    "duration": 808,
    "start_time": "2022-12-27T12:14:50.854Z"
   },
   {
    "duration": 16762,
    "start_time": "2022-12-27T12:14:51.664Z"
   },
   {
    "duration": 11405,
    "start_time": "2022-12-27T12:15:08.477Z"
   },
   {
    "duration": 24,
    "start_time": "2022-12-27T12:15:19.884Z"
   },
   {
    "duration": 101,
    "start_time": "2022-12-27T12:15:19.909Z"
   },
   {
    "duration": 5872,
    "start_time": "2022-12-27T12:15:20.011Z"
   },
   {
    "duration": 4,
    "start_time": "2022-12-27T12:15:25.885Z"
   },
   {
    "duration": 4600,
    "start_time": "2022-12-27T12:15:25.891Z"
   },
   {
    "duration": 4,
    "start_time": "2022-12-27T12:15:30.494Z"
   },
   {
    "duration": 799,
    "start_time": "2022-12-27T12:15:30.500Z"
   },
   {
    "duration": 86,
    "start_time": "2022-12-27T12:15:31.301Z"
   },
   {
    "duration": 3621,
    "start_time": "2022-12-27T12:15:31.389Z"
   },
   {
    "duration": 3,
    "start_time": "2022-12-27T12:15:35.013Z"
   },
   {
    "duration": 21,
    "start_time": "2022-12-27T12:15:35.018Z"
   },
   {
    "duration": 6,
    "start_time": "2022-12-27T12:15:35.041Z"
   },
   {
    "duration": 8,
    "start_time": "2022-12-27T12:15:35.049Z"
   },
   {
    "duration": 28,
    "start_time": "2022-12-27T12:15:35.076Z"
   },
   {
    "duration": 6,
    "start_time": "2022-12-27T12:15:35.106Z"
   },
   {
    "duration": 7,
    "start_time": "2022-12-27T12:15:35.113Z"
   },
   {
    "duration": 1668,
    "start_time": "2022-12-27T12:15:35.122Z"
   },
   {
    "duration": 1791,
    "start_time": "2022-12-27T12:15:36.792Z"
   },
   {
    "duration": 4,
    "start_time": "2022-12-27T12:15:38.585Z"
   },
   {
    "duration": 12,
    "start_time": "2022-12-27T12:15:38.592Z"
   },
   {
    "duration": 2902,
    "start_time": "2022-12-27T12:15:38.606Z"
   },
   {
    "duration": 772,
    "start_time": "2022-12-27T12:15:41.510Z"
   },
   {
    "duration": 90,
    "start_time": "2022-12-27T12:15:42.286Z"
   },
   {
    "duration": 31,
    "start_time": "2022-12-27T12:15:42.382Z"
   },
   {
    "duration": 1494,
    "start_time": "2022-12-27T12:15:42.414Z"
   },
   {
    "duration": 808,
    "start_time": "2022-12-27T12:15:43.911Z"
   },
   {
    "duration": 33,
    "start_time": "2022-12-27T12:15:44.778Z"
   },
   {
    "duration": 86,
    "start_time": "2022-12-27T12:15:44.813Z"
   },
   {
    "duration": 648,
    "start_time": "2022-12-27T12:15:44.901Z"
   },
   {
    "duration": 639,
    "start_time": "2022-12-27T12:15:45.551Z"
   },
   {
    "duration": 108,
    "start_time": "2022-12-27T12:15:46.192Z"
   },
   {
    "duration": 3708,
    "start_time": "2022-12-27T12:15:46.303Z"
   },
   {
    "duration": 88,
    "start_time": "2022-12-27T12:15:50.012Z"
   },
   {
    "duration": 4,
    "start_time": "2022-12-27T12:15:50.102Z"
   },
   {
    "duration": 75,
    "start_time": "2022-12-27T12:15:50.108Z"
   },
   {
    "duration": 2091,
    "start_time": "2022-12-27T12:15:50.185Z"
   },
   {
    "duration": 32,
    "start_time": "2022-12-27T12:15:52.279Z"
   },
   {
    "duration": 70,
    "start_time": "2022-12-27T12:15:52.313Z"
   },
   {
    "duration": 1084,
    "start_time": "2022-12-27T12:15:52.385Z"
   },
   {
    "duration": 0,
    "start_time": "2022-12-27T12:15:53.471Z"
   },
   {
    "duration": 0,
    "start_time": "2022-12-27T12:15:53.473Z"
   },
   {
    "duration": 0,
    "start_time": "2022-12-27T12:15:53.475Z"
   },
   {
    "duration": 0,
    "start_time": "2022-12-27T12:15:53.477Z"
   },
   {
    "duration": 0,
    "start_time": "2022-12-27T12:15:53.478Z"
   },
   {
    "duration": 0,
    "start_time": "2022-12-27T12:15:53.484Z"
   },
   {
    "duration": 481,
    "start_time": "2022-12-27T12:16:40.173Z"
   },
   {
    "duration": 820,
    "start_time": "2022-12-27T12:16:40.656Z"
   },
   {
    "duration": 16044,
    "start_time": "2022-12-27T12:16:41.479Z"
   },
   {
    "duration": 9805,
    "start_time": "2022-12-27T12:16:57.579Z"
   },
   {
    "duration": 20,
    "start_time": "2022-12-27T12:17:07.386Z"
   },
   {
    "duration": 104,
    "start_time": "2022-12-27T12:17:07.408Z"
   },
   {
    "duration": 5589,
    "start_time": "2022-12-27T12:17:07.514Z"
   },
   {
    "duration": 2,
    "start_time": "2022-12-27T12:17:13.105Z"
   },
   {
    "duration": 4273,
    "start_time": "2022-12-27T12:17:13.108Z"
   },
   {
    "duration": 2,
    "start_time": "2022-12-27T12:17:17.385Z"
   },
   {
    "duration": 697,
    "start_time": "2022-12-27T12:17:17.389Z"
   },
   {
    "duration": 36,
    "start_time": "2022-12-27T12:17:18.088Z"
   },
   {
    "duration": 3109,
    "start_time": "2022-12-27T12:17:18.177Z"
   },
   {
    "duration": 3,
    "start_time": "2022-12-27T12:17:21.287Z"
   },
   {
    "duration": 17,
    "start_time": "2022-12-27T12:17:21.292Z"
   },
   {
    "duration": 6,
    "start_time": "2022-12-27T12:17:21.311Z"
   },
   {
    "duration": 17,
    "start_time": "2022-12-27T12:17:21.318Z"
   },
   {
    "duration": 2,
    "start_time": "2022-12-27T12:17:21.376Z"
   },
   {
    "duration": 7,
    "start_time": "2022-12-27T12:17:21.379Z"
   },
   {
    "duration": 11,
    "start_time": "2022-12-27T12:17:21.388Z"
   },
   {
    "duration": 1323,
    "start_time": "2022-12-27T12:17:21.400Z"
   },
   {
    "duration": 1456,
    "start_time": "2022-12-27T12:17:22.725Z"
   },
   {
    "duration": 2,
    "start_time": "2022-12-27T12:17:24.183Z"
   },
   {
    "duration": 5,
    "start_time": "2022-12-27T12:17:24.187Z"
   },
   {
    "duration": 2803,
    "start_time": "2022-12-27T12:17:24.194Z"
   },
   {
    "duration": 582,
    "start_time": "2022-12-27T12:17:26.999Z"
   },
   {
    "duration": 110,
    "start_time": "2022-12-27T12:17:27.583Z"
   },
   {
    "duration": 83,
    "start_time": "2022-12-27T12:17:27.696Z"
   },
   {
    "duration": 929,
    "start_time": "2022-12-27T12:17:27.781Z"
   },
   {
    "duration": 686,
    "start_time": "2022-12-27T12:17:28.712Z"
   },
   {
    "duration": 81,
    "start_time": "2022-12-27T12:17:29.400Z"
   },
   {
    "duration": 24,
    "start_time": "2022-12-27T12:17:29.483Z"
   },
   {
    "duration": 470,
    "start_time": "2022-12-27T12:17:29.508Z"
   },
   {
    "duration": 424,
    "start_time": "2022-12-27T12:17:29.979Z"
   },
   {
    "duration": 37,
    "start_time": "2022-12-27T12:17:30.405Z"
   },
   {
    "duration": 3737,
    "start_time": "2022-12-27T12:17:30.444Z"
   },
   {
    "duration": 21,
    "start_time": "2022-12-27T12:17:34.183Z"
   },
   {
    "duration": 3,
    "start_time": "2022-12-27T12:17:34.206Z"
   },
   {
    "duration": 78,
    "start_time": "2022-12-27T12:17:34.210Z"
   },
   {
    "duration": 1792,
    "start_time": "2022-12-27T12:17:34.290Z"
   },
   {
    "duration": 18,
    "start_time": "2022-12-27T12:17:36.083Z"
   },
   {
    "duration": 84,
    "start_time": "2022-12-27T12:17:36.102Z"
   },
   {
    "duration": 1077,
    "start_time": "2022-12-27T12:17:36.188Z"
   },
   {
    "duration": 0,
    "start_time": "2022-12-27T12:17:37.267Z"
   },
   {
    "duration": 0,
    "start_time": "2022-12-27T12:17:37.269Z"
   },
   {
    "duration": 0,
    "start_time": "2022-12-27T12:17:37.270Z"
   },
   {
    "duration": 0,
    "start_time": "2022-12-27T12:17:37.271Z"
   },
   {
    "duration": 0,
    "start_time": "2022-12-27T12:17:37.272Z"
   },
   {
    "duration": 0,
    "start_time": "2022-12-27T12:17:37.273Z"
   },
   {
    "duration": 388,
    "start_time": "2022-12-27T12:26:56.336Z"
   },
   {
    "duration": 811,
    "start_time": "2022-12-27T12:26:56.726Z"
   },
   {
    "duration": 15364,
    "start_time": "2022-12-27T12:26:57.539Z"
   },
   {
    "duration": 8679,
    "start_time": "2022-12-27T12:27:12.906Z"
   },
   {
    "duration": 24,
    "start_time": "2022-12-27T12:27:21.587Z"
   },
   {
    "duration": 91,
    "start_time": "2022-12-27T12:27:21.613Z"
   },
   {
    "duration": 4513,
    "start_time": "2022-12-27T12:27:21.706Z"
   },
   {
    "duration": 3,
    "start_time": "2022-12-27T12:27:26.221Z"
   },
   {
    "duration": 4262,
    "start_time": "2022-12-27T12:27:26.226Z"
   },
   {
    "duration": 2,
    "start_time": "2022-12-27T12:27:30.491Z"
   },
   {
    "duration": 713,
    "start_time": "2022-12-27T12:27:30.495Z"
   },
   {
    "duration": 83,
    "start_time": "2022-12-27T12:27:31.210Z"
   },
   {
    "duration": 3383,
    "start_time": "2022-12-27T12:27:31.294Z"
   },
   {
    "duration": 3,
    "start_time": "2022-12-27T12:27:34.679Z"
   },
   {
    "duration": 10,
    "start_time": "2022-12-27T12:27:34.684Z"
   },
   {
    "duration": 46,
    "start_time": "2022-12-27T12:27:34.695Z"
   },
   {
    "duration": 73,
    "start_time": "2022-12-27T12:27:34.743Z"
   },
   {
    "duration": 44,
    "start_time": "2022-12-27T12:27:34.818Z"
   },
   {
    "duration": 32,
    "start_time": "2022-12-27T12:27:34.865Z"
   },
   {
    "duration": 30,
    "start_time": "2022-12-27T12:27:34.899Z"
   },
   {
    "duration": 1575,
    "start_time": "2022-12-27T12:27:34.931Z"
   },
   {
    "duration": 1501,
    "start_time": "2022-12-27T12:27:36.508Z"
   },
   {
    "duration": 65,
    "start_time": "2022-12-27T12:27:38.011Z"
   },
   {
    "duration": 3,
    "start_time": "2022-12-27T12:27:38.078Z"
   },
   {
    "duration": 218,
    "start_time": "2022-12-27T12:27:38.082Z"
   },
   {
    "duration": 0,
    "start_time": "2022-12-27T12:27:38.302Z"
   },
   {
    "duration": 0,
    "start_time": "2022-12-27T12:27:38.304Z"
   },
   {
    "duration": 0,
    "start_time": "2022-12-27T12:27:38.305Z"
   },
   {
    "duration": 0,
    "start_time": "2022-12-27T12:27:38.306Z"
   },
   {
    "duration": 0,
    "start_time": "2022-12-27T12:27:38.307Z"
   },
   {
    "duration": 0,
    "start_time": "2022-12-27T12:27:38.309Z"
   },
   {
    "duration": 0,
    "start_time": "2022-12-27T12:27:38.310Z"
   },
   {
    "duration": 0,
    "start_time": "2022-12-27T12:27:38.311Z"
   },
   {
    "duration": 0,
    "start_time": "2022-12-27T12:27:38.313Z"
   },
   {
    "duration": 0,
    "start_time": "2022-12-27T12:27:38.314Z"
   },
   {
    "duration": 0,
    "start_time": "2022-12-27T12:27:38.315Z"
   },
   {
    "duration": 0,
    "start_time": "2022-12-27T12:27:38.316Z"
   },
   {
    "duration": 0,
    "start_time": "2022-12-27T12:27:38.317Z"
   },
   {
    "duration": 0,
    "start_time": "2022-12-27T12:27:38.319Z"
   },
   {
    "duration": 0,
    "start_time": "2022-12-27T12:27:38.320Z"
   },
   {
    "duration": 0,
    "start_time": "2022-12-27T12:27:38.321Z"
   },
   {
    "duration": 0,
    "start_time": "2022-12-27T12:27:38.322Z"
   },
   {
    "duration": 0,
    "start_time": "2022-12-27T12:27:38.323Z"
   },
   {
    "duration": 0,
    "start_time": "2022-12-27T12:27:38.325Z"
   },
   {
    "duration": 0,
    "start_time": "2022-12-27T12:27:38.327Z"
   },
   {
    "duration": 0,
    "start_time": "2022-12-27T12:27:38.328Z"
   },
   {
    "duration": 0,
    "start_time": "2022-12-27T12:27:38.377Z"
   },
   {
    "duration": 0,
    "start_time": "2022-12-27T12:27:38.378Z"
   },
   {
    "duration": 0,
    "start_time": "2022-12-27T12:27:38.379Z"
   },
   {
    "duration": 377,
    "start_time": "2022-12-27T12:28:56.229Z"
   },
   {
    "duration": 701,
    "start_time": "2022-12-27T12:28:56.608Z"
   },
   {
    "duration": 14613,
    "start_time": "2022-12-27T12:28:57.311Z"
   },
   {
    "duration": 7753,
    "start_time": "2022-12-27T12:29:11.926Z"
   },
   {
    "duration": 13,
    "start_time": "2022-12-27T12:29:19.681Z"
   },
   {
    "duration": 89,
    "start_time": "2022-12-27T12:29:19.696Z"
   },
   {
    "duration": 3921,
    "start_time": "2022-12-27T12:29:19.787Z"
   },
   {
    "duration": 3,
    "start_time": "2022-12-27T12:29:23.709Z"
   },
   {
    "duration": 4304,
    "start_time": "2022-12-27T12:29:23.713Z"
   },
   {
    "duration": 3,
    "start_time": "2022-12-27T12:29:28.020Z"
   },
   {
    "duration": 542,
    "start_time": "2022-12-27T12:29:28.077Z"
   },
   {
    "duration": 28,
    "start_time": "2022-12-27T12:29:28.677Z"
   },
   {
    "duration": 3269,
    "start_time": "2022-12-27T12:29:28.707Z"
   },
   {
    "duration": 3,
    "start_time": "2022-12-27T12:29:31.978Z"
   },
   {
    "duration": 50,
    "start_time": "2022-12-27T12:29:31.982Z"
   },
   {
    "duration": 8,
    "start_time": "2022-12-27T12:29:32.033Z"
   },
   {
    "duration": 7,
    "start_time": "2022-12-27T12:29:32.042Z"
   },
   {
    "duration": 32,
    "start_time": "2022-12-27T12:29:32.050Z"
   },
   {
    "duration": 39,
    "start_time": "2022-12-27T12:29:32.084Z"
   },
   {
    "duration": 6,
    "start_time": "2022-12-27T12:29:32.125Z"
   },
   {
    "duration": 1381,
    "start_time": "2022-12-27T12:29:32.133Z"
   },
   {
    "duration": 1801,
    "start_time": "2022-12-27T12:29:33.576Z"
   },
   {
    "duration": 3,
    "start_time": "2022-12-27T12:29:35.378Z"
   },
   {
    "duration": 5,
    "start_time": "2022-12-27T12:29:35.384Z"
   },
   {
    "duration": 2890,
    "start_time": "2022-12-27T12:29:35.390Z"
   },
   {
    "duration": 607,
    "start_time": "2022-12-27T12:29:38.281Z"
   },
   {
    "duration": 103,
    "start_time": "2022-12-27T12:29:38.890Z"
   },
   {
    "duration": 82,
    "start_time": "2022-12-27T12:29:38.996Z"
   },
   {
    "duration": 1011,
    "start_time": "2022-12-27T12:29:39.080Z"
   },
   {
    "duration": 703,
    "start_time": "2022-12-27T12:29:40.092Z"
   },
   {
    "duration": 22,
    "start_time": "2022-12-27T12:29:40.797Z"
   },
   {
    "duration": 75,
    "start_time": "2022-12-27T12:29:40.820Z"
   },
   {
    "duration": 527,
    "start_time": "2022-12-27T12:29:40.897Z"
   },
   {
    "duration": 358,
    "start_time": "2022-12-27T12:29:41.477Z"
   },
   {
    "duration": 71,
    "start_time": "2022-12-27T12:29:41.837Z"
   },
   {
    "duration": 4193,
    "start_time": "2022-12-27T12:29:41.909Z"
   },
   {
    "duration": 82,
    "start_time": "2022-12-27T12:29:46.104Z"
   },
   {
    "duration": 3,
    "start_time": "2022-12-27T12:29:46.188Z"
   },
   {
    "duration": 12,
    "start_time": "2022-12-27T12:29:46.193Z"
   },
   {
    "duration": 1683,
    "start_time": "2022-12-27T12:29:46.207Z"
   },
   {
    "duration": 20,
    "start_time": "2022-12-27T12:29:47.891Z"
   },
   {
    "duration": 68,
    "start_time": "2022-12-27T12:29:47.913Z"
   },
   {
    "duration": 839,
    "start_time": "2022-12-27T12:29:47.983Z"
   },
   {
    "duration": 0,
    "start_time": "2022-12-27T12:29:48.824Z"
   },
   {
    "duration": 0,
    "start_time": "2022-12-27T12:29:48.825Z"
   },
   {
    "duration": 0,
    "start_time": "2022-12-27T12:29:48.826Z"
   },
   {
    "duration": 0,
    "start_time": "2022-12-27T12:29:48.828Z"
   },
   {
    "duration": 0,
    "start_time": "2022-12-27T12:29:48.828Z"
   },
   {
    "duration": 0,
    "start_time": "2022-12-27T12:29:48.830Z"
   },
   {
    "duration": 460,
    "start_time": "2022-12-27T12:32:27.153Z"
   },
   {
    "duration": 729,
    "start_time": "2022-12-27T12:32:27.616Z"
   },
   {
    "duration": 14946,
    "start_time": "2022-12-27T12:32:28.347Z"
   },
   {
    "duration": 8100,
    "start_time": "2022-12-27T12:32:43.296Z"
   },
   {
    "duration": 15,
    "start_time": "2022-12-27T12:32:51.398Z"
   },
   {
    "duration": 30,
    "start_time": "2022-12-27T12:32:51.477Z"
   },
   {
    "duration": 4371,
    "start_time": "2022-12-27T12:32:51.509Z"
   },
   {
    "duration": 3,
    "start_time": "2022-12-27T12:32:55.882Z"
   },
   {
    "duration": 4346,
    "start_time": "2022-12-27T12:32:55.886Z"
   },
   {
    "duration": 44,
    "start_time": "2022-12-27T12:33:00.235Z"
   },
   {
    "duration": 636,
    "start_time": "2022-12-27T12:33:00.280Z"
   },
   {
    "duration": 83,
    "start_time": "2022-12-27T12:33:00.917Z"
   },
   {
    "duration": 3215,
    "start_time": "2022-12-27T12:33:01.002Z"
   },
   {
    "duration": 3,
    "start_time": "2022-12-27T12:33:04.220Z"
   },
   {
    "duration": 8,
    "start_time": "2022-12-27T12:33:04.225Z"
   },
   {
    "duration": 10,
    "start_time": "2022-12-27T12:33:04.277Z"
   },
   {
    "duration": 12,
    "start_time": "2022-12-27T12:33:04.288Z"
   },
   {
    "duration": 5,
    "start_time": "2022-12-27T12:33:04.302Z"
   },
   {
    "duration": 5,
    "start_time": "2022-12-27T12:33:04.308Z"
   },
   {
    "duration": 5,
    "start_time": "2022-12-27T12:33:04.315Z"
   },
   {
    "duration": 1512,
    "start_time": "2022-12-27T12:33:04.321Z"
   },
   {
    "duration": 1542,
    "start_time": "2022-12-27T12:33:05.877Z"
   },
   {
    "duration": 3,
    "start_time": "2022-12-27T12:33:07.421Z"
   },
   {
    "duration": 2,
    "start_time": "2022-12-27T12:33:07.476Z"
   },
   {
    "duration": 3218,
    "start_time": "2022-12-27T12:33:07.480Z"
   },
   {
    "duration": 592,
    "start_time": "2022-12-27T12:33:10.700Z"
   },
   {
    "duration": 119,
    "start_time": "2022-12-27T12:33:11.293Z"
   },
   {
    "duration": 85,
    "start_time": "2022-12-27T12:33:11.416Z"
   },
   {
    "duration": 1112,
    "start_time": "2022-12-27T12:33:11.503Z"
   },
   {
    "duration": 721,
    "start_time": "2022-12-27T12:33:12.677Z"
   },
   {
    "duration": 96,
    "start_time": "2022-12-27T12:33:13.402Z"
   },
   {
    "duration": 94,
    "start_time": "2022-12-27T12:33:13.499Z"
   },
   {
    "duration": 792,
    "start_time": "2022-12-27T12:33:13.595Z"
   },
   {
    "duration": 627,
    "start_time": "2022-12-27T12:33:14.389Z"
   },
   {
    "duration": 41,
    "start_time": "2022-12-27T12:33:15.076Z"
   },
   {
    "duration": 3639,
    "start_time": "2022-12-27T12:33:15.176Z"
   },
   {
    "duration": 21,
    "start_time": "2022-12-27T12:33:18.875Z"
   },
   {
    "duration": 3,
    "start_time": "2022-12-27T12:33:18.898Z"
   },
   {
    "duration": 78,
    "start_time": "2022-12-27T12:33:18.903Z"
   },
   {
    "duration": 1814,
    "start_time": "2022-12-27T12:33:18.983Z"
   },
   {
    "duration": 86,
    "start_time": "2022-12-27T12:33:20.799Z"
   },
   {
    "duration": 8,
    "start_time": "2022-12-27T12:33:20.887Z"
   },
   {
    "duration": 851,
    "start_time": "2022-12-27T12:33:20.897Z"
   },
   {
    "duration": 0,
    "start_time": "2022-12-27T12:33:21.750Z"
   },
   {
    "duration": 0,
    "start_time": "2022-12-27T12:33:21.751Z"
   },
   {
    "duration": 0,
    "start_time": "2022-12-27T12:33:21.752Z"
   },
   {
    "duration": 0,
    "start_time": "2022-12-27T12:33:21.753Z"
   },
   {
    "duration": 0,
    "start_time": "2022-12-27T12:33:21.754Z"
   },
   {
    "duration": 0,
    "start_time": "2022-12-27T12:33:21.755Z"
   },
   {
    "duration": 462,
    "start_time": "2022-12-27T12:34:56.262Z"
   },
   {
    "duration": 766,
    "start_time": "2022-12-27T12:34:56.726Z"
   },
   {
    "duration": 15210,
    "start_time": "2022-12-27T12:34:57.493Z"
   },
   {
    "duration": 8684,
    "start_time": "2022-12-27T12:35:12.706Z"
   },
   {
    "duration": 16,
    "start_time": "2022-12-27T12:35:21.392Z"
   },
   {
    "duration": 96,
    "start_time": "2022-12-27T12:35:21.410Z"
   },
   {
    "duration": 4313,
    "start_time": "2022-12-27T12:35:21.507Z"
   },
   {
    "duration": 3,
    "start_time": "2022-12-27T12:35:25.877Z"
   },
   {
    "duration": 4297,
    "start_time": "2022-12-27T12:35:25.882Z"
   },
   {
    "duration": 3,
    "start_time": "2022-12-27T12:35:30.183Z"
   },
   {
    "duration": 611,
    "start_time": "2022-12-27T12:35:30.187Z"
   },
   {
    "duration": 92,
    "start_time": "2022-12-27T12:35:30.800Z"
   },
   {
    "duration": 2903,
    "start_time": "2022-12-27T12:35:30.894Z"
   },
   {
    "duration": 3,
    "start_time": "2022-12-27T12:35:33.799Z"
   },
   {
    "duration": 7,
    "start_time": "2022-12-27T12:35:33.803Z"
   },
   {
    "duration": 4,
    "start_time": "2022-12-27T12:35:33.812Z"
   },
   {
    "duration": 5,
    "start_time": "2022-12-27T12:35:33.817Z"
   },
   {
    "duration": 19,
    "start_time": "2022-12-27T12:35:33.824Z"
   },
   {
    "duration": 7,
    "start_time": "2022-12-27T12:35:33.845Z"
   },
   {
    "duration": 5,
    "start_time": "2022-12-27T12:35:33.853Z"
   },
   {
    "duration": 1473,
    "start_time": "2022-12-27T12:35:33.859Z"
   },
   {
    "duration": 1418,
    "start_time": "2022-12-27T12:35:35.377Z"
   },
   {
    "duration": 2,
    "start_time": "2022-12-27T12:35:36.798Z"
   },
   {
    "duration": 6,
    "start_time": "2022-12-27T12:35:36.802Z"
   },
   {
    "duration": 2721,
    "start_time": "2022-12-27T12:35:36.877Z"
   },
   {
    "duration": 536,
    "start_time": "2022-12-27T12:35:39.600Z"
   },
   {
    "duration": 80,
    "start_time": "2022-12-27T12:35:40.137Z"
   },
   {
    "duration": 19,
    "start_time": "2022-12-27T12:35:40.276Z"
   },
   {
    "duration": 1108,
    "start_time": "2022-12-27T12:35:40.297Z"
   },
   {
    "duration": 684,
    "start_time": "2022-12-27T12:35:41.407Z"
   },
   {
    "duration": 83,
    "start_time": "2022-12-27T12:35:42.093Z"
   },
   {
    "duration": 20,
    "start_time": "2022-12-27T12:35:42.178Z"
   },
   {
    "duration": 485,
    "start_time": "2022-12-27T12:35:42.199Z"
   },
   {
    "duration": 462,
    "start_time": "2022-12-27T12:35:42.685Z"
   },
   {
    "duration": 34,
    "start_time": "2022-12-27T12:35:43.177Z"
   },
   {
    "duration": 3695,
    "start_time": "2022-12-27T12:35:43.213Z"
   },
   {
    "duration": 73,
    "start_time": "2022-12-27T12:35:46.910Z"
   },
   {
    "duration": 2,
    "start_time": "2022-12-27T12:35:46.985Z"
   },
   {
    "duration": 11,
    "start_time": "2022-12-27T12:35:46.989Z"
   },
   {
    "duration": 1584,
    "start_time": "2022-12-27T12:35:47.001Z"
   },
   {
    "duration": 24,
    "start_time": "2022-12-27T12:35:48.587Z"
   },
   {
    "duration": 64,
    "start_time": "2022-12-27T12:35:48.612Z"
   },
   {
    "duration": 807,
    "start_time": "2022-12-27T12:35:48.678Z"
   },
   {
    "duration": 0,
    "start_time": "2022-12-27T12:35:49.487Z"
   },
   {
    "duration": 0,
    "start_time": "2022-12-27T12:35:49.488Z"
   },
   {
    "duration": 0,
    "start_time": "2022-12-27T12:35:49.489Z"
   },
   {
    "duration": 0,
    "start_time": "2022-12-27T12:35:49.490Z"
   },
   {
    "duration": 0,
    "start_time": "2022-12-27T12:35:49.491Z"
   },
   {
    "duration": 0,
    "start_time": "2022-12-27T12:35:49.492Z"
   },
   {
    "duration": 427,
    "start_time": "2022-12-27T12:36:29.244Z"
   },
   {
    "duration": 777,
    "start_time": "2022-12-27T12:36:29.673Z"
   },
   {
    "duration": 14827,
    "start_time": "2022-12-27T12:36:30.451Z"
   },
   {
    "duration": 7746,
    "start_time": "2022-12-27T12:36:45.280Z"
   },
   {
    "duration": 55,
    "start_time": "2022-12-27T12:36:53.027Z"
   },
   {
    "duration": 92,
    "start_time": "2022-12-27T12:36:53.084Z"
   },
   {
    "duration": 4438,
    "start_time": "2022-12-27T12:36:53.178Z"
   },
   {
    "duration": 2,
    "start_time": "2022-12-27T12:36:57.617Z"
   },
   {
    "duration": 4386,
    "start_time": "2022-12-27T12:36:57.621Z"
   },
   {
    "duration": 2,
    "start_time": "2022-12-27T12:37:02.010Z"
   },
   {
    "duration": 668,
    "start_time": "2022-12-27T12:37:02.014Z"
   },
   {
    "duration": 96,
    "start_time": "2022-12-27T12:37:02.684Z"
   },
   {
    "duration": 3103,
    "start_time": "2022-12-27T12:37:02.782Z"
   },
   {
    "duration": 4,
    "start_time": "2022-12-27T12:37:05.887Z"
   },
   {
    "duration": 24,
    "start_time": "2022-12-27T12:37:05.893Z"
   },
   {
    "duration": 12,
    "start_time": "2022-12-27T12:37:05.919Z"
   },
   {
    "duration": 2,
    "start_time": "2022-12-27T12:37:05.977Z"
   },
   {
    "duration": 8,
    "start_time": "2022-12-27T12:37:05.981Z"
   },
   {
    "duration": 6,
    "start_time": "2022-12-27T12:37:05.991Z"
   },
   {
    "duration": 14,
    "start_time": "2022-12-27T12:37:05.999Z"
   },
   {
    "duration": 1185,
    "start_time": "2022-12-27T12:37:06.014Z"
   },
   {
    "duration": 1611,
    "start_time": "2022-12-27T12:37:07.201Z"
   },
   {
    "duration": 63,
    "start_time": "2022-12-27T12:37:08.814Z"
   },
   {
    "duration": 3,
    "start_time": "2022-12-27T12:37:08.879Z"
   },
   {
    "duration": 277,
    "start_time": "2022-12-27T12:37:08.883Z"
   },
   {
    "duration": 0,
    "start_time": "2022-12-27T12:37:09.163Z"
   },
   {
    "duration": 0,
    "start_time": "2022-12-27T12:37:09.164Z"
   },
   {
    "duration": 0,
    "start_time": "2022-12-27T12:37:09.165Z"
   },
   {
    "duration": 0,
    "start_time": "2022-12-27T12:37:09.167Z"
   },
   {
    "duration": 0,
    "start_time": "2022-12-27T12:37:09.168Z"
   },
   {
    "duration": 0,
    "start_time": "2022-12-27T12:37:09.170Z"
   },
   {
    "duration": 0,
    "start_time": "2022-12-27T12:37:09.171Z"
   },
   {
    "duration": 0,
    "start_time": "2022-12-27T12:37:09.172Z"
   },
   {
    "duration": 0,
    "start_time": "2022-12-27T12:37:09.174Z"
   },
   {
    "duration": 0,
    "start_time": "2022-12-27T12:37:09.175Z"
   },
   {
    "duration": 0,
    "start_time": "2022-12-27T12:37:09.176Z"
   },
   {
    "duration": 0,
    "start_time": "2022-12-27T12:37:09.177Z"
   },
   {
    "duration": 0,
    "start_time": "2022-12-27T12:37:09.178Z"
   },
   {
    "duration": 0,
    "start_time": "2022-12-27T12:37:09.179Z"
   },
   {
    "duration": 0,
    "start_time": "2022-12-27T12:37:09.180Z"
   },
   {
    "duration": 0,
    "start_time": "2022-12-27T12:37:09.181Z"
   },
   {
    "duration": 0,
    "start_time": "2022-12-27T12:37:09.182Z"
   },
   {
    "duration": 0,
    "start_time": "2022-12-27T12:37:09.183Z"
   },
   {
    "duration": 0,
    "start_time": "2022-12-27T12:37:09.184Z"
   },
   {
    "duration": 0,
    "start_time": "2022-12-27T12:37:09.185Z"
   },
   {
    "duration": 0,
    "start_time": "2022-12-27T12:37:09.187Z"
   },
   {
    "duration": 0,
    "start_time": "2022-12-27T12:37:09.188Z"
   },
   {
    "duration": 0,
    "start_time": "2022-12-27T12:37:09.189Z"
   },
   {
    "duration": 0,
    "start_time": "2022-12-27T12:37:09.190Z"
   },
   {
    "duration": 400,
    "start_time": "2022-12-27T12:38:02.334Z"
   },
   {
    "duration": 816,
    "start_time": "2022-12-27T12:38:02.736Z"
   },
   {
    "duration": 15067,
    "start_time": "2022-12-27T12:38:03.554Z"
   },
   {
    "duration": 8791,
    "start_time": "2022-12-27T12:38:18.624Z"
   },
   {
    "duration": 71,
    "start_time": "2022-12-27T12:38:27.417Z"
   },
   {
    "duration": 102,
    "start_time": "2022-12-27T12:38:27.490Z"
   },
   {
    "duration": 3907,
    "start_time": "2022-12-27T12:38:27.594Z"
   },
   {
    "duration": 2,
    "start_time": "2022-12-27T12:38:31.503Z"
   },
   {
    "duration": 4123,
    "start_time": "2022-12-27T12:38:31.506Z"
   },
   {
    "duration": 44,
    "start_time": "2022-12-27T12:38:35.632Z"
   },
   {
    "duration": 610,
    "start_time": "2022-12-27T12:38:35.678Z"
   },
   {
    "duration": 90,
    "start_time": "2022-12-27T12:38:36.290Z"
   },
   {
    "duration": 2894,
    "start_time": "2022-12-27T12:38:36.382Z"
   },
   {
    "duration": 3,
    "start_time": "2022-12-27T12:38:39.278Z"
   },
   {
    "duration": 18,
    "start_time": "2022-12-27T12:38:39.283Z"
   },
   {
    "duration": 11,
    "start_time": "2022-12-27T12:38:39.303Z"
   },
   {
    "duration": 6,
    "start_time": "2022-12-27T12:38:39.316Z"
   },
   {
    "duration": 52,
    "start_time": "2022-12-27T12:38:39.324Z"
   },
   {
    "duration": 9,
    "start_time": "2022-12-27T12:38:39.378Z"
   },
   {
    "duration": 7,
    "start_time": "2022-12-27T12:38:39.388Z"
   },
   {
    "duration": 1405,
    "start_time": "2022-12-27T12:38:39.397Z"
   },
   {
    "duration": 1373,
    "start_time": "2022-12-27T12:38:40.805Z"
   },
   {
    "duration": 3,
    "start_time": "2022-12-27T12:38:42.179Z"
   },
   {
    "duration": 6,
    "start_time": "2022-12-27T12:38:42.183Z"
   },
   {
    "duration": 2450,
    "start_time": "2022-12-27T12:38:42.190Z"
   },
   {
    "duration": 546,
    "start_time": "2022-12-27T12:38:44.677Z"
   },
   {
    "duration": 50,
    "start_time": "2022-12-27T12:38:45.277Z"
   },
   {
    "duration": 22,
    "start_time": "2022-12-27T12:38:45.376Z"
   },
   {
    "duration": 1098,
    "start_time": "2022-12-27T12:38:45.399Z"
   },
   {
    "duration": 781,
    "start_time": "2022-12-27T12:38:46.499Z"
   },
   {
    "duration": 22,
    "start_time": "2022-12-27T12:38:47.282Z"
   },
   {
    "duration": 95,
    "start_time": "2022-12-27T12:38:47.306Z"
   },
   {
    "duration": 610,
    "start_time": "2022-12-27T12:38:47.403Z"
   },
   {
    "duration": 464,
    "start_time": "2022-12-27T12:38:48.015Z"
   },
   {
    "duration": 46,
    "start_time": "2022-12-27T12:38:48.481Z"
   },
   {
    "duration": 3348,
    "start_time": "2022-12-27T12:38:48.529Z"
   },
   {
    "duration": 22,
    "start_time": "2022-12-27T12:38:51.878Z"
   },
   {
    "duration": 3,
    "start_time": "2022-12-27T12:38:51.902Z"
   },
   {
    "duration": 8,
    "start_time": "2022-12-27T12:38:51.907Z"
   },
   {
    "duration": 1793,
    "start_time": "2022-12-27T12:38:51.917Z"
   },
   {
    "duration": 67,
    "start_time": "2022-12-27T12:38:53.712Z"
   },
   {
    "duration": 17,
    "start_time": "2022-12-27T12:38:53.781Z"
   },
   {
    "duration": 997,
    "start_time": "2022-12-27T12:38:53.799Z"
   },
   {
    "duration": 0,
    "start_time": "2022-12-27T12:38:54.798Z"
   },
   {
    "duration": 0,
    "start_time": "2022-12-27T12:38:54.800Z"
   },
   {
    "duration": 0,
    "start_time": "2022-12-27T12:38:54.806Z"
   },
   {
    "duration": 0,
    "start_time": "2022-12-27T12:38:54.808Z"
   },
   {
    "duration": 0,
    "start_time": "2022-12-27T12:38:54.809Z"
   },
   {
    "duration": 0,
    "start_time": "2022-12-27T12:38:54.810Z"
   },
   {
    "duration": 400,
    "start_time": "2022-12-27T12:39:10.005Z"
   },
   {
    "duration": 717,
    "start_time": "2022-12-27T12:39:10.406Z"
   },
   {
    "duration": 14577,
    "start_time": "2022-12-27T12:39:11.124Z"
   },
   {
    "duration": 8190,
    "start_time": "2022-12-27T12:39:25.705Z"
   },
   {
    "duration": 15,
    "start_time": "2022-12-27T12:39:33.896Z"
   },
   {
    "duration": 91,
    "start_time": "2022-12-27T12:39:33.913Z"
   },
   {
    "duration": 4599,
    "start_time": "2022-12-27T12:39:34.006Z"
   },
   {
    "duration": 2,
    "start_time": "2022-12-27T12:39:38.607Z"
   },
   {
    "duration": 3982,
    "start_time": "2022-12-27T12:39:38.611Z"
   },
   {
    "duration": 3,
    "start_time": "2022-12-27T12:39:42.597Z"
   },
   {
    "duration": 712,
    "start_time": "2022-12-27T12:39:42.602Z"
   },
   {
    "duration": 78,
    "start_time": "2022-12-27T12:39:43.315Z"
   },
   {
    "duration": 2929,
    "start_time": "2022-12-27T12:39:43.395Z"
   },
   {
    "duration": 4,
    "start_time": "2022-12-27T12:39:46.326Z"
   },
   {
    "duration": 13,
    "start_time": "2022-12-27T12:39:46.331Z"
   },
   {
    "duration": 34,
    "start_time": "2022-12-27T12:39:46.345Z"
   },
   {
    "duration": 8,
    "start_time": "2022-12-27T12:39:46.381Z"
   },
   {
    "duration": 7,
    "start_time": "2022-12-27T12:39:46.391Z"
   },
   {
    "duration": 5,
    "start_time": "2022-12-27T12:39:46.400Z"
   },
   {
    "duration": 5,
    "start_time": "2022-12-27T12:39:46.407Z"
   },
   {
    "duration": 1176,
    "start_time": "2022-12-27T12:39:46.413Z"
   },
   {
    "duration": 1505,
    "start_time": "2022-12-27T12:39:47.591Z"
   },
   {
    "duration": 2,
    "start_time": "2022-12-27T12:39:49.098Z"
   },
   {
    "duration": 15,
    "start_time": "2022-12-27T12:39:49.102Z"
   },
   {
    "duration": 3060,
    "start_time": "2022-12-27T12:39:49.119Z"
   },
   {
    "duration": 528,
    "start_time": "2022-12-27T12:39:52.181Z"
   },
   {
    "duration": 98,
    "start_time": "2022-12-27T12:39:52.711Z"
   },
   {
    "duration": 74,
    "start_time": "2022-12-27T12:39:52.812Z"
   },
   {
    "duration": 1022,
    "start_time": "2022-12-27T12:39:52.887Z"
   },
   {
    "duration": 673,
    "start_time": "2022-12-27T12:39:53.911Z"
   },
   {
    "duration": 17,
    "start_time": "2022-12-27T12:39:54.586Z"
   },
   {
    "duration": 84,
    "start_time": "2022-12-27T12:39:54.605Z"
   },
   {
    "duration": 523,
    "start_time": "2022-12-27T12:39:54.691Z"
   },
   {
    "duration": 420,
    "start_time": "2022-12-27T12:39:55.215Z"
   },
   {
    "duration": 49,
    "start_time": "2022-12-27T12:39:55.637Z"
   },
   {
    "duration": 2506,
    "start_time": "2022-12-27T12:39:55.688Z"
   },
   {
    "duration": 18,
    "start_time": "2022-12-27T12:39:58.195Z"
   },
   {
    "duration": 3,
    "start_time": "2022-12-27T12:39:58.215Z"
   },
   {
    "duration": 64,
    "start_time": "2022-12-27T12:39:58.219Z"
   },
   {
    "duration": 1602,
    "start_time": "2022-12-27T12:39:58.284Z"
   },
   {
    "duration": 17,
    "start_time": "2022-12-27T12:39:59.888Z"
   },
   {
    "duration": 11,
    "start_time": "2022-12-27T12:39:59.907Z"
   },
   {
    "duration": 839,
    "start_time": "2022-12-27T12:39:59.920Z"
   },
   {
    "duration": 0,
    "start_time": "2022-12-27T12:40:00.761Z"
   },
   {
    "duration": 0,
    "start_time": "2022-12-27T12:40:00.762Z"
   },
   {
    "duration": 0,
    "start_time": "2022-12-27T12:40:00.763Z"
   },
   {
    "duration": 0,
    "start_time": "2022-12-27T12:40:00.764Z"
   },
   {
    "duration": 0,
    "start_time": "2022-12-27T12:40:00.766Z"
   },
   {
    "duration": 0,
    "start_time": "2022-12-27T12:40:00.767Z"
   },
   {
    "duration": 465,
    "start_time": "2022-12-27T12:40:34.359Z"
   },
   {
    "duration": 826,
    "start_time": "2022-12-27T12:40:34.827Z"
   },
   {
    "duration": 14745,
    "start_time": "2022-12-27T12:40:35.655Z"
   },
   {
    "duration": 7793,
    "start_time": "2022-12-27T12:40:50.402Z"
   },
   {
    "duration": 14,
    "start_time": "2022-12-27T12:40:58.197Z"
   },
   {
    "duration": 28,
    "start_time": "2022-12-27T12:40:58.277Z"
   },
   {
    "duration": 4071,
    "start_time": "2022-12-27T12:40:58.306Z"
   },
   {
    "duration": 3,
    "start_time": "2022-12-27T12:41:02.379Z"
   },
   {
    "duration": 4002,
    "start_time": "2022-12-27T12:41:02.384Z"
   },
   {
    "duration": 2,
    "start_time": "2022-12-27T12:41:06.389Z"
   },
   {
    "duration": 683,
    "start_time": "2022-12-27T12:41:06.393Z"
   },
   {
    "duration": 27,
    "start_time": "2022-12-27T12:41:07.078Z"
   },
   {
    "duration": 3102,
    "start_time": "2022-12-27T12:41:07.107Z"
   },
   {
    "duration": 2,
    "start_time": "2022-12-27T12:41:10.211Z"
   },
   {
    "duration": 37,
    "start_time": "2022-12-27T12:41:10.215Z"
   },
   {
    "duration": 6,
    "start_time": "2022-12-27T12:41:10.254Z"
   },
   {
    "duration": 5,
    "start_time": "2022-12-27T12:41:10.261Z"
   },
   {
    "duration": 6,
    "start_time": "2022-12-27T12:41:10.267Z"
   },
   {
    "duration": 9,
    "start_time": "2022-12-27T12:41:10.274Z"
   },
   {
    "duration": 5,
    "start_time": "2022-12-27T12:41:10.284Z"
   },
   {
    "duration": 1303,
    "start_time": "2022-12-27T12:41:10.291Z"
   },
   {
    "duration": 1384,
    "start_time": "2022-12-27T12:41:11.595Z"
   },
   {
    "duration": 2,
    "start_time": "2022-12-27T12:41:12.981Z"
   },
   {
    "duration": 5,
    "start_time": "2022-12-27T12:41:12.985Z"
   },
   {
    "duration": 212,
    "start_time": "2022-12-27T12:41:12.992Z"
   },
   {
    "duration": 0,
    "start_time": "2022-12-27T12:41:13.207Z"
   },
   {
    "duration": 0,
    "start_time": "2022-12-27T12:41:13.208Z"
   },
   {
    "duration": 0,
    "start_time": "2022-12-27T12:41:13.209Z"
   },
   {
    "duration": 0,
    "start_time": "2022-12-27T12:41:13.210Z"
   },
   {
    "duration": 0,
    "start_time": "2022-12-27T12:41:13.212Z"
   },
   {
    "duration": 0,
    "start_time": "2022-12-27T12:41:13.213Z"
   },
   {
    "duration": 0,
    "start_time": "2022-12-27T12:41:13.215Z"
   },
   {
    "duration": 0,
    "start_time": "2022-12-27T12:41:13.216Z"
   },
   {
    "duration": 0,
    "start_time": "2022-12-27T12:41:13.217Z"
   },
   {
    "duration": 0,
    "start_time": "2022-12-27T12:41:13.218Z"
   },
   {
    "duration": 0,
    "start_time": "2022-12-27T12:41:13.219Z"
   },
   {
    "duration": 0,
    "start_time": "2022-12-27T12:41:13.220Z"
   },
   {
    "duration": 0,
    "start_time": "2022-12-27T12:41:13.221Z"
   },
   {
    "duration": 0,
    "start_time": "2022-12-27T12:41:13.222Z"
   },
   {
    "duration": 0,
    "start_time": "2022-12-27T12:41:13.223Z"
   },
   {
    "duration": 0,
    "start_time": "2022-12-27T12:41:13.223Z"
   },
   {
    "duration": 0,
    "start_time": "2022-12-27T12:41:13.224Z"
   },
   {
    "duration": 0,
    "start_time": "2022-12-27T12:41:13.225Z"
   },
   {
    "duration": 0,
    "start_time": "2022-12-27T12:41:13.226Z"
   },
   {
    "duration": 0,
    "start_time": "2022-12-27T12:41:13.227Z"
   },
   {
    "duration": 0,
    "start_time": "2022-12-27T12:41:13.228Z"
   },
   {
    "duration": 0,
    "start_time": "2022-12-27T12:41:13.229Z"
   },
   {
    "duration": 0,
    "start_time": "2022-12-27T12:41:13.230Z"
   },
   {
    "duration": 0,
    "start_time": "2022-12-27T12:41:13.231Z"
   },
   {
    "duration": 415,
    "start_time": "2022-12-27T12:41:54.106Z"
   },
   {
    "duration": 778,
    "start_time": "2022-12-27T12:41:54.522Z"
   },
   {
    "duration": 14995,
    "start_time": "2022-12-27T12:41:55.302Z"
   },
   {
    "duration": 8514,
    "start_time": "2022-12-27T12:42:10.299Z"
   },
   {
    "duration": 74,
    "start_time": "2022-12-27T12:42:18.815Z"
   },
   {
    "duration": 103,
    "start_time": "2022-12-27T12:42:18.891Z"
   },
   {
    "duration": 4314,
    "start_time": "2022-12-27T12:42:18.996Z"
   },
   {
    "duration": 2,
    "start_time": "2022-12-27T12:42:23.312Z"
   },
   {
    "duration": 4505,
    "start_time": "2022-12-27T12:42:23.315Z"
   },
   {
    "duration": 12,
    "start_time": "2022-12-27T12:42:27.875Z"
   },
   {
    "duration": 586,
    "start_time": "2022-12-27T12:42:27.893Z"
   },
   {
    "duration": 26,
    "start_time": "2022-12-27T12:42:28.481Z"
   },
   {
    "duration": 3282,
    "start_time": "2022-12-27T12:42:28.510Z"
   },
   {
    "duration": 4,
    "start_time": "2022-12-27T12:42:31.794Z"
   },
   {
    "duration": 9,
    "start_time": "2022-12-27T12:42:31.800Z"
   },
   {
    "duration": 66,
    "start_time": "2022-12-27T12:42:31.811Z"
   },
   {
    "duration": 8,
    "start_time": "2022-12-27T12:42:31.879Z"
   },
   {
    "duration": 20,
    "start_time": "2022-12-27T12:42:31.889Z"
   },
   {
    "duration": 8,
    "start_time": "2022-12-27T12:42:31.911Z"
   },
   {
    "duration": 9,
    "start_time": "2022-12-27T12:42:31.920Z"
   },
   {
    "duration": 1346,
    "start_time": "2022-12-27T12:42:31.931Z"
   },
   {
    "duration": 1431,
    "start_time": "2022-12-27T12:42:33.279Z"
   },
   {
    "duration": 3,
    "start_time": "2022-12-27T12:42:34.711Z"
   },
   {
    "duration": 63,
    "start_time": "2022-12-27T12:42:34.716Z"
   },
   {
    "duration": 2810,
    "start_time": "2022-12-27T12:42:34.781Z"
   },
   {
    "duration": 712,
    "start_time": "2022-12-27T12:42:37.593Z"
   },
   {
    "duration": 108,
    "start_time": "2022-12-27T12:42:38.307Z"
   },
   {
    "duration": 77,
    "start_time": "2022-12-27T12:42:38.418Z"
   },
   {
    "duration": 1102,
    "start_time": "2022-12-27T12:42:38.497Z"
   },
   {
    "duration": 785,
    "start_time": "2022-12-27T12:42:39.601Z"
   },
   {
    "duration": 20,
    "start_time": "2022-12-27T12:42:40.388Z"
   },
   {
    "duration": 88,
    "start_time": "2022-12-27T12:42:40.410Z"
   },
   {
    "duration": 514,
    "start_time": "2022-12-27T12:42:40.499Z"
   },
   {
    "duration": 477,
    "start_time": "2022-12-27T12:42:41.015Z"
   },
   {
    "duration": 35,
    "start_time": "2022-12-27T12:42:41.493Z"
   },
   {
    "duration": 3287,
    "start_time": "2022-12-27T12:42:41.530Z"
   },
   {
    "duration": 75,
    "start_time": "2022-12-27T12:42:44.818Z"
   },
   {
    "duration": 3,
    "start_time": "2022-12-27T12:42:44.894Z"
   },
   {
    "duration": 12,
    "start_time": "2022-12-27T12:42:44.898Z"
   },
   {
    "duration": 1778,
    "start_time": "2022-12-27T12:42:44.911Z"
   },
   {
    "duration": 18,
    "start_time": "2022-12-27T12:42:46.691Z"
   },
   {
    "duration": 75,
    "start_time": "2022-12-27T12:42:46.711Z"
   },
   {
    "duration": 893,
    "start_time": "2022-12-27T12:42:46.788Z"
   },
   {
    "duration": 0,
    "start_time": "2022-12-27T12:42:47.683Z"
   },
   {
    "duration": 0,
    "start_time": "2022-12-27T12:42:47.684Z"
   },
   {
    "duration": 0,
    "start_time": "2022-12-27T12:42:47.684Z"
   },
   {
    "duration": 0,
    "start_time": "2022-12-27T12:42:47.685Z"
   },
   {
    "duration": 0,
    "start_time": "2022-12-27T12:42:47.686Z"
   },
   {
    "duration": 0,
    "start_time": "2022-12-27T12:42:47.687Z"
   },
   {
    "duration": 395,
    "start_time": "2022-12-27T12:46:27.523Z"
   },
   {
    "duration": 729,
    "start_time": "2022-12-27T12:46:27.920Z"
   },
   {
    "duration": 14457,
    "start_time": "2022-12-27T12:46:28.650Z"
   },
   {
    "duration": 8398,
    "start_time": "2022-12-27T12:46:43.110Z"
   },
   {
    "duration": 78,
    "start_time": "2022-12-27T12:46:51.509Z"
   },
   {
    "duration": 91,
    "start_time": "2022-12-27T12:46:51.588Z"
   },
   {
    "duration": 4127,
    "start_time": "2022-12-27T12:46:51.681Z"
   },
   {
    "duration": 2,
    "start_time": "2022-12-27T12:46:55.810Z"
   },
   {
    "duration": 4090,
    "start_time": "2022-12-27T12:46:55.814Z"
   },
   {
    "duration": 3,
    "start_time": "2022-12-27T12:46:59.907Z"
   },
   {
    "duration": 680,
    "start_time": "2022-12-27T12:46:59.911Z"
   },
   {
    "duration": 89,
    "start_time": "2022-12-27T12:47:00.593Z"
   },
   {
    "duration": 3003,
    "start_time": "2022-12-27T12:47:00.684Z"
   },
   {
    "duration": 3,
    "start_time": "2022-12-27T12:47:03.689Z"
   },
   {
    "duration": 16,
    "start_time": "2022-12-27T12:47:03.695Z"
   },
   {
    "duration": 10,
    "start_time": "2022-12-27T12:47:03.713Z"
   },
   {
    "duration": 8,
    "start_time": "2022-12-27T12:47:03.724Z"
   },
   {
    "duration": 7,
    "start_time": "2022-12-27T12:47:03.734Z"
   },
   {
    "duration": 11,
    "start_time": "2022-12-27T12:47:03.743Z"
   },
   {
    "duration": 8,
    "start_time": "2022-12-27T12:47:03.756Z"
   },
   {
    "duration": 1223,
    "start_time": "2022-12-27T12:47:03.765Z"
   },
   {
    "duration": 1710,
    "start_time": "2022-12-27T12:47:04.990Z"
   },
   {
    "duration": 3,
    "start_time": "2022-12-27T12:47:06.701Z"
   },
   {
    "duration": 74,
    "start_time": "2022-12-27T12:47:06.706Z"
   },
   {
    "duration": 233,
    "start_time": "2022-12-27T12:47:06.782Z"
   },
   {
    "duration": 0,
    "start_time": "2022-12-27T12:47:07.018Z"
   },
   {
    "duration": 0,
    "start_time": "2022-12-27T12:47:07.019Z"
   },
   {
    "duration": 0,
    "start_time": "2022-12-27T12:47:07.020Z"
   },
   {
    "duration": 0,
    "start_time": "2022-12-27T12:47:07.022Z"
   },
   {
    "duration": 0,
    "start_time": "2022-12-27T12:47:07.023Z"
   },
   {
    "duration": 0,
    "start_time": "2022-12-27T12:47:07.024Z"
   },
   {
    "duration": 0,
    "start_time": "2022-12-27T12:47:07.025Z"
   },
   {
    "duration": 0,
    "start_time": "2022-12-27T12:47:07.026Z"
   },
   {
    "duration": 0,
    "start_time": "2022-12-27T12:47:07.027Z"
   },
   {
    "duration": 0,
    "start_time": "2022-12-27T12:47:07.028Z"
   },
   {
    "duration": 0,
    "start_time": "2022-12-27T12:47:07.029Z"
   },
   {
    "duration": 0,
    "start_time": "2022-12-27T12:47:07.030Z"
   },
   {
    "duration": 0,
    "start_time": "2022-12-27T12:47:07.032Z"
   },
   {
    "duration": 0,
    "start_time": "2022-12-27T12:47:07.033Z"
   },
   {
    "duration": 0,
    "start_time": "2022-12-27T12:47:07.034Z"
   },
   {
    "duration": 0,
    "start_time": "2022-12-27T12:47:07.035Z"
   },
   {
    "duration": 0,
    "start_time": "2022-12-27T12:47:07.036Z"
   },
   {
    "duration": 0,
    "start_time": "2022-12-27T12:47:07.037Z"
   },
   {
    "duration": 0,
    "start_time": "2022-12-27T12:47:07.038Z"
   },
   {
    "duration": 0,
    "start_time": "2022-12-27T12:47:07.040Z"
   },
   {
    "duration": 0,
    "start_time": "2022-12-27T12:47:07.041Z"
   },
   {
    "duration": 0,
    "start_time": "2022-12-27T12:47:07.042Z"
   },
   {
    "duration": 0,
    "start_time": "2022-12-27T12:47:07.043Z"
   },
   {
    "duration": 0,
    "start_time": "2022-12-27T12:47:07.077Z"
   },
   {
    "duration": 414,
    "start_time": "2022-12-27T15:57:40.577Z"
   },
   {
    "duration": 1084,
    "start_time": "2022-12-27T15:57:40.993Z"
   },
   {
    "duration": 21919,
    "start_time": "2022-12-27T15:57:42.079Z"
   },
   {
    "duration": 10616,
    "start_time": "2022-12-27T15:58:04.015Z"
   },
   {
    "duration": 80,
    "start_time": "2022-12-27T15:58:14.633Z"
   },
   {
    "duration": 135,
    "start_time": "2022-12-27T15:58:14.724Z"
   },
   {
    "duration": 5680,
    "start_time": "2022-12-27T15:58:14.862Z"
   },
   {
    "duration": 3,
    "start_time": "2022-12-27T15:58:20.544Z"
   },
   {
    "duration": 5018,
    "start_time": "2022-12-27T15:58:20.550Z"
   },
   {
    "duration": 4,
    "start_time": "2022-12-27T15:58:25.612Z"
   },
   {
    "duration": 731,
    "start_time": "2022-12-27T15:58:25.623Z"
   },
   {
    "duration": 107,
    "start_time": "2022-12-27T15:58:26.412Z"
   },
   {
    "duration": 3898,
    "start_time": "2022-12-27T15:58:26.534Z"
   },
   {
    "duration": 4,
    "start_time": "2022-12-27T15:58:30.434Z"
   },
   {
    "duration": 75,
    "start_time": "2022-12-27T15:58:30.439Z"
   },
   {
    "duration": 22,
    "start_time": "2022-12-27T15:58:30.516Z"
   },
   {
    "duration": 34,
    "start_time": "2022-12-27T15:58:30.540Z"
   },
   {
    "duration": 20,
    "start_time": "2022-12-27T15:58:30.576Z"
   },
   {
    "duration": 55,
    "start_time": "2022-12-27T15:58:30.598Z"
   },
   {
    "duration": 36,
    "start_time": "2022-12-27T15:58:30.655Z"
   },
   {
    "duration": 1637,
    "start_time": "2022-12-27T15:58:30.693Z"
   },
   {
    "duration": 2023,
    "start_time": "2022-12-27T15:58:32.332Z"
   },
   {
    "duration": 269,
    "start_time": "2022-12-27T15:58:55.009Z"
   },
   {
    "duration": 459,
    "start_time": "2022-12-27T15:59:26.269Z"
   },
   {
    "duration": 809,
    "start_time": "2022-12-27T15:59:26.731Z"
   },
   {
    "duration": 16405,
    "start_time": "2022-12-27T15:59:27.542Z"
   },
   {
    "duration": 9297,
    "start_time": "2022-12-27T15:59:43.949Z"
   },
   {
    "duration": 85,
    "start_time": "2022-12-27T15:59:53.249Z"
   },
   {
    "duration": 92,
    "start_time": "2022-12-27T15:59:53.336Z"
   },
   {
    "duration": 5222,
    "start_time": "2022-12-27T15:59:53.430Z"
   },
   {
    "duration": 3,
    "start_time": "2022-12-27T15:59:58.653Z"
   },
   {
    "duration": 4788,
    "start_time": "2022-12-27T15:59:58.657Z"
   },
   {
    "duration": 2,
    "start_time": "2022-12-27T16:00:03.448Z"
   },
   {
    "duration": 781,
    "start_time": "2022-12-27T16:00:03.452Z"
   },
   {
    "duration": 104,
    "start_time": "2022-12-27T16:00:04.235Z"
   },
   {
    "duration": 3436,
    "start_time": "2022-12-27T16:00:04.343Z"
   },
   {
    "duration": 4,
    "start_time": "2022-12-27T16:00:07.781Z"
   },
   {
    "duration": 3,
    "start_time": "2022-12-27T16:00:07.812Z"
   },
   {
    "duration": 9,
    "start_time": "2022-12-27T16:00:07.824Z"
   },
   {
    "duration": 12,
    "start_time": "2022-12-27T16:00:07.835Z"
   },
   {
    "duration": 5,
    "start_time": "2022-12-27T16:00:07.849Z"
   },
   {
    "duration": 8,
    "start_time": "2022-12-27T16:00:07.856Z"
   },
   {
    "duration": 6,
    "start_time": "2022-12-27T16:00:07.866Z"
   },
   {
    "duration": 1467,
    "start_time": "2022-12-27T16:00:07.874Z"
   },
   {
    "duration": 1876,
    "start_time": "2022-12-27T16:00:09.343Z"
   },
   {
    "duration": 250,
    "start_time": "2022-12-27T16:02:27.106Z"
   },
   {
    "duration": 3635,
    "start_time": "2022-12-27T16:09:52.979Z"
   },
   {
    "duration": 471,
    "start_time": "2022-12-27T20:07:04.752Z"
   },
   {
    "duration": 1305,
    "start_time": "2022-12-27T20:07:05.225Z"
   },
   {
    "duration": 25828,
    "start_time": "2022-12-27T20:07:06.532Z"
   },
   {
    "duration": 10967,
    "start_time": "2022-12-27T20:07:32.364Z"
   },
   {
    "duration": 32,
    "start_time": "2022-12-27T20:07:43.333Z"
   },
   {
    "duration": 168,
    "start_time": "2022-12-27T20:07:43.366Z"
   },
   {
    "duration": 6134,
    "start_time": "2022-12-27T20:07:43.536Z"
   },
   {
    "duration": 3,
    "start_time": "2022-12-27T20:07:49.672Z"
   },
   {
    "duration": 5397,
    "start_time": "2022-12-27T20:07:49.676Z"
   },
   {
    "duration": 8,
    "start_time": "2022-12-27T20:07:55.127Z"
   },
   {
    "duration": 820,
    "start_time": "2022-12-27T20:07:55.137Z"
   },
   {
    "duration": 107,
    "start_time": "2022-12-27T20:07:55.958Z"
   },
   {
    "duration": 3605,
    "start_time": "2022-12-27T20:07:56.066Z"
   },
   {
    "duration": 3,
    "start_time": "2022-12-27T20:07:59.679Z"
   },
   {
    "duration": 47,
    "start_time": "2022-12-27T20:07:59.684Z"
   },
   {
    "duration": 34,
    "start_time": "2022-12-27T20:07:59.733Z"
   },
   {
    "duration": 8,
    "start_time": "2022-12-27T20:07:59.768Z"
   },
   {
    "duration": 6,
    "start_time": "2022-12-27T20:07:59.777Z"
   },
   {
    "duration": 8,
    "start_time": "2022-12-27T20:07:59.785Z"
   },
   {
    "duration": 6,
    "start_time": "2022-12-27T20:07:59.795Z"
   },
   {
    "duration": 1971,
    "start_time": "2022-12-27T20:07:59.803Z"
   },
   {
    "duration": 1984,
    "start_time": "2022-12-27T20:08:01.775Z"
   },
   {
    "duration": 6,
    "start_time": "2022-12-27T20:08:03.761Z"
   },
   {
    "duration": 29,
    "start_time": "2022-12-27T20:08:03.770Z"
   },
   {
    "duration": 3114,
    "start_time": "2022-12-27T20:08:03.829Z"
   },
   {
    "duration": 605,
    "start_time": "2022-12-27T20:08:06.944Z"
   },
   {
    "duration": 179,
    "start_time": "2022-12-27T20:08:07.550Z"
   },
   {
    "duration": 39,
    "start_time": "2022-12-27T20:08:07.732Z"
   },
   {
    "duration": 1590,
    "start_time": "2022-12-27T20:08:07.773Z"
   },
   {
    "duration": 910,
    "start_time": "2022-12-27T20:08:09.365Z"
   },
   {
    "duration": 78,
    "start_time": "2022-12-27T20:08:10.277Z"
   },
   {
    "duration": 49,
    "start_time": "2022-12-27T20:08:10.358Z"
   },
   {
    "duration": 858,
    "start_time": "2022-12-27T20:08:10.408Z"
   },
   {
    "duration": 752,
    "start_time": "2022-12-27T20:08:11.267Z"
   },
   {
    "duration": 192,
    "start_time": "2022-12-27T20:08:12.031Z"
   },
   {
    "duration": 3922,
    "start_time": "2022-12-27T20:08:12.228Z"
   },
   {
    "duration": 84,
    "start_time": "2022-12-27T20:08:16.152Z"
   },
   {
    "duration": 50,
    "start_time": "2022-12-27T20:08:16.239Z"
   },
   {
    "duration": 63,
    "start_time": "2022-12-27T20:08:16.292Z"
   },
   {
    "duration": 2080,
    "start_time": "2022-12-27T20:08:16.358Z"
   },
   {
    "duration": 34,
    "start_time": "2022-12-27T20:08:18.443Z"
   },
   {
    "duration": 70,
    "start_time": "2022-12-27T20:08:18.479Z"
   },
   {
    "duration": 678,
    "start_time": "2022-12-27T20:08:18.552Z"
   },
   {
    "duration": 521,
    "start_time": "2022-12-27T20:08:19.232Z"
   },
   {
    "duration": 594,
    "start_time": "2022-12-27T20:08:19.754Z"
   },
   {
    "duration": 436,
    "start_time": "2022-12-27T20:08:20.350Z"
   },
   {
    "duration": 510,
    "start_time": "2022-12-27T20:08:20.789Z"
   },
   {
    "duration": 432,
    "start_time": "2022-12-27T20:08:21.325Z"
   },
   {
    "duration": 502,
    "start_time": "2022-12-27T20:08:21.759Z"
   },
   {
    "duration": 400,
    "start_time": "2022-12-27T20:11:36.311Z"
   },
   {
    "duration": 769,
    "start_time": "2022-12-27T20:11:36.713Z"
   },
   {
    "duration": 16187,
    "start_time": "2022-12-27T20:11:37.484Z"
   },
   {
    "duration": 9719,
    "start_time": "2022-12-27T20:11:53.728Z"
   },
   {
    "duration": 79,
    "start_time": "2022-12-27T20:12:03.450Z"
   },
   {
    "duration": 104,
    "start_time": "2022-12-27T20:12:03.533Z"
   },
   {
    "duration": 5325,
    "start_time": "2022-12-27T20:12:03.642Z"
   },
   {
    "duration": 2,
    "start_time": "2022-12-27T20:12:08.969Z"
   },
   {
    "duration": 4273,
    "start_time": "2022-12-27T20:12:08.973Z"
   },
   {
    "duration": 4,
    "start_time": "2022-12-27T20:12:13.249Z"
   },
   {
    "duration": 712,
    "start_time": "2022-12-27T20:12:13.255Z"
   },
   {
    "duration": 87,
    "start_time": "2022-12-27T20:12:13.970Z"
   },
   {
    "duration": 3283,
    "start_time": "2022-12-27T20:12:14.059Z"
   },
   {
    "duration": 3,
    "start_time": "2022-12-27T20:12:17.349Z"
   },
   {
    "duration": 31,
    "start_time": "2022-12-27T20:12:17.354Z"
   },
   {
    "duration": 42,
    "start_time": "2022-12-27T20:12:17.387Z"
   },
   {
    "duration": 33,
    "start_time": "2022-12-27T20:12:17.431Z"
   },
   {
    "duration": 11,
    "start_time": "2022-12-27T20:12:17.466Z"
   },
   {
    "duration": 17,
    "start_time": "2022-12-27T20:12:17.478Z"
   },
   {
    "duration": 48,
    "start_time": "2022-12-27T20:12:17.496Z"
   },
   {
    "duration": 1305,
    "start_time": "2022-12-27T20:12:17.546Z"
   },
   {
    "duration": 1702,
    "start_time": "2022-12-27T20:12:18.853Z"
   },
   {
    "duration": 3,
    "start_time": "2022-12-27T20:12:20.556Z"
   },
   {
    "duration": 7,
    "start_time": "2022-12-27T20:12:20.561Z"
   },
   {
    "duration": 3077,
    "start_time": "2022-12-27T20:12:20.570Z"
   },
   {
    "duration": 520,
    "start_time": "2022-12-27T20:12:23.649Z"
   },
   {
    "duration": 100,
    "start_time": "2022-12-27T20:12:24.171Z"
   },
   {
    "duration": 27,
    "start_time": "2022-12-27T20:12:24.331Z"
   },
   {
    "duration": 1495,
    "start_time": "2022-12-27T20:12:24.360Z"
   },
   {
    "duration": 787,
    "start_time": "2022-12-27T20:12:25.857Z"
   },
   {
    "duration": 80,
    "start_time": "2022-12-27T20:12:26.649Z"
   },
   {
    "duration": 24,
    "start_time": "2022-12-27T20:12:26.732Z"
   },
   {
    "duration": 500,
    "start_time": "2022-12-27T20:12:26.758Z"
   },
   {
    "duration": 514,
    "start_time": "2022-12-27T20:12:27.260Z"
   },
   {
    "duration": 81,
    "start_time": "2022-12-27T20:12:27.776Z"
   },
   {
    "duration": 3905,
    "start_time": "2022-12-27T20:12:27.858Z"
   },
   {
    "duration": 106,
    "start_time": "2022-12-27T20:12:31.764Z"
   },
   {
    "duration": 3,
    "start_time": "2022-12-27T20:12:31.872Z"
   },
   {
    "duration": 63,
    "start_time": "2022-12-27T20:12:31.876Z"
   },
   {
    "duration": 2241,
    "start_time": "2022-12-27T20:12:31.941Z"
   },
   {
    "duration": 71,
    "start_time": "2022-12-27T20:12:34.183Z"
   },
   {
    "duration": 9,
    "start_time": "2022-12-27T20:12:34.256Z"
   },
   {
    "duration": 773,
    "start_time": "2022-12-27T20:12:34.267Z"
   },
   {
    "duration": 597,
    "start_time": "2022-12-27T20:12:35.041Z"
   },
   {
    "duration": 502,
    "start_time": "2022-12-27T20:12:35.641Z"
   },
   {
    "duration": 506,
    "start_time": "2022-12-27T20:12:36.144Z"
   },
   {
    "duration": 588,
    "start_time": "2022-12-27T20:12:36.651Z"
   },
   {
    "duration": 513,
    "start_time": "2022-12-27T20:12:37.241Z"
   },
   {
    "duration": 286,
    "start_time": "2022-12-27T20:12:37.756Z"
   },
   {
    "duration": 473,
    "start_time": "2022-12-28T11:00:37.523Z"
   },
   {
    "duration": 1059,
    "start_time": "2022-12-28T11:00:37.998Z"
   },
   {
    "duration": 16375,
    "start_time": "2022-12-28T11:00:39.060Z"
   },
   {
    "duration": 10027,
    "start_time": "2022-12-28T11:00:55.438Z"
   },
   {
    "duration": 28,
    "start_time": "2022-12-28T11:01:05.515Z"
   },
   {
    "duration": 279,
    "start_time": "2022-12-28T11:01:05.545Z"
   },
   {
    "duration": 765,
    "start_time": "2022-12-28T11:01:38.663Z"
   },
   {
    "duration": 540,
    "start_time": "2022-12-28T11:01:51.879Z"
   },
   {
    "duration": 384,
    "start_time": "2022-12-28T11:02:41.031Z"
   },
   {
    "duration": 332,
    "start_time": "2022-12-28T11:04:49.502Z"
   },
   {
    "duration": 193,
    "start_time": "2022-12-28T11:04:57.859Z"
   },
   {
    "duration": 317,
    "start_time": "2022-12-28T11:05:30.322Z"
   }
  ],
  "colab": {
   "name": "PySparkSprint.ipynb",
   "provenance": []
  },
  "kernelspec": {
   "display_name": "Python 3 (ipykernel)",
   "language": "python",
   "name": "python3"
  },
  "language_info": {
   "codemirror_mode": {
    "name": "ipython",
    "version": 3
   },
   "file_extension": ".py",
   "mimetype": "text/x-python",
   "name": "python",
   "nbconvert_exporter": "python",
   "pygments_lexer": "ipython3",
   "version": "3.9.7"
  },
  "toc": {
   "base_numbering": 1,
   "nav_menu": {},
   "number_sections": true,
   "sideBar": true,
   "skip_h1_title": true,
   "title_cell": "Table of Contents",
   "title_sidebar": "Contents",
   "toc_cell": false,
   "toc_position": {},
   "toc_section_display": true,
   "toc_window_display": true
  }
 },
 "nbformat": 4,
 "nbformat_minor": 5
}
