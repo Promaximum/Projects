{
 "cells": [
  {
   "cell_type": "markdown",
   "id": "7df011de",
   "metadata": {},
   "source": [
    "# Проект \"Прогнозирование заказов такси\""
   ]
  },
  {
   "cell_type": "markdown",
   "id": "2fd34f15",
   "metadata": {},
   "source": [
    "Компания «Чётенькое такси» собрала исторические данные о заказах такси в аэропортах. Чтобы привлекать больше водителей в период пиковой нагрузки, нужно спрогнозировать количество заказов такси на следующий час. Необходимо модель для такого предсказания.\n",
    "\n",
    "Значение метрики *RMSE* на тестовой выборке должно быть не больше 48.\n",
    "\n",
    "Необходимо:\n",
    "\n",
    "1. Загрузить данные и выполнить их ресемплирование по одному часу.\n",
    "2. Проанализировать данные.\n",
    "3. Обучить разные модели с различными гиперпараметрами. Сделать тестовую выборку размером 10% от исходных данных.\n",
    "4. Проверить данные на тестовой выборке и сделать выводы.\n",
    "\n",
    "\n",
    "Данные лежат в файле `taxi.csv`. Количество заказов находится в столбце `num_orders` (от англ. *number of orders*, «число заказов»)."
   ]
  },
  {
   "cell_type": "markdown",
   "id": "bdbf3a6e",
   "metadata": {},
   "source": [
    "## 1. Подготовка"
   ]
  },
  {
   "cell_type": "code",
   "execution_count": 14,
   "id": "72fcf303",
   "metadata": {},
   "outputs": [],
   "source": [
    "#!pip install statsmodels"
   ]
  },
  {
   "cell_type": "code",
   "execution_count": 15,
   "id": "f9e59fb4",
   "metadata": {},
   "outputs": [],
   "source": [
    "#!pip install catboost"
   ]
  },
  {
   "cell_type": "code",
   "execution_count": 16,
   "id": "23a3ebe5",
   "metadata": {
    "scrolled": true
   },
   "outputs": [
    {
     "name": "stdout",
     "output_type": "stream",
     "text": [
      "Requirement already satisfied: lightgbm in /opt/conda/lib/python3.9/site-packages (3.3.1)\n",
      "Requirement already satisfied: numpy in /opt/conda/lib/python3.9/site-packages (from lightgbm) (1.21.1)\n",
      "Requirement already satisfied: wheel in /opt/conda/lib/python3.9/site-packages (from lightgbm) (0.36.2)\n",
      "Requirement already satisfied: scipy in /opt/conda/lib/python3.9/site-packages (from lightgbm) (1.9.1)\n",
      "Requirement already satisfied: scikit-learn!=0.22.0 in /opt/conda/lib/python3.9/site-packages (from lightgbm) (0.24.1)\n",
      "Requirement already satisfied: threadpoolctl>=2.0.0 in /opt/conda/lib/python3.9/site-packages (from scikit-learn!=0.22.0->lightgbm) (3.1.0)\n",
      "Requirement already satisfied: joblib>=0.11 in /opt/conda/lib/python3.9/site-packages (from scikit-learn!=0.22.0->lightgbm) (1.1.0)\n"
     ]
    }
   ],
   "source": [
    "!pip install lightgbm"
   ]
  },
  {
   "cell_type": "code",
   "execution_count": 17,
   "id": "84213257",
   "metadata": {},
   "outputs": [],
   "source": [
    "import pandas as pd\n",
    "import pathlib\n",
    "from pathlib import Path\n",
    "import matplotlib.pyplot as plt\n",
    "from statsmodels.tsa.seasonal import seasonal_decompose\n",
    "from statsmodels.tsa.stattools import adfuller\n",
    "from sklearn.linear_model import LinearRegression\n",
    "from sklearn.ensemble import RandomForestRegressor\n",
    "from sklearn.tree import DecisionTreeRegressor\n",
    "from sklearn.model_selection import cross_val_score, train_test_split, TimeSeriesSplit, GridSearchCV, TimeSeriesSplit\n",
    "from sklearn.pipeline import Pipeline\n",
    "from sklearn.preprocessing import StandardScaler\n",
    "import lightgbm as lgb\n",
    "import warnings\n",
    "from sklearn.metrics import mean_squared_error, make_scorer\n",
    "from catboost import Pool, CatBoostRegressor, cv\n",
    "warnings.filterwarnings('ignore')"
   ]
  },
  {
   "cell_type": "code",
   "execution_count": 18,
   "id": "9bc4d849",
   "metadata": {},
   "outputs": [],
   "source": [
    "try:\n",
    "    taxi_data = pd.read_csv(\"/datasets/taxi.csv\", index_col=[0], parse_dates=[0])\n",
    "except:\n",
    "    taxi_data = pd.read_csv('C:\\\\Data\\\\taxi.csv', parse_dates=[0], index_col=[0])"
   ]
  },
  {
   "cell_type": "code",
   "execution_count": 19,
   "id": "7c9b7165",
   "metadata": {},
   "outputs": [
    {
     "data": {
      "text/html": [
       "<div>\n",
       "<style scoped>\n",
       "    .dataframe tbody tr th:only-of-type {\n",
       "        vertical-align: middle;\n",
       "    }\n",
       "\n",
       "    .dataframe tbody tr th {\n",
       "        vertical-align: top;\n",
       "    }\n",
       "\n",
       "    .dataframe thead th {\n",
       "        text-align: right;\n",
       "    }\n",
       "</style>\n",
       "<table border=\"1\" class=\"dataframe\">\n",
       "  <thead>\n",
       "    <tr style=\"text-align: right;\">\n",
       "      <th></th>\n",
       "      <th>num_orders</th>\n",
       "    </tr>\n",
       "    <tr>\n",
       "      <th>datetime</th>\n",
       "      <th></th>\n",
       "    </tr>\n",
       "  </thead>\n",
       "  <tbody>\n",
       "    <tr>\n",
       "      <th>2018-03-01 00:00:00</th>\n",
       "      <td>9</td>\n",
       "    </tr>\n",
       "    <tr>\n",
       "      <th>2018-03-01 00:10:00</th>\n",
       "      <td>14</td>\n",
       "    </tr>\n",
       "    <tr>\n",
       "      <th>2018-03-01 00:20:00</th>\n",
       "      <td>28</td>\n",
       "    </tr>\n",
       "    <tr>\n",
       "      <th>2018-03-01 00:30:00</th>\n",
       "      <td>20</td>\n",
       "    </tr>\n",
       "    <tr>\n",
       "      <th>2018-03-01 00:40:00</th>\n",
       "      <td>32</td>\n",
       "    </tr>\n",
       "    <tr>\n",
       "      <th>2018-03-01 00:50:00</th>\n",
       "      <td>21</td>\n",
       "    </tr>\n",
       "    <tr>\n",
       "      <th>2018-03-01 01:00:00</th>\n",
       "      <td>7</td>\n",
       "    </tr>\n",
       "    <tr>\n",
       "      <th>2018-03-01 01:10:00</th>\n",
       "      <td>5</td>\n",
       "    </tr>\n",
       "    <tr>\n",
       "      <th>2018-03-01 01:20:00</th>\n",
       "      <td>17</td>\n",
       "    </tr>\n",
       "    <tr>\n",
       "      <th>2018-03-01 01:30:00</th>\n",
       "      <td>12</td>\n",
       "    </tr>\n",
       "  </tbody>\n",
       "</table>\n",
       "</div>"
      ],
      "text/plain": [
       "                     num_orders\n",
       "datetime                       \n",
       "2018-03-01 00:00:00           9\n",
       "2018-03-01 00:10:00          14\n",
       "2018-03-01 00:20:00          28\n",
       "2018-03-01 00:30:00          20\n",
       "2018-03-01 00:40:00          32\n",
       "2018-03-01 00:50:00          21\n",
       "2018-03-01 01:00:00           7\n",
       "2018-03-01 01:10:00           5\n",
       "2018-03-01 01:20:00          17\n",
       "2018-03-01 01:30:00          12"
      ]
     },
     "execution_count": 19,
     "metadata": {},
     "output_type": "execute_result"
    }
   ],
   "source": [
    "taxi_data.head(10)"
   ]
  },
  {
   "cell_type": "code",
   "execution_count": 20,
   "id": "2dc4c9ec",
   "metadata": {
    "scrolled": true
   },
   "outputs": [
    {
     "name": "stdout",
     "output_type": "stream",
     "text": [
      "<class 'pandas.core.frame.DataFrame'>\n",
      "DatetimeIndex: 26496 entries, 2018-03-01 00:00:00 to 2018-08-31 23:50:00\n",
      "Data columns (total 1 columns):\n",
      " #   Column      Non-Null Count  Dtype\n",
      "---  ------      --------------  -----\n",
      " 0   num_orders  26496 non-null  int64\n",
      "dtypes: int64(1)\n",
      "memory usage: 414.0 KB\n"
     ]
    }
   ],
   "source": [
    "taxi_data.info()"
   ]
  },
  {
   "cell_type": "code",
   "execution_count": 21,
   "id": "ee00f432",
   "metadata": {},
   "outputs": [
    {
     "data": {
      "text/html": [
       "<div>\n",
       "<style scoped>\n",
       "    .dataframe tbody tr th:only-of-type {\n",
       "        vertical-align: middle;\n",
       "    }\n",
       "\n",
       "    .dataframe tbody tr th {\n",
       "        vertical-align: top;\n",
       "    }\n",
       "\n",
       "    .dataframe thead th {\n",
       "        text-align: right;\n",
       "    }\n",
       "</style>\n",
       "<table border=\"1\" class=\"dataframe\">\n",
       "  <thead>\n",
       "    <tr style=\"text-align: right;\">\n",
       "      <th></th>\n",
       "      <th>num_orders</th>\n",
       "    </tr>\n",
       "  </thead>\n",
       "  <tbody>\n",
       "    <tr>\n",
       "      <th>count</th>\n",
       "      <td>26496.000000</td>\n",
       "    </tr>\n",
       "    <tr>\n",
       "      <th>mean</th>\n",
       "      <td>14.070463</td>\n",
       "    </tr>\n",
       "    <tr>\n",
       "      <th>std</th>\n",
       "      <td>9.211330</td>\n",
       "    </tr>\n",
       "    <tr>\n",
       "      <th>min</th>\n",
       "      <td>0.000000</td>\n",
       "    </tr>\n",
       "    <tr>\n",
       "      <th>25%</th>\n",
       "      <td>8.000000</td>\n",
       "    </tr>\n",
       "    <tr>\n",
       "      <th>50%</th>\n",
       "      <td>13.000000</td>\n",
       "    </tr>\n",
       "    <tr>\n",
       "      <th>75%</th>\n",
       "      <td>19.000000</td>\n",
       "    </tr>\n",
       "    <tr>\n",
       "      <th>max</th>\n",
       "      <td>119.000000</td>\n",
       "    </tr>\n",
       "  </tbody>\n",
       "</table>\n",
       "</div>"
      ],
      "text/plain": [
       "         num_orders\n",
       "count  26496.000000\n",
       "mean      14.070463\n",
       "std        9.211330\n",
       "min        0.000000\n",
       "25%        8.000000\n",
       "50%       13.000000\n",
       "75%       19.000000\n",
       "max      119.000000"
      ]
     },
     "execution_count": 21,
     "metadata": {},
     "output_type": "execute_result"
    }
   ],
   "source": [
    "taxi_data.describe()"
   ]
  },
  {
   "cell_type": "code",
   "execution_count": 22,
   "id": "cdbe5a29",
   "metadata": {},
   "outputs": [
    {
     "data": {
      "text/plain": [
       "num_orders    0\n",
       "dtype: int64"
      ]
     },
     "execution_count": 22,
     "metadata": {},
     "output_type": "execute_result"
    }
   ],
   "source": [
    "taxi_data.isna().sum()"
   ]
  },
  {
   "cell_type": "code",
   "execution_count": 23,
   "id": "f8d6e9de",
   "metadata": {},
   "outputs": [
    {
     "data": {
      "text/html": [
       "<div>\n",
       "<style scoped>\n",
       "    .dataframe tbody tr th:only-of-type {\n",
       "        vertical-align: middle;\n",
       "    }\n",
       "\n",
       "    .dataframe tbody tr th {\n",
       "        vertical-align: top;\n",
       "    }\n",
       "\n",
       "    .dataframe thead th {\n",
       "        text-align: right;\n",
       "    }\n",
       "</style>\n",
       "<table border=\"1\" class=\"dataframe\">\n",
       "  <thead>\n",
       "    <tr style=\"text-align: right;\">\n",
       "      <th></th>\n",
       "      <th>num_orders</th>\n",
       "    </tr>\n",
       "    <tr>\n",
       "      <th>datetime</th>\n",
       "      <th></th>\n",
       "    </tr>\n",
       "  </thead>\n",
       "  <tbody>\n",
       "    <tr>\n",
       "      <th>2018-03-01 00:00:00</th>\n",
       "      <td>9</td>\n",
       "    </tr>\n",
       "    <tr>\n",
       "      <th>2018-03-01 00:10:00</th>\n",
       "      <td>14</td>\n",
       "    </tr>\n",
       "    <tr>\n",
       "      <th>2018-03-01 00:20:00</th>\n",
       "      <td>28</td>\n",
       "    </tr>\n",
       "    <tr>\n",
       "      <th>2018-03-01 00:30:00</th>\n",
       "      <td>20</td>\n",
       "    </tr>\n",
       "    <tr>\n",
       "      <th>2018-03-01 00:40:00</th>\n",
       "      <td>32</td>\n",
       "    </tr>\n",
       "    <tr>\n",
       "      <th>...</th>\n",
       "      <td>...</td>\n",
       "    </tr>\n",
       "    <tr>\n",
       "      <th>2018-08-31 23:10:00</th>\n",
       "      <td>32</td>\n",
       "    </tr>\n",
       "    <tr>\n",
       "      <th>2018-08-31 23:20:00</th>\n",
       "      <td>24</td>\n",
       "    </tr>\n",
       "    <tr>\n",
       "      <th>2018-08-31 23:30:00</th>\n",
       "      <td>27</td>\n",
       "    </tr>\n",
       "    <tr>\n",
       "      <th>2018-08-31 23:40:00</th>\n",
       "      <td>39</td>\n",
       "    </tr>\n",
       "    <tr>\n",
       "      <th>2018-08-31 23:50:00</th>\n",
       "      <td>53</td>\n",
       "    </tr>\n",
       "  </tbody>\n",
       "</table>\n",
       "<p>26496 rows × 1 columns</p>\n",
       "</div>"
      ],
      "text/plain": [
       "                     num_orders\n",
       "datetime                       \n",
       "2018-03-01 00:00:00           9\n",
       "2018-03-01 00:10:00          14\n",
       "2018-03-01 00:20:00          28\n",
       "2018-03-01 00:30:00          20\n",
       "2018-03-01 00:40:00          32\n",
       "...                         ...\n",
       "2018-08-31 23:10:00          32\n",
       "2018-08-31 23:20:00          24\n",
       "2018-08-31 23:30:00          27\n",
       "2018-08-31 23:40:00          39\n",
       "2018-08-31 23:50:00          53\n",
       "\n",
       "[26496 rows x 1 columns]"
      ]
     },
     "execution_count": 23,
     "metadata": {},
     "output_type": "execute_result"
    }
   ],
   "source": [
    "taxi_data.sort_index() #Отсортируем индексы по возрастанию"
   ]
  },
  {
   "cell_type": "code",
   "execution_count": 24,
   "id": "a823ecb6",
   "metadata": {},
   "outputs": [
    {
     "data": {
      "text/plain": [
       "True"
      ]
     },
     "execution_count": 24,
     "metadata": {},
     "output_type": "execute_result"
    }
   ],
   "source": [
    "taxi_data.index.is_monotonic #Проверим функцию на монотонность, чтобы посмотреть, расположены ли в хронологическом порядке данные"
   ]
  },
  {
   "cell_type": "code",
   "execution_count": 25,
   "id": "0a979027",
   "metadata": {},
   "outputs": [],
   "source": [
    "taxi_data = taxi_data.resample('1H').sum() #Сделаем ресемплинг по первому часу"
   ]
  },
  {
   "cell_type": "markdown",
   "id": "e6a91538",
   "metadata": {},
   "source": [
    "**Вывод** Мы загрузили данные из файла где имеется информация от 01.03.2018 года по 31.03.18. Мы перевели данные с Dtetime на Datetime64 и установили инекс раный столбцу Datetime. Пропуски отсутствуют."
   ]
  },
  {
   "cell_type": "markdown",
   "id": "e2a1b457",
   "metadata": {},
   "source": [
    "## 2. Анализ"
   ]
  },
  {
   "cell_type": "markdown",
   "id": "f9e6078b",
   "metadata": {},
   "source": [
    "Построим график временного ряда"
   ]
  },
  {
   "cell_type": "code",
   "execution_count": 26,
   "id": "fbbeaac3",
   "metadata": {
    "scrolled": false
   },
   "outputs": [
    {
     "data": {
      "image/png": "[encoded data removed]",
      "text/plain": [
       "<Figure size 864x576 with 1 Axes>"
      ]
     },
     "metadata": {
      "needs_background": "light"
     },
     "output_type": "display_data"
    }
   ],
   "source": [
    "taxi_data.plot(figsize=(12,8))\n",
    "plt.xlabel('Дата', fontsize=14)\n",
    "plt.ylabel('Количество заказов такси', fontsize=14)\n",
    "plt.title('Количество заказов такси на март-август', fontsize=16)\n",
    "plt.legend()\n",
    "plt.show()"
   ]
  },
  {
   "cell_type": "markdown",
   "id": "75133132",
   "metadata": {},
   "source": [
    "Разложим временной ряд на сезонный компонент и тренд. Для корректной визуализации графика указываем оси ax=plt.gca, чтобы получить текущие оси"
   ]
  },
  {
   "cell_type": "code",
   "execution_count": 27,
   "id": "2c20845b",
   "metadata": {},
   "outputs": [
    {
     "data": {
      "image/png": "[encoded data removed]",
      "text/plain": [
       "<Figure size 576x864 with 3 Axes>"
      ]
     },
     "metadata": {
      "needs_background": "light"
     },
     "output_type": "display_data"
    }
   ],
   "source": [
    "decomposed = seasonal_decompose(taxi_data)\n",
    "\n",
    "plt.figure(figsize=(8, 12))\n",
    "plt.subplot(311)\n",
    "decomposed.seasonal.plot(ax=plt.gca())\n",
    "plt.title('Seasonality')\n",
    "plt.subplot(312)\n",
    "decomposed.trend.plot(ax=plt.gca())\n",
    "plt.title('Trend')\n",
    "plt.subplot(313)\n",
    "decomposed.resid.plot(ax=plt.gca())\n",
    "plt.title('Residuals')\n",
    "plt.tight_layout()"
   ]
  },
  {
   "cell_type": "markdown",
   "id": "114856f4",
   "metadata": {},
   "source": [
    "Теперь необходимо построить график сезонной составляющей за июль"
   ]
  },
  {
   "cell_type": "code",
   "execution_count": 28,
   "id": "555da32b",
   "metadata": {},
   "outputs": [
    {
     "data": {
      "image/png": "[encoded data removed]",
      "text/plain": [
       "<Figure size 576x864 with 3 Axes>"
      ]
     },
     "metadata": {
      "needs_background": "light"
     },
     "output_type": "display_data"
    }
   ],
   "source": [
    "plt.figure(figsize=(8, 12))\n",
    "plt.subplot(311)\n",
    "decomposed.seasonal['2018-07-01':'2018-07-31'].plot(ax=plt.gca())\n",
    "plt.title('Seasonality')\n",
    "plt.subplot(312)\n",
    "decomposed.trend['2018-07-01':'2018-07-31'].plot(ax=plt.gca())\n",
    "plt.title('Trend')\n",
    "plt.subplot(313)\n",
    "decomposed.resid['2018-07-01':'2018-07-31'].plot(ax=plt.gca())\n",
    "plt.title('Residuals')\n",
    "plt.tight_layout()"
   ]
  },
  {
   "cell_type": "markdown",
   "id": "a5f5d646",
   "metadata": {},
   "source": [
    "По графику мы видим, что имеется тренд на увеличение количество заказов с течением времени."
   ]
  },
  {
   "cell_type": "markdown",
   "id": "57dd1a2d",
   "metadata": {},
   "source": [
    "Теперь рассмотрим тренд с периодичностью в два дня."
   ]
  },
  {
   "cell_type": "code",
   "execution_count": 29,
   "id": "c9f72422",
   "metadata": {
    "scrolled": true
   },
   "outputs": [
    {
     "data": {
      "image/png": "[encoded data removed]",
      "text/plain": [
       "<Figure size 576x864 with 3 Axes>"
      ]
     },
     "metadata": {
      "needs_background": "light"
     },
     "output_type": "display_data"
    }
   ],
   "source": [
    "plt.figure(figsize=(8, 12))\n",
    "plt.subplot(311)\n",
    "decomposed.seasonal['2018-07-01':'2018-07-02'].plot(ax=plt.gca())\n",
    "plt.title('Seasonality')\n",
    "plt.subplot(312)\n",
    "decomposed.trend['2018-07-01':'2018-07-02'].plot(ax=plt.gca())\n",
    "plt.title('Trend')\n",
    "plt.subplot(313)\n",
    "decomposed.resid['2018-07-01':'2018-07-02'].plot(ax=plt.gca())\n",
    "plt.title('Residuals')\n",
    "plt.tight_layout()"
   ]
  },
  {
   "cell_type": "markdown",
   "id": "13310dfe",
   "metadata": {},
   "source": [
    "Из графиков видно, что число заказов становится больше к получночи, а меньше всего к 6 утра.\n",
    "\n",
    "Теперь неоходимо проверить стационарность временного ряда. Для этого найдём размерность временного ряда - набор разностей между соседним временным рядом."
   ]
  },
  {
   "cell_type": "code",
   "execution_count": 30,
   "id": "eead9c48",
   "metadata": {},
   "outputs": [
    {
     "data": {
      "image/png": "[encoded data removed]",
      "text/plain": [
       "<Figure size 864x720 with 1 Axes>"
      ]
     },
     "metadata": {
      "needs_background": "light"
     },
     "output_type": "display_data"
    }
   ],
   "source": [
    "taxi_data_1 = taxi_data - taxi_data.shift()\n",
    "taxi_data_1['mean'] = taxi_data_1['num_orders'].rolling(15).mean()\n",
    "taxi_data_1['std'] = taxi_data_1['num_orders'].rolling(15).std()\n",
    "taxi_data_1.plot(figsize=(12,10))\n",
    "plt.show()"
   ]
  },
  {
   "cell_type": "markdown",
   "id": "69f17496",
   "metadata": {},
   "source": [
    "Ряд стационарен, поскольку его среднее значение и стандартное отклаение не сильно меняются."
   ]
  },
  {
   "cell_type": "markdown",
   "id": "513592ed",
   "metadata": {},
   "source": [
    "Теперь проведет тест Дики-Фуллера"
   ]
  },
  {
   "cell_type": "code",
   "execution_count": 31,
   "id": "0634300c",
   "metadata": {},
   "outputs": [
    {
     "name": "stdout",
     "output_type": "stream",
     "text": [
      "ADF Statistic: -3.0689242890279558\n",
      "p.value: 0.028940051402612906\n",
      "Critical values:\n",
      "\t 1%:-3.431842162413052\n",
      "\t 5%:-2.8621993540813637\n",
      "\t 10%:-2.567120978470452\n"
     ]
    }
   ],
   "source": [
    "result = adfuller(taxi_data['num_orders'])\n",
    "print('ADF Statistic: {}'.format(result[0]))\n",
    "print('p.value: {}'.format(result[1]))\n",
    "print('Critical values:')\n",
    "for key, value in result[4].items():\n",
    "    print('\\t {}:{}'.format(key, value))"
   ]
  },
  {
   "cell_type": "markdown",
   "id": "73c5a330",
   "metadata": {},
   "source": [
    "Исходя из того, что p-value меньше порогового значения, что мы отвергаем нулеую гипотезу о нестационарности ряда и принммаем альтернативную, что он стационарен."
   ]
  },
  {
   "cell_type": "markdown",
   "id": "2bd568e3",
   "metadata": {},
   "source": [
    "Теперь создадим признаки для решения задач прогнозирования.\n",
    "\n",
    "Создадим признаки для планирования в 1 шаг."
   ]
  },
  {
   "cell_type": "code",
   "execution_count": 32,
   "id": "74c78d14",
   "metadata": {
    "scrolled": true
   },
   "outputs": [
    {
     "name": "stdout",
     "output_type": "stream",
     "text": [
      "                     num_orders  day  dayofweek  hour  lag_1  lag_2  lag_3  \\\n",
      "datetime                                                                     \n",
      "2018-03-01 00:00:00         124    1          3     3    NaN    NaN    NaN   \n",
      "2018-03-01 01:00:00          85    1          3     3  124.0    NaN    NaN   \n",
      "2018-03-01 02:00:00          71    1          3     3   85.0  124.0    NaN   \n",
      "2018-03-01 03:00:00          66    1          3     3   71.0   85.0  124.0   \n",
      "2018-03-01 04:00:00          43    1          3     3   66.0   71.0   85.0   \n",
      "\n",
      "                     lag_4  lag_5  lag_6  ...  lag_16  lag_17  lag_18  lag_19  \\\n",
      "datetime                                  ...                                   \n",
      "2018-03-01 00:00:00    NaN    NaN    NaN  ...     NaN     NaN     NaN     NaN   \n",
      "2018-03-01 01:00:00    NaN    NaN    NaN  ...     NaN     NaN     NaN     NaN   \n",
      "2018-03-01 02:00:00    NaN    NaN    NaN  ...     NaN     NaN     NaN     NaN   \n",
      "2018-03-01 03:00:00    NaN    NaN    NaN  ...     NaN     NaN     NaN     NaN   \n",
      "2018-03-01 04:00:00  124.0    NaN    NaN  ...     NaN     NaN     NaN     NaN   \n",
      "\n",
      "                     lag_20  lag_21  lag_22  lag_23  lag_24  rolling_mean  \n",
      "datetime                                                                   \n",
      "2018-03-01 00:00:00     NaN     NaN     NaN     NaN     NaN           NaN  \n",
      "2018-03-01 01:00:00     NaN     NaN     NaN     NaN     NaN           NaN  \n",
      "2018-03-01 02:00:00     NaN     NaN     NaN     NaN     NaN           NaN  \n",
      "2018-03-01 03:00:00     NaN     NaN     NaN     NaN     NaN           NaN  \n",
      "2018-03-01 04:00:00     NaN     NaN     NaN     NaN     NaN           NaN  \n",
      "\n",
      "[5 rows x 29 columns]\n"
     ]
    }
   ],
   "source": [
    "def make_features(taxi_data, max_lag, rolling_mean_size):\n",
    "    #taxi_data['month'] = taxi_data.index.month\n",
    "    taxi_data['day'] = taxi_data.index.day\n",
    "    taxi_data['dayofweek'] = taxi_data.index.dayofweek\n",
    "    taxi_data['hour'] = taxi_data.index.dayofweek\n",
    "    \n",
    "    #Вычислим отстающие значения, затем добавим аргумент max_lag, который задаст максимальный размер отставания\n",
    "    #Новые признаки будут называться lag_1, lag_2 и до величины max_lag\n",
    "    \n",
    "    for lag in range(1, max_lag + 1):\n",
    "        taxi_data['lag_{}'.format(lag)] = taxi_data['num_orders'].shift(lag)\n",
    "    \n",
    "    #Вычислим также среднее скользящее значение и добавим его в качестве признака rolling_mean\n",
    "\n",
    "    taxi_data['rolling_mean'] = taxi_data['num_orders'].shift().rolling(rolling_mean_size).mean()\n",
    "\n",
    "# Зададим отстающие признаки - 24, скользящее среднее - 10\n",
    "\n",
    "make_features(taxi_data, 24, 10)\n",
    "print(taxi_data.head())"
   ]
  },
  {
   "cell_type": "code",
   "execution_count": 33,
   "id": "3d2ac5e0",
   "metadata": {},
   "outputs": [
    {
     "data": {
      "image/png": "[encoded data removed]",
      "text/plain": [
       "<Figure size 1332x432 with 1 Axes>"
      ]
     },
     "metadata": {
      "needs_background": "light"
     },
     "output_type": "display_data"
    }
   ],
   "source": [
    "# Код ревьюера\n",
    "from statsmodels.graphics import tsaplots\n",
    "\n",
    "taxi = pd.read_csv(\"/datasets/taxi.csv\", index_col=[0], parse_dates=[0]).resample('1H').sum()\n",
    "ts = taxi['num_orders']\n",
    "\n",
    "fig = tsaplots.plot_acf(ts,lags= 168)\n",
    "fig.set_size_inches(18.5, 6)\n",
    "plt.ylim(-.1, 1.1)\n",
    "plt.show() \n"
   ]
  },
  {
   "cell_type": "markdown",
   "id": "5f805b53",
   "metadata": {},
   "source": [
    "Удалим пропуски."
   ]
  },
  {
   "cell_type": "code",
   "execution_count": 34,
   "id": "2336d4dc",
   "metadata": {},
   "outputs": [],
   "source": [
    "taxi_data.dropna(inplace=True)"
   ]
  },
  {
   "cell_type": "code",
   "execution_count": 35,
   "id": "c4e0f76c",
   "metadata": {
    "scrolled": true
   },
   "outputs": [
    {
     "data": {
      "text/html": [
       "<div>\n",
       "<style scoped>\n",
       "    .dataframe tbody tr th:only-of-type {\n",
       "        vertical-align: middle;\n",
       "    }\n",
       "\n",
       "    .dataframe tbody tr th {\n",
       "        vertical-align: top;\n",
       "    }\n",
       "\n",
       "    .dataframe thead th {\n",
       "        text-align: right;\n",
       "    }\n",
       "</style>\n",
       "<table border=\"1\" class=\"dataframe\">\n",
       "  <thead>\n",
       "    <tr style=\"text-align: right;\">\n",
       "      <th></th>\n",
       "      <th>num_orders</th>\n",
       "      <th>day</th>\n",
       "      <th>dayofweek</th>\n",
       "      <th>hour</th>\n",
       "      <th>lag_1</th>\n",
       "      <th>lag_2</th>\n",
       "      <th>lag_3</th>\n",
       "      <th>lag_4</th>\n",
       "      <th>lag_5</th>\n",
       "      <th>lag_6</th>\n",
       "      <th>...</th>\n",
       "      <th>lag_16</th>\n",
       "      <th>lag_17</th>\n",
       "      <th>lag_18</th>\n",
       "      <th>lag_19</th>\n",
       "      <th>lag_20</th>\n",
       "      <th>lag_21</th>\n",
       "      <th>lag_22</th>\n",
       "      <th>lag_23</th>\n",
       "      <th>lag_24</th>\n",
       "      <th>rolling_mean</th>\n",
       "    </tr>\n",
       "    <tr>\n",
       "      <th>datetime</th>\n",
       "      <th></th>\n",
       "      <th></th>\n",
       "      <th></th>\n",
       "      <th></th>\n",
       "      <th></th>\n",
       "      <th></th>\n",
       "      <th></th>\n",
       "      <th></th>\n",
       "      <th></th>\n",
       "      <th></th>\n",
       "      <th></th>\n",
       "      <th></th>\n",
       "      <th></th>\n",
       "      <th></th>\n",
       "      <th></th>\n",
       "      <th></th>\n",
       "      <th></th>\n",
       "      <th></th>\n",
       "      <th></th>\n",
       "      <th></th>\n",
       "      <th></th>\n",
       "    </tr>\n",
       "  </thead>\n",
       "  <tbody>\n",
       "    <tr>\n",
       "      <th>2018-03-02 00:00:00</th>\n",
       "      <td>90</td>\n",
       "      <td>2</td>\n",
       "      <td>4</td>\n",
       "      <td>4</td>\n",
       "      <td>58.0</td>\n",
       "      <td>113.0</td>\n",
       "      <td>66.0</td>\n",
       "      <td>61.0</td>\n",
       "      <td>45.0</td>\n",
       "      <td>73.0</td>\n",
       "      <td>...</td>\n",
       "      <td>34.0</td>\n",
       "      <td>15.0</td>\n",
       "      <td>12.0</td>\n",
       "      <td>6.0</td>\n",
       "      <td>43.0</td>\n",
       "      <td>66.0</td>\n",
       "      <td>71.0</td>\n",
       "      <td>85.0</td>\n",
       "      <td>124.0</td>\n",
       "      <td>61.7</td>\n",
       "    </tr>\n",
       "    <tr>\n",
       "      <th>2018-03-02 01:00:00</th>\n",
       "      <td>120</td>\n",
       "      <td>2</td>\n",
       "      <td>4</td>\n",
       "      <td>4</td>\n",
       "      <td>90.0</td>\n",
       "      <td>58.0</td>\n",
       "      <td>113.0</td>\n",
       "      <td>66.0</td>\n",
       "      <td>61.0</td>\n",
       "      <td>45.0</td>\n",
       "      <td>...</td>\n",
       "      <td>69.0</td>\n",
       "      <td>34.0</td>\n",
       "      <td>15.0</td>\n",
       "      <td>12.0</td>\n",
       "      <td>6.0</td>\n",
       "      <td>43.0</td>\n",
       "      <td>66.0</td>\n",
       "      <td>71.0</td>\n",
       "      <td>85.0</td>\n",
       "      <td>65.9</td>\n",
       "    </tr>\n",
       "    <tr>\n",
       "      <th>2018-03-02 02:00:00</th>\n",
       "      <td>75</td>\n",
       "      <td>2</td>\n",
       "      <td>4</td>\n",
       "      <td>4</td>\n",
       "      <td>120.0</td>\n",
       "      <td>90.0</td>\n",
       "      <td>58.0</td>\n",
       "      <td>113.0</td>\n",
       "      <td>66.0</td>\n",
       "      <td>61.0</td>\n",
       "      <td>...</td>\n",
       "      <td>64.0</td>\n",
       "      <td>69.0</td>\n",
       "      <td>34.0</td>\n",
       "      <td>15.0</td>\n",
       "      <td>12.0</td>\n",
       "      <td>6.0</td>\n",
       "      <td>43.0</td>\n",
       "      <td>66.0</td>\n",
       "      <td>71.0</td>\n",
       "      <td>71.3</td>\n",
       "    </tr>\n",
       "    <tr>\n",
       "      <th>2018-03-02 03:00:00</th>\n",
       "      <td>64</td>\n",
       "      <td>2</td>\n",
       "      <td>4</td>\n",
       "      <td>4</td>\n",
       "      <td>75.0</td>\n",
       "      <td>120.0</td>\n",
       "      <td>90.0</td>\n",
       "      <td>58.0</td>\n",
       "      <td>113.0</td>\n",
       "      <td>66.0</td>\n",
       "      <td>...</td>\n",
       "      <td>96.0</td>\n",
       "      <td>64.0</td>\n",
       "      <td>69.0</td>\n",
       "      <td>34.0</td>\n",
       "      <td>15.0</td>\n",
       "      <td>12.0</td>\n",
       "      <td>6.0</td>\n",
       "      <td>43.0</td>\n",
       "      <td>66.0</td>\n",
       "      <td>74.5</td>\n",
       "    </tr>\n",
       "    <tr>\n",
       "      <th>2018-03-02 04:00:00</th>\n",
       "      <td>20</td>\n",
       "      <td>2</td>\n",
       "      <td>4</td>\n",
       "      <td>4</td>\n",
       "      <td>64.0</td>\n",
       "      <td>75.0</td>\n",
       "      <td>120.0</td>\n",
       "      <td>90.0</td>\n",
       "      <td>58.0</td>\n",
       "      <td>113.0</td>\n",
       "      <td>...</td>\n",
       "      <td>30.0</td>\n",
       "      <td>96.0</td>\n",
       "      <td>64.0</td>\n",
       "      <td>69.0</td>\n",
       "      <td>34.0</td>\n",
       "      <td>15.0</td>\n",
       "      <td>12.0</td>\n",
       "      <td>6.0</td>\n",
       "      <td>43.0</td>\n",
       "      <td>76.5</td>\n",
       "    </tr>\n",
       "  </tbody>\n",
       "</table>\n",
       "<p>5 rows × 29 columns</p>\n",
       "</div>"
      ],
      "text/plain": [
       "                     num_orders  day  dayofweek  hour  lag_1  lag_2  lag_3  \\\n",
       "datetime                                                                     \n",
       "2018-03-02 00:00:00          90    2          4     4   58.0  113.0   66.0   \n",
       "2018-03-02 01:00:00         120    2          4     4   90.0   58.0  113.0   \n",
       "2018-03-02 02:00:00          75    2          4     4  120.0   90.0   58.0   \n",
       "2018-03-02 03:00:00          64    2          4     4   75.0  120.0   90.0   \n",
       "2018-03-02 04:00:00          20    2          4     4   64.0   75.0  120.0   \n",
       "\n",
       "                     lag_4  lag_5  lag_6  ...  lag_16  lag_17  lag_18  lag_19  \\\n",
       "datetime                                  ...                                   \n",
       "2018-03-02 00:00:00   61.0   45.0   73.0  ...    34.0    15.0    12.0     6.0   \n",
       "2018-03-02 01:00:00   66.0   61.0   45.0  ...    69.0    34.0    15.0    12.0   \n",
       "2018-03-02 02:00:00  113.0   66.0   61.0  ...    64.0    69.0    34.0    15.0   \n",
       "2018-03-02 03:00:00   58.0  113.0   66.0  ...    96.0    64.0    69.0    34.0   \n",
       "2018-03-02 04:00:00   90.0   58.0  113.0  ...    30.0    96.0    64.0    69.0   \n",
       "\n",
       "                     lag_20  lag_21  lag_22  lag_23  lag_24  rolling_mean  \n",
       "datetime                                                                   \n",
       "2018-03-02 00:00:00    43.0    66.0    71.0    85.0   124.0          61.7  \n",
       "2018-03-02 01:00:00     6.0    43.0    66.0    71.0    85.0          65.9  \n",
       "2018-03-02 02:00:00    12.0     6.0    43.0    66.0    71.0          71.3  \n",
       "2018-03-02 03:00:00    15.0    12.0     6.0    43.0    66.0          74.5  \n",
       "2018-03-02 04:00:00    34.0    15.0    12.0     6.0    43.0          76.5  \n",
       "\n",
       "[5 rows x 29 columns]"
      ]
     },
     "execution_count": 35,
     "metadata": {},
     "output_type": "execute_result"
    }
   ],
   "source": [
    "taxi_data.head()"
   ]
  },
  {
   "cell_type": "code",
   "execution_count": 36,
   "id": "1b991ab1",
   "metadata": {
    "scrolled": true
   },
   "outputs": [
    {
     "name": "stdout",
     "output_type": "stream",
     "text": [
      "<class 'pandas.core.frame.DataFrame'>\n",
      "DatetimeIndex: 4392 entries, 2018-03-02 00:00:00 to 2018-08-31 23:00:00\n",
      "Freq: H\n",
      "Data columns (total 29 columns):\n",
      " #   Column        Non-Null Count  Dtype  \n",
      "---  ------        --------------  -----  \n",
      " 0   num_orders    4392 non-null   int64  \n",
      " 1   day           4392 non-null   int64  \n",
      " 2   dayofweek     4392 non-null   int64  \n",
      " 3   hour          4392 non-null   int64  \n",
      " 4   lag_1         4392 non-null   float64\n",
      " 5   lag_2         4392 non-null   float64\n",
      " 6   lag_3         4392 non-null   float64\n",
      " 7   lag_4         4392 non-null   float64\n",
      " 8   lag_5         4392 non-null   float64\n",
      " 9   lag_6         4392 non-null   float64\n",
      " 10  lag_7         4392 non-null   float64\n",
      " 11  lag_8         4392 non-null   float64\n",
      " 12  lag_9         4392 non-null   float64\n",
      " 13  lag_10        4392 non-null   float64\n",
      " 14  lag_11        4392 non-null   float64\n",
      " 15  lag_12        4392 non-null   float64\n",
      " 16  lag_13        4392 non-null   float64\n",
      " 17  lag_14        4392 non-null   float64\n",
      " 18  lag_15        4392 non-null   float64\n",
      " 19  lag_16        4392 non-null   float64\n",
      " 20  lag_17        4392 non-null   float64\n",
      " 21  lag_18        4392 non-null   float64\n",
      " 22  lag_19        4392 non-null   float64\n",
      " 23  lag_20        4392 non-null   float64\n",
      " 24  lag_21        4392 non-null   float64\n",
      " 25  lag_22        4392 non-null   float64\n",
      " 26  lag_23        4392 non-null   float64\n",
      " 27  lag_24        4392 non-null   float64\n",
      " 28  rolling_mean  4392 non-null   float64\n",
      "dtypes: float64(25), int64(4)\n",
      "memory usage: 1.0 MB\n"
     ]
    }
   ],
   "source": [
    "taxi_data.info()"
   ]
  },
  {
   "cell_type": "markdown",
   "id": "e143d986",
   "metadata": {},
   "source": [
    "**Вывод**\n",
    "\n",
    "В данном разделе мы занимались анализом временных рядов. Сначала рассмотрели весь июль, а потом период в 2 дня. Мы выявили тренд, что заказы увеличиваются с течением времени и пик приходится на полночь. Также мы проверили данные на стационарность ременного ряда. Мы таже создали признаки для месяца, дня недели, отстающие признаки и скользящее среднее. Затем мы удалили пропуски и получили таблицу с 29 признаками, которая готова для построения модели."
   ]
  },
  {
   "cell_type": "markdown",
   "id": "af25a569",
   "metadata": {},
   "source": [
    "# 3. Обучение"
   ]
  },
  {
   "cell_type": "markdown",
   "id": "d932f177",
   "metadata": {},
   "source": [
    "Разделим данные на обучающую и тестовые выборки и построим разные модели и найдём для них лучшие гиперпараметры. "
   ]
  },
  {
   "cell_type": "code",
   "execution_count": 37,
   "id": "41ba6df7",
   "metadata": {},
   "outputs": [
    {
     "data": {
      "text/plain": [
       "(3952, 29)"
      ]
     },
     "metadata": {},
     "output_type": "display_data"
    },
    {
     "data": {
      "text/plain": [
       "(440, 29)"
      ]
     },
     "metadata": {},
     "output_type": "display_data"
    },
    {
     "name": "stdout",
     "output_type": "stream",
     "text": [
      "2018-03-02 00:00:00 2018-08-13 15:00:00\n",
      "2018-08-13 16:00:00 2018-08-31 23:00:00\n"
     ]
    }
   ],
   "source": [
    "train, test = train_test_split(taxi_data, shuffle=False, test_size=0.1)\n",
    "train = train.dropna()\n",
    "\n",
    "features_train = train.drop(['num_orders'], axis=1)\n",
    "target_train = train['num_orders']\n",
    "\n",
    "features_test = test.drop(['num_orders'], axis=1)\n",
    "target_test = test['num_orders']\n",
    "\n",
    "#Выведем размер выборок\n",
    "display(train.shape)\n",
    "display(test.shape)\n",
    "\n",
    "#Проведем проверку корректности деления\n",
    "print(train.index.min(), train.index.max())\n",
    "print(test.index.min(), test.index.max())"
   ]
  },
  {
   "cell_type": "markdown",
   "id": "8b7619bb",
   "metadata": {},
   "source": [
    "**Линейная регрессия**"
   ]
  },
  {
   "cell_type": "code",
   "execution_count": 38,
   "id": "96d390bd",
   "metadata": {},
   "outputs": [],
   "source": [
    "def RMSE(target, predict):\n",
    "    return (mean_squared_error(target, predict))**0.5\n",
    "RMSE_score = make_scorer(RMSE, greater_is_better=False)"
   ]
  },
  {
   "cell_type": "code",
   "execution_count": 39,
   "id": "af5fe964",
   "metadata": {},
   "outputs": [
    {
     "name": "stdout",
     "output_type": "stream",
     "text": [
      "Среднее качество модели линейной регрессии на кросс-валидации 26.17296677278644\n"
     ]
    }
   ],
   "source": [
    "model_lr = LinearRegression()\n",
    "model_lr.fit(features_train, target_train)\n",
    "regression_cv_score = pd.Series(cross_val_score(model_lr, features_train, target_train, scoring=RMSE_score, cv=3)).mean()*(-1)\n",
    "print('Среднее качество модели линейной регрессии на кросс-валидации', regression_cv_score)\n",
    "#train_predict = model.predict(features_train)\n",
    "#rmse = mean_squared_error(target_train, train_predict)**0.5\n",
    "#print(rmse)"
   ]
  },
  {
   "cell_type": "markdown",
   "id": "ee15eaa5",
   "metadata": {},
   "source": [
    "**Модель случайного леса**"
   ]
  },
  {
   "cell_type": "code",
   "execution_count": 40,
   "id": "59447c75",
   "metadata": {},
   "outputs": [],
   "source": [
    "#Разделим данные на обучающую и тестовую выборки\n",
    "#df_train_rf, df_test_rf = train_test_split(taxi_data, test_size=0.20, shuffle=False, random_state=12345)\n",
    "\n",
    "#features_train_rf = df_train_rf.drop(['num_orders'], axis=1)\n",
    "#target_train_rf = df_train_rf['num_orders']\n",
    "\n",
    "#Разделим данные на валидационную и тестовую выборки\n",
    "#df_valid_rf, df_test_rf = train_test_split(df_test_rf, test_size=0.50, random_state=12345)\n",
    "\n",
    "##создадим в валидационной и тестовой выборках переменные для признаков и целевого признака\n",
    "#features_valid_rf = df_valid_rf.drop(['num_orders'], axis=1)\n",
    "#target_valid_rf = df_valid_rf['num_orders']\n",
    "#features_test_rf = df_test_rf.drop(['num_orders'], axis=1)\n",
    "#target_test_rf = df_test_rf['num_orders']"
   ]
  },
  {
   "cell_type": "markdown",
   "id": "a6736ee0",
   "metadata": {},
   "source": [
    "Проверяем деление выборок."
   ]
  },
  {
   "cell_type": "code",
   "execution_count": 41,
   "id": "a4deba97",
   "metadata": {
    "scrolled": false
   },
   "outputs": [],
   "source": [
    "#print(df_train_rf.shape)\n",
    "#print(df_test_rf.shape)\n",
    "#print(df_valid_rf.shape)"
   ]
  },
  {
   "cell_type": "markdown",
   "id": "74d72263",
   "metadata": {},
   "source": [
    "Найдём наилучшую глубину дерева"
   ]
  },
  {
   "cell_type": "code",
   "execution_count": 42,
   "id": "ea471ecd",
   "metadata": {},
   "outputs": [],
   "source": [
    "#%%time\n",
    "\n",
    "#for depth in range(3, 20, 3):\n",
    "    #model_dt = DecisionTreeRegressor(random_state=12345, max_depth=depth)\n",
    "    #model_dt.fit(features_train, target_train)\n",
    "    #dt_cv_score = pd.Series(cross_val_score(model_dt, features_train, target_train, scoring=RMSE_score, cv=3)).mean()*(-1)\n",
    "    #predictions_valid_dt = model.predict(features_valid_rf)\n",
    "    #rmse = mean_squared_error(target_valid_rf, predictions_valid_rf)**0.5\n",
    "    #print('Глубина:',depth)\n",
    "    #print('Среднее качество модели решающего дерева на кросс-валидации', dt_cv_score)\n",
    "    #print('RMSE решающего дерева', rmse)\n",
    "    \n",
    "    "
   ]
  },
  {
   "cell_type": "code",
   "execution_count": 43,
   "id": "f3e2180f",
   "metadata": {},
   "outputs": [
    {
     "name": "stdout",
     "output_type": "stream",
     "text": [
      "CPU times: user 76.7 ms, sys: 702 µs, total: 77.4 ms\n",
      "Wall time: 76.7 ms\n"
     ]
    }
   ],
   "source": [
    "%%time\n",
    "\n",
    "model_dt = DecisionTreeRegressor(random_state=12345, max_depth=15)\n",
    "model_dt.fit(features_train, target_train)\n",
    "\n",
    "param_grid = {\n",
    "    'max_depth': [None, 10, 20, 30],\n",
    "    'min_samples_split': [2, 5, 10],\n",
    "    'min_samples_leaf': [1, 2, 4],\n",
    "    'max_features': ['auto', 'sqrt', 'log2']\n",
    "}\n",
    "time_split = TimeSeriesSplit(n_splits=5)"
   ]
  },
  {
   "cell_type": "code",
   "execution_count": 44,
   "id": "3294907f",
   "metadata": {
    "scrolled": true
   },
   "outputs": [
    {
     "name": "stdout",
     "output_type": "stream",
     "text": [
      "Fitting 5 folds for each of 108 candidates, totalling 540 fits\n",
      "[CV 1/5] END max_depth=None, max_features=auto, min_samples_leaf=1, min_samples_split=2; total time=   0.0s\n",
      "[CV 2/5] END max_depth=None, max_features=auto, min_samples_leaf=1, min_samples_split=2; total time=   0.0s\n",
      "[CV 3/5] END max_depth=None, max_features=auto, min_samples_leaf=1, min_samples_split=2; total time=   0.1s\n",
      "[CV 4/5] END max_depth=None, max_features=auto, min_samples_leaf=1, min_samples_split=2; total time=   0.1s\n",
      "[CV 5/5] END max_depth=None, max_features=auto, min_samples_leaf=1, min_samples_split=2; total time=   0.1s\n",
      "[CV 1/5] END max_depth=None, max_features=auto, min_samples_leaf=1, min_samples_split=5; total time=   0.0s\n",
      "[CV 2/5] END max_depth=None, max_features=auto, min_samples_leaf=1, min_samples_split=5; total time=   0.0s\n",
      "[CV 3/5] END max_depth=None, max_features=auto, min_samples_leaf=1, min_samples_split=5; total time=   0.0s\n",
      "[CV 4/5] END max_depth=None, max_features=auto, min_samples_leaf=1, min_samples_split=5; total time=   0.1s\n",
      "[CV 5/5] END max_depth=None, max_features=auto, min_samples_leaf=1, min_samples_split=5; total time=   0.1s\n",
      "[CV 1/5] END max_depth=None, max_features=auto, min_samples_leaf=1, min_samples_split=10; total time=   0.0s\n",
      "[CV 2/5] END max_depth=None, max_features=auto, min_samples_leaf=1, min_samples_split=10; total time=   0.0s\n",
      "[CV 3/5] END max_depth=None, max_features=auto, min_samples_leaf=1, min_samples_split=10; total time=   0.0s\n",
      "[CV 4/5] END max_depth=None, max_features=auto, min_samples_leaf=1, min_samples_split=10; total time=   0.1s\n",
      "[CV 5/5] END max_depth=None, max_features=auto, min_samples_leaf=1, min_samples_split=10; total time=   0.1s\n",
      "[CV 1/5] END max_depth=None, max_features=auto, min_samples_leaf=2, min_samples_split=2; total time=   0.0s\n",
      "[CV 2/5] END max_depth=None, max_features=auto, min_samples_leaf=2, min_samples_split=2; total time=   0.0s\n",
      "[CV 3/5] END max_depth=None, max_features=auto, min_samples_leaf=2, min_samples_split=2; total time=   0.0s\n",
      "[CV 4/5] END max_depth=None, max_features=auto, min_samples_leaf=2, min_samples_split=2; total time=   0.1s\n",
      "[CV 5/5] END max_depth=None, max_features=auto, min_samples_leaf=2, min_samples_split=2; total time=   0.1s\n",
      "[CV 1/5] END max_depth=None, max_features=auto, min_samples_leaf=2, min_samples_split=5; total time=   0.0s\n",
      "[CV 2/5] END max_depth=None, max_features=auto, min_samples_leaf=2, min_samples_split=5; total time=   0.0s\n",
      "[CV 3/5] END max_depth=None, max_features=auto, min_samples_leaf=2, min_samples_split=5; total time=   0.0s\n",
      "[CV 4/5] END max_depth=None, max_features=auto, min_samples_leaf=2, min_samples_split=5; total time=   0.0s\n",
      "[CV 5/5] END max_depth=None, max_features=auto, min_samples_leaf=2, min_samples_split=5; total time=   0.1s\n",
      "[CV 1/5] END max_depth=None, max_features=auto, min_samples_leaf=2, min_samples_split=10; total time=   0.0s\n",
      "[CV 2/5] END max_depth=None, max_features=auto, min_samples_leaf=2, min_samples_split=10; total time=   0.0s\n",
      "[CV 3/5] END max_depth=None, max_features=auto, min_samples_leaf=2, min_samples_split=10; total time=   0.0s\n",
      "[CV 4/5] END max_depth=None, max_features=auto, min_samples_leaf=2, min_samples_split=10; total time=   0.0s\n",
      "[CV 5/5] END max_depth=None, max_features=auto, min_samples_leaf=2, min_samples_split=10; total time=   0.1s\n",
      "[CV 1/5] END max_depth=None, max_features=auto, min_samples_leaf=4, min_samples_split=2; total time=   0.0s\n",
      "[CV 2/5] END max_depth=None, max_features=auto, min_samples_leaf=4, min_samples_split=2; total time=   0.0s\n",
      "[CV 3/5] END max_depth=None, max_features=auto, min_samples_leaf=4, min_samples_split=2; total time=   0.0s\n",
      "[CV 4/5] END max_depth=None, max_features=auto, min_samples_leaf=4, min_samples_split=2; total time=   0.0s\n",
      "[CV 5/5] END max_depth=None, max_features=auto, min_samples_leaf=4, min_samples_split=2; total time=   0.1s\n",
      "[CV 1/5] END max_depth=None, max_features=auto, min_samples_leaf=4, min_samples_split=5; total time=   0.0s\n",
      "[CV 2/5] END max_depth=None, max_features=auto, min_samples_leaf=4, min_samples_split=5; total time=   0.0s\n",
      "[CV 3/5] END max_depth=None, max_features=auto, min_samples_leaf=4, min_samples_split=5; total time=   0.0s\n",
      "[CV 4/5] END max_depth=None, max_features=auto, min_samples_leaf=4, min_samples_split=5; total time=   0.0s\n",
      "[CV 5/5] END max_depth=None, max_features=auto, min_samples_leaf=4, min_samples_split=5; total time=   0.1s\n",
      "[CV 1/5] END max_depth=None, max_features=auto, min_samples_leaf=4, min_samples_split=10; total time=   0.0s\n",
      "[CV 2/5] END max_depth=None, max_features=auto, min_samples_leaf=4, min_samples_split=10; total time=   0.0s\n",
      "[CV 3/5] END max_depth=None, max_features=auto, min_samples_leaf=4, min_samples_split=10; total time=   0.0s\n",
      "[CV 4/5] END max_depth=None, max_features=auto, min_samples_leaf=4, min_samples_split=10; total time=   0.0s\n",
      "[CV 5/5] END max_depth=None, max_features=auto, min_samples_leaf=4, min_samples_split=10; total time=   0.1s\n",
      "[CV 1/5] END max_depth=None, max_features=sqrt, min_samples_leaf=1, min_samples_split=2; total time=   0.0s\n",
      "[CV 2/5] END max_depth=None, max_features=sqrt, min_samples_leaf=1, min_samples_split=2; total time=   0.0s\n",
      "[CV 3/5] END max_depth=None, max_features=sqrt, min_samples_leaf=1, min_samples_split=2; total time=   0.0s\n",
      "[CV 4/5] END max_depth=None, max_features=sqrt, min_samples_leaf=1, min_samples_split=2; total time=   0.0s\n",
      "[CV 5/5] END max_depth=None, max_features=sqrt, min_samples_leaf=1, min_samples_split=2; total time=   0.0s\n",
      "[CV 1/5] END max_depth=None, max_features=sqrt, min_samples_leaf=1, min_samples_split=5; total time=   0.0s\n",
      "[CV 2/5] END max_depth=None, max_features=sqrt, min_samples_leaf=1, min_samples_split=5; total time=   0.0s\n",
      "[CV 3/5] END max_depth=None, max_features=sqrt, min_samples_leaf=1, min_samples_split=5; total time=   0.0s\n",
      "[CV 4/5] END max_depth=None, max_features=sqrt, min_samples_leaf=1, min_samples_split=5; total time=   0.0s\n",
      "[CV 5/5] END max_depth=None, max_features=sqrt, min_samples_leaf=1, min_samples_split=5; total time=   0.0s\n",
      "[CV 1/5] END max_depth=None, max_features=sqrt, min_samples_leaf=1, min_samples_split=10; total time=   0.0s\n",
      "[CV 2/5] END max_depth=None, max_features=sqrt, min_samples_leaf=1, min_samples_split=10; total time=   0.0s\n",
      "[CV 3/5] END max_depth=None, max_features=sqrt, min_samples_leaf=1, min_samples_split=10; total time=   0.0s\n",
      "[CV 4/5] END max_depth=None, max_features=sqrt, min_samples_leaf=1, min_samples_split=10; total time=   0.0s\n",
      "[CV 5/5] END max_depth=None, max_features=sqrt, min_samples_leaf=1, min_samples_split=10; total time=   0.0s\n",
      "[CV 1/5] END max_depth=None, max_features=sqrt, min_samples_leaf=2, min_samples_split=2; total time=   0.0s\n",
      "[CV 2/5] END max_depth=None, max_features=sqrt, min_samples_leaf=2, min_samples_split=2; total time=   0.0s\n",
      "[CV 3/5] END max_depth=None, max_features=sqrt, min_samples_leaf=2, min_samples_split=2; total time=   0.0s\n",
      "[CV 4/5] END max_depth=None, max_features=sqrt, min_samples_leaf=2, min_samples_split=2; total time=   0.0s\n",
      "[CV 5/5] END max_depth=None, max_features=sqrt, min_samples_leaf=2, min_samples_split=2; total time=   0.0s\n",
      "[CV 1/5] END max_depth=None, max_features=sqrt, min_samples_leaf=2, min_samples_split=5; total time=   0.0s\n",
      "[CV 2/5] END max_depth=None, max_features=sqrt, min_samples_leaf=2, min_samples_split=5; total time=   0.0s\n",
      "[CV 3/5] END max_depth=None, max_features=sqrt, min_samples_leaf=2, min_samples_split=5; total time=   0.0s\n",
      "[CV 4/5] END max_depth=None, max_features=sqrt, min_samples_leaf=2, min_samples_split=5; total time=   0.0s\n",
      "[CV 5/5] END max_depth=None, max_features=sqrt, min_samples_leaf=2, min_samples_split=5; total time=   0.0s\n",
      "[CV 1/5] END max_depth=None, max_features=sqrt, min_samples_leaf=2, min_samples_split=10; total time=   0.0s\n",
      "[CV 2/5] END max_depth=None, max_features=sqrt, min_samples_leaf=2, min_samples_split=10; total time=   0.0s\n",
      "[CV 3/5] END max_depth=None, max_features=sqrt, min_samples_leaf=2, min_samples_split=10; total time=   0.0s\n",
      "[CV 4/5] END max_depth=None, max_features=sqrt, min_samples_leaf=2, min_samples_split=10; total time=   0.0s\n",
      "[CV 5/5] END max_depth=None, max_features=sqrt, min_samples_leaf=2, min_samples_split=10; total time=   0.0s\n",
      "[CV 1/5] END max_depth=None, max_features=sqrt, min_samples_leaf=4, min_samples_split=2; total time=   0.0s\n",
      "[CV 2/5] END max_depth=None, max_features=sqrt, min_samples_leaf=4, min_samples_split=2; total time=   0.0s\n",
      "[CV 3/5] END max_depth=None, max_features=sqrt, min_samples_leaf=4, min_samples_split=2; total time=   0.0s\n",
      "[CV 4/5] END max_depth=None, max_features=sqrt, min_samples_leaf=4, min_samples_split=2; total time=   0.0s\n",
      "[CV 5/5] END max_depth=None, max_features=sqrt, min_samples_leaf=4, min_samples_split=2; total time=   0.0s\n",
      "[CV 1/5] END max_depth=None, max_features=sqrt, min_samples_leaf=4, min_samples_split=5; total time=   0.0s\n",
      "[CV 2/5] END max_depth=None, max_features=sqrt, min_samples_leaf=4, min_samples_split=5; total time=   0.0s\n",
      "[CV 3/5] END max_depth=None, max_features=sqrt, min_samples_leaf=4, min_samples_split=5; total time=   0.0s\n",
      "[CV 4/5] END max_depth=None, max_features=sqrt, min_samples_leaf=4, min_samples_split=5; total time=   0.0s\n",
      "[CV 5/5] END max_depth=None, max_features=sqrt, min_samples_leaf=4, min_samples_split=5; total time=   0.0s\n",
      "[CV 1/5] END max_depth=None, max_features=sqrt, min_samples_leaf=4, min_samples_split=10; total time=   0.0s\n",
      "[CV 2/5] END max_depth=None, max_features=sqrt, min_samples_leaf=4, min_samples_split=10; total time=   0.0s\n",
      "[CV 3/5] END max_depth=None, max_features=sqrt, min_samples_leaf=4, min_samples_split=10; total time=   0.0s\n",
      "[CV 4/5] END max_depth=None, max_features=sqrt, min_samples_leaf=4, min_samples_split=10; total time=   0.0s\n",
      "[CV 5/5] END max_depth=None, max_features=sqrt, min_samples_leaf=4, min_samples_split=10; total time=   0.0s\n",
      "[CV 1/5] END max_depth=None, max_features=log2, min_samples_leaf=1, min_samples_split=2; total time=   0.0s\n",
      "[CV 2/5] END max_depth=None, max_features=log2, min_samples_leaf=1, min_samples_split=2; total time=   0.0s\n",
      "[CV 3/5] END max_depth=None, max_features=log2, min_samples_leaf=1, min_samples_split=2; total time=   0.0s\n",
      "[CV 4/5] END max_depth=None, max_features=log2, min_samples_leaf=1, min_samples_split=2; total time=   0.0s\n",
      "[CV 5/5] END max_depth=None, max_features=log2, min_samples_leaf=1, min_samples_split=2; total time=   0.0s\n",
      "[CV 1/5] END max_depth=None, max_features=log2, min_samples_leaf=1, min_samples_split=5; total time=   0.0s\n",
      "[CV 2/5] END max_depth=None, max_features=log2, min_samples_leaf=1, min_samples_split=5; total time=   0.0s\n",
      "[CV 3/5] END max_depth=None, max_features=log2, min_samples_leaf=1, min_samples_split=5; total time=   0.0s\n",
      "[CV 4/5] END max_depth=None, max_features=log2, min_samples_leaf=1, min_samples_split=5; total time=   0.0s\n",
      "[CV 5/5] END max_depth=None, max_features=log2, min_samples_leaf=1, min_samples_split=5; total time=   0.0s\n",
      "[CV 1/5] END max_depth=None, max_features=log2, min_samples_leaf=1, min_samples_split=10; total time=   0.0s\n",
      "[CV 2/5] END max_depth=None, max_features=log2, min_samples_leaf=1, min_samples_split=10; total time=   0.0s\n",
      "[CV 3/5] END max_depth=None, max_features=log2, min_samples_leaf=1, min_samples_split=10; total time=   0.0s\n",
      "[CV 4/5] END max_depth=None, max_features=log2, min_samples_leaf=1, min_samples_split=10; total time=   0.0s\n",
      "[CV 5/5] END max_depth=None, max_features=log2, min_samples_leaf=1, min_samples_split=10; total time=   0.0s\n",
      "[CV 1/5] END max_depth=None, max_features=log2, min_samples_leaf=2, min_samples_split=2; total time=   0.0s\n",
      "[CV 2/5] END max_depth=None, max_features=log2, min_samples_leaf=2, min_samples_split=2; total time=   0.0s\n",
      "[CV 3/5] END max_depth=None, max_features=log2, min_samples_leaf=2, min_samples_split=2; total time=   0.0s\n",
      "[CV 4/5] END max_depth=None, max_features=log2, min_samples_leaf=2, min_samples_split=2; total time=   0.0s\n",
      "[CV 5/5] END max_depth=None, max_features=log2, min_samples_leaf=2, min_samples_split=2; total time=   0.0s\n",
      "[CV 1/5] END max_depth=None, max_features=log2, min_samples_leaf=2, min_samples_split=5; total time=   0.0s\n",
      "[CV 2/5] END max_depth=None, max_features=log2, min_samples_leaf=2, min_samples_split=5; total time=   0.0s\n",
      "[CV 3/5] END max_depth=None, max_features=log2, min_samples_leaf=2, min_samples_split=5; total time=   0.0s\n",
      "[CV 4/5] END max_depth=None, max_features=log2, min_samples_leaf=2, min_samples_split=5; total time=   0.0s\n",
      "[CV 5/5] END max_depth=None, max_features=log2, min_samples_leaf=2, min_samples_split=5; total time=   0.0s\n",
      "[CV 1/5] END max_depth=None, max_features=log2, min_samples_leaf=2, min_samples_split=10; total time=   0.0s\n",
      "[CV 2/5] END max_depth=None, max_features=log2, min_samples_leaf=2, min_samples_split=10; total time=   0.0s\n",
      "[CV 3/5] END max_depth=None, max_features=log2, min_samples_leaf=2, min_samples_split=10; total time=   0.0s\n",
      "[CV 4/5] END max_depth=None, max_features=log2, min_samples_leaf=2, min_samples_split=10; total time=   0.0s\n",
      "[CV 5/5] END max_depth=None, max_features=log2, min_samples_leaf=2, min_samples_split=10; total time=   0.0s\n",
      "[CV 1/5] END max_depth=None, max_features=log2, min_samples_leaf=4, min_samples_split=2; total time=   0.0s\n",
      "[CV 2/5] END max_depth=None, max_features=log2, min_samples_leaf=4, min_samples_split=2; total time=   0.0s\n",
      "[CV 3/5] END max_depth=None, max_features=log2, min_samples_leaf=4, min_samples_split=2; total time=   0.0s\n",
      "[CV 4/5] END max_depth=None, max_features=log2, min_samples_leaf=4, min_samples_split=2; total time=   0.0s\n",
      "[CV 5/5] END max_depth=None, max_features=log2, min_samples_leaf=4, min_samples_split=2; total time=   0.0s\n",
      "[CV 1/5] END max_depth=None, max_features=log2, min_samples_leaf=4, min_samples_split=5; total time=   0.0s\n",
      "[CV 2/5] END max_depth=None, max_features=log2, min_samples_leaf=4, min_samples_split=5; total time=   0.0s\n",
      "[CV 3/5] END max_depth=None, max_features=log2, min_samples_leaf=4, min_samples_split=5; total time=   0.0s\n",
      "[CV 4/5] END max_depth=None, max_features=log2, min_samples_leaf=4, min_samples_split=5; total time=   0.0s\n",
      "[CV 5/5] END max_depth=None, max_features=log2, min_samples_leaf=4, min_samples_split=5; total time=   0.0s\n",
      "[CV 1/5] END max_depth=None, max_features=log2, min_samples_leaf=4, min_samples_split=10; total time=   0.0s\n",
      "[CV 2/5] END max_depth=None, max_features=log2, min_samples_leaf=4, min_samples_split=10; total time=   0.0s\n",
      "[CV 3/5] END max_depth=None, max_features=log2, min_samples_leaf=4, min_samples_split=10; total time=   0.0s\n",
      "[CV 4/5] END max_depth=None, max_features=log2, min_samples_leaf=4, min_samples_split=10; total time=   0.0s\n",
      "[CV 5/5] END max_depth=None, max_features=log2, min_samples_leaf=4, min_samples_split=10; total time=   0.0s\n",
      "[CV 1/5] END max_depth=10, max_features=auto, min_samples_leaf=1, min_samples_split=2; total time=   0.0s\n",
      "[CV 2/5] END max_depth=10, max_features=auto, min_samples_leaf=1, min_samples_split=2; total time=   0.0s\n",
      "[CV 3/5] END max_depth=10, max_features=auto, min_samples_leaf=1, min_samples_split=2; total time=   0.0s\n",
      "[CV 4/5] END max_depth=10, max_features=auto, min_samples_leaf=1, min_samples_split=2; total time=   0.0s\n",
      "[CV 5/5] END max_depth=10, max_features=auto, min_samples_leaf=1, min_samples_split=2; total time=   0.1s\n",
      "[CV 1/5] END max_depth=10, max_features=auto, min_samples_leaf=1, min_samples_split=5; total time=   0.0s\n",
      "[CV 2/5] END max_depth=10, max_features=auto, min_samples_leaf=1, min_samples_split=5; total time=   0.0s\n",
      "[CV 3/5] END max_depth=10, max_features=auto, min_samples_leaf=1, min_samples_split=5; total time=   0.0s\n",
      "[CV 4/5] END max_depth=10, max_features=auto, min_samples_leaf=1, min_samples_split=5; total time=   0.0s\n",
      "[CV 5/5] END max_depth=10, max_features=auto, min_samples_leaf=1, min_samples_split=5; total time=   0.1s\n",
      "[CV 1/5] END max_depth=10, max_features=auto, min_samples_leaf=1, min_samples_split=10; total time=   0.0s\n",
      "[CV 2/5] END max_depth=10, max_features=auto, min_samples_leaf=1, min_samples_split=10; total time=   0.0s\n",
      "[CV 3/5] END max_depth=10, max_features=auto, min_samples_leaf=1, min_samples_split=10; total time=   0.0s\n",
      "[CV 4/5] END max_depth=10, max_features=auto, min_samples_leaf=1, min_samples_split=10; total time=   0.0s\n",
      "[CV 5/5] END max_depth=10, max_features=auto, min_samples_leaf=1, min_samples_split=10; total time=   0.1s\n",
      "[CV 1/5] END max_depth=10, max_features=auto, min_samples_leaf=2, min_samples_split=2; total time=   0.0s\n",
      "[CV 2/5] END max_depth=10, max_features=auto, min_samples_leaf=2, min_samples_split=2; total time=   0.0s\n",
      "[CV 3/5] END max_depth=10, max_features=auto, min_samples_leaf=2, min_samples_split=2; total time=   0.0s\n",
      "[CV 4/5] END max_depth=10, max_features=auto, min_samples_leaf=2, min_samples_split=2; total time=   0.0s\n",
      "[CV 5/5] END max_depth=10, max_features=auto, min_samples_leaf=2, min_samples_split=2; total time=   0.1s\n",
      "[CV 1/5] END max_depth=10, max_features=auto, min_samples_leaf=2, min_samples_split=5; total time=   0.0s\n",
      "[CV 2/5] END max_depth=10, max_features=auto, min_samples_leaf=2, min_samples_split=5; total time=   0.0s\n",
      "[CV 3/5] END max_depth=10, max_features=auto, min_samples_leaf=2, min_samples_split=5; total time=   0.0s\n",
      "[CV 4/5] END max_depth=10, max_features=auto, min_samples_leaf=2, min_samples_split=5; total time=   0.0s\n",
      "[CV 5/5] END max_depth=10, max_features=auto, min_samples_leaf=2, min_samples_split=5; total time=   0.1s\n",
      "[CV 1/5] END max_depth=10, max_features=auto, min_samples_leaf=2, min_samples_split=10; total time=   0.0s\n",
      "[CV 2/5] END max_depth=10, max_features=auto, min_samples_leaf=2, min_samples_split=10; total time=   0.0s\n",
      "[CV 3/5] END max_depth=10, max_features=auto, min_samples_leaf=2, min_samples_split=10; total time=   0.0s\n",
      "[CV 4/5] END max_depth=10, max_features=auto, min_samples_leaf=2, min_samples_split=10; total time=   0.0s\n",
      "[CV 5/5] END max_depth=10, max_features=auto, min_samples_leaf=2, min_samples_split=10; total time=   0.0s\n",
      "[CV 1/5] END max_depth=10, max_features=auto, min_samples_leaf=4, min_samples_split=2; total time=   0.0s\n",
      "[CV 2/5] END max_depth=10, max_features=auto, min_samples_leaf=4, min_samples_split=2; total time=   0.0s\n",
      "[CV 3/5] END max_depth=10, max_features=auto, min_samples_leaf=4, min_samples_split=2; total time=   0.0s\n",
      "[CV 4/5] END max_depth=10, max_features=auto, min_samples_leaf=4, min_samples_split=2; total time=   0.0s\n",
      "[CV 5/5] END max_depth=10, max_features=auto, min_samples_leaf=4, min_samples_split=2; total time=   0.1s\n",
      "[CV 1/5] END max_depth=10, max_features=auto, min_samples_leaf=4, min_samples_split=5; total time=   0.0s\n",
      "[CV 2/5] END max_depth=10, max_features=auto, min_samples_leaf=4, min_samples_split=5; total time=   0.0s\n",
      "[CV 3/5] END max_depth=10, max_features=auto, min_samples_leaf=4, min_samples_split=5; total time=   0.0s\n",
      "[CV 4/5] END max_depth=10, max_features=auto, min_samples_leaf=4, min_samples_split=5; total time=   0.0s\n",
      "[CV 5/5] END max_depth=10, max_features=auto, min_samples_leaf=4, min_samples_split=5; total time=   0.0s\n",
      "[CV 1/5] END max_depth=10, max_features=auto, min_samples_leaf=4, min_samples_split=10; total time=   0.0s\n",
      "[CV 2/5] END max_depth=10, max_features=auto, min_samples_leaf=4, min_samples_split=10; total time=   0.0s\n",
      "[CV 3/5] END max_depth=10, max_features=auto, min_samples_leaf=4, min_samples_split=10; total time=   0.0s\n",
      "[CV 4/5] END max_depth=10, max_features=auto, min_samples_leaf=4, min_samples_split=10; total time=   0.0s\n",
      "[CV 5/5] END max_depth=10, max_features=auto, min_samples_leaf=4, min_samples_split=10; total time=   0.1s\n",
      "[CV 1/5] END max_depth=10, max_features=sqrt, min_samples_leaf=1, min_samples_split=2; total time=   0.0s\n",
      "[CV 2/5] END max_depth=10, max_features=sqrt, min_samples_leaf=1, min_samples_split=2; total time=   0.0s\n",
      "[CV 3/5] END max_depth=10, max_features=sqrt, min_samples_leaf=1, min_samples_split=2; total time=   0.0s\n",
      "[CV 4/5] END max_depth=10, max_features=sqrt, min_samples_leaf=1, min_samples_split=2; total time=   0.0s\n",
      "[CV 5/5] END max_depth=10, max_features=sqrt, min_samples_leaf=1, min_samples_split=2; total time=   0.0s\n",
      "[CV 1/5] END max_depth=10, max_features=sqrt, min_samples_leaf=1, min_samples_split=5; total time=   0.0s\n",
      "[CV 2/5] END max_depth=10, max_features=sqrt, min_samples_leaf=1, min_samples_split=5; total time=   0.0s\n",
      "[CV 3/5] END max_depth=10, max_features=sqrt, min_samples_leaf=1, min_samples_split=5; total time=   0.0s\n",
      "[CV 4/5] END max_depth=10, max_features=sqrt, min_samples_leaf=1, min_samples_split=5; total time=   0.0s\n",
      "[CV 5/5] END max_depth=10, max_features=sqrt, min_samples_leaf=1, min_samples_split=5; total time=   0.0s\n",
      "[CV 1/5] END max_depth=10, max_features=sqrt, min_samples_leaf=1, min_samples_split=10; total time=   0.0s\n",
      "[CV 2/5] END max_depth=10, max_features=sqrt, min_samples_leaf=1, min_samples_split=10; total time=   0.0s\n",
      "[CV 3/5] END max_depth=10, max_features=sqrt, min_samples_leaf=1, min_samples_split=10; total time=   0.0s\n",
      "[CV 4/5] END max_depth=10, max_features=sqrt, min_samples_leaf=1, min_samples_split=10; total time=   0.0s\n",
      "[CV 5/5] END max_depth=10, max_features=sqrt, min_samples_leaf=1, min_samples_split=10; total time=   0.0s\n",
      "[CV 1/5] END max_depth=10, max_features=sqrt, min_samples_leaf=2, min_samples_split=2; total time=   0.0s\n",
      "[CV 2/5] END max_depth=10, max_features=sqrt, min_samples_leaf=2, min_samples_split=2; total time=   0.0s\n",
      "[CV 3/5] END max_depth=10, max_features=sqrt, min_samples_leaf=2, min_samples_split=2; total time=   0.0s\n",
      "[CV 4/5] END max_depth=10, max_features=sqrt, min_samples_leaf=2, min_samples_split=2; total time=   0.0s\n",
      "[CV 5/5] END max_depth=10, max_features=sqrt, min_samples_leaf=2, min_samples_split=2; total time=   0.0s\n",
      "[CV 1/5] END max_depth=10, max_features=sqrt, min_samples_leaf=2, min_samples_split=5; total time=   0.0s\n",
      "[CV 2/5] END max_depth=10, max_features=sqrt, min_samples_leaf=2, min_samples_split=5; total time=   0.0s\n",
      "[CV 3/5] END max_depth=10, max_features=sqrt, min_samples_leaf=2, min_samples_split=5; total time=   0.0s\n",
      "[CV 4/5] END max_depth=10, max_features=sqrt, min_samples_leaf=2, min_samples_split=5; total time=   0.0s\n",
      "[CV 5/5] END max_depth=10, max_features=sqrt, min_samples_leaf=2, min_samples_split=5; total time=   0.0s\n",
      "[CV 1/5] END max_depth=10, max_features=sqrt, min_samples_leaf=2, min_samples_split=10; total time=   0.0s\n",
      "[CV 2/5] END max_depth=10, max_features=sqrt, min_samples_leaf=2, min_samples_split=10; total time=   0.0s\n",
      "[CV 3/5] END max_depth=10, max_features=sqrt, min_samples_leaf=2, min_samples_split=10; total time=   0.0s\n",
      "[CV 4/5] END max_depth=10, max_features=sqrt, min_samples_leaf=2, min_samples_split=10; total time=   0.0s\n",
      "[CV 5/5] END max_depth=10, max_features=sqrt, min_samples_leaf=2, min_samples_split=10; total time=   0.0s\n",
      "[CV 1/5] END max_depth=10, max_features=sqrt, min_samples_leaf=4, min_samples_split=2; total time=   0.0s\n",
      "[CV 2/5] END max_depth=10, max_features=sqrt, min_samples_leaf=4, min_samples_split=2; total time=   0.0s\n",
      "[CV 3/5] END max_depth=10, max_features=sqrt, min_samples_leaf=4, min_samples_split=2; total time=   0.0s\n",
      "[CV 4/5] END max_depth=10, max_features=sqrt, min_samples_leaf=4, min_samples_split=2; total time=   0.0s\n",
      "[CV 5/5] END max_depth=10, max_features=sqrt, min_samples_leaf=4, min_samples_split=2; total time=   0.0s\n",
      "[CV 1/5] END max_depth=10, max_features=sqrt, min_samples_leaf=4, min_samples_split=5; total time=   0.0s\n",
      "[CV 2/5] END max_depth=10, max_features=sqrt, min_samples_leaf=4, min_samples_split=5; total time=   0.0s\n",
      "[CV 3/5] END max_depth=10, max_features=sqrt, min_samples_leaf=4, min_samples_split=5; total time=   0.0s\n",
      "[CV 4/5] END max_depth=10, max_features=sqrt, min_samples_leaf=4, min_samples_split=5; total time=   0.0s\n",
      "[CV 5/5] END max_depth=10, max_features=sqrt, min_samples_leaf=4, min_samples_split=5; total time=   0.0s\n",
      "[CV 1/5] END max_depth=10, max_features=sqrt, min_samples_leaf=4, min_samples_split=10; total time=   0.0s\n",
      "[CV 2/5] END max_depth=10, max_features=sqrt, min_samples_leaf=4, min_samples_split=10; total time=   0.0s\n",
      "[CV 3/5] END max_depth=10, max_features=sqrt, min_samples_leaf=4, min_samples_split=10; total time=   0.0s\n",
      "[CV 4/5] END max_depth=10, max_features=sqrt, min_samples_leaf=4, min_samples_split=10; total time=   0.0s\n",
      "[CV 5/5] END max_depth=10, max_features=sqrt, min_samples_leaf=4, min_samples_split=10; total time=   0.0s\n",
      "[CV 1/5] END max_depth=10, max_features=log2, min_samples_leaf=1, min_samples_split=2; total time=   0.0s\n",
      "[CV 2/5] END max_depth=10, max_features=log2, min_samples_leaf=1, min_samples_split=2; total time=   0.0s\n",
      "[CV 3/5] END max_depth=10, max_features=log2, min_samples_leaf=1, min_samples_split=2; total time=   0.0s\n",
      "[CV 4/5] END max_depth=10, max_features=log2, min_samples_leaf=1, min_samples_split=2; total time=   0.0s\n",
      "[CV 5/5] END max_depth=10, max_features=log2, min_samples_leaf=1, min_samples_split=2; total time=   0.0s\n",
      "[CV 1/5] END max_depth=10, max_features=log2, min_samples_leaf=1, min_samples_split=5; total time=   0.0s\n",
      "[CV 2/5] END max_depth=10, max_features=log2, min_samples_leaf=1, min_samples_split=5; total time=   0.0s\n",
      "[CV 3/5] END max_depth=10, max_features=log2, min_samples_leaf=1, min_samples_split=5; total time=   0.0s\n",
      "[CV 4/5] END max_depth=10, max_features=log2, min_samples_leaf=1, min_samples_split=5; total time=   0.0s\n",
      "[CV 5/5] END max_depth=10, max_features=log2, min_samples_leaf=1, min_samples_split=5; total time=   0.0s\n",
      "[CV 1/5] END max_depth=10, max_features=log2, min_samples_leaf=1, min_samples_split=10; total time=   0.0s\n",
      "[CV 2/5] END max_depth=10, max_features=log2, min_samples_leaf=1, min_samples_split=10; total time=   0.0s\n",
      "[CV 3/5] END max_depth=10, max_features=log2, min_samples_leaf=1, min_samples_split=10; total time=   0.0s\n",
      "[CV 4/5] END max_depth=10, max_features=log2, min_samples_leaf=1, min_samples_split=10; total time=   0.0s\n",
      "[CV 5/5] END max_depth=10, max_features=log2, min_samples_leaf=1, min_samples_split=10; total time=   0.0s\n",
      "[CV 1/5] END max_depth=10, max_features=log2, min_samples_leaf=2, min_samples_split=2; total time=   0.0s\n",
      "[CV 2/5] END max_depth=10, max_features=log2, min_samples_leaf=2, min_samples_split=2; total time=   0.0s\n",
      "[CV 3/5] END max_depth=10, max_features=log2, min_samples_leaf=2, min_samples_split=2; total time=   0.0s\n",
      "[CV 4/5] END max_depth=10, max_features=log2, min_samples_leaf=2, min_samples_split=2; total time=   0.0s\n",
      "[CV 5/5] END max_depth=10, max_features=log2, min_samples_leaf=2, min_samples_split=2; total time=   0.0s\n",
      "[CV 1/5] END max_depth=10, max_features=log2, min_samples_leaf=2, min_samples_split=5; total time=   0.0s\n",
      "[CV 2/5] END max_depth=10, max_features=log2, min_samples_leaf=2, min_samples_split=5; total time=   0.0s\n",
      "[CV 3/5] END max_depth=10, max_features=log2, min_samples_leaf=2, min_samples_split=5; total time=   0.0s\n",
      "[CV 4/5] END max_depth=10, max_features=log2, min_samples_leaf=2, min_samples_split=5; total time=   0.0s\n",
      "[CV 5/5] END max_depth=10, max_features=log2, min_samples_leaf=2, min_samples_split=5; total time=   0.0s\n",
      "[CV 1/5] END max_depth=10, max_features=log2, min_samples_leaf=2, min_samples_split=10; total time=   0.0s\n",
      "[CV 2/5] END max_depth=10, max_features=log2, min_samples_leaf=2, min_samples_split=10; total time=   0.0s\n",
      "[CV 3/5] END max_depth=10, max_features=log2, min_samples_leaf=2, min_samples_split=10; total time=   0.0s\n",
      "[CV 4/5] END max_depth=10, max_features=log2, min_samples_leaf=2, min_samples_split=10; total time=   0.0s\n",
      "[CV 5/5] END max_depth=10, max_features=log2, min_samples_leaf=2, min_samples_split=10; total time=   0.0s\n",
      "[CV 1/5] END max_depth=10, max_features=log2, min_samples_leaf=4, min_samples_split=2; total time=   0.0s\n",
      "[CV 2/5] END max_depth=10, max_features=log2, min_samples_leaf=4, min_samples_split=2; total time=   0.0s\n",
      "[CV 3/5] END max_depth=10, max_features=log2, min_samples_leaf=4, min_samples_split=2; total time=   0.0s\n",
      "[CV 4/5] END max_depth=10, max_features=log2, min_samples_leaf=4, min_samples_split=2; total time=   0.0s\n",
      "[CV 5/5] END max_depth=10, max_features=log2, min_samples_leaf=4, min_samples_split=2; total time=   0.0s\n",
      "[CV 1/5] END max_depth=10, max_features=log2, min_samples_leaf=4, min_samples_split=5; total time=   0.0s\n",
      "[CV 2/5] END max_depth=10, max_features=log2, min_samples_leaf=4, min_samples_split=5; total time=   0.0s\n",
      "[CV 3/5] END max_depth=10, max_features=log2, min_samples_leaf=4, min_samples_split=5; total time=   0.0s\n",
      "[CV 4/5] END max_depth=10, max_features=log2, min_samples_leaf=4, min_samples_split=5; total time=   0.0s\n",
      "[CV 5/5] END max_depth=10, max_features=log2, min_samples_leaf=4, min_samples_split=5; total time=   0.0s\n",
      "[CV 1/5] END max_depth=10, max_features=log2, min_samples_leaf=4, min_samples_split=10; total time=   0.0s\n",
      "[CV 2/5] END max_depth=10, max_features=log2, min_samples_leaf=4, min_samples_split=10; total time=   0.0s\n",
      "[CV 3/5] END max_depth=10, max_features=log2, min_samples_leaf=4, min_samples_split=10; total time=   0.0s\n",
      "[CV 4/5] END max_depth=10, max_features=log2, min_samples_leaf=4, min_samples_split=10; total time=   0.0s\n",
      "[CV 5/5] END max_depth=10, max_features=log2, min_samples_leaf=4, min_samples_split=10; total time=   0.0s\n",
      "[CV 1/5] END max_depth=20, max_features=auto, min_samples_leaf=1, min_samples_split=2; total time=   0.0s\n",
      "[CV 2/5] END max_depth=20, max_features=auto, min_samples_leaf=1, min_samples_split=2; total time=   0.0s\n",
      "[CV 3/5] END max_depth=20, max_features=auto, min_samples_leaf=1, min_samples_split=2; total time=   0.0s\n",
      "[CV 4/5] END max_depth=20, max_features=auto, min_samples_leaf=1, min_samples_split=2; total time=   0.1s\n",
      "[CV 5/5] END max_depth=20, max_features=auto, min_samples_leaf=1, min_samples_split=2; total time=   0.1s\n",
      "[CV 1/5] END max_depth=20, max_features=auto, min_samples_leaf=1, min_samples_split=5; total time=   0.0s\n",
      "[CV 2/5] END max_depth=20, max_features=auto, min_samples_leaf=1, min_samples_split=5; total time=   0.0s\n",
      "[CV 3/5] END max_depth=20, max_features=auto, min_samples_leaf=1, min_samples_split=5; total time=   0.0s\n",
      "[CV 4/5] END max_depth=20, max_features=auto, min_samples_leaf=1, min_samples_split=5; total time=   0.1s\n",
      "[CV 5/5] END max_depth=20, max_features=auto, min_samples_leaf=1, min_samples_split=5; total time=   0.1s\n",
      "[CV 1/5] END max_depth=20, max_features=auto, min_samples_leaf=1, min_samples_split=10; total time=   0.0s\n",
      "[CV 2/5] END max_depth=20, max_features=auto, min_samples_leaf=1, min_samples_split=10; total time=   0.0s\n",
      "[CV 3/5] END max_depth=20, max_features=auto, min_samples_leaf=1, min_samples_split=10; total time=   0.0s\n",
      "[CV 4/5] END max_depth=20, max_features=auto, min_samples_leaf=1, min_samples_split=10; total time=   0.0s\n",
      "[CV 5/5] END max_depth=20, max_features=auto, min_samples_leaf=1, min_samples_split=10; total time=   0.1s\n",
      "[CV 1/5] END max_depth=20, max_features=auto, min_samples_leaf=2, min_samples_split=2; total time=   0.0s\n",
      "[CV 2/5] END max_depth=20, max_features=auto, min_samples_leaf=2, min_samples_split=2; total time=   0.0s\n",
      "[CV 3/5] END max_depth=20, max_features=auto, min_samples_leaf=2, min_samples_split=2; total time=   0.0s\n",
      "[CV 4/5] END max_depth=20, max_features=auto, min_samples_leaf=2, min_samples_split=2; total time=   0.1s\n",
      "[CV 5/5] END max_depth=20, max_features=auto, min_samples_leaf=2, min_samples_split=2; total time=   0.1s\n",
      "[CV 1/5] END max_depth=20, max_features=auto, min_samples_leaf=2, min_samples_split=5; total time=   0.0s\n",
      "[CV 2/5] END max_depth=20, max_features=auto, min_samples_leaf=2, min_samples_split=5; total time=   0.0s\n",
      "[CV 3/5] END max_depth=20, max_features=auto, min_samples_leaf=2, min_samples_split=5; total time=   0.0s\n",
      "[CV 4/5] END max_depth=20, max_features=auto, min_samples_leaf=2, min_samples_split=5; total time=   0.1s\n",
      "[CV 5/5] END max_depth=20, max_features=auto, min_samples_leaf=2, min_samples_split=5; total time=   0.1s\n",
      "[CV 1/5] END max_depth=20, max_features=auto, min_samples_leaf=2, min_samples_split=10; total time=   0.0s\n",
      "[CV 2/5] END max_depth=20, max_features=auto, min_samples_leaf=2, min_samples_split=10; total time=   0.0s\n",
      "[CV 3/5] END max_depth=20, max_features=auto, min_samples_leaf=2, min_samples_split=10; total time=   0.0s\n",
      "[CV 4/5] END max_depth=20, max_features=auto, min_samples_leaf=2, min_samples_split=10; total time=   0.1s\n",
      "[CV 5/5] END max_depth=20, max_features=auto, min_samples_leaf=2, min_samples_split=10; total time=   0.1s\n",
      "[CV 1/5] END max_depth=20, max_features=auto, min_samples_leaf=4, min_samples_split=2; total time=   0.0s\n",
      "[CV 2/5] END max_depth=20, max_features=auto, min_samples_leaf=4, min_samples_split=2; total time=   0.0s\n",
      "[CV 3/5] END max_depth=20, max_features=auto, min_samples_leaf=4, min_samples_split=2; total time=   0.0s\n",
      "[CV 4/5] END max_depth=20, max_features=auto, min_samples_leaf=4, min_samples_split=2; total time=   0.0s\n",
      "[CV 5/5] END max_depth=20, max_features=auto, min_samples_leaf=4, min_samples_split=2; total time=   0.1s\n",
      "[CV 1/5] END max_depth=20, max_features=auto, min_samples_leaf=4, min_samples_split=5; total time=   0.0s\n",
      "[CV 2/5] END max_depth=20, max_features=auto, min_samples_leaf=4, min_samples_split=5; total time=   0.0s\n",
      "[CV 3/5] END max_depth=20, max_features=auto, min_samples_leaf=4, min_samples_split=5; total time=   0.0s\n",
      "[CV 4/5] END max_depth=20, max_features=auto, min_samples_leaf=4, min_samples_split=5; total time=   0.0s\n",
      "[CV 5/5] END max_depth=20, max_features=auto, min_samples_leaf=4, min_samples_split=5; total time=   0.1s\n",
      "[CV 1/5] END max_depth=20, max_features=auto, min_samples_leaf=4, min_samples_split=10; total time=   0.0s\n",
      "[CV 2/5] END max_depth=20, max_features=auto, min_samples_leaf=4, min_samples_split=10; total time=   0.0s\n",
      "[CV 3/5] END max_depth=20, max_features=auto, min_samples_leaf=4, min_samples_split=10; total time=   0.0s\n",
      "[CV 4/5] END max_depth=20, max_features=auto, min_samples_leaf=4, min_samples_split=10; total time=   0.0s\n",
      "[CV 5/5] END max_depth=20, max_features=auto, min_samples_leaf=4, min_samples_split=10; total time=   0.1s\n",
      "[CV 1/5] END max_depth=20, max_features=sqrt, min_samples_leaf=1, min_samples_split=2; total time=   0.0s\n",
      "[CV 2/5] END max_depth=20, max_features=sqrt, min_samples_leaf=1, min_samples_split=2; total time=   0.0s\n",
      "[CV 3/5] END max_depth=20, max_features=sqrt, min_samples_leaf=1, min_samples_split=2; total time=   0.0s\n",
      "[CV 4/5] END max_depth=20, max_features=sqrt, min_samples_leaf=1, min_samples_split=2; total time=   0.0s\n",
      "[CV 5/5] END max_depth=20, max_features=sqrt, min_samples_leaf=1, min_samples_split=2; total time=   0.0s\n",
      "[CV 1/5] END max_depth=20, max_features=sqrt, min_samples_leaf=1, min_samples_split=5; total time=   0.0s\n",
      "[CV 2/5] END max_depth=20, max_features=sqrt, min_samples_leaf=1, min_samples_split=5; total time=   0.0s\n",
      "[CV 3/5] END max_depth=20, max_features=sqrt, min_samples_leaf=1, min_samples_split=5; total time=   0.0s\n",
      "[CV 4/5] END max_depth=20, max_features=sqrt, min_samples_leaf=1, min_samples_split=5; total time=   0.0s\n",
      "[CV 5/5] END max_depth=20, max_features=sqrt, min_samples_leaf=1, min_samples_split=5; total time=   0.0s\n",
      "[CV 1/5] END max_depth=20, max_features=sqrt, min_samples_leaf=1, min_samples_split=10; total time=   0.0s\n",
      "[CV 2/5] END max_depth=20, max_features=sqrt, min_samples_leaf=1, min_samples_split=10; total time=   0.0s\n",
      "[CV 3/5] END max_depth=20, max_features=sqrt, min_samples_leaf=1, min_samples_split=10; total time=   0.0s\n",
      "[CV 4/5] END max_depth=20, max_features=sqrt, min_samples_leaf=1, min_samples_split=10; total time=   0.0s\n",
      "[CV 5/5] END max_depth=20, max_features=sqrt, min_samples_leaf=1, min_samples_split=10; total time=   0.0s\n",
      "[CV 1/5] END max_depth=20, max_features=sqrt, min_samples_leaf=2, min_samples_split=2; total time=   0.0s\n",
      "[CV 2/5] END max_depth=20, max_features=sqrt, min_samples_leaf=2, min_samples_split=2; total time=   0.0s\n",
      "[CV 3/5] END max_depth=20, max_features=sqrt, min_samples_leaf=2, min_samples_split=2; total time=   0.0s\n",
      "[CV 4/5] END max_depth=20, max_features=sqrt, min_samples_leaf=2, min_samples_split=2; total time=   0.0s\n",
      "[CV 5/5] END max_depth=20, max_features=sqrt, min_samples_leaf=2, min_samples_split=2; total time=   0.0s\n",
      "[CV 1/5] END max_depth=20, max_features=sqrt, min_samples_leaf=2, min_samples_split=5; total time=   0.0s\n",
      "[CV 2/5] END max_depth=20, max_features=sqrt, min_samples_leaf=2, min_samples_split=5; total time=   0.0s\n",
      "[CV 3/5] END max_depth=20, max_features=sqrt, min_samples_leaf=2, min_samples_split=5; total time=   0.0s\n",
      "[CV 4/5] END max_depth=20, max_features=sqrt, min_samples_leaf=2, min_samples_split=5; total time=   0.0s\n",
      "[CV 5/5] END max_depth=20, max_features=sqrt, min_samples_leaf=2, min_samples_split=5; total time=   0.0s\n",
      "[CV 1/5] END max_depth=20, max_features=sqrt, min_samples_leaf=2, min_samples_split=10; total time=   0.0s\n",
      "[CV 2/5] END max_depth=20, max_features=sqrt, min_samples_leaf=2, min_samples_split=10; total time=   0.0s\n",
      "[CV 3/5] END max_depth=20, max_features=sqrt, min_samples_leaf=2, min_samples_split=10; total time=   0.0s\n",
      "[CV 4/5] END max_depth=20, max_features=sqrt, min_samples_leaf=2, min_samples_split=10; total time=   0.0s\n",
      "[CV 5/5] END max_depth=20, max_features=sqrt, min_samples_leaf=2, min_samples_split=10; total time=   0.0s\n",
      "[CV 1/5] END max_depth=20, max_features=sqrt, min_samples_leaf=4, min_samples_split=2; total time=   0.0s\n",
      "[CV 2/5] END max_depth=20, max_features=sqrt, min_samples_leaf=4, min_samples_split=2; total time=   0.0s\n",
      "[CV 3/5] END max_depth=20, max_features=sqrt, min_samples_leaf=4, min_samples_split=2; total time=   0.0s\n",
      "[CV 4/5] END max_depth=20, max_features=sqrt, min_samples_leaf=4, min_samples_split=2; total time=   0.0s\n",
      "[CV 5/5] END max_depth=20, max_features=sqrt, min_samples_leaf=4, min_samples_split=2; total time=   0.0s\n",
      "[CV 1/5] END max_depth=20, max_features=sqrt, min_samples_leaf=4, min_samples_split=5; total time=   0.0s\n",
      "[CV 2/5] END max_depth=20, max_features=sqrt, min_samples_leaf=4, min_samples_split=5; total time=   0.0s\n",
      "[CV 3/5] END max_depth=20, max_features=sqrt, min_samples_leaf=4, min_samples_split=5; total time=   0.0s\n",
      "[CV 4/5] END max_depth=20, max_features=sqrt, min_samples_leaf=4, min_samples_split=5; total time=   0.0s\n",
      "[CV 5/5] END max_depth=20, max_features=sqrt, min_samples_leaf=4, min_samples_split=5; total time=   0.0s\n",
      "[CV 1/5] END max_depth=20, max_features=sqrt, min_samples_leaf=4, min_samples_split=10; total time=   0.0s\n",
      "[CV 2/5] END max_depth=20, max_features=sqrt, min_samples_leaf=4, min_samples_split=10; total time=   0.0s\n",
      "[CV 3/5] END max_depth=20, max_features=sqrt, min_samples_leaf=4, min_samples_split=10; total time=   0.0s\n",
      "[CV 4/5] END max_depth=20, max_features=sqrt, min_samples_leaf=4, min_samples_split=10; total time=   0.0s\n",
      "[CV 5/5] END max_depth=20, max_features=sqrt, min_samples_leaf=4, min_samples_split=10; total time=   0.0s\n",
      "[CV 1/5] END max_depth=20, max_features=log2, min_samples_leaf=1, min_samples_split=2; total time=   0.0s\n",
      "[CV 2/5] END max_depth=20, max_features=log2, min_samples_leaf=1, min_samples_split=2; total time=   0.0s\n",
      "[CV 3/5] END max_depth=20, max_features=log2, min_samples_leaf=1, min_samples_split=2; total time=   0.0s\n",
      "[CV 4/5] END max_depth=20, max_features=log2, min_samples_leaf=1, min_samples_split=2; total time=   0.0s\n",
      "[CV 5/5] END max_depth=20, max_features=log2, min_samples_leaf=1, min_samples_split=2; total time=   0.0s\n",
      "[CV 1/5] END max_depth=20, max_features=log2, min_samples_leaf=1, min_samples_split=5; total time=   0.0s\n",
      "[CV 2/5] END max_depth=20, max_features=log2, min_samples_leaf=1, min_samples_split=5; total time=   0.0s\n",
      "[CV 3/5] END max_depth=20, max_features=log2, min_samples_leaf=1, min_samples_split=5; total time=   0.0s\n",
      "[CV 4/5] END max_depth=20, max_features=log2, min_samples_leaf=1, min_samples_split=5; total time=   0.0s\n",
      "[CV 5/5] END max_depth=20, max_features=log2, min_samples_leaf=1, min_samples_split=5; total time=   0.0s\n",
      "[CV 1/5] END max_depth=20, max_features=log2, min_samples_leaf=1, min_samples_split=10; total time=   0.0s\n",
      "[CV 2/5] END max_depth=20, max_features=log2, min_samples_leaf=1, min_samples_split=10; total time=   0.0s\n",
      "[CV 3/5] END max_depth=20, max_features=log2, min_samples_leaf=1, min_samples_split=10; total time=   0.0s\n",
      "[CV 4/5] END max_depth=20, max_features=log2, min_samples_leaf=1, min_samples_split=10; total time=   0.0s\n",
      "[CV 5/5] END max_depth=20, max_features=log2, min_samples_leaf=1, min_samples_split=10; total time=   0.0s\n",
      "[CV 1/5] END max_depth=20, max_features=log2, min_samples_leaf=2, min_samples_split=2; total time=   0.0s\n",
      "[CV 2/5] END max_depth=20, max_features=log2, min_samples_leaf=2, min_samples_split=2; total time=   0.0s\n",
      "[CV 3/5] END max_depth=20, max_features=log2, min_samples_leaf=2, min_samples_split=2; total time=   0.0s\n",
      "[CV 4/5] END max_depth=20, max_features=log2, min_samples_leaf=2, min_samples_split=2; total time=   0.0s\n",
      "[CV 5/5] END max_depth=20, max_features=log2, min_samples_leaf=2, min_samples_split=2; total time=   0.0s\n",
      "[CV 1/5] END max_depth=20, max_features=log2, min_samples_leaf=2, min_samples_split=5; total time=   0.0s\n",
      "[CV 2/5] END max_depth=20, max_features=log2, min_samples_leaf=2, min_samples_split=5; total time=   0.0s\n",
      "[CV 3/5] END max_depth=20, max_features=log2, min_samples_leaf=2, min_samples_split=5; total time=   0.0s\n",
      "[CV 4/5] END max_depth=20, max_features=log2, min_samples_leaf=2, min_samples_split=5; total time=   0.0s\n",
      "[CV 5/5] END max_depth=20, max_features=log2, min_samples_leaf=2, min_samples_split=5; total time=   0.0s\n",
      "[CV 1/5] END max_depth=20, max_features=log2, min_samples_leaf=2, min_samples_split=10; total time=   0.0s\n",
      "[CV 2/5] END max_depth=20, max_features=log2, min_samples_leaf=2, min_samples_split=10; total time=   0.0s\n",
      "[CV 3/5] END max_depth=20, max_features=log2, min_samples_leaf=2, min_samples_split=10; total time=   0.0s\n",
      "[CV 4/5] END max_depth=20, max_features=log2, min_samples_leaf=2, min_samples_split=10; total time=   0.0s\n",
      "[CV 5/5] END max_depth=20, max_features=log2, min_samples_leaf=2, min_samples_split=10; total time=   0.0s\n",
      "[CV 1/5] END max_depth=20, max_features=log2, min_samples_leaf=4, min_samples_split=2; total time=   0.0s\n",
      "[CV 2/5] END max_depth=20, max_features=log2, min_samples_leaf=4, min_samples_split=2; total time=   0.0s\n",
      "[CV 3/5] END max_depth=20, max_features=log2, min_samples_leaf=4, min_samples_split=2; total time=   0.0s\n",
      "[CV 4/5] END max_depth=20, max_features=log2, min_samples_leaf=4, min_samples_split=2; total time=   0.0s\n",
      "[CV 5/5] END max_depth=20, max_features=log2, min_samples_leaf=4, min_samples_split=2; total time=   0.0s\n",
      "[CV 1/5] END max_depth=20, max_features=log2, min_samples_leaf=4, min_samples_split=5; total time=   0.0s\n",
      "[CV 2/5] END max_depth=20, max_features=log2, min_samples_leaf=4, min_samples_split=5; total time=   0.0s\n",
      "[CV 3/5] END max_depth=20, max_features=log2, min_samples_leaf=4, min_samples_split=5; total time=   0.0s\n",
      "[CV 4/5] END max_depth=20, max_features=log2, min_samples_leaf=4, min_samples_split=5; total time=   0.0s\n",
      "[CV 5/5] END max_depth=20, max_features=log2, min_samples_leaf=4, min_samples_split=5; total time=   0.0s\n",
      "[CV 1/5] END max_depth=20, max_features=log2, min_samples_leaf=4, min_samples_split=10; total time=   0.0s\n",
      "[CV 2/5] END max_depth=20, max_features=log2, min_samples_leaf=4, min_samples_split=10; total time=   0.0s\n",
      "[CV 3/5] END max_depth=20, max_features=log2, min_samples_leaf=4, min_samples_split=10; total time=   0.0s\n",
      "[CV 4/5] END max_depth=20, max_features=log2, min_samples_leaf=4, min_samples_split=10; total time=   0.0s\n",
      "[CV 5/5] END max_depth=20, max_features=log2, min_samples_leaf=4, min_samples_split=10; total time=   0.0s\n",
      "[CV 1/5] END max_depth=30, max_features=auto, min_samples_leaf=1, min_samples_split=2; total time=   0.0s\n",
      "[CV 2/5] END max_depth=30, max_features=auto, min_samples_leaf=1, min_samples_split=2; total time=   0.0s\n",
      "[CV 3/5] END max_depth=30, max_features=auto, min_samples_leaf=1, min_samples_split=2; total time=   0.0s\n",
      "[CV 4/5] END max_depth=30, max_features=auto, min_samples_leaf=1, min_samples_split=2; total time=   0.1s\n",
      "[CV 5/5] END max_depth=30, max_features=auto, min_samples_leaf=1, min_samples_split=2; total time=   0.1s\n",
      "[CV 1/5] END max_depth=30, max_features=auto, min_samples_leaf=1, min_samples_split=5; total time=   0.0s\n",
      "[CV 2/5] END max_depth=30, max_features=auto, min_samples_leaf=1, min_samples_split=5; total time=   0.0s\n",
      "[CV 3/5] END max_depth=30, max_features=auto, min_samples_leaf=1, min_samples_split=5; total time=   0.0s\n",
      "[CV 4/5] END max_depth=30, max_features=auto, min_samples_leaf=1, min_samples_split=5; total time=   0.1s\n",
      "[CV 5/5] END max_depth=30, max_features=auto, min_samples_leaf=1, min_samples_split=5; total time=   0.1s\n",
      "[CV 1/5] END max_depth=30, max_features=auto, min_samples_leaf=1, min_samples_split=10; total time=   0.0s\n",
      "[CV 2/5] END max_depth=30, max_features=auto, min_samples_leaf=1, min_samples_split=10; total time=   0.0s\n",
      "[CV 3/5] END max_depth=30, max_features=auto, min_samples_leaf=1, min_samples_split=10; total time=   0.0s\n",
      "[CV 4/5] END max_depth=30, max_features=auto, min_samples_leaf=1, min_samples_split=10; total time=   0.1s\n",
      "[CV 5/5] END max_depth=30, max_features=auto, min_samples_leaf=1, min_samples_split=10; total time=   0.1s\n",
      "[CV 1/5] END max_depth=30, max_features=auto, min_samples_leaf=2, min_samples_split=2; total time=   0.0s\n",
      "[CV 2/5] END max_depth=30, max_features=auto, min_samples_leaf=2, min_samples_split=2; total time=   0.0s\n",
      "[CV 3/5] END max_depth=30, max_features=auto, min_samples_leaf=2, min_samples_split=2; total time=   0.0s\n",
      "[CV 4/5] END max_depth=30, max_features=auto, min_samples_leaf=2, min_samples_split=2; total time=   0.1s\n",
      "[CV 5/5] END max_depth=30, max_features=auto, min_samples_leaf=2, min_samples_split=2; total time=   0.1s\n",
      "[CV 1/5] END max_depth=30, max_features=auto, min_samples_leaf=2, min_samples_split=5; total time=   0.0s\n",
      "[CV 2/5] END max_depth=30, max_features=auto, min_samples_leaf=2, min_samples_split=5; total time=   0.0s\n",
      "[CV 3/5] END max_depth=30, max_features=auto, min_samples_leaf=2, min_samples_split=5; total time=   0.0s\n",
      "[CV 4/5] END max_depth=30, max_features=auto, min_samples_leaf=2, min_samples_split=5; total time=   0.1s\n",
      "[CV 5/5] END max_depth=30, max_features=auto, min_samples_leaf=2, min_samples_split=5; total time=   0.1s\n",
      "[CV 1/5] END max_depth=30, max_features=auto, min_samples_leaf=2, min_samples_split=10; total time=   0.0s\n",
      "[CV 2/5] END max_depth=30, max_features=auto, min_samples_leaf=2, min_samples_split=10; total time=   0.0s\n",
      "[CV 3/5] END max_depth=30, max_features=auto, min_samples_leaf=2, min_samples_split=10; total time=   0.0s\n",
      "[CV 4/5] END max_depth=30, max_features=auto, min_samples_leaf=2, min_samples_split=10; total time=   0.1s\n",
      "[CV 5/5] END max_depth=30, max_features=auto, min_samples_leaf=2, min_samples_split=10; total time=   0.1s\n",
      "[CV 1/5] END max_depth=30, max_features=auto, min_samples_leaf=4, min_samples_split=2; total time=   0.0s\n",
      "[CV 2/5] END max_depth=30, max_features=auto, min_samples_leaf=4, min_samples_split=2; total time=   0.0s\n",
      "[CV 3/5] END max_depth=30, max_features=auto, min_samples_leaf=4, min_samples_split=2; total time=   0.0s\n",
      "[CV 4/5] END max_depth=30, max_features=auto, min_samples_leaf=4, min_samples_split=2; total time=   0.0s\n",
      "[CV 5/5] END max_depth=30, max_features=auto, min_samples_leaf=4, min_samples_split=2; total time=   0.1s\n",
      "[CV 1/5] END max_depth=30, max_features=auto, min_samples_leaf=4, min_samples_split=5; total time=   0.0s\n",
      "[CV 2/5] END max_depth=30, max_features=auto, min_samples_leaf=4, min_samples_split=5; total time=   0.0s\n",
      "[CV 3/5] END max_depth=30, max_features=auto, min_samples_leaf=4, min_samples_split=5; total time=   0.0s\n",
      "[CV 4/5] END max_depth=30, max_features=auto, min_samples_leaf=4, min_samples_split=5; total time=   0.0s\n",
      "[CV 5/5] END max_depth=30, max_features=auto, min_samples_leaf=4, min_samples_split=5; total time=   0.1s\n",
      "[CV 1/5] END max_depth=30, max_features=auto, min_samples_leaf=4, min_samples_split=10; total time=   0.0s\n",
      "[CV 2/5] END max_depth=30, max_features=auto, min_samples_leaf=4, min_samples_split=10; total time=   0.0s\n",
      "[CV 3/5] END max_depth=30, max_features=auto, min_samples_leaf=4, min_samples_split=10; total time=   0.0s\n",
      "[CV 4/5] END max_depth=30, max_features=auto, min_samples_leaf=4, min_samples_split=10; total time=   0.0s\n",
      "[CV 5/5] END max_depth=30, max_features=auto, min_samples_leaf=4, min_samples_split=10; total time=   0.1s\n",
      "[CV 1/5] END max_depth=30, max_features=sqrt, min_samples_leaf=1, min_samples_split=2; total time=   0.0s\n",
      "[CV 2/5] END max_depth=30, max_features=sqrt, min_samples_leaf=1, min_samples_split=2; total time=   0.0s\n",
      "[CV 3/5] END max_depth=30, max_features=sqrt, min_samples_leaf=1, min_samples_split=2; total time=   0.0s\n",
      "[CV 4/5] END max_depth=30, max_features=sqrt, min_samples_leaf=1, min_samples_split=2; total time=   0.0s\n",
      "[CV 5/5] END max_depth=30, max_features=sqrt, min_samples_leaf=1, min_samples_split=2; total time=   0.0s\n",
      "[CV 1/5] END max_depth=30, max_features=sqrt, min_samples_leaf=1, min_samples_split=5; total time=   0.0s\n",
      "[CV 2/5] END max_depth=30, max_features=sqrt, min_samples_leaf=1, min_samples_split=5; total time=   0.0s\n",
      "[CV 3/5] END max_depth=30, max_features=sqrt, min_samples_leaf=1, min_samples_split=5; total time=   0.0s\n",
      "[CV 4/5] END max_depth=30, max_features=sqrt, min_samples_leaf=1, min_samples_split=5; total time=   0.0s\n",
      "[CV 5/5] END max_depth=30, max_features=sqrt, min_samples_leaf=1, min_samples_split=5; total time=   0.0s\n",
      "[CV 1/5] END max_depth=30, max_features=sqrt, min_samples_leaf=1, min_samples_split=10; total time=   0.0s\n",
      "[CV 2/5] END max_depth=30, max_features=sqrt, min_samples_leaf=1, min_samples_split=10; total time=   0.0s\n",
      "[CV 3/5] END max_depth=30, max_features=sqrt, min_samples_leaf=1, min_samples_split=10; total time=   0.0s\n",
      "[CV 4/5] END max_depth=30, max_features=sqrt, min_samples_leaf=1, min_samples_split=10; total time=   0.0s\n",
      "[CV 5/5] END max_depth=30, max_features=sqrt, min_samples_leaf=1, min_samples_split=10; total time=   0.0s\n",
      "[CV 1/5] END max_depth=30, max_features=sqrt, min_samples_leaf=2, min_samples_split=2; total time=   0.0s\n",
      "[CV 2/5] END max_depth=30, max_features=sqrt, min_samples_leaf=2, min_samples_split=2; total time=   0.0s\n",
      "[CV 3/5] END max_depth=30, max_features=sqrt, min_samples_leaf=2, min_samples_split=2; total time=   0.0s\n",
      "[CV 4/5] END max_depth=30, max_features=sqrt, min_samples_leaf=2, min_samples_split=2; total time=   0.0s\n",
      "[CV 5/5] END max_depth=30, max_features=sqrt, min_samples_leaf=2, min_samples_split=2; total time=   0.0s\n",
      "[CV 1/5] END max_depth=30, max_features=sqrt, min_samples_leaf=2, min_samples_split=5; total time=   0.0s\n",
      "[CV 2/5] END max_depth=30, max_features=sqrt, min_samples_leaf=2, min_samples_split=5; total time=   0.0s\n",
      "[CV 3/5] END max_depth=30, max_features=sqrt, min_samples_leaf=2, min_samples_split=5; total time=   0.0s\n",
      "[CV 4/5] END max_depth=30, max_features=sqrt, min_samples_leaf=2, min_samples_split=5; total time=   0.0s\n",
      "[CV 5/5] END max_depth=30, max_features=sqrt, min_samples_leaf=2, min_samples_split=5; total time=   0.0s\n",
      "[CV 1/5] END max_depth=30, max_features=sqrt, min_samples_leaf=2, min_samples_split=10; total time=   0.0s\n",
      "[CV 2/5] END max_depth=30, max_features=sqrt, min_samples_leaf=2, min_samples_split=10; total time=   0.0s\n",
      "[CV 3/5] END max_depth=30, max_features=sqrt, min_samples_leaf=2, min_samples_split=10; total time=   0.0s\n",
      "[CV 4/5] END max_depth=30, max_features=sqrt, min_samples_leaf=2, min_samples_split=10; total time=   0.0s\n",
      "[CV 5/5] END max_depth=30, max_features=sqrt, min_samples_leaf=2, min_samples_split=10; total time=   0.0s\n",
      "[CV 1/5] END max_depth=30, max_features=sqrt, min_samples_leaf=4, min_samples_split=2; total time=   0.0s\n",
      "[CV 2/5] END max_depth=30, max_features=sqrt, min_samples_leaf=4, min_samples_split=2; total time=   0.0s\n",
      "[CV 3/5] END max_depth=30, max_features=sqrt, min_samples_leaf=4, min_samples_split=2; total time=   0.0s\n",
      "[CV 4/5] END max_depth=30, max_features=sqrt, min_samples_leaf=4, min_samples_split=2; total time=   0.0s\n",
      "[CV 5/5] END max_depth=30, max_features=sqrt, min_samples_leaf=4, min_samples_split=2; total time=   0.0s\n",
      "[CV 1/5] END max_depth=30, max_features=sqrt, min_samples_leaf=4, min_samples_split=5; total time=   0.0s\n",
      "[CV 2/5] END max_depth=30, max_features=sqrt, min_samples_leaf=4, min_samples_split=5; total time=   0.0s\n",
      "[CV 3/5] END max_depth=30, max_features=sqrt, min_samples_leaf=4, min_samples_split=5; total time=   0.0s\n",
      "[CV 4/5] END max_depth=30, max_features=sqrt, min_samples_leaf=4, min_samples_split=5; total time=   0.0s\n",
      "[CV 5/5] END max_depth=30, max_features=sqrt, min_samples_leaf=4, min_samples_split=5; total time=   0.0s\n",
      "[CV 1/5] END max_depth=30, max_features=sqrt, min_samples_leaf=4, min_samples_split=10; total time=   0.0s\n",
      "[CV 2/5] END max_depth=30, max_features=sqrt, min_samples_leaf=4, min_samples_split=10; total time=   0.0s\n",
      "[CV 3/5] END max_depth=30, max_features=sqrt, min_samples_leaf=4, min_samples_split=10; total time=   0.0s\n",
      "[CV 4/5] END max_depth=30, max_features=sqrt, min_samples_leaf=4, min_samples_split=10; total time=   0.0s\n",
      "[CV 5/5] END max_depth=30, max_features=sqrt, min_samples_leaf=4, min_samples_split=10; total time=   0.0s\n",
      "[CV 1/5] END max_depth=30, max_features=log2, min_samples_leaf=1, min_samples_split=2; total time=   0.0s\n",
      "[CV 2/5] END max_depth=30, max_features=log2, min_samples_leaf=1, min_samples_split=2; total time=   0.0s\n",
      "[CV 3/5] END max_depth=30, max_features=log2, min_samples_leaf=1, min_samples_split=2; total time=   0.0s\n",
      "[CV 4/5] END max_depth=30, max_features=log2, min_samples_leaf=1, min_samples_split=2; total time=   0.0s\n",
      "[CV 5/5] END max_depth=30, max_features=log2, min_samples_leaf=1, min_samples_split=2; total time=   0.0s\n",
      "[CV 1/5] END max_depth=30, max_features=log2, min_samples_leaf=1, min_samples_split=5; total time=   0.0s\n",
      "[CV 2/5] END max_depth=30, max_features=log2, min_samples_leaf=1, min_samples_split=5; total time=   0.0s\n",
      "[CV 3/5] END max_depth=30, max_features=log2, min_samples_leaf=1, min_samples_split=5; total time=   0.0s\n",
      "[CV 4/5] END max_depth=30, max_features=log2, min_samples_leaf=1, min_samples_split=5; total time=   0.0s\n",
      "[CV 5/5] END max_depth=30, max_features=log2, min_samples_leaf=1, min_samples_split=5; total time=   0.0s\n",
      "[CV 1/5] END max_depth=30, max_features=log2, min_samples_leaf=1, min_samples_split=10; total time=   0.0s\n",
      "[CV 2/5] END max_depth=30, max_features=log2, min_samples_leaf=1, min_samples_split=10; total time=   0.0s\n",
      "[CV 3/5] END max_depth=30, max_features=log2, min_samples_leaf=1, min_samples_split=10; total time=   0.0s\n",
      "[CV 4/5] END max_depth=30, max_features=log2, min_samples_leaf=1, min_samples_split=10; total time=   0.0s\n",
      "[CV 5/5] END max_depth=30, max_features=log2, min_samples_leaf=1, min_samples_split=10; total time=   0.0s\n",
      "[CV 1/5] END max_depth=30, max_features=log2, min_samples_leaf=2, min_samples_split=2; total time=   0.0s\n",
      "[CV 2/5] END max_depth=30, max_features=log2, min_samples_leaf=2, min_samples_split=2; total time=   0.0s\n",
      "[CV 3/5] END max_depth=30, max_features=log2, min_samples_leaf=2, min_samples_split=2; total time=   0.0s\n",
      "[CV 4/5] END max_depth=30, max_features=log2, min_samples_leaf=2, min_samples_split=2; total time=   0.0s\n",
      "[CV 5/5] END max_depth=30, max_features=log2, min_samples_leaf=2, min_samples_split=2; total time=   0.0s\n",
      "[CV 1/5] END max_depth=30, max_features=log2, min_samples_leaf=2, min_samples_split=5; total time=   0.0s\n",
      "[CV 2/5] END max_depth=30, max_features=log2, min_samples_leaf=2, min_samples_split=5; total time=   0.0s\n",
      "[CV 3/5] END max_depth=30, max_features=log2, min_samples_leaf=2, min_samples_split=5; total time=   0.0s\n",
      "[CV 4/5] END max_depth=30, max_features=log2, min_samples_leaf=2, min_samples_split=5; total time=   0.0s\n",
      "[CV 5/5] END max_depth=30, max_features=log2, min_samples_leaf=2, min_samples_split=5; total time=   0.0s\n",
      "[CV 1/5] END max_depth=30, max_features=log2, min_samples_leaf=2, min_samples_split=10; total time=   0.0s\n",
      "[CV 2/5] END max_depth=30, max_features=log2, min_samples_leaf=2, min_samples_split=10; total time=   0.0s\n",
      "[CV 3/5] END max_depth=30, max_features=log2, min_samples_leaf=2, min_samples_split=10; total time=   0.0s\n",
      "[CV 4/5] END max_depth=30, max_features=log2, min_samples_leaf=2, min_samples_split=10; total time=   0.0s\n",
      "[CV 5/5] END max_depth=30, max_features=log2, min_samples_leaf=2, min_samples_split=10; total time=   0.0s\n",
      "[CV 1/5] END max_depth=30, max_features=log2, min_samples_leaf=4, min_samples_split=2; total time=   0.0s\n",
      "[CV 2/5] END max_depth=30, max_features=log2, min_samples_leaf=4, min_samples_split=2; total time=   0.0s\n",
      "[CV 3/5] END max_depth=30, max_features=log2, min_samples_leaf=4, min_samples_split=2; total time=   0.0s\n",
      "[CV 4/5] END max_depth=30, max_features=log2, min_samples_leaf=4, min_samples_split=2; total time=   0.0s\n",
      "[CV 5/5] END max_depth=30, max_features=log2, min_samples_leaf=4, min_samples_split=2; total time=   0.0s\n",
      "[CV 1/5] END max_depth=30, max_features=log2, min_samples_leaf=4, min_samples_split=5; total time=   0.0s\n",
      "[CV 2/5] END max_depth=30, max_features=log2, min_samples_leaf=4, min_samples_split=5; total time=   0.0s\n",
      "[CV 3/5] END max_depth=30, max_features=log2, min_samples_leaf=4, min_samples_split=5; total time=   0.0s\n",
      "[CV 4/5] END max_depth=30, max_features=log2, min_samples_leaf=4, min_samples_split=5; total time=   0.0s\n",
      "[CV 5/5] END max_depth=30, max_features=log2, min_samples_leaf=4, min_samples_split=5; total time=   0.0s\n",
      "[CV 1/5] END max_depth=30, max_features=log2, min_samples_leaf=4, min_samples_split=10; total time=   0.0s\n",
      "[CV 2/5] END max_depth=30, max_features=log2, min_samples_leaf=4, min_samples_split=10; total time=   0.0s\n",
      "[CV 3/5] END max_depth=30, max_features=log2, min_samples_leaf=4, min_samples_split=10; total time=   0.0s\n",
      "[CV 4/5] END max_depth=30, max_features=log2, min_samples_leaf=4, min_samples_split=10; total time=   0.0s\n",
      "[CV 5/5] END max_depth=30, max_features=log2, min_samples_leaf=4, min_samples_split=10; total time=   0.0s\n"
     ]
    },
    {
     "data": {
      "text/plain": [
       "{'max_depth': 10,\n",
       " 'max_features': 'auto',\n",
       " 'min_samples_leaf': 4,\n",
       " 'min_samples_split': 10}"
      ]
     },
     "metadata": {},
     "output_type": "display_data"
    },
    {
     "data": {
      "text/plain": [
       "31.849165891478236"
      ]
     },
     "metadata": {},
     "output_type": "display_data"
    },
    {
     "name": "stdout",
     "output_type": "stream",
     "text": [
      "CPU times: user 11.4 s, sys: 212 ms, total: 11.6 s\n",
      "Wall time: 11.8 s\n"
     ]
    }
   ],
   "source": [
    "%%time\n",
    "\n",
    "tuning_model = GridSearchCV(estimator=model_dt, param_grid=param_grid, scoring='neg_root_mean_squared_error', cv=time_split, verbose=3)\n",
    "\n",
    "tuning_model.fit(features_train, target_train)\n",
    "display(tuning_model.best_params_)\n",
    "display(tuning_model.best_score_*-1)"
   ]
  },
  {
   "cell_type": "markdown",
   "id": "c884c905",
   "metadata": {},
   "source": [
    "Найдём наилучшее количество деревьев"
   ]
  },
  {
   "cell_type": "code",
   "execution_count": 45,
   "id": "456af0b6",
   "metadata": {
    "scrolled": false
   },
   "outputs": [],
   "source": [
    "#%%time\n",
    "\n",
    "#for est in [100, 500, 1000]:\n",
    "    #model_rf = RandomForestRegressor(random_state=12345, n_estimators=est, max_depth=15)\n",
    "    #model_rf.fit(features_train, target_train)\n",
    "    #rf_cv_score = pd.Series(cross_val_score(model_rf, features_train, target_train, scoring=RMSE_score, cv=3)).mean()*(-1)\n",
    "    #predictions_valid_rf = model.predict(features_valid_rf)\n",
    "    #rmse = mean_squared_error(target_valid_rf, predictions_valid_rf)**0.5\n",
    "    #print('Количество деревьев', est)\n",
    "    #print('')\n",
    "    #print('Среднее качество модели случайного леса на кросс-валидации', rf_cv_score)\n",
    "    #print('RMSE случайного леса', rmse)"
   ]
  },
  {
   "cell_type": "code",
   "execution_count": 46,
   "id": "b1e11532",
   "metadata": {},
   "outputs": [],
   "source": [
    "#param_grid = {'n_estimators': [100, 500, 1000], 'num_leaves': [n for n in range(20, 300, 20)]}"
   ]
  },
  {
   "cell_type": "code",
   "execution_count": 47,
   "id": "35fc7b9f",
   "metadata": {},
   "outputs": [
    {
     "name": "stdout",
     "output_type": "stream",
     "text": [
      "CPU times: user 4.81 s, sys: 81 ms, total: 4.89 s\n",
      "Wall time: 4.9 s\n"
     ]
    }
   ],
   "source": [
    "%%time\n",
    "\n",
    "model_rf = RandomForestRegressor(random_state=12345, n_estimators=100, max_depth=15)\n",
    "model_rf.fit(features_train, target_train)\n",
    "\n",
    "param_grid = {\n",
    "    'n_estimators': [100, 200, 300],\n",
    "    'max_depth': [None, 10, 20],\n",
    "    'min_samples_split': [2, 5],\n",
    "    'min_samples_leaf': [1, 2],\n",
    "    'max_features': ['auto', 'sqrt']\n",
    "}\n",
    "time_split = TimeSeriesSplit(n_splits=5)"
   ]
  },
  {
   "cell_type": "code",
   "execution_count": 48,
   "id": "4f324e8e",
   "metadata": {
    "scrolled": true
   },
   "outputs": [
    {
     "data": {
      "text/plain": [
       "{'max_depth': 20,\n",
       " 'max_features': 'sqrt',\n",
       " 'min_samples_leaf': 1,\n",
       " 'min_samples_split': 2,\n",
       " 'n_estimators': 200}"
      ]
     },
     "metadata": {},
     "output_type": "display_data"
    },
    {
     "data": {
      "text/plain": [
       "25.50866923202269"
      ]
     },
     "metadata": {},
     "output_type": "display_data"
    },
    {
     "name": "stdout",
     "output_type": "stream",
     "text": [
      "CPU times: user 16min 3s, sys: 6.25 s, total: 16min 9s\n",
      "Wall time: 16min 13s\n"
     ]
    }
   ],
   "source": [
    "%%time\n",
    "\n",
    "tuning_model = GridSearchCV(estimator=model_rf, param_grid=param_grid, scoring='neg_root_mean_squared_error', cv=time_split, verbose=0)\n",
    "\n",
    "tuning_model.fit(features_train, target_train)\n",
    "display(tuning_model.best_params_)\n",
    "display(tuning_model.best_score_*-1)"
   ]
  },
  {
   "cell_type": "markdown",
   "id": "1cab848b",
   "metadata": {},
   "source": [
    "Проверим данные на тестовой выборке"
   ]
  },
  {
   "cell_type": "code",
   "execution_count": 49,
   "id": "df4d40b4",
   "metadata": {},
   "outputs": [],
   "source": [
    "#model = RandomForestRegressor(random_state=12345, n_estimators=100, max_depth=15)\n",
    "#model.fit(features_train_rf, target_train_rf)\n",
    "#features_train_rf = pd.concat([features_train_rf, features_valid_rf])\n",
    "#target_train_rf = pd.concat([target_train_rf, target_valid_rf])\n",
    "#model.fit(features_train_rf, target_train_rf)\n",
    "#predict = model.predict(features_test_rf)\n",
    "#print(mean_squared_error(target_test, predict, squared=False))"
   ]
  },
  {
   "cell_type": "markdown",
   "id": "b844053a",
   "metadata": {},
   "source": [
    "**LigthGMB**"
   ]
  },
  {
   "cell_type": "code",
   "execution_count": 50,
   "id": "cb3ceedd",
   "metadata": {},
   "outputs": [
    {
     "data": {
      "text/plain": [
       "LGBMRegressor(random_state=12345)"
      ]
     },
     "execution_count": 50,
     "metadata": {},
     "output_type": "execute_result"
    }
   ],
   "source": [
    "model_lgb = lgb.LGBMRegressor(random_state=12345)\n",
    "model_lgb.fit(features_train, target_train)\n",
    "#lgb_cv_score = pd.Series(cross_val_score(model_lgb, features_train, target_train, scoring=RMSE_score, cv=3)).mean()*(-1)\n",
    "#print('Среднее качество модели LigthGMB на кросс-валидации', lgb_cv_score)\n",
    "\n",
    "#predictions_test = model.predict(features_test)\n",
    "#rmse = mean_squared_error(target_test, predictions_test)**0.5\n",
    "#print(rmse)"
   ]
  },
  {
   "cell_type": "markdown",
   "id": "f657b566",
   "metadata": {},
   "source": [
    "Найдём лучшие гиперпараметры"
   ]
  },
  {
   "cell_type": "code",
   "execution_count": 51,
   "id": "2db767f4",
   "metadata": {},
   "outputs": [
    {
     "name": "stdout",
     "output_type": "stream",
     "text": [
      "CPU times: user 8 µs, sys: 0 ns, total: 8 µs\n",
      "Wall time: 11.9 µs\n"
     ]
    }
   ],
   "source": [
    "%%time\n",
    "\n",
    "param_grid = {'n_estimators': [100, 500, 1000], 'num_leaves': [n for n in range(20, 300, 20)]}\n",
    "def fit_model(estimator, param_grid, features_train, target_train, features_test, target_test):\n",
    "    time_split = TimeSeriesSplit(n_splits=5)"
   ]
  },
  {
   "cell_type": "code",
   "execution_count": null,
   "id": "13e29209",
   "metadata": {},
   "outputs": [
    {
     "name": "stdout",
     "output_type": "stream",
     "text": [
      "Fitting 5 folds for each of 42 candidates, totalling 210 fits\n",
      "[CV 1/5] END ................n_estimators=100, num_leaves=20; total time=   0.6s\n",
      "[CV 2/5] END ................n_estimators=100, num_leaves=20; total time=   0.8s\n",
      "[CV 3/5] END ................n_estimators=100, num_leaves=20; total time=   0.9s\n",
      "[CV 4/5] END ................n_estimators=100, num_leaves=20; total time=   0.8s\n",
      "[CV 5/5] END ................n_estimators=100, num_leaves=20; total time=   0.9s\n",
      "[CV 1/5] END ................n_estimators=100, num_leaves=40; total time=   1.0s\n",
      "[CV 2/5] END ................n_estimators=100, num_leaves=40; total time=   1.5s\n",
      "[CV 3/5] END ................n_estimators=100, num_leaves=40; total time=   3.6s\n",
      "[CV 4/5] END ................n_estimators=100, num_leaves=40; total time=   2.5s\n",
      "[CV 5/5] END ................n_estimators=100, num_leaves=40; total time=   1.4s\n",
      "[CV 1/5] END ................n_estimators=100, num_leaves=60; total time=   0.8s\n",
      "[CV 2/5] END ................n_estimators=100, num_leaves=60; total time=   1.8s\n",
      "[CV 3/5] END ................n_estimators=100, num_leaves=60; total time=   2.6s\n",
      "[CV 4/5] END ................n_estimators=100, num_leaves=60; total time=   1.9s\n",
      "[CV 5/5] END ................n_estimators=100, num_leaves=60; total time=   2.1s\n",
      "[CV 1/5] END ................n_estimators=100, num_leaves=80; total time=   0.7s\n",
      "[CV 2/5] END ................n_estimators=100, num_leaves=80; total time=   1.5s\n",
      "[CV 3/5] END ................n_estimators=100, num_leaves=80; total time=   2.2s\n",
      "[CV 4/5] END ................n_estimators=100, num_leaves=80; total time=   2.7s\n",
      "[CV 5/5] END ................n_estimators=100, num_leaves=80; total time=   2.8s\n",
      "[CV 1/5] END ...............n_estimators=100, num_leaves=100; total time=   0.6s\n",
      "[CV 2/5] END ...............n_estimators=100, num_leaves=100; total time=   1.5s\n",
      "[CV 3/5] END ...............n_estimators=100, num_leaves=100; total time=   2.5s\n",
      "[CV 4/5] END ...............n_estimators=100, num_leaves=100; total time=   3.4s\n",
      "[CV 5/5] END ...............n_estimators=100, num_leaves=100; total time=   3.2s\n",
      "[CV 1/5] END ...............n_estimators=100, num_leaves=120; total time=   0.7s\n",
      "[CV 2/5] END ...............n_estimators=100, num_leaves=120; total time=   1.6s\n",
      "[CV 3/5] END ...............n_estimators=100, num_leaves=120; total time=   2.7s\n",
      "[CV 4/5] END ...............n_estimators=100, num_leaves=120; total time=   3.3s\n",
      "[CV 5/5] END ...............n_estimators=100, num_leaves=120; total time=   4.0s\n",
      "[CV 1/5] END ...............n_estimators=100, num_leaves=140; total time=   0.9s\n",
      "[CV 2/5] END ...............n_estimators=100, num_leaves=140; total time=   1.5s\n",
      "[CV 3/5] END ...............n_estimators=100, num_leaves=140; total time=   2.5s\n",
      "[CV 4/5] END ...............n_estimators=100, num_leaves=140; total time=   3.4s\n",
      "[CV 5/5] END ...............n_estimators=100, num_leaves=140; total time=   4.2s\n",
      "[CV 1/5] END ...............n_estimators=100, num_leaves=160; total time=   0.8s\n",
      "[CV 2/5] END ...............n_estimators=100, num_leaves=160; total time=   1.4s\n",
      "[CV 3/5] END ...............n_estimators=100, num_leaves=160; total time=   2.0s\n",
      "[CV 4/5] END ...............n_estimators=100, num_leaves=160; total time=   3.3s\n",
      "[CV 5/5] END ...............n_estimators=100, num_leaves=160; total time=   4.4s\n",
      "[CV 1/5] END ...............n_estimators=100, num_leaves=180; total time=   0.7s\n",
      "[CV 2/5] END ...............n_estimators=100, num_leaves=180; total time=   1.4s\n",
      "[CV 3/5] END ...............n_estimators=100, num_leaves=180; total time=   2.6s\n",
      "[CV 4/5] END ...............n_estimators=100, num_leaves=180; total time=   3.0s\n",
      "[CV 5/5] END ...............n_estimators=100, num_leaves=180; total time=   4.2s\n",
      "[CV 1/5] END ...............n_estimators=100, num_leaves=200; total time=   0.8s\n",
      "[CV 2/5] END ...............n_estimators=100, num_leaves=200; total time=   1.5s\n",
      "[CV 3/5] END ...............n_estimators=100, num_leaves=200; total time=   2.2s\n",
      "[CV 4/5] END ...............n_estimators=100, num_leaves=200; total time=   3.5s\n",
      "[CV 5/5] END ...............n_estimators=100, num_leaves=200; total time=   3.9s\n",
      "[CV 1/5] END ...............n_estimators=100, num_leaves=220; total time=   0.9s\n",
      "[CV 2/5] END ...............n_estimators=100, num_leaves=220; total time=   1.9s\n",
      "[CV 3/5] END ...............n_estimators=100, num_leaves=220; total time=   2.9s\n",
      "[CV 4/5] END ...............n_estimators=100, num_leaves=220; total time=   3.2s\n",
      "[CV 5/5] END ...............n_estimators=100, num_leaves=220; total time=   4.3s\n",
      "[CV 1/5] END ...............n_estimators=100, num_leaves=240; total time=   0.9s\n",
      "[CV 2/5] END ...............n_estimators=100, num_leaves=240; total time=   1.8s\n",
      "[CV 3/5] END ...............n_estimators=100, num_leaves=240; total time=   2.3s\n",
      "[CV 4/5] END ...............n_estimators=100, num_leaves=240; total time=   3.5s\n",
      "[CV 5/5] END ...............n_estimators=100, num_leaves=240; total time=   5.6s\n",
      "[CV 1/5] END ...............n_estimators=100, num_leaves=260; total time=   0.8s\n",
      "[CV 2/5] END ...............n_estimators=100, num_leaves=260; total time=   1.6s\n",
      "[CV 3/5] END ...............n_estimators=100, num_leaves=260; total time=   2.6s\n",
      "[CV 4/5] END ...............n_estimators=100, num_leaves=260; total time=   3.9s\n",
      "[CV 5/5] END ...............n_estimators=100, num_leaves=260; total time=   4.3s\n",
      "[CV 1/5] END ...............n_estimators=100, num_leaves=280; total time=   0.9s\n",
      "[CV 2/5] END ...............n_estimators=100, num_leaves=280; total time=   1.7s\n",
      "[CV 3/5] END ...............n_estimators=100, num_leaves=280; total time=   7.4s\n",
      "[CV 4/5] END ...............n_estimators=100, num_leaves=280; total time=   7.0s\n",
      "[CV 5/5] END ...............n_estimators=100, num_leaves=280; total time=   5.2s\n",
      "[CV 1/5] END ................n_estimators=500, num_leaves=20; total time=   3.1s\n",
      "[CV 2/5] END ................n_estimators=500, num_leaves=20; total time=   3.0s\n",
      "[CV 3/5] END ................n_estimators=500, num_leaves=20; total time=   3.7s\n",
      "[CV 4/5] END ................n_estimators=500, num_leaves=20; total time=   4.0s\n",
      "[CV 5/5] END ................n_estimators=500, num_leaves=20; total time=   3.8s\n",
      "[CV 1/5] END ................n_estimators=500, num_leaves=40; total time=   3.8s\n",
      "[CV 2/5] END ................n_estimators=500, num_leaves=40; total time=   5.9s\n",
      "[CV 3/5] END ................n_estimators=500, num_leaves=40; total time=   6.6s\n",
      "[CV 4/5] END ................n_estimators=500, num_leaves=40; total time=   6.6s\n",
      "[CV 5/5] END ................n_estimators=500, num_leaves=40; total time=  17.9s\n",
      "[CV 1/5] END ................n_estimators=500, num_leaves=60; total time=   7.1s\n",
      "[CV 2/5] END ................n_estimators=500, num_leaves=60; total time=   8.1s\n",
      "[CV 3/5] END ................n_estimators=500, num_leaves=60; total time=  11.8s\n",
      "[CV 4/5] END ................n_estimators=500, num_leaves=60; total time=   9.7s\n",
      "[CV 5/5] END ................n_estimators=500, num_leaves=60; total time=  10.5s\n",
      "[CV 1/5] END ................n_estimators=500, num_leaves=80; total time=   3.7s\n",
      "[CV 2/5] END ................n_estimators=500, num_leaves=80; total time=   7.8s\n",
      "[CV 3/5] END ................n_estimators=500, num_leaves=80; total time=  11.8s\n"
     ]
    }
   ],
   "source": [
    "%%time\n",
    "\n",
    "tuning_model = GridSearchCV(estimator=model_lgb, param_grid=param_grid, scoring='neg_root_mean_squared_error', cv=time_split, verbose=3)\n",
    "\n",
    "tuning_model.fit(features_train, target_train)\n",
    "display(tuning_model.best_params_)\n",
    "display(tuning_model.best_score_*-1)"
   ]
  },
  {
   "cell_type": "markdown",
   "id": "4bb65642",
   "metadata": {},
   "source": [
    "**Вывод**\n",
    "\n",
    "Мы разделили нашу выборку на тестовую, обучающую и валидационную. Получили модели линейной регрессии, решающего дерева и случайного леса. Наилучшее значение метрики RMSE полуилось у LGBM. Соответственно, на ней будем проводить тестирование модели."
   ]
  },
  {
   "cell_type": "markdown",
   "id": "f368d854",
   "metadata": {},
   "source": [
    "# 4. Тестирование"
   ]
  },
  {
   "cell_type": "markdown",
   "id": "a60714c8",
   "metadata": {},
   "source": [
    "Проверим лучшую модель на тестовой выборке"
   ]
  },
  {
   "cell_type": "code",
   "execution_count": null,
   "id": "84c290b4",
   "metadata": {},
   "outputs": [],
   "source": [
    "model = lgb.LGBMRegressor(random_state=12345, n_estimators=100, num_leaves=20)\n",
    "model.fit(features_train, target_train)\n",
    "predictions_test = model.predict(features_test)\n",
    "rmse = mean_squared_error(target_test, predictions_test)**0.5\n",
    "print(rmse)"
   ]
  },
  {
   "cell_type": "markdown",
   "id": "bca12f39",
   "metadata": {},
   "source": [
    "Теперь построим график для исходных и предсказанных данных"
   ]
  },
  {
   "cell_type": "code",
   "execution_count": null,
   "id": "d643c813",
   "metadata": {
    "scrolled": true
   },
   "outputs": [],
   "source": [
    "predictions_test = pd.Series(predictions_test, index=target_test.index)\n",
    "plt.figure(figsize=(20, 10))\n",
    "plt.xlabel('дата', fontsize=14)\n",
    "plt.ylabel('Число заказов', fontsize=14)\n",
    "plt.plot(target_test, label='Исходная выборка')\n",
    "plt.plot(predictions_test, label='предсказания')\n",
    "plt.legend(fontsize=14)\n",
    "plt.show()"
   ]
  },
  {
   "cell_type": "code",
   "execution_count": null,
   "id": "aa19068f",
   "metadata": {},
   "outputs": [],
   "source": [
    "pred_previous = target_test.shift()\n",
    "pred_previous.iloc[0] = target_train.iloc[-1]\n",
    "rmse = mean_squared_error(target_test, pred_previous)**0.5"
   ]
  },
  {
   "cell_type": "markdown",
   "id": "d9a7cd50",
   "metadata": {},
   "source": [
    "**Вывод**\n",
    "\n",
    "RMSE на тестовой выборке составляет 41,34, что меньше 48 по условию задачи. Модель имеет адекватное предсказание с небольшими ошибками в некоторых участках."
   ]
  },
  {
   "cell_type": "markdown",
   "id": "6768046f",
   "metadata": {},
   "source": [
    "# Общий вывод"
   ]
  },
  {
   "cell_type": "markdown",
   "id": "cbc568d2",
   "metadata": {},
   "source": [
    "Мы загрузили данные за март 2018 года по заказам такси. Мы перевели данные с Dtetime на Datetime64 и установили инекс раный столбцу Datetime. Пропуски отсутствуют.\n",
    "\n",
    "Мы проанализировали весь июль, а потом период в 2 дня. Мы выявили тренд, что заказы увеличиваются с течением времени и пик приходится на полночь. Также мы проверили данные на стационарность ременного ряда. Мы таже создали признаки для месяца, дня недели, отстающие признаки и скользящее среднее. Затем мы удалили пропуски и получили таблицу с 29 признаками, которая готова для построения модели.\n",
    "\n",
    "Мы разделили нашу выборку на тестовую, обучающую и валидационную. Получили модели линейной регрессии, решающего дерева и случайного леса. Наилучшее значение метрики RMSE полуилось у LGBM.\n",
    "\n",
    "В итоге RMSE 41,34 что меньше 48, что соответствует условию задачи."
   ]
  }
 ],
 "metadata": {
  "ExecuteTimeLog": [
   {
    "duration": 2518,
    "start_time": "2023-08-08T15:40:02.762Z"
   },
   {
    "duration": 2141,
    "start_time": "2023-08-08T15:40:05.282Z"
   },
   {
    "duration": 2166,
    "start_time": "2023-08-08T15:40:07.424Z"
   },
   {
    "duration": 4666,
    "start_time": "2023-08-08T15:40:09.592Z"
   },
   {
    "duration": 205,
    "start_time": "2023-08-08T15:40:14.261Z"
   },
   {
    "duration": 0,
    "start_time": "2023-08-08T15:40:14.468Z"
   },
   {
    "duration": 0,
    "start_time": "2023-08-08T15:40:14.469Z"
   },
   {
    "duration": 0,
    "start_time": "2023-08-08T15:40:14.470Z"
   },
   {
    "duration": 0,
    "start_time": "2023-08-08T15:40:14.472Z"
   },
   {
    "duration": 0,
    "start_time": "2023-08-08T15:40:14.474Z"
   },
   {
    "duration": 0,
    "start_time": "2023-08-08T15:40:14.475Z"
   },
   {
    "duration": 0,
    "start_time": "2023-08-08T15:40:14.477Z"
   },
   {
    "duration": 0,
    "start_time": "2023-08-08T15:40:14.478Z"
   },
   {
    "duration": 0,
    "start_time": "2023-08-08T15:40:14.479Z"
   },
   {
    "duration": 0,
    "start_time": "2023-08-08T15:40:14.480Z"
   },
   {
    "duration": 0,
    "start_time": "2023-08-08T15:40:14.482Z"
   },
   {
    "duration": 0,
    "start_time": "2023-08-08T15:40:14.483Z"
   },
   {
    "duration": 0,
    "start_time": "2023-08-08T15:40:14.484Z"
   },
   {
    "duration": 0,
    "start_time": "2023-08-08T15:40:14.485Z"
   },
   {
    "duration": 0,
    "start_time": "2023-08-08T15:40:14.487Z"
   },
   {
    "duration": 423,
    "start_time": "2023-08-08T15:44:02.563Z"
   },
   {
    "duration": 4,
    "start_time": "2023-08-09T10:07:29.292Z"
   },
   {
    "duration": 4,
    "start_time": "2023-08-09T10:07:29.297Z"
   },
   {
    "duration": 2780,
    "start_time": "2023-08-09T10:07:29.307Z"
   },
   {
    "duration": 1657,
    "start_time": "2023-08-09T10:07:32.089Z"
   },
   {
    "duration": 208,
    "start_time": "2023-08-09T10:07:33.748Z"
   },
   {
    "duration": 0,
    "start_time": "2023-08-09T10:07:33.959Z"
   },
   {
    "duration": 0,
    "start_time": "2023-08-09T10:07:33.960Z"
   },
   {
    "duration": 0,
    "start_time": "2023-08-09T10:07:33.962Z"
   },
   {
    "duration": 0,
    "start_time": "2023-08-09T10:07:33.963Z"
   },
   {
    "duration": 0,
    "start_time": "2023-08-09T10:07:33.963Z"
   },
   {
    "duration": 0,
    "start_time": "2023-08-09T10:07:33.965Z"
   },
   {
    "duration": 0,
    "start_time": "2023-08-09T10:07:33.977Z"
   },
   {
    "duration": 0,
    "start_time": "2023-08-09T10:07:33.979Z"
   },
   {
    "duration": 0,
    "start_time": "2023-08-09T10:07:33.980Z"
   },
   {
    "duration": 0,
    "start_time": "2023-08-09T10:07:33.981Z"
   },
   {
    "duration": 0,
    "start_time": "2023-08-09T10:07:33.982Z"
   },
   {
    "duration": 0,
    "start_time": "2023-08-09T10:07:33.984Z"
   },
   {
    "duration": 0,
    "start_time": "2023-08-09T10:07:33.985Z"
   },
   {
    "duration": 0,
    "start_time": "2023-08-09T10:07:33.985Z"
   },
   {
    "duration": 0,
    "start_time": "2023-08-09T10:07:33.986Z"
   },
   {
    "duration": 0,
    "start_time": "2023-08-09T10:07:33.987Z"
   },
   {
    "duration": 0,
    "start_time": "2023-08-09T10:07:33.988Z"
   },
   {
    "duration": 0,
    "start_time": "2023-08-09T10:07:33.989Z"
   },
   {
    "duration": 0,
    "start_time": "2023-08-09T10:07:33.990Z"
   },
   {
    "duration": 0,
    "start_time": "2023-08-09T10:07:33.991Z"
   },
   {
    "duration": 0,
    "start_time": "2023-08-09T10:07:33.993Z"
   },
   {
    "duration": 0,
    "start_time": "2023-08-09T10:07:33.993Z"
   },
   {
    "duration": 0,
    "start_time": "2023-08-09T10:07:33.995Z"
   },
   {
    "duration": 0,
    "start_time": "2023-08-09T10:07:33.996Z"
   },
   {
    "duration": 0,
    "start_time": "2023-08-09T10:07:33.997Z"
   },
   {
    "duration": 0,
    "start_time": "2023-08-09T10:07:33.998Z"
   },
   {
    "duration": 0,
    "start_time": "2023-08-09T10:07:33.999Z"
   },
   {
    "duration": 0,
    "start_time": "2023-08-09T10:07:34.000Z"
   },
   {
    "duration": 0,
    "start_time": "2023-08-09T10:07:34.001Z"
   },
   {
    "duration": 0,
    "start_time": "2023-08-09T10:07:34.002Z"
   },
   {
    "duration": 4,
    "start_time": "2023-08-09T10:08:21.847Z"
   },
   {
    "duration": 5,
    "start_time": "2023-08-09T10:08:21.853Z"
   },
   {
    "duration": 2383,
    "start_time": "2023-08-09T10:08:21.861Z"
   },
   {
    "duration": 1624,
    "start_time": "2023-08-09T10:08:24.247Z"
   },
   {
    "duration": 287,
    "start_time": "2023-08-09T10:08:25.873Z"
   },
   {
    "duration": 10,
    "start_time": "2023-08-09T10:08:26.162Z"
   },
   {
    "duration": 24,
    "start_time": "2023-08-09T10:08:26.173Z"
   },
   {
    "duration": 12,
    "start_time": "2023-08-09T10:08:26.198Z"
   },
   {
    "duration": 5,
    "start_time": "2023-08-09T10:08:26.211Z"
   },
   {
    "duration": 9,
    "start_time": "2023-08-09T10:08:26.217Z"
   },
   {
    "duration": 6,
    "start_time": "2023-08-09T10:08:26.227Z"
   },
   {
    "duration": 18,
    "start_time": "2023-08-09T10:08:26.237Z"
   },
   {
    "duration": 338,
    "start_time": "2023-08-09T10:08:26.257Z"
   },
   {
    "duration": 871,
    "start_time": "2023-08-09T10:08:26.597Z"
   },
   {
    "duration": 780,
    "start_time": "2023-08-09T10:08:27.470Z"
   },
   {
    "duration": 569,
    "start_time": "2023-08-09T10:08:28.251Z"
   },
   {
    "duration": 446,
    "start_time": "2023-08-09T10:08:28.822Z"
   },
   {
    "duration": 2309,
    "start_time": "2023-08-09T10:08:29.270Z"
   },
   {
    "duration": 211,
    "start_time": "2023-08-09T10:08:31.582Z"
   },
   {
    "duration": 349,
    "start_time": "2023-08-09T10:08:31.795Z"
   },
   {
    "duration": 10,
    "start_time": "2023-08-09T10:08:32.146Z"
   },
   {
    "duration": 45,
    "start_time": "2023-08-09T10:08:32.157Z"
   },
   {
    "duration": 14,
    "start_time": "2023-08-09T10:08:32.204Z"
   },
   {
    "duration": 15,
    "start_time": "2023-08-09T10:08:32.220Z"
   },
   {
    "duration": 145,
    "start_time": "2023-08-09T10:08:32.237Z"
   },
   {
    "duration": 101,
    "start_time": "2023-08-09T10:08:32.384Z"
   },
   {
    "duration": 91,
    "start_time": "2023-08-09T10:08:32.486Z"
   },
   {
    "duration": 325,
    "start_time": "2023-08-09T10:08:32.579Z"
   },
   {
    "duration": 68691,
    "start_time": "2023-08-09T10:08:32.906Z"
   },
   {
    "duration": 9105,
    "start_time": "2023-08-09T10:09:41.600Z"
   },
   {
    "duration": 3270,
    "start_time": "2023-08-09T10:09:50.707Z"
   },
   {
    "duration": 3,
    "start_time": "2023-08-09T10:09:53.979Z"
   },
   {
    "duration": 4,
    "start_time": "2023-08-09T15:04:01.041Z"
   },
   {
    "duration": 38,
    "start_time": "2023-08-09T15:04:01.046Z"
   },
   {
    "duration": 2151,
    "start_time": "2023-08-09T15:04:01.086Z"
   },
   {
    "duration": 1519,
    "start_time": "2023-08-09T15:04:03.238Z"
   },
   {
    "duration": 50,
    "start_time": "2023-08-09T15:04:04.759Z"
   },
   {
    "duration": 9,
    "start_time": "2023-08-09T15:04:04.810Z"
   },
   {
    "duration": 26,
    "start_time": "2023-08-09T15:04:04.821Z"
   },
   {
    "duration": 12,
    "start_time": "2023-08-09T15:04:04.849Z"
   },
   {
    "duration": 6,
    "start_time": "2023-08-09T15:04:04.863Z"
   },
   {
    "duration": 12,
    "start_time": "2023-08-09T15:04:04.875Z"
   },
   {
    "duration": 17,
    "start_time": "2023-08-09T15:04:04.891Z"
   },
   {
    "duration": 30,
    "start_time": "2023-08-09T15:04:04.909Z"
   },
   {
    "duration": 285,
    "start_time": "2023-08-09T15:04:04.940Z"
   },
   {
    "duration": 819,
    "start_time": "2023-08-09T15:04:05.226Z"
   },
   {
    "duration": 712,
    "start_time": "2023-08-09T15:04:06.047Z"
   },
   {
    "duration": 543,
    "start_time": "2023-08-09T15:04:06.761Z"
   },
   {
    "duration": 410,
    "start_time": "2023-08-09T15:04:07.306Z"
   },
   {
    "duration": 1962,
    "start_time": "2023-08-09T15:04:07.718Z"
   },
   {
    "duration": 207,
    "start_time": "2023-08-09T15:04:09.682Z"
   },
   {
    "duration": 345,
    "start_time": "2023-08-09T15:04:09.890Z"
   },
   {
    "duration": 11,
    "start_time": "2023-08-09T15:04:10.237Z"
   },
   {
    "duration": 41,
    "start_time": "2023-08-09T15:04:10.249Z"
   },
   {
    "duration": 13,
    "start_time": "2023-08-09T15:04:10.292Z"
   },
   {
    "duration": 17,
    "start_time": "2023-08-09T15:04:10.308Z"
   },
   {
    "duration": 247,
    "start_time": "2023-08-09T15:04:10.327Z"
   },
   {
    "duration": 10,
    "start_time": "2023-08-09T15:04:10.576Z"
   },
   {
    "duration": 10,
    "start_time": "2023-08-09T15:04:10.587Z"
   },
   {
    "duration": 382,
    "start_time": "2023-08-09T15:04:10.599Z"
   },
   {
    "duration": 4,
    "start_time": "2023-08-09T15:11:14.525Z"
   },
   {
    "duration": 4,
    "start_time": "2023-08-09T15:11:14.532Z"
   },
   {
    "duration": 2206,
    "start_time": "2023-08-09T15:11:14.538Z"
   },
   {
    "duration": 1621,
    "start_time": "2023-08-09T15:11:16.747Z"
   },
   {
    "duration": 49,
    "start_time": "2023-08-09T15:11:18.369Z"
   },
   {
    "duration": 11,
    "start_time": "2023-08-09T15:11:18.420Z"
   },
   {
    "duration": 19,
    "start_time": "2023-08-09T15:11:18.433Z"
   },
   {
    "duration": 12,
    "start_time": "2023-08-09T15:11:18.453Z"
   },
   {
    "duration": 10,
    "start_time": "2023-08-09T15:11:18.466Z"
   },
   {
    "duration": 31,
    "start_time": "2023-08-09T15:11:18.478Z"
   },
   {
    "duration": 16,
    "start_time": "2023-08-09T15:11:18.511Z"
   },
   {
    "duration": 23,
    "start_time": "2023-08-09T15:11:18.531Z"
   },
   {
    "duration": 299,
    "start_time": "2023-08-09T15:11:18.556Z"
   },
   {
    "duration": 911,
    "start_time": "2023-08-09T15:11:18.856Z"
   },
   {
    "duration": 899,
    "start_time": "2023-08-09T15:11:19.769Z"
   },
   {
    "duration": 543,
    "start_time": "2023-08-09T15:11:20.674Z"
   },
   {
    "duration": 462,
    "start_time": "2023-08-09T15:11:21.219Z"
   },
   {
    "duration": 4500,
    "start_time": "2023-08-09T15:11:21.682Z"
   },
   {
    "duration": 216,
    "start_time": "2023-08-09T15:11:26.185Z"
   },
   {
    "duration": 362,
    "start_time": "2023-08-09T15:11:26.403Z"
   },
   {
    "duration": 13,
    "start_time": "2023-08-09T15:11:26.767Z"
   },
   {
    "duration": 30,
    "start_time": "2023-08-09T15:11:26.782Z"
   },
   {
    "duration": 44,
    "start_time": "2023-08-09T15:11:26.814Z"
   },
   {
    "duration": 20,
    "start_time": "2023-08-09T15:11:26.859Z"
   },
   {
    "duration": 119,
    "start_time": "2023-08-09T15:11:26.881Z"
   },
   {
    "duration": 81,
    "start_time": "2023-08-09T15:11:27.002Z"
   },
   {
    "duration": 89,
    "start_time": "2023-08-09T15:11:27.085Z"
   },
   {
    "duration": 367,
    "start_time": "2023-08-09T15:11:27.177Z"
   },
   {
    "duration": 68357,
    "start_time": "2023-08-09T15:11:27.546Z"
   },
   {
    "duration": 8919,
    "start_time": "2023-08-09T15:12:35.906Z"
   },
   {
    "duration": 1157,
    "start_time": "2023-08-09T15:12:44.827Z"
   },
   {
    "duration": 3,
    "start_time": "2023-08-09T15:12:45.986Z"
   },
   {
    "duration": 2856394,
    "start_time": "2023-08-09T15:12:45.991Z"
   },
   {
    "duration": 898,
    "start_time": "2023-08-09T16:00:22.387Z"
   },
   {
    "duration": 411,
    "start_time": "2023-08-09T16:00:23.286Z"
   },
   {
    "duration": 93,
    "start_time": "2023-08-09T22:20:35.660Z"
   },
   {
    "duration": 3,
    "start_time": "2023-08-09T22:41:11.112Z"
   },
   {
    "duration": 5,
    "start_time": "2023-08-09T22:41:11.118Z"
   },
   {
    "duration": 2714,
    "start_time": "2023-08-09T22:41:11.125Z"
   },
   {
    "duration": 1776,
    "start_time": "2023-08-09T22:41:13.841Z"
   },
   {
    "duration": 130,
    "start_time": "2023-08-09T22:41:15.620Z"
   },
   {
    "duration": 11,
    "start_time": "2023-08-09T22:41:15.751Z"
   },
   {
    "duration": 22,
    "start_time": "2023-08-09T22:41:15.763Z"
   },
   {
    "duration": 26,
    "start_time": "2023-08-09T22:41:15.787Z"
   },
   {
    "duration": 14,
    "start_time": "2023-08-09T22:41:15.815Z"
   },
   {
    "duration": 26,
    "start_time": "2023-08-09T22:41:15.832Z"
   },
   {
    "duration": 9,
    "start_time": "2023-08-09T22:41:15.860Z"
   },
   {
    "duration": 22,
    "start_time": "2023-08-09T22:41:15.871Z"
   },
   {
    "duration": 368,
    "start_time": "2023-08-09T22:41:15.895Z"
   },
   {
    "duration": 1004,
    "start_time": "2023-08-09T22:41:16.265Z"
   },
   {
    "duration": 807,
    "start_time": "2023-08-09T22:41:17.271Z"
   },
   {
    "duration": 565,
    "start_time": "2023-08-09T22:41:18.080Z"
   },
   {
    "duration": 454,
    "start_time": "2023-08-09T22:41:18.647Z"
   },
   {
    "duration": 4306,
    "start_time": "2023-08-09T22:41:19.103Z"
   },
   {
    "duration": 122,
    "start_time": "2023-08-09T22:41:23.414Z"
   },
   {
    "duration": 363,
    "start_time": "2023-08-09T22:41:23.538Z"
   },
   {
    "duration": 13,
    "start_time": "2023-08-09T22:41:23.902Z"
   },
   {
    "duration": 29,
    "start_time": "2023-08-09T22:41:23.917Z"
   },
   {
    "duration": 13,
    "start_time": "2023-08-09T22:41:23.948Z"
   },
   {
    "duration": 37,
    "start_time": "2023-08-09T22:41:23.963Z"
   },
   {
    "duration": 309,
    "start_time": "2023-08-09T22:41:24.009Z"
   },
   {
    "duration": 0,
    "start_time": "2023-08-09T22:41:24.320Z"
   },
   {
    "duration": 0,
    "start_time": "2023-08-09T22:41:24.322Z"
   },
   {
    "duration": 0,
    "start_time": "2023-08-09T22:41:24.323Z"
   },
   {
    "duration": 0,
    "start_time": "2023-08-09T22:41:24.326Z"
   },
   {
    "duration": 0,
    "start_time": "2023-08-09T22:41:24.327Z"
   },
   {
    "duration": 0,
    "start_time": "2023-08-09T22:41:24.328Z"
   },
   {
    "duration": 0,
    "start_time": "2023-08-09T22:41:24.329Z"
   },
   {
    "duration": 0,
    "start_time": "2023-08-09T22:41:24.332Z"
   },
   {
    "duration": 0,
    "start_time": "2023-08-09T22:41:24.333Z"
   },
   {
    "duration": 0,
    "start_time": "2023-08-09T22:41:24.335Z"
   },
   {
    "duration": 0,
    "start_time": "2023-08-09T22:41:24.336Z"
   },
   {
    "duration": 3,
    "start_time": "2023-08-09T22:45:30.611Z"
   },
   {
    "duration": 32,
    "start_time": "2023-08-09T22:45:30.616Z"
   },
   {
    "duration": 2306,
    "start_time": "2023-08-09T22:45:30.651Z"
   },
   {
    "duration": 1520,
    "start_time": "2023-08-09T22:45:32.960Z"
   },
   {
    "duration": 62,
    "start_time": "2023-08-09T22:45:34.483Z"
   },
   {
    "duration": 12,
    "start_time": "2023-08-09T22:45:34.546Z"
   },
   {
    "duration": 13,
    "start_time": "2023-08-09T22:45:34.560Z"
   },
   {
    "duration": 36,
    "start_time": "2023-08-09T22:45:34.575Z"
   },
   {
    "duration": 19,
    "start_time": "2023-08-09T22:45:34.613Z"
   },
   {
    "duration": 15,
    "start_time": "2023-08-09T22:45:34.633Z"
   },
   {
    "duration": 7,
    "start_time": "2023-08-09T22:45:34.650Z"
   },
   {
    "duration": 13,
    "start_time": "2023-08-09T22:45:34.658Z"
   },
   {
    "duration": 335,
    "start_time": "2023-08-09T22:45:34.673Z"
   },
   {
    "duration": 947,
    "start_time": "2023-08-09T22:45:35.009Z"
   },
   {
    "duration": 839,
    "start_time": "2023-08-09T22:45:35.958Z"
   },
   {
    "duration": 574,
    "start_time": "2023-08-09T22:45:36.798Z"
   },
   {
    "duration": 469,
    "start_time": "2023-08-09T22:45:37.374Z"
   },
   {
    "duration": 4869,
    "start_time": "2023-08-09T22:45:37.844Z"
   },
   {
    "duration": 118,
    "start_time": "2023-08-09T22:45:42.795Z"
   },
   {
    "duration": 369,
    "start_time": "2023-08-09T22:45:42.914Z"
   },
   {
    "duration": 20,
    "start_time": "2023-08-09T22:45:43.285Z"
   },
   {
    "duration": 39,
    "start_time": "2023-08-09T22:45:43.307Z"
   },
   {
    "duration": 22,
    "start_time": "2023-08-09T22:45:43.347Z"
   },
   {
    "duration": 15,
    "start_time": "2023-08-09T22:45:43.371Z"
   },
   {
    "duration": 142,
    "start_time": "2023-08-09T22:45:43.395Z"
   },
   {
    "duration": 0,
    "start_time": "2023-08-09T22:45:43.539Z"
   },
   {
    "duration": 0,
    "start_time": "2023-08-09T22:45:43.540Z"
   },
   {
    "duration": 0,
    "start_time": "2023-08-09T22:45:43.541Z"
   },
   {
    "duration": 0,
    "start_time": "2023-08-09T22:45:43.542Z"
   },
   {
    "duration": 0,
    "start_time": "2023-08-09T22:45:43.543Z"
   },
   {
    "duration": 0,
    "start_time": "2023-08-09T22:45:43.545Z"
   },
   {
    "duration": 0,
    "start_time": "2023-08-09T22:45:43.546Z"
   },
   {
    "duration": 0,
    "start_time": "2023-08-09T22:45:43.547Z"
   },
   {
    "duration": 0,
    "start_time": "2023-08-09T22:45:43.547Z"
   },
   {
    "duration": 0,
    "start_time": "2023-08-09T22:45:43.548Z"
   },
   {
    "duration": 0,
    "start_time": "2023-08-09T22:45:43.550Z"
   },
   {
    "duration": 0,
    "start_time": "2023-08-09T22:45:43.551Z"
   },
   {
    "duration": 3,
    "start_time": "2023-08-09T22:47:13.942Z"
   },
   {
    "duration": 18,
    "start_time": "2023-08-09T22:47:13.949Z"
   },
   {
    "duration": 2196,
    "start_time": "2023-08-09T22:47:13.968Z"
   },
   {
    "duration": 1514,
    "start_time": "2023-08-09T22:47:16.166Z"
   },
   {
    "duration": 58,
    "start_time": "2023-08-09T22:47:17.682Z"
   },
   {
    "duration": 11,
    "start_time": "2023-08-09T22:47:17.742Z"
   },
   {
    "duration": 23,
    "start_time": "2023-08-09T22:47:17.754Z"
   },
   {
    "duration": 30,
    "start_time": "2023-08-09T22:47:17.779Z"
   },
   {
    "duration": 26,
    "start_time": "2023-08-09T22:47:17.811Z"
   },
   {
    "duration": 19,
    "start_time": "2023-08-09T22:47:17.838Z"
   },
   {
    "duration": 22,
    "start_time": "2023-08-09T22:47:17.860Z"
   },
   {
    "duration": 34,
    "start_time": "2023-08-09T22:47:17.883Z"
   },
   {
    "duration": 325,
    "start_time": "2023-08-09T22:47:17.918Z"
   },
   {
    "duration": 820,
    "start_time": "2023-08-09T22:47:18.245Z"
   },
   {
    "duration": 753,
    "start_time": "2023-08-09T22:47:19.066Z"
   },
   {
    "duration": 553,
    "start_time": "2023-08-09T22:47:19.821Z"
   },
   {
    "duration": 463,
    "start_time": "2023-08-09T22:47:20.375Z"
   },
   {
    "duration": 4057,
    "start_time": "2023-08-09T22:47:20.840Z"
   },
   {
    "duration": 116,
    "start_time": "2023-08-09T22:47:24.902Z"
   },
   {
    "duration": 336,
    "start_time": "2023-08-09T22:47:25.020Z"
   },
   {
    "duration": 8,
    "start_time": "2023-08-09T22:47:25.358Z"
   },
   {
    "duration": 45,
    "start_time": "2023-08-09T22:47:25.368Z"
   },
   {
    "duration": 11,
    "start_time": "2023-08-09T22:47:25.416Z"
   },
   {
    "duration": 24,
    "start_time": "2023-08-09T22:47:25.428Z"
   },
   {
    "duration": 3,
    "start_time": "2023-08-09T22:47:25.455Z"
   },
   {
    "duration": 735,
    "start_time": "2023-08-09T22:47:25.460Z"
   },
   {
    "duration": 98,
    "start_time": "2023-08-09T22:47:26.201Z"
   },
   {
    "duration": 30,
    "start_time": "2023-08-09T22:47:26.303Z"
   },
   {
    "duration": 1182,
    "start_time": "2023-08-09T22:47:26.337Z"
   },
   {
    "duration": 230405,
    "start_time": "2023-08-09T22:47:27.521Z"
   },
   {
    "duration": 3,
    "start_time": "2023-08-09T22:51:17.927Z"
   },
   {
    "duration": 43069,
    "start_time": "2023-08-09T22:51:17.932Z"
   },
   {
    "duration": 10,
    "start_time": "2023-08-09T22:52:01.003Z"
   },
   {
    "duration": 248,
    "start_time": "2023-08-09T22:52:01.015Z"
   },
   {
    "duration": 9057,
    "start_time": "2023-08-09T22:52:01.264Z"
   },
   {
    "duration": 405,
    "start_time": "2023-08-09T22:52:10.323Z"
   },
   {
    "duration": 4,
    "start_time": "2023-08-09T22:52:10.730Z"
   },
   {
    "duration": 4,
    "start_time": "2023-08-10T10:13:27.430Z"
   },
   {
    "duration": 33,
    "start_time": "2023-08-10T10:13:27.437Z"
   },
   {
    "duration": 2547,
    "start_time": "2023-08-10T10:13:27.472Z"
   },
   {
    "duration": 1831,
    "start_time": "2023-08-10T10:13:30.021Z"
   },
   {
    "duration": 118,
    "start_time": "2023-08-10T10:13:31.855Z"
   },
   {
    "duration": 13,
    "start_time": "2023-08-10T10:13:31.975Z"
   },
   {
    "duration": 90,
    "start_time": "2023-08-10T10:13:31.990Z"
   },
   {
    "duration": 102,
    "start_time": "2023-08-10T10:13:32.081Z"
   },
   {
    "duration": 68,
    "start_time": "2023-08-10T10:13:32.185Z"
   },
   {
    "duration": 67,
    "start_time": "2023-08-10T10:13:32.255Z"
   },
   {
    "duration": 33,
    "start_time": "2023-08-10T10:13:32.325Z"
   },
   {
    "duration": 42,
    "start_time": "2023-08-10T10:13:32.360Z"
   },
   {
    "duration": 359,
    "start_time": "2023-08-10T10:13:32.404Z"
   },
   {
    "duration": 936,
    "start_time": "2023-08-10T10:13:32.765Z"
   },
   {
    "duration": 762,
    "start_time": "2023-08-10T10:13:33.703Z"
   },
   {
    "duration": 587,
    "start_time": "2023-08-10T10:13:34.467Z"
   },
   {
    "duration": 471,
    "start_time": "2023-08-10T10:13:35.056Z"
   },
   {
    "duration": 1683,
    "start_time": "2023-08-10T10:13:35.529Z"
   },
   {
    "duration": 202,
    "start_time": "2023-08-10T10:13:37.214Z"
   },
   {
    "duration": 363,
    "start_time": "2023-08-10T10:13:37.418Z"
   },
   {
    "duration": 9,
    "start_time": "2023-08-10T10:13:37.783Z"
   },
   {
    "duration": 37,
    "start_time": "2023-08-10T10:13:37.794Z"
   },
   {
    "duration": 17,
    "start_time": "2023-08-10T10:13:37.832Z"
   },
   {
    "duration": 22,
    "start_time": "2023-08-10T10:13:37.851Z"
   },
   {
    "duration": 95,
    "start_time": "2023-08-10T10:13:37.875Z"
   },
   {
    "duration": 547,
    "start_time": "2023-08-10T10:13:37.972Z"
   },
   {
    "duration": 99,
    "start_time": "2023-08-10T10:13:38.610Z"
   },
   {
    "duration": 34,
    "start_time": "2023-08-10T10:13:38.711Z"
   },
   {
    "duration": 1048,
    "start_time": "2023-08-10T10:13:38.748Z"
   },
   {
    "duration": 212435,
    "start_time": "2023-08-10T10:13:39.797Z"
   },
   {
    "duration": 2,
    "start_time": "2023-08-10T10:17:12.234Z"
   },
   {
    "duration": 5179,
    "start_time": "2023-08-10T10:17:12.238Z"
   },
   {
    "duration": 3,
    "start_time": "2023-08-10T10:17:17.419Z"
   },
   {
    "duration": 226,
    "start_time": "2023-08-10T10:17:17.423Z"
   },
   {
    "duration": 768,
    "start_time": "2023-08-10T10:17:17.651Z"
   },
   {
    "duration": 443,
    "start_time": "2023-08-10T10:17:18.421Z"
   },
   {
    "duration": 5,
    "start_time": "2023-08-10T10:17:18.866Z"
   },
   {
    "duration": 4,
    "start_time": "2023-08-10T10:29:19.934Z"
   },
   {
    "duration": 8,
    "start_time": "2023-08-10T10:29:19.940Z"
   },
   {
    "duration": 2231,
    "start_time": "2023-08-10T10:29:19.950Z"
   },
   {
    "duration": 1689,
    "start_time": "2023-08-10T10:29:22.184Z"
   },
   {
    "duration": 52,
    "start_time": "2023-08-10T10:29:23.875Z"
   },
   {
    "duration": 13,
    "start_time": "2023-08-10T10:29:23.930Z"
   },
   {
    "duration": 25,
    "start_time": "2023-08-10T10:29:23.945Z"
   },
   {
    "duration": 17,
    "start_time": "2023-08-10T10:29:23.973Z"
   },
   {
    "duration": 18,
    "start_time": "2023-08-10T10:29:23.992Z"
   },
   {
    "duration": 17,
    "start_time": "2023-08-10T10:29:24.012Z"
   },
   {
    "duration": 45,
    "start_time": "2023-08-10T10:29:24.031Z"
   },
   {
    "duration": 30,
    "start_time": "2023-08-10T10:29:24.079Z"
   },
   {
    "duration": 336,
    "start_time": "2023-08-10T10:29:24.111Z"
   },
   {
    "duration": 899,
    "start_time": "2023-08-10T10:29:24.449Z"
   },
   {
    "duration": 849,
    "start_time": "2023-08-10T10:29:25.350Z"
   },
   {
    "duration": 576,
    "start_time": "2023-08-10T10:29:26.201Z"
   },
   {
    "duration": 503,
    "start_time": "2023-08-10T10:29:26.779Z"
   },
   {
    "duration": 3825,
    "start_time": "2023-08-10T10:29:27.284Z"
   },
   {
    "duration": 124,
    "start_time": "2023-08-10T10:29:31.111Z"
   },
   {
    "duration": 459,
    "start_time": "2023-08-10T10:29:31.237Z"
   },
   {
    "duration": 17,
    "start_time": "2023-08-10T10:29:31.699Z"
   },
   {
    "duration": 69,
    "start_time": "2023-08-10T10:29:31.718Z"
   },
   {
    "duration": 93,
    "start_time": "2023-08-10T10:29:31.789Z"
   },
   {
    "duration": 57,
    "start_time": "2023-08-10T10:29:31.884Z"
   },
   {
    "duration": 26,
    "start_time": "2023-08-10T10:29:31.943Z"
   },
   {
    "duration": 547,
    "start_time": "2023-08-10T10:29:31.971Z"
   },
   {
    "duration": 104,
    "start_time": "2023-08-10T10:29:32.521Z"
   },
   {
    "duration": 107,
    "start_time": "2023-08-10T10:29:32.629Z"
   },
   {
    "duration": 1060,
    "start_time": "2023-08-10T10:29:32.738Z"
   },
   {
    "duration": 217974,
    "start_time": "2023-08-10T10:29:33.810Z"
   },
   {
    "duration": 3,
    "start_time": "2023-08-10T10:33:11.786Z"
   },
   {
    "duration": 5019,
    "start_time": "2023-08-10T10:33:11.791Z"
   },
   {
    "duration": 3,
    "start_time": "2023-08-10T10:33:16.812Z"
   },
   {
    "duration": 5,
    "start_time": "2023-08-10T11:03:02.506Z"
   },
   {
    "duration": 36,
    "start_time": "2023-08-10T11:03:02.513Z"
   },
   {
    "duration": 2195,
    "start_time": "2023-08-10T11:03:02.551Z"
   },
   {
    "duration": 1607,
    "start_time": "2023-08-10T11:03:04.749Z"
   },
   {
    "duration": 51,
    "start_time": "2023-08-10T11:03:06.359Z"
   },
   {
    "duration": 11,
    "start_time": "2023-08-10T11:03:06.411Z"
   },
   {
    "duration": 44,
    "start_time": "2023-08-10T11:03:06.424Z"
   },
   {
    "duration": 46,
    "start_time": "2023-08-10T11:03:06.470Z"
   },
   {
    "duration": 22,
    "start_time": "2023-08-10T11:03:06.518Z"
   },
   {
    "duration": 25,
    "start_time": "2023-08-10T11:03:06.542Z"
   },
   {
    "duration": 16,
    "start_time": "2023-08-10T11:03:06.569Z"
   },
   {
    "duration": 18,
    "start_time": "2023-08-10T11:03:06.587Z"
   },
   {
    "duration": 376,
    "start_time": "2023-08-10T11:03:06.607Z"
   },
   {
    "duration": 927,
    "start_time": "2023-08-10T11:03:06.984Z"
   },
   {
    "duration": 823,
    "start_time": "2023-08-10T11:03:07.913Z"
   },
   {
    "duration": 544,
    "start_time": "2023-08-10T11:03:08.738Z"
   },
   {
    "duration": 489,
    "start_time": "2023-08-10T11:03:09.283Z"
   },
   {
    "duration": 1836,
    "start_time": "2023-08-10T11:03:09.775Z"
   },
   {
    "duration": 118,
    "start_time": "2023-08-10T11:03:11.618Z"
   },
   {
    "duration": 357,
    "start_time": "2023-08-10T11:03:11.738Z"
   },
   {
    "duration": 19,
    "start_time": "2023-08-10T11:03:12.096Z"
   },
   {
    "duration": 73,
    "start_time": "2023-08-10T11:03:12.117Z"
   },
   {
    "duration": 41,
    "start_time": "2023-08-10T11:03:12.193Z"
   },
   {
    "duration": 42,
    "start_time": "2023-08-10T11:03:12.237Z"
   },
   {
    "duration": 14,
    "start_time": "2023-08-10T11:03:12.280Z"
   },
   {
    "duration": 514,
    "start_time": "2023-08-10T11:03:12.296Z"
   },
   {
    "duration": 103,
    "start_time": "2023-08-10T11:03:12.812Z"
   },
   {
    "duration": 18,
    "start_time": "2023-08-10T11:03:12.917Z"
   },
   {
    "duration": 9,
    "start_time": "2023-08-10T11:03:12.938Z"
   },
   {
    "duration": 236,
    "start_time": "2023-08-10T11:03:12.949Z"
   },
   {
    "duration": 4,
    "start_time": "2023-08-10T11:05:44.636Z"
   },
   {
    "duration": 14,
    "start_time": "2023-08-10T11:05:44.642Z"
   },
   {
    "duration": 2336,
    "start_time": "2023-08-10T11:05:44.658Z"
   },
   {
    "duration": 1624,
    "start_time": "2023-08-10T11:05:46.996Z"
   },
   {
    "duration": 50,
    "start_time": "2023-08-10T11:05:48.622Z"
   },
   {
    "duration": 13,
    "start_time": "2023-08-10T11:05:48.675Z"
   },
   {
    "duration": 15,
    "start_time": "2023-08-10T11:05:48.690Z"
   },
   {
    "duration": 18,
    "start_time": "2023-08-10T11:05:48.707Z"
   },
   {
    "duration": 6,
    "start_time": "2023-08-10T11:05:48.727Z"
   },
   {
    "duration": 14,
    "start_time": "2023-08-10T11:05:48.734Z"
   },
   {
    "duration": 15,
    "start_time": "2023-08-10T11:05:48.750Z"
   },
   {
    "duration": 18,
    "start_time": "2023-08-10T11:05:48.768Z"
   },
   {
    "duration": 363,
    "start_time": "2023-08-10T11:05:48.788Z"
   },
   {
    "duration": 963,
    "start_time": "2023-08-10T11:05:49.153Z"
   },
   {
    "duration": 817,
    "start_time": "2023-08-10T11:05:50.117Z"
   },
   {
    "duration": 657,
    "start_time": "2023-08-10T11:05:50.936Z"
   },
   {
    "duration": 518,
    "start_time": "2023-08-10T11:05:51.595Z"
   },
   {
    "duration": 1797,
    "start_time": "2023-08-10T11:05:52.115Z"
   },
   {
    "duration": 131,
    "start_time": "2023-08-10T11:05:53.914Z"
   },
   {
    "duration": 365,
    "start_time": "2023-08-10T11:05:54.047Z"
   },
   {
    "duration": 10,
    "start_time": "2023-08-10T11:05:54.414Z"
   },
   {
    "duration": 35,
    "start_time": "2023-08-10T11:05:54.427Z"
   },
   {
    "duration": 31,
    "start_time": "2023-08-10T11:05:54.464Z"
   },
   {
    "duration": 31,
    "start_time": "2023-08-10T11:05:54.497Z"
   },
   {
    "duration": 18,
    "start_time": "2023-08-10T11:05:54.531Z"
   },
   {
    "duration": 659,
    "start_time": "2023-08-10T11:05:54.551Z"
   },
   {
    "duration": 96,
    "start_time": "2023-08-10T11:05:55.213Z"
   },
   {
    "duration": 3,
    "start_time": "2023-08-10T11:05:55.311Z"
   },
   {
    "duration": 11,
    "start_time": "2023-08-10T11:05:55.316Z"
   },
   {
    "duration": 9,
    "start_time": "2023-08-10T11:05:55.331Z"
   },
   {
    "duration": 305,
    "start_time": "2023-08-10T11:05:55.342Z"
   },
   {
    "duration": 221980,
    "start_time": "2023-08-10T11:05:55.649Z"
   },
   {
    "duration": 3,
    "start_time": "2023-08-10T11:09:37.631Z"
   },
   {
    "duration": 29683,
    "start_time": "2023-08-10T11:09:37.636Z"
   },
   {
    "duration": 3,
    "start_time": "2023-08-10T11:10:07.320Z"
   },
   {
    "duration": 4,
    "start_time": "2023-08-10T11:44:19.443Z"
   },
   {
    "duration": 32,
    "start_time": "2023-08-10T11:44:19.453Z"
   },
   {
    "duration": 2335,
    "start_time": "2023-08-10T11:44:19.488Z"
   },
   {
    "duration": 1669,
    "start_time": "2023-08-10T11:44:21.826Z"
   },
   {
    "duration": 53,
    "start_time": "2023-08-10T11:44:23.498Z"
   },
   {
    "duration": 15,
    "start_time": "2023-08-10T11:44:23.553Z"
   },
   {
    "duration": 28,
    "start_time": "2023-08-10T11:44:23.570Z"
   },
   {
    "duration": 30,
    "start_time": "2023-08-10T11:44:23.600Z"
   },
   {
    "duration": 31,
    "start_time": "2023-08-10T11:44:23.632Z"
   },
   {
    "duration": 34,
    "start_time": "2023-08-10T11:44:23.665Z"
   },
   {
    "duration": 34,
    "start_time": "2023-08-10T11:44:23.704Z"
   },
   {
    "duration": 69,
    "start_time": "2023-08-10T11:44:23.741Z"
   },
   {
    "duration": 377,
    "start_time": "2023-08-10T11:44:23.813Z"
   },
   {
    "duration": 1007,
    "start_time": "2023-08-10T11:44:24.192Z"
   },
   {
    "duration": 877,
    "start_time": "2023-08-10T11:44:25.201Z"
   },
   {
    "duration": 580,
    "start_time": "2023-08-10T11:44:26.080Z"
   },
   {
    "duration": 487,
    "start_time": "2023-08-10T11:44:26.662Z"
   },
   {
    "duration": 1662,
    "start_time": "2023-08-10T11:44:27.151Z"
   },
   {
    "duration": 204,
    "start_time": "2023-08-10T11:44:28.816Z"
   },
   {
    "duration": 344,
    "start_time": "2023-08-10T11:44:29.022Z"
   },
   {
    "duration": 16,
    "start_time": "2023-08-10T11:44:29.368Z"
   },
   {
    "duration": 66,
    "start_time": "2023-08-10T11:44:29.387Z"
   },
   {
    "duration": 18,
    "start_time": "2023-08-10T11:44:29.456Z"
   },
   {
    "duration": 36,
    "start_time": "2023-08-10T11:44:29.477Z"
   },
   {
    "duration": 4,
    "start_time": "2023-08-10T11:44:29.516Z"
   },
   {
    "duration": 602,
    "start_time": "2023-08-10T11:44:29.521Z"
   },
   {
    "duration": 100,
    "start_time": "2023-08-10T11:44:30.212Z"
   },
   {
    "duration": 209,
    "start_time": "2023-08-10T11:44:30.313Z"
   },
   {
    "duration": 784,
    "start_time": "2023-08-10T11:44:30.526Z"
   },
   {
    "duration": 5,
    "start_time": "2023-08-10T11:44:31.312Z"
   },
   {
    "duration": 765,
    "start_time": "2023-08-10T11:44:31.318Z"
   },
   {
    "duration": 4283,
    "start_time": "2023-08-10T11:44:32.085Z"
   },
   {
    "duration": 3,
    "start_time": "2023-08-10T11:44:36.370Z"
   },
   {
    "duration": 112,
    "start_time": "2023-08-10T11:44:36.374Z"
   },
   {
    "duration": 3,
    "start_time": "2023-08-10T11:44:36.487Z"
   },
   {
    "duration": 144918,
    "start_time": "2023-08-10T11:44:36.492Z"
   },
   {
    "duration": 97,
    "start_time": "2023-08-10T11:47:01.413Z"
   },
   {
    "duration": 0,
    "start_time": "2023-08-10T11:47:01.513Z"
   },
   {
    "duration": 0,
    "start_time": "2023-08-10T11:47:01.515Z"
   },
   {
    "duration": 0,
    "start_time": "2023-08-10T11:47:01.516Z"
   },
   {
    "duration": 0,
    "start_time": "2023-08-10T11:47:01.518Z"
   },
   {
    "duration": 4,
    "start_time": "2023-08-10T12:02:18.266Z"
   },
   {
    "duration": 67,
    "start_time": "2023-08-10T12:02:18.272Z"
   },
   {
    "duration": 2559,
    "start_time": "2023-08-10T12:02:18.342Z"
   },
   {
    "duration": 1767,
    "start_time": "2023-08-10T12:02:20.904Z"
   },
   {
    "duration": 59,
    "start_time": "2023-08-10T12:02:22.674Z"
   },
   {
    "duration": 76,
    "start_time": "2023-08-10T12:02:22.735Z"
   },
   {
    "duration": 73,
    "start_time": "2023-08-10T12:02:22.813Z"
   },
   {
    "duration": 104,
    "start_time": "2023-08-10T12:02:22.888Z"
   },
   {
    "duration": 112,
    "start_time": "2023-08-10T12:02:22.995Z"
   },
   {
    "duration": 90,
    "start_time": "2023-08-10T12:02:23.110Z"
   },
   {
    "duration": 50,
    "start_time": "2023-08-10T12:02:23.203Z"
   },
   {
    "duration": 41,
    "start_time": "2023-08-10T12:02:23.256Z"
   },
   {
    "duration": 370,
    "start_time": "2023-08-10T12:02:23.299Z"
   },
   {
    "duration": 1001,
    "start_time": "2023-08-10T12:02:23.671Z"
   },
   {
    "duration": 855,
    "start_time": "2023-08-10T12:02:24.675Z"
   },
   {
    "duration": 803,
    "start_time": "2023-08-10T12:02:25.532Z"
   },
   {
    "duration": 602,
    "start_time": "2023-08-10T12:02:26.337Z"
   },
   {
    "duration": 7167,
    "start_time": "2023-08-10T12:02:26.941Z"
   },
   {
    "duration": 126,
    "start_time": "2023-08-10T12:02:34.111Z"
   },
   {
    "duration": 381,
    "start_time": "2023-08-10T12:02:34.240Z"
   },
   {
    "duration": 13,
    "start_time": "2023-08-10T12:02:34.623Z"
   },
   {
    "duration": 65,
    "start_time": "2023-08-10T12:02:34.638Z"
   },
   {
    "duration": 53,
    "start_time": "2023-08-10T12:02:34.705Z"
   },
   {
    "duration": 96,
    "start_time": "2023-08-10T12:02:34.760Z"
   },
   {
    "duration": 10,
    "start_time": "2023-08-10T12:02:34.859Z"
   },
   {
    "duration": 1071,
    "start_time": "2023-08-10T12:02:34.871Z"
   },
   {
    "duration": 78,
    "start_time": "2023-08-10T12:02:35.949Z"
   },
   {
    "duration": 68,
    "start_time": "2023-08-10T12:02:36.034Z"
   },
   {
    "duration": 372,
    "start_time": "2023-08-10T12:02:36.109Z"
   },
   {
    "duration": 4,
    "start_time": "2023-08-10T12:02:36.483Z"
   },
   {
    "duration": 13134,
    "start_time": "2023-08-10T12:02:36.490Z"
   },
   {
    "duration": 72115,
    "start_time": "2023-08-10T12:02:49.626Z"
   },
   {
    "duration": 4,
    "start_time": "2023-08-10T12:04:01.743Z"
   },
   {
    "duration": 8,
    "start_time": "2023-08-10T12:05:42.206Z"
   },
   {
    "duration": 24,
    "start_time": "2023-08-10T12:05:42.217Z"
   },
   {
    "duration": 2249,
    "start_time": "2023-08-10T12:05:42.244Z"
   },
   {
    "duration": 1778,
    "start_time": "2023-08-10T12:05:44.495Z"
   },
   {
    "duration": 60,
    "start_time": "2023-08-10T12:05:46.276Z"
   },
   {
    "duration": 12,
    "start_time": "2023-08-10T12:05:46.338Z"
   },
   {
    "duration": 18,
    "start_time": "2023-08-10T12:05:46.352Z"
   },
   {
    "duration": 16,
    "start_time": "2023-08-10T12:05:46.372Z"
   },
   {
    "duration": 26,
    "start_time": "2023-08-10T12:05:46.390Z"
   },
   {
    "duration": 26,
    "start_time": "2023-08-10T12:05:46.420Z"
   },
   {
    "duration": 15,
    "start_time": "2023-08-10T12:05:46.449Z"
   },
   {
    "duration": 27,
    "start_time": "2023-08-10T12:05:46.466Z"
   },
   {
    "duration": 390,
    "start_time": "2023-08-10T12:05:46.495Z"
   },
   {
    "duration": 1080,
    "start_time": "2023-08-10T12:05:46.887Z"
   },
   {
    "duration": 861,
    "start_time": "2023-08-10T12:05:47.970Z"
   },
   {
    "duration": 617,
    "start_time": "2023-08-10T12:05:48.833Z"
   },
   {
    "duration": 550,
    "start_time": "2023-08-10T12:05:49.452Z"
   },
   {
    "duration": 4733,
    "start_time": "2023-08-10T12:05:50.007Z"
   },
   {
    "duration": 117,
    "start_time": "2023-08-10T12:05:54.824Z"
   },
   {
    "duration": 396,
    "start_time": "2023-08-10T12:05:54.943Z"
   },
   {
    "duration": 13,
    "start_time": "2023-08-10T12:05:55.344Z"
   },
   {
    "duration": 53,
    "start_time": "2023-08-10T12:05:55.360Z"
   },
   {
    "duration": 54,
    "start_time": "2023-08-10T12:05:55.419Z"
   },
   {
    "duration": 26,
    "start_time": "2023-08-10T12:05:55.476Z"
   },
   {
    "duration": 34,
    "start_time": "2023-08-10T12:05:55.504Z"
   },
   {
    "duration": 691,
    "start_time": "2023-08-10T12:05:55.541Z"
   },
   {
    "duration": 74,
    "start_time": "2023-08-10T12:05:56.242Z"
   },
   {
    "duration": 29,
    "start_time": "2023-08-10T12:05:56.319Z"
   },
   {
    "duration": 308,
    "start_time": "2023-08-10T12:05:56.351Z"
   },
   {
    "duration": 5,
    "start_time": "2023-08-10T12:05:56.660Z"
   },
   {
    "duration": 12969,
    "start_time": "2023-08-10T12:05:56.668Z"
   },
   {
    "duration": 70562,
    "start_time": "2023-08-10T12:06:09.639Z"
   },
   {
    "duration": 12,
    "start_time": "2023-08-10T12:07:20.203Z"
   },
   {
    "duration": 980083,
    "start_time": "2023-08-10T12:07:20.217Z"
   },
   {
    "duration": 9,
    "start_time": "2023-08-10T12:23:40.301Z"
   },
   {
    "duration": 1146813,
    "start_time": "2023-08-10T12:23:40.312Z"
   },
   {
    "duration": 100,
    "start_time": "2023-08-10T12:42:47.127Z"
   },
   {
    "duration": 0,
    "start_time": "2023-08-10T12:42:47.228Z"
   },
   {
    "duration": 0,
    "start_time": "2023-08-10T12:42:47.230Z"
   },
   {
    "duration": 0,
    "start_time": "2023-08-10T12:42:47.231Z"
   },
   {
    "duration": 0,
    "start_time": "2023-08-10T12:42:47.232Z"
   },
   {
    "duration": 4,
    "start_time": "2023-08-10T12:47:08.478Z"
   },
   {
    "duration": 4,
    "start_time": "2023-08-10T14:13:22.694Z"
   },
   {
    "duration": 30,
    "start_time": "2023-08-10T14:13:22.699Z"
   },
   {
    "duration": 2496,
    "start_time": "2023-08-10T14:13:22.730Z"
   },
   {
    "duration": 2348,
    "start_time": "2023-08-10T14:13:25.228Z"
   },
   {
    "duration": 145,
    "start_time": "2023-08-10T14:13:27.578Z"
   },
   {
    "duration": 12,
    "start_time": "2023-08-10T14:13:27.724Z"
   },
   {
    "duration": 11,
    "start_time": "2023-08-10T14:13:27.737Z"
   },
   {
    "duration": 12,
    "start_time": "2023-08-10T14:13:27.750Z"
   },
   {
    "duration": 5,
    "start_time": "2023-08-10T14:13:27.764Z"
   },
   {
    "duration": 13,
    "start_time": "2023-08-10T14:13:27.771Z"
   },
   {
    "duration": 7,
    "start_time": "2023-08-10T14:13:27.786Z"
   },
   {
    "duration": 17,
    "start_time": "2023-08-10T14:13:27.794Z"
   },
   {
    "duration": 127,
    "start_time": "2023-08-10T14:13:30.880Z"
   },
   {
    "duration": 6,
    "start_time": "2023-08-10T14:47:46.419Z"
   },
   {
    "duration": 57,
    "start_time": "2023-08-10T14:47:46.426Z"
   },
   {
    "duration": 2120,
    "start_time": "2023-08-10T14:47:46.486Z"
   },
   {
    "duration": 1627,
    "start_time": "2023-08-10T14:47:48.608Z"
   },
   {
    "duration": 51,
    "start_time": "2023-08-10T14:47:50.237Z"
   },
   {
    "duration": 11,
    "start_time": "2023-08-10T14:47:50.290Z"
   },
   {
    "duration": 17,
    "start_time": "2023-08-10T14:47:50.303Z"
   },
   {
    "duration": 12,
    "start_time": "2023-08-10T14:47:50.322Z"
   },
   {
    "duration": 5,
    "start_time": "2023-08-10T14:47:50.336Z"
   },
   {
    "duration": 14,
    "start_time": "2023-08-10T14:47:50.342Z"
   },
   {
    "duration": 15,
    "start_time": "2023-08-10T14:47:50.358Z"
   },
   {
    "duration": 12,
    "start_time": "2023-08-10T14:47:50.374Z"
   },
   {
    "duration": 327,
    "start_time": "2023-08-10T14:47:50.388Z"
   },
   {
    "duration": 935,
    "start_time": "2023-08-10T14:47:50.717Z"
   },
   {
    "duration": 852,
    "start_time": "2023-08-10T14:47:51.653Z"
   },
   {
    "duration": 569,
    "start_time": "2023-08-10T14:47:52.508Z"
   },
   {
    "duration": 487,
    "start_time": "2023-08-10T14:47:53.079Z"
   },
   {
    "duration": 1645,
    "start_time": "2023-08-10T14:47:53.568Z"
   },
   {
    "duration": 213,
    "start_time": "2023-08-10T14:47:55.215Z"
   },
   {
    "duration": 387,
    "start_time": "2023-08-10T14:47:55.430Z"
   },
   {
    "duration": 13,
    "start_time": "2023-08-10T14:47:55.820Z"
   },
   {
    "duration": 49,
    "start_time": "2023-08-10T14:47:55.835Z"
   },
   {
    "duration": 30,
    "start_time": "2023-08-10T14:47:55.887Z"
   },
   {
    "duration": 20,
    "start_time": "2023-08-10T14:47:55.919Z"
   },
   {
    "duration": 31,
    "start_time": "2023-08-10T14:47:55.941Z"
   },
   {
    "duration": 243,
    "start_time": "2023-08-10T14:47:55.974Z"
   },
   {
    "duration": 91,
    "start_time": "2023-08-10T14:47:56.219Z"
   },
   {
    "duration": 225,
    "start_time": "2023-08-10T14:47:56.313Z"
   },
   {
    "duration": 0,
    "start_time": "2023-08-10T14:47:56.540Z"
   },
   {
    "duration": 0,
    "start_time": "2023-08-10T14:47:56.541Z"
   },
   {
    "duration": 0,
    "start_time": "2023-08-10T14:47:56.542Z"
   },
   {
    "duration": 0,
    "start_time": "2023-08-10T14:47:56.543Z"
   },
   {
    "duration": 0,
    "start_time": "2023-08-10T14:47:56.544Z"
   },
   {
    "duration": 0,
    "start_time": "2023-08-10T14:47:56.545Z"
   },
   {
    "duration": 0,
    "start_time": "2023-08-10T14:47:56.546Z"
   },
   {
    "duration": 0,
    "start_time": "2023-08-10T14:47:56.547Z"
   },
   {
    "duration": 0,
    "start_time": "2023-08-10T14:47:56.548Z"
   },
   {
    "duration": 0,
    "start_time": "2023-08-10T14:47:56.549Z"
   },
   {
    "duration": 0,
    "start_time": "2023-08-10T14:47:56.550Z"
   },
   {
    "duration": 0,
    "start_time": "2023-08-10T14:47:56.551Z"
   },
   {
    "duration": 0,
    "start_time": "2023-08-10T14:47:56.552Z"
   },
   {
    "duration": 5,
    "start_time": "2023-08-10T14:48:52.113Z"
   },
   {
    "duration": 8,
    "start_time": "2023-08-10T14:48:52.120Z"
   },
   {
    "duration": 2222,
    "start_time": "2023-08-10T14:48:52.131Z"
   },
   {
    "duration": 1563,
    "start_time": "2023-08-10T14:48:54.355Z"
   },
   {
    "duration": 60,
    "start_time": "2023-08-10T14:48:55.922Z"
   },
   {
    "duration": 14,
    "start_time": "2023-08-10T14:48:55.984Z"
   },
   {
    "duration": 98,
    "start_time": "2023-08-10T14:48:56.000Z"
   },
   {
    "duration": 42,
    "start_time": "2023-08-10T14:48:56.100Z"
   },
   {
    "duration": 23,
    "start_time": "2023-08-10T14:48:56.144Z"
   },
   {
    "duration": 51,
    "start_time": "2023-08-10T14:48:56.169Z"
   },
   {
    "duration": 100,
    "start_time": "2023-08-10T14:48:56.221Z"
   },
   {
    "duration": 28,
    "start_time": "2023-08-10T14:48:56.323Z"
   },
   {
    "duration": 328,
    "start_time": "2023-08-10T14:48:56.353Z"
   },
   {
    "duration": 918,
    "start_time": "2023-08-10T14:48:56.682Z"
   },
   {
    "duration": 770,
    "start_time": "2023-08-10T14:48:57.608Z"
   },
   {
    "duration": 596,
    "start_time": "2023-08-10T14:48:58.380Z"
   },
   {
    "duration": 517,
    "start_time": "2023-08-10T14:48:58.978Z"
   },
   {
    "duration": 1715,
    "start_time": "2023-08-10T14:48:59.497Z"
   },
   {
    "duration": 120,
    "start_time": "2023-08-10T14:49:01.214Z"
   },
   {
    "duration": 372,
    "start_time": "2023-08-10T14:49:01.336Z"
   },
   {
    "duration": 10,
    "start_time": "2023-08-10T14:49:01.710Z"
   },
   {
    "duration": 50,
    "start_time": "2023-08-10T14:49:01.722Z"
   },
   {
    "duration": 71,
    "start_time": "2023-08-10T14:49:01.774Z"
   },
   {
    "duration": 84,
    "start_time": "2023-08-10T14:49:01.847Z"
   },
   {
    "duration": 56,
    "start_time": "2023-08-10T14:49:01.935Z"
   },
   {
    "duration": 417,
    "start_time": "2023-08-10T14:49:01.993Z"
   },
   {
    "duration": 5,
    "start_time": "2023-08-10T14:49:02.412Z"
   },
   {
    "duration": 122,
    "start_time": "2023-08-10T14:49:02.419Z"
   },
   {
    "duration": 23,
    "start_time": "2023-08-10T14:49:02.543Z"
   },
   {
    "duration": 263,
    "start_time": "2023-08-10T14:49:02.568Z"
   },
   {
    "duration": 230,
    "start_time": "2023-08-10T14:49:02.833Z"
   },
   {
    "duration": 2,
    "start_time": "2023-08-10T14:49:03.065Z"
   },
   {
    "duration": 18,
    "start_time": "2023-08-10T14:49:03.069Z"
   },
   {
    "duration": 0,
    "start_time": "2023-08-10T14:49:03.089Z"
   },
   {
    "duration": 0,
    "start_time": "2023-08-10T14:49:03.090Z"
   },
   {
    "duration": 0,
    "start_time": "2023-08-10T14:49:03.092Z"
   },
   {
    "duration": 0,
    "start_time": "2023-08-10T14:49:03.093Z"
   },
   {
    "duration": 0,
    "start_time": "2023-08-10T14:49:03.094Z"
   },
   {
    "duration": 0,
    "start_time": "2023-08-10T14:49:03.095Z"
   },
   {
    "duration": 0,
    "start_time": "2023-08-10T14:49:03.097Z"
   },
   {
    "duration": 0,
    "start_time": "2023-08-10T14:49:03.098Z"
   },
   {
    "duration": 97,
    "start_time": "2023-08-10T14:49:39.435Z"
   },
   {
    "duration": 6,
    "start_time": "2023-08-10T14:49:50.940Z"
   },
   {
    "duration": 92,
    "start_time": "2023-08-10T14:51:52.430Z"
   },
   {
    "duration": 85,
    "start_time": "2023-08-10T14:52:19.310Z"
   },
   {
    "duration": 5,
    "start_time": "2023-08-10T14:52:35.866Z"
   },
   {
    "duration": 162,
    "start_time": "2023-08-10T14:52:35.882Z"
   },
   {
    "duration": 2187,
    "start_time": "2023-08-10T14:52:36.047Z"
   },
   {
    "duration": 1612,
    "start_time": "2023-08-10T14:52:38.236Z"
   },
   {
    "duration": 51,
    "start_time": "2023-08-10T14:52:39.850Z"
   },
   {
    "duration": 14,
    "start_time": "2023-08-10T14:52:39.903Z"
   },
   {
    "duration": 18,
    "start_time": "2023-08-10T14:52:39.919Z"
   },
   {
    "duration": 40,
    "start_time": "2023-08-10T14:52:39.939Z"
   },
   {
    "duration": 30,
    "start_time": "2023-08-10T14:52:39.981Z"
   },
   {
    "duration": 33,
    "start_time": "2023-08-10T14:52:40.013Z"
   },
   {
    "duration": 12,
    "start_time": "2023-08-10T14:52:40.048Z"
   },
   {
    "duration": 34,
    "start_time": "2023-08-10T14:52:40.062Z"
   },
   {
    "duration": 331,
    "start_time": "2023-08-10T14:52:40.098Z"
   },
   {
    "duration": 912,
    "start_time": "2023-08-10T14:52:40.431Z"
   },
   {
    "duration": 788,
    "start_time": "2023-08-10T14:52:41.346Z"
   },
   {
    "duration": 572,
    "start_time": "2023-08-10T14:52:42.136Z"
   },
   {
    "duration": 512,
    "start_time": "2023-08-10T14:52:42.711Z"
   },
   {
    "duration": 1790,
    "start_time": "2023-08-10T14:52:43.224Z"
   },
   {
    "duration": 213,
    "start_time": "2023-08-10T14:52:45.016Z"
   },
   {
    "duration": 369,
    "start_time": "2023-08-10T14:52:45.232Z"
   },
   {
    "duration": 10,
    "start_time": "2023-08-10T14:52:45.608Z"
   },
   {
    "duration": 59,
    "start_time": "2023-08-10T14:52:45.620Z"
   },
   {
    "duration": 51,
    "start_time": "2023-08-10T14:52:45.681Z"
   },
   {
    "duration": 16,
    "start_time": "2023-08-10T14:52:45.735Z"
   },
   {
    "duration": 4,
    "start_time": "2023-08-10T14:52:45.753Z"
   },
   {
    "duration": 559,
    "start_time": "2023-08-10T14:52:45.759Z"
   },
   {
    "duration": 90,
    "start_time": "2023-08-10T14:52:46.320Z"
   },
   {
    "duration": 33,
    "start_time": "2023-08-10T14:52:46.412Z"
   },
   {
    "duration": 47,
    "start_time": "2023-08-10T14:52:46.447Z"
   },
   {
    "duration": 133,
    "start_time": "2023-08-10T14:52:46.496Z"
   },
   {
    "duration": 11911,
    "start_time": "2023-08-10T14:52:46.632Z"
   },
   {
    "duration": 3,
    "start_time": "2023-08-10T14:52:58.545Z"
   },
   {
    "duration": 15,
    "start_time": "2023-08-10T14:52:58.549Z"
   },
   {
    "duration": 0,
    "start_time": "2023-08-10T14:52:58.566Z"
   },
   {
    "duration": 0,
    "start_time": "2023-08-10T14:52:58.567Z"
   },
   {
    "duration": 0,
    "start_time": "2023-08-10T14:52:58.569Z"
   },
   {
    "duration": 0,
    "start_time": "2023-08-10T14:52:58.570Z"
   },
   {
    "duration": 0,
    "start_time": "2023-08-10T14:52:58.571Z"
   },
   {
    "duration": 0,
    "start_time": "2023-08-10T14:52:58.572Z"
   },
   {
    "duration": 0,
    "start_time": "2023-08-10T14:52:58.573Z"
   },
   {
    "duration": 0,
    "start_time": "2023-08-10T14:52:58.574Z"
   },
   {
    "duration": 206,
    "start_time": "2023-08-10T14:53:28.271Z"
   },
   {
    "duration": 5,
    "start_time": "2023-08-10T14:54:16.970Z"
   },
   {
    "duration": 24,
    "start_time": "2023-08-10T14:54:16.977Z"
   },
   {
    "duration": 2169,
    "start_time": "2023-08-10T14:54:17.003Z"
   },
   {
    "duration": 1736,
    "start_time": "2023-08-10T14:54:19.174Z"
   },
   {
    "duration": 62,
    "start_time": "2023-08-10T14:54:20.913Z"
   },
   {
    "duration": 15,
    "start_time": "2023-08-10T14:54:20.977Z"
   },
   {
    "duration": 53,
    "start_time": "2023-08-10T14:54:20.995Z"
   },
   {
    "duration": 52,
    "start_time": "2023-08-10T14:54:21.051Z"
   },
   {
    "duration": 19,
    "start_time": "2023-08-10T14:54:21.106Z"
   },
   {
    "duration": 29,
    "start_time": "2023-08-10T14:54:21.128Z"
   },
   {
    "duration": 38,
    "start_time": "2023-08-10T14:54:21.159Z"
   },
   {
    "duration": 26,
    "start_time": "2023-08-10T14:54:21.198Z"
   },
   {
    "duration": 4,
    "start_time": "2023-08-10T14:54:25.734Z"
   },
   {
    "duration": 17,
    "start_time": "2023-08-10T14:54:25.780Z"
   },
   {
    "duration": 2214,
    "start_time": "2023-08-10T14:54:25.801Z"
   },
   {
    "duration": 1626,
    "start_time": "2023-08-10T14:54:28.018Z"
   },
   {
    "duration": 52,
    "start_time": "2023-08-10T14:54:29.648Z"
   },
   {
    "duration": 13,
    "start_time": "2023-08-10T14:54:29.702Z"
   },
   {
    "duration": 31,
    "start_time": "2023-08-10T14:54:29.716Z"
   },
   {
    "duration": 25,
    "start_time": "2023-08-10T14:54:29.749Z"
   },
   {
    "duration": 37,
    "start_time": "2023-08-10T14:54:29.775Z"
   },
   {
    "duration": 30,
    "start_time": "2023-08-10T14:54:29.814Z"
   },
   {
    "duration": 20,
    "start_time": "2023-08-10T14:54:29.848Z"
   },
   {
    "duration": 63,
    "start_time": "2023-08-10T14:54:29.870Z"
   },
   {
    "duration": 360,
    "start_time": "2023-08-10T14:54:29.935Z"
   },
   {
    "duration": 940,
    "start_time": "2023-08-10T14:54:30.297Z"
   },
   {
    "duration": 761,
    "start_time": "2023-08-10T14:54:31.239Z"
   },
   {
    "duration": 592,
    "start_time": "2023-08-10T14:54:32.008Z"
   },
   {
    "duration": 490,
    "start_time": "2023-08-10T14:54:32.601Z"
   },
   {
    "duration": 1925,
    "start_time": "2023-08-10T14:54:33.092Z"
   },
   {
    "duration": 207,
    "start_time": "2023-08-10T14:54:35.019Z"
   },
   {
    "duration": 353,
    "start_time": "2023-08-10T14:54:35.228Z"
   },
   {
    "duration": 10,
    "start_time": "2023-08-10T14:54:35.582Z"
   },
   {
    "duration": 38,
    "start_time": "2023-08-10T14:54:35.594Z"
   },
   {
    "duration": 21,
    "start_time": "2023-08-10T14:54:35.634Z"
   },
   {
    "duration": 21,
    "start_time": "2023-08-10T14:54:35.657Z"
   },
   {
    "duration": 6,
    "start_time": "2023-08-10T14:54:35.680Z"
   },
   {
    "duration": 722,
    "start_time": "2023-08-10T14:54:35.688Z"
   },
   {
    "duration": 3,
    "start_time": "2023-08-10T14:54:36.412Z"
   },
   {
    "duration": 12,
    "start_time": "2023-08-10T14:54:36.417Z"
   },
   {
    "duration": 3,
    "start_time": "2023-08-10T14:54:36.508Z"
   },
   {
    "duration": 105,
    "start_time": "2023-08-10T14:54:36.513Z"
   },
   {
    "duration": 12113,
    "start_time": "2023-08-10T14:54:36.620Z"
   },
   {
    "duration": 3,
    "start_time": "2023-08-10T14:54:48.735Z"
   },
   {
    "duration": 17,
    "start_time": "2023-08-10T14:54:48.740Z"
   },
   {
    "duration": 4975,
    "start_time": "2023-08-10T14:54:48.759Z"
   },
   {
    "duration": 4,
    "start_time": "2023-08-10T14:56:37.211Z"
   },
   {
    "duration": 38,
    "start_time": "2023-08-10T14:56:37.217Z"
   },
   {
    "duration": 2231,
    "start_time": "2023-08-10T14:56:37.257Z"
   },
   {
    "duration": 1676,
    "start_time": "2023-08-10T14:56:39.490Z"
   },
   {
    "duration": 51,
    "start_time": "2023-08-10T14:56:41.168Z"
   },
   {
    "duration": 12,
    "start_time": "2023-08-10T14:56:41.220Z"
   },
   {
    "duration": 14,
    "start_time": "2023-08-10T14:56:41.234Z"
   },
   {
    "duration": 13,
    "start_time": "2023-08-10T14:56:41.250Z"
   },
   {
    "duration": 6,
    "start_time": "2023-08-10T14:56:41.264Z"
   },
   {
    "duration": 14,
    "start_time": "2023-08-10T14:56:41.271Z"
   },
   {
    "duration": 25,
    "start_time": "2023-08-10T14:56:41.287Z"
   },
   {
    "duration": 12,
    "start_time": "2023-08-10T14:56:41.313Z"
   },
   {
    "duration": 332,
    "start_time": "2023-08-10T14:56:41.327Z"
   },
   {
    "duration": 928,
    "start_time": "2023-08-10T14:56:41.661Z"
   },
   {
    "duration": 792,
    "start_time": "2023-08-10T14:56:42.590Z"
   },
   {
    "duration": 570,
    "start_time": "2023-08-10T14:56:43.384Z"
   },
   {
    "duration": 487,
    "start_time": "2023-08-10T14:56:43.956Z"
   },
   {
    "duration": 1475,
    "start_time": "2023-08-10T14:56:44.445Z"
   },
   {
    "duration": 214,
    "start_time": "2023-08-10T14:56:45.922Z"
   },
   {
    "duration": 375,
    "start_time": "2023-08-10T14:56:46.138Z"
   },
   {
    "duration": 10,
    "start_time": "2023-08-10T14:56:46.515Z"
   },
   {
    "duration": 66,
    "start_time": "2023-08-10T14:56:46.527Z"
   },
   {
    "duration": 27,
    "start_time": "2023-08-10T14:56:46.595Z"
   },
   {
    "duration": 39,
    "start_time": "2023-08-10T14:56:46.623Z"
   },
   {
    "duration": 17,
    "start_time": "2023-08-10T14:56:46.663Z"
   },
   {
    "duration": 527,
    "start_time": "2023-08-10T14:56:46.682Z"
   },
   {
    "duration": 3,
    "start_time": "2023-08-10T14:56:47.211Z"
   },
   {
    "duration": 90,
    "start_time": "2023-08-10T14:56:47.220Z"
   },
   {
    "duration": 80,
    "start_time": "2023-08-10T14:56:47.314Z"
   },
   {
    "duration": 166,
    "start_time": "2023-08-10T14:56:47.396Z"
   },
   {
    "duration": 11920,
    "start_time": "2023-08-10T14:56:47.564Z"
   },
   {
    "duration": 3,
    "start_time": "2023-08-10T14:56:59.486Z"
   },
   {
    "duration": 56,
    "start_time": "2023-08-10T14:56:59.491Z"
   },
   {
    "duration": 4857,
    "start_time": "2023-08-10T14:56:59.549Z"
   },
   {
    "duration": 3,
    "start_time": "2023-08-10T15:26:14.764Z"
   },
   {
    "duration": 15,
    "start_time": "2023-08-10T15:26:14.769Z"
   },
   {
    "duration": 2132,
    "start_time": "2023-08-10T15:26:14.786Z"
   },
   {
    "duration": 5,
    "start_time": "2023-08-10T15:26:16.921Z"
   },
   {
    "duration": 59,
    "start_time": "2023-08-10T15:26:16.928Z"
   },
   {
    "duration": 7,
    "start_time": "2023-08-10T15:26:16.989Z"
   },
   {
    "duration": 15,
    "start_time": "2023-08-10T15:26:16.998Z"
   },
   {
    "duration": 12,
    "start_time": "2023-08-10T15:26:17.015Z"
   },
   {
    "duration": 4,
    "start_time": "2023-08-10T15:26:17.029Z"
   },
   {
    "duration": 12,
    "start_time": "2023-08-10T15:26:17.035Z"
   },
   {
    "duration": 3,
    "start_time": "2023-08-10T15:26:17.069Z"
   },
   {
    "duration": 14,
    "start_time": "2023-08-10T15:26:17.074Z"
   },
   {
    "duration": 343,
    "start_time": "2023-08-10T15:26:17.090Z"
   },
   {
    "duration": 952,
    "start_time": "2023-08-10T15:26:17.435Z"
   },
   {
    "duration": 741,
    "start_time": "2023-08-10T15:26:18.389Z"
   },
   {
    "duration": 608,
    "start_time": "2023-08-10T15:26:19.132Z"
   },
   {
    "duration": 478,
    "start_time": "2023-08-10T15:26:19.741Z"
   },
   {
    "duration": 1847,
    "start_time": "2023-08-10T15:26:20.220Z"
   },
   {
    "duration": 119,
    "start_time": "2023-08-10T15:26:22.069Z"
   },
   {
    "duration": 347,
    "start_time": "2023-08-10T15:26:22.190Z"
   },
   {
    "duration": 9,
    "start_time": "2023-08-10T15:26:22.539Z"
   },
   {
    "duration": 46,
    "start_time": "2023-08-10T15:26:22.550Z"
   },
   {
    "duration": 42,
    "start_time": "2023-08-10T15:26:22.597Z"
   },
   {
    "duration": 18,
    "start_time": "2023-08-10T15:26:22.641Z"
   },
   {
    "duration": 22,
    "start_time": "2023-08-10T15:26:22.661Z"
   },
   {
    "duration": 491,
    "start_time": "2023-08-10T15:26:22.685Z"
   },
   {
    "duration": 89,
    "start_time": "2023-08-10T15:26:23.178Z"
   },
   {
    "duration": 2,
    "start_time": "2023-08-10T15:26:23.270Z"
   },
   {
    "duration": 92,
    "start_time": "2023-08-10T15:26:23.276Z"
   },
   {
    "duration": 102,
    "start_time": "2023-08-10T15:26:23.370Z"
   },
   {
    "duration": 11760,
    "start_time": "2023-08-10T15:26:23.474Z"
   },
   {
    "duration": 2,
    "start_time": "2023-08-10T15:26:35.236Z"
   },
   {
    "duration": 17,
    "start_time": "2023-08-10T15:26:35.240Z"
   },
   {
    "duration": 4908,
    "start_time": "2023-08-10T15:26:35.259Z"
   },
   {
    "duration": 973204,
    "start_time": "2023-08-10T15:26:40.169Z"
   },
   {
    "duration": 3,
    "start_time": "2023-08-10T15:42:53.375Z"
   },
   {
    "duration": 1398,
    "start_time": "2023-08-10T15:42:53.380Z"
   },
   {
    "duration": 5,
    "start_time": "2023-08-10T15:42:54.780Z"
   }
  ],
  "kernelspec": {
   "display_name": "Python 3 (ipykernel)",
   "language": "python",
   "name": "python3"
  },
  "language_info": {
   "codemirror_mode": {
    "name": "ipython",
    "version": 3
   },
   "file_extension": ".py",
   "mimetype": "text/x-python",
   "name": "python",
   "nbconvert_exporter": "python",
   "pygments_lexer": "ipython3",
   "version": "3.9.7"
  },
  "toc": {
   "base_numbering": 1,
   "nav_menu": {},
   "number_sections": true,
   "sideBar": true,
   "skip_h1_title": true,
   "title_cell": "Table of Contents",
   "title_sidebar": "Contents",
   "toc_cell": false,
   "toc_position": {},
   "toc_section_display": true,
   "toc_window_display": false
  }
 },
 "nbformat": 4,
 "nbformat_minor": 5
}
