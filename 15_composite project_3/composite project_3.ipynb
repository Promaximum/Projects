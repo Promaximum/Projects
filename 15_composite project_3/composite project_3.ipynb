{
 "cells": [
  {
   "cell_type": "markdown",
   "id": "cda01688",
   "metadata": {},
   "source": [
    "## Сборный проект: Оценка риска ДТП по выбранному маршруту движения"
   ]
  },
  {
   "cell_type": "markdown",
   "id": "e9a13e78",
   "metadata": {},
   "source": [
    "Поступил заказ: нужно создать систему, которая могла бы оценить риск ДТП по выбранному маршруту движения. Под риском понимается вероятность ДТП с любым повреждением транспортного средства. Как только водитель забронировал автомобиль, сел за руль и выбрал маршрут, система должна оценить уровень риска. Если уровень риска высок, водитель увидит предупреждение и рекомендации по маршруту. \n",
    "Идея создания такой системы находится в стадии предварительного обсуждения и проработки. Чёткого алгоритма работы и подобных решений на рынке ещё не существует. Текущая задача — понять, возможно ли предсказывать ДТП, опираясь на исторические данные одного из регионов. \n",
    "Идея решения задачи от заказчика:  \n",
    "Создать модель предсказания ДТП (целевое значение — at_fault (виновник) в таблице parties) \n",
    "Для модели выбрать тип виновника — только машина (car). \n",
    "Выбрать случаи, когда ДТП привело к любым повреждениям транспортного средства, кроме типа SCRATCH (царапина). \n",
    "Для моделирования ограничиться данными за 2012 год — они самые свежие. \n",
    "Обязательное условие — учесть фактор возраста автомобиля. \n",
    "На основе модели исследовать основные факторы ДТП. \n",
    "Понять, помогут ли результаты моделирования и анализ важности факторов ответить на вопросы: \n",
    "Возможно ли создать адекватную системы оценки водительского риска при выдаче авто? \n",
    "Какие ещё факторы нужно учесть? \n",
    "Нужно ли оборудовать автомобиль какими-либо датчиками или камерой? \n",
    "Заказчик предлагает вам поработать с базой данных по происшествиям и сформировать свои идеи создания такой системы.  "
   ]
  },
  {
   "cell_type": "markdown",
   "id": "664d8edb",
   "metadata": {},
   "source": [
    "# Инструкция по выполнению проекта \n",
    "\n",
    "**Шаг 1. Загрузить таблицы sql** \n",
    "Подключиться к базе данных, используя данные: \n",
    " \n",
    "db_config = { \n",
    "'user': 'praktikum_student', # имя пользователя, \n",
    "'pwd': 'Sdf4$2;d-d30pp', # пароль, \n",
    "'host': 'rc1b-wcoijxj3yxfsf3fs.mdb.yandexcloud.net', \n",
    "'port': 6432, # порт подключения, \n",
    "'db': 'data-science-vehicle-db' # название базы данных, \n",
    "}  \n",
    "  \n",
    "**Шаг 2. Провести первичное исследование таблиц**\n",
    "\n",
    "* Все ли таблицы имеют набор данных; \n",
    "* Соответствует ли количество таблиц условию задачи; \n",
    "* Имеется ли общий ключ для связи таблиц. \n",
    "* Для осмотра таблиц использовать sql-запрос. \n",
    "\n",
    "**Шаг 3. Провести статистический анализ факторов ДТП**\n",
    "\n",
    "Выяснить, в какие месяцы происходит наибольшее количество аварий. Проанализировать весь период наблюдений (таблица collisions). \n",
    "* Создать sql-запрос; \n",
    "* Построить график; \n",
    "* Сделать вывод. \n",
    "\n",
    "Скоро состоится первое совещание вашей рабочей группы. Чтобы обсуждение было конструктивным, каждый сотрудник должен понимать данные. Для этого вы должны создать подходящие аналитические задачи и поручить их решение коллегам. Примеры задач: \n",
    "Провести анализ серьёзности повреждений транспортного средства, исходя из состояния дороги в момент ДТП (связать collisions и parties); \n",
    "Найти самые частые причины ДТП (таблица parties). \n",
    "\n",
    "2.1. Создайть не менее шести задач для коллег. Опираться на примеры и таблицы.  \n",
    "\n",
    "2.2. Прописать порядок решения для двух задач из списка. Обязательное условие — решение этих задач должно включать связь не менее 2-х таблиц. Пример прописанного порядка: \n",
    "* Создать sql-запрос; \n",
    "* Построить график; \n",
    "* Сделать вывод. \n",
    "\n",
    "**Шаг 4. Создайть модель для оценки водительского риска**\n",
    "Подготовить набор данных на основе первичного предположения заказчика: \n",
    "  \n",
    "* Выбрать тип виновника — только машина (car).  \n",
    "* Взять случаи, когда ДТП привело к любым значимым повреждениям автомобиля любого из участников — все, кроме типа SCRATCH (царапина). \n",
    "* Для моделирования взять данные только за 2012 год. \n",
    "* Подготовка исходной таблицы должна проводиться с помощью sql-запроса. \n",
    "* Провести первичный отбор факторов, необходимых для модели. \n",
    "* Изучить описание факторов. Нужно отобрать те, которые могут влиять на вероятность ДТП. Будет хорошо, если будет аргументирован выбор.  \n",
    "Пример: \n",
    "columms =['party_type',     # Тип участника происшествия. Таблица parties \n",
    "          'party_sobriety', # Уровень трезвости виновника (точно может влиять) Таблица parties \n",
    "           ...... \n",
    "         ]  \n",
    "* Провести статистическое исследование отобранных факторов. \n",
    "* По результату исследовательского анализа внести корректировки, если они нужны. Сделать вывод. \n",
    "* Если необходимо, категоризировать исходные данные, провести масштабирование. \n",
    "* Подготовить обучающую и тестовую выборки. \n",
    "\n",
    "**Шаг 5. Найти лучшую модель** \n",
    "Смоделировать не менее 3-х типов моделей с перебором гиперпараметров. \n",
    "1–2 модели из спринта 2; \n",
    "1–2 модели из спринта 3. \n",
    "* Выбрать метрику для оценки модели, исходя из поставленной бизнесом задачи. Обосновать свой выбор. \n",
    "* Оформить вывод в виде сравнительной таблицы. \n",
    "\n",
    "**Шаг 6. Проверить лучшую модель в работе**\n",
    "\n",
    "Провести графический анализ «Матрица ошибок». Вывести полноту и точность на график. \n",
    "* Проанализировать важность основных факторов, влияющих на вероятность ДТП. \n",
    "* Для одного из выявленных важных факторов провести дополнительное исследование: \n",
    "* Показать график зависимости фактора и целевой переменной. \n",
    "* Предложить, чем можно оборудовать автомобиль, чтобы учесть этот фактор во время посадки водителя. \n",
    "\n",
    "Пример решения задачи 3: \n",
    "Выявили, что самый важный фактор ДТП — уровень трезвости виновника party_sobriety. Из таблицы исходных данных известно: есть несколько уровней трезвости. Тогда решение по пунктам выглядит так: \n",
    "Для графического анализа будем использовать столбчатую диаграмму. В ней отразим зависимость числа ДТП от уровня трезвости. Проанализируем график, сделаем выводы. \n",
    "Предложить оборудовать автомобиль анализатором алкогольного опьянения. Измерение состояния при посадке сделать обязательным условием допуска за руль. А чтобы убедиться, что в трубку дышит именно водитель, добавить камеру, направленную на водительское место. \n",
    "\n",
    "**Шаг 7. Сделать общий вывод по модели**\n",
    "Кратко описать лучшую модель. \n",
    "Сделать вывод: насколько возможно создание адекватной системы оценки риска при выдаче авто? \n",
    "Какие факторы ещё необходимо собирать, чтобы улучшить модель? \n",
    "\n",
    "Оформление: Выполнить задание в Jupyter Notebook. Заполнить программный код в ячейках типа code, текстовые пояснения — в ячейках типа markdown. Применить форматирование и заголовки. "
   ]
  },
  {
   "cell_type": "markdown",
   "id": "a4b1e897",
   "metadata": {},
   "source": [
    "Краткое описание таблиц \n",
    "\n",
    "* collisions — общая информация о ДТП \n",
    " \n",
    "Имеет уникальный case_id. Эта таблица описывает общую информацию о ДТП. Например, где оно произошло и когда. \n",
    "\n",
    "* parties — информация об участниках ДТП \n",
    " \n",
    "Имеет неуникальный case_id, который сопоставляется с соответствующим ДТП в таблице collisions. Каждая строка здесь описывает одну из сторон, участвующих в ДТП. Если столкнулись две машины, в этой таблице должно быть две строки с совпадением case_id. Если нужен уникальный идентификатор, это case_id and party_number. \n",
    "\n",
    "* vehicles — информация о пострадавших машинах \n",
    " \n",
    "Имеет неуникальные case_id и неуникальные party_number, которые сопоставляются с таблицей collisions и таблицей parties. Если нужен уникальный идентификатор, это case_id and party_number.\n",
    "\n",
    "**Collisions (информация о происшествиях)**\n",
    "\n",
    "\n",
    "**Идентификационный  Номер в базе данных CASE_ID Уникальный номер для зарегистрированного происшествия в таблице происшествий.** \n",
    "\n",
    "**Дата происшествия COLLISION_DATE Формат год/месяц/день**\n",
    "\n",
    "**Время происшествия COLLISION_TIME Формат: 24-часовой**\n",
    "\n",
    "**Является ли место происшествие перекрёстком INTERSECTION**\n",
    "\n",
    "Y — Intersection (перекрёсток) \n",
    "\n",
    "N — Not Intersection (не перекрёсток) \n",
    "\n",
    "-- — Not stated (Не указано) \n",
    "\n",
    "**Погода WEATHER_1** \n",
    "\n",
    "A — Clear (Ясно) \n",
    "\n",
    "B — Cloudy (Облачно) \n",
    "\n",
    "C — Raining (Дождь) \n",
    "\n",
    "D — Snowing (Снегопад) \n",
    "\n",
    "E — Fog (Туман) \n",
    "\n",
    "F — Other (Другое) \n",
    "\n",
    "G — Wind (Ветер) \n",
    "\n",
    "- — Not Stated (Не указано) \n",
    "\n",
    "**Серьёзность происшествия COLLISION_DAMAGE** \n",
    "\n",
    "1 — FATAL ТС (Не подлежит восстановлению)\n",
    "\n",
    "2 — SEVERE DAMAGE (Серьёзный ремонт, большая часть под замену/Серьёзное повреждение капитального строения) \n",
    "\n",
    "3 — MIDDLE DAMAGE (Средний ремонт, машина в целом на ходу/Строение в целом устояло) \n",
    "\n",
    "4 — SMALL DAMAGE (Отдельный элемент кузова под замену/покраску) \n",
    "\n",
    "0 – SCRATCH (Царапина) \n",
    "\n",
    "**Основной фактор аварии PRIMARY_COLL_FACTOR**\n",
    "\n",
    "A — Code Violation (Нарушение правил ПДД) \n",
    "\n",
    "B — Other Improper Driving (Другое неправильное вождение) \n",
    "\n",
    "C — Other Than Driver (Кроме водителя) \n",
    "\n",
    "D — Unknown (Неизвестно) \n",
    "\n",
    "E — Fell Asleep (Заснул) \n",
    "- — Not Stated (Не указано) \n",
    "\n",
    "**Состояние дороги ROAD_SURFACE**\n",
    "\n",
    "A — Dry (Сухая)\n",
    "\n",
    "B — Wet (Мокрая) \n",
    "\n",
    "C — Snowy or Icy (Заснеженная или обледенелая) \n",
    "\n",
    "D — Slippery (Muddy, Oily, etc.) (Скользкая, грязная, маслянистая и т. д.) \n",
    "\n",
    "- — Not Stated (Не указано) \n",
    "\n",
    "**Освещение LIGHTING** \n",
    "\n",
    "A — Daylight (Дневной свет) \n",
    "\n",
    "B — Dusk-Dawn (Сумерки-Рассвет) \n",
    "\n",
    "C — Dark-Street Lights (Темно-Уличные фонари) \n",
    "\n",
    "D — Dark-No Street Lights (Темно-Нет уличных фонарей) \n",
    "\n",
    "E — Dark-Street Lights Not Functioning (Темно-Уличные фонари не работают) \n",
    "\n",
    "- — Not Stated (Не указано) \n",
    "\n",
    "**Номер географических районов, где произошло ДТП COUNTY_CITY_LOCATION число \n",
    "Названия географических районов, где произошло ДТП COUNTY_LOCATION список разных названий, категориальный тип данных \n",
    "Направление движения DIRECTION**\n",
    "\n",
    "N — North (Север)\n",
    "\n",
    "E — East (Восток) \n",
    "\n",
    "S — South (Юг) \n",
    "\n",
    "W — West (Запад) \n",
    "\n",
    "- or blank — Not State (Не указано) \n",
    "\n",
    "на перекрёстке \n",
    "\n",
    "**Расстояние от главной дороги (метры) DISTANCE**\n",
    "\n",
    "число \n",
    "\n",
    "**Тип дороги LOCATION_TYPE** \n",
    "\n",
    "H — Highway (Шоссе) \n",
    "\n",
    "I — Intersection (Перекрёсток) \n",
    "\n",
    "R — Ramp (or Collector) (Рампа) \n",
    "\n",
    "- or blank — Not State Highway (Не указано) \n",
    "\n",
    "**Количество участников PARTY_COUNT** \n",
    "\n",
    "число \n",
    "\n",
    "**Категория нарушения PCF_VIOLATION_CATEGORY** \n",
    "\n",
    "01 — Driving or Bicycling Under the Influence of Alcohol or Drug (Вождение или езда на велосипеде в состоянии алкогольного или наркотического опьянения) \n",
    "\n",
    "02 — Impeding Traffic (Препятствие движению транспорта) \n",
    "\n",
    "03 — Unsafe Speed (Превышение скорости) \n",
    "\n",
    "04 — Following Too Closely (Опасное сближение) \n",
    "\n",
    "05 — Wrong Side of Road (Неправильная сторона дороги) \n",
    "\n",
    "06 — Improper Passing (Неправильное движение) \n",
    "\n",
    "07 — Unsafe Lane Change (Небезопасная смена полосы движения) \n",
    "\n",
    "08 — Improper Turning (Неправильный поворот) \n",
    "\n",
    "09 — Automobile Right of Way (Автомобильное право проезда) \n",
    "\n",
    "10 — Pedestrian Right of Way (Пешеходное право проезда) \n",
    "\n",
    "11 — Pedestrian Violation (Нарушение пешеходами) \n",
    "\n",
    "12 — Traffic Signals and Signs (Дорожные сигналы и знаки) \n",
    "\n",
    "13 — Hazardous Parking (Неправильная парковка) \n",
    "\n",
    "14 — Lights (Освещение) \n",
    "\n",
    "15 — Brakes (Тормоза) \n",
    "\n",
    "16 — Other Equipment (Другое оборудование) \n",
    "\n",
    "17 — Other Hazardous Violation (Другие нарушения) \n",
    "\n",
    "18 — Other Than Driver (or Pedestrian) (Кроме водителя или пешехода) \n",
    "\n",
    "19 — Speeding (Скорость) \n",
    "\n",
    "20 — Pedestrian dui (Нарушение пешехода) \n",
    "\n",
    "21 — Unsafe Starting or Backing (Опасный старт) \n",
    "\n",
    "22 — Other Improper Driving (Другое неправильное вождение) \n",
    "\n",
    "23 — Pedestrian or “Other” Under the Influence of Alcohol or Drug (Пешеход или «Другой» в состоянии алкогольного или наркотического опьянения) \n",
    "\n",
    "24 — Fell Asleep (Заснул) \n",
    "\n",
    "00 — Unknown (Неизвестно) \n",
    "\n",
    "- — Not Stated (Не указано) \n",
    "\n",
    "**Тип аварии TYPE_OF_COLLISION** \n",
    "\n",
    "A — Head-On (Лоб в лоб) \n",
    "\n",
    "B — Sideswipe (Сторона) \n",
    "\n",
    "C — Rear End (Столкновение задней частью) \n",
    "\n",
    "D — Broadside (Боковой удар) \n",
    "\n",
    "E — Hit Object (Удар объекта) \n",
    "\n",
    "F — Overturned (Опрокинутый) \n",
    "\n",
    "G — Vehicle (транспортное средство/ пешеход) \n",
    "\n",
    "H — Other (Другое) \n",
    "\n",
    "- — Not Stated (Не указано) \n",
    "\n",
    "Дополнительные участники ДТП MOTOR_VEHICLE_INVOLVED_WITH \n",
    "\n",
    "Other motor vehicle (Другой автомобиль) \n",
    "\n",
    "Fixed object (Неподвижный объект) \n",
    "\n",
    "Parked motor vehicle (Припаркованный автомобиль) \n",
    "\n",
    "Pedestrian (Пешеход) \n",
    "\n",
    "Bicycle (Велосипедист) \n",
    "\n",
    "Non-collision (Не столкновение) \n",
    "\n",
    "Other object (Другой объект) \n",
    "\n",
    "Motor vehicle on other roadway (Автомобиль на другой проезжей) \n",
    "\n",
    "Animal (Животное) \n",
    "\n",
    "Train (Поезд) \n",
    "\n",
    "**Дорожное состояние ROAD_CONDITION_1** \n",
    "\n",
    "A — Holes, Deep Ruts (Ямы, глубокая колея) \n",
    "\n",
    "B — Loose Material on Roadway (Сыпучий материал на проезжей части) \n",
    "\n",
    "C — Obstruction on Roadway (Препятствие на проезжей части) \n",
    "\n",
    "D — Construction or Repair Zone (Зона строительства или ремонта) \n",
    "\n",
    "E — Reduced Roadway Width (Уменьшенная ширина проезжей части) \n",
    "\n",
    "F — Flooded (Затоплено) \n",
    "\n",
    "G — Other (Другое) \n",
    "\n",
    "H — No Unusual Condition (Нет ничего необычного) \n",
    "\n",
    "- — Not Stated (Не указано) \n",
    "\n",
    "**Устройство управления CONTROL_CONDITION_1** \n",
    "\n",
    "A — Functioning (Функционирует) \n",
    "\n",
    "B — Not Functioning (Не функционирует) \n",
    "\n",
    "C — Obscured (Затемнённый) \n",
    "\n",
    "D — None (Нет) \n",
    "\n",
    "- — Not Stated (Не указано)\n",
    "\n",
    "**Parties (описание участников происшествия)**\n",
    "\n",
    "Идентификационный  номер в базе данных \n",
    "\n",
    "CASE_ID Уникальный номер для зарегистрированного происшествия в таблице происшествий. \n",
    "\n",
    "Номер участника происшествия PARTY_NUMBER От 1 до N — по числу участников происшествия \n",
    "\n",
    "Тип участника происшествия PARTY_TYPE \n",
    "\n",
    "1 — Car (Авто) \n",
    "\n",
    "2 — Road bumper (Дорожные знаки) \n",
    "\n",
    "3 — Building (Строения) \n",
    "\n",
    "4 — Road signs (Отбойник) \n",
    "\n",
    "5 — Other (Другое) \n",
    "\n",
    "6 — Operator (Оператор) \n",
    "\n",
    "- — Not Stated (Не указано) \n",
    "Виновность участника AT_FAULT 0/1 \n",
    "Сумма страховки (тыс. $) INSURANCE_PREMIUM число \n",
    "Состояние участника: физическое или с учётом принятых лекарств PARTY_DRUG_PHYSICAL E — Under Drug Influence (Под воздействием лекарств) \n",
    "\n",
    "F — Impairment — Physical (Ухудшение состояния) \n",
    "\n",
    "G — Impairment Unknown (Не известно) \n",
    "\n",
    "H — Not Applicable (Не оценивался) \n",
    "\n",
    "I — Sleepy/Fatigued (Сонный/Усталый) \n",
    "\n",
    "- — Not Stated (Не указано) \n",
    "\n",
    "Трезвость участника PARTY_SOBRIETY \n",
    "\n",
    "A — Had Not Been Drinking (Не пил) \n",
    "\n",
    "B — Had Been Drinking, Under Influence (Был пьян, под влиянием) \n",
    "C — Had Been Drinking, Not Under Influence (Был пьян, не под влиянием) \n",
    "\n",
    "\n",
    "D — Had Been Drinking, Impairment Unknown (Был пьян, ухудшение неизвестно) \n",
    "\n",
    "G — Impairment Unknown (Неизвестно ухудшение) \n",
    "\n",
    "H — Not Applicable (Не оценивался) \n",
    "\n",
    "- — Not Stated (Не указано) \n",
    "Наличие телефона в автомобиле (возможности разговаривать по громкой связи) CELLPHONE_IN_USE 0/1\n",
    "\n",
    "**Vehicles (Описание автомобиля)** \n",
    "\n",
    "Индекс текущей таблицы ID Номер в таблице \n",
    "\n",
    "Идентификационный номер в базе данных CASE_ID Уникальный номер для зарегистрированного происшествия в таблице происшествий. \n",
    "\n",
    "Тип кузова VEHICLE_TYPE \n",
    "\n",
    "MINIVAN \n",
    "\n",
    "COUPE \n",
    "\n",
    "SEDAN \n",
    "\n",
    "HATCHBACK \n",
    "\n",
    "OTHER \n",
    "Тип КПП VEHICLE_TRANSMISSION \n",
    "\n",
    "auto (Автоматическая) \n",
    "\n",
    "manual (Ручная) \n",
    "\n",
    "- — Not Stated (Не указано) \n",
    "\n",
    "Возраст автомобиля (в годах) VEHICLE_AGE \n",
    "\n",
    "число"
   ]
  },
  {
   "cell_type": "markdown",
   "id": "caa8dc66",
   "metadata": {},
   "source": [
    "# Шаг 1. Загрузить таблицы sql"
   ]
  },
  {
   "cell_type": "code",
   "execution_count": 1,
   "id": "3a1a4d78",
   "metadata": {
    "scrolled": true
   },
   "outputs": [
    {
     "name": "stdout",
     "output_type": "stream",
     "text": [
      "Collecting optuna\n",
      "  Downloading optuna-3.1.1-py3-none-any.whl (365 kB)\n",
      "\u001b[K     |████████████████████████████████| 365 kB 1.3 MB/s eta 0:00:01\n",
      "\u001b[?25hCollecting cmaes>=0.9.1\n",
      "  Downloading cmaes-0.9.1-py3-none-any.whl (21 kB)\n",
      "Requirement already satisfied: alembic>=1.5.0 in /opt/conda/lib/python3.9/site-packages (from optuna) (1.6.5)\n",
      "Requirement already satisfied: tqdm in /opt/conda/lib/python3.9/site-packages (from optuna) (4.61.2)\n",
      "Requirement already satisfied: sqlalchemy>=1.3.0 in /opt/conda/lib/python3.9/site-packages (from optuna) (1.4.20)\n",
      "Collecting colorlog\n",
      "  Downloading colorlog-6.7.0-py2.py3-none-any.whl (11 kB)\n",
      "Requirement already satisfied: PyYAML in /opt/conda/lib/python3.9/site-packages (from optuna) (6.0)\n",
      "Requirement already satisfied: numpy in /opt/conda/lib/python3.9/site-packages (from optuna) (1.21.1)\n",
      "Requirement already satisfied: packaging>=20.0 in /opt/conda/lib/python3.9/site-packages (from optuna) (21.3)\n",
      "Requirement already satisfied: Mako in /opt/conda/lib/python3.9/site-packages (from alembic>=1.5.0->optuna) (1.1.4)\n",
      "Requirement already satisfied: python-editor>=0.3 in /opt/conda/lib/python3.9/site-packages (from alembic>=1.5.0->optuna) (1.0.4)\n",
      "Requirement already satisfied: python-dateutil in /opt/conda/lib/python3.9/site-packages (from alembic>=1.5.0->optuna) (2.8.1)\n",
      "Requirement already satisfied: pyparsing!=3.0.5,>=2.0.2 in /opt/conda/lib/python3.9/site-packages (from packaging>=20.0->optuna) (2.4.7)\n",
      "Requirement already satisfied: greenlet!=0.4.17 in /opt/conda/lib/python3.9/site-packages (from sqlalchemy>=1.3.0->optuna) (1.1.0)\n",
      "Requirement already satisfied: MarkupSafe>=0.9.2 in /opt/conda/lib/python3.9/site-packages (from Mako->alembic>=1.5.0->optuna) (2.1.1)\n",
      "Requirement already satisfied: six>=1.5 in /opt/conda/lib/python3.9/site-packages (from python-dateutil->alembic>=1.5.0->optuna) (1.16.0)\n",
      "Installing collected packages: colorlog, cmaes, optuna\n",
      "Successfully installed cmaes-0.9.1 colorlog-6.7.0 optuna-3.1.1\n"
     ]
    }
   ],
   "source": [
    "!pip install optuna"
   ]
  },
  {
   "cell_type": "code",
   "execution_count": 2,
   "id": "f6343529",
   "metadata": {},
   "outputs": [],
   "source": [
    "import pandas as pd\n",
    "import numpy as np\n",
    "import seaborn as sns\n",
    "import matplotlib.pyplot as plt\n",
    "from sqlalchemy import create_engine\n",
    "from sklearn.preprocessing import StandardScaler, OneHotEncoder\n",
    "from sklearn.model_selection import train_test_split, cross_val_score, StratifiedKFold\n",
    "from sklearn.model_selection import GridSearchCV\n",
    "from sklearn.model_selection import KFold\n",
    "from catboost import CatBoostClassifier\n",
    "import catboost\n",
    "from sklearn.utils import shuffle\n",
    "from sklearn.dummy import DummyClassifier\n",
    "from sklearn.metrics import roc_auc_score\n",
    "from sklearn.metrics import confusion_matrix\n",
    "from sklearn.metrics import f1_score\n",
    "from sklearn.compose import ColumnTransformer,make_column_transformer\n",
    "\n",
    "from sklearn.ensemble import RandomForestClassifier\n",
    "from sklearn.tree import DecisionTreeClassifier\n",
    "from sklearn.linear_model import LinearRegression\n",
    "import calendar\n",
    "import optuna\n",
    "from sklearn.metrics import precision_score, recall_score,fbeta_score,f1_score,make_scorer"
   ]
  },
  {
   "cell_type": "code",
   "execution_count": 3,
   "id": "c40e0374",
   "metadata": {},
   "outputs": [],
   "source": [
    "db_config = { \n",
    "'user': 'praktikum_student', # имя пользователя, \n",
    "'pwd': 'Sdf4$2;d-d30pp', # пароль, \n",
    "'host': 'rc1b-wcoijxj3yxfsf3fs.mdb.yandexcloud.net', \n",
    "'port': 6432, # порт подключения, \n",
    "'db': 'data-science-vehicle-db' # название базы данных, \n",
    "}  \n",
    "\n",
    "connection_string = 'postgresql://{}:{}@{}:{}/{}'.format(\n",
    "    db_config['user'],\n",
    "    db_config['pwd'],\n",
    "    db_config['host'],\n",
    "    db_config['port'],\n",
    "    db_config['db'],\n",
    ")"
   ]
  },
  {
   "cell_type": "code",
   "execution_count": 4,
   "id": "025b8ab1",
   "metadata": {},
   "outputs": [],
   "source": [
    "engine = create_engine(connection_string) "
   ]
  },
  {
   "cell_type": "markdown",
   "id": "6ad5d534",
   "metadata": {},
   "source": [
    "**Вывод:**\n",
    "\n",
    "Мы загрузили таблицы SQL."
   ]
  },
  {
   "cell_type": "markdown",
   "id": "891d2a1e",
   "metadata": {},
   "source": [
    "# Шаг 2. Провести первичное исследование таблиц"
   ]
  },
  {
   "cell_type": "code",
   "execution_count": 5,
   "id": "390a30ae",
   "metadata": {
    "scrolled": true
   },
   "outputs": [
    {
     "data": {
      "text/html": [
       "<div>\n",
       "<style scoped>\n",
       "    .dataframe tbody tr th:only-of-type {\n",
       "        vertical-align: middle;\n",
       "    }\n",
       "\n",
       "    .dataframe tbody tr th {\n",
       "        vertical-align: top;\n",
       "    }\n",
       "\n",
       "    .dataframe thead th {\n",
       "        text-align: right;\n",
       "    }\n",
       "</style>\n",
       "<table border=\"1\" class=\"dataframe\">\n",
       "  <thead>\n",
       "    <tr style=\"text-align: right;\">\n",
       "      <th></th>\n",
       "      <th>case_id</th>\n",
       "      <th>county_city_location</th>\n",
       "      <th>county_location</th>\n",
       "      <th>distance</th>\n",
       "      <th>direction</th>\n",
       "      <th>intersection</th>\n",
       "      <th>weather_1</th>\n",
       "      <th>location_type</th>\n",
       "      <th>collision_damage</th>\n",
       "      <th>party_count</th>\n",
       "      <th>primary_collision_factor</th>\n",
       "      <th>pcf_violation_category</th>\n",
       "      <th>type_of_collision</th>\n",
       "      <th>motor_vehicle_involved_with</th>\n",
       "      <th>road_surface</th>\n",
       "      <th>road_condition_1</th>\n",
       "      <th>lighting</th>\n",
       "      <th>control_device</th>\n",
       "      <th>collision_date</th>\n",
       "      <th>collision_time</th>\n",
       "    </tr>\n",
       "  </thead>\n",
       "  <tbody>\n",
       "    <tr>\n",
       "      <th>0</th>\n",
       "      <td>4083072</td>\n",
       "      <td>1942</td>\n",
       "      <td>los angeles</td>\n",
       "      <td>528.0</td>\n",
       "      <td>north</td>\n",
       "      <td>0</td>\n",
       "      <td>cloudy</td>\n",
       "      <td>highway</td>\n",
       "      <td>small damage</td>\n",
       "      <td>2</td>\n",
       "      <td>vehicle code violation</td>\n",
       "      <td>unsafe lane change</td>\n",
       "      <td>sideswipe</td>\n",
       "      <td>other motor vehicle</td>\n",
       "      <td>wet</td>\n",
       "      <td>normal</td>\n",
       "      <td>daylight</td>\n",
       "      <td>none</td>\n",
       "      <td>2009-01-22</td>\n",
       "      <td>07:25:00</td>\n",
       "    </tr>\n",
       "    <tr>\n",
       "      <th>1</th>\n",
       "      <td>4083075</td>\n",
       "      <td>4313</td>\n",
       "      <td>santa clara</td>\n",
       "      <td>0.0</td>\n",
       "      <td>None</td>\n",
       "      <td>1</td>\n",
       "      <td>clear</td>\n",
       "      <td>None</td>\n",
       "      <td>small damage</td>\n",
       "      <td>1</td>\n",
       "      <td>vehicle code violation</td>\n",
       "      <td>improper passing</td>\n",
       "      <td>hit object</td>\n",
       "      <td>fixed object</td>\n",
       "      <td>dry</td>\n",
       "      <td>normal</td>\n",
       "      <td>dark with street lights</td>\n",
       "      <td>functioning</td>\n",
       "      <td>2009-01-03</td>\n",
       "      <td>02:26:00</td>\n",
       "    </tr>\n",
       "    <tr>\n",
       "      <th>2</th>\n",
       "      <td>4083073</td>\n",
       "      <td>0109</td>\n",
       "      <td>alameda</td>\n",
       "      <td>0.0</td>\n",
       "      <td>None</td>\n",
       "      <td>1</td>\n",
       "      <td>clear</td>\n",
       "      <td>None</td>\n",
       "      <td>scratch</td>\n",
       "      <td>2</td>\n",
       "      <td>vehicle code violation</td>\n",
       "      <td>improper turning</td>\n",
       "      <td>broadside</td>\n",
       "      <td>other motor vehicle</td>\n",
       "      <td>dry</td>\n",
       "      <td>normal</td>\n",
       "      <td>dark with street lights</td>\n",
       "      <td>functioning</td>\n",
       "      <td>2009-01-11</td>\n",
       "      <td>03:32:00</td>\n",
       "    </tr>\n",
       "    <tr>\n",
       "      <th>3</th>\n",
       "      <td>4083077</td>\n",
       "      <td>0109</td>\n",
       "      <td>alameda</td>\n",
       "      <td>0.0</td>\n",
       "      <td>None</td>\n",
       "      <td>1</td>\n",
       "      <td>clear</td>\n",
       "      <td>None</td>\n",
       "      <td>scratch</td>\n",
       "      <td>2</td>\n",
       "      <td>vehicle code violation</td>\n",
       "      <td>automobile right of way</td>\n",
       "      <td>broadside</td>\n",
       "      <td>other motor vehicle</td>\n",
       "      <td>dry</td>\n",
       "      <td>normal</td>\n",
       "      <td>daylight</td>\n",
       "      <td>functioning</td>\n",
       "      <td>2009-01-11</td>\n",
       "      <td>10:35:00</td>\n",
       "    </tr>\n",
       "    <tr>\n",
       "      <th>4</th>\n",
       "      <td>4083087</td>\n",
       "      <td>4313</td>\n",
       "      <td>santa clara</td>\n",
       "      <td>0.0</td>\n",
       "      <td>None</td>\n",
       "      <td>1</td>\n",
       "      <td>clear</td>\n",
       "      <td>None</td>\n",
       "      <td>scratch</td>\n",
       "      <td>2</td>\n",
       "      <td>vehicle code violation</td>\n",
       "      <td>speeding</td>\n",
       "      <td>rear end</td>\n",
       "      <td>other motor vehicle</td>\n",
       "      <td>dry</td>\n",
       "      <td>None</td>\n",
       "      <td>dark with street lights</td>\n",
       "      <td>functioning</td>\n",
       "      <td>2009-01-02</td>\n",
       "      <td>22:43:00</td>\n",
       "    </tr>\n",
       "  </tbody>\n",
       "</table>\n",
       "</div>"
      ],
      "text/plain": [
       "   case_id county_city_location county_location  distance direction  \\\n",
       "0  4083072                 1942     los angeles     528.0     north   \n",
       "1  4083075                 4313     santa clara       0.0      None   \n",
       "2  4083073                 0109         alameda       0.0      None   \n",
       "3  4083077                 0109         alameda       0.0      None   \n",
       "4  4083087                 4313     santa clara       0.0      None   \n",
       "\n",
       "   intersection weather_1 location_type collision_damage  party_count  \\\n",
       "0             0    cloudy       highway     small damage            2   \n",
       "1             1     clear          None     small damage            1   \n",
       "2             1     clear          None          scratch            2   \n",
       "3             1     clear          None          scratch            2   \n",
       "4             1     clear          None          scratch            2   \n",
       "\n",
       "  primary_collision_factor   pcf_violation_category type_of_collision  \\\n",
       "0   vehicle code violation       unsafe lane change         sideswipe   \n",
       "1   vehicle code violation         improper passing        hit object   \n",
       "2   vehicle code violation         improper turning         broadside   \n",
       "3   vehicle code violation  automobile right of way         broadside   \n",
       "4   vehicle code violation                 speeding          rear end   \n",
       "\n",
       "  motor_vehicle_involved_with road_surface road_condition_1  \\\n",
       "0         other motor vehicle          wet           normal   \n",
       "1                fixed object          dry           normal   \n",
       "2         other motor vehicle          dry           normal   \n",
       "3         other motor vehicle          dry           normal   \n",
       "4         other motor vehicle          dry             None   \n",
       "\n",
       "                  lighting control_device collision_date collision_time  \n",
       "0                 daylight           none     2009-01-22       07:25:00  \n",
       "1  dark with street lights    functioning     2009-01-03       02:26:00  \n",
       "2  dark with street lights    functioning     2009-01-11       03:32:00  \n",
       "3                 daylight    functioning     2009-01-11       10:35:00  \n",
       "4  dark with street lights    functioning     2009-01-02       22:43:00  "
      ]
     },
     "execution_count": 5,
     "metadata": {},
     "output_type": "execute_result"
    }
   ],
   "source": [
    "query = '''\n",
    "SELECT *\n",
    "FROM collisions\n",
    "LIMIT 10;\n",
    "'''\n",
    "\n",
    "sample_collisions = pd.read_sql_query(query, con=engine) \n",
    "sample_collisions.head()"
   ]
  },
  {
   "cell_type": "code",
   "execution_count": 6,
   "id": "eac48a58",
   "metadata": {},
   "outputs": [
    {
     "data": {
      "text/html": [
       "<div>\n",
       "<style scoped>\n",
       "    .dataframe tbody tr th:only-of-type {\n",
       "        vertical-align: middle;\n",
       "    }\n",
       "\n",
       "    .dataframe tbody tr th {\n",
       "        vertical-align: top;\n",
       "    }\n",
       "\n",
       "    .dataframe thead th {\n",
       "        text-align: right;\n",
       "    }\n",
       "</style>\n",
       "<table border=\"1\" class=\"dataframe\">\n",
       "  <thead>\n",
       "    <tr style=\"text-align: right;\">\n",
       "      <th></th>\n",
       "      <th>case_id</th>\n",
       "      <th>db_year</th>\n",
       "    </tr>\n",
       "  </thead>\n",
       "  <tbody>\n",
       "    <tr>\n",
       "      <th>0</th>\n",
       "      <td>0081715</td>\n",
       "      <td>2021</td>\n",
       "    </tr>\n",
       "    <tr>\n",
       "      <th>1</th>\n",
       "      <td>0726202</td>\n",
       "      <td>2021</td>\n",
       "    </tr>\n",
       "    <tr>\n",
       "      <th>2</th>\n",
       "      <td>3858022</td>\n",
       "      <td>2021</td>\n",
       "    </tr>\n",
       "    <tr>\n",
       "      <th>3</th>\n",
       "      <td>3899441</td>\n",
       "      <td>2021</td>\n",
       "    </tr>\n",
       "    <tr>\n",
       "      <th>4</th>\n",
       "      <td>3899442</td>\n",
       "      <td>2021</td>\n",
       "    </tr>\n",
       "  </tbody>\n",
       "</table>\n",
       "</div>"
      ],
      "text/plain": [
       "   case_id db_year\n",
       "0  0081715    2021\n",
       "1  0726202    2021\n",
       "2  3858022    2021\n",
       "3  3899441    2021\n",
       "4  3899442    2021"
      ]
     },
     "execution_count": 6,
     "metadata": {},
     "output_type": "execute_result"
    }
   ],
   "source": [
    "query = '''\n",
    "SELECT *\n",
    "FROM case_ids\n",
    "LIMIT 10;\n",
    "'''\n",
    "\n",
    "sample_ids = pd.read_sql_query(query, con=engine) \n",
    "sample_ids.head()"
   ]
  },
  {
   "cell_type": "code",
   "execution_count": 7,
   "id": "88cbeb94",
   "metadata": {},
   "outputs": [
    {
     "data": {
      "text/html": [
       "<div>\n",
       "<style scoped>\n",
       "    .dataframe tbody tr th:only-of-type {\n",
       "        vertical-align: middle;\n",
       "    }\n",
       "\n",
       "    .dataframe tbody tr th {\n",
       "        vertical-align: top;\n",
       "    }\n",
       "\n",
       "    .dataframe thead th {\n",
       "        text-align: right;\n",
       "    }\n",
       "</style>\n",
       "<table border=\"1\" class=\"dataframe\">\n",
       "  <thead>\n",
       "    <tr style=\"text-align: right;\">\n",
       "      <th></th>\n",
       "      <th>id</th>\n",
       "      <th>case_id</th>\n",
       "      <th>party_number</th>\n",
       "      <th>vehicle_type</th>\n",
       "      <th>vehicle_transmission</th>\n",
       "      <th>vehicle_age</th>\n",
       "    </tr>\n",
       "  </thead>\n",
       "  <tbody>\n",
       "    <tr>\n",
       "      <th>0</th>\n",
       "      <td>1175713</td>\n",
       "      <td>5305032</td>\n",
       "      <td>2</td>\n",
       "      <td>sedan</td>\n",
       "      <td>manual</td>\n",
       "      <td>3</td>\n",
       "    </tr>\n",
       "    <tr>\n",
       "      <th>1</th>\n",
       "      <td>1</td>\n",
       "      <td>3858022</td>\n",
       "      <td>1</td>\n",
       "      <td>sedan</td>\n",
       "      <td>auto</td>\n",
       "      <td>3</td>\n",
       "    </tr>\n",
       "    <tr>\n",
       "      <th>2</th>\n",
       "      <td>1175712</td>\n",
       "      <td>5305030</td>\n",
       "      <td>1</td>\n",
       "      <td>sedan</td>\n",
       "      <td>auto</td>\n",
       "      <td>3</td>\n",
       "    </tr>\n",
       "    <tr>\n",
       "      <th>3</th>\n",
       "      <td>1175717</td>\n",
       "      <td>5305033</td>\n",
       "      <td>3</td>\n",
       "      <td>sedan</td>\n",
       "      <td>auto</td>\n",
       "      <td>5</td>\n",
       "    </tr>\n",
       "    <tr>\n",
       "      <th>4</th>\n",
       "      <td>1175722</td>\n",
       "      <td>5305034</td>\n",
       "      <td>2</td>\n",
       "      <td>sedan</td>\n",
       "      <td>auto</td>\n",
       "      <td>5</td>\n",
       "    </tr>\n",
       "  </tbody>\n",
       "</table>\n",
       "</div>"
      ],
      "text/plain": [
       "        id  case_id  party_number vehicle_type vehicle_transmission  \\\n",
       "0  1175713  5305032             2        sedan               manual   \n",
       "1        1  3858022             1        sedan                 auto   \n",
       "2  1175712  5305030             1        sedan                 auto   \n",
       "3  1175717  5305033             3        sedan                 auto   \n",
       "4  1175722  5305034             2        sedan                 auto   \n",
       "\n",
       "   vehicle_age  \n",
       "0            3  \n",
       "1            3  \n",
       "2            3  \n",
       "3            5  \n",
       "4            5  "
      ]
     },
     "execution_count": 7,
     "metadata": {},
     "output_type": "execute_result"
    }
   ],
   "source": [
    "query = '''\n",
    "SELECT *\n",
    "FROM vehicles\n",
    "LIMIT 10;\n",
    "'''\n",
    "\n",
    "sample_vehicles = pd.read_sql_query(query, con=engine) \n",
    "sample_vehicles.head()"
   ]
  },
  {
   "cell_type": "code",
   "execution_count": 8,
   "id": "dc3f5922",
   "metadata": {},
   "outputs": [
    {
     "data": {
      "text/html": [
       "<div>\n",
       "<style scoped>\n",
       "    .dataframe tbody tr th:only-of-type {\n",
       "        vertical-align: middle;\n",
       "    }\n",
       "\n",
       "    .dataframe tbody tr th {\n",
       "        vertical-align: top;\n",
       "    }\n",
       "\n",
       "    .dataframe thead th {\n",
       "        text-align: right;\n",
       "    }\n",
       "</style>\n",
       "<table border=\"1\" class=\"dataframe\">\n",
       "  <thead>\n",
       "    <tr style=\"text-align: right;\">\n",
       "      <th></th>\n",
       "      <th>id</th>\n",
       "      <th>case_id</th>\n",
       "      <th>party_number</th>\n",
       "      <th>party_type</th>\n",
       "      <th>at_fault</th>\n",
       "      <th>insurance_premium</th>\n",
       "      <th>party_sobriety</th>\n",
       "      <th>party_drug_physical</th>\n",
       "      <th>cellphone_in_use</th>\n",
       "    </tr>\n",
       "  </thead>\n",
       "  <tbody>\n",
       "    <tr>\n",
       "      <th>0</th>\n",
       "      <td>22</td>\n",
       "      <td>3899454</td>\n",
       "      <td>1</td>\n",
       "      <td>road signs</td>\n",
       "      <td>1</td>\n",
       "      <td>29.0</td>\n",
       "      <td>had not been drinking</td>\n",
       "      <td>None</td>\n",
       "      <td>0.0</td>\n",
       "    </tr>\n",
       "    <tr>\n",
       "      <th>1</th>\n",
       "      <td>23</td>\n",
       "      <td>3899454</td>\n",
       "      <td>2</td>\n",
       "      <td>road signs</td>\n",
       "      <td>0</td>\n",
       "      <td>7.0</td>\n",
       "      <td>had not been drinking</td>\n",
       "      <td>None</td>\n",
       "      <td>0.0</td>\n",
       "    </tr>\n",
       "    <tr>\n",
       "      <th>2</th>\n",
       "      <td>29</td>\n",
       "      <td>3899462</td>\n",
       "      <td>2</td>\n",
       "      <td>car</td>\n",
       "      <td>0</td>\n",
       "      <td>21.0</td>\n",
       "      <td>had not been drinking</td>\n",
       "      <td>None</td>\n",
       "      <td>0.0</td>\n",
       "    </tr>\n",
       "    <tr>\n",
       "      <th>3</th>\n",
       "      <td>31</td>\n",
       "      <td>3899465</td>\n",
       "      <td>2</td>\n",
       "      <td>road signs</td>\n",
       "      <td>0</td>\n",
       "      <td>24.0</td>\n",
       "      <td>had not been drinking</td>\n",
       "      <td>None</td>\n",
       "      <td>0.0</td>\n",
       "    </tr>\n",
       "    <tr>\n",
       "      <th>4</th>\n",
       "      <td>41</td>\n",
       "      <td>3899478</td>\n",
       "      <td>2</td>\n",
       "      <td>road bumper</td>\n",
       "      <td>0</td>\n",
       "      <td>NaN</td>\n",
       "      <td>not applicable</td>\n",
       "      <td>not applicable</td>\n",
       "      <td>0.0</td>\n",
       "    </tr>\n",
       "  </tbody>\n",
       "</table>\n",
       "</div>"
      ],
      "text/plain": [
       "   id  case_id  party_number   party_type  at_fault  insurance_premium  \\\n",
       "0  22  3899454             1   road signs         1               29.0   \n",
       "1  23  3899454             2   road signs         0                7.0   \n",
       "2  29  3899462             2          car         0               21.0   \n",
       "3  31  3899465             2   road signs         0               24.0   \n",
       "4  41  3899478             2  road bumper         0                NaN   \n",
       "\n",
       "          party_sobriety party_drug_physical  cellphone_in_use  \n",
       "0  had not been drinking                None               0.0  \n",
       "1  had not been drinking                None               0.0  \n",
       "2  had not been drinking                None               0.0  \n",
       "3  had not been drinking                None               0.0  \n",
       "4         not applicable      not applicable               0.0  "
      ]
     },
     "execution_count": 8,
     "metadata": {},
     "output_type": "execute_result"
    }
   ],
   "source": [
    "query = '''\n",
    "SELECT *\n",
    "FROM parties\n",
    "LIMIT 10;\n",
    "'''\n",
    "\n",
    "sample_parties = pd.read_sql_query(query, con=engine) \n",
    "sample_parties.head()"
   ]
  },
  {
   "cell_type": "markdown",
   "id": "0e52be60",
   "metadata": {},
   "source": [
    "**Вывод:**\n",
    "\n",
    "* Все таблицы имеются с наборами данных\n",
    "* Количество таблиц соответствует документации\n",
    "* Имеется общий ключ для связи"
   ]
  },
  {
   "cell_type": "markdown",
   "id": "30c41492",
   "metadata": {},
   "source": [
    "# Шаг 3. Провести статистический анализ факторов ДТП"
   ]
  },
  {
   "cell_type": "markdown",
   "id": "e79a7065",
   "metadata": {},
   "source": [
    "Посмотирм, в какие месяцы происходит большее число аварий"
   ]
  },
  {
   "cell_type": "code",
   "execution_count": 9,
   "id": "6e3a066c",
   "metadata": {
    "scrolled": true
   },
   "outputs": [
    {
     "data": {
      "text/html": [
       "<div>\n",
       "<style scoped>\n",
       "    .dataframe tbody tr th:only-of-type {\n",
       "        vertical-align: middle;\n",
       "    }\n",
       "\n",
       "    .dataframe tbody tr th {\n",
       "        vertical-align: top;\n",
       "    }\n",
       "\n",
       "    .dataframe thead th {\n",
       "        text-align: right;\n",
       "    }\n",
       "</style>\n",
       "<table border=\"1\" class=\"dataframe\">\n",
       "  <thead>\n",
       "    <tr style=\"text-align: right;\">\n",
       "      <th></th>\n",
       "      <th>month_date</th>\n",
       "      <th>total_collisions</th>\n",
       "    </tr>\n",
       "  </thead>\n",
       "  <tbody>\n",
       "    <tr>\n",
       "      <th>0</th>\n",
       "      <td>3.0</td>\n",
       "      <td>273860</td>\n",
       "    </tr>\n",
       "    <tr>\n",
       "      <th>1</th>\n",
       "      <td>1.0</td>\n",
       "      <td>258219</td>\n",
       "    </tr>\n",
       "    <tr>\n",
       "      <th>2</th>\n",
       "      <td>5.0</td>\n",
       "      <td>255867</td>\n",
       "    </tr>\n",
       "    <tr>\n",
       "      <th>3</th>\n",
       "      <td>4.0</td>\n",
       "      <td>255715</td>\n",
       "    </tr>\n",
       "    <tr>\n",
       "      <th>4</th>\n",
       "      <td>2.0</td>\n",
       "      <td>252178</td>\n",
       "    </tr>\n",
       "    <tr>\n",
       "      <th>5</th>\n",
       "      <td>10.0</td>\n",
       "      <td>221117</td>\n",
       "    </tr>\n",
       "    <tr>\n",
       "      <th>6</th>\n",
       "      <td>12.0</td>\n",
       "      <td>211544</td>\n",
       "    </tr>\n",
       "    <tr>\n",
       "      <th>7</th>\n",
       "      <td>9.0</td>\n",
       "      <td>208881</td>\n",
       "    </tr>\n",
       "    <tr>\n",
       "      <th>8</th>\n",
       "      <td>11.0</td>\n",
       "      <td>207271</td>\n",
       "    </tr>\n",
       "    <tr>\n",
       "      <th>9</th>\n",
       "      <td>8.0</td>\n",
       "      <td>205127</td>\n",
       "    </tr>\n",
       "    <tr>\n",
       "      <th>10</th>\n",
       "      <td>6.0</td>\n",
       "      <td>201518</td>\n",
       "    </tr>\n",
       "    <tr>\n",
       "      <th>11</th>\n",
       "      <td>7.0</td>\n",
       "      <td>201111</td>\n",
       "    </tr>\n",
       "  </tbody>\n",
       "</table>\n",
       "</div>"
      ],
      "text/plain": [
       "    month_date  total_collisions\n",
       "0          3.0            273860\n",
       "1          1.0            258219\n",
       "2          5.0            255867\n",
       "3          4.0            255715\n",
       "4          2.0            252178\n",
       "5         10.0            221117\n",
       "6         12.0            211544\n",
       "7          9.0            208881\n",
       "8         11.0            207271\n",
       "9          8.0            205127\n",
       "10         6.0            201518\n",
       "11         7.0            201111"
      ]
     },
     "execution_count": 9,
     "metadata": {},
     "output_type": "execute_result"
    }
   ],
   "source": [
    "query = '''\n",
    "SELECT DISTINCT EXTRACT(month FROM collision_date) month_date,\n",
    "        COUNT(p.case_id) AS total_collisions\n",
    "FROM parties AS p JOIN collisions AS c ON c.case_id = p.case_id\n",
    "GROUP BY month_date\n",
    "ORDER BY total_collisions DESC\n",
    "'''\n",
    "\n",
    "count_collisions = pd.read_sql_query(query, con=engine)\n",
    "count_collisions"
   ]
  },
  {
   "cell_type": "code",
   "execution_count": 10,
   "id": "039f9dfc",
   "metadata": {},
   "outputs": [
    {
     "data": {
      "image/png": "[encoded data removed]",
      "text/plain": [
       "<Figure size 432x288 with 1 Axes>"
      ]
     },
     "metadata": {
      "needs_background": "light"
     },
     "output_type": "display_data"
    }
   ],
   "source": [
    "sns.barplot(data = count_collisions, x = 'month_date', y = 'total_collisions')\n",
    "plt.title('Количество аварий за месяц')\n",
    "plt.xticks(rotation=40)\n",
    "plt.xlabel('Месяцы')\n",
    "plt.ylabel('Количество аварий')\n",
    "plt.show()"
   ]
  },
  {
   "cell_type": "markdown",
   "id": "4013fcc0",
   "metadata": {},
   "source": [
    "Большинство аварий приходится на март месяц."
   ]
  },
  {
   "cell_type": "code",
   "execution_count": 11,
   "id": "e4d1bd76",
   "metadata": {},
   "outputs": [],
   "source": [
    "query = '''\n",
    "\n",
    "SELECT DISTINCT EXTRACT(YEAR FROM collision_date::date) AS month\n",
    "FROM collisions\n",
    "\n",
    "'''"
   ]
  },
  {
   "cell_type": "code",
   "execution_count": 12,
   "id": "279cedba",
   "metadata": {},
   "outputs": [],
   "source": [
    "years = [2009, 2010, 2011, 2012, 2013, 2020]"
   ]
  },
  {
   "cell_type": "code",
   "execution_count": 13,
   "id": "2a526a23",
   "metadata": {},
   "outputs": [],
   "source": [
    "def run_query(query_):\n",
    "    return pd.read_sql_query(query_, con=engine) "
   ]
  },
  {
   "cell_type": "code",
   "execution_count": 14,
   "id": "a411fada",
   "metadata": {},
   "outputs": [],
   "source": [
    "def num_to_month_name(row):\n",
    "    return calendar.month_name[int(row)]"
   ]
  },
  {
   "cell_type": "code",
   "execution_count": 15,
   "id": "bb9bb3b2",
   "metadata": {},
   "outputs": [
    {
     "data": {
      "image/png": "[encoded data removed]",
      "text/plain": [
       "<Figure size 864x432 with 1 Axes>"
      ]
     },
     "metadata": {
      "needs_background": "light"
     },
     "output_type": "display_data"
    },
    {
     "data": {
      "image/png": "[encoded data removed]",
      "text/plain": [
       "<Figure size 864x432 with 1 Axes>"
      ]
     },
     "metadata": {
      "needs_background": "light"
     },
     "output_type": "display_data"
    },
    {
     "data": {
      "image/png": "[encoded data removed]",
      "text/plain": [
       "<Figure size 864x432 with 1 Axes>"
      ]
     },
     "metadata": {
      "needs_background": "light"
     },
     "output_type": "display_data"
    },
    {
     "data": {
      "image/png": "[encoded data removed]",
      "text/plain": [
       "<Figure size 864x432 with 1 Axes>"
      ]
     },
     "metadata": {
      "needs_background": "light"
     },
     "output_type": "display_data"
    },
    {
     "data": {
      "image/png": "[encoded data removed]",
      "text/plain": [
       "<Figure size 864x432 with 1 Axes>"
      ]
     },
     "metadata": {
      "needs_background": "light"
     },
     "output_type": "display_data"
    },
    {
     "data": {
      "image/png": "[encoded data removed]",
      "text/plain": [
       "<Figure size 864x432 with 1 Axes>"
      ]
     },
     "metadata": {
      "needs_background": "light"
     },
     "output_type": "display_data"
    }
   ],
   "source": [
    "for year in years:\n",
    "    total_dtp_by_month =  run_query(\"\"\"SELECT DISTINCT EXTRACT(MONTH FROM collision_date::date) AS month, COUNT(DISTINCT case_id) AS total_collisions\n",
    "FROM collisions \n",
    "WHERE EXTRACT(YEAR FROM collision_date::date) = {}\n",
    "\n",
    "GROUP BY EXTRACT(MONTH FROM collision_date::date)\n",
    "\n",
    "\"\"\".format(year))\n",
    "    total_dtp_by_month['month']= total_dtp_by_month['month'].apply(num_to_month_name)\n",
    "    # Создание графика\n",
    "    plt.figure(figsize=(12, 6))\n",
    "    sns.barplot(x='month', y='total_collisions', data=total_dtp_by_month, color='#40a368')\n",
    "\n",
    "    # Добавление заголовка и меток осей\n",
    "    plt.title('Количество ДТП по месяцам в {}'.format(year))\n",
    "    plt.xlabel('Месяц')\n",
    "    plt.ylabel('Количество ДТП')\n",
    "\n",
    "    # Отображение графика\n",
    "    plt.show()"
   ]
  },
  {
   "cell_type": "code",
   "execution_count": 16,
   "id": "ef662d26",
   "metadata": {
    "scrolled": true
   },
   "outputs": [],
   "source": [
    "#query = '''\n",
    "#SELECT DISTINCT EXTRACT(year FROM collision_date) year_date,\n",
    "#        COUNT(case_id) AS total_collisions\n",
    "#FROM collisions\n",
    "#GROUP BY year_date\n",
    "#ORDER BY total_collisions DESC\n",
    "#'''\n",
    "\n",
    "#query = '''\n",
    "#SELECT\n",
    "#  YEAR(collision_date) AS year_date,\n",
    "#  MONTH(collision_date) AS month_date,\n",
    "#  COUNT(case_id) AS total_collisions\n",
    "#FROM\n",
    "#  collisions\n",
    "#GROUP BY\n",
    "#  YEAR(year_date),\n",
    "#  MONTH(month_date)\n",
    "#ORDER BY\n",
    "#  YEAR(year_date),\n",
    "#  MONTH(month_date); \n",
    "#\n",
    "#'''\n",
    "#count_collisions_year_month = pd.read_sql_query(query, con=engine)\n",
    "#count_collisions_year_month"
   ]
  },
  {
   "cell_type": "markdown",
   "id": "b398adae",
   "metadata": {},
   "source": [
    "* Наибольшее число аварий в 2009 году - в марте, мае и октябре.\n",
    "* Наибольшее число аварий в 2010 году - в марте, октябре и декабре\n",
    "* Наибольшее число аварий в 2011 году - в марте и октябре\n",
    "* Наибольшее число аварий в 2012 году - в марте, однако здесь недостаточное число данных.\n",
    "* В 2013 году также недостаточное количество данных.\n",
    "* В 2020 году также недостаточное количество данных."
   ]
  },
  {
   "cell_type": "markdown",
   "id": "975a5244",
   "metadata": {},
   "source": [
    "Теперь проведём анализ повреждений на момент ДТП"
   ]
  },
  {
   "cell_type": "code",
   "execution_count": 17,
   "id": "9d27d8b9",
   "metadata": {
    "scrolled": true
   },
   "outputs": [
    {
     "data": {
      "text/html": [
       "<div>\n",
       "<style scoped>\n",
       "    .dataframe tbody tr th:only-of-type {\n",
       "        vertical-align: middle;\n",
       "    }\n",
       "\n",
       "    .dataframe tbody tr th {\n",
       "        vertical-align: top;\n",
       "    }\n",
       "\n",
       "    .dataframe thead th {\n",
       "        text-align: right;\n",
       "    }\n",
       "</style>\n",
       "<table border=\"1\" class=\"dataframe\">\n",
       "  <thead>\n",
       "    <tr style=\"text-align: right;\">\n",
       "      <th></th>\n",
       "      <th>road_surface</th>\n",
       "      <th>count_collision_damage</th>\n",
       "    </tr>\n",
       "  </thead>\n",
       "  <tbody>\n",
       "    <tr>\n",
       "      <th>0</th>\n",
       "      <td>wet</td>\n",
       "      <td>245309</td>\n",
       "    </tr>\n",
       "    <tr>\n",
       "      <th>1</th>\n",
       "      <td>slippery</td>\n",
       "      <td>2233</td>\n",
       "    </tr>\n",
       "    <tr>\n",
       "      <th>2</th>\n",
       "      <td>snowy</td>\n",
       "      <td>11040</td>\n",
       "    </tr>\n",
       "    <tr>\n",
       "      <th>3</th>\n",
       "      <td>None</td>\n",
       "      <td>25787</td>\n",
       "    </tr>\n",
       "    <tr>\n",
       "      <th>4</th>\n",
       "      <td>dry</td>\n",
       "      <td>2468039</td>\n",
       "    </tr>\n",
       "  </tbody>\n",
       "</table>\n",
       "</div>"
      ],
      "text/plain": [
       "  road_surface  count_collision_damage\n",
       "0          wet                  245309\n",
       "1     slippery                    2233\n",
       "2        snowy                   11040\n",
       "3         None                   25787\n",
       "4          dry                 2468039"
      ]
     },
     "execution_count": 17,
     "metadata": {},
     "output_type": "execute_result"
    }
   ],
   "source": [
    "query = '''\n",
    "SELECT DISTINCT road_surface,\n",
    "        COUNT(collision_damage) OVER (PARTITION BY road_surface) AS count_collision_damage\n",
    "        FROM parties AS p JOIN collisions AS c ON c.case_id = p.case_id\n",
    "'''\n",
    "\n",
    "damage_collisions = pd.read_sql_query(query, con=engine)\n",
    "damage_collisions"
   ]
  },
  {
   "cell_type": "code",
   "execution_count": 18,
   "id": "13d33879",
   "metadata": {},
   "outputs": [
    {
     "data": {
      "image/png": "[encoded data removed]",
      "text/plain": [
       "<Figure size 432x288 with 1 Axes>"
      ]
     },
     "metadata": {
      "needs_background": "light"
     },
     "output_type": "display_data"
    }
   ],
   "source": [
    "sns.barplot(data = damage_collisions, x = 'road_surface', y = 'count_collision_damage')\n",
    "plt.title('Количество повреждений транспорта исходя из погоды')\n",
    "plt.xticks(rotation=40)\n",
    "plt.xlabel('Количество повреждений')\n",
    "plt.ylabel('Состояние дороги')\n",
    "plt.show()"
   ]
  },
  {
   "cell_type": "markdown",
   "id": "c33ba0d4",
   "metadata": {},
   "source": [
    "Большинство аварий происходит, когда дорожное покрытие сухое, хотя и бывают случаи, когда дорога во время аварии была мокрой.\n",
    "\n",
    "Проведём анализ серьёзности повреждений транспортного средства исходя из состояния самой дороги."
   ]
  },
  {
   "cell_type": "code",
   "execution_count": 19,
   "id": "cdd11e36",
   "metadata": {},
   "outputs": [
    {
     "data": {
      "text/html": [
       "<div>\n",
       "<style scoped>\n",
       "    .dataframe tbody tr th:only-of-type {\n",
       "        vertical-align: middle;\n",
       "    }\n",
       "\n",
       "    .dataframe tbody tr th {\n",
       "        vertical-align: top;\n",
       "    }\n",
       "\n",
       "    .dataframe thead th {\n",
       "        text-align: right;\n",
       "    }\n",
       "</style>\n",
       "<table border=\"1\" class=\"dataframe\">\n",
       "  <thead>\n",
       "    <tr style=\"text-align: right;\">\n",
       "      <th></th>\n",
       "      <th>road_condition_1</th>\n",
       "      <th>count_road_condition</th>\n",
       "    </tr>\n",
       "  </thead>\n",
       "  <tbody>\n",
       "    <tr>\n",
       "      <th>0</th>\n",
       "      <td>construction</td>\n",
       "      <td>39846</td>\n",
       "    </tr>\n",
       "    <tr>\n",
       "      <th>1</th>\n",
       "      <td>holes</td>\n",
       "      <td>10274</td>\n",
       "    </tr>\n",
       "    <tr>\n",
       "      <th>2</th>\n",
       "      <td>other</td>\n",
       "      <td>9914</td>\n",
       "    </tr>\n",
       "    <tr>\n",
       "      <th>3</th>\n",
       "      <td>obstruction</td>\n",
       "      <td>9050</td>\n",
       "    </tr>\n",
       "    <tr>\n",
       "      <th>4</th>\n",
       "      <td>loose material</td>\n",
       "      <td>4115</td>\n",
       "    </tr>\n",
       "    <tr>\n",
       "      <th>5</th>\n",
       "      <td>reduced width</td>\n",
       "      <td>2884</td>\n",
       "    </tr>\n",
       "    <tr>\n",
       "      <th>6</th>\n",
       "      <td>flooded</td>\n",
       "      <td>1717</td>\n",
       "    </tr>\n",
       "  </tbody>\n",
       "</table>\n",
       "</div>"
      ],
      "text/plain": [
       "  road_condition_1  count_road_condition\n",
       "0     construction                 39846\n",
       "1            holes                 10274\n",
       "2            other                  9914\n",
       "3      obstruction                  9050\n",
       "4   loose material                  4115\n",
       "5    reduced width                  2884\n",
       "6          flooded                  1717"
      ]
     },
     "execution_count": 19,
     "metadata": {},
     "output_type": "execute_result"
    }
   ],
   "source": [
    "query = '''\n",
    "SELECT DISTINCT road_condition_1,\n",
    "        COUNT(collision_damage) OVER (PARTITION BY road_condition_1) AS count_road_condition\n",
    "        FROM parties AS p JOIN collisions AS c ON c.case_id = p.case_id\n",
    "WHERE road_condition_1 != 'normal'\n",
    "ORDER BY count_road_condition DESC\n",
    "'''\n",
    "\n",
    "road_condition = pd.read_sql_query(query, con=engine)\n",
    "road_condition\n"
   ]
  },
  {
   "cell_type": "code",
   "execution_count": 20,
   "id": "d6803573",
   "metadata": {},
   "outputs": [
    {
     "data": {
      "image/png": "[encoded data removed]",
      "text/plain": [
       "<Figure size 432x288 with 1 Axes>"
      ]
     },
     "metadata": {
      "needs_background": "light"
     },
     "output_type": "display_data"
    }
   ],
   "source": [
    "sns.barplot(data = road_condition, x = 'road_condition_1', y = 'count_road_condition')\n",
    "plt.title('Количество повреждений транспорта исходя из состояния дороги')\n",
    "plt.xticks(rotation=40)\n",
    "plt.xlabel('Количество повреждений')\n",
    "plt.ylabel('Состояние дороги')\n",
    "plt.show()"
   ]
  },
  {
   "cell_type": "markdown",
   "id": "9464c2a2",
   "metadata": {},
   "source": [
    "Большинство аварий случается на дорогах без повреждений. Но строительство дорожного полотна увеличевает риск ДТП.\n",
    "\n",
    "Рассмотрим частые причины ДТП."
   ]
  },
  {
   "cell_type": "code",
   "execution_count": 21,
   "id": "75c156db",
   "metadata": {},
   "outputs": [
    {
     "data": {
      "text/html": [
       "<div>\n",
       "<style scoped>\n",
       "    .dataframe tbody tr th:only-of-type {\n",
       "        vertical-align: middle;\n",
       "    }\n",
       "\n",
       "    .dataframe tbody tr th {\n",
       "        vertical-align: top;\n",
       "    }\n",
       "\n",
       "    .dataframe thead th {\n",
       "        text-align: right;\n",
       "    }\n",
       "</style>\n",
       "<table border=\"1\" class=\"dataframe\">\n",
       "  <thead>\n",
       "    <tr style=\"text-align: right;\">\n",
       "      <th></th>\n",
       "      <th>primary_collision_factor</th>\n",
       "      <th>count_collision_factor</th>\n",
       "    </tr>\n",
       "  </thead>\n",
       "  <tbody>\n",
       "    <tr>\n",
       "      <th>0</th>\n",
       "      <td>vehicle code violation</td>\n",
       "      <td>2609347</td>\n",
       "    </tr>\n",
       "    <tr>\n",
       "      <th>1</th>\n",
       "      <td>other than driver</td>\n",
       "      <td>40885</td>\n",
       "    </tr>\n",
       "    <tr>\n",
       "      <th>2</th>\n",
       "      <td>other improper driving</td>\n",
       "      <td>15056</td>\n",
       "    </tr>\n",
       "    <tr>\n",
       "      <th>3</th>\n",
       "      <td>fell asleep</td>\n",
       "      <td>188</td>\n",
       "    </tr>\n",
       "  </tbody>\n",
       "</table>\n",
       "</div>"
      ],
      "text/plain": [
       "  primary_collision_factor  count_collision_factor\n",
       "0   vehicle code violation                 2609347\n",
       "1        other than driver                   40885\n",
       "2   other improper driving                   15056\n",
       "3              fell asleep                     188"
      ]
     },
     "execution_count": 21,
     "metadata": {},
     "output_type": "execute_result"
    }
   ],
   "source": [
    "query = '''\n",
    "SELECT DISTINCT primary_collision_factor,\n",
    "        COUNT(primary_collision_factor) AS count_collision_factor\n",
    "FROM parties AS p JOIN collisions AS c ON c.case_id = p.case_id\n",
    "WHERE primary_collision_factor != 'unknown'\n",
    "GROUP BY primary_collision_factor\n",
    "ORDER BY count_collision_factor DESC\n",
    "'''\n",
    "\n",
    "collision_reasons = pd.read_sql_query(query, con=engine)\n",
    "collision_reasons"
   ]
  },
  {
   "cell_type": "code",
   "execution_count": 22,
   "id": "444ac9e1",
   "metadata": {},
   "outputs": [
    {
     "data": {
      "image/png": "[encoded data removed]",
      "text/plain": [
       "<Figure size 432x288 with 1 Axes>"
      ]
     },
     "metadata": {
      "needs_background": "light"
     },
     "output_type": "display_data"
    }
   ],
   "source": [
    "sns.barplot(data = collision_reasons, x = 'primary_collision_factor', y = 'count_collision_factor')\n",
    "plt.title('Причины аварий')\n",
    "plt.xticks(rotation=40)\n",
    "plt.xlabel('Название аварии')\n",
    "plt.ylabel('Количество аварий')\n",
    "plt.show()"
   ]
  },
  {
   "cell_type": "markdown",
   "id": "c50f5dc1",
   "metadata": {},
   "source": [
    "Самым частым нарушением аврий является нарушение ПДД.\n",
    "\n",
    "Найдём самые частые нарушения."
   ]
  },
  {
   "cell_type": "code",
   "execution_count": 23,
   "id": "4163f8da",
   "metadata": {},
   "outputs": [
    {
     "data": {
      "text/html": [
       "<div>\n",
       "<style scoped>\n",
       "    .dataframe tbody tr th:only-of-type {\n",
       "        vertical-align: middle;\n",
       "    }\n",
       "\n",
       "    .dataframe tbody tr th {\n",
       "        vertical-align: top;\n",
       "    }\n",
       "\n",
       "    .dataframe thead th {\n",
       "        text-align: right;\n",
       "    }\n",
       "</style>\n",
       "<table border=\"1\" class=\"dataframe\">\n",
       "  <thead>\n",
       "    <tr style=\"text-align: right;\">\n",
       "      <th></th>\n",
       "      <th>pcf_violation_category</th>\n",
       "      <th>count_pcf_violation_category</th>\n",
       "    </tr>\n",
       "  </thead>\n",
       "  <tbody>\n",
       "    <tr>\n",
       "      <th>0</th>\n",
       "      <td>speeding</td>\n",
       "      <td>941929</td>\n",
       "    </tr>\n",
       "    <tr>\n",
       "      <th>1</th>\n",
       "      <td>improper turning</td>\n",
       "      <td>385284</td>\n",
       "    </tr>\n",
       "    <tr>\n",
       "      <th>2</th>\n",
       "      <td>automobile right of way</td>\n",
       "      <td>328107</td>\n",
       "    </tr>\n",
       "    <tr>\n",
       "      <th>3</th>\n",
       "      <td>unsafe lane change</td>\n",
       "      <td>199213</td>\n",
       "    </tr>\n",
       "    <tr>\n",
       "      <th>4</th>\n",
       "      <td>dui</td>\n",
       "      <td>189849</td>\n",
       "    </tr>\n",
       "  </tbody>\n",
       "</table>\n",
       "</div>"
      ],
      "text/plain": [
       "    pcf_violation_category  count_pcf_violation_category\n",
       "0                 speeding                        941929\n",
       "1         improper turning                        385284\n",
       "2  automobile right of way                        328107\n",
       "3       unsafe lane change                        199213\n",
       "4                      dui                        189849"
      ]
     },
     "execution_count": 23,
     "metadata": {},
     "output_type": "execute_result"
    }
   ],
   "source": [
    "query = '''\n",
    "SELECT DISTINCT pcf_violation_category,\n",
    "        COUNT(pcf_violation_category) AS count_pcf_violation_category\n",
    "FROM parties AS p JOIN collisions AS c ON c.case_id = p.case_id\n",
    "GROUP BY pcf_violation_category\n",
    "ORDER BY count_pcf_violation_category DESC\n",
    "LIMIT 5\n",
    "'''\n",
    "\n",
    "violation_category = pd.read_sql_query(query, con=engine)\n",
    "violation_category"
   ]
  },
  {
   "cell_type": "code",
   "execution_count": 24,
   "id": "89e031a8",
   "metadata": {},
   "outputs": [
    {
     "data": {
      "image/png": "[encoded data removed]",
      "text/plain": [
       "<Figure size 432x288 with 1 Axes>"
      ]
     },
     "metadata": {
      "needs_background": "light"
     },
     "output_type": "display_data"
    }
   ],
   "source": [
    "sns.barplot(data = violation_category, x = 'pcf_violation_category', y = 'count_pcf_violation_category')\n",
    "plt.title('Категория аварий, произошедшие из-за нарушений')\n",
    "plt.xticks(rotation=40)\n",
    "plt.xlabel('Название категории нарушения')\n",
    "plt.ylabel('Количество нарушений')\n",
    "plt.show()"
   ]
  },
  {
   "cell_type": "markdown",
   "id": "852187ed",
   "metadata": {},
   "source": [
    "Самая частая причина нарушений - превышение скорости. На втором же месте находится неправильный поворот водителя на дороге.\n",
    "\n",
    "Рассмотрим влияние погоды на аварийность на дорогах."
   ]
  },
  {
   "cell_type": "code",
   "execution_count": 25,
   "id": "7e1f2d4f",
   "metadata": {},
   "outputs": [
    {
     "data": {
      "text/html": [
       "<div>\n",
       "<style scoped>\n",
       "    .dataframe tbody tr th:only-of-type {\n",
       "        vertical-align: middle;\n",
       "    }\n",
       "\n",
       "    .dataframe tbody tr th {\n",
       "        vertical-align: top;\n",
       "    }\n",
       "\n",
       "    .dataframe thead th {\n",
       "        text-align: right;\n",
       "    }\n",
       "</style>\n",
       "<table border=\"1\" class=\"dataframe\">\n",
       "  <thead>\n",
       "    <tr style=\"text-align: right;\">\n",
       "      <th></th>\n",
       "      <th>weather_1</th>\n",
       "      <th>count_collisions</th>\n",
       "    </tr>\n",
       "  </thead>\n",
       "  <tbody>\n",
       "    <tr>\n",
       "      <th>0</th>\n",
       "      <td>clear</td>\n",
       "      <td>2228413</td>\n",
       "    </tr>\n",
       "    <tr>\n",
       "      <th>1</th>\n",
       "      <td>cloudy</td>\n",
       "      <td>385479</td>\n",
       "    </tr>\n",
       "    <tr>\n",
       "      <th>2</th>\n",
       "      <td>raining</td>\n",
       "      <td>105861</td>\n",
       "    </tr>\n",
       "    <tr>\n",
       "      <th>3</th>\n",
       "      <td>None</td>\n",
       "      <td>14090</td>\n",
       "    </tr>\n",
       "    <tr>\n",
       "      <th>4</th>\n",
       "      <td>fog</td>\n",
       "      <td>10779</td>\n",
       "    </tr>\n",
       "    <tr>\n",
       "      <th>5</th>\n",
       "      <td>snowing</td>\n",
       "      <td>4341</td>\n",
       "    </tr>\n",
       "    <tr>\n",
       "      <th>6</th>\n",
       "      <td>other</td>\n",
       "      <td>2646</td>\n",
       "    </tr>\n",
       "    <tr>\n",
       "      <th>7</th>\n",
       "      <td>wind</td>\n",
       "      <td>799</td>\n",
       "    </tr>\n",
       "  </tbody>\n",
       "</table>\n",
       "</div>"
      ],
      "text/plain": [
       "  weather_1  count_collisions\n",
       "0     clear           2228413\n",
       "1    cloudy            385479\n",
       "2   raining            105861\n",
       "3      None             14090\n",
       "4       fog             10779\n",
       "5   snowing              4341\n",
       "6     other              2646\n",
       "7      wind               799"
      ]
     },
     "execution_count": 25,
     "metadata": {},
     "output_type": "execute_result"
    }
   ],
   "source": [
    "query = '''\n",
    "SELECT DISTINCT weather_1,\n",
    "        COUNT(p.case_id) AS count_collisions\n",
    "FROM parties AS p JOIN collisions AS c ON c.case_id = p.case_id\n",
    "GROUP BY weather_1\n",
    "ORDER BY count_collisions DESC\n",
    "'''\n",
    "\n",
    "weather_damage = pd.read_sql_query(query, con=engine)\n",
    "weather_damage"
   ]
  },
  {
   "cell_type": "code",
   "execution_count": 26,
   "id": "710f1eeb",
   "metadata": {},
   "outputs": [
    {
     "data": {
      "image/png": "[encoded data removed]",
      "text/plain": [
       "<Figure size 432x288 with 1 Axes>"
      ]
     },
     "metadata": {
      "needs_background": "light"
     },
     "output_type": "display_data"
    }
   ],
   "source": [
    "sns.barplot(data = weather_damage, x = 'weather_1', y = 'count_collisions')\n",
    "plt.title('Влияние погодных условий на ДТП')\n",
    "plt.xticks(rotation=40)\n",
    "plt.xlabel('Погода')\n",
    "plt.ylabel('Количество нарушений')\n",
    "plt.show()"
   ]
  },
  {
   "cell_type": "markdown",
   "id": "8e7f4dfe",
   "metadata": {},
   "source": [
    "Как мы видим на графике большинство ДТП случается во время ясной погоды. На втором же месте находится облачная погода.\n",
    "\n",
    "Проверим влияние освещения на вероятность ДТП."
   ]
  },
  {
   "cell_type": "code",
   "execution_count": 27,
   "id": "05727912",
   "metadata": {},
   "outputs": [
    {
     "data": {
      "text/html": [
       "<div>\n",
       "<style scoped>\n",
       "    .dataframe tbody tr th:only-of-type {\n",
       "        vertical-align: middle;\n",
       "    }\n",
       "\n",
       "    .dataframe tbody tr th {\n",
       "        vertical-align: top;\n",
       "    }\n",
       "\n",
       "    .dataframe thead th {\n",
       "        text-align: right;\n",
       "    }\n",
       "</style>\n",
       "<table border=\"1\" class=\"dataframe\">\n",
       "  <thead>\n",
       "    <tr style=\"text-align: right;\">\n",
       "      <th></th>\n",
       "      <th>lighting</th>\n",
       "      <th>count_collisions</th>\n",
       "    </tr>\n",
       "  </thead>\n",
       "  <tbody>\n",
       "    <tr>\n",
       "      <th>0</th>\n",
       "      <td>daylight</td>\n",
       "      <td>1904164</td>\n",
       "    </tr>\n",
       "    <tr>\n",
       "      <th>1</th>\n",
       "      <td>dark with street lights</td>\n",
       "      <td>561869</td>\n",
       "    </tr>\n",
       "    <tr>\n",
       "      <th>2</th>\n",
       "      <td>dark with no street lights</td>\n",
       "      <td>170775</td>\n",
       "    </tr>\n",
       "    <tr>\n",
       "      <th>3</th>\n",
       "      <td>dusk or dawn</td>\n",
       "      <td>91516</td>\n",
       "    </tr>\n",
       "    <tr>\n",
       "      <th>4</th>\n",
       "      <td>None</td>\n",
       "      <td>16393</td>\n",
       "    </tr>\n",
       "    <tr>\n",
       "      <th>5</th>\n",
       "      <td>dark with street lights not functioning</td>\n",
       "      <td>7691</td>\n",
       "    </tr>\n",
       "  </tbody>\n",
       "</table>\n",
       "</div>"
      ],
      "text/plain": [
       "                                  lighting  count_collisions\n",
       "0                                 daylight           1904164\n",
       "1                  dark with street lights            561869\n",
       "2               dark with no street lights            170775\n",
       "3                             dusk or dawn             91516\n",
       "4                                     None             16393\n",
       "5  dark with street lights not functioning              7691"
      ]
     },
     "execution_count": 27,
     "metadata": {},
     "output_type": "execute_result"
    }
   ],
   "source": [
    "query = '''\n",
    "SELECT DISTINCT lighting,\n",
    "        COUNT(p.case_id) AS count_collisions\n",
    "FROM parties AS p JOIN collisions AS c ON c.case_id = p.case_id\n",
    "GROUP BY lighting\n",
    "ORDER BY count_collisions DESC\n",
    "'''\n",
    "\n",
    "lighting_damage = pd.read_sql_query(query, con=engine)\n",
    "lighting_damage"
   ]
  },
  {
   "cell_type": "code",
   "execution_count": 28,
   "id": "6815e84a",
   "metadata": {},
   "outputs": [
    {
     "data": {
      "image/png": "[encoded data removed]",
      "text/plain": [
       "<Figure size 432x288 with 1 Axes>"
      ]
     },
     "metadata": {
      "needs_background": "light"
     },
     "output_type": "display_data"
    }
   ],
   "source": [
    "sns.barplot(data = lighting_damage, x = 'lighting', y = 'count_collisions')\n",
    "plt.title('Влияние освещния на дорогах на вероятность ДТП')\n",
    "plt.xticks(rotation=40)\n",
    "plt.xlabel('Освещение')\n",
    "plt.ylabel('Количество нарушений')\n",
    "plt.show()"
   ]
  },
  {
   "cell_type": "markdown",
   "id": "7f934f8b",
   "metadata": {},
   "source": [
    "В основном аварии случаются днём, без освещения. И уже только потом, когда было освещение. Освещение не является главным фактором влияния возниктовения ДТП."
   ]
  },
  {
   "cell_type": "markdown",
   "id": "7f529d78",
   "metadata": {},
   "source": [
    "**Выводы**\n",
    "\n",
    "* Большинство аварий приходится на март месяц.\n",
    "* Большинство аварий происходит, когда дорожное покрытие сухое, хотя и бывают случаи, когда дорога во время аварии была мокрой\n",
    "* Большинство аварий случается на дорогах без повреждений. Но строительство дорожного полотна увеличевает риск ДТП.\n",
    "* Самым частым нарушением аврий является нарушение ПДД.\n",
    "* Самая частая причина нарушений - превышение скорости. На втором же месте находится неправильный поворот водителя на дороге.\n",
    "* Большинство ДТП случается во время ясной погоды. На втором же месте находится облачная погода.\n",
    "* В основном аварии случаются днём, без освещения. И уже только потом, когда было освещение. Освещение не является главным фактором влияния возниктовения ДТП.\n"
   ]
  },
  {
   "cell_type": "markdown",
   "id": "b1f8879d",
   "metadata": {},
   "source": [
    "# Шаг 4. Создадим модель для оценки водительского риска"
   ]
  },
  {
   "cell_type": "markdown",
   "id": "e486dfe0",
   "metadata": {},
   "source": [
    "* Выбрать тип виновника — только машина (car).\n",
    "* Взять случаи, когда ДТП привело к любым значимым повреждениям автомобиля любого из участников — все, кроме типа SCRATCH (царапина).\n",
    "* Для моделирования взять данные только за 2012 год.\n",
    "* Подготовка исходной таблицы должна проводиться с помощью sql-запроса.\n",
    "* Провести первичный отбор факторов, необходимых для модели.\n",
    "* Изучить описание факторов. Нужно отобрать те, которые могут влиять на вероятность ДТП. "
   ]
  },
  {
   "cell_type": "markdown",
   "id": "2bb8a155",
   "metadata": {},
   "source": [
    "Добавим факторы, которые могут влиять на вероятность ДТП."
   ]
  },
  {
   "cell_type": "code",
   "execution_count": 29,
   "id": "e1c67407",
   "metadata": {},
   "outputs": [],
   "source": [
    "query = '''\n",
    "WITH\n",
    "    p AS (\n",
    "        SELECT DISTINCT case_id,\n",
    "                party_number,\n",
    "                at_fault,\n",
    "                party_type,\n",
    "                party_sobriety,\n",
    "                party_drug_physical,\n",
    "                cellphone_in_use\n",
    "            FROM parties),\n",
    "    c AS (\n",
    "        SELECT DISTINCT case_id,\n",
    "                weather_1,\n",
    "                road_surface,\n",
    "                lighting,\n",
    "                road_condition_1,\n",
    "                collision_date,\n",
    "                collision_damage,\n",
    "                intersection,\n",
    "                control_device\n",
    "            FROM collisions),\n",
    "    v AS (\n",
    "        SELECT DISTINCT case_id,\n",
    "                party_number,\n",
    "                vehicle_age\n",
    "            FROM vehicles),\n",
    "    c_i AS (\n",
    "        SELECT DISTINCT case_id\n",
    "                FROM case_ids)\n",
    "SELECT  p.case_id, p.party_number,         \n",
    "        at_fault,\n",
    "        p.party_sobriety,\n",
    "        p.party_drug_physical,\n",
    "        c.road_surface,\n",
    "        c.lighting,\n",
    "        c.road_condition_1, \n",
    "        v.vehicle_age,\n",
    "        c.intersection,\n",
    "        p.cellphone_in_use,\n",
    "        c.control_device,\n",
    "        c.weather_1\n",
    "FROM c_i\n",
    "JOIN p ON c_i.case_id = p.case_id\n",
    "JOIN c ON c_i.case_id = c.case_id\n",
    "JOIN v ON c_i.case_id = v.case_id\n",
    "WHERE party_type = 'car'\n",
    "    AND collision_date BETWEEN '01-01-2012' AND '01-01-2013'\n",
    "    AND collision_damage != 'scratch'\n",
    "'''\n",
    "df = pd.read_sql_query(query, con=engine)"
   ]
  },
  {
   "cell_type": "code",
   "execution_count": 30,
   "id": "1d669feb",
   "metadata": {
    "scrolled": true
   },
   "outputs": [
    {
     "data": {
      "text/html": [
       "<div>\n",
       "<style scoped>\n",
       "    .dataframe tbody tr th:only-of-type {\n",
       "        vertical-align: middle;\n",
       "    }\n",
       "\n",
       "    .dataframe tbody tr th {\n",
       "        vertical-align: top;\n",
       "    }\n",
       "\n",
       "    .dataframe thead th {\n",
       "        text-align: right;\n",
       "    }\n",
       "</style>\n",
       "<table border=\"1\" class=\"dataframe\">\n",
       "  <thead>\n",
       "    <tr style=\"text-align: right;\">\n",
       "      <th></th>\n",
       "      <th>case_id</th>\n",
       "      <th>party_number</th>\n",
       "      <th>at_fault</th>\n",
       "      <th>party_sobriety</th>\n",
       "      <th>party_drug_physical</th>\n",
       "      <th>road_surface</th>\n",
       "      <th>lighting</th>\n",
       "      <th>road_condition_1</th>\n",
       "      <th>vehicle_age</th>\n",
       "      <th>intersection</th>\n",
       "      <th>cellphone_in_use</th>\n",
       "      <th>control_device</th>\n",
       "      <th>weather_1</th>\n",
       "    </tr>\n",
       "  </thead>\n",
       "  <tbody>\n",
       "    <tr>\n",
       "      <th>0</th>\n",
       "      <td>5125160</td>\n",
       "      <td>1</td>\n",
       "      <td>1</td>\n",
       "      <td>had not been drinking</td>\n",
       "      <td>None</td>\n",
       "      <td>dry</td>\n",
       "      <td>daylight</td>\n",
       "      <td>other</td>\n",
       "      <td>2.0</td>\n",
       "      <td>1.0</td>\n",
       "      <td>0.0</td>\n",
       "      <td>none</td>\n",
       "      <td>cloudy</td>\n",
       "    </tr>\n",
       "    <tr>\n",
       "      <th>1</th>\n",
       "      <td>5125160</td>\n",
       "      <td>2</td>\n",
       "      <td>0</td>\n",
       "      <td>had not been drinking</td>\n",
       "      <td>None</td>\n",
       "      <td>dry</td>\n",
       "      <td>daylight</td>\n",
       "      <td>other</td>\n",
       "      <td>2.0</td>\n",
       "      <td>1.0</td>\n",
       "      <td>0.0</td>\n",
       "      <td>none</td>\n",
       "      <td>cloudy</td>\n",
       "    </tr>\n",
       "    <tr>\n",
       "      <th>2</th>\n",
       "      <td>5173738</td>\n",
       "      <td>1</td>\n",
       "      <td>1</td>\n",
       "      <td>had not been drinking</td>\n",
       "      <td>None</td>\n",
       "      <td>dry</td>\n",
       "      <td>daylight</td>\n",
       "      <td>normal</td>\n",
       "      <td>5.0</td>\n",
       "      <td>1.0</td>\n",
       "      <td>0.0</td>\n",
       "      <td>none</td>\n",
       "      <td>clear</td>\n",
       "    </tr>\n",
       "    <tr>\n",
       "      <th>3</th>\n",
       "      <td>5173738</td>\n",
       "      <td>2</td>\n",
       "      <td>0</td>\n",
       "      <td>had not been drinking</td>\n",
       "      <td>None</td>\n",
       "      <td>dry</td>\n",
       "      <td>daylight</td>\n",
       "      <td>normal</td>\n",
       "      <td>5.0</td>\n",
       "      <td>1.0</td>\n",
       "      <td>0.0</td>\n",
       "      <td>none</td>\n",
       "      <td>clear</td>\n",
       "    </tr>\n",
       "    <tr>\n",
       "      <th>4</th>\n",
       "      <td>5269486</td>\n",
       "      <td>1</td>\n",
       "      <td>0</td>\n",
       "      <td>had not been drinking</td>\n",
       "      <td>None</td>\n",
       "      <td>dry</td>\n",
       "      <td>daylight</td>\n",
       "      <td>normal</td>\n",
       "      <td>1.0</td>\n",
       "      <td>1.0</td>\n",
       "      <td>0.0</td>\n",
       "      <td>functioning</td>\n",
       "      <td>clear</td>\n",
       "    </tr>\n",
       "  </tbody>\n",
       "</table>\n",
       "</div>"
      ],
      "text/plain": [
       "   case_id  party_number  at_fault         party_sobriety party_drug_physical  \\\n",
       "0  5125160             1         1  had not been drinking                None   \n",
       "1  5125160             2         0  had not been drinking                None   \n",
       "2  5173738             1         1  had not been drinking                None   \n",
       "3  5173738             2         0  had not been drinking                None   \n",
       "4  5269486             1         0  had not been drinking                None   \n",
       "\n",
       "  road_surface  lighting road_condition_1  vehicle_age  intersection  \\\n",
       "0          dry  daylight            other          2.0           1.0   \n",
       "1          dry  daylight            other          2.0           1.0   \n",
       "2          dry  daylight           normal          5.0           1.0   \n",
       "3          dry  daylight           normal          5.0           1.0   \n",
       "4          dry  daylight           normal          1.0           1.0   \n",
       "\n",
       "   cellphone_in_use control_device weather_1  \n",
       "0               0.0           none    cloudy  \n",
       "1               0.0           none    cloudy  \n",
       "2               0.0           none     clear  \n",
       "3               0.0           none     clear  \n",
       "4               0.0    functioning     clear  "
      ]
     },
     "execution_count": 30,
     "metadata": {},
     "output_type": "execute_result"
    }
   ],
   "source": [
    "df.head()"
   ]
  },
  {
   "cell_type": "code",
   "execution_count": 31,
   "id": "9a570f38",
   "metadata": {
    "scrolled": true
   },
   "outputs": [
    {
     "data": {
      "text/plain": [
       "4260"
      ]
     },
     "execution_count": 31,
     "metadata": {},
     "output_type": "execute_result"
    }
   ],
   "source": [
    "df.duplicated().sum()"
   ]
  },
  {
   "cell_type": "code",
   "execution_count": 32,
   "id": "d664090b",
   "metadata": {},
   "outputs": [],
   "source": [
    "df.drop_duplicates(inplace=True)"
   ]
  },
  {
   "cell_type": "code",
   "execution_count": 33,
   "id": "26f393d4",
   "metadata": {},
   "outputs": [
    {
     "data": {
      "text/plain": [
       "0"
      ]
     },
     "execution_count": 33,
     "metadata": {},
     "output_type": "execute_result"
    }
   ],
   "source": [
    "df.duplicated().sum()"
   ]
  },
  {
   "cell_type": "code",
   "execution_count": 34,
   "id": "a710febb",
   "metadata": {},
   "outputs": [
    {
     "data": {
      "text/html": [
       "<div>\n",
       "<style scoped>\n",
       "    .dataframe tbody tr th:only-of-type {\n",
       "        vertical-align: middle;\n",
       "    }\n",
       "\n",
       "    .dataframe tbody tr th {\n",
       "        vertical-align: top;\n",
       "    }\n",
       "\n",
       "    .dataframe thead th {\n",
       "        text-align: right;\n",
       "    }\n",
       "</style>\n",
       "<table border=\"1\" class=\"dataframe\">\n",
       "  <thead>\n",
       "    <tr style=\"text-align: right;\">\n",
       "      <th></th>\n",
       "      <th>case_id</th>\n",
       "      <th>party_number</th>\n",
       "      <th>at_fault</th>\n",
       "      <th>party_sobriety</th>\n",
       "      <th>party_drug_physical</th>\n",
       "      <th>road_surface</th>\n",
       "      <th>lighting</th>\n",
       "      <th>road_condition_1</th>\n",
       "      <th>vehicle_age</th>\n",
       "      <th>intersection</th>\n",
       "      <th>cellphone_in_use</th>\n",
       "      <th>control_device</th>\n",
       "      <th>weather_1</th>\n",
       "    </tr>\n",
       "  </thead>\n",
       "  <tbody>\n",
       "    <tr>\n",
       "      <th>48407</th>\n",
       "      <td>5542342</td>\n",
       "      <td>1</td>\n",
       "      <td>1</td>\n",
       "      <td>had not been drinking</td>\n",
       "      <td>None</td>\n",
       "      <td>dry</td>\n",
       "      <td>daylight</td>\n",
       "      <td>normal</td>\n",
       "      <td>161.0</td>\n",
       "      <td>0.0</td>\n",
       "      <td>0.0</td>\n",
       "      <td>none</td>\n",
       "      <td>clear</td>\n",
       "    </tr>\n",
       "    <tr>\n",
       "      <th>48408</th>\n",
       "      <td>5542342</td>\n",
       "      <td>2</td>\n",
       "      <td>0</td>\n",
       "      <td>had not been drinking</td>\n",
       "      <td>None</td>\n",
       "      <td>dry</td>\n",
       "      <td>daylight</td>\n",
       "      <td>normal</td>\n",
       "      <td>161.0</td>\n",
       "      <td>0.0</td>\n",
       "      <td>0.0</td>\n",
       "      <td>none</td>\n",
       "      <td>clear</td>\n",
       "    </tr>\n",
       "    <tr>\n",
       "      <th>108034</th>\n",
       "      <td>5639033</td>\n",
       "      <td>1</td>\n",
       "      <td>1</td>\n",
       "      <td>had not been drinking</td>\n",
       "      <td>None</td>\n",
       "      <td>dry</td>\n",
       "      <td>dusk or dawn</td>\n",
       "      <td>normal</td>\n",
       "      <td>161.0</td>\n",
       "      <td>1.0</td>\n",
       "      <td>0.0</td>\n",
       "      <td>functioning</td>\n",
       "      <td>clear</td>\n",
       "    </tr>\n",
       "    <tr>\n",
       "      <th>108035</th>\n",
       "      <td>5639033</td>\n",
       "      <td>2</td>\n",
       "      <td>0</td>\n",
       "      <td>had not been drinking</td>\n",
       "      <td>None</td>\n",
       "      <td>dry</td>\n",
       "      <td>dusk or dawn</td>\n",
       "      <td>normal</td>\n",
       "      <td>161.0</td>\n",
       "      <td>1.0</td>\n",
       "      <td>0.0</td>\n",
       "      <td>functioning</td>\n",
       "      <td>clear</td>\n",
       "    </tr>\n",
       "  </tbody>\n",
       "</table>\n",
       "</div>"
      ],
      "text/plain": [
       "        case_id  party_number  at_fault         party_sobriety  \\\n",
       "48407   5542342             1         1  had not been drinking   \n",
       "48408   5542342             2         0  had not been drinking   \n",
       "108034  5639033             1         1  had not been drinking   \n",
       "108035  5639033             2         0  had not been drinking   \n",
       "\n",
       "       party_drug_physical road_surface      lighting road_condition_1  \\\n",
       "48407                 None          dry      daylight           normal   \n",
       "48408                 None          dry      daylight           normal   \n",
       "108034                None          dry  dusk or dawn           normal   \n",
       "108035                None          dry  dusk or dawn           normal   \n",
       "\n",
       "        vehicle_age  intersection  cellphone_in_use control_device weather_1  \n",
       "48407         161.0           0.0               0.0           none     clear  \n",
       "48408         161.0           0.0               0.0           none     clear  \n",
       "108034        161.0           1.0               0.0    functioning     clear  \n",
       "108035        161.0           1.0               0.0    functioning     clear  "
      ]
     },
     "execution_count": 34,
     "metadata": {},
     "output_type": "execute_result"
    }
   ],
   "source": [
    "df[df['vehicle_age']==161]"
   ]
  },
  {
   "cell_type": "code",
   "execution_count": 35,
   "id": "eab00a6b",
   "metadata": {},
   "outputs": [],
   "source": [
    "df.loc[df['vehicle_age']==161, 'vehicle_age'] = 16"
   ]
  },
  {
   "cell_type": "markdown",
   "id": "3f1b2f83",
   "metadata": {},
   "source": [
    "Нами были отобраны следующие факторы, которые могут влиять на вероятность возникновения ДТП:\n",
    "* party_sobriety - трезвость участника\n",
    "* party_drug_physical - Состояние участника с учётом принятых лекарств\n",
    "* road_surface - Состояние дороги \n",
    "* lighting - освещение\n",
    "* road_condition_1 - дорожное состояние\n",
    "* vehicle_age - Возраст автомобиля (в годах) \n",
    "* intersection - Является ли место происшествие перекрёстком\n",
    "* cellphone_in_use - Наличие телефона в автомобиле (возможности разговаривать по громкой связи)\t\n",
    "* control_device - управление устройством\t\n",
    "* weather_1 - Погода"
   ]
  },
  {
   "cell_type": "code",
   "execution_count": 36,
   "id": "275399d1",
   "metadata": {},
   "outputs": [
    {
     "name": "stdout",
     "output_type": "stream",
     "text": [
      "<class 'pandas.core.frame.DataFrame'>\n",
      "Int64Index: 114162 entries, 0 to 118421\n",
      "Data columns (total 13 columns):\n",
      " #   Column               Non-Null Count   Dtype  \n",
      "---  ------               --------------   -----  \n",
      " 0   case_id              114162 non-null  object \n",
      " 1   party_number         114162 non-null  int64  \n",
      " 2   at_fault             114162 non-null  int64  \n",
      " 3   party_sobriety       112496 non-null  object \n",
      " 4   party_drug_physical  8521 non-null    object \n",
      " 5   road_surface         113447 non-null  object \n",
      " 6   lighting             113844 non-null  object \n",
      " 7   road_condition_1     113632 non-null  object \n",
      " 8   vehicle_age          110998 non-null  float64\n",
      " 9   intersection         113799 non-null  float64\n",
      " 10  cellphone_in_use     103623 non-null  float64\n",
      " 11  control_device       113711 non-null  object \n",
      " 12  weather_1            113782 non-null  object \n",
      "dtypes: float64(3), int64(2), object(8)\n",
      "memory usage: 12.2+ MB\n"
     ]
    }
   ],
   "source": [
    "df.info()"
   ]
  },
  {
   "cell_type": "code",
   "execution_count": 37,
   "id": "6c9d676e",
   "metadata": {},
   "outputs": [
    {
     "data": {
      "text/plain": [
       "case_id                0.000000\n",
       "party_number           0.000000\n",
       "at_fault               0.000000\n",
       "party_sobriety         0.014593\n",
       "party_drug_physical    0.925360\n",
       "road_surface           0.006263\n",
       "lighting               0.002786\n",
       "road_condition_1       0.004643\n",
       "vehicle_age            0.027715\n",
       "intersection           0.003180\n",
       "cellphone_in_use       0.092316\n",
       "control_device         0.003951\n",
       "weather_1              0.003329\n",
       "dtype: float64"
      ]
     },
     "execution_count": 37,
     "metadata": {},
     "output_type": "execute_result"
    }
   ],
   "source": [
    "df.isna().mean()"
   ]
  },
  {
   "cell_type": "markdown",
   "id": "b89a0e98",
   "metadata": {},
   "source": [
    "Удалим столбец party_drug_physical, так как в нём отсутствует более 90% данных."
   ]
  },
  {
   "cell_type": "code",
   "execution_count": 38,
   "id": "0bfdf687",
   "metadata": {},
   "outputs": [
    {
     "data": {
      "text/html": [
       "<div>\n",
       "<style scoped>\n",
       "    .dataframe tbody tr th:only-of-type {\n",
       "        vertical-align: middle;\n",
       "    }\n",
       "\n",
       "    .dataframe tbody tr th {\n",
       "        vertical-align: top;\n",
       "    }\n",
       "\n",
       "    .dataframe thead th {\n",
       "        text-align: right;\n",
       "    }\n",
       "</style>\n",
       "<table border=\"1\" class=\"dataframe\">\n",
       "  <thead>\n",
       "    <tr style=\"text-align: right;\">\n",
       "      <th></th>\n",
       "      <th>case_id</th>\n",
       "      <th>party_number</th>\n",
       "      <th>at_fault</th>\n",
       "      <th>party_sobriety</th>\n",
       "      <th>road_surface</th>\n",
       "      <th>lighting</th>\n",
       "      <th>road_condition_1</th>\n",
       "      <th>vehicle_age</th>\n",
       "      <th>intersection</th>\n",
       "      <th>cellphone_in_use</th>\n",
       "      <th>control_device</th>\n",
       "      <th>weather_1</th>\n",
       "    </tr>\n",
       "  </thead>\n",
       "  <tbody>\n",
       "    <tr>\n",
       "      <th>0</th>\n",
       "      <td>5125160</td>\n",
       "      <td>1</td>\n",
       "      <td>1</td>\n",
       "      <td>had not been drinking</td>\n",
       "      <td>dry</td>\n",
       "      <td>daylight</td>\n",
       "      <td>other</td>\n",
       "      <td>2.0</td>\n",
       "      <td>1.0</td>\n",
       "      <td>0.0</td>\n",
       "      <td>none</td>\n",
       "      <td>cloudy</td>\n",
       "    </tr>\n",
       "    <tr>\n",
       "      <th>1</th>\n",
       "      <td>5125160</td>\n",
       "      <td>2</td>\n",
       "      <td>0</td>\n",
       "      <td>had not been drinking</td>\n",
       "      <td>dry</td>\n",
       "      <td>daylight</td>\n",
       "      <td>other</td>\n",
       "      <td>2.0</td>\n",
       "      <td>1.0</td>\n",
       "      <td>0.0</td>\n",
       "      <td>none</td>\n",
       "      <td>cloudy</td>\n",
       "    </tr>\n",
       "    <tr>\n",
       "      <th>2</th>\n",
       "      <td>5173738</td>\n",
       "      <td>1</td>\n",
       "      <td>1</td>\n",
       "      <td>had not been drinking</td>\n",
       "      <td>dry</td>\n",
       "      <td>daylight</td>\n",
       "      <td>normal</td>\n",
       "      <td>5.0</td>\n",
       "      <td>1.0</td>\n",
       "      <td>0.0</td>\n",
       "      <td>none</td>\n",
       "      <td>clear</td>\n",
       "    </tr>\n",
       "    <tr>\n",
       "      <th>3</th>\n",
       "      <td>5173738</td>\n",
       "      <td>2</td>\n",
       "      <td>0</td>\n",
       "      <td>had not been drinking</td>\n",
       "      <td>dry</td>\n",
       "      <td>daylight</td>\n",
       "      <td>normal</td>\n",
       "      <td>5.0</td>\n",
       "      <td>1.0</td>\n",
       "      <td>0.0</td>\n",
       "      <td>none</td>\n",
       "      <td>clear</td>\n",
       "    </tr>\n",
       "    <tr>\n",
       "      <th>4</th>\n",
       "      <td>5269486</td>\n",
       "      <td>1</td>\n",
       "      <td>0</td>\n",
       "      <td>had not been drinking</td>\n",
       "      <td>dry</td>\n",
       "      <td>daylight</td>\n",
       "      <td>normal</td>\n",
       "      <td>1.0</td>\n",
       "      <td>1.0</td>\n",
       "      <td>0.0</td>\n",
       "      <td>functioning</td>\n",
       "      <td>clear</td>\n",
       "    </tr>\n",
       "  </tbody>\n",
       "</table>\n",
       "</div>"
      ],
      "text/plain": [
       "   case_id  party_number  at_fault         party_sobriety road_surface  \\\n",
       "0  5125160             1         1  had not been drinking          dry   \n",
       "1  5125160             2         0  had not been drinking          dry   \n",
       "2  5173738             1         1  had not been drinking          dry   \n",
       "3  5173738             2         0  had not been drinking          dry   \n",
       "4  5269486             1         0  had not been drinking          dry   \n",
       "\n",
       "   lighting road_condition_1  vehicle_age  intersection  cellphone_in_use  \\\n",
       "0  daylight            other          2.0           1.0               0.0   \n",
       "1  daylight            other          2.0           1.0               0.0   \n",
       "2  daylight           normal          5.0           1.0               0.0   \n",
       "3  daylight           normal          5.0           1.0               0.0   \n",
       "4  daylight           normal          1.0           1.0               0.0   \n",
       "\n",
       "  control_device weather_1  \n",
       "0           none    cloudy  \n",
       "1           none    cloudy  \n",
       "2           none     clear  \n",
       "3           none     clear  \n",
       "4    functioning     clear  "
      ]
     },
     "execution_count": 38,
     "metadata": {},
     "output_type": "execute_result"
    }
   ],
   "source": [
    "df = df.drop('party_drug_physical', axis=1)\n",
    "df.head()"
   ]
  },
  {
   "cell_type": "markdown",
   "id": "598c6d8a",
   "metadata": {},
   "source": [
    "Удалим пропуски каткегориальных значений, поскольку их не так много, что не повлияет на исследование."
   ]
  },
  {
   "cell_type": "code",
   "execution_count": 39,
   "id": "ef18a814",
   "metadata": {},
   "outputs": [],
   "source": [
    "df = df.dropna(subset = ['control_device', 'party_sobriety', 'weather_1', 'road_surface', 'lighting', 'road_condition_1'])"
   ]
  },
  {
   "cell_type": "code",
   "execution_count": 40,
   "id": "56d44ae7",
   "metadata": {},
   "outputs": [],
   "source": [
    "df = df.fillna(df[{'vehicle_age', 'cellphone_in_use', 'intersection'}].median())"
   ]
  },
  {
   "cell_type": "code",
   "execution_count": 41,
   "id": "295e0977",
   "metadata": {
    "scrolled": false
   },
   "outputs": [
    {
     "data": {
      "text/plain": [
       "case_id             0.0\n",
       "party_number        0.0\n",
       "at_fault            0.0\n",
       "party_sobriety      0.0\n",
       "road_surface        0.0\n",
       "lighting            0.0\n",
       "road_condition_1    0.0\n",
       "vehicle_age         0.0\n",
       "intersection        0.0\n",
       "cellphone_in_use    0.0\n",
       "control_device      0.0\n",
       "weather_1           0.0\n",
       "dtype: float64"
      ]
     },
     "execution_count": 41,
     "metadata": {},
     "output_type": "execute_result"
    }
   ],
   "source": [
    "df.isna().mean()"
   ]
  },
  {
   "cell_type": "code",
   "execution_count": 42,
   "id": "f9988cde",
   "metadata": {},
   "outputs": [
    {
     "data": {
      "text/html": [
       "<div>\n",
       "<style scoped>\n",
       "    .dataframe tbody tr th:only-of-type {\n",
       "        vertical-align: middle;\n",
       "    }\n",
       "\n",
       "    .dataframe tbody tr th {\n",
       "        vertical-align: top;\n",
       "    }\n",
       "\n",
       "    .dataframe thead th {\n",
       "        text-align: right;\n",
       "    }\n",
       "</style>\n",
       "<table border=\"1\" class=\"dataframe\">\n",
       "  <thead>\n",
       "    <tr style=\"text-align: right;\">\n",
       "      <th></th>\n",
       "      <th>at_fault</th>\n",
       "      <th>party_sobriety</th>\n",
       "      <th>road_surface</th>\n",
       "      <th>lighting</th>\n",
       "      <th>road_condition_1</th>\n",
       "      <th>vehicle_age</th>\n",
       "      <th>intersection</th>\n",
       "      <th>cellphone_in_use</th>\n",
       "      <th>control_device</th>\n",
       "      <th>weather_1</th>\n",
       "    </tr>\n",
       "  </thead>\n",
       "  <tbody>\n",
       "    <tr>\n",
       "      <th>0</th>\n",
       "      <td>1</td>\n",
       "      <td>had not been drinking</td>\n",
       "      <td>dry</td>\n",
       "      <td>daylight</td>\n",
       "      <td>other</td>\n",
       "      <td>2.0</td>\n",
       "      <td>1.0</td>\n",
       "      <td>0.0</td>\n",
       "      <td>none</td>\n",
       "      <td>cloudy</td>\n",
       "    </tr>\n",
       "    <tr>\n",
       "      <th>1</th>\n",
       "      <td>0</td>\n",
       "      <td>had not been drinking</td>\n",
       "      <td>dry</td>\n",
       "      <td>daylight</td>\n",
       "      <td>other</td>\n",
       "      <td>2.0</td>\n",
       "      <td>1.0</td>\n",
       "      <td>0.0</td>\n",
       "      <td>none</td>\n",
       "      <td>cloudy</td>\n",
       "    </tr>\n",
       "    <tr>\n",
       "      <th>2</th>\n",
       "      <td>1</td>\n",
       "      <td>had not been drinking</td>\n",
       "      <td>dry</td>\n",
       "      <td>daylight</td>\n",
       "      <td>normal</td>\n",
       "      <td>5.0</td>\n",
       "      <td>1.0</td>\n",
       "      <td>0.0</td>\n",
       "      <td>none</td>\n",
       "      <td>clear</td>\n",
       "    </tr>\n",
       "    <tr>\n",
       "      <th>3</th>\n",
       "      <td>0</td>\n",
       "      <td>had not been drinking</td>\n",
       "      <td>dry</td>\n",
       "      <td>daylight</td>\n",
       "      <td>normal</td>\n",
       "      <td>5.0</td>\n",
       "      <td>1.0</td>\n",
       "      <td>0.0</td>\n",
       "      <td>none</td>\n",
       "      <td>clear</td>\n",
       "    </tr>\n",
       "    <tr>\n",
       "      <th>4</th>\n",
       "      <td>0</td>\n",
       "      <td>had not been drinking</td>\n",
       "      <td>dry</td>\n",
       "      <td>daylight</td>\n",
       "      <td>normal</td>\n",
       "      <td>1.0</td>\n",
       "      <td>1.0</td>\n",
       "      <td>0.0</td>\n",
       "      <td>functioning</td>\n",
       "      <td>clear</td>\n",
       "    </tr>\n",
       "  </tbody>\n",
       "</table>\n",
       "</div>"
      ],
      "text/plain": [
       "   at_fault         party_sobriety road_surface  lighting road_condition_1  \\\n",
       "0         1  had not been drinking          dry  daylight            other   \n",
       "1         0  had not been drinking          dry  daylight            other   \n",
       "2         1  had not been drinking          dry  daylight           normal   \n",
       "3         0  had not been drinking          dry  daylight           normal   \n",
       "4         0  had not been drinking          dry  daylight           normal   \n",
       "\n",
       "   vehicle_age  intersection  cellphone_in_use control_device weather_1  \n",
       "0          2.0           1.0               0.0           none    cloudy  \n",
       "1          2.0           1.0               0.0           none    cloudy  \n",
       "2          5.0           1.0               0.0           none     clear  \n",
       "3          5.0           1.0               0.0           none     clear  \n",
       "4          1.0           1.0               0.0    functioning     clear  "
      ]
     },
     "execution_count": 42,
     "metadata": {},
     "output_type": "execute_result"
    }
   ],
   "source": [
    "df = df.drop('case_id', axis=1)\n",
    "df = df.drop('party_number', axis=1)\n",
    "df.head()"
   ]
  },
  {
   "cell_type": "code",
   "execution_count": 43,
   "id": "69962285",
   "metadata": {},
   "outputs": [
    {
     "name": "stdout",
     "output_type": "stream",
     "text": [
      "<class 'pandas.core.frame.DataFrame'>\n",
      "Int64Index: 110699 entries, 0 to 118421\n",
      "Data columns (total 10 columns):\n",
      " #   Column            Non-Null Count   Dtype  \n",
      "---  ------            --------------   -----  \n",
      " 0   at_fault          110699 non-null  int64  \n",
      " 1   party_sobriety    110699 non-null  object \n",
      " 2   road_surface      110699 non-null  object \n",
      " 3   lighting          110699 non-null  object \n",
      " 4   road_condition_1  110699 non-null  object \n",
      " 5   vehicle_age       110699 non-null  float64\n",
      " 6   intersection      110699 non-null  float64\n",
      " 7   cellphone_in_use  110699 non-null  float64\n",
      " 8   control_device    110699 non-null  object \n",
      " 9   weather_1         110699 non-null  object \n",
      "dtypes: float64(3), int64(1), object(6)\n",
      "memory usage: 9.3+ MB\n"
     ]
    }
   ],
   "source": [
    "df.info()"
   ]
  },
  {
   "cell_type": "code",
   "execution_count": 44,
   "id": "ffed9e54",
   "metadata": {},
   "outputs": [],
   "source": [
    "#cat = df[['party_sobriety', 'road_surface', 'road_condition_1']]\n",
    "#cat.head()"
   ]
  },
  {
   "cell_type": "markdown",
   "id": "e0e859eb",
   "metadata": {},
   "source": [
    "Перекодируем категориальные данные с помощью метода OneHotEncoder"
   ]
  },
  {
   "cell_type": "code",
   "execution_count": 45,
   "id": "63e3bfdd",
   "metadata": {
    "scrolled": true
   },
   "outputs": [
    {
     "data": {
      "text/html": [
       "<div>\n",
       "<style scoped>\n",
       "    .dataframe tbody tr th:only-of-type {\n",
       "        vertical-align: middle;\n",
       "    }\n",
       "\n",
       "    .dataframe tbody tr th {\n",
       "        vertical-align: top;\n",
       "    }\n",
       "\n",
       "    .dataframe thead th {\n",
       "        text-align: right;\n",
       "    }\n",
       "</style>\n",
       "<table border=\"1\" class=\"dataframe\">\n",
       "  <thead>\n",
       "    <tr style=\"text-align: right;\">\n",
       "      <th></th>\n",
       "      <th>at_fault</th>\n",
       "    </tr>\n",
       "  </thead>\n",
       "  <tbody>\n",
       "    <tr>\n",
       "      <th>0</th>\n",
       "      <td>1</td>\n",
       "    </tr>\n",
       "    <tr>\n",
       "      <th>1</th>\n",
       "      <td>0</td>\n",
       "    </tr>\n",
       "    <tr>\n",
       "      <th>2</th>\n",
       "      <td>1</td>\n",
       "    </tr>\n",
       "    <tr>\n",
       "      <th>3</th>\n",
       "      <td>0</td>\n",
       "    </tr>\n",
       "    <tr>\n",
       "      <th>4</th>\n",
       "      <td>0</td>\n",
       "    </tr>\n",
       "  </tbody>\n",
       "</table>\n",
       "</div>"
      ],
      "text/plain": [
       "   at_fault\n",
       "0         1\n",
       "1         0\n",
       "2         1\n",
       "3         0\n",
       "4         0"
      ]
     },
     "execution_count": 45,
     "metadata": {},
     "output_type": "execute_result"
    }
   ],
   "source": [
    "t = df[['at_fault']]\n",
    "t.head()"
   ]
  },
  {
   "cell_type": "code",
   "execution_count": 46,
   "id": "73ce56c6",
   "metadata": {
    "scrolled": true
   },
   "outputs": [
    {
     "data": {
      "text/html": [
       "<div>\n",
       "<style scoped>\n",
       "    .dataframe tbody tr th:only-of-type {\n",
       "        vertical-align: middle;\n",
       "    }\n",
       "\n",
       "    .dataframe tbody tr th {\n",
       "        vertical-align: top;\n",
       "    }\n",
       "\n",
       "    .dataframe thead th {\n",
       "        text-align: right;\n",
       "    }\n",
       "</style>\n",
       "<table border=\"1\" class=\"dataframe\">\n",
       "  <thead>\n",
       "    <tr style=\"text-align: right;\">\n",
       "      <th></th>\n",
       "      <th>at_fault</th>\n",
       "      <th>party_sobriety</th>\n",
       "      <th>road_surface</th>\n",
       "      <th>lighting</th>\n",
       "      <th>road_condition_1</th>\n",
       "      <th>vehicle_age</th>\n",
       "      <th>intersection</th>\n",
       "      <th>cellphone_in_use</th>\n",
       "      <th>control_device</th>\n",
       "      <th>weather_1</th>\n",
       "    </tr>\n",
       "  </thead>\n",
       "  <tbody>\n",
       "    <tr>\n",
       "      <th>0</th>\n",
       "      <td>1</td>\n",
       "      <td>had not been drinking</td>\n",
       "      <td>dry</td>\n",
       "      <td>daylight</td>\n",
       "      <td>other</td>\n",
       "      <td>2.0</td>\n",
       "      <td>1.0</td>\n",
       "      <td>0.0</td>\n",
       "      <td>none</td>\n",
       "      <td>cloudy</td>\n",
       "    </tr>\n",
       "    <tr>\n",
       "      <th>1</th>\n",
       "      <td>0</td>\n",
       "      <td>had not been drinking</td>\n",
       "      <td>dry</td>\n",
       "      <td>daylight</td>\n",
       "      <td>other</td>\n",
       "      <td>2.0</td>\n",
       "      <td>1.0</td>\n",
       "      <td>0.0</td>\n",
       "      <td>none</td>\n",
       "      <td>cloudy</td>\n",
       "    </tr>\n",
       "    <tr>\n",
       "      <th>2</th>\n",
       "      <td>1</td>\n",
       "      <td>had not been drinking</td>\n",
       "      <td>dry</td>\n",
       "      <td>daylight</td>\n",
       "      <td>normal</td>\n",
       "      <td>5.0</td>\n",
       "      <td>1.0</td>\n",
       "      <td>0.0</td>\n",
       "      <td>none</td>\n",
       "      <td>clear</td>\n",
       "    </tr>\n",
       "    <tr>\n",
       "      <th>3</th>\n",
       "      <td>0</td>\n",
       "      <td>had not been drinking</td>\n",
       "      <td>dry</td>\n",
       "      <td>daylight</td>\n",
       "      <td>normal</td>\n",
       "      <td>5.0</td>\n",
       "      <td>1.0</td>\n",
       "      <td>0.0</td>\n",
       "      <td>none</td>\n",
       "      <td>clear</td>\n",
       "    </tr>\n",
       "    <tr>\n",
       "      <th>4</th>\n",
       "      <td>0</td>\n",
       "      <td>had not been drinking</td>\n",
       "      <td>dry</td>\n",
       "      <td>daylight</td>\n",
       "      <td>normal</td>\n",
       "      <td>1.0</td>\n",
       "      <td>1.0</td>\n",
       "      <td>0.0</td>\n",
       "      <td>functioning</td>\n",
       "      <td>clear</td>\n",
       "    </tr>\n",
       "  </tbody>\n",
       "</table>\n",
       "</div>"
      ],
      "text/plain": [
       "   at_fault         party_sobriety road_surface  lighting road_condition_1  \\\n",
       "0         1  had not been drinking          dry  daylight            other   \n",
       "1         0  had not been drinking          dry  daylight            other   \n",
       "2         1  had not been drinking          dry  daylight           normal   \n",
       "3         0  had not been drinking          dry  daylight           normal   \n",
       "4         0  had not been drinking          dry  daylight           normal   \n",
       "\n",
       "   vehicle_age  intersection  cellphone_in_use control_device weather_1  \n",
       "0          2.0           1.0               0.0           none    cloudy  \n",
       "1          2.0           1.0               0.0           none    cloudy  \n",
       "2          5.0           1.0               0.0           none     clear  \n",
       "3          5.0           1.0               0.0           none     clear  \n",
       "4          1.0           1.0               0.0    functioning     clear  "
      ]
     },
     "execution_count": 46,
     "metadata": {},
     "output_type": "execute_result"
    }
   ],
   "source": [
    "df.head()"
   ]
  },
  {
   "cell_type": "code",
   "execution_count": 47,
   "id": "5ccd0d95",
   "metadata": {
    "scrolled": true
   },
   "outputs": [
    {
     "data": {
      "text/plain": [
       "at_fault            0.0\n",
       "party_sobriety      0.0\n",
       "road_surface        0.0\n",
       "lighting            0.0\n",
       "road_condition_1    0.0\n",
       "vehicle_age         0.0\n",
       "intersection        0.0\n",
       "cellphone_in_use    0.0\n",
       "control_device      0.0\n",
       "weather_1           0.0\n",
       "dtype: float64"
      ]
     },
     "execution_count": 47,
     "metadata": {},
     "output_type": "execute_result"
    }
   ],
   "source": [
    "df.isna().mean()"
   ]
  },
  {
   "cell_type": "code",
   "execution_count": 48,
   "id": "3afb3655",
   "metadata": {},
   "outputs": [
    {
     "name": "stdout",
     "output_type": "stream",
     "text": [
      "<class 'pandas.core.frame.DataFrame'>\n",
      "Int64Index: 110699 entries, 0 to 118421\n",
      "Data columns (total 10 columns):\n",
      " #   Column            Non-Null Count   Dtype  \n",
      "---  ------            --------------   -----  \n",
      " 0   at_fault          110699 non-null  int64  \n",
      " 1   party_sobriety    110699 non-null  object \n",
      " 2   road_surface      110699 non-null  object \n",
      " 3   lighting          110699 non-null  object \n",
      " 4   road_condition_1  110699 non-null  object \n",
      " 5   vehicle_age       110699 non-null  float64\n",
      " 6   intersection      110699 non-null  float64\n",
      " 7   cellphone_in_use  110699 non-null  float64\n",
      " 8   control_device    110699 non-null  object \n",
      " 9   weather_1         110699 non-null  object \n",
      "dtypes: float64(3), int64(1), object(6)\n",
      "memory usage: 9.3+ MB\n"
     ]
    }
   ],
   "source": [
    "df.info()"
   ]
  },
  {
   "cell_type": "markdown",
   "id": "fe7c4b37",
   "metadata": {},
   "source": [
    "**Вывод:**\n",
    "\n",
    "Мы отобрали, изучили факторы которые могут быть полезны для нашей модели, а также привели их в соответствующий вид для обучения моделей."
   ]
  },
  {
   "cell_type": "markdown",
   "id": "afc628bf",
   "metadata": {},
   "source": [
    "# Проведите анализ важности факторов ДТП"
   ]
  },
  {
   "cell_type": "markdown",
   "id": "b242ba9e",
   "metadata": {},
   "source": [
    "При проведении анализа важности факторов ДТП мы будем использовать метрику F1, поскольку она вляется взвешенной, она учитывает метрики для оценки качества прогноза целевого класса, а именно precision и recall. Важны обе метрики как precision, так и recall, поскольку recall описывает, как хорошо модель разобралась в особенностях этого класса и распознала его (какую долю положительных среди всех ответов выделила модель), а precision выявляет, не переусердствует ли модель, присваивая положительные метки (как много отрицательных ответов нашла модель, пока искала положительные. Чем больше отрицательных, тем ниже точность). А контролировать их вместе помогают — F1-мера, что является средним гармоническим полноты и точности. Мы должны стремиться к тому, чтобы у нас было меньше False Positive и больше True Positive в матрице ошибок.\n",
    "Также мы выбрали метрику качества AUC-ROC чтобы выявить, как сильно наша модель отличается от случайной и посчитать площадь под ROC-кривой — AUC-ROC. Она подходит для несбалансированных классов."
   ]
  },
  {
   "cell_type": "code",
   "execution_count": 49,
   "id": "87ed6ba9",
   "metadata": {
    "scrolled": true
   },
   "outputs": [
    {
     "data": {
      "text/plain": [
       "0    58595\n",
       "1    52104\n",
       "Name: at_fault, dtype: int64"
      ]
     },
     "execution_count": 49,
     "metadata": {},
     "output_type": "execute_result"
    }
   ],
   "source": [
    "df['at_fault'].value_counts()"
   ]
  },
  {
   "cell_type": "markdown",
   "id": "88514f62",
   "metadata": {},
   "source": [
    "Дисбаланс классов небольшой. num_to_month_name. Лучше использовать Fbeta_score. Так как заказчик не уточнил, что ему важно - точность или полнота, beta = 1- гармоническое среднее между точностью и полнотой."
   ]
  },
  {
   "cell_type": "markdown",
   "id": "ae8dc243",
   "metadata": {},
   "source": []
  },
  {
   "cell_type": "markdown",
   "id": "b6e74193",
   "metadata": {},
   "source": [
    "**Модель Decision Tree Classifier**"
   ]
  },
  {
   "cell_type": "code",
   "execution_count": 50,
   "id": "e21104e6",
   "metadata": {
    "scrolled": true
   },
   "outputs": [
    {
     "name": "stdout",
     "output_type": "stream",
     "text": [
      "<class 'pandas.core.frame.DataFrame'>\n",
      "Int64Index: 110699 entries, 0 to 118421\n",
      "Data columns (total 10 columns):\n",
      " #   Column            Non-Null Count   Dtype  \n",
      "---  ------            --------------   -----  \n",
      " 0   at_fault          110699 non-null  int64  \n",
      " 1   party_sobriety    110699 non-null  object \n",
      " 2   road_surface      110699 non-null  object \n",
      " 3   lighting          110699 non-null  object \n",
      " 4   road_condition_1  110699 non-null  object \n",
      " 5   vehicle_age       110699 non-null  float64\n",
      " 6   intersection      110699 non-null  float64\n",
      " 7   cellphone_in_use  110699 non-null  float64\n",
      " 8   control_device    110699 non-null  object \n",
      " 9   weather_1         110699 non-null  object \n",
      "dtypes: float64(3), int64(1), object(6)\n",
      "memory usage: 9.3+ MB\n"
     ]
    }
   ],
   "source": [
    "df.info()"
   ]
  },
  {
   "cell_type": "code",
   "execution_count": 51,
   "id": "84271ec4",
   "metadata": {},
   "outputs": [],
   "source": [
    "df = df.astype({'intersection':'object','cellphone_in_use':'object'})"
   ]
  },
  {
   "cell_type": "code",
   "execution_count": 52,
   "id": "884d0eb5",
   "metadata": {},
   "outputs": [
    {
     "name": "stdout",
     "output_type": "stream",
     "text": [
      "<class 'pandas.core.frame.DataFrame'>\n",
      "Int64Index: 110699 entries, 0 to 118421\n",
      "Data columns (total 10 columns):\n",
      " #   Column            Non-Null Count   Dtype  \n",
      "---  ------            --------------   -----  \n",
      " 0   at_fault          110699 non-null  int64  \n",
      " 1   party_sobriety    110699 non-null  object \n",
      " 2   road_surface      110699 non-null  object \n",
      " 3   lighting          110699 non-null  object \n",
      " 4   road_condition_1  110699 non-null  object \n",
      " 5   vehicle_age       110699 non-null  float64\n",
      " 6   intersection      110699 non-null  object \n",
      " 7   cellphone_in_use  110699 non-null  object \n",
      " 8   control_device    110699 non-null  object \n",
      " 9   weather_1         110699 non-null  object \n",
      "dtypes: float64(1), int64(1), object(8)\n",
      "memory usage: 9.3+ MB\n"
     ]
    }
   ],
   "source": [
    "df.info()"
   ]
  },
  {
   "cell_type": "code",
   "execution_count": 53,
   "id": "dc399250",
   "metadata": {},
   "outputs": [
    {
     "data": {
      "text/html": [
       "<div>\n",
       "<style scoped>\n",
       "    .dataframe tbody tr th:only-of-type {\n",
       "        vertical-align: middle;\n",
       "    }\n",
       "\n",
       "    .dataframe tbody tr th {\n",
       "        vertical-align: top;\n",
       "    }\n",
       "\n",
       "    .dataframe thead th {\n",
       "        text-align: right;\n",
       "    }\n",
       "</style>\n",
       "<table border=\"1\" class=\"dataframe\">\n",
       "  <thead>\n",
       "    <tr style=\"text-align: right;\">\n",
       "      <th></th>\n",
       "      <th>vehicle_age</th>\n",
       "    </tr>\n",
       "  </thead>\n",
       "  <tbody>\n",
       "    <tr>\n",
       "      <th>0</th>\n",
       "      <td>2.0</td>\n",
       "    </tr>\n",
       "    <tr>\n",
       "      <th>1</th>\n",
       "      <td>2.0</td>\n",
       "    </tr>\n",
       "    <tr>\n",
       "      <th>2</th>\n",
       "      <td>5.0</td>\n",
       "    </tr>\n",
       "    <tr>\n",
       "      <th>3</th>\n",
       "      <td>5.0</td>\n",
       "    </tr>\n",
       "    <tr>\n",
       "      <th>4</th>\n",
       "      <td>1.0</td>\n",
       "    </tr>\n",
       "    <tr>\n",
       "      <th>...</th>\n",
       "      <td>...</td>\n",
       "    </tr>\n",
       "    <tr>\n",
       "      <th>118417</th>\n",
       "      <td>3.0</td>\n",
       "    </tr>\n",
       "    <tr>\n",
       "      <th>118418</th>\n",
       "      <td>3.0</td>\n",
       "    </tr>\n",
       "    <tr>\n",
       "      <th>118419</th>\n",
       "      <td>7.0</td>\n",
       "    </tr>\n",
       "    <tr>\n",
       "      <th>118420</th>\n",
       "      <td>7.0</td>\n",
       "    </tr>\n",
       "    <tr>\n",
       "      <th>118421</th>\n",
       "      <td>8.0</td>\n",
       "    </tr>\n",
       "  </tbody>\n",
       "</table>\n",
       "<p>110699 rows × 1 columns</p>\n",
       "</div>"
      ],
      "text/plain": [
       "        vehicle_age\n",
       "0               2.0\n",
       "1               2.0\n",
       "2               5.0\n",
       "3               5.0\n",
       "4               1.0\n",
       "...             ...\n",
       "118417          3.0\n",
       "118418          3.0\n",
       "118419          7.0\n",
       "118420          7.0\n",
       "118421          8.0\n",
       "\n",
       "[110699 rows x 1 columns]"
      ]
     },
     "execution_count": 53,
     "metadata": {},
     "output_type": "execute_result"
    }
   ],
   "source": [
    "df.select_dtypes(include = 'float')"
   ]
  },
  {
   "cell_type": "markdown",
   "id": "7521cdef",
   "metadata": {},
   "source": [
    "Разделим выборку на целевые и обучающие данные"
   ]
  },
  {
   "cell_type": "code",
   "execution_count": 54,
   "id": "f529b820",
   "metadata": {},
   "outputs": [],
   "source": [
    "rs=12345"
   ]
  },
  {
   "cell_type": "code",
   "execution_count": 55,
   "id": "40ccb620",
   "metadata": {},
   "outputs": [],
   "source": [
    "features = df.drop('at_fault',axis=1)\n",
    "target = df['at_fault']"
   ]
  },
  {
   "cell_type": "code",
   "execution_count": 56,
   "id": "9e7bda6f",
   "metadata": {},
   "outputs": [],
   "source": [
    "features_train, features_test, target_train, target_test = train_test_split(features, \n",
    "                                                                                        target, \n",
    "                                                                                        shuffle=True, \n",
    "                                                                                        test_size=0.3,\n",
    "                                                                                        random_state=12345,\n",
    "                                                                                       stratify=target)\n"
   ]
  },
  {
   "cell_type": "code",
   "execution_count": 57,
   "id": "2ded5c4d",
   "metadata": {},
   "outputs": [],
   "source": [
    "num_cols = ['vehicle_age']"
   ]
  },
  {
   "cell_type": "code",
   "execution_count": 58,
   "id": "714e54b9",
   "metadata": {},
   "outputs": [],
   "source": [
    "cat_columns = list(df.select_dtypes(exclude='number').columns)"
   ]
  },
  {
   "cell_type": "code",
   "execution_count": 59,
   "id": "5d0b57ba",
   "metadata": {},
   "outputs": [],
   "source": [
    "# для сохранения колонок  remainder='passthrough'\n",
    "col_transformer = make_column_transformer(\n",
    "    (\n",
    "        OneHotEncoder(drop='first', handle_unknown='error'),\n",
    "        cat_columns\n",
    "    ),\n",
    "    remainder='passthrough'\n",
    ")\n",
    "\n",
    "\n",
    "# применяем трансформер и создаем датафрейм\n",
    "X_transformed = col_transformer.fit_transform(features_train)\n",
    "columns = col_transformer.named_transformers_['onehotencoder'].get_feature_names(cat_columns).tolist() + num_cols\n",
    "features_train_new = pd.DataFrame(col_transformer.transform(features_train).toarray(), columns=columns, index=features_train.index)\n",
    "X_transformed = col_transformer.transform(features_test)\n",
    "columns = col_transformer.named_transformers_['onehotencoder'].get_feature_names(cat_columns).tolist() + num_cols\n",
    "features_test_new = pd.DataFrame(col_transformer.transform(features_test).toarray(), columns=columns, index=features_test.index)"
   ]
  },
  {
   "cell_type": "code",
   "execution_count": 60,
   "id": "2fca5b46",
   "metadata": {},
   "outputs": [
    {
     "data": {
      "text/html": [
       "<div>\n",
       "<style scoped>\n",
       "    .dataframe tbody tr th:only-of-type {\n",
       "        vertical-align: middle;\n",
       "    }\n",
       "\n",
       "    .dataframe tbody tr th {\n",
       "        vertical-align: top;\n",
       "    }\n",
       "\n",
       "    .dataframe thead th {\n",
       "        text-align: right;\n",
       "    }\n",
       "</style>\n",
       "<table border=\"1\" class=\"dataframe\">\n",
       "  <thead>\n",
       "    <tr style=\"text-align: right;\">\n",
       "      <th></th>\n",
       "      <th>party_sobriety_had been drinking, not under influence</th>\n",
       "      <th>party_sobriety_had been drinking, under influence</th>\n",
       "      <th>party_sobriety_had not been drinking</th>\n",
       "      <th>party_sobriety_impairment unknown</th>\n",
       "      <th>party_sobriety_not applicable</th>\n",
       "      <th>road_surface_slippery</th>\n",
       "      <th>road_surface_snowy</th>\n",
       "      <th>road_surface_wet</th>\n",
       "      <th>lighting_dark with street lights</th>\n",
       "      <th>lighting_dark with street lights not functioning</th>\n",
       "      <th>...</th>\n",
       "      <th>control_device_none</th>\n",
       "      <th>control_device_not functioning</th>\n",
       "      <th>control_device_obscured</th>\n",
       "      <th>weather_1_cloudy</th>\n",
       "      <th>weather_1_fog</th>\n",
       "      <th>weather_1_other</th>\n",
       "      <th>weather_1_raining</th>\n",
       "      <th>weather_1_snowing</th>\n",
       "      <th>weather_1_wind</th>\n",
       "      <th>vehicle_age</th>\n",
       "    </tr>\n",
       "  </thead>\n",
       "  <tbody>\n",
       "    <tr>\n",
       "      <th>114734</th>\n",
       "      <td>0.0</td>\n",
       "      <td>0.0</td>\n",
       "      <td>1.0</td>\n",
       "      <td>0.0</td>\n",
       "      <td>0.0</td>\n",
       "      <td>0.0</td>\n",
       "      <td>0.0</td>\n",
       "      <td>0.0</td>\n",
       "      <td>0.0</td>\n",
       "      <td>0.0</td>\n",
       "      <td>...</td>\n",
       "      <td>1.0</td>\n",
       "      <td>0.0</td>\n",
       "      <td>0.0</td>\n",
       "      <td>0.0</td>\n",
       "      <td>0.0</td>\n",
       "      <td>0.0</td>\n",
       "      <td>0.0</td>\n",
       "      <td>0.0</td>\n",
       "      <td>0.0</td>\n",
       "      <td>6.0</td>\n",
       "    </tr>\n",
       "    <tr>\n",
       "      <th>28393</th>\n",
       "      <td>0.0</td>\n",
       "      <td>0.0</td>\n",
       "      <td>1.0</td>\n",
       "      <td>0.0</td>\n",
       "      <td>0.0</td>\n",
       "      <td>0.0</td>\n",
       "      <td>1.0</td>\n",
       "      <td>0.0</td>\n",
       "      <td>0.0</td>\n",
       "      <td>0.0</td>\n",
       "      <td>...</td>\n",
       "      <td>1.0</td>\n",
       "      <td>0.0</td>\n",
       "      <td>0.0</td>\n",
       "      <td>0.0</td>\n",
       "      <td>0.0</td>\n",
       "      <td>0.0</td>\n",
       "      <td>0.0</td>\n",
       "      <td>1.0</td>\n",
       "      <td>0.0</td>\n",
       "      <td>0.0</td>\n",
       "    </tr>\n",
       "    <tr>\n",
       "      <th>6495</th>\n",
       "      <td>0.0</td>\n",
       "      <td>0.0</td>\n",
       "      <td>1.0</td>\n",
       "      <td>0.0</td>\n",
       "      <td>0.0</td>\n",
       "      <td>0.0</td>\n",
       "      <td>0.0</td>\n",
       "      <td>1.0</td>\n",
       "      <td>1.0</td>\n",
       "      <td>0.0</td>\n",
       "      <td>...</td>\n",
       "      <td>1.0</td>\n",
       "      <td>0.0</td>\n",
       "      <td>0.0</td>\n",
       "      <td>1.0</td>\n",
       "      <td>0.0</td>\n",
       "      <td>0.0</td>\n",
       "      <td>0.0</td>\n",
       "      <td>0.0</td>\n",
       "      <td>0.0</td>\n",
       "      <td>4.0</td>\n",
       "    </tr>\n",
       "    <tr>\n",
       "      <th>5761</th>\n",
       "      <td>0.0</td>\n",
       "      <td>0.0</td>\n",
       "      <td>1.0</td>\n",
       "      <td>0.0</td>\n",
       "      <td>0.0</td>\n",
       "      <td>0.0</td>\n",
       "      <td>0.0</td>\n",
       "      <td>0.0</td>\n",
       "      <td>0.0</td>\n",
       "      <td>0.0</td>\n",
       "      <td>...</td>\n",
       "      <td>0.0</td>\n",
       "      <td>0.0</td>\n",
       "      <td>0.0</td>\n",
       "      <td>0.0</td>\n",
       "      <td>0.0</td>\n",
       "      <td>0.0</td>\n",
       "      <td>0.0</td>\n",
       "      <td>0.0</td>\n",
       "      <td>0.0</td>\n",
       "      <td>5.0</td>\n",
       "    </tr>\n",
       "    <tr>\n",
       "      <th>111838</th>\n",
       "      <td>0.0</td>\n",
       "      <td>0.0</td>\n",
       "      <td>1.0</td>\n",
       "      <td>0.0</td>\n",
       "      <td>0.0</td>\n",
       "      <td>0.0</td>\n",
       "      <td>0.0</td>\n",
       "      <td>0.0</td>\n",
       "      <td>0.0</td>\n",
       "      <td>0.0</td>\n",
       "      <td>...</td>\n",
       "      <td>1.0</td>\n",
       "      <td>0.0</td>\n",
       "      <td>0.0</td>\n",
       "      <td>0.0</td>\n",
       "      <td>0.0</td>\n",
       "      <td>0.0</td>\n",
       "      <td>0.0</td>\n",
       "      <td>0.0</td>\n",
       "      <td>0.0</td>\n",
       "      <td>8.0</td>\n",
       "    </tr>\n",
       "    <tr>\n",
       "      <th>...</th>\n",
       "      <td>...</td>\n",
       "      <td>...</td>\n",
       "      <td>...</td>\n",
       "      <td>...</td>\n",
       "      <td>...</td>\n",
       "      <td>...</td>\n",
       "      <td>...</td>\n",
       "      <td>...</td>\n",
       "      <td>...</td>\n",
       "      <td>...</td>\n",
       "      <td>...</td>\n",
       "      <td>...</td>\n",
       "      <td>...</td>\n",
       "      <td>...</td>\n",
       "      <td>...</td>\n",
       "      <td>...</td>\n",
       "      <td>...</td>\n",
       "      <td>...</td>\n",
       "      <td>...</td>\n",
       "      <td>...</td>\n",
       "      <td>...</td>\n",
       "    </tr>\n",
       "    <tr>\n",
       "      <th>98293</th>\n",
       "      <td>0.0</td>\n",
       "      <td>0.0</td>\n",
       "      <td>1.0</td>\n",
       "      <td>0.0</td>\n",
       "      <td>0.0</td>\n",
       "      <td>0.0</td>\n",
       "      <td>0.0</td>\n",
       "      <td>0.0</td>\n",
       "      <td>0.0</td>\n",
       "      <td>0.0</td>\n",
       "      <td>...</td>\n",
       "      <td>1.0</td>\n",
       "      <td>0.0</td>\n",
       "      <td>0.0</td>\n",
       "      <td>0.0</td>\n",
       "      <td>0.0</td>\n",
       "      <td>0.0</td>\n",
       "      <td>0.0</td>\n",
       "      <td>0.0</td>\n",
       "      <td>0.0</td>\n",
       "      <td>3.0</td>\n",
       "    </tr>\n",
       "    <tr>\n",
       "      <th>4741</th>\n",
       "      <td>0.0</td>\n",
       "      <td>0.0</td>\n",
       "      <td>1.0</td>\n",
       "      <td>0.0</td>\n",
       "      <td>0.0</td>\n",
       "      <td>0.0</td>\n",
       "      <td>0.0</td>\n",
       "      <td>0.0</td>\n",
       "      <td>1.0</td>\n",
       "      <td>0.0</td>\n",
       "      <td>...</td>\n",
       "      <td>1.0</td>\n",
       "      <td>0.0</td>\n",
       "      <td>0.0</td>\n",
       "      <td>1.0</td>\n",
       "      <td>0.0</td>\n",
       "      <td>0.0</td>\n",
       "      <td>0.0</td>\n",
       "      <td>0.0</td>\n",
       "      <td>0.0</td>\n",
       "      <td>3.0</td>\n",
       "    </tr>\n",
       "    <tr>\n",
       "      <th>63226</th>\n",
       "      <td>0.0</td>\n",
       "      <td>1.0</td>\n",
       "      <td>0.0</td>\n",
       "      <td>0.0</td>\n",
       "      <td>0.0</td>\n",
       "      <td>0.0</td>\n",
       "      <td>0.0</td>\n",
       "      <td>0.0</td>\n",
       "      <td>1.0</td>\n",
       "      <td>0.0</td>\n",
       "      <td>...</td>\n",
       "      <td>1.0</td>\n",
       "      <td>0.0</td>\n",
       "      <td>0.0</td>\n",
       "      <td>0.0</td>\n",
       "      <td>0.0</td>\n",
       "      <td>0.0</td>\n",
       "      <td>0.0</td>\n",
       "      <td>0.0</td>\n",
       "      <td>0.0</td>\n",
       "      <td>3.0</td>\n",
       "    </tr>\n",
       "    <tr>\n",
       "      <th>22877</th>\n",
       "      <td>0.0</td>\n",
       "      <td>0.0</td>\n",
       "      <td>1.0</td>\n",
       "      <td>0.0</td>\n",
       "      <td>0.0</td>\n",
       "      <td>0.0</td>\n",
       "      <td>0.0</td>\n",
       "      <td>0.0</td>\n",
       "      <td>0.0</td>\n",
       "      <td>0.0</td>\n",
       "      <td>...</td>\n",
       "      <td>1.0</td>\n",
       "      <td>0.0</td>\n",
       "      <td>0.0</td>\n",
       "      <td>0.0</td>\n",
       "      <td>0.0</td>\n",
       "      <td>0.0</td>\n",
       "      <td>0.0</td>\n",
       "      <td>0.0</td>\n",
       "      <td>0.0</td>\n",
       "      <td>6.0</td>\n",
       "    </tr>\n",
       "    <tr>\n",
       "      <th>116062</th>\n",
       "      <td>0.0</td>\n",
       "      <td>0.0</td>\n",
       "      <td>1.0</td>\n",
       "      <td>0.0</td>\n",
       "      <td>0.0</td>\n",
       "      <td>0.0</td>\n",
       "      <td>0.0</td>\n",
       "      <td>0.0</td>\n",
       "      <td>0.0</td>\n",
       "      <td>0.0</td>\n",
       "      <td>...</td>\n",
       "      <td>0.0</td>\n",
       "      <td>0.0</td>\n",
       "      <td>0.0</td>\n",
       "      <td>0.0</td>\n",
       "      <td>0.0</td>\n",
       "      <td>0.0</td>\n",
       "      <td>0.0</td>\n",
       "      <td>0.0</td>\n",
       "      <td>0.0</td>\n",
       "      <td>9.0</td>\n",
       "    </tr>\n",
       "  </tbody>\n",
       "</table>\n",
       "<p>33210 rows × 31 columns</p>\n",
       "</div>"
      ],
      "text/plain": [
       "        party_sobriety_had been drinking, not under influence  \\\n",
       "114734                                                0.0       \n",
       "28393                                                 0.0       \n",
       "6495                                                  0.0       \n",
       "5761                                                  0.0       \n",
       "111838                                                0.0       \n",
       "...                                                   ...       \n",
       "98293                                                 0.0       \n",
       "4741                                                  0.0       \n",
       "63226                                                 0.0       \n",
       "22877                                                 0.0       \n",
       "116062                                                0.0       \n",
       "\n",
       "        party_sobriety_had been drinking, under influence  \\\n",
       "114734                                                0.0   \n",
       "28393                                                 0.0   \n",
       "6495                                                  0.0   \n",
       "5761                                                  0.0   \n",
       "111838                                                0.0   \n",
       "...                                                   ...   \n",
       "98293                                                 0.0   \n",
       "4741                                                  0.0   \n",
       "63226                                                 1.0   \n",
       "22877                                                 0.0   \n",
       "116062                                                0.0   \n",
       "\n",
       "        party_sobriety_had not been drinking  \\\n",
       "114734                                   1.0   \n",
       "28393                                    1.0   \n",
       "6495                                     1.0   \n",
       "5761                                     1.0   \n",
       "111838                                   1.0   \n",
       "...                                      ...   \n",
       "98293                                    1.0   \n",
       "4741                                     1.0   \n",
       "63226                                    0.0   \n",
       "22877                                    1.0   \n",
       "116062                                   1.0   \n",
       "\n",
       "        party_sobriety_impairment unknown  party_sobriety_not applicable  \\\n",
       "114734                                0.0                            0.0   \n",
       "28393                                 0.0                            0.0   \n",
       "6495                                  0.0                            0.0   \n",
       "5761                                  0.0                            0.0   \n",
       "111838                                0.0                            0.0   \n",
       "...                                   ...                            ...   \n",
       "98293                                 0.0                            0.0   \n",
       "4741                                  0.0                            0.0   \n",
       "63226                                 0.0                            0.0   \n",
       "22877                                 0.0                            0.0   \n",
       "116062                                0.0                            0.0   \n",
       "\n",
       "        road_surface_slippery  road_surface_snowy  road_surface_wet  \\\n",
       "114734                    0.0                 0.0               0.0   \n",
       "28393                     0.0                 1.0               0.0   \n",
       "6495                      0.0                 0.0               1.0   \n",
       "5761                      0.0                 0.0               0.0   \n",
       "111838                    0.0                 0.0               0.0   \n",
       "...                       ...                 ...               ...   \n",
       "98293                     0.0                 0.0               0.0   \n",
       "4741                      0.0                 0.0               0.0   \n",
       "63226                     0.0                 0.0               0.0   \n",
       "22877                     0.0                 0.0               0.0   \n",
       "116062                    0.0                 0.0               0.0   \n",
       "\n",
       "        lighting_dark with street lights  \\\n",
       "114734                               0.0   \n",
       "28393                                0.0   \n",
       "6495                                 1.0   \n",
       "5761                                 0.0   \n",
       "111838                               0.0   \n",
       "...                                  ...   \n",
       "98293                                0.0   \n",
       "4741                                 1.0   \n",
       "63226                                1.0   \n",
       "22877                                0.0   \n",
       "116062                               0.0   \n",
       "\n",
       "        lighting_dark with street lights not functioning  ...  \\\n",
       "114734                                               0.0  ...   \n",
       "28393                                                0.0  ...   \n",
       "6495                                                 0.0  ...   \n",
       "5761                                                 0.0  ...   \n",
       "111838                                               0.0  ...   \n",
       "...                                                  ...  ...   \n",
       "98293                                                0.0  ...   \n",
       "4741                                                 0.0  ...   \n",
       "63226                                                0.0  ...   \n",
       "22877                                                0.0  ...   \n",
       "116062                                               0.0  ...   \n",
       "\n",
       "        control_device_none  control_device_not functioning  \\\n",
       "114734                  1.0                             0.0   \n",
       "28393                   1.0                             0.0   \n",
       "6495                    1.0                             0.0   \n",
       "5761                    0.0                             0.0   \n",
       "111838                  1.0                             0.0   \n",
       "...                     ...                             ...   \n",
       "98293                   1.0                             0.0   \n",
       "4741                    1.0                             0.0   \n",
       "63226                   1.0                             0.0   \n",
       "22877                   1.0                             0.0   \n",
       "116062                  0.0                             0.0   \n",
       "\n",
       "        control_device_obscured  weather_1_cloudy  weather_1_fog  \\\n",
       "114734                      0.0               0.0            0.0   \n",
       "28393                       0.0               0.0            0.0   \n",
       "6495                        0.0               1.0            0.0   \n",
       "5761                        0.0               0.0            0.0   \n",
       "111838                      0.0               0.0            0.0   \n",
       "...                         ...               ...            ...   \n",
       "98293                       0.0               0.0            0.0   \n",
       "4741                        0.0               1.0            0.0   \n",
       "63226                       0.0               0.0            0.0   \n",
       "22877                       0.0               0.0            0.0   \n",
       "116062                      0.0               0.0            0.0   \n",
       "\n",
       "        weather_1_other  weather_1_raining  weather_1_snowing  weather_1_wind  \\\n",
       "114734              0.0                0.0                0.0             0.0   \n",
       "28393               0.0                0.0                1.0             0.0   \n",
       "6495                0.0                0.0                0.0             0.0   \n",
       "5761                0.0                0.0                0.0             0.0   \n",
       "111838              0.0                0.0                0.0             0.0   \n",
       "...                 ...                ...                ...             ...   \n",
       "98293               0.0                0.0                0.0             0.0   \n",
       "4741                0.0                0.0                0.0             0.0   \n",
       "63226               0.0                0.0                0.0             0.0   \n",
       "22877               0.0                0.0                0.0             0.0   \n",
       "116062              0.0                0.0                0.0             0.0   \n",
       "\n",
       "        vehicle_age  \n",
       "114734          6.0  \n",
       "28393           0.0  \n",
       "6495            4.0  \n",
       "5761            5.0  \n",
       "111838          8.0  \n",
       "...             ...  \n",
       "98293           3.0  \n",
       "4741            3.0  \n",
       "63226           3.0  \n",
       "22877           6.0  \n",
       "116062          9.0  \n",
       "\n",
       "[33210 rows x 31 columns]"
      ]
     },
     "execution_count": 60,
     "metadata": {},
     "output_type": "execute_result"
    }
   ],
   "source": [
    "features_test_new"
   ]
  },
  {
   "cell_type": "code",
   "execution_count": 61,
   "id": "231e1e79",
   "metadata": {},
   "outputs": [],
   "source": [
    "#ohe = OneHotEncoder(handle_unknown='ignore', sparse=False)\n",
    "#feature_arr = ohe.fit_transform(cat[cat.columns])\n",
    "#feature_labels = ohe.get_feature_names(cat.columns)\n",
    "#df_ohe = pd.DataFrame(feature_arr, columns=feature_labels)"
   ]
  },
  {
   "cell_type": "code",
   "execution_count": 62,
   "id": "f9fe97e3",
   "metadata": {},
   "outputs": [],
   "source": [
    "#data = pd.merge(df_ohe, t,  left_index=True, right_index=True)"
   ]
  },
  {
   "cell_type": "code",
   "execution_count": 63,
   "id": "c4fe3f8e",
   "metadata": {},
   "outputs": [],
   "source": [
    "#df_ohe.head()"
   ]
  },
  {
   "cell_type": "code",
   "execution_count": 64,
   "id": "6135f329",
   "metadata": {},
   "outputs": [],
   "source": [
    "def objective(trial):\n",
    "    clf_name = trial.suggest_categorical('classifier',['CatBoost'])\n",
    "    if clf_name == 'CatBoost':\n",
    "        iterations= trial.suggest_int('iterations', 50, 200,10)\n",
    "        clf_obj =CatBoostClassifier(depth=16,\n",
    "                                   iterations=iterations,\n",
    "                                    random_state=rs)\n",
    "\n",
    "\n",
    "    # Определяем метрику, на основе которой будет производиться оценка качества\n",
    "    scorer = make_scorer(f1_score)\n",
    "    clf_obj.fit(features_train_new,target_train)\n",
    "    # Выполняем кросс-валидацию\n",
    "    scores = cross_val_score(clf_obj, features_train_new, target_train, cv=3, scoring=scorer)\n",
    "    # Вычисляем среднее значение F-меры по всем фолдам\n",
    "    mean_score = scores.mean()\n",
    "    return mean_score\n"
   ]
  },
  {
   "cell_type": "code",
   "execution_count": null,
   "id": "d17ec921",
   "metadata": {},
   "outputs": [
    {
     "name": "stderr",
     "output_type": "stream",
     "text": [
      "\u001b[32m[I 2023-04-30 23:00:58,638]\u001b[0m A new study created in memory with name: no-name-36ca077e-f446-4b6e-86c6-333770e594e9\u001b[0m\n"
     ]
    },
    {
     "name": "stdout",
     "output_type": "stream",
     "text": [
      "Learning rate set to 0.5\n",
      "0:\tlearn: 0.6563971\ttotal: 61.2ms\tremaining: 4.83s\n",
      "1:\tlearn: 0.6447330\ttotal: 1.59s\tremaining: 1m 2s\n",
      "2:\tlearn: 0.6432684\ttotal: 1.61s\tremaining: 41.3s\n",
      "3:\tlearn: 0.6414411\ttotal: 1.64s\tremaining: 31.2s\n",
      "4:\tlearn: 0.6408559\ttotal: 1.66s\tremaining: 24.9s\n",
      "5:\tlearn: 0.6383272\ttotal: 3.01s\tremaining: 37.1s\n",
      "6:\tlearn: 0.6364717\ttotal: 4.33s\tremaining: 45.1s\n",
      "7:\tlearn: 0.6348055\ttotal: 5.65s\tremaining: 50.8s\n",
      "8:\tlearn: 0.6347588\ttotal: 5.67s\tremaining: 44.7s\n",
      "9:\tlearn: 0.6347237\ttotal: 5.68s\tremaining: 39.8s\n",
      "10:\tlearn: 0.6337869\ttotal: 7s\tremaining: 43.9s\n",
      "11:\tlearn: 0.6328679\ttotal: 8.32s\tremaining: 47.1s\n",
      "12:\tlearn: 0.6328533\ttotal: 8.34s\tremaining: 43s\n",
      "13:\tlearn: 0.6319006\ttotal: 9.64s\tremaining: 45.4s\n",
      "14:\tlearn: 0.6318863\ttotal: 9.65s\tremaining: 41.8s\n",
      "15:\tlearn: 0.6314196\ttotal: 11s\tremaining: 43.9s\n",
      "16:\tlearn: 0.6314037\ttotal: 11s\tremaining: 40.7s\n",
      "17:\tlearn: 0.6306641\ttotal: 12.6s\tremaining: 43.3s\n",
      "18:\tlearn: 0.6306083\ttotal: 12.6s\tremaining: 40.5s\n",
      "19:\tlearn: 0.6305687\ttotal: 12.7s\tremaining: 38.1s\n",
      "20:\tlearn: 0.6303344\ttotal: 14s\tremaining: 39.4s\n",
      "21:\tlearn: 0.6296910\ttotal: 15.4s\tremaining: 40.7s\n",
      "22:\tlearn: 0.6292280\ttotal: 16.8s\tremaining: 41.8s\n",
      "23:\tlearn: 0.6288854\ttotal: 18.2s\tremaining: 42.5s\n",
      "24:\tlearn: 0.6282587\ttotal: 19.6s\tremaining: 43.1s\n",
      "25:\tlearn: 0.6278992\ttotal: 21s\tremaining: 43.6s\n",
      "26:\tlearn: 0.6275123\ttotal: 22.4s\tremaining: 44s\n",
      "27:\tlearn: 0.6271413\ttotal: 23.8s\tremaining: 44.2s\n",
      "28:\tlearn: 0.6267728\ttotal: 25.2s\tremaining: 44.2s\n",
      "29:\tlearn: 0.6263989\ttotal: 26.6s\tremaining: 44.3s\n",
      "30:\tlearn: 0.6261159\ttotal: 28s\tremaining: 44.2s\n",
      "31:\tlearn: 0.6258905\ttotal: 29.3s\tremaining: 43.9s\n",
      "32:\tlearn: 0.6255514\ttotal: 30.6s\tremaining: 43.6s\n",
      "33:\tlearn: 0.6252772\ttotal: 32s\tremaining: 43.3s\n",
      "34:\tlearn: 0.6251165\ttotal: 33.3s\tremaining: 42.9s\n",
      "35:\tlearn: 0.6249049\ttotal: 34.8s\tremaining: 42.5s\n",
      "36:\tlearn: 0.6247819\ttotal: 36.2s\tremaining: 42s\n",
      "37:\tlearn: 0.6245755\ttotal: 37.5s\tremaining: 41.5s\n",
      "38:\tlearn: 0.6244237\ttotal: 38.8s\tremaining: 40.8s\n",
      "39:\tlearn: 0.6243063\ttotal: 40.4s\tremaining: 40.4s\n",
      "40:\tlearn: 0.6242323\ttotal: 41.7s\tremaining: 39.7s\n",
      "41:\tlearn: 0.6241086\ttotal: 43.1s\tremaining: 39s\n",
      "42:\tlearn: 0.6240418\ttotal: 44.4s\tremaining: 38.2s\n",
      "43:\tlearn: 0.6239565\ttotal: 45.8s\tremaining: 37.4s\n",
      "44:\tlearn: 0.6238728\ttotal: 47.1s\tremaining: 36.7s\n",
      "45:\tlearn: 0.6237605\ttotal: 48.5s\tremaining: 35.8s\n",
      "46:\tlearn: 0.6236823\ttotal: 49.8s\tremaining: 35s\n",
      "47:\tlearn: 0.6236122\ttotal: 51.1s\tremaining: 34.1s\n",
      "48:\tlearn: 0.6234936\ttotal: 52.5s\tremaining: 33.2s\n",
      "49:\tlearn: 0.6234222\ttotal: 53.8s\tremaining: 32.3s\n",
      "50:\tlearn: 0.6233452\ttotal: 55.1s\tremaining: 31.3s\n",
      "51:\tlearn: 0.6232816\ttotal: 56.4s\tremaining: 30.4s\n",
      "52:\tlearn: 0.6231840\ttotal: 57.7s\tremaining: 29.4s\n",
      "53:\tlearn: 0.6231270\ttotal: 59.1s\tremaining: 28.4s\n",
      "54:\tlearn: 0.6230706\ttotal: 1m\tremaining: 27.4s\n",
      "55:\tlearn: 0.6230033\ttotal: 1m 1s\tremaining: 26.4s\n",
      "56:\tlearn: 0.6229224\ttotal: 1m 3s\tremaining: 25.4s\n",
      "57:\tlearn: 0.6228547\ttotal: 1m 4s\tremaining: 24.4s\n",
      "58:\tlearn: 0.6228096\ttotal: 1m 5s\tremaining: 23.4s\n",
      "59:\tlearn: 0.6227567\ttotal: 1m 7s\tremaining: 22.3s\n",
      "60:\tlearn: 0.6227112\ttotal: 1m 8s\tremaining: 21.3s\n",
      "61:\tlearn: 0.6226719\ttotal: 1m 9s\tremaining: 20.2s\n",
      "62:\tlearn: 0.6226102\ttotal: 1m 10s\tremaining: 19.2s\n",
      "63:\tlearn: 0.6225624\ttotal: 1m 12s\tremaining: 18.1s\n",
      "64:\tlearn: 0.6225184\ttotal: 1m 13s\tremaining: 17s\n",
      "65:\tlearn: 0.6224629\ttotal: 1m 14s\tremaining: 15.9s\n",
      "66:\tlearn: 0.6224236\ttotal: 1m 16s\tremaining: 14.8s\n",
      "67:\tlearn: 0.6223918\ttotal: 1m 17s\tremaining: 13.7s\n",
      "68:\tlearn: 0.6223567\ttotal: 1m 19s\tremaining: 12.6s\n",
      "69:\tlearn: 0.6223260\ttotal: 1m 20s\tremaining: 11.5s\n",
      "70:\tlearn: 0.6222908\ttotal: 1m 21s\tremaining: 10.4s\n",
      "71:\tlearn: 0.6222643\ttotal: 1m 23s\tremaining: 9.23s\n",
      "72:\tlearn: 0.6222139\ttotal: 1m 24s\tremaining: 8.09s\n",
      "73:\tlearn: 0.6221850\ttotal: 1m 25s\tremaining: 6.95s\n",
      "74:\tlearn: 0.6221416\ttotal: 1m 27s\tremaining: 5.8s\n",
      "75:\tlearn: 0.6221042\ttotal: 1m 28s\tremaining: 4.65s\n",
      "76:\tlearn: 0.6220952\ttotal: 1m 29s\tremaining: 3.49s\n",
      "77:\tlearn: 0.6220534\ttotal: 1m 30s\tremaining: 2.33s\n",
      "78:\tlearn: 0.6220318\ttotal: 1m 32s\tremaining: 1.17s\n",
      "79:\tlearn: 0.6219929\ttotal: 1m 33s\tremaining: 0us\n",
      "Learning rate set to 0.5\n",
      "0:\tlearn: 0.6562637\ttotal: 8.01ms\tremaining: 633ms\n",
      "1:\tlearn: 0.6469010\ttotal: 25ms\tremaining: 974ms\n",
      "2:\tlearn: 0.6444358\ttotal: 37.2ms\tremaining: 954ms\n",
      "3:\tlearn: 0.6375653\ttotal: 37.2ms\tremaining: 954ms\n",
      "4:\tlearn: 0.6341150\ttotal: 37.2ms\tremaining: 954ms\n",
      "5:\tlearn: 0.6326158\ttotal: 37.2ms\tremaining: 954ms\n",
      "6:\tlearn: 0.6311335\ttotal: 37.2ms\tremaining: 954ms\n",
      "7:\tlearn: 0.6308004\ttotal: 90.6ms\tremaining: 1.63s\n",
      "8:\tlearn: 0.6306620\ttotal: 113ms\tremaining: 1.6s\n",
      "9:\tlearn: 0.6294276\ttotal: 1.38s\tremaining: 16.2s\n",
      "10:\tlearn: 0.6287111\ttotal: 2.7s\tremaining: 26.6s\n",
      "11:\tlearn: 0.6280802\ttotal: 3.98s\tremaining: 33.8s\n",
      "12:\tlearn: 0.6272101\ttotal: 5.27s\tremaining: 39.3s\n",
      "13:\tlearn: 0.6271883\ttotal: 5.29s\tremaining: 34.9s\n",
      "14:\tlearn: 0.6270394\ttotal: 5.38s\tremaining: 31.8s\n",
      "15:\tlearn: 0.6264540\ttotal: 6.72s\tremaining: 35.8s\n",
      "16:\tlearn: 0.6261315\ttotal: 6.94s\tremaining: 33.6s\n",
      "17:\tlearn: 0.6256767\ttotal: 8.31s\tremaining: 36.8s\n",
      "18:\tlearn: 0.6249761\ttotal: 9.59s\tremaining: 39s\n",
      "19:\tlearn: 0.6246442\ttotal: 9.81s\tremaining: 36.8s\n",
      "20:\tlearn: 0.6239976\ttotal: 11.1s\tremaining: 38.5s\n",
      "21:\tlearn: 0.6231990\ttotal: 12.4s\tremaining: 39.9s\n",
      "22:\tlearn: 0.6226087\ttotal: 13.6s\tremaining: 40.9s\n",
      "23:\tlearn: 0.6216668\ttotal: 14.9s\tremaining: 41.7s\n",
      "24:\tlearn: 0.6208755\ttotal: 16.2s\tremaining: 42.4s\n",
      "25:\tlearn: 0.6206069\ttotal: 17.4s\tremaining: 42.8s\n",
      "26:\tlearn: 0.6203281\ttotal: 18.7s\tremaining: 43.2s\n",
      "27:\tlearn: 0.6197726\ttotal: 20s\tremaining: 43.3s\n",
      "28:\tlearn: 0.6194238\ttotal: 21.2s\tremaining: 43.3s\n",
      "29:\tlearn: 0.6189333\ttotal: 22.5s\tremaining: 43.4s\n",
      "30:\tlearn: 0.6185836\ttotal: 23.8s\tremaining: 43.2s\n",
      "31:\tlearn: 0.6182689\ttotal: 25.1s\tremaining: 43s\n",
      "32:\tlearn: 0.6179546\ttotal: 26.4s\tremaining: 42.7s\n",
      "33:\tlearn: 0.6176768\ttotal: 27.6s\tremaining: 42.4s\n",
      "34:\tlearn: 0.6173566\ttotal: 28.9s\tremaining: 42s\n",
      "35:\tlearn: 0.6169843\ttotal: 30.2s\tremaining: 41.5s\n",
      "36:\tlearn: 0.6167933\ttotal: 31.4s\tremaining: 41s\n",
      "37:\tlearn: 0.6165726\ttotal: 32.7s\tremaining: 40.4s\n",
      "38:\tlearn: 0.6164147\ttotal: 34s\tremaining: 39.8s\n",
      "39:\tlearn: 0.6162703\ttotal: 35.2s\tremaining: 39.1s\n",
      "40:\tlearn: 0.6160752\ttotal: 36.6s\tremaining: 38.6s\n",
      "41:\tlearn: 0.6159698\ttotal: 38s\tremaining: 38s\n",
      "42:\tlearn: 0.6158279\ttotal: 39.3s\tremaining: 37.3s\n",
      "43:\tlearn: 0.6157178\ttotal: 40.6s\tremaining: 36.6s\n",
      "44:\tlearn: 0.6156031\ttotal: 42s\tremaining: 35.8s\n",
      "45:\tlearn: 0.6155052\ttotal: 43.4s\tremaining: 35.1s\n",
      "46:\tlearn: 0.6153268\ttotal: 44.7s\tremaining: 34.3s\n",
      "47:\tlearn: 0.6152227\ttotal: 46.1s\tremaining: 33.5s\n",
      "48:\tlearn: 0.6150524\ttotal: 47.4s\tremaining: 32.6s\n",
      "49:\tlearn: 0.6149553\ttotal: 48.7s\tremaining: 31.7s\n",
      "50:\tlearn: 0.6149032\ttotal: 49.9s\tremaining: 30.8s\n",
      "51:\tlearn: 0.6147799\ttotal: 51.2s\tremaining: 29.8s\n",
      "52:\tlearn: 0.6147028\ttotal: 52.5s\tremaining: 28.9s\n",
      "53:\tlearn: 0.6146018\ttotal: 53.9s\tremaining: 28s\n",
      "54:\tlearn: 0.6145134\ttotal: 55.2s\tremaining: 27.1s\n",
      "55:\tlearn: 0.6144197\ttotal: 56.5s\tremaining: 26.1s\n",
      "56:\tlearn: 0.6143717\ttotal: 57.8s\tremaining: 25.1s\n",
      "57:\tlearn: 0.6142791\ttotal: 59s\tremaining: 24.1s\n",
      "58:\tlearn: 0.6142023\ttotal: 1m\tremaining: 23s\n",
      "59:\tlearn: 0.6141097\ttotal: 1m 1s\tremaining: 22s\n",
      "60:\tlearn: 0.6140315\ttotal: 1m 2s\tremaining: 20.9s\n",
      "61:\tlearn: 0.6139800\ttotal: 1m 4s\tremaining: 19.9s\n",
      "62:\tlearn: 0.6139436\ttotal: 1m 5s\tremaining: 18.8s\n",
      "63:\tlearn: 0.6139069\ttotal: 1m 6s\tremaining: 17.8s\n",
      "64:\tlearn: 0.6138430\ttotal: 1m 8s\tremaining: 16.7s\n",
      "65:\tlearn: 0.6137977\ttotal: 1m 9s\tremaining: 15.7s\n",
      "66:\tlearn: 0.6137498\ttotal: 1m 10s\tremaining: 14.6s\n",
      "67:\tlearn: 0.6136836\ttotal: 1m 11s\tremaining: 13.5s\n",
      "68:\tlearn: 0.6136234\ttotal: 1m 13s\tremaining: 12.4s\n",
      "69:\tlearn: 0.6135857\ttotal: 1m 14s\tremaining: 11.3s\n",
      "70:\tlearn: 0.6135497\ttotal: 1m 15s\tremaining: 10.2s\n",
      "71:\tlearn: 0.6134697\ttotal: 1m 17s\tremaining: 9.06s\n",
      "72:\tlearn: 0.6134234\ttotal: 1m 18s\tremaining: 7.94s\n",
      "73:\tlearn: 0.6134083\ttotal: 1m 19s\tremaining: 6.82s\n",
      "74:\tlearn: 0.6133820\ttotal: 1m 20s\tremaining: 5.69s\n",
      "75:\tlearn: 0.6133502\ttotal: 1m 22s\tremaining: 4.56s\n",
      "76:\tlearn: 0.6133455\ttotal: 1m 22s\tremaining: 3.37s\n",
      "77:\tlearn: 0.6133217\ttotal: 1m 23s\tremaining: 2.25s\n",
      "78:\tlearn: 0.6132947\ttotal: 1m 24s\tremaining: 1.13s\n",
      "79:\tlearn: 0.6132444\ttotal: 1m 25s\tremaining: 0us\n",
      "Learning rate set to 0.5\n",
      "0:\tlearn: 0.6570510\ttotal: 7.71ms\tremaining: 609ms\n",
      "1:\tlearn: 0.6483901\ttotal: 24.7ms\tremaining: 965ms\n",
      "2:\tlearn: 0.6411652\ttotal: 24.7ms\tremaining: 965ms\n",
      "3:\tlearn: 0.6372846\ttotal: 24.7ms\tremaining: 965ms\n",
      "4:\tlearn: 0.6370160\ttotal: 39.1ms\tremaining: 979ms\n",
      "5:\tlearn: 0.6340932\ttotal: 1.3s\tremaining: 24s\n",
      "6:\tlearn: 0.6330106\ttotal: 2.55s\tremaining: 37.2s\n",
      "7:\tlearn: 0.6326063\ttotal: 2.64s\tremaining: 31.7s\n",
      "8:\tlearn: 0.6309849\ttotal: 3.9s\tremaining: 39.6s\n",
      "9:\tlearn: 0.6292831\ttotal: 5.16s\tremaining: 45.1s\n",
      "10:\tlearn: 0.6292416\ttotal: 5.17s\tremaining: 39.6s\n",
      "11:\tlearn: 0.6284892\ttotal: 6.42s\tremaining: 43.6s\n",
      "12:\tlearn: 0.6275741\ttotal: 7.75s\tremaining: 47.2s\n",
      "13:\tlearn: 0.6266321\ttotal: 9.03s\tremaining: 49.7s\n",
      "14:\tlearn: 0.6259670\ttotal: 10.3s\tremaining: 51.6s\n",
      "15:\tlearn: 0.6251197\ttotal: 11.6s\tremaining: 52.9s\n",
      "16:\tlearn: 0.6251184\ttotal: 11.6s\tremaining: 48.7s\n",
      "17:\tlearn: 0.6250958\ttotal: 11.6s\tremaining: 44.9s\n",
      "18:\tlearn: 0.6247446\ttotal: 12.8s\tremaining: 46.1s\n",
      "19:\tlearn: 0.6247225\ttotal: 12.9s\tremaining: 42.9s\n",
      "20:\tlearn: 0.6247210\ttotal: 12.9s\tremaining: 40s\n",
      "21:\tlearn: 0.6241757\ttotal: 14.1s\tremaining: 41s\n",
      "22:\tlearn: 0.6235707\ttotal: 15.4s\tremaining: 41.8s\n",
      "23:\tlearn: 0.6229339\ttotal: 16.6s\tremaining: 42.4s\n",
      "24:\tlearn: 0.6223266\ttotal: 17.9s\tremaining: 42.8s\n",
      "25:\tlearn: 0.6217712\ttotal: 19.1s\tremaining: 43.1s\n",
      "26:\tlearn: 0.6213783\ttotal: 20.4s\tremaining: 43.2s\n",
      "27:\tlearn: 0.6208683\ttotal: 21.6s\tremaining: 43.3s\n",
      "28:\tlearn: 0.6204692\ttotal: 22.9s\tremaining: 43.3s\n",
      "29:\tlearn: 0.6202508\ttotal: 24.2s\tremaining: 43.2s\n",
      "30:\tlearn: 0.6199530\ttotal: 25.5s\tremaining: 43s\n",
      "31:\tlearn: 0.6197409\ttotal: 26.7s\tremaining: 42.8s\n",
      "32:\tlearn: 0.6194284\ttotal: 28s\tremaining: 42.5s\n",
      "33:\tlearn: 0.6192612\ttotal: 29.3s\tremaining: 42.1s\n",
      "34:\tlearn: 0.6190443\ttotal: 30.5s\tremaining: 41.6s\n",
      "35:\tlearn: 0.6188667\ttotal: 31.8s\tremaining: 41.1s\n",
      "36:\tlearn: 0.6186951\ttotal: 33.1s\tremaining: 40.6s\n",
      "37:\tlearn: 0.6184940\ttotal: 34.3s\tremaining: 40.1s\n",
      "38:\tlearn: 0.6183215\ttotal: 35.6s\tremaining: 39.5s\n",
      "39:\tlearn: 0.6181985\ttotal: 37s\tremaining: 38.9s\n",
      "40:\tlearn: 0.6180679\ttotal: 38.3s\tremaining: 38.3s\n",
      "41:\tlearn: 0.6179834\ttotal: 39.6s\tremaining: 37.6s\n",
      "42:\tlearn: 0.6178156\ttotal: 40.9s\tremaining: 36.9s\n",
      "43:\tlearn: 0.6176575\ttotal: 42.3s\tremaining: 36.2s\n",
      "44:\tlearn: 0.6175424\ttotal: 43.6s\tremaining: 35.5s\n",
      "45:\tlearn: 0.6174350\ttotal: 44.9s\tremaining: 34.7s\n",
      "46:\tlearn: 0.6173483\ttotal: 46.2s\tremaining: 33.9s\n",
      "47:\tlearn: 0.6172127\ttotal: 47.5s\tremaining: 33.1s\n",
      "48:\tlearn: 0.6171304\ttotal: 48.8s\tremaining: 32.2s\n",
      "49:\tlearn: 0.6170558\ttotal: 50.1s\tremaining: 31.3s\n",
      "50:\tlearn: 0.6170048\ttotal: 51.4s\tremaining: 30.4s\n",
      "51:\tlearn: 0.6169557\ttotal: 52.7s\tremaining: 29.5s\n",
      "52:\tlearn: 0.6168929\ttotal: 54s\tremaining: 28.6s\n",
      "53:\tlearn: 0.6168529\ttotal: 55.3s\tremaining: 27.7s\n",
      "54:\tlearn: 0.6167984\ttotal: 56.6s\tremaining: 26.7s\n",
      "55:\tlearn: 0.6167541\ttotal: 57.9s\tremaining: 25.7s\n",
      "56:\tlearn: 0.6166683\ttotal: 59.2s\tremaining: 24.8s\n",
      "57:\tlearn: 0.6166052\ttotal: 1m\tremaining: 23.8s\n",
      "58:\tlearn: 0.6165418\ttotal: 1m 1s\tremaining: 22.8s\n",
      "59:\tlearn: 0.6165071\ttotal: 1m 3s\tremaining: 21.7s\n",
      "60:\tlearn: 0.6164269\ttotal: 1m 4s\tremaining: 20.7s\n",
      "61:\tlearn: 0.6163517\ttotal: 1m 5s\tremaining: 19.7s\n",
      "62:\tlearn: 0.6163114\ttotal: 1m 7s\tremaining: 18.7s\n",
      "63:\tlearn: 0.6162272\ttotal: 1m 8s\tremaining: 17.7s\n",
      "64:\tlearn: 0.6161869\ttotal: 1m 9s\tremaining: 16.6s\n",
      "65:\tlearn: 0.6161492\ttotal: 1m 11s\tremaining: 15.6s\n",
      "66:\tlearn: 0.6160630\ttotal: 1m 12s\tremaining: 14.6s\n",
      "67:\tlearn: 0.6160406\ttotal: 1m 14s\tremaining: 13.5s\n",
      "68:\tlearn: 0.6160056\ttotal: 1m 15s\tremaining: 12.4s\n",
      "69:\tlearn: 0.6159638\ttotal: 1m 17s\tremaining: 11.3s\n",
      "70:\tlearn: 0.6159372\ttotal: 1m 18s\tremaining: 10.2s\n",
      "71:\tlearn: 0.6159025\ttotal: 1m 20s\tremaining: 9.21s\n",
      "72:\tlearn: 0.6158631\ttotal: 1m 21s\tremaining: 8.08s\n",
      "73:\tlearn: 0.6158185\ttotal: 1m 23s\tremaining: 6.95s\n",
      "74:\tlearn: 0.6157558\ttotal: 1m 24s\tremaining: 5.8s\n",
      "75:\tlearn: 0.6157264\ttotal: 1m 26s\tremaining: 4.66s\n",
      "76:\tlearn: 0.6156881\ttotal: 1m 27s\tremaining: 3.5s\n",
      "77:\tlearn: 0.6156597\ttotal: 1m 28s\tremaining: 2.34s\n",
      "78:\tlearn: 0.6156058\ttotal: 1m 30s\tremaining: 1.17s\n",
      "79:\tlearn: 0.6155746\ttotal: 1m 31s\tremaining: 0us\n",
      "Learning rate set to 0.5\n",
      "0:\tlearn: 0.6565974\ttotal: 7.71ms\tremaining: 609ms\n",
      "1:\tlearn: 0.6476963\ttotal: 25.6ms\tremaining: 998ms\n",
      "2:\tlearn: 0.6391045\ttotal: 25.6ms\tremaining: 998ms\n",
      "3:\tlearn: 0.6351830\ttotal: 25.6ms\tremaining: 998ms\n",
      "4:\tlearn: 0.6349668\ttotal: 35.3ms\tremaining: 884ms\n",
      "5:\tlearn: 0.6338434\ttotal: 35.3ms\tremaining: 884ms\n",
      "6:\tlearn: 0.6322493\ttotal: 35.3ms\tremaining: 884ms\n",
      "7:\tlearn: 0.6310174\ttotal: 35.3ms\tremaining: 884ms\n",
      "8:\tlearn: 0.6308972\ttotal: 52.6ms\tremaining: 933ms\n",
      "9:\tlearn: 0.6300070\ttotal: 1.36s\tremaining: 19.1s\n",
      "10:\tlearn: 0.6299193\ttotal: 1.38s\tremaining: 15.9s\n",
      "11:\tlearn: 0.6298094\ttotal: 1.4s\tremaining: 13.6s\n",
      "12:\tlearn: 0.6289599\ttotal: 2.71s\tremaining: 22.7s\n",
      "13:\tlearn: 0.6279403\ttotal: 4.03s\tremaining: 29.5s\n",
      "14:\tlearn: 0.6272900\ttotal: 5.34s\tremaining: 34.7s\n",
      "15:\tlearn: 0.6269147\ttotal: 6.82s\tremaining: 39.7s\n",
      "16:\tlearn: 0.6263786\ttotal: 7.32s\tremaining: 38.4s\n",
      "17:\tlearn: 0.6260720\ttotal: 8.63s\tremaining: 41.1s\n"
     ]
    }
   ],
   "source": [
    "%%time\n",
    "\n",
    "np.random.seed(7)\n",
    "if __name__ == '__main__':\n",
    "    study = optuna.create_study(direction='maximize')\n",
    "    study.optimize(objective, n_trials =30)\n",
    "    print(study.best_trial)"
   ]
  },
  {
   "cell_type": "markdown",
   "id": "740fc745",
   "metadata": {},
   "source": [
    "**Модель Catboost**"
   ]
  },
  {
   "cell_type": "markdown",
   "id": "a020a93f",
   "metadata": {},
   "source": [
    "Лучшие параметры, и метрика для Catboost на обучающей выборке"
   ]
  },
  {
   "cell_type": "code",
   "execution_count": null,
   "id": "b37eb4cf",
   "metadata": {},
   "outputs": [],
   "source": [
    "cb = CatBoostClassifier(loss_function='Logloss', iterations=70, eval_metric='F1')\n",
    "cb_f1 = cb.fit(features_train_new, target_train, verbose=10)"
   ]
  },
  {
   "cell_type": "code",
   "execution_count": null,
   "id": "33d18b62",
   "metadata": {},
   "outputs": [],
   "source": [
    "print('Лучший F1 на обучающей выборке:', cb_f1.score(features_train_new, target_train))"
   ]
  },
  {
   "cell_type": "markdown",
   "id": "ae2a186d",
   "metadata": {},
   "source": [
    "**Модель Random Forest Classifier**"
   ]
  },
  {
   "cell_type": "code",
   "execution_count": null,
   "id": "9cb6f9a2",
   "metadata": {},
   "outputs": [],
   "source": [
    "rf_params = {\n",
    "    \n",
    "'criterion': ['gini', 'entropy'],\n",
    "'n_estimators':[10, 50, 100],\n",
    "'max_depth': [2, 5, 10],\n",
    "'min_samples_leaf':[10, 20],\n",
    "'class_weight': ['balanced']\n",
    "}\n",
    "\n",
    "rf_gs = GridSearchCV(RandomForestClassifier(random_state=12345),\n",
    "                    rf_params, cv = 10, scoring = 'f1',\n",
    "                    verbose = 2)\n",
    "rf_f1 = rf_gs.fit(features_train_new, target_train)"
   ]
  },
  {
   "cell_type": "code",
   "execution_count": null,
   "id": "7585ae94",
   "metadata": {},
   "outputs": [],
   "source": [
    "# вывод лучших параметров и метрик на обучающей и тестовой выборке\n",
    "print('Лучшие параметры:', rf_f1.best_params_)\n",
    "print('F1-score на обучающей выборке:', rf_f1.best_score_)"
   ]
  },
  {
   "cell_type": "markdown",
   "id": "1b5d4b0b",
   "metadata": {},
   "source": [
    "**Модель Decision Tree Classifier**"
   ]
  },
  {
   "cell_type": "code",
   "execution_count": null,
   "id": "e298e20a",
   "metadata": {},
   "outputs": [],
   "source": [
    "# Определение диапазона параметров для перебора\n",
    "param_grid = {'max_depth': range(1, 11), 'min_samples_leaf': range(1, 11)}\n",
    "\n",
    "# Создание модели и объекта кросс-валидации\n",
    "dt = DecisionTreeClassifier()\n",
    "dt_gs = GridSearchCV(dt, param_grid, cv=5, scoring = 'f1')\n",
    "\n",
    "# Обучение модели и подбор параметров\n",
    "dt_gs.fit(features_train_new, target_train)\n",
    "\n",
    "dt_f1 = dt_gs.fit(features_train_new, target_train)"
   ]
  },
  {
   "cell_type": "code",
   "execution_count": null,
   "id": "5e285e56",
   "metadata": {},
   "outputs": [],
   "source": [
    "# Вывод результата\n",
    "print('Оптимальные параметры для дерева решений', dt_f1.best_params_)"
   ]
  },
  {
   "cell_type": "code",
   "execution_count": null,
   "id": "e0601661",
   "metadata": {},
   "outputs": [],
   "source": [
    "print(\"Лучшие параметры:\", dt_gs.best_params_)\n",
    "print(\"Лучшее качество:\", dt_gs.best_score_)"
   ]
  },
  {
   "cell_type": "markdown",
   "id": "c33c3269",
   "metadata": {},
   "source": [
    "**Выбор наилучшей модели**"
   ]
  },
  {
   "cell_type": "code",
   "execution_count": null,
   "id": "3eb9f65c",
   "metadata": {},
   "outputs": [],
   "source": [
    "predictive_model_scores = pd.DataFrame(data=[('Decision Tree', dt_f1.score(features_train_new, target_train)),\n",
    "                                            ('Random Forest', rf_f1.score(features_train_new, target_train)),\n",
    "                                            ('CatBoost', cb_f1.score(features_train_new, target_train))],\n",
    "                                            columns=['model', 'training_f1', ])\n",
    "predictive_model_scores "
   ]
  },
  {
   "cell_type": "code",
   "execution_count": null,
   "id": "2a990c7b",
   "metadata": {},
   "outputs": [],
   "source": [
    "plt.style.use('default')\n",
    "plt.figure(figsize=(10,5))\n",
    "p=sns.barplot(x='model', y='training_f1', data=predictive_model_scores, palette='PuBu')\n",
    "plt.title('F1 моделей для тестовых выборок', fontsize=12)\n",
    "plt.xlabel('Модель', fontsize=12)\n",
    "plt.ylabel('F1', fontsize=12)\n",
    "for index, row in predictive_model_scores.iterrows():\n",
    "    p.text(x=row.name, y=row.training_f1, s=round(row.training_f1,2), color='black', horizontalalignment='center');"
   ]
  },
  {
   "cell_type": "markdown",
   "id": "7549d01e",
   "metadata": {},
   "source": [
    "Наилучшей моделью стала модель catboost."
   ]
  },
  {
   "cell_type": "code",
   "execution_count": null,
   "id": "4d8e45d6",
   "metadata": {},
   "outputs": [],
   "source": [
    "predicted_test_cb = dt_f1.predict(features_test_new)"
   ]
  },
  {
   "cell_type": "code",
   "execution_count": null,
   "id": "3fd5aee9",
   "metadata": {},
   "outputs": [],
   "source": [
    "f1_score(target_test, predicted_test_cb)"
   ]
  },
  {
   "cell_type": "markdown",
   "id": "f2652c45",
   "metadata": {},
   "source": [
    "Создадим матрицу ошибок для обученных выше моделей."
   ]
  },
  {
   "cell_type": "code",
   "execution_count": null,
   "id": "1be6d9cf",
   "metadata": {},
   "outputs": [],
   "source": [
    "cm_cb = confusion_matrix(target_test, predicted_test_cb)"
   ]
  },
  {
   "cell_type": "code",
   "execution_count": null,
   "id": "5f41406f",
   "metadata": {},
   "outputs": [],
   "source": [
    "cm_df_cb = pd.DataFrame(cm_cb, index=['Actually Not At Fault', 'Actually At Fault'],\n",
    "                       columns=['Predicted Not At Fault', 'Predicted At Fault'])"
   ]
  },
  {
   "cell_type": "code",
   "execution_count": null,
   "id": "653e993b",
   "metadata": {},
   "outputs": [],
   "source": [
    "sns.set(font_scale=1.2)\n",
    "plt.figure(figsize=(10,4))\n",
    "\n",
    "sns.heatmap(cm_cb, annot=True, fmt='g', cmap=\"Blues\",xticklabels=cm_df_cb.columns, yticklabels=cm_df_cb.index, annot_kws={\"size\": 20})\n",
    "plt.title(\"Матрица ошибок\", size=20)\n",
    "plt.title(\"Матрица ошибок\", size=20)\n",
    "plt.xlabel('Класс предсказаний')\n",
    "plt.ylabel('Реальный класс');"
   ]
  },
  {
   "cell_type": "code",
   "execution_count": null,
   "id": "34bc72e3",
   "metadata": {},
   "outputs": [],
   "source": [
    "TP = cm_cb[0][0]\n",
    "TN = cm_cb[1][1]\n",
    "FP = cm_cb[0][1]\n",
    "FN = cm_cb[1][0]\n",
    "total = cm_cb[0][0] + cm_cb[1][1] + cm_cb[0][1] + cm_cb[1][0]\n",
    "\n",
    "print('Всего предсказаний:',total)\n",
    "print(f'Правильно классифицированные: {np.round((TP+TN)/total*100)}%')\n",
    "print(f'Правильно классифицированная вина: {np.round(TP/(TP+FN)*100)}%')\n",
    "print(f'Правильно классифицированое отсутствие вины: {np.round(TN/(TN+FP)*100)}%')\n",
    "print(f'Прогнозируемая вина, соответствующая действительности: {np.round(TP/(TP+FP)*100)}%')\n",
    "print(f'Прогнозируемое отсутствие вины, которой так же на самом деле нет: {np.round(TN/(TN+FN)*100)}%')"
   ]
  },
  {
   "cell_type": "markdown",
   "id": "9e2fc12b",
   "metadata": {},
   "source": [
    "**Feature importances**"
   ]
  },
  {
   "cell_type": "markdown",
   "id": "e30fb298",
   "metadata": {},
   "source": [
    "**Catboost**"
   ]
  },
  {
   "cell_type": "code",
   "execution_count": null,
   "id": "c4d48de4",
   "metadata": {},
   "outputs": [],
   "source": [
    "feat_importances_cb = pd.Series((dt_gs.best_estimator_.feature_importances_), index=features_train_new.columns)\n",
    "feat_importances_cb.nlargest(5).plot(kind='barh')\n",
    "plt.show()"
   ]
  },
  {
   "cell_type": "markdown",
   "id": "41c4e787",
   "metadata": {},
   "source": [
    "Как мы видим, вышеперечисленная модель указывает на трезвость участника."
   ]
  },
  {
   "cell_type": "markdown",
   "id": "ed1f803e",
   "metadata": {},
   "source": [
    "Построим диаграмму зависимости числа ДТП от трезвости участника аварии."
   ]
  },
  {
   "cell_type": "code",
   "execution_count": null,
   "id": "0061884d",
   "metadata": {},
   "outputs": [],
   "source": [
    "query = '''\n",
    "\n",
    "SELECT DISTINCT party_sobriety,\n",
    "       COUNT(case_id) count_party_sobriety\n",
    "FROM parties\n",
    "WHERE party_sobriety != 'had not been drinking'\n",
    "AND party_sobriety != 'not applicable'\n",
    "GROUP BY party_sobriety\n",
    "ORDER BY count_party_sobriety DESC\n",
    "\n",
    "'''\n",
    "\n",
    "party_sobriety = pd.read_sql_query(query, con=engine)\n",
    "party_sobriety"
   ]
  },
  {
   "cell_type": "code",
   "execution_count": null,
   "id": "dac28fdf",
   "metadata": {},
   "outputs": [],
   "source": [
    "sns.barplot(data=party_sobriety, x='party_sobriety', y='count_party_sobriety')\n",
    "plt.title('Зависимость числа ДТП от трезвости участника аварии')\n",
    "plt.xticks(rotation=40)\n",
    "plt.xlabel('Уровень трезвости')\n",
    "plt.ylabel('Количество аварий')\n",
    "plt.show()"
   ]
  },
  {
   "cell_type": "markdown",
   "id": "5e5886dc",
   "metadata": {},
   "source": [
    "**Вывод:**"
   ]
  },
  {
   "cell_type": "markdown",
   "id": "45811e50",
   "metadata": {},
   "source": [
    "**Модель Catboost**\n",
    "* F1 на тестовой выбрке: 0.523962\n",
    "* Всего предсказаний: 38144\n",
    "* Правильно классифицированные: 52.0%\n",
    "* Правильно классифицированная вина: 48.0%\n",
    "* Правильно классифицированое отсутствие вины: 53.0%\n",
    "* Прогнозируемая вина, соответствующая действительности: 10.0%\n",
    "* Прогнозируемое отсутствие вины, которой так же на самом деле нет: 91.0%\n",
    "* Всего предсказаний: 38144\n",
    "* Правильно классифицированные: 52.0%\n",
    "* Правильно классифицированная вина: 48.0%\n",
    "* Правильно классифицированое отсутствие вины: 53.0%\n",
    "* Прогнозируемая вина, соответствующая действительности: 10.0%\n",
    "* Прогнозируемое отсутствие вины, которой так же на самом деле нет: 91.0%"
   ]
  },
  {
   "cell_type": "markdown",
   "id": "d0eab82c",
   "metadata": {},
   "source": [
    "Исходя из вышеперечисленных данных, мы можем сказать, что наилучшей моделью является модель catboost. Данная модель указывает на показатель трезвости участника."
   ]
  },
  {
   "cell_type": "markdown",
   "id": "86aa2db8",
   "metadata": {},
   "source": [
    "Поскольку самым важным фактором оказался трезвость участника, то можно преложить следующее:\n",
    "* Обязательно измерять уровень алкоголя перед посадкой за руль\n",
    "* Убедиться с помощью видеонаблюдения, что именно водитель владелец авто.\n",
    "* Оборудовать автомобиль анализатором алкогольного опьянения"
   ]
  },
  {
   "cell_type": "markdown",
   "id": "438b4728",
   "metadata": {},
   "source": [
    "# Вывод\n",
    "\n",
    "В ходе выполнения сборного проекта, мы выполнили следующие задачи:\n",
    "1) Мы загрузили таблицы SQL.\n",
    "\n",
    "2) Провели первичное исследование таблиц.\n",
    "\n",
    "3) Провели статистический анализ факторов ДТП.\n",
    "\n",
    "4) Создали модель для оценки водительского риска.\n",
    "\n",
    "5) Провели анализ важности факторов ДТП.\n",
    "\n",
    "6) Нашли и проверили лучшую модель в работе. Ей оказалась модель ерева решений с F1 = 0.665457 на тестовой выбрке.\n",
    "\n",
    "7) Сделали выводы по модели и дали рекомендации по исследованию.\n"
   ]
  }
 ],
 "metadata": {
  "ExecuteTimeLog": [
   {
    "duration": 1727,
    "start_time": "2023-04-23T15:45:38.461Z"
   },
   {
    "duration": 4,
    "start_time": "2023-04-23T15:45:40.190Z"
   },
   {
    "duration": 11846,
    "start_time": "2023-04-23T15:45:40.195Z"
   },
   {
    "duration": 51,
    "start_time": "2023-04-23T15:45:52.043Z"
   },
   {
    "duration": 8,
    "start_time": "2023-04-23T15:45:52.096Z"
   },
   {
    "duration": 17,
    "start_time": "2023-04-23T15:45:52.105Z"
   },
   {
    "duration": 24,
    "start_time": "2023-04-23T15:45:52.123Z"
   },
   {
    "duration": 203,
    "start_time": "2023-04-23T15:45:52.149Z"
   },
   {
    "duration": 242,
    "start_time": "2023-04-23T15:45:52.354Z"
   },
   {
    "duration": 1258,
    "start_time": "2023-04-23T15:45:52.597Z"
   },
   {
    "duration": 131,
    "start_time": "2023-04-23T15:45:53.856Z"
   },
   {
    "duration": 146,
    "start_time": "2023-04-23T15:45:53.988Z"
   },
   {
    "duration": 230,
    "start_time": "2023-04-23T15:45:54.138Z"
   },
   {
    "duration": 156,
    "start_time": "2023-04-23T15:45:54.372Z"
   },
   {
    "duration": 123,
    "start_time": "2023-04-23T15:45:54.530Z"
   },
   {
    "duration": 154,
    "start_time": "2023-04-23T15:45:54.655Z"
   },
   {
    "duration": 134,
    "start_time": "2023-04-23T15:45:54.812Z"
   },
   {
    "duration": 138,
    "start_time": "2023-04-23T15:45:54.947Z"
   },
   {
    "duration": 141,
    "start_time": "2023-04-23T15:45:55.087Z"
   },
   {
    "duration": 166,
    "start_time": "2023-04-23T15:45:55.230Z"
   },
   {
    "duration": 159,
    "start_time": "2023-04-23T15:45:55.398Z"
   },
   {
    "duration": 27061,
    "start_time": "2023-04-23T15:45:55.559Z"
   },
   {
    "duration": 13,
    "start_time": "2023-04-23T15:46:22.621Z"
   },
   {
    "duration": 82,
    "start_time": "2023-04-23T15:46:22.635Z"
   },
   {
    "duration": 76,
    "start_time": "2023-04-23T15:46:22.719Z"
   },
   {
    "duration": 29,
    "start_time": "2023-04-23T15:46:22.796Z"
   },
   {
    "duration": 107,
    "start_time": "2023-04-23T15:46:22.827Z"
   },
   {
    "duration": 37,
    "start_time": "2023-04-23T15:46:22.935Z"
   },
   {
    "duration": 75,
    "start_time": "2023-04-23T15:46:22.973Z"
   },
   {
    "duration": 71,
    "start_time": "2023-04-23T15:46:23.050Z"
   },
   {
    "duration": 15,
    "start_time": "2023-04-23T15:46:23.123Z"
   },
   {
    "duration": 149,
    "start_time": "2023-04-23T15:46:23.140Z"
   },
   {
    "duration": 19,
    "start_time": "2023-04-23T15:46:23.294Z"
   },
   {
    "duration": 7,
    "start_time": "2023-04-23T15:46:23.315Z"
   },
   {
    "duration": 28,
    "start_time": "2023-04-23T15:46:23.324Z"
   },
   {
    "duration": 42,
    "start_time": "2023-04-23T15:46:23.353Z"
   },
   {
    "duration": 10,
    "start_time": "2023-04-23T15:46:23.396Z"
   },
   {
    "duration": 34,
    "start_time": "2023-04-23T15:46:23.408Z"
   },
   {
    "duration": 241,
    "start_time": "2023-04-23T15:46:23.444Z"
   },
   {
    "duration": 8,
    "start_time": "2023-04-23T15:46:23.687Z"
   },
   {
    "duration": 52,
    "start_time": "2023-04-23T15:46:23.698Z"
   },
   {
    "duration": 1036,
    "start_time": "2023-04-23T15:46:23.751Z"
   },
   {
    "duration": 3,
    "start_time": "2023-04-23T15:46:24.794Z"
   },
   {
    "duration": 72,
    "start_time": "2023-04-23T15:46:24.798Z"
   },
   {
    "duration": 1300,
    "start_time": "2023-04-23T15:46:24.871Z"
   },
   {
    "duration": 13,
    "start_time": "2023-04-23T15:46:26.173Z"
   },
   {
    "duration": 39,
    "start_time": "2023-04-23T15:46:26.187Z"
   },
   {
    "duration": 136,
    "start_time": "2023-04-23T15:46:26.228Z"
   },
   {
    "duration": 205,
    "start_time": "2023-04-23T15:46:26.365Z"
   },
   {
    "duration": 22,
    "start_time": "2023-04-23T15:46:26.572Z"
   },
   {
    "duration": 62,
    "start_time": "2023-04-23T15:46:26.595Z"
   },
   {
    "duration": 6,
    "start_time": "2023-04-23T15:46:26.658Z"
   },
   {
    "duration": 5,
    "start_time": "2023-04-23T15:46:26.665Z"
   },
   {
    "duration": 10,
    "start_time": "2023-04-23T15:46:26.672Z"
   },
   {
    "duration": 211,
    "start_time": "2023-04-23T15:46:26.683Z"
   },
   {
    "duration": 6,
    "start_time": "2023-04-23T15:46:26.896Z"
   },
   {
    "duration": 209,
    "start_time": "2023-04-23T15:46:26.903Z"
   },
   {
    "duration": 6,
    "start_time": "2023-04-23T15:46:27.113Z"
   },
   {
    "duration": 240,
    "start_time": "2023-04-23T15:46:27.120Z"
   },
   {
    "duration": 5,
    "start_time": "2023-04-23T15:46:27.362Z"
   },
   {
    "duration": 196,
    "start_time": "2023-04-23T15:46:27.369Z"
   },
   {
    "duration": 138,
    "start_time": "2023-04-23T15:46:27.567Z"
   },
   {
    "duration": 197,
    "start_time": "2023-04-23T15:46:27.707Z"
   },
   {
    "duration": 1852,
    "start_time": "2023-04-24T12:13:36.920Z"
   },
   {
    "duration": 5,
    "start_time": "2023-04-24T12:13:38.774Z"
   },
   {
    "duration": 10468,
    "start_time": "2023-04-24T12:13:38.780Z"
   },
   {
    "duration": 68,
    "start_time": "2023-04-24T12:13:49.250Z"
   },
   {
    "duration": 13,
    "start_time": "2023-04-24T12:13:49.320Z"
   },
   {
    "duration": 13,
    "start_time": "2023-04-24T12:13:49.335Z"
   },
   {
    "duration": 16,
    "start_time": "2023-04-24T12:13:49.349Z"
   },
   {
    "duration": 197,
    "start_time": "2023-04-24T12:13:49.367Z"
   },
   {
    "duration": 292,
    "start_time": "2023-04-24T12:13:49.565Z"
   },
   {
    "duration": 196,
    "start_time": "2023-04-24T12:13:49.860Z"
   },
   {
    "duration": 3169,
    "start_time": "2023-04-24T12:13:50.058Z"
   },
   {
    "duration": 140,
    "start_time": "2023-04-24T12:13:53.228Z"
   },
   {
    "duration": 136,
    "start_time": "2023-04-24T12:13:53.370Z"
   },
   {
    "duration": 178,
    "start_time": "2023-04-24T12:13:53.507Z"
   },
   {
    "duration": 171,
    "start_time": "2023-04-24T12:13:53.686Z"
   },
   {
    "duration": 149,
    "start_time": "2023-04-24T12:13:53.859Z"
   },
   {
    "duration": 152,
    "start_time": "2023-04-24T12:13:54.013Z"
   },
   {
    "duration": 154,
    "start_time": "2023-04-24T12:13:54.167Z"
   },
   {
    "duration": 131,
    "start_time": "2023-04-24T12:13:54.323Z"
   },
   {
    "duration": 159,
    "start_time": "2023-04-24T12:13:54.456Z"
   },
   {
    "duration": 160,
    "start_time": "2023-04-24T12:13:54.616Z"
   },
   {
    "duration": 159,
    "start_time": "2023-04-24T12:13:54.778Z"
   },
   {
    "duration": 23751,
    "start_time": "2023-04-24T12:13:54.939Z"
   },
   {
    "duration": 19,
    "start_time": "2023-04-24T12:14:18.697Z"
   },
   {
    "duration": 86,
    "start_time": "2023-04-24T12:14:18.718Z"
   },
   {
    "duration": 70,
    "start_time": "2023-04-24T12:14:18.805Z"
   },
   {
    "duration": 49,
    "start_time": "2023-04-24T12:14:18.877Z"
   },
   {
    "duration": 134,
    "start_time": "2023-04-24T12:14:18.930Z"
   },
   {
    "duration": 37,
    "start_time": "2023-04-24T12:14:19.065Z"
   },
   {
    "duration": 65,
    "start_time": "2023-04-24T12:14:19.103Z"
   },
   {
    "duration": 85,
    "start_time": "2023-04-24T12:14:19.169Z"
   },
   {
    "duration": 15,
    "start_time": "2023-04-24T12:14:19.256Z"
   },
   {
    "duration": 153,
    "start_time": "2023-04-24T12:14:19.272Z"
   },
   {
    "duration": 22,
    "start_time": "2023-04-24T12:14:19.426Z"
   },
   {
    "duration": 9,
    "start_time": "2023-04-24T12:14:19.450Z"
   },
   {
    "duration": 55,
    "start_time": "2023-04-24T12:14:19.460Z"
   },
   {
    "duration": 24,
    "start_time": "2023-04-24T12:14:19.516Z"
   },
   {
    "duration": 19,
    "start_time": "2023-04-24T12:14:19.542Z"
   },
   {
    "duration": 43,
    "start_time": "2023-04-24T12:14:19.563Z"
   },
   {
    "duration": 277,
    "start_time": "2023-04-24T12:14:19.608Z"
   },
   {
    "duration": 13,
    "start_time": "2023-04-24T12:14:19.887Z"
   },
   {
    "duration": 50,
    "start_time": "2023-04-24T12:14:19.904Z"
   },
   {
    "duration": 1209,
    "start_time": "2023-04-24T12:14:19.955Z"
   },
   {
    "duration": 3,
    "start_time": "2023-04-24T12:14:21.165Z"
   },
   {
    "duration": 98,
    "start_time": "2023-04-24T12:14:21.170Z"
   },
   {
    "duration": 1378,
    "start_time": "2023-04-24T12:14:21.269Z"
   },
   {
    "duration": 13,
    "start_time": "2023-04-24T12:14:22.649Z"
   },
   {
    "duration": 35,
    "start_time": "2023-04-24T12:14:22.664Z"
   },
   {
    "duration": 160,
    "start_time": "2023-04-24T12:14:22.701Z"
   },
   {
    "duration": 256,
    "start_time": "2023-04-24T12:14:22.862Z"
   },
   {
    "duration": 15,
    "start_time": "2023-04-24T12:14:23.121Z"
   },
   {
    "duration": 92,
    "start_time": "2023-04-24T12:14:23.137Z"
   },
   {
    "duration": 3,
    "start_time": "2023-04-24T12:14:23.231Z"
   },
   {
    "duration": 19,
    "start_time": "2023-04-24T12:14:23.236Z"
   },
   {
    "duration": 33,
    "start_time": "2023-04-24T12:14:23.257Z"
   },
   {
    "duration": 259,
    "start_time": "2023-04-24T12:14:23.292Z"
   },
   {
    "duration": 6,
    "start_time": "2023-04-24T12:14:23.553Z"
   },
   {
    "duration": 263,
    "start_time": "2023-04-24T12:14:23.561Z"
   },
   {
    "duration": 5,
    "start_time": "2023-04-24T12:14:23.826Z"
   },
   {
    "duration": 254,
    "start_time": "2023-04-24T12:14:23.833Z"
   },
   {
    "duration": 19,
    "start_time": "2023-04-24T12:14:24.089Z"
   },
   {
    "duration": 218,
    "start_time": "2023-04-24T12:14:24.116Z"
   },
   {
    "duration": 136,
    "start_time": "2023-04-24T12:14:24.336Z"
   },
   {
    "duration": 208,
    "start_time": "2023-04-24T12:14:24.474Z"
   },
   {
    "duration": 131,
    "start_time": "2023-04-24T12:14:59.355Z"
   },
   {
    "duration": 1671,
    "start_time": "2023-04-24T12:15:05.416Z"
   },
   {
    "duration": 5,
    "start_time": "2023-04-24T12:15:07.089Z"
   },
   {
    "duration": 10160,
    "start_time": "2023-04-24T12:15:07.104Z"
   },
   {
    "duration": 76,
    "start_time": "2023-04-24T12:15:17.266Z"
   },
   {
    "duration": 9,
    "start_time": "2023-04-24T12:15:17.344Z"
   },
   {
    "duration": 31,
    "start_time": "2023-04-24T12:15:17.355Z"
   },
   {
    "duration": 32,
    "start_time": "2023-04-24T12:15:17.388Z"
   },
   {
    "duration": 205,
    "start_time": "2023-04-24T12:15:17.422Z"
   },
   {
    "duration": 293,
    "start_time": "2023-04-24T12:15:17.629Z"
   },
   {
    "duration": 197,
    "start_time": "2023-04-24T12:15:17.925Z"
   },
   {
    "duration": 174,
    "start_time": "2023-04-24T12:15:18.124Z"
   },
   {
    "duration": 1217,
    "start_time": "2023-04-24T12:15:18.304Z"
   },
   {
    "duration": 144,
    "start_time": "2023-04-24T12:15:19.523Z"
   },
   {
    "duration": 153,
    "start_time": "2023-04-24T12:15:19.670Z"
   },
   {
    "duration": 197,
    "start_time": "2023-04-24T12:15:19.825Z"
   },
   {
    "duration": 159,
    "start_time": "2023-04-24T12:15:20.024Z"
   },
   {
    "duration": 159,
    "start_time": "2023-04-24T12:15:20.185Z"
   },
   {
    "duration": 151,
    "start_time": "2023-04-24T12:15:20.346Z"
   },
   {
    "duration": 152,
    "start_time": "2023-04-24T12:15:20.503Z"
   },
   {
    "duration": 146,
    "start_time": "2023-04-24T12:15:20.657Z"
   },
   {
    "duration": 156,
    "start_time": "2023-04-24T12:15:20.809Z"
   },
   {
    "duration": 156,
    "start_time": "2023-04-24T12:15:20.967Z"
   },
   {
    "duration": 154,
    "start_time": "2023-04-24T12:15:21.125Z"
   },
   {
    "duration": 26108,
    "start_time": "2023-04-24T12:15:21.281Z"
   },
   {
    "duration": 22,
    "start_time": "2023-04-24T12:15:47.390Z"
   },
   {
    "duration": 111,
    "start_time": "2023-04-24T12:15:47.414Z"
   },
   {
    "duration": 84,
    "start_time": "2023-04-24T12:15:47.527Z"
   },
   {
    "duration": 42,
    "start_time": "2023-04-24T12:15:47.613Z"
   },
   {
    "duration": 102,
    "start_time": "2023-04-24T12:15:47.657Z"
   },
   {
    "duration": 56,
    "start_time": "2023-04-24T12:15:47.761Z"
   },
   {
    "duration": 70,
    "start_time": "2023-04-24T12:15:47.821Z"
   },
   {
    "duration": 83,
    "start_time": "2023-04-24T12:15:47.894Z"
   },
   {
    "duration": 36,
    "start_time": "2023-04-24T12:15:47.978Z"
   },
   {
    "duration": 148,
    "start_time": "2023-04-24T12:15:48.021Z"
   },
   {
    "duration": 34,
    "start_time": "2023-04-24T12:15:48.171Z"
   },
   {
    "duration": 14,
    "start_time": "2023-04-24T12:15:48.207Z"
   },
   {
    "duration": 32,
    "start_time": "2023-04-24T12:15:48.223Z"
   },
   {
    "duration": 23,
    "start_time": "2023-04-24T12:15:48.257Z"
   },
   {
    "duration": 31,
    "start_time": "2023-04-24T12:15:48.292Z"
   },
   {
    "duration": 35,
    "start_time": "2023-04-24T12:15:48.325Z"
   },
   {
    "duration": 285,
    "start_time": "2023-04-24T12:15:48.366Z"
   },
   {
    "duration": 4,
    "start_time": "2023-04-24T12:15:48.653Z"
   },
   {
    "duration": 63,
    "start_time": "2023-04-24T12:15:48.658Z"
   },
   {
    "duration": 1188,
    "start_time": "2023-04-24T12:15:48.723Z"
   },
   {
    "duration": 8,
    "start_time": "2023-04-24T12:15:49.913Z"
   },
   {
    "duration": 96,
    "start_time": "2023-04-24T12:15:49.924Z"
   },
   {
    "duration": 1266,
    "start_time": "2023-04-24T12:15:50.022Z"
   },
   {
    "duration": 25,
    "start_time": "2023-04-24T12:15:51.290Z"
   },
   {
    "duration": 32,
    "start_time": "2023-04-24T12:15:51.321Z"
   },
   {
    "duration": 178,
    "start_time": "2023-04-24T12:15:51.355Z"
   },
   {
    "duration": 267,
    "start_time": "2023-04-24T12:15:51.534Z"
   },
   {
    "duration": 17,
    "start_time": "2023-04-24T12:15:51.805Z"
   },
   {
    "duration": 96,
    "start_time": "2023-04-24T12:15:51.826Z"
   },
   {
    "duration": 4,
    "start_time": "2023-04-24T12:15:51.927Z"
   },
   {
    "duration": 21,
    "start_time": "2023-04-24T12:15:51.933Z"
   },
   {
    "duration": 19,
    "start_time": "2023-04-24T12:15:51.957Z"
   },
   {
    "duration": 300,
    "start_time": "2023-04-24T12:15:51.978Z"
   },
   {
    "duration": 26,
    "start_time": "2023-04-24T12:15:52.280Z"
   },
   {
    "duration": 258,
    "start_time": "2023-04-24T12:15:52.311Z"
   },
   {
    "duration": 6,
    "start_time": "2023-04-24T12:15:52.572Z"
   },
   {
    "duration": 268,
    "start_time": "2023-04-24T12:15:52.580Z"
   },
   {
    "duration": 7,
    "start_time": "2023-04-24T12:15:52.850Z"
   },
   {
    "duration": 219,
    "start_time": "2023-04-24T12:15:52.859Z"
   },
   {
    "duration": 151,
    "start_time": "2023-04-24T12:15:53.080Z"
   },
   {
    "duration": 216,
    "start_time": "2023-04-24T12:15:53.233Z"
   },
   {
    "duration": 1692,
    "start_time": "2023-04-24T12:21:12.077Z"
   },
   {
    "duration": 3,
    "start_time": "2023-04-24T12:21:13.771Z"
   },
   {
    "duration": 10796,
    "start_time": "2023-04-24T12:21:13.776Z"
   },
   {
    "duration": 80,
    "start_time": "2023-04-24T12:21:24.574Z"
   },
   {
    "duration": 9,
    "start_time": "2023-04-24T12:21:24.656Z"
   },
   {
    "duration": 11,
    "start_time": "2023-04-24T12:21:24.667Z"
   },
   {
    "duration": 24,
    "start_time": "2023-04-24T12:21:24.680Z"
   },
   {
    "duration": 211,
    "start_time": "2023-04-24T12:21:24.712Z"
   },
   {
    "duration": 300,
    "start_time": "2023-04-24T12:21:24.925Z"
   },
   {
    "duration": 239,
    "start_time": "2023-04-24T12:21:25.227Z"
   },
   {
    "duration": 118,
    "start_time": "2023-04-24T12:25:31.843Z"
   },
   {
    "duration": 7,
    "start_time": "2023-04-24T15:49:16.512Z"
   },
   {
    "duration": 1709,
    "start_time": "2023-04-24T15:49:31.105Z"
   },
   {
    "duration": 3,
    "start_time": "2023-04-24T15:49:32.816Z"
   },
   {
    "duration": 12100,
    "start_time": "2023-04-24T15:49:32.820Z"
   },
   {
    "duration": 221,
    "start_time": "2023-04-24T15:49:44.922Z"
   },
   {
    "duration": 39,
    "start_time": "2023-04-24T15:49:45.144Z"
   },
   {
    "duration": 40,
    "start_time": "2023-04-24T15:49:45.185Z"
   },
   {
    "duration": 43,
    "start_time": "2023-04-24T15:49:45.227Z"
   },
   {
    "duration": 226,
    "start_time": "2023-04-24T15:49:45.272Z"
   },
   {
    "duration": 286,
    "start_time": "2023-04-24T15:49:45.500Z"
   },
   {
    "duration": 3,
    "start_time": "2023-04-24T15:49:45.789Z"
   },
   {
    "duration": 278,
    "start_time": "2023-04-24T15:49:45.794Z"
   },
   {
    "duration": 0,
    "start_time": "2023-04-24T15:49:46.075Z"
   },
   {
    "duration": 0,
    "start_time": "2023-04-24T15:49:46.076Z"
   },
   {
    "duration": 0,
    "start_time": "2023-04-24T15:49:46.078Z"
   },
   {
    "duration": 0,
    "start_time": "2023-04-24T15:49:46.079Z"
   },
   {
    "duration": 0,
    "start_time": "2023-04-24T15:49:46.080Z"
   },
   {
    "duration": 0,
    "start_time": "2023-04-24T15:49:46.081Z"
   },
   {
    "duration": 0,
    "start_time": "2023-04-24T15:49:46.082Z"
   },
   {
    "duration": 0,
    "start_time": "2023-04-24T15:49:46.083Z"
   },
   {
    "duration": 0,
    "start_time": "2023-04-24T15:49:46.084Z"
   },
   {
    "duration": 0,
    "start_time": "2023-04-24T15:49:46.085Z"
   },
   {
    "duration": 0,
    "start_time": "2023-04-24T15:49:46.086Z"
   },
   {
    "duration": 0,
    "start_time": "2023-04-24T15:49:46.087Z"
   },
   {
    "duration": 0,
    "start_time": "2023-04-24T15:49:46.088Z"
   },
   {
    "duration": 0,
    "start_time": "2023-04-24T15:49:46.089Z"
   },
   {
    "duration": 0,
    "start_time": "2023-04-24T15:49:46.090Z"
   },
   {
    "duration": 0,
    "start_time": "2023-04-24T15:49:46.091Z"
   },
   {
    "duration": 0,
    "start_time": "2023-04-24T15:49:46.093Z"
   },
   {
    "duration": 0,
    "start_time": "2023-04-24T15:49:46.094Z"
   },
   {
    "duration": 0,
    "start_time": "2023-04-24T15:49:46.095Z"
   },
   {
    "duration": 0,
    "start_time": "2023-04-24T15:49:46.096Z"
   },
   {
    "duration": 0,
    "start_time": "2023-04-24T15:49:46.097Z"
   },
   {
    "duration": 0,
    "start_time": "2023-04-24T15:49:46.098Z"
   },
   {
    "duration": 0,
    "start_time": "2023-04-24T15:49:46.099Z"
   },
   {
    "duration": 0,
    "start_time": "2023-04-24T15:49:46.100Z"
   },
   {
    "duration": 0,
    "start_time": "2023-04-24T15:49:46.101Z"
   },
   {
    "duration": 0,
    "start_time": "2023-04-24T15:49:46.102Z"
   },
   {
    "duration": 0,
    "start_time": "2023-04-24T15:49:46.103Z"
   },
   {
    "duration": 0,
    "start_time": "2023-04-24T15:49:46.105Z"
   },
   {
    "duration": 0,
    "start_time": "2023-04-24T15:49:46.106Z"
   },
   {
    "duration": 0,
    "start_time": "2023-04-24T15:49:46.107Z"
   },
   {
    "duration": 0,
    "start_time": "2023-04-24T15:49:46.107Z"
   },
   {
    "duration": 0,
    "start_time": "2023-04-24T15:49:46.133Z"
   },
   {
    "duration": 0,
    "start_time": "2023-04-24T15:49:46.135Z"
   },
   {
    "duration": 0,
    "start_time": "2023-04-24T15:49:46.136Z"
   },
   {
    "duration": 0,
    "start_time": "2023-04-24T15:49:46.137Z"
   },
   {
    "duration": 0,
    "start_time": "2023-04-24T15:49:46.138Z"
   },
   {
    "duration": 0,
    "start_time": "2023-04-24T15:49:46.139Z"
   },
   {
    "duration": 0,
    "start_time": "2023-04-24T15:49:46.141Z"
   },
   {
    "duration": 0,
    "start_time": "2023-04-24T15:49:46.141Z"
   },
   {
    "duration": 0,
    "start_time": "2023-04-24T15:49:46.142Z"
   },
   {
    "duration": 1,
    "start_time": "2023-04-24T15:49:46.143Z"
   },
   {
    "duration": 0,
    "start_time": "2023-04-24T15:49:46.145Z"
   },
   {
    "duration": 0,
    "start_time": "2023-04-24T15:49:46.146Z"
   },
   {
    "duration": 0,
    "start_time": "2023-04-24T15:49:46.147Z"
   },
   {
    "duration": 0,
    "start_time": "2023-04-24T15:49:46.148Z"
   },
   {
    "duration": 0,
    "start_time": "2023-04-24T15:49:46.149Z"
   },
   {
    "duration": 0,
    "start_time": "2023-04-24T15:49:46.150Z"
   },
   {
    "duration": 0,
    "start_time": "2023-04-24T15:49:46.151Z"
   },
   {
    "duration": 0,
    "start_time": "2023-04-24T15:49:46.152Z"
   },
   {
    "duration": 0,
    "start_time": "2023-04-24T15:49:46.153Z"
   },
   {
    "duration": 0,
    "start_time": "2023-04-24T15:49:46.154Z"
   },
   {
    "duration": 0,
    "start_time": "2023-04-24T15:49:46.155Z"
   },
   {
    "duration": 0,
    "start_time": "2023-04-24T15:49:46.156Z"
   },
   {
    "duration": 0,
    "start_time": "2023-04-24T15:49:46.157Z"
   },
   {
    "duration": 0,
    "start_time": "2023-04-24T15:49:46.158Z"
   },
   {
    "duration": 3,
    "start_time": "2023-04-24T15:51:05.816Z"
   },
   {
    "duration": 123,
    "start_time": "2023-04-24T15:51:35.719Z"
   },
   {
    "duration": 128,
    "start_time": "2023-04-24T15:51:52.503Z"
   },
   {
    "duration": 11,
    "start_time": "2023-04-24T15:52:02.410Z"
   },
   {
    "duration": 11,
    "start_time": "2023-04-24T15:53:17.258Z"
   },
   {
    "duration": 11,
    "start_time": "2023-04-24T15:54:31.350Z"
   },
   {
    "duration": 13,
    "start_time": "2023-04-24T15:54:37.704Z"
   },
   {
    "duration": 13,
    "start_time": "2023-04-24T15:55:13.226Z"
   },
   {
    "duration": 2,
    "start_time": "2023-04-24T15:55:48.846Z"
   },
   {
    "duration": 401,
    "start_time": "2023-04-24T15:55:58.233Z"
   },
   {
    "duration": 3,
    "start_time": "2023-04-24T15:56:44.603Z"
   },
   {
    "duration": 996,
    "start_time": "2023-04-24T15:56:45.218Z"
   },
   {
    "duration": 192,
    "start_time": "2023-04-24T15:56:47.447Z"
   },
   {
    "duration": 12,
    "start_time": "2023-04-24T15:57:48.163Z"
   },
   {
    "duration": 12,
    "start_time": "2023-04-24T15:57:54.245Z"
   },
   {
    "duration": 4,
    "start_time": "2023-04-24T15:57:59.008Z"
   },
   {
    "duration": 3009,
    "start_time": "2023-04-24T15:58:03.999Z"
   },
   {
    "duration": 1834,
    "start_time": "2023-04-24T15:58:35.303Z"
   },
   {
    "duration": 3,
    "start_time": "2023-04-24T15:58:37.140Z"
   },
   {
    "duration": 12096,
    "start_time": "2023-04-24T15:58:37.145Z"
   },
   {
    "duration": 239,
    "start_time": "2023-04-24T15:58:49.242Z"
   },
   {
    "duration": 39,
    "start_time": "2023-04-24T15:58:49.483Z"
   },
   {
    "duration": 41,
    "start_time": "2023-04-24T15:58:49.524Z"
   },
   {
    "duration": 44,
    "start_time": "2023-04-24T15:58:49.567Z"
   },
   {
    "duration": 226,
    "start_time": "2023-04-24T15:58:49.613Z"
   },
   {
    "duration": 288,
    "start_time": "2023-04-24T15:58:49.841Z"
   },
   {
    "duration": 3,
    "start_time": "2023-04-24T15:58:50.134Z"
   },
   {
    "duration": 16,
    "start_time": "2023-04-24T15:58:50.138Z"
   },
   {
    "duration": 21,
    "start_time": "2023-04-24T15:58:50.155Z"
   },
   {
    "duration": 20,
    "start_time": "2023-04-24T15:58:50.177Z"
   },
   {
    "duration": 2655,
    "start_time": "2023-04-24T15:58:50.201Z"
   },
   {
    "duration": 277,
    "start_time": "2023-04-24T15:58:52.858Z"
   },
   {
    "duration": 0,
    "start_time": "2023-04-24T15:58:53.137Z"
   },
   {
    "duration": 0,
    "start_time": "2023-04-24T15:58:53.139Z"
   },
   {
    "duration": 0,
    "start_time": "2023-04-24T15:58:53.140Z"
   },
   {
    "duration": 0,
    "start_time": "2023-04-24T15:58:53.142Z"
   },
   {
    "duration": 0,
    "start_time": "2023-04-24T15:58:53.144Z"
   },
   {
    "duration": 0,
    "start_time": "2023-04-24T15:58:53.145Z"
   },
   {
    "duration": 0,
    "start_time": "2023-04-24T15:58:53.146Z"
   },
   {
    "duration": 0,
    "start_time": "2023-04-24T15:58:53.148Z"
   },
   {
    "duration": 0,
    "start_time": "2023-04-24T15:58:53.149Z"
   },
   {
    "duration": 0,
    "start_time": "2023-04-24T15:58:53.150Z"
   },
   {
    "duration": 0,
    "start_time": "2023-04-24T15:58:53.152Z"
   },
   {
    "duration": 0,
    "start_time": "2023-04-24T15:58:53.153Z"
   },
   {
    "duration": 0,
    "start_time": "2023-04-24T15:58:53.155Z"
   },
   {
    "duration": 0,
    "start_time": "2023-04-24T15:58:53.155Z"
   },
   {
    "duration": 0,
    "start_time": "2023-04-24T15:58:53.157Z"
   },
   {
    "duration": 0,
    "start_time": "2023-04-24T15:58:53.158Z"
   },
   {
    "duration": 0,
    "start_time": "2023-04-24T15:58:53.159Z"
   },
   {
    "duration": 0,
    "start_time": "2023-04-24T15:58:53.160Z"
   },
   {
    "duration": 0,
    "start_time": "2023-04-24T15:58:53.161Z"
   },
   {
    "duration": 0,
    "start_time": "2023-04-24T15:58:53.162Z"
   },
   {
    "duration": 0,
    "start_time": "2023-04-24T15:58:53.163Z"
   },
   {
    "duration": 0,
    "start_time": "2023-04-24T15:58:53.164Z"
   },
   {
    "duration": 0,
    "start_time": "2023-04-24T15:58:53.165Z"
   },
   {
    "duration": 0,
    "start_time": "2023-04-24T15:58:53.166Z"
   },
   {
    "duration": 0,
    "start_time": "2023-04-24T15:58:53.167Z"
   },
   {
    "duration": 0,
    "start_time": "2023-04-24T15:58:53.168Z"
   },
   {
    "duration": 0,
    "start_time": "2023-04-24T15:58:53.170Z"
   },
   {
    "duration": 0,
    "start_time": "2023-04-24T15:58:53.171Z"
   },
   {
    "duration": 0,
    "start_time": "2023-04-24T15:58:53.173Z"
   },
   {
    "duration": 0,
    "start_time": "2023-04-24T15:58:53.174Z"
   },
   {
    "duration": 0,
    "start_time": "2023-04-24T15:58:53.234Z"
   },
   {
    "duration": 0,
    "start_time": "2023-04-24T15:58:53.235Z"
   },
   {
    "duration": 0,
    "start_time": "2023-04-24T15:58:53.236Z"
   },
   {
    "duration": 0,
    "start_time": "2023-04-24T15:58:53.237Z"
   },
   {
    "duration": 0,
    "start_time": "2023-04-24T15:58:53.238Z"
   },
   {
    "duration": 0,
    "start_time": "2023-04-24T15:58:53.239Z"
   },
   {
    "duration": 0,
    "start_time": "2023-04-24T15:58:53.240Z"
   },
   {
    "duration": 0,
    "start_time": "2023-04-24T15:58:53.242Z"
   },
   {
    "duration": 0,
    "start_time": "2023-04-24T15:58:53.243Z"
   },
   {
    "duration": 0,
    "start_time": "2023-04-24T15:58:53.244Z"
   },
   {
    "duration": 0,
    "start_time": "2023-04-24T15:58:53.245Z"
   },
   {
    "duration": 0,
    "start_time": "2023-04-24T15:58:53.247Z"
   },
   {
    "duration": 0,
    "start_time": "2023-04-24T15:58:53.248Z"
   },
   {
    "duration": 0,
    "start_time": "2023-04-24T15:58:53.249Z"
   },
   {
    "duration": 0,
    "start_time": "2023-04-24T15:58:53.250Z"
   },
   {
    "duration": 0,
    "start_time": "2023-04-24T15:58:53.251Z"
   },
   {
    "duration": 0,
    "start_time": "2023-04-24T15:58:53.252Z"
   },
   {
    "duration": 0,
    "start_time": "2023-04-24T15:58:53.253Z"
   },
   {
    "duration": 0,
    "start_time": "2023-04-24T15:58:53.254Z"
   },
   {
    "duration": 0,
    "start_time": "2023-04-24T15:58:53.255Z"
   },
   {
    "duration": 0,
    "start_time": "2023-04-24T15:58:53.257Z"
   },
   {
    "duration": 0,
    "start_time": "2023-04-24T15:58:53.258Z"
   },
   {
    "duration": 0,
    "start_time": "2023-04-24T15:58:53.259Z"
   },
   {
    "duration": 0,
    "start_time": "2023-04-24T15:58:53.260Z"
   },
   {
    "duration": 0,
    "start_time": "2023-04-24T15:58:53.261Z"
   },
   {
    "duration": 1654,
    "start_time": "2023-04-24T15:59:58.886Z"
   },
   {
    "duration": 5,
    "start_time": "2023-04-24T16:00:00.543Z"
   },
   {
    "duration": 17834,
    "start_time": "2023-04-24T16:00:00.549Z"
   },
   {
    "duration": 241,
    "start_time": "2023-04-24T16:00:18.386Z"
   },
   {
    "duration": 40,
    "start_time": "2023-04-24T16:00:18.629Z"
   },
   {
    "duration": 42,
    "start_time": "2023-04-24T16:00:18.671Z"
   },
   {
    "duration": 44,
    "start_time": "2023-04-24T16:00:18.715Z"
   },
   {
    "duration": 225,
    "start_time": "2023-04-24T16:00:18.761Z"
   },
   {
    "duration": 296,
    "start_time": "2023-04-24T16:00:18.988Z"
   },
   {
    "duration": 3,
    "start_time": "2023-04-24T16:00:19.286Z"
   },
   {
    "duration": 11,
    "start_time": "2023-04-24T16:00:19.291Z"
   },
   {
    "duration": 16,
    "start_time": "2023-04-24T16:00:19.303Z"
   },
   {
    "duration": 22,
    "start_time": "2023-04-24T16:00:19.322Z"
   },
   {
    "duration": 2847,
    "start_time": "2023-04-24T16:00:19.346Z"
   },
   {
    "duration": 4,
    "start_time": "2023-04-24T16:00:22.195Z"
   },
   {
    "duration": 134,
    "start_time": "2023-04-24T16:00:22.200Z"
   },
   {
    "duration": 0,
    "start_time": "2023-04-24T16:00:22.337Z"
   },
   {
    "duration": 0,
    "start_time": "2023-04-24T16:00:22.339Z"
   },
   {
    "duration": 0,
    "start_time": "2023-04-24T16:00:22.340Z"
   },
   {
    "duration": 0,
    "start_time": "2023-04-24T16:00:22.341Z"
   },
   {
    "duration": 0,
    "start_time": "2023-04-24T16:00:22.342Z"
   },
   {
    "duration": 0,
    "start_time": "2023-04-24T16:00:22.343Z"
   },
   {
    "duration": 0,
    "start_time": "2023-04-24T16:00:22.344Z"
   },
   {
    "duration": 0,
    "start_time": "2023-04-24T16:00:22.345Z"
   },
   {
    "duration": 0,
    "start_time": "2023-04-24T16:00:22.346Z"
   },
   {
    "duration": 0,
    "start_time": "2023-04-24T16:00:22.347Z"
   },
   {
    "duration": 0,
    "start_time": "2023-04-24T16:00:22.348Z"
   },
   {
    "duration": 0,
    "start_time": "2023-04-24T16:00:22.350Z"
   },
   {
    "duration": 0,
    "start_time": "2023-04-24T16:00:22.351Z"
   },
   {
    "duration": 0,
    "start_time": "2023-04-24T16:00:22.353Z"
   },
   {
    "duration": 0,
    "start_time": "2023-04-24T16:00:22.354Z"
   },
   {
    "duration": 0,
    "start_time": "2023-04-24T16:00:22.355Z"
   },
   {
    "duration": 1,
    "start_time": "2023-04-24T16:00:22.355Z"
   },
   {
    "duration": 0,
    "start_time": "2023-04-24T16:00:22.357Z"
   },
   {
    "duration": 0,
    "start_time": "2023-04-24T16:00:22.358Z"
   },
   {
    "duration": 0,
    "start_time": "2023-04-24T16:00:22.359Z"
   },
   {
    "duration": 0,
    "start_time": "2023-04-24T16:00:22.360Z"
   },
   {
    "duration": 0,
    "start_time": "2023-04-24T16:00:22.361Z"
   },
   {
    "duration": 0,
    "start_time": "2023-04-24T16:00:22.362Z"
   },
   {
    "duration": 0,
    "start_time": "2023-04-24T16:00:22.363Z"
   },
   {
    "duration": 0,
    "start_time": "2023-04-24T16:00:22.364Z"
   },
   {
    "duration": 0,
    "start_time": "2023-04-24T16:00:22.366Z"
   },
   {
    "duration": 0,
    "start_time": "2023-04-24T16:00:22.367Z"
   },
   {
    "duration": 0,
    "start_time": "2023-04-24T16:00:22.368Z"
   },
   {
    "duration": 0,
    "start_time": "2023-04-24T16:00:22.369Z"
   },
   {
    "duration": 0,
    "start_time": "2023-04-24T16:00:22.370Z"
   },
   {
    "duration": 0,
    "start_time": "2023-04-24T16:00:22.371Z"
   },
   {
    "duration": 0,
    "start_time": "2023-04-24T16:00:22.373Z"
   },
   {
    "duration": 0,
    "start_time": "2023-04-24T16:00:22.434Z"
   },
   {
    "duration": 0,
    "start_time": "2023-04-24T16:00:22.435Z"
   },
   {
    "duration": 0,
    "start_time": "2023-04-24T16:00:22.437Z"
   },
   {
    "duration": 0,
    "start_time": "2023-04-24T16:00:22.438Z"
   },
   {
    "duration": 0,
    "start_time": "2023-04-24T16:00:22.439Z"
   },
   {
    "duration": 0,
    "start_time": "2023-04-24T16:00:22.440Z"
   },
   {
    "duration": 0,
    "start_time": "2023-04-24T16:00:22.441Z"
   },
   {
    "duration": 0,
    "start_time": "2023-04-24T16:00:22.443Z"
   },
   {
    "duration": 0,
    "start_time": "2023-04-24T16:00:22.444Z"
   },
   {
    "duration": 0,
    "start_time": "2023-04-24T16:00:22.445Z"
   },
   {
    "duration": 0,
    "start_time": "2023-04-24T16:00:22.446Z"
   },
   {
    "duration": 0,
    "start_time": "2023-04-24T16:00:22.447Z"
   },
   {
    "duration": 0,
    "start_time": "2023-04-24T16:00:22.448Z"
   },
   {
    "duration": 0,
    "start_time": "2023-04-24T16:00:22.449Z"
   },
   {
    "duration": 0,
    "start_time": "2023-04-24T16:00:22.450Z"
   },
   {
    "duration": 0,
    "start_time": "2023-04-24T16:00:22.452Z"
   },
   {
    "duration": 0,
    "start_time": "2023-04-24T16:00:22.453Z"
   },
   {
    "duration": 0,
    "start_time": "2023-04-24T16:00:22.454Z"
   },
   {
    "duration": 0,
    "start_time": "2023-04-24T16:00:22.455Z"
   },
   {
    "duration": 0,
    "start_time": "2023-04-24T16:00:22.457Z"
   },
   {
    "duration": 0,
    "start_time": "2023-04-24T16:00:22.458Z"
   },
   {
    "duration": 0,
    "start_time": "2023-04-24T16:00:22.459Z"
   },
   {
    "duration": 1499,
    "start_time": "2023-04-24T16:00:51.508Z"
   },
   {
    "duration": 3,
    "start_time": "2023-04-24T16:00:53.009Z"
   },
   {
    "duration": 14395,
    "start_time": "2023-04-24T16:00:53.014Z"
   },
   {
    "duration": 212,
    "start_time": "2023-04-24T16:01:07.411Z"
   },
   {
    "duration": 38,
    "start_time": "2023-04-24T16:01:07.625Z"
   },
   {
    "duration": 39,
    "start_time": "2023-04-24T16:01:07.665Z"
   },
   {
    "duration": 42,
    "start_time": "2023-04-24T16:01:07.706Z"
   },
   {
    "duration": 224,
    "start_time": "2023-04-24T16:01:07.749Z"
   },
   {
    "duration": 272,
    "start_time": "2023-04-24T16:01:07.975Z"
   },
   {
    "duration": 2,
    "start_time": "2023-04-24T16:01:08.249Z"
   },
   {
    "duration": 27,
    "start_time": "2023-04-24T16:01:08.253Z"
   },
   {
    "duration": 7,
    "start_time": "2023-04-24T16:01:08.282Z"
   },
   {
    "duration": 17,
    "start_time": "2023-04-24T16:01:08.291Z"
   },
   {
    "duration": 2783,
    "start_time": "2023-04-24T16:01:08.311Z"
   },
   {
    "duration": 3,
    "start_time": "2023-04-24T16:01:11.096Z"
   },
   {
    "duration": 2766,
    "start_time": "2023-04-24T16:01:11.100Z"
   },
   {
    "duration": 147,
    "start_time": "2023-04-24T16:01:13.868Z"
   },
   {
    "duration": 161,
    "start_time": "2023-04-24T16:01:14.017Z"
   },
   {
    "duration": 171,
    "start_time": "2023-04-24T16:01:14.179Z"
   },
   {
    "duration": 183,
    "start_time": "2023-04-24T16:01:14.352Z"
   },
   {
    "duration": 143,
    "start_time": "2023-04-24T16:01:14.536Z"
   },
   {
    "duration": 181,
    "start_time": "2023-04-24T16:01:14.681Z"
   },
   {
    "duration": 143,
    "start_time": "2023-04-24T16:01:14.864Z"
   },
   {
    "duration": 166,
    "start_time": "2023-04-24T16:01:15.010Z"
   },
   {
    "duration": 152,
    "start_time": "2023-04-24T16:01:15.178Z"
   },
   {
    "duration": 188,
    "start_time": "2023-04-24T16:01:15.332Z"
   },
   {
    "duration": 304,
    "start_time": "2023-04-24T16:01:15.522Z"
   },
   {
    "duration": 23064,
    "start_time": "2023-04-24T16:01:15.828Z"
   },
   {
    "duration": 16,
    "start_time": "2023-04-24T16:01:38.894Z"
   },
   {
    "duration": 97,
    "start_time": "2023-04-24T16:01:38.912Z"
   },
   {
    "duration": 96,
    "start_time": "2023-04-24T16:01:39.011Z"
   },
   {
    "duration": 33,
    "start_time": "2023-04-24T16:01:39.109Z"
   },
   {
    "duration": 129,
    "start_time": "2023-04-24T16:01:39.143Z"
   },
   {
    "duration": 48,
    "start_time": "2023-04-24T16:01:39.274Z"
   },
   {
    "duration": 77,
    "start_time": "2023-04-24T16:01:39.324Z"
   },
   {
    "duration": 93,
    "start_time": "2023-04-24T16:01:39.402Z"
   },
   {
    "duration": 25,
    "start_time": "2023-04-24T16:01:39.497Z"
   },
   {
    "duration": 167,
    "start_time": "2023-04-24T16:01:39.523Z"
   },
   {
    "duration": 23,
    "start_time": "2023-04-24T16:01:39.692Z"
   },
   {
    "duration": 20,
    "start_time": "2023-04-24T16:01:39.717Z"
   },
   {
    "duration": 38,
    "start_time": "2023-04-24T16:01:39.741Z"
   },
   {
    "duration": 22,
    "start_time": "2023-04-24T16:01:39.781Z"
   },
   {
    "duration": 13,
    "start_time": "2023-04-24T16:01:39.805Z"
   },
   {
    "duration": 35,
    "start_time": "2023-04-24T16:01:39.834Z"
   },
   {
    "duration": 301,
    "start_time": "2023-04-24T16:01:39.871Z"
   },
   {
    "duration": 3,
    "start_time": "2023-04-24T16:01:40.174Z"
   },
   {
    "duration": 57,
    "start_time": "2023-04-24T16:01:40.179Z"
   },
   {
    "duration": 1126,
    "start_time": "2023-04-24T16:01:40.238Z"
   },
   {
    "duration": 3,
    "start_time": "2023-04-24T16:01:41.366Z"
   },
   {
    "duration": 92,
    "start_time": "2023-04-24T16:01:41.371Z"
   },
   {
    "duration": 1380,
    "start_time": "2023-04-24T16:01:41.465Z"
   },
   {
    "duration": 13,
    "start_time": "2023-04-24T16:01:42.846Z"
   },
   {
    "duration": 30,
    "start_time": "2023-04-24T16:01:42.860Z"
   },
   {
    "duration": 133,
    "start_time": "2023-04-24T16:01:42.892Z"
   },
   {
    "duration": 201,
    "start_time": "2023-04-24T16:01:43.027Z"
   },
   {
    "duration": 13,
    "start_time": "2023-04-24T16:01:43.233Z"
   },
   {
    "duration": 60,
    "start_time": "2023-04-24T16:01:43.248Z"
   },
   {
    "duration": 3,
    "start_time": "2023-04-24T16:01:43.310Z"
   },
   {
    "duration": 19,
    "start_time": "2023-04-24T16:01:43.314Z"
   },
   {
    "duration": 11,
    "start_time": "2023-04-24T16:01:43.335Z"
   },
   {
    "duration": 209,
    "start_time": "2023-04-24T16:01:43.347Z"
   },
   {
    "duration": 7,
    "start_time": "2023-04-24T16:01:43.557Z"
   },
   {
    "duration": 206,
    "start_time": "2023-04-24T16:01:43.566Z"
   },
   {
    "duration": 7,
    "start_time": "2023-04-24T16:01:43.773Z"
   },
   {
    "duration": 237,
    "start_time": "2023-04-24T16:01:43.782Z"
   },
   {
    "duration": 17,
    "start_time": "2023-04-24T16:01:44.021Z"
   },
   {
    "duration": 197,
    "start_time": "2023-04-24T16:01:44.040Z"
   },
   {
    "duration": 168,
    "start_time": "2023-04-24T16:01:44.239Z"
   },
   {
    "duration": 200,
    "start_time": "2023-04-24T16:01:44.409Z"
   },
   {
    "duration": 195,
    "start_time": "2023-04-24T16:34:37.823Z"
   },
   {
    "duration": 148,
    "start_time": "2023-04-24T16:34:44.500Z"
   },
   {
    "duration": 1412,
    "start_time": "2023-04-24T16:40:39.158Z"
   },
   {
    "duration": 3,
    "start_time": "2023-04-24T16:40:40.572Z"
   },
   {
    "duration": 5471,
    "start_time": "2023-04-24T16:40:40.576Z"
   },
   {
    "duration": 221,
    "start_time": "2023-04-24T16:40:46.049Z"
   },
   {
    "duration": 37,
    "start_time": "2023-04-24T16:40:46.271Z"
   },
   {
    "duration": 40,
    "start_time": "2023-04-24T16:40:46.310Z"
   },
   {
    "duration": 43,
    "start_time": "2023-04-24T16:40:46.352Z"
   },
   {
    "duration": 240,
    "start_time": "2023-04-24T16:40:46.396Z"
   },
   {
    "duration": 289,
    "start_time": "2023-04-24T16:40:46.637Z"
   },
   {
    "duration": 5,
    "start_time": "2023-04-24T16:40:46.929Z"
   },
   {
    "duration": 28,
    "start_time": "2023-04-24T16:40:46.936Z"
   },
   {
    "duration": 17,
    "start_time": "2023-04-24T16:40:46.966Z"
   },
   {
    "duration": 28,
    "start_time": "2023-04-24T16:40:46.987Z"
   },
   {
    "duration": 2779,
    "start_time": "2023-04-24T16:40:47.017Z"
   },
   {
    "duration": 2,
    "start_time": "2023-04-24T16:40:49.798Z"
   },
   {
    "duration": 1403,
    "start_time": "2023-04-24T16:40:49.801Z"
   },
   {
    "duration": 121,
    "start_time": "2023-04-24T16:40:51.206Z"
   },
   {
    "duration": 161,
    "start_time": "2023-04-24T16:40:51.333Z"
   },
   {
    "duration": 158,
    "start_time": "2023-04-24T16:40:51.495Z"
   },
   {
    "duration": 191,
    "start_time": "2023-04-24T16:40:51.654Z"
   },
   {
    "duration": 128,
    "start_time": "2023-04-24T16:40:51.847Z"
   },
   {
    "duration": 186,
    "start_time": "2023-04-24T16:40:51.976Z"
   },
   {
    "duration": 134,
    "start_time": "2023-04-24T16:40:52.164Z"
   },
   {
    "duration": 171,
    "start_time": "2023-04-24T16:40:52.299Z"
   },
   {
    "duration": 138,
    "start_time": "2023-04-24T16:40:52.472Z"
   },
   {
    "duration": 195,
    "start_time": "2023-04-24T16:40:52.611Z"
   },
   {
    "duration": 234,
    "start_time": "2023-04-24T16:40:52.807Z"
   },
   {
    "duration": 27150,
    "start_time": "2023-04-24T16:40:53.044Z"
   },
   {
    "duration": 12,
    "start_time": "2023-04-24T16:41:20.196Z"
   },
   {
    "duration": 95,
    "start_time": "2023-04-24T16:41:20.210Z"
   },
   {
    "duration": 65,
    "start_time": "2023-04-24T16:41:20.307Z"
   },
   {
    "duration": 34,
    "start_time": "2023-04-24T16:41:20.373Z"
   },
   {
    "duration": 101,
    "start_time": "2023-04-24T16:41:20.409Z"
   },
   {
    "duration": 51,
    "start_time": "2023-04-24T16:41:20.512Z"
   },
   {
    "duration": 71,
    "start_time": "2023-04-24T16:41:20.565Z"
   },
   {
    "duration": 114,
    "start_time": "2023-04-24T16:41:20.637Z"
   },
   {
    "duration": 0,
    "start_time": "2023-04-24T16:41:20.752Z"
   },
   {
    "duration": 0,
    "start_time": "2023-04-24T16:41:20.754Z"
   },
   {
    "duration": 0,
    "start_time": "2023-04-24T16:41:20.755Z"
   },
   {
    "duration": 0,
    "start_time": "2023-04-24T16:41:20.756Z"
   },
   {
    "duration": 0,
    "start_time": "2023-04-24T16:41:20.757Z"
   },
   {
    "duration": 0,
    "start_time": "2023-04-24T16:41:20.758Z"
   },
   {
    "duration": 0,
    "start_time": "2023-04-24T16:41:20.760Z"
   },
   {
    "duration": 0,
    "start_time": "2023-04-24T16:41:20.761Z"
   },
   {
    "duration": 0,
    "start_time": "2023-04-24T16:41:20.762Z"
   },
   {
    "duration": 0,
    "start_time": "2023-04-24T16:41:20.764Z"
   },
   {
    "duration": 0,
    "start_time": "2023-04-24T16:41:20.765Z"
   },
   {
    "duration": 0,
    "start_time": "2023-04-24T16:41:20.766Z"
   },
   {
    "duration": 0,
    "start_time": "2023-04-24T16:41:20.768Z"
   },
   {
    "duration": 0,
    "start_time": "2023-04-24T16:41:20.769Z"
   },
   {
    "duration": 0,
    "start_time": "2023-04-24T16:41:20.770Z"
   },
   {
    "duration": 0,
    "start_time": "2023-04-24T16:41:20.771Z"
   },
   {
    "duration": 0,
    "start_time": "2023-04-24T16:41:20.772Z"
   },
   {
    "duration": 0,
    "start_time": "2023-04-24T16:41:20.772Z"
   },
   {
    "duration": 0,
    "start_time": "2023-04-24T16:41:20.773Z"
   },
   {
    "duration": 0,
    "start_time": "2023-04-24T16:41:20.774Z"
   },
   {
    "duration": 0,
    "start_time": "2023-04-24T16:41:20.775Z"
   },
   {
    "duration": 0,
    "start_time": "2023-04-24T16:41:20.776Z"
   },
   {
    "duration": 0,
    "start_time": "2023-04-24T16:41:20.776Z"
   },
   {
    "duration": 0,
    "start_time": "2023-04-24T16:41:20.777Z"
   },
   {
    "duration": 0,
    "start_time": "2023-04-24T16:41:20.778Z"
   },
   {
    "duration": 0,
    "start_time": "2023-04-24T16:41:20.779Z"
   },
   {
    "duration": 0,
    "start_time": "2023-04-24T16:41:20.780Z"
   },
   {
    "duration": 0,
    "start_time": "2023-04-24T16:41:20.781Z"
   },
   {
    "duration": 0,
    "start_time": "2023-04-24T16:41:20.782Z"
   },
   {
    "duration": 0,
    "start_time": "2023-04-24T16:41:20.783Z"
   },
   {
    "duration": 0,
    "start_time": "2023-04-24T16:41:20.833Z"
   },
   {
    "duration": 0,
    "start_time": "2023-04-24T16:41:20.834Z"
   },
   {
    "duration": 0,
    "start_time": "2023-04-24T16:41:20.835Z"
   },
   {
    "duration": 0,
    "start_time": "2023-04-24T16:41:20.837Z"
   },
   {
    "duration": 129,
    "start_time": "2023-04-24T16:42:12.527Z"
   },
   {
    "duration": 126,
    "start_time": "2023-04-24T16:42:38.418Z"
   },
   {
    "duration": 78,
    "start_time": "2023-04-24T16:42:39.359Z"
   },
   {
    "duration": 20,
    "start_time": "2023-04-24T16:42:53.343Z"
   },
   {
    "duration": 145,
    "start_time": "2023-04-24T16:42:54.245Z"
   },
   {
    "duration": 21,
    "start_time": "2023-04-24T16:42:55.368Z"
   },
   {
    "duration": 132,
    "start_time": "2023-04-24T16:43:10.873Z"
   },
   {
    "duration": 1793,
    "start_time": "2023-04-25T09:23:17.527Z"
   },
   {
    "duration": 3,
    "start_time": "2023-04-25T09:23:19.322Z"
   },
   {
    "duration": 7667,
    "start_time": "2023-04-25T09:23:19.327Z"
   },
   {
    "duration": 237,
    "start_time": "2023-04-25T09:23:26.996Z"
   },
   {
    "duration": 48,
    "start_time": "2023-04-25T09:23:27.234Z"
   },
   {
    "duration": 41,
    "start_time": "2023-04-25T09:23:27.284Z"
   },
   {
    "duration": 49,
    "start_time": "2023-04-25T09:23:27.327Z"
   },
   {
    "duration": 206,
    "start_time": "2023-04-25T09:23:27.377Z"
   },
   {
    "duration": 0,
    "start_time": "2023-04-25T09:23:27.586Z"
   },
   {
    "duration": 0,
    "start_time": "2023-04-25T09:23:27.587Z"
   },
   {
    "duration": 0,
    "start_time": "2023-04-25T09:23:27.588Z"
   },
   {
    "duration": 0,
    "start_time": "2023-04-25T09:23:27.589Z"
   },
   {
    "duration": 0,
    "start_time": "2023-04-25T09:23:27.590Z"
   },
   {
    "duration": 0,
    "start_time": "2023-04-25T09:23:27.591Z"
   },
   {
    "duration": 0,
    "start_time": "2023-04-25T09:23:27.592Z"
   },
   {
    "duration": 0,
    "start_time": "2023-04-25T09:23:27.593Z"
   },
   {
    "duration": 0,
    "start_time": "2023-04-25T09:23:27.594Z"
   },
   {
    "duration": 0,
    "start_time": "2023-04-25T09:23:27.595Z"
   },
   {
    "duration": 0,
    "start_time": "2023-04-25T09:23:27.596Z"
   },
   {
    "duration": 0,
    "start_time": "2023-04-25T09:23:27.596Z"
   },
   {
    "duration": 0,
    "start_time": "2023-04-25T09:23:27.597Z"
   },
   {
    "duration": 0,
    "start_time": "2023-04-25T09:23:27.598Z"
   },
   {
    "duration": 0,
    "start_time": "2023-04-25T09:23:27.599Z"
   },
   {
    "duration": 0,
    "start_time": "2023-04-25T09:23:27.600Z"
   },
   {
    "duration": 0,
    "start_time": "2023-04-25T09:23:27.601Z"
   },
   {
    "duration": 0,
    "start_time": "2023-04-25T09:23:27.602Z"
   },
   {
    "duration": 0,
    "start_time": "2023-04-25T09:23:27.603Z"
   },
   {
    "duration": 0,
    "start_time": "2023-04-25T09:23:27.604Z"
   },
   {
    "duration": 0,
    "start_time": "2023-04-25T09:23:27.605Z"
   },
   {
    "duration": 0,
    "start_time": "2023-04-25T09:23:27.606Z"
   },
   {
    "duration": 0,
    "start_time": "2023-04-25T09:23:27.607Z"
   },
   {
    "duration": 0,
    "start_time": "2023-04-25T09:23:27.608Z"
   },
   {
    "duration": 0,
    "start_time": "2023-04-25T09:23:27.610Z"
   },
   {
    "duration": 0,
    "start_time": "2023-04-25T09:23:27.611Z"
   },
   {
    "duration": 0,
    "start_time": "2023-04-25T09:23:27.612Z"
   },
   {
    "duration": 0,
    "start_time": "2023-04-25T09:23:27.613Z"
   },
   {
    "duration": 0,
    "start_time": "2023-04-25T09:23:27.615Z"
   },
   {
    "duration": 0,
    "start_time": "2023-04-25T09:23:27.635Z"
   },
   {
    "duration": 0,
    "start_time": "2023-04-25T09:23:27.636Z"
   },
   {
    "duration": 0,
    "start_time": "2023-04-25T09:23:27.637Z"
   },
   {
    "duration": 0,
    "start_time": "2023-04-25T09:23:27.638Z"
   },
   {
    "duration": 0,
    "start_time": "2023-04-25T09:23:27.640Z"
   },
   {
    "duration": 0,
    "start_time": "2023-04-25T09:23:27.641Z"
   },
   {
    "duration": 0,
    "start_time": "2023-04-25T09:23:27.642Z"
   },
   {
    "duration": 0,
    "start_time": "2023-04-25T09:23:27.644Z"
   },
   {
    "duration": 0,
    "start_time": "2023-04-25T09:23:27.645Z"
   },
   {
    "duration": 0,
    "start_time": "2023-04-25T09:23:27.647Z"
   },
   {
    "duration": 0,
    "start_time": "2023-04-25T09:23:27.648Z"
   },
   {
    "duration": 0,
    "start_time": "2023-04-25T09:23:27.649Z"
   },
   {
    "duration": 0,
    "start_time": "2023-04-25T09:23:27.651Z"
   },
   {
    "duration": 0,
    "start_time": "2023-04-25T09:23:27.652Z"
   },
   {
    "duration": 0,
    "start_time": "2023-04-25T09:23:27.653Z"
   },
   {
    "duration": 0,
    "start_time": "2023-04-25T09:23:27.654Z"
   },
   {
    "duration": 0,
    "start_time": "2023-04-25T09:23:27.655Z"
   },
   {
    "duration": 0,
    "start_time": "2023-04-25T09:23:27.656Z"
   },
   {
    "duration": 0,
    "start_time": "2023-04-25T09:23:27.657Z"
   },
   {
    "duration": 0,
    "start_time": "2023-04-25T09:23:27.658Z"
   },
   {
    "duration": 0,
    "start_time": "2023-04-25T09:23:27.659Z"
   },
   {
    "duration": 0,
    "start_time": "2023-04-25T09:23:27.660Z"
   },
   {
    "duration": 0,
    "start_time": "2023-04-25T09:23:27.661Z"
   },
   {
    "duration": 0,
    "start_time": "2023-04-25T09:23:27.662Z"
   },
   {
    "duration": 0,
    "start_time": "2023-04-25T09:23:27.663Z"
   },
   {
    "duration": 0,
    "start_time": "2023-04-25T09:23:27.664Z"
   },
   {
    "duration": 0,
    "start_time": "2023-04-25T09:23:27.665Z"
   },
   {
    "duration": 0,
    "start_time": "2023-04-25T09:23:27.666Z"
   },
   {
    "duration": 0,
    "start_time": "2023-04-25T09:23:27.666Z"
   },
   {
    "duration": 0,
    "start_time": "2023-04-25T09:23:27.667Z"
   },
   {
    "duration": 0,
    "start_time": "2023-04-25T09:23:27.668Z"
   },
   {
    "duration": 0,
    "start_time": "2023-04-25T09:23:27.669Z"
   },
   {
    "duration": 0,
    "start_time": "2023-04-25T09:23:27.669Z"
   },
   {
    "duration": 113,
    "start_time": "2023-04-25T09:24:26.612Z"
   },
   {
    "duration": 4577,
    "start_time": "2023-04-25T09:24:32.910Z"
   },
   {
    "duration": 241,
    "start_time": "2023-04-25T09:24:40.548Z"
   },
   {
    "duration": 2,
    "start_time": "2023-04-25T09:24:46.400Z"
   },
   {
    "duration": 3,
    "start_time": "2023-04-25T09:24:48.103Z"
   },
   {
    "duration": 5,
    "start_time": "2023-04-25T09:24:48.575Z"
   },
   {
    "duration": 3,
    "start_time": "2023-04-25T09:24:49.110Z"
   },
   {
    "duration": 2810,
    "start_time": "2023-04-25T09:24:49.699Z"
   },
   {
    "duration": 3,
    "start_time": "2023-04-25T09:24:52.512Z"
   },
   {
    "duration": 8470,
    "start_time": "2023-04-25T09:24:55.663Z"
   },
   {
    "duration": 122,
    "start_time": "2023-04-25T09:25:07.972Z"
   },
   {
    "duration": 325,
    "start_time": "2023-04-25T09:25:10.944Z"
   },
   {
    "duration": 155,
    "start_time": "2023-04-25T09:25:13.247Z"
   },
   {
    "duration": 5014,
    "start_time": "2023-04-25T09:25:15.647Z"
   },
   {
    "duration": 131,
    "start_time": "2023-04-25T09:25:20.663Z"
   },
   {
    "duration": 4654,
    "start_time": "2023-04-25T09:25:22.951Z"
   },
   {
    "duration": 135,
    "start_time": "2023-04-25T09:25:27.606Z"
   },
   {
    "duration": 108,
    "start_time": "2023-04-25T09:25:27.757Z"
   },
   {
    "duration": 4356,
    "start_time": "2023-04-25T09:25:39.606Z"
   },
   {
    "duration": 142,
    "start_time": "2023-04-25T09:25:46.453Z"
   },
   {
    "duration": 127,
    "start_time": "2023-04-25T09:25:48.276Z"
   },
   {
    "duration": 4690,
    "start_time": "2023-04-25T09:25:52.965Z"
   },
   {
    "duration": 378,
    "start_time": "2023-04-25T09:25:57.657Z"
   },
   {
    "duration": 1534,
    "start_time": "2023-04-25T09:26:11.175Z"
   },
   {
    "duration": 3,
    "start_time": "2023-04-25T09:26:12.711Z"
   },
   {
    "duration": 7543,
    "start_time": "2023-04-25T09:26:12.715Z"
   },
   {
    "duration": 222,
    "start_time": "2023-04-25T09:26:20.259Z"
   },
   {
    "duration": 38,
    "start_time": "2023-04-25T09:26:20.483Z"
   },
   {
    "duration": 40,
    "start_time": "2023-04-25T09:26:20.523Z"
   },
   {
    "duration": 42,
    "start_time": "2023-04-25T09:26:20.565Z"
   },
   {
    "duration": 4225,
    "start_time": "2023-04-25T09:26:20.609Z"
   },
   {
    "duration": 265,
    "start_time": "2023-04-25T09:26:24.836Z"
   },
   {
    "duration": 2,
    "start_time": "2023-04-25T09:26:25.105Z"
   },
   {
    "duration": 10,
    "start_time": "2023-04-25T09:26:25.109Z"
   },
   {
    "duration": 8,
    "start_time": "2023-04-25T09:26:25.121Z"
   },
   {
    "duration": 62,
    "start_time": "2023-04-25T09:26:25.130Z"
   },
   {
    "duration": 2661,
    "start_time": "2023-04-25T09:26:25.197Z"
   },
   {
    "duration": 2,
    "start_time": "2023-04-25T09:26:27.860Z"
   },
   {
    "duration": 9565,
    "start_time": "2023-04-25T09:26:27.864Z"
   },
   {
    "duration": 115,
    "start_time": "2023-04-25T09:26:37.430Z"
   },
   {
    "duration": 335,
    "start_time": "2023-04-25T09:26:37.546Z"
   },
   {
    "duration": 156,
    "start_time": "2023-04-25T09:26:37.882Z"
   },
   {
    "duration": 5028,
    "start_time": "2023-04-25T09:26:38.039Z"
   },
   {
    "duration": 122,
    "start_time": "2023-04-25T09:26:43.068Z"
   },
   {
    "duration": 4740,
    "start_time": "2023-04-25T09:26:43.191Z"
   },
   {
    "duration": 140,
    "start_time": "2023-04-25T09:26:47.932Z"
   },
   {
    "duration": 4293,
    "start_time": "2023-04-25T09:26:48.073Z"
   },
   {
    "duration": 144,
    "start_time": "2023-04-25T09:26:52.368Z"
   },
   {
    "duration": 4748,
    "start_time": "2023-04-25T09:26:52.515Z"
   },
   {
    "duration": 233,
    "start_time": "2023-04-25T09:26:57.265Z"
   },
   {
    "duration": 22842,
    "start_time": "2023-04-25T09:26:57.499Z"
   },
   {
    "duration": 13,
    "start_time": "2023-04-25T09:27:20.342Z"
   },
   {
    "duration": 98,
    "start_time": "2023-04-25T09:27:20.356Z"
   },
   {
    "duration": 69,
    "start_time": "2023-04-25T09:27:20.455Z"
   },
   {
    "duration": 44,
    "start_time": "2023-04-25T09:27:20.526Z"
   },
   {
    "duration": 95,
    "start_time": "2023-04-25T09:27:20.572Z"
   },
   {
    "duration": 43,
    "start_time": "2023-04-25T09:27:20.669Z"
   },
   {
    "duration": 78,
    "start_time": "2023-04-25T09:27:20.714Z"
   },
   {
    "duration": 133,
    "start_time": "2023-04-25T09:27:20.794Z"
   },
   {
    "duration": 70,
    "start_time": "2023-04-25T09:27:20.928Z"
   },
   {
    "duration": 51,
    "start_time": "2023-04-25T09:27:21.000Z"
   },
   {
    "duration": 132,
    "start_time": "2023-04-25T09:27:21.052Z"
   },
   {
    "duration": 20,
    "start_time": "2023-04-25T09:27:21.185Z"
   },
   {
    "duration": 29,
    "start_time": "2023-04-25T09:27:21.209Z"
   },
   {
    "duration": 81,
    "start_time": "2023-04-25T09:27:21.240Z"
   },
   {
    "duration": 21,
    "start_time": "2023-04-25T09:27:21.323Z"
   },
   {
    "duration": 25,
    "start_time": "2023-04-25T09:27:21.345Z"
   },
   {
    "duration": 42,
    "start_time": "2023-04-25T09:27:21.371Z"
   },
   {
    "duration": 229,
    "start_time": "2023-04-25T09:27:21.415Z"
   },
   {
    "duration": 4,
    "start_time": "2023-04-25T09:27:21.645Z"
   },
   {
    "duration": 55,
    "start_time": "2023-04-25T09:27:21.650Z"
   },
   {
    "duration": 971,
    "start_time": "2023-04-25T09:27:21.706Z"
   },
   {
    "duration": 3,
    "start_time": "2023-04-25T09:27:22.678Z"
   },
   {
    "duration": 90,
    "start_time": "2023-04-25T09:27:22.682Z"
   },
   {
    "duration": 1032,
    "start_time": "2023-04-25T09:27:22.773Z"
   },
   {
    "duration": 13,
    "start_time": "2023-04-25T09:27:23.806Z"
   },
   {
    "duration": 31,
    "start_time": "2023-04-25T09:27:23.820Z"
   },
   {
    "duration": 141,
    "start_time": "2023-04-25T09:27:23.853Z"
   },
   {
    "duration": 151,
    "start_time": "2023-04-25T09:27:23.996Z"
   },
   {
    "duration": 13,
    "start_time": "2023-04-25T09:27:24.148Z"
   },
   {
    "duration": 72,
    "start_time": "2023-04-25T09:27:24.163Z"
   },
   {
    "duration": 3,
    "start_time": "2023-04-25T09:27:24.236Z"
   },
   {
    "duration": 22,
    "start_time": "2023-04-25T09:27:24.241Z"
   },
   {
    "duration": 12,
    "start_time": "2023-04-25T09:27:24.264Z"
   },
   {
    "duration": 218,
    "start_time": "2023-04-25T09:27:24.277Z"
   },
   {
    "duration": 6,
    "start_time": "2023-04-25T09:27:24.497Z"
   },
   {
    "duration": 253,
    "start_time": "2023-04-25T09:27:24.504Z"
   },
   {
    "duration": 8,
    "start_time": "2023-04-25T09:27:24.760Z"
   },
   {
    "duration": 237,
    "start_time": "2023-04-25T09:27:24.772Z"
   },
   {
    "duration": 6,
    "start_time": "2023-04-25T09:27:25.011Z"
   },
   {
    "duration": 200,
    "start_time": "2023-04-25T09:27:25.018Z"
   },
   {
    "duration": 167,
    "start_time": "2023-04-25T09:27:25.220Z"
   },
   {
    "duration": 214,
    "start_time": "2023-04-25T09:27:25.389Z"
   },
   {
    "duration": 1552,
    "start_time": "2023-04-25T09:38:16.653Z"
   },
   {
    "duration": 4,
    "start_time": "2023-04-25T09:38:18.208Z"
   },
   {
    "duration": 5605,
    "start_time": "2023-04-25T09:38:18.214Z"
   },
   {
    "duration": 223,
    "start_time": "2023-04-25T09:38:23.822Z"
   },
   {
    "duration": 38,
    "start_time": "2023-04-25T09:38:24.046Z"
   },
   {
    "duration": 40,
    "start_time": "2023-04-25T09:38:24.086Z"
   },
   {
    "duration": 43,
    "start_time": "2023-04-25T09:38:24.128Z"
   },
   {
    "duration": 803,
    "start_time": "2023-04-25T09:38:24.172Z"
   },
   {
    "duration": 259,
    "start_time": "2023-04-25T09:38:24.977Z"
   },
   {
    "duration": 3,
    "start_time": "2023-04-25T09:38:25.238Z"
   },
   {
    "duration": 9,
    "start_time": "2023-04-25T09:38:25.243Z"
   },
   {
    "duration": 23,
    "start_time": "2023-04-25T09:38:25.254Z"
   },
   {
    "duration": 13,
    "start_time": "2023-04-25T09:38:25.279Z"
   },
   {
    "duration": 2664,
    "start_time": "2023-04-25T09:38:25.293Z"
   },
   {
    "duration": 3,
    "start_time": "2023-04-25T09:38:27.958Z"
   },
   {
    "duration": 9565,
    "start_time": "2023-04-25T09:38:27.963Z"
   },
   {
    "duration": 115,
    "start_time": "2023-04-25T09:38:37.529Z"
   },
   {
    "duration": 339,
    "start_time": "2023-04-25T09:38:37.646Z"
   },
   {
    "duration": 151,
    "start_time": "2023-04-25T09:38:37.987Z"
   },
   {
    "duration": 4869,
    "start_time": "2023-04-25T09:38:38.139Z"
   },
   {
    "duration": 123,
    "start_time": "2023-04-25T09:38:43.010Z"
   },
   {
    "duration": 4488,
    "start_time": "2023-04-25T09:38:43.136Z"
   },
   {
    "duration": 173,
    "start_time": "2023-04-25T09:38:47.626Z"
   },
   {
    "duration": 4356,
    "start_time": "2023-04-25T09:38:47.801Z"
   },
   {
    "duration": 138,
    "start_time": "2023-04-25T09:38:52.159Z"
   },
   {
    "duration": 4663,
    "start_time": "2023-04-25T09:38:52.299Z"
   },
   {
    "duration": 246,
    "start_time": "2023-04-25T09:38:56.964Z"
   },
   {
    "duration": 200,
    "start_time": "2023-04-25T09:38:57.214Z"
   },
   {
    "duration": 0,
    "start_time": "2023-04-25T09:38:57.416Z"
   },
   {
    "duration": 0,
    "start_time": "2023-04-25T09:38:57.417Z"
   },
   {
    "duration": 0,
    "start_time": "2023-04-25T09:38:57.419Z"
   },
   {
    "duration": 0,
    "start_time": "2023-04-25T09:38:57.420Z"
   },
   {
    "duration": 0,
    "start_time": "2023-04-25T09:38:57.422Z"
   },
   {
    "duration": 0,
    "start_time": "2023-04-25T09:38:57.423Z"
   },
   {
    "duration": 0,
    "start_time": "2023-04-25T09:38:57.424Z"
   },
   {
    "duration": 0,
    "start_time": "2023-04-25T09:38:57.425Z"
   },
   {
    "duration": 0,
    "start_time": "2023-04-25T09:38:57.426Z"
   },
   {
    "duration": 0,
    "start_time": "2023-04-25T09:38:57.427Z"
   },
   {
    "duration": 0,
    "start_time": "2023-04-25T09:38:57.427Z"
   },
   {
    "duration": 0,
    "start_time": "2023-04-25T09:38:57.429Z"
   },
   {
    "duration": 0,
    "start_time": "2023-04-25T09:38:57.429Z"
   },
   {
    "duration": 0,
    "start_time": "2023-04-25T09:38:57.431Z"
   },
   {
    "duration": 0,
    "start_time": "2023-04-25T09:38:57.432Z"
   },
   {
    "duration": 0,
    "start_time": "2023-04-25T09:38:57.433Z"
   },
   {
    "duration": 0,
    "start_time": "2023-04-25T09:38:57.434Z"
   },
   {
    "duration": 0,
    "start_time": "2023-04-25T09:38:57.435Z"
   },
   {
    "duration": 0,
    "start_time": "2023-04-25T09:38:57.437Z"
   },
   {
    "duration": 0,
    "start_time": "2023-04-25T09:38:57.438Z"
   },
   {
    "duration": 0,
    "start_time": "2023-04-25T09:38:57.439Z"
   },
   {
    "duration": 0,
    "start_time": "2023-04-25T09:38:57.441Z"
   },
   {
    "duration": 0,
    "start_time": "2023-04-25T09:38:57.442Z"
   },
   {
    "duration": 0,
    "start_time": "2023-04-25T09:38:57.443Z"
   },
   {
    "duration": 0,
    "start_time": "2023-04-25T09:38:57.445Z"
   },
   {
    "duration": 0,
    "start_time": "2023-04-25T09:38:57.448Z"
   },
   {
    "duration": 0,
    "start_time": "2023-04-25T09:38:57.449Z"
   },
   {
    "duration": 0,
    "start_time": "2023-04-25T09:38:57.450Z"
   },
   {
    "duration": 0,
    "start_time": "2023-04-25T09:38:57.452Z"
   },
   {
    "duration": 0,
    "start_time": "2023-04-25T09:38:57.453Z"
   },
   {
    "duration": 0,
    "start_time": "2023-04-25T09:38:57.454Z"
   },
   {
    "duration": 0,
    "start_time": "2023-04-25T09:38:57.456Z"
   },
   {
    "duration": 0,
    "start_time": "2023-04-25T09:38:57.456Z"
   },
   {
    "duration": 0,
    "start_time": "2023-04-25T09:38:57.457Z"
   },
   {
    "duration": 0,
    "start_time": "2023-04-25T09:38:57.458Z"
   },
   {
    "duration": 0,
    "start_time": "2023-04-25T09:38:57.459Z"
   },
   {
    "duration": 0,
    "start_time": "2023-04-25T09:38:57.460Z"
   },
   {
    "duration": 0,
    "start_time": "2023-04-25T09:38:57.461Z"
   },
   {
    "duration": 0,
    "start_time": "2023-04-25T09:38:57.463Z"
   },
   {
    "duration": 0,
    "start_time": "2023-04-25T09:38:57.464Z"
   },
   {
    "duration": 0,
    "start_time": "2023-04-25T09:38:57.464Z"
   },
   {
    "duration": 0,
    "start_time": "2023-04-25T09:38:57.465Z"
   },
   {
    "duration": 30363,
    "start_time": "2023-04-25T09:40:21.873Z"
   },
   {
    "duration": 16,
    "start_time": "2023-04-25T09:41:36.093Z"
   },
   {
    "duration": 163,
    "start_time": "2023-04-25T09:42:24.412Z"
   },
   {
    "duration": 22041,
    "start_time": "2023-04-25T09:44:00.115Z"
   },
   {
    "duration": 14,
    "start_time": "2023-04-25T09:44:27.154Z"
   },
   {
    "duration": 205,
    "start_time": "2023-04-25T09:44:31.824Z"
   },
   {
    "duration": 186,
    "start_time": "2023-04-25T09:46:50.694Z"
   },
   {
    "duration": 176,
    "start_time": "2023-04-25T09:46:51.680Z"
   },
   {
    "duration": 1975,
    "start_time": "2023-04-25T12:16:37.850Z"
   },
   {
    "duration": 4,
    "start_time": "2023-04-25T12:16:39.828Z"
   },
   {
    "duration": 8269,
    "start_time": "2023-04-25T12:16:39.834Z"
   },
   {
    "duration": 58,
    "start_time": "2023-04-25T12:16:48.106Z"
   },
   {
    "duration": 13,
    "start_time": "2023-04-25T12:16:48.166Z"
   },
   {
    "duration": 12,
    "start_time": "2023-04-25T12:16:48.181Z"
   },
   {
    "duration": 28,
    "start_time": "2023-04-25T12:16:48.195Z"
   },
   {
    "duration": 4345,
    "start_time": "2023-04-25T12:16:48.225Z"
   },
   {
    "duration": 310,
    "start_time": "2023-04-25T12:16:52.572Z"
   },
   {
    "duration": 5,
    "start_time": "2023-04-25T12:16:52.886Z"
   },
   {
    "duration": 24,
    "start_time": "2023-04-25T12:16:52.892Z"
   },
   {
    "duration": 8,
    "start_time": "2023-04-25T12:16:52.917Z"
   },
   {
    "duration": 13,
    "start_time": "2023-04-25T12:16:52.927Z"
   },
   {
    "duration": 2674,
    "start_time": "2023-04-25T12:16:52.942Z"
   },
   {
    "duration": 4,
    "start_time": "2023-04-25T12:16:55.617Z"
   },
   {
    "duration": 9302,
    "start_time": "2023-04-25T12:16:55.622Z"
   },
   {
    "duration": 132,
    "start_time": "2023-04-25T12:17:04.926Z"
   },
   {
    "duration": 277,
    "start_time": "2023-04-25T12:17:05.061Z"
   },
   {
    "duration": 188,
    "start_time": "2023-04-25T12:17:05.341Z"
   },
   {
    "duration": 4985,
    "start_time": "2023-04-25T12:17:05.531Z"
   },
   {
    "duration": 145,
    "start_time": "2023-04-25T12:17:10.518Z"
   },
   {
    "duration": 4728,
    "start_time": "2023-04-25T12:17:10.665Z"
   },
   {
    "duration": 150,
    "start_time": "2023-04-25T12:17:15.396Z"
   },
   {
    "duration": 4309,
    "start_time": "2023-04-25T12:17:15.548Z"
   },
   {
    "duration": 211,
    "start_time": "2023-04-25T12:17:19.858Z"
   },
   {
    "duration": 4651,
    "start_time": "2023-04-25T12:17:20.071Z"
   },
   {
    "duration": 316,
    "start_time": "2023-04-25T12:17:24.724Z"
   },
   {
    "duration": 30979,
    "start_time": "2023-04-25T12:17:25.045Z"
   },
   {
    "duration": 16,
    "start_time": "2023-04-25T12:17:56.025Z"
   },
   {
    "duration": 224,
    "start_time": "2023-04-25T12:17:56.044Z"
   },
   {
    "duration": 220,
    "start_time": "2023-04-25T12:17:56.270Z"
   },
   {
    "duration": 190,
    "start_time": "2023-04-25T12:17:56.492Z"
   },
   {
    "duration": 28,
    "start_time": "2023-04-25T12:17:56.685Z"
   },
   {
    "duration": 6,
    "start_time": "2023-04-25T12:17:56.715Z"
   },
   {
    "duration": 115,
    "start_time": "2023-04-25T12:17:56.723Z"
   },
   {
    "duration": 109,
    "start_time": "2023-04-25T12:17:56.840Z"
   },
   {
    "duration": 80,
    "start_time": "2023-04-25T12:17:56.952Z"
   },
   {
    "duration": 128,
    "start_time": "2023-04-25T12:17:57.033Z"
   },
   {
    "duration": 61,
    "start_time": "2023-04-25T12:17:57.163Z"
   },
   {
    "duration": 94,
    "start_time": "2023-04-25T12:17:57.226Z"
   },
   {
    "duration": 112,
    "start_time": "2023-04-25T12:17:57.323Z"
   },
   {
    "duration": 17,
    "start_time": "2023-04-25T12:17:57.437Z"
   },
   {
    "duration": 148,
    "start_time": "2023-04-25T12:17:57.456Z"
   },
   {
    "duration": 0,
    "start_time": "2023-04-25T12:17:57.611Z"
   },
   {
    "duration": 0,
    "start_time": "2023-04-25T12:17:57.612Z"
   },
   {
    "duration": 0,
    "start_time": "2023-04-25T12:17:57.614Z"
   },
   {
    "duration": 0,
    "start_time": "2023-04-25T12:17:57.615Z"
   },
   {
    "duration": 0,
    "start_time": "2023-04-25T12:17:57.617Z"
   },
   {
    "duration": 0,
    "start_time": "2023-04-25T12:17:57.619Z"
   },
   {
    "duration": 0,
    "start_time": "2023-04-25T12:17:57.620Z"
   },
   {
    "duration": 0,
    "start_time": "2023-04-25T12:17:57.622Z"
   },
   {
    "duration": 0,
    "start_time": "2023-04-25T12:17:57.624Z"
   },
   {
    "duration": 0,
    "start_time": "2023-04-25T12:17:57.627Z"
   },
   {
    "duration": 0,
    "start_time": "2023-04-25T12:17:57.629Z"
   },
   {
    "duration": 0,
    "start_time": "2023-04-25T12:17:57.631Z"
   },
   {
    "duration": 0,
    "start_time": "2023-04-25T12:17:57.632Z"
   },
   {
    "duration": 0,
    "start_time": "2023-04-25T12:17:57.634Z"
   },
   {
    "duration": 0,
    "start_time": "2023-04-25T12:17:57.635Z"
   },
   {
    "duration": 0,
    "start_time": "2023-04-25T12:17:57.636Z"
   },
   {
    "duration": 0,
    "start_time": "2023-04-25T12:17:57.637Z"
   },
   {
    "duration": 0,
    "start_time": "2023-04-25T12:17:57.639Z"
   },
   {
    "duration": 0,
    "start_time": "2023-04-25T12:17:57.640Z"
   },
   {
    "duration": 0,
    "start_time": "2023-04-25T12:17:57.642Z"
   },
   {
    "duration": 0,
    "start_time": "2023-04-25T12:17:57.643Z"
   },
   {
    "duration": 0,
    "start_time": "2023-04-25T12:17:57.644Z"
   },
   {
    "duration": 0,
    "start_time": "2023-04-25T12:17:57.646Z"
   },
   {
    "duration": 0,
    "start_time": "2023-04-25T12:17:57.647Z"
   },
   {
    "duration": 0,
    "start_time": "2023-04-25T12:17:57.648Z"
   },
   {
    "duration": 0,
    "start_time": "2023-04-25T12:17:57.649Z"
   },
   {
    "duration": 0,
    "start_time": "2023-04-25T12:17:57.712Z"
   },
   {
    "duration": 0,
    "start_time": "2023-04-25T12:17:57.713Z"
   },
   {
    "duration": 0,
    "start_time": "2023-04-25T12:17:57.714Z"
   },
   {
    "duration": 0,
    "start_time": "2023-04-25T12:17:57.716Z"
   },
   {
    "duration": 0,
    "start_time": "2023-04-25T12:17:57.717Z"
   },
   {
    "duration": 121,
    "start_time": "2023-04-25T12:20:12.905Z"
   },
   {
    "duration": 162,
    "start_time": "2023-04-25T12:20:14.506Z"
   },
   {
    "duration": 23,
    "start_time": "2023-04-25T12:20:17.892Z"
   },
   {
    "duration": 1744,
    "start_time": "2023-04-25T12:20:29.489Z"
   },
   {
    "duration": 4,
    "start_time": "2023-04-25T12:20:31.235Z"
   },
   {
    "duration": 8331,
    "start_time": "2023-04-25T12:20:31.241Z"
   },
   {
    "duration": 64,
    "start_time": "2023-04-25T12:20:39.574Z"
   },
   {
    "duration": 10,
    "start_time": "2023-04-25T12:20:39.640Z"
   },
   {
    "duration": 11,
    "start_time": "2023-04-25T12:20:39.652Z"
   },
   {
    "duration": 15,
    "start_time": "2023-04-25T12:20:39.665Z"
   },
   {
    "duration": 4259,
    "start_time": "2023-04-25T12:20:39.682Z"
   },
   {
    "duration": 280,
    "start_time": "2023-04-25T12:20:43.944Z"
   },
   {
    "duration": 2,
    "start_time": "2023-04-25T12:20:44.226Z"
   },
   {
    "duration": 38,
    "start_time": "2023-04-25T12:20:44.230Z"
   },
   {
    "duration": 76,
    "start_time": "2023-04-25T12:20:44.270Z"
   },
   {
    "duration": 49,
    "start_time": "2023-04-25T12:20:44.348Z"
   },
   {
    "duration": 2767,
    "start_time": "2023-04-25T12:20:44.402Z"
   },
   {
    "duration": 3,
    "start_time": "2023-04-25T12:20:47.171Z"
   },
   {
    "duration": 9460,
    "start_time": "2023-04-25T12:20:47.176Z"
   },
   {
    "duration": 127,
    "start_time": "2023-04-25T12:20:56.638Z"
   },
   {
    "duration": 282,
    "start_time": "2023-04-25T12:20:56.767Z"
   },
   {
    "duration": 176,
    "start_time": "2023-04-25T12:20:57.051Z"
   },
   {
    "duration": 5268,
    "start_time": "2023-04-25T12:20:57.229Z"
   },
   {
    "duration": 143,
    "start_time": "2023-04-25T12:21:02.499Z"
   },
   {
    "duration": 4707,
    "start_time": "2023-04-25T12:21:02.644Z"
   },
   {
    "duration": 146,
    "start_time": "2023-04-25T12:21:07.354Z"
   },
   {
    "duration": 4332,
    "start_time": "2023-04-25T12:21:07.503Z"
   },
   {
    "duration": 146,
    "start_time": "2023-04-25T12:21:11.836Z"
   },
   {
    "duration": 4660,
    "start_time": "2023-04-25T12:21:11.983Z"
   },
   {
    "duration": 287,
    "start_time": "2023-04-25T12:21:16.645Z"
   },
   {
    "duration": 24459,
    "start_time": "2023-04-25T12:21:16.935Z"
   },
   {
    "duration": 21,
    "start_time": "2023-04-25T12:21:41.396Z"
   },
   {
    "duration": 240,
    "start_time": "2023-04-25T12:21:41.420Z"
   },
   {
    "duration": 239,
    "start_time": "2023-04-25T12:21:41.662Z"
   },
   {
    "duration": 201,
    "start_time": "2023-04-25T12:21:41.902Z"
   },
   {
    "duration": 21,
    "start_time": "2023-04-25T12:21:42.105Z"
   },
   {
    "duration": 5,
    "start_time": "2023-04-25T12:21:42.128Z"
   },
   {
    "duration": 116,
    "start_time": "2023-04-25T12:21:42.134Z"
   },
   {
    "duration": 107,
    "start_time": "2023-04-25T12:21:42.252Z"
   },
   {
    "duration": 64,
    "start_time": "2023-04-25T12:21:42.361Z"
   },
   {
    "duration": 131,
    "start_time": "2023-04-25T12:21:42.427Z"
   },
   {
    "duration": 62,
    "start_time": "2023-04-25T12:21:42.560Z"
   },
   {
    "duration": 100,
    "start_time": "2023-04-25T12:21:42.624Z"
   },
   {
    "duration": 110,
    "start_time": "2023-04-25T12:21:42.728Z"
   },
   {
    "duration": 19,
    "start_time": "2023-04-25T12:21:42.840Z"
   },
   {
    "duration": 124,
    "start_time": "2023-04-25T12:21:42.861Z"
   },
   {
    "duration": 171,
    "start_time": "2023-04-25T12:21:42.988Z"
   },
   {
    "duration": 25,
    "start_time": "2023-04-25T12:21:43.161Z"
   },
   {
    "duration": 24,
    "start_time": "2023-04-25T12:21:43.188Z"
   },
   {
    "duration": 36,
    "start_time": "2023-04-25T12:21:43.214Z"
   },
   {
    "duration": 24,
    "start_time": "2023-04-25T12:21:43.251Z"
   },
   {
    "duration": 36,
    "start_time": "2023-04-25T12:21:43.277Z"
   },
   {
    "duration": 829,
    "start_time": "2023-04-25T12:21:43.315Z"
   },
   {
    "duration": 0,
    "start_time": "2023-04-25T12:21:44.146Z"
   },
   {
    "duration": 0,
    "start_time": "2023-04-25T12:21:44.147Z"
   },
   {
    "duration": 0,
    "start_time": "2023-04-25T12:21:44.149Z"
   },
   {
    "duration": 0,
    "start_time": "2023-04-25T12:21:44.150Z"
   },
   {
    "duration": 0,
    "start_time": "2023-04-25T12:21:44.151Z"
   },
   {
    "duration": 0,
    "start_time": "2023-04-25T12:21:44.153Z"
   },
   {
    "duration": 0,
    "start_time": "2023-04-25T12:21:44.154Z"
   },
   {
    "duration": 0,
    "start_time": "2023-04-25T12:21:44.156Z"
   },
   {
    "duration": 0,
    "start_time": "2023-04-25T12:21:44.157Z"
   },
   {
    "duration": 0,
    "start_time": "2023-04-25T12:21:44.158Z"
   },
   {
    "duration": 0,
    "start_time": "2023-04-25T12:21:44.160Z"
   },
   {
    "duration": 0,
    "start_time": "2023-04-25T12:21:44.161Z"
   },
   {
    "duration": 0,
    "start_time": "2023-04-25T12:21:44.162Z"
   },
   {
    "duration": 0,
    "start_time": "2023-04-25T12:21:44.163Z"
   },
   {
    "duration": 0,
    "start_time": "2023-04-25T12:21:44.164Z"
   },
   {
    "duration": 0,
    "start_time": "2023-04-25T12:21:44.165Z"
   },
   {
    "duration": 0,
    "start_time": "2023-04-25T12:21:44.167Z"
   },
   {
    "duration": 0,
    "start_time": "2023-04-25T12:21:44.212Z"
   },
   {
    "duration": 0,
    "start_time": "2023-04-25T12:21:44.213Z"
   },
   {
    "duration": 0,
    "start_time": "2023-04-25T12:21:44.214Z"
   },
   {
    "duration": 0,
    "start_time": "2023-04-25T12:21:44.216Z"
   },
   {
    "duration": 0,
    "start_time": "2023-04-25T12:21:44.217Z"
   },
   {
    "duration": 0,
    "start_time": "2023-04-25T12:21:44.218Z"
   },
   {
    "duration": 0,
    "start_time": "2023-04-25T12:21:44.219Z"
   },
   {
    "duration": 106,
    "start_time": "2023-04-25T12:29:52.436Z"
   },
   {
    "duration": 15,
    "start_time": "2023-04-25T12:32:44.885Z"
   },
   {
    "duration": 97,
    "start_time": "2023-04-25T12:33:35.292Z"
   },
   {
    "duration": 1809,
    "start_time": "2023-04-25T14:24:01.839Z"
   },
   {
    "duration": 4,
    "start_time": "2023-04-25T14:24:03.650Z"
   },
   {
    "duration": 8801,
    "start_time": "2023-04-25T14:24:03.656Z"
   },
   {
    "duration": 85,
    "start_time": "2023-04-25T14:24:12.459Z"
   },
   {
    "duration": 10,
    "start_time": "2023-04-25T14:24:12.545Z"
   },
   {
    "duration": 15,
    "start_time": "2023-04-25T14:24:12.557Z"
   },
   {
    "duration": 18,
    "start_time": "2023-04-25T14:24:12.573Z"
   },
   {
    "duration": 1338,
    "start_time": "2023-04-25T14:24:12.593Z"
   },
   {
    "duration": 309,
    "start_time": "2023-04-25T14:24:13.933Z"
   },
   {
    "duration": 2,
    "start_time": "2023-04-25T14:24:14.245Z"
   },
   {
    "duration": 8,
    "start_time": "2023-04-25T14:24:14.249Z"
   },
   {
    "duration": 9,
    "start_time": "2023-04-25T14:24:14.258Z"
   },
   {
    "duration": 10,
    "start_time": "2023-04-25T14:24:14.268Z"
   },
   {
    "duration": 2687,
    "start_time": "2023-04-25T14:24:14.280Z"
   },
   {
    "duration": 3,
    "start_time": "2023-04-25T14:24:16.969Z"
   },
   {
    "duration": 9170,
    "start_time": "2023-04-25T14:24:16.975Z"
   },
   {
    "duration": 166,
    "start_time": "2023-04-25T14:24:26.147Z"
   },
   {
    "duration": 277,
    "start_time": "2023-04-25T14:24:26.315Z"
   },
   {
    "duration": 178,
    "start_time": "2023-04-25T14:24:26.593Z"
   },
   {
    "duration": 4777,
    "start_time": "2023-04-25T14:24:26.773Z"
   },
   {
    "duration": 135,
    "start_time": "2023-04-25T14:24:31.552Z"
   },
   {
    "duration": 4563,
    "start_time": "2023-04-25T14:24:31.688Z"
   },
   {
    "duration": 150,
    "start_time": "2023-04-25T14:24:36.252Z"
   },
   {
    "duration": 4304,
    "start_time": "2023-04-25T14:24:36.411Z"
   },
   {
    "duration": 172,
    "start_time": "2023-04-25T14:24:40.716Z"
   },
   {
    "duration": 4357,
    "start_time": "2023-04-25T14:24:40.890Z"
   },
   {
    "duration": 268,
    "start_time": "2023-04-25T14:24:45.248Z"
   },
   {
    "duration": 24564,
    "start_time": "2023-04-25T14:24:45.520Z"
   },
   {
    "duration": 15,
    "start_time": "2023-04-25T14:25:10.085Z"
   },
   {
    "duration": 205,
    "start_time": "2023-04-25T14:25:10.112Z"
   },
   {
    "duration": 214,
    "start_time": "2023-04-25T14:25:10.319Z"
   },
   {
    "duration": 200,
    "start_time": "2023-04-25T14:25:10.535Z"
   },
   {
    "duration": 15,
    "start_time": "2023-04-25T14:25:10.737Z"
   },
   {
    "duration": 4,
    "start_time": "2023-04-25T14:25:10.753Z"
   },
   {
    "duration": 125,
    "start_time": "2023-04-25T14:25:10.759Z"
   },
   {
    "duration": 100,
    "start_time": "2023-04-25T14:25:10.886Z"
   },
   {
    "duration": 60,
    "start_time": "2023-04-25T14:25:10.988Z"
   },
   {
    "duration": 132,
    "start_time": "2023-04-25T14:25:11.050Z"
   },
   {
    "duration": 56,
    "start_time": "2023-04-25T14:25:11.183Z"
   },
   {
    "duration": 96,
    "start_time": "2023-04-25T14:25:11.240Z"
   },
   {
    "duration": 106,
    "start_time": "2023-04-25T14:25:11.339Z"
   },
   {
    "duration": 17,
    "start_time": "2023-04-25T14:25:11.446Z"
   },
   {
    "duration": 111,
    "start_time": "2023-04-25T14:25:11.465Z"
   },
   {
    "duration": 167,
    "start_time": "2023-04-25T14:25:11.577Z"
   },
   {
    "duration": 24,
    "start_time": "2023-04-25T14:25:11.746Z"
   },
   {
    "duration": 13,
    "start_time": "2023-04-25T14:25:11.773Z"
   },
   {
    "duration": 56,
    "start_time": "2023-04-25T14:25:11.789Z"
   },
   {
    "duration": 25,
    "start_time": "2023-04-25T14:25:11.847Z"
   },
   {
    "duration": 15,
    "start_time": "2023-04-25T14:25:11.874Z"
   },
   {
    "duration": 128,
    "start_time": "2023-04-25T14:25:11.891Z"
   },
   {
    "duration": 779,
    "start_time": "2023-04-25T14:25:12.021Z"
   },
   {
    "duration": 0,
    "start_time": "2023-04-25T14:25:12.803Z"
   },
   {
    "duration": 0,
    "start_time": "2023-04-25T14:25:12.805Z"
   },
   {
    "duration": 0,
    "start_time": "2023-04-25T14:25:12.812Z"
   },
   {
    "duration": 0,
    "start_time": "2023-04-25T14:25:12.813Z"
   },
   {
    "duration": 0,
    "start_time": "2023-04-25T14:25:12.815Z"
   },
   {
    "duration": 0,
    "start_time": "2023-04-25T14:25:12.817Z"
   },
   {
    "duration": 0,
    "start_time": "2023-04-25T14:25:12.818Z"
   },
   {
    "duration": 0,
    "start_time": "2023-04-25T14:25:12.820Z"
   },
   {
    "duration": 0,
    "start_time": "2023-04-25T14:25:12.821Z"
   },
   {
    "duration": 0,
    "start_time": "2023-04-25T14:25:12.823Z"
   },
   {
    "duration": 0,
    "start_time": "2023-04-25T14:25:12.824Z"
   },
   {
    "duration": 0,
    "start_time": "2023-04-25T14:25:12.826Z"
   },
   {
    "duration": 0,
    "start_time": "2023-04-25T14:25:12.829Z"
   },
   {
    "duration": 0,
    "start_time": "2023-04-25T14:25:12.830Z"
   },
   {
    "duration": 0,
    "start_time": "2023-04-25T14:25:12.831Z"
   },
   {
    "duration": 0,
    "start_time": "2023-04-25T14:25:12.832Z"
   },
   {
    "duration": 0,
    "start_time": "2023-04-25T14:25:12.833Z"
   },
   {
    "duration": 0,
    "start_time": "2023-04-25T14:25:12.834Z"
   },
   {
    "duration": 0,
    "start_time": "2023-04-25T14:25:12.835Z"
   },
   {
    "duration": 0,
    "start_time": "2023-04-25T14:25:12.836Z"
   },
   {
    "duration": 0,
    "start_time": "2023-04-25T14:25:12.837Z"
   },
   {
    "duration": 0,
    "start_time": "2023-04-25T14:25:12.838Z"
   },
   {
    "duration": 0,
    "start_time": "2023-04-25T14:25:12.840Z"
   },
   {
    "duration": 0,
    "start_time": "2023-04-25T14:25:12.841Z"
   },
   {
    "duration": 1622,
    "start_time": "2023-04-25T14:28:16.231Z"
   },
   {
    "duration": 4,
    "start_time": "2023-04-25T14:28:17.855Z"
   },
   {
    "duration": 9114,
    "start_time": "2023-04-25T14:28:17.860Z"
   },
   {
    "duration": 50,
    "start_time": "2023-04-25T14:28:26.976Z"
   },
   {
    "duration": 10,
    "start_time": "2023-04-25T14:28:27.029Z"
   },
   {
    "duration": 16,
    "start_time": "2023-04-25T14:28:27.041Z"
   },
   {
    "duration": 14,
    "start_time": "2023-04-25T14:28:27.059Z"
   },
   {
    "duration": 1510,
    "start_time": "2023-04-25T14:28:27.076Z"
   },
   {
    "duration": 297,
    "start_time": "2023-04-25T14:28:28.588Z"
   },
   {
    "duration": 3,
    "start_time": "2023-04-25T14:28:28.886Z"
   },
   {
    "duration": 24,
    "start_time": "2023-04-25T14:28:28.890Z"
   },
   {
    "duration": 8,
    "start_time": "2023-04-25T14:28:28.916Z"
   },
   {
    "duration": 16,
    "start_time": "2023-04-25T14:28:28.926Z"
   },
   {
    "duration": 2827,
    "start_time": "2023-04-25T14:28:28.946Z"
   },
   {
    "duration": 3,
    "start_time": "2023-04-25T14:28:31.775Z"
   },
   {
    "duration": 9442,
    "start_time": "2023-04-25T14:28:31.779Z"
   },
   {
    "duration": 131,
    "start_time": "2023-04-25T14:28:41.223Z"
   },
   {
    "duration": 279,
    "start_time": "2023-04-25T14:28:41.356Z"
   },
   {
    "duration": 175,
    "start_time": "2023-04-25T14:28:41.636Z"
   },
   {
    "duration": 5027,
    "start_time": "2023-04-25T14:28:41.813Z"
   },
   {
    "duration": 134,
    "start_time": "2023-04-25T14:28:46.842Z"
   },
   {
    "duration": 4706,
    "start_time": "2023-04-25T14:28:46.977Z"
   },
   {
    "duration": 141,
    "start_time": "2023-04-25T14:28:51.685Z"
   },
   {
    "duration": 4342,
    "start_time": "2023-04-25T14:28:51.828Z"
   },
   {
    "duration": 146,
    "start_time": "2023-04-25T14:28:56.172Z"
   },
   {
    "duration": 4773,
    "start_time": "2023-04-25T14:28:56.320Z"
   },
   {
    "duration": 282,
    "start_time": "2023-04-25T14:29:01.094Z"
   },
   {
    "duration": 23009,
    "start_time": "2023-04-25T14:29:01.379Z"
   },
   {
    "duration": 29,
    "start_time": "2023-04-25T14:29:24.391Z"
   },
   {
    "duration": 212,
    "start_time": "2023-04-25T14:29:24.423Z"
   },
   {
    "duration": 208,
    "start_time": "2023-04-25T14:29:24.637Z"
   },
   {
    "duration": 190,
    "start_time": "2023-04-25T14:29:24.847Z"
   },
   {
    "duration": 17,
    "start_time": "2023-04-25T14:29:25.039Z"
   },
   {
    "duration": 6,
    "start_time": "2023-04-25T14:29:25.059Z"
   },
   {
    "duration": 121,
    "start_time": "2023-04-25T14:29:25.067Z"
   },
   {
    "duration": 109,
    "start_time": "2023-04-25T14:29:25.190Z"
   },
   {
    "duration": 73,
    "start_time": "2023-04-25T14:29:25.300Z"
   },
   {
    "duration": 150,
    "start_time": "2023-04-25T14:29:25.375Z"
   },
   {
    "duration": 51,
    "start_time": "2023-04-25T14:29:25.527Z"
   },
   {
    "duration": 93,
    "start_time": "2023-04-25T14:29:25.579Z"
   },
   {
    "duration": 93,
    "start_time": "2023-04-25T14:29:25.677Z"
   },
   {
    "duration": 19,
    "start_time": "2023-04-25T14:29:25.772Z"
   },
   {
    "duration": 102,
    "start_time": "2023-04-25T14:29:25.812Z"
   },
   {
    "duration": 165,
    "start_time": "2023-04-25T14:29:25.916Z"
   },
   {
    "duration": 28,
    "start_time": "2023-04-25T14:29:26.083Z"
   },
   {
    "duration": 12,
    "start_time": "2023-04-25T14:29:26.113Z"
   },
   {
    "duration": 39,
    "start_time": "2023-04-25T14:29:26.126Z"
   },
   {
    "duration": 23,
    "start_time": "2023-04-25T14:29:26.167Z"
   },
   {
    "duration": 17,
    "start_time": "2023-04-25T14:29:26.213Z"
   },
   {
    "duration": 98,
    "start_time": "2023-04-25T14:29:26.232Z"
   },
   {
    "duration": 753,
    "start_time": "2023-04-25T14:29:26.332Z"
   },
   {
    "duration": 0,
    "start_time": "2023-04-25T14:29:27.087Z"
   },
   {
    "duration": 0,
    "start_time": "2023-04-25T14:29:27.088Z"
   },
   {
    "duration": 0,
    "start_time": "2023-04-25T14:29:27.089Z"
   },
   {
    "duration": 0,
    "start_time": "2023-04-25T14:29:27.090Z"
   },
   {
    "duration": 0,
    "start_time": "2023-04-25T14:29:27.092Z"
   },
   {
    "duration": 0,
    "start_time": "2023-04-25T14:29:27.093Z"
   },
   {
    "duration": 0,
    "start_time": "2023-04-25T14:29:27.094Z"
   },
   {
    "duration": 0,
    "start_time": "2023-04-25T14:29:27.112Z"
   },
   {
    "duration": 0,
    "start_time": "2023-04-25T14:29:27.113Z"
   },
   {
    "duration": 0,
    "start_time": "2023-04-25T14:29:27.114Z"
   },
   {
    "duration": 0,
    "start_time": "2023-04-25T14:29:27.115Z"
   },
   {
    "duration": 0,
    "start_time": "2023-04-25T14:29:27.116Z"
   },
   {
    "duration": 0,
    "start_time": "2023-04-25T14:29:27.117Z"
   },
   {
    "duration": 0,
    "start_time": "2023-04-25T14:29:27.118Z"
   },
   {
    "duration": 0,
    "start_time": "2023-04-25T14:29:27.119Z"
   },
   {
    "duration": 0,
    "start_time": "2023-04-25T14:29:27.121Z"
   },
   {
    "duration": 0,
    "start_time": "2023-04-25T14:29:27.121Z"
   },
   {
    "duration": 0,
    "start_time": "2023-04-25T14:29:27.122Z"
   },
   {
    "duration": 0,
    "start_time": "2023-04-25T14:29:27.124Z"
   },
   {
    "duration": 0,
    "start_time": "2023-04-25T14:29:27.125Z"
   },
   {
    "duration": 0,
    "start_time": "2023-04-25T14:29:27.126Z"
   },
   {
    "duration": 0,
    "start_time": "2023-04-25T14:29:27.127Z"
   },
   {
    "duration": 0,
    "start_time": "2023-04-25T14:29:27.128Z"
   },
   {
    "duration": 0,
    "start_time": "2023-04-25T14:29:27.129Z"
   },
   {
    "duration": 12,
    "start_time": "2023-04-25T14:31:28.922Z"
   },
   {
    "duration": 5,
    "start_time": "2023-04-25T14:32:23.794Z"
   },
   {
    "duration": 4,
    "start_time": "2023-04-25T14:32:25.223Z"
   },
   {
    "duration": 625,
    "start_time": "2023-04-25T14:32:31.172Z"
   },
   {
    "duration": 38,
    "start_time": "2023-04-25T14:32:56.172Z"
   },
   {
    "duration": 5,
    "start_time": "2023-04-25T14:32:56.939Z"
   },
   {
    "duration": 15,
    "start_time": "2023-04-25T14:34:12.475Z"
   },
   {
    "duration": 7,
    "start_time": "2023-04-25T14:34:56.859Z"
   },
   {
    "duration": 14,
    "start_time": "2023-04-25T14:35:01.495Z"
   },
   {
    "duration": 636,
    "start_time": "2023-04-25T14:36:47.731Z"
   },
   {
    "duration": 1953,
    "start_time": "2023-04-25T14:39:54.887Z"
   },
   {
    "duration": 5,
    "start_time": "2023-04-25T14:39:56.843Z"
   },
   {
    "duration": 9070,
    "start_time": "2023-04-25T14:39:56.850Z"
   },
   {
    "duration": 66,
    "start_time": "2023-04-25T14:40:05.922Z"
   },
   {
    "duration": 10,
    "start_time": "2023-04-25T14:40:05.990Z"
   },
   {
    "duration": 18,
    "start_time": "2023-04-25T14:40:06.002Z"
   },
   {
    "duration": 15,
    "start_time": "2023-04-25T14:40:06.022Z"
   },
   {
    "duration": 4274,
    "start_time": "2023-04-25T14:40:06.038Z"
   },
   {
    "duration": 291,
    "start_time": "2023-04-25T14:40:10.314Z"
   },
   {
    "duration": 3,
    "start_time": "2023-04-25T14:40:10.611Z"
   },
   {
    "duration": 17,
    "start_time": "2023-04-25T14:40:10.616Z"
   },
   {
    "duration": 10,
    "start_time": "2023-04-25T14:40:10.635Z"
   },
   {
    "duration": 12,
    "start_time": "2023-04-25T14:40:10.648Z"
   },
   {
    "duration": 2607,
    "start_time": "2023-04-25T14:40:10.666Z"
   },
   {
    "duration": 4,
    "start_time": "2023-04-25T14:40:13.275Z"
   },
   {
    "duration": 9375,
    "start_time": "2023-04-25T14:40:13.281Z"
   },
   {
    "duration": 191,
    "start_time": "2023-04-25T14:40:22.658Z"
   },
   {
    "duration": 285,
    "start_time": "2023-04-25T14:40:22.851Z"
   },
   {
    "duration": 186,
    "start_time": "2023-04-25T14:40:23.137Z"
   },
   {
    "duration": 4992,
    "start_time": "2023-04-25T14:40:23.325Z"
   },
   {
    "duration": 142,
    "start_time": "2023-04-25T14:40:28.318Z"
   },
   {
    "duration": 4606,
    "start_time": "2023-04-25T14:40:28.462Z"
   },
   {
    "duration": 152,
    "start_time": "2023-04-25T14:40:33.070Z"
   },
   {
    "duration": 4198,
    "start_time": "2023-04-25T14:40:33.225Z"
   },
   {
    "duration": 158,
    "start_time": "2023-04-25T14:40:37.425Z"
   },
   {
    "duration": 4643,
    "start_time": "2023-04-25T14:40:37.585Z"
   },
   {
    "duration": 288,
    "start_time": "2023-04-25T14:40:42.230Z"
   },
   {
    "duration": 30011,
    "start_time": "2023-04-25T14:40:42.521Z"
   },
   {
    "duration": 27,
    "start_time": "2023-04-25T14:41:12.535Z"
   },
   {
    "duration": 229,
    "start_time": "2023-04-25T14:41:12.564Z"
   },
   {
    "duration": 226,
    "start_time": "2023-04-25T14:41:12.795Z"
   },
   {
    "duration": 186,
    "start_time": "2023-04-25T14:41:13.024Z"
   },
   {
    "duration": 26,
    "start_time": "2023-04-25T14:41:13.212Z"
   },
   {
    "duration": 16,
    "start_time": "2023-04-25T14:41:13.240Z"
   },
   {
    "duration": 112,
    "start_time": "2023-04-25T14:41:13.258Z"
   },
   {
    "duration": 96,
    "start_time": "2023-04-25T14:41:13.372Z"
   },
   {
    "duration": 65,
    "start_time": "2023-04-25T14:41:13.470Z"
   },
   {
    "duration": 150,
    "start_time": "2023-04-25T14:41:13.536Z"
   },
   {
    "duration": 60,
    "start_time": "2023-04-25T14:41:13.688Z"
   },
   {
    "duration": 94,
    "start_time": "2023-04-25T14:41:13.750Z"
   },
   {
    "duration": 76,
    "start_time": "2023-04-25T14:41:13.849Z"
   },
   {
    "duration": 0,
    "start_time": "2023-04-25T14:41:13.927Z"
   },
   {
    "duration": 0,
    "start_time": "2023-04-25T14:41:13.930Z"
   },
   {
    "duration": 0,
    "start_time": "2023-04-25T14:41:13.931Z"
   },
   {
    "duration": 0,
    "start_time": "2023-04-25T14:41:13.933Z"
   },
   {
    "duration": 0,
    "start_time": "2023-04-25T14:41:13.935Z"
   },
   {
    "duration": 0,
    "start_time": "2023-04-25T14:41:13.937Z"
   },
   {
    "duration": 0,
    "start_time": "2023-04-25T14:41:13.939Z"
   },
   {
    "duration": 0,
    "start_time": "2023-04-25T14:41:13.940Z"
   },
   {
    "duration": 0,
    "start_time": "2023-04-25T14:41:13.941Z"
   },
   {
    "duration": 0,
    "start_time": "2023-04-25T14:41:13.942Z"
   },
   {
    "duration": 0,
    "start_time": "2023-04-25T14:41:13.943Z"
   },
   {
    "duration": 0,
    "start_time": "2023-04-25T14:41:13.944Z"
   },
   {
    "duration": 0,
    "start_time": "2023-04-25T14:41:13.946Z"
   },
   {
    "duration": 0,
    "start_time": "2023-04-25T14:41:13.947Z"
   },
   {
    "duration": 0,
    "start_time": "2023-04-25T14:41:13.949Z"
   },
   {
    "duration": 0,
    "start_time": "2023-04-25T14:41:13.951Z"
   },
   {
    "duration": 0,
    "start_time": "2023-04-25T14:41:13.953Z"
   },
   {
    "duration": 0,
    "start_time": "2023-04-25T14:41:13.955Z"
   },
   {
    "duration": 0,
    "start_time": "2023-04-25T14:41:13.956Z"
   },
   {
    "duration": 0,
    "start_time": "2023-04-25T14:41:13.958Z"
   },
   {
    "duration": 0,
    "start_time": "2023-04-25T14:41:13.960Z"
   },
   {
    "duration": 0,
    "start_time": "2023-04-25T14:41:13.961Z"
   },
   {
    "duration": 0,
    "start_time": "2023-04-25T14:41:13.963Z"
   },
   {
    "duration": 0,
    "start_time": "2023-04-25T14:41:13.964Z"
   },
   {
    "duration": 0,
    "start_time": "2023-04-25T14:41:14.012Z"
   },
   {
    "duration": 0,
    "start_time": "2023-04-25T14:41:14.014Z"
   },
   {
    "duration": 0,
    "start_time": "2023-04-25T14:41:14.016Z"
   },
   {
    "duration": 0,
    "start_time": "2023-04-25T14:41:14.018Z"
   },
   {
    "duration": 0,
    "start_time": "2023-04-25T14:41:14.020Z"
   },
   {
    "duration": 0,
    "start_time": "2023-04-25T14:41:14.021Z"
   },
   {
    "duration": 0,
    "start_time": "2023-04-25T14:41:14.023Z"
   },
   {
    "duration": 0,
    "start_time": "2023-04-25T14:41:14.027Z"
   },
   {
    "duration": 0,
    "start_time": "2023-04-25T14:41:14.029Z"
   },
   {
    "duration": 0,
    "start_time": "2023-04-25T14:41:14.031Z"
   },
   {
    "duration": 0,
    "start_time": "2023-04-25T14:41:14.033Z"
   },
   {
    "duration": 0,
    "start_time": "2023-04-25T14:41:14.034Z"
   },
   {
    "duration": 0,
    "start_time": "2023-04-25T14:41:14.036Z"
   },
   {
    "duration": 0,
    "start_time": "2023-04-25T14:41:14.037Z"
   },
   {
    "duration": 164,
    "start_time": "2023-04-25T14:41:32.982Z"
   },
   {
    "duration": 76,
    "start_time": "2023-04-25T14:42:13.396Z"
   },
   {
    "duration": 13,
    "start_time": "2023-04-25T14:43:01.899Z"
   },
   {
    "duration": 89,
    "start_time": "2023-04-25T14:43:16.747Z"
   },
   {
    "duration": 34,
    "start_time": "2023-04-25T14:43:59.983Z"
   },
   {
    "duration": 4,
    "start_time": "2023-04-25T14:44:00.401Z"
   },
   {
    "duration": 12,
    "start_time": "2023-04-25T14:44:03.048Z"
   },
   {
    "duration": 11,
    "start_time": "2023-04-25T14:46:27.321Z"
   },
   {
    "duration": 11,
    "start_time": "2023-04-25T14:46:38.034Z"
   },
   {
    "duration": 21,
    "start_time": "2023-04-25T14:47:07.001Z"
   },
   {
    "duration": 14,
    "start_time": "2023-04-25T14:47:07.825Z"
   },
   {
    "duration": 78,
    "start_time": "2023-04-25T14:47:20.403Z"
   },
   {
    "duration": 484,
    "start_time": "2023-04-25T14:47:22.945Z"
   },
   {
    "duration": 19,
    "start_time": "2023-04-25T14:49:00.337Z"
   },
   {
    "duration": 79,
    "start_time": "2023-04-25T14:49:32.625Z"
   },
   {
    "duration": 17,
    "start_time": "2023-04-25T14:52:38.904Z"
   },
   {
    "duration": 61,
    "start_time": "2023-04-25T14:53:33.025Z"
   },
   {
    "duration": 78,
    "start_time": "2023-04-25T14:53:40.158Z"
   },
   {
    "duration": 1621,
    "start_time": "2023-04-25T14:54:49.439Z"
   },
   {
    "duration": 4,
    "start_time": "2023-04-25T14:54:51.062Z"
   },
   {
    "duration": 8277,
    "start_time": "2023-04-25T14:54:51.068Z"
   },
   {
    "duration": 51,
    "start_time": "2023-04-25T14:54:59.347Z"
   },
   {
    "duration": 10,
    "start_time": "2023-04-25T14:54:59.400Z"
   },
   {
    "duration": 13,
    "start_time": "2023-04-25T14:54:59.412Z"
   },
   {
    "duration": 28,
    "start_time": "2023-04-25T14:54:59.427Z"
   },
   {
    "duration": 4235,
    "start_time": "2023-04-25T14:54:59.457Z"
   },
   {
    "duration": 275,
    "start_time": "2023-04-25T14:55:03.694Z"
   },
   {
    "duration": 2,
    "start_time": "2023-04-25T14:55:03.971Z"
   },
   {
    "duration": 12,
    "start_time": "2023-04-25T14:55:03.976Z"
   },
   {
    "duration": 18,
    "start_time": "2023-04-25T14:55:03.990Z"
   },
   {
    "duration": 25,
    "start_time": "2023-04-25T14:55:04.010Z"
   },
   {
    "duration": 2611,
    "start_time": "2023-04-25T14:55:04.038Z"
   },
   {
    "duration": 3,
    "start_time": "2023-04-25T14:55:06.651Z"
   },
   {
    "duration": 9320,
    "start_time": "2023-04-25T14:55:06.657Z"
   },
   {
    "duration": 148,
    "start_time": "2023-04-25T14:55:15.978Z"
   },
   {
    "duration": 286,
    "start_time": "2023-04-25T14:55:16.129Z"
   },
   {
    "duration": 186,
    "start_time": "2023-04-25T14:55:16.417Z"
   },
   {
    "duration": 4664,
    "start_time": "2023-04-25T14:55:16.606Z"
   },
   {
    "duration": 139,
    "start_time": "2023-04-25T14:55:21.272Z"
   },
   {
    "duration": 4920,
    "start_time": "2023-04-25T14:55:21.414Z"
   },
   {
    "duration": 146,
    "start_time": "2023-04-25T14:55:26.336Z"
   },
   {
    "duration": 4340,
    "start_time": "2023-04-25T14:55:26.484Z"
   },
   {
    "duration": 166,
    "start_time": "2023-04-25T14:55:30.826Z"
   },
   {
    "duration": 4665,
    "start_time": "2023-04-25T14:55:30.995Z"
   },
   {
    "duration": 281,
    "start_time": "2023-04-25T14:55:35.662Z"
   },
   {
    "duration": 29666,
    "start_time": "2023-04-25T14:55:35.945Z"
   },
   {
    "duration": 14,
    "start_time": "2023-04-25T14:56:05.613Z"
   },
   {
    "duration": 214,
    "start_time": "2023-04-25T14:56:05.629Z"
   },
   {
    "duration": 209,
    "start_time": "2023-04-25T14:56:05.845Z"
   },
   {
    "duration": 189,
    "start_time": "2023-04-25T14:56:06.055Z"
   },
   {
    "duration": 16,
    "start_time": "2023-04-25T14:56:06.246Z"
   },
   {
    "duration": 6,
    "start_time": "2023-04-25T14:56:06.265Z"
   },
   {
    "duration": 139,
    "start_time": "2023-04-25T14:56:06.274Z"
   },
   {
    "duration": 100,
    "start_time": "2023-04-25T14:56:06.414Z"
   },
   {
    "duration": 58,
    "start_time": "2023-04-25T14:56:06.516Z"
   },
   {
    "duration": 144,
    "start_time": "2023-04-25T14:56:06.575Z"
   },
   {
    "duration": 58,
    "start_time": "2023-04-25T14:56:06.722Z"
   },
   {
    "duration": 86,
    "start_time": "2023-04-25T14:56:06.792Z"
   },
   {
    "duration": 92,
    "start_time": "2023-04-25T14:56:06.883Z"
   },
   {
    "duration": 90,
    "start_time": "2023-04-25T14:56:06.976Z"
   },
   {
    "duration": 3,
    "start_time": "2023-04-25T14:56:07.068Z"
   },
   {
    "duration": 22,
    "start_time": "2023-04-25T14:56:07.072Z"
   },
   {
    "duration": 159,
    "start_time": "2023-04-25T14:56:07.097Z"
   },
   {
    "duration": 0,
    "start_time": "2023-04-25T14:56:07.258Z"
   },
   {
    "duration": 0,
    "start_time": "2023-04-25T14:56:07.259Z"
   },
   {
    "duration": 0,
    "start_time": "2023-04-25T14:56:07.260Z"
   },
   {
    "duration": 0,
    "start_time": "2023-04-25T14:56:07.261Z"
   },
   {
    "duration": 0,
    "start_time": "2023-04-25T14:56:07.262Z"
   },
   {
    "duration": 0,
    "start_time": "2023-04-25T14:56:07.263Z"
   },
   {
    "duration": 0,
    "start_time": "2023-04-25T14:56:07.264Z"
   },
   {
    "duration": 0,
    "start_time": "2023-04-25T14:56:07.265Z"
   },
   {
    "duration": 0,
    "start_time": "2023-04-25T14:56:07.266Z"
   },
   {
    "duration": 0,
    "start_time": "2023-04-25T14:56:07.268Z"
   },
   {
    "duration": 0,
    "start_time": "2023-04-25T14:56:07.269Z"
   },
   {
    "duration": 0,
    "start_time": "2023-04-25T14:56:07.269Z"
   },
   {
    "duration": 0,
    "start_time": "2023-04-25T14:56:07.271Z"
   },
   {
    "duration": 0,
    "start_time": "2023-04-25T14:56:07.272Z"
   },
   {
    "duration": 0,
    "start_time": "2023-04-25T14:56:07.273Z"
   },
   {
    "duration": 0,
    "start_time": "2023-04-25T14:56:07.274Z"
   },
   {
    "duration": 0,
    "start_time": "2023-04-25T14:56:07.275Z"
   },
   {
    "duration": 0,
    "start_time": "2023-04-25T14:56:07.276Z"
   },
   {
    "duration": 0,
    "start_time": "2023-04-25T14:56:07.278Z"
   },
   {
    "duration": 0,
    "start_time": "2023-04-25T14:56:07.312Z"
   },
   {
    "duration": 0,
    "start_time": "2023-04-25T14:56:07.313Z"
   },
   {
    "duration": 0,
    "start_time": "2023-04-25T14:56:07.314Z"
   },
   {
    "duration": 0,
    "start_time": "2023-04-25T14:56:07.316Z"
   },
   {
    "duration": 0,
    "start_time": "2023-04-25T14:56:07.317Z"
   },
   {
    "duration": 0,
    "start_time": "2023-04-25T14:56:07.317Z"
   },
   {
    "duration": 0,
    "start_time": "2023-04-25T14:56:07.319Z"
   },
   {
    "duration": 0,
    "start_time": "2023-04-25T14:56:07.320Z"
   },
   {
    "duration": 0,
    "start_time": "2023-04-25T14:56:07.321Z"
   },
   {
    "duration": 0,
    "start_time": "2023-04-25T14:56:07.323Z"
   },
   {
    "duration": 0,
    "start_time": "2023-04-25T14:56:07.325Z"
   },
   {
    "duration": 0,
    "start_time": "2023-04-25T14:56:07.326Z"
   },
   {
    "duration": 0,
    "start_time": "2023-04-25T14:56:07.327Z"
   },
   {
    "duration": 0,
    "start_time": "2023-04-25T14:56:07.328Z"
   },
   {
    "duration": 0,
    "start_time": "2023-04-25T14:56:07.329Z"
   },
   {
    "duration": 0,
    "start_time": "2023-04-25T14:56:07.330Z"
   },
   {
    "duration": 0,
    "start_time": "2023-04-25T14:56:07.332Z"
   },
   {
    "duration": 0,
    "start_time": "2023-04-25T14:56:07.333Z"
   },
   {
    "duration": 0,
    "start_time": "2023-04-25T14:56:07.334Z"
   },
   {
    "duration": 0,
    "start_time": "2023-04-25T14:56:07.335Z"
   },
   {
    "duration": 0,
    "start_time": "2023-04-25T14:56:07.336Z"
   },
   {
    "duration": 11,
    "start_time": "2023-04-25T14:56:48.012Z"
   },
   {
    "duration": 11,
    "start_time": "2023-04-25T14:56:48.799Z"
   },
   {
    "duration": 14,
    "start_time": "2023-04-25T14:57:03.814Z"
   },
   {
    "duration": 77,
    "start_time": "2023-04-25T14:57:05.448Z"
   },
   {
    "duration": 77,
    "start_time": "2023-04-25T14:57:06.235Z"
   },
   {
    "duration": 34,
    "start_time": "2023-04-25T14:57:11.703Z"
   },
   {
    "duration": 86,
    "start_time": "2023-04-25T14:57:12.460Z"
   },
   {
    "duration": 59,
    "start_time": "2023-04-25T14:57:13.193Z"
   },
   {
    "duration": 97,
    "start_time": "2023-04-25T14:57:17.215Z"
   },
   {
    "duration": 11,
    "start_time": "2023-04-25T14:57:18.011Z"
   },
   {
    "duration": 6,
    "start_time": "2023-04-25T14:57:19.126Z"
   },
   {
    "duration": 27,
    "start_time": "2023-04-25T14:57:24.986Z"
   },
   {
    "duration": 88,
    "start_time": "2023-04-25T14:57:25.661Z"
   },
   {
    "duration": 3,
    "start_time": "2023-04-25T14:57:27.299Z"
   },
   {
    "duration": 1019,
    "start_time": "2023-04-25T14:57:30.808Z"
   },
   {
    "duration": 1616,
    "start_time": "2023-04-25T14:59:53.437Z"
   },
   {
    "duration": 4,
    "start_time": "2023-04-25T14:59:55.056Z"
   },
   {
    "duration": 9583,
    "start_time": "2023-04-25T14:59:55.061Z"
   },
   {
    "duration": 54,
    "start_time": "2023-04-25T15:00:04.646Z"
   },
   {
    "duration": 14,
    "start_time": "2023-04-25T15:00:04.703Z"
   },
   {
    "duration": 19,
    "start_time": "2023-04-25T15:00:04.719Z"
   },
   {
    "duration": 19,
    "start_time": "2023-04-25T15:00:04.741Z"
   },
   {
    "duration": 4253,
    "start_time": "2023-04-25T15:00:04.762Z"
   },
   {
    "duration": 310,
    "start_time": "2023-04-25T15:00:09.018Z"
   },
   {
    "duration": 3,
    "start_time": "2023-04-25T15:00:09.330Z"
   },
   {
    "duration": 21,
    "start_time": "2023-04-25T15:00:09.335Z"
   },
   {
    "duration": 10,
    "start_time": "2023-04-25T15:00:09.358Z"
   },
   {
    "duration": 14,
    "start_time": "2023-04-25T15:00:09.370Z"
   },
   {
    "duration": 2660,
    "start_time": "2023-04-25T15:00:09.389Z"
   },
   {
    "duration": 3,
    "start_time": "2023-04-25T15:00:12.051Z"
   },
   {
    "duration": 8488,
    "start_time": "2023-04-25T15:00:12.056Z"
   },
   {
    "duration": 143,
    "start_time": "2023-04-25T15:00:20.547Z"
   },
   {
    "duration": 280,
    "start_time": "2023-04-25T15:00:20.693Z"
   },
   {
    "duration": 222,
    "start_time": "2023-04-25T15:00:20.976Z"
   },
   {
    "duration": 4967,
    "start_time": "2023-04-25T15:00:21.200Z"
   },
   {
    "duration": 140,
    "start_time": "2023-04-25T15:00:26.168Z"
   },
   {
    "duration": 4905,
    "start_time": "2023-04-25T15:00:26.311Z"
   },
   {
    "duration": 167,
    "start_time": "2023-04-25T15:00:31.221Z"
   },
   {
    "duration": 4312,
    "start_time": "2023-04-25T15:00:31.389Z"
   },
   {
    "duration": 169,
    "start_time": "2023-04-25T15:00:35.704Z"
   },
   {
    "duration": 4668,
    "start_time": "2023-04-25T15:00:35.875Z"
   },
   {
    "duration": 285,
    "start_time": "2023-04-25T15:00:40.545Z"
   },
   {
    "duration": 26487,
    "start_time": "2023-04-25T15:00:40.832Z"
   },
   {
    "duration": 14,
    "start_time": "2023-04-25T15:01:07.321Z"
   },
   {
    "duration": 230,
    "start_time": "2023-04-25T15:01:07.337Z"
   },
   {
    "duration": 212,
    "start_time": "2023-04-25T15:01:07.569Z"
   },
   {
    "duration": 198,
    "start_time": "2023-04-25T15:01:07.783Z"
   },
   {
    "duration": 15,
    "start_time": "2023-04-25T15:01:07.983Z"
   },
   {
    "duration": 6,
    "start_time": "2023-04-25T15:01:08.012Z"
   },
   {
    "duration": 102,
    "start_time": "2023-04-25T15:01:08.019Z"
   },
   {
    "duration": 97,
    "start_time": "2023-04-25T15:01:08.123Z"
   },
   {
    "duration": 55,
    "start_time": "2023-04-25T15:01:08.221Z"
   },
   {
    "duration": 155,
    "start_time": "2023-04-25T15:01:08.278Z"
   },
   {
    "duration": 53,
    "start_time": "2023-04-25T15:01:08.435Z"
   },
   {
    "duration": 96,
    "start_time": "2023-04-25T15:01:08.490Z"
   },
   {
    "duration": 99,
    "start_time": "2023-04-25T15:01:08.590Z"
   },
   {
    "duration": 83,
    "start_time": "2023-04-25T15:01:08.691Z"
   },
   {
    "duration": 11,
    "start_time": "2023-04-25T15:01:08.776Z"
   },
   {
    "duration": 20,
    "start_time": "2023-04-25T15:01:08.788Z"
   },
   {
    "duration": 27,
    "start_time": "2023-04-25T15:01:08.810Z"
   },
   {
    "duration": 84,
    "start_time": "2023-04-25T15:01:08.839Z"
   },
   {
    "duration": 111,
    "start_time": "2023-04-25T15:01:08.925Z"
   },
   {
    "duration": 38,
    "start_time": "2023-04-25T15:01:09.039Z"
   },
   {
    "duration": 105,
    "start_time": "2023-04-25T15:01:09.079Z"
   },
   {
    "duration": 69,
    "start_time": "2023-04-25T15:01:09.186Z"
   },
   {
    "duration": 88,
    "start_time": "2023-04-25T15:01:09.257Z"
   },
   {
    "duration": 10,
    "start_time": "2023-04-25T15:01:09.347Z"
   },
   {
    "duration": 10,
    "start_time": "2023-04-25T15:01:09.359Z"
   },
   {
    "duration": 44,
    "start_time": "2023-04-25T15:01:09.371Z"
   },
   {
    "duration": 98,
    "start_time": "2023-04-25T15:01:09.417Z"
   },
   {
    "duration": 3,
    "start_time": "2023-04-25T15:01:09.517Z"
   },
   {
    "duration": 999,
    "start_time": "2023-04-25T15:01:09.521Z"
   },
   {
    "duration": 0,
    "start_time": "2023-04-25T15:01:10.522Z"
   },
   {
    "duration": 0,
    "start_time": "2023-04-25T15:01:10.523Z"
   },
   {
    "duration": 0,
    "start_time": "2023-04-25T15:01:10.524Z"
   },
   {
    "duration": 0,
    "start_time": "2023-04-25T15:01:10.525Z"
   },
   {
    "duration": 0,
    "start_time": "2023-04-25T15:01:10.526Z"
   },
   {
    "duration": 0,
    "start_time": "2023-04-25T15:01:10.527Z"
   },
   {
    "duration": 0,
    "start_time": "2023-04-25T15:01:10.529Z"
   },
   {
    "duration": 0,
    "start_time": "2023-04-25T15:01:10.530Z"
   },
   {
    "duration": 0,
    "start_time": "2023-04-25T15:01:10.531Z"
   },
   {
    "duration": 0,
    "start_time": "2023-04-25T15:01:10.532Z"
   },
   {
    "duration": 0,
    "start_time": "2023-04-25T15:01:10.533Z"
   },
   {
    "duration": 0,
    "start_time": "2023-04-25T15:01:10.534Z"
   },
   {
    "duration": 0,
    "start_time": "2023-04-25T15:01:10.536Z"
   },
   {
    "duration": 0,
    "start_time": "2023-04-25T15:01:10.537Z"
   },
   {
    "duration": 0,
    "start_time": "2023-04-25T15:01:10.538Z"
   },
   {
    "duration": 0,
    "start_time": "2023-04-25T15:01:10.539Z"
   },
   {
    "duration": 0,
    "start_time": "2023-04-25T15:01:10.540Z"
   },
   {
    "duration": 0,
    "start_time": "2023-04-25T15:01:10.542Z"
   },
   {
    "duration": 0,
    "start_time": "2023-04-25T15:01:10.543Z"
   },
   {
    "duration": 0,
    "start_time": "2023-04-25T15:01:10.544Z"
   },
   {
    "duration": 0,
    "start_time": "2023-04-25T15:01:10.545Z"
   },
   {
    "duration": 0,
    "start_time": "2023-04-25T15:01:10.546Z"
   },
   {
    "duration": 0,
    "start_time": "2023-04-25T15:01:10.547Z"
   },
   {
    "duration": 0,
    "start_time": "2023-04-25T15:01:10.549Z"
   },
   {
    "duration": 0,
    "start_time": "2023-04-25T15:01:10.550Z"
   },
   {
    "duration": 0,
    "start_time": "2023-04-25T15:01:10.552Z"
   },
   {
    "duration": 0,
    "start_time": "2023-04-25T15:01:10.554Z"
   },
   {
    "duration": 0,
    "start_time": "2023-04-25T15:01:10.555Z"
   },
   {
    "duration": 14,
    "start_time": "2023-04-25T15:05:08.836Z"
   },
   {
    "duration": 11,
    "start_time": "2023-04-25T15:06:46.903Z"
   },
   {
    "duration": 5,
    "start_time": "2023-04-25T15:09:51.400Z"
   },
   {
    "duration": 4,
    "start_time": "2023-04-25T15:10:24.512Z"
   },
   {
    "duration": 473,
    "start_time": "2023-04-25T15:11:19.108Z"
   },
   {
    "duration": 432,
    "start_time": "2023-04-25T15:11:32.024Z"
   },
   {
    "duration": 421,
    "start_time": "2023-04-25T15:11:37.548Z"
   },
   {
    "duration": 5,
    "start_time": "2023-04-25T15:12:18.499Z"
   },
   {
    "duration": 38,
    "start_time": "2023-04-25T15:13:38.014Z"
   },
   {
    "duration": 1337,
    "start_time": "2023-04-25T15:13:40.599Z"
   },
   {
    "duration": 44,
    "start_time": "2023-04-25T15:13:50.340Z"
   },
   {
    "duration": 1610,
    "start_time": "2023-04-25T15:14:27.844Z"
   },
   {
    "duration": 3,
    "start_time": "2023-04-25T15:14:29.457Z"
   },
   {
    "duration": 8570,
    "start_time": "2023-04-25T15:14:29.461Z"
   },
   {
    "duration": 54,
    "start_time": "2023-04-25T15:14:38.033Z"
   },
   {
    "duration": 12,
    "start_time": "2023-04-25T15:14:38.089Z"
   },
   {
    "duration": 12,
    "start_time": "2023-04-25T15:14:38.103Z"
   },
   {
    "duration": 15,
    "start_time": "2023-04-25T15:14:38.116Z"
   },
   {
    "duration": 4816,
    "start_time": "2023-04-25T15:14:38.132Z"
   },
   {
    "duration": 274,
    "start_time": "2023-04-25T15:14:42.950Z"
   },
   {
    "duration": 2,
    "start_time": "2023-04-25T15:14:43.227Z"
   },
   {
    "duration": 14,
    "start_time": "2023-04-25T15:14:43.231Z"
   },
   {
    "duration": 20,
    "start_time": "2023-04-25T15:14:43.246Z"
   },
   {
    "duration": 14,
    "start_time": "2023-04-25T15:14:43.268Z"
   },
   {
    "duration": 2667,
    "start_time": "2023-04-25T15:14:43.284Z"
   },
   {
    "duration": 4,
    "start_time": "2023-04-25T15:14:45.952Z"
   },
   {
    "duration": 10252,
    "start_time": "2023-04-25T15:14:45.957Z"
   },
   {
    "duration": 136,
    "start_time": "2023-04-25T15:14:56.211Z"
   },
   {
    "duration": 286,
    "start_time": "2023-04-25T15:14:56.348Z"
   },
   {
    "duration": 178,
    "start_time": "2023-04-25T15:14:56.636Z"
   },
   {
    "duration": 2112,
    "start_time": "2023-04-25T15:14:56.817Z"
   },
   {
    "duration": 158,
    "start_time": "2023-04-25T15:14:58.932Z"
   },
   {
    "duration": 4725,
    "start_time": "2023-04-25T15:14:59.092Z"
   },
   {
    "duration": 163,
    "start_time": "2023-04-25T15:15:03.819Z"
   },
   {
    "duration": 4344,
    "start_time": "2023-04-25T15:15:03.984Z"
   },
   {
    "duration": 135,
    "start_time": "2023-04-25T15:15:08.330Z"
   },
   {
    "duration": 5191,
    "start_time": "2023-04-25T15:15:08.467Z"
   },
   {
    "duration": 289,
    "start_time": "2023-04-25T15:15:13.660Z"
   },
   {
    "duration": 31289,
    "start_time": "2023-04-25T15:15:13.954Z"
   },
   {
    "duration": 14,
    "start_time": "2023-04-25T15:15:45.245Z"
   },
   {
    "duration": 219,
    "start_time": "2023-04-25T15:15:45.261Z"
   },
   {
    "duration": 216,
    "start_time": "2023-04-25T15:15:45.482Z"
   },
   {
    "duration": 192,
    "start_time": "2023-04-25T15:15:45.700Z"
   },
   {
    "duration": 25,
    "start_time": "2023-04-25T15:15:45.894Z"
   },
   {
    "duration": 5,
    "start_time": "2023-04-25T15:15:45.920Z"
   },
   {
    "duration": 104,
    "start_time": "2023-04-25T15:15:45.927Z"
   },
   {
    "duration": 104,
    "start_time": "2023-04-25T15:15:46.033Z"
   },
   {
    "duration": 60,
    "start_time": "2023-04-25T15:15:46.139Z"
   },
   {
    "duration": 138,
    "start_time": "2023-04-25T15:15:46.200Z"
   },
   {
    "duration": 54,
    "start_time": "2023-04-25T15:15:46.339Z"
   },
   {
    "duration": 89,
    "start_time": "2023-04-25T15:15:46.394Z"
   },
   {
    "duration": 84,
    "start_time": "2023-04-25T15:15:46.485Z"
   },
   {
    "duration": 85,
    "start_time": "2023-04-25T15:15:46.571Z"
   },
   {
    "duration": 3,
    "start_time": "2023-04-25T15:15:46.657Z"
   },
   {
    "duration": 11,
    "start_time": "2023-04-25T15:15:46.663Z"
   },
   {
    "duration": 37,
    "start_time": "2023-04-25T15:15:46.676Z"
   },
   {
    "duration": 71,
    "start_time": "2023-04-25T15:15:46.715Z"
   },
   {
    "duration": 89,
    "start_time": "2023-04-25T15:15:46.788Z"
   },
   {
    "duration": 84,
    "start_time": "2023-04-25T15:15:46.879Z"
   },
   {
    "duration": 75,
    "start_time": "2023-04-25T15:15:46.965Z"
   },
   {
    "duration": 87,
    "start_time": "2023-04-25T15:15:47.042Z"
   },
   {
    "duration": 13,
    "start_time": "2023-04-25T15:15:47.131Z"
   },
   {
    "duration": 30,
    "start_time": "2023-04-25T15:15:47.146Z"
   },
   {
    "duration": 117,
    "start_time": "2023-04-25T15:15:47.179Z"
   },
   {
    "duration": 3,
    "start_time": "2023-04-25T15:15:47.298Z"
   },
   {
    "duration": 128,
    "start_time": "2023-04-25T15:15:47.302Z"
   },
   {
    "duration": 0,
    "start_time": "2023-04-25T15:15:47.432Z"
   },
   {
    "duration": 0,
    "start_time": "2023-04-25T15:15:47.434Z"
   },
   {
    "duration": 0,
    "start_time": "2023-04-25T15:15:47.435Z"
   },
   {
    "duration": 0,
    "start_time": "2023-04-25T15:15:47.437Z"
   },
   {
    "duration": 0,
    "start_time": "2023-04-25T15:15:47.438Z"
   },
   {
    "duration": 0,
    "start_time": "2023-04-25T15:15:47.440Z"
   },
   {
    "duration": 0,
    "start_time": "2023-04-25T15:15:47.441Z"
   },
   {
    "duration": 0,
    "start_time": "2023-04-25T15:15:47.442Z"
   },
   {
    "duration": 0,
    "start_time": "2023-04-25T15:15:47.444Z"
   },
   {
    "duration": 0,
    "start_time": "2023-04-25T15:15:47.445Z"
   },
   {
    "duration": 0,
    "start_time": "2023-04-25T15:15:47.447Z"
   },
   {
    "duration": 0,
    "start_time": "2023-04-25T15:15:47.448Z"
   },
   {
    "duration": 0,
    "start_time": "2023-04-25T15:15:47.449Z"
   },
   {
    "duration": 0,
    "start_time": "2023-04-25T15:15:47.451Z"
   },
   {
    "duration": 0,
    "start_time": "2023-04-25T15:15:47.452Z"
   },
   {
    "duration": 0,
    "start_time": "2023-04-25T15:15:47.453Z"
   },
   {
    "duration": 0,
    "start_time": "2023-04-25T15:15:47.455Z"
   },
   {
    "duration": 0,
    "start_time": "2023-04-25T15:15:47.457Z"
   },
   {
    "duration": 0,
    "start_time": "2023-04-25T15:15:47.458Z"
   },
   {
    "duration": 0,
    "start_time": "2023-04-25T15:15:47.460Z"
   },
   {
    "duration": 0,
    "start_time": "2023-04-25T15:15:47.461Z"
   },
   {
    "duration": 0,
    "start_time": "2023-04-25T15:15:47.462Z"
   },
   {
    "duration": 0,
    "start_time": "2023-04-25T15:15:47.463Z"
   },
   {
    "duration": 0,
    "start_time": "2023-04-25T15:15:47.464Z"
   },
   {
    "duration": 0,
    "start_time": "2023-04-25T15:15:47.516Z"
   },
   {
    "duration": 0,
    "start_time": "2023-04-25T15:15:47.518Z"
   },
   {
    "duration": 0,
    "start_time": "2023-04-25T15:15:47.519Z"
   },
   {
    "duration": 0,
    "start_time": "2023-04-25T15:15:47.521Z"
   },
   {
    "duration": 0,
    "start_time": "2023-04-25T15:15:47.522Z"
   },
   {
    "duration": 0,
    "start_time": "2023-04-25T15:15:47.523Z"
   },
   {
    "duration": 0,
    "start_time": "2023-04-25T15:15:47.525Z"
   },
   {
    "duration": 0,
    "start_time": "2023-04-25T15:15:47.526Z"
   },
   {
    "duration": 92,
    "start_time": "2023-04-25T15:16:02.324Z"
   },
   {
    "duration": 10,
    "start_time": "2023-04-25T15:16:41.629Z"
   },
   {
    "duration": 54,
    "start_time": "2023-04-25T15:17:04.096Z"
   },
   {
    "duration": 1489,
    "start_time": "2023-04-25T15:17:05.264Z"
   },
   {
    "duration": 54,
    "start_time": "2023-04-25T15:17:08.493Z"
   },
   {
    "duration": 4,
    "start_time": "2023-04-25T15:17:09.012Z"
   },
   {
    "duration": 4,
    "start_time": "2023-04-25T15:17:09.758Z"
   },
   {
    "duration": 2,
    "start_time": "2023-04-25T15:17:10.308Z"
   },
   {
    "duration": 675,
    "start_time": "2023-04-25T15:17:10.731Z"
   },
   {
    "duration": 845,
    "start_time": "2023-04-25T15:17:37.127Z"
   },
   {
    "duration": 4,
    "start_time": "2023-04-25T15:17:41.611Z"
   },
   {
    "duration": 97,
    "start_time": "2023-04-25T15:17:42.684Z"
   },
   {
    "duration": 70,
    "start_time": "2023-04-25T15:17:54.292Z"
   },
   {
    "duration": 1956,
    "start_time": "2023-04-25T15:18:53.246Z"
   },
   {
    "duration": 4,
    "start_time": "2023-04-25T15:18:55.205Z"
   },
   {
    "duration": 9181,
    "start_time": "2023-04-25T15:18:55.211Z"
   },
   {
    "duration": 67,
    "start_time": "2023-04-25T15:19:04.394Z"
   },
   {
    "duration": 12,
    "start_time": "2023-04-25T15:19:04.464Z"
   },
   {
    "duration": 16,
    "start_time": "2023-04-25T15:19:04.477Z"
   },
   {
    "duration": 27,
    "start_time": "2023-04-25T15:19:04.495Z"
   },
   {
    "duration": 4247,
    "start_time": "2023-04-25T15:19:04.524Z"
   },
   {
    "duration": 333,
    "start_time": "2023-04-25T15:19:08.773Z"
   },
   {
    "duration": 4,
    "start_time": "2023-04-25T15:19:09.112Z"
   },
   {
    "duration": 7,
    "start_time": "2023-04-25T15:19:09.118Z"
   },
   {
    "duration": 3,
    "start_time": "2023-04-25T15:19:09.128Z"
   },
   {
    "duration": 4,
    "start_time": "2023-04-25T15:19:09.133Z"
   },
   {
    "duration": 2596,
    "start_time": "2023-04-25T15:19:09.143Z"
   },
   {
    "duration": 3,
    "start_time": "2023-04-25T15:19:11.741Z"
   },
   {
    "duration": 9412,
    "start_time": "2023-04-25T15:19:11.746Z"
   },
   {
    "duration": 138,
    "start_time": "2023-04-25T15:19:21.160Z"
   },
   {
    "duration": 295,
    "start_time": "2023-04-25T15:19:21.300Z"
   },
   {
    "duration": 178,
    "start_time": "2023-04-25T15:19:21.596Z"
   },
   {
    "duration": 4985,
    "start_time": "2023-04-25T15:19:21.776Z"
   },
   {
    "duration": 148,
    "start_time": "2023-04-25T15:19:26.764Z"
   },
   {
    "duration": 4492,
    "start_time": "2023-04-25T15:19:26.913Z"
   },
   {
    "duration": 164,
    "start_time": "2023-04-25T15:19:31.407Z"
   },
   {
    "duration": 4396,
    "start_time": "2023-04-25T15:19:31.573Z"
   },
   {
    "duration": 149,
    "start_time": "2023-04-25T15:19:35.970Z"
   },
   {
    "duration": 4647,
    "start_time": "2023-04-25T15:19:36.121Z"
   },
   {
    "duration": 283,
    "start_time": "2023-04-25T15:19:40.769Z"
   },
   {
    "duration": 32386,
    "start_time": "2023-04-25T15:19:41.053Z"
   },
   {
    "duration": 16,
    "start_time": "2023-04-25T15:20:13.441Z"
   },
   {
    "duration": 218,
    "start_time": "2023-04-25T15:20:13.459Z"
   },
   {
    "duration": 223,
    "start_time": "2023-04-25T15:20:13.680Z"
   },
   {
    "duration": 210,
    "start_time": "2023-04-25T15:20:13.905Z"
   },
   {
    "duration": 15,
    "start_time": "2023-04-25T15:20:14.117Z"
   },
   {
    "duration": 5,
    "start_time": "2023-04-25T15:20:14.133Z"
   },
   {
    "duration": 114,
    "start_time": "2023-04-25T15:20:14.140Z"
   },
   {
    "duration": 104,
    "start_time": "2023-04-25T15:20:14.256Z"
   },
   {
    "duration": 60,
    "start_time": "2023-04-25T15:20:14.362Z"
   },
   {
    "duration": 147,
    "start_time": "2023-04-25T15:20:14.424Z"
   },
   {
    "duration": 62,
    "start_time": "2023-04-25T15:20:14.573Z"
   },
   {
    "duration": 94,
    "start_time": "2023-04-25T15:20:14.636Z"
   },
   {
    "duration": 91,
    "start_time": "2023-04-25T15:20:14.735Z"
   },
   {
    "duration": 91,
    "start_time": "2023-04-25T15:20:14.827Z"
   },
   {
    "duration": 2,
    "start_time": "2023-04-25T15:20:14.920Z"
   },
   {
    "duration": 23,
    "start_time": "2023-04-25T15:20:14.924Z"
   },
   {
    "duration": 18,
    "start_time": "2023-04-25T15:20:14.949Z"
   },
   {
    "duration": 78,
    "start_time": "2023-04-25T15:20:14.969Z"
   },
   {
    "duration": 87,
    "start_time": "2023-04-25T15:20:15.049Z"
   },
   {
    "duration": 85,
    "start_time": "2023-04-25T15:20:15.138Z"
   },
   {
    "duration": 59,
    "start_time": "2023-04-25T15:20:15.224Z"
   },
   {
    "duration": 95,
    "start_time": "2023-04-25T15:20:15.285Z"
   },
   {
    "duration": 11,
    "start_time": "2023-04-25T15:20:15.382Z"
   },
   {
    "duration": 42,
    "start_time": "2023-04-25T15:20:15.394Z"
   },
   {
    "duration": 94,
    "start_time": "2023-04-25T15:20:15.438Z"
   },
   {
    "duration": 3,
    "start_time": "2023-04-25T15:20:15.534Z"
   },
   {
    "duration": 54,
    "start_time": "2023-04-25T15:20:15.538Z"
   },
   {
    "duration": 1367,
    "start_time": "2023-04-25T15:20:15.594Z"
   },
   {
    "duration": 57,
    "start_time": "2023-04-25T15:20:16.963Z"
   },
   {
    "duration": 2,
    "start_time": "2023-04-25T15:20:17.022Z"
   },
   {
    "duration": 14,
    "start_time": "2023-04-25T15:20:17.026Z"
   },
   {
    "duration": 6,
    "start_time": "2023-04-25T15:20:17.042Z"
   },
   {
    "duration": 762,
    "start_time": "2023-04-25T15:20:17.050Z"
   },
   {
    "duration": 4,
    "start_time": "2023-04-25T15:20:17.814Z"
   },
   {
    "duration": 81,
    "start_time": "2023-04-25T15:20:17.820Z"
   },
   {
    "duration": 2085,
    "start_time": "2023-04-25T15:20:17.902Z"
   },
   {
    "duration": 3,
    "start_time": "2023-04-25T15:20:19.989Z"
   },
   {
    "duration": 123,
    "start_time": "2023-04-25T15:20:19.994Z"
   },
   {
    "duration": 2100,
    "start_time": "2023-04-25T15:20:20.120Z"
   },
   {
    "duration": 3076,
    "start_time": "2023-04-25T15:20:22.222Z"
   },
   {
    "duration": 0,
    "start_time": "2023-04-25T15:20:25.299Z"
   },
   {
    "duration": 0,
    "start_time": "2023-04-25T15:20:25.301Z"
   },
   {
    "duration": 0,
    "start_time": "2023-04-25T15:20:25.302Z"
   },
   {
    "duration": 0,
    "start_time": "2023-04-25T15:20:25.304Z"
   },
   {
    "duration": 0,
    "start_time": "2023-04-25T15:20:25.305Z"
   },
   {
    "duration": 0,
    "start_time": "2023-04-25T15:20:25.306Z"
   },
   {
    "duration": 0,
    "start_time": "2023-04-25T15:20:25.307Z"
   },
   {
    "duration": 0,
    "start_time": "2023-04-25T15:20:25.309Z"
   },
   {
    "duration": 0,
    "start_time": "2023-04-25T15:20:25.310Z"
   },
   {
    "duration": 0,
    "start_time": "2023-04-25T15:20:25.311Z"
   },
   {
    "duration": 0,
    "start_time": "2023-04-25T15:20:25.312Z"
   },
   {
    "duration": 0,
    "start_time": "2023-04-25T15:20:25.314Z"
   },
   {
    "duration": 0,
    "start_time": "2023-04-25T15:20:25.315Z"
   },
   {
    "duration": 0,
    "start_time": "2023-04-25T15:20:25.316Z"
   },
   {
    "duration": 0,
    "start_time": "2023-04-25T15:20:25.318Z"
   },
   {
    "duration": 0,
    "start_time": "2023-04-25T15:20:25.320Z"
   },
   {
    "duration": 0,
    "start_time": "2023-04-25T15:20:25.320Z"
   },
   {
    "duration": 25,
    "start_time": "2023-04-25T15:20:48.620Z"
   },
   {
    "duration": 66,
    "start_time": "2023-04-25T15:20:50.716Z"
   },
   {
    "duration": 84,
    "start_time": "2023-04-25T15:20:52.264Z"
   },
   {
    "duration": 228,
    "start_time": "2023-04-25T15:21:10.712Z"
   },
   {
    "duration": 159,
    "start_time": "2023-04-25T15:21:13.896Z"
   },
   {
    "duration": 20,
    "start_time": "2023-04-25T15:21:17.743Z"
   },
   {
    "duration": 67,
    "start_time": "2023-04-25T15:21:21.765Z"
   },
   {
    "duration": 3,
    "start_time": "2023-04-25T15:21:22.428Z"
   },
   {
    "duration": 5,
    "start_time": "2023-04-25T15:21:22.847Z"
   },
   {
    "duration": 6,
    "start_time": "2023-04-25T15:21:23.306Z"
   },
   {
    "duration": 232,
    "start_time": "2023-04-25T15:21:25.017Z"
   },
   {
    "duration": 6,
    "start_time": "2023-04-25T15:21:25.828Z"
   },
   {
    "duration": 225,
    "start_time": "2023-04-25T15:21:27.616Z"
   },
   {
    "duration": 6,
    "start_time": "2023-04-25T15:21:28.212Z"
   },
   {
    "duration": 254,
    "start_time": "2023-04-25T15:21:29.141Z"
   },
   {
    "duration": 7,
    "start_time": "2023-04-25T15:21:29.716Z"
   },
   {
    "duration": 13,
    "start_time": "2023-04-25T15:21:31.259Z"
   },
   {
    "duration": 206,
    "start_time": "2023-04-25T15:22:44.040Z"
   },
   {
    "duration": 150,
    "start_time": "2023-04-25T15:22:48.425Z"
   },
   {
    "duration": 233,
    "start_time": "2023-04-25T15:22:50.288Z"
   },
   {
    "duration": 1687,
    "start_time": "2023-04-25T15:26:37.942Z"
   },
   {
    "duration": 5,
    "start_time": "2023-04-25T15:26:39.631Z"
   },
   {
    "duration": 8172,
    "start_time": "2023-04-25T15:26:39.637Z"
   },
   {
    "duration": 105,
    "start_time": "2023-04-25T15:26:47.812Z"
   },
   {
    "duration": 13,
    "start_time": "2023-04-25T15:26:47.919Z"
   },
   {
    "duration": 63,
    "start_time": "2023-04-25T15:26:47.934Z"
   },
   {
    "duration": 32,
    "start_time": "2023-04-25T15:26:48.000Z"
   },
   {
    "duration": 4356,
    "start_time": "2023-04-25T15:26:48.035Z"
   },
   {
    "duration": 279,
    "start_time": "2023-04-25T15:26:52.393Z"
   },
   {
    "duration": 2,
    "start_time": "2023-04-25T15:26:52.677Z"
   },
   {
    "duration": 3,
    "start_time": "2023-04-25T15:26:52.681Z"
   },
   {
    "duration": 6,
    "start_time": "2023-04-25T15:26:52.686Z"
   },
   {
    "duration": 20,
    "start_time": "2023-04-25T15:26:52.694Z"
   },
   {
    "duration": 2691,
    "start_time": "2023-04-25T15:26:52.716Z"
   },
   {
    "duration": 3,
    "start_time": "2023-04-25T15:26:55.409Z"
   },
   {
    "duration": 9298,
    "start_time": "2023-04-25T15:26:55.414Z"
   },
   {
    "duration": 179,
    "start_time": "2023-04-25T15:27:04.714Z"
   },
   {
    "duration": 281,
    "start_time": "2023-04-25T15:27:04.894Z"
   },
   {
    "duration": 213,
    "start_time": "2023-04-25T15:27:05.176Z"
   },
   {
    "duration": 4829,
    "start_time": "2023-04-25T15:27:05.391Z"
   },
   {
    "duration": 141,
    "start_time": "2023-04-25T15:27:10.222Z"
   },
   {
    "duration": 4720,
    "start_time": "2023-04-25T15:27:10.365Z"
   },
   {
    "duration": 163,
    "start_time": "2023-04-25T15:27:15.087Z"
   },
   {
    "duration": 4372,
    "start_time": "2023-04-25T15:27:15.252Z"
   },
   {
    "duration": 199,
    "start_time": "2023-04-25T15:27:19.626Z"
   },
   {
    "duration": 4860,
    "start_time": "2023-04-25T15:27:19.827Z"
   },
   {
    "duration": 281,
    "start_time": "2023-04-25T15:27:24.690Z"
   },
   {
    "duration": 22492,
    "start_time": "2023-04-25T15:27:24.976Z"
   },
   {
    "duration": 14,
    "start_time": "2023-04-25T15:27:47.470Z"
   },
   {
    "duration": 229,
    "start_time": "2023-04-25T15:27:47.486Z"
   },
   {
    "duration": 217,
    "start_time": "2023-04-25T15:27:47.716Z"
   },
   {
    "duration": 194,
    "start_time": "2023-04-25T15:27:47.935Z"
   },
   {
    "duration": 15,
    "start_time": "2023-04-25T15:27:48.131Z"
   },
   {
    "duration": 6,
    "start_time": "2023-04-25T15:27:48.148Z"
   },
   {
    "duration": 136,
    "start_time": "2023-04-25T15:27:48.156Z"
   },
   {
    "duration": 95,
    "start_time": "2023-04-25T15:27:48.294Z"
   },
   {
    "duration": 66,
    "start_time": "2023-04-25T15:27:48.391Z"
   },
   {
    "duration": 140,
    "start_time": "2023-04-25T15:27:48.459Z"
   },
   {
    "duration": 60,
    "start_time": "2023-04-25T15:27:48.601Z"
   },
   {
    "duration": 99,
    "start_time": "2023-04-25T15:27:48.662Z"
   },
   {
    "duration": 103,
    "start_time": "2023-04-25T15:27:48.763Z"
   },
   {
    "duration": 87,
    "start_time": "2023-04-25T15:27:48.868Z"
   },
   {
    "duration": 3,
    "start_time": "2023-04-25T15:27:48.957Z"
   },
   {
    "duration": 9,
    "start_time": "2023-04-25T15:27:48.962Z"
   },
   {
    "duration": 14,
    "start_time": "2023-04-25T15:27:48.973Z"
   },
   {
    "duration": 84,
    "start_time": "2023-04-25T15:27:49.013Z"
   },
   {
    "duration": 123,
    "start_time": "2023-04-25T15:27:49.100Z"
   },
   {
    "duration": 9,
    "start_time": "2023-04-25T15:27:49.225Z"
   },
   {
    "duration": 120,
    "start_time": "2023-04-25T15:27:49.237Z"
   },
   {
    "duration": 71,
    "start_time": "2023-04-25T15:27:49.359Z"
   },
   {
    "duration": 90,
    "start_time": "2023-04-25T15:27:49.432Z"
   },
   {
    "duration": 13,
    "start_time": "2023-04-25T15:27:49.523Z"
   },
   {
    "duration": 32,
    "start_time": "2023-04-25T15:27:49.537Z"
   },
   {
    "duration": 125,
    "start_time": "2023-04-25T15:27:49.572Z"
   },
   {
    "duration": 3,
    "start_time": "2023-04-25T15:27:49.699Z"
   },
   {
    "duration": 40,
    "start_time": "2023-04-25T15:27:49.712Z"
   },
   {
    "duration": 1451,
    "start_time": "2023-04-25T15:27:49.754Z"
   },
   {
    "duration": 47,
    "start_time": "2023-04-25T15:27:51.207Z"
   },
   {
    "duration": 3,
    "start_time": "2023-04-25T15:27:51.256Z"
   },
   {
    "duration": 5,
    "start_time": "2023-04-25T15:27:51.261Z"
   },
   {
    "duration": 9,
    "start_time": "2023-04-25T15:27:51.268Z"
   },
   {
    "duration": 857,
    "start_time": "2023-04-25T15:27:51.279Z"
   },
   {
    "duration": 4,
    "start_time": "2023-04-25T15:27:52.139Z"
   },
   {
    "duration": 71,
    "start_time": "2023-04-25T15:27:52.144Z"
   },
   {
    "duration": 2123,
    "start_time": "2023-04-25T15:27:52.217Z"
   },
   {
    "duration": 4,
    "start_time": "2023-04-25T15:27:54.342Z"
   },
   {
    "duration": 116,
    "start_time": "2023-04-25T15:27:54.347Z"
   },
   {
    "duration": 1999,
    "start_time": "2023-04-25T15:27:54.464Z"
   },
   {
    "duration": 40,
    "start_time": "2023-04-25T15:27:56.465Z"
   },
   {
    "duration": 76,
    "start_time": "2023-04-25T15:27:56.507Z"
   },
   {
    "duration": 239,
    "start_time": "2023-04-25T15:27:56.585Z"
   },
   {
    "duration": 185,
    "start_time": "2023-04-25T15:27:56.828Z"
   },
   {
    "duration": 26,
    "start_time": "2023-04-25T15:27:57.016Z"
   },
   {
    "duration": 81,
    "start_time": "2023-04-25T15:27:57.044Z"
   },
   {
    "duration": 3,
    "start_time": "2023-04-25T15:27:57.127Z"
   },
   {
    "duration": 7,
    "start_time": "2023-04-25T15:27:57.132Z"
   },
   {
    "duration": 12,
    "start_time": "2023-04-25T15:27:57.140Z"
   },
   {
    "duration": 249,
    "start_time": "2023-04-25T15:27:57.154Z"
   },
   {
    "duration": 11,
    "start_time": "2023-04-25T15:27:57.404Z"
   },
   {
    "duration": 268,
    "start_time": "2023-04-25T15:27:57.417Z"
   },
   {
    "duration": 6,
    "start_time": "2023-04-25T15:27:57.687Z"
   },
   {
    "duration": 231,
    "start_time": "2023-04-25T15:27:57.712Z"
   },
   {
    "duration": 7,
    "start_time": "2023-04-25T15:27:57.945Z"
   },
   {
    "duration": 240,
    "start_time": "2023-04-25T15:27:57.953Z"
   },
   {
    "duration": 141,
    "start_time": "2023-04-25T15:27:58.195Z"
   },
   {
    "duration": 239,
    "start_time": "2023-04-25T15:27:58.337Z"
   },
   {
    "duration": 3931,
    "start_time": "2023-04-27T20:32:04.882Z"
   },
   {
    "duration": 1607,
    "start_time": "2023-04-27T20:32:08.816Z"
   },
   {
    "duration": 4,
    "start_time": "2023-04-27T20:32:10.424Z"
   },
   {
    "duration": 12030,
    "start_time": "2023-04-27T20:32:10.431Z"
   },
   {
    "duration": 63,
    "start_time": "2023-04-27T20:32:22.464Z"
   },
   {
    "duration": 9,
    "start_time": "2023-04-27T20:32:22.528Z"
   },
   {
    "duration": 15,
    "start_time": "2023-04-27T20:32:22.538Z"
   },
   {
    "duration": 32,
    "start_time": "2023-04-27T20:32:22.554Z"
   },
   {
    "duration": 4304,
    "start_time": "2023-04-27T20:32:22.588Z"
   },
   {
    "duration": 225,
    "start_time": "2023-04-27T20:32:26.895Z"
   },
   {
    "duration": 3,
    "start_time": "2023-04-27T20:32:27.122Z"
   },
   {
    "duration": 8,
    "start_time": "2023-04-27T20:32:27.126Z"
   },
   {
    "duration": 8,
    "start_time": "2023-04-27T20:32:27.136Z"
   },
   {
    "duration": 13,
    "start_time": "2023-04-27T20:32:27.146Z"
   },
   {
    "duration": 2658,
    "start_time": "2023-04-27T20:32:27.161Z"
   },
   {
    "duration": 4,
    "start_time": "2023-04-27T20:32:29.821Z"
   },
   {
    "duration": 8996,
    "start_time": "2023-04-27T20:32:29.828Z"
   },
   {
    "duration": 122,
    "start_time": "2023-04-27T20:32:38.825Z"
   },
   {
    "duration": 277,
    "start_time": "2023-04-27T20:32:38.948Z"
   },
   {
    "duration": 168,
    "start_time": "2023-04-27T20:32:39.227Z"
   },
   {
    "duration": 4762,
    "start_time": "2023-04-27T20:32:39.397Z"
   },
   {
    "duration": 145,
    "start_time": "2023-04-27T20:32:44.161Z"
   },
   {
    "duration": 4279,
    "start_time": "2023-04-27T20:32:44.309Z"
   },
   {
    "duration": 244,
    "start_time": "2023-04-27T20:32:48.590Z"
   },
   {
    "duration": 4845,
    "start_time": "2023-04-27T20:32:48.836Z"
   },
   {
    "duration": 156,
    "start_time": "2023-04-27T20:32:53.683Z"
   },
   {
    "duration": 4476,
    "start_time": "2023-04-27T20:32:53.841Z"
   },
   {
    "duration": 147,
    "start_time": "2023-04-27T20:32:58.321Z"
   },
   {
    "duration": 23241,
    "start_time": "2023-04-27T20:32:58.469Z"
   },
   {
    "duration": 14,
    "start_time": "2023-04-27T20:33:21.711Z"
   },
   {
    "duration": 202,
    "start_time": "2023-04-27T20:33:21.727Z"
   },
   {
    "duration": 189,
    "start_time": "2023-04-27T20:33:21.930Z"
   },
   {
    "duration": 163,
    "start_time": "2023-04-27T20:33:22.121Z"
   },
   {
    "duration": 14,
    "start_time": "2023-04-27T20:33:22.286Z"
   },
   {
    "duration": 4,
    "start_time": "2023-04-27T20:33:22.301Z"
   },
   {
    "duration": 103,
    "start_time": "2023-04-27T20:33:22.307Z"
   },
   {
    "duration": 84,
    "start_time": "2023-04-27T20:33:22.411Z"
   },
   {
    "duration": 48,
    "start_time": "2023-04-27T20:33:22.497Z"
   },
   {
    "duration": 141,
    "start_time": "2023-04-27T20:33:22.546Z"
   },
   {
    "duration": 48,
    "start_time": "2023-04-27T20:33:22.689Z"
   },
   {
    "duration": 90,
    "start_time": "2023-04-27T20:33:22.739Z"
   },
   {
    "duration": 79,
    "start_time": "2023-04-27T20:33:22.831Z"
   },
   {
    "duration": 80,
    "start_time": "2023-04-27T20:33:22.912Z"
   },
   {
    "duration": 2,
    "start_time": "2023-04-27T20:33:22.994Z"
   },
   {
    "duration": 13,
    "start_time": "2023-04-27T20:33:22.998Z"
   },
   {
    "duration": 14,
    "start_time": "2023-04-27T20:33:23.012Z"
   },
   {
    "duration": 84,
    "start_time": "2023-04-27T20:33:23.027Z"
   },
   {
    "duration": 78,
    "start_time": "2023-04-27T20:33:23.113Z"
   },
   {
    "duration": 5,
    "start_time": "2023-04-27T20:33:23.193Z"
   },
   {
    "duration": 83,
    "start_time": "2023-04-27T20:33:23.200Z"
   },
   {
    "duration": 53,
    "start_time": "2023-04-27T20:33:23.285Z"
   },
   {
    "duration": 94,
    "start_time": "2023-04-27T20:33:23.339Z"
   },
   {
    "duration": 10,
    "start_time": "2023-04-27T20:33:23.435Z"
   },
   {
    "duration": 13,
    "start_time": "2023-04-27T20:33:23.446Z"
   },
   {
    "duration": 25,
    "start_time": "2023-04-27T20:33:23.461Z"
   },
   {
    "duration": 93,
    "start_time": "2023-04-27T20:33:23.488Z"
   },
   {
    "duration": 3,
    "start_time": "2023-04-27T20:33:23.583Z"
   },
   {
    "duration": 45,
    "start_time": "2023-04-27T20:33:23.587Z"
   },
   {
    "duration": 1310,
    "start_time": "2023-04-27T20:33:23.633Z"
   },
   {
    "duration": 48,
    "start_time": "2023-04-27T20:33:24.945Z"
   },
   {
    "duration": 2,
    "start_time": "2023-04-27T20:33:24.995Z"
   },
   {
    "duration": 4,
    "start_time": "2023-04-27T20:33:24.999Z"
   },
   {
    "duration": 5,
    "start_time": "2023-04-27T20:33:25.005Z"
   },
   {
    "duration": 6,
    "start_time": "2023-04-27T20:33:25.011Z"
   },
   {
    "duration": 6795728,
    "start_time": "2023-04-27T20:33:25.019Z"
   },
   {
    "duration": 2362,
    "start_time": "2023-04-27T22:26:40.748Z"
   },
   {
    "duration": 4,
    "start_time": "2023-04-27T22:26:43.112Z"
   },
   {
    "duration": 122,
    "start_time": "2023-04-27T22:26:43.118Z"
   },
   {
    "duration": 2484,
    "start_time": "2023-04-27T22:26:43.242Z"
   },
   {
    "duration": 30,
    "start_time": "2023-04-27T22:26:45.728Z"
   },
   {
    "duration": 72,
    "start_time": "2023-04-27T22:26:45.767Z"
   },
   {
    "duration": 164,
    "start_time": "2023-04-27T22:26:45.840Z"
   },
   {
    "duration": 0,
    "start_time": "2023-04-27T22:26:46.006Z"
   },
   {
    "duration": 0,
    "start_time": "2023-04-27T22:26:46.008Z"
   },
   {
    "duration": 0,
    "start_time": "2023-04-27T22:26:46.009Z"
   },
   {
    "duration": 0,
    "start_time": "2023-04-27T22:26:46.010Z"
   },
   {
    "duration": 0,
    "start_time": "2023-04-27T22:26:46.012Z"
   },
   {
    "duration": 0,
    "start_time": "2023-04-27T22:26:46.013Z"
   },
   {
    "duration": 1,
    "start_time": "2023-04-27T22:26:46.014Z"
   },
   {
    "duration": 0,
    "start_time": "2023-04-27T22:26:46.016Z"
   },
   {
    "duration": 0,
    "start_time": "2023-04-27T22:26:46.018Z"
   },
   {
    "duration": 56,
    "start_time": "2023-04-28T08:41:51.818Z"
   },
   {
    "duration": 4196,
    "start_time": "2023-04-28T08:42:07.690Z"
   },
   {
    "duration": 1928,
    "start_time": "2023-04-28T08:42:11.889Z"
   },
   {
    "duration": 4,
    "start_time": "2023-04-28T08:42:13.818Z"
   },
   {
    "duration": 8519,
    "start_time": "2023-04-28T08:42:13.824Z"
   },
   {
    "duration": 80,
    "start_time": "2023-04-28T08:42:22.344Z"
   },
   {
    "duration": 12,
    "start_time": "2023-04-28T08:42:22.426Z"
   },
   {
    "duration": 19,
    "start_time": "2023-04-28T08:42:22.440Z"
   },
   {
    "duration": 13,
    "start_time": "2023-04-28T08:42:22.461Z"
   },
   {
    "duration": 4325,
    "start_time": "2023-04-28T08:42:22.475Z"
   },
   {
    "duration": 191,
    "start_time": "2023-04-28T08:42:26.803Z"
   },
   {
    "duration": 2,
    "start_time": "2023-04-28T08:42:26.996Z"
   },
   {
    "duration": 21,
    "start_time": "2023-04-28T08:42:27.000Z"
   },
   {
    "duration": 12,
    "start_time": "2023-04-28T08:42:27.023Z"
   },
   {
    "duration": 13,
    "start_time": "2023-04-28T08:42:27.037Z"
   },
   {
    "duration": 2688,
    "start_time": "2023-04-28T08:42:27.051Z"
   },
   {
    "duration": 2,
    "start_time": "2023-04-28T08:42:29.741Z"
   },
   {
    "duration": 11239,
    "start_time": "2023-04-28T08:42:29.745Z"
   },
   {
    "duration": 120,
    "start_time": "2023-04-28T08:42:40.985Z"
   },
   {
    "duration": 303,
    "start_time": "2023-04-28T08:42:41.107Z"
   },
   {
    "duration": 266,
    "start_time": "2023-04-28T08:42:41.411Z"
   },
   {
    "duration": 4626,
    "start_time": "2023-04-28T08:42:41.678Z"
   },
   {
    "duration": 142,
    "start_time": "2023-04-28T08:42:46.306Z"
   },
   {
    "duration": 4731,
    "start_time": "2023-04-28T08:42:46.450Z"
   },
   {
    "duration": 155,
    "start_time": "2023-04-28T08:42:51.183Z"
   },
   {
    "duration": 4377,
    "start_time": "2023-04-28T08:42:51.339Z"
   },
   {
    "duration": 142,
    "start_time": "2023-04-28T08:42:55.718Z"
   },
   {
    "duration": 4478,
    "start_time": "2023-04-28T08:42:55.862Z"
   },
   {
    "duration": 165,
    "start_time": "2023-04-28T08:43:00.345Z"
   },
   {
    "duration": 37862,
    "start_time": "2023-04-28T08:43:00.512Z"
   },
   {
    "duration": 19,
    "start_time": "2023-04-28T08:43:38.376Z"
   },
   {
    "duration": 196,
    "start_time": "2023-04-28T08:43:38.396Z"
   },
   {
    "duration": 172,
    "start_time": "2023-04-28T08:43:38.593Z"
   },
   {
    "duration": 152,
    "start_time": "2023-04-28T08:43:38.767Z"
   },
   {
    "duration": 14,
    "start_time": "2023-04-28T08:43:38.920Z"
   },
   {
    "duration": 4,
    "start_time": "2023-04-28T08:43:38.935Z"
   },
   {
    "duration": 100,
    "start_time": "2023-04-28T08:43:38.940Z"
   },
   {
    "duration": 88,
    "start_time": "2023-04-28T08:43:39.042Z"
   },
   {
    "duration": 60,
    "start_time": "2023-04-28T08:43:39.133Z"
   },
   {
    "duration": 112,
    "start_time": "2023-04-28T08:43:39.194Z"
   },
   {
    "duration": 46,
    "start_time": "2023-04-28T08:43:39.308Z"
   },
   {
    "duration": 87,
    "start_time": "2023-04-28T08:43:39.356Z"
   },
   {
    "duration": 79,
    "start_time": "2023-04-28T08:43:39.445Z"
   },
   {
    "duration": 78,
    "start_time": "2023-04-28T08:43:39.526Z"
   },
   {
    "duration": 2,
    "start_time": "2023-04-28T08:43:39.606Z"
   },
   {
    "duration": 20,
    "start_time": "2023-04-28T08:43:39.610Z"
   },
   {
    "duration": 16,
    "start_time": "2023-04-28T08:43:39.631Z"
   },
   {
    "duration": 80,
    "start_time": "2023-04-28T08:43:39.649Z"
   },
   {
    "duration": 70,
    "start_time": "2023-04-28T08:43:39.731Z"
   },
   {
    "duration": 12,
    "start_time": "2023-04-28T08:43:39.803Z"
   },
   {
    "duration": 87,
    "start_time": "2023-04-28T08:43:39.817Z"
   },
   {
    "duration": 49,
    "start_time": "2023-04-28T08:43:39.905Z"
   },
   {
    "duration": 84,
    "start_time": "2023-04-28T08:43:39.956Z"
   },
   {
    "duration": 11,
    "start_time": "2023-04-28T08:43:40.042Z"
   },
   {
    "duration": 4,
    "start_time": "2023-04-28T08:43:40.055Z"
   },
   {
    "duration": 42,
    "start_time": "2023-04-28T08:43:40.060Z"
   },
   {
    "duration": 82,
    "start_time": "2023-04-28T08:43:40.103Z"
   },
   {
    "duration": 6,
    "start_time": "2023-04-28T08:43:40.187Z"
   },
   {
    "duration": 34,
    "start_time": "2023-04-28T08:43:40.194Z"
   },
   {
    "duration": 1282,
    "start_time": "2023-04-28T08:43:40.230Z"
   },
   {
    "duration": 41,
    "start_time": "2023-04-28T08:43:41.514Z"
   },
   {
    "duration": 2,
    "start_time": "2023-04-28T08:43:41.557Z"
   },
   {
    "duration": 3,
    "start_time": "2023-04-28T08:43:41.561Z"
   },
   {
    "duration": 6,
    "start_time": "2023-04-28T08:43:41.566Z"
   },
   {
    "duration": 6,
    "start_time": "2023-04-28T08:43:41.591Z"
   },
   {
    "duration": 7306984,
    "start_time": "2023-04-28T08:43:41.599Z"
   },
   {
    "duration": 1938,
    "start_time": "2023-04-28T10:45:28.592Z"
   },
   {
    "duration": 3,
    "start_time": "2023-04-28T10:45:30.532Z"
   },
   {
    "duration": 116,
    "start_time": "2023-04-28T10:45:30.537Z"
   },
   {
    "duration": 705,
    "start_time": "2023-04-28T10:45:30.655Z"
   },
   {
    "duration": 0,
    "start_time": "2023-04-28T10:45:31.362Z"
   },
   {
    "duration": 0,
    "start_time": "2023-04-28T10:45:31.363Z"
   },
   {
    "duration": 0,
    "start_time": "2023-04-28T10:45:31.364Z"
   },
   {
    "duration": 0,
    "start_time": "2023-04-28T10:45:31.365Z"
   },
   {
    "duration": 0,
    "start_time": "2023-04-28T10:45:31.366Z"
   },
   {
    "duration": 0,
    "start_time": "2023-04-28T10:45:31.367Z"
   },
   {
    "duration": 0,
    "start_time": "2023-04-28T10:45:31.368Z"
   },
   {
    "duration": 0,
    "start_time": "2023-04-28T10:45:31.369Z"
   },
   {
    "duration": 0,
    "start_time": "2023-04-28T10:45:31.370Z"
   },
   {
    "duration": 0,
    "start_time": "2023-04-28T10:45:31.371Z"
   },
   {
    "duration": 0,
    "start_time": "2023-04-28T10:45:31.395Z"
   },
   {
    "duration": 0,
    "start_time": "2023-04-28T10:45:31.396Z"
   },
   {
    "duration": 0,
    "start_time": "2023-04-28T10:45:31.397Z"
   },
   {
    "duration": 0,
    "start_time": "2023-04-28T10:45:31.398Z"
   },
   {
    "duration": 0,
    "start_time": "2023-04-28T10:45:31.400Z"
   },
   {
    "duration": 923,
    "start_time": "2023-04-28T10:53:14.737Z"
   },
   {
    "duration": 5,
    "start_time": "2023-04-28T10:53:17.008Z"
   },
   {
    "duration": 111,
    "start_time": "2023-04-28T10:53:18.489Z"
   },
   {
    "duration": 68,
    "start_time": "2023-04-28T10:53:26.157Z"
   },
   {
    "duration": 2183,
    "start_time": "2023-04-28T10:53:28.470Z"
   },
   {
    "duration": 24,
    "start_time": "2023-04-28T10:53:33.714Z"
   },
   {
    "duration": 87,
    "start_time": "2023-04-28T10:53:34.101Z"
   },
   {
    "duration": 275,
    "start_time": "2023-04-28T10:53:38.016Z"
   },
   {
    "duration": 185,
    "start_time": "2023-04-28T10:53:40.873Z"
   },
   {
    "duration": 10,
    "start_time": "2023-04-28T10:53:45.831Z"
   },
   {
    "duration": 23,
    "start_time": "2023-04-28T10:53:48.244Z"
   },
   {
    "duration": 16,
    "start_time": "2023-04-28T10:53:48.396Z"
   },
   {
    "duration": 19,
    "start_time": "2023-04-28T10:53:48.587Z"
   },
   {
    "duration": 7,
    "start_time": "2023-04-28T10:53:48.761Z"
   },
   {
    "duration": 6,
    "start_time": "2023-04-28T10:54:28.102Z"
   },
   {
    "duration": 251,
    "start_time": "2023-04-28T10:54:29.211Z"
   },
   {
    "duration": 7,
    "start_time": "2023-04-28T10:54:31.353Z"
   },
   {
    "duration": 257,
    "start_time": "2023-04-28T10:54:33.518Z"
   },
   {
    "duration": 152,
    "start_time": "2023-04-28T10:54:37.024Z"
   },
   {
    "duration": 260,
    "start_time": "2023-04-28T10:54:38.777Z"
   },
   {
    "duration": 0,
    "start_time": "2023-04-28T12:35:24.865Z"
   },
   {
    "duration": 414473,
    "start_time": "2023-04-28T12:35:26.740Z"
   },
   {
    "duration": 5,
    "start_time": "2023-04-28T12:48:01.521Z"
   },
   {
    "duration": 41,
    "start_time": "2023-04-28T12:51:29.936Z"
   },
   {
    "duration": 4,
    "start_time": "2023-04-28T12:53:56.624Z"
   },
   {
    "duration": 2011,
    "start_time": "2023-04-28T12:58:18.806Z"
   },
   {
    "duration": 23,
    "start_time": "2023-04-28T12:58:28.998Z"
   },
   {
    "duration": 91,
    "start_time": "2023-04-28T12:58:30.361Z"
   },
   {
    "duration": 2067,
    "start_time": "2023-04-28T12:59:23.430Z"
   },
   {
    "duration": 21,
    "start_time": "2023-04-28T12:59:25.499Z"
   },
   {
    "duration": 61,
    "start_time": "2023-04-28T12:59:26.220Z"
   },
   {
    "duration": 42,
    "start_time": "2023-04-28T13:00:39.642Z"
   },
   {
    "duration": 2247,
    "start_time": "2023-04-28T13:04:40.317Z"
   },
   {
    "duration": 1757,
    "start_time": "2023-04-28T13:04:42.567Z"
   },
   {
    "duration": 3,
    "start_time": "2023-04-28T13:04:44.326Z"
   },
   {
    "duration": 8832,
    "start_time": "2023-04-28T13:04:44.330Z"
   },
   {
    "duration": 161,
    "start_time": "2023-04-28T13:04:53.164Z"
   },
   {
    "duration": 10,
    "start_time": "2023-04-28T13:04:53.327Z"
   },
   {
    "duration": 15,
    "start_time": "2023-04-28T13:04:53.339Z"
   },
   {
    "duration": 15,
    "start_time": "2023-04-28T13:04:53.356Z"
   },
   {
    "duration": 4197,
    "start_time": "2023-04-28T13:04:53.373Z"
   },
   {
    "duration": 184,
    "start_time": "2023-04-28T13:04:57.574Z"
   },
   {
    "duration": 2,
    "start_time": "2023-04-28T13:04:57.761Z"
   },
   {
    "duration": 20,
    "start_time": "2023-04-28T13:04:57.765Z"
   },
   {
    "duration": 17,
    "start_time": "2023-04-28T13:04:57.787Z"
   },
   {
    "duration": 16,
    "start_time": "2023-04-28T13:04:57.806Z"
   },
   {
    "duration": 2720,
    "start_time": "2023-04-28T13:04:57.824Z"
   },
   {
    "duration": 3,
    "start_time": "2023-04-28T13:05:00.545Z"
   },
   {
    "duration": 9300,
    "start_time": "2023-04-28T13:05:00.549Z"
   },
   {
    "duration": 121,
    "start_time": "2023-04-28T13:05:09.850Z"
   },
   {
    "duration": 304,
    "start_time": "2023-04-28T13:05:09.972Z"
   },
   {
    "duration": 282,
    "start_time": "2023-04-28T13:05:10.278Z"
   },
   {
    "duration": 5028,
    "start_time": "2023-04-28T13:05:10.562Z"
   },
   {
    "duration": 141,
    "start_time": "2023-04-28T13:05:15.592Z"
   },
   {
    "duration": 4866,
    "start_time": "2023-04-28T13:05:15.735Z"
   },
   {
    "duration": 134,
    "start_time": "2023-04-28T13:05:20.602Z"
   },
   {
    "duration": 4370,
    "start_time": "2023-04-28T13:05:20.738Z"
   },
   {
    "duration": 130,
    "start_time": "2023-04-28T13:05:25.110Z"
   },
   {
    "duration": 4467,
    "start_time": "2023-04-28T13:05:25.241Z"
   },
   {
    "duration": 153,
    "start_time": "2023-04-28T13:05:29.713Z"
   },
   {
    "duration": 29491,
    "start_time": "2023-04-28T13:05:29.868Z"
   },
   {
    "duration": 14,
    "start_time": "2023-04-28T13:05:59.361Z"
   },
   {
    "duration": 169,
    "start_time": "2023-04-28T13:05:59.391Z"
   },
   {
    "duration": 173,
    "start_time": "2023-04-28T13:05:59.562Z"
   },
   {
    "duration": 185,
    "start_time": "2023-04-28T13:05:59.737Z"
   },
   {
    "duration": 16,
    "start_time": "2023-04-28T13:05:59.924Z"
   },
   {
    "duration": 4,
    "start_time": "2023-04-28T13:05:59.941Z"
   },
   {
    "duration": 106,
    "start_time": "2023-04-28T13:05:59.947Z"
   },
   {
    "duration": 83,
    "start_time": "2023-04-28T13:06:00.055Z"
   },
   {
    "duration": 66,
    "start_time": "2023-04-28T13:06:00.140Z"
   },
   {
    "duration": 138,
    "start_time": "2023-04-28T13:06:00.208Z"
   },
   {
    "duration": 57,
    "start_time": "2023-04-28T13:06:00.348Z"
   },
   {
    "duration": 89,
    "start_time": "2023-04-28T13:06:00.407Z"
   },
   {
    "duration": 82,
    "start_time": "2023-04-28T13:06:00.498Z"
   },
   {
    "duration": 75,
    "start_time": "2023-04-28T13:06:00.581Z"
   },
   {
    "duration": 3,
    "start_time": "2023-04-28T13:06:00.658Z"
   },
   {
    "duration": 52,
    "start_time": "2023-04-28T13:06:00.663Z"
   },
   {
    "duration": 50,
    "start_time": "2023-04-28T13:06:00.717Z"
   },
   {
    "duration": 98,
    "start_time": "2023-04-28T13:06:00.769Z"
   },
   {
    "duration": 92,
    "start_time": "2023-04-28T13:06:00.868Z"
   },
   {
    "duration": 24,
    "start_time": "2023-04-28T13:06:00.962Z"
   },
   {
    "duration": 103,
    "start_time": "2023-04-28T13:06:00.988Z"
   },
   {
    "duration": 125,
    "start_time": "2023-04-28T13:06:01.093Z"
   },
   {
    "duration": 169,
    "start_time": "2023-04-28T13:06:01.220Z"
   },
   {
    "duration": 129,
    "start_time": "2023-04-28T13:06:01.391Z"
   },
   {
    "duration": 22,
    "start_time": "2023-04-28T13:06:01.522Z"
   },
   {
    "duration": 96,
    "start_time": "2023-04-28T13:06:01.546Z"
   },
   {
    "duration": 142,
    "start_time": "2023-04-28T13:06:01.644Z"
   },
   {
    "duration": 4,
    "start_time": "2023-04-28T13:06:01.788Z"
   },
   {
    "duration": 88,
    "start_time": "2023-04-28T13:06:01.794Z"
   },
   {
    "duration": 1323,
    "start_time": "2023-04-28T13:06:01.884Z"
   },
   {
    "duration": 41,
    "start_time": "2023-04-28T13:06:03.209Z"
   },
   {
    "duration": 2,
    "start_time": "2023-04-28T13:06:03.252Z"
   },
   {
    "duration": 16,
    "start_time": "2023-04-28T13:06:03.256Z"
   },
   {
    "duration": 6,
    "start_time": "2023-04-28T13:06:03.273Z"
   },
   {
    "duration": 12,
    "start_time": "2023-04-28T13:06:03.281Z"
   },
   {
    "duration": 4089,
    "start_time": "2023-04-28T19:24:06.554Z"
   },
   {
    "duration": 1832,
    "start_time": "2023-04-28T19:24:10.645Z"
   },
   {
    "duration": 3,
    "start_time": "2023-04-28T19:24:12.479Z"
   },
   {
    "duration": 9631,
    "start_time": "2023-04-28T19:24:12.489Z"
   },
   {
    "duration": 250,
    "start_time": "2023-04-28T19:24:22.122Z"
   },
   {
    "duration": 46,
    "start_time": "2023-04-28T19:24:22.374Z"
   },
   {
    "duration": 42,
    "start_time": "2023-04-28T19:24:22.422Z"
   },
   {
    "duration": 51,
    "start_time": "2023-04-28T19:24:22.466Z"
   },
   {
    "duration": 4344,
    "start_time": "2023-04-28T19:24:22.519Z"
   },
   {
    "duration": 178,
    "start_time": "2023-04-28T19:24:26.865Z"
   },
   {
    "duration": 2,
    "start_time": "2023-04-28T19:24:27.045Z"
   },
   {
    "duration": 9,
    "start_time": "2023-04-28T19:24:27.049Z"
   },
   {
    "duration": 10,
    "start_time": "2023-04-28T19:24:27.060Z"
   },
   {
    "duration": 16,
    "start_time": "2023-04-28T19:24:27.071Z"
   },
   {
    "duration": 2938,
    "start_time": "2023-04-28T19:24:27.096Z"
   },
   {
    "duration": 3,
    "start_time": "2023-04-28T19:24:30.037Z"
   },
   {
    "duration": 10818,
    "start_time": "2023-04-28T19:24:30.042Z"
   },
   {
    "duration": 130,
    "start_time": "2023-04-28T19:24:40.861Z"
   },
   {
    "duration": 365,
    "start_time": "2023-04-28T19:24:40.993Z"
   },
   {
    "duration": 294,
    "start_time": "2023-04-28T19:24:41.360Z"
   },
   {
    "duration": 5035,
    "start_time": "2023-04-28T19:24:41.656Z"
   },
   {
    "duration": 132,
    "start_time": "2023-04-28T19:24:46.692Z"
   },
   {
    "duration": 4751,
    "start_time": "2023-04-28T19:24:46.826Z"
   },
   {
    "duration": 143,
    "start_time": "2023-04-28T19:24:51.578Z"
   },
   {
    "duration": 4308,
    "start_time": "2023-04-28T19:24:51.723Z"
   },
   {
    "duration": 129,
    "start_time": "2023-04-28T19:24:56.033Z"
   },
   {
    "duration": 3006,
    "start_time": "2023-04-28T19:24:56.164Z"
   },
   {
    "duration": 152,
    "start_time": "2023-04-28T19:24:59.174Z"
   },
   {
    "duration": 30510,
    "start_time": "2023-04-28T19:24:59.327Z"
   },
   {
    "duration": 15,
    "start_time": "2023-04-28T19:25:29.839Z"
   },
   {
    "duration": 207,
    "start_time": "2023-04-28T19:25:29.856Z"
   },
   {
    "duration": 214,
    "start_time": "2023-04-28T19:25:30.065Z"
   },
   {
    "duration": 189,
    "start_time": "2023-04-28T19:25:30.281Z"
   },
   {
    "duration": 24,
    "start_time": "2023-04-28T19:25:30.472Z"
   },
   {
    "duration": 16,
    "start_time": "2023-04-28T19:25:30.498Z"
   },
   {
    "duration": 145,
    "start_time": "2023-04-28T19:25:30.515Z"
   },
   {
    "duration": 87,
    "start_time": "2023-04-28T19:25:30.662Z"
   },
   {
    "duration": 72,
    "start_time": "2023-04-28T19:25:30.750Z"
   },
   {
    "duration": 144,
    "start_time": "2023-04-28T19:25:30.823Z"
   },
   {
    "duration": 55,
    "start_time": "2023-04-28T19:25:30.969Z"
   },
   {
    "duration": 83,
    "start_time": "2023-04-28T19:25:31.026Z"
   },
   {
    "duration": 87,
    "start_time": "2023-04-28T19:25:31.111Z"
   },
   {
    "duration": 70,
    "start_time": "2023-04-28T19:25:31.200Z"
   },
   {
    "duration": 39,
    "start_time": "2023-04-28T19:25:31.282Z"
   },
   {
    "duration": 37,
    "start_time": "2023-04-28T19:25:31.322Z"
   },
   {
    "duration": 59,
    "start_time": "2023-04-28T19:25:31.361Z"
   },
   {
    "duration": 90,
    "start_time": "2023-04-28T19:25:31.422Z"
   },
   {
    "duration": 94,
    "start_time": "2023-04-28T19:25:31.514Z"
   },
   {
    "duration": 14,
    "start_time": "2023-04-28T19:25:31.609Z"
   },
   {
    "duration": 88,
    "start_time": "2023-04-28T19:25:31.624Z"
   },
   {
    "duration": 73,
    "start_time": "2023-04-28T19:25:31.713Z"
   },
   {
    "duration": 78,
    "start_time": "2023-04-28T19:25:31.797Z"
   },
   {
    "duration": 29,
    "start_time": "2023-04-28T19:25:31.877Z"
   },
   {
    "duration": 21,
    "start_time": "2023-04-28T19:25:31.908Z"
   },
   {
    "duration": 45,
    "start_time": "2023-04-28T19:25:31.931Z"
   },
   {
    "duration": 107,
    "start_time": "2023-04-28T19:25:31.978Z"
   },
   {
    "duration": 2,
    "start_time": "2023-04-28T19:25:32.087Z"
   },
   {
    "duration": 56,
    "start_time": "2023-04-28T19:25:32.091Z"
   },
   {
    "duration": 1298,
    "start_time": "2023-04-28T19:25:32.149Z"
   },
   {
    "duration": 48,
    "start_time": "2023-04-28T19:25:33.449Z"
   },
   {
    "duration": 2,
    "start_time": "2023-04-28T19:25:33.499Z"
   },
   {
    "duration": 14,
    "start_time": "2023-04-28T19:25:33.503Z"
   },
   {
    "duration": 8,
    "start_time": "2023-04-28T19:25:33.518Z"
   },
   {
    "duration": 8,
    "start_time": "2023-04-28T19:25:33.527Z"
   },
   {
    "duration": 4054,
    "start_time": "2023-04-29T09:50:35.940Z"
   },
   {
    "duration": 1928,
    "start_time": "2023-04-29T09:50:39.998Z"
   },
   {
    "duration": 5,
    "start_time": "2023-04-29T09:50:41.928Z"
   },
   {
    "duration": 8033,
    "start_time": "2023-04-29T09:50:41.935Z"
   },
   {
    "duration": 67,
    "start_time": "2023-04-29T09:50:49.970Z"
   },
   {
    "duration": 9,
    "start_time": "2023-04-29T09:50:50.040Z"
   },
   {
    "duration": 13,
    "start_time": "2023-04-29T09:50:50.051Z"
   },
   {
    "duration": 25,
    "start_time": "2023-04-29T09:50:50.067Z"
   },
   {
    "duration": 4323,
    "start_time": "2023-04-29T09:50:50.095Z"
   },
   {
    "duration": 232,
    "start_time": "2023-04-29T09:50:54.421Z"
   },
   {
    "duration": 3,
    "start_time": "2023-04-29T09:50:54.654Z"
   },
   {
    "duration": 4,
    "start_time": "2023-04-29T09:50:54.659Z"
   },
   {
    "duration": 19,
    "start_time": "2023-04-29T09:50:54.666Z"
   },
   {
    "duration": 3,
    "start_time": "2023-04-29T09:50:54.687Z"
   },
   {
    "duration": 2784,
    "start_time": "2023-04-29T09:50:54.693Z"
   },
   {
    "duration": 7,
    "start_time": "2023-04-29T09:50:57.479Z"
   },
   {
    "duration": 9494,
    "start_time": "2023-04-29T09:50:57.488Z"
   },
   {
    "duration": 143,
    "start_time": "2023-04-29T09:51:06.984Z"
   },
   {
    "duration": 308,
    "start_time": "2023-04-29T09:51:07.129Z"
   },
   {
    "duration": 302,
    "start_time": "2023-04-29T09:51:07.440Z"
   },
   {
    "duration": 4991,
    "start_time": "2023-04-29T09:51:07.744Z"
   },
   {
    "duration": 142,
    "start_time": "2023-04-29T09:51:12.736Z"
   },
   {
    "duration": 4560,
    "start_time": "2023-04-29T09:51:12.881Z"
   },
   {
    "duration": 143,
    "start_time": "2023-04-29T09:51:17.443Z"
   },
   {
    "duration": 4340,
    "start_time": "2023-04-29T09:51:17.587Z"
   },
   {
    "duration": 149,
    "start_time": "2023-04-29T09:51:21.929Z"
   },
   {
    "duration": 4692,
    "start_time": "2023-04-29T09:51:22.080Z"
   },
   {
    "duration": 180,
    "start_time": "2023-04-29T09:51:26.778Z"
   },
   {
    "duration": 29347,
    "start_time": "2023-04-29T09:51:26.959Z"
   },
   {
    "duration": 16,
    "start_time": "2023-04-29T09:51:56.308Z"
   },
   {
    "duration": 215,
    "start_time": "2023-04-29T09:51:56.326Z"
   },
   {
    "duration": 221,
    "start_time": "2023-04-29T09:51:56.543Z"
   },
   {
    "duration": 172,
    "start_time": "2023-04-29T09:51:56.766Z"
   },
   {
    "duration": 17,
    "start_time": "2023-04-29T09:51:56.940Z"
   },
   {
    "duration": 4,
    "start_time": "2023-04-29T09:51:56.958Z"
   },
   {
    "duration": 121,
    "start_time": "2023-04-29T09:51:56.964Z"
   },
   {
    "duration": 100,
    "start_time": "2023-04-29T09:51:57.087Z"
   },
   {
    "duration": 53,
    "start_time": "2023-04-29T09:51:57.189Z"
   },
   {
    "duration": 145,
    "start_time": "2023-04-29T09:51:57.244Z"
   },
   {
    "duration": 52,
    "start_time": "2023-04-29T09:51:57.391Z"
   },
   {
    "duration": 89,
    "start_time": "2023-04-29T09:51:57.445Z"
   },
   {
    "duration": 87,
    "start_time": "2023-04-29T09:51:57.537Z"
   },
   {
    "duration": 82,
    "start_time": "2023-04-29T09:51:57.627Z"
   },
   {
    "duration": 2,
    "start_time": "2023-04-29T09:51:57.712Z"
   },
   {
    "duration": 14,
    "start_time": "2023-04-29T09:51:57.717Z"
   },
   {
    "duration": 23,
    "start_time": "2023-04-29T09:51:57.733Z"
   },
   {
    "duration": 85,
    "start_time": "2023-04-29T09:51:57.759Z"
   },
   {
    "duration": 86,
    "start_time": "2023-04-29T09:51:57.846Z"
   },
   {
    "duration": 13,
    "start_time": "2023-04-29T09:51:57.933Z"
   },
   {
    "duration": 77,
    "start_time": "2023-04-29T09:51:57.948Z"
   },
   {
    "duration": 70,
    "start_time": "2023-04-29T09:51:58.027Z"
   },
   {
    "duration": 77,
    "start_time": "2023-04-29T09:51:58.099Z"
   },
   {
    "duration": 20,
    "start_time": "2023-04-29T09:51:58.179Z"
   },
   {
    "duration": 24,
    "start_time": "2023-04-29T09:51:58.202Z"
   },
   {
    "duration": 52,
    "start_time": "2023-04-29T09:51:58.229Z"
   },
   {
    "duration": 204,
    "start_time": "2023-04-29T09:51:58.284Z"
   },
   {
    "duration": 3,
    "start_time": "2023-04-29T09:51:58.490Z"
   },
   {
    "duration": 38,
    "start_time": "2023-04-29T09:51:58.495Z"
   },
   {
    "duration": 1341,
    "start_time": "2023-04-29T09:51:58.535Z"
   },
   {
    "duration": 44,
    "start_time": "2023-04-29T09:51:59.879Z"
   },
   {
    "duration": 3,
    "start_time": "2023-04-29T09:51:59.925Z"
   },
   {
    "duration": 6,
    "start_time": "2023-04-29T09:51:59.929Z"
   },
   {
    "duration": 5,
    "start_time": "2023-04-29T09:51:59.936Z"
   },
   {
    "duration": 7,
    "start_time": "2023-04-29T09:51:59.943Z"
   },
   {
    "duration": 2273,
    "start_time": "2023-04-29T09:51:59.952Z"
   },
   {
    "duration": 46,
    "start_time": "2023-04-29T09:52:02.227Z"
   },
   {
    "duration": 429288,
    "start_time": "2023-04-29T09:52:02.279Z"
   },
   {
    "duration": 4,
    "start_time": "2023-04-29T09:59:11.569Z"
   },
   {
    "duration": 217,
    "start_time": "2023-04-29T10:04:04.050Z"
   },
   {
    "duration": 16,
    "start_time": "2023-04-29T10:04:21.517Z"
   },
   {
    "duration": 27162,
    "start_time": "2023-04-29T10:04:46.118Z"
   },
   {
    "duration": 43922,
    "start_time": "2023-04-29T10:06:31.497Z"
   },
   {
    "duration": 18,
    "start_time": "2023-04-29T10:07:18.245Z"
   },
   {
    "duration": 82227,
    "start_time": "2023-04-29T10:07:43.651Z"
   },
   {
    "duration": 4,
    "start_time": "2023-04-29T10:09:05.881Z"
   },
   {
    "duration": 6,
    "start_time": "2023-04-29T10:09:05.887Z"
   },
   {
    "duration": 246,
    "start_time": "2023-04-29T11:26:46.247Z"
   },
   {
    "duration": 175,
    "start_time": "2023-04-29T11:26:47.878Z"
   },
   {
    "duration": 9,
    "start_time": "2023-04-29T11:26:48.630Z"
   },
   {
    "duration": 28,
    "start_time": "2023-04-29T11:26:49.718Z"
   },
   {
    "duration": 4,
    "start_time": "2023-04-29T11:26:50.101Z"
   },
   {
    "duration": 296,
    "start_time": "2023-04-29T11:26:50.341Z"
   },
   {
    "duration": 7,
    "start_time": "2023-04-29T11:26:50.639Z"
   },
   {
    "duration": 257,
    "start_time": "2023-04-29T11:26:50.982Z"
   },
   {
    "duration": 149,
    "start_time": "2023-04-29T11:26:51.716Z"
   },
   {
    "duration": 244,
    "start_time": "2023-04-29T11:26:51.925Z"
   },
   {
    "duration": 33997,
    "start_time": "2023-04-29T23:57:47.846Z"
   },
   {
    "duration": 34097,
    "start_time": "2023-04-29T23:58:21.846Z"
   },
   {
    "duration": 7,
    "start_time": "2023-04-29T23:58:55.945Z"
   },
   {
    "duration": 23401,
    "start_time": "2023-04-29T23:58:56.048Z"
   },
   {
    "duration": 2500,
    "start_time": "2023-04-29T23:59:19.454Z"
   },
   {
    "duration": 397,
    "start_time": "2023-04-29T23:59:21.958Z"
   },
   {
    "duration": 385,
    "start_time": "2023-04-29T23:59:22.361Z"
   },
   {
    "duration": 405,
    "start_time": "2023-04-29T23:59:22.750Z"
   },
   {
    "duration": 4892,
    "start_time": "2023-04-29T23:59:23.157Z"
   },
   {
    "duration": 2104,
    "start_time": "2023-04-29T23:59:28.061Z"
   },
   {
    "duration": 6,
    "start_time": "2023-04-29T23:59:30.247Z"
   },
   {
    "duration": 201,
    "start_time": "2023-04-29T23:59:30.354Z"
   },
   {
    "duration": 286,
    "start_time": "2023-04-29T23:59:30.556Z"
   },
   {
    "duration": 385,
    "start_time": "2023-04-29T23:59:30.861Z"
   },
   {
    "duration": 15405,
    "start_time": "2023-04-29T23:59:31.248Z"
   },
   {
    "duration": 81,
    "start_time": "2023-04-29T23:59:46.660Z"
   },
   {
    "duration": 10315,
    "start_time": "2023-04-29T23:59:46.745Z"
   },
   {
    "duration": 1486,
    "start_time": "2023-04-29T23:59:57.062Z"
   },
   {
    "duration": 592,
    "start_time": "2023-04-29T23:59:58.550Z"
   },
   {
    "duration": 2300,
    "start_time": "2023-04-29T23:59:59.149Z"
   },
   {
    "duration": 5213,
    "start_time": "2023-04-30T00:00:01.453Z"
   },
   {
    "duration": 1195,
    "start_time": "2023-04-30T00:00:06.754Z"
   },
   {
    "duration": 4687,
    "start_time": "2023-04-30T00:00:07.963Z"
   },
   {
    "duration": 3088,
    "start_time": "2023-04-30T00:00:12.652Z"
   },
   {
    "duration": 4502,
    "start_time": "2023-04-30T00:00:15.746Z"
   },
   {
    "duration": 1782,
    "start_time": "2023-04-30T00:00:20.258Z"
   },
   {
    "duration": 4807,
    "start_time": "2023-04-30T00:00:22.043Z"
   },
   {
    "duration": 1889,
    "start_time": "2023-04-30T00:00:26.852Z"
   },
   {
    "duration": 27889,
    "start_time": "2023-04-30T00:00:28.755Z"
   },
   {
    "duration": 112,
    "start_time": "2023-04-30T00:00:56.647Z"
   },
   {
    "duration": 2312,
    "start_time": "2023-04-30T00:00:56.841Z"
   },
   {
    "duration": 1883,
    "start_time": "2023-04-30T00:00:59.160Z"
   },
   {
    "duration": 2191,
    "start_time": "2023-04-30T00:01:01.053Z"
   },
   {
    "duration": 206,
    "start_time": "2023-04-30T00:01:03.251Z"
   },
   {
    "duration": 104,
    "start_time": "2023-04-30T00:01:03.541Z"
   },
   {
    "duration": 895,
    "start_time": "2023-04-30T00:01:03.647Z"
   },
   {
    "duration": 898,
    "start_time": "2023-04-30T00:01:04.545Z"
   },
   {
    "duration": 699,
    "start_time": "2023-04-30T00:01:05.450Z"
   },
   {
    "duration": 1192,
    "start_time": "2023-04-30T00:01:06.151Z"
   },
   {
    "duration": 695,
    "start_time": "2023-04-30T00:01:07.345Z"
   },
   {
    "duration": 920,
    "start_time": "2023-04-30T00:01:08.141Z"
   },
   {
    "duration": 812,
    "start_time": "2023-04-30T00:01:09.147Z"
   },
   {
    "duration": 584,
    "start_time": "2023-04-30T00:01:09.962Z"
   },
   {
    "duration": 198,
    "start_time": "2023-04-30T00:01:10.548Z"
   },
   {
    "duration": 301,
    "start_time": "2023-04-30T00:01:10.749Z"
   },
   {
    "duration": 309,
    "start_time": "2023-04-30T00:01:11.052Z"
   },
   {
    "duration": 815,
    "start_time": "2023-04-30T00:01:11.446Z"
   },
   {
    "duration": 1094,
    "start_time": "2023-04-30T00:01:12.351Z"
   },
   {
    "duration": 186,
    "start_time": "2023-04-30T00:01:13.456Z"
   },
   {
    "duration": 702,
    "start_time": "2023-04-30T00:01:13.655Z"
   },
   {
    "duration": 792,
    "start_time": "2023-04-30T00:01:14.455Z"
   },
   {
    "duration": 998,
    "start_time": "2023-04-30T00:01:15.351Z"
   },
   {
    "duration": 101,
    "start_time": "2023-04-30T00:01:16.445Z"
   },
   {
    "duration": 188,
    "start_time": "2023-04-30T00:01:16.553Z"
   },
   {
    "duration": 508,
    "start_time": "2023-04-30T00:01:16.745Z"
   },
   {
    "duration": 1099,
    "start_time": "2023-04-30T00:01:17.262Z"
   },
   {
    "duration": 3,
    "start_time": "2023-04-30T00:01:18.445Z"
   },
   {
    "duration": 711,
    "start_time": "2023-04-30T00:01:18.450Z"
   },
   {
    "duration": 14391,
    "start_time": "2023-04-30T00:01:19.166Z"
   },
   {
    "duration": 501,
    "start_time": "2023-04-30T00:01:33.560Z"
   },
   {
    "duration": 85,
    "start_time": "2023-04-30T00:01:34.064Z"
   },
   {
    "duration": 392,
    "start_time": "2023-04-30T00:01:34.151Z"
   },
   {
    "duration": 403,
    "start_time": "2023-04-30T00:01:34.545Z"
   },
   {
    "duration": 186,
    "start_time": "2023-04-30T00:01:34.955Z"
   },
   {
    "duration": 3838,
    "start_time": "2023-04-30T08:41:21.817Z"
   },
   {
    "duration": 1851,
    "start_time": "2023-04-30T08:41:25.657Z"
   },
   {
    "duration": 3,
    "start_time": "2023-04-30T08:41:27.510Z"
   },
   {
    "duration": 8029,
    "start_time": "2023-04-30T08:41:27.515Z"
   },
   {
    "duration": 84,
    "start_time": "2023-04-30T08:41:35.546Z"
   },
   {
    "duration": 8,
    "start_time": "2023-04-30T08:41:35.632Z"
   },
   {
    "duration": 10,
    "start_time": "2023-04-30T08:41:35.642Z"
   },
   {
    "duration": 22,
    "start_time": "2023-04-30T08:41:35.654Z"
   },
   {
    "duration": 4334,
    "start_time": "2023-04-30T08:41:35.677Z"
   },
   {
    "duration": 197,
    "start_time": "2023-04-30T08:41:40.013Z"
   },
   {
    "duration": 2,
    "start_time": "2023-04-30T08:41:40.213Z"
   },
   {
    "duration": 8,
    "start_time": "2023-04-30T08:41:40.216Z"
   },
   {
    "duration": 10,
    "start_time": "2023-04-30T08:41:40.225Z"
   },
   {
    "duration": 9,
    "start_time": "2023-04-30T08:41:40.237Z"
   },
   {
    "duration": 2652,
    "start_time": "2023-04-30T08:41:40.247Z"
   },
   {
    "duration": 3,
    "start_time": "2023-04-30T08:41:42.900Z"
   },
   {
    "duration": 9441,
    "start_time": "2023-04-30T08:41:42.904Z"
   },
   {
    "duration": 114,
    "start_time": "2023-04-30T08:41:52.347Z"
   },
   {
    "duration": 301,
    "start_time": "2023-04-30T08:41:52.463Z"
   },
   {
    "duration": 254,
    "start_time": "2023-04-30T08:41:52.767Z"
   },
   {
    "duration": 4967,
    "start_time": "2023-04-30T08:41:53.023Z"
   },
   {
    "duration": 138,
    "start_time": "2023-04-30T08:41:57.991Z"
   },
   {
    "duration": 4758,
    "start_time": "2023-04-30T08:41:58.131Z"
   },
   {
    "duration": 126,
    "start_time": "2023-04-30T08:42:02.891Z"
   },
   {
    "duration": 4463,
    "start_time": "2023-04-30T08:42:03.019Z"
   },
   {
    "duration": 141,
    "start_time": "2023-04-30T08:42:07.483Z"
   },
   {
    "duration": 4687,
    "start_time": "2023-04-30T08:42:07.626Z"
   },
   {
    "duration": 138,
    "start_time": "2023-04-30T08:42:12.315Z"
   },
   {
    "duration": 28630,
    "start_time": "2023-04-30T08:42:12.455Z"
   },
   {
    "duration": 15,
    "start_time": "2023-04-30T08:42:41.087Z"
   },
   {
    "duration": 188,
    "start_time": "2023-04-30T08:42:41.103Z"
   },
   {
    "duration": 172,
    "start_time": "2023-04-30T08:42:41.294Z"
   },
   {
    "duration": 155,
    "start_time": "2023-04-30T08:42:41.468Z"
   },
   {
    "duration": 16,
    "start_time": "2023-04-30T08:42:41.625Z"
   },
   {
    "duration": 16,
    "start_time": "2023-04-30T08:42:41.642Z"
   },
   {
    "duration": 76,
    "start_time": "2023-04-30T08:42:41.659Z"
   },
   {
    "duration": 85,
    "start_time": "2023-04-30T08:42:41.736Z"
   },
   {
    "duration": 50,
    "start_time": "2023-04-30T08:42:41.823Z"
   },
   {
    "duration": 111,
    "start_time": "2023-04-30T08:42:41.875Z"
   },
   {
    "duration": 42,
    "start_time": "2023-04-30T08:42:41.988Z"
   },
   {
    "duration": 74,
    "start_time": "2023-04-30T08:42:42.032Z"
   },
   {
    "duration": 72,
    "start_time": "2023-04-30T08:42:42.108Z"
   },
   {
    "duration": 74,
    "start_time": "2023-04-30T08:42:42.182Z"
   },
   {
    "duration": 2,
    "start_time": "2023-04-30T08:42:42.258Z"
   },
   {
    "duration": 20,
    "start_time": "2023-04-30T08:42:42.262Z"
   },
   {
    "duration": 15,
    "start_time": "2023-04-30T08:42:42.284Z"
   },
   {
    "duration": 74,
    "start_time": "2023-04-30T08:42:42.301Z"
   },
   {
    "duration": 72,
    "start_time": "2023-04-30T08:42:42.377Z"
   },
   {
    "duration": 8,
    "start_time": "2023-04-30T08:42:42.450Z"
   },
   {
    "duration": 60,
    "start_time": "2023-04-30T08:42:42.462Z"
   },
   {
    "duration": 64,
    "start_time": "2023-04-30T08:42:42.524Z"
   },
   {
    "duration": 67,
    "start_time": "2023-04-30T08:42:49.243Z"
   },
   {
    "duration": 10,
    "start_time": "2023-04-30T08:42:49.605Z"
   },
   {
    "duration": 2,
    "start_time": "2023-04-30T08:42:50.746Z"
   },
   {
    "duration": 20,
    "start_time": "2023-04-30T08:42:51.206Z"
   },
   {
    "duration": 80,
    "start_time": "2023-04-30T08:42:51.716Z"
   },
   {
    "duration": 3,
    "start_time": "2023-04-30T08:42:53.432Z"
   },
   {
    "duration": 35,
    "start_time": "2023-04-30T08:42:54.009Z"
   },
   {
    "duration": 1113,
    "start_time": "2023-04-30T08:42:55.461Z"
   },
   {
    "duration": 39,
    "start_time": "2023-04-30T08:42:57.960Z"
   },
   {
    "duration": 2,
    "start_time": "2023-04-30T08:42:59.010Z"
   },
   {
    "duration": 2,
    "start_time": "2023-04-30T08:42:59.510Z"
   },
   {
    "duration": 2,
    "start_time": "2023-04-30T08:42:59.932Z"
   },
   {
    "duration": 4,
    "start_time": "2023-04-30T08:43:00.534Z"
   },
   {
    "duration": 1921,
    "start_time": "2023-04-30T08:43:21.374Z"
   },
   {
    "duration": 42,
    "start_time": "2023-04-30T08:43:23.297Z"
   },
   {
    "duration": 419596,
    "start_time": "2023-04-30T08:43:35.525Z"
   },
   {
    "duration": 4,
    "start_time": "2023-04-30T08:50:35.124Z"
   },
   {
    "duration": 0,
    "start_time": "2023-04-30T08:51:57.532Z"
   },
   {
    "duration": 0,
    "start_time": "2023-04-30T08:51:57.534Z"
   },
   {
    "duration": 0,
    "start_time": "2023-04-30T08:51:57.535Z"
   },
   {
    "duration": 88896,
    "start_time": "2023-04-30T08:52:00.311Z"
   },
   {
    "duration": 4,
    "start_time": "2023-04-30T08:53:29.208Z"
   },
   {
    "duration": 10,
    "start_time": "2023-04-30T08:53:29.214Z"
   },
   {
    "duration": 187,
    "start_time": "2023-04-30T08:53:29.226Z"
   },
   {
    "duration": 48,
    "start_time": "2023-04-30T08:53:29.415Z"
   },
   {
    "duration": 0,
    "start_time": "2023-04-30T08:53:29.467Z"
   },
   {
    "duration": 0,
    "start_time": "2023-04-30T08:53:29.469Z"
   },
   {
    "duration": 24,
    "start_time": "2023-04-30T08:54:52.010Z"
   },
   {
    "duration": 167,
    "start_time": "2023-04-30T08:55:10.509Z"
   },
   {
    "duration": 10,
    "start_time": "2023-04-30T08:55:15.122Z"
   },
   {
    "duration": 21,
    "start_time": "2023-04-30T08:55:16.014Z"
   },
   {
    "duration": 20,
    "start_time": "2023-04-30T08:55:57.190Z"
   },
   {
    "duration": 3,
    "start_time": "2023-04-30T08:55:57.606Z"
   },
   {
    "duration": 235,
    "start_time": "2023-04-30T08:56:00.618Z"
   },
   {
    "duration": 6,
    "start_time": "2023-04-30T08:56:03.034Z"
   },
   {
    "duration": 231,
    "start_time": "2023-04-30T08:56:05.594Z"
   },
   {
    "duration": 145,
    "start_time": "2023-04-30T08:56:09.245Z"
   },
   {
    "duration": 236,
    "start_time": "2023-04-30T08:56:11.806Z"
   },
   {
    "duration": 3732,
    "start_time": "2023-04-30T22:59:36.183Z"
   },
   {
    "duration": 1789,
    "start_time": "2023-04-30T22:59:39.917Z"
   },
   {
    "duration": 3,
    "start_time": "2023-04-30T22:59:41.708Z"
   },
   {
    "duration": 7932,
    "start_time": "2023-04-30T22:59:41.713Z"
   },
   {
    "duration": 238,
    "start_time": "2023-04-30T22:59:49.646Z"
   },
   {
    "duration": 42,
    "start_time": "2023-04-30T22:59:49.885Z"
   },
   {
    "duration": 41,
    "start_time": "2023-04-30T22:59:49.929Z"
   },
   {
    "duration": 46,
    "start_time": "2023-04-30T22:59:49.972Z"
   },
   {
    "duration": 4389,
    "start_time": "2023-04-30T22:59:50.019Z"
   },
   {
    "duration": 164,
    "start_time": "2023-04-30T22:59:54.410Z"
   },
   {
    "duration": 3,
    "start_time": "2023-04-30T22:59:54.576Z"
   },
   {
    "duration": 12,
    "start_time": "2023-04-30T22:59:54.580Z"
   },
   {
    "duration": 7,
    "start_time": "2023-04-30T22:59:54.594Z"
   },
   {
    "duration": 14,
    "start_time": "2023-04-30T22:59:54.603Z"
   },
   {
    "duration": 2786,
    "start_time": "2023-04-30T22:59:54.618Z"
   },
   {
    "duration": 3,
    "start_time": "2023-04-30T22:59:57.405Z"
   },
   {
    "duration": 9246,
    "start_time": "2023-04-30T22:59:57.409Z"
   },
   {
    "duration": 114,
    "start_time": "2023-04-30T23:00:06.656Z"
   },
   {
    "duration": 394,
    "start_time": "2023-04-30T23:00:06.771Z"
   },
   {
    "duration": 254,
    "start_time": "2023-04-30T23:00:07.167Z"
   },
   {
    "duration": 4767,
    "start_time": "2023-04-30T23:00:07.423Z"
   },
   {
    "duration": 116,
    "start_time": "2023-04-30T23:00:12.191Z"
   },
   {
    "duration": 4708,
    "start_time": "2023-04-30T23:00:12.308Z"
   },
   {
    "duration": 130,
    "start_time": "2023-04-30T23:00:17.018Z"
   },
   {
    "duration": 4382,
    "start_time": "2023-04-30T23:00:17.150Z"
   },
   {
    "duration": 131,
    "start_time": "2023-04-30T23:00:21.533Z"
   },
   {
    "duration": 4558,
    "start_time": "2023-04-30T23:00:21.666Z"
   },
   {
    "duration": 137,
    "start_time": "2023-04-30T23:00:26.228Z"
   },
   {
    "duration": 29295,
    "start_time": "2023-04-30T23:00:26.367Z"
   },
   {
    "duration": 13,
    "start_time": "2023-04-30T23:00:55.664Z"
   },
   {
    "duration": 185,
    "start_time": "2023-04-30T23:00:55.679Z"
   },
   {
    "duration": 173,
    "start_time": "2023-04-30T23:00:55.865Z"
   },
   {
    "duration": 154,
    "start_time": "2023-04-30T23:00:56.040Z"
   },
   {
    "duration": 14,
    "start_time": "2023-04-30T23:00:56.195Z"
   },
   {
    "duration": 4,
    "start_time": "2023-04-30T23:00:56.210Z"
   },
   {
    "duration": 93,
    "start_time": "2023-04-30T23:00:56.215Z"
   },
   {
    "duration": 87,
    "start_time": "2023-04-30T23:00:56.309Z"
   },
   {
    "duration": 49,
    "start_time": "2023-04-30T23:00:56.397Z"
   },
   {
    "duration": 116,
    "start_time": "2023-04-30T23:00:56.447Z"
   },
   {
    "duration": 46,
    "start_time": "2023-04-30T23:00:56.564Z"
   },
   {
    "duration": 76,
    "start_time": "2023-04-30T23:00:56.611Z"
   },
   {
    "duration": 74,
    "start_time": "2023-04-30T23:00:56.689Z"
   },
   {
    "duration": 78,
    "start_time": "2023-04-30T23:00:56.764Z"
   },
   {
    "duration": 3,
    "start_time": "2023-04-30T23:00:56.843Z"
   },
   {
    "duration": 12,
    "start_time": "2023-04-30T23:00:56.847Z"
   },
   {
    "duration": 12,
    "start_time": "2023-04-30T23:00:56.861Z"
   },
   {
    "duration": 78,
    "start_time": "2023-04-30T23:00:56.875Z"
   },
   {
    "duration": 66,
    "start_time": "2023-04-30T23:00:56.954Z"
   },
   {
    "duration": 14,
    "start_time": "2023-04-30T23:00:57.021Z"
   },
   {
    "duration": 69,
    "start_time": "2023-04-30T23:00:57.036Z"
   },
   {
    "duration": 68,
    "start_time": "2023-04-30T23:00:57.106Z"
   },
   {
    "duration": 74,
    "start_time": "2023-04-30T23:00:57.175Z"
   },
   {
    "duration": 9,
    "start_time": "2023-04-30T23:00:57.251Z"
   },
   {
    "duration": 9,
    "start_time": "2023-04-30T23:00:57.261Z"
   },
   {
    "duration": 29,
    "start_time": "2023-04-30T23:00:57.271Z"
   },
   {
    "duration": 90,
    "start_time": "2023-04-30T23:00:57.303Z"
   },
   {
    "duration": 3,
    "start_time": "2023-04-30T23:00:57.394Z"
   },
   {
    "duration": 43,
    "start_time": "2023-04-30T23:00:57.398Z"
   },
   {
    "duration": 1116,
    "start_time": "2023-04-30T23:00:57.443Z"
   },
   {
    "duration": 36,
    "start_time": "2023-04-30T23:00:58.560Z"
   },
   {
    "duration": 3,
    "start_time": "2023-04-30T23:00:58.597Z"
   },
   {
    "duration": 5,
    "start_time": "2023-04-30T23:00:58.601Z"
   },
   {
    "duration": 10,
    "start_time": "2023-04-30T23:00:58.608Z"
   },
   {
    "duration": 15,
    "start_time": "2023-04-30T23:00:58.619Z"
   }
  ],
  "kernelspec": {
   "display_name": "Python 3 (ipykernel)",
   "language": "python",
   "name": "python3"
  },
  "language_info": {
   "codemirror_mode": {
    "name": "ipython",
    "version": 3
   },
   "file_extension": ".py",
   "mimetype": "text/x-python",
   "name": "python",
   "nbconvert_exporter": "python",
   "pygments_lexer": "ipython3",
   "version": "3.9.7"
  },
  "toc": {
   "base_numbering": 1,
   "nav_menu": {},
   "number_sections": true,
   "sideBar": true,
   "skip_h1_title": true,
   "title_cell": "Table of Contents",
   "title_sidebar": "Contents",
   "toc_cell": false,
   "toc_position": {},
   "toc_section_display": true,
   "toc_window_display": false
  }
 },
 "nbformat": 4,
 "nbformat_minor": 5
}
