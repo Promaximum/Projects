{
 "cells": [
  {
   "cell_type": "markdown",
   "id": "7a3667bd",
   "metadata": {},
   "source": [
    "## Проект \"Определение стоимости автомобилей"
   ]
  },
  {
   "cell_type": "markdown",
   "id": "575a8add",
   "metadata": {},
   "source": [
    "Сервис по продаже автомобилей с пробегом «Не бит, не крашен» разрабатывает приложение для привлечения новых клиентов. В нём можно быстро узнать рыночную стоимость своего автомобиля. В вашем распоряжении исторические данные: технические характеристики, комплектации и цены автомобилей. Вам нужно построить модель для определения стоимости."
   ]
  },
  {
   "cell_type": "markdown",
   "id": "17754b37",
   "metadata": {},
   "source": [
    "Заказчику важны:\n",
    "\n",
    "* качество предсказания;\n",
    "* скорость предсказания;\n",
    "* время обучения."
   ]
  },
  {
   "cell_type": "markdown",
   "id": "9594d61a",
   "metadata": {},
   "source": [
    "Основные шаги:\n",
    "1) Загрузить данные, путь к файлу: /datasets/autos.csv.\n",
    "\n",
    "2) Изучить данные. Заполнить пропущенные значения и обработать аномалии в столбцах. Если среди признаков имеются неинформативные, удалить их.\n",
    "\n",
    "3) Подготовить выборки для обучения моделей.\n",
    "\n",
    "4) Обучить разные модели, одна из которых — LightGBM, как минимум одна — не бустинг. Для каждой модели попробовать разные гиперпараметры.\n",
    "\n",
    "5) Проанализировать время обучения, время предсказания и качество моделей.\n",
    "\n",
    "6) Опираясь на критерии заказчика, выберать лучшую модель, проверить её качество на тестовой выборке.\n",
    "\n",
    "Примечания:\n",
    "* Для оценки качества моделей применять метрику RMSE.\n",
    "* Значение метрики RMSE должно быть меньше 2500.\n",
    "* Самостоятельно освоить библиотеку LightGBM и её средствами постройть модели градиентного бустинга.\n",
    "* Время выполнения ячейки кода Jupyter Notebook можно получить специальной командой. Найдити её.\n",
    "* Модель градиентного бустинга может долго обучаться, поэтому изменить у неё только два-три параметра.\n",
    "* Если перестанет работать Jupyter Notebook, удалить лишние переменные оператором del."
   ]
  },
  {
   "cell_type": "markdown",
   "id": "54423c9b",
   "metadata": {},
   "source": [
    "Описание данных\n",
    "\n",
    "Данные находятся в файле /datasets/autos.csv. \n",
    "\n",
    "Признаки\n",
    "* DateCrawled — дата скачивания анкеты из базы\n",
    "* VehicleType — тип автомобильного кузова\n",
    "* RegistrationYear — год регистрации автомобиля\n",
    "* Gearbox — тип коробки передач\n",
    "* Power — мощность (л. с.)\n",
    "* Model — модель автомобиля\n",
    "* Kilometer — пробег (км)\n",
    "* RegistrationMonth — месяц регистрации автомобиля\n",
    "* FuelType — тип топлива\n",
    "* Brand — марка автомобиля\n",
    "* Repaired — была машина в ремонте или нет\n",
    "* DateCreated — дата создания анкеты\n",
    "* NumberOfPictures — количество фотографий автомобиля\n",
    "* PostalCode — почтовый индекс владельца анкеты (пользователя)\n",
    "* LastSeen — дата последней активности пользователя\n",
    "\n",
    "Целевой признак\n",
    "* Price — цена (евро)"
   ]
  },
  {
   "cell_type": "code",
   "execution_count": 1,
   "id": "2430b62a",
   "metadata": {
    "scrolled": true
   },
   "outputs": [],
   "source": [
    "#!pip install lightgbm # импортируем библиотеку lightgbm"
   ]
  },
  {
   "cell_type": "code",
   "execution_count": 2,
   "id": "084e557b",
   "metadata": {},
   "outputs": [],
   "source": [
    "#!pip install catboost # импортируем библиотеку catboost"
   ]
  },
  {
   "cell_type": "code",
   "execution_count": 3,
   "id": "c6869748",
   "metadata": {},
   "outputs": [
    {
     "name": "stdout",
     "output_type": "stream",
     "text": [
      "Collecting category_encoders\n",
      "  Downloading category_encoders-2.6.0-py2.py3-none-any.whl (81 kB)\n",
      "\u001b[K     |████████████████████████████████| 81 kB 1.7 MB/s eta 0:00:01\n",
      "\u001b[?25hRequirement already satisfied: statsmodels>=0.9.0 in /opt/conda/lib/python3.9/site-packages (from category_encoders) (0.13.2)\n",
      "Requirement already satisfied: numpy>=1.14.0 in /opt/conda/lib/python3.9/site-packages (from category_encoders) (1.21.1)\n",
      "Requirement already satisfied: scipy>=1.0.0 in /opt/conda/lib/python3.9/site-packages (from category_encoders) (1.9.1)\n",
      "Requirement already satisfied: scikit-learn>=0.20.0 in /opt/conda/lib/python3.9/site-packages (from category_encoders) (0.24.1)\n",
      "Requirement already satisfied: patsy>=0.5.1 in /opt/conda/lib/python3.9/site-packages (from category_encoders) (0.5.2)\n",
      "Requirement already satisfied: pandas>=1.0.5 in /opt/conda/lib/python3.9/site-packages (from category_encoders) (1.2.4)\n",
      "Requirement already satisfied: python-dateutil>=2.7.3 in /opt/conda/lib/python3.9/site-packages (from pandas>=1.0.5->category_encoders) (2.8.1)\n",
      "Requirement already satisfied: pytz>=2017.3 in /opt/conda/lib/python3.9/site-packages (from pandas>=1.0.5->category_encoders) (2021.1)\n",
      "Requirement already satisfied: six in /opt/conda/lib/python3.9/site-packages (from patsy>=0.5.1->category_encoders) (1.16.0)\n",
      "Requirement already satisfied: joblib>=0.11 in /opt/conda/lib/python3.9/site-packages (from scikit-learn>=0.20.0->category_encoders) (1.1.0)\n",
      "Requirement already satisfied: threadpoolctl>=2.0.0 in /opt/conda/lib/python3.9/site-packages (from scikit-learn>=0.20.0->category_encoders) (3.1.0)\n",
      "Requirement already satisfied: packaging>=21.3 in /opt/conda/lib/python3.9/site-packages (from statsmodels>=0.9.0->category_encoders) (21.3)\n",
      "Requirement already satisfied: pyparsing!=3.0.5,>=2.0.2 in /opt/conda/lib/python3.9/site-packages (from packaging>=21.3->statsmodels>=0.9.0->category_encoders) (2.4.7)\n",
      "Installing collected packages: category-encoders\n",
      "Successfully installed category-encoders-2.6.0\n"
     ]
    }
   ],
   "source": [
    "!pip install category_encoders"
   ]
  },
  {
   "cell_type": "code",
   "execution_count": 4,
   "id": "d22337f2",
   "metadata": {},
   "outputs": [],
   "source": [
    "import pandas as pd\n",
    "import numpy as np\n",
    "import matplotlib.pyplot as plt\n",
    "import seaborn as sns\n",
    "\n",
    "import lightgbm as lgb \n",
    "import catboost as cb\n",
    "import category_encoders as ca\n",
    "\n",
    "\n",
    "from sklearn.ensemble import RandomForestRegressor\n",
    "from sklearn.tree import DecisionTreeRegressor\n",
    "from sklearn.linear_model import LinearRegression\n",
    "from sklearn.model_selection import cross_val_score, GridSearchCV, train_test_split\n",
    "from sklearn.metrics import make_scorer, mean_squared_error\n",
    "\n",
    "from sklearn.preprocessing import OrdinalEncoder"
   ]
  },
  {
   "cell_type": "code",
   "execution_count": 5,
   "id": "85eb8c3f",
   "metadata": {},
   "outputs": [],
   "source": [
    "try:\n",
    "    df = pd.read_csv('C:\\\\Data\\\\autos.csv')\n",
    "except:\n",
    "    df = pd.read_csv('/datasets/autos.csv')"
   ]
  },
  {
   "cell_type": "code",
   "execution_count": 6,
   "id": "a051197f",
   "metadata": {},
   "outputs": [
    {
     "data": {
      "text/html": [
       "<div>\n",
       "<style scoped>\n",
       "    .dataframe tbody tr th:only-of-type {\n",
       "        vertical-align: middle;\n",
       "    }\n",
       "\n",
       "    .dataframe tbody tr th {\n",
       "        vertical-align: top;\n",
       "    }\n",
       "\n",
       "    .dataframe thead th {\n",
       "        text-align: right;\n",
       "    }\n",
       "</style>\n",
       "<table border=\"1\" class=\"dataframe\">\n",
       "  <thead>\n",
       "    <tr style=\"text-align: right;\">\n",
       "      <th></th>\n",
       "      <th>DateCrawled</th>\n",
       "      <th>Price</th>\n",
       "      <th>VehicleType</th>\n",
       "      <th>RegistrationYear</th>\n",
       "      <th>Gearbox</th>\n",
       "      <th>Power</th>\n",
       "      <th>Model</th>\n",
       "      <th>Kilometer</th>\n",
       "      <th>RegistrationMonth</th>\n",
       "      <th>FuelType</th>\n",
       "      <th>Brand</th>\n",
       "      <th>Repaired</th>\n",
       "      <th>DateCreated</th>\n",
       "      <th>NumberOfPictures</th>\n",
       "      <th>PostalCode</th>\n",
       "      <th>LastSeen</th>\n",
       "    </tr>\n",
       "  </thead>\n",
       "  <tbody>\n",
       "    <tr>\n",
       "      <th>0</th>\n",
       "      <td>2016-03-24 11:52:17</td>\n",
       "      <td>480</td>\n",
       "      <td>NaN</td>\n",
       "      <td>1993</td>\n",
       "      <td>manual</td>\n",
       "      <td>0</td>\n",
       "      <td>golf</td>\n",
       "      <td>150000</td>\n",
       "      <td>0</td>\n",
       "      <td>petrol</td>\n",
       "      <td>volkswagen</td>\n",
       "      <td>NaN</td>\n",
       "      <td>2016-03-24 00:00:00</td>\n",
       "      <td>0</td>\n",
       "      <td>70435</td>\n",
       "      <td>2016-04-07 03:16:57</td>\n",
       "    </tr>\n",
       "    <tr>\n",
       "      <th>1</th>\n",
       "      <td>2016-03-24 10:58:45</td>\n",
       "      <td>18300</td>\n",
       "      <td>coupe</td>\n",
       "      <td>2011</td>\n",
       "      <td>manual</td>\n",
       "      <td>190</td>\n",
       "      <td>NaN</td>\n",
       "      <td>125000</td>\n",
       "      <td>5</td>\n",
       "      <td>gasoline</td>\n",
       "      <td>audi</td>\n",
       "      <td>yes</td>\n",
       "      <td>2016-03-24 00:00:00</td>\n",
       "      <td>0</td>\n",
       "      <td>66954</td>\n",
       "      <td>2016-04-07 01:46:50</td>\n",
       "    </tr>\n",
       "    <tr>\n",
       "      <th>2</th>\n",
       "      <td>2016-03-14 12:52:21</td>\n",
       "      <td>9800</td>\n",
       "      <td>suv</td>\n",
       "      <td>2004</td>\n",
       "      <td>auto</td>\n",
       "      <td>163</td>\n",
       "      <td>grand</td>\n",
       "      <td>125000</td>\n",
       "      <td>8</td>\n",
       "      <td>gasoline</td>\n",
       "      <td>jeep</td>\n",
       "      <td>NaN</td>\n",
       "      <td>2016-03-14 00:00:00</td>\n",
       "      <td>0</td>\n",
       "      <td>90480</td>\n",
       "      <td>2016-04-05 12:47:46</td>\n",
       "    </tr>\n",
       "    <tr>\n",
       "      <th>3</th>\n",
       "      <td>2016-03-17 16:54:04</td>\n",
       "      <td>1500</td>\n",
       "      <td>small</td>\n",
       "      <td>2001</td>\n",
       "      <td>manual</td>\n",
       "      <td>75</td>\n",
       "      <td>golf</td>\n",
       "      <td>150000</td>\n",
       "      <td>6</td>\n",
       "      <td>petrol</td>\n",
       "      <td>volkswagen</td>\n",
       "      <td>no</td>\n",
       "      <td>2016-03-17 00:00:00</td>\n",
       "      <td>0</td>\n",
       "      <td>91074</td>\n",
       "      <td>2016-03-17 17:40:17</td>\n",
       "    </tr>\n",
       "    <tr>\n",
       "      <th>4</th>\n",
       "      <td>2016-03-31 17:25:20</td>\n",
       "      <td>3600</td>\n",
       "      <td>small</td>\n",
       "      <td>2008</td>\n",
       "      <td>manual</td>\n",
       "      <td>69</td>\n",
       "      <td>fabia</td>\n",
       "      <td>90000</td>\n",
       "      <td>7</td>\n",
       "      <td>gasoline</td>\n",
       "      <td>skoda</td>\n",
       "      <td>no</td>\n",
       "      <td>2016-03-31 00:00:00</td>\n",
       "      <td>0</td>\n",
       "      <td>60437</td>\n",
       "      <td>2016-04-06 10:17:21</td>\n",
       "    </tr>\n",
       "    <tr>\n",
       "      <th>5</th>\n",
       "      <td>2016-04-04 17:36:23</td>\n",
       "      <td>650</td>\n",
       "      <td>sedan</td>\n",
       "      <td>1995</td>\n",
       "      <td>manual</td>\n",
       "      <td>102</td>\n",
       "      <td>3er</td>\n",
       "      <td>150000</td>\n",
       "      <td>10</td>\n",
       "      <td>petrol</td>\n",
       "      <td>bmw</td>\n",
       "      <td>yes</td>\n",
       "      <td>2016-04-04 00:00:00</td>\n",
       "      <td>0</td>\n",
       "      <td>33775</td>\n",
       "      <td>2016-04-06 19:17:07</td>\n",
       "    </tr>\n",
       "    <tr>\n",
       "      <th>6</th>\n",
       "      <td>2016-04-01 20:48:51</td>\n",
       "      <td>2200</td>\n",
       "      <td>convertible</td>\n",
       "      <td>2004</td>\n",
       "      <td>manual</td>\n",
       "      <td>109</td>\n",
       "      <td>2_reihe</td>\n",
       "      <td>150000</td>\n",
       "      <td>8</td>\n",
       "      <td>petrol</td>\n",
       "      <td>peugeot</td>\n",
       "      <td>no</td>\n",
       "      <td>2016-04-01 00:00:00</td>\n",
       "      <td>0</td>\n",
       "      <td>67112</td>\n",
       "      <td>2016-04-05 18:18:39</td>\n",
       "    </tr>\n",
       "    <tr>\n",
       "      <th>7</th>\n",
       "      <td>2016-03-21 18:54:38</td>\n",
       "      <td>0</td>\n",
       "      <td>sedan</td>\n",
       "      <td>1980</td>\n",
       "      <td>manual</td>\n",
       "      <td>50</td>\n",
       "      <td>other</td>\n",
       "      <td>40000</td>\n",
       "      <td>7</td>\n",
       "      <td>petrol</td>\n",
       "      <td>volkswagen</td>\n",
       "      <td>no</td>\n",
       "      <td>2016-03-21 00:00:00</td>\n",
       "      <td>0</td>\n",
       "      <td>19348</td>\n",
       "      <td>2016-03-25 16:47:58</td>\n",
       "    </tr>\n",
       "    <tr>\n",
       "      <th>8</th>\n",
       "      <td>2016-04-04 23:42:13</td>\n",
       "      <td>14500</td>\n",
       "      <td>bus</td>\n",
       "      <td>2014</td>\n",
       "      <td>manual</td>\n",
       "      <td>125</td>\n",
       "      <td>c_max</td>\n",
       "      <td>30000</td>\n",
       "      <td>8</td>\n",
       "      <td>petrol</td>\n",
       "      <td>ford</td>\n",
       "      <td>NaN</td>\n",
       "      <td>2016-04-04 00:00:00</td>\n",
       "      <td>0</td>\n",
       "      <td>94505</td>\n",
       "      <td>2016-04-04 23:42:13</td>\n",
       "    </tr>\n",
       "    <tr>\n",
       "      <th>9</th>\n",
       "      <td>2016-03-17 10:53:50</td>\n",
       "      <td>999</td>\n",
       "      <td>small</td>\n",
       "      <td>1998</td>\n",
       "      <td>manual</td>\n",
       "      <td>101</td>\n",
       "      <td>golf</td>\n",
       "      <td>150000</td>\n",
       "      <td>0</td>\n",
       "      <td>NaN</td>\n",
       "      <td>volkswagen</td>\n",
       "      <td>NaN</td>\n",
       "      <td>2016-03-17 00:00:00</td>\n",
       "      <td>0</td>\n",
       "      <td>27472</td>\n",
       "      <td>2016-03-31 17:17:06</td>\n",
       "    </tr>\n",
       "  </tbody>\n",
       "</table>\n",
       "</div>"
      ],
      "text/plain": [
       "           DateCrawled  Price  VehicleType  RegistrationYear Gearbox  Power  \\\n",
       "0  2016-03-24 11:52:17    480          NaN              1993  manual      0   \n",
       "1  2016-03-24 10:58:45  18300        coupe              2011  manual    190   \n",
       "2  2016-03-14 12:52:21   9800          suv              2004    auto    163   \n",
       "3  2016-03-17 16:54:04   1500        small              2001  manual     75   \n",
       "4  2016-03-31 17:25:20   3600        small              2008  manual     69   \n",
       "5  2016-04-04 17:36:23    650        sedan              1995  manual    102   \n",
       "6  2016-04-01 20:48:51   2200  convertible              2004  manual    109   \n",
       "7  2016-03-21 18:54:38      0        sedan              1980  manual     50   \n",
       "8  2016-04-04 23:42:13  14500          bus              2014  manual    125   \n",
       "9  2016-03-17 10:53:50    999        small              1998  manual    101   \n",
       "\n",
       "     Model  Kilometer  RegistrationMonth  FuelType       Brand Repaired  \\\n",
       "0     golf     150000                  0    petrol  volkswagen      NaN   \n",
       "1      NaN     125000                  5  gasoline        audi      yes   \n",
       "2    grand     125000                  8  gasoline        jeep      NaN   \n",
       "3     golf     150000                  6    petrol  volkswagen       no   \n",
       "4    fabia      90000                  7  gasoline       skoda       no   \n",
       "5      3er     150000                 10    petrol         bmw      yes   \n",
       "6  2_reihe     150000                  8    petrol     peugeot       no   \n",
       "7    other      40000                  7    petrol  volkswagen       no   \n",
       "8    c_max      30000                  8    petrol        ford      NaN   \n",
       "9     golf     150000                  0       NaN  volkswagen      NaN   \n",
       "\n",
       "           DateCreated  NumberOfPictures  PostalCode             LastSeen  \n",
       "0  2016-03-24 00:00:00                 0       70435  2016-04-07 03:16:57  \n",
       "1  2016-03-24 00:00:00                 0       66954  2016-04-07 01:46:50  \n",
       "2  2016-03-14 00:00:00                 0       90480  2016-04-05 12:47:46  \n",
       "3  2016-03-17 00:00:00                 0       91074  2016-03-17 17:40:17  \n",
       "4  2016-03-31 00:00:00                 0       60437  2016-04-06 10:17:21  \n",
       "5  2016-04-04 00:00:00                 0       33775  2016-04-06 19:17:07  \n",
       "6  2016-04-01 00:00:00                 0       67112  2016-04-05 18:18:39  \n",
       "7  2016-03-21 00:00:00                 0       19348  2016-03-25 16:47:58  \n",
       "8  2016-04-04 00:00:00                 0       94505  2016-04-04 23:42:13  \n",
       "9  2016-03-17 00:00:00                 0       27472  2016-03-31 17:17:06  "
      ]
     },
     "execution_count": 6,
     "metadata": {},
     "output_type": "execute_result"
    }
   ],
   "source": [
    "df.head(10)"
   ]
  },
  {
   "cell_type": "code",
   "execution_count": 7,
   "id": "e170c37a",
   "metadata": {
    "scrolled": false
   },
   "outputs": [
    {
     "name": "stdout",
     "output_type": "stream",
     "text": [
      "<class 'pandas.core.frame.DataFrame'>\n",
      "RangeIndex: 354369 entries, 0 to 354368\n",
      "Data columns (total 16 columns):\n",
      " #   Column             Non-Null Count   Dtype \n",
      "---  ------             --------------   ----- \n",
      " 0   DateCrawled        354369 non-null  object\n",
      " 1   Price              354369 non-null  int64 \n",
      " 2   VehicleType        316879 non-null  object\n",
      " 3   RegistrationYear   354369 non-null  int64 \n",
      " 4   Gearbox            334536 non-null  object\n",
      " 5   Power              354369 non-null  int64 \n",
      " 6   Model              334664 non-null  object\n",
      " 7   Kilometer          354369 non-null  int64 \n",
      " 8   RegistrationMonth  354369 non-null  int64 \n",
      " 9   FuelType           321474 non-null  object\n",
      " 10  Brand              354369 non-null  object\n",
      " 11  Repaired           283215 non-null  object\n",
      " 12  DateCreated        354369 non-null  object\n",
      " 13  NumberOfPictures   354369 non-null  int64 \n",
      " 14  PostalCode         354369 non-null  int64 \n",
      " 15  LastSeen           354369 non-null  object\n",
      "dtypes: int64(7), object(9)\n",
      "memory usage: 43.3+ MB\n"
     ]
    }
   ],
   "source": [
    "df.info()"
   ]
  },
  {
   "cell_type": "code",
   "execution_count": 8,
   "id": "dcd1e1d2",
   "metadata": {
    "scrolled": true
   },
   "outputs": [
    {
     "data": {
      "text/html": [
       "<div>\n",
       "<style scoped>\n",
       "    .dataframe tbody tr th:only-of-type {\n",
       "        vertical-align: middle;\n",
       "    }\n",
       "\n",
       "    .dataframe tbody tr th {\n",
       "        vertical-align: top;\n",
       "    }\n",
       "\n",
       "    .dataframe thead th {\n",
       "        text-align: right;\n",
       "    }\n",
       "</style>\n",
       "<table border=\"1\" class=\"dataframe\">\n",
       "  <thead>\n",
       "    <tr style=\"text-align: right;\">\n",
       "      <th></th>\n",
       "      <th>Price</th>\n",
       "      <th>RegistrationYear</th>\n",
       "      <th>Power</th>\n",
       "      <th>Kilometer</th>\n",
       "      <th>RegistrationMonth</th>\n",
       "      <th>NumberOfPictures</th>\n",
       "      <th>PostalCode</th>\n",
       "    </tr>\n",
       "  </thead>\n",
       "  <tbody>\n",
       "    <tr>\n",
       "      <th>count</th>\n",
       "      <td>354369.000000</td>\n",
       "      <td>354369.000000</td>\n",
       "      <td>354369.000000</td>\n",
       "      <td>354369.000000</td>\n",
       "      <td>354369.000000</td>\n",
       "      <td>354369.0</td>\n",
       "      <td>354369.000000</td>\n",
       "    </tr>\n",
       "    <tr>\n",
       "      <th>mean</th>\n",
       "      <td>4416.656776</td>\n",
       "      <td>2004.234448</td>\n",
       "      <td>110.094337</td>\n",
       "      <td>128211.172535</td>\n",
       "      <td>5.714645</td>\n",
       "      <td>0.0</td>\n",
       "      <td>50508.689087</td>\n",
       "    </tr>\n",
       "    <tr>\n",
       "      <th>std</th>\n",
       "      <td>4514.158514</td>\n",
       "      <td>90.227958</td>\n",
       "      <td>189.850405</td>\n",
       "      <td>37905.341530</td>\n",
       "      <td>3.726421</td>\n",
       "      <td>0.0</td>\n",
       "      <td>25783.096248</td>\n",
       "    </tr>\n",
       "    <tr>\n",
       "      <th>min</th>\n",
       "      <td>0.000000</td>\n",
       "      <td>1000.000000</td>\n",
       "      <td>0.000000</td>\n",
       "      <td>5000.000000</td>\n",
       "      <td>0.000000</td>\n",
       "      <td>0.0</td>\n",
       "      <td>1067.000000</td>\n",
       "    </tr>\n",
       "    <tr>\n",
       "      <th>25%</th>\n",
       "      <td>1050.000000</td>\n",
       "      <td>1999.000000</td>\n",
       "      <td>69.000000</td>\n",
       "      <td>125000.000000</td>\n",
       "      <td>3.000000</td>\n",
       "      <td>0.0</td>\n",
       "      <td>30165.000000</td>\n",
       "    </tr>\n",
       "    <tr>\n",
       "      <th>50%</th>\n",
       "      <td>2700.000000</td>\n",
       "      <td>2003.000000</td>\n",
       "      <td>105.000000</td>\n",
       "      <td>150000.000000</td>\n",
       "      <td>6.000000</td>\n",
       "      <td>0.0</td>\n",
       "      <td>49413.000000</td>\n",
       "    </tr>\n",
       "    <tr>\n",
       "      <th>75%</th>\n",
       "      <td>6400.000000</td>\n",
       "      <td>2008.000000</td>\n",
       "      <td>143.000000</td>\n",
       "      <td>150000.000000</td>\n",
       "      <td>9.000000</td>\n",
       "      <td>0.0</td>\n",
       "      <td>71083.000000</td>\n",
       "    </tr>\n",
       "    <tr>\n",
       "      <th>max</th>\n",
       "      <td>20000.000000</td>\n",
       "      <td>9999.000000</td>\n",
       "      <td>20000.000000</td>\n",
       "      <td>150000.000000</td>\n",
       "      <td>12.000000</td>\n",
       "      <td>0.0</td>\n",
       "      <td>99998.000000</td>\n",
       "    </tr>\n",
       "  </tbody>\n",
       "</table>\n",
       "</div>"
      ],
      "text/plain": [
       "               Price  RegistrationYear          Power      Kilometer  \\\n",
       "count  354369.000000     354369.000000  354369.000000  354369.000000   \n",
       "mean     4416.656776       2004.234448     110.094337  128211.172535   \n",
       "std      4514.158514         90.227958     189.850405   37905.341530   \n",
       "min         0.000000       1000.000000       0.000000    5000.000000   \n",
       "25%      1050.000000       1999.000000      69.000000  125000.000000   \n",
       "50%      2700.000000       2003.000000     105.000000  150000.000000   \n",
       "75%      6400.000000       2008.000000     143.000000  150000.000000   \n",
       "max     20000.000000       9999.000000   20000.000000  150000.000000   \n",
       "\n",
       "       RegistrationMonth  NumberOfPictures     PostalCode  \n",
       "count      354369.000000          354369.0  354369.000000  \n",
       "mean            5.714645               0.0   50508.689087  \n",
       "std             3.726421               0.0   25783.096248  \n",
       "min             0.000000               0.0    1067.000000  \n",
       "25%             3.000000               0.0   30165.000000  \n",
       "50%             6.000000               0.0   49413.000000  \n",
       "75%             9.000000               0.0   71083.000000  \n",
       "max            12.000000               0.0   99998.000000  "
      ]
     },
     "execution_count": 8,
     "metadata": {},
     "output_type": "execute_result"
    }
   ],
   "source": [
    "df.describe()"
   ]
  },
  {
   "cell_type": "code",
   "execution_count": 9,
   "id": "2ea94719",
   "metadata": {},
   "outputs": [
    {
     "name": "stdout",
     "output_type": "stream",
     "text": [
      "DateCrawled : Число пропусков / пустых строк = 0\n",
      "Price : Число пропусков / пустых строк = 0\n",
      "VehicleType : Число пропусков / пустых строк = 37490\n",
      "RegistrationYear : Число пропусков / пустых строк = 0\n",
      "Gearbox : Число пропусков / пустых строк = 19833\n",
      "Power : Число пропусков / пустых строк = 0\n",
      "Model : Число пропусков / пустых строк = 19705\n",
      "Kilometer : Число пропусков / пустых строк = 0\n",
      "RegistrationMonth : Число пропусков / пустых строк = 0\n",
      "FuelType : Число пропусков / пустых строк = 32895\n",
      "Brand : Число пропусков / пустых строк = 0\n",
      "Repaired : Число пропусков / пустых строк = 71154\n",
      "DateCreated : Число пропусков / пустых строк = 0\n",
      "NumberOfPictures : Число пропусков / пустых строк = 0\n",
      "PostalCode : Число пропусков / пустых строк = 0\n",
      "LastSeen : Число пропусков / пустых строк = 0\n"
     ]
    }
   ],
   "source": [
    "for column in df.columns:\n",
    "    print(f'{column} : Число пропусков / пустых строк = {df[column].isna().sum()}')"
   ]
  },
  {
   "cell_type": "markdown",
   "id": "d1dd4596",
   "metadata": {},
   "source": [
    "**Вывод** \n",
    "* Имеются пропуски в столбцах `VehicleType`, `Gearbox`, `Model`, `FuelType`, `FuelType` и `Repaired`. \n",
    "\n",
    "* Некорректный тип данных в `DateCrawled`, `DateCreated` и `LastSeen`\n",
    "\n",
    "* Имеется верхний регистр названий столбцов"
   ]
  },
  {
   "cell_type": "markdown",
   "id": "f0e47e48",
   "metadata": {},
   "source": [
    "## Предоработка данных"
   ]
  },
  {
   "cell_type": "markdown",
   "id": "ba879052",
   "metadata": {},
   "source": [
    "Для обучения модели выделим следующие признаки (столбцы): `VehicleType`, `RegistrationYear`, `Gearbox`, `Power`, `Model`, `Kilometer`, `RegistrationMonth`, `FuelType`, `Brand`, `Repaired`.\n",
    "\n",
    "Целевым признаком, как уже было упомянуто будет `Price` — цена (евро)."
   ]
  },
  {
   "cell_type": "code",
   "execution_count": 10,
   "id": "9edf6afe",
   "metadata": {},
   "outputs": [],
   "source": [
    "df = df.rename(columns=str.lower) #Переводим названия стобцов в нижний регистр"
   ]
  },
  {
   "cell_type": "code",
   "execution_count": 11,
   "id": "2df2f319",
   "metadata": {},
   "outputs": [
    {
     "name": "stdout",
     "output_type": "stream",
     "text": [
      "<class 'pandas.core.frame.DataFrame'>\n",
      "RangeIndex: 354369 entries, 0 to 354368\n",
      "Data columns (total 16 columns):\n",
      " #   Column             Non-Null Count   Dtype \n",
      "---  ------             --------------   ----- \n",
      " 0   datecrawled        354369 non-null  object\n",
      " 1   price              354369 non-null  int64 \n",
      " 2   vehicletype        316879 non-null  object\n",
      " 3   registrationyear   354369 non-null  int64 \n",
      " 4   gearbox            334536 non-null  object\n",
      " 5   power              354369 non-null  int64 \n",
      " 6   model              334664 non-null  object\n",
      " 7   kilometer          354369 non-null  int64 \n",
      " 8   registrationmonth  354369 non-null  int64 \n",
      " 9   fueltype           321474 non-null  object\n",
      " 10  brand              354369 non-null  object\n",
      " 11  repaired           283215 non-null  object\n",
      " 12  datecreated        354369 non-null  object\n",
      " 13  numberofpictures   354369 non-null  int64 \n",
      " 14  postalcode         354369 non-null  int64 \n",
      " 15  lastseen           354369 non-null  object\n",
      "dtypes: int64(7), object(9)\n",
      "memory usage: 43.3+ MB\n"
     ]
    }
   ],
   "source": [
    "df.info()"
   ]
  },
  {
   "cell_type": "code",
   "execution_count": 12,
   "id": "c598920e",
   "metadata": {},
   "outputs": [],
   "source": [
    "df['datecrawled'] = pd.to_datetime(df['datecrawled'], format='%Y-%m-%d %H:%M:%S') # Переведём столбцы с датами в форма дат\n",
    "df['datecreated'] = pd.to_datetime(df['datecreated'], format='%Y-%m-%d %H:%M:%S')\n",
    "df['lastseen'] = pd.to_datetime(df['lastseen'], format='%Y-%m-%d %H:%M:%S')"
   ]
  },
  {
   "cell_type": "code",
   "execution_count": 13,
   "id": "f4a454d0",
   "metadata": {},
   "outputs": [
    {
     "data": {
      "text/plain": [
       "4"
      ]
     },
     "execution_count": 13,
     "metadata": {},
     "output_type": "execute_result"
    }
   ],
   "source": [
    "df.duplicated().sum()"
   ]
  },
  {
   "cell_type": "code",
   "execution_count": 14,
   "id": "3aa22c0e",
   "metadata": {},
   "outputs": [],
   "source": [
    "df.drop_duplicates(inplace=True) # Уберём дубликаты, поскольку их не так много по сравнению с общей выборкой"
   ]
  },
  {
   "cell_type": "code",
   "execution_count": 15,
   "id": "5a3c1554",
   "metadata": {
    "scrolled": true
   },
   "outputs": [
    {
     "data": {
      "text/plain": [
       "0"
      ]
     },
     "execution_count": 15,
     "metadata": {},
     "output_type": "execute_result"
    }
   ],
   "source": [
    "df.duplicated().sum()"
   ]
  },
  {
   "cell_type": "code",
   "execution_count": 16,
   "id": "66510cdd",
   "metadata": {
    "scrolled": true
   },
   "outputs": [
    {
     "data": {
      "text/plain": [
       "array(['golf', nan, 'grand', 'fabia', '3er', '2_reihe', 'other', 'c_max',\n",
       "       '3_reihe', 'passat', 'navara', 'ka', 'polo', 'twingo', 'a_klasse',\n",
       "       'scirocco', '5er', 'meriva', 'arosa', 'c4', 'civic', 'transporter',\n",
       "       'punto', 'e_klasse', 'clio', 'kadett', 'kangoo', 'corsa', 'one',\n",
       "       'fortwo', '1er', 'b_klasse', 'signum', 'astra', 'a8', 'jetta',\n",
       "       'fiesta', 'c_klasse', 'micra', 'vito', 'sprinter', '156', 'escort',\n",
       "       'forester', 'xc_reihe', 'scenic', 'a4', 'a1', 'insignia', 'combo',\n",
       "       'focus', 'tt', 'a6', 'jazz', 'omega', 'slk', '7er', '80', '147',\n",
       "       '100', 'z_reihe', 'sportage', 'sorento', 'v40', 'ibiza', 'mustang',\n",
       "       'eos', 'touran', 'getz', 'a3', 'almera', 'megane', 'lupo', 'r19',\n",
       "       'zafira', 'caddy', 'mondeo', 'cordoba', 'colt', 'impreza',\n",
       "       'vectra', 'berlingo', 'tiguan', 'i_reihe', 'espace', 'sharan',\n",
       "       '6_reihe', 'panda', 'up', 'seicento', 'ceed', '5_reihe', 'yeti',\n",
       "       'octavia', 'mii', 'rx_reihe', '6er', 'modus', 'fox', 'matiz',\n",
       "       'beetle', 'c1', 'rio', 'touareg', 'logan', 'spider', 'cuore',\n",
       "       's_max', 'a2', 'galaxy', 'c3', 'viano', 's_klasse', '1_reihe',\n",
       "       'avensis', 'roomster', 'sl', 'kaefer', 'santa', 'cooper', 'leon',\n",
       "       '4_reihe', 'a5', '500', 'laguna', 'ptcruiser', 'clk', 'primera',\n",
       "       'x_reihe', 'exeo', '159', 'transit', 'juke', 'qashqai', 'carisma',\n",
       "       'accord', 'corolla', 'lanos', 'phaeton', 'verso', 'swift', 'rav',\n",
       "       'picanto', 'boxster', 'kalos', 'superb', 'stilo', 'alhambra',\n",
       "       'mx_reihe', 'roadster', 'ypsilon', 'cayenne', 'galant', 'justy',\n",
       "       '90', 'sirion', 'crossfire', 'agila', 'duster', 'cr_reihe', 'v50',\n",
       "       'c_reihe', 'v_klasse', 'm_klasse', 'yaris', 'c5', 'aygo', 'cc',\n",
       "       'carnival', 'fusion', '911', 'bora', 'forfour', 'm_reihe', 'cl',\n",
       "       'tigra', '300c', 'spark', 'v70', 'kuga', 'x_type', 'ducato',\n",
       "       's_type', 'x_trail', 'toledo', 'altea', 'voyager', 'calibra',\n",
       "       'bravo', 'antara', 'tucson', 'citigo', 'jimny', 'wrangler',\n",
       "       'lybra', 'q7', 'lancer', 'captiva', 'c2', 'discovery',\n",
       "       'freelander', 'sandero', 'note', '900', 'cherokee', 'clubman',\n",
       "       'samara', 'defender', '601', 'cx_reihe', 'legacy', 'pajero',\n",
       "       'auris', 'niva', 's60', 'nubira', 'vivaro', 'g_klasse', 'lodgy',\n",
       "       '850', 'range_rover', 'q3', 'serie_2', 'glk', 'charade', 'croma',\n",
       "       'outlander', 'doblo', 'musa', 'move', '9000', 'v60', '145', 'aveo',\n",
       "       '200', 'b_max', 'range_rover_sport', 'terios', 'rangerover', 'q5',\n",
       "       'range_rover_evoque', 'materia', 'delta', 'gl', 'kalina', 'amarok',\n",
       "       'elefantino', 'i3', 'kappa', 'serie_3', 'serie_1'], dtype=object)"
      ]
     },
     "execution_count": 16,
     "metadata": {},
     "output_type": "execute_result"
    }
   ],
   "source": [
    "df['model'].unique()"
   ]
  },
  {
   "cell_type": "markdown",
   "id": "2754f50f",
   "metadata": {},
   "source": [
    "Мы видим, что в назаниях имеется значение `other`. Заполним им пропуски."
   ]
  },
  {
   "cell_type": "code",
   "execution_count": 17,
   "id": "3e90ef8d",
   "metadata": {},
   "outputs": [],
   "source": [
    "df['model'] = df['model'].fillna('other')"
   ]
  },
  {
   "cell_type": "markdown",
   "id": "f448237d",
   "metadata": {},
   "source": [
    "Посмотрим другие столбцы."
   ]
  },
  {
   "cell_type": "code",
   "execution_count": 18,
   "id": "f6c71d65",
   "metadata": {
    "scrolled": false
   },
   "outputs": [
    {
     "data": {
      "text/plain": [
       "manual    268249\n",
       "auto       66283\n",
       "Name: gearbox, dtype: int64"
      ]
     },
     "execution_count": 18,
     "metadata": {},
     "output_type": "execute_result"
    }
   ],
   "source": [
    "df['gearbox'].value_counts()"
   ]
  },
  {
   "cell_type": "markdown",
   "id": "d5ed57af",
   "metadata": {},
   "source": [
    "Пропуски монжо заполнить `unknown`"
   ]
  },
  {
   "cell_type": "code",
   "execution_count": 19,
   "id": "8c8db25c",
   "metadata": {},
   "outputs": [],
   "source": [
    "df['gearbox'] = df['gearbox'].fillna('unknown')"
   ]
  },
  {
   "cell_type": "code",
   "execution_count": 20,
   "id": "4fc97ae7",
   "metadata": {
    "scrolled": true
   },
   "outputs": [
    {
     "data": {
      "text/plain": [
       "no     247158\n",
       "yes     36053\n",
       "Name: repaired, dtype: int64"
      ]
     },
     "execution_count": 20,
     "metadata": {},
     "output_type": "execute_result"
    }
   ],
   "source": [
    "df['repaired'].value_counts()"
   ]
  },
  {
   "cell_type": "markdown",
   "id": "c1e6fd23",
   "metadata": {},
   "source": [
    "Пропуски монжо заполнить `unknown`"
   ]
  },
  {
   "cell_type": "code",
   "execution_count": 21,
   "id": "780a19a7",
   "metadata": {},
   "outputs": [],
   "source": [
    "df['repaired'] = df['repaired'].fillna('unknown')"
   ]
  },
  {
   "cell_type": "code",
   "execution_count": 22,
   "id": "fa97829b",
   "metadata": {
    "scrolled": true
   },
   "outputs": [
    {
     "data": {
      "text/plain": [
       "petrol      216349\n",
       "gasoline     98719\n",
       "lpg           5310\n",
       "cng            565\n",
       "hybrid         233\n",
       "other          204\n",
       "electric        90\n",
       "Name: fueltype, dtype: int64"
      ]
     },
     "execution_count": 22,
     "metadata": {},
     "output_type": "execute_result"
    }
   ],
   "source": [
    "df['fueltype'].value_counts()"
   ]
  },
  {
   "cell_type": "code",
   "execution_count": 23,
   "id": "920ae9fc",
   "metadata": {},
   "outputs": [
    {
     "data": {
      "text/plain": [
       "sedan          91457\n",
       "small          79830\n",
       "wagon          65165\n",
       "bus            28775\n",
       "convertible    20203\n",
       "coupe          16161\n",
       "suv            11996\n",
       "other           3288\n",
       "Name: vehicletype, dtype: int64"
      ]
     },
     "execution_count": 23,
     "metadata": {},
     "output_type": "execute_result"
    }
   ],
   "source": [
    "df['vehicletype'].value_counts()"
   ]
  },
  {
   "cell_type": "markdown",
   "id": "4ae0ec7b",
   "metadata": {},
   "source": [
    "Для заполнения пропусков в `FuelType` и `VehicleType` будем использовать данные из других строк с тем же значением, что и в столбце `Model`. Для заполнения напишем функцию, которая на вход будет принимать датафрейм, столбец с моделями машин и столбец, который нужно заполнить. "
   ]
  },
  {
   "cell_type": "code",
   "execution_count": 24,
   "id": "d982bb97",
   "metadata": {},
   "outputs": [],
   "source": [
    "def type_filling_func(dataframe, model_column, type_column):\n",
    "    model_list = list(dataframe[model_column].unique())\n",
    "    type_list = []\n",
    "    for i in model_list:\n",
    "        type_list.append(list(dataframe.loc[dataframe.loc[:,model_column] == i][type_column].mode())[0])\n",
    "    model_dict = dict(zip(model_list, type_list))\n",
    "        \n",
    "    for i in model_dict:\n",
    "        dataframe.loc[dataframe.loc[:,model_column] == i] = dataframe.loc[dataframe.loc[:,model_column] == i].fillna(model_dict[i])"
   ]
  },
  {
   "cell_type": "code",
   "execution_count": 25,
   "id": "7195fc19",
   "metadata": {},
   "outputs": [],
   "source": [
    "type_filling_func(df, 'model', 'vehicletype')\n",
    "type_filling_func(df, 'model', 'fueltype')"
   ]
  },
  {
   "cell_type": "code",
   "execution_count": 26,
   "id": "e3827b85",
   "metadata": {
    "scrolled": false
   },
   "outputs": [
    {
     "name": "stdout",
     "output_type": "stream",
     "text": [
      "<class 'pandas.core.frame.DataFrame'>\n",
      "Int64Index: 354365 entries, 0 to 354368\n",
      "Data columns (total 16 columns):\n",
      " #   Column             Non-Null Count   Dtype         \n",
      "---  ------             --------------   -----         \n",
      " 0   datecrawled        354365 non-null  datetime64[ns]\n",
      " 1   price              354365 non-null  int64         \n",
      " 2   vehicletype        354365 non-null  object        \n",
      " 3   registrationyear   354365 non-null  int64         \n",
      " 4   gearbox            354365 non-null  object        \n",
      " 5   power              354365 non-null  int64         \n",
      " 6   model              354365 non-null  object        \n",
      " 7   kilometer          354365 non-null  int64         \n",
      " 8   registrationmonth  354365 non-null  int64         \n",
      " 9   fueltype           354365 non-null  object        \n",
      " 10  brand              354365 non-null  object        \n",
      " 11  repaired           354365 non-null  object        \n",
      " 12  datecreated        354365 non-null  datetime64[ns]\n",
      " 13  numberofpictures   354365 non-null  int64         \n",
      " 14  postalcode         354365 non-null  int64         \n",
      " 15  lastseen           354365 non-null  datetime64[ns]\n",
      "dtypes: datetime64[ns](3), int64(7), object(6)\n",
      "memory usage: 46.0+ MB\n"
     ]
    }
   ],
   "source": [
    "df.info()"
   ]
  },
  {
   "cell_type": "code",
   "execution_count": 27,
   "id": "9232c310",
   "metadata": {
    "scrolled": false
   },
   "outputs": [
    {
     "data": {
      "text/html": [
       "<div>\n",
       "<style scoped>\n",
       "    .dataframe tbody tr th:only-of-type {\n",
       "        vertical-align: middle;\n",
       "    }\n",
       "\n",
       "    .dataframe tbody tr th {\n",
       "        vertical-align: top;\n",
       "    }\n",
       "\n",
       "    .dataframe thead th {\n",
       "        text-align: right;\n",
       "    }\n",
       "</style>\n",
       "<table border=\"1\" class=\"dataframe\">\n",
       "  <thead>\n",
       "    <tr style=\"text-align: right;\">\n",
       "      <th></th>\n",
       "      <th>datecrawled</th>\n",
       "      <th>price</th>\n",
       "      <th>vehicletype</th>\n",
       "      <th>registrationyear</th>\n",
       "      <th>gearbox</th>\n",
       "      <th>power</th>\n",
       "      <th>model</th>\n",
       "      <th>kilometer</th>\n",
       "      <th>registrationmonth</th>\n",
       "      <th>fueltype</th>\n",
       "      <th>brand</th>\n",
       "      <th>repaired</th>\n",
       "      <th>datecreated</th>\n",
       "      <th>numberofpictures</th>\n",
       "      <th>postalcode</th>\n",
       "      <th>lastseen</th>\n",
       "    </tr>\n",
       "  </thead>\n",
       "  <tbody>\n",
       "    <tr>\n",
       "      <th>0</th>\n",
       "      <td>2016-03-24 11:52:17</td>\n",
       "      <td>480</td>\n",
       "      <td>sedan</td>\n",
       "      <td>1993</td>\n",
       "      <td>manual</td>\n",
       "      <td>0</td>\n",
       "      <td>golf</td>\n",
       "      <td>150000</td>\n",
       "      <td>0</td>\n",
       "      <td>petrol</td>\n",
       "      <td>volkswagen</td>\n",
       "      <td>unknown</td>\n",
       "      <td>2016-03-24</td>\n",
       "      <td>0</td>\n",
       "      <td>70435</td>\n",
       "      <td>2016-04-07 03:16:57</td>\n",
       "    </tr>\n",
       "    <tr>\n",
       "      <th>1</th>\n",
       "      <td>2016-03-24 10:58:45</td>\n",
       "      <td>18300</td>\n",
       "      <td>coupe</td>\n",
       "      <td>2011</td>\n",
       "      <td>manual</td>\n",
       "      <td>190</td>\n",
       "      <td>other</td>\n",
       "      <td>125000</td>\n",
       "      <td>5</td>\n",
       "      <td>gasoline</td>\n",
       "      <td>audi</td>\n",
       "      <td>yes</td>\n",
       "      <td>2016-03-24</td>\n",
       "      <td>0</td>\n",
       "      <td>66954</td>\n",
       "      <td>2016-04-07 01:46:50</td>\n",
       "    </tr>\n",
       "    <tr>\n",
       "      <th>2</th>\n",
       "      <td>2016-03-14 12:52:21</td>\n",
       "      <td>9800</td>\n",
       "      <td>suv</td>\n",
       "      <td>2004</td>\n",
       "      <td>auto</td>\n",
       "      <td>163</td>\n",
       "      <td>grand</td>\n",
       "      <td>125000</td>\n",
       "      <td>8</td>\n",
       "      <td>gasoline</td>\n",
       "      <td>jeep</td>\n",
       "      <td>unknown</td>\n",
       "      <td>2016-03-14</td>\n",
       "      <td>0</td>\n",
       "      <td>90480</td>\n",
       "      <td>2016-04-05 12:47:46</td>\n",
       "    </tr>\n",
       "    <tr>\n",
       "      <th>3</th>\n",
       "      <td>2016-03-17 16:54:04</td>\n",
       "      <td>1500</td>\n",
       "      <td>small</td>\n",
       "      <td>2001</td>\n",
       "      <td>manual</td>\n",
       "      <td>75</td>\n",
       "      <td>golf</td>\n",
       "      <td>150000</td>\n",
       "      <td>6</td>\n",
       "      <td>petrol</td>\n",
       "      <td>volkswagen</td>\n",
       "      <td>no</td>\n",
       "      <td>2016-03-17</td>\n",
       "      <td>0</td>\n",
       "      <td>91074</td>\n",
       "      <td>2016-03-17 17:40:17</td>\n",
       "    </tr>\n",
       "    <tr>\n",
       "      <th>4</th>\n",
       "      <td>2016-03-31 17:25:20</td>\n",
       "      <td>3600</td>\n",
       "      <td>small</td>\n",
       "      <td>2008</td>\n",
       "      <td>manual</td>\n",
       "      <td>69</td>\n",
       "      <td>fabia</td>\n",
       "      <td>90000</td>\n",
       "      <td>7</td>\n",
       "      <td>gasoline</td>\n",
       "      <td>skoda</td>\n",
       "      <td>no</td>\n",
       "      <td>2016-03-31</td>\n",
       "      <td>0</td>\n",
       "      <td>60437</td>\n",
       "      <td>2016-04-06 10:17:21</td>\n",
       "    </tr>\n",
       "    <tr>\n",
       "      <th>5</th>\n",
       "      <td>2016-04-04 17:36:23</td>\n",
       "      <td>650</td>\n",
       "      <td>sedan</td>\n",
       "      <td>1995</td>\n",
       "      <td>manual</td>\n",
       "      <td>102</td>\n",
       "      <td>3er</td>\n",
       "      <td>150000</td>\n",
       "      <td>10</td>\n",
       "      <td>petrol</td>\n",
       "      <td>bmw</td>\n",
       "      <td>yes</td>\n",
       "      <td>2016-04-04</td>\n",
       "      <td>0</td>\n",
       "      <td>33775</td>\n",
       "      <td>2016-04-06 19:17:07</td>\n",
       "    </tr>\n",
       "    <tr>\n",
       "      <th>6</th>\n",
       "      <td>2016-04-01 20:48:51</td>\n",
       "      <td>2200</td>\n",
       "      <td>convertible</td>\n",
       "      <td>2004</td>\n",
       "      <td>manual</td>\n",
       "      <td>109</td>\n",
       "      <td>2_reihe</td>\n",
       "      <td>150000</td>\n",
       "      <td>8</td>\n",
       "      <td>petrol</td>\n",
       "      <td>peugeot</td>\n",
       "      <td>no</td>\n",
       "      <td>2016-04-01</td>\n",
       "      <td>0</td>\n",
       "      <td>67112</td>\n",
       "      <td>2016-04-05 18:18:39</td>\n",
       "    </tr>\n",
       "    <tr>\n",
       "      <th>7</th>\n",
       "      <td>2016-03-21 18:54:38</td>\n",
       "      <td>0</td>\n",
       "      <td>sedan</td>\n",
       "      <td>1980</td>\n",
       "      <td>manual</td>\n",
       "      <td>50</td>\n",
       "      <td>other</td>\n",
       "      <td>40000</td>\n",
       "      <td>7</td>\n",
       "      <td>petrol</td>\n",
       "      <td>volkswagen</td>\n",
       "      <td>no</td>\n",
       "      <td>2016-03-21</td>\n",
       "      <td>0</td>\n",
       "      <td>19348</td>\n",
       "      <td>2016-03-25 16:47:58</td>\n",
       "    </tr>\n",
       "    <tr>\n",
       "      <th>8</th>\n",
       "      <td>2016-04-04 23:42:13</td>\n",
       "      <td>14500</td>\n",
       "      <td>bus</td>\n",
       "      <td>2014</td>\n",
       "      <td>manual</td>\n",
       "      <td>125</td>\n",
       "      <td>c_max</td>\n",
       "      <td>30000</td>\n",
       "      <td>8</td>\n",
       "      <td>petrol</td>\n",
       "      <td>ford</td>\n",
       "      <td>unknown</td>\n",
       "      <td>2016-04-04</td>\n",
       "      <td>0</td>\n",
       "      <td>94505</td>\n",
       "      <td>2016-04-04 23:42:13</td>\n",
       "    </tr>\n",
       "    <tr>\n",
       "      <th>9</th>\n",
       "      <td>2016-03-17 10:53:50</td>\n",
       "      <td>999</td>\n",
       "      <td>small</td>\n",
       "      <td>1998</td>\n",
       "      <td>manual</td>\n",
       "      <td>101</td>\n",
       "      <td>golf</td>\n",
       "      <td>150000</td>\n",
       "      <td>0</td>\n",
       "      <td>sedan</td>\n",
       "      <td>volkswagen</td>\n",
       "      <td>unknown</td>\n",
       "      <td>2016-03-17</td>\n",
       "      <td>0</td>\n",
       "      <td>27472</td>\n",
       "      <td>2016-03-31 17:17:06</td>\n",
       "    </tr>\n",
       "  </tbody>\n",
       "</table>\n",
       "</div>"
      ],
      "text/plain": [
       "          datecrawled  price  vehicletype  registrationyear gearbox  power  \\\n",
       "0 2016-03-24 11:52:17    480        sedan              1993  manual      0   \n",
       "1 2016-03-24 10:58:45  18300        coupe              2011  manual    190   \n",
       "2 2016-03-14 12:52:21   9800          suv              2004    auto    163   \n",
       "3 2016-03-17 16:54:04   1500        small              2001  manual     75   \n",
       "4 2016-03-31 17:25:20   3600        small              2008  manual     69   \n",
       "5 2016-04-04 17:36:23    650        sedan              1995  manual    102   \n",
       "6 2016-04-01 20:48:51   2200  convertible              2004  manual    109   \n",
       "7 2016-03-21 18:54:38      0        sedan              1980  manual     50   \n",
       "8 2016-04-04 23:42:13  14500          bus              2014  manual    125   \n",
       "9 2016-03-17 10:53:50    999        small              1998  manual    101   \n",
       "\n",
       "     model  kilometer  registrationmonth  fueltype       brand repaired  \\\n",
       "0     golf     150000                  0    petrol  volkswagen  unknown   \n",
       "1    other     125000                  5  gasoline        audi      yes   \n",
       "2    grand     125000                  8  gasoline        jeep  unknown   \n",
       "3     golf     150000                  6    petrol  volkswagen       no   \n",
       "4    fabia      90000                  7  gasoline       skoda       no   \n",
       "5      3er     150000                 10    petrol         bmw      yes   \n",
       "6  2_reihe     150000                  8    petrol     peugeot       no   \n",
       "7    other      40000                  7    petrol  volkswagen       no   \n",
       "8    c_max      30000                  8    petrol        ford  unknown   \n",
       "9     golf     150000                  0     sedan  volkswagen  unknown   \n",
       "\n",
       "  datecreated  numberofpictures  postalcode            lastseen  \n",
       "0  2016-03-24                 0       70435 2016-04-07 03:16:57  \n",
       "1  2016-03-24                 0       66954 2016-04-07 01:46:50  \n",
       "2  2016-03-14                 0       90480 2016-04-05 12:47:46  \n",
       "3  2016-03-17                 0       91074 2016-03-17 17:40:17  \n",
       "4  2016-03-31                 0       60437 2016-04-06 10:17:21  \n",
       "5  2016-04-04                 0       33775 2016-04-06 19:17:07  \n",
       "6  2016-04-01                 0       67112 2016-04-05 18:18:39  \n",
       "7  2016-03-21                 0       19348 2016-03-25 16:47:58  \n",
       "8  2016-04-04                 0       94505 2016-04-04 23:42:13  \n",
       "9  2016-03-17                 0       27472 2016-03-31 17:17:06  "
      ]
     },
     "execution_count": 27,
     "metadata": {},
     "output_type": "execute_result"
    }
   ],
   "source": [
    "df.head(10)"
   ]
  },
  {
   "cell_type": "markdown",
   "id": "0fd45578",
   "metadata": {},
   "source": [
    "Построим дмаграммы для визуализации данных с данными типа `int64`."
   ]
  },
  {
   "cell_type": "code",
   "execution_count": 28,
   "id": "5b002dfa",
   "metadata": {},
   "outputs": [],
   "source": [
    "numeric = []\n",
    "for i in df.columns:\n",
    "    if df[i].dtypes == 'int64':\n",
    "        numeric.append(i)"
   ]
  },
  {
   "cell_type": "code",
   "execution_count": 29,
   "id": "72cce981",
   "metadata": {
    "scrolled": true
   },
   "outputs": [
    {
     "name": "stdout",
     "output_type": "stream",
     "text": [
      "['price', 'registrationyear', 'power', 'kilometer', 'registrationmonth', 'numberofpictures', 'postalcode']\n"
     ]
    }
   ],
   "source": [
    "print(numeric)"
   ]
  },
  {
   "cell_type": "code",
   "execution_count": 30,
   "id": "a5828543",
   "metadata": {},
   "outputs": [
    {
     "name": "stderr",
     "output_type": "stream",
     "text": [
      "/opt/conda/lib/python3.9/site-packages/seaborn/_core.py:1312: UserWarning: Horizontal orientation ignored with only `y` specified.\n",
      "  warnings.warn(single_var_warning.format(\"Horizontal\", \"y\"))\n",
      "/opt/conda/lib/python3.9/site-packages/seaborn/_core.py:1312: UserWarning: Horizontal orientation ignored with only `y` specified.\n",
      "  warnings.warn(single_var_warning.format(\"Horizontal\", \"y\"))\n",
      "/opt/conda/lib/python3.9/site-packages/seaborn/_core.py:1312: UserWarning: Horizontal orientation ignored with only `y` specified.\n",
      "  warnings.warn(single_var_warning.format(\"Horizontal\", \"y\"))\n",
      "/opt/conda/lib/python3.9/site-packages/seaborn/_core.py:1312: UserWarning: Horizontal orientation ignored with only `y` specified.\n",
      "  warnings.warn(single_var_warning.format(\"Horizontal\", \"y\"))\n",
      "/opt/conda/lib/python3.9/site-packages/seaborn/_core.py:1312: UserWarning: Horizontal orientation ignored with only `y` specified.\n",
      "  warnings.warn(single_var_warning.format(\"Horizontal\", \"y\"))\n",
      "/opt/conda/lib/python3.9/site-packages/seaborn/_core.py:1312: UserWarning: Horizontal orientation ignored with only `y` specified.\n",
      "  warnings.warn(single_var_warning.format(\"Horizontal\", \"y\"))\n",
      "/opt/conda/lib/python3.9/site-packages/seaborn/_core.py:1312: UserWarning: Horizontal orientation ignored with only `y` specified.\n",
      "  warnings.warn(single_var_warning.format(\"Horizontal\", \"y\"))\n"
     ]
    },
    {
     "data": {
      "image/png": "[encoded data removed]",
      "text/plain": [
       "<Figure size 1080x288 with 1 Axes>"
      ]
     },
     "metadata": {
      "needs_background": "light"
     },
     "output_type": "display_data"
    },
    {
     "data": {
      "image/png": "[encoded data removed]",
      "text/plain": [
       "<Figure size 1080x288 with 1 Axes>"
      ]
     },
     "metadata": {
      "needs_background": "light"
     },
     "output_type": "display_data"
    },
    {
     "data": {
      "image/png": "[encoded data removed]",
      "text/plain": [
       "<Figure size 1080x288 with 1 Axes>"
      ]
     },
     "metadata": {
      "needs_background": "light"
     },
     "output_type": "display_data"
    },
    {
     "data": {
      "image/png": "[encoded data removed]",
      "text/plain": [
       "<Figure size 1080x288 with 1 Axes>"
      ]
     },
     "metadata": {
      "needs_background": "light"
     },
     "output_type": "display_data"
    },
    {
     "data": {
      "image/png": "[encoded data removed]",
      "text/plain": [
       "<Figure size 1080x288 with 1 Axes>"
      ]
     },
     "metadata": {
      "needs_background": "light"
     },
     "output_type": "display_data"
    },
    {
     "data": {
      "image/png": "[encoded data removed]",
      "text/plain": [
       "<Figure size 1080x288 with 1 Axes>"
      ]
     },
     "metadata": {
      "needs_background": "light"
     },
     "output_type": "display_data"
    },
    {
     "data": {
      "image/png": "[encoded data removed]",
      "text/plain": [
       "<Figure size 1080x288 with 1 Axes>"
      ]
     },
     "metadata": {
      "needs_background": "light"
     },
     "output_type": "display_data"
    }
   ],
   "source": [
    "for i in numeric:\n",
    "    plt.figure(figsize=(15, 4))\n",
    "    sns.boxplot(y=i, data=df, orient=\"h\")"
   ]
  },
  {
   "cell_type": "markdown",
   "id": "ddcf2605",
   "metadata": {},
   "source": [
    "Построим также гистограммы типа `int64`"
   ]
  },
  {
   "cell_type": "code",
   "execution_count": 31,
   "id": "ed628814",
   "metadata": {},
   "outputs": [
    {
     "name": "stderr",
     "output_type": "stream",
     "text": [
      "/opt/conda/lib/python3.9/site-packages/seaborn/distributions.py:2557: FutureWarning: `distplot` is a deprecated function and will be removed in a future version. Please adapt your code to use either `displot` (a figure-level function with similar flexibility) or `histplot` (an axes-level function for histograms).\n",
      "  warnings.warn(msg, FutureWarning)\n"
     ]
    },
    {
     "data": {
      "image/png": "[encoded data removed]",
      "text/plain": [
       "<Figure size 1080x288 with 1 Axes>"
      ]
     },
     "metadata": {
      "needs_background": "light"
     },
     "output_type": "display_data"
    },
    {
     "data": {
      "image/png": "[encoded data removed]",
      "text/plain": [
       "<Figure size 1080x288 with 1 Axes>"
      ]
     },
     "metadata": {
      "needs_background": "light"
     },
     "output_type": "display_data"
    },
    {
     "data": {
      "image/png": "[encoded data removed]",
      "text/plain": [
       "<Figure size 1080x288 with 1 Axes>"
      ]
     },
     "metadata": {
      "needs_background": "light"
     },
     "output_type": "display_data"
    },
    {
     "data": {
      "image/png": "[encoded data removed]",
      "text/plain": [
       "<Figure size 1080x288 with 1 Axes>"
      ]
     },
     "metadata": {
      "needs_background": "light"
     },
     "output_type": "display_data"
    },
    {
     "data": {
      "image/png": "[encoded data removed]",
      "text/plain": [
       "<Figure size 1080x288 with 1 Axes>"
      ]
     },
     "metadata": {
      "needs_background": "light"
     },
     "output_type": "display_data"
    },
    {
     "data": {
      "image/png": "[encoded data removed]",
      "text/plain": [
       "<Figure size 1080x288 with 1 Axes>"
      ]
     },
     "metadata": {
      "needs_background": "light"
     },
     "output_type": "display_data"
    },
    {
     "data": {
      "image/png": "[encoded data removed]",
      "text/plain": [
       "<Figure size 1080x288 with 1 Axes>"
      ]
     },
     "metadata": {
      "needs_background": "light"
     },
     "output_type": "display_data"
    }
   ],
   "source": [
    "for i in numeric:\n",
    "    plt.figure(figsize=(15, 4))\n",
    "    sns.distplot(df[i], kde=False, bins=100)"
   ]
  },
  {
   "cell_type": "markdown",
   "id": "5b9a1aeb",
   "metadata": {},
   "source": [
    "Рассмотрим интересующие нас столбцы."
   ]
  },
  {
   "cell_type": "code",
   "execution_count": 32,
   "id": "c92acf00",
   "metadata": {},
   "outputs": [
    {
     "data": {
      "text/plain": [
       "[1000,\n",
       " 1001,\n",
       " 1039,\n",
       " 1111,\n",
       " 1200,\n",
       " 1234,\n",
       " 1253,\n",
       " 1255,\n",
       " 1300,\n",
       " 1400,\n",
       " 1500,\n",
       " 1600,\n",
       " 1602,\n",
       " 1688,\n",
       " 1800,\n",
       " 1910,\n",
       " 1915,\n",
       " 1919,\n",
       " 1920,\n",
       " 1923,\n",
       " 1925,\n",
       " 1927,\n",
       " 1928,\n",
       " 1929,\n",
       " 1930,\n",
       " 1931,\n",
       " 1932,\n",
       " 1933,\n",
       " 1934,\n",
       " 1935,\n",
       " 1936,\n",
       " 1937,\n",
       " 1938,\n",
       " 1940,\n",
       " 1941,\n",
       " 1942,\n",
       " 1943,\n",
       " 1944,\n",
       " 1945,\n",
       " 1946,\n",
       " 1947,\n",
       " 1948,\n",
       " 1949,\n",
       " 1950,\n",
       " 1951,\n",
       " 1952,\n",
       " 1953,\n",
       " 1954,\n",
       " 1955,\n",
       " 1956,\n",
       " 1957,\n",
       " 1958,\n",
       " 1959,\n",
       " 1960,\n",
       " 1961,\n",
       " 1962,\n",
       " 1963,\n",
       " 1964,\n",
       " 1965,\n",
       " 1966,\n",
       " 1967,\n",
       " 1968,\n",
       " 1969,\n",
       " 1970,\n",
       " 1971,\n",
       " 1972,\n",
       " 1973,\n",
       " 1974,\n",
       " 1975,\n",
       " 1976,\n",
       " 1977,\n",
       " 1978,\n",
       " 1979,\n",
       " 1980,\n",
       " 1981,\n",
       " 1982,\n",
       " 1983,\n",
       " 1984,\n",
       " 1985,\n",
       " 1986,\n",
       " 1987,\n",
       " 1988,\n",
       " 1989,\n",
       " 1990,\n",
       " 1991,\n",
       " 1992,\n",
       " 1993,\n",
       " 1994,\n",
       " 1995,\n",
       " 1996,\n",
       " 1997,\n",
       " 1998,\n",
       " 1999,\n",
       " 2000,\n",
       " 2001,\n",
       " 2002,\n",
       " 2003,\n",
       " 2004,\n",
       " 2005,\n",
       " 2006,\n",
       " 2007,\n",
       " 2008,\n",
       " 2009,\n",
       " 2010,\n",
       " 2011,\n",
       " 2012,\n",
       " 2013,\n",
       " 2014,\n",
       " 2015,\n",
       " 2016,\n",
       " 2017,\n",
       " 2018,\n",
       " 2019,\n",
       " 2066,\n",
       " 2200,\n",
       " 2222,\n",
       " 2290,\n",
       " 2500,\n",
       " 2800,\n",
       " 2900,\n",
       " 3000,\n",
       " 3200,\n",
       " 3500,\n",
       " 3700,\n",
       " 3800,\n",
       " 4000,\n",
       " 4100,\n",
       " 4500,\n",
       " 4800,\n",
       " 5000,\n",
       " 5300,\n",
       " 5555,\n",
       " 5600,\n",
       " 5900,\n",
       " 5911,\n",
       " 6000,\n",
       " 6500,\n",
       " 7000,\n",
       " 7100,\n",
       " 7500,\n",
       " 7800,\n",
       " 8000,\n",
       " 8200,\n",
       " 8455,\n",
       " 8500,\n",
       " 8888,\n",
       " 9000,\n",
       " 9229,\n",
       " 9450,\n",
       " 9996,\n",
       " 9999]"
      ]
     },
     "execution_count": 32,
     "metadata": {},
     "output_type": "execute_result"
    }
   ],
   "source": [
    "sorted(df['registrationyear'].unique())"
   ]
  },
  {
   "cell_type": "code",
   "execution_count": 33,
   "id": "8de4f1e6",
   "metadata": {},
   "outputs": [
    {
     "data": {
      "text/plain": [
       "count    354365.000000\n",
       "mean        110.093816\n",
       "std         189.851330\n",
       "min           0.000000\n",
       "25%          69.000000\n",
       "50%         105.000000\n",
       "75%         143.000000\n",
       "max       20000.000000\n",
       "Name: power, dtype: float64"
      ]
     },
     "execution_count": 33,
     "metadata": {},
     "output_type": "execute_result"
    }
   ],
   "source": [
    "df['power'].describe()"
   ]
  },
  {
   "cell_type": "code",
   "execution_count": 34,
   "id": "83bbb794",
   "metadata": {},
   "outputs": [
    {
     "data": {
      "text/plain": [
       "count    354365.000000\n",
       "mean       4416.679830\n",
       "std        4514.176349\n",
       "min           0.000000\n",
       "25%        1050.000000\n",
       "50%        2700.000000\n",
       "75%        6400.000000\n",
       "max       20000.000000\n",
       "Name: price, dtype: float64"
      ]
     },
     "execution_count": 34,
     "metadata": {},
     "output_type": "execute_result"
    }
   ],
   "source": [
    "df['price'].describe()"
   ]
  },
  {
   "cell_type": "markdown",
   "id": "4f531e3c",
   "metadata": {},
   "source": [
    "Из вышеприведённых данных видно, что имеются аномальные значения в столбцах `power`, `registrationyear`, `power`. К примеру имеются нулевыее и близкие к нулю значеия в столбцах `power`, `price`, в столбце `registrationyear` имеются вообще аномальные значения."
   ]
  },
  {
   "cell_type": "markdown",
   "id": "b51f2514",
   "metadata": {},
   "source": [
    "Найдём верхнюю границу выпуска автомобиля путём определения в столбце максимального значения."
   ]
  },
  {
   "cell_type": "code",
   "execution_count": 35,
   "id": "214ef279",
   "metadata": {},
   "outputs": [
    {
     "name": "stdout",
     "output_type": "stream",
     "text": [
      "2016-04-07 00:00:00\n"
     ]
    }
   ],
   "source": [
    "print(df['datecreated'].max())"
   ]
  },
  {
   "cell_type": "code",
   "execution_count": 36,
   "id": "d276c363",
   "metadata": {},
   "outputs": [
    {
     "name": "stdout",
     "output_type": "stream",
     "text": [
      "2016\n"
     ]
    }
   ],
   "source": [
    "print(df['datecreated'].dt.year.max())"
   ]
  },
  {
   "cell_type": "markdown",
   "id": "f87e51f9",
   "metadata": {},
   "source": [
    "Удалим аномальные значения. Ограничим выборку между 1960 годом и 2016. Мощноть двигателей ограничим от 10 до 1000 лошадиных сил, Минимальная цена - 100 евро."
   ]
  },
  {
   "cell_type": "code",
   "execution_count": 37,
   "id": "e09dd962",
   "metadata": {},
   "outputs": [],
   "source": [
    "df = df.loc[(df['registrationyear'] < df['datecreated'].dt.year.max()) &\n",
    "                (df['registrationyear'] > 1960) &\n",
    "                (df['power'] < 1000) &\n",
    "                (df['power'] > 10) &\n",
    "                (df['price'] > 100)\n",
    "               ]"
   ]
  },
  {
   "cell_type": "markdown",
   "id": "bec3df60",
   "metadata": {},
   "source": [
    "Удалим ненужные столбцы для обучения моделей"
   ]
  },
  {
   "cell_type": "code",
   "execution_count": 38,
   "id": "02682d4a",
   "metadata": {},
   "outputs": [],
   "source": [
    "df.drop(['datecrawled', 'datecreated', 'numberofpictures', 'postalcode', 'lastseen'], axis='columns', inplace=True)"
   ]
  },
  {
   "cell_type": "code",
   "execution_count": 39,
   "id": "99efda02",
   "metadata": {},
   "outputs": [
    {
     "name": "stdout",
     "output_type": "stream",
     "text": [
      "<class 'pandas.core.frame.DataFrame'>\n",
      "Int64Index: 288170 entries, 1 to 354368\n",
      "Data columns (total 11 columns):\n",
      " #   Column             Non-Null Count   Dtype \n",
      "---  ------             --------------   ----- \n",
      " 0   price              288170 non-null  int64 \n",
      " 1   vehicletype        288170 non-null  object\n",
      " 2   registrationyear   288170 non-null  int64 \n",
      " 3   gearbox            288170 non-null  object\n",
      " 4   power              288170 non-null  int64 \n",
      " 5   model              288170 non-null  object\n",
      " 6   kilometer          288170 non-null  int64 \n",
      " 7   registrationmonth  288170 non-null  int64 \n",
      " 8   fueltype           288170 non-null  object\n",
      " 9   brand              288170 non-null  object\n",
      " 10  repaired           288170 non-null  object\n",
      "dtypes: int64(5), object(6)\n",
      "memory usage: 26.4+ MB\n"
     ]
    }
   ],
   "source": [
    "df.info()"
   ]
  },
  {
   "cell_type": "code",
   "execution_count": 40,
   "id": "d6138763",
   "metadata": {},
   "outputs": [
    {
     "data": {
      "text/html": [
       "<div>\n",
       "<style scoped>\n",
       "    .dataframe tbody tr th:only-of-type {\n",
       "        vertical-align: middle;\n",
       "    }\n",
       "\n",
       "    .dataframe tbody tr th {\n",
       "        vertical-align: top;\n",
       "    }\n",
       "\n",
       "    .dataframe thead th {\n",
       "        text-align: right;\n",
       "    }\n",
       "</style>\n",
       "<table border=\"1\" class=\"dataframe\">\n",
       "  <thead>\n",
       "    <tr style=\"text-align: right;\">\n",
       "      <th></th>\n",
       "      <th>price</th>\n",
       "      <th>vehicletype</th>\n",
       "      <th>registrationyear</th>\n",
       "      <th>gearbox</th>\n",
       "      <th>power</th>\n",
       "      <th>model</th>\n",
       "      <th>kilometer</th>\n",
       "      <th>registrationmonth</th>\n",
       "      <th>fueltype</th>\n",
       "      <th>brand</th>\n",
       "      <th>repaired</th>\n",
       "    </tr>\n",
       "  </thead>\n",
       "  <tbody>\n",
       "    <tr>\n",
       "      <th>1</th>\n",
       "      <td>18300</td>\n",
       "      <td>coupe</td>\n",
       "      <td>2011</td>\n",
       "      <td>manual</td>\n",
       "      <td>190</td>\n",
       "      <td>other</td>\n",
       "      <td>125000</td>\n",
       "      <td>5</td>\n",
       "      <td>gasoline</td>\n",
       "      <td>audi</td>\n",
       "      <td>yes</td>\n",
       "    </tr>\n",
       "    <tr>\n",
       "      <th>2</th>\n",
       "      <td>9800</td>\n",
       "      <td>suv</td>\n",
       "      <td>2004</td>\n",
       "      <td>auto</td>\n",
       "      <td>163</td>\n",
       "      <td>grand</td>\n",
       "      <td>125000</td>\n",
       "      <td>8</td>\n",
       "      <td>gasoline</td>\n",
       "      <td>jeep</td>\n",
       "      <td>unknown</td>\n",
       "    </tr>\n",
       "    <tr>\n",
       "      <th>3</th>\n",
       "      <td>1500</td>\n",
       "      <td>small</td>\n",
       "      <td>2001</td>\n",
       "      <td>manual</td>\n",
       "      <td>75</td>\n",
       "      <td>golf</td>\n",
       "      <td>150000</td>\n",
       "      <td>6</td>\n",
       "      <td>petrol</td>\n",
       "      <td>volkswagen</td>\n",
       "      <td>no</td>\n",
       "    </tr>\n",
       "    <tr>\n",
       "      <th>4</th>\n",
       "      <td>3600</td>\n",
       "      <td>small</td>\n",
       "      <td>2008</td>\n",
       "      <td>manual</td>\n",
       "      <td>69</td>\n",
       "      <td>fabia</td>\n",
       "      <td>90000</td>\n",
       "      <td>7</td>\n",
       "      <td>gasoline</td>\n",
       "      <td>skoda</td>\n",
       "      <td>no</td>\n",
       "    </tr>\n",
       "    <tr>\n",
       "      <th>5</th>\n",
       "      <td>650</td>\n",
       "      <td>sedan</td>\n",
       "      <td>1995</td>\n",
       "      <td>manual</td>\n",
       "      <td>102</td>\n",
       "      <td>3er</td>\n",
       "      <td>150000</td>\n",
       "      <td>10</td>\n",
       "      <td>petrol</td>\n",
       "      <td>bmw</td>\n",
       "      <td>yes</td>\n",
       "    </tr>\n",
       "    <tr>\n",
       "      <th>...</th>\n",
       "      <td>...</td>\n",
       "      <td>...</td>\n",
       "      <td>...</td>\n",
       "      <td>...</td>\n",
       "      <td>...</td>\n",
       "      <td>...</td>\n",
       "      <td>...</td>\n",
       "      <td>...</td>\n",
       "      <td>...</td>\n",
       "      <td>...</td>\n",
       "      <td>...</td>\n",
       "    </tr>\n",
       "    <tr>\n",
       "      <th>354359</th>\n",
       "      <td>7900</td>\n",
       "      <td>sedan</td>\n",
       "      <td>2010</td>\n",
       "      <td>manual</td>\n",
       "      <td>140</td>\n",
       "      <td>golf</td>\n",
       "      <td>150000</td>\n",
       "      <td>7</td>\n",
       "      <td>gasoline</td>\n",
       "      <td>volkswagen</td>\n",
       "      <td>no</td>\n",
       "    </tr>\n",
       "    <tr>\n",
       "      <th>354362</th>\n",
       "      <td>3200</td>\n",
       "      <td>sedan</td>\n",
       "      <td>2004</td>\n",
       "      <td>manual</td>\n",
       "      <td>225</td>\n",
       "      <td>leon</td>\n",
       "      <td>150000</td>\n",
       "      <td>5</td>\n",
       "      <td>petrol</td>\n",
       "      <td>seat</td>\n",
       "      <td>yes</td>\n",
       "    </tr>\n",
       "    <tr>\n",
       "      <th>354366</th>\n",
       "      <td>1199</td>\n",
       "      <td>convertible</td>\n",
       "      <td>2000</td>\n",
       "      <td>auto</td>\n",
       "      <td>101</td>\n",
       "      <td>fortwo</td>\n",
       "      <td>125000</td>\n",
       "      <td>3</td>\n",
       "      <td>petrol</td>\n",
       "      <td>smart</td>\n",
       "      <td>no</td>\n",
       "    </tr>\n",
       "    <tr>\n",
       "      <th>354367</th>\n",
       "      <td>9200</td>\n",
       "      <td>bus</td>\n",
       "      <td>1996</td>\n",
       "      <td>manual</td>\n",
       "      <td>102</td>\n",
       "      <td>transporter</td>\n",
       "      <td>150000</td>\n",
       "      <td>3</td>\n",
       "      <td>gasoline</td>\n",
       "      <td>volkswagen</td>\n",
       "      <td>no</td>\n",
       "    </tr>\n",
       "    <tr>\n",
       "      <th>354368</th>\n",
       "      <td>3400</td>\n",
       "      <td>wagon</td>\n",
       "      <td>2002</td>\n",
       "      <td>manual</td>\n",
       "      <td>100</td>\n",
       "      <td>golf</td>\n",
       "      <td>150000</td>\n",
       "      <td>6</td>\n",
       "      <td>gasoline</td>\n",
       "      <td>volkswagen</td>\n",
       "      <td>unknown</td>\n",
       "    </tr>\n",
       "  </tbody>\n",
       "</table>\n",
       "<p>288170 rows × 11 columns</p>\n",
       "</div>"
      ],
      "text/plain": [
       "        price  vehicletype  registrationyear gearbox  power        model  \\\n",
       "1       18300        coupe              2011  manual    190        other   \n",
       "2        9800          suv              2004    auto    163        grand   \n",
       "3        1500        small              2001  manual     75         golf   \n",
       "4        3600        small              2008  manual     69        fabia   \n",
       "5         650        sedan              1995  manual    102          3er   \n",
       "...       ...          ...               ...     ...    ...          ...   \n",
       "354359   7900        sedan              2010  manual    140         golf   \n",
       "354362   3200        sedan              2004  manual    225         leon   \n",
       "354366   1199  convertible              2000    auto    101       fortwo   \n",
       "354367   9200          bus              1996  manual    102  transporter   \n",
       "354368   3400        wagon              2002  manual    100         golf   \n",
       "\n",
       "        kilometer  registrationmonth  fueltype       brand repaired  \n",
       "1          125000                  5  gasoline        audi      yes  \n",
       "2          125000                  8  gasoline        jeep  unknown  \n",
       "3          150000                  6    petrol  volkswagen       no  \n",
       "4           90000                  7  gasoline       skoda       no  \n",
       "5          150000                 10    petrol         bmw      yes  \n",
       "...           ...                ...       ...         ...      ...  \n",
       "354359     150000                  7  gasoline  volkswagen       no  \n",
       "354362     150000                  5    petrol        seat      yes  \n",
       "354366     125000                  3    petrol       smart       no  \n",
       "354367     150000                  3  gasoline  volkswagen       no  \n",
       "354368     150000                  6  gasoline  volkswagen  unknown  \n",
       "\n",
       "[288170 rows x 11 columns]"
      ]
     },
     "metadata": {},
     "output_type": "display_data"
    }
   ],
   "source": [
    "display(df)"
   ]
  },
  {
   "cell_type": "markdown",
   "id": "5fcab960",
   "metadata": {},
   "source": [
    "**Вывод:**\n",
    "\n",
    "Мы выгрузили даннные и подговоили их для обучения моделей.\n",
    "\n",
    "Были пропуски в столбцах `vehicletype`, `Gearbox`, `model`, `fuelType` и `repaired`, а также некорректный тип данных в `datecrawled`, `datecreated` и `lastseen`.\n",
    "\n",
    "* В `gearbox` и `repaired` пропуски заполнили `unknown`.\n",
    "* В `model` заполнили пропуски `other`\n",
    "* Для заполнения пропусков в `fueltype` и `vehicletype` использовали данные из других строк с тем же значением, что и в столбце `model`.\n",
    "* Удалили ненужные столбцы для обучения моделей `datecrawled`, `datecreated`, `numberofpictures`, `postalcode`, `lastseen`."
   ]
  },
  {
   "cell_type": "markdown",
   "id": "c318b8e0",
   "metadata": {},
   "source": [
    "# 2. Обучение моделей"
   ]
  },
  {
   "cell_type": "markdown",
   "id": "2cafaf67",
   "metadata": {},
   "source": [
    "Мы будем обучать модели ориентируясь на метрику RMSE. В качестве моделей мы буем использовать случйный лес, линейную регрессию, LGBMRegressor и CatboostRegressor. Закодируем категориальные признаки."
   ]
  },
  {
   "cell_type": "code",
   "execution_count": 41,
   "id": "1d2e23db",
   "metadata": {},
   "outputs": [],
   "source": [
    "#data_ohe = pd.get_dummies(df, drop_first=True)\n",
    "#del df"
   ]
  },
  {
   "cell_type": "code",
   "execution_count": 42,
   "id": "3655b11f",
   "metadata": {
    "scrolled": true
   },
   "outputs": [
    {
     "name": "stdout",
     "output_type": "stream",
     "text": [
      "<class 'pandas.core.frame.DataFrame'>\n",
      "Int64Index: 288170 entries, 1 to 354368\n",
      "Data columns (total 11 columns):\n",
      " #   Column             Non-Null Count   Dtype \n",
      "---  ------             --------------   ----- \n",
      " 0   price              288170 non-null  int64 \n",
      " 1   vehicletype        288170 non-null  object\n",
      " 2   registrationyear   288170 non-null  int64 \n",
      " 3   gearbox            288170 non-null  object\n",
      " 4   power              288170 non-null  int64 \n",
      " 5   model              288170 non-null  object\n",
      " 6   kilometer          288170 non-null  int64 \n",
      " 7   registrationmonth  288170 non-null  int64 \n",
      " 8   fueltype           288170 non-null  object\n",
      " 9   brand              288170 non-null  object\n",
      " 10  repaired           288170 non-null  object\n",
      "dtypes: int64(5), object(6)\n",
      "memory usage: 26.4+ MB\n"
     ]
    }
   ],
   "source": [
    "df.info()"
   ]
  },
  {
   "cell_type": "code",
   "execution_count": 43,
   "id": "209b12b8",
   "metadata": {},
   "outputs": [
    {
     "data": {
      "text/html": [
       "<div>\n",
       "<style scoped>\n",
       "    .dataframe tbody tr th:only-of-type {\n",
       "        vertical-align: middle;\n",
       "    }\n",
       "\n",
       "    .dataframe tbody tr th {\n",
       "        vertical-align: top;\n",
       "    }\n",
       "\n",
       "    .dataframe thead th {\n",
       "        text-align: right;\n",
       "    }\n",
       "</style>\n",
       "<table border=\"1\" class=\"dataframe\">\n",
       "  <thead>\n",
       "    <tr style=\"text-align: right;\">\n",
       "      <th></th>\n",
       "      <th>price</th>\n",
       "      <th>vehicletype</th>\n",
       "      <th>registrationyear</th>\n",
       "      <th>gearbox</th>\n",
       "      <th>power</th>\n",
       "      <th>model</th>\n",
       "      <th>kilometer</th>\n",
       "      <th>registrationmonth</th>\n",
       "      <th>fueltype</th>\n",
       "      <th>brand</th>\n",
       "      <th>repaired</th>\n",
       "    </tr>\n",
       "  </thead>\n",
       "  <tbody>\n",
       "    <tr>\n",
       "      <th>1</th>\n",
       "      <td>18300</td>\n",
       "      <td>coupe</td>\n",
       "      <td>2011</td>\n",
       "      <td>manual</td>\n",
       "      <td>190</td>\n",
       "      <td>other</td>\n",
       "      <td>125000</td>\n",
       "      <td>5</td>\n",
       "      <td>gasoline</td>\n",
       "      <td>audi</td>\n",
       "      <td>yes</td>\n",
       "    </tr>\n",
       "    <tr>\n",
       "      <th>2</th>\n",
       "      <td>9800</td>\n",
       "      <td>suv</td>\n",
       "      <td>2004</td>\n",
       "      <td>auto</td>\n",
       "      <td>163</td>\n",
       "      <td>grand</td>\n",
       "      <td>125000</td>\n",
       "      <td>8</td>\n",
       "      <td>gasoline</td>\n",
       "      <td>jeep</td>\n",
       "      <td>unknown</td>\n",
       "    </tr>\n",
       "    <tr>\n",
       "      <th>3</th>\n",
       "      <td>1500</td>\n",
       "      <td>small</td>\n",
       "      <td>2001</td>\n",
       "      <td>manual</td>\n",
       "      <td>75</td>\n",
       "      <td>golf</td>\n",
       "      <td>150000</td>\n",
       "      <td>6</td>\n",
       "      <td>petrol</td>\n",
       "      <td>volkswagen</td>\n",
       "      <td>no</td>\n",
       "    </tr>\n",
       "    <tr>\n",
       "      <th>4</th>\n",
       "      <td>3600</td>\n",
       "      <td>small</td>\n",
       "      <td>2008</td>\n",
       "      <td>manual</td>\n",
       "      <td>69</td>\n",
       "      <td>fabia</td>\n",
       "      <td>90000</td>\n",
       "      <td>7</td>\n",
       "      <td>gasoline</td>\n",
       "      <td>skoda</td>\n",
       "      <td>no</td>\n",
       "    </tr>\n",
       "    <tr>\n",
       "      <th>5</th>\n",
       "      <td>650</td>\n",
       "      <td>sedan</td>\n",
       "      <td>1995</td>\n",
       "      <td>manual</td>\n",
       "      <td>102</td>\n",
       "      <td>3er</td>\n",
       "      <td>150000</td>\n",
       "      <td>10</td>\n",
       "      <td>petrol</td>\n",
       "      <td>bmw</td>\n",
       "      <td>yes</td>\n",
       "    </tr>\n",
       "  </tbody>\n",
       "</table>\n",
       "</div>"
      ],
      "text/plain": [
       "   price vehicletype  registrationyear gearbox  power  model  kilometer  \\\n",
       "1  18300       coupe              2011  manual    190  other     125000   \n",
       "2   9800         suv              2004    auto    163  grand     125000   \n",
       "3   1500       small              2001  manual     75   golf     150000   \n",
       "4   3600       small              2008  manual     69  fabia      90000   \n",
       "5    650       sedan              1995  manual    102    3er     150000   \n",
       "\n",
       "   registrationmonth  fueltype       brand repaired  \n",
       "1                  5  gasoline        audi      yes  \n",
       "2                  8  gasoline        jeep  unknown  \n",
       "3                  6    petrol  volkswagen       no  \n",
       "4                  7  gasoline       skoda       no  \n",
       "5                 10    petrol         bmw      yes  "
      ]
     },
     "execution_count": 43,
     "metadata": {},
     "output_type": "execute_result"
    }
   ],
   "source": [
    "df.head()"
   ]
  },
  {
   "cell_type": "markdown",
   "id": "e7415134",
   "metadata": {},
   "source": [
    "**Разобъём выборки на обучающую (60%), валидационную (20%) и тестовую (20%)**"
   ]
  },
  {
   "cell_type": "code",
   "execution_count": 44,
   "id": "f7d09de9",
   "metadata": {},
   "outputs": [],
   "source": [
    "data_train, data_other_sample = train_test_split(df, test_size=0.4, random_state=12345) # отделяем обучающую выборку от остальной\n",
    "data_valid, data_test = train_test_split(data_other_sample, test_size=0.5, random_state=12345) # делим остальную часть выборки на валидационную и тренировочную"
   ]
  },
  {
   "cell_type": "code",
   "execution_count": 45,
   "id": "077cac43",
   "metadata": {},
   "outputs": [
    {
     "name": "stdout",
     "output_type": "stream",
     "text": [
      "Размер обучающей выборки 172902\n",
      "Размер валидационной выборки 57634\n",
      "Размер тестовой выборки 57634\n"
     ]
    }
   ],
   "source": [
    "print('Размер обучающей выборки', data_train.shape[0])\n",
    "print('Размер валидационной выборки', data_valid.shape[0])\n",
    "print('Размер тестовой выборки', data_test.shape[0])"
   ]
  },
  {
   "cell_type": "code",
   "execution_count": 46,
   "id": "50452dd6",
   "metadata": {},
   "outputs": [],
   "source": [
    "features_train = data_train.drop(['price'], axis=1)\n",
    "target_train = data_train['price']\n",
    "features_valid = data_valid.drop(['price'], axis=1)\n",
    "target_valid = data_valid['price']\n",
    "features_test = data_test.drop(['price'], axis=1)\n",
    "target_test = data_test['price']"
   ]
  },
  {
   "cell_type": "code",
   "execution_count": 47,
   "id": "001683cf",
   "metadata": {},
   "outputs": [],
   "source": [
    "#features = df.drop('price', axis=1)\n",
    "#target = df['price']\n",
    "#features_train, features_test, target_train, target_test = train_test_split(\n",
    "#features, target, test_size=0.25, random_state=12345)"
   ]
  },
  {
   "cell_type": "code",
   "execution_count": 48,
   "id": "95987712",
   "metadata": {
    "scrolled": true
   },
   "outputs": [],
   "source": [
    "#encoder = OrdinalEncoder()\n",
    "#encoder.fit(features_train)"
   ]
  },
  {
   "cell_type": "code",
   "execution_count": 49,
   "id": "b818b8d8",
   "metadata": {},
   "outputs": [],
   "source": [
    "BinEnc = ca.BinaryEncoder()"
   ]
  },
  {
   "cell_type": "code",
   "execution_count": 50,
   "id": "0a2fe487",
   "metadata": {
    "scrolled": true
   },
   "outputs": [
    {
     "data": {
      "text/plain": [
       "BinaryEncoder(cols=['vehicletype', 'gearbox', 'model', 'fueltype', 'brand',\n",
       "                    'repaired'],\n",
       "              mapping=[{'col': 'vehicletype',\n",
       "                        'mapping':     vehicletype_0  vehicletype_1  vehicletype_2  vehicletype_3\n",
       " 1              0              0              0              1\n",
       " 2              0              0              1              0\n",
       " 3              0              0              1              1\n",
       " 4              0              1              0              0\n",
       " 5              0              1              0              1\n",
       " 6              0              1              1              0\n",
       " 7              0              1              1              1\n",
       " 8              1              0              0              0\n",
       "-1              0              0              0              0\n",
       "-2              0              0              0              0},\n",
       "                       {'col': 'gearbox',\n",
       "                        'mapping':     gearbox_0  gearbox_1\n",
       " 1          0          1\n",
       " 2          1          0\n",
       " 3          1          1\n",
       "-1          0          0\n",
       "-2          0          0},\n",
       "                       {'col': 'model',\n",
       "                        'mapping':       model_0  model_1  model_2  model_3  mode...\n",
       " 7         0        0        0        1        1        1\n",
       " 8         0        0        1        0        0        0\n",
       " 9         0        0        1        0        0        1\n",
       " 10        0        0        1        0        1        0\n",
       " 11        0        0        1        0        1        1\n",
       " 12        0        0        1        1        0        0\n",
       " 13        0        0        1        1        0        1\n",
       " 14        0        0        1        1        1        0\n",
       " 15        0        0        1        1        1        1\n",
       " 16        0        1        0        0        0        0\n",
       " 17        0        1        0        0        0        1\n",
       " 18        0        1        0        0        1        0\n",
       " 19        0        1        0        0        1        1\n",
       " 20        0        1        0        1        0        0\n",
       " 21        0        1        0        1        0        1\n",
       " 22        0        1        0        1        1        0\n",
       " 23        0        1        0        1        1        1\n",
       " 24        0        1        1        0        0        0\n",
       " 25        0        1        1        0        0        1\n",
       " 26        0        1        1        0        1        0\n",
       " 27        0        1        1        0        1        1\n",
       " 28        0        1        1        1        0        0\n",
       " 29        0        1        1        1        0        1\n",
       " 30        0        1        1        1        1        0\n",
       " 31        0        1        1        1        1        1\n",
       " 32        1        0        0        0        0        0\n",
       " 33        1        0        0        0        0        1\n",
       " 34        1        0        0        0        1        0\n",
       " 35        1        0        0        0        1        1\n",
       " 36        1        0        0        1        0        0\n",
       " 37        1        0        0        1        0        1\n",
       " 38        1        0        0        1        1        0\n",
       " 39        1        0        0        1        1        1\n",
       " 40        1        0        1        0        0        0\n",
       "-1         0        0        0        0        0        0\n",
       "-2         0        0        0        0        0        0},\n",
       "                       {'col': 'repaired',\n",
       "                        'mapping':     repaired_0  repaired_1\n",
       " 1           0           1\n",
       " 2           1           0\n",
       " 3           1           1\n",
       "-1           0           0\n",
       "-2           0           0}])"
      ]
     },
     "execution_count": 50,
     "metadata": {},
     "output_type": "execute_result"
    }
   ],
   "source": [
    "BinEnc.fit(features_train)"
   ]
  },
  {
   "cell_type": "code",
   "execution_count": 51,
   "id": "a2995601",
   "metadata": {
    "scrolled": false
   },
   "outputs": [],
   "source": [
    "features_train = BinEnc.transform(features_train)\n",
    "features_test = BinEnc.transform(features_test)\n",
    "features_valid = BinEnc.transform(features_valid)"
   ]
  },
  {
   "cell_type": "code",
   "execution_count": 52,
   "id": "d39a763d",
   "metadata": {
    "scrolled": true
   },
   "outputs": [
    {
     "name": "stdout",
     "output_type": "stream",
     "text": [
      "(172902, 30)\n",
      "(57634, 30)\n",
      "(57634, 30)\n",
      "(172902,)\n",
      "(57634,)\n",
      "(57634,)\n"
     ]
    }
   ],
   "source": [
    "print(features_train.shape)\n",
    "print(features_test.shape)\n",
    "print(features_valid.shape)\n",
    "print(target_train.shape)\n",
    "print(target_test.shape)\n",
    "print(target_valid.shape)"
   ]
  },
  {
   "cell_type": "code",
   "execution_count": 53,
   "id": "04d10cc5",
   "metadata": {},
   "outputs": [],
   "source": [
    "features_train_ohe = pd.get_dummies(features_train, drop_first=True)\n",
    "features_valid_ohe = pd.get_dummies(features_valid, drop_first=True)\n",
    "features_test_ohe = pd.get_dummies(features_test, drop_first=True)"
   ]
  },
  {
   "cell_type": "markdown",
   "id": "608aa588",
   "metadata": {},
   "source": [
    "Также напишем функцию для расчёта метрики RMSE с помощью make_scorer"
   ]
  },
  {
   "cell_type": "code",
   "execution_count": 54,
   "id": "71df9614",
   "metadata": {},
   "outputs": [],
   "source": [
    "def RMSE(target, predict):\n",
    "    return (mean_squared_error(target, predict))**0.5\n",
    "RMSE_score = make_scorer(RMSE, greater_is_better=False)"
   ]
  },
  {
   "cell_type": "markdown",
   "id": "2ad3c0c5",
   "metadata": {},
   "source": [
    "**Обучение линейной регрессии**"
   ]
  },
  {
   "cell_type": "code",
   "execution_count": 55,
   "id": "332d2f15",
   "metadata": {},
   "outputs": [
    {
     "name": "stdout",
     "output_type": "stream",
     "text": [
      "Среднее качество модели линейной регрессии на кросс-валидации 2749.900555681623\n",
      "CPU times: user 1.51 s, sys: 1.57 s, total: 3.09 s\n",
      "Wall time: 3.07 s\n"
     ]
    }
   ],
   "source": [
    "%%time\n",
    "\n",
    "model_lr = LinearRegression()\n",
    "model_lr.fit(features_train, target_train)\n",
    "regression_cv_score = pd.Series(cross_val_score(model_lr, features_train, target_train, scoring=RMSE_score, cv=3)).mean()*(-1)\n",
    "print('Среднее качество модели линейной регрессии на кросс-валидации', regression_cv_score)"
   ]
  },
  {
   "cell_type": "markdown",
   "id": "eea6a830",
   "metadata": {},
   "source": [
    "**Обучение случайного леса**"
   ]
  },
  {
   "cell_type": "code",
   "execution_count": 56,
   "id": "25320a9f",
   "metadata": {},
   "outputs": [
    {
     "name": "stdout",
     "output_type": "stream",
     "text": [
      "CPU times: user 1min 20s, sys: 321 ms, total: 1min 21s\n",
      "Wall time: 1min 21s\n"
     ]
    },
    {
     "data": {
      "text/plain": [
       "GridSearchCV(cv=3, estimator=RandomForestRegressor(),\n",
       "             param_grid={'max_depth': range(1, 6, 2),\n",
       "                         'min_samples_leaf': range(1, 4),\n",
       "                         'min_samples_split': range(2, 6, 2),\n",
       "                         'n_estimators': range(5, 15, 5)},\n",
       "             scoring=make_scorer(RMSE, greater_is_better=False))"
      ]
     },
     "execution_count": 56,
     "metadata": {},
     "output_type": "execute_result"
    }
   ],
   "source": [
    "%%time \n",
    "\n",
    "model_fr = RandomForestRegressor()\n",
    "forest_parameters = {'n_estimators': range(5, 15, 5),\n",
    "                    'max_depth': range(1, 6, 2),\n",
    "                    'min_samples_leaf': range(1, 4),\n",
    "                    'min_samples_split': range(2, 6, 2) }\n",
    "\n",
    "forest_grid = GridSearchCV(model_fr, forest_parameters, scoring=RMSE_score, cv=3)\n",
    "forest_grid.fit(features_train, target_train)"
   ]
  },
  {
   "cell_type": "markdown",
   "id": "c9380a37",
   "metadata": {},
   "source": [
    "Определяем гиперпараметры и качество модели на кросс-валидации"
   ]
  },
  {
   "cell_type": "code",
   "execution_count": 57,
   "id": "871dfe60",
   "metadata": {},
   "outputs": [],
   "source": [
    "forest_params = forest_grid.best_params_\n",
    "forest_score = forest_grid.score(features_train, target_train) * (-1)"
   ]
  },
  {
   "cell_type": "code",
   "execution_count": 58,
   "id": "93f37e32",
   "metadata": {},
   "outputs": [
    {
     "name": "stdout",
     "output_type": "stream",
     "text": [
      "{'max_depth': 5, 'min_samples_leaf': 3, 'min_samples_split': 2, 'n_estimators': 5}\n"
     ]
    }
   ],
   "source": [
    "print(forest_params)"
   ]
  },
  {
   "cell_type": "code",
   "execution_count": 59,
   "id": "2f9767e0",
   "metadata": {},
   "outputs": [
    {
     "name": "stdout",
     "output_type": "stream",
     "text": [
      "2299.6023975558223\n"
     ]
    }
   ],
   "source": [
    "print(forest_score)"
   ]
  },
  {
   "cell_type": "markdown",
   "id": "bb7a39db",
   "metadata": {},
   "source": [
    "**Обучаем ансамбль модели LGBMScore**"
   ]
  },
  {
   "cell_type": "code",
   "execution_count": 60,
   "id": "8bdb472d",
   "metadata": {},
   "outputs": [
    {
     "name": "stdout",
     "output_type": "stream",
     "text": [
      "CPU times: user 22min 28s, sys: 34.2 s, total: 23min 2s\n",
      "Wall time: 23min 10s\n"
     ]
    },
    {
     "data": {
      "text/plain": [
       "GridSearchCV(cv=3, estimator=LGBMRegressor(),\n",
       "             param_grid={'learning_rate': [0.01, 0.1],\n",
       "                         'max_depth': [25, 50, 75],\n",
       "                         'n_estimators': range(5, 15, 5),\n",
       "                         'num_leaves': [500, 1200]},\n",
       "             scoring=make_scorer(RMSE, greater_is_better=False))"
      ]
     },
     "execution_count": 60,
     "metadata": {},
     "output_type": "execute_result"
    }
   ],
   "source": [
    "%%time\n",
    "\n",
    "lg = lgb.LGBMRegressor()\n",
    "lg_parameters = {'max_depth': [25, 50, 75],\n",
    "                'learning_rate': [0.01, 0.1],\n",
    "                'num_leaves': [500, 1200],\n",
    "                'n_estimators': range(5, 15, 5)\n",
    "                }\n",
    "\n",
    "lg_grid = GridSearchCV(lg, lg_parameters, scoring=RMSE_score, cv=3)\n",
    "lg_grid.fit(features_train, target_train)"
   ]
  },
  {
   "cell_type": "markdown",
   "id": "de1d9b22",
   "metadata": {},
   "source": [
    "Определяем гиперпараметры и качество модели на кросс-валидации"
   ]
  },
  {
   "cell_type": "code",
   "execution_count": 61,
   "id": "18ddd2ef",
   "metadata": {},
   "outputs": [
    {
     "name": "stdout",
     "output_type": "stream",
     "text": [
      "CPU times: user 371 ms, sys: 0 ns, total: 371 ms\n",
      "Wall time: 394 ms\n"
     ]
    }
   ],
   "source": [
    "%%time\n",
    "\n",
    "lg_params = lg_grid.best_params_\n",
    "lg_score = lg_grid.score(features_train, target_train) * (-1)"
   ]
  },
  {
   "cell_type": "code",
   "execution_count": 62,
   "id": "6ff916a1",
   "metadata": {},
   "outputs": [
    {
     "name": "stdout",
     "output_type": "stream",
     "text": [
      "{'learning_rate': 0.1, 'max_depth': 25, 'n_estimators': 10, 'num_leaves': 1200}\n"
     ]
    }
   ],
   "source": [
    "print(lg_params)"
   ]
  },
  {
   "cell_type": "code",
   "execution_count": 63,
   "id": "401b2ea7",
   "metadata": {},
   "outputs": [
    {
     "name": "stdout",
     "output_type": "stream",
     "text": [
      "2189.0751936670513\n"
     ]
    }
   ],
   "source": [
    "print(lg_score)"
   ]
  },
  {
   "cell_type": "markdown",
   "id": "29e9e0f7",
   "metadata": {},
   "source": [
    "**Обучаем модель CatBoostRegressor**"
   ]
  },
  {
   "cell_type": "code",
   "execution_count": 64,
   "id": "7e944f13",
   "metadata": {},
   "outputs": [
    {
     "name": "stdout",
     "output_type": "stream",
     "text": [
      "0:\tlearn: 4125.8356273\ttotal: 80.3ms\tremaining: 7.95s\n",
      "10:\tlearn: 2186.1380441\ttotal: 330ms\tremaining: 2.67s\n",
      "20:\tlearn: 1860.1455473\ttotal: 575ms\tremaining: 2.16s\n",
      "30:\tlearn: 1767.4953558\ttotal: 808ms\tremaining: 1.8s\n",
      "40:\tlearn: 1722.0670505\ttotal: 1.04s\tremaining: 1.5s\n",
      "50:\tlearn: 1682.1929488\ttotal: 1.27s\tremaining: 1.22s\n",
      "60:\tlearn: 1656.1809549\ttotal: 1.51s\tremaining: 967ms\n",
      "70:\tlearn: 1630.3052536\ttotal: 1.75s\tremaining: 716ms\n",
      "80:\tlearn: 1608.8330945\ttotal: 2s\tremaining: 468ms\n",
      "90:\tlearn: 1594.9750214\ttotal: 2.23s\tremaining: 221ms\n",
      "99:\tlearn: 1582.2768180\ttotal: 2.44s\tremaining: 0us\n",
      "0:\tlearn: 4125.9990692\ttotal: 42.3ms\tremaining: 4.19s\n",
      "10:\tlearn: 2163.6470795\ttotal: 290ms\tremaining: 2.34s\n",
      "20:\tlearn: 1844.4287258\ttotal: 537ms\tremaining: 2.02s\n",
      "30:\tlearn: 1753.2506824\ttotal: 773ms\tremaining: 1.72s\n",
      "40:\tlearn: 1703.0195938\ttotal: 1.02s\tremaining: 1.47s\n",
      "50:\tlearn: 1666.5945409\ttotal: 1.28s\tremaining: 1.23s\n",
      "60:\tlearn: 1644.2651844\ttotal: 1.6s\tremaining: 1.02s\n",
      "70:\tlearn: 1624.4065192\ttotal: 1.84s\tremaining: 752ms\n",
      "80:\tlearn: 1605.3901193\ttotal: 2.08s\tremaining: 488ms\n",
      "90:\tlearn: 1588.7440300\ttotal: 2.32s\tremaining: 230ms\n",
      "99:\tlearn: 1576.0714663\ttotal: 2.52s\tremaining: 0us\n",
      "0:\tlearn: 4111.8080364\ttotal: 24.3ms\tremaining: 2.4s\n",
      "10:\tlearn: 2173.4643435\ttotal: 274ms\tremaining: 2.21s\n",
      "20:\tlearn: 1845.5935945\ttotal: 528ms\tremaining: 1.99s\n",
      "30:\tlearn: 1758.8518509\ttotal: 788ms\tremaining: 1.75s\n",
      "40:\tlearn: 1719.1107476\ttotal: 1.03s\tremaining: 1.49s\n",
      "50:\tlearn: 1672.9802289\ttotal: 1.3s\tremaining: 1.25s\n",
      "60:\tlearn: 1644.6848043\ttotal: 1.57s\tremaining: 1s\n",
      "70:\tlearn: 1622.2952077\ttotal: 1.82s\tremaining: 746ms\n",
      "80:\tlearn: 1603.8791493\ttotal: 2.09s\tremaining: 491ms\n",
      "90:\tlearn: 1588.4881776\ttotal: 2.36s\tremaining: 234ms\n",
      "99:\tlearn: 1574.7843464\ttotal: 2.59s\tremaining: 0us\n",
      "0:\tlearn: 4111.8533728\ttotal: 56.2ms\tremaining: 5.57s\n",
      "10:\tlearn: 2091.2778188\ttotal: 565ms\tremaining: 4.57s\n",
      "20:\tlearn: 1770.6269347\ttotal: 1.09s\tremaining: 4.1s\n",
      "30:\tlearn: 1664.5286598\ttotal: 1.61s\tremaining: 3.58s\n",
      "40:\tlearn: 1618.1439094\ttotal: 2.13s\tremaining: 3.07s\n",
      "50:\tlearn: 1583.3542356\ttotal: 2.63s\tremaining: 2.52s\n",
      "60:\tlearn: 1552.8885753\ttotal: 3.17s\tremaining: 2.02s\n",
      "70:\tlearn: 1530.4474525\ttotal: 3.67s\tremaining: 1.5s\n",
      "80:\tlearn: 1509.2164278\ttotal: 4.18s\tremaining: 980ms\n",
      "90:\tlearn: 1493.4277272\ttotal: 4.73s\tremaining: 468ms\n",
      "99:\tlearn: 1480.7645424\ttotal: 5.23s\tremaining: 0us\n",
      "0:\tlearn: 4111.6536000\ttotal: 50.3ms\tremaining: 4.98s\n",
      "10:\tlearn: 2086.7759327\ttotal: 556ms\tremaining: 4.5s\n",
      "20:\tlearn: 1752.1619003\ttotal: 1.07s\tremaining: 4.01s\n",
      "30:\tlearn: 1661.6111155\ttotal: 1.6s\tremaining: 3.57s\n",
      "40:\tlearn: 1607.3368444\ttotal: 2.13s\tremaining: 3.07s\n",
      "50:\tlearn: 1573.7205693\ttotal: 2.65s\tremaining: 2.55s\n",
      "60:\tlearn: 1546.2277466\ttotal: 3.19s\tremaining: 2.04s\n",
      "70:\tlearn: 1526.1658713\ttotal: 3.7s\tremaining: 1.51s\n",
      "80:\tlearn: 1500.2568566\ttotal: 4.2s\tremaining: 985ms\n",
      "90:\tlearn: 1488.1326664\ttotal: 4.69s\tremaining: 464ms\n",
      "99:\tlearn: 1474.9991961\ttotal: 5.18s\tremaining: 0us\n",
      "0:\tlearn: 4097.0918908\ttotal: 51.4ms\tremaining: 5.09s\n",
      "10:\tlearn: 2078.8378960\ttotal: 558ms\tremaining: 4.51s\n",
      "20:\tlearn: 1756.6286634\ttotal: 1.07s\tremaining: 4.02s\n",
      "30:\tlearn: 1655.3334439\ttotal: 1.58s\tremaining: 3.53s\n",
      "40:\tlearn: 1606.4491425\ttotal: 2.09s\tremaining: 3.01s\n",
      "50:\tlearn: 1571.1070189\ttotal: 2.6s\tremaining: 2.5s\n",
      "60:\tlearn: 1545.1817655\ttotal: 3.15s\tremaining: 2.02s\n",
      "70:\tlearn: 1521.2706755\ttotal: 3.67s\tremaining: 1.5s\n",
      "80:\tlearn: 1504.9906540\ttotal: 4.17s\tremaining: 979ms\n",
      "90:\tlearn: 1487.2180856\ttotal: 4.68s\tremaining: 463ms\n",
      "99:\tlearn: 1474.8917891\ttotal: 5.14s\tremaining: 0us\n",
      "0:\tlearn: 4097.9808501\ttotal: 143ms\tremaining: 14.2s\n",
      "10:\tlearn: 1999.6727628\ttotal: 1.53s\tremaining: 12.4s\n",
      "20:\tlearn: 1675.3254200\ttotal: 2.91s\tremaining: 11s\n",
      "30:\tlearn: 1581.7007521\ttotal: 4.29s\tremaining: 9.55s\n",
      "40:\tlearn: 1527.0811739\ttotal: 5.64s\tremaining: 8.12s\n",
      "50:\tlearn: 1492.9457822\ttotal: 6.99s\tremaining: 6.71s\n",
      "60:\tlearn: 1461.0398691\ttotal: 8.39s\tremaining: 5.37s\n",
      "70:\tlearn: 1433.4109190\ttotal: 9.74s\tremaining: 3.98s\n",
      "80:\tlearn: 1401.6427365\ttotal: 11.1s\tremaining: 2.61s\n",
      "90:\tlearn: 1380.6995202\ttotal: 12.5s\tremaining: 1.23s\n",
      "99:\tlearn: 1365.4464291\ttotal: 13.7s\tremaining: 0us\n",
      "0:\tlearn: 4097.8621046\ttotal: 129ms\tremaining: 12.8s\n",
      "10:\tlearn: 1984.8372741\ttotal: 1.48s\tremaining: 12s\n",
      "20:\tlearn: 1659.3709592\ttotal: 2.87s\tremaining: 10.8s\n",
      "30:\tlearn: 1565.1455467\ttotal: 4.19s\tremaining: 9.33s\n",
      "40:\tlearn: 1511.6815716\ttotal: 5.57s\tremaining: 8.02s\n",
      "50:\tlearn: 1479.5867530\ttotal: 6.93s\tremaining: 6.66s\n",
      "60:\tlearn: 1444.6614723\ttotal: 8.28s\tremaining: 5.29s\n",
      "70:\tlearn: 1418.4004247\ttotal: 9.64s\tremaining: 3.94s\n",
      "80:\tlearn: 1394.6606971\ttotal: 11s\tremaining: 2.58s\n",
      "90:\tlearn: 1374.2496862\ttotal: 12.4s\tremaining: 1.22s\n",
      "99:\tlearn: 1358.4613012\ttotal: 13.6s\tremaining: 0us\n",
      "0:\tlearn: 4083.4696070\ttotal: 129ms\tremaining: 12.8s\n",
      "10:\tlearn: 1995.2092388\ttotal: 1.52s\tremaining: 12.3s\n",
      "20:\tlearn: 1660.0368049\ttotal: 2.9s\tremaining: 10.9s\n",
      "30:\tlearn: 1572.6393295\ttotal: 4.25s\tremaining: 9.46s\n",
      "40:\tlearn: 1517.9720815\ttotal: 5.58s\tremaining: 8.03s\n",
      "50:\tlearn: 1476.7578825\ttotal: 6.93s\tremaining: 6.66s\n",
      "60:\tlearn: 1447.5500298\ttotal: 8.34s\tremaining: 5.33s\n",
      "70:\tlearn: 1418.7040134\ttotal: 9.69s\tremaining: 3.96s\n",
      "80:\tlearn: 1394.0938495\ttotal: 11s\tremaining: 2.59s\n",
      "90:\tlearn: 1370.3405676\ttotal: 12.4s\tremaining: 1.23s\n",
      "99:\tlearn: 1356.3116704\ttotal: 13.6s\tremaining: 0us\n",
      "0:\tlearn: 4087.7412932\ttotal: 648ms\tremaining: 1m 4s\n",
      "10:\tlearn: 1928.1453922\ttotal: 7.01s\tremaining: 56.7s\n",
      "20:\tlearn: 1577.8631869\ttotal: 13.3s\tremaining: 50.1s\n",
      "30:\tlearn: 1470.7360501\ttotal: 19.6s\tremaining: 43.5s\n",
      "40:\tlearn: 1421.9020127\ttotal: 25.8s\tremaining: 37.2s\n",
      "50:\tlearn: 1374.6152359\ttotal: 32.4s\tremaining: 31.1s\n",
      "60:\tlearn: 1342.8429706\ttotal: 38.9s\tremaining: 24.8s\n",
      "70:\tlearn: 1303.3838901\ttotal: 45.2s\tremaining: 18.4s\n",
      "80:\tlearn: 1272.1880750\ttotal: 51.4s\tremaining: 12.1s\n",
      "90:\tlearn: 1249.5425383\ttotal: 57.7s\tremaining: 5.7s\n",
      "99:\tlearn: 1223.7269147\ttotal: 1m 3s\tremaining: 0us\n",
      "0:\tlearn: 4086.6725547\ttotal: 611ms\tremaining: 1m\n",
      "10:\tlearn: 1925.4262569\ttotal: 6.96s\tremaining: 56.3s\n",
      "20:\tlearn: 1579.5351653\ttotal: 13.2s\tremaining: 49.8s\n",
      "30:\tlearn: 1468.3397526\ttotal: 19.5s\tremaining: 43.4s\n",
      "40:\tlearn: 1411.4672299\ttotal: 25.7s\tremaining: 37s\n",
      "50:\tlearn: 1373.5758645\ttotal: 32s\tremaining: 30.7s\n",
      "60:\tlearn: 1339.4490474\ttotal: 38.3s\tremaining: 24.5s\n",
      "70:\tlearn: 1304.4874462\ttotal: 44.6s\tremaining: 18.2s\n",
      "80:\tlearn: 1275.2926425\ttotal: 50.9s\tremaining: 11.9s\n",
      "90:\tlearn: 1253.3478406\ttotal: 57.3s\tremaining: 5.67s\n",
      "99:\tlearn: 1238.4172707\ttotal: 1m 3s\tremaining: 0us\n",
      "0:\tlearn: 4073.0128391\ttotal: 624ms\tremaining: 1m 1s\n",
      "10:\tlearn: 1930.1344497\ttotal: 7.36s\tremaining: 59.6s\n",
      "20:\tlearn: 1588.1896094\ttotal: 13.7s\tremaining: 51.5s\n",
      "30:\tlearn: 1475.1263887\ttotal: 20s\tremaining: 44.5s\n",
      "40:\tlearn: 1420.3854588\ttotal: 26.5s\tremaining: 38.2s\n",
      "50:\tlearn: 1375.6840400\ttotal: 32.9s\tremaining: 31.6s\n",
      "60:\tlearn: 1339.2353477\ttotal: 39.7s\tremaining: 25.4s\n",
      "70:\tlearn: 1302.0319286\ttotal: 45.9s\tremaining: 18.7s\n",
      "80:\tlearn: 1266.6068665\ttotal: 52.3s\tremaining: 12.3s\n",
      "90:\tlearn: 1240.6261292\ttotal: 58.8s\tremaining: 5.82s\n",
      "99:\tlearn: 1219.6582430\ttotal: 1m 4s\tremaining: 0us\n",
      "0:\tlearn: 4081.4947631\ttotal: 665ms\tremaining: 1m 5s\n",
      "10:\tlearn: 1924.5527180\ttotal: 7.11s\tremaining: 57.5s\n",
      "20:\tlearn: 1592.2570856\ttotal: 13.6s\tremaining: 51.1s\n",
      "30:\tlearn: 1494.5006232\ttotal: 20.1s\tremaining: 44.7s\n",
      "40:\tlearn: 1442.0302853\ttotal: 26.6s\tremaining: 38.3s\n",
      "50:\tlearn: 1401.1679978\ttotal: 33.1s\tremaining: 31.8s\n",
      "60:\tlearn: 1371.8336494\ttotal: 39.7s\tremaining: 25.4s\n",
      "70:\tlearn: 1344.4193387\ttotal: 46.3s\tremaining: 18.9s\n",
      "80:\tlearn: 1317.4455606\ttotal: 53.2s\tremaining: 12.5s\n",
      "90:\tlearn: 1292.0415500\ttotal: 1m\tremaining: 5.94s\n",
      "99:\tlearn: 1278.1963714\ttotal: 1m 6s\tremaining: 0us\n",
      "CPU times: user 4min 22s, sys: 1min 1s, total: 5min 23s\n",
      "Wall time: 5min 31s\n"
     ]
    },
    {
     "data": {
      "text/plain": [
       "GridSearchCV(cv=3,\n",
       "             estimator=<catboost.core.CatBoostRegressor object at 0x7f0b45b94e20>,\n",
       "             param_grid={'depth': range(8, 16, 2), 'iterations': [100],\n",
       "                         'learning_rate': [0.15]},\n",
       "             scoring=make_scorer(RMSE, greater_is_better=False))"
      ]
     },
     "execution_count": 64,
     "metadata": {},
     "output_type": "execute_result"
    }
   ],
   "source": [
    "%%time\n",
    "\n",
    "cbr = cb.CatBoostRegressor()\n",
    "\n",
    "cb_parameters = {'iterations': [100],\n",
    "                'depth': range(8, 16, 2),\n",
    "                'learning_rate': [0.15]}\n",
    "\n",
    "cb_grid = GridSearchCV(cbr, cb_parameters, scoring=RMSE_score, cv=3)\n",
    "cb_grid.fit(features_train, target_train, verbose=10)"
   ]
  },
  {
   "cell_type": "markdown",
   "id": "69cc954a",
   "metadata": {},
   "source": [
    "Определяем гиперпараметры и качество модели на кросс-валидации"
   ]
  },
  {
   "cell_type": "code",
   "execution_count": 65,
   "id": "8bd5c04f",
   "metadata": {},
   "outputs": [
    {
     "name": "stdout",
     "output_type": "stream",
     "text": [
      "CPU times: user 179 ms, sys: 3.97 ms, total: 183 ms\n",
      "Wall time: 186 ms\n"
     ]
    }
   ],
   "source": [
    "%%time\n",
    "\n",
    "cb_params = cb_grid.best_params_\n",
    "cb_score = cb_grid.score(features_train, target_train) * (-1)"
   ]
  },
  {
   "cell_type": "code",
   "execution_count": 66,
   "id": "bcdbd489",
   "metadata": {},
   "outputs": [
    {
     "name": "stdout",
     "output_type": "stream",
     "text": [
      "{'depth': 14, 'iterations': 100, 'learning_rate': 0.15}\n"
     ]
    }
   ],
   "source": [
    "print(cb_params)"
   ]
  },
  {
   "cell_type": "code",
   "execution_count": 67,
   "id": "ad53778d",
   "metadata": {},
   "outputs": [
    {
     "name": "stdout",
     "output_type": "stream",
     "text": [
      "1278.1963714442725\n"
     ]
    }
   ],
   "source": [
    "print(cb_score)"
   ]
  },
  {
   "cell_type": "markdown",
   "id": "169b833c",
   "metadata": {},
   "source": [
    "**Вывод:**\n",
    "\n",
    "На данном этапе были обучены 4 модели, а именно - модель линейной регрессии, модель случайного леса, ансамбль моделей LGBMRegressor и CatboostRegressor. Также нами были определены оптимальные гиперпараметры и метрики RMSE для каждой модели на кросс-валидации."
   ]
  },
  {
   "cell_type": "markdown",
   "id": "56a07f08",
   "metadata": {},
   "source": [
    "# 3. Анализ моделей"
   ]
  },
  {
   "cell_type": "markdown",
   "id": "5813b72d",
   "metadata": {},
   "source": [
    "Протестируем модели на тестовой выборке и проверим их на адекватность. Напишем функцию для важности признаков, которые будут показывать важность больше 0.0."
   ]
  },
  {
   "cell_type": "code",
   "execution_count": 68,
   "id": "54b4806a",
   "metadata": {},
   "outputs": [],
   "source": [
    "def feature_importance_hist(model, features_train):\n",
    "    importances = list(model.feature_importances_)\n",
    "    names_indices = features_train.columns\n",
    "    not_null_importances = []\n",
    "    not_null_indices = []\n",
    "\n",
    "    for i in importances:\n",
    "        if i>0:\n",
    "            not_null_importances.append(i)\n",
    "            not_null_indices.append(names_indices[importances.index(i)])\n",
    "    \n",
    "    plt.figure(figsize=(15, 10))\n",
    "    plt.title(\"Feature importances\")\n",
    " \n",
    "    plt.bar(range(len(not_null_importances)), not_null_importances, color=\"g\")\n",
    "    plt.xticks(range(len(importances)), not_null_indices, rotation=90)\n",
    " \n",
    "    plt.tight_layout()\n",
    "    plt.xlim([-1, len(not_null_importances)])\n",
    "    plt.show()"
   ]
  },
  {
   "cell_type": "markdown",
   "id": "8532c730",
   "metadata": {},
   "source": [
    "**Константная модель**"
   ]
  },
  {
   "cell_type": "markdown",
   "id": "2f755285",
   "metadata": {},
   "source": [
    "Создадим константную модель для проверки на адекватность"
   ]
  },
  {
   "cell_type": "code",
   "execution_count": 69,
   "id": "8ba33d28",
   "metadata": {},
   "outputs": [
    {
     "name": "stdout",
     "output_type": "stream",
     "text": [
      "RMSE для констатной модели 4925.799\n",
      "CPU times: user 1.7 ms, sys: 2.99 ms, total: 4.69 ms\n",
      "Wall time: 4.06 ms\n"
     ]
    }
   ],
   "source": [
    "%%time\n",
    "\n",
    "constant_model = pd.Series(target_valid.median(), index=target_valid.index)\n",
    "\n",
    "#Определим метрику RMSE для константной модели\n",
    "const_RMSE = round(RMSE(target_valid, constant_model), 3)\n",
    "print('RMSE для констатной модели', const_RMSE)"
   ]
  },
  {
   "cell_type": "markdown",
   "id": "de01c8e0",
   "metadata": {},
   "source": [
    "**Модель линейной регресии**"
   ]
  },
  {
   "cell_type": "code",
   "execution_count": 70,
   "id": "4391650e",
   "metadata": {},
   "outputs": [
    {
     "name": "stdout",
     "output_type": "stream",
     "text": [
      "Модель линейной регрессии 2759.935\n",
      "CPU times: user 422 ms, sys: 369 ms, total: 791 ms\n",
      "Wall time: 790 ms\n"
     ]
    }
   ],
   "source": [
    "%%time\n",
    "\n",
    "regression_model = LinearRegression()\n",
    "regression_model.fit(features_train, target_train)\n",
    "regression_model_predictions = regression_model.predict(features_valid)\n",
    "\n",
    "regression_RMSE = round(RMSE(target_valid, regression_model_predictions), 3)\n",
    "print('Модель линейной регрессии', regression_RMSE)"
   ]
  },
  {
   "cell_type": "markdown",
   "id": "78d1fb41",
   "metadata": {},
   "source": [
    "**Модель случайного леса**"
   ]
  },
  {
   "cell_type": "code",
   "execution_count": 71,
   "id": "ab64b1b7",
   "metadata": {},
   "outputs": [
    {
     "name": "stdout",
     "output_type": "stream",
     "text": [
      "RMSE модели случайного леса 2303.182\n",
      "CPU times: user 1.39 s, sys: 52.2 ms, total: 1.44 s\n",
      "Wall time: 1.51 s\n"
     ]
    }
   ],
   "source": [
    "%%time \n",
    "\n",
    "forest_model = RandomForestRegressor(random_state=12345,\n",
    "                                     max_depth=forest_params['max_depth'],\n",
    "                                     min_samples_leaf=forest_params['min_samples_leaf'],\n",
    "                                     min_samples_split=forest_params['min_samples_split'],\n",
    "                                     n_estimators=forest_params['n_estimators'])\n",
    "\n",
    "forest_model.fit(features_train, target_train)\n",
    "forest_model_predictions = forest_model.predict(features_valid)\n",
    "\n",
    "forest_RMSE = round(RMSE(target_valid, forest_model_predictions), 3)\n",
    "print('RMSE модели случайного леса', forest_RMSE)"
   ]
  },
  {
   "cell_type": "markdown",
   "id": "5d66205d",
   "metadata": {},
   "source": [
    "**Модель ансамбля решений LGBMRegressor**"
   ]
  },
  {
   "cell_type": "code",
   "execution_count": 72,
   "id": "c98bbead",
   "metadata": {},
   "outputs": [
    {
     "name": "stdout",
     "output_type": "stream",
     "text": [
      "RMSE модели LGBMRegressor: 2275.482\n",
      "CPU times: user 3min 49s, sys: 6.4 s, total: 3min 55s\n",
      "Wall time: 3min 56s\n"
     ]
    }
   ],
   "source": [
    "%%time \n",
    "\n",
    "lg_model = lgb.LGBMRegressor(max_depth=lg_params['max_depth'],\n",
    "                            learning_rate=lg_params['learning_rate'],\n",
    "                            num_leaves=lg_params['num_leaves'],\n",
    "                            n_estimators=lg_params['n_estimators'])\n",
    "\n",
    "lg_model.fit(features_train, target_train)\n",
    "lg_model_predictions = lg_model.predict(features_valid)\n",
    "\n",
    "lg_RMSE = round(RMSE(target_valid, lg_model_predictions), 3)\n",
    "print('RMSE модели LGBMRegressor:', lg_RMSE)"
   ]
  },
  {
   "cell_type": "markdown",
   "id": "9eddba43",
   "metadata": {},
   "source": [
    "**Модель ансамбля решений Catboost**"
   ]
  },
  {
   "cell_type": "code",
   "execution_count": 73,
   "id": "23e243e9",
   "metadata": {},
   "outputs": [
    {
     "name": "stdout",
     "output_type": "stream",
     "text": [
      "0:\tlearn: 4081.4947631\ttotal: 664ms\tremaining: 1m 5s\n",
      "10:\tlearn: 1924.5527180\ttotal: 7.17s\tremaining: 58s\n",
      "20:\tlearn: 1592.2570856\ttotal: 14s\tremaining: 52.6s\n",
      "30:\tlearn: 1494.5006232\ttotal: 20.5s\tremaining: 45.7s\n",
      "40:\tlearn: 1442.0302853\ttotal: 27s\tremaining: 38.9s\n",
      "50:\tlearn: 1401.1679978\ttotal: 33.6s\tremaining: 32.3s\n",
      "60:\tlearn: 1371.8336494\ttotal: 40.6s\tremaining: 26s\n",
      "70:\tlearn: 1344.4193387\ttotal: 47.4s\tremaining: 19.3s\n",
      "80:\tlearn: 1317.4455606\ttotal: 54.1s\tremaining: 12.7s\n",
      "90:\tlearn: 1292.0415500\ttotal: 1m\tremaining: 6.01s\n",
      "99:\tlearn: 1278.1963714\ttotal: 1m 6s\tremaining: 0us\n",
      "RMSE модели CatBoostRegressor: 1536.55\n",
      "CPU times: user 51.9 s, sys: 15 s, total: 1min 6s\n",
      "Wall time: 1min 7s\n"
     ]
    }
   ],
   "source": [
    "%%time\n",
    "\n",
    "cb_model = cb.CatBoostRegressor(iterations=cb_params['iterations'],\n",
    "                                learning_rate=cb_params['learning_rate'],\n",
    "                                depth=cb_params['depth'])\n",
    "\n",
    "cb_model.fit(features_train, target_train, verbose=10)\n",
    "cb_model_predictions = cb_model.predict(features_valid)\n",
    "\n",
    "\n",
    "cb_RMSE = round(RMSE(target_valid, cb_model_predictions), 3)\n",
    "print('RMSE модели CatBoostRegressor:', cb_RMSE)"
   ]
  },
  {
   "cell_type": "markdown",
   "id": "9ed630f1",
   "metadata": {},
   "source": [
    "**Таблица с результатами моделей**"
   ]
  },
  {
   "cell_type": "code",
   "execution_count": 74,
   "id": "3be8c6a8",
   "metadata": {},
   "outputs": [
    {
     "data": {
      "text/html": [
       "<div>\n",
       "<style scoped>\n",
       "    .dataframe tbody tr th:only-of-type {\n",
       "        vertical-align: middle;\n",
       "    }\n",
       "\n",
       "    .dataframe tbody tr th {\n",
       "        vertical-align: top;\n",
       "    }\n",
       "\n",
       "    .dataframe thead th {\n",
       "        text-align: right;\n",
       "    }\n",
       "</style>\n",
       "<table border=\"1\" class=\"dataframe\">\n",
       "  <thead>\n",
       "    <tr style=\"text-align: right;\">\n",
       "      <th></th>\n",
       "      <th>Модель</th>\n",
       "      <th>Время работы модели, сек.</th>\n",
       "      <th>RMSE</th>\n",
       "      <th>Качество по отношению к константной модели, %</th>\n",
       "    </tr>\n",
       "  </thead>\n",
       "  <tbody>\n",
       "    <tr>\n",
       "      <th>0</th>\n",
       "      <td>Константная модель</td>\n",
       "      <td>0.0</td>\n",
       "      <td>4925.799</td>\n",
       "      <td>0.00</td>\n",
       "    </tr>\n",
       "    <tr>\n",
       "      <th>1</th>\n",
       "      <td>Модель случайного леса</td>\n",
       "      <td>49.0</td>\n",
       "      <td>2303.182</td>\n",
       "      <td>53.24</td>\n",
       "    </tr>\n",
       "    <tr>\n",
       "      <th>2</th>\n",
       "      <td>Модель линейной регрессии</td>\n",
       "      <td>10.0</td>\n",
       "      <td>2759.935</td>\n",
       "      <td>43.97</td>\n",
       "    </tr>\n",
       "    <tr>\n",
       "      <th>3</th>\n",
       "      <td>LGBMRegressor</td>\n",
       "      <td>4.0</td>\n",
       "      <td>2275.482</td>\n",
       "      <td>53.80</td>\n",
       "    </tr>\n",
       "    <tr>\n",
       "      <th>4</th>\n",
       "      <td>LGBMRegressor</td>\n",
       "      <td>4.0</td>\n",
       "      <td>2275.482</td>\n",
       "      <td>53.80</td>\n",
       "    </tr>\n",
       "    <tr>\n",
       "      <th>5</th>\n",
       "      <td>CatBoostRegressor</td>\n",
       "      <td>64.0</td>\n",
       "      <td>1536.550</td>\n",
       "      <td>68.81</td>\n",
       "    </tr>\n",
       "  </tbody>\n",
       "</table>\n",
       "</div>"
      ],
      "text/plain": [
       "                      Модель  Время работы модели, сек.      RMSE  \\\n",
       "0         Константная модель                        0.0  4925.799   \n",
       "1     Модель случайного леса                       49.0  2303.182   \n",
       "2  Модель линейной регрессии                       10.0  2759.935   \n",
       "3              LGBMRegressor                        4.0  2275.482   \n",
       "4              LGBMRegressor                        4.0  2275.482   \n",
       "5          CatBoostRegressor                       64.0  1536.550   \n",
       "\n",
       "   Качество по отношению к константной модели, %  \n",
       "0                                           0.00  \n",
       "1                                          53.24  \n",
       "2                                          43.97  \n",
       "3                                          53.80  \n",
       "4                                          53.80  \n",
       "5                                          68.81  "
      ]
     },
     "metadata": {},
     "output_type": "display_data"
    }
   ],
   "source": [
    "columns = ['Модель', 'Время работы модели, сек.', 'RMSE']\n",
    "constant_model = ['Константная модель', 0, const_RMSE]\n",
    "model_lr = ['Модель линейной регрессии', 10, regression_RMSE]\n",
    "forest_model = ['Модель случайного леса', 49, forest_RMSE]\n",
    "lg_model = ['LGBMRegressor', 4, lg_RMSE]\n",
    "cb_model = ['CatBoostRegressor', 64.0, cb_RMSE]\n",
    "\n",
    "table = pd.DataFrame([constant_model, forest_model, model_lr, lg_model, lg_model, cb_model], columns = columns)\n",
    "table['Качество по отношению к константной модели, %'] = round((1-table['RMSE']/const_RMSE) * 100, 2)\n",
    "\n",
    "display(table)"
   ]
  },
  {
   "cell_type": "markdown",
   "id": "f74f646c",
   "metadata": {},
   "source": [
    "# Тестирование лучшей модели"
   ]
  },
  {
   "cell_type": "code",
   "execution_count": 77,
   "id": "5501eaf0",
   "metadata": {
    "scrolled": false
   },
   "outputs": [
    {
     "name": "stdout",
     "output_type": "stream",
     "text": [
      "0:\tlearn: 4081.4947631\ttotal: 679ms\tremaining: 1m 7s\n",
      "10:\tlearn: 1924.5527180\ttotal: 7.46s\tremaining: 1m\n",
      "20:\tlearn: 1592.2570856\ttotal: 14.1s\tremaining: 53.1s\n",
      "30:\tlearn: 1494.5006232\ttotal: 20.9s\tremaining: 46.4s\n",
      "40:\tlearn: 1442.0302853\ttotal: 27.5s\tremaining: 39.5s\n",
      "50:\tlearn: 1401.1679978\ttotal: 34s\tremaining: 32.7s\n",
      "60:\tlearn: 1371.8336494\ttotal: 40.6s\tremaining: 26s\n",
      "70:\tlearn: 1344.4193387\ttotal: 47s\tremaining: 19.2s\n",
      "80:\tlearn: 1317.4455606\ttotal: 53.6s\tremaining: 12.6s\n",
      "90:\tlearn: 1292.0415500\ttotal: 1m\tremaining: 5.95s\n",
      "99:\tlearn: 1278.1963714\ttotal: 1m 6s\tremaining: 0us\n",
      "RMSE на тестовом наборе: 1543.3419006878996\n",
      "CPU times: user 52.5 s, sys: 14.1 s, total: 1min 6s\n",
      "Wall time: 1min 9s\n"
     ]
    }
   ],
   "source": [
    "%%time\n",
    "\n",
    "cb_model = cb.CatBoostRegressor(iterations=cb_params['iterations'],\n",
    "                                learning_rate=cb_params['learning_rate'],\n",
    "                                depth=cb_params['depth'])\n",
    "\n",
    "cb_model.fit(features_train, target_train, verbose=10)\n",
    "\n",
    "test_model_catboost = cb_model.predict(features_test)\n",
    "mse = mean_squared_error(target_test, test_model_catboost)\n",
    "rmse = np.sqrt(mse)\n",
    "print(f'RMSE на тестовом наборе: {rmse}')"
   ]
  },
  {
   "cell_type": "markdown",
   "id": "e58aaceb",
   "metadata": {},
   "source": [
    "Модель CatBoostRegtessor хорошо себя показала на тестовых данных, а именно RMSE = 1543.3, что соответствует условию задачи ниже порога 2500. Поэтому заказчику мы може рекомендовать в качестве оптимальной модели CatBoostRegressror."
   ]
  },
  {
   "cell_type": "markdown",
   "id": "09d2e558",
   "metadata": {},
   "source": [
    "# 4. Общий вывод"
   ]
  },
  {
   "cell_type": "markdown",
   "id": "b8d5ca53",
   "metadata": {},
   "source": [
    "В ходе реализации проекта, нами были выполнены следующие задачи:\n",
    "\n",
    "1) На первом этапе мы выгрузили данные и выявили в них пропуски, а также некорректные типы данных. Мы также занимались предоработкой данных, и подготавливали данные для обучения, где:\n",
    "* Перевели названия столбцов в нижний регистр\n",
    "* В `gearbox` и `repaired` пропуски заполнили `unknown`.\n",
    "* В `model` заполнили пропуски `other`\n",
    "* Для заполнения пропусков в `fueltype` и `vehicletype` использовали данные из других строк с тем же значением, что и в столбце `model`.\n",
    "* Удалили ненужные столбцы для обучения моделей `datecrawled`, `datecreated`, `numberofpictures`, `postalcode`, `lastseen`.\n",
    "\n",
    "2) На втором этапе были обучены 4 модели, а именно - модель линейной регрессии, модель случайного леса, ансамбль моделей LGBMRegressor и CatboostRegressor. Также нами были определены оптимальные гиперпараметры и метрики RMSE для каждой модели на кросс-валидации.\n",
    "\n",
    "3) На третьем этапе мы занимались анализом моделей, в ходе которых мы определяли качество моделей относительно констатнной модели. RMSE для констатнной модели - 4938.143. Наименьший показатель RMSE был достигнут во время использования модели CatBoostRegressor и составил 4938.143.\n",
    "\n",
    "В качестве рекомендованной модели можно предложить модель CatBoostRegressor."
   ]
  }
 ],
 "metadata": {
  "ExecuteTimeLog": [
   {
    "duration": 3,
    "start_time": "2023-03-26T19:06:01.024Z"
   },
   {
    "duration": 24,
    "start_time": "2023-03-26T19:06:01.029Z"
   },
   {
    "duration": 1731,
    "start_time": "2023-03-26T19:06:01.055Z"
   },
   {
    "duration": 2994,
    "start_time": "2023-03-26T19:06:02.788Z"
   },
   {
    "duration": 20,
    "start_time": "2023-03-26T19:06:05.784Z"
   },
   {
    "duration": 126,
    "start_time": "2023-03-26T19:06:05.806Z"
   },
   {
    "duration": 113,
    "start_time": "2023-03-26T19:06:05.935Z"
   },
   {
    "duration": 125,
    "start_time": "2023-03-26T19:06:06.050Z"
   },
   {
    "duration": 62,
    "start_time": "2023-03-26T19:06:06.176Z"
   },
   {
    "duration": 126,
    "start_time": "2023-03-26T19:06:06.240Z"
   },
   {
    "duration": 289,
    "start_time": "2023-03-26T19:06:06.369Z"
   },
   {
    "duration": 327,
    "start_time": "2023-03-26T19:06:06.659Z"
   },
   {
    "duration": 349,
    "start_time": "2023-03-26T19:06:06.987Z"
   },
   {
    "duration": 282,
    "start_time": "2023-03-26T19:06:07.338Z"
   },
   {
    "duration": 22,
    "start_time": "2023-03-26T19:06:07.622Z"
   },
   {
    "duration": 19,
    "start_time": "2023-03-26T19:06:07.646Z"
   },
   {
    "duration": 30,
    "start_time": "2023-03-26T19:06:07.667Z"
   },
   {
    "duration": 50,
    "start_time": "2023-03-26T19:06:07.698Z"
   },
   {
    "duration": 35,
    "start_time": "2023-03-26T19:06:07.750Z"
   },
   {
    "duration": 37,
    "start_time": "2023-03-26T19:06:07.786Z"
   },
   {
    "duration": 32,
    "start_time": "2023-03-26T19:06:07.825Z"
   },
   {
    "duration": 33,
    "start_time": "2023-03-26T19:06:07.858Z"
   },
   {
    "duration": 6,
    "start_time": "2023-03-26T19:06:07.893Z"
   },
   {
    "duration": 45970,
    "start_time": "2023-03-26T19:06:07.901Z"
   },
   {
    "duration": 81,
    "start_time": "2023-03-26T19:06:53.873Z"
   },
   {
    "duration": 17,
    "start_time": "2023-03-26T19:06:53.955Z"
   },
   {
    "duration": 9,
    "start_time": "2023-03-26T19:06:53.974Z"
   },
   {
    "duration": 7,
    "start_time": "2023-03-26T19:06:53.985Z"
   },
   {
    "duration": 1091,
    "start_time": "2023-03-26T19:06:53.997Z"
   },
   {
    "duration": 1976,
    "start_time": "2023-03-26T19:06:55.090Z"
   },
   {
    "duration": 7,
    "start_time": "2023-03-26T19:06:57.068Z"
   },
   {
    "duration": 17,
    "start_time": "2023-03-26T19:06:57.077Z"
   },
   {
    "duration": 38,
    "start_time": "2023-03-26T19:06:57.096Z"
   },
   {
    "duration": 5,
    "start_time": "2023-03-26T19:06:57.136Z"
   },
   {
    "duration": 35,
    "start_time": "2023-03-26T19:06:57.142Z"
   },
   {
    "duration": 74,
    "start_time": "2023-03-26T19:06:57.179Z"
   },
   {
    "duration": 23,
    "start_time": "2023-03-26T19:06:57.255Z"
   },
   {
    "duration": 71,
    "start_time": "2023-03-26T19:06:57.280Z"
   },
   {
    "duration": 18,
    "start_time": "2023-03-26T19:06:57.352Z"
   },
   {
    "duration": 736,
    "start_time": "2023-03-26T19:06:57.372Z"
   },
   {
    "duration": 496,
    "start_time": "2023-03-26T19:06:58.109Z"
   },
   {
    "duration": 4,
    "start_time": "2023-03-26T19:06:58.607Z"
   },
   {
    "duration": 11,
    "start_time": "2023-03-26T19:06:58.613Z"
   },
   {
    "duration": 59504,
    "start_time": "2023-03-26T19:06:58.626Z"
   },
   {
    "duration": 4,
    "start_time": "2023-03-26T19:13:16.014Z"
   },
   {
    "duration": 15,
    "start_time": "2023-03-26T19:13:16.020Z"
   },
   {
    "duration": 1528,
    "start_time": "2023-03-26T19:13:16.037Z"
   },
   {
    "duration": 847,
    "start_time": "2023-03-26T19:13:17.567Z"
   },
   {
    "duration": 23,
    "start_time": "2023-03-26T19:13:18.416Z"
   },
   {
    "duration": 128,
    "start_time": "2023-03-26T19:13:18.441Z"
   },
   {
    "duration": 104,
    "start_time": "2023-03-26T19:13:18.570Z"
   },
   {
    "duration": 129,
    "start_time": "2023-03-26T19:13:18.676Z"
   },
   {
    "duration": 61,
    "start_time": "2023-03-26T19:13:18.807Z"
   },
   {
    "duration": 118,
    "start_time": "2023-03-26T19:13:18.870Z"
   },
   {
    "duration": 287,
    "start_time": "2023-03-26T19:13:18.990Z"
   },
   {
    "duration": 311,
    "start_time": "2023-03-26T19:13:19.279Z"
   },
   {
    "duration": 339,
    "start_time": "2023-03-26T19:13:19.591Z"
   },
   {
    "duration": 265,
    "start_time": "2023-03-26T19:13:19.931Z"
   },
   {
    "duration": 29,
    "start_time": "2023-03-26T19:13:20.199Z"
   },
   {
    "duration": 25,
    "start_time": "2023-03-26T19:13:20.231Z"
   },
   {
    "duration": 40,
    "start_time": "2023-03-26T19:13:20.261Z"
   },
   {
    "duration": 25,
    "start_time": "2023-03-26T19:13:20.323Z"
   },
   {
    "duration": 37,
    "start_time": "2023-03-26T19:13:20.351Z"
   },
   {
    "duration": 46,
    "start_time": "2023-03-26T19:13:20.390Z"
   },
   {
    "duration": 40,
    "start_time": "2023-03-26T19:13:20.438Z"
   },
   {
    "duration": 58,
    "start_time": "2023-03-26T19:13:20.480Z"
   },
   {
    "duration": 8,
    "start_time": "2023-03-26T19:13:20.540Z"
   },
   {
    "duration": 45490,
    "start_time": "2023-03-26T19:13:20.551Z"
   },
   {
    "duration": 83,
    "start_time": "2023-03-26T19:14:06.043Z"
   },
   {
    "duration": 17,
    "start_time": "2023-03-26T19:14:06.129Z"
   },
   {
    "duration": 3,
    "start_time": "2023-03-26T19:14:06.148Z"
   },
   {
    "duration": 5,
    "start_time": "2023-03-26T19:14:06.153Z"
   },
   {
    "duration": 1127,
    "start_time": "2023-03-26T19:14:06.161Z"
   },
   {
    "duration": 2062,
    "start_time": "2023-03-26T19:14:07.289Z"
   },
   {
    "duration": 7,
    "start_time": "2023-03-26T19:14:09.353Z"
   },
   {
    "duration": 17,
    "start_time": "2023-03-26T19:14:09.362Z"
   },
   {
    "duration": 44,
    "start_time": "2023-03-26T19:14:09.380Z"
   },
   {
    "duration": 4,
    "start_time": "2023-03-26T19:14:09.426Z"
   },
   {
    "duration": 34,
    "start_time": "2023-03-26T19:14:09.431Z"
   },
   {
    "duration": 78,
    "start_time": "2023-03-26T19:14:09.466Z"
   },
   {
    "duration": 20,
    "start_time": "2023-03-26T19:14:09.546Z"
   },
   {
    "duration": 83,
    "start_time": "2023-03-26T19:14:09.568Z"
   },
   {
    "duration": 25,
    "start_time": "2023-03-26T19:14:09.653Z"
   },
   {
    "duration": 2,
    "start_time": "2023-03-26T19:14:09.680Z"
   },
   {
    "duration": 143,
    "start_time": "2023-03-26T19:14:09.684Z"
   },
   {
    "duration": 0,
    "start_time": "2023-03-26T19:14:09.829Z"
   },
   {
    "duration": 0,
    "start_time": "2023-03-26T19:14:09.830Z"
   },
   {
    "duration": 0,
    "start_time": "2023-03-26T19:14:09.831Z"
   },
   {
    "duration": 0,
    "start_time": "2023-03-26T19:14:09.832Z"
   },
   {
    "duration": 0,
    "start_time": "2023-03-26T19:14:09.833Z"
   },
   {
    "duration": 0,
    "start_time": "2023-03-26T19:14:09.834Z"
   },
   {
    "duration": 0,
    "start_time": "2023-03-26T19:14:09.836Z"
   },
   {
    "duration": 0,
    "start_time": "2023-03-26T19:14:09.837Z"
   },
   {
    "duration": 0,
    "start_time": "2023-03-26T19:14:09.838Z"
   },
   {
    "duration": 0,
    "start_time": "2023-03-26T19:14:09.839Z"
   },
   {
    "duration": 0,
    "start_time": "2023-03-26T19:14:09.840Z"
   },
   {
    "duration": 0,
    "start_time": "2023-03-26T19:14:09.841Z"
   },
   {
    "duration": 0,
    "start_time": "2023-03-26T19:14:09.842Z"
   },
   {
    "duration": 0,
    "start_time": "2023-03-26T19:14:09.843Z"
   },
   {
    "duration": 0,
    "start_time": "2023-03-26T19:14:09.844Z"
   },
   {
    "duration": 0,
    "start_time": "2023-03-26T19:14:09.846Z"
   },
   {
    "duration": 0,
    "start_time": "2023-03-26T19:14:09.847Z"
   },
   {
    "duration": 0,
    "start_time": "2023-03-26T19:14:09.848Z"
   },
   {
    "duration": 0,
    "start_time": "2023-03-26T19:14:09.849Z"
   },
   {
    "duration": 0,
    "start_time": "2023-03-26T19:14:09.851Z"
   },
   {
    "duration": 0,
    "start_time": "2023-03-26T19:14:09.852Z"
   },
   {
    "duration": 0,
    "start_time": "2023-03-26T19:14:09.853Z"
   },
   {
    "duration": 0,
    "start_time": "2023-03-26T19:14:09.855Z"
   },
   {
    "duration": 72,
    "start_time": "2023-03-26T19:16:31.694Z"
   },
   {
    "duration": 5,
    "start_time": "2023-03-26T19:16:33.565Z"
   },
   {
    "duration": 429,
    "start_time": "2023-03-26T19:16:34.464Z"
   },
   {
    "duration": 514,
    "start_time": "2023-03-26T19:17:15.893Z"
   },
   {
    "duration": 3,
    "start_time": "2023-03-26T19:17:21.170Z"
   },
   {
    "duration": 163,
    "start_time": "2023-03-26T19:17:23.907Z"
   },
   {
    "duration": 4,
    "start_time": "2023-03-26T19:17:54.341Z"
   },
   {
    "duration": 16,
    "start_time": "2023-03-26T19:17:54.349Z"
   },
   {
    "duration": 1469,
    "start_time": "2023-03-26T19:17:54.388Z"
   },
   {
    "duration": 860,
    "start_time": "2023-03-26T19:17:55.859Z"
   },
   {
    "duration": 20,
    "start_time": "2023-03-26T19:17:56.720Z"
   },
   {
    "duration": 141,
    "start_time": "2023-03-26T19:17:56.742Z"
   },
   {
    "duration": 120,
    "start_time": "2023-03-26T19:17:56.885Z"
   },
   {
    "duration": 121,
    "start_time": "2023-03-26T19:17:57.007Z"
   },
   {
    "duration": 53,
    "start_time": "2023-03-26T19:17:57.130Z"
   },
   {
    "duration": 147,
    "start_time": "2023-03-26T19:17:57.185Z"
   },
   {
    "duration": 345,
    "start_time": "2023-03-26T19:17:57.334Z"
   },
   {
    "duration": 299,
    "start_time": "2023-03-26T19:17:57.680Z"
   },
   {
    "duration": 333,
    "start_time": "2023-03-26T19:17:57.981Z"
   },
   {
    "duration": 290,
    "start_time": "2023-03-26T19:17:58.316Z"
   },
   {
    "duration": 29,
    "start_time": "2023-03-26T19:17:58.609Z"
   },
   {
    "duration": 19,
    "start_time": "2023-03-26T19:17:58.642Z"
   },
   {
    "duration": 35,
    "start_time": "2023-03-26T19:17:58.663Z"
   },
   {
    "duration": 39,
    "start_time": "2023-03-26T19:17:58.700Z"
   },
   {
    "duration": 33,
    "start_time": "2023-03-26T19:17:58.742Z"
   },
   {
    "duration": 25,
    "start_time": "2023-03-26T19:17:58.777Z"
   },
   {
    "duration": 39,
    "start_time": "2023-03-26T19:17:58.803Z"
   },
   {
    "duration": 36,
    "start_time": "2023-03-26T19:17:58.844Z"
   },
   {
    "duration": 4,
    "start_time": "2023-03-26T19:17:58.881Z"
   },
   {
    "duration": 45360,
    "start_time": "2023-03-26T19:17:58.887Z"
   },
   {
    "duration": 83,
    "start_time": "2023-03-26T19:18:44.249Z"
   },
   {
    "duration": 16,
    "start_time": "2023-03-26T19:18:44.334Z"
   },
   {
    "duration": 5,
    "start_time": "2023-03-26T19:18:44.352Z"
   },
   {
    "duration": 5,
    "start_time": "2023-03-26T19:18:44.359Z"
   },
   {
    "duration": 1121,
    "start_time": "2023-03-26T19:18:44.365Z"
   },
   {
    "duration": 2028,
    "start_time": "2023-03-26T19:18:45.488Z"
   },
   {
    "duration": 8,
    "start_time": "2023-03-26T19:18:47.517Z"
   },
   {
    "duration": 19,
    "start_time": "2023-03-26T19:18:47.526Z"
   },
   {
    "duration": 17,
    "start_time": "2023-03-26T19:18:47.546Z"
   },
   {
    "duration": 4,
    "start_time": "2023-03-26T19:18:47.565Z"
   },
   {
    "duration": 60,
    "start_time": "2023-03-26T19:18:47.572Z"
   },
   {
    "duration": 57,
    "start_time": "2023-03-26T19:18:47.633Z"
   },
   {
    "duration": 37,
    "start_time": "2023-03-26T19:18:47.691Z"
   },
   {
    "duration": 61,
    "start_time": "2023-03-26T19:18:47.730Z"
   },
   {
    "duration": 30,
    "start_time": "2023-03-26T19:18:47.793Z"
   },
   {
    "duration": 3,
    "start_time": "2023-03-26T19:18:47.825Z"
   },
   {
    "duration": 75,
    "start_time": "2023-03-26T19:18:47.829Z"
   },
   {
    "duration": 4,
    "start_time": "2023-03-26T19:18:47.905Z"
   },
   {
    "duration": 570,
    "start_time": "2023-03-26T19:18:47.926Z"
   },
   {
    "duration": 3,
    "start_time": "2023-03-26T19:18:48.498Z"
   },
   {
    "duration": 243,
    "start_time": "2023-03-26T19:18:48.502Z"
   },
   {
    "duration": 4755,
    "start_time": "2023-03-26T19:18:48.746Z"
   },
   {
    "duration": 11,
    "start_time": "2023-03-26T19:18:53.502Z"
   },
   {
    "duration": 0,
    "start_time": "2023-03-26T19:18:53.514Z"
   },
   {
    "duration": 0,
    "start_time": "2023-03-26T19:18:53.515Z"
   },
   {
    "duration": 0,
    "start_time": "2023-03-26T19:18:53.516Z"
   },
   {
    "duration": 0,
    "start_time": "2023-03-26T19:18:53.518Z"
   },
   {
    "duration": 0,
    "start_time": "2023-03-26T19:18:53.519Z"
   },
   {
    "duration": 0,
    "start_time": "2023-03-26T19:18:53.520Z"
   },
   {
    "duration": 0,
    "start_time": "2023-03-26T19:18:53.521Z"
   },
   {
    "duration": 0,
    "start_time": "2023-03-26T19:18:53.522Z"
   },
   {
    "duration": 0,
    "start_time": "2023-03-26T19:18:53.523Z"
   },
   {
    "duration": 0,
    "start_time": "2023-03-26T19:18:53.525Z"
   },
   {
    "duration": 0,
    "start_time": "2023-03-26T19:18:53.526Z"
   },
   {
    "duration": 0,
    "start_time": "2023-03-26T19:18:53.527Z"
   },
   {
    "duration": 0,
    "start_time": "2023-03-26T19:18:53.528Z"
   },
   {
    "duration": 0,
    "start_time": "2023-03-26T19:18:53.529Z"
   },
   {
    "duration": 0,
    "start_time": "2023-03-26T19:18:53.530Z"
   },
   {
    "duration": 0,
    "start_time": "2023-03-26T19:18:53.531Z"
   },
   {
    "duration": 0,
    "start_time": "2023-03-26T19:18:53.532Z"
   },
   {
    "duration": 4,
    "start_time": "2023-03-26T19:29:52.724Z"
   },
   {
    "duration": 13,
    "start_time": "2023-03-26T19:29:52.730Z"
   },
   {
    "duration": 1491,
    "start_time": "2023-03-26T19:29:52.745Z"
   },
   {
    "duration": 869,
    "start_time": "2023-03-26T19:29:54.238Z"
   },
   {
    "duration": 20,
    "start_time": "2023-03-26T19:29:55.109Z"
   },
   {
    "duration": 136,
    "start_time": "2023-03-26T19:29:55.130Z"
   },
   {
    "duration": 116,
    "start_time": "2023-03-26T19:29:55.267Z"
   },
   {
    "duration": 138,
    "start_time": "2023-03-26T19:29:55.385Z"
   },
   {
    "duration": 58,
    "start_time": "2023-03-26T19:29:55.525Z"
   },
   {
    "duration": 137,
    "start_time": "2023-03-26T19:29:55.587Z"
   },
   {
    "duration": 297,
    "start_time": "2023-03-26T19:29:55.726Z"
   },
   {
    "duration": 296,
    "start_time": "2023-03-26T19:29:56.025Z"
   },
   {
    "duration": 332,
    "start_time": "2023-03-26T19:29:56.323Z"
   },
   {
    "duration": 274,
    "start_time": "2023-03-26T19:29:56.657Z"
   },
   {
    "duration": 22,
    "start_time": "2023-03-26T19:29:56.933Z"
   },
   {
    "duration": 20,
    "start_time": "2023-03-26T19:29:56.957Z"
   },
   {
    "duration": 50,
    "start_time": "2023-03-26T19:29:56.978Z"
   },
   {
    "duration": 18,
    "start_time": "2023-03-26T19:29:57.030Z"
   },
   {
    "duration": 30,
    "start_time": "2023-03-26T19:29:57.050Z"
   },
   {
    "duration": 23,
    "start_time": "2023-03-26T19:29:57.082Z"
   },
   {
    "duration": 33,
    "start_time": "2023-03-26T19:29:57.107Z"
   },
   {
    "duration": 28,
    "start_time": "2023-03-26T19:29:57.142Z"
   },
   {
    "duration": 5,
    "start_time": "2023-03-26T19:29:57.172Z"
   },
   {
    "duration": 45932,
    "start_time": "2023-03-26T19:29:57.178Z"
   },
   {
    "duration": 80,
    "start_time": "2023-03-26T19:30:43.114Z"
   },
   {
    "duration": 27,
    "start_time": "2023-03-26T19:30:43.196Z"
   },
   {
    "duration": 3,
    "start_time": "2023-03-26T19:30:43.225Z"
   },
   {
    "duration": 6,
    "start_time": "2023-03-26T19:30:43.230Z"
   },
   {
    "duration": 1069,
    "start_time": "2023-03-26T19:30:43.237Z"
   },
   {
    "duration": 2008,
    "start_time": "2023-03-26T19:30:44.308Z"
   },
   {
    "duration": 12,
    "start_time": "2023-03-26T19:30:46.318Z"
   },
   {
    "duration": 36,
    "start_time": "2023-03-26T19:30:46.332Z"
   },
   {
    "duration": 21,
    "start_time": "2023-03-26T19:30:46.370Z"
   },
   {
    "duration": 35,
    "start_time": "2023-03-26T19:30:46.393Z"
   },
   {
    "duration": 58,
    "start_time": "2023-03-26T19:30:46.430Z"
   },
   {
    "duration": 57,
    "start_time": "2023-03-26T19:30:46.490Z"
   },
   {
    "duration": 20,
    "start_time": "2023-03-26T19:30:46.549Z"
   },
   {
    "duration": 108,
    "start_time": "2023-03-26T19:30:46.572Z"
   },
   {
    "duration": 18,
    "start_time": "2023-03-26T19:30:46.682Z"
   },
   {
    "duration": 30,
    "start_time": "2023-03-26T19:30:46.702Z"
   },
   {
    "duration": 118,
    "start_time": "2023-03-26T19:30:46.734Z"
   },
   {
    "duration": 4,
    "start_time": "2023-03-26T19:30:46.853Z"
   },
   {
    "duration": 588,
    "start_time": "2023-03-26T19:30:46.859Z"
   },
   {
    "duration": 3,
    "start_time": "2023-03-26T19:30:47.449Z"
   },
   {
    "duration": 1014,
    "start_time": "2023-03-26T19:30:47.454Z"
   },
   {
    "duration": 0,
    "start_time": "2023-03-26T19:30:48.470Z"
   },
   {
    "duration": 0,
    "start_time": "2023-03-26T19:30:48.472Z"
   },
   {
    "duration": 0,
    "start_time": "2023-03-26T19:30:48.473Z"
   },
   {
    "duration": 0,
    "start_time": "2023-03-26T19:30:48.475Z"
   },
   {
    "duration": 0,
    "start_time": "2023-03-26T19:30:48.477Z"
   },
   {
    "duration": 0,
    "start_time": "2023-03-26T19:30:48.478Z"
   },
   {
    "duration": 0,
    "start_time": "2023-03-26T19:30:48.481Z"
   },
   {
    "duration": 0,
    "start_time": "2023-03-26T19:30:48.482Z"
   },
   {
    "duration": 1,
    "start_time": "2023-03-26T19:30:48.483Z"
   },
   {
    "duration": 0,
    "start_time": "2023-03-26T19:30:48.485Z"
   },
   {
    "duration": 0,
    "start_time": "2023-03-26T19:30:48.486Z"
   },
   {
    "duration": 1,
    "start_time": "2023-03-26T19:30:48.487Z"
   },
   {
    "duration": 0,
    "start_time": "2023-03-26T19:30:48.489Z"
   },
   {
    "duration": 0,
    "start_time": "2023-03-26T19:30:48.490Z"
   },
   {
    "duration": 0,
    "start_time": "2023-03-26T19:30:48.491Z"
   },
   {
    "duration": 0,
    "start_time": "2023-03-26T19:30:48.493Z"
   },
   {
    "duration": 0,
    "start_time": "2023-03-26T19:30:48.495Z"
   },
   {
    "duration": 0,
    "start_time": "2023-03-26T19:30:48.496Z"
   },
   {
    "duration": 0,
    "start_time": "2023-03-26T19:30:48.497Z"
   },
   {
    "duration": 0,
    "start_time": "2023-03-26T19:30:48.498Z"
   },
   {
    "duration": 10,
    "start_time": "2023-03-26T19:41:15.433Z"
   },
   {
    "duration": 5,
    "start_time": "2023-03-26T19:41:19.280Z"
   },
   {
    "duration": 919,
    "start_time": "2023-03-26T19:41:37.324Z"
   },
   {
    "duration": 4,
    "start_time": "2023-03-26T19:43:29.184Z"
   },
   {
    "duration": 3,
    "start_time": "2023-03-26T19:43:29.190Z"
   },
   {
    "duration": 1636,
    "start_time": "2023-03-26T19:43:29.197Z"
   },
   {
    "duration": 905,
    "start_time": "2023-03-26T19:43:30.835Z"
   },
   {
    "duration": 18,
    "start_time": "2023-03-26T19:43:31.742Z"
   },
   {
    "duration": 123,
    "start_time": "2023-03-26T19:43:31.762Z"
   },
   {
    "duration": 143,
    "start_time": "2023-03-26T19:43:31.887Z"
   },
   {
    "duration": 128,
    "start_time": "2023-03-26T19:43:32.032Z"
   },
   {
    "duration": 51,
    "start_time": "2023-03-26T19:43:32.161Z"
   },
   {
    "duration": 129,
    "start_time": "2023-03-26T19:43:32.214Z"
   },
   {
    "duration": 323,
    "start_time": "2023-03-26T19:43:32.345Z"
   },
   {
    "duration": 311,
    "start_time": "2023-03-26T19:43:32.671Z"
   },
   {
    "duration": 333,
    "start_time": "2023-03-26T19:43:32.984Z"
   },
   {
    "duration": 271,
    "start_time": "2023-03-26T19:43:33.318Z"
   },
   {
    "duration": 21,
    "start_time": "2023-03-26T19:43:33.592Z"
   },
   {
    "duration": 20,
    "start_time": "2023-03-26T19:43:33.623Z"
   },
   {
    "duration": 31,
    "start_time": "2023-03-26T19:43:33.644Z"
   },
   {
    "duration": 19,
    "start_time": "2023-03-26T19:43:33.677Z"
   },
   {
    "duration": 30,
    "start_time": "2023-03-26T19:43:33.724Z"
   },
   {
    "duration": 21,
    "start_time": "2023-03-26T19:43:33.756Z"
   },
   {
    "duration": 51,
    "start_time": "2023-03-26T19:43:33.779Z"
   },
   {
    "duration": 32,
    "start_time": "2023-03-26T19:43:33.832Z"
   },
   {
    "duration": 5,
    "start_time": "2023-03-26T19:43:33.866Z"
   },
   {
    "duration": 45010,
    "start_time": "2023-03-26T19:43:33.872Z"
   },
   {
    "duration": 86,
    "start_time": "2023-03-26T19:44:18.884Z"
   },
   {
    "duration": 16,
    "start_time": "2023-03-26T19:44:18.972Z"
   },
   {
    "duration": 7,
    "start_time": "2023-03-26T19:44:18.989Z"
   },
   {
    "duration": 4,
    "start_time": "2023-03-26T19:44:18.997Z"
   },
   {
    "duration": 1074,
    "start_time": "2023-03-26T19:44:19.003Z"
   },
   {
    "duration": 2095,
    "start_time": "2023-03-26T19:44:20.083Z"
   },
   {
    "duration": 8,
    "start_time": "2023-03-26T19:44:22.180Z"
   },
   {
    "duration": 35,
    "start_time": "2023-03-26T19:44:22.189Z"
   },
   {
    "duration": 19,
    "start_time": "2023-03-26T19:44:22.226Z"
   },
   {
    "duration": 4,
    "start_time": "2023-03-26T19:44:22.246Z"
   },
   {
    "duration": 38,
    "start_time": "2023-03-26T19:44:22.252Z"
   },
   {
    "duration": 78,
    "start_time": "2023-03-26T19:44:22.291Z"
   },
   {
    "duration": 20,
    "start_time": "2023-03-26T19:44:22.370Z"
   },
   {
    "duration": 70,
    "start_time": "2023-03-26T19:44:22.391Z"
   },
   {
    "duration": 17,
    "start_time": "2023-03-26T19:44:22.463Z"
   },
   {
    "duration": 2,
    "start_time": "2023-03-26T19:44:22.481Z"
   },
   {
    "duration": 98,
    "start_time": "2023-03-26T19:44:22.485Z"
   },
   {
    "duration": 4,
    "start_time": "2023-03-26T19:44:22.585Z"
   },
   {
    "duration": 614,
    "start_time": "2023-03-26T19:44:22.591Z"
   },
   {
    "duration": 1053,
    "start_time": "2023-03-26T19:44:23.207Z"
   },
   {
    "duration": 0,
    "start_time": "2023-03-26T19:44:24.261Z"
   },
   {
    "duration": 0,
    "start_time": "2023-03-26T19:44:24.263Z"
   },
   {
    "duration": 0,
    "start_time": "2023-03-26T19:44:24.264Z"
   },
   {
    "duration": 0,
    "start_time": "2023-03-26T19:44:24.265Z"
   },
   {
    "duration": 0,
    "start_time": "2023-03-26T19:44:24.266Z"
   },
   {
    "duration": 0,
    "start_time": "2023-03-26T19:44:24.267Z"
   },
   {
    "duration": 0,
    "start_time": "2023-03-26T19:44:24.268Z"
   },
   {
    "duration": 0,
    "start_time": "2023-03-26T19:44:24.270Z"
   },
   {
    "duration": 0,
    "start_time": "2023-03-26T19:44:24.271Z"
   },
   {
    "duration": 0,
    "start_time": "2023-03-26T19:44:24.273Z"
   },
   {
    "duration": 0,
    "start_time": "2023-03-26T19:44:24.273Z"
   },
   {
    "duration": 0,
    "start_time": "2023-03-26T19:44:24.275Z"
   },
   {
    "duration": 0,
    "start_time": "2023-03-26T19:44:24.276Z"
   },
   {
    "duration": 0,
    "start_time": "2023-03-26T19:44:24.277Z"
   },
   {
    "duration": 0,
    "start_time": "2023-03-26T19:44:24.278Z"
   },
   {
    "duration": 0,
    "start_time": "2023-03-26T19:44:24.279Z"
   },
   {
    "duration": 0,
    "start_time": "2023-03-26T19:44:24.280Z"
   },
   {
    "duration": 0,
    "start_time": "2023-03-26T19:44:24.281Z"
   },
   {
    "duration": 0,
    "start_time": "2023-03-26T19:44:24.282Z"
   },
   {
    "duration": 0,
    "start_time": "2023-03-26T19:44:24.283Z"
   },
   {
    "duration": 0,
    "start_time": "2023-03-26T19:44:24.284Z"
   },
   {
    "duration": 0,
    "start_time": "2023-03-26T19:44:24.285Z"
   },
   {
    "duration": 0,
    "start_time": "2023-03-26T19:44:24.287Z"
   },
   {
    "duration": 3,
    "start_time": "2023-03-26T19:46:16.168Z"
   },
   {
    "duration": 3,
    "start_time": "2023-03-26T19:46:16.173Z"
   },
   {
    "duration": 1463,
    "start_time": "2023-03-26T19:46:16.178Z"
   },
   {
    "duration": 863,
    "start_time": "2023-03-26T19:46:17.643Z"
   },
   {
    "duration": 23,
    "start_time": "2023-03-26T19:46:18.508Z"
   },
   {
    "duration": 137,
    "start_time": "2023-03-26T19:46:18.533Z"
   },
   {
    "duration": 117,
    "start_time": "2023-03-26T19:46:18.671Z"
   },
   {
    "duration": 135,
    "start_time": "2023-03-26T19:46:18.790Z"
   },
   {
    "duration": 52,
    "start_time": "2023-03-26T19:46:18.926Z"
   },
   {
    "duration": 125,
    "start_time": "2023-03-26T19:46:18.980Z"
   },
   {
    "duration": 292,
    "start_time": "2023-03-26T19:46:19.107Z"
   },
   {
    "duration": 310,
    "start_time": "2023-03-26T19:46:19.401Z"
   },
   {
    "duration": 328,
    "start_time": "2023-03-26T19:46:19.713Z"
   },
   {
    "duration": 329,
    "start_time": "2023-03-26T19:46:20.042Z"
   },
   {
    "duration": 35,
    "start_time": "2023-03-26T19:46:20.373Z"
   },
   {
    "duration": 33,
    "start_time": "2023-03-26T19:46:20.410Z"
   },
   {
    "duration": 34,
    "start_time": "2023-03-26T19:46:20.445Z"
   },
   {
    "duration": 41,
    "start_time": "2023-03-26T19:46:20.482Z"
   },
   {
    "duration": 45,
    "start_time": "2023-03-26T19:46:20.526Z"
   },
   {
    "duration": 23,
    "start_time": "2023-03-26T19:46:20.573Z"
   },
   {
    "duration": 39,
    "start_time": "2023-03-26T19:46:20.598Z"
   },
   {
    "duration": 32,
    "start_time": "2023-03-26T19:46:20.639Z"
   },
   {
    "duration": 6,
    "start_time": "2023-03-26T19:46:20.673Z"
   },
   {
    "duration": 46056,
    "start_time": "2023-03-26T19:46:20.681Z"
   },
   {
    "duration": 84,
    "start_time": "2023-03-26T19:47:06.739Z"
   },
   {
    "duration": 20,
    "start_time": "2023-03-26T19:47:06.831Z"
   },
   {
    "duration": 7,
    "start_time": "2023-03-26T19:47:06.852Z"
   },
   {
    "duration": 8,
    "start_time": "2023-03-26T19:47:06.861Z"
   },
   {
    "duration": 1117,
    "start_time": "2023-03-26T19:47:06.870Z"
   },
   {
    "duration": 2002,
    "start_time": "2023-03-26T19:47:07.991Z"
   },
   {
    "duration": 8,
    "start_time": "2023-03-26T19:47:09.994Z"
   },
   {
    "duration": 32,
    "start_time": "2023-03-26T19:47:10.003Z"
   },
   {
    "duration": 19,
    "start_time": "2023-03-26T19:47:10.037Z"
   },
   {
    "duration": 5,
    "start_time": "2023-03-26T19:47:10.058Z"
   },
   {
    "duration": 34,
    "start_time": "2023-03-26T19:47:10.065Z"
   },
   {
    "duration": 57,
    "start_time": "2023-03-26T19:47:10.124Z"
   },
   {
    "duration": 23,
    "start_time": "2023-03-26T19:47:10.183Z"
   },
   {
    "duration": 84,
    "start_time": "2023-03-26T19:47:10.227Z"
   },
   {
    "duration": 25,
    "start_time": "2023-03-26T19:47:10.322Z"
   },
   {
    "duration": 10,
    "start_time": "2023-03-26T19:47:10.349Z"
   },
   {
    "duration": 111,
    "start_time": "2023-03-26T19:47:10.362Z"
   },
   {
    "duration": 8,
    "start_time": "2023-03-26T19:47:10.476Z"
   },
   {
    "duration": 606,
    "start_time": "2023-03-26T19:47:10.485Z"
   },
   {
    "duration": 3,
    "start_time": "2023-03-26T19:47:11.093Z"
   },
   {
    "duration": 4,
    "start_time": "2023-03-26T19:47:11.098Z"
   },
   {
    "duration": 5,
    "start_time": "2023-03-26T19:47:11.103Z"
   },
   {
    "duration": 240,
    "start_time": "2023-03-26T19:47:11.123Z"
   },
   {
    "duration": 4913,
    "start_time": "2023-03-26T19:47:11.365Z"
   },
   {
    "duration": 10,
    "start_time": "2023-03-26T19:47:16.280Z"
   },
   {
    "duration": 0,
    "start_time": "2023-03-26T19:47:16.292Z"
   },
   {
    "duration": 0,
    "start_time": "2023-03-26T19:47:16.294Z"
   },
   {
    "duration": 0,
    "start_time": "2023-03-26T19:47:16.295Z"
   },
   {
    "duration": 0,
    "start_time": "2023-03-26T19:47:16.296Z"
   },
   {
    "duration": 0,
    "start_time": "2023-03-26T19:47:16.298Z"
   },
   {
    "duration": 0,
    "start_time": "2023-03-26T19:47:16.300Z"
   },
   {
    "duration": 0,
    "start_time": "2023-03-26T19:47:16.301Z"
   },
   {
    "duration": 0,
    "start_time": "2023-03-26T19:47:16.303Z"
   },
   {
    "duration": 0,
    "start_time": "2023-03-26T19:47:16.304Z"
   },
   {
    "duration": 1,
    "start_time": "2023-03-26T19:47:16.305Z"
   },
   {
    "duration": 0,
    "start_time": "2023-03-26T19:47:16.307Z"
   },
   {
    "duration": 0,
    "start_time": "2023-03-26T19:47:16.308Z"
   },
   {
    "duration": 0,
    "start_time": "2023-03-26T19:47:16.309Z"
   },
   {
    "duration": 0,
    "start_time": "2023-03-26T19:47:16.310Z"
   },
   {
    "duration": 0,
    "start_time": "2023-03-26T19:47:16.312Z"
   },
   {
    "duration": 0,
    "start_time": "2023-03-26T19:47:16.313Z"
   },
   {
    "duration": 0,
    "start_time": "2023-03-26T19:47:16.314Z"
   },
   {
    "duration": 4,
    "start_time": "2023-03-26T19:47:35.521Z"
   },
   {
    "duration": 51,
    "start_time": "2023-03-26T19:47:35.919Z"
   },
   {
    "duration": 165,
    "start_time": "2023-03-26T19:47:36.604Z"
   },
   {
    "duration": 20,
    "start_time": "2023-03-26T19:57:36.262Z"
   },
   {
    "duration": 33,
    "start_time": "2023-03-26T19:58:11.251Z"
   },
   {
    "duration": 10,
    "start_time": "2023-03-26T20:06:51.103Z"
   },
   {
    "duration": 10,
    "start_time": "2023-03-26T20:07:09.157Z"
   },
   {
    "duration": 4,
    "start_time": "2023-03-26T20:07:16.908Z"
   },
   {
    "duration": 593,
    "start_time": "2023-03-26T20:07:21.569Z"
   },
   {
    "duration": 554,
    "start_time": "2023-03-26T20:07:44.188Z"
   },
   {
    "duration": 4,
    "start_time": "2023-03-26T20:07:53.435Z"
   },
   {
    "duration": 10,
    "start_time": "2023-03-26T20:08:13.732Z"
   },
   {
    "duration": 10,
    "start_time": "2023-03-26T20:08:17.534Z"
   },
   {
    "duration": 17,
    "start_time": "2023-03-26T20:08:30.523Z"
   },
   {
    "duration": 68,
    "start_time": "2023-03-26T20:08:35.712Z"
   },
   {
    "duration": 10,
    "start_time": "2023-03-26T20:08:48.601Z"
   },
   {
    "duration": 63,
    "start_time": "2023-03-26T20:08:52.299Z"
   },
   {
    "duration": 5,
    "start_time": "2023-03-26T20:09:05.723Z"
   },
   {
    "duration": 18,
    "start_time": "2023-03-26T20:09:05.730Z"
   },
   {
    "duration": 1543,
    "start_time": "2023-03-26T20:09:05.750Z"
   },
   {
    "duration": 885,
    "start_time": "2023-03-26T20:09:07.295Z"
   },
   {
    "duration": 21,
    "start_time": "2023-03-26T20:09:08.182Z"
   },
   {
    "duration": 130,
    "start_time": "2023-03-26T20:09:08.205Z"
   },
   {
    "duration": 115,
    "start_time": "2023-03-26T20:09:08.337Z"
   },
   {
    "duration": 122,
    "start_time": "2023-03-26T20:09:08.454Z"
   },
   {
    "duration": 71,
    "start_time": "2023-03-26T20:09:08.578Z"
   },
   {
    "duration": 130,
    "start_time": "2023-03-26T20:09:08.653Z"
   },
   {
    "duration": 282,
    "start_time": "2023-03-26T20:09:08.785Z"
   },
   {
    "duration": 309,
    "start_time": "2023-03-26T20:09:09.069Z"
   },
   {
    "duration": 371,
    "start_time": "2023-03-26T20:09:09.381Z"
   },
   {
    "duration": 302,
    "start_time": "2023-03-26T20:09:09.754Z"
   },
   {
    "duration": 33,
    "start_time": "2023-03-26T20:09:10.058Z"
   },
   {
    "duration": 34,
    "start_time": "2023-03-26T20:09:10.093Z"
   },
   {
    "duration": 51,
    "start_time": "2023-03-26T20:09:10.129Z"
   },
   {
    "duration": 40,
    "start_time": "2023-03-26T20:09:10.183Z"
   },
   {
    "duration": 33,
    "start_time": "2023-03-26T20:09:10.226Z"
   },
   {
    "duration": 23,
    "start_time": "2023-03-26T20:09:10.261Z"
   },
   {
    "duration": 64,
    "start_time": "2023-03-26T20:09:10.286Z"
   },
   {
    "duration": 51,
    "start_time": "2023-03-26T20:09:10.352Z"
   },
   {
    "duration": 27,
    "start_time": "2023-03-26T20:09:10.405Z"
   },
   {
    "duration": 46277,
    "start_time": "2023-03-26T20:09:10.434Z"
   },
   {
    "duration": 92,
    "start_time": "2023-03-26T20:09:56.715Z"
   },
   {
    "duration": 25,
    "start_time": "2023-03-26T20:09:56.808Z"
   },
   {
    "duration": 12,
    "start_time": "2023-03-26T20:09:56.835Z"
   },
   {
    "duration": 8,
    "start_time": "2023-03-26T20:09:56.849Z"
   },
   {
    "duration": 1191,
    "start_time": "2023-03-26T20:09:56.859Z"
   },
   {
    "duration": 2110,
    "start_time": "2023-03-26T20:09:58.052Z"
   },
   {
    "duration": 8,
    "start_time": "2023-03-26T20:10:00.164Z"
   },
   {
    "duration": 63,
    "start_time": "2023-03-26T20:10:00.173Z"
   },
   {
    "duration": 50,
    "start_time": "2023-03-26T20:10:00.239Z"
   },
   {
    "duration": 22,
    "start_time": "2023-03-26T20:10:00.292Z"
   },
   {
    "duration": 67,
    "start_time": "2023-03-26T20:10:00.316Z"
   },
   {
    "duration": 72,
    "start_time": "2023-03-26T20:10:00.386Z"
   },
   {
    "duration": 25,
    "start_time": "2023-03-26T20:10:00.463Z"
   },
   {
    "duration": 152,
    "start_time": "2023-03-26T20:10:00.490Z"
   },
   {
    "duration": 48,
    "start_time": "2023-03-26T20:10:00.644Z"
   },
   {
    "duration": 26,
    "start_time": "2023-03-26T20:10:00.694Z"
   },
   {
    "duration": 731,
    "start_time": "2023-03-26T20:10:00.722Z"
   },
   {
    "duration": 613,
    "start_time": "2023-03-26T20:10:01.455Z"
   },
   {
    "duration": 69,
    "start_time": "2023-03-26T20:10:02.070Z"
   },
   {
    "duration": 125,
    "start_time": "2023-03-26T20:10:02.141Z"
   },
   {
    "duration": 4,
    "start_time": "2023-03-26T20:10:02.268Z"
   },
   {
    "duration": 610,
    "start_time": "2023-03-26T20:10:02.274Z"
   },
   {
    "duration": 3,
    "start_time": "2023-03-26T20:10:02.886Z"
   },
   {
    "duration": 128,
    "start_time": "2023-03-26T20:10:02.891Z"
   },
   {
    "duration": 0,
    "start_time": "2023-03-26T20:10:03.021Z"
   },
   {
    "duration": 0,
    "start_time": "2023-03-26T20:10:03.023Z"
   },
   {
    "duration": 0,
    "start_time": "2023-03-26T20:10:03.024Z"
   },
   {
    "duration": 0,
    "start_time": "2023-03-26T20:10:03.025Z"
   },
   {
    "duration": 0,
    "start_time": "2023-03-26T20:10:03.026Z"
   },
   {
    "duration": 0,
    "start_time": "2023-03-26T20:10:03.027Z"
   },
   {
    "duration": 0,
    "start_time": "2023-03-26T20:10:03.028Z"
   },
   {
    "duration": 0,
    "start_time": "2023-03-26T20:10:03.029Z"
   },
   {
    "duration": 0,
    "start_time": "2023-03-26T20:10:03.030Z"
   },
   {
    "duration": 0,
    "start_time": "2023-03-26T20:10:03.031Z"
   },
   {
    "duration": 0,
    "start_time": "2023-03-26T20:10:03.031Z"
   },
   {
    "duration": 0,
    "start_time": "2023-03-26T20:10:03.032Z"
   },
   {
    "duration": 0,
    "start_time": "2023-03-26T20:10:03.033Z"
   },
   {
    "duration": 0,
    "start_time": "2023-03-26T20:10:03.034Z"
   },
   {
    "duration": 0,
    "start_time": "2023-03-26T20:10:03.036Z"
   },
   {
    "duration": 0,
    "start_time": "2023-03-26T20:10:03.037Z"
   },
   {
    "duration": 0,
    "start_time": "2023-03-26T20:10:03.037Z"
   },
   {
    "duration": 0,
    "start_time": "2023-03-26T20:10:03.039Z"
   },
   {
    "duration": 0,
    "start_time": "2023-03-26T20:10:03.040Z"
   },
   {
    "duration": 0,
    "start_time": "2023-03-26T20:10:03.041Z"
   },
   {
    "duration": 4,
    "start_time": "2023-03-26T20:14:19.535Z"
   },
   {
    "duration": 2,
    "start_time": "2023-03-26T20:14:19.541Z"
   },
   {
    "duration": 1563,
    "start_time": "2023-03-26T20:14:19.548Z"
   },
   {
    "duration": 912,
    "start_time": "2023-03-26T20:14:21.113Z"
   },
   {
    "duration": 31,
    "start_time": "2023-03-26T20:14:22.027Z"
   },
   {
    "duration": 162,
    "start_time": "2023-03-26T20:14:22.061Z"
   },
   {
    "duration": 110,
    "start_time": "2023-03-26T20:14:22.225Z"
   },
   {
    "duration": 142,
    "start_time": "2023-03-26T20:14:22.337Z"
   },
   {
    "duration": 65,
    "start_time": "2023-03-26T20:14:22.481Z"
   },
   {
    "duration": 125,
    "start_time": "2023-03-26T20:14:22.548Z"
   },
   {
    "duration": 294,
    "start_time": "2023-03-26T20:14:22.675Z"
   },
   {
    "duration": 298,
    "start_time": "2023-03-26T20:14:22.972Z"
   },
   {
    "duration": 326,
    "start_time": "2023-03-26T20:14:23.272Z"
   },
   {
    "duration": 264,
    "start_time": "2023-03-26T20:14:23.600Z"
   },
   {
    "duration": 23,
    "start_time": "2023-03-26T20:14:23.865Z"
   },
   {
    "duration": 43,
    "start_time": "2023-03-26T20:14:23.890Z"
   },
   {
    "duration": 53,
    "start_time": "2023-03-26T20:14:23.936Z"
   },
   {
    "duration": 39,
    "start_time": "2023-03-26T20:14:23.990Z"
   },
   {
    "duration": 31,
    "start_time": "2023-03-26T20:14:24.031Z"
   },
   {
    "duration": 21,
    "start_time": "2023-03-26T20:14:24.064Z"
   },
   {
    "duration": 49,
    "start_time": "2023-03-26T20:14:24.087Z"
   },
   {
    "duration": 37,
    "start_time": "2023-03-26T20:14:24.137Z"
   },
   {
    "duration": 6,
    "start_time": "2023-03-26T20:14:24.176Z"
   },
   {
    "duration": 44639,
    "start_time": "2023-03-26T20:14:24.184Z"
   },
   {
    "duration": 79,
    "start_time": "2023-03-26T20:15:08.825Z"
   },
   {
    "duration": 24,
    "start_time": "2023-03-26T20:15:08.905Z"
   },
   {
    "duration": 4,
    "start_time": "2023-03-26T20:15:08.930Z"
   },
   {
    "duration": 5,
    "start_time": "2023-03-26T20:15:08.936Z"
   },
   {
    "duration": 1121,
    "start_time": "2023-03-26T20:15:08.942Z"
   },
   {
    "duration": 2117,
    "start_time": "2023-03-26T20:15:10.068Z"
   },
   {
    "duration": 7,
    "start_time": "2023-03-26T20:15:12.187Z"
   },
   {
    "duration": 31,
    "start_time": "2023-03-26T20:15:12.196Z"
   },
   {
    "duration": 18,
    "start_time": "2023-03-26T20:15:12.228Z"
   },
   {
    "duration": 5,
    "start_time": "2023-03-26T20:15:12.247Z"
   },
   {
    "duration": 38,
    "start_time": "2023-03-26T20:15:12.254Z"
   },
   {
    "duration": 76,
    "start_time": "2023-03-26T20:15:12.294Z"
   },
   {
    "duration": 22,
    "start_time": "2023-03-26T20:15:12.371Z"
   },
   {
    "duration": 76,
    "start_time": "2023-03-26T20:15:12.395Z"
   },
   {
    "duration": 18,
    "start_time": "2023-03-26T20:15:12.473Z"
   },
   {
    "duration": 2,
    "start_time": "2023-03-26T20:15:12.493Z"
   },
   {
    "duration": 603,
    "start_time": "2023-03-26T20:15:12.497Z"
   },
   {
    "duration": 582,
    "start_time": "2023-03-26T20:15:13.102Z"
   },
   {
    "duration": 68,
    "start_time": "2023-03-26T20:15:13.685Z"
   },
   {
    "duration": 84,
    "start_time": "2023-03-26T20:15:13.755Z"
   },
   {
    "duration": 4,
    "start_time": "2023-03-26T20:15:13.841Z"
   },
   {
    "duration": 542,
    "start_time": "2023-03-26T20:15:13.846Z"
   },
   {
    "duration": 3,
    "start_time": "2023-03-26T20:15:14.390Z"
   },
   {
    "duration": 260,
    "start_time": "2023-03-26T20:15:14.394Z"
   },
   {
    "duration": 4976,
    "start_time": "2023-03-26T20:15:14.656Z"
   },
   {
    "duration": 11,
    "start_time": "2023-03-26T20:15:19.634Z"
   },
   {
    "duration": 0,
    "start_time": "2023-03-26T20:15:19.646Z"
   },
   {
    "duration": 0,
    "start_time": "2023-03-26T20:15:19.648Z"
   },
   {
    "duration": 0,
    "start_time": "2023-03-26T20:15:19.649Z"
   },
   {
    "duration": 0,
    "start_time": "2023-03-26T20:15:19.650Z"
   },
   {
    "duration": 0,
    "start_time": "2023-03-26T20:15:19.651Z"
   },
   {
    "duration": 0,
    "start_time": "2023-03-26T20:15:19.652Z"
   },
   {
    "duration": 0,
    "start_time": "2023-03-26T20:15:19.654Z"
   },
   {
    "duration": 0,
    "start_time": "2023-03-26T20:15:19.655Z"
   },
   {
    "duration": 0,
    "start_time": "2023-03-26T20:15:19.655Z"
   },
   {
    "duration": 1,
    "start_time": "2023-03-26T20:15:19.656Z"
   },
   {
    "duration": 0,
    "start_time": "2023-03-26T20:15:19.658Z"
   },
   {
    "duration": 0,
    "start_time": "2023-03-26T20:15:19.659Z"
   },
   {
    "duration": 0,
    "start_time": "2023-03-26T20:15:19.660Z"
   },
   {
    "duration": 0,
    "start_time": "2023-03-26T20:15:19.661Z"
   },
   {
    "duration": 0,
    "start_time": "2023-03-26T20:15:19.662Z"
   },
   {
    "duration": 0,
    "start_time": "2023-03-26T20:15:19.663Z"
   },
   {
    "duration": 0,
    "start_time": "2023-03-26T20:15:19.664Z"
   },
   {
    "duration": 11,
    "start_time": "2023-03-26T20:17:26.628Z"
   },
   {
    "duration": 6,
    "start_time": "2023-03-27T08:32:03.500Z"
   },
   {
    "duration": 3,
    "start_time": "2023-03-27T08:32:03.533Z"
   },
   {
    "duration": 2032,
    "start_time": "2023-03-27T08:32:03.562Z"
   },
   {
    "duration": 3585,
    "start_time": "2023-03-27T08:32:05.597Z"
   },
   {
    "duration": 19,
    "start_time": "2023-03-27T08:32:09.183Z"
   },
   {
    "duration": 135,
    "start_time": "2023-03-27T08:32:09.204Z"
   },
   {
    "duration": 105,
    "start_time": "2023-03-27T08:32:09.354Z"
   },
   {
    "duration": 137,
    "start_time": "2023-03-27T08:32:09.461Z"
   },
   {
    "duration": 57,
    "start_time": "2023-03-27T08:32:09.600Z"
   },
   {
    "duration": 163,
    "start_time": "2023-03-27T08:32:09.659Z"
   },
   {
    "duration": 310,
    "start_time": "2023-03-27T08:32:09.824Z"
   },
   {
    "duration": 294,
    "start_time": "2023-03-27T08:32:10.137Z"
   },
   {
    "duration": 335,
    "start_time": "2023-03-27T08:32:10.432Z"
   },
   {
    "duration": 290,
    "start_time": "2023-03-27T08:32:10.769Z"
   },
   {
    "duration": 20,
    "start_time": "2023-03-27T08:32:11.061Z"
   },
   {
    "duration": 37,
    "start_time": "2023-03-27T08:32:11.082Z"
   },
   {
    "duration": 69,
    "start_time": "2023-03-27T08:32:11.121Z"
   },
   {
    "duration": 43,
    "start_time": "2023-03-27T08:32:11.192Z"
   },
   {
    "duration": 51,
    "start_time": "2023-03-27T08:32:11.236Z"
   },
   {
    "duration": 39,
    "start_time": "2023-03-27T08:32:11.289Z"
   },
   {
    "duration": 81,
    "start_time": "2023-03-27T08:32:11.330Z"
   },
   {
    "duration": 79,
    "start_time": "2023-03-27T08:32:11.413Z"
   },
   {
    "duration": 10,
    "start_time": "2023-03-27T08:32:11.494Z"
   },
   {
    "duration": 52621,
    "start_time": "2023-03-27T08:32:11.506Z"
   },
   {
    "duration": 111,
    "start_time": "2023-03-27T08:33:04.128Z"
   },
   {
    "duration": 22,
    "start_time": "2023-03-27T08:33:04.254Z"
   },
   {
    "duration": 7,
    "start_time": "2023-03-27T08:33:04.283Z"
   },
   {
    "duration": 5,
    "start_time": "2023-03-27T08:33:04.293Z"
   },
   {
    "duration": 1545,
    "start_time": "2023-03-27T08:33:04.300Z"
   },
   {
    "duration": 2252,
    "start_time": "2023-03-27T08:33:05.852Z"
   },
   {
    "duration": 11,
    "start_time": "2023-03-27T08:33:08.106Z"
   },
   {
    "duration": 42,
    "start_time": "2023-03-27T08:33:08.119Z"
   },
   {
    "duration": 22,
    "start_time": "2023-03-27T08:33:08.164Z"
   },
   {
    "duration": 6,
    "start_time": "2023-03-27T08:33:08.188Z"
   },
   {
    "duration": 21,
    "start_time": "2023-03-27T08:33:08.195Z"
   },
   {
    "duration": 64,
    "start_time": "2023-03-27T08:33:08.217Z"
   },
   {
    "duration": 19,
    "start_time": "2023-03-27T08:33:08.282Z"
   },
   {
    "duration": 106,
    "start_time": "2023-03-27T08:33:08.303Z"
   },
   {
    "duration": 30,
    "start_time": "2023-03-27T08:33:08.411Z"
   },
   {
    "duration": 2,
    "start_time": "2023-03-27T08:33:08.444Z"
   },
   {
    "duration": 766,
    "start_time": "2023-03-27T08:33:08.448Z"
   },
   {
    "duration": 853,
    "start_time": "2023-03-27T08:33:09.216Z"
   },
   {
    "duration": 125,
    "start_time": "2023-03-27T08:33:10.071Z"
   },
   {
    "duration": 15,
    "start_time": "2023-03-27T08:33:10.198Z"
   },
   {
    "duration": 117,
    "start_time": "2023-03-27T08:33:10.215Z"
   },
   {
    "duration": 27,
    "start_time": "2023-03-27T08:33:10.334Z"
   },
   {
    "duration": 497,
    "start_time": "2023-03-27T08:33:10.364Z"
   },
   {
    "duration": 6,
    "start_time": "2023-03-27T08:33:10.866Z"
   },
   {
    "duration": 344,
    "start_time": "2023-03-27T08:33:10.873Z"
   },
   {
    "duration": 4948,
    "start_time": "2023-03-27T08:33:11.219Z"
   },
   {
    "duration": 16,
    "start_time": "2023-03-27T08:33:16.170Z"
   },
   {
    "duration": 0,
    "start_time": "2023-03-27T08:33:16.191Z"
   },
   {
    "duration": 0,
    "start_time": "2023-03-27T08:33:16.192Z"
   },
   {
    "duration": 0,
    "start_time": "2023-03-27T08:33:16.195Z"
   },
   {
    "duration": 0,
    "start_time": "2023-03-27T08:33:16.196Z"
   },
   {
    "duration": 0,
    "start_time": "2023-03-27T08:33:16.198Z"
   },
   {
    "duration": 1,
    "start_time": "2023-03-27T08:33:16.200Z"
   },
   {
    "duration": 0,
    "start_time": "2023-03-27T08:33:16.203Z"
   },
   {
    "duration": 0,
    "start_time": "2023-03-27T08:33:16.206Z"
   },
   {
    "duration": 0,
    "start_time": "2023-03-27T08:33:16.207Z"
   },
   {
    "duration": 0,
    "start_time": "2023-03-27T08:33:16.209Z"
   },
   {
    "duration": 0,
    "start_time": "2023-03-27T08:33:16.211Z"
   },
   {
    "duration": 0,
    "start_time": "2023-03-27T08:33:16.213Z"
   },
   {
    "duration": 0,
    "start_time": "2023-03-27T08:33:16.215Z"
   },
   {
    "duration": 0,
    "start_time": "2023-03-27T08:33:16.216Z"
   },
   {
    "duration": 0,
    "start_time": "2023-03-27T08:33:16.218Z"
   },
   {
    "duration": 0,
    "start_time": "2023-03-27T08:33:16.219Z"
   },
   {
    "duration": 0,
    "start_time": "2023-03-27T08:33:16.239Z"
   },
   {
    "duration": 5,
    "start_time": "2023-03-27T08:37:13.830Z"
   },
   {
    "duration": 4,
    "start_time": "2023-03-27T08:37:13.837Z"
   },
   {
    "duration": 1540,
    "start_time": "2023-03-27T08:37:13.852Z"
   },
   {
    "duration": 881,
    "start_time": "2023-03-27T08:37:15.394Z"
   },
   {
    "duration": 21,
    "start_time": "2023-03-27T08:37:16.278Z"
   },
   {
    "duration": 154,
    "start_time": "2023-03-27T08:37:16.302Z"
   },
   {
    "duration": 112,
    "start_time": "2023-03-27T08:37:16.459Z"
   },
   {
    "duration": 182,
    "start_time": "2023-03-27T08:37:16.572Z"
   },
   {
    "duration": 49,
    "start_time": "2023-03-27T08:37:16.756Z"
   },
   {
    "duration": 168,
    "start_time": "2023-03-27T08:37:16.807Z"
   },
   {
    "duration": 339,
    "start_time": "2023-03-27T08:37:16.976Z"
   },
   {
    "duration": 288,
    "start_time": "2023-03-27T08:37:17.317Z"
   },
   {
    "duration": 323,
    "start_time": "2023-03-27T08:37:17.607Z"
   },
   {
    "duration": 270,
    "start_time": "2023-03-27T08:37:17.932Z"
   },
   {
    "duration": 21,
    "start_time": "2023-03-27T08:37:18.204Z"
   },
   {
    "duration": 33,
    "start_time": "2023-03-27T08:37:18.226Z"
   },
   {
    "duration": 29,
    "start_time": "2023-03-27T08:37:18.261Z"
   },
   {
    "duration": 20,
    "start_time": "2023-03-27T08:37:18.292Z"
   },
   {
    "duration": 58,
    "start_time": "2023-03-27T08:37:18.314Z"
   },
   {
    "duration": 22,
    "start_time": "2023-03-27T08:37:18.373Z"
   },
   {
    "duration": 56,
    "start_time": "2023-03-27T08:37:18.397Z"
   },
   {
    "duration": 30,
    "start_time": "2023-03-27T08:37:18.455Z"
   },
   {
    "duration": 5,
    "start_time": "2023-03-27T08:37:18.488Z"
   },
   {
    "duration": 48085,
    "start_time": "2023-03-27T08:37:18.494Z"
   },
   {
    "duration": 96,
    "start_time": "2023-03-27T08:38:06.581Z"
   },
   {
    "duration": 27,
    "start_time": "2023-03-27T08:38:06.679Z"
   },
   {
    "duration": 15,
    "start_time": "2023-03-27T08:38:06.708Z"
   },
   {
    "duration": 6,
    "start_time": "2023-03-27T08:38:06.724Z"
   },
   {
    "duration": 1165,
    "start_time": "2023-03-27T08:38:06.731Z"
   },
   {
    "duration": 1922,
    "start_time": "2023-03-27T08:38:07.900Z"
   },
   {
    "duration": 25,
    "start_time": "2023-03-27T08:38:09.824Z"
   },
   {
    "duration": 20,
    "start_time": "2023-03-27T08:38:09.850Z"
   },
   {
    "duration": 18,
    "start_time": "2023-03-27T08:38:09.871Z"
   },
   {
    "duration": 4,
    "start_time": "2023-03-27T08:38:09.891Z"
   },
   {
    "duration": 18,
    "start_time": "2023-03-27T08:38:09.896Z"
   },
   {
    "duration": 44,
    "start_time": "2023-03-27T08:38:09.945Z"
   },
   {
    "duration": 21,
    "start_time": "2023-03-27T08:38:09.991Z"
   },
   {
    "duration": 88,
    "start_time": "2023-03-27T08:38:10.013Z"
   },
   {
    "duration": 21,
    "start_time": "2023-03-27T08:38:10.102Z"
   },
   {
    "duration": 20,
    "start_time": "2023-03-27T08:38:10.125Z"
   },
   {
    "duration": 103,
    "start_time": "2023-03-27T08:38:10.146Z"
   },
   {
    "duration": 17,
    "start_time": "2023-03-27T08:38:10.255Z"
   },
   {
    "duration": 83,
    "start_time": "2023-03-27T08:38:10.274Z"
   },
   {
    "duration": 99,
    "start_time": "2023-03-27T08:38:10.360Z"
   },
   {
    "duration": 529,
    "start_time": "2023-03-27T08:38:10.461Z"
   },
   {
    "duration": 0,
    "start_time": "2023-03-27T08:38:10.992Z"
   },
   {
    "duration": 0,
    "start_time": "2023-03-27T08:38:10.993Z"
   },
   {
    "duration": 0,
    "start_time": "2023-03-27T08:38:10.994Z"
   },
   {
    "duration": 0,
    "start_time": "2023-03-27T08:38:10.995Z"
   },
   {
    "duration": 0,
    "start_time": "2023-03-27T08:38:10.996Z"
   },
   {
    "duration": 0,
    "start_time": "2023-03-27T08:38:10.997Z"
   },
   {
    "duration": 0,
    "start_time": "2023-03-27T08:38:10.999Z"
   },
   {
    "duration": 0,
    "start_time": "2023-03-27T08:38:11.001Z"
   },
   {
    "duration": 0,
    "start_time": "2023-03-27T08:38:11.002Z"
   },
   {
    "duration": 0,
    "start_time": "2023-03-27T08:38:11.003Z"
   },
   {
    "duration": 0,
    "start_time": "2023-03-27T08:38:11.004Z"
   },
   {
    "duration": 1,
    "start_time": "2023-03-27T08:38:11.005Z"
   },
   {
    "duration": 0,
    "start_time": "2023-03-27T08:38:11.006Z"
   },
   {
    "duration": 0,
    "start_time": "2023-03-27T08:38:11.007Z"
   },
   {
    "duration": 0,
    "start_time": "2023-03-27T08:38:11.009Z"
   },
   {
    "duration": 0,
    "start_time": "2023-03-27T08:38:11.057Z"
   },
   {
    "duration": 0,
    "start_time": "2023-03-27T08:38:11.060Z"
   },
   {
    "duration": 0,
    "start_time": "2023-03-27T08:38:11.061Z"
   },
   {
    "duration": 1,
    "start_time": "2023-03-27T08:38:11.062Z"
   },
   {
    "duration": 1,
    "start_time": "2023-03-27T08:38:11.063Z"
   },
   {
    "duration": 0,
    "start_time": "2023-03-27T08:38:11.065Z"
   },
   {
    "duration": 0,
    "start_time": "2023-03-27T08:38:11.066Z"
   },
   {
    "duration": 0,
    "start_time": "2023-03-27T08:38:11.067Z"
   },
   {
    "duration": 9,
    "start_time": "2023-03-27T08:39:51.907Z"
   },
   {
    "duration": 10,
    "start_time": "2023-03-27T08:40:00.676Z"
   },
   {
    "duration": 4,
    "start_time": "2023-03-27T08:45:23.528Z"
   },
   {
    "duration": 3,
    "start_time": "2023-03-27T08:45:23.535Z"
   },
   {
    "duration": 3579,
    "start_time": "2023-03-27T08:45:23.541Z"
   },
   {
    "duration": 1862,
    "start_time": "2023-03-27T08:45:27.123Z"
   },
   {
    "duration": 908,
    "start_time": "2023-03-27T08:45:28.987Z"
   },
   {
    "duration": 23,
    "start_time": "2023-03-27T08:45:29.897Z"
   },
   {
    "duration": 198,
    "start_time": "2023-03-27T08:45:29.921Z"
   },
   {
    "duration": 128,
    "start_time": "2023-03-27T08:45:30.120Z"
   },
   {
    "duration": 152,
    "start_time": "2023-03-27T08:45:30.250Z"
   },
   {
    "duration": 61,
    "start_time": "2023-03-27T08:45:30.404Z"
   },
   {
    "duration": 155,
    "start_time": "2023-03-27T08:45:30.467Z"
   },
   {
    "duration": 348,
    "start_time": "2023-03-27T08:45:30.624Z"
   },
   {
    "duration": 317,
    "start_time": "2023-03-27T08:45:30.975Z"
   },
   {
    "duration": 488,
    "start_time": "2023-03-27T08:45:31.295Z"
   },
   {
    "duration": 294,
    "start_time": "2023-03-27T08:45:31.785Z"
   },
   {
    "duration": 35,
    "start_time": "2023-03-27T08:45:32.081Z"
   },
   {
    "duration": 46,
    "start_time": "2023-03-27T08:45:32.118Z"
   },
   {
    "duration": 95,
    "start_time": "2023-03-27T08:45:32.166Z"
   },
   {
    "duration": 43,
    "start_time": "2023-03-27T08:45:32.263Z"
   },
   {
    "duration": 73,
    "start_time": "2023-03-27T08:45:32.308Z"
   },
   {
    "duration": 23,
    "start_time": "2023-03-27T08:45:32.383Z"
   },
   {
    "duration": 60,
    "start_time": "2023-03-27T08:45:32.408Z"
   },
   {
    "duration": 58,
    "start_time": "2023-03-27T08:45:32.470Z"
   },
   {
    "duration": 11,
    "start_time": "2023-03-27T08:45:32.551Z"
   },
   {
    "duration": 52563,
    "start_time": "2023-03-27T08:45:32.569Z"
   },
   {
    "duration": 121,
    "start_time": "2023-03-27T08:46:25.133Z"
   },
   {
    "duration": 22,
    "start_time": "2023-03-27T08:46:25.266Z"
   },
   {
    "duration": 4,
    "start_time": "2023-03-27T08:46:25.289Z"
   },
   {
    "duration": 7,
    "start_time": "2023-03-27T08:46:25.294Z"
   },
   {
    "duration": 1261,
    "start_time": "2023-03-27T08:46:25.305Z"
   },
   {
    "duration": 2215,
    "start_time": "2023-03-27T08:46:26.567Z"
   },
   {
    "duration": 8,
    "start_time": "2023-03-27T08:46:28.783Z"
   },
   {
    "duration": 18,
    "start_time": "2023-03-27T08:46:28.794Z"
   },
   {
    "duration": 52,
    "start_time": "2023-03-27T08:46:28.813Z"
   },
   {
    "duration": 6,
    "start_time": "2023-03-27T08:46:28.866Z"
   },
   {
    "duration": 21,
    "start_time": "2023-03-27T08:46:28.874Z"
   },
   {
    "duration": 61,
    "start_time": "2023-03-27T08:46:28.896Z"
   },
   {
    "duration": 22,
    "start_time": "2023-03-27T08:46:28.958Z"
   },
   {
    "duration": 100,
    "start_time": "2023-03-27T08:46:28.981Z"
   },
   {
    "duration": 31,
    "start_time": "2023-03-27T08:46:29.084Z"
   },
   {
    "duration": 7,
    "start_time": "2023-03-27T08:46:29.118Z"
   },
   {
    "duration": 80,
    "start_time": "2023-03-27T08:46:29.126Z"
   },
   {
    "duration": 11,
    "start_time": "2023-03-27T08:46:29.208Z"
   },
   {
    "duration": 88,
    "start_time": "2023-03-27T08:46:29.220Z"
   },
   {
    "duration": 3,
    "start_time": "2023-03-27T08:46:29.309Z"
   },
   {
    "duration": 168,
    "start_time": "2023-03-27T08:46:29.313Z"
   },
   {
    "duration": 0,
    "start_time": "2023-03-27T08:46:29.483Z"
   },
   {
    "duration": 0,
    "start_time": "2023-03-27T08:46:29.484Z"
   },
   {
    "duration": 0,
    "start_time": "2023-03-27T08:46:29.486Z"
   },
   {
    "duration": 0,
    "start_time": "2023-03-27T08:46:29.488Z"
   },
   {
    "duration": 0,
    "start_time": "2023-03-27T08:46:29.489Z"
   },
   {
    "duration": 0,
    "start_time": "2023-03-27T08:46:29.491Z"
   },
   {
    "duration": 0,
    "start_time": "2023-03-27T08:46:29.492Z"
   },
   {
    "duration": 0,
    "start_time": "2023-03-27T08:46:29.493Z"
   },
   {
    "duration": 0,
    "start_time": "2023-03-27T08:46:29.494Z"
   },
   {
    "duration": 0,
    "start_time": "2023-03-27T08:46:29.495Z"
   },
   {
    "duration": 0,
    "start_time": "2023-03-27T08:46:29.497Z"
   },
   {
    "duration": 0,
    "start_time": "2023-03-27T08:46:29.498Z"
   },
   {
    "duration": 0,
    "start_time": "2023-03-27T08:46:29.499Z"
   },
   {
    "duration": 0,
    "start_time": "2023-03-27T08:46:29.500Z"
   },
   {
    "duration": 0,
    "start_time": "2023-03-27T08:46:29.501Z"
   },
   {
    "duration": 0,
    "start_time": "2023-03-27T08:46:29.502Z"
   },
   {
    "duration": 0,
    "start_time": "2023-03-27T08:46:29.503Z"
   },
   {
    "duration": 0,
    "start_time": "2023-03-27T08:46:29.504Z"
   },
   {
    "duration": 0,
    "start_time": "2023-03-27T08:46:29.506Z"
   },
   {
    "duration": 0,
    "start_time": "2023-03-27T08:46:29.540Z"
   },
   {
    "duration": 0,
    "start_time": "2023-03-27T08:46:29.543Z"
   },
   {
    "duration": 0,
    "start_time": "2023-03-27T08:46:29.545Z"
   },
   {
    "duration": 0,
    "start_time": "2023-03-27T08:46:29.546Z"
   },
   {
    "duration": 0,
    "start_time": "2023-03-27T08:46:29.548Z"
   },
   {
    "duration": 0,
    "start_time": "2023-03-27T08:46:29.549Z"
   },
   {
    "duration": 2,
    "start_time": "2023-03-27T08:47:07.559Z"
   },
   {
    "duration": 1167,
    "start_time": "2023-03-27T08:47:09.757Z"
   },
   {
    "duration": 820,
    "start_time": "2023-03-27T08:47:11.168Z"
   },
   {
    "duration": 4,
    "start_time": "2023-03-27T08:47:13.707Z"
   },
   {
    "duration": 47,
    "start_time": "2023-03-27T08:47:15.758Z"
   },
   {
    "duration": 3,
    "start_time": "2023-03-27T08:47:17.963Z"
   },
   {
    "duration": 3154,
    "start_time": "2023-03-27T08:47:20.503Z"
   },
   {
    "duration": 4,
    "start_time": "2023-03-27T08:47:32.022Z"
   },
   {
    "duration": 30,
    "start_time": "2023-03-27T08:47:32.028Z"
   },
   {
    "duration": 2295,
    "start_time": "2023-03-27T08:47:32.061Z"
   },
   {
    "duration": 1611,
    "start_time": "2023-03-27T08:47:34.358Z"
   },
   {
    "duration": 887,
    "start_time": "2023-03-27T08:47:35.971Z"
   },
   {
    "duration": 26,
    "start_time": "2023-03-27T08:47:36.861Z"
   },
   {
    "duration": 196,
    "start_time": "2023-03-27T08:47:36.888Z"
   },
   {
    "duration": 120,
    "start_time": "2023-03-27T08:47:37.086Z"
   },
   {
    "duration": 192,
    "start_time": "2023-03-27T08:47:37.208Z"
   },
   {
    "duration": 61,
    "start_time": "2023-03-27T08:47:37.403Z"
   },
   {
    "duration": 233,
    "start_time": "2023-03-27T08:47:37.467Z"
   },
   {
    "duration": 350,
    "start_time": "2023-03-27T08:47:37.703Z"
   },
   {
    "duration": 308,
    "start_time": "2023-03-27T08:47:38.058Z"
   },
   {
    "duration": 339,
    "start_time": "2023-03-27T08:47:38.367Z"
   },
   {
    "duration": 274,
    "start_time": "2023-03-27T08:47:38.708Z"
   },
   {
    "duration": 22,
    "start_time": "2023-03-27T08:47:38.984Z"
   },
   {
    "duration": 47,
    "start_time": "2023-03-27T08:47:39.007Z"
   },
   {
    "duration": 45,
    "start_time": "2023-03-27T08:47:39.057Z"
   },
   {
    "duration": 33,
    "start_time": "2023-03-27T08:47:39.104Z"
   },
   {
    "duration": 40,
    "start_time": "2023-03-27T08:47:39.139Z"
   },
   {
    "duration": 26,
    "start_time": "2023-03-27T08:47:39.180Z"
   },
   {
    "duration": 62,
    "start_time": "2023-03-27T08:47:39.208Z"
   },
   {
    "duration": 32,
    "start_time": "2023-03-27T08:47:39.271Z"
   },
   {
    "duration": 11,
    "start_time": "2023-03-27T08:47:39.305Z"
   },
   {
    "duration": 49814,
    "start_time": "2023-03-27T08:47:39.318Z"
   },
   {
    "duration": 89,
    "start_time": "2023-03-27T08:48:29.134Z"
   },
   {
    "duration": 29,
    "start_time": "2023-03-27T08:48:29.225Z"
   },
   {
    "duration": 5,
    "start_time": "2023-03-27T08:48:29.257Z"
   },
   {
    "duration": 3,
    "start_time": "2023-03-27T08:48:29.263Z"
   },
   {
    "duration": 1092,
    "start_time": "2023-03-27T08:48:29.268Z"
   },
   {
    "duration": 1849,
    "start_time": "2023-03-27T08:48:30.362Z"
   },
   {
    "duration": 8,
    "start_time": "2023-03-27T08:48:32.212Z"
   },
   {
    "duration": 37,
    "start_time": "2023-03-27T08:48:32.222Z"
   },
   {
    "duration": 22,
    "start_time": "2023-03-27T08:48:32.260Z"
   },
   {
    "duration": 4,
    "start_time": "2023-03-27T08:48:32.283Z"
   },
   {
    "duration": 19,
    "start_time": "2023-03-27T08:48:32.289Z"
   },
   {
    "duration": 69,
    "start_time": "2023-03-27T08:48:32.313Z"
   },
   {
    "duration": 23,
    "start_time": "2023-03-27T08:48:32.383Z"
   },
   {
    "duration": 98,
    "start_time": "2023-03-27T08:48:32.408Z"
   },
   {
    "duration": 18,
    "start_time": "2023-03-27T08:48:32.508Z"
   },
   {
    "duration": 3,
    "start_time": "2023-03-27T08:48:32.528Z"
   },
   {
    "duration": 69,
    "start_time": "2023-03-27T08:48:32.543Z"
   },
   {
    "duration": 31,
    "start_time": "2023-03-27T08:48:32.614Z"
   },
   {
    "duration": 62,
    "start_time": "2023-03-27T08:48:32.647Z"
   },
   {
    "duration": 2,
    "start_time": "2023-03-27T08:48:32.711Z"
   },
   {
    "duration": 12,
    "start_time": "2023-03-27T08:48:32.714Z"
   },
   {
    "duration": 1155,
    "start_time": "2023-03-27T08:48:32.728Z"
   },
   {
    "duration": 849,
    "start_time": "2023-03-27T08:48:33.885Z"
   },
   {
    "duration": 18,
    "start_time": "2023-03-27T08:48:34.735Z"
   },
   {
    "duration": 52,
    "start_time": "2023-03-27T08:48:34.755Z"
   },
   {
    "duration": 3,
    "start_time": "2023-03-27T08:48:34.809Z"
   },
   {
    "duration": 3047,
    "start_time": "2023-03-27T08:48:34.814Z"
   },
   {
    "duration": 103712,
    "start_time": "2023-03-27T08:48:37.863Z"
   },
   {
    "duration": 119,
    "start_time": "2023-03-27T08:50:21.577Z"
   },
   {
    "duration": 4,
    "start_time": "2023-03-27T08:50:21.698Z"
   },
   {
    "duration": 6,
    "start_time": "2023-03-27T08:50:21.703Z"
   },
   {
    "duration": 4,
    "start_time": "2023-03-27T09:22:57.603Z"
   },
   {
    "duration": 4,
    "start_time": "2023-03-27T09:22:57.610Z"
   },
   {
    "duration": 2305,
    "start_time": "2023-03-27T09:22:57.616Z"
   },
   {
    "duration": 1689,
    "start_time": "2023-03-27T09:22:59.924Z"
   },
   {
    "duration": 1006,
    "start_time": "2023-03-27T09:23:01.615Z"
   },
   {
    "duration": 28,
    "start_time": "2023-03-27T09:23:02.623Z"
   },
   {
    "duration": 127,
    "start_time": "2023-03-27T09:23:02.652Z"
   },
   {
    "duration": 117,
    "start_time": "2023-03-27T09:23:02.780Z"
   },
   {
    "duration": 166,
    "start_time": "2023-03-27T09:23:02.899Z"
   },
   {
    "duration": 49,
    "start_time": "2023-03-27T09:23:03.067Z"
   },
   {
    "duration": 140,
    "start_time": "2023-03-27T09:23:03.117Z"
   },
   {
    "duration": 296,
    "start_time": "2023-03-27T09:23:03.261Z"
   },
   {
    "duration": 338,
    "start_time": "2023-03-27T09:23:03.562Z"
   },
   {
    "duration": 355,
    "start_time": "2023-03-27T09:23:03.902Z"
   },
   {
    "duration": 309,
    "start_time": "2023-03-27T09:23:04.258Z"
   },
   {
    "duration": 37,
    "start_time": "2023-03-27T09:23:04.569Z"
   },
   {
    "duration": 21,
    "start_time": "2023-03-27T09:23:04.608Z"
   },
   {
    "duration": 41,
    "start_time": "2023-03-27T09:23:04.631Z"
   },
   {
    "duration": 21,
    "start_time": "2023-03-27T09:23:04.673Z"
   },
   {
    "duration": 31,
    "start_time": "2023-03-27T09:23:04.696Z"
   },
   {
    "duration": 29,
    "start_time": "2023-03-27T09:23:04.740Z"
   },
   {
    "duration": 74,
    "start_time": "2023-03-27T09:23:04.771Z"
   },
   {
    "duration": 55,
    "start_time": "2023-03-27T09:23:04.846Z"
   },
   {
    "duration": 4,
    "start_time": "2023-03-27T09:23:04.903Z"
   },
   {
    "duration": 49217,
    "start_time": "2023-03-27T09:23:04.909Z"
   },
   {
    "duration": 93,
    "start_time": "2023-03-27T09:23:54.128Z"
   },
   {
    "duration": 35,
    "start_time": "2023-03-27T09:23:54.222Z"
   },
   {
    "duration": 6,
    "start_time": "2023-03-27T09:23:54.260Z"
   },
   {
    "duration": 27,
    "start_time": "2023-03-27T09:23:54.267Z"
   },
   {
    "duration": 1090,
    "start_time": "2023-03-27T09:23:54.298Z"
   },
   {
    "duration": 2096,
    "start_time": "2023-03-27T09:23:55.392Z"
   },
   {
    "duration": 8,
    "start_time": "2023-03-27T09:23:57.489Z"
   },
   {
    "duration": 18,
    "start_time": "2023-03-27T09:23:57.498Z"
   },
   {
    "duration": 34,
    "start_time": "2023-03-27T09:23:57.518Z"
   },
   {
    "duration": 6,
    "start_time": "2023-03-27T09:23:57.554Z"
   },
   {
    "duration": 37,
    "start_time": "2023-03-27T09:23:57.561Z"
   },
   {
    "duration": 39,
    "start_time": "2023-03-27T09:23:57.600Z"
   },
   {
    "duration": 25,
    "start_time": "2023-03-27T09:23:57.650Z"
   },
   {
    "duration": 95,
    "start_time": "2023-03-27T09:23:57.677Z"
   },
   {
    "duration": 18,
    "start_time": "2023-03-27T09:23:57.773Z"
   },
   {
    "duration": 3,
    "start_time": "2023-03-27T09:23:57.793Z"
   },
   {
    "duration": 79,
    "start_time": "2023-03-27T09:23:57.797Z"
   },
   {
    "duration": 11,
    "start_time": "2023-03-27T09:23:57.878Z"
   },
   {
    "duration": 68,
    "start_time": "2023-03-27T09:23:57.890Z"
   },
   {
    "duration": 4,
    "start_time": "2023-03-27T09:23:57.960Z"
   },
   {
    "duration": 31,
    "start_time": "2023-03-27T09:23:57.966Z"
   },
   {
    "duration": 2,
    "start_time": "2023-03-27T09:23:57.999Z"
   },
   {
    "duration": 3,
    "start_time": "2023-03-27T09:23:58.003Z"
   },
   {
    "duration": 3,
    "start_time": "2023-03-27T09:23:58.008Z"
   },
   {
    "duration": 1247,
    "start_time": "2023-03-27T09:23:58.012Z"
   },
   {
    "duration": 587,
    "start_time": "2023-03-27T09:23:59.260Z"
   },
   {
    "duration": 5,
    "start_time": "2023-03-27T09:23:59.854Z"
   },
   {
    "duration": 125,
    "start_time": "2023-03-27T09:23:59.862Z"
   },
   {
    "duration": 3,
    "start_time": "2023-03-27T09:23:59.988Z"
   },
   {
    "duration": 2866,
    "start_time": "2023-03-27T09:23:59.993Z"
   },
   {
    "duration": 80661,
    "start_time": "2023-03-27T09:24:02.864Z"
   },
   {
    "duration": 99,
    "start_time": "2023-03-27T09:25:23.527Z"
   },
   {
    "duration": 18,
    "start_time": "2023-03-27T09:25:23.628Z"
   },
   {
    "duration": 16,
    "start_time": "2023-03-27T09:25:23.648Z"
   },
   {
    "duration": 5,
    "start_time": "2023-03-27T09:30:27.302Z"
   },
   {
    "duration": 9,
    "start_time": "2023-03-27T09:30:27.310Z"
   },
   {
    "duration": 11,
    "start_time": "2023-03-27T09:30:27.321Z"
   },
   {
    "duration": 1993,
    "start_time": "2023-03-27T09:30:27.335Z"
   },
   {
    "duration": 949,
    "start_time": "2023-03-27T09:30:29.332Z"
   },
   {
    "duration": 22,
    "start_time": "2023-03-27T09:30:30.284Z"
   },
   {
    "duration": 181,
    "start_time": "2023-03-27T09:30:30.308Z"
   },
   {
    "duration": 116,
    "start_time": "2023-03-27T09:30:30.491Z"
   },
   {
    "duration": 149,
    "start_time": "2023-03-27T09:30:30.609Z"
   },
   {
    "duration": 49,
    "start_time": "2023-03-27T09:30:30.760Z"
   },
   {
    "duration": 146,
    "start_time": "2023-03-27T09:30:30.811Z"
   },
   {
    "duration": 299,
    "start_time": "2023-03-27T09:30:30.959Z"
   },
   {
    "duration": 283,
    "start_time": "2023-03-27T09:30:31.259Z"
   },
   {
    "duration": 325,
    "start_time": "2023-03-27T09:30:31.545Z"
   },
   {
    "duration": 266,
    "start_time": "2023-03-27T09:30:31.872Z"
   },
   {
    "duration": 32,
    "start_time": "2023-03-27T09:30:32.140Z"
   },
   {
    "duration": 19,
    "start_time": "2023-03-27T09:30:32.174Z"
   },
   {
    "duration": 59,
    "start_time": "2023-03-27T09:30:32.194Z"
   },
   {
    "duration": 43,
    "start_time": "2023-03-27T09:30:32.257Z"
   },
   {
    "duration": 51,
    "start_time": "2023-03-27T09:30:32.303Z"
   },
   {
    "duration": 23,
    "start_time": "2023-03-27T09:30:32.356Z"
   },
   {
    "duration": 38,
    "start_time": "2023-03-27T09:30:32.381Z"
   },
   {
    "duration": 55,
    "start_time": "2023-03-27T09:30:32.421Z"
   },
   {
    "duration": 7,
    "start_time": "2023-03-27T09:30:32.477Z"
   },
   {
    "duration": 49753,
    "start_time": "2023-03-27T09:30:32.485Z"
   },
   {
    "duration": 96,
    "start_time": "2023-03-27T09:31:22.239Z"
   },
   {
    "duration": 25,
    "start_time": "2023-03-27T09:31:22.346Z"
   },
   {
    "duration": 23,
    "start_time": "2023-03-27T09:31:22.374Z"
   },
   {
    "duration": 7,
    "start_time": "2023-03-27T09:31:22.399Z"
   },
   {
    "duration": 1190,
    "start_time": "2023-03-27T09:31:22.407Z"
   },
   {
    "duration": 2066,
    "start_time": "2023-03-27T09:31:23.599Z"
   },
   {
    "duration": 8,
    "start_time": "2023-03-27T09:31:25.667Z"
   },
   {
    "duration": 19,
    "start_time": "2023-03-27T09:31:25.676Z"
   },
   {
    "duration": 21,
    "start_time": "2023-03-27T09:31:25.697Z"
   },
   {
    "duration": 30,
    "start_time": "2023-03-27T09:31:25.719Z"
   },
   {
    "duration": 25,
    "start_time": "2023-03-27T09:31:25.750Z"
   },
   {
    "duration": 53,
    "start_time": "2023-03-27T09:31:25.777Z"
   },
   {
    "duration": 34,
    "start_time": "2023-03-27T09:31:25.845Z"
   },
   {
    "duration": 72,
    "start_time": "2023-03-27T09:31:25.881Z"
   },
   {
    "duration": 24,
    "start_time": "2023-03-27T09:31:25.955Z"
   },
   {
    "duration": 3,
    "start_time": "2023-03-27T09:31:25.985Z"
   },
   {
    "duration": 105,
    "start_time": "2023-03-27T09:31:25.991Z"
   },
   {
    "duration": 12,
    "start_time": "2023-03-27T09:31:26.098Z"
   },
   {
    "duration": 89,
    "start_time": "2023-03-27T09:31:26.112Z"
   },
   {
    "duration": 5,
    "start_time": "2023-03-27T09:31:26.203Z"
   },
   {
    "duration": 49,
    "start_time": "2023-03-27T09:31:26.210Z"
   },
   {
    "duration": 2,
    "start_time": "2023-03-27T09:31:26.262Z"
   },
   {
    "duration": 3,
    "start_time": "2023-03-27T09:31:26.266Z"
   },
   {
    "duration": 3,
    "start_time": "2023-03-27T09:31:26.271Z"
   },
   {
    "duration": 1148,
    "start_time": "2023-03-27T09:31:26.276Z"
   },
   {
    "duration": 837,
    "start_time": "2023-03-27T09:31:27.426Z"
   },
   {
    "duration": 5,
    "start_time": "2023-03-27T09:31:28.265Z"
   },
   {
    "duration": 49,
    "start_time": "2023-03-27T09:31:28.272Z"
   },
   {
    "duration": 4,
    "start_time": "2023-03-27T09:31:28.322Z"
   },
   {
    "duration": 3121,
    "start_time": "2023-03-27T09:31:28.328Z"
   },
   {
    "duration": 80734,
    "start_time": "2023-03-27T09:31:31.452Z"
   },
   {
    "duration": 90,
    "start_time": "2023-03-27T09:32:52.187Z"
   },
   {
    "duration": 3,
    "start_time": "2023-03-27T09:32:52.279Z"
   },
   {
    "duration": 8,
    "start_time": "2023-03-27T09:32:52.284Z"
   },
   {
    "duration": 4,
    "start_time": "2023-03-27T09:39:48.581Z"
   },
   {
    "duration": 13,
    "start_time": "2023-03-27T09:39:48.587Z"
   },
   {
    "duration": 4,
    "start_time": "2023-03-27T09:39:48.602Z"
   },
   {
    "duration": 1584,
    "start_time": "2023-03-27T09:39:48.608Z"
   },
   {
    "duration": 868,
    "start_time": "2023-03-27T09:39:50.194Z"
   },
   {
    "duration": 17,
    "start_time": "2023-03-27T09:39:51.064Z"
   },
   {
    "duration": 161,
    "start_time": "2023-03-27T09:39:51.084Z"
   },
   {
    "duration": 111,
    "start_time": "2023-03-27T09:39:51.246Z"
   },
   {
    "duration": 128,
    "start_time": "2023-03-27T09:39:51.358Z"
   },
   {
    "duration": 64,
    "start_time": "2023-03-27T09:39:51.487Z"
   },
   {
    "duration": 137,
    "start_time": "2023-03-27T09:39:51.555Z"
   },
   {
    "duration": 304,
    "start_time": "2023-03-27T09:39:51.694Z"
   },
   {
    "duration": 280,
    "start_time": "2023-03-27T09:39:52.000Z"
   },
   {
    "duration": 325,
    "start_time": "2023-03-27T09:39:52.282Z"
   },
   {
    "duration": 269,
    "start_time": "2023-03-27T09:39:52.611Z"
   },
   {
    "duration": 23,
    "start_time": "2023-03-27T09:39:52.882Z"
   },
   {
    "duration": 39,
    "start_time": "2023-03-27T09:39:52.907Z"
   },
   {
    "duration": 31,
    "start_time": "2023-03-27T09:39:52.955Z"
   },
   {
    "duration": 32,
    "start_time": "2023-03-27T09:39:52.987Z"
   },
   {
    "duration": 40,
    "start_time": "2023-03-27T09:39:53.020Z"
   },
   {
    "duration": 45,
    "start_time": "2023-03-27T09:39:53.062Z"
   },
   {
    "duration": 46,
    "start_time": "2023-03-27T09:39:53.109Z"
   },
   {
    "duration": 32,
    "start_time": "2023-03-27T09:39:53.156Z"
   },
   {
    "duration": 8,
    "start_time": "2023-03-27T09:39:53.189Z"
   },
   {
    "duration": 47961,
    "start_time": "2023-03-27T09:39:53.198Z"
   },
   {
    "duration": 94,
    "start_time": "2023-03-27T09:40:41.161Z"
   },
   {
    "duration": 18,
    "start_time": "2023-03-27T09:40:41.262Z"
   },
   {
    "duration": 7,
    "start_time": "2023-03-27T09:40:41.281Z"
   },
   {
    "duration": 8,
    "start_time": "2023-03-27T09:40:41.290Z"
   },
   {
    "duration": 1084,
    "start_time": "2023-03-27T09:40:41.300Z"
   },
   {
    "duration": 1819,
    "start_time": "2023-03-27T09:40:42.386Z"
   },
   {
    "duration": 8,
    "start_time": "2023-03-27T09:40:44.207Z"
   },
   {
    "duration": 40,
    "start_time": "2023-03-27T09:40:44.217Z"
   },
   {
    "duration": 23,
    "start_time": "2023-03-27T09:40:44.259Z"
   },
   {
    "duration": 7,
    "start_time": "2023-03-27T09:40:44.283Z"
   },
   {
    "duration": 17,
    "start_time": "2023-03-27T09:40:44.291Z"
   },
   {
    "duration": 43,
    "start_time": "2023-03-27T09:40:44.345Z"
   },
   {
    "duration": 27,
    "start_time": "2023-03-27T09:40:44.391Z"
   },
   {
    "duration": 70,
    "start_time": "2023-03-27T09:40:44.449Z"
   },
   {
    "duration": 32,
    "start_time": "2023-03-27T09:40:44.521Z"
   },
   {
    "duration": 5,
    "start_time": "2023-03-27T09:40:44.554Z"
   },
   {
    "duration": 69,
    "start_time": "2023-03-27T09:40:44.561Z"
   },
   {
    "duration": 29,
    "start_time": "2023-03-27T09:40:44.632Z"
   },
   {
    "duration": 86,
    "start_time": "2023-03-27T09:40:44.663Z"
   },
   {
    "duration": 5,
    "start_time": "2023-03-27T09:40:44.755Z"
   },
   {
    "duration": 22,
    "start_time": "2023-03-27T09:40:44.762Z"
   },
   {
    "duration": 2,
    "start_time": "2023-03-27T09:40:44.786Z"
   },
   {
    "duration": 5,
    "start_time": "2023-03-27T09:40:44.790Z"
   },
   {
    "duration": 4,
    "start_time": "2023-03-27T09:40:44.796Z"
   },
   {
    "duration": 984,
    "start_time": "2023-03-27T09:40:44.802Z"
   },
   {
    "duration": 799,
    "start_time": "2023-03-27T09:40:45.788Z"
   },
   {
    "duration": 6,
    "start_time": "2023-03-27T09:40:46.588Z"
   },
   {
    "duration": 68,
    "start_time": "2023-03-27T09:40:46.595Z"
   },
   {
    "duration": 3,
    "start_time": "2023-03-27T09:40:46.664Z"
   },
   {
    "duration": 2902,
    "start_time": "2023-03-27T09:40:46.669Z"
   },
   {
    "duration": 77726,
    "start_time": "2023-03-27T09:40:49.573Z"
   },
   {
    "duration": 60,
    "start_time": "2023-03-27T09:42:07.301Z"
   },
   {
    "duration": 3,
    "start_time": "2023-03-27T09:42:07.363Z"
   },
   {
    "duration": 4,
    "start_time": "2023-03-27T09:42:07.367Z"
   },
   {
    "duration": 5,
    "start_time": "2023-03-27T09:48:20.498Z"
   },
   {
    "duration": 6,
    "start_time": "2023-03-27T09:48:20.505Z"
   },
   {
    "duration": 3,
    "start_time": "2023-03-27T09:48:20.516Z"
   },
   {
    "duration": 1585,
    "start_time": "2023-03-27T09:48:20.521Z"
   },
   {
    "duration": 851,
    "start_time": "2023-03-27T09:48:22.107Z"
   },
   {
    "duration": 22,
    "start_time": "2023-03-27T09:48:22.961Z"
   },
   {
    "duration": 135,
    "start_time": "2023-03-27T09:48:22.985Z"
   },
   {
    "duration": 140,
    "start_time": "2023-03-27T09:48:23.122Z"
   },
   {
    "duration": 148,
    "start_time": "2023-03-27T09:48:23.264Z"
   },
   {
    "duration": 60,
    "start_time": "2023-03-27T09:48:23.415Z"
   },
   {
    "duration": 136,
    "start_time": "2023-03-27T09:48:23.478Z"
   },
   {
    "duration": 308,
    "start_time": "2023-03-27T09:48:23.616Z"
   },
   {
    "duration": 302,
    "start_time": "2023-03-27T09:48:23.926Z"
   },
   {
    "duration": 331,
    "start_time": "2023-03-27T09:48:24.230Z"
   },
   {
    "duration": 294,
    "start_time": "2023-03-27T09:48:24.565Z"
   },
   {
    "duration": 22,
    "start_time": "2023-03-27T09:48:24.860Z"
   },
   {
    "duration": 18,
    "start_time": "2023-03-27T09:48:24.884Z"
   },
   {
    "duration": 58,
    "start_time": "2023-03-27T09:48:24.905Z"
   },
   {
    "duration": 20,
    "start_time": "2023-03-27T09:48:24.964Z"
   },
   {
    "duration": 30,
    "start_time": "2023-03-27T09:48:24.986Z"
   },
   {
    "duration": 52,
    "start_time": "2023-03-27T09:48:25.018Z"
   },
   {
    "duration": 44,
    "start_time": "2023-03-27T09:48:25.073Z"
   },
   {
    "duration": 58,
    "start_time": "2023-03-27T09:48:25.119Z"
   },
   {
    "duration": 4,
    "start_time": "2023-03-27T09:48:25.178Z"
   },
   {
    "duration": 49821,
    "start_time": "2023-03-27T09:48:25.184Z"
   },
   {
    "duration": 100,
    "start_time": "2023-03-27T09:49:15.010Z"
   },
   {
    "duration": 15,
    "start_time": "2023-03-27T09:49:15.112Z"
   },
   {
    "duration": 24,
    "start_time": "2023-03-27T09:49:15.129Z"
   },
   {
    "duration": 5,
    "start_time": "2023-03-27T09:49:15.158Z"
   },
   {
    "duration": 1119,
    "start_time": "2023-03-27T09:49:15.165Z"
   },
   {
    "duration": 2091,
    "start_time": "2023-03-27T09:49:16.286Z"
   },
   {
    "duration": 10,
    "start_time": "2023-03-27T09:49:18.381Z"
   },
   {
    "duration": 19,
    "start_time": "2023-03-27T09:49:18.392Z"
   },
   {
    "duration": 46,
    "start_time": "2023-03-27T09:49:18.413Z"
   },
   {
    "duration": 9,
    "start_time": "2023-03-27T09:49:18.460Z"
   },
   {
    "duration": 25,
    "start_time": "2023-03-27T09:49:18.470Z"
   },
   {
    "duration": 87,
    "start_time": "2023-03-27T09:49:18.497Z"
   },
   {
    "duration": 20,
    "start_time": "2023-03-27T09:49:18.587Z"
   },
   {
    "duration": 85,
    "start_time": "2023-03-27T09:49:18.609Z"
   },
   {
    "duration": 25,
    "start_time": "2023-03-27T09:49:18.696Z"
   },
   {
    "duration": 14,
    "start_time": "2023-03-27T09:49:18.745Z"
   },
   {
    "duration": 119,
    "start_time": "2023-03-27T09:49:18.770Z"
   },
   {
    "duration": 15,
    "start_time": "2023-03-27T09:49:18.891Z"
   },
   {
    "duration": 97,
    "start_time": "2023-03-27T09:49:18.908Z"
   },
   {
    "duration": 4,
    "start_time": "2023-03-27T09:49:19.007Z"
   },
   {
    "duration": 55,
    "start_time": "2023-03-27T09:49:19.012Z"
   },
   {
    "duration": 4,
    "start_time": "2023-03-27T09:49:19.069Z"
   },
   {
    "duration": 8,
    "start_time": "2023-03-27T09:49:19.074Z"
   },
   {
    "duration": 7,
    "start_time": "2023-03-27T09:49:19.084Z"
   },
   {
    "duration": 1084,
    "start_time": "2023-03-27T09:49:19.093Z"
   },
   {
    "duration": 831,
    "start_time": "2023-03-27T09:49:20.179Z"
   },
   {
    "duration": 4,
    "start_time": "2023-03-27T09:49:21.012Z"
   },
   {
    "duration": 63,
    "start_time": "2023-03-27T09:49:21.018Z"
   },
   {
    "duration": 3,
    "start_time": "2023-03-27T09:49:21.083Z"
   },
   {
    "duration": 2870,
    "start_time": "2023-03-27T09:49:21.087Z"
   },
   {
    "duration": 85203,
    "start_time": "2023-03-27T09:49:23.958Z"
   },
   {
    "duration": 107,
    "start_time": "2023-03-27T09:50:49.167Z"
   },
   {
    "duration": 7,
    "start_time": "2023-03-27T09:50:49.276Z"
   },
   {
    "duration": 3,
    "start_time": "2023-03-27T09:50:49.287Z"
   },
   {
    "duration": 4,
    "start_time": "2023-03-27T18:22:16.237Z"
   },
   {
    "duration": 5,
    "start_time": "2023-03-27T18:22:16.243Z"
   },
   {
    "duration": 4,
    "start_time": "2023-03-27T18:22:16.250Z"
   },
   {
    "duration": 1812,
    "start_time": "2023-03-27T18:22:16.255Z"
   },
   {
    "duration": 0,
    "start_time": "2023-03-27T18:22:18.071Z"
   },
   {
    "duration": 0,
    "start_time": "2023-03-27T18:22:18.072Z"
   },
   {
    "duration": 0,
    "start_time": "2023-03-27T18:22:18.073Z"
   },
   {
    "duration": 0,
    "start_time": "2023-03-27T18:22:18.074Z"
   },
   {
    "duration": 0,
    "start_time": "2023-03-27T18:22:18.075Z"
   },
   {
    "duration": 0,
    "start_time": "2023-03-27T18:22:18.076Z"
   },
   {
    "duration": 0,
    "start_time": "2023-03-27T18:22:18.078Z"
   },
   {
    "duration": 0,
    "start_time": "2023-03-27T18:22:18.079Z"
   },
   {
    "duration": 0,
    "start_time": "2023-03-27T18:22:18.080Z"
   },
   {
    "duration": 0,
    "start_time": "2023-03-27T18:22:18.081Z"
   },
   {
    "duration": 0,
    "start_time": "2023-03-27T18:22:18.082Z"
   },
   {
    "duration": 0,
    "start_time": "2023-03-27T18:22:18.082Z"
   },
   {
    "duration": 0,
    "start_time": "2023-03-27T18:22:18.084Z"
   },
   {
    "duration": 0,
    "start_time": "2023-03-27T18:22:18.085Z"
   },
   {
    "duration": 0,
    "start_time": "2023-03-27T18:22:18.086Z"
   },
   {
    "duration": 0,
    "start_time": "2023-03-27T18:22:18.087Z"
   },
   {
    "duration": 0,
    "start_time": "2023-03-27T18:22:18.088Z"
   },
   {
    "duration": 0,
    "start_time": "2023-03-27T18:22:18.089Z"
   },
   {
    "duration": 0,
    "start_time": "2023-03-27T18:22:18.090Z"
   },
   {
    "duration": 0,
    "start_time": "2023-03-27T18:22:18.091Z"
   },
   {
    "duration": 0,
    "start_time": "2023-03-27T18:22:18.092Z"
   },
   {
    "duration": 0,
    "start_time": "2023-03-27T18:22:18.093Z"
   },
   {
    "duration": 0,
    "start_time": "2023-03-27T18:22:18.094Z"
   },
   {
    "duration": 0,
    "start_time": "2023-03-27T18:22:18.095Z"
   },
   {
    "duration": 0,
    "start_time": "2023-03-27T18:22:18.096Z"
   },
   {
    "duration": 0,
    "start_time": "2023-03-27T18:22:18.141Z"
   },
   {
    "duration": 0,
    "start_time": "2023-03-27T18:22:18.142Z"
   },
   {
    "duration": 0,
    "start_time": "2023-03-27T18:22:18.143Z"
   },
   {
    "duration": 0,
    "start_time": "2023-03-27T18:22:18.144Z"
   },
   {
    "duration": 0,
    "start_time": "2023-03-27T18:22:18.146Z"
   },
   {
    "duration": 0,
    "start_time": "2023-03-27T18:22:18.147Z"
   },
   {
    "duration": 0,
    "start_time": "2023-03-27T18:22:18.148Z"
   },
   {
    "duration": 0,
    "start_time": "2023-03-27T18:22:18.149Z"
   },
   {
    "duration": 0,
    "start_time": "2023-03-27T18:22:18.150Z"
   },
   {
    "duration": 0,
    "start_time": "2023-03-27T18:22:18.151Z"
   },
   {
    "duration": 0,
    "start_time": "2023-03-27T18:22:18.152Z"
   },
   {
    "duration": 0,
    "start_time": "2023-03-27T18:22:18.153Z"
   },
   {
    "duration": 0,
    "start_time": "2023-03-27T18:22:18.154Z"
   },
   {
    "duration": 0,
    "start_time": "2023-03-27T18:22:18.155Z"
   },
   {
    "duration": 0,
    "start_time": "2023-03-27T18:22:18.156Z"
   },
   {
    "duration": 0,
    "start_time": "2023-03-27T18:22:18.157Z"
   },
   {
    "duration": 0,
    "start_time": "2023-03-27T18:22:18.158Z"
   },
   {
    "duration": 0,
    "start_time": "2023-03-27T18:22:18.159Z"
   },
   {
    "duration": 0,
    "start_time": "2023-03-27T18:22:18.161Z"
   },
   {
    "duration": 0,
    "start_time": "2023-03-27T18:22:18.161Z"
   },
   {
    "duration": 0,
    "start_time": "2023-03-27T18:22:18.162Z"
   },
   {
    "duration": 0,
    "start_time": "2023-03-27T18:22:18.164Z"
   },
   {
    "duration": 0,
    "start_time": "2023-03-27T18:22:18.165Z"
   },
   {
    "duration": 0,
    "start_time": "2023-03-27T18:22:18.166Z"
   },
   {
    "duration": 0,
    "start_time": "2023-03-27T18:22:18.167Z"
   },
   {
    "duration": 0,
    "start_time": "2023-03-27T18:22:18.168Z"
   },
   {
    "duration": 0,
    "start_time": "2023-03-27T18:22:18.169Z"
   },
   {
    "duration": 0,
    "start_time": "2023-03-27T18:22:18.170Z"
   },
   {
    "duration": 0,
    "start_time": "2023-03-27T18:22:18.171Z"
   },
   {
    "duration": 0,
    "start_time": "2023-03-27T18:22:18.173Z"
   },
   {
    "duration": 0,
    "start_time": "2023-03-27T18:22:18.174Z"
   },
   {
    "duration": 0,
    "start_time": "2023-03-27T18:22:18.175Z"
   },
   {
    "duration": 0,
    "start_time": "2023-03-27T18:22:18.176Z"
   },
   {
    "duration": 0,
    "start_time": "2023-03-27T18:22:18.177Z"
   },
   {
    "duration": 0,
    "start_time": "2023-03-27T18:22:18.242Z"
   },
   {
    "duration": 0,
    "start_time": "2023-03-27T18:22:18.243Z"
   },
   {
    "duration": 0,
    "start_time": "2023-03-27T18:22:18.245Z"
   },
   {
    "duration": 0,
    "start_time": "2023-03-27T18:22:18.245Z"
   },
   {
    "duration": 0,
    "start_time": "2023-03-27T18:22:18.247Z"
   },
   {
    "duration": 0,
    "start_time": "2023-03-27T18:22:18.248Z"
   },
   {
    "duration": 0,
    "start_time": "2023-03-27T18:22:18.249Z"
   },
   {
    "duration": 0,
    "start_time": "2023-03-27T18:22:18.250Z"
   },
   {
    "duration": 0,
    "start_time": "2023-03-27T18:22:18.251Z"
   },
   {
    "duration": 0,
    "start_time": "2023-03-27T18:22:18.252Z"
   },
   {
    "duration": 0,
    "start_time": "2023-03-27T18:22:18.253Z"
   },
   {
    "duration": 4,
    "start_time": "2023-03-27T18:24:02.714Z"
   },
   {
    "duration": 4,
    "start_time": "2023-03-27T18:24:02.724Z"
   },
   {
    "duration": 3207,
    "start_time": "2023-03-27T18:24:02.733Z"
   },
   {
    "duration": 1672,
    "start_time": "2023-03-27T18:24:05.942Z"
   },
   {
    "duration": 1153,
    "start_time": "2023-03-27T18:24:07.616Z"
   },
   {
    "duration": 21,
    "start_time": "2023-03-27T18:24:08.771Z"
   },
   {
    "duration": 167,
    "start_time": "2023-03-27T18:24:08.794Z"
   },
   {
    "duration": 164,
    "start_time": "2023-03-27T18:24:08.964Z"
   },
   {
    "duration": 154,
    "start_time": "2023-03-27T18:24:09.130Z"
   },
   {
    "duration": 66,
    "start_time": "2023-03-27T18:24:09.287Z"
   },
   {
    "duration": 168,
    "start_time": "2023-03-27T18:24:09.355Z"
   },
   {
    "duration": 286,
    "start_time": "2023-03-27T18:24:09.527Z"
   },
   {
    "duration": 304,
    "start_time": "2023-03-27T18:24:09.815Z"
   },
   {
    "duration": 331,
    "start_time": "2023-03-27T18:24:10.123Z"
   },
   {
    "duration": 272,
    "start_time": "2023-03-27T18:24:10.456Z"
   },
   {
    "duration": 29,
    "start_time": "2023-03-27T18:24:10.731Z"
   },
   {
    "duration": 25,
    "start_time": "2023-03-27T18:24:10.762Z"
   },
   {
    "duration": 51,
    "start_time": "2023-03-27T18:24:10.790Z"
   },
   {
    "duration": 20,
    "start_time": "2023-03-27T18:24:10.843Z"
   },
   {
    "duration": 50,
    "start_time": "2023-03-27T18:24:10.865Z"
   },
   {
    "duration": 28,
    "start_time": "2023-03-27T18:24:10.917Z"
   },
   {
    "duration": 57,
    "start_time": "2023-03-27T18:24:10.947Z"
   },
   {
    "duration": 47,
    "start_time": "2023-03-27T18:24:11.006Z"
   },
   {
    "duration": 16,
    "start_time": "2023-03-27T18:24:11.054Z"
   },
   {
    "duration": 50262,
    "start_time": "2023-03-27T18:24:11.072Z"
   },
   {
    "duration": 127,
    "start_time": "2023-03-27T18:25:01.336Z"
   },
   {
    "duration": 16,
    "start_time": "2023-03-27T18:25:01.465Z"
   },
   {
    "duration": 13,
    "start_time": "2023-03-27T18:25:01.483Z"
   },
   {
    "duration": 27,
    "start_time": "2023-03-27T18:25:01.497Z"
   },
   {
    "duration": 1212,
    "start_time": "2023-03-27T18:25:01.529Z"
   },
   {
    "duration": 2223,
    "start_time": "2023-03-27T18:25:02.744Z"
   },
   {
    "duration": 11,
    "start_time": "2023-03-27T18:25:04.969Z"
   },
   {
    "duration": 19,
    "start_time": "2023-03-27T18:25:04.982Z"
   },
   {
    "duration": 39,
    "start_time": "2023-03-27T18:25:05.003Z"
   },
   {
    "duration": 7,
    "start_time": "2023-03-27T18:25:05.045Z"
   },
   {
    "duration": 40,
    "start_time": "2023-03-27T18:25:05.055Z"
   },
   {
    "duration": 85,
    "start_time": "2023-03-27T18:25:05.097Z"
   },
   {
    "duration": 20,
    "start_time": "2023-03-27T18:25:05.184Z"
   },
   {
    "duration": 102,
    "start_time": "2023-03-27T18:25:05.206Z"
   },
   {
    "duration": 34,
    "start_time": "2023-03-27T18:25:05.310Z"
   },
   {
    "duration": 5,
    "start_time": "2023-03-27T18:25:05.346Z"
   },
   {
    "duration": 96,
    "start_time": "2023-03-27T18:25:05.354Z"
   },
   {
    "duration": 12,
    "start_time": "2023-03-27T18:25:05.452Z"
   },
   {
    "duration": 93,
    "start_time": "2023-03-27T18:25:05.466Z"
   },
   {
    "duration": 4,
    "start_time": "2023-03-27T18:25:05.561Z"
   },
   {
    "duration": 28,
    "start_time": "2023-03-27T18:25:05.567Z"
   },
   {
    "duration": 2,
    "start_time": "2023-03-27T18:25:05.597Z"
   },
   {
    "duration": 4,
    "start_time": "2023-03-27T18:25:05.600Z"
   },
   {
    "duration": 6,
    "start_time": "2023-03-27T18:25:05.605Z"
   },
   {
    "duration": 1091,
    "start_time": "2023-03-27T18:25:05.612Z"
   },
   {
    "duration": 878,
    "start_time": "2023-03-27T18:25:06.705Z"
   },
   {
    "duration": 4,
    "start_time": "2023-03-27T18:25:07.585Z"
   },
   {
    "duration": 78,
    "start_time": "2023-03-27T18:25:07.591Z"
   },
   {
    "duration": 3,
    "start_time": "2023-03-27T18:25:07.671Z"
   },
   {
    "duration": 3073,
    "start_time": "2023-03-27T18:25:07.676Z"
   },
   {
    "duration": 81291,
    "start_time": "2023-03-27T18:25:10.751Z"
   },
   {
    "duration": 50,
    "start_time": "2023-03-27T18:26:32.043Z"
   },
   {
    "duration": 3,
    "start_time": "2023-03-27T18:26:32.095Z"
   },
   {
    "duration": 8,
    "start_time": "2023-03-27T18:26:32.100Z"
   },
   {
    "duration": 1390937,
    "start_time": "2023-03-27T18:26:32.110Z"
   },
   {
    "duration": 397,
    "start_time": "2023-03-27T18:49:43.049Z"
   },
   {
    "duration": 3,
    "start_time": "2023-03-27T18:49:43.448Z"
   },
   {
    "duration": 8,
    "start_time": "2023-03-27T18:49:43.453Z"
   },
   {
    "duration": 331945,
    "start_time": "2023-03-27T18:49:43.463Z"
   },
   {
    "duration": 190,
    "start_time": "2023-03-27T18:55:15.409Z"
   },
   {
    "duration": 3,
    "start_time": "2023-03-27T18:55:15.601Z"
   },
   {
    "duration": 5,
    "start_time": "2023-03-27T18:55:15.606Z"
   },
   {
    "duration": 7,
    "start_time": "2023-03-27T18:55:15.612Z"
   },
   {
    "duration": 26,
    "start_time": "2023-03-27T18:55:15.621Z"
   },
   {
    "duration": 799,
    "start_time": "2023-03-27T18:55:15.649Z"
   },
   {
    "duration": 1516,
    "start_time": "2023-03-27T18:55:16.450Z"
   },
   {
    "duration": 236875,
    "start_time": "2023-03-27T18:55:17.968Z"
   },
   {
    "duration": 67790,
    "start_time": "2023-03-27T18:59:14.845Z"
   },
   {
    "duration": 19,
    "start_time": "2023-03-27T19:00:22.636Z"
   },
   {
    "duration": 140,
    "start_time": "2023-03-27T19:16:06.889Z"
   },
   {
    "duration": 12,
    "start_time": "2023-03-27T19:19:45.385Z"
   },
   {
    "duration": 69621,
    "start_time": "2023-03-27T19:23:32.346Z"
   }
  ],
  "kernelspec": {
   "display_name": "Python 3 (ipykernel)",
   "language": "python",
   "name": "python3"
  },
  "language_info": {
   "codemirror_mode": {
    "name": "ipython",
    "version": 3
   },
   "file_extension": ".py",
   "mimetype": "text/x-python",
   "name": "python",
   "nbconvert_exporter": "python",
   "pygments_lexer": "ipython3",
   "version": "3.9.7"
  },
  "toc": {
   "base_numbering": 1,
   "nav_menu": {},
   "number_sections": true,
   "sideBar": true,
   "skip_h1_title": true,
   "title_cell": "Table of Contents",
   "title_sidebar": "Contents",
   "toc_cell": false,
   "toc_position": {},
   "toc_section_display": true,
   "toc_window_display": false
  }
 },
 "nbformat": 4,
 "nbformat_minor": 5
}
